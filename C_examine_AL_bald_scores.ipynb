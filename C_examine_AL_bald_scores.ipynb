{
 "cells": [
  {
   "cell_type": "markdown",
   "metadata": {},
   "source": [
    "# Results Visualizations\n",
    "> Ignorance is strength"
   ]
  },
  {
   "cell_type": "code",
   "execution_count": null,
   "metadata": {},
   "outputs": [
    {
     "name": "stdout",
     "output_type": "stream",
     "text": [
      "Appended /home/blackhc/PycharmProjects/bald-ical/src to paths\n",
      "Switched to directory /home/blackhc/PycharmProjects/bald-ical\n",
      "%load_ext autoreload\n",
      "%autoreload 2\n"
     ]
    }
   ],
   "source": [
    "# hide\n",
    "import blackhc.project.script"
   ]
  },
  {
   "cell_type": "code",
   "execution_count": null,
   "metadata": {},
   "outputs": [],
   "source": [
    "import collections\n",
    "import functools\n",
    "import math\n",
    "import os\n",
    "import re\n",
    "from collections import namedtuple\n",
    "from dataclasses import dataclass\n",
    "from typing import NamedTuple\n",
    "\n",
    "import laaos\n",
    "import pandas as pd\n",
    "import seaborn as sns\n",
    "import numpy as np"
   ]
  },
  {
   "cell_type": "code",
   "execution_count": null,
   "metadata": {},
   "outputs": [],
   "source": [
    "import torch"
   ]
  },
  {
   "cell_type": "code",
   "execution_count": null,
   "metadata": {},
   "outputs": [],
   "source": [
    "bald_scores = torch.load(\"bald_scores.tpickle\")"
   ]
  },
  {
   "cell_type": "code",
   "execution_count": null,
   "metadata": {},
   "outputs": [
    {
     "data": {
      "text/plain": [
       "17"
      ]
     },
     "execution_count": null,
     "metadata": {},
     "output_type": "execute_result"
    }
   ],
   "source": [
    "len(bald_scores)"
   ]
  },
  {
   "cell_type": "code",
   "execution_count": null,
   "metadata": {},
   "outputs": [
    {
     "data": {
      "text/plain": [
       "tensor([0.4187, 0.3842, 0.8406,  ..., 0.0763, 0.0197, 0.5938],\n",
       "       dtype=torch.float64)"
      ]
     },
     "execution_count": null,
     "metadata": {},
     "output_type": "execute_result"
    }
   ],
   "source": [
    "bald_scores[0]"
   ]
  },
  {
   "cell_type": "code",
   "execution_count": null,
   "metadata": {},
   "outputs": [],
   "source": [
    "df = pd.DataFrame([(i, bs.numpy()) for i, bs in enumerate(bald_scores)], columns=[\"iteration\", \"score\"]).explode(\n",
    "    \"score\"\n",
    ")"
   ]
  },
  {
   "cell_type": "code",
   "execution_count": null,
   "metadata": {},
   "outputs": [],
   "source": [
    "df_sorted = df.sort_values(\"score\")"
   ]
  },
  {
   "cell_type": "code",
   "execution_count": null,
   "metadata": {},
   "outputs": [
    {
     "data": {
      "text/html": [
       "<div>\n",
       "<style scoped>\n",
       "    .dataframe tbody tr th:only-of-type {\n",
       "        vertical-align: middle;\n",
       "    }\n",
       "\n",
       "    .dataframe tbody tr th {\n",
       "        vertical-align: top;\n",
       "    }\n",
       "\n",
       "    .dataframe thead th {\n",
       "        text-align: right;\n",
       "    }\n",
       "</style>\n",
       "<table border=\"1\" class=\"dataframe\">\n",
       "  <thead>\n",
       "    <tr style=\"text-align: right;\">\n",
       "      <th></th>\n",
       "      <th>iteration</th>\n",
       "      <th>score</th>\n",
       "    </tr>\n",
       "  </thead>\n",
       "  <tbody>\n",
       "    <tr>\n",
       "      <th>0</th>\n",
       "      <td>8</td>\n",
       "      <td>1.62433e-09</td>\n",
       "    </tr>\n",
       "    <tr>\n",
       "      <th>1</th>\n",
       "      <td>8</td>\n",
       "      <td>1.72035e-09</td>\n",
       "    </tr>\n",
       "    <tr>\n",
       "      <th>2</th>\n",
       "      <td>8</td>\n",
       "      <td>9.92915e-09</td>\n",
       "    </tr>\n",
       "    <tr>\n",
       "      <th>3</th>\n",
       "      <td>8</td>\n",
       "      <td>1.13107e-08</td>\n",
       "    </tr>\n",
       "    <tr>\n",
       "      <th>4</th>\n",
       "      <td>8</td>\n",
       "      <td>1.20884e-08</td>\n",
       "    </tr>\n",
       "    <tr>\n",
       "      <th>...</th>\n",
       "      <td>...</td>\n",
       "      <td>...</td>\n",
       "    </tr>\n",
       "    <tr>\n",
       "      <th>1968663</th>\n",
       "      <td>0</td>\n",
       "      <td>1.35559</td>\n",
       "    </tr>\n",
       "    <tr>\n",
       "      <th>1968664</th>\n",
       "      <td>0</td>\n",
       "      <td>1.35609</td>\n",
       "    </tr>\n",
       "    <tr>\n",
       "      <th>1968665</th>\n",
       "      <td>0</td>\n",
       "      <td>1.36189</td>\n",
       "    </tr>\n",
       "    <tr>\n",
       "      <th>1968666</th>\n",
       "      <td>0</td>\n",
       "      <td>1.36861</td>\n",
       "    </tr>\n",
       "    <tr>\n",
       "      <th>1968667</th>\n",
       "      <td>0</td>\n",
       "      <td>1.37329</td>\n",
       "    </tr>\n",
       "  </tbody>\n",
       "</table>\n",
       "<p>1968668 rows × 2 columns</p>\n",
       "</div>"
      ],
      "text/plain": [
       "         iteration        score\n",
       "0                8  1.62433e-09\n",
       "1                8  1.72035e-09\n",
       "2                8  9.92915e-09\n",
       "3                8  1.13107e-08\n",
       "4                8  1.20884e-08\n",
       "...            ...          ...\n",
       "1968663          0      1.35559\n",
       "1968664          0      1.35609\n",
       "1968665          0      1.36189\n",
       "1968666          0      1.36861\n",
       "1968667          0      1.37329\n",
       "\n",
       "[1968668 rows x 2 columns]"
      ]
     },
     "execution_count": null,
     "metadata": {},
     "output_type": "execute_result"
    }
   ],
   "source": [
    "df_sorted.reset_index(drop=True, inplace=True)\n",
    "df_sorted"
   ]
  },
  {
   "cell_type": "code",
   "execution_count": null,
   "metadata": {},
   "outputs": [
    {
     "data": {
      "text/html": [
       "<div>\n",
       "<style scoped>\n",
       "    .dataframe tbody tr th:only-of-type {\n",
       "        vertical-align: middle;\n",
       "    }\n",
       "\n",
       "    .dataframe tbody tr th {\n",
       "        vertical-align: top;\n",
       "    }\n",
       "\n",
       "    .dataframe thead th {\n",
       "        text-align: right;\n",
       "    }\n",
       "</style>\n",
       "<table border=\"1\" class=\"dataframe\">\n",
       "  <thead>\n",
       "    <tr style=\"text-align: right;\">\n",
       "      <th></th>\n",
       "      <th>iteration</th>\n",
       "      <th>score</th>\n",
       "      <th>one</th>\n",
       "      <th>rank</th>\n",
       "      <th>max_rank</th>\n",
       "      <th>rank_weight</th>\n",
       "    </tr>\n",
       "  </thead>\n",
       "  <tbody>\n",
       "    <tr>\n",
       "      <th>0</th>\n",
       "      <td>8</td>\n",
       "      <td>1.62433e-09</td>\n",
       "      <td>1</td>\n",
       "      <td>115884.0</td>\n",
       "      <td>115884.0</td>\n",
       "      <td>0.889938</td>\n",
       "    </tr>\n",
       "    <tr>\n",
       "      <th>1</th>\n",
       "      <td>8</td>\n",
       "      <td>1.72035e-09</td>\n",
       "      <td>1</td>\n",
       "      <td>115873.0</td>\n",
       "      <td>115874.0</td>\n",
       "      <td>0.889939</td>\n",
       "    </tr>\n",
       "    <tr>\n",
       "      <th>2</th>\n",
       "      <td>8</td>\n",
       "      <td>9.92915e-09</td>\n",
       "      <td>1</td>\n",
       "      <td>115862.0</td>\n",
       "      <td>115864.0</td>\n",
       "      <td>0.889940</td>\n",
       "    </tr>\n",
       "    <tr>\n",
       "      <th>3</th>\n",
       "      <td>8</td>\n",
       "      <td>1.13107e-08</td>\n",
       "      <td>1</td>\n",
       "      <td>115851.0</td>\n",
       "      <td>115854.0</td>\n",
       "      <td>0.889941</td>\n",
       "    </tr>\n",
       "    <tr>\n",
       "      <th>4</th>\n",
       "      <td>8</td>\n",
       "      <td>1.20884e-08</td>\n",
       "      <td>1</td>\n",
       "      <td>115840.0</td>\n",
       "      <td>115844.0</td>\n",
       "      <td>0.889941</td>\n",
       "    </tr>\n",
       "    <tr>\n",
       "      <th>...</th>\n",
       "      <td>...</td>\n",
       "      <td>...</td>\n",
       "      <td>...</td>\n",
       "      <td>...</td>\n",
       "      <td>...</td>\n",
       "      <td>...</td>\n",
       "    </tr>\n",
       "    <tr>\n",
       "      <th>1968663</th>\n",
       "      <td>0</td>\n",
       "      <td>1.35559</td>\n",
       "      <td>1</td>\n",
       "      <td>NaN</td>\n",
       "      <td>NaN</td>\n",
       "      <td>NaN</td>\n",
       "    </tr>\n",
       "    <tr>\n",
       "      <th>1968664</th>\n",
       "      <td>0</td>\n",
       "      <td>1.35609</td>\n",
       "      <td>1</td>\n",
       "      <td>NaN</td>\n",
       "      <td>NaN</td>\n",
       "      <td>NaN</td>\n",
       "    </tr>\n",
       "    <tr>\n",
       "      <th>1968665</th>\n",
       "      <td>0</td>\n",
       "      <td>1.36189</td>\n",
       "      <td>1</td>\n",
       "      <td>NaN</td>\n",
       "      <td>NaN</td>\n",
       "      <td>NaN</td>\n",
       "    </tr>\n",
       "    <tr>\n",
       "      <th>1968666</th>\n",
       "      <td>0</td>\n",
       "      <td>1.36861</td>\n",
       "      <td>1</td>\n",
       "      <td>NaN</td>\n",
       "      <td>NaN</td>\n",
       "      <td>NaN</td>\n",
       "    </tr>\n",
       "    <tr>\n",
       "      <th>1968667</th>\n",
       "      <td>0</td>\n",
       "      <td>1.37329</td>\n",
       "      <td>1</td>\n",
       "      <td>NaN</td>\n",
       "      <td>NaN</td>\n",
       "      <td>NaN</td>\n",
       "    </tr>\n",
       "  </tbody>\n",
       "</table>\n",
       "<p>1968668 rows × 6 columns</p>\n",
       "</div>"
      ],
      "text/plain": [
       "         iteration        score  one      rank  max_rank  rank_weight\n",
       "0                8  1.62433e-09    1  115884.0  115884.0     0.889938\n",
       "1                8  1.72035e-09    1  115873.0  115874.0     0.889939\n",
       "2                8  9.92915e-09    1  115862.0  115864.0     0.889940\n",
       "3                8  1.13107e-08    1  115851.0  115854.0     0.889941\n",
       "4                8  1.20884e-08    1  115840.0  115844.0     0.889941\n",
       "...            ...          ...  ...       ...       ...          ...\n",
       "1968663          0      1.35559    1       NaN       NaN          NaN\n",
       "1968664          0      1.35609    1       NaN       NaN          NaN\n",
       "1968665          0      1.36189    1       NaN       NaN          NaN\n",
       "1968666          0      1.36861    1       NaN       NaN          NaN\n",
       "1968667          0      1.37329    1       NaN       NaN          NaN\n",
       "\n",
       "[1968668 rows x 6 columns]"
      ]
     },
     "execution_count": null,
     "metadata": {},
     "output_type": "execute_result"
    }
   ],
   "source": [
    "df_sorted[\"one\"] = 1\n",
    "df_sorted"
   ]
  },
  {
   "cell_type": "code",
   "execution_count": null,
   "metadata": {},
   "outputs": [
    {
     "data": {
      "text/html": [
       "<div>\n",
       "<style scoped>\n",
       "    .dataframe tbody tr th:only-of-type {\n",
       "        vertical-align: middle;\n",
       "    }\n",
       "\n",
       "    .dataframe tbody tr th {\n",
       "        vertical-align: top;\n",
       "    }\n",
       "\n",
       "    .dataframe thead th {\n",
       "        text-align: right;\n",
       "    }\n",
       "</style>\n",
       "<table border=\"1\" class=\"dataframe\">\n",
       "  <thead>\n",
       "    <tr style=\"text-align: right;\">\n",
       "      <th></th>\n",
       "      <th>iteration</th>\n",
       "      <th>score</th>\n",
       "      <th>one</th>\n",
       "      <th>rank</th>\n",
       "      <th>max_rank</th>\n",
       "      <th>rank_weight</th>\n",
       "    </tr>\n",
       "  </thead>\n",
       "  <tbody>\n",
       "    <tr>\n",
       "      <th>0</th>\n",
       "      <td>8</td>\n",
       "      <td>1.62433e-09</td>\n",
       "      <td>1</td>\n",
       "      <td>1</td>\n",
       "      <td>115884.0</td>\n",
       "      <td>0.889938</td>\n",
       "    </tr>\n",
       "    <tr>\n",
       "      <th>1</th>\n",
       "      <td>8</td>\n",
       "      <td>1.72035e-09</td>\n",
       "      <td>1</td>\n",
       "      <td>2</td>\n",
       "      <td>115874.0</td>\n",
       "      <td>0.889939</td>\n",
       "    </tr>\n",
       "    <tr>\n",
       "      <th>2</th>\n",
       "      <td>8</td>\n",
       "      <td>9.92915e-09</td>\n",
       "      <td>1</td>\n",
       "      <td>3</td>\n",
       "      <td>115864.0</td>\n",
       "      <td>0.889940</td>\n",
       "    </tr>\n",
       "    <tr>\n",
       "      <th>3</th>\n",
       "      <td>8</td>\n",
       "      <td>1.13107e-08</td>\n",
       "      <td>1</td>\n",
       "      <td>4</td>\n",
       "      <td>115854.0</td>\n",
       "      <td>0.889941</td>\n",
       "    </tr>\n",
       "    <tr>\n",
       "      <th>4</th>\n",
       "      <td>8</td>\n",
       "      <td>1.20884e-08</td>\n",
       "      <td>1</td>\n",
       "      <td>5</td>\n",
       "      <td>115844.0</td>\n",
       "      <td>0.889941</td>\n",
       "    </tr>\n",
       "    <tr>\n",
       "      <th>...</th>\n",
       "      <td>...</td>\n",
       "      <td>...</td>\n",
       "      <td>...</td>\n",
       "      <td>...</td>\n",
       "      <td>...</td>\n",
       "      <td>...</td>\n",
       "    </tr>\n",
       "    <tr>\n",
       "      <th>1968663</th>\n",
       "      <td>0</td>\n",
       "      <td>1.35559</td>\n",
       "      <td>1</td>\n",
       "      <td>115880</td>\n",
       "      <td>NaN</td>\n",
       "      <td>NaN</td>\n",
       "    </tr>\n",
       "    <tr>\n",
       "      <th>1968664</th>\n",
       "      <td>0</td>\n",
       "      <td>1.35609</td>\n",
       "      <td>1</td>\n",
       "      <td>115881</td>\n",
       "      <td>NaN</td>\n",
       "      <td>NaN</td>\n",
       "    </tr>\n",
       "    <tr>\n",
       "      <th>1968665</th>\n",
       "      <td>0</td>\n",
       "      <td>1.36189</td>\n",
       "      <td>1</td>\n",
       "      <td>115882</td>\n",
       "      <td>NaN</td>\n",
       "      <td>NaN</td>\n",
       "    </tr>\n",
       "    <tr>\n",
       "      <th>1968666</th>\n",
       "      <td>0</td>\n",
       "      <td>1.36861</td>\n",
       "      <td>1</td>\n",
       "      <td>115883</td>\n",
       "      <td>NaN</td>\n",
       "      <td>NaN</td>\n",
       "    </tr>\n",
       "    <tr>\n",
       "      <th>1968667</th>\n",
       "      <td>0</td>\n",
       "      <td>1.37329</td>\n",
       "      <td>1</td>\n",
       "      <td>115884</td>\n",
       "      <td>NaN</td>\n",
       "      <td>NaN</td>\n",
       "    </tr>\n",
       "  </tbody>\n",
       "</table>\n",
       "<p>1968668 rows × 6 columns</p>\n",
       "</div>"
      ],
      "text/plain": [
       "         iteration        score  one    rank  max_rank  rank_weight\n",
       "0                8  1.62433e-09    1       1  115884.0     0.889938\n",
       "1                8  1.72035e-09    1       2  115874.0     0.889939\n",
       "2                8  9.92915e-09    1       3  115864.0     0.889940\n",
       "3                8  1.13107e-08    1       4  115854.0     0.889941\n",
       "4                8  1.20884e-08    1       5  115844.0     0.889941\n",
       "...            ...          ...  ...     ...       ...          ...\n",
       "1968663          0      1.35559    1  115880       NaN          NaN\n",
       "1968664          0      1.35609    1  115881       NaN          NaN\n",
       "1968665          0      1.36189    1  115882       NaN          NaN\n",
       "1968666          0      1.36861    1  115883       NaN          NaN\n",
       "1968667          0      1.37329    1  115884       NaN          NaN\n",
       "\n",
       "[1968668 rows x 6 columns]"
      ]
     },
     "execution_count": null,
     "metadata": {},
     "output_type": "execute_result"
    }
   ],
   "source": [
    "df_sorted[\"rank\"] = df_sorted.groupby(\"iteration\")[\"one\"].cumsum()\n",
    "df_sorted[\"max_rank\"] = df_sorted.groupby(\"iteration\")[\"rank\"].count()\n",
    "df_sorted"
   ]
  },
  {
   "cell_type": "code",
   "execution_count": null,
   "metadata": {},
   "outputs": [
    {
     "data": {
      "text/plain": [
       "iteration\n",
       "0     115884\n",
       "1     115874\n",
       "2     115864\n",
       "3     115854\n",
       "4     115844\n",
       "5     115834\n",
       "6     115824\n",
       "7     115814\n",
       "8     115804\n",
       "9     115794\n",
       "10    115784\n",
       "11    115774\n",
       "12    115764\n",
       "13    115754\n",
       "14    115744\n",
       "15    115734\n",
       "16    115724\n",
       "Name: rank, dtype: int64"
      ]
     },
     "execution_count": null,
     "metadata": {},
     "output_type": "execute_result"
    }
   ],
   "source": [
    "df_sorted.groupby(\"iteration\")[\"rank\"].count()"
   ]
  },
  {
   "cell_type": "code",
   "execution_count": null,
   "metadata": {},
   "outputs": [],
   "source": [
    "df_sorted[\"rank\"] = df_sorted[\"max_rank\"] + 1 - df_sorted[\"rank\"]\n",
    "df_sorted[\"rank_weight\"] = (1 / df_sorted[\"rank\"])**0.01"
   ]
  },
  {
   "cell_type": "code",
   "execution_count": null,
   "metadata": {},
   "outputs": [],
   "source": [
    "ranked_df = df_sorted.drop(columns=\"one\")"
   ]
  },
  {
   "cell_type": "code",
   "execution_count": null,
   "metadata": {},
   "outputs": [
    {
     "data": {
      "text/html": [
       "<div>\n",
       "<style scoped>\n",
       "    .dataframe tbody tr th:only-of-type {\n",
       "        vertical-align: middle;\n",
       "    }\n",
       "\n",
       "    .dataframe tbody tr th {\n",
       "        vertical-align: top;\n",
       "    }\n",
       "\n",
       "    .dataframe thead th {\n",
       "        text-align: right;\n",
       "    }\n",
       "</style>\n",
       "<table border=\"1\" class=\"dataframe\">\n",
       "  <thead>\n",
       "    <tr style=\"text-align: right;\">\n",
       "      <th></th>\n",
       "      <th>iteration</th>\n",
       "      <th>score</th>\n",
       "      <th>rank</th>\n",
       "      <th>max_rank</th>\n",
       "      <th>rank_weight</th>\n",
       "    </tr>\n",
       "  </thead>\n",
       "  <tbody>\n",
       "    <tr>\n",
       "      <th>0</th>\n",
       "      <td>8</td>\n",
       "      <td>1.62433e-09</td>\n",
       "      <td>115884.0</td>\n",
       "      <td>115884.0</td>\n",
       "      <td>0.889938</td>\n",
       "    </tr>\n",
       "    <tr>\n",
       "      <th>1</th>\n",
       "      <td>8</td>\n",
       "      <td>1.72035e-09</td>\n",
       "      <td>115873.0</td>\n",
       "      <td>115874.0</td>\n",
       "      <td>0.889939</td>\n",
       "    </tr>\n",
       "    <tr>\n",
       "      <th>2</th>\n",
       "      <td>8</td>\n",
       "      <td>9.92915e-09</td>\n",
       "      <td>115862.0</td>\n",
       "      <td>115864.0</td>\n",
       "      <td>0.889940</td>\n",
       "    </tr>\n",
       "    <tr>\n",
       "      <th>3</th>\n",
       "      <td>8</td>\n",
       "      <td>1.13107e-08</td>\n",
       "      <td>115851.0</td>\n",
       "      <td>115854.0</td>\n",
       "      <td>0.889941</td>\n",
       "    </tr>\n",
       "    <tr>\n",
       "      <th>4</th>\n",
       "      <td>8</td>\n",
       "      <td>1.20884e-08</td>\n",
       "      <td>115840.0</td>\n",
       "      <td>115844.0</td>\n",
       "      <td>0.889941</td>\n",
       "    </tr>\n",
       "    <tr>\n",
       "      <th>...</th>\n",
       "      <td>...</td>\n",
       "      <td>...</td>\n",
       "      <td>...</td>\n",
       "      <td>...</td>\n",
       "      <td>...</td>\n",
       "    </tr>\n",
       "    <tr>\n",
       "      <th>1968663</th>\n",
       "      <td>0</td>\n",
       "      <td>1.35559</td>\n",
       "      <td>NaN</td>\n",
       "      <td>NaN</td>\n",
       "      <td>NaN</td>\n",
       "    </tr>\n",
       "    <tr>\n",
       "      <th>1968664</th>\n",
       "      <td>0</td>\n",
       "      <td>1.35609</td>\n",
       "      <td>NaN</td>\n",
       "      <td>NaN</td>\n",
       "      <td>NaN</td>\n",
       "    </tr>\n",
       "    <tr>\n",
       "      <th>1968665</th>\n",
       "      <td>0</td>\n",
       "      <td>1.36189</td>\n",
       "      <td>NaN</td>\n",
       "      <td>NaN</td>\n",
       "      <td>NaN</td>\n",
       "    </tr>\n",
       "    <tr>\n",
       "      <th>1968666</th>\n",
       "      <td>0</td>\n",
       "      <td>1.36861</td>\n",
       "      <td>NaN</td>\n",
       "      <td>NaN</td>\n",
       "      <td>NaN</td>\n",
       "    </tr>\n",
       "    <tr>\n",
       "      <th>1968667</th>\n",
       "      <td>0</td>\n",
       "      <td>1.37329</td>\n",
       "      <td>NaN</td>\n",
       "      <td>NaN</td>\n",
       "      <td>NaN</td>\n",
       "    </tr>\n",
       "  </tbody>\n",
       "</table>\n",
       "<p>1968668 rows × 5 columns</p>\n",
       "</div>"
      ],
      "text/plain": [
       "         iteration        score      rank  max_rank  rank_weight\n",
       "0                8  1.62433e-09  115884.0  115884.0     0.889938\n",
       "1                8  1.72035e-09  115873.0  115874.0     0.889939\n",
       "2                8  9.92915e-09  115862.0  115864.0     0.889940\n",
       "3                8  1.13107e-08  115851.0  115854.0     0.889941\n",
       "4                8  1.20884e-08  115840.0  115844.0     0.889941\n",
       "...            ...          ...       ...       ...          ...\n",
       "1968663          0      1.35559       NaN       NaN          NaN\n",
       "1968664          0      1.35609       NaN       NaN          NaN\n",
       "1968665          0      1.36189       NaN       NaN          NaN\n",
       "1968666          0      1.36861       NaN       NaN          NaN\n",
       "1968667          0      1.37329       NaN       NaN          NaN\n",
       "\n",
       "[1968668 rows x 5 columns]"
      ]
     },
     "execution_count": null,
     "metadata": {},
     "output_type": "execute_result"
    }
   ],
   "source": [
    "ranked_df"
   ]
  },
  {
   "cell_type": "code",
   "execution_count": null,
   "metadata": {},
   "outputs": [],
   "source": [
    "melted_ranked_df = ranked_df.melt(id_vars=[\"iteration\", \"rank\"], value_vars=[\"rank_weight\", \"score\"])"
   ]
  },
  {
   "cell_type": "code",
   "execution_count": null,
   "metadata": {},
   "outputs": [
    {
     "data": {
      "text/html": [
       "<div>\n",
       "<style scoped>\n",
       "    .dataframe tbody tr th:only-of-type {\n",
       "        vertical-align: middle;\n",
       "    }\n",
       "\n",
       "    .dataframe tbody tr th {\n",
       "        vertical-align: top;\n",
       "    }\n",
       "\n",
       "    .dataframe thead th {\n",
       "        text-align: right;\n",
       "    }\n",
       "</style>\n",
       "<table border=\"1\" class=\"dataframe\">\n",
       "  <thead>\n",
       "    <tr style=\"text-align: right;\">\n",
       "      <th></th>\n",
       "      <th>iteration</th>\n",
       "      <th>rank</th>\n",
       "      <th>variable</th>\n",
       "      <th>value</th>\n",
       "    </tr>\n",
       "  </thead>\n",
       "  <tbody>\n",
       "    <tr>\n",
       "      <th>0</th>\n",
       "      <td>8</td>\n",
       "      <td>2</td>\n",
       "      <td>rank_weight</td>\n",
       "      <td>0.993092</td>\n",
       "    </tr>\n",
       "    <tr>\n",
       "      <th>1</th>\n",
       "      <td>8</td>\n",
       "      <td>3</td>\n",
       "      <td>rank_weight</td>\n",
       "      <td>0.989074</td>\n",
       "    </tr>\n",
       "    <tr>\n",
       "      <th>2</th>\n",
       "      <td>8</td>\n",
       "      <td>4</td>\n",
       "      <td>rank_weight</td>\n",
       "      <td>0.986233</td>\n",
       "    </tr>\n",
       "    <tr>\n",
       "      <th>3</th>\n",
       "      <td>8</td>\n",
       "      <td>5</td>\n",
       "      <td>rank_weight</td>\n",
       "      <td>0.984034</td>\n",
       "    </tr>\n",
       "    <tr>\n",
       "      <th>4</th>\n",
       "      <td>8</td>\n",
       "      <td>6</td>\n",
       "      <td>rank_weight</td>\n",
       "      <td>0.982242</td>\n",
       "    </tr>\n",
       "    <tr>\n",
       "      <th>...</th>\n",
       "      <td>...</td>\n",
       "      <td>...</td>\n",
       "      <td>...</td>\n",
       "      <td>...</td>\n",
       "    </tr>\n",
       "    <tr>\n",
       "      <th>3937331</th>\n",
       "      <td>0</td>\n",
       "      <td>115881</td>\n",
       "      <td>score</td>\n",
       "      <td>1.35559</td>\n",
       "    </tr>\n",
       "    <tr>\n",
       "      <th>3937332</th>\n",
       "      <td>0</td>\n",
       "      <td>115882</td>\n",
       "      <td>score</td>\n",
       "      <td>1.35609</td>\n",
       "    </tr>\n",
       "    <tr>\n",
       "      <th>3937333</th>\n",
       "      <td>0</td>\n",
       "      <td>115883</td>\n",
       "      <td>score</td>\n",
       "      <td>1.36189</td>\n",
       "    </tr>\n",
       "    <tr>\n",
       "      <th>3937334</th>\n",
       "      <td>0</td>\n",
       "      <td>115884</td>\n",
       "      <td>score</td>\n",
       "      <td>1.36861</td>\n",
       "    </tr>\n",
       "    <tr>\n",
       "      <th>3937335</th>\n",
       "      <td>0</td>\n",
       "      <td>115885</td>\n",
       "      <td>score</td>\n",
       "      <td>1.37329</td>\n",
       "    </tr>\n",
       "  </tbody>\n",
       "</table>\n",
       "<p>3937336 rows × 4 columns</p>\n",
       "</div>"
      ],
      "text/plain": [
       "         iteration    rank     variable     value\n",
       "0                8       2  rank_weight  0.993092\n",
       "1                8       3  rank_weight  0.989074\n",
       "2                8       4  rank_weight  0.986233\n",
       "3                8       5  rank_weight  0.984034\n",
       "4                8       6  rank_weight  0.982242\n",
       "...            ...     ...          ...       ...\n",
       "3937331          0  115881        score   1.35559\n",
       "3937332          0  115882        score   1.35609\n",
       "3937333          0  115883        score   1.36189\n",
       "3937334          0  115884        score   1.36861\n",
       "3937335          0  115885        score   1.37329\n",
       "\n",
       "[3937336 rows x 4 columns]"
      ]
     },
     "execution_count": null,
     "metadata": {},
     "output_type": "execute_result"
    }
   ],
   "source": [
    "melted_ranked_df"
   ]
  },
  {
   "cell_type": "code",
   "execution_count": null,
   "metadata": {},
   "outputs": [
    {
     "data": {
      "text/plain": [
       "<seaborn.axisgrid.FacetGrid at 0x7f3cc03e2b80>"
      ]
     },
     "execution_count": null,
     "metadata": {},
     "output_type": "execute_result"
    },
    {
     "data": {
      "image/png": "[encoded data removed]",
      "text/plain": [
       "<Figure size 1177.12x360 with 3 Axes>"
      ]
     },
     "metadata": {
      "needs_background": "light"
     },
     "output_type": "display_data"
    }
   ],
   "source": [
    "sns.relplot(data=melted_ranked_df[melted_ranked_df.iteration>13],x=\"rank\", y=\"value\", hue=\"variable\", col=\"iteration\", col_wrap=3, alpha=0.5)"
   ]
  },
  {
   "cell_type": "code",
   "execution_count": null,
   "metadata": {},
   "outputs": [],
   "source": [
    "sns.relplot(data=ranked_df,x=\"rank\", y=\"score\", col=\"iteration\", col_wrap=3, alpha=0.5)"
   ]
  },
  {
   "cell_type": "code",
   "execution_count": null,
   "metadata": {},
   "outputs": [
    {
     "data": {
      "text/plain": [
       "<seaborn.axisgrid.FacetGrid at 0x7f0a354d4a30>"
      ]
     },
     "execution_count": null,
     "metadata": {},
     "output_type": "execute_result"
    },
    {
     "data": {
      "image/png": "[encoded data removed]",
      "text/plain": [
       "<Figure size 1080x2160 with 17 Axes>"
      ]
     },
     "metadata": {
      "needs_background": "light"
     },
     "output_type": "display_data"
    }
   ],
   "source": [
    "sns.displot(data=df, x=\"score\", col=\"iteration\", col_wrap=3)"
   ]
  },
  {
   "cell_type": "code",
   "execution_count": null,
   "metadata": {},
   "outputs": [],
   "source": [
    "scores = ranked_df[ranked_df.iteration == 16]"
   ]
  },
  {
   "cell_type": "code",
   "execution_count": null,
   "metadata": {},
   "outputs": [],
   "source": [
    "scores = scores.copy()"
   ]
  },
  {
   "cell_type": "code",
   "execution_count": null,
   "metadata": {},
   "outputs": [
    {
     "data": {
      "text/plain": [
       "18777.91191036082"
      ]
     },
     "execution_count": null,
     "metadata": {},
     "output_type": "execute_result"
    }
   ],
   "source": [
    "scores[scores[\"rank\"] < 115724-500][\"score\"].sum()"
   ]
  },
  {
   "cell_type": "code",
   "execution_count": null,
   "metadata": {},
   "outputs": [
    {
     "data": {
      "text/plain": [
       "19224.502285540566"
      ]
     },
     "execution_count": null,
     "metadata": {},
     "output_type": "execute_result"
    }
   ],
   "source": [
    "scores.score.sum()"
   ]
  },
  {
   "cell_type": "code",
   "execution_count": null,
   "metadata": {},
   "outputs": [
    {
     "data": {
      "image/png": "[encoded data removed]",
      "text/plain": [
       "<Figure size 360x360 with 1 Axes>"
      ]
     },
     "metadata": {},
     "output_type": "display_data"
    }
   ],
   "source": [
    "grd= sns.relplot(data=scores/scores.sum(),x=\"rank\", y=\"score\", alpha=0.5)\n",
    "grd.fig.patch.set_alpha(1)"
   ]
  },
  {
   "cell_type": "code",
   "execution_count": null,
   "metadata": {},
   "outputs": [],
   "source": [
    "scores[\"temp_scaled\"] = scores.score ** 10"
   ]
  },
  {
   "cell_type": "code",
   "execution_count": null,
   "metadata": {},
   "outputs": [
    {
     "data": {
      "image/png": "[encoded data removed]",
      "text/plain": [
       "<Figure size 360x360 with 1 Axes>"
      ]
     },
     "metadata": {},
     "output_type": "display_data"
    }
   ],
   "source": [
    "grd = sns.relplot(data=scores[scores[\"rank\"]>0]/scores.sum(),x=\"rank\", y=\"temp_scaled\", alpha=0.5)\n",
    "grd.fig.patch.set_alpha(1)"
   ]
  },
  {
   "cell_type": "code",
   "execution_count": null,
   "metadata": {},
   "outputs": [
    {
     "data": {
      "text/plain": [
       "0.17337242696569993"
      ]
     },
     "execution_count": null,
     "metadata": {},
     "output_type": "execute_result"
    },
    {
     "data": {
      "image/png": "[encoded data removed]",
      "text/plain": [
       "<Figure size 360x360 with 1 Axes>"
      ]
     },
     "metadata": {
      "needs_background": "light"
     },
     "output_type": "display_data"
    }
   ],
   "source": [
    "scores[\"temp_scaled\"] = scores.score.to_numpy(dtype=float)**10\n",
    "\n",
    "sns.relplot(data=scores[scores[\"rank\"]>115000],x=\"rank\", y=\"temp_scaled\", alpha=0.5)\n",
    "\n",
    "scores[scores[\"rank\"] > 115700][\"temp_scaled\"].sum()/scores[\"temp_scaled\"].sum()"
   ]
  },
  {
   "cell_type": "code",
   "execution_count": null,
   "metadata": {},
   "outputs": [
    {
     "data": {
      "text/plain": [
       "([114423,\n",
       "  114454,\n",
       "  115643,\n",
       "  115682,\n",
       "  115683,\n",
       "  115698,\n",
       "  115712,\n",
       "  115713,\n",
       "  115722,\n",
       "  115723],\n",
       " 16    0.730118\n",
       " 16    0.732449\n",
       " 16    0.949316\n",
       " 16    0.980124\n",
       " 16     0.98149\n",
       " 16     1.01651\n",
       " 16     1.06845\n",
       " 16     1.07044\n",
       " 16     1.19645\n",
       " 16     1.20419\n",
       " Name: score, dtype: object)"
      ]
     },
     "execution_count": null,
     "metadata": {},
     "output_type": "execute_result"
    }
   ],
   "source": [
    "scores[\"temp_scaled\"] = scores.score.to_numpy(dtype=float)**18\n",
    "\n",
    "indices = list(sorted(np.random.choice(len(scores[\"temp_scaled\"]), size=10, replace=False, p=scores[\"temp_scaled\"]/scores[\"temp_scaled\"].sum())))\n",
    "indices, scores.iloc[indices].score"
   ]
  },
  {
   "cell_type": "code",
   "execution_count": null,
   "metadata": {},
   "outputs": [
    {
     "data": {
      "text/plain": [
       "115724"
      ]
     },
     "execution_count": null,
     "metadata": {},
     "output_type": "execute_result"
    }
   ],
   "source": [
    "len(scores[\"temp_scaled\"])"
   ]
  },
  {
   "cell_type": "code",
   "execution_count": null,
   "metadata": {},
   "outputs": [
    {
     "data": {
      "text/plain": [
       "tensor([1.])"
      ]
     },
     "execution_count": null,
     "metadata": {},
     "output_type": "execute_result"
    }
   ],
   "source": [
    "torch.zeros(1)**0"
   ]
  },
  {
   "cell_type": "code",
   "execution_count": null,
   "metadata": {},
   "outputs": [],
   "source": []
  }
 ],
 "metadata": {
  "kernelspec": {
   "display_name": "Python [conda env:active_learning]",
   "language": "python",
   "name": "conda-env-active_learning-py"
  }
 },
 "nbformat": 4,
 "nbformat_minor": 4
}
