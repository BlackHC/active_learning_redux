{
 "cells": [
  {
   "cell_type": "markdown",
   "metadata": {},
   "source": [
    "# Experiment RepeatedMNIST\n",
    "> Can we get better by training on our assumptions?"
   ]
  },
  {
   "cell_type": "code",
   "execution_count": null,
   "metadata": {},
   "outputs": [],
   "source": [
    "# default_exp experiment_repeated_mnist"
   ]
  },
  {
   "cell_type": "code",
   "execution_count": null,
   "metadata": {},
   "outputs": [
    {
     "name": "stdout",
     "output_type": "stream",
     "text": [
      "Appended /home/blackhc/PycharmProjects/bald-ical/src to paths\n",
      "Switched to directory /home/blackhc/PycharmProjects/bald-ical\n",
      "%load_ext autoreload\n",
      "%autoreload 2\n"
     ]
    }
   ],
   "source": [
    "# hide\n",
    "import blackhc.project.script"
   ]
  },
  {
   "cell_type": "markdown",
   "metadata": {},
   "source": [
    "Import modules and functions were are going to use."
   ]
  },
  {
   "cell_type": "code",
   "execution_count": null,
   "metadata": {},
   "outputs": [],
   "source": [
    "# exports\n",
    "\n",
    "import dataclasses\n",
    "import traceback\n",
    "\n",
    "from blackhc.project import is_run_from_ipython\n",
    "from blackhc.project.experiment import embedded_experiments\n",
    "\n",
    "from batchbald_redux import acquisition_functions, baseline_acquisition_functions\n",
    "from batchbald_redux.experiment_data import StandardExperimentDataConfig\n",
    "from batchbald_redux.models import MnistModelTrainer\n",
    "from batchbald_redux.unified_experiment import UnifiedExperiment"
   ]
  },
  {
   "cell_type": "code",
   "execution_count": null,
   "metadata": {},
   "outputs": [],
   "source": [
    "# exports\n",
    "\n",
    "configs = [\n",
    "    UnifiedExperiment(\n",
    "        experiment_data_config=StandardExperimentDataConfig(\n",
    "            id_dataset_name=\"MNIST\",\n",
    "            id_repetitions=id_repetitions,\n",
    "            initial_training_set_size=20,\n",
    "            validation_set_size=4096,\n",
    "            validation_split_random_state=0,\n",
    "            evaluation_set_size=0,\n",
    "            add_dataset_noise=True,\n",
    "            ood_dataset_config=None,\n",
    "        ),\n",
    "        seed=seed + 45682,\n",
    "        acquisition_function=acquisition_function,\n",
    "        acquisition_size=acquisition_size,\n",
    "        num_pool_samples=num_pool_samples,\n",
    "        max_training_set=300,\n",
    "        model_trainer_factory=MnistModelTrainer,\n",
    "        stochastic_mode=stochastic_mode,\n",
    "        coldness=coldness,\n",
    "    )\n",
    "    for seed in range(5)\n",
    "    for acquisition_size in [10]\n",
    "    for num_pool_samples in [100]\n",
    "    for id_repetitions in [4]\n",
    "    for coldness in [1.]\n",
    "    # Already ran Power\n",
    "    for stochastic_mode in [\n",
    "        acquisition_functions.StochasticMode.TopK,\n",
    "        acquisition_functions.StochasticMode.Softrank,\n",
    "        acquisition_functions.StochasticMode.Power,\n",
    "        acquisition_functions.StochasticMode.Softmax,        \n",
    "    ]\n",
    "    for acquisition_function in [\n",
    "        baseline_acquisition_functions.VariationRatios,\n",
    "        baseline_acquisition_functions.Margin,\n",
    "        baseline_acquisition_functions.StdDev,\n",
    "    ]\n",
    "]\n",
    "# [\n",
    "#     UnifiedExperiment(\n",
    "#         experiment_data_config=StandardExperimentDataConfig(\n",
    "#             id_dataset_name=\"MNIST\",\n",
    "#             id_repetitions=id_repetitions,\n",
    "#             initial_training_set_size=20,\n",
    "#             validation_set_size=4096,\n",
    "#             validation_split_random_state=0,\n",
    "#             evaluation_set_size=0,\n",
    "#             add_dataset_noise=True,\n",
    "#             ood_dataset_config=None,\n",
    "#         ),\n",
    "#         seed=seed + 1765,\n",
    "#         acquisition_function=acquisition_function,\n",
    "#         acquisition_size=acquisition_size,\n",
    "#         num_pool_samples=num_pool_samples,\n",
    "#         max_training_set=300,\n",
    "#         model_trainer_factory=MnistModelTrainer,\n",
    "#         stochastic_mode=stochastic_mode,\n",
    "#         coldness=coldness,\n",
    "#     )\n",
    "#     for acquisition_function in [\n",
    "#         acquisition_functions.StochasticBALD,\n",
    "#     ]\n",
    "#     for seed in range(5)\n",
    "#     for acquisition_size in [20, 40]\n",
    "#     for num_pool_samples in [100]\n",
    "#     for id_repetitions in [1, 2, 4]\n",
    "#     for coldness in [8, 4, 1]\n",
    "#     # Already ran Power\n",
    "#     for stochastic_mode in [\n",
    "#         acquisition_functions.StochasticMode.Power,\n",
    "#         acquisition_functions.StochasticMode.Softmax,\n",
    "#     ]\n",
    "# ] + [\n",
    "#     UnifiedExperiment(\n",
    "#         experiment_data_config=StandardExperimentDataConfig(\n",
    "#             id_dataset_name=\"MNIST\",\n",
    "#             id_repetitions=id_repetitions,\n",
    "#             initial_training_set_size=20,\n",
    "#             validation_set_size=4096,\n",
    "#             validation_split_random_state=0,\n",
    "#             evaluation_set_size=0,\n",
    "#             add_dataset_noise=True,\n",
    "#             ood_dataset_config=None,\n",
    "#         ),\n",
    "#         seed=seed + 1765,\n",
    "#         acquisition_function=acquisition_function,\n",
    "#         acquisition_size=acquisition_size,\n",
    "#         num_pool_samples=num_pool_samples,\n",
    "#         max_training_set=300,\n",
    "#         model_trainer_factory=MnistModelTrainer,\n",
    "#         stochastic_mode=stochastic_mode,\n",
    "#         coldness=coldness,\n",
    "#     )\n",
    "#     for acquisition_function in [\n",
    "#         acquisition_functions.StochasticBALD,\n",
    "#     ]\n",
    "#     for seed in range(5)\n",
    "#     for acquisition_size in [20, 40]\n",
    "#     for num_pool_samples in [100]\n",
    "#     for id_repetitions in [1, 2, 4]\n",
    "#     for coldness in [1.]\n",
    "#     # Already ran Power\n",
    "#     for stochastic_mode in [\n",
    "#         acquisition_functions.StochasticMode.Softrank,\n",
    "#     ]\n",
    "# ] + [\n",
    "#     UnifiedExperiment(\n",
    "#         experiment_data_config=StandardExperimentDataConfig(\n",
    "#             id_dataset_name=\"MNIST\",\n",
    "#             id_repetitions=id_repetitions,\n",
    "#             initial_training_set_size=20,\n",
    "#             validation_set_size=4096,\n",
    "#             validation_split_random_state=0,\n",
    "#             evaluation_set_size=0,\n",
    "#             add_dataset_noise=True,\n",
    "#             ood_dataset_config=None,\n",
    "#         ),\n",
    "#         seed=seed + 1765,\n",
    "#         acquisition_function=acquisition_function,\n",
    "#         acquisition_size=acquisition_size,\n",
    "#         num_pool_samples=num_pool_samples,\n",
    "#         max_training_set=300,\n",
    "#         model_trainer_factory=MnistModelTrainer,\n",
    "#     )\n",
    "#     for acquisition_function in [\n",
    "#         acquisition_functions.BALD,\n",
    "#     ]\n",
    "#     for seed in range(5)\n",
    "#     for acquisition_size in [20, 40]\n",
    "#     for num_pool_samples in [100]\n",
    "#     for id_repetitions in [1,2,4]\n",
    "# ]\n",
    "# [\n",
    "#     UnifiedExperiment(\n",
    "#         experiment_data_config=StandardExperimentDataConfig(\n",
    "#             id_dataset_name=\"MNIST\",\n",
    "#             id_repetitions=id_repetitions,\n",
    "#             initial_training_set_size=20,\n",
    "#             validation_set_size=4096,\n",
    "#             validation_split_random_state=0,\n",
    "#             evaluation_set_size=0,\n",
    "#             add_dataset_noise=True,\n",
    "#             ood_dataset_config=None,\n",
    "#         ),\n",
    "#         seed=seed + 8945,\n",
    "#         acquisition_function=acquisition_function,\n",
    "#         acquisition_size=acquisition_size,\n",
    "#         num_pool_samples=num_pool_samples,\n",
    "#         max_training_set=300,\n",
    "#         model_trainer_factory=MnistModelTrainer,\n",
    "#     )\n",
    "#     for acquisition_function in [\n",
    "#         acquisition_functions.BatchBALD,\n",
    "#     ]\n",
    "#     for seed in range(5)\n",
    "#     for acquisition_size in [5]\n",
    "#     for num_pool_samples in [100]\n",
    "#     for id_repetitions in [1,2,4]\n",
    "# ] + [\n",
    "#     UnifiedExperiment(\n",
    "#         experiment_data_config=StandardExperimentDataConfig(\n",
    "#             id_dataset_name=\"MNIST\",\n",
    "#             id_repetitions=id_repetitions,\n",
    "#             initial_training_set_size=20,\n",
    "#             validation_set_size=4096,\n",
    "#             validation_split_random_state=0,\n",
    "#             evaluation_set_size=0,\n",
    "#             add_dataset_noise=True,\n",
    "#             ood_dataset_config=None,\n",
    "#         ),\n",
    "#         seed=seed + 8945,\n",
    "#         acquisition_function=acquisition_function,\n",
    "#         acquisition_size=acquisition_size,\n",
    "#         num_pool_samples=num_pool_samples,\n",
    "#         max_training_set=300,\n",
    "#         model_trainer_factory=MnistModelTrainer,\n",
    "#         stochastic_mode = stochastic_mode,\n",
    "#         coldness = 8.0\n",
    "#     )\n",
    "#     for acquisition_function in [\n",
    "#         acquisition_functions.StochasticBALD,\n",
    "#     ]\n",
    "#     for seed in range(5)\n",
    "#     for acquisition_size in [10]\n",
    "#     for num_pool_samples in [100]\n",
    "#     for id_repetitions in [1,2,4]\n",
    "#     # Already ran Power\n",
    "#     for stochastic_mode in [acquisition_functions.StochasticMode.Softmax, acquisition_functions.StochasticMode.Softrank]\n",
    "# ] + [\n",
    "#     UnifiedExperiment(\n",
    "#         experiment_data_config=StandardExperimentDataConfig(\n",
    "#             id_dataset_name=\"MNIST\",\n",
    "#             id_repetitions=id_repetitions,\n",
    "#             initial_training_set_size=20,\n",
    "#             validation_set_size=4096,\n",
    "#             validation_split_random_state=0,\n",
    "#             evaluation_set_size=0,\n",
    "#             add_dataset_noise=True,\n",
    "#             ood_dataset_config=None,\n",
    "#         ),\n",
    "#         seed=seed + 8945,\n",
    "#         acquisition_function=acquisition_function,\n",
    "#         acquisition_size=acquisition_size,\n",
    "#         num_pool_samples=num_pool_samples,\n",
    "#         max_training_set=300,\n",
    "#         model_trainer_factory=MnistModelTrainer,\n",
    "#     )\n",
    "#     for acquisition_function in [\n",
    "#         acquisition_functions.BALD,\n",
    "#         acquisition_functions.Random,\n",
    "#         baseline_acquisition_functions.BADGE\n",
    "#     ]\n",
    "#     for seed in range(5)\n",
    "#     for acquisition_size in [10]\n",
    "#     for num_pool_samples in [100]\n",
    "#     for id_repetitions in [1,2,4]\n",
    "# ] + [\n",
    "#     UnifiedExperiment(\n",
    "#         experiment_data_config=StandardExperimentDataConfig(\n",
    "#             id_dataset_name=\"MNIST\",\n",
    "#             id_repetitions=id_repetitions,\n",
    "#             initial_training_set_size=20,\n",
    "#             validation_set_size=4096,\n",
    "#             validation_split_random_state=0,\n",
    "#             evaluation_set_size=0,\n",
    "#             add_dataset_noise=True,\n",
    "#             ood_dataset_config=None,\n",
    "#         ),\n",
    "#         seed=seed + 8945,\n",
    "#         acquisition_function=acquisition_function,\n",
    "#         acquisition_size=acquisition_size,\n",
    "#         num_pool_samples=num_pool_samples,\n",
    "#         max_training_set=300,\n",
    "#         model_trainer_factory=MnistModelTrainer,\n",
    "#     )\n",
    "#     for acquisition_function in [\n",
    "#         baseline_acquisition_functions.BADGE\n",
    "#     ]\n",
    "#     for seed in range(5)\n",
    "#     for acquisition_size in [20, 40]\n",
    "#     for num_pool_samples in [100]\n",
    "#     for id_repetitions in [1,2,4]\n",
    "# ]\n",
    "\n",
    "\n",
    "if not is_run_from_ipython() and __name__ == \"__main__\":\n",
    "    for job_id, store in embedded_experiments(__file__, len(configs)):\n",
    "        config = configs[job_id]\n",
    "        config.seed += job_id\n",
    "        print(config)\n",
    "        store[\"config\"] = dataclasses.asdict(config)\n",
    "        store[\"log\"] = {}\n",
    "\n",
    "        try:\n",
    "            config.run(store=store)\n",
    "        except Exception:\n",
    "            store[\"exception\"] = traceback.format_exc()\n",
    "            raise"
   ]
  },
  {
   "cell_type": "code",
   "execution_count": null,
   "metadata": {},
   "outputs": [
    {
     "data": {
      "text/plain": [
       "60"
      ]
     },
     "execution_count": null,
     "metadata": {},
     "output_type": "execute_result"
    }
   ],
   "source": [
    "len(configs)"
   ]
  },
  {
   "cell_type": "code",
   "execution_count": null,
   "metadata": {},
   "outputs": [
    {
     "name": "stdout",
     "output_type": "stream",
     "text": [
      "[\n",
      "    batchbald_redux.unified_experiment.UnifiedExperiment(\n",
      "        seed=45682,\n",
      "        experiment_data_config=batchbald_redux.experiment_data.StandardExperimentDataConfig(\n",
      "            id_dataset_name='MNIST',\n",
      "            id_repetitions=4,\n",
      "            initial_training_set_size=20,\n",
      "            validation_set_size=4096,\n",
      "            validation_split_random_state=0,\n",
      "            evaluation_set_size=0,\n",
      "            add_dataset_noise=True,\n",
      "            ood_dataset_config=None\n",
      "        ),\n",
      "        acquisition_size=10,\n",
      "        max_training_set=300,\n",
      "        # class\n",
      "        acquisition_function=batchbald_redux.baseline_acquisition_functions.VariationRatios,\n",
      "        # class\n",
      "        model_trainer_factory=batchbald_redux.models.MnistModelTrainer,\n",
      "        stochastic_mode=batchbald_redux.batchbald.StochasticMode.Softrank\n",
      "    ),\n",
      "    batchbald_redux.unified_experiment.UnifiedExperiment(\n",
      "        seed=45682,\n",
      "        experiment_data_config=batchbald_redux.experiment_data.StandardExperimentDataConfig(\n",
      "            id_dataset_name='MNIST',\n",
      "            id_repetitions=4,\n",
      "            initial_training_set_size=20,\n",
      "            validation_set_size=4096,\n",
      "            validation_split_random_state=0,\n",
      "            evaluation_set_size=0,\n",
      "            add_dataset_noise=True,\n",
      "            ood_dataset_config=None\n",
      "        ),\n",
      "        acquisition_size=10,\n",
      "        max_training_set=300,\n",
      "        # class\n",
      "        acquisition_function=batchbald_redux.baseline_acquisition_functions.Margin,\n",
      "        # class\n",
      "        model_trainer_factory=batchbald_redux.models.MnistModelTrainer,\n",
      "        stochastic_mode=batchbald_redux.batchbald.StochasticMode.Softrank\n",
      "    ),\n",
      "    batchbald_redux.unified_experiment.UnifiedExperiment(\n",
      "        seed=45682,\n",
      "        experiment_data_config=batchbald_redux.experiment_data.StandardExperimentDataConfig(\n",
      "            id_dataset_name='MNIST',\n",
      "            id_repetitions=4,\n",
      "            initial_training_set_size=20,\n",
      "            validation_set_size=4096,\n",
      "            validation_split_random_state=0,\n",
      "            evaluation_set_size=0,\n",
      "            add_dataset_noise=True,\n",
      "            ood_dataset_config=None\n",
      "        ),\n",
      "        acquisition_size=10,\n",
      "        max_training_set=300,\n",
      "        # class\n",
      "        acquisition_function=batchbald_redux.baseline_acquisition_functions.StdDev,\n",
      "        # class\n",
      "        model_trainer_factory=batchbald_redux.models.MnistModelTrainer,\n",
      "        stochastic_mode=batchbald_redux.batchbald.StochasticMode.Softrank\n",
      "    ),\n",
      "    batchbald_redux.unified_experiment.UnifiedExperiment(\n",
      "        seed=45682,\n",
      "        experiment_data_config=batchbald_redux.experiment_data.StandardExperimentDataConfig(\n",
      "            id_dataset_name='MNIST',\n",
      "            id_repetitions=4,\n",
      "            initial_training_set_size=20,\n",
      "            validation_set_size=4096,\n",
      "            validation_split_random_state=0,\n",
      "            evaluation_set_size=0,\n",
      "            add_dataset_noise=True,\n",
      "            ood_dataset_config=None\n",
      "        ),\n",
      "        acquisition_size=10,\n",
      "        max_training_set=300,\n",
      "        # class\n",
      "        acquisition_function=batchbald_redux.baseline_acquisition_functions.VariationRatios,\n",
      "        # class\n",
      "        model_trainer_factory=batchbald_redux.models.MnistModelTrainer,\n",
      "        stochastic_mode=batchbald_redux.batchbald.StochasticMode.Power\n",
      "    ),\n",
      "    batchbald_redux.unified_experiment.UnifiedExperiment(\n",
      "        seed=45682,\n",
      "        experiment_data_config=batchbald_redux.experiment_data.StandardExperimentDataConfig(\n",
      "            id_dataset_name='MNIST',\n",
      "            id_repetitions=4,\n",
      "            initial_training_set_size=20,\n",
      "            validation_set_size=4096,\n",
      "            validation_split_random_state=0,\n",
      "            evaluation_set_size=0,\n",
      "            add_dataset_noise=True,\n",
      "            ood_dataset_config=None\n",
      "        ),\n",
      "        acquisition_size=10,\n",
      "        max_training_set=300,\n",
      "        # class\n",
      "        acquisition_function=batchbald_redux.baseline_acquisition_functions.Margin,\n",
      "        # class\n",
      "        model_trainer_factory=batchbald_redux.models.MnistModelTrainer,\n",
      "        stochastic_mode=batchbald_redux.batchbald.StochasticMode.Power\n",
      "    ),\n",
      "    batchbald_redux.unified_experiment.UnifiedExperiment(\n",
      "        seed=45682,\n",
      "        experiment_data_config=batchbald_redux.experiment_data.StandardExperimentDataConfig(\n",
      "            id_dataset_name='MNIST',\n",
      "            id_repetitions=4,\n",
      "            initial_training_set_size=20,\n",
      "            validation_set_size=4096,\n",
      "            validation_split_random_state=0,\n",
      "            evaluation_set_size=0,\n",
      "            add_dataset_noise=True,\n",
      "            ood_dataset_config=None\n",
      "        ),\n",
      "        acquisition_size=10,\n",
      "        max_training_set=300,\n",
      "        # class\n",
      "        acquisition_function=batchbald_redux.baseline_acquisition_functions.StdDev,\n",
      "        # class\n",
      "        model_trainer_factory=batchbald_redux.models.MnistModelTrainer,\n",
      "        stochastic_mode=batchbald_redux.batchbald.StochasticMode.Power\n",
      "    ),\n",
      "    batchbald_redux.unified_experiment.UnifiedExperiment(\n",
      "        seed=45682,\n",
      "        experiment_data_config=batchbald_redux.experiment_data.StandardExperimentDataConfig(\n",
      "            id_dataset_name='MNIST',\n",
      "            id_repetitions=4,\n",
      "            initial_training_set_size=20,\n",
      "            validation_set_size=4096,\n",
      "            validation_split_random_state=0,\n",
      "            evaluation_set_size=0,\n",
      "            add_dataset_noise=True,\n",
      "            ood_dataset_config=None\n",
      "        ),\n",
      "        acquisition_size=10,\n",
      "        max_training_set=300,\n",
      "        # class\n",
      "        acquisition_function=batchbald_redux.baseline_acquisition_functions.VariationRatios,\n",
      "        # class\n",
      "        model_trainer_factory=batchbald_redux.models.MnistModelTrainer,\n",
      "        stochastic_mode=batchbald_redux.batchbald.StochasticMode.Softmax\n",
      "    ),\n",
      "    batchbald_redux.unified_experiment.UnifiedExperiment(\n",
      "        seed=45682,\n",
      "        experiment_data_config=batchbald_redux.experiment_data.StandardExperimentDataConfig(\n",
      "            id_dataset_name='MNIST',\n",
      "            id_repetitions=4,\n",
      "            initial_training_set_size=20,\n",
      "            validation_set_size=4096,\n",
      "            validation_split_random_state=0,\n",
      "            evaluation_set_size=0,\n",
      "            add_dataset_noise=True,\n",
      "            ood_dataset_config=None\n",
      "        ),\n",
      "        acquisition_size=10,\n",
      "        max_training_set=300,\n",
      "        # class\n",
      "        acquisition_function=batchbald_redux.baseline_acquisition_functions.Margin,\n",
      "        # class\n",
      "        model_trainer_factory=batchbald_redux.models.MnistModelTrainer,\n",
      "        stochastic_mode=batchbald_redux.batchbald.StochasticMode.Softmax\n",
      "    ),\n",
      "    batchbald_redux.unified_experiment.UnifiedExperiment(\n",
      "        seed=45682,\n",
      "        experiment_data_config=batchbald_redux.experiment_data.StandardExperimentDataConfig(\n",
      "            id_dataset_name='MNIST',\n",
      "            id_repetitions=4,\n",
      "            initial_training_set_size=20,\n",
      "            validation_set_size=4096,\n",
      "            validation_split_random_state=0,\n",
      "            evaluation_set_size=0,\n",
      "            add_dataset_noise=True,\n",
      "            ood_dataset_config=None\n",
      "        ),\n",
      "        acquisition_size=10,\n",
      "        max_training_set=300,\n",
      "        # class\n",
      "        acquisition_function=batchbald_redux.baseline_acquisition_functions.StdDev,\n",
      "        # class\n",
      "        model_trainer_factory=batchbald_redux.models.MnistModelTrainer,\n",
      "        stochastic_mode=batchbald_redux.batchbald.StochasticMode.Softmax\n",
      "    ),\n",
      "    batchbald_redux.unified_experiment.UnifiedExperiment(\n",
      "        seed=45682,\n",
      "        experiment_data_config=batchbald_redux.experiment_data.StandardExperimentDataConfig(\n",
      "            id_dataset_name='MNIST',\n",
      "            id_repetitions=4,\n",
      "            initial_training_set_size=20,\n",
      "            validation_set_size=4096,\n",
      "            validation_split_random_state=0,\n",
      "            evaluation_set_size=0,\n",
      "            add_dataset_noise=True,\n",
      "            ood_dataset_config=None\n",
      "        ),\n",
      "        acquisition_size=10,\n",
      "        max_training_set=300,\n",
      "        # class\n",
      "        acquisition_function=batchbald_redux.baseline_acquisition_functions.VariationRatios,\n",
      "        # class\n",
      "        model_trainer_factory=batchbald_redux.models.MnistModelTrainer,\n",
      "        stochastic_mode=batchbald_redux.batchbald.StochasticMode.TopK\n",
      "    ),\n",
      "    batchbald_redux.unified_experiment.UnifiedExperiment(\n",
      "        seed=45682,\n",
      "        experiment_data_config=batchbald_redux.experiment_data.StandardExperimentDataConfig(\n",
      "            id_dataset_name='MNIST',\n",
      "            id_repetitions=4,\n",
      "            initial_training_set_size=20,\n",
      "            validation_set_size=4096,\n",
      "            validation_split_random_state=0,\n",
      "            evaluation_set_size=0,\n",
      "            add_dataset_noise=True,\n",
      "            ood_dataset_config=None\n",
      "        ),\n",
      "        acquisition_size=10,\n",
      "        max_training_set=300,\n",
      "        # class\n",
      "        acquisition_function=batchbald_redux.baseline_acquisition_functions.Margin,\n",
      "        # class\n",
      "        model_trainer_factory=batchbald_redux.models.MnistModelTrainer,\n",
      "        stochastic_mode=batchbald_redux.batchbald.StochasticMode.TopK\n",
      "    ),\n",
      "    batchbald_redux.unified_experiment.UnifiedExperiment(\n",
      "        seed=45682,\n",
      "        experiment_data_config=batchbald_redux.experiment_data.StandardExperimentDataConfig(\n",
      "            id_dataset_name='MNIST',\n",
      "            id_repetitions=4,\n",
      "            initial_training_set_size=20,\n",
      "            validation_set_size=4096,\n",
      "            validation_split_random_state=0,\n",
      "            evaluation_set_size=0,\n",
      "            add_dataset_noise=True,\n",
      "            ood_dataset_config=None\n",
      "        ),\n",
      "        acquisition_size=10,\n",
      "        max_training_set=300,\n",
      "        # class\n",
      "        acquisition_function=batchbald_redux.baseline_acquisition_functions.StdDev,\n",
      "        # class\n",
      "        model_trainer_factory=batchbald_redux.models.MnistModelTrainer,\n",
      "        stochastic_mode=batchbald_redux.batchbald.StochasticMode.TopK\n",
      "    ),\n",
      "    batchbald_redux.unified_experiment.UnifiedExperiment(\n",
      "        seed=45683,\n",
      "        experiment_data_config=batchbald_redux.experiment_data.StandardExperimentDataConfig(\n",
      "            id_dataset_name='MNIST',\n",
      "            id_repetitions=4,\n",
      "            initial_training_set_size=20,\n",
      "            validation_set_size=4096,\n",
      "            validation_split_random_state=0,\n",
      "            evaluation_set_size=0,\n",
      "            add_dataset_noise=True,\n",
      "            ood_dataset_config=None\n",
      "        ),\n",
      "        acquisition_size=10,\n",
      "        max_training_set=300,\n",
      "        # class\n",
      "        acquisition_function=batchbald_redux.baseline_acquisition_functions.VariationRatios,\n",
      "        # class\n",
      "        model_trainer_factory=batchbald_redux.models.MnistModelTrainer,\n",
      "        stochastic_mode=batchbald_redux.batchbald.StochasticMode.Softrank\n",
      "    ),\n",
      "    batchbald_redux.unified_experiment.UnifiedExperiment(\n",
      "        seed=45683,\n",
      "        experiment_data_config=batchbald_redux.experiment_data.StandardExperimentDataConfig(\n",
      "            id_dataset_name='MNIST',\n",
      "            id_repetitions=4,\n",
      "            initial_training_set_size=20,\n",
      "            validation_set_size=4096,\n",
      "            validation_split_random_state=0,\n",
      "            evaluation_set_size=0,\n",
      "            add_dataset_noise=True,\n",
      "            ood_dataset_config=None\n",
      "        ),\n",
      "        acquisition_size=10,\n",
      "        max_training_set=300,\n",
      "        # class\n",
      "        acquisition_function=batchbald_redux.baseline_acquisition_functions.Margin,\n",
      "        # class\n",
      "        model_trainer_factory=batchbald_redux.models.MnistModelTrainer,\n",
      "        stochastic_mode=batchbald_redux.batchbald.StochasticMode.Softrank\n",
      "    ),\n",
      "    batchbald_redux.unified_experiment.UnifiedExperiment(\n",
      "        seed=45683,\n",
      "        experiment_data_config=batchbald_redux.experiment_data.StandardExperimentDataConfig(\n",
      "            id_dataset_name='MNIST',\n",
      "            id_repetitions=4,\n",
      "            initial_training_set_size=20,\n",
      "            validation_set_size=4096,\n",
      "            validation_split_random_state=0,\n",
      "            evaluation_set_size=0,\n",
      "            add_dataset_noise=True,\n",
      "            ood_dataset_config=None\n",
      "        ),\n",
      "        acquisition_size=10,\n",
      "        max_training_set=300,\n",
      "        # class\n",
      "        acquisition_function=batchbald_redux.baseline_acquisition_functions.StdDev,\n",
      "        # class\n",
      "        model_trainer_factory=batchbald_redux.models.MnistModelTrainer,\n",
      "        stochastic_mode=batchbald_redux.batchbald.StochasticMode.Softrank\n",
      "    ),\n",
      "    batchbald_redux.unified_experiment.UnifiedExperiment(\n",
      "        seed=45683,\n",
      "        experiment_data_config=batchbald_redux.experiment_data.StandardExperimentDataConfig(\n",
      "            id_dataset_name='MNIST',\n",
      "            id_repetitions=4,\n",
      "            initial_training_set_size=20,\n",
      "            validation_set_size=4096,\n",
      "            validation_split_random_state=0,\n",
      "            evaluation_set_size=0,\n",
      "            add_dataset_noise=True,\n",
      "            ood_dataset_config=None\n",
      "        ),\n",
      "        acquisition_size=10,\n",
      "        max_training_set=300,\n",
      "        # class\n",
      "        acquisition_function=batchbald_redux.baseline_acquisition_functions.VariationRatios,\n",
      "        # class\n",
      "        model_trainer_factory=batchbald_redux.models.MnistModelTrainer,\n",
      "        stochastic_mode=batchbald_redux.batchbald.StochasticMode.Power\n",
      "    ),\n",
      "    batchbald_redux.unified_experiment.UnifiedExperiment(\n",
      "        seed=45683,\n",
      "        experiment_data_config=batchbald_redux.experiment_data.StandardExperimentDataConfig(\n",
      "            id_dataset_name='MNIST',\n",
      "            id_repetitions=4,\n",
      "            initial_training_set_size=20,\n",
      "            validation_set_size=4096,\n",
      "            validation_split_random_state=0,\n",
      "            evaluation_set_size=0,\n",
      "            add_dataset_noise=True,\n",
      "            ood_dataset_config=None\n",
      "        ),\n",
      "        acquisition_size=10,\n",
      "        max_training_set=300,\n",
      "        # class\n",
      "        acquisition_function=batchbald_redux.baseline_acquisition_functions.Margin,\n",
      "        # class\n",
      "        model_trainer_factory=batchbald_redux.models.MnistModelTrainer,\n",
      "        stochastic_mode=batchbald_redux.batchbald.StochasticMode.Power\n",
      "    ),\n",
      "    batchbald_redux.unified_experiment.UnifiedExperiment(\n",
      "        seed=45683,\n",
      "        experiment_data_config=batchbald_redux.experiment_data.StandardExperimentDataConfig(\n",
      "            id_dataset_name='MNIST',\n",
      "            id_repetitions=4,\n",
      "            initial_training_set_size=20,\n",
      "            validation_set_size=4096,\n",
      "            validation_split_random_state=0,\n",
      "            evaluation_set_size=0,\n",
      "            add_dataset_noise=True,\n",
      "            ood_dataset_config=None\n",
      "        ),\n",
      "        acquisition_size=10,\n",
      "        max_training_set=300,\n",
      "        # class\n",
      "        acquisition_function=batchbald_redux.baseline_acquisition_functions.StdDev,\n",
      "        # class\n",
      "        model_trainer_factory=batchbald_redux.models.MnistModelTrainer,\n",
      "        stochastic_mode=batchbald_redux.batchbald.StochasticMode.Power\n",
      "    ),\n",
      "    batchbald_redux.unified_experiment.UnifiedExperiment(\n",
      "        seed=45683,\n",
      "        experiment_data_config=batchbald_redux.experiment_data.StandardExperimentDataConfig(\n",
      "            id_dataset_name='MNIST',\n",
      "            id_repetitions=4,\n",
      "            initial_training_set_size=20,\n",
      "            validation_set_size=4096,\n",
      "            validation_split_random_state=0,\n",
      "            evaluation_set_size=0,\n",
      "            add_dataset_noise=True,\n",
      "            ood_dataset_config=None\n",
      "        ),\n",
      "        acquisition_size=10,\n",
      "        max_training_set=300,\n",
      "        # class\n",
      "        acquisition_function=batchbald_redux.baseline_acquisition_functions.VariationRatios,\n",
      "        # class\n",
      "        model_trainer_factory=batchbald_redux.models.MnistModelTrainer,\n",
      "        stochastic_mode=batchbald_redux.batchbald.StochasticMode.Softmax\n",
      "    ),\n",
      "    batchbald_redux.unified_experiment.UnifiedExperiment(\n",
      "        seed=45683,\n",
      "        experiment_data_config=batchbald_redux.experiment_data.StandardExperimentDataConfig(\n",
      "            id_dataset_name='MNIST',\n",
      "            id_repetitions=4,\n",
      "            initial_training_set_size=20,\n",
      "            validation_set_size=4096,\n",
      "            validation_split_random_state=0,\n",
      "            evaluation_set_size=0,\n",
      "            add_dataset_noise=True,\n",
      "            ood_dataset_config=None\n",
      "        ),\n",
      "        acquisition_size=10,\n",
      "        max_training_set=300,\n",
      "        # class\n",
      "        acquisition_function=batchbald_redux.baseline_acquisition_functions.Margin,\n",
      "        # class\n",
      "        model_trainer_factory=batchbald_redux.models.MnistModelTrainer,\n",
      "        stochastic_mode=batchbald_redux.batchbald.StochasticMode.Softmax\n",
      "    ),\n",
      "    batchbald_redux.unified_experiment.UnifiedExperiment(\n",
      "        seed=45683,\n",
      "        experiment_data_config=batchbald_redux.experiment_data.StandardExperimentDataConfig(\n",
      "            id_dataset_name='MNIST',\n",
      "            id_repetitions=4,\n",
      "            initial_training_set_size=20,\n",
      "            validation_set_size=4096,\n",
      "            validation_split_random_state=0,\n",
      "            evaluation_set_size=0,\n",
      "            add_dataset_noise=True,\n",
      "            ood_dataset_config=None\n",
      "        ),\n",
      "        acquisition_size=10,\n",
      "        max_training_set=300,\n",
      "        # class\n",
      "        acquisition_function=batchbald_redux.baseline_acquisition_functions.StdDev,\n",
      "        # class\n",
      "        model_trainer_factory=batchbald_redux.models.MnistModelTrainer,\n",
      "        stochastic_mode=batchbald_redux.batchbald.StochasticMode.Softmax\n",
      "    ),\n",
      "    batchbald_redux.unified_experiment.UnifiedExperiment(\n",
      "        seed=45683,\n",
      "        experiment_data_config=batchbald_redux.experiment_data.StandardExperimentDataConfig(\n",
      "            id_dataset_name='MNIST',\n",
      "            id_repetitions=4,\n",
      "            initial_training_set_size=20,\n",
      "            validation_set_size=4096,\n",
      "            validation_split_random_state=0,\n",
      "            evaluation_set_size=0,\n",
      "            add_dataset_noise=True,\n",
      "            ood_dataset_config=None\n",
      "        ),\n",
      "        acquisition_size=10,\n",
      "        max_training_set=300,\n",
      "        # class\n",
      "        acquisition_function=batchbald_redux.baseline_acquisition_functions.VariationRatios,\n",
      "        # class\n",
      "        model_trainer_factory=batchbald_redux.models.MnistModelTrainer,\n",
      "        stochastic_mode=batchbald_redux.batchbald.StochasticMode.TopK\n",
      "    ),\n",
      "    batchbald_redux.unified_experiment.UnifiedExperiment(\n",
      "        seed=45683,\n",
      "        experiment_data_config=batchbald_redux.experiment_data.StandardExperimentDataConfig(\n",
      "            id_dataset_name='MNIST',\n",
      "            id_repetitions=4,\n",
      "            initial_training_set_size=20,\n",
      "            validation_set_size=4096,\n",
      "            validation_split_random_state=0,\n",
      "            evaluation_set_size=0,\n",
      "            add_dataset_noise=True,\n",
      "            ood_dataset_config=None\n",
      "        ),\n",
      "        acquisition_size=10,\n",
      "        max_training_set=300,\n",
      "        # class\n",
      "        acquisition_function=batchbald_redux.baseline_acquisition_functions.Margin,\n",
      "        # class\n",
      "        model_trainer_factory=batchbald_redux.models.MnistModelTrainer,\n",
      "        stochastic_mode=batchbald_redux.batchbald.StochasticMode.TopK\n",
      "    ),\n",
      "    batchbald_redux.unified_experiment.UnifiedExperiment(\n",
      "        seed=45683,\n",
      "        experiment_data_config=batchbald_redux.experiment_data.StandardExperimentDataConfig(\n",
      "            id_dataset_name='MNIST',\n",
      "            id_repetitions=4,\n",
      "            initial_training_set_size=20,\n",
      "            validation_set_size=4096,\n",
      "            validation_split_random_state=0,\n",
      "            evaluation_set_size=0,\n",
      "            add_dataset_noise=True,\n",
      "            ood_dataset_config=None\n",
      "        ),\n",
      "        acquisition_size=10,\n",
      "        max_training_set=300,\n",
      "        # class\n",
      "        acquisition_function=batchbald_redux.baseline_acquisition_functions.StdDev,\n",
      "        # class\n",
      "        model_trainer_factory=batchbald_redux.models.MnistModelTrainer,\n",
      "        stochastic_mode=batchbald_redux.batchbald.StochasticMode.TopK\n",
      "    ),\n",
      "    batchbald_redux.unified_experiment.UnifiedExperiment(\n",
      "        seed=45684,\n",
      "        experiment_data_config=batchbald_redux.experiment_data.StandardExperimentDataConfig(\n",
      "            id_dataset_name='MNIST',\n",
      "            id_repetitions=4,\n",
      "            initial_training_set_size=20,\n",
      "            validation_set_size=4096,\n",
      "            validation_split_random_state=0,\n",
      "            evaluation_set_size=0,\n",
      "            add_dataset_noise=True,\n",
      "            ood_dataset_config=None\n",
      "        ),\n",
      "        acquisition_size=10,\n",
      "        max_training_set=300,\n",
      "        # class\n",
      "        acquisition_function=batchbald_redux.baseline_acquisition_functions.VariationRatios,\n",
      "        # class\n",
      "        model_trainer_factory=batchbald_redux.models.MnistModelTrainer,\n",
      "        stochastic_mode=batchbald_redux.batchbald.StochasticMode.Softrank\n",
      "    ),\n",
      "    batchbald_redux.unified_experiment.UnifiedExperiment(\n",
      "        seed=45684,\n",
      "        experiment_data_config=batchbald_redux.experiment_data.StandardExperimentDataConfig(\n",
      "            id_dataset_name='MNIST',\n",
      "            id_repetitions=4,\n",
      "            initial_training_set_size=20,\n",
      "            validation_set_size=4096,\n",
      "            validation_split_random_state=0,\n",
      "            evaluation_set_size=0,\n",
      "            add_dataset_noise=True,\n",
      "            ood_dataset_config=None\n",
      "        ),\n",
      "        acquisition_size=10,\n",
      "        max_training_set=300,\n",
      "        # class\n",
      "        acquisition_function=batchbald_redux.baseline_acquisition_functions.Margin,\n",
      "        # class\n",
      "        model_trainer_factory=batchbald_redux.models.MnistModelTrainer,\n",
      "        stochastic_mode=batchbald_redux.batchbald.StochasticMode.Softrank\n",
      "    ),\n",
      "    batchbald_redux.unified_experiment.UnifiedExperiment(\n",
      "        seed=45684,\n",
      "        experiment_data_config=batchbald_redux.experiment_data.StandardExperimentDataConfig(\n",
      "            id_dataset_name='MNIST',\n",
      "            id_repetitions=4,\n",
      "            initial_training_set_size=20,\n",
      "            validation_set_size=4096,\n",
      "            validation_split_random_state=0,\n",
      "            evaluation_set_size=0,\n",
      "            add_dataset_noise=True,\n",
      "            ood_dataset_config=None\n",
      "        ),\n",
      "        acquisition_size=10,\n",
      "        max_training_set=300,\n",
      "        # class\n",
      "        acquisition_function=batchbald_redux.baseline_acquisition_functions.StdDev,\n",
      "        # class\n",
      "        model_trainer_factory=batchbald_redux.models.MnistModelTrainer,\n",
      "        stochastic_mode=batchbald_redux.batchbald.StochasticMode.Softrank\n",
      "    ),\n",
      "    batchbald_redux.unified_experiment.UnifiedExperiment(\n",
      "        seed=45684,\n",
      "        experiment_data_config=batchbald_redux.experiment_data.StandardExperimentDataConfig(\n",
      "            id_dataset_name='MNIST',\n",
      "            id_repetitions=4,\n",
      "            initial_training_set_size=20,\n",
      "            validation_set_size=4096,\n",
      "            validation_split_random_state=0,\n",
      "            evaluation_set_size=0,\n",
      "            add_dataset_noise=True,\n",
      "            ood_dataset_config=None\n",
      "        ),\n",
      "        acquisition_size=10,\n",
      "        max_training_set=300,\n",
      "        # class\n",
      "        acquisition_function=batchbald_redux.baseline_acquisition_functions.VariationRatios,\n",
      "        # class\n",
      "        model_trainer_factory=batchbald_redux.models.MnistModelTrainer,\n",
      "        stochastic_mode=batchbald_redux.batchbald.StochasticMode.Power\n",
      "    ),\n",
      "    batchbald_redux.unified_experiment.UnifiedExperiment(\n",
      "        seed=45684,\n",
      "        experiment_data_config=batchbald_redux.experiment_data.StandardExperimentDataConfig(\n",
      "            id_dataset_name='MNIST',\n",
      "            id_repetitions=4,\n",
      "            initial_training_set_size=20,\n",
      "            validation_set_size=4096,\n",
      "            validation_split_random_state=0,\n",
      "            evaluation_set_size=0,\n",
      "            add_dataset_noise=True,\n",
      "            ood_dataset_config=None\n",
      "        ),\n",
      "        acquisition_size=10,\n",
      "        max_training_set=300,\n",
      "        # class\n",
      "        acquisition_function=batchbald_redux.baseline_acquisition_functions.Margin,\n",
      "        # class\n",
      "        model_trainer_factory=batchbald_redux.models.MnistModelTrainer,\n",
      "        stochastic_mode=batchbald_redux.batchbald.StochasticMode.Power\n",
      "    ),\n",
      "    batchbald_redux.unified_experiment.UnifiedExperiment(\n",
      "        seed=45684,\n",
      "        experiment_data_config=batchbald_redux.experiment_data.StandardExperimentDataConfig(\n",
      "            id_dataset_name='MNIST',\n",
      "            id_repetitions=4,\n",
      "            initial_training_set_size=20,\n",
      "            validation_set_size=4096,\n",
      "            validation_split_random_state=0,\n",
      "            evaluation_set_size=0,\n",
      "            add_dataset_noise=True,\n",
      "            ood_dataset_config=None\n",
      "        ),\n",
      "        acquisition_size=10,\n",
      "        max_training_set=300,\n",
      "        # class\n",
      "        acquisition_function=batchbald_redux.baseline_acquisition_functions.StdDev,\n",
      "        # class\n",
      "        model_trainer_factory=batchbald_redux.models.MnistModelTrainer,\n",
      "        stochastic_mode=batchbald_redux.batchbald.StochasticMode.Power\n",
      "    ),\n",
      "    batchbald_redux.unified_experiment.UnifiedExperiment(\n",
      "        seed=45684,\n",
      "        experiment_data_config=batchbald_redux.experiment_data.StandardExperimentDataConfig(\n",
      "            id_dataset_name='MNIST',\n",
      "            id_repetitions=4,\n",
      "            initial_training_set_size=20,\n",
      "            validation_set_size=4096,\n",
      "            validation_split_random_state=0,\n",
      "            evaluation_set_size=0,\n",
      "            add_dataset_noise=True,\n",
      "            ood_dataset_config=None\n",
      "        ),\n",
      "        acquisition_size=10,\n",
      "        max_training_set=300,\n",
      "        # class\n",
      "        acquisition_function=batchbald_redux.baseline_acquisition_functions.VariationRatios,\n",
      "        # class\n",
      "        model_trainer_factory=batchbald_redux.models.MnistModelTrainer,\n",
      "        stochastic_mode=batchbald_redux.batchbald.StochasticMode.Softmax\n",
      "    ),\n",
      "    batchbald_redux.unified_experiment.UnifiedExperiment(\n",
      "        seed=45684,\n",
      "        experiment_data_config=batchbald_redux.experiment_data.StandardExperimentDataConfig(\n",
      "            id_dataset_name='MNIST',\n",
      "            id_repetitions=4,\n",
      "            initial_training_set_size=20,\n",
      "            validation_set_size=4096,\n",
      "            validation_split_random_state=0,\n",
      "            evaluation_set_size=0,\n",
      "            add_dataset_noise=True,\n",
      "            ood_dataset_config=None\n",
      "        ),\n",
      "        acquisition_size=10,\n",
      "        max_training_set=300,\n",
      "        # class\n",
      "        acquisition_function=batchbald_redux.baseline_acquisition_functions.Margin,\n",
      "        # class\n",
      "        model_trainer_factory=batchbald_redux.models.MnistModelTrainer,\n",
      "        stochastic_mode=batchbald_redux.batchbald.StochasticMode.Softmax\n",
      "    ),\n",
      "    batchbald_redux.unified_experiment.UnifiedExperiment(\n",
      "        seed=45684,\n",
      "        experiment_data_config=batchbald_redux.experiment_data.StandardExperimentDataConfig(\n",
      "            id_dataset_name='MNIST',\n",
      "            id_repetitions=4,\n",
      "            initial_training_set_size=20,\n",
      "            validation_set_size=4096,\n",
      "            validation_split_random_state=0,\n",
      "            evaluation_set_size=0,\n",
      "            add_dataset_noise=True,\n",
      "            ood_dataset_config=None\n",
      "        ),\n",
      "        acquisition_size=10,\n",
      "        max_training_set=300,\n",
      "        # class\n",
      "        acquisition_function=batchbald_redux.baseline_acquisition_functions.StdDev,\n",
      "        # class\n",
      "        model_trainer_factory=batchbald_redux.models.MnistModelTrainer,\n",
      "        stochastic_mode=batchbald_redux.batchbald.StochasticMode.Softmax\n",
      "    ),\n",
      "    batchbald_redux.unified_experiment.UnifiedExperiment(\n",
      "        seed=45684,\n",
      "        experiment_data_config=batchbald_redux.experiment_data.StandardExperimentDataConfig(\n",
      "            id_dataset_name='MNIST',\n",
      "            id_repetitions=4,\n",
      "            initial_training_set_size=20,\n",
      "            validation_set_size=4096,\n",
      "            validation_split_random_state=0,\n",
      "            evaluation_set_size=0,\n",
      "            add_dataset_noise=True,\n",
      "            ood_dataset_config=None\n",
      "        ),\n",
      "        acquisition_size=10,\n",
      "        max_training_set=300,\n",
      "        # class\n",
      "        acquisition_function=batchbald_redux.baseline_acquisition_functions.VariationRatios,\n",
      "        # class\n",
      "        model_trainer_factory=batchbald_redux.models.MnistModelTrainer,\n",
      "        stochastic_mode=batchbald_redux.batchbald.StochasticMode.TopK\n",
      "    ),\n",
      "    batchbald_redux.unified_experiment.UnifiedExperiment(\n",
      "        seed=45684,\n",
      "        experiment_data_config=batchbald_redux.experiment_data.StandardExperimentDataConfig(\n",
      "            id_dataset_name='MNIST',\n",
      "            id_repetitions=4,\n",
      "            initial_training_set_size=20,\n",
      "            validation_set_size=4096,\n",
      "            validation_split_random_state=0,\n",
      "            evaluation_set_size=0,\n",
      "            add_dataset_noise=True,\n",
      "            ood_dataset_config=None\n",
      "        ),\n",
      "        acquisition_size=10,\n",
      "        max_training_set=300,\n",
      "        # class\n",
      "        acquisition_function=batchbald_redux.baseline_acquisition_functions.Margin,\n",
      "        # class\n",
      "        model_trainer_factory=batchbald_redux.models.MnistModelTrainer,\n",
      "        stochastic_mode=batchbald_redux.batchbald.StochasticMode.TopK\n",
      "    ),\n",
      "    batchbald_redux.unified_experiment.UnifiedExperiment(\n",
      "        seed=45684,\n",
      "        experiment_data_config=batchbald_redux.experiment_data.StandardExperimentDataConfig(\n",
      "            id_dataset_name='MNIST',\n",
      "            id_repetitions=4,\n",
      "            initial_training_set_size=20,\n",
      "            validation_set_size=4096,\n",
      "            validation_split_random_state=0,\n",
      "            evaluation_set_size=0,\n",
      "            add_dataset_noise=True,\n",
      "            ood_dataset_config=None\n",
      "        ),\n",
      "        acquisition_size=10,\n",
      "        max_training_set=300,\n",
      "        # class\n",
      "        acquisition_function=batchbald_redux.baseline_acquisition_functions.StdDev,\n",
      "        # class\n",
      "        model_trainer_factory=batchbald_redux.models.MnistModelTrainer,\n",
      "        stochastic_mode=batchbald_redux.batchbald.StochasticMode.TopK\n",
      "    ),\n",
      "    batchbald_redux.unified_experiment.UnifiedExperiment(\n",
      "        seed=45685,\n",
      "        experiment_data_config=batchbald_redux.experiment_data.StandardExperimentDataConfig(\n",
      "            id_dataset_name='MNIST',\n",
      "            id_repetitions=4,\n",
      "            initial_training_set_size=20,\n",
      "            validation_set_size=4096,\n",
      "            validation_split_random_state=0,\n",
      "            evaluation_set_size=0,\n",
      "            add_dataset_noise=True,\n",
      "            ood_dataset_config=None\n",
      "        ),\n",
      "        acquisition_size=10,\n",
      "        max_training_set=300,\n",
      "        # class\n",
      "        acquisition_function=batchbald_redux.baseline_acquisition_functions.VariationRatios,\n",
      "        # class\n",
      "        model_trainer_factory=batchbald_redux.models.MnistModelTrainer,\n",
      "        stochastic_mode=batchbald_redux.batchbald.StochasticMode.Softrank\n",
      "    ),\n",
      "    batchbald_redux.unified_experiment.UnifiedExperiment(\n",
      "        seed=45685,\n",
      "        experiment_data_config=batchbald_redux.experiment_data.StandardExperimentDataConfig(\n",
      "            id_dataset_name='MNIST',\n",
      "            id_repetitions=4,\n",
      "            initial_training_set_size=20,\n",
      "            validation_set_size=4096,\n",
      "            validation_split_random_state=0,\n",
      "            evaluation_set_size=0,\n",
      "            add_dataset_noise=True,\n",
      "            ood_dataset_config=None\n",
      "        ),\n",
      "        acquisition_size=10,\n",
      "        max_training_set=300,\n",
      "        # class\n",
      "        acquisition_function=batchbald_redux.baseline_acquisition_functions.Margin,\n",
      "        # class\n",
      "        model_trainer_factory=batchbald_redux.models.MnistModelTrainer,\n",
      "        stochastic_mode=batchbald_redux.batchbald.StochasticMode.Softrank\n",
      "    ),\n",
      "    batchbald_redux.unified_experiment.UnifiedExperiment(\n",
      "        seed=45685,\n",
      "        experiment_data_config=batchbald_redux.experiment_data.StandardExperimentDataConfig(\n",
      "            id_dataset_name='MNIST',\n",
      "            id_repetitions=4,\n",
      "            initial_training_set_size=20,\n",
      "            validation_set_size=4096,\n",
      "            validation_split_random_state=0,\n",
      "            evaluation_set_size=0,\n",
      "            add_dataset_noise=True,\n",
      "            ood_dataset_config=None\n",
      "        ),\n",
      "        acquisition_size=10,\n",
      "        max_training_set=300,\n",
      "        # class\n",
      "        acquisition_function=batchbald_redux.baseline_acquisition_functions.StdDev,\n",
      "        # class\n",
      "        model_trainer_factory=batchbald_redux.models.MnistModelTrainer,\n",
      "        stochastic_mode=batchbald_redux.batchbald.StochasticMode.Softrank\n",
      "    ),\n",
      "    batchbald_redux.unified_experiment.UnifiedExperiment(\n",
      "        seed=45685,\n",
      "        experiment_data_config=batchbald_redux.experiment_data.StandardExperimentDataConfig(\n",
      "            id_dataset_name='MNIST',\n",
      "            id_repetitions=4,\n",
      "            initial_training_set_size=20,\n",
      "            validation_set_size=4096,\n",
      "            validation_split_random_state=0,\n",
      "            evaluation_set_size=0,\n",
      "            add_dataset_noise=True,\n",
      "            ood_dataset_config=None\n",
      "        ),\n",
      "        acquisition_size=10,\n",
      "        max_training_set=300,\n",
      "        # class\n",
      "        acquisition_function=batchbald_redux.baseline_acquisition_functions.VariationRatios,\n",
      "        # class\n",
      "        model_trainer_factory=batchbald_redux.models.MnistModelTrainer,\n",
      "        stochastic_mode=batchbald_redux.batchbald.StochasticMode.Power\n",
      "    ),\n",
      "    batchbald_redux.unified_experiment.UnifiedExperiment(\n",
      "        seed=45685,\n",
      "        experiment_data_config=batchbald_redux.experiment_data.StandardExperimentDataConfig(\n",
      "            id_dataset_name='MNIST',\n",
      "            id_repetitions=4,\n",
      "            initial_training_set_size=20,\n",
      "            validation_set_size=4096,\n",
      "            validation_split_random_state=0,\n",
      "            evaluation_set_size=0,\n",
      "            add_dataset_noise=True,\n",
      "            ood_dataset_config=None\n",
      "        ),\n",
      "        acquisition_size=10,\n",
      "        max_training_set=300,\n",
      "        # class\n",
      "        acquisition_function=batchbald_redux.baseline_acquisition_functions.Margin,\n",
      "        # class\n",
      "        model_trainer_factory=batchbald_redux.models.MnistModelTrainer,\n",
      "        stochastic_mode=batchbald_redux.batchbald.StochasticMode.Power\n",
      "    ),\n",
      "    batchbald_redux.unified_experiment.UnifiedExperiment(\n",
      "        seed=45685,\n",
      "        experiment_data_config=batchbald_redux.experiment_data.StandardExperimentDataConfig(\n",
      "            id_dataset_name='MNIST',\n",
      "            id_repetitions=4,\n",
      "            initial_training_set_size=20,\n",
      "            validation_set_size=4096,\n",
      "            validation_split_random_state=0,\n",
      "            evaluation_set_size=0,\n",
      "            add_dataset_noise=True,\n",
      "            ood_dataset_config=None\n",
      "        ),\n",
      "        acquisition_size=10,\n",
      "        max_training_set=300,\n",
      "        # class\n",
      "        acquisition_function=batchbald_redux.baseline_acquisition_functions.StdDev,\n",
      "        # class\n",
      "        model_trainer_factory=batchbald_redux.models.MnistModelTrainer,\n",
      "        stochastic_mode=batchbald_redux.batchbald.StochasticMode.Power\n",
      "    ),\n",
      "    batchbald_redux.unified_experiment.UnifiedExperiment(\n",
      "        seed=45685,\n",
      "        experiment_data_config=batchbald_redux.experiment_data.StandardExperimentDataConfig(\n",
      "            id_dataset_name='MNIST',\n",
      "            id_repetitions=4,\n",
      "            initial_training_set_size=20,\n",
      "            validation_set_size=4096,\n",
      "            validation_split_random_state=0,\n",
      "            evaluation_set_size=0,\n",
      "            add_dataset_noise=True,\n",
      "            ood_dataset_config=None\n",
      "        ),\n",
      "        acquisition_size=10,\n",
      "        max_training_set=300,\n",
      "        # class\n",
      "        acquisition_function=batchbald_redux.baseline_acquisition_functions.VariationRatios,\n",
      "        # class\n",
      "        model_trainer_factory=batchbald_redux.models.MnistModelTrainer,\n",
      "        stochastic_mode=batchbald_redux.batchbald.StochasticMode.Softmax\n",
      "    ),\n",
      "    batchbald_redux.unified_experiment.UnifiedExperiment(\n",
      "        seed=45685,\n",
      "        experiment_data_config=batchbald_redux.experiment_data.StandardExperimentDataConfig(\n",
      "            id_dataset_name='MNIST',\n",
      "            id_repetitions=4,\n",
      "            initial_training_set_size=20,\n",
      "            validation_set_size=4096,\n",
      "            validation_split_random_state=0,\n",
      "            evaluation_set_size=0,\n",
      "            add_dataset_noise=True,\n",
      "            ood_dataset_config=None\n",
      "        ),\n",
      "        acquisition_size=10,\n",
      "        max_training_set=300,\n",
      "        # class\n",
      "        acquisition_function=batchbald_redux.baseline_acquisition_functions.Margin,\n",
      "        # class\n",
      "        model_trainer_factory=batchbald_redux.models.MnistModelTrainer,\n",
      "        stochastic_mode=batchbald_redux.batchbald.StochasticMode.Softmax\n",
      "    ),\n",
      "    batchbald_redux.unified_experiment.UnifiedExperiment(\n",
      "        seed=45685,\n",
      "        experiment_data_config=batchbald_redux.experiment_data.StandardExperimentDataConfig(\n",
      "            id_dataset_name='MNIST',\n",
      "            id_repetitions=4,\n",
      "            initial_training_set_size=20,\n",
      "            validation_set_size=4096,\n",
      "            validation_split_random_state=0,\n",
      "            evaluation_set_size=0,\n",
      "            add_dataset_noise=True,\n",
      "            ood_dataset_config=None\n",
      "        ),\n",
      "        acquisition_size=10,\n",
      "        max_training_set=300,\n",
      "        # class\n",
      "        acquisition_function=batchbald_redux.baseline_acquisition_functions.StdDev,\n",
      "        # class\n",
      "        model_trainer_factory=batchbald_redux.models.MnistModelTrainer,\n",
      "        stochastic_mode=batchbald_redux.batchbald.StochasticMode.Softmax\n",
      "    ),\n",
      "    batchbald_redux.unified_experiment.UnifiedExperiment(\n",
      "        seed=45685,\n",
      "        experiment_data_config=batchbald_redux.experiment_data.StandardExperimentDataConfig(\n",
      "            id_dataset_name='MNIST',\n",
      "            id_repetitions=4,\n",
      "            initial_training_set_size=20,\n",
      "            validation_set_size=4096,\n",
      "            validation_split_random_state=0,\n",
      "            evaluation_set_size=0,\n",
      "            add_dataset_noise=True,\n",
      "            ood_dataset_config=None\n",
      "        ),\n",
      "        acquisition_size=10,\n",
      "        max_training_set=300,\n",
      "        # class\n",
      "        acquisition_function=batchbald_redux.baseline_acquisition_functions.VariationRatios,\n",
      "        # class\n",
      "        model_trainer_factory=batchbald_redux.models.MnistModelTrainer,\n",
      "        stochastic_mode=batchbald_redux.batchbald.StochasticMode.TopK\n",
      "    ),\n",
      "    batchbald_redux.unified_experiment.UnifiedExperiment(\n",
      "        seed=45685,\n",
      "        experiment_data_config=batchbald_redux.experiment_data.StandardExperimentDataConfig(\n",
      "            id_dataset_name='MNIST',\n",
      "            id_repetitions=4,\n",
      "            initial_training_set_size=20,\n",
      "            validation_set_size=4096,\n",
      "            validation_split_random_state=0,\n",
      "            evaluation_set_size=0,\n",
      "            add_dataset_noise=True,\n",
      "            ood_dataset_config=None\n",
      "        ),\n",
      "        acquisition_size=10,\n",
      "        max_training_set=300,\n",
      "        # class\n",
      "        acquisition_function=batchbald_redux.baseline_acquisition_functions.Margin,\n",
      "        # class\n",
      "        model_trainer_factory=batchbald_redux.models.MnistModelTrainer,\n",
      "        stochastic_mode=batchbald_redux.batchbald.StochasticMode.TopK\n",
      "    ),\n",
      "    batchbald_redux.unified_experiment.UnifiedExperiment(\n",
      "        seed=45685,\n",
      "        experiment_data_config=batchbald_redux.experiment_data.StandardExperimentDataConfig(\n",
      "            id_dataset_name='MNIST',\n",
      "            id_repetitions=4,\n",
      "            initial_training_set_size=20,\n",
      "            validation_set_size=4096,\n",
      "            validation_split_random_state=0,\n",
      "            evaluation_set_size=0,\n",
      "            add_dataset_noise=True,\n",
      "            ood_dataset_config=None\n",
      "        ),\n",
      "        acquisition_size=10,\n",
      "        max_training_set=300,\n",
      "        # class\n",
      "        acquisition_function=batchbald_redux.baseline_acquisition_functions.StdDev,\n",
      "        # class\n",
      "        model_trainer_factory=batchbald_redux.models.MnistModelTrainer,\n",
      "        stochastic_mode=batchbald_redux.batchbald.StochasticMode.TopK\n",
      "    ),\n",
      "    batchbald_redux.unified_experiment.UnifiedExperiment(\n",
      "        seed=45686,\n",
      "        experiment_data_config=batchbald_redux.experiment_data.StandardExperimentDataConfig(\n",
      "            id_dataset_name='MNIST',\n",
      "            id_repetitions=4,\n",
      "            initial_training_set_size=20,\n",
      "            validation_set_size=4096,\n",
      "            validation_split_random_state=0,\n",
      "            evaluation_set_size=0,\n",
      "            add_dataset_noise=True,\n",
      "            ood_dataset_config=None\n",
      "        ),\n",
      "        acquisition_size=10,\n",
      "        max_training_set=300,\n",
      "        # class\n",
      "        acquisition_function=batchbald_redux.baseline_acquisition_functions.VariationRatios,\n",
      "        # class\n",
      "        model_trainer_factory=batchbald_redux.models.MnistModelTrainer,\n",
      "        stochastic_mode=batchbald_redux.batchbald.StochasticMode.Softrank\n",
      "    ),\n",
      "    batchbald_redux.unified_experiment.UnifiedExperiment(\n",
      "        seed=45686,\n",
      "        experiment_data_config=batchbald_redux.experiment_data.StandardExperimentDataConfig(\n",
      "            id_dataset_name='MNIST',\n",
      "            id_repetitions=4,\n",
      "            initial_training_set_size=20,\n",
      "            validation_set_size=4096,\n",
      "            validation_split_random_state=0,\n",
      "            evaluation_set_size=0,\n",
      "            add_dataset_noise=True,\n",
      "            ood_dataset_config=None\n",
      "        ),\n",
      "        acquisition_size=10,\n",
      "        max_training_set=300,\n",
      "        # class\n",
      "        acquisition_function=batchbald_redux.baseline_acquisition_functions.Margin,\n",
      "        # class\n",
      "        model_trainer_factory=batchbald_redux.models.MnistModelTrainer,\n",
      "        stochastic_mode=batchbald_redux.batchbald.StochasticMode.Softrank\n",
      "    ),\n",
      "    batchbald_redux.unified_experiment.UnifiedExperiment(\n",
      "        seed=45686,\n",
      "        experiment_data_config=batchbald_redux.experiment_data.StandardExperimentDataConfig(\n",
      "            id_dataset_name='MNIST',\n",
      "            id_repetitions=4,\n",
      "            initial_training_set_size=20,\n",
      "            validation_set_size=4096,\n",
      "            validation_split_random_state=0,\n",
      "            evaluation_set_size=0,\n",
      "            add_dataset_noise=True,\n",
      "            ood_dataset_config=None\n",
      "        ),\n",
      "        acquisition_size=10,\n",
      "        max_training_set=300,\n",
      "        # class\n",
      "        acquisition_function=batchbald_redux.baseline_acquisition_functions.StdDev,\n",
      "        # class\n",
      "        model_trainer_factory=batchbald_redux.models.MnistModelTrainer,\n",
      "        stochastic_mode=batchbald_redux.batchbald.StochasticMode.Softrank\n",
      "    ),\n",
      "    batchbald_redux.unified_experiment.UnifiedExperiment(\n",
      "        seed=45686,\n",
      "        experiment_data_config=batchbald_redux.experiment_data.StandardExperimentDataConfig(\n",
      "            id_dataset_name='MNIST',\n",
      "            id_repetitions=4,\n",
      "            initial_training_set_size=20,\n",
      "            validation_set_size=4096,\n",
      "            validation_split_random_state=0,\n",
      "            evaluation_set_size=0,\n",
      "            add_dataset_noise=True,\n",
      "            ood_dataset_config=None\n",
      "        ),\n",
      "        acquisition_size=10,\n",
      "        max_training_set=300,\n",
      "        # class\n",
      "        acquisition_function=batchbald_redux.baseline_acquisition_functions.VariationRatios,\n",
      "        # class\n",
      "        model_trainer_factory=batchbald_redux.models.MnistModelTrainer,\n",
      "        stochastic_mode=batchbald_redux.batchbald.StochasticMode.Power\n",
      "    ),\n",
      "    batchbald_redux.unified_experiment.UnifiedExperiment(\n",
      "        seed=45686,\n",
      "        experiment_data_config=batchbald_redux.experiment_data.StandardExperimentDataConfig(\n",
      "            id_dataset_name='MNIST',\n",
      "            id_repetitions=4,\n",
      "            initial_training_set_size=20,\n",
      "            validation_set_size=4096,\n",
      "            validation_split_random_state=0,\n",
      "            evaluation_set_size=0,\n",
      "            add_dataset_noise=True,\n",
      "            ood_dataset_config=None\n",
      "        ),\n",
      "        acquisition_size=10,\n",
      "        max_training_set=300,\n",
      "        # class\n",
      "        acquisition_function=batchbald_redux.baseline_acquisition_functions.Margin,\n",
      "        # class\n",
      "        model_trainer_factory=batchbald_redux.models.MnistModelTrainer,\n",
      "        stochastic_mode=batchbald_redux.batchbald.StochasticMode.Power\n",
      "    ),\n",
      "    batchbald_redux.unified_experiment.UnifiedExperiment(\n",
      "        seed=45686,\n",
      "        experiment_data_config=batchbald_redux.experiment_data.StandardExperimentDataConfig(\n",
      "            id_dataset_name='MNIST',\n",
      "            id_repetitions=4,\n",
      "            initial_training_set_size=20,\n",
      "            validation_set_size=4096,\n",
      "            validation_split_random_state=0,\n",
      "            evaluation_set_size=0,\n",
      "            add_dataset_noise=True,\n",
      "            ood_dataset_config=None\n",
      "        ),\n",
      "        acquisition_size=10,\n",
      "        max_training_set=300,\n",
      "        # class\n",
      "        acquisition_function=batchbald_redux.baseline_acquisition_functions.StdDev,\n",
      "        # class\n",
      "        model_trainer_factory=batchbald_redux.models.MnistModelTrainer,\n",
      "        stochastic_mode=batchbald_redux.batchbald.StochasticMode.Power\n",
      "    ),\n",
      "    batchbald_redux.unified_experiment.UnifiedExperiment(\n",
      "        seed=45686,\n",
      "        experiment_data_config=batchbald_redux.experiment_data.StandardExperimentDataConfig(\n",
      "            id_dataset_name='MNIST',\n",
      "            id_repetitions=4,\n",
      "            initial_training_set_size=20,\n",
      "            validation_set_size=4096,\n",
      "            validation_split_random_state=0,\n",
      "            evaluation_set_size=0,\n",
      "            add_dataset_noise=True,\n",
      "            ood_dataset_config=None\n",
      "        ),\n",
      "        acquisition_size=10,\n",
      "        max_training_set=300,\n",
      "        # class\n",
      "        acquisition_function=batchbald_redux.baseline_acquisition_functions.VariationRatios,\n",
      "        # class\n",
      "        model_trainer_factory=batchbald_redux.models.MnistModelTrainer,\n",
      "        stochastic_mode=batchbald_redux.batchbald.StochasticMode.Softmax\n",
      "    ),\n",
      "    batchbald_redux.unified_experiment.UnifiedExperiment(\n",
      "        seed=45686,\n",
      "        experiment_data_config=batchbald_redux.experiment_data.StandardExperimentDataConfig(\n",
      "            id_dataset_name='MNIST',\n",
      "            id_repetitions=4,\n",
      "            initial_training_set_size=20,\n",
      "            validation_set_size=4096,\n",
      "            validation_split_random_state=0,\n",
      "            evaluation_set_size=0,\n",
      "            add_dataset_noise=True,\n",
      "            ood_dataset_config=None\n",
      "        ),\n",
      "        acquisition_size=10,\n",
      "        max_training_set=300,\n",
      "        # class\n",
      "        acquisition_function=batchbald_redux.baseline_acquisition_functions.Margin,\n",
      "        # class\n",
      "        model_trainer_factory=batchbald_redux.models.MnistModelTrainer,\n",
      "        stochastic_mode=batchbald_redux.batchbald.StochasticMode.Softmax\n",
      "    ),\n",
      "    batchbald_redux.unified_experiment.UnifiedExperiment(\n",
      "        seed=45686,\n",
      "        experiment_data_config=batchbald_redux.experiment_data.StandardExperimentDataConfig(\n",
      "            id_dataset_name='MNIST',\n",
      "            id_repetitions=4,\n",
      "            initial_training_set_size=20,\n",
      "            validation_set_size=4096,\n",
      "            validation_split_random_state=0,\n",
      "            evaluation_set_size=0,\n",
      "            add_dataset_noise=True,\n",
      "            ood_dataset_config=None\n",
      "        ),\n",
      "        acquisition_size=10,\n",
      "        max_training_set=300,\n",
      "        # class\n",
      "        acquisition_function=batchbald_redux.baseline_acquisition_functions.StdDev,\n",
      "        # class\n",
      "        model_trainer_factory=batchbald_redux.models.MnistModelTrainer,\n",
      "        stochastic_mode=batchbald_redux.batchbald.StochasticMode.Softmax\n",
      "    ),\n",
      "    batchbald_redux.unified_experiment.UnifiedExperiment(\n",
      "        seed=45686,\n",
      "        experiment_data_config=batchbald_redux.experiment_data.StandardExperimentDataConfig(\n",
      "            id_dataset_name='MNIST',\n",
      "            id_repetitions=4,\n",
      "            initial_training_set_size=20,\n",
      "            validation_set_size=4096,\n",
      "            validation_split_random_state=0,\n",
      "            evaluation_set_size=0,\n",
      "            add_dataset_noise=True,\n",
      "            ood_dataset_config=None\n",
      "        ),\n",
      "        acquisition_size=10,\n",
      "        max_training_set=300,\n",
      "        # class\n",
      "        acquisition_function=batchbald_redux.baseline_acquisition_functions.VariationRatios,\n",
      "        # class\n",
      "        model_trainer_factory=batchbald_redux.models.MnistModelTrainer,\n",
      "        stochastic_mode=batchbald_redux.batchbald.StochasticMode.TopK\n",
      "    ),\n",
      "    batchbald_redux.unified_experiment.UnifiedExperiment(\n",
      "        seed=45686,\n",
      "        experiment_data_config=batchbald_redux.experiment_data.StandardExperimentDataConfig(\n",
      "            id_dataset_name='MNIST',\n",
      "            id_repetitions=4,\n",
      "            initial_training_set_size=20,\n",
      "            validation_set_size=4096,\n",
      "            validation_split_random_state=0,\n",
      "            evaluation_set_size=0,\n",
      "            add_dataset_noise=True,\n",
      "            ood_dataset_config=None\n",
      "        ),\n",
      "        acquisition_size=10,\n",
      "        max_training_set=300,\n",
      "        # class\n",
      "        acquisition_function=batchbald_redux.baseline_acquisition_functions.Margin,\n",
      "        # class\n",
      "        model_trainer_factory=batchbald_redux.models.MnistModelTrainer,\n",
      "        stochastic_mode=batchbald_redux.batchbald.StochasticMode.TopK\n",
      "    ),\n",
      "    batchbald_redux.unified_experiment.UnifiedExperiment(\n",
      "        seed=45686,\n",
      "        experiment_data_config=batchbald_redux.experiment_data.StandardExperimentDataConfig(\n",
      "            id_dataset_name='MNIST',\n",
      "            id_repetitions=4,\n",
      "            initial_training_set_size=20,\n",
      "            validation_set_size=4096,\n",
      "            validation_split_random_state=0,\n",
      "            evaluation_set_size=0,\n",
      "            add_dataset_noise=True,\n",
      "            ood_dataset_config=None\n",
      "        ),\n",
      "        acquisition_size=10,\n",
      "        max_training_set=300,\n",
      "        # class\n",
      "        acquisition_function=batchbald_redux.baseline_acquisition_functions.StdDev,\n",
      "        # class\n",
      "        model_trainer_factory=batchbald_redux.models.MnistModelTrainer,\n",
      "        stochastic_mode=batchbald_redux.batchbald.StochasticMode.TopK\n",
      "    )\n",
      "]\n"
     ]
    }
   ],
   "source": [
    "import prettyprinter\n",
    "\n",
    "prettyprinter.install_extras({\"dataclasses\"})\n",
    "prettyprinter.pprint(configs)"
   ]
  },
  {
   "cell_type": "code",
   "execution_count": null,
   "metadata": {},
   "outputs": [
    {
     "data": {
      "text/html": [
       "wandb version 0.12.14 is available!  To upgrade, please run:\n",
       " $ pip install wandb --upgrade"
      ],
      "text/plain": [
       "<IPython.core.display.HTML object>"
      ]
     },
     "metadata": {},
     "output_type": "display_data"
    },
    {
     "data": {
      "text/html": [
       "Tracking run with wandb version 0.12.11"
      ],
      "text/plain": [
       "<IPython.core.display.HTML object>"
      ]
     },
     "metadata": {},
     "output_type": "display_data"
    },
    {
     "data": {
      "text/html": [
       "Run data is saved locally in <code>/home/blackhc/PycharmProjects/bald-ical/wandb/run-20220409_015026-r01tbhbe</code>"
      ],
      "text/plain": [
       "<IPython.core.display.HTML object>"
      ]
     },
     "metadata": {},
     "output_type": "display_data"
    },
    {
     "data": {
      "text/html": [
       "Syncing run <strong><a href=\"https://wandb.ai/oatml-andreas-kirsch/balds/runs/r01tbhbe\" target=\"_blank\">dainty-snow-60</a></strong> to <a href=\"https://wandb.ai/oatml-andreas-kirsch/balds\" target=\"_blank\">Weights & Biases</a> (<a href=\"https://wandb.me/run\" target=\"_blank\">docs</a>)<br/>"
      ],
      "text/plain": [
       "<IPython.core.display.HTML object>"
      ]
     },
     "metadata": {},
     "output_type": "display_data"
    },
    {
     "name": "stdout",
     "output_type": "stream",
     "text": [
      "StandardExperimentDataConfig(id_dataset_name='MNIST', id_repetitions=1, initial_training_set_size=20, validation_set_size=4096, validation_split_random_state=0, evaluation_set_size=0, add_dataset_noise=True, ood_dataset_config=None)\n",
      "Creating: Margin(\n",
      "\tacquisition_size=10,\n",
      "\tnum_pool_samples=5,\n",
      "\tcoldness=1.0,\n",
      "\tstochastic_mode=StochasticMode.Softrank\n",
      ")\n",
      "Creating: MnistModelTrainer(\n",
      "\tdevice=cuda,\n",
      "\tnum_training_samples=1,\n",
      "\tnum_validation_samples=20,\n",
      "\tmax_training_epochs=10\n",
      ")\n",
      "Creating: TrainSelfDistillationEvalModel(\n",
      "\tnum_pool_samples=5\n",
      ")\n",
      "Training set size 20:\n"
     ]
    },
    {
     "name": "stderr",
     "output_type": "stream",
     "text": [
      "/home/blackhc/anaconda3/envs/active_learning/lib/python3.8/site-packages/sklearn/utils/__init__.py:1102: DeprecationWarning: `np.int` is a deprecated alias for the builtin `int`. To silence this warning, use `int` by itself. Doing this will not modify any behavior and is safe. When replacing `np.int`, you may wish to use e.g. `np.int64` or `np.int32` to specify the precision. If you wish to review your current use, check the release note link for additional information.\n",
      "Deprecated in NumPy 1.20; for more details and guidance: https://numpy.org/devdocs/release/1.20.0-notes.html#deprecations\n",
      "  return floored.astype(np.int)\n",
      "/home/blackhc/anaconda3/envs/active_learning/lib/python3.8/site-packages/sklearn/utils/__init__.py:1102: DeprecationWarning: `np.int` is a deprecated alias for the builtin `int`. To silence this warning, use `int` by itself. Doing this will not modify any behavior and is safe. When replacing `np.int`, you may wish to use e.g. `np.int64` or `np.int32` to specify the precision. If you wish to review your current use, check the release note link for additional information.\n",
      "Deprecated in NumPy 1.20; for more details and guidance: https://numpy.org/devdocs/release/1.20.0-notes.html#deprecations\n",
      "  return floored.astype(np.int)\n"
     ]
    },
    {
     "data": {
      "application/vnd.jupyter.widget-view+json": {
       "model_id": "1f7ccaf83d18462ea21f3926d7f61d4a",
       "version_major": 2,
       "version_minor": 0
      },
      "text/plain": [
       " 10%|#         | 1/10 [00:00<?, ?it/s]"
      ]
     },
     "metadata": {},
     "output_type": "display_data"
    },
    {
     "data": {
      "application/vnd.jupyter.widget-view+json": {
       "model_id": "",
       "version_major": 2,
       "version_minor": 0
      },
      "text/plain": [
       "[1/16]   6%|6          [00:00<?]"
      ]
     },
     "metadata": {},
     "output_type": "display_data"
    },
    {
     "data": {
      "application/vnd.jupyter.widget-view+json": {
       "model_id": "",
       "version_major": 2,
       "version_minor": 0
      },
      "text/plain": [
       "[1/32]   3%|3          [00:00<?]"
      ]
     },
     "metadata": {},
     "output_type": "display_data"
    },
    {
     "name": "stdout",
     "output_type": "stream",
     "text": [
      "Epoch metrics: {'accuracy': 0.5673828125, 'crossentropy': 1.7381194829940796}\n"
     ]
    },
    {
     "data": {
      "application/vnd.jupyter.widget-view+json": {
       "model_id": "",
       "version_major": 2,
       "version_minor": 0
      },
      "text/plain": [
       "[1/16]   6%|6          [00:00<?]"
      ]
     },
     "metadata": {},
     "output_type": "display_data"
    },
    {
     "data": {
      "application/vnd.jupyter.widget-view+json": {
       "model_id": "",
       "version_major": 2,
       "version_minor": 0
      },
      "text/plain": [
       "[1/32]   3%|3          [00:00<?]"
      ]
     },
     "metadata": {},
     "output_type": "display_data"
    },
    {
     "name": "stdout",
     "output_type": "stream",
     "text": [
      "Epoch metrics: {'accuracy': 0.69873046875, 'crossentropy': 1.05389404296875}\n"
     ]
    },
    {
     "data": {
      "application/vnd.jupyter.widget-view+json": {
       "model_id": "",
       "version_major": 2,
       "version_minor": 0
      },
      "text/plain": [
       "[1/16]   6%|6          [00:00<?]"
      ]
     },
     "metadata": {},
     "output_type": "display_data"
    },
    {
     "data": {
      "application/vnd.jupyter.widget-view+json": {
       "model_id": "",
       "version_major": 2,
       "version_minor": 0
      },
      "text/plain": [
       "[1/32]   3%|3          [00:00<?]"
      ]
     },
     "metadata": {},
     "output_type": "display_data"
    },
    {
     "name": "stdout",
     "output_type": "stream",
     "text": [
      "Epoch metrics: {'accuracy': 0.716064453125, 'crossentropy': 0.9612200856208801}\n"
     ]
    },
    {
     "data": {
      "application/vnd.jupyter.widget-view+json": {
       "model_id": "",
       "version_major": 2,
       "version_minor": 0
      },
      "text/plain": [
       "[1/16]   6%|6          [00:00<?]"
      ]
     },
     "metadata": {},
     "output_type": "display_data"
    },
    {
     "data": {
      "application/vnd.jupyter.widget-view+json": {
       "model_id": "",
       "version_major": 2,
       "version_minor": 0
      },
      "text/plain": [
       "[1/32]   3%|3          [00:00<?]"
      ]
     },
     "metadata": {},
     "output_type": "display_data"
    },
    {
     "name": "stdout",
     "output_type": "stream",
     "text": [
      "Epoch metrics: {'accuracy': 0.69189453125, 'crossentropy': 1.0346258878707886}\n",
      "RestoringEarlyStopping: 1 / 20\n"
     ]
    },
    {
     "data": {
      "application/vnd.jupyter.widget-view+json": {
       "model_id": "",
       "version_major": 2,
       "version_minor": 0
      },
      "text/plain": [
       "[1/16]   6%|6          [00:00<?]"
      ]
     },
     "metadata": {},
     "output_type": "display_data"
    },
    {
     "data": {
      "application/vnd.jupyter.widget-view+json": {
       "model_id": "",
       "version_major": 2,
       "version_minor": 0
      },
      "text/plain": [
       "[1/32]   3%|3          [00:00<?]"
      ]
     },
     "metadata": {},
     "output_type": "display_data"
    },
    {
     "name": "stdout",
     "output_type": "stream",
     "text": [
      "Epoch metrics: {'accuracy': 0.71875, 'crossentropy': 0.9586613774299622}\n"
     ]
    },
    {
     "data": {
      "application/vnd.jupyter.widget-view+json": {
       "model_id": "",
       "version_major": 2,
       "version_minor": 0
      },
      "text/plain": [
       "[1/16]   6%|6          [00:00<?]"
      ]
     },
     "metadata": {},
     "output_type": "display_data"
    },
    {
     "data": {
      "application/vnd.jupyter.widget-view+json": {
       "model_id": "",
       "version_major": 2,
       "version_minor": 0
      },
      "text/plain": [
       "[1/32]   3%|3          [00:00<?]"
      ]
     },
     "metadata": {},
     "output_type": "display_data"
    },
    {
     "name": "stdout",
     "output_type": "stream",
     "text": [
      "Epoch metrics: {'accuracy': 0.703369140625, 'crossentropy': 1.0060653686523438}\n",
      "RestoringEarlyStopping: 1 / 20\n"
     ]
    },
    {
     "data": {
      "application/vnd.jupyter.widget-view+json": {
       "model_id": "",
       "version_major": 2,
       "version_minor": 0
      },
      "text/plain": [
       "[1/16]   6%|6          [00:00<?]"
      ]
     },
     "metadata": {},
     "output_type": "display_data"
    },
    {
     "data": {
      "application/vnd.jupyter.widget-view+json": {
       "model_id": "",
       "version_major": 2,
       "version_minor": 0
      },
      "text/plain": [
       "[1/32]   3%|3          [00:00<?]"
      ]
     },
     "metadata": {},
     "output_type": "display_data"
    },
    {
     "name": "stdout",
     "output_type": "stream",
     "text": [
      "Epoch metrics: {'accuracy': 0.697509765625, 'crossentropy': 1.0430282354354858}\n",
      "RestoringEarlyStopping: 2 / 20\n"
     ]
    },
    {
     "data": {
      "application/vnd.jupyter.widget-view+json": {
       "model_id": "",
       "version_major": 2,
       "version_minor": 0
      },
      "text/plain": [
       "[1/16]   6%|6          [00:00<?]"
      ]
     },
     "metadata": {},
     "output_type": "display_data"
    },
    {
     "data": {
      "application/vnd.jupyter.widget-view+json": {
       "model_id": "",
       "version_major": 2,
       "version_minor": 0
      },
      "text/plain": [
       "[1/32]   3%|3          [00:00<?]"
      ]
     },
     "metadata": {},
     "output_type": "display_data"
    },
    {
     "name": "stdout",
     "output_type": "stream",
     "text": [
      "Epoch metrics: {'accuracy': 0.700439453125, 'crossentropy': 1.0277293920516968}\n",
      "RestoringEarlyStopping: 3 / 20\n"
     ]
    },
    {
     "data": {
      "application/vnd.jupyter.widget-view+json": {
       "model_id": "",
       "version_major": 2,
       "version_minor": 0
      },
      "text/plain": [
       "[1/16]   6%|6          [00:00<?]"
      ]
     },
     "metadata": {},
     "output_type": "display_data"
    },
    {
     "data": {
      "application/vnd.jupyter.widget-view+json": {
       "model_id": "",
       "version_major": 2,
       "version_minor": 0
      },
      "text/plain": [
       "[1/32]   3%|3          [00:00<?]"
      ]
     },
     "metadata": {},
     "output_type": "display_data"
    },
    {
     "name": "stdout",
     "output_type": "stream",
     "text": [
      "Epoch metrics: {'accuracy': 0.713623046875, 'crossentropy': 0.9747101068496704}\n",
      "RestoringEarlyStopping: 4 / 20\n"
     ]
    },
    {
     "data": {
      "application/vnd.jupyter.widget-view+json": {
       "model_id": "",
       "version_major": 2,
       "version_minor": 0
      },
      "text/plain": [
       "[1/16]   6%|6          [00:00<?]"
      ]
     },
     "metadata": {},
     "output_type": "display_data"
    },
    {
     "data": {
      "application/vnd.jupyter.widget-view+json": {
       "model_id": "",
       "version_major": 2,
       "version_minor": 0
      },
      "text/plain": [
       "[1/32]   3%|3          [00:00<?]"
      ]
     },
     "metadata": {},
     "output_type": "display_data"
    },
    {
     "name": "stdout",
     "output_type": "stream",
     "text": [
      "Epoch metrics: {'accuracy': 0.70068359375, 'crossentropy': 1.0761628150939941}\n",
      "RestoringEarlyStopping: 5 / 20\n",
      "RestoringEarlyStopping: Restoring best parameters. (Score: 0.71875)\n",
      "RestoringEarlyStopping: Restoring optimizer.\n",
      "{'model_training/val_metrics': <wandb.data_types.Table object at 0x7f450947d310>, 'model_training/best_epoch': 4, 'model_training/best_val_accuracy': 0.71875, 'model_training/best_val_crossentropy': 0.9586613774299622}\n"
     ]
    },
    {
     "data": {
      "application/vnd.jupyter.widget-view+json": {
       "model_id": "",
       "version_major": 2,
       "version_minor": 0
      },
      "text/plain": [
       "get_predictions_labels:   0%|          | 0/200000 [00:00<?, ?it/s]"
      ]
     },
     "metadata": {},
     "output_type": "display_data"
    },
    {
     "name": "stdout",
     "output_type": "stream",
     "text": [
      "Perf after training {'accuracy': 0.7182, 'crossentropy': tensor(1.0034), '_timestamp': 1649465442, '_runtime': 16}\n"
     ]
    },
    {
     "data": {
      "application/vnd.jupyter.widget-view+json": {
       "model_id": "",
       "version_major": 2,
       "version_minor": 0
      },
      "text/plain": [
       "get_predictions_labels:   0%|          | 0/279420 [00:00<?, ?it/s]"
      ]
     },
     "metadata": {},
     "output_type": "display_data"
    },
    {
     "name": "stdout",
     "output_type": "stream",
     "text": [
      "CandidateBatch(scores=[1.0971889192933144, 1.0745613480746856, 0.7581502369621891, 0.624441062343216, 0.31617748437451887, 0.3088879663984301, -0.013093537219388551, -0.042746505320259365, -0.05953453360466021, -0.19683450280223624], indices=[32729, 10064, 7865, 1067, 33232, 16966, 51360, 26321, 37416, 36512])\n",
      "[('id', 32744), ('id', 10066), ('id', 7867), ('id', 1067), ('id', 33248), ('id', 16970), ('id', 51380), ('id', 26333), ('id', 37433), ('id', 36529)]\n",
      "Acquiring (label, score)s: 0 (1.097), 9 (1.075), 2 (0.7582), 2 (0.6244), 2 (0.3162), 7 (0.3089), 9 (-0.01309), 8 (-0.04275), 2 (-0.05953), 5 (-0.1968)\n",
      "Training set size 30:\n"
     ]
    },
    {
     "data": {
      "application/vnd.jupyter.widget-view+json": {
       "model_id": "02d2f3f699c74da392880e2c8b00ae85",
       "version_major": 2,
       "version_minor": 0
      },
      "text/plain": [
       " 10%|#         | 1/10 [00:00<?, ?it/s]"
      ]
     },
     "metadata": {},
     "output_type": "display_data"
    },
    {
     "data": {
      "application/vnd.jupyter.widget-view+json": {
       "model_id": "",
       "version_major": 2,
       "version_minor": 0
      },
      "text/plain": [
       "[1/16]   6%|6          [00:00<?]"
      ]
     },
     "metadata": {},
     "output_type": "display_data"
    },
    {
     "data": {
      "application/vnd.jupyter.widget-view+json": {
       "model_id": "",
       "version_major": 2,
       "version_minor": 0
      },
      "text/plain": [
       "[1/32]   3%|3          [00:00<?]"
      ]
     },
     "metadata": {},
     "output_type": "display_data"
    },
    {
     "name": "stdout",
     "output_type": "stream",
     "text": [
      "Epoch metrics: {'accuracy': 0.328857421875, 'crossentropy': 1.8494492769241333}\n"
     ]
    },
    {
     "data": {
      "application/vnd.jupyter.widget-view+json": {
       "model_id": "",
       "version_major": 2,
       "version_minor": 0
      },
      "text/plain": [
       "[1/16]   6%|6          [00:00<?]"
      ]
     },
     "metadata": {},
     "output_type": "display_data"
    },
    {
     "data": {
      "application/vnd.jupyter.widget-view+json": {
       "model_id": "",
       "version_major": 2,
       "version_minor": 0
      },
      "text/plain": [
       "[1/32]   3%|3          [00:00<?]"
      ]
     },
     "metadata": {},
     "output_type": "display_data"
    },
    {
     "name": "stdout",
     "output_type": "stream",
     "text": [
      "Epoch metrics: {'accuracy': 0.673095703125, 'crossentropy': 1.118458867073059}\n"
     ]
    },
    {
     "data": {
      "application/vnd.jupyter.widget-view+json": {
       "model_id": "",
       "version_major": 2,
       "version_minor": 0
      },
      "text/plain": [
       "[1/16]   6%|6          [00:00<?]"
      ]
     },
     "metadata": {},
     "output_type": "display_data"
    },
    {
     "data": {
      "application/vnd.jupyter.widget-view+json": {
       "model_id": "",
       "version_major": 2,
       "version_minor": 0
      },
      "text/plain": [
       "[1/32]   3%|3          [00:00<?]"
      ]
     },
     "metadata": {},
     "output_type": "display_data"
    },
    {
     "name": "stdout",
     "output_type": "stream",
     "text": [
      "Epoch metrics: {'accuracy': 0.7236328125, 'crossentropy': 0.9033815860748291}\n"
     ]
    },
    {
     "data": {
      "application/vnd.jupyter.widget-view+json": {
       "model_id": "",
       "version_major": 2,
       "version_minor": 0
      },
      "text/plain": [
       "[1/16]   6%|6          [00:00<?]"
      ]
     },
     "metadata": {},
     "output_type": "display_data"
    },
    {
     "data": {
      "application/vnd.jupyter.widget-view+json": {
       "model_id": "",
       "version_major": 2,
       "version_minor": 0
      },
      "text/plain": [
       "[1/32]   3%|3          [00:00<?]"
      ]
     },
     "metadata": {},
     "output_type": "display_data"
    },
    {
     "name": "stdout",
     "output_type": "stream",
     "text": [
      "Epoch metrics: {'accuracy': 0.731201171875, 'crossentropy': 0.8905476927757263}\n"
     ]
    },
    {
     "data": {
      "application/vnd.jupyter.widget-view+json": {
       "model_id": "",
       "version_major": 2,
       "version_minor": 0
      },
      "text/plain": [
       "[1/16]   6%|6          [00:00<?]"
      ]
     },
     "metadata": {},
     "output_type": "display_data"
    },
    {
     "data": {
      "application/vnd.jupyter.widget-view+json": {
       "model_id": "",
       "version_major": 2,
       "version_minor": 0
      },
      "text/plain": [
       "[1/32]   3%|3          [00:00<?]"
      ]
     },
     "metadata": {},
     "output_type": "display_data"
    },
    {
     "name": "stdout",
     "output_type": "stream",
     "text": [
      "Epoch metrics: {'accuracy': 0.72412109375, 'crossentropy': 0.9458342790603638}\n",
      "RestoringEarlyStopping: 1 / 20\n"
     ]
    },
    {
     "data": {
      "application/vnd.jupyter.widget-view+json": {
       "model_id": "",
       "version_major": 2,
       "version_minor": 0
      },
      "text/plain": [
       "[1/16]   6%|6          [00:00<?]"
      ]
     },
     "metadata": {},
     "output_type": "display_data"
    },
    {
     "data": {
      "application/vnd.jupyter.widget-view+json": {
       "model_id": "",
       "version_major": 2,
       "version_minor": 0
      },
      "text/plain": [
       "[1/32]   3%|3          [00:00<?]"
      ]
     },
     "metadata": {},
     "output_type": "display_data"
    },
    {
     "name": "stdout",
     "output_type": "stream",
     "text": [
      "Epoch metrics: {'accuracy': 0.721435546875, 'crossentropy': 0.9552136063575745}\n",
      "RestoringEarlyStopping: 2 / 20\n"
     ]
    },
    {
     "data": {
      "application/vnd.jupyter.widget-view+json": {
       "model_id": "",
       "version_major": 2,
       "version_minor": 0
      },
      "text/plain": [
       "[1/16]   6%|6          [00:00<?]"
      ]
     },
     "metadata": {},
     "output_type": "display_data"
    },
    {
     "data": {
      "application/vnd.jupyter.widget-view+json": {
       "model_id": "",
       "version_major": 2,
       "version_minor": 0
      },
      "text/plain": [
       "[1/32]   3%|3          [00:00<?]"
      ]
     },
     "metadata": {},
     "output_type": "display_data"
    },
    {
     "name": "stdout",
     "output_type": "stream",
     "text": [
      "Epoch metrics: {'accuracy': 0.7275390625, 'crossentropy': 0.9580408930778503}\n",
      "RestoringEarlyStopping: 3 / 20\n"
     ]
    },
    {
     "data": {
      "application/vnd.jupyter.widget-view+json": {
       "model_id": "",
       "version_major": 2,
       "version_minor": 0
      },
      "text/plain": [
       "[1/16]   6%|6          [00:00<?]"
      ]
     },
     "metadata": {},
     "output_type": "display_data"
    },
    {
     "data": {
      "application/vnd.jupyter.widget-view+json": {
       "model_id": "",
       "version_major": 2,
       "version_minor": 0
      },
      "text/plain": [
       "[1/32]   3%|3          [00:00<?]"
      ]
     },
     "metadata": {},
     "output_type": "display_data"
    },
    {
     "name": "stdout",
     "output_type": "stream",
     "text": [
      "Epoch metrics: {'accuracy': 0.717041015625, 'crossentropy': 1.0247968435287476}\n",
      "RestoringEarlyStopping: 4 / 20\n"
     ]
    },
    {
     "data": {
      "application/vnd.jupyter.widget-view+json": {
       "model_id": "",
       "version_major": 2,
       "version_minor": 0
      },
      "text/plain": [
       "[1/16]   6%|6          [00:00<?]"
      ]
     },
     "metadata": {},
     "output_type": "display_data"
    },
    {
     "data": {
      "application/vnd.jupyter.widget-view+json": {
       "model_id": "",
       "version_major": 2,
       "version_minor": 0
      },
      "text/plain": [
       "[1/32]   3%|3          [00:00<?]"
      ]
     },
     "metadata": {},
     "output_type": "display_data"
    },
    {
     "name": "stdout",
     "output_type": "stream",
     "text": [
      "Epoch metrics: {'accuracy': 0.727783203125, 'crossentropy': 1.0013161897659302}\n",
      "RestoringEarlyStopping: 5 / 20\n"
     ]
    },
    {
     "data": {
      "application/vnd.jupyter.widget-view+json": {
       "model_id": "",
       "version_major": 2,
       "version_minor": 0
      },
      "text/plain": [
       "[1/16]   6%|6          [00:00<?]"
      ]
     },
     "metadata": {},
     "output_type": "display_data"
    },
    {
     "data": {
      "application/vnd.jupyter.widget-view+json": {
       "model_id": "",
       "version_major": 2,
       "version_minor": 0
      },
      "text/plain": [
       "[1/32]   3%|3          [00:00<?]"
      ]
     },
     "metadata": {},
     "output_type": "display_data"
    },
    {
     "name": "stdout",
     "output_type": "stream",
     "text": [
      "Epoch metrics: {'accuracy': 0.736083984375, 'crossentropy': 0.9536265134811401}\n",
      "RestoringEarlyStopping: Restoring best parameters. (Score: 0.736083984375)\n",
      "RestoringEarlyStopping: Restoring optimizer.\n",
      "{'model_training/val_metrics': <wandb.data_types.Table object at 0x7f4508b56c70>, 'model_training/best_epoch': 9, 'model_training/best_val_accuracy': 0.736083984375, 'model_training/best_val_crossentropy': 0.9536265134811401}\n"
     ]
    },
    {
     "data": {
      "application/vnd.jupyter.widget-view+json": {
       "model_id": "",
       "version_major": 2,
       "version_minor": 0
      },
      "text/plain": [
       "get_predictions_labels:   0%|          | 0/200000 [00:00<?, ?it/s]"
      ]
     },
     "metadata": {},
     "output_type": "display_data"
    },
    {
     "name": "stdout",
     "output_type": "stream",
     "text": [
      "Perf after training {'accuracy': 0.7481, 'crossentropy': tensor(0.9182), '_timestamp': 1649465457, '_runtime': 31}\n"
     ]
    },
    {
     "data": {
      "application/vnd.jupyter.widget-view+json": {
       "model_id": "",
       "version_major": 2,
       "version_minor": 0
      },
      "text/plain": [
       "get_predictions_labels:   0%|          | 0/279370 [00:00<?, ?it/s]"
      ]
     },
     "metadata": {},
     "output_type": "display_data"
    },
    {
     "name": "stdout",
     "output_type": "stream",
     "text": [
      "CandidateBatch(scores=[2.6972575596120327, 1.8188307742523655, 1.3767223778732784, 1.061995242071113, 0.9073206365836821, 0.8739937389484469, 0.8421695191467062, 0.8011609121060284, 0.09328333204971084, 0.07273284427304993], indices=[8103, 34218, 35246, 25215, 16191, 5591, 44103, 7641, 9326, 13267])\n",
      "[('id', 8107), ('id', 34241), ('id', 35270), ('id', 25230), ('id', 16198), ('id', 5594), ('id', 44130), ('id', 7644), ('id', 9330), ('id', 13274)]\n",
      "Acquiring (label, score)s: 4 (2.697), 9 (1.819), 5 (1.377), 7 (1.062), 8 (0.9073), 6 (0.874), 3 (0.8422), 9 (0.8012), 8 (0.09328), 3 (0.07273)\n",
      "Training set size 40:\n"
     ]
    },
    {
     "data": {
      "application/vnd.jupyter.widget-view+json": {
       "model_id": "bc847f22c50a43908176c79bc8cf9543",
       "version_major": 2,
       "version_minor": 0
      },
      "text/plain": [
       " 10%|#         | 1/10 [00:00<?, ?it/s]"
      ]
     },
     "metadata": {},
     "output_type": "display_data"
    },
    {
     "data": {
      "application/vnd.jupyter.widget-view+json": {
       "model_id": "",
       "version_major": 2,
       "version_minor": 0
      },
      "text/plain": [
       "[1/16]   6%|6          [00:00<?]"
      ]
     },
     "metadata": {},
     "output_type": "display_data"
    },
    {
     "data": {
      "application/vnd.jupyter.widget-view+json": {
       "model_id": "",
       "version_major": 2,
       "version_minor": 0
      },
      "text/plain": [
       "[1/32]   3%|3          [00:00<?]"
      ]
     },
     "metadata": {},
     "output_type": "display_data"
    },
    {
     "name": "stdout",
     "output_type": "stream",
     "text": [
      "Epoch metrics: {'accuracy': 0.324951171875, 'crossentropy': 1.9972820281982422}\n"
     ]
    },
    {
     "data": {
      "application/vnd.jupyter.widget-view+json": {
       "model_id": "",
       "version_major": 2,
       "version_minor": 0
      },
      "text/plain": [
       "[1/16]   6%|6          [00:00<?]"
      ]
     },
     "metadata": {},
     "output_type": "display_data"
    },
    {
     "data": {
      "application/vnd.jupyter.widget-view+json": {
       "model_id": "",
       "version_major": 2,
       "version_minor": 0
      },
      "text/plain": [
       "[1/32]   3%|3          [00:00<?]"
      ]
     },
     "metadata": {},
     "output_type": "display_data"
    },
    {
     "name": "stdout",
     "output_type": "stream",
     "text": [
      "Epoch metrics: {'accuracy': 0.7041015625, 'crossentropy': 1.1217821836471558}\n"
     ]
    },
    {
     "data": {
      "application/vnd.jupyter.widget-view+json": {
       "model_id": "",
       "version_major": 2,
       "version_minor": 0
      },
      "text/plain": [
       "[1/16]   6%|6          [00:00<?]"
      ]
     },
     "metadata": {},
     "output_type": "display_data"
    },
    {
     "data": {
      "application/vnd.jupyter.widget-view+json": {
       "model_id": "",
       "version_major": 2,
       "version_minor": 0
      },
      "text/plain": [
       "[1/32]   3%|3          [00:00<?]"
      ]
     },
     "metadata": {},
     "output_type": "display_data"
    },
    {
     "name": "stdout",
     "output_type": "stream",
     "text": [
      "Epoch metrics: {'accuracy': 0.78369140625, 'crossentropy': 0.7896683216094971}\n"
     ]
    },
    {
     "data": {
      "application/vnd.jupyter.widget-view+json": {
       "model_id": "",
       "version_major": 2,
       "version_minor": 0
      },
      "text/plain": [
       "[1/16]   6%|6          [00:00<?]"
      ]
     },
     "metadata": {},
     "output_type": "display_data"
    },
    {
     "data": {
      "application/vnd.jupyter.widget-view+json": {
       "model_id": "",
       "version_major": 2,
       "version_minor": 0
      },
      "text/plain": [
       "[1/32]   3%|3          [00:00<?]"
      ]
     },
     "metadata": {},
     "output_type": "display_data"
    },
    {
     "name": "stdout",
     "output_type": "stream",
     "text": [
      "Epoch metrics: {'accuracy': 0.78662109375, 'crossentropy': 0.7998918294906616}\n"
     ]
    },
    {
     "data": {
      "application/vnd.jupyter.widget-view+json": {
       "model_id": "",
       "version_major": 2,
       "version_minor": 0
      },
      "text/plain": [
       "[1/16]   6%|6          [00:00<?]"
      ]
     },
     "metadata": {},
     "output_type": "display_data"
    },
    {
     "data": {
      "application/vnd.jupyter.widget-view+json": {
       "model_id": "",
       "version_major": 2,
       "version_minor": 0
      },
      "text/plain": [
       "[1/32]   3%|3          [00:00<?]"
      ]
     },
     "metadata": {},
     "output_type": "display_data"
    },
    {
     "name": "stdout",
     "output_type": "stream",
     "text": [
      "Epoch metrics: {'accuracy': 0.790771484375, 'crossentropy': 0.7024661302566528}\n"
     ]
    },
    {
     "data": {
      "application/vnd.jupyter.widget-view+json": {
       "model_id": "",
       "version_major": 2,
       "version_minor": 0
      },
      "text/plain": [
       "[1/16]   6%|6          [00:00<?]"
      ]
     },
     "metadata": {},
     "output_type": "display_data"
    },
    {
     "data": {
      "application/vnd.jupyter.widget-view+json": {
       "model_id": "",
       "version_major": 2,
       "version_minor": 0
      },
      "text/plain": [
       "[1/32]   3%|3          [00:00<?]"
      ]
     },
     "metadata": {},
     "output_type": "display_data"
    },
    {
     "name": "stdout",
     "output_type": "stream",
     "text": [
      "Epoch metrics: {'accuracy': 0.810791015625, 'crossentropy': 0.689978301525116}\n"
     ]
    },
    {
     "data": {
      "application/vnd.jupyter.widget-view+json": {
       "model_id": "",
       "version_major": 2,
       "version_minor": 0
      },
      "text/plain": [
       "[1/16]   6%|6          [00:00<?]"
      ]
     },
     "metadata": {},
     "output_type": "display_data"
    },
    {
     "data": {
      "application/vnd.jupyter.widget-view+json": {
       "model_id": "",
       "version_major": 2,
       "version_minor": 0
      },
      "text/plain": [
       "[1/32]   3%|3          [00:00<?]"
      ]
     },
     "metadata": {},
     "output_type": "display_data"
    },
    {
     "name": "stdout",
     "output_type": "stream",
     "text": [
      "Epoch metrics: {'accuracy': 0.804931640625, 'crossentropy': 0.6638153791427612}\n",
      "RestoringEarlyStopping: 1 / 20\n"
     ]
    },
    {
     "data": {
      "application/vnd.jupyter.widget-view+json": {
       "model_id": "",
       "version_major": 2,
       "version_minor": 0
      },
      "text/plain": [
       "[1/16]   6%|6          [00:00<?]"
      ]
     },
     "metadata": {},
     "output_type": "display_data"
    },
    {
     "data": {
      "application/vnd.jupyter.widget-view+json": {
       "model_id": "",
       "version_major": 2,
       "version_minor": 0
      },
      "text/plain": [
       "[1/32]   3%|3          [00:00<?]"
      ]
     },
     "metadata": {},
     "output_type": "display_data"
    },
    {
     "name": "stdout",
     "output_type": "stream",
     "text": [
      "Epoch metrics: {'accuracy': 0.806396484375, 'crossentropy': 0.6910675764083862}\n",
      "RestoringEarlyStopping: 2 / 20\n"
     ]
    },
    {
     "data": {
      "application/vnd.jupyter.widget-view+json": {
       "model_id": "",
       "version_major": 2,
       "version_minor": 0
      },
      "text/plain": [
       "[1/16]   6%|6          [00:00<?]"
      ]
     },
     "metadata": {},
     "output_type": "display_data"
    },
    {
     "data": {
      "application/vnd.jupyter.widget-view+json": {
       "model_id": "",
       "version_major": 2,
       "version_minor": 0
      },
      "text/plain": [
       "[1/32]   3%|3          [00:00<?]"
      ]
     },
     "metadata": {},
     "output_type": "display_data"
    },
    {
     "name": "stdout",
     "output_type": "stream",
     "text": [
      "Epoch metrics: {'accuracy': 0.822265625, 'crossentropy': 0.6523252129554749}\n"
     ]
    },
    {
     "data": {
      "application/vnd.jupyter.widget-view+json": {
       "model_id": "",
       "version_major": 2,
       "version_minor": 0
      },
      "text/plain": [
       "[1/16]   6%|6          [00:00<?]"
      ]
     },
     "metadata": {},
     "output_type": "display_data"
    },
    {
     "data": {
      "application/vnd.jupyter.widget-view+json": {
       "model_id": "",
       "version_major": 2,
       "version_minor": 0
      },
      "text/plain": [
       "[1/32]   3%|3          [00:00<?]"
      ]
     },
     "metadata": {},
     "output_type": "display_data"
    },
    {
     "name": "stdout",
     "output_type": "stream",
     "text": [
      "Epoch metrics: {'accuracy': 0.811279296875, 'crossentropy': 0.669406533241272}\n",
      "RestoringEarlyStopping: 1 / 20\n",
      "RestoringEarlyStopping: Restoring best parameters. (Score: 0.822265625)\n",
      "RestoringEarlyStopping: Restoring optimizer.\n",
      "{'model_training/val_metrics': <wandb.data_types.Table object at 0x7f4508b5c460>, 'model_training/best_epoch': 8, 'model_training/best_val_accuracy': 0.822265625, 'model_training/best_val_crossentropy': 0.6523252129554749}\n"
     ]
    },
    {
     "data": {
      "application/vnd.jupyter.widget-view+json": {
       "model_id": "",
       "version_major": 2,
       "version_minor": 0
      },
      "text/plain": [
       "get_predictions_labels:   0%|          | 0/200000 [00:00<?, ?it/s]"
      ]
     },
     "metadata": {},
     "output_type": "display_data"
    },
    {
     "name": "stdout",
     "output_type": "stream",
     "text": [
      "Perf after training {'accuracy': 0.8242, 'crossentropy': tensor(0.6429), '_timestamp': 1649465471, '_runtime': 45}\n"
     ]
    },
    {
     "data": {
      "application/vnd.jupyter.widget-view+json": {
       "model_id": "",
       "version_major": 2,
       "version_minor": 0
      },
      "text/plain": [
       "get_predictions_labels:   0%|          | 0/279320 [00:00<?, ?it/s]"
      ]
     },
     "metadata": {},
     "output_type": "display_data"
    },
    {
     "name": "stdout",
     "output_type": "stream",
     "text": [
      "CandidateBatch(scores=[1.8822952608007455, 1.7181624213265774, 1.3998275574864714, 0.5428222212136049, 0.40345698282053366, 0.38936372114389783, 0.38183592461354454, 0.3168887777448868, 0.21205917513200134, 0.1881728636246729], indices=[21240, 45479, 19888, 7367, 14360, 17912, 14357, 46550, 23705, 3096])\n",
      "[('id', 21257), ('id', 45517), ('id', 19904), ('id', 7371), ('id', 14372), ('id', 17927), ('id', 14369), ('id', 46588), ('id', 23722), ('id', 3097)]\n",
      "Acquiring (label, score)s: 8 (1.882), 9 (1.718), 0 (1.4), 1 (0.5428), 8 (0.4035), 5 (0.3894), 5 (0.3818), 9 (0.3169), 5 (0.2121), 2 (0.1882)\n",
      "Training set size 50:\n"
     ]
    },
    {
     "data": {
      "application/vnd.jupyter.widget-view+json": {
       "model_id": "089d1efa344043ef8921f83a91e70c86",
       "version_major": 2,
       "version_minor": 0
      },
      "text/plain": [
       " 10%|#         | 1/10 [00:00<?, ?it/s]"
      ]
     },
     "metadata": {},
     "output_type": "display_data"
    },
    {
     "data": {
      "application/vnd.jupyter.widget-view+json": {
       "model_id": "",
       "version_major": 2,
       "version_minor": 0
      },
      "text/plain": [
       "[1/16]   6%|6          [00:00<?]"
      ]
     },
     "metadata": {},
     "output_type": "display_data"
    },
    {
     "data": {
      "application/vnd.jupyter.widget-view+json": {
       "model_id": "",
       "version_major": 2,
       "version_minor": 0
      },
      "text/plain": [
       "[1/32]   3%|3          [00:00<?]"
      ]
     },
     "metadata": {},
     "output_type": "display_data"
    },
    {
     "name": "stdout",
     "output_type": "stream",
     "text": [
      "Epoch metrics: {'accuracy': 0.3154296875, 'crossentropy': 1.9851974248886108}\n"
     ]
    },
    {
     "data": {
      "application/vnd.jupyter.widget-view+json": {
       "model_id": "",
       "version_major": 2,
       "version_minor": 0
      },
      "text/plain": [
       "[1/16]   6%|6          [00:00<?]"
      ]
     },
     "metadata": {},
     "output_type": "display_data"
    },
    {
     "data": {
      "application/vnd.jupyter.widget-view+json": {
       "model_id": "",
       "version_major": 2,
       "version_minor": 0
      },
      "text/plain": [
       "[1/32]   3%|3          [00:00<?]"
      ]
     },
     "metadata": {},
     "output_type": "display_data"
    },
    {
     "name": "stdout",
     "output_type": "stream",
     "text": [
      "Epoch metrics: {'accuracy': 0.60400390625, 'crossentropy': 1.1929728984832764}\n"
     ]
    },
    {
     "data": {
      "application/vnd.jupyter.widget-view+json": {
       "model_id": "",
       "version_major": 2,
       "version_minor": 0
      },
      "text/plain": [
       "[1/16]   6%|6          [00:00<?]"
      ]
     },
     "metadata": {},
     "output_type": "display_data"
    },
    {
     "data": {
      "application/vnd.jupyter.widget-view+json": {
       "model_id": "",
       "version_major": 2,
       "version_minor": 0
      },
      "text/plain": [
       "[1/32]   3%|3          [00:00<?]"
      ]
     },
     "metadata": {},
     "output_type": "display_data"
    },
    {
     "name": "stdout",
     "output_type": "stream",
     "text": [
      "Epoch metrics: {'accuracy': 0.78076171875, 'crossentropy': 0.7797806859016418}\n"
     ]
    },
    {
     "data": {
      "application/vnd.jupyter.widget-view+json": {
       "model_id": "",
       "version_major": 2,
       "version_minor": 0
      },
      "text/plain": [
       "[1/16]   6%|6          [00:00<?]"
      ]
     },
     "metadata": {},
     "output_type": "display_data"
    },
    {
     "data": {
      "application/vnd.jupyter.widget-view+json": {
       "model_id": "",
       "version_major": 2,
       "version_minor": 0
      },
      "text/plain": [
       "[1/32]   3%|3          [00:00<?]"
      ]
     },
     "metadata": {},
     "output_type": "display_data"
    },
    {
     "name": "stdout",
     "output_type": "stream",
     "text": [
      "Epoch metrics: {'accuracy': 0.8173828125, 'crossentropy': 0.6657711267471313}\n"
     ]
    },
    {
     "data": {
      "application/vnd.jupyter.widget-view+json": {
       "model_id": "",
       "version_major": 2,
       "version_minor": 0
      },
      "text/plain": [
       "[1/16]   6%|6          [00:00<?]"
      ]
     },
     "metadata": {},
     "output_type": "display_data"
    },
    {
     "data": {
      "application/vnd.jupyter.widget-view+json": {
       "model_id": "",
       "version_major": 2,
       "version_minor": 0
      },
      "text/plain": [
       "[1/32]   3%|3          [00:00<?]"
      ]
     },
     "metadata": {},
     "output_type": "display_data"
    },
    {
     "name": "stdout",
     "output_type": "stream",
     "text": [
      "Epoch metrics: {'accuracy': 0.83203125, 'crossentropy': 0.5807336568832397}\n"
     ]
    },
    {
     "data": {
      "application/vnd.jupyter.widget-view+json": {
       "model_id": "",
       "version_major": 2,
       "version_minor": 0
      },
      "text/plain": [
       "[1/16]   6%|6          [00:00<?]"
      ]
     },
     "metadata": {},
     "output_type": "display_data"
    },
    {
     "data": {
      "application/vnd.jupyter.widget-view+json": {
       "model_id": "",
       "version_major": 2,
       "version_minor": 0
      },
      "text/plain": [
       "[1/32]   3%|3          [00:00<?]"
      ]
     },
     "metadata": {},
     "output_type": "display_data"
    },
    {
     "name": "stdout",
     "output_type": "stream",
     "text": [
      "Epoch metrics: {'accuracy': 0.845703125, 'crossentropy': 0.5420013666152954}\n"
     ]
    },
    {
     "data": {
      "application/vnd.jupyter.widget-view+json": {
       "model_id": "",
       "version_major": 2,
       "version_minor": 0
      },
      "text/plain": [
       "[1/16]   6%|6          [00:00<?]"
      ]
     },
     "metadata": {},
     "output_type": "display_data"
    },
    {
     "data": {
      "application/vnd.jupyter.widget-view+json": {
       "model_id": "",
       "version_major": 2,
       "version_minor": 0
      },
      "text/plain": [
       "[1/32]   3%|3          [00:00<?]"
      ]
     },
     "metadata": {},
     "output_type": "display_data"
    },
    {
     "name": "stdout",
     "output_type": "stream",
     "text": [
      "Epoch metrics: {'accuracy': 0.833984375, 'crossentropy': 0.5548399090766907}\n",
      "RestoringEarlyStopping: 1 / 20\n"
     ]
    },
    {
     "data": {
      "application/vnd.jupyter.widget-view+json": {
       "model_id": "",
       "version_major": 2,
       "version_minor": 0
      },
      "text/plain": [
       "[1/16]   6%|6          [00:00<?]"
      ]
     },
     "metadata": {},
     "output_type": "display_data"
    },
    {
     "data": {
      "application/vnd.jupyter.widget-view+json": {
       "model_id": "",
       "version_major": 2,
       "version_minor": 0
      },
      "text/plain": [
       "[1/32]   3%|3          [00:00<?]"
      ]
     },
     "metadata": {},
     "output_type": "display_data"
    },
    {
     "name": "stdout",
     "output_type": "stream",
     "text": [
      "Epoch metrics: {'accuracy': 0.839111328125, 'crossentropy': 0.5523951649665833}\n",
      "RestoringEarlyStopping: 2 / 20\n"
     ]
    },
    {
     "data": {
      "application/vnd.jupyter.widget-view+json": {
       "model_id": "",
       "version_major": 2,
       "version_minor": 0
      },
      "text/plain": [
       "[1/16]   6%|6          [00:00<?]"
      ]
     },
     "metadata": {},
     "output_type": "display_data"
    },
    {
     "data": {
      "application/vnd.jupyter.widget-view+json": {
       "model_id": "",
       "version_major": 2,
       "version_minor": 0
      },
      "text/plain": [
       "[1/32]   3%|3          [00:00<?]"
      ]
     },
     "metadata": {},
     "output_type": "display_data"
    },
    {
     "name": "stdout",
     "output_type": "stream",
     "text": [
      "Epoch metrics: {'accuracy': 0.8046875, 'crossentropy': 0.6311898231506348}\n",
      "RestoringEarlyStopping: 3 / 20\n"
     ]
    },
    {
     "data": {
      "application/vnd.jupyter.widget-view+json": {
       "model_id": "",
       "version_major": 2,
       "version_minor": 0
      },
      "text/plain": [
       "[1/16]   6%|6          [00:00<?]"
      ]
     },
     "metadata": {},
     "output_type": "display_data"
    },
    {
     "data": {
      "application/vnd.jupyter.widget-view+json": {
       "model_id": "",
       "version_major": 2,
       "version_minor": 0
      },
      "text/plain": [
       "[1/32]   3%|3          [00:00<?]"
      ]
     },
     "metadata": {},
     "output_type": "display_data"
    },
    {
     "name": "stdout",
     "output_type": "stream",
     "text": [
      "Epoch metrics: {'accuracy': 0.853515625, 'crossentropy': 0.5301163196563721}\n",
      "RestoringEarlyStopping: Restoring best parameters. (Score: 0.853515625)\n",
      "RestoringEarlyStopping: Restoring optimizer.\n",
      "{'model_training/val_metrics': <wandb.data_types.Table object at 0x7f4508a45610>, 'model_training/best_epoch': 9, 'model_training/best_val_accuracy': 0.853515625, 'model_training/best_val_crossentropy': 0.5301163196563721}\n"
     ]
    },
    {
     "data": {
      "application/vnd.jupyter.widget-view+json": {
       "model_id": "",
       "version_major": 2,
       "version_minor": 0
      },
      "text/plain": [
       "get_predictions_labels:   0%|          | 0/200000 [00:00<?, ?it/s]"
      ]
     },
     "metadata": {},
     "output_type": "display_data"
    },
    {
     "name": "stdout",
     "output_type": "stream",
     "text": [
      "Perf after training {'accuracy': 0.8596, 'crossentropy': tensor(0.5028), '_timestamp': 1649465486, '_runtime': 60}\n"
     ]
    },
    {
     "data": {
      "application/vnd.jupyter.widget-view+json": {
       "model_id": "",
       "version_major": 2,
       "version_minor": 0
      },
      "text/plain": [
       "get_predictions_labels:   0%|          | 0/279270 [00:00<?, ?it/s]"
      ]
     },
     "metadata": {},
     "output_type": "display_data"
    },
    {
     "name": "stdout",
     "output_type": "stream",
     "text": [
      "CandidateBatch(scores=[4.333661143200191, 1.0256967569974993, 0.551715239150723, 0.28624871957637493, 0.27566527197330726, 0.1503879110520181, 0.015086523295897325, -0.17515537828174432, -0.3368424911433481, -0.41264034307758557], indices=[21900, 40457, 49516, 8112, 12294, 7756, 29801, 53246, 31760, 34433])\n",
      "[('id', 21924), ('id', 40500), ('id', 49565), ('id', 8121), ('id', 12307), ('id', 7763), ('id', 29834), ('id', 53296), ('id', 31794), ('id', 34472)]\n",
      "Acquiring (label, score)s: 0 (4.334), 4 (1.026), 3 (0.5517), 8 (0.2862), 5 (0.2757), 5 (0.1504), 1 (0.01509), 8 (-0.1752), 7 (-0.3368), 3 (-0.4126)\n",
      "Training set size 60:\n"
     ]
    },
    {
     "data": {
      "application/vnd.jupyter.widget-view+json": {
       "model_id": "682a8eb4699145dc92d5e8bd11bbe5c1",
       "version_major": 2,
       "version_minor": 0
      },
      "text/plain": [
       " 10%|#         | 1/10 [00:00<?, ?it/s]"
      ]
     },
     "metadata": {},
     "output_type": "display_data"
    },
    {
     "data": {
      "application/vnd.jupyter.widget-view+json": {
       "model_id": "",
       "version_major": 2,
       "version_minor": 0
      },
      "text/plain": [
       "[1/16]   6%|6          [00:00<?]"
      ]
     },
     "metadata": {},
     "output_type": "display_data"
    },
    {
     "data": {
      "application/vnd.jupyter.widget-view+json": {
       "model_id": "",
       "version_major": 2,
       "version_minor": 0
      },
      "text/plain": [
       "[1/32]   3%|3          [00:00<?]"
      ]
     },
     "metadata": {},
     "output_type": "display_data"
    },
    {
     "name": "stdout",
     "output_type": "stream",
     "text": [
      "Epoch metrics: {'accuracy': 0.270263671875, 'crossentropy': 2.000854969024658}\n"
     ]
    },
    {
     "data": {
      "application/vnd.jupyter.widget-view+json": {
       "model_id": "",
       "version_major": 2,
       "version_minor": 0
      },
      "text/plain": [
       "[1/16]   6%|6          [00:00<?]"
      ]
     },
     "metadata": {},
     "output_type": "display_data"
    },
    {
     "data": {
      "application/vnd.jupyter.widget-view+json": {
       "model_id": "",
       "version_major": 2,
       "version_minor": 0
      },
      "text/plain": [
       "[1/32]   3%|3          [00:00<?]"
      ]
     },
     "metadata": {},
     "output_type": "display_data"
    },
    {
     "name": "stdout",
     "output_type": "stream",
     "text": [
      "Epoch metrics: {'accuracy': 0.654052734375, 'crossentropy': 1.1933870315551758}\n"
     ]
    },
    {
     "data": {
      "application/vnd.jupyter.widget-view+json": {
       "model_id": "",
       "version_major": 2,
       "version_minor": 0
      },
      "text/plain": [
       "[1/16]   6%|6          [00:00<?]"
      ]
     },
     "metadata": {},
     "output_type": "display_data"
    },
    {
     "data": {
      "application/vnd.jupyter.widget-view+json": {
       "model_id": "",
       "version_major": 2,
       "version_minor": 0
      },
      "text/plain": [
       "[1/32]   3%|3          [00:00<?]"
      ]
     },
     "metadata": {},
     "output_type": "display_data"
    },
    {
     "name": "stdout",
     "output_type": "stream",
     "text": [
      "Epoch metrics: {'accuracy': 0.79052734375, 'crossentropy': 0.7729902267456055}\n"
     ]
    },
    {
     "data": {
      "application/vnd.jupyter.widget-view+json": {
       "model_id": "",
       "version_major": 2,
       "version_minor": 0
      },
      "text/plain": [
       "[1/16]   6%|6          [00:00<?]"
      ]
     },
     "metadata": {},
     "output_type": "display_data"
    },
    {
     "data": {
      "application/vnd.jupyter.widget-view+json": {
       "model_id": "",
       "version_major": 2,
       "version_minor": 0
      },
      "text/plain": [
       "[1/32]   3%|3          [00:00<?]"
      ]
     },
     "metadata": {},
     "output_type": "display_data"
    },
    {
     "name": "stdout",
     "output_type": "stream",
     "text": [
      "Epoch metrics: {'accuracy': 0.835693359375, 'crossentropy': 0.5986493229866028}\n"
     ]
    },
    {
     "data": {
      "application/vnd.jupyter.widget-view+json": {
       "model_id": "",
       "version_major": 2,
       "version_minor": 0
      },
      "text/plain": [
       "[1/16]   6%|6          [00:00<?]"
      ]
     },
     "metadata": {},
     "output_type": "display_data"
    },
    {
     "data": {
      "application/vnd.jupyter.widget-view+json": {
       "model_id": "",
       "version_major": 2,
       "version_minor": 0
      },
      "text/plain": [
       "[1/32]   3%|3          [00:00<?]"
      ]
     },
     "metadata": {},
     "output_type": "display_data"
    },
    {
     "name": "stdout",
     "output_type": "stream",
     "text": [
      "Epoch metrics: {'accuracy': 0.851318359375, 'crossentropy': 0.5279762744903564}\n"
     ]
    },
    {
     "data": {
      "application/vnd.jupyter.widget-view+json": {
       "model_id": "",
       "version_major": 2,
       "version_minor": 0
      },
      "text/plain": [
       "[1/16]   6%|6          [00:00<?]"
      ]
     },
     "metadata": {},
     "output_type": "display_data"
    },
    {
     "data": {
      "application/vnd.jupyter.widget-view+json": {
       "model_id": "",
       "version_major": 2,
       "version_minor": 0
      },
      "text/plain": [
       "[1/32]   3%|3          [00:00<?]"
      ]
     },
     "metadata": {},
     "output_type": "display_data"
    },
    {
     "name": "stdout",
     "output_type": "stream",
     "text": [
      "Epoch metrics: {'accuracy': 0.84716796875, 'crossentropy': 0.5330108404159546}\n",
      "RestoringEarlyStopping: 1 / 20\n"
     ]
    },
    {
     "data": {
      "application/vnd.jupyter.widget-view+json": {
       "model_id": "",
       "version_major": 2,
       "version_minor": 0
      },
      "text/plain": [
       "[1/16]   6%|6          [00:00<?]"
      ]
     },
     "metadata": {},
     "output_type": "display_data"
    },
    {
     "data": {
      "application/vnd.jupyter.widget-view+json": {
       "model_id": "",
       "version_major": 2,
       "version_minor": 0
      },
      "text/plain": [
       "[1/32]   3%|3          [00:00<?]"
      ]
     },
     "metadata": {},
     "output_type": "display_data"
    },
    {
     "name": "stdout",
     "output_type": "stream",
     "text": [
      "Epoch metrics: {'accuracy': 0.858154296875, 'crossentropy': 0.4933086931705475}\n"
     ]
    },
    {
     "data": {
      "application/vnd.jupyter.widget-view+json": {
       "model_id": "",
       "version_major": 2,
       "version_minor": 0
      },
      "text/plain": [
       "[1/16]   6%|6          [00:00<?]"
      ]
     },
     "metadata": {},
     "output_type": "display_data"
    },
    {
     "data": {
      "application/vnd.jupyter.widget-view+json": {
       "model_id": "",
       "version_major": 2,
       "version_minor": 0
      },
      "text/plain": [
       "[1/32]   3%|3          [00:00<?]"
      ]
     },
     "metadata": {},
     "output_type": "display_data"
    },
    {
     "name": "stdout",
     "output_type": "stream",
     "text": [
      "Epoch metrics: {'accuracy': 0.8466796875, 'crossentropy': 0.5250710248947144}\n",
      "RestoringEarlyStopping: 1 / 20\n"
     ]
    },
    {
     "data": {
      "application/vnd.jupyter.widget-view+json": {
       "model_id": "",
       "version_major": 2,
       "version_minor": 0
      },
      "text/plain": [
       "[1/16]   6%|6          [00:00<?]"
      ]
     },
     "metadata": {},
     "output_type": "display_data"
    },
    {
     "data": {
      "application/vnd.jupyter.widget-view+json": {
       "model_id": "",
       "version_major": 2,
       "version_minor": 0
      },
      "text/plain": [
       "[1/32]   3%|3          [00:00<?]"
      ]
     },
     "metadata": {},
     "output_type": "display_data"
    },
    {
     "name": "stdout",
     "output_type": "stream",
     "text": [
      "Epoch metrics: {'accuracy': 0.85888671875, 'crossentropy': 0.4883265793323517}\n"
     ]
    },
    {
     "data": {
      "application/vnd.jupyter.widget-view+json": {
       "model_id": "",
       "version_major": 2,
       "version_minor": 0
      },
      "text/plain": [
       "[1/16]   6%|6          [00:00<?]"
      ]
     },
     "metadata": {},
     "output_type": "display_data"
    },
    {
     "data": {
      "application/vnd.jupyter.widget-view+json": {
       "model_id": "",
       "version_major": 2,
       "version_minor": 0
      },
      "text/plain": [
       "[1/32]   3%|3          [00:00<?]"
      ]
     },
     "metadata": {},
     "output_type": "display_data"
    },
    {
     "name": "stdout",
     "output_type": "stream",
     "text": [
      "Epoch metrics: {'accuracy': 0.860107421875, 'crossentropy': 0.4947330057621002}\n",
      "RestoringEarlyStopping: Restoring best parameters. (Score: 0.860107421875)\n",
      "RestoringEarlyStopping: Restoring optimizer.\n",
      "{'model_training/val_metrics': <wandb.data_types.Table object at 0x7f4508b8f460>, 'model_training/best_epoch': 9, 'model_training/best_val_accuracy': 0.860107421875, 'model_training/best_val_crossentropy': 0.4947330057621002}\n"
     ]
    },
    {
     "data": {
      "application/vnd.jupyter.widget-view+json": {
       "model_id": "",
       "version_major": 2,
       "version_minor": 0
      },
      "text/plain": [
       "get_predictions_labels:   0%|          | 0/200000 [00:00<?, ?it/s]"
      ]
     },
     "metadata": {},
     "output_type": "display_data"
    },
    {
     "name": "stdout",
     "output_type": "stream",
     "text": [
      "Perf after training {'accuracy': 0.8665, 'crossentropy': tensor(0.4435), '_timestamp': 1649465501, '_runtime': 75}\n",
      "Done.\n",
      "\n"
     ]
    },
    {
     "data": {
      "text/html": [
       "Waiting for W&B process to finish... <strong style=\"color:green\">(success).</strong>"
      ],
      "text/plain": [
       "<IPython.core.display.HTML object>"
      ]
     },
     "metadata": {},
     "output_type": "display_data"
    },
    {
     "data": {
      "application/vnd.jupyter.widget-view+json": {
       "model_id": "442a6d3920ee42b8850b58f10ad0bb0e",
       "version_major": 2,
       "version_minor": 0
      },
      "text/plain": [
       "VBox(children=(Label(value='0.824 MB of 0.824 MB uploaded (0.000 MB deduped)\\r'), FloatProgress(value=0.999462…"
      ]
     },
     "metadata": {},
     "output_type": "display_data"
    },
    {
     "name": "stderr",
     "output_type": "stream",
     "text": [
      "\u001b[34m\u001b[1mwandb\u001b[0m: \u001b[32m\u001b[41mERROR\u001b[0m Control-C detected -- Run data was not synced\n"
     ]
    }
   ],
   "source": [
    "store = {}\n",
    "\n",
    "test_config = configs[1]\n",
    "test_config.max_training_epochs = 10\n",
    "test_config.num_pool_samples = 5\n",
    "test_config.evaluation_set_size = 1024\n",
    "test_config.experiment_data_config.id_repetitions = 1\n",
    "test_config.max_training_set = 60\n",
    "test_config.run(store)"
   ]
  }
 ],
 "metadata": {
  "kernelspec": {
   "display_name": "Python [conda env:active_learning]",
   "language": "python",
   "name": "conda-env-active_learning-py"
  }
 },
 "nbformat": 4,
 "nbformat_minor": 4
}
