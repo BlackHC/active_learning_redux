{
 "cells": [
  {
   "cell_type": "markdown",
   "metadata": {},
   "source": [
    "# Experiment CIFAR-10\n",
    "> Can we get better by training on our assumptions?"
   ]
  },
  {
   "cell_type": "code",
   "execution_count": null,
   "metadata": {},
   "outputs": [],
   "source": [
    "# default_exp experiment_cifar10"
   ]
  },
  {
   "cell_type": "code",
   "execution_count": null,
   "metadata": {},
   "outputs": [],
   "source": [
    "# hide\n",
    "import blackhc.project.script"
   ]
  },
  {
   "cell_type": "markdown",
   "metadata": {},
   "source": [
    "Import modules and functions were are going to use."
   ]
  },
  {
   "cell_type": "code",
   "execution_count": null,
   "metadata": {},
   "outputs": [],
   "source": [
    "# exports\n",
    "\n",
    "import dataclasses\n",
    "import traceback\n",
    "from dataclasses import dataclass, field\n",
    "from typing import Type, Union\n",
    "\n",
    "import torch\n",
    "import torch.utils.data\n",
    "from blackhc.project import is_run_from_ipython\n",
    "from blackhc.project.experiment import embedded_experiments\n",
    "from torch.utils.data import Dataset\n",
    "\n",
    "import batchbald_redux.acquisition_functions as acquisition_functions\n",
    "from batchbald_redux.acquisition_functions import (\n",
    "    CandidateBatchComputer,\n",
    "    EvalCandidateBatchComputer,\n",
    ")\n",
    "from batchbald_redux.active_learning import ActiveLearningData, RandomFixedLengthSampler\n",
    "from batchbald_redux.black_box_model_training import evaluate, train, train_with_schedule\n",
    "from batchbald_redux.dataset_challenges import (\n",
    "    NamedDataset,\n",
    "    create_repeated_MNIST_dataset,\n",
    "    get_balanced_sample_indices,\n",
    "    get_base_dataset_index,\n",
    "    get_target, AdditiveGaussianNoise, AliasDataset, get_balanced_sample_indices_by_class,\n",
    ")\n",
    "from batchbald_redux.datasets import get_dataset\n",
    "from batchbald_redux.datasets import train_validation_split\n",
    "from batchbald_redux.di import DependencyInjection\n",
    "from batchbald_redux.fast_mnist import FastMNIST\n",
    "from batchbald_redux.model_optimizer_factory import ModelOptimizerFactory\n",
    "from batchbald_redux.resnet_models import Cifar10BayesianResnetFactory\n",
    "from batchbald_redux.train_eval_model import (\n",
    "    TrainEvalModel,\n",
    "    TrainSelfDistillationEvalModel,\n",
    "    TrainSelfDistillationEvalModelWithSchedule\n",
    ")\n",
    "from batchbald_redux.trained_model import TrainedMCDropoutModel"
   ]
  },
  {
   "cell_type": "code",
   "execution_count": null,
   "metadata": {
    "tags": []
   },
   "outputs": [],
   "source": [
    "# exports\n",
    "\n",
    "@dataclass\n",
    "class ExperimentData:\n",
    "    active_learning: ActiveLearningData\n",
    "    augmentation_node: AliasDataset\n",
    "    unaugmented_train_dataset: Dataset\n",
    "    augmented_train_dataset: Dataset\n",
    "    validation_dataset: Dataset\n",
    "    test_dataset: Dataset\n",
    "    evaluation_dataset: Dataset\n",
    "    initial_training_set_indices: [int]\n",
    "    evaluation_set_indices: [int]\n",
    "\n",
    "    def toggle_augmentations(self, augment: bool):\n",
    "        if augment:\n",
    "            self.augmentation_node.dataset = self.augmented_train_dataset\n",
    "        else:\n",
    "            self.augmentation_node.dataset = self.unaugmented_train_dataset\n",
    "\n",
    "\n",
    "@dataclass\n",
    "class ExperimentDataConfig:\n",
    "    id_dataset_name: str\n",
    "    initial_training_set_size: int\n",
    "    validation_set_size: int\n",
    "    evaluation_set_size: int\n",
    "    id_repetitions: float\n",
    "    add_dataset_noise: bool\n",
    "    validation_split_random_state: int\n",
    "\n",
    "    device: str\n",
    "\n",
    "    def load(self) -> ExperimentData:\n",
    "        return load_experiment_data(\n",
    "            id_dataset_name=self.id_dataset_name,\n",
    "            initial_training_set_size=self.initial_training_set_size,\n",
    "            validation_set_size=self.validation_set_size,\n",
    "            evaluation_set_size=self.evaluation_set_size,\n",
    "            id_repetitions=self.id_repetitions,\n",
    "            add_dataset_noise=self.add_dataset_noise,\n",
    "            validation_split_random_state=self.validation_split_random_state,\n",
    "            device=self.device,\n",
    "        )\n",
    "\n",
    "\n",
    "def load_experiment_data(\n",
    "    *,\n",
    "    id_dataset_name: str,\n",
    "    initial_training_set_size: int,\n",
    "    validation_set_size: int,\n",
    "    evaluation_set_size: int,\n",
    "    id_repetitions: float,\n",
    "    add_dataset_noise: bool,\n",
    "    validation_split_random_state: int,\n",
    "    device: str,\n",
    ") -> ExperimentData:\n",
    "    split_dataset = get_dataset(id_dataset_name, root=\"data\", train_augmentation=True, validation_set_size=validation_set_size,\n",
    "                                validation_split_random_state=validation_split_random_state, normalize_like_cifar10=True)\n",
    "    unaugmented_split_dataset = get_dataset(id_dataset_name, root=\"data\", train_augmentation=True, validation_set_size=validation_set_size,\n",
    "                                validation_split_random_state=validation_split_random_state, normalize_like_cifar10=True)\n",
    "\n",
    "    augmentation_node = AliasDataset(split_dataset.train, \"Augmentation Node\")\n",
    "    train_dataset=augmentation_node\n",
    "\n",
    "    # If we reduce the train set, we need to do so before picking the initial train set.\n",
    "    if id_repetitions < 1:\n",
    "        train_dataset = train_dataset * id_repetitions\n",
    "\n",
    "    num_classes = train_dataset.get_num_classes()\n",
    "    initial_samples_per_class = initial_training_set_size // num_classes\n",
    "    evaluation_set_samples_per_class = evaluation_set_size // num_classes\n",
    "    samples_per_class = initial_samples_per_class + evaluation_set_samples_per_class\n",
    "    balanced_samples_indices = get_balanced_sample_indices_by_class(\n",
    "        train_dataset,\n",
    "        num_classes=num_classes,\n",
    "        samples_per_class=samples_per_class,\n",
    "        seed=validation_split_random_state,\n",
    "    )\n",
    "\n",
    "    initial_training_set_indices = [\n",
    "        idx for by_class in balanced_samples_indices.values() for idx in by_class[:initial_samples_per_class]\n",
    "    ]\n",
    "    evaluation_set_indices = [\n",
    "        idx for by_class in balanced_samples_indices.values() for idx in by_class[initial_samples_per_class:]\n",
    "    ]\n",
    "\n",
    "    # If we over-sample the train set, we do so after picking the initial train set to avoid duplicates.\n",
    "    if id_repetitions > 1:\n",
    "        train_dataset = train_dataset * id_repetitions\n",
    "\n",
    "    if add_dataset_noise:\n",
    "        train_dataset = AdditiveGaussianNoise(train_dataset, 0.1)\n",
    "\n",
    "    active_learning_data = ActiveLearningData(train_dataset)\n",
    "\n",
    "    active_learning_data.acquire_base_indices(initial_training_set_indices)\n",
    "\n",
    "    evaluation_dataset = AliasDataset(\n",
    "        active_learning_data.extract_dataset_from_base_indices(evaluation_set_indices),\n",
    "        f\"Evaluation Set ({len(evaluation_set_indices)} samples)\",\n",
    "    )\n",
    "\n",
    "    return ExperimentData(\n",
    "        active_learning=active_learning_data,\n",
    "        augmentation_node=augmentation_node,\n",
    "        augmented_train_dataset=split_dataset.train,\n",
    "        unaugmented_train_dataset=unaugmented_split_dataset.train,\n",
    "        validation_dataset=split_dataset.validation,\n",
    "        test_dataset=split_dataset.test,\n",
    "        evaluation_dataset=evaluation_dataset,\n",
    "        initial_training_set_indices=initial_training_set_indices,\n",
    "        evaluation_set_indices=evaluation_set_indices,\n",
    "    )"
   ]
  },
  {
   "cell_type": "code",
   "execution_count": null,
   "metadata": {
    "tags": []
   },
   "outputs": [],
   "source": [
    "# exports\n",
    "\n",
    "@dataclass\n",
    "class Experiment:\n",
    "    seed: int\n",
    "\n",
    "    id_dataset_name: str = \"CIFAR-10\"\n",
    "    initial_training_set_size: int = 1000\n",
    "    validation_set_size: int = 5000\n",
    "    evaluation_set_size: int = 0\n",
    "    id_repetitions: float = 1\n",
    "    add_dataset_noise: bool = False\n",
    "    validation_split_random_state: int = 0\n",
    "\n",
    "    acquisition_size: int = 5\n",
    "    max_training_set: int = 300\n",
    "    num_pool_samples: int = 20\n",
    "    num_validation_samples: int = 20\n",
    "    num_training_samples: int = 1\n",
    "    max_training_epochs: int = 60\n",
    "    training_batch_size: int = 128\n",
    "    device: str = \"cuda\"\n",
    "    min_samples_per_epoch: int = 5056\n",
    "    patience_schedule: [int] = (3, 3, 3)\n",
    "    factor_schedule: [int] = (0.1,)\n",
    "    acquisition_function: Union[\n",
    "        Type[CandidateBatchComputer], Type[EvalCandidateBatchComputer]\n",
    "    ] = acquisition_functions.BALD\n",
    "    train_eval_model: Type[TrainEvalModel] = TrainSelfDistillationEvalModelWithSchedule\n",
    "    model_optimizer_factory: Type[ModelOptimizerFactory] = Cifar10BayesianResnetFactory\n",
    "    acquisition_function_args: dict = None\n",
    "    temperature: float = 0.0\n",
    "    prefer_accuracy: bool = False\n",
    "\n",
    "    def load_experiment_data(self) -> ExperimentData:\n",
    "        di = DependencyInjection(vars(self))\n",
    "        edc: ExperimentDataConfig = di.create_dataclass_type(ExperimentDataConfig)\n",
    "        return edc.load()\n",
    "\n",
    "    # Simple Dependency Injection\n",
    "    def create_acquisition_function(self):\n",
    "        di = DependencyInjection(vars(self))\n",
    "        return di.create_dataclass_type(self.acquisition_function)\n",
    "\n",
    "    def create_train_eval_model(self, runtime_config) -> TrainEvalModel:\n",
    "        config = {**vars(self), **runtime_config}\n",
    "        di = DependencyInjection(config, [])\n",
    "        return di.create_dataclass_type(self.train_eval_model)\n",
    "\n",
    "    def run(self, store):\n",
    "        torch.manual_seed(self.seed)\n",
    "\n",
    "        # Active Learning setup\n",
    "        data = self.load_experiment_data()\n",
    "        store[\"dataset_info\"] = dict(training=repr(data.active_learning.base_dataset), test=repr(data.test_dataset))\n",
    "        store[\"initial_training_set_indices\"] = data.initial_training_set_indices\n",
    "        store[\"evaluation_set_indices\"] = data.evaluation_set_indices\n",
    "\n",
    "        train_loader = torch.utils.data.DataLoader(\n",
    "            data.active_learning.training_dataset,\n",
    "            batch_size=self.training_batch_size,\n",
    "            sampler=RandomFixedLengthSampler(data.active_learning.training_dataset, self.min_samples_per_epoch),\n",
    "            drop_last=True,\n",
    "        )\n",
    "        pool_loader = torch.utils.data.DataLoader(\n",
    "            data.active_learning.pool_dataset, batch_size=128, drop_last=False, shuffle=False\n",
    "        )\n",
    "\n",
    "        validation_loader = torch.utils.data.DataLoader(data.validation_dataset, batch_size=512, drop_last=False)\n",
    "        test_loader = torch.utils.data.DataLoader(data.test_dataset, batch_size=512, drop_last=False)\n",
    "\n",
    "        store[\"active_learning_steps\"] = []\n",
    "        active_learning_steps = store[\"active_learning_steps\"]\n",
    "\n",
    "        acquisition_function = self.create_acquisition_function()\n",
    "\n",
    "        # Active Training Loop\n",
    "        while True:\n",
    "            training_set_size = len(data.active_learning.training_dataset)\n",
    "            print(f\"Training set size {training_set_size}:\")\n",
    "\n",
    "            # iteration_log = dict(training={}, pool_training={}, evaluation_metrics=None, acquisition=None)\n",
    "            active_learning_steps.append({})\n",
    "            iteration_log = active_learning_steps[-1]\n",
    "\n",
    "            iteration_log[\"training\"] = {}\n",
    "\n",
    "            model_optimizer = self.model_optimizer_factory().create_model_optimizer()\n",
    "\n",
    "            data.toggle_augmentations(True)\n",
    "\n",
    "            if training_set_size > 0:\n",
    "                train_with_schedule(\n",
    "                    model=model_optimizer.model,\n",
    "                    optimizer=model_optimizer.optimizer,\n",
    "                    training_samples=self.num_training_samples,\n",
    "                    validation_samples=self.num_validation_samples,\n",
    "                    train_loader=train_loader,\n",
    "                    validation_loader=validation_loader,\n",
    "                    patience_schedule = self.patience_schedule,\n",
    "                    factor_schedule = self.factor_schedule,\n",
    "                    max_epochs=self.max_training_epochs,\n",
    "                    device=self.device,\n",
    "                    training_log=iteration_log[\"training\"],\n",
    "                    prefer_accuracy=self.prefer_accuracy\n",
    "                )\n",
    "\n",
    "            data.toggle_augmentations(False)\n",
    "\n",
    "            evaluation_metrics = evaluate(\n",
    "                model=model_optimizer.model,\n",
    "                num_samples=self.num_validation_samples,\n",
    "                loader=test_loader,\n",
    "                device=self.device,\n",
    "            )\n",
    "            iteration_log[\"evaluation_metrics\"] = evaluation_metrics\n",
    "            print(f\"Perf after training {evaluation_metrics}\")\n",
    "\n",
    "            if training_set_size >= self.max_training_set:\n",
    "                print(\"Done.\")\n",
    "                break\n",
    "\n",
    "            trained_model = TrainedMCDropoutModel(num_samples=self.num_pool_samples, model=model_optimizer.model)\n",
    "\n",
    "            if isinstance(acquisition_function, CandidateBatchComputer):\n",
    "                candidate_batch = acquisition_function.compute_candidate_batch(trained_model, pool_loader, self.device)\n",
    "            elif isinstance(acquisition_function, EvalCandidateBatchComputer):\n",
    "                current_max_epochs = len(iteration_log[\"training\"][\"epochs\"])\n",
    "\n",
    "                if self.evaluation_set_size:\n",
    "                    eval_dataset = data.evaluation_dataset\n",
    "                else:\n",
    "                    eval_dataset = data.active_learning.pool_dataset\n",
    "\n",
    "                train_eval_model = self.create_train_eval_model(\n",
    "                    dict(\n",
    "                        max_epochs=current_max_epochs + 2,\n",
    "                        training_dataset=data.active_learning.training_dataset,\n",
    "                        eval_dataset=eval_dataset,\n",
    "                        validation_loader=validation_loader,\n",
    "                        trained_model=trained_model,\n",
    "                        data=data,\n",
    "                    )\n",
    "                )\n",
    "\n",
    "                iteration_log[\"eval_training\"] = {}\n",
    "                trained_eval_model = train_eval_model(training_log=iteration_log[\"eval_training\"], device=self.device)\n",
    "\n",
    "                candidate_batch = acquisition_function.compute_candidate_batch(\n",
    "                    trained_model, trained_eval_model, pool_loader, device=self.device\n",
    "                )\n",
    "            else:\n",
    "                raise ValueError(f\"Unknown acquisition function {acquisition_function}!\")\n",
    "\n",
    "            candidate_global_indices = [\n",
    "                get_base_dataset_index(data.active_learning.pool_dataset, index).index\n",
    "                for index in candidate_batch.indices\n",
    "            ]\n",
    "            candidate_labels = [\n",
    "                get_target(data.active_learning.pool_dataset, index).item() for index in candidate_batch.indices\n",
    "            ]\n",
    "\n",
    "            iteration_log[\"acquisition\"] = dict(\n",
    "                indices=candidate_global_indices, labels=candidate_labels, scores=candidate_batch.scores\n",
    "            )\n",
    "\n",
    "            data.active_learning.acquire(candidate_batch.indices)\n",
    "\n",
    "            ls = \", \".join(f\"{label} ({score:.4})\" for label, score in zip(candidate_labels, candidate_batch.scores))\n",
    "            print(f\"Acquiring (label, score)s: {ls}\")"
   ]
  },
  {
   "cell_type": "code",
   "execution_count": null,
   "metadata": {},
   "outputs": [
    {
     "name": "stdout",
     "output_type": "stream",
     "text": [
      "Creating: ExperimentDataConfig(\n",
      "\tid_dataset_name=CIFAR-10,\n",
      "\tinitial_training_set_size=20000,\n",
      "\tvalidation_set_size=5000,\n",
      "\tevaluation_set_size=0,\n",
      "\tid_repetitions=1,\n",
      "\tadd_dataset_noise=False,\n",
      "\tvalidation_split_random_state=0,\n",
      "\tdevice=cuda\n",
      ")\n",
      "Files already downloaded and verified\n",
      "Files already downloaded and verified\n",
      "Files already downloaded and verified\n",
      "Files already downloaded and verified\n",
      "Files already downloaded and verified\n",
      "Files already downloaded and verified\n",
      "Creating: EvalBALD(\n",
      "\tacquisition_size=5\n",
      ")\n",
      "Training set size 20000:\n"
     ]
    },
    {
     "data": {
      "application/vnd.jupyter.widget-view+json": {
       "model_id": "52b3eff4c3b24b029033b8a63d60d701",
       "version_major": 2,
       "version_minor": 0
      },
      "text/plain": [
       "100%|##########| 1/1 [00:00<?, ?it/s]"
      ]
     },
     "metadata": {},
     "output_type": "display_data"
    },
    {
     "data": {
      "application/vnd.jupyter.widget-view+json": {
       "model_id": "",
       "version_major": 2,
       "version_minor": 0
      },
      "text/plain": [
       "[1/39]   3%|2          [00:00<?]"
      ]
     },
     "metadata": {},
     "output_type": "display_data"
    },
    {
     "data": {
      "application/vnd.jupyter.widget-view+json": {
       "model_id": "",
       "version_major": 2,
       "version_minor": 0
      },
      "text/plain": [
       "[1/10]  10%|#          [00:00<?]"
      ]
     },
     "metadata": {},
     "output_type": "display_data"
    },
    {
     "name": "stdout",
     "output_type": "stream",
     "text": [
      "Epoch metrics: {'accuracy': 0.1962, 'crossentropy': 2.510890679168701}\n"
     ]
    },
    {
     "data": {
      "application/vnd.jupyter.widget-view+json": {
       "model_id": "",
       "version_major": 2,
       "version_minor": 0
      },
      "text/plain": [
       "[1/20]   5%|5          [00:00<?]"
      ]
     },
     "metadata": {},
     "output_type": "display_data"
    },
    {
     "name": "stdout",
     "output_type": "stream",
     "text": [
      "Perf after training {'accuracy': 0.1935, 'crossentropy': 2.5520589252471924}\n",
      "Creating: TrainSelfDistillationEvalModelWithSchedule(\n",
      "\tnum_pool_samples=20,\n",
      "\tnum_training_samples=1,\n",
      "\tnum_validation_samples=20,\n",
      "\tpatience_schedule=(3, 3, 3),\n",
      "\tfactor_schedule=(0.1,),\n",
      "\tmax_epochs=3,\n",
      "\ttraining_dataset=<torch.utils.data.dataset.Subset object at 0x7f5ae6e9a310>,\n",
      "\teval_dataset=<torch.utils.data.dataset.Subset object at 0x7f5ae6e9a130>,\n",
      "\tvalidation_loader=<torch.utils.data.dataloader.DataLoader object at 0x7f5b108243d0>,\n",
      "\ttraining_batch_size=128,\n",
      "\tmodel_optimizer_factory=<class 'batchbald_redux.resnet_models.Cifar10BayesianResnetFactory'>,\n",
      "\ttrained_model=TrainedMCDropoutModel(num_samples=20, model=BayesianResNet(\n",
      "  (conv1): Conv2d(3, 64, kernel_size=(3, 3), stride=(1, 1), padding=(1, 1), bias=False)\n",
      "  (bn1): BatchNorm2d(64, eps=1e-05, momentum=0.1, affine=True, track_running_stats=True)\n",
      "  (relu): ReLU(inplace=True)\n",
      "  (maxpool): Identity()\n",
      "  (layer1): Sequential(\n",
      "    (0): BasicBlock(\n",
      "      (conv1): Conv2d(64, 64, kernel_size=(3, 3), stride=(1, 1), padding=(1, 1), bias=False)\n",
      "      (bn1): BatchNorm2d(64, eps=1e-05, momentum=0.1, affine=True, track_running_stats=True)\n",
      "      (relu): ReLU(inplace=True)\n",
      "      (conv2): Conv2d(64, 64, kernel_size=(3, 3), stride=(1, 1), padding=(1, 1), bias=False)\n",
      "      (bn2): BatchNorm2d(64, eps=1e-05, momentum=0.1, affine=True, track_running_stats=True)\n",
      "    )\n",
      "    (1): BasicBlock(\n",
      "      (conv1): Conv2d(64, 64, kernel_size=(3, 3), stride=(1, 1), padding=(1, 1), bias=False)\n",
      "      (bn1): BatchNorm2d(64, eps=1e-05, momentum=0.1, affine=True, track_running_stats=True)\n",
      "      (relu): ReLU(inplace=True)\n",
      "      (conv2): Conv2d(64, 64, kernel_size=(3, 3), stride=(1, 1), padding=(1, 1), bias=False)\n",
      "      (bn2): BatchNorm2d(64, eps=1e-05, momentum=0.1, affine=True, track_running_stats=True)\n",
      "    )\n",
      "  )\n",
      "  (layer2): Sequential(\n",
      "    (0): BasicBlock(\n",
      "      (conv1): Conv2d(64, 128, kernel_size=(3, 3), stride=(2, 2), padding=(1, 1), bias=False)\n",
      "      (bn1): BatchNorm2d(128, eps=1e-05, momentum=0.1, affine=True, track_running_stats=True)\n",
      "      (relu): ReLU(inplace=True)\n",
      "      (conv2): Conv2d(128, 128, kernel_size=(3, 3), stride=(1, 1), padding=(1, 1), bias=False)\n",
      "      (bn2): BatchNorm2d(128, eps=1e-05, momentum=0.1, affine=True, track_running_stats=True)\n",
      "      (downsample): Sequential(\n",
      "        (0): Conv2d(64, 128, kernel_size=(1, 1), stride=(2, 2), bias=False)\n",
      "        (1): BatchNorm2d(128, eps=1e-05, momentum=0.1, affine=True, track_running_stats=True)\n",
      "      )\n",
      "    )\n",
      "    (1): BasicBlock(\n",
      "      (conv1): Conv2d(128, 128, kernel_size=(3, 3), stride=(1, 1), padding=(1, 1), bias=False)\n",
      "      (bn1): BatchNorm2d(128, eps=1e-05, momentum=0.1, affine=True, track_running_stats=True)\n",
      "      (relu): ReLU(inplace=True)\n",
      "      (conv2): Conv2d(128, 128, kernel_size=(3, 3), stride=(1, 1), padding=(1, 1), bias=False)\n",
      "      (bn2): BatchNorm2d(128, eps=1e-05, momentum=0.1, affine=True, track_running_stats=True)\n",
      "    )\n",
      "  )\n",
      "  (layer3): Sequential(\n",
      "    (0): BasicBlock(\n",
      "      (conv1): Conv2d(128, 256, kernel_size=(3, 3), stride=(2, 2), padding=(1, 1), bias=False)\n",
      "      (bn1): BatchNorm2d(256, eps=1e-05, momentum=0.1, affine=True, track_running_stats=True)\n",
      "      (relu): ReLU(inplace=True)\n",
      "      (conv2): Conv2d(256, 256, kernel_size=(3, 3), stride=(1, 1), padding=(1, 1), bias=False)\n",
      "      (bn2): BatchNorm2d(256, eps=1e-05, momentum=0.1, affine=True, track_running_stats=True)\n",
      "      (downsample): Sequential(\n",
      "        (0): Conv2d(128, 256, kernel_size=(1, 1), stride=(2, 2), bias=False)\n",
      "        (1): BatchNorm2d(256, eps=1e-05, momentum=0.1, affine=True, track_running_stats=True)\n",
      "      )\n",
      "    )\n",
      "    (1): BasicBlock(\n",
      "      (conv1): Conv2d(256, 256, kernel_size=(3, 3), stride=(1, 1), padding=(1, 1), bias=False)\n",
      "      (bn1): BatchNorm2d(256, eps=1e-05, momentum=0.1, affine=True, track_running_stats=True)\n",
      "      (relu): ReLU(inplace=True)\n",
      "      (conv2): Conv2d(256, 256, kernel_size=(3, 3), stride=(1, 1), padding=(1, 1), bias=False)\n",
      "      (bn2): BatchNorm2d(256, eps=1e-05, momentum=0.1, affine=True, track_running_stats=True)\n",
      "    )\n",
      "  )\n",
      "  (layer4): Sequential(\n",
      "    (0): BasicBlock(\n",
      "      (conv1): Conv2d(256, 512, kernel_size=(3, 3), stride=(2, 2), padding=(1, 1), bias=False)\n",
      "      (bn1): BatchNorm2d(512, eps=1e-05, momentum=0.1, affine=True, track_running_stats=True)\n",
      "      (relu): ReLU(inplace=True)\n",
      "      (conv2): Conv2d(512, 512, kernel_size=(3, 3), stride=(1, 1), padding=(1, 1), bias=False)\n",
      "      (bn2): BatchNorm2d(512, eps=1e-05, momentum=0.1, affine=True, track_running_stats=True)\n",
      "      (downsample): Sequential(\n",
      "        (0): Conv2d(256, 512, kernel_size=(1, 1), stride=(2, 2), bias=False)\n",
      "        (1): BatchNorm2d(512, eps=1e-05, momentum=0.1, affine=True, track_running_stats=True)\n",
      "      )\n",
      "    )\n",
      "    (1): BasicBlock(\n",
      "      (conv1): Conv2d(512, 512, kernel_size=(3, 3), stride=(1, 1), padding=(1, 1), bias=False)\n",
      "      (bn1): BatchNorm2d(512, eps=1e-05, momentum=0.1, affine=True, track_running_stats=True)\n",
      "      (relu): ReLU(inplace=True)\n",
      "      (conv2): Conv2d(512, 512, kernel_size=(3, 3), stride=(1, 1), padding=(1, 1), bias=False)\n",
      "      (bn2): BatchNorm2d(512, eps=1e-05, momentum=0.1, affine=True, track_running_stats=True)\n",
      "    )\n",
      "  )\n",
      "  (avgpool): AdaptiveAvgPool2d(output_size=(1, 1))\n",
      "  (fc): Sequential(\n",
      "    (0): ConsistentMCDropout(p=0.5)\n",
      "    (1): Linear(in_features=512, out_features=256, bias=True)\n",
      "    (2): ReLU()\n",
      "    (3): ConsistentMCDropout(p=0.5)\n",
      "    (4): Linear(in_features=256, out_features=256, bias=True)\n",
      "    (5): Linear(in_features=256, out_features=10, bias=True)\n",
      "  )\n",
      ")),\n",
      "\tmin_samples_per_epoch=5000,\n",
      "\tprefer_accuracy=False,\n",
      "\tdata=ExperimentData(active_learning=<batchbald_redux.active_learning.ActiveLearningData object at 0x7f5ae6e9a0a0>, augmentation_node=Augmentation Node, unaugmented_train_dataset='CIFAR-10 (Train, seed=0, 45000 samples)', augmented_train_dataset='CIFAR-10 (Train, seed=0, 45000 samples)', validation_dataset='CIFAR-10 (Validation, seed=0, 5000 samples)', test_dataset='CIFAR-10 (Test)', evaluation_dataset=Evaluation Set (0 samples), initial_training_set_indices=[28964, 11411, 14886, 9609, 39292, 398, 3431, 21404, 44846, 11777, 6361, 36817, 5044, 37231, 14346, 24286, 4294, 28590, 16297, 12733, 19940, 27283, 27046, 17495, 4417, 40795, 10717, 3957, 14535, 20341, 27604, 43757, 26320, 40449, 10574, 12396, 14656, 21304, 44149, 12180, 27762, 22949, 32997, 11309, 29865, 36001, 20338, 24032, 34368, 9137, 23376, 13769, 44858, 15640, 40594, 407, 40764, 7166, 17277, 15347, 7175, 10233, 14617, 35065, 39662, 32385, 28273, 15891, 26145, 27266, 38700, 14319, 31039, 4596, 21831, 6428, 27461, 6582, 518, 20455, 6795, 21079, 30299, 33470, 38939, 27229, 22701, 33968, 19425, 6796, 5874, 32641, 32181, 5994, 43189, 38244, 32894, 18469, 34402, 20303, 20904, 19437, 19853, 6790, 8342, 43214, 24483, 33362, 40584, 17997, 33578, 12676, 31641, 31235, 12662, 9416, 15505, 7356, 24351, 6257, 19463, 34371, 11603, 31585, 30538, 416, 43804, 19344, 31015, 6733, 23802, 24971, 49, 7955, 36097, 19334, 405, 38730, 42603, 41854, 34837, 38924, 34801, 40353, 36714, 35815, 22182, 25721, 23813, 12880, 21635, 40072, 22294, 34000, 37455, 42716, 21093, 40312, 28710, 6767, 43087, 16196, 27712, 38407, 28582, 26042, 10937, 519, 29985, 27425, 29609, 33141, 10494, 32557, 4065, 13156, 15588, 44030, 3463, 35891, 16499, 23973, 40061, 42773, 15887, 31153, 34937, 32751, 39984, 12847, 38797, 12885, 11143, 41977, 13638, 24924, 43417, 5722, 14870, 31444, 27218, 28078, 18175, 26426, 30144, 28349, 21674, 31955, 25359, 9070, 30189, 9348, 34744, 39019, 17848, 27648, 24578, 1666, 22402, 9152, 20908, 43080, 21102, 43724, 28423, 31454, 38785, 31387, 2651, 17565, 38256, 21261, 35598, 14608, 16748, 13806, 36300, 8234, 25580, 19944, 6336, 16242, 42250, 1964, 21016, 33529, 35899, 26113, 18956, 23652, 39705, 33483, 28084, 17109, 35848, 38306, 40542, 41006, 10186, 43716, 42836, 1413, 26334, 20155, 27558, 17689, 32329, 30846, 7577, 3656, 30333, 2221, 10120, 16573, 9205, 44843, 43329, 37219, 24986, 17082, 44759, 31491, 19800, 38767, 22309, 20409, 23360, 26634, 1506, 9429, 41909, 41320, 43865, 10870, 11980, 44064, 19118, 39120, 39856, 23870, 16157, 41469, 42212, 23006, 12308, 17356, 24174, 1166, 31129, 3614, 4821, 43723, 13779, 10928, 31063, 15904, 25314, 25124, 44327, 26227, 5381, 4722, 3478, 23331, 42285, 33348, 32288, 22761, 1325, 17789, 40759, 5240, 32520, 9035, 29320, 4229, 40761, 66, 16580, 19311, 23139, 2535, 14638, 44930, 3225, 7442, 14012, 43801, 25323, 15194, 4100, 34973, 18927, 36334, 5158, 18869, 15994, 5936, 21756, 978, 42758, 3359, 27537, 21487, 42188, 32438, 7967, 20869, 15344, 13949, 19005, 25249, 40805, 21216, 27895, 28624, 7738, 14131, 40250, 38393, 35552, 25076, 39065, 39222, 24536, 44057, 43532, 17726, 9435, 38212, 14758, 19041, 20688, 7029, 10430, 20632, 3570, 21015, 33317, 2528, 34100, 42315, 7484, 26489, 27794, 27013, 35019, 31190, 30955, 25226, 18970, 22775, 23134, 38152, 3926, 37278, 547, 5695, 23011, 26409, 41674, 652, 8440, 15399, 42509, 10486, 19538, 40855, 38007, 35274, 1138, 40785, 9977, 35774, 41990, 17604, 3224, 6149, 44785, 194, 32573, 11814, 10484, 6655, 24704, 14580, 10710, 2871, 2118, 9651, 3845, 24330, 34104, 14237, 28993, 11342, 27222, 42235, 4953, 43672, 43410, 4726, 43871, 32463, 7142, 22811, 10837, 41075, 17748, 33801, 18164, 19222, 30092, 41144, 30923, 9209, 8542, 19777, 17936, 10907, 39103, 37653, 29470, 10215, 42176, 22991, 20430, 8803, 29871, 21202, 26388, 28347, 21098, 38751, 31084, 7877, 18644, 39614, 40801, 10720, 33568, 619, 40363, 42136, 2353, 11376, 36776, 1766, 26030, 6375, 43089, 17910, 14945, 14097, 8139, 34389, 28634, 43480, 11304, 8430, 5338, 23128, 41654, 36480, 32783, 4419, 31900, 11562, 39197, 44506, 43330, 39899, 16922, 35906, 20799, 40691, 9823, 2068, 42597, 16195, 38354, 41731, 42277, 31021, 15343, 44596, 30274, 29447, 15275, 37335, 14389, 23387, 13716, 14830, 11840, 20494, 33765, 39741, 4067, 8901, 35352, 41885, 1545, 30007, 12273, 42486, 44218, 19189, 26126, 15478, 12292, 2327, 33242, 29935, 19133, 43141, 8473, 37991, 7988, 13898, 17887, 10875, 28507, 4208, 8953, 21621, 36276, 35405, 17030, 5413, 41198, 6318, 42701, 29355, 29236, 10899, 5747, 19496, 5573, 26639, 39247, 41940, 29013, 16976, 35463, 23169, 44115, 5244, 29140, 36393, 6320, 11729, 13381, 24017, 36548, 41639, 38255, 16999, 25818, 40613, 781, 33034, 22647, 4690, 20727, 25069, 1467, 16310, 34726, 42622, 10638, 39046, 5699, 17017, 8994, 6624, 34861, 8719, 17926, 8159, 19099, 33180, 3263, 8428, 9210, 26389, 39666, 37024, 38875, 14547, 34555, 14458, 37862, 16402, 15523, 6247, 34330, 41799, 32058, 27426, 1337, 30239, 31787, 17801, 44815, 23208, 25289, 10293, 25446, 39833, 189, 30168, 37838, 28849, 1909, 41204, 13887, 2169, 37128, 36621, 7791, 33783, 44811, 39852, 8881, 2067, 18232, 4303, 24926, 5873, 39613, 39487, 1434, 24900, 7263, 44489, 16744, 13438, 19575, 30544, 20248, 26297, 16987, 32432, 40416, 20371, 17818, 43119, 18754, 19028, 14136, 12914, 41089, 19156, 22717, 7053, 24626, 9103, 42023, 1808, 23291, 3697, 20960, 18324, 13113, 15553, 4893, 593, 15073, 9690, 36176, 25784, 9281, 10286, 21330, 12197, 18574, 41613, 25617, 9174, 37332, 18924, 1926, 39635, 5116, 27649, 10260, 13255, 34003, 18906, 41697, 22298, 39768, 36446, 27939, 28103, 41851, 43927, 7054, 25767, 33334, 5613, 32408, 28856, 9343, 1670, 31309, 9397, 13314, 16781, 35121, 36359, 44564, 39070, 28668, 24629, 15828, 15670, 30906, 26413, 37114, 30901, 38981, 37006, 5414, 22781, 24139, 29925, 15359, 39064, 43676, 13225, 20323, 12714, 26210, 40581, 10863, 21553, 40659, 13235, 36536, 14806, 28348, 37800, 31459, 3603, 38468, 35470, 33859, 41923, 42524, 13946, 28418, 42335, 35783, 26496, 21343, 15770, 21977, 35796, 20109, 8002, 11155, 43122, 2533, 33092, 44205, 13865, 4746, 21123, 39309, 29389, 23545, 34605, 39982, 41945, 28439, 17046, 41044, 10531, 2254, 41518, 31773, 3994, 31526, 21337, 37786, 27894, 3744, 22573, 10620, 19608, 38947, 29496, 33928, 28743, 12751, 36758, 10919, 39610, 1681, 26035, 11564, 38174, 29551, 26989, 20461, 44349, 38491, 2696, 14683, 12631, 4337, 17637, 38257, 20707, 15824, 16050, 44047, 4516, 6458, 11377, 30121, 26958, 8154, 11577, 39125, 41106, 37253, 793, 26429, 29696, 12849, 43091, 13857, 26506, 395, 35436, 7548, 14746, 42225, 2375, 18746, 42922, 2742, 10767, 40164, 2216, 14621, 23223, 36624, 2744, 17892, 21468, 29004, 18511, 19749, 35893, 27806, 3755, 12187, 15604, 16920, 42460, 35720, 35872, 8098, 29907, 44268, 15520, 15312, 28620, 42253, 7963, 38004, 20180, 460, 10136, 28327, 22704, 10461, 20635, 37349, 25330, 2414, 14840, 20533, 29840, 13880, 39117, 3736, 7644, 44561, 44966, 27143, 9775, 43551, 25257, 30394, 43428, 5330, 10771, 37152, 526, 37362, 20182, 37526, 38365, 5218, 17149, 17758, 40536, 33731, 39718, 3488, 31252, 31677, 4316, 12735, 20586, 19024, 11109, 44318, 4824, 19215, 38, 21909, 17337, 23585, 40304, 39307, 14695, 25034, 6332, 21904, 3312, 23065, 29526, 35860, 17131, 14836, 5359, 32074, 24379, 33700, 5637, 29941, 25653, 28258, 44835, 5331, 30407, 28440, 9642, 22068, 43684, 10222, 17315, 31937, 41248, 26473, 12995, 31350, 15825, 24670, 35864, 34343, 11441, 31014, 15396, 38984, 10307, 10265, 44938, 23560, 14364, 20871, 24283, 12002, 37412, 9999, 41131, 14384, 9437, 23563, 39152, 5901, 38788, 34591, 9016, 4127, 16625, 16087, 4532, 10786, 43190, 35793, 28601, 35476, 14589, 39218, 18039, 32198, 19393, 5439, 28635, 33657, 32672, 8531, 14270, 44946, 20077, 34547, 25600, 1162, 32020, 39532, 1606, 5949, 8279, 33871, 20968, 12622, 22005, 40373, 418, 10202, 44317, 34481, 43773, 8919, 8712, 7801, 17094, 10596, 42799, 1508, 28972, 37429, 13848, 38978, 34410, 34992, 31287, 20405, 8465, 35671, 35993, 15197, 15933, 9797, 37567, 17747, 23363, 9095, 11782, 21583, 29464, 10030, 39872, 42637, 32933, 16419, 12262, 36705, 23277, 33757, 4379, 16370, 14717, 40563, 28962, 19420, 6448, 16058, 31731, 25353, 31616, 6341, 27299, 21377, 38399, 43838, 24728, 9451, 1080, 5643, 7570, 12607, 23358, 32977, 4233, 5979, 164, 6209, 23612, 4869, 42096, 43317, 4736, 27332, 23522, 20460, 28459, 41389, 16102, 25559, 26000, 5576, 33128, 7792, 36952, 41298, 35562, 258, 37606, 22163, 36766, 15638, 33311, 40697, 44667, 16378, 41573, 29099, 2559, 27727, 9351, 31124, 24784, 34082, 37083, 26583, 18005, 32478, 25451, 42410, 26483, 42283, 13169, 40418, 35614, 14311, 630, 8755, 12035, 36330, 34684, 708, 28982, 41271, 39523, 4802, 10194, 2263, 39306, 29047, 19414, 20046, 8321, 44076, 5275, 19513, 15186, 11387, 6957, 36420, 17435, 25816, 30364, 10517, 40611, 25854, 19596, 2262, 43577, 1861, 33446, 33484, 23362, 5047, 29544, 19889, 31675, 33674, 18562, 25870, 14629, 39334, 30400, 16396, 18745, 10718, 28265, 24939, 18036, 38829, 43419, 42035, 38817, 4723, 10808, 25542, 133, 26532, 15296, 31996, 39317, 4668, 39685, 7158, 333, 10013, 12980, 35243, 41666, 26472, 20398, 12151, 29376, 30082, 32694, 17439, 10891, 25593, 40992, 39969, 17363, 29969, 14010, 9131, 3648, 3191, 28058, 39433, 26315, 27036, 42115, 26606, 30548, 4242, 36107, 36207, 29571, 23908, 42192, 8604, 12543, 3385, 20518, 42177, 1332, 16767, 2703, 28002, 43607, 7701, 29589, 25322, 26373, 35127, 40606, 34835, 32761, 32140, 5400, 9621, 32422, 14644, 6129, 30215, 44864, 17280, 10276, 34696, 1570, 37934, 7630, 22926, 22114, 3328, 8033, 2372, 43623, 2087, 19288, 37813, 17820, 31629, 23117, 15148, 20668, 4518, 40771, 13379, 12044, 18088, 1262, 5726, 21796, 16828, 19109, 23887, 8048, 42618, 39727, 24808, 30994, 6589, 4240, 2266, 42824, 43266, 27801, 32780, 21265, 25465, 34743, 24405, 22241, 34596, 41704, 41504, 19817, 5740, 5274, 2730, 35003, 8660, 9383, 8332, 25875, 29486, 30774, 10358, 23626, 20273, 29124, 6674, 34086, 34072, 43429, 20543, 20868, 3928, 36956, 22173, 25988, 24161, 39619, 30464, 32180, 40117, 1843, 33353, 1054, 37870, 44739, 13742, 21368, 20793, 13698, 10226, 15732, 35447, 1235, 10889, 42352, 22216, 16331, 21839, 30283, 19314, 14220, 30669, 4933, 30721, 4189, 30756, 34872, 26163, 10719, 32148, 15202, 38322, 1995, 19472, 34139, 17863, 27579, 29451, 21542, 23417, 17831, 16539, 22345, 16789, 8150, 16254, 15474, 41225, 8151, 39087, 2229, 2092, 22895, 1385, 6056, 23447, 42878, 25554, 9360, 21279, 3971, 13237, 77, 37237, 42446, 39293, 40998, 13675, 25133, 19205, 2825, 30452, 44485, 29708, 7007, 16156, 19263, 2272, 30342, 5856, 39012, 4448, 5474, 10754, 2415, 34418, 36455, 28118, 44570, 9635, 14262, 40695, 42585, 16819, 5868, 40104, 23992, 32579, 7541, 44257, 38235, 16802, 20163, 8730, 11901, 8636, 4131, 41507, 35583, 5477, 15434, 27581, 41587, 23618, 5420, 6923, 11209, 29682, 40847, 27239, 41047, 30914, 40645, 18326, 39713, 37659, 21686, 23674, 36637, 800, 14770, 2385, 34437, 44652, 12641, 13595, 13836, 32252, 27570, 34041, 44944, 24594, 25926, 15165, 313, 10537, 17195, 3475, 17194, 40790, 44259, 11238, 13153, 10046, 19641, 397, 13101, 19170, 24557, 7380, 9408, 23666, 41521, 4061, 41853, 17642, 32902, 9719, 21143, 31293, 32627, 11454, 10741, 32056, 2808, 4289, 32502, 15833, 29259, 34347, 40071, 11182, 29852, 22454, 41936, 43785, 39929, 27285, 14215, 7064, 18717, 363, 26895, 28686, 19636, 21954, 2911, 34194, 6800, 41451, 44223, 1717, 44435, 44379, 21681, 7408, 13514, 27148, 34214, 2793, 14150, 24342, 23961, 43674, 42327, 31876, 23986, 32176, 35895, 14643, 24072, 3690, 15917, 11142, 11658, 5892, 37244, 44074, 37495, 6309, 28129, 8113, 20085, 13010, 15985, 19089, 18467, 7684, 41877, 10589, 22594, 14556, 13054, 8909, 36923, 492, 24607, 29474, 855, 8468, 28392, 19445, 23604, 29228, 28683, 41446, 31746, 40079, 43115, 1660, 21789, 20203, 36170, 4577, 39971, 1989, 289, 40864, 13799, 37510, 38667, 5121, 21139, 33238, 38100, 22899, 21057, 42230, 15919, 13292, 38673, 8633, 21479, 2034, 26670, 38967, 6704, 2803, 16300, 14650, 36093, 5636, 5706, 44282, 41120, 7155, 4464, 28354, 35960, 16634, 20909, 21411, 38718, 24470, 14447, 26360, 40132, 373, 722, 1703, 18113, 40870, 5896, 26449, 39169, 26664, 11815, 43527, 44878, 15905, 15144, 27076, 27178, 5425, 36901, 7345, 36915, 34568, 10022, 10851, 26711, 6285, 21128, 25190, 8336, 37180, 14698, 37603, 37209, 31901, 14765, 36560, 13731, 29465, 11093, 7932, 14255, 2542, 28593, 4325, 14780, 23665, 17728, 13097, 43983, 34611, 4168, 9555, 14480, 319, 11076, 34117, 1734, 6814, 13933, 31620, 10516, 28224, 44490, 34630, 38554, 26023, 2541, 20694, 22863, 18082, 4986, 20874, 43614, 3023, 12423, 23459, 35415, 9393, 5530, 8338, 16945, 39551, 20071, 5887, 24782, 16641, 7520, 23356, 17704, 5177, 34103, 10270, 26434, 23443, 39270, 9502, 27508, 24320, 2898, 25033, 9144, 32601, 10452, 15567, 15205, 21550, 36662, 6905, 31794, 6579, 20891, 7490, 6946, 30040, 5302, 20384, 38406, 5010, 12581, 22778, 10209, 16519, 32852, 4074, 1302, 30971, 31610, 43186, 31783, 38596, 18568, 40375, 33122, 35889, 44784, 44649, 40430, 32256, 44684, 7590, 7400, 11888, 8833, 23279, 5391, 4718, 25140, 3516, 30899, 28064, 1441, 36182, 27620, 39918, 20232, 24285, 38691, 41385, 35571, 26299, 27199, 39808, 16992, 37544, 11875, 31313, 36028, 29183, 2557, 35210, 39760, 41982, 38422, 16493, 5390, 39108, 14690, 1748, 7899, 24396, 2894, 30710, 18283, 5721, 16128, 25952, 10747, 5025, 18630, 34710, 2719, 44207, 8957, 10117, 11, 27497, 25304, 41773, 32690, 7547, 13575, 24785, 9776, 2892, 34450, 2502, 6422, 31511, 33663, 13204, 27932, 35153, 41580, 43654, 21948, 236, 33993, 35756, 338, 38069, 37388, 38487, 1041, 42682, 14820, 3892, 5417, 5951, 32530, 19511, 41545, 1556, 25871, 4604, 29190, 21650, 40816, 7133, 30539, 10099, 29978, 32632, 40413, 34068, 22208, 22461, 2472, 15964, 30023, 20901, 2534, 2433, 24698, 44017, 12521, 25166, 9978, 14052, 39875, 26017, 31268, 42397, 23051, 19227, 23544, 9160, 1244, 7350, 34987, 31960, 8019, 23644, 2550, 8526, 155, 25027, 36970, 17835, 530, 41293, 11873, 20577, 32160, 36055, 40702, 27739, 32548, 34043, 37950, 485, 6804, 21241, 28762, 5895, 23667, 24825, 6571, 35106, 32930, 30491, 2144, 44711, 31990, 15621, 32067, 10979, 916, 12500, 37223, 2137, 5283, 19115, 5821, 42995, 29630, 3453, 13920, 43781, 28462, 6978, 5403, 95, 41092, 37595, 5074, 17779, 9361, 42814, 5915, 19029, 38211, 36126, 3585, 39096, 38059, 29091, 9536, 10188, 17837, 44226, 26950, 34699, 22029, 5367, 31753, 21825, 9641, 14769, 40708, 24651, 21536, 3733, 2481, 6508, 18527, 37142, 33274, 11940, 38604, 23653, 727, 16303, 1494, 32012, 29854, 2117, 7636, 21532, 3035, 5884, 17045, 20356, 42661, 8141, 13077, 16269, 41826, 3650, 43444, 8142, 27344, 39543, 31633, 43817, 15648, 6930, 38538, 40666, 6813, 16468, 44471, 23774, 14774, 35428, 7202, 18236, 22480, 44163, 11436, 37658, 9075, 39168, 25651, 34426, 28243, 16390, 4796, 20078, 4569, 877, 6668, 34423, 6742, 35514, 2754, 25235, 15601, 37512, 34489, 34436, 13256, 17646, 5836, 34129, 27164, 7377, 18410, 22381, 25105, 15813, 4291, 30196, 4519, 38220, 15641, 25432, 43372, 29020, 25563, 19470, 42270, 5551, 26187, 37532, 42262, 10707, 42213, 20683, 24331, 44896, 21488, 29485, 11836, 28541, 35149, 25362, 3472, 32069, 39207, 44090, 7593, 40229, 33743, 6012, 15389, 7922, 19487, 22750, 12988, 31191, 17781, 31801, 3379, 12460, 22886, 11909, 31759, 12961, 4029, 34199, 13143, 25313, 22836, 19696, 6502, 25152, 6750, 4898, 1377, 37750, 19260, 28451, 37420, 14812, 41488, 24602, 15473, 28447, 13951, 11751, 44941, 27556, 13938, 17881, 33932, 25628, 27726, 38739, 36464, 6625, 44804, 4998, 39171, 3133, 22116, 29511, 27934, 40208, 26601, 40101, 25740, 10073, 21058, 12072, 5945, 44283, 28719, 5226, 1844, 25978, 36497, 7508, 33050, 21770, 616, 13900, 14701, 10570, 33831, 20900, 1145, 10361, 21108, 8583, 29669, 17929, 18751, 18556, 40900, 24004, 39375, 44537, 25122, 21931, 5318, 31725, 41710, 11195, 31495, 29909, 26465, 34510, 44198, 42841, 39424, 14860, 5686, 3378, 18248, 39360, 19197, 21974, 26337, 17302, 29516, 15936, 11446, 43915, 35189, 8431, 12875, 22967, 2532, 36424, 17289, 447, 35058, 24701, 44003, 14736, 17361, 39508, 18006, 42606, 556, 32990, 22389, 28191, 17977, 25438, 29730, 3908, 16377, 6843, 22051, 23029, 36530, 34090, 37254, 17418, 2470, 21656, 23152, 16758, 9512, 3888, 36373, 22406, 32778, 19680, 32022, 6032, 19092, 34921, 31989, 43093, 28611, 42085, 35833, 43382, 18123, 20781, 40230, 40737, 14819, 1923, 34742, 39209, 24199, 31317, 650, 33300, 36070, 19721, 811, 21992, 17146, 44153, 16476, 7376, 37325, 14328, 28623, 3175, 18635, 14408, 22321, 14734, 31474, 23056, 5068, 16752, 2518, 15668, 7218, 23353, 29381, 44937, 36428, 28721, 33133, 15894, 44196, 32223, 13180, 26747, 38392, 5241, 7974, 30615, 27241, 40246, 14684, 5729, 21437, 34792, 14844, 12258, 37613, 15187, 44882, 44134, 31478, 11080, 4937, 39053, 10158, 4941, 32538, 14904, 4447, 39308, 39034, 44513, 33729, 15524, 42890, 32149, 14034, 36226, 4995, 36058, 976, 1069, 27326, 34053, 21772, 35072, 6938, 28297, 14143, 38228, 40510, 1376, 27673, 10351, 16919, 37085, 39151, 40783, 11480, 7655, 29454, 26322, 19852, 41579, 36639, 23912, 41706, 31334, 1706, 1006, 5779, 22362, 1880, 18306, 28474, 26715, 38265, 29667, 25589, 23748, 10879, 4255, 29932, 24394, 36993, 16822, 35630, 22032, 31981, 31300, 41738, 18397, 18572, 31935, 11885, 1228, 9121, 44945, 8238, 28954, 26707, 40688, 10077, 10008, 1707, 1492, 231, 38356, 12732, 24823, 35639, 29405, 4576, 16947, 4704, 15541, 4171, 39596, 5380, 35218, 3154, 41975, 43798, 28824, 28715, 4940, 35660, 18490, 1787, 1807, 17625, 37801, 30389, 10024, 10091, 44683, 27783, 36787, 36804, 36484, 27079, 2350, 6519, 37888, 13864, 20334, 3972, 42247, 38177, 5572, 20530, 24915, 21493, 36818, 36247, 16694, 35177, 30505, 39213, 22536, 24080, 34348, 644, 848, 11494, 26275, 32664, 44325, 13494, 40037, 21914, 17454, 33019, 30393, 19409, 22688, 5428, 39732, 4403, 36179, 22764, 11239, 26055, 13197, 5280, 9685, 12373, 37621, 42908, 27601, 30917, 24546, 35050, 16017, 30290, 22221, 19456, 33097, 34362, 33181, 28214, 35172, 6628, 24149, 19802, 16670, 18252, 3841, 23710, 12293, 31587, 26893, 29928, 23143, 42949, 1557, 17297, 11394, 3938, 43318, 22695, 19097, 18358, 21641, 16002, 27272, 9386, 22620, 44113, 37352, 42363, 17691, 143, 10832, 39655, 12155, 26897, 25766, 41535, 42565, 3214, 27146, 33536, 21837, 31155, 35557, 39563, 25687, 33802, 16231, 14061, 23735, 28389, 37107, 38652, 42982, 15297, 22445, 27277, 30962, 263, 21132, 23996, 29318, 30231, 38273, 26501, 17456, 10432, 31325, 41048, 11130, 3117, 25587, 18135, 26265, 37618, 42971, 43582, 34781, 7892, 12289, 23741, 9277, 24025, 37113, 11730, 41695, 32302, 27245, 27470, 4011, 27800, 5522, 44197, 15209, 29027, 20934, 42578, 3178, 4238, 1460, 34814, 24226, 15957, 9941, 41165, 24672, 24576, 4792, 21905, 16030, 44121, 14991, 30478, 2017, 7145, 9825, 28726, 16073, 2963, 26997, 44052, 23251, 16507, 6007, 27711, 16582, 39597, 23288, 32717, 34137, 38345, 14654, 19832, 38204, 10038, 4185, 32993, 1191, 16523, 12692, 43303, 25405, 22318, 17940, 28303, 24989, 30029, 8128, 22531, 41933, 10825, 8938, 22816, 1609, 39853, 24751, 21551, 23413, 23918, 40206, 13353, 4641, 5850, 5495, 27949, 5756, 7958, 37538, 2008, 38098, 35293, 15329, 39835, 41344, 25404, 24682, 9934, 25865, 5911, 36634, 37579, 14244, 8297, 41199, 29963, 41086, 26778, 33755, 6942, 3891, 43442, 18111, 44732, 37766, 7941, 26369, 13843, 41845, 15947, 19891, 29541, 16178, 43867, 41370, 4197, 10460, 1483, 18266, 7816, 17479, 32035, 15768, 31897, 26048, 4433, 26379, 42025, 34241, 3795, 43336, 37329, 43460, 18846, 37037, 15575, 12179, 23925, 32802, 12901, 6822, 13190, 11637, 36069, 28123, 11584, 21867, 8790, 34616, 15783, 1485, 6124, 3907, 37853, 43878, 24653, 24043, 29930, 19249, 26140, 39347, 38096, 21792, 37263, 11561, 13833, 2448, 12905, 18935, 20878, 26980, 12775, 27052, 24700, 41081, 22925, 8164, 22616, 42386, 24707, 32736, 24853, 39461, 6325, 35074, 8899, 23546, 10288, 1947, 20975, 71, 878, 30338, 34074, 10179, 12201, 8282, 37604, 7723, 1236, 29633, 1749, 24385, 5520, 26053, 30126, 38963, 44083, 26324, 24448, 17447, 26073, 17324, 33469, 20074, 24566, 5087, 7810, 30726, 26568, 5842, 31831, 2903, 44393, 28357, 38983, 8167, 332, 18041, 21208, 13110, 24082, 5485, 17001, 18173, 21548, 12865, 33516, 38163, 9446, 29261, 16500, 13135, 13065, 28833, 19619, 28958, 41804, 18504, 15083, 25521, 16006, 12934, 15527, 30545, 27007, 2876, 7874, 31978, 16274, 935, 28821, 2591, 18823, 8088, 41667, 7936, 40549, 38897, 28535, 13026, 43768, 3331, 26100, 15271, 26257, 17912, 33168, 463, 16322, 25700, 17159, 11586, 10900, 9246, 12083, 25762, 19773, 13719, 37885, 9432, 6842, 32048, 443, 33576, 15602, 43737, 28752, 17294, 28194, 20335, 14652, 35028, 5941, 27159, 20618, 25055, 34323, 30129, 12407, 9589, 39476, 5762, 35411, 13599, 23764, 24468, 44334, 35006, 21185, 20538, 43690, 7742, 43896, 11509, 6506, 24361, 31001, 2590, 25803, 27838, 27688, 2430, 19825, 38002, 28409, 6775, 23485, 20245, 2499, 17979, 36853, 6630, 27690, 35640, 7515, 34175, 17106, 39789, 29747, 22525, 5685, 3396, 14498, 20613, 27827, 29635, 44668, 7506, 26281, 30745, 1251, 29114, 40839, 19514, 19273, 25087, 2177, 14171, 26521, 11898, 24551, 18571, 24643, 6138, 26225, 1709, 28916, 41314, 29237, 28514, 2374, 37210, 27456, 7190, 2663, 20564, 10407, 15561, 36607, 19698, 8316, 18722, 10330, 9818, 27480, 3470, 29336, 712, 4598, 5527, 19993, 12540, 34766, 28155, 23701, 28201, 10509, 8764, 23265, 28249, 36031, 22953, 33491, 37823, 3441, 17644, 27171, 6548, 13311, 10322, 18008, 695, 31360, 44968, 18815, 30482, 44965, 15938, 32311, 26991, 23596, 17140, 12774, 23168, 15916, 941, 20441, 18418, 38551, 12514, 7372, 26669, 21984, 807, 36134, 20411, 22100, 22058, 8750, 23582, 38400, 34256, 28846, 3809, 4297, 4520, 24238, 17283, 7916, 29313, 20599, 31959, 32000, 16590, 38578, 35909, 7853, 31416, 41287, 41989, 25807, 26215, 9421, 4035, 33659, 3188, 11526, 17189, 37726, 4359, 9919, 11126, 28592, 4507, 24763, 6305, 44959, 5633, 5553, 26988, 7422, 19804, 21935, 14172, 14585, 36154, 7629, 1522, 40854, 30869, 1406, 14778, 19408, 22637, 28667, 43479, 10615, 5399, 31751, 22660, 13582, 10663, 15642, 16965, 11102, 32189, 2206, 28039, 20701, 42178, 4872, 44562, 44524, 29303, 28218, 3274, 3766, 35983, 34873, 18188, 35553, 22938, 4638, 16624, 26951, 26824, 41809, 37951, 11191, 15792, 23314, 34018, 8606, 7000, 42635, 22823, 37524, 25227, 28209, 24585, 7568, 27410, 24203, 39924, 8175, 3988, 5531, 32006, 5812, 8652, 4445, 9940, 38876, 18334, 37727, 1309, 11383, 23866, 28519, 1108, 22429, 6103, 41778, 39026, 42331, 13891, 627, 31795, 683, 19265, 4413, 44909, 32748, 2921, 37252, 39382, 11583, 18424, 37642, 29028, 41159, 41236, 14273, 35980, 33782, 23854, 36482, 14722, 24424, 4207, 37053, 6698, 43910, 40152, 3555, 18919, 17342, 36794, 23182, 17705, 18543, 8533, 44979, 32826, 9085, 22956, 37363, 2101, 4465, 32935, 40706, 35698, 24634, 21538, 17512, 14423, 33867, 7651, 12571, 34512, 2464, 4008, 14970, 21398, 20571, 8539, 19431, 20095, 8709, 3573, 42143, 5168, 30595, 7846, 24115, 12280, 39336, 9868, 25661, 13118, 6685, 5972, 31076, 23225, 15798, 42378, 40738, 34604, 3975, 4894, 26014, 29249, 37232, 33671, 35291, 4749, 4475, 37331, 20067, 40254, 44839, 43085, 37846, 1724, 4257, 42423, 16287, 30894, 10395, 41158, 20043, 40036, 35215, 28, 41585, 9852, 32154, 7374, 12632, 11325, 38699, 35869, 16856, 36319, 15030, 36917, 20996, 533, 5822, 28205, 24119, 41636, 4708, 21480, 34156, 26953, 26570, 38042, 1978, 38974, 659, 5395, 27099, 18583, 3568, 34548, 2507, 21972, 19498, 33114, 6771, 25409, 28737, 32378, 21856, 24110, 33464, 28530, 31717, 39684, 43967, 35266, 7467, 18045, 43445, 34980, 43793, 9687, 4962, 28482, 37851, 19528, 43953, 40454, 34869, 39731, 42499, 21591, 23273, 6672, 27182, 35791, 17167, 9649, 9013, 20962, 34321, 305, 14345, 8193, 43105, 404, 11447, 30405, 19568, 34952, 40994, 17107, 41817, 43756, 16521, 35326, 25467, 35685, 41388, 42939, 12746, 44479, 39275, 33076, 25080, 36656, 35313, 15295, 44583, 12231, 40095, 36848, 12680, 25812, 3674, 37432, 44250, 12645, 34770, 24421, 24230, 10909, 6512, 13545, 33617, 40159, 18681, 4032, 18692, 18567, 38802, 23494, 2999, 34881, 17145, 11804, 39926, 44792, 17207, 39898, 38135, 1419, 12376, 6871, 13750, 44120, 39677, 34414, 7117, 39669, 30510, 8597, 24401, 24615, 4678, 13318, 1207, 27524, 28619, 38207, 41764, 44025, 24254, 6427, 43810, 29981, 28391, 13200, 927, 43543, 5644, 37834, 8099, 25297, 25634, 33185, 32867, 39215, 34339, 40043, 29178, 30042, 7905, 19727, 1257, 16552, 31386, 10261, 3196, 32016, 11717, 6964, 25245, 2529, 34524, 17313, 38116, 42465, 44892, 37682, 32666, 32725, 36228, 32043, 1633, 4444, 16256, 9777, 22728, 33975, 9585, 14268, 13866, 243, 42775, 9747, 25643, 12264, 32499, 34519, 23397, 39418, 41162, 25777, 13966, 10561, 38607, 1365, 31321, 23220, 35161, 31914, 29229, 29591, 13253, 17812, 10888, 26657, 6511, 30567, 22829, 34014, 24257, 28837, 20557, 28476, 4160, 366, 9985, 10654, 29242, 41020, 5785, 20131, 42887, 38016, 7152, 32794, 13586, 14715, 4877, 2574, 31615, 24073, 20083, 36987, 1129, 18380, 17212, 26383, 39048, 11118, 37835, 33379, 7957, 29153, 18224, 13413, 21289, 14922, 37112, 31228, 38093, 16265, 44341, 22885, 10853, 33899, 26333, 13294, 34167, 32119, 28148, 3081, 4786, 38671, 11488, 28875, 3981, 20760, 42249, 41115, 19757, 27639, 10884, 3499, 37992, 24902, 29316, 3878, 25526, 19567, 28986, 18587, 5602, 38976, 4804, 9271, 41452, 33901, 4614, 11807, 36627, 41533, 31742, 23402, 34369, 34152, 4019, 7831, 42563, 11014, 10723, 3844, 35777, 10193, 28765, 19416, 30687, 7381, 4387, 39243, 414, 31149, 27624, 26313, 43192, 33887, 41381, 38615, 19991, 3506, 11062, 10597, 38756, 25828, 27785, 40145, 28316, 43789, 3611, 10772, 14271, 28495, 4097, 6253, 44782, 22181, 43197, 38334, 27400, 9223, 17782, 24206, 13091, 11510, 42667, 21993, 5220, 1900, 12794, 9117, 15254, 33908, 26683, 21596, 30654, 114, 6214, 9426, 17602, 11266, 11727, 11689, 7475, 22721, 1295, 6669, 19601, 26230, 22482, 43630, 35276, 75, 7505, 19116, 15308, 32531, 10481, 9961, 14831, 26133, 40714, 4635, 30959, 44898, 32896, 657, 40629, 34601, 34213, 24788, 15062, 8666, 19351, 36437, 16957, 40419, 3473, 40810, 24261, 38809, 20669, 22015, 33486, 11462, 20906, 25047, 24553, 9199, 12839, 8166, 8080, 16858, 18237, 43364, 2218, 33091, 34755, 23800, 27141, 4939, 223, 9738, 36427, 5317, 30645, 12552, 5825, 1324, 1514, 19169, 21888, 18538, 29322, 30287, 27268, 16980, 9470, 21431, 16933, 14523, 34176, 14741, 28192, 42548, 35931, 12800, 15136, 8610, 15169, 942, 28238, 40972, 23455, 13929, 11723, 3963, 4782, 36395, 27813, 18099, 19400, 38327, 15623, 8880, 2315, 6677, 9745, 40546, 25217, 31838, 21539, 9656, 18046, 6249, 36547, 10107, 26795, 16574, 21131, 1679, 40518, 7808, 37764, 39303, 8162, 43042, 44426, 20094, 12523, 37639, 2645, 3840, 6317, 18004, 38620, 19171, 18223, 15536, 1405, 41129, 20117, 42843, 16278, 43204, 22178, 32634, 29351, 36243, 12277, 29240, 18904, 4259, 3693, 11078, 2516, 40677, 15522, 4397, 5938, 20957, 8648, 32584, 17093, 11768, 30621, 13785, 1159, 34945, 1669, 9801, 5826, 1001, 972, 24316, 44821, 16689, 13655, 39536, 6856, 42551, 39894, 24138, 36269, 25123, 20047, 19250, 42693, 26853, 33245, 25706, 37839, 19857, 2388, 7602, 4860, 22754, 20208, 43175, 24187, 9293, 20834, 25436, 41166, 4250, 14471, 2305, 22077, 41336, 18788, 43997, 32477, 36213, 13481, 35450, 15156, 39041, 39956, 13347, 43074, 39469, 28261, 3875, 7132, 3180, 37419, 18949, 18102, 11413, 43076, 16772, 15024, 29647, 43136, 4264, 41424, 6536, 11528, 4187, 12021, 16204, 43604, 29874, 1692, 18466, 4502, 18648, 33534, 16384, 734, 9311, 4314, 25107, 12417, 21348, 15195, 39748, 7770, 34079, 4078, 16889, 20428, 8612, 32225, 44742, 32366, 27471, 11588, 19717, 39109, 17573, 21932, 38856, 801, 213, 34638, 7316, 34142, 26652, 39486, 10185, 42552, 2670, 23751, 39981, 18697, 35767, 16929, 17490, 12239, 31040, 22160, 1837, 6459, 35597, 43275, 29300, 2171, 10242, 27590, 22621, 27715, 9916, 32269, 24171, 13386, 12706, 4373, 10668, 22772, 5000, 25984, 41721, 14835, 6262, 17527, 35059, 32566, 19074, 44523, 40307, 27415, 7162, 21325, 12013, 40118, 4846, 42102, 15213, 21465, 6588, 23697, 29977, 33843, 25295, 2026, 21345, 1100, 36644, 1884, 41879, 27225, 35830, 44925, 22757, 41397, 24656, 1472, 32545, 37757, 43697, 28642, 14681, 44560, 35184, 34808, 13302, 16144, 23637, 7519, 5132, 17813, 3905, 28362, 439, 22398, 20507, 4279, 15701, 34198, 43988, 38580, 38570, 28483, 13776, 21607, 14483, 39882, 13717, 16681, 2107, 24600, 24472, 4591, 22159, 44293, 40833, 798, 39350, 28663, 8334, 19730, 44541, 8391, 28901, 26029, 19312, 3495, 9339, 24526, 29327, 28308, 28294, 9244, 36152, 10340, 38808, 29563, 42433, 3753, 13763, 9028, 33452, 4636, 21277, 40248, 12686, 25923, 7182, 21782, 42383, 8737, 9, 1200, 26291, 14783, 25561, 12285, 43779, 8222, 16680, 38274, 19897, 17487, 31168, 42337, 5559, 27510, 11300, 3451, 2063, 2436, 8970, 18351, 16182, 6410, 468, 39457, 11949, 31988, 35963, 5833, 24281, 8448, 15857, 37028, 15088, 8010, 30511, 13252, 22578, 3445, 1449, 31902, 21672, 2870, 2040, 5384, 43686, 4214, 585, 4133, 15103, 22250, 28736, 10388, 37998, 39119, 34784, 31645, 18718, 15585, 10595, 12069, 13434, 360, 40648, 13175, 35283, 11507, 3858, 19982, 22492, 41022, 20667, 13241, 31948, 23610, 30531, 1274, 5731, 25057, 37827, 44272, 35051, 10029, 17841, 21707, 25046, 44284, 6761, 22263, 16675, 3091, 16671, 7645, 38025, 20721, 43950, 10913, 14254, 25195, 44870, 18392, 22523, 3354, 19676, 11627, 35758, 1275, 836, 24817, 34301, 520, 42590, 5705, 16183, 35169, 9788, 28662, 32267, 16525, 4329, 34926, 13624, 30591, 32713, 27368, 5692, 8883, 39450, 2841, 35933, 8659, 43979, 15832, 41959, 34006, 34392, 9993, 5340, 10862, 36232, 35212, 1675, 15029, 8969, 15358, 8194, 27576, 3244, 5472, 14357, 25665, 44315, 30450, 9412, 42336, 15539, 17542, 17112, 24390, 26968, 26987, 9403, 13387, 7818, 6275, 23695, 32274, 30184, 43051, 44453, 12722, 15208, 19793, 20705, 12109, 28041, 39765, 36418, 44558, 4205, 15921, 5335, 1379, 7696, 19955, 7623, 4780, 5001, 23097, 23904, 21307, 1493, 3047, 17735, 41768, 38979, 2342, 36006, 22805, 39903, 24190, 2264, 5188, 14616, 17049, 11207, 33695, 44461, 25564, 38621, 20671, 27985, 18396, 12920, 32907, 2362, 5631, 44466, 42856, 29973, 6090, 41238, 6562, 36379, 24251, 20063, 44715, 9680, 14915, 25796, 42861, 20199, 41315, 30141, 12574, 32570, 30773, 23832, 30509, 37196, 20171, 22284, 5129, 25489, 16062, 43969, 3557, 8708, 34525, 28004, 41396, 3529, 20472, 16472, 3220, 23861, 28950, 8090, 34940, 27053, 39060, 10016, 27599, 9375, 41245, 16197, 40107, 15129, 19873, 25672, 43511, 11369, 12374, 41008, 4581, 2608, 9982, 37197, 34695, 30743, 34425, 43938, 1902, 4466, 9467, 39795, 29705, 37817, 29352, 24539, 3372, 27684, 18928, 25864, 37475, 7225, 20267, 18133, 20969, 33547, 16326, 347, 20732, 10966, 20068, 28150, 21234, 20504, 31367, 41266, 36947, 2643, 31283, 28141, 11393, 36771, 40161, 16232, 18932, 33467, 41528, 37207, 22046, 3947, 10780, 34759, 10387, 14551, 4159, 42928, 24887, 16991, 6313, 17181, 11530, 27438, 42470, 15414, 12743, 20366, 35620, 8817, 15734, 20505, 25081, 40174, 31895, 26245, 34289, 16832, 8537, 5741, 37514, 29131, 17544, 42429, 30013, 35064, 36108, 187, 26714, 31365, 10415, 32822, 12850, 10114, 41862, 32412, 38026, 34655, 6042, 28899, 8668, 15552, 14931, 1250, 25932, 4489, 44698, 12898, 37875, 35328, 11059, 28641, 30961, 44342, 36064, 20762, 23086, 9890, 44093, 31908, 4921, 14593, 35765, 1546, 29093, 16362, 8705, 35996, 25406, 10374, 32092, 41908, 10473, 16401, 44927, 5702, 6944, 27956, 18833, 8422, 25049, 34702, 32572, 38071, 35622, 31792, 8810, 20534, 21720, 27357, 42858, 5916, 43340, 42005, 22164, 23954, 40150, 43606, 3536, 4028, 25791, 25383, 35195, 12559, 7396, 32782, 22549, 1963, 5707, 23227, 24745, 37143, 22489, 35112, 14675, 15101, 5440, 23492, 7036, 27821, 43473, 3550, 15653, 39558, 31493, 21333, 34773, 2695, 8256, 36494, 40379, 5866, 35904, 17670, 29233, 38166, 15360, 31286, 31405, 25312, 42432, 2037, 19289, 39118, 19943, 15981, 10775, 37918, 42672, 28426, 22042, 35839, 16201, 11308, 9932, 1918, 21833, 38672, 19606, 24051, 25738, 37371, 20886, 13416, 1968, 5894, 14068, 29325, 42298, 40778, 38425, 36751, 28240, 18785, 17749, 15851, 5853, 2994, 33369, 12015, 2126, 294, 6148, 10755, 36362, 15303, 30021, 2856, 31692, 12783, 14781, 33183, 15530, 35790, 40277, 38419, 296, 39150, 22665, 3034, 13500, 5284, 43017, 36986, 22271, 3604, 36277, 35285, 41095, 26994, 1203, 29120, 7674, 31821, 36785, 31066, 32652, 25146, 11477, 24102, 6851, 25877, 21753, 38077, 8144, 22054, 12384, 26092, 30014, 17964, 18364, 17484, 28239, 23928, 16650, 23390, 20291, 43472, 25183, 25026, 38397, 8503, 29220, 17849, 19365, 20439, 39691, 36772, 33125, 14396, 43234, 10417, 41753, 35330, 7443, 27782, 5389, 29887, 32264, 23938, 41647, 43585, 25680, 38290, 28485, 31465, 25544, 33289, 19999, 16639, 20695, 21820, 40324, 20672, 40622, 42802, 40791, 17055, 24273, 23607, 17250, 30928, 34955, 5190, 17148, 11539, 14668, 14016, 36241, 30936, 26946, 35257, 6577, 19569, 37730, 31777, 5512, 7626, 22864, 42501, 29149, 40835, 30479, 11839, 3075, 13186, 7769, 36364, 39076, 33891, 35566, 3040, 21274, 26068, 25388, 10153, 32645, 17218, 348, 15293, 4004, 22363, 40743, 13433, 22347, 1217, 17425, 39867, 27957, 18294, 7875, 10877, 35186, 2086, 944, 14482, 39921, 15066, 27611, 32169, 22180, 6537, 13208, 7369, 23632, 10815, 34543, 36071, 40857, 32513, 30157, 18456, 25361, 39870, 21862, 12424, 11566, 33063, 13911, 43274, 34597, 43476, 17216, 36737, 42309, 41066, 26198, 20588, 28928, 26408, 19229, 36948, 44234, 36770, 8415, 14236, 13338, 10428, 41604, 5925, 40186, 26577, 35031, 30571, 31862, 39122, 23018, 38614, 11769, 21876, 35288, 11048, 359, 20717, 33925, 22033, 8860, 2706, 42416, 19002, 27686, 26579, 28360, 39030, 21579, 25012, 30341, 31617, 25613, 15722, 31205, 7217, 41379, 29052, 33597, 29278, 21735, 43099, 36296, 21427, 10071, 41021, 32950, 30980, 11685, 38420, 19025, 9666, 44608, 23808, 43573, 35772, 44755, 21092, 18525, 28381, 33056, 17629, 40663, 39584, 12017, 42356, 1504, 42116, 24172, 10347, 14230, 16400, 2753, 39571, 10445, 7907, 28404, 27088, 11354, 10464, 6061, 30799, 17951, 18946, 24262, 7779, 27883, 44246, 18376, 36430, 15432, 11636, 41966, 23717, 982, 25462, 15674, 42754, 15170, 1562, 33347, 840, 9008, 6684, 7793, 12509, 5749, 5608, 34087, 21509, 34565, 44754, 40323, 33890, 33815, 23619, 29886, 33809, 38630, 5920, 44399, 42304, 30392, 42789, 8811, 14288, 11276, 7278, 37819, 2987, 14612, 39261, 14837, 10078, 11525, 39384, 42899, 15455, 30620, 34058, 17232, 30260, 3016, 20292, 8745, 3092, 11595, 39180, 44816, 33131, 26767, 42658, 39883, 40892, 19672, 16085, 34829, 23833, 44802, 33984, 26525, 33500, 17679, 14175, 22587, 42505, 32770, 37931, 33938, 43843, 26040, 39893, 4881, 19262, 32553, 18660, 19442, 44509, 21193, 28180, 16260, 12462, 32122, 11618, 38574, 3363, 9439, 18498, 25116, 12250, 10991, 43250, 38720, 5513, 37592, 19454, 4284, 2802, 24540, 15071, 17742, 7429, 40728, 16667, 34588, 25423, 10992, 34007, 2810, 32062, 37617, 34064, 42699, 42818, 7903, 44550, 10390, 22378, 5662, 16857, 8534, 28961, 34647, 21237, 42044, 3315, 2969, 38030, 30072, 42850, 18436, 3195, 35057, 43232, 4901, 28946, 43795, 27831, 23404, 40699, 26937, 983, 18263, 28498, 8062, 32940, 10341, 33010, 17266, 103, 29514, 25344, 39280, 17755, 35493, 40105, 6150, 4561, 43990, 8373, 11359, 3791, 30783, 8877, 11188, 40559, 35634, 16105, 32405, 25868, 25375, 5210, 26827, 23852, 11828, 22432, 1731, 10535, 17764, 8126, 37201, 22530, 29595, 20965, 42657, 42714, 26203, 6439, 34366, 24901, 23822, 28789, 18489, 37607, 12612, 5626, 23935, 1776, 22658, 1042, 18855, 20693, 24358, 11120, 8488, 28388, 3992, 10579, 33875, 7668, 20486, 4101, 30266, 38297, 42286, 8926, 19469, 9074, 11915, 27301, 5387, 39973, 23266, 31232, 42560, 8558, 14060, 40876, 27261, 35046, 44483, 16445, 26184, 3399, 8726, 4130, 14696, 26106, 38763, 41815, 25963, 40446, 14183, 42945, 9241, 11200, 13572, 10640, 13207, 10575, 5587, 29294, 34024, 6935, 33665, 43203, 44114, 22008, 9454, 24511, 37636, 23033, 24236, 28413, 28666, 36106, 30093, 20839, 6221, 40268, 27807, 34136, 30612, 40591, 36679, 8929, 33598, 36283, 23049, 19718, 38869, 36902, 18414, 21572, 27327, 32989, 6190, 36851, 26218, 26706, 2929, 34226, 483, 36837, 21105, 7306, 12960, 8524, 38529, 43841, 15472, 7837, 43994, 15447, 35945, 28436, 25412, 6584, 6405, 38926, 24444, 38611, 6567, 14965, 3779, 8287, 18044, 29992, 28841, 26399, 12382, 33880, 1088, 14978, 37917, 16551, 2023, 15006, 4907, 8239, 35550, 14218, 17321, 28372, 6394, 34229, 6015, 12917, 28921, 15555, 15307, 4104, 17166, 26179, 22238, 44708, 6920, 7300, 9793, 13590, 42923, 32925, 25366, 23940, 21153, 39488, 37715, 28422, 27312, 29703, 3808, 39585, 9836, 28905, 12908, 21113, 37788, 44447, 6908, 36700, 42008, 24335, 37366, 29265, 37942, 22961, 6240, 32903, 22407, 27918, 6539, 29493, 32506, 35858, 16598, 4336, 16037, 1567, 12947, 28943, 26392, 32599, 38882, 33779, 17804, 23045, 44706, 14102, 12699, 8619, 42627, 12919, 18907, 44615, 11035, 35281, 6342, 11861, 5450, 23062, 18408, 19218, 5923, 43416, 20861, 24045, 40848, 17178, 1758, 22524, 32709, 44540, 20847, 19633, 5079, 30946, 11082, 43603, 37677, 24543, 21386, 19049, 3089, 42920, 963, 4619, 13875, 39825, 3426, 39190, 8728, 692, 13947, 9240, 37067, 32365, 9759, 43219, 26076, 33333, 9090, 27015, 20709, 43021, 9124, 26653, 32844, 44367, 7072, 4015, 36863, 34387, 29790, 44895, 16007, 13104, 44409, 26628, 6924, 29714, 44081, 7852, 15796, 3347, 22143, 23489, 42842, 6743, 19415, 31865, 35755, 31939, 27006, 7700, 25948, 16833, 8229, 2538, 2823, 44736, 6357, 9114, 36021, 39672, 9331, 12100, 1651, 1243, 44535, 7469, 33367, 86, 36254, 23932, 33563, 10923, 19403, 42717, 22730, 10472, 29665, 10434, 18070, 21036, 2009, 4270, 12921, 34883, 28149, 37202, 5343, 39413, 43106, 7273, 22681, 31135, 20792, 11944, 23102, 35431, 32483, 21541, 1126, 43280, 21085, 6287, 34660, 19176, 850, 21446, 12660, 33328, 42452, 29707, 28047, 26403, 17757, 12415, 9165, 2908, 27977, 25935, 7619, 24241, 237, 23656, 3412, 43033, 38990, 31434, 30001, 9833, 18852, 39092, 110, 2804, 19985, 11450, 10327, 44631, 42379, 5810, 38181, 18952, 43378, 12824, 24198, 25725, 1626, 29440, 3306, 21886, 11465, 40537, 10002, 32481, 32755, 44019, 27535, 11464, 17569, 36030, 2010, 10094, 32496, 1641, 17879, 887, 33218, 42579, 3261, 25068, 21627, 8410, 2112, 27196, 2093, 17974, 27795, 765, 9781, 7554, 27598, 7952, 10881, 3511, 35461, 3316, 2782, 1383, 31139, 10556, 5171, 6728, 27538, 27927, 38773, 12635, 42523, 18295, 31542, 42677, 31036, 8918, 44488, 43955, 2910, 8544, 41801, 34594, 15970, 2466, 11347, 31255, 17475, 19359, 20811, 34866, 42707, 42848, 5876, 6096, 39862, 16769, 40499, 1072, 13606, 37561, 2248, 18878, 11499, 21806, 20609, 41691, 42916, 22649, 18780, 11021, 25258, 40456, 1563, 20300, 9463, 37896, 16887, 12670, 9729, 15946, 4825, 26119, 4393, 42472, 3137, 37304, 23116, 3039, 5415, 27335, 40664, 1075, 5341, 33870, 29663, 24812, 3796, 9192, 34004, 26963, 21940, 42210, 2214, 22706, 205, 41005, 16541, 36872, 13509, 14924, 3301, 30442, 23453, 22555, 12747, 10465, 37303, 1411, 41222, 11534, 8469, 30668, 13317, 7661, 16932, 15090, 14048, 17613, 13248, 25103, 12173, 42559, 38237, 41796, 29574, 14782, 40863, 36833, 23193, 41571, 12544, 19851, 14708, 32605, 27621, 10980, 1516, 33752, 9520, 28465, 32233, 29000, 25491, 4111, 69, 31261, 38107, 14047, 11662, 32671, 35401, 15262, 20892, 44778, 41870, 1728, 5052, 8117, 4319, 1214, 6504, 9758, 36904, 27906, 17492, 5013, 802, 25560, 29646, 5436, 17653, 9442, 21127, 35846, 31154, 1086, 8179, 27618, 4001, 39427, 5824, 35105, 21962, 5953, 16943, 42380, 34931, 35302, 1043, 28309, 26356, 44963, 13780, 7870, 36201, 37395, 21530, 30235, 26037, 15463, 43053, 37281, 2465, 16374, 6694, 23257, 8814, 30417, 41427, 42487, 17768, 24300, 39031, 40396, 9715, 21655, 14073, 12301, 32072, 23778, 7213, 13020, 32831, 34842, 23351, 7328, 9956, 6815, 1227, 26292, 37339, 4376, 36660, 41733, 12185, 29317, 18909, 28506, 23957, 27082, 18665, 18387, 12489, 15842, 12583, 2939, 22277, 36463, 25488, 32242, 18686, 26804, 4927, 41313, 14929, 24481, 29995, 25372, 18162, 36641, 2835, 8590, 32964, 36685, 4883, 3671, 27644, 43070, 42546, 34469, 18019, 8879, 32561, 30889, 20752, 14284, 11179, 10631, 12061, 37422, 1970, 39323, 35432, 19966, 30240, 9535, 43777, 44924, 40564, 11726, 304, 11432, 12828, 41644, 5899, 3675, 15717, 22016, 39154, 23567, 24506, 2079, 13693, 25307, 22217, 30113, 4961, 31189, 14821, 24850, 29248, 1313, 3149, 12443, 24732, 3638, 36694, 28704, 19338, 5200, 29338, 4509, 25461, 6339, 21433, 17081, 3103, 34245, 38033, 4484, 19457, 28796, 42158, 33132, 6610, 5598, 30956, 2284, 13953, 20392, 3991, 40406, 32107, 18793, 32524, 35427, 7978, 43055, 41582, 43068, 8490, 7024, 39646, 8681, 22312, 42742, 39194, 9350, 43833, 37516, 29009, 24205, 5092, 5232, 118, 18564, 10957, 30133, 8275, 19841, 32348, 27170, 30243, 27499, 4566, 30017, 22209, 22850, 40570, 27808, 14999, 24280, 44278, 13164, 37105, 3997, 13345, 23283, 37945, 14253, 29172, 36127, 13647, 13989, 43842, 9060, 32419, 41848, 42905, 9815, 33976, 23399, 34704, 8056, 17647, 6991, 10968, 12467, 44718, 25545, 38511, 40285, 32276, 30733, 988, 12852, 3505, 32891, 11600, 44626, 9843, 15515, 13337, 7960, 8046, 42623, 38999, 24009, 34433, 17084, 25919, 36629, 37633, 22600, 30073, 20413, 35155, 38410, 44425, 15256, 41146, 13424, 13718, 2817, 11598, 22503, 43762, 31732, 32658, 37670, 26847, 41491, 1479, 23316, 201, 3100, 13678, 20294, 9927, 22064, 18607, 43962, 11942, 15658, 12519, 20407, 42332, 44377, 29132, 37189, 23989, 14641, 5279, 31407, 5352, 20081, 3548, 20984, 39176, 2321, 16074, 14572, 24303, 29067, 23725, 8177, 13597, 7768, 30278, 8114, 7765, 37138, 4300, 39932, 1618, 44719, 31839, 6369, 40427, 25321, 34473, 3097, 26174, 10787, 732, 25515, 9692, 37052, 32424, 26665, 23586, 38913, 27104, 11640, 19504, 16924, 719, 20675, 19316, 35760, 13935, 25567, 7042, 31868, 2418, 37403, 1892, 38340, 26260, 42974, 31834, 31479, 16610, 30960, 26581, 3634, 9716, 28614, 16741, 7880, 22252, 16054, 34830, 34771, 5144, 33263, 22316, 4064, 1199, 15401, 18077, 42254, 38330, 7473, 20501, 14946, 1196, 38696, 24519, 7186, 24363, 30547, 30421, 25042, 33808, 44296, 26928, 20853, 29662, 29676, 12325, 28657, 23730, 37852, 2471, 24066, 10190, 16994, 41583, 25308, 37708, 7847, 24307, 19319, 29084, 27459, 26554, 38925, 23420, 42075, 21486, 33565, 3083, 31038, 12326, 29287, 28904, 37041, 28980, 6643, 37008, 42542, 3702, 26916, 2128, 32587, 21397, 19930, 10344, 19094, 8189, 15908, 14045, 15928, 37217, 26700, 932, 33746, 30225, 23826, 44942, 12068, 34206, 33193, 7009, 10625, 9560, 21811, 26993, 28729, 30135, 23775, 29971, 13520, 37465, 10938, 18399, 17031, 32175, 28326, 10987, 9267, 24614, 43596, 26475, 9904, 22403, 28782, 16553, 39229, 35692, 20612, 43165, 31591, 25293, 23678, 31376, 39301, 9831, 19724, 19306, 44008, 15364, 11926, 7946, 43879, 2888, 14879, 30711, 11892, 36574, 34932, 24872, 1192, 7561, 32098, 19767, 24129, 11404, 39045, 29418, 31608, 26551, 10207, 22882, 24978, 9866, 19278, 22604, 11378, 9921, 6678, 28281, 8800, 16840, 7751, 16179, 32810, 29688, 18803, 27536, 10545, 44580, 41130, 8303, 26032, 19798, 37480, 14250, 28929, 9300, 25879, 8613, 23780, 6623, 12329, 36855, 32315, 37904, 16267, 25100, 28405, 35338, 29749, 32812, 16848, 994, 22714, 42733, 9353, 12219, 22097, 41707, 22351, 29813, 19221, 13462, 25735, 13293, 43636, 22175, 5159, 34658, 5752, 21985, 3625, 44894, 22436, 29463, 36137, 33829, 28975, 16977, 19444, 14366, 17462, 41605, 24738, 29529, 4909, 25809, 9929, 30596, 16438, 14450, 8561, 1981, 44135, 26651, 6695, 19031, 16308, 43392, 29350, 43864, 1912, 19886, 42607, 38697, 13660, 8930, 16403, 8036, 44416, 23121, 43210, 6848, 8268, 25294, 35039, 27437, 7417, 2896, 27650, 31529, 32009, 30944, 30865, 6159, 31005, 7893, 36347, 34768, 10524, 5225, 121, 16257, 22278, 11371, 899, 33433, 11975, 18329, 8520, 26396, 43437, 14577, 26674, 35314, 35144, 21908, 2943, 40875, 9303, 19272, 10131, 24367, 5364, 43487, 21472, 37520, 13411, 30241, 41339, 3639, 31956, 30665, 22742, 5715, 26341, 7393, 29476, 10377, 8463, 27708, 21436, 4558, 34023, 1986, 28738, 2992, 28487, 6866, 14797, 23573, 1012, 38396, 25292, 4942, 33233, 5668, 33251, 44929, 43185, 38815, 13089, 14737, 42141, 35750, 4600, 285, 25795, 40680, 27223, 11691, 37485, 4071, 33554, 11973, 9049, 22852, 24027, 3500, 17132, 17450, 7065, 26162, 8984, 39300, 16491, 2408, 17833, 42751, 40610, 25609, 11747, 5932, 10946, 15801, 17860, 33773, 209, 18233, 4226, 34518, 23248, 26830, 18688, 4421, 1344, 3344, 10060, 42381, 7698, 25352, 5290, 31245, 37707, 2083, 12136, 12066, 19155, 40530, 6186, 7330, 6954, 39016, 16397, 40210, 23194, 23903, 7851, 11783, 5739, 16295, 26944, 32603, 1797, 35866, 13568, 27891, 21734, 8876, 37979, 16917, 21747, 38053, 36606, 16174, 20761, 43239, 27249, 11223, 43486, 25753, 17589, 31603, 8900, 12529, 43548, 15163, 39421, 27871, 21029, 17421, 1389, 30616, 24870, 20915, 23997, 12840, 42712, 23768, 21471, 39248, 1668, 32797, 44848, 6882, 4021, 13506, 16189, 6436, 18309, 43050, 331, 43700, 41438, 3481, 8932, 5757, 11953, 1960, 40523, 24113, 38757, 44478, 7264, 40724, 19595, 32235, 10299, 23477, 7921, 14436, 19726, 19870, 12655, 19805, 15610, 2339, 42686, 27375, 18835, 19166, 37953, 741, 12085, 34010, 38741, 25755, 3057, 18701, 10813, 23900, 29763, 31874, 8651, 6627, 22689, 26328, 14192, 20202, 38810, 21200, 291, 24315, 5385, 18331, 24662, 44066, 25830, 1777, 24159, 39964, 17545, 18327, 6538, 30657, 37743, 39962, 14304, 23949, 37090, 24733, 39291, 42053, 9068, 7898, 42644, 6488, 37573, 36680, 16813, 28571, 9005, 36973, 5748, 33764, 34515, 23325, 39550, 42478, 37837, 27663, 29314, 15900, 18405, 30285, 33756, 19842, 42655, 30715, 15021, 8328, 12102, 16353, 41383, 33852, 30817, 32922, 2180, 14199, 14494, 19255, 1834, 38019, 33861, 11255, 27740, 18255, 9178, 13909, 2311, 12334, 43363, 15860, 43668, 12620, 21666, 41442, 21111, 18177, 39242, 33706, 27969, 37279, 26028, 11417, 31941, 41831, 16534, 21483, 15723, 17193, 17308, 4144, 38109, 36710, 4438, 3201, 34026, 12749, 14032, 23721, 22265, 16175, 30991, 8989, 44612, 3262, 5902, 18154, 38047, 38065, 23094, 13562, 10974, 40462, 8184, 25506, 4854, 4689, 33940, 43808, 40178, 2209, 27005, 22535, 23126, 40173, 33658, 44884, 3931, 23966, 23776, 4425, 42915, 31930, 24950, 18683, 32764, 3777, 37596, 43320, 15269, 22672, 14637, 7424, 24382, 9957, 28417, 41608, 39412, 26602, 725, 36353, 25758, 39925, 19402, 13705, 21955, 8032, 43226, 22506, 20382, 10843, 13339, 12958, 17504, 5693, 3199, 28580, 27464, 10677, 5651, 22920, 383, 42098, 40151, 32093, 9969, 42981, 31906, 25273, 22515, 18601, 26888, 824, 33346, 22697, 4524, 28576, 34382, 37397, 19145, 16005, 29189, 18153, 35179, 8181, 38217, 2990, 38777, 31419, 13669, 21522, 25073, 2050, 18307, 28860, 40199, 44616, 8671, 37969, 39742, 4092, 34059, 24517, 1149, 29877, 1685, 10216, 20595, 13028, 25296, 36807, 7181, 26533, 15800, 20723, 7822, 17338, 7660, 33330, 42345, 24112, 7760, 34571, 38973, 18915, 39377, 44806, 4140, 23148, 33276, 6961, 43600, 18830, 18931, 33723, 42189, 12359, 14597, 14121, 5872, 18824, 35108, 31784, 7621, 28652, 22266, 26414, 28681, 14114, 43876, 12220, 7491, 8850, 20141, 21793, 532, 34232, 3071, 21213, 33318, 1560, 21179, 15257, 16863, 20700, 26966, 40895, 36657, 27238, 1991, 14677, 10522, 25927, 22396, 41261, 1148, 22846, 35093, 5803, 21958, 9128, 35670, 38956, 42172, 40091, 30140, 41635, 4795, 18594, 9027, 2143, 28629, 26627, 14748, 11253, 43376, 8536, 4218, 535, 6162, 2281, 32393, 19713, 378, 12131, 26246, 31320, 10660, 25701, 20943, 12610, 12433, 22614, 28026, 34047, 36953, 1495, 27314, 22996, 37586, 5354, 9291, 37619, 35632, 31788, 18495, 21712, 27109, 6376, 25855, 11786, 946, 8559, 42793, 29165, 23100, 11989, 36958, 9638, 35250, 7299, 214, 38158, 27533, 484, 20653, 31755, 17272, 14400, 786, 18290, 9497, 5323, 33965, 9003, 37256, 31285, 34397, 30197, 7840, 7481, 18471, 15248, 34923, 2241, 557, 42060, 3231, 33950, 4500, 18325, 16408, 30245, 28147, 22094, 25029, 8070, 4803, 43465, 23970, 39564, 42958, 41170, 42030, 27224, 10692, 8381, 40775, 6400, 6760, 34933, 12121, 8067, 18216, 13729, 15542, 39361, 41987, 25112, 26019, 21052, 14378, 14138, 8502, 1768, 1801, 3405, 3169, 35699, 3028, 16685, 36295, 1346, 27167, 17931, 20422, 31695, 1955, 14976, 14620, 22843, 23614, 8804, 39067, 44353, 17924, 27870, 28157, 30911, 30779, 5202, 2091, 18074, 28517, 43678, 6934, 36586, 17023, 26474, 39284, 16731, 14611, 43035, 5196, 23670, 27543, 33439, 40271, 42940, 10231, 38028, 37675, 41746, 36736, 22017, 22286, 39369, 40214, 30318, 18478, 23650, 7017, 22841, 33735, 23709, 36702, 14211, 37789, 22179, 44603, 37717, 27952, 29185, 27646, 2398, 22707, 16594, 18066, 37382, 6644, 642, 42985, 27989, 14462, 44970, 8882, 35650, 40183, 34965, 23075, 13819, 41000, 44890, 2768, 7268, 34592, 3125, 7209, 33204, 21828, 25678, 7346, 32029, 20652, 39842, 22281, 28919, 16469, 19533, 27236, 11920, 6029, 663, 5898, 24829, 3444, 20991, 24076, 1468, 26984, 2071, 33987, 4477, 5921, 12008, 30766, 32234, 37489, 14477, 40618, 1849, 33110, 32112, 10650, 16173, 43800, 23386, 25464, 25530, 28286, 21020, 11162, 15242, 40326, 16814, 44328, 41502, 43238, 4485, 38160, 36192, 22002, 20115, 36419, 26272, 30978, 24586, 11721, 3294, 89, 4199, 34529, 30744, 36655, 35779, 2938, 24773, 34557, 32361, 28346, 43237, 27136, 40233, 35691, 27685, 29801, 7002, 26352, 35013, 6812, 30523, 15289, 25748, 38246, 19722, 6425, 6136, 2411, 8615, 32803, 39288, 29064, 7389, 27244, 33981, 38079, 25090, 29760, 7309, 35661, 38012, 17408, 11456, 27212, 28682, 1967, 24442, 15036, 41905, 13934, 27625, 1941, 21160, 18794, 9965, 43966, 37695, 2594, 3418, 26131, 44311, 29137, 9761, 8477, 39098, 36027, 42159, 36882, 1176, 35123, 16953, 2035, 5910, 22505, 26122, 39426, 36361, 40255, 8510, 11313, 13628, 24864, 25739, 39221, 8677, 16660, 23422, 8467, 17786, 25075, 1824, 42291, 6981, 22710, 9898, 7413, 29604, 38664, 614, 19358, 30356, 19188, 6139, 18053, 12058, 16431, 6115, 24786, 14155, 4384, 32170, 965, 13852, 42602, 30435, 1490, 25236, 43297, 30998, 8532, 35795, 43241, 15457, 13759, 31453, 33510, 17244, 43875, 5900, 1417, 39220, 25597, 12637, 22912, 5709, 15077, 17970, 12361, 13075, 10164, 26466, 31157, 30724, 5773, 30714, 4427, 25914, 17554, 2440, 543, 2606, 27941, 25482, 22479, 32532, 40918, 17329, 31707, 39249, 3084, 44189, 20757, 24181, 40705, 25070, 29771, 23541, 40244, 31195, 10400, 4530, 38944, 15535, 29054, 19213, 15193, 26289, 38880, 41356, 9582, 27707, 830, 38501, 42325, 11077, 24026, 13962, 24806, 2806, 140, 18447, 41477, 33382, 28333, 32887, 42760, 42480, 35851, 3896, 39282, 14006, 2932, 22887, 21817, 32219, 17558, 7108, 24164, 9799, 10607, 6296, 39874, 37869, 42123, 41494, 15162, 39401, 15566, 22174, 32838, 37313, 3077, 3819, 22226, 31080, 24093, 16865, 35481, 21919, 10714, 37865, 33309, 6572, 12949, 7403, 18886, 36697, 20690, 3713, 39112, 13771, 11838, 15877, 32847, 26234, 30330, 11463, 11750, 40739, 37417, 24294, 21558, 20345, 17712, 22702, 30079, 72, 39153, 24920, 10911, 43262, 12888, 5811, 42640, 22190, 16000, 1300, 37829, 39569, 11527, 39337, 3665, 4404, 1336, 23119, 11613, 22626, 17415, 5187, 24463, 39506, 30610, 36271, 25175, 13000, 34858, 36557, 4400, 41551, 29109, 24504, 31644, 6658, 38438, 11657, 19398, 39395, 30016, 37964, 30367, 36492, 23321, 42536, 13744, 9691, 18072, 32857, 42863, 2382, 27597, 19290, 15147, 22223, 131, 31866, 28197, 27160, 11037, 15365, 26211, 27786, 38105, 17409, 43505, 23055, 27467, 44653, 4118, 1987, 13533, 16662, 13922, 40897, 6168, 18813, 20776, 19610, 13577, 21978, 34817, 28007, 43806, 41309, 41887, 25569, 39657, 20349, 31075, 2280, 39492, 22367, 30085, 39204, 37137, 10339, 22937, 22056, 13559, 34085, 33411, 25242, 31166, 31711, 20073, 23185, 19961, 38668, 2135, 21232, 15328, 3424, 7631, 34947, 35104, 30345, 26518, 4308, 33562, 14604, 32824, 43273, 23651, 4430, 13867, 8439, 24904, 699, 11362, 10637, 30990, 20282, 42307, 21011, 24050, 27695, 21457, 21928, 24659, 39037, 30480, 30943, 24210, 42763, 14404, 42628, 12441, 42652, 32206, 4278, 14000, 235, 6085, 35551, 26197, 13622, 42594, 12079, 2061, 19968, 21675, 11483, 17922, 34122, 11089, 14105, 34627, 10852, 39127, 27380, 36481, 2038, 29796, 36567, 11908, 38139, 19367, 20862, 35684, 27819, 19584, 27773, 23415, 44191, 35383, 4949, 42757, 18011, 14738, 34390, 20418, 30845, 21499, 19990, 13807, 24983, 19995, 16246, 40807, 34246, 29619, 13128, 11372, 14691, 34200, 40914, 15272, 36750, 6390, 26510, 36582, 33851, 1402, 25730, 12600, 21077, 36057, 33608, 14161, 10606, 1119, 4072, 26377, 6558, 31199, 27606, 43151, 11572, 40572, 38524, 21559, 30063, 24703, 22610, 35842, 23647, 27190, 3236, 11229, 12682, 44288, 15167, 39179, 36002, 35831, 18810, 44289, 27965, 40643, 25035, 44893, 26378, 42058, 44876, 11563, 38126, 23894, 37356, 10081, 36741, 43706, 17641, 32915, 38602, 19422, 7829, 4822, 8065, 19212, 13704, 19337, 21973, 36760, 33160, 43470, 4513, 36039, 37640, 36907, 9175, 6543, 36996, 20686, 13079, 20151, 37745, 17655, 3095, 19910, 29103, 14562, 25880, 10343, 21997, 6975, 9338, 21262, 43488, 44313, 8543, 29565, 37517, 44609, 25679, 2857, 25387, 23154, 14961, 24490, 23140, 19479, 4049, 40203, 37248, 30428, 38035, 26104, 31522, 32339, 2674, 37784, 17561, 16281, 25272, 38153, 2341, 4816, 34141, 17264, 29415, 16147, 16630, 9765, 19382, 31174, 10731, 10303, 34415, 22599, 37972, 23987, 30081, 44528, 631, 33736, 17393, 9754, 36596, 22257, 38070, 16380, 9026, 15350, 24927, 25170, 5314, 6591, 13498, 5219, 10442, 35939, 29548, 33273, 30606, 29820, 25549, 15907, 35601, 29547, 25694, 33669, 18541, 40806, 27640, 32691, 18061, 42358, 30880, 9558, 7704, 10914, 20076, 21148, 44087, 19607, 14406, 34848, 42209, 29617, 11073, 42154, 43441, 39140, 41209, 9901, 27163, 19576, 30139, 12455, 10504, 10609, 4122, 31932, 9491, 36212, 13913, 23914, 3088, 41178, 16245, 36572, 18258, 12996, 36371, 12626, 44836, 5882, 31115, 28401, 37292, 35133, 38017, 5110, 9643, 4714, 31311, 9572, 5539, 31625, 35009, 36919, 25014, 27494, 30386, 29184, 21322, 12710, 25319, 20655, 27259, 11426, 30702, 12611, 31509, 28375, 32660, 42256, 12826, 20657, 44321, 23724, 38775, 33834, 33096, 28003, 3017, 19587, 28019, 37251, 7444, 35384, 30933, 29453, 38119, 33636, 42765, 22315, 43608, 41354, 9817, 29956, 34477, 29372, 9805, 34386, 27635, 44239, 42615, 31968, 18297, 31329, 1498, 5716, 2450, 35137, 39265, 10102, 42101, 19864, 42326, 15074, 41937, 42626, 7549, 38912, 3243, 31757, 23468, 2934, 28660, 20220, 31381, 43468, 27609, 12394, 28609, 23195, 41253, 26143, 9321, 24259, 25001, 1949, 18229, 26059, 11210, 40827, 31854, 44594, 41576, 27981, 44761, 16249, 11850, 44949, 21156, 19256, 28910, 43187, 39147, 32766, 6956, 456, 15422, 34889, 766, 35309, 18184, 31219, 27667, 36044, 21070, 38744, 15607, 32734, 15068, 16388, 22261, 31560, 42122, 13009, 3235, 8474, 23342, 27799, 29893, 32971, 38859, 18158, 30888, 9577, 1381, 11211, 25664, 30941, 22158, 153, 43065, 17279, 15138, 22640, 14330, 15176, 28488, 32744, 584, 15979, 24675, 32727, 22866, 44208, 9524, 4592, 13552, 13066, 3923, 21004, 21927, 1154, 3238, 9042, 14957, 21447, 3705, 21137, 36092, 23287, 6137, 29521, 26586, 6727, 38502, 32351, 10066, 23924, 3659, 24368, 10366, 15911, 30362, 40511, 11129, 4184, 38350, 31236, 1335, 13243, 5435, 28268, 40129, 37215, 13567, 41038, 17810, 38917, 40675, 8958, 42828, 30412, 31290, 7088, 32431, 14387, 44763, 14190, 18948, 24095, 28166, 25264, 26124, 26423, 23505, 12478, 42132, 16726, 38121, 37089, 24414, 24556, 35987, 31533, 17087, 11016, 29369, 25357, 32364, 22329, 26503, 40099, 43844, 28995, 22512, 35764, 16113, 44571, 8171, 34365, 21207, 29799, 33048, 16657, 29989, 4437, 23371, 11967, 20602, 29264, 41544, 33435, 23012, 784, 33171, 10108, 37017, 39665, 22342, 13439, 9661, 29100, 21346, 9574, 37828, 16465, 5023, 23048, 19164, 22847, 26530, 28177, 24612, 8313, 44768, 31098, 4639, 18761, 26921, 25320, 2005, 9625, 9917, 3432, 10360, 32430, 24216, 43743, 41157, 36266, 41188, 39773, 26401, 34151, 37175, 40216, 27011, 27701, 32263, 28832, 2, 27340, 32209, 38778, 31771, 16051, 1561, 15751, 8819, 19471, 4503, 7939, 40013, 4418, 4043, 40327, 18704, 29937, 31649, 27578, 22987, 13199, 21421, 33082, 1471, 44614, 22585, 3612, 25038, 34210, 27193, 3897, 27328, 8202, 14432, 36532, 42705, 28720, 36514, 411, 11391, 38879, 20520, 27086, 35746, 19052, 44745, 38988, 20492, 19827, 41202, 19235, 27568, 4675, 23255, 4045, 26803, 26220, 6649, 38054, 37967, 11079, 18339, 43446, 8075, 30080, 21981, 13278, 8642, 3814, 39951, 10232, 1278, 40579, 6404, 2692, 41650, 19117, 25097, 7090, 16176, 4859, 29746, 37627, 36306, 763, 1002, 12395, 3717, 29353, 28420, 36149, 33613, 11659, 32245, 20774, 10210, 39915, 39519, 36533, 8185, 15291, 22782, 3821, 32289, 22576, 5618, 37645, 4136, 27767, 41239, 26431, 13274, 19907, 7257, 3143, 40048, 10058, 19098, 1026, 42510, 26074, 32466, 28677, 32246, 34526, 43366, 13057, 4345, 33404, 42439, 15357, 14796, 7868, 2307, 28979, 33678, 18579, 26407, 15479, 7580, 18708, 34077, 7947, 42869, 28202, 36968, 10652, 17597, 37104, 14276, 7199, 40197, 16313, 8872, 10165, 21730, 18936, 9505, 26370, 32050, 37500, 567, 6089, 18602, 6984, 33629, 3868, 25454, 30423, 39827, 15508, 24842, 42479, 28396, 29364, 19714, 4969, 22605, 16247, 9314, 32988, 172, 33262, 9678, 7737, 1093, 22323, 26244, 39214, 14085, 870, 31064, 28331, 11486, 11289, 2644, 32345, 13548, 30992, 23899, 29802, 43640, 1910, 5813, 35775, 5500, 11140, 33737, 3271, 2737, 6899, 24398, 42692, 23883, 5620, 24725, 20660, 28971, 14565, 13185, 18889, 4552, 13755, 29779, 22527, 24942, 42674, 13853, 24234, 8839, 38472, 16836, 21834, 1058, 27257, 22951, 28828, 2797, 19277, 5760, 28608, 40121, 12081, 16217, 5990, 26701, 41599, 8805, 42596, 25225, 23720, 4481, 25443, 35736, 42322, 38452, 35005, 14623, 9726, 12024, 21507, 41755, 28640, 41417, 43993, 17914, 44358, 30970, 25239, 40103, 44797, 3166, 12978, 32636, 22328, 16258, 5216, 27928, 20010, 4178, 36115, 7289, 44375, 27338, 9997, 30267, 16944, 8732, 33582, 44459, 16433, 26043, 38294, 32982, 34845, 9838, 41413, 7375, 27138, 21117, 44184, 40451, 20703, 39780, 35467, 23527, 15031, 23975, 10218, 11033, 31231, 42012, 28245, 13449, 24047, 30874, 5515, 24142, 14038, 37820, 18705, 16418, 10272, 3008, 6620, 43111, 17774, 37299, 33931, 22417, 26419, 32429, 38521, 32657, 12551, 37378, 35247, 42566, 11177, 18056, 40224, 37003, 13641, 15875, 16271, 33166, 5498, 20316, 36184, 41474, 40024, 25221, 20378, 35342, 21651, 44677, 7485, 37987, 37738, 34831, 16827, 39714, 34375, 11237, 5792, 17809, 7093, 40148, 41655, 38362, 39641, 30797, 32552, 21391, 9541, 28464, 35579, 14682, 6416, 44762, 27687, 37980, 6066, 35604, 2013, 22741, 12771, 42649, 39849, 40843, 16354, 12150, 392, 15944, 1469, 32237, 26129, 26117, 2715, 40642, 26507, 14728, 29456, 5204, 10998, 20966, 42723, 6258, 44277, 13677, 7357, 15227, 12276, 34212, 43022, 3655, 2726, 9952, 17429, 34539, 269, 18261, 41277, 9741, 44267, 7215, 25129, 8856, 40066, 10240, 28685, 19754, 19548, 4253, 39931, 25603, 27016, 42638, 13685, 14584, 33915, 12352, 29051, 5464, 36267, 33209, 10224, 11072, 38049, 44452, 2412, 27367, 17202, 11306, 4409, 2019, 28248, 31842, 23229, 20550, 35332, 7592, 42385, 12495, 8284, 28968, 39800, 40028, 15856, 16690, 41712, 19892, 36222, 21456, 11681, 21336, 17636, 9809, 26025, 9731, 35513, 19731, 41193, 2277, 33521, 44152, 27135, 98, 24891, 23163, 16375, 25185, 36887, 36390, 16633, 19327, 15371, 3070, 31177, 126, 22871, 44783, 14442, 21798, 42351, 43616, 12032, 1197, 7501, 7814, 10466, 36600, 24508, 420, 16222, 30935, 23327, 5848, 1090, 43825, 21224, 1073, 33325, 23739, 23375, 37082, 1115, 44808, 31257, 28636, 6478, 2899, 26269, 4096, 6825, 13952, 28604, 440, 5151, 15583, 33007, 23613, 760, 38694, 23729, 717, 26742, 30858, 6274, 28221, 41918, 8831, 4578, 6218, 5126, 7048, 36332, 33111, 25202, 11069, 27300, 41906, 30328, 38231, 13616, 36287, 36589, 35676, 11515, 19550, 26995, 23804, 37612, 30256, 6194, 4858, 36707, 42273, 41541, 6786, 24567, 12968, 1151, 40766, 16250, 11181, 14906, 22306, 41011, 18214, 37054, 39928, 38742, 41084, 4073, 39559, 4443, 22625, 11263, 35301, 33869, 522, 44747, 8480, 25043, 8211, 19748, 307, 15392, 1996, 29113, 8821, 12071, 17707, 9455, 14033, 19783, 40140, 43691, 41337, 35824, 1945, 4622, 17509, 18127, 26205, 18535, 29824, 4292, 20106, 20755, 35973, 28446, 18858, 38461, 17330, 8754, 15220, 31741, 24270, 20662, 17307, 35626, 3763, 36874, 4669, 7565, 42538, 23745, 30771, 23583, 22335, 34803, 4236, 32823, 35649, 10052, 33064, 34306, 19986, 9994, 30149, 4645, 32331, 43594, 5147, 40804, 12129, 39078, 43539, 21420, 26416, 44203, 38916, 27950, 12927, 41917, 15808, 28158, 15644, 1186, 23919, 28424, 22391, 134, 4223, 20673, 35173, 34750, 24789, 15143, 23907, 16997, 22901, 10266, 35959, 1920, 41757, 21586, 36156, 27878, 17441, 42382, 30912, 27483, 17817, 44954, 18502, 28399, 36407, 495, 11502, 26016, 11508, 35145, 33449, 32105, 14313, 8147, 5239, 35385, 33012, 32394, 23929, 28531, 38992, 2620, 14785, 23687, 26287, 22990, 20918, 41450, 5056, 28834, 35012, 23760, 6638, 17340, 19697, 14646, 40058, 27814, 42463, 8331, 32325, 29523, 21901, 11734, 18973, 12874, 35440, 18310, 16063, 27091, 22452, 39132, 5664, 9021, 13444, 29768, 40838, 23328, 37229, 13127, 21478, 7542, 23418, 23467, 29967, 355, 34719, 44810, 25338, 29735, 27263, 28253, 5788, 35406, 33386, 11272, 44303, 43367, 27656, 19760, 3471, 27580, 1520, 34606, 36060, 5253, 6928, 20640, 20802, 2303, 6987, 30788, 44950, 1331, 36894, 43251, 9309, 17019, 10198, 10178, 37124, 29983, 26729, 31368, 43028, 5966, 14267, 22613, 38646, 13276, 39085, 39593, 19009, 20056, 28903, 1475, 13213, 922, 38568, 28277, 20451, 32696, 13275, 43452, 34885, 22049, 2084, 21826, 12778, 41345, 26884, 3727, 20541, 44463, 31775, 17015, 27619, 8269, 16939, 18939, 31546, 39359, 18202, 14011, 35591, 11552, 38411, 44049, 21164, 41985, 36372, 43247, 23014, 10586, 8008, 4423, 2956, 29838, 441, 28639, 21413, 30757, 2880, 37699, 33448, 31640, 27724, 11429, 34052, 32396, 24218, 26271, 4737, 6483, 35714, 41855, 28695, 39935, 25263, 8965, 43432, 17989, 5449, 4817, 37554, 35647, 17700, 11609, 14195, 32037, 1658, 25220, 43374, 2111, 35393, 14194, 31379, 36579, 21010, 23871, 16449, 14005, 19208, 34002, 13711, 10789, 17555, 40701, 5667, 10878, 29276, 22150, 20049, 35465, 31899, 7041, 43575, 11152, 6526, 24513, 33182, 8769, 31042, 3962, 18251, 17257, 12788, 38006, 17467, 15494, 2455, 33800, 41034, 40018, 854, 43215, 14630, 1796, 34404, 24967, 10324, 22747, 16101, 13072, 32947, 18118, 40457, 8384, 22246, 26192, 19674, 31450, 3151, 4997, 14548, 3546, 26165, 5701, 18706, 33718, 876, 13233, 24826, 44139, 9048, 34891, 33691, 7080, 42586, 40433, 23046, 32382, 24240, 973, 22450, 14521, 16972, 30456, 38541, 31485, 5568, 14787, 10568, 23301, 12810, 33594, 43321, 35083, 40278, 23923, 21201, 26886, 31793, 38421, 12868, 14440, 36810, 6611, 15056, 40468, 17769, 38914, 17999, 6505, 5370, 25165, 21691, 33493, 10965, 24193, 43368, 10497, 10485, 32834, 17394, 3258, 20796, 4405, 18653, 40722, 43729, 44897, 7367, 31681, 23115, 16668, 15973, 11111, 2965, 39324, 23898, 4134, 27987, 4584, 40084, 24953, 16807, 31336, 27107, 17938, 19136, 27777, 26832, 13029, 42066, 1408, 16075, 10000, 12942, 42896, 38155, 6878, 35464, 20647, 28432, 18174, 6759, 22834, 19474, 17583, 5214, 24574, 19266, 13346, 36684, 16076, 24831, 11204, 10362, 8083, 13421, 41275, 22879, 27284, 36880, 6055, 15612, 6545, 13805, 8158, 22699, 412, 14664, 16148, 39141, 19483, 12159, 29012, 9020, 39497, 1727, 13320, 23784, 40029, 39468, 38129, 27661, 22305, 546, 2576, 2052, 8975, 36546, 19010, 1936, 20306, 4753, 33791, 13456, 36504, 2168, 2360, 12924, 35573, 35586, 14296, 37353, 38899, 20499, 13923, 43010, 33994, 18784, 18038, 1957, 36576, 7746, 1118, 38260, 21074, 37380, 23025, 10669, 7510, 44082, 26829, 15758, 2586, 36553, 41934, 43814, 13849, 31809, 42343, 28217, 28748, 25677, 10332, 9718, 1317, 33996, 28568, 6443, 31373, 26309, 6772, 31494, 16593, 43140, 18204, 3009, 2095, 13334, 39358, 17303, 40384, 24132, 37656, 27074, 27856, 28518, 20704, 40263, 37314, 26786, 13244, 40608, 37493, 37732, 29607, 4099, 44563, 29777, 18494, 39460, 11001, 36363, 18749, 43156, 39694, 15231, 44604, 10036, 18221, 18143, 42466, 26817, 15786, 42320, 10089, 35175, 20272, 16025, 41232, 4957, 7230, 29577, 32099, 19123, 38102, 15428, 28415, 9213, 37014, 25349, 23858, 31322, 24133, 7161, 1638, 1239, 29872, 27363, 9367, 29191, 7912, 17535, 9054, 27173, 20816, 43696, 33956, 16648, 17064, 33528, 7368, 19579, 23810, 18093, 26633, 26876, 41395, 19482, 43625, 22922, 9813, 4731, 41263, 6431, 31785, 35773, 34185, 13694, 40293, 25768, 25299, 35036, 13105, 25085, 25891, 5798, 37226, 34624, 17948, 25808, 9795, 30811, 44634, 7496, 2191, 32397, 29759, 27632, 7123, 29507, 32120, 34447, 40532, 17074, 9634, 20374, 19073, 3064, 27302, 5467, 8491, 3253, 31372, 18853, 15456, 39331, 12601, 5540, 13442, 30150, 43287, 22059, 32298, 9578, 26149, 10696, 14300, 7385, 12588, 6892, 27521, 14649, 16971, 23510, 5095, 3953, 1866, 14568, 42117, 26750, 13374, 42568, 279, 22533, 11767, 34888, 31364, 19202, 34894, 42822, 24988, 36778, 10123, 25381, 6415, 39057, 39353, 940, 33196, 37739, 19186, 8547, 41274, 44147, 22397, 34001, 30497, 27550, 19976, 34908, 37164, 23230, 5724, 1593, 39373, 41201, 14265, 6840, 25011, 21236, 42108, 9812, 10141, 30232, 7850, 26949, 15562, 25888, 43836, 34899, 34722, 34355, 8110, 4506, 35611, 16935, 3843, 22923, 31636, 40205, 39015, 38032, 19894, 12381, 15244, 30161, 18420, 5629, 39394, 21534, 16845, 32261, 31047, 4550, 17295, 36718, 5603, 26553, 7671, 35020, 81, 24215, 8948, 6121, 33306, 37068, 30028, 21634, 14967, 37616, 1003, 20226, 11531, 3454, 2299, 24832, 21524, 10255, 41687, 44427, 6001, 30908, 42355, 30178, 16117, 28772, 43559, 1286, 7587, 43618, 26343, 37863, 787, 32493, 6664, 23830, 39692, 38681, 33977, 23473, 30646, 15698, 1123, 22726, 7291, 40420, 41051, 26772, 33502, 38494, 19855, 4695, 26738, 9443, 19173, 18714, 19525, 15075, 44654, 42040, 35828, 11724, 21191, 13784, 32767, 6481, 34101, 19813, 43897, 4609, 34997, 9329, 6524, 26116, 8217, 10983, 39158, 2669, 9910, 6553, 16479, 10814, 1682, 20319, 2495, 5022, 38638, 21046, 44872, 42582, 33150, 35837, 11032, 27370, 41793, 3320, 43471, 10119, 37841, 6378, 11269, 9376, 9914, 8258, 18756, 11482, 6220, 11984, 44730, 23151, 20119, 36452, 39539, 16795, 6897, 6683, 6387, 18383, 4648, 12057, 42730, 8378, 44780, 14841, 31806, 16905, 20090, 17511, 33292, 4246, 12356, 26520, 33864, 38801, 2203, 33207, 44581, 4735, 34443, 17436, 9406, 43778, 26221, 35081, 23548, 27317, 2456, 25827, 9857, 38949, 25224, 43009, 32749, 41602, 25532, 34093, 29829, 38522, 12238, 38827, 8507, 12623, 36401, 25905, 20327, 43420, 32395, 28094, 7665, 30839, 18012, 122, 1524, 31428, 38878, 40266, 8878, 27638, 24923, 1589, 4554, 16033, 38405, 12639, 37966, 32808, 8988, 42148, 10997, 16365, 22357, 40716, 40407, 29738, 44787, 34599, 35445, 30502, 44079, 37235, 36834, 2975, 37029, 9377, 37220, 17574, 36951, 14679, 9251, 6861, 40207, 17147, 737, 11543, 33170, 42481, 14390, 40989, 33368, 4870, 12282, 41860, 449, 43191, 2155, 19121, 24896, 14697, 32130, 23757, 9883, 39534, 30292, 36521, 29036, 24994, 14490, 20305, 43828, 2317, 10739, 32715, 41254, 31099, 16398, 19304, 22427, 43826, 32327, 44162, 29299, 7165, 36346, 41827, 18028, 15774, 39589, 10840, 15738, 18603, 20600, 30234, 19192, 2826, 15008, 20859, 35378, 33113, 15498, 23787, 19742, 41948, 24650, 36374, 39383, 37895, 39299, 26411, 20572, 16531, 41448, 2948, 39271, 18316, 21329, 21658, 22111, 4988, 10097, 18320, 33881, 27975, 31267, 21702, 19310, 41866, 10617, 31224, 10471, 41324, 22994, 44107, 106, 39799, 44433, 31760, 17669, 20754, 83, 14605, 33371, 37669, 29620, 27761, 8854, 40237, 9743, 5647, 14832, 35745, 36979, 31163, 13269, 35070, 17652, 26514, 42257, 39749, 17521, 42876, 31229, 41030, 9179, 33697, 31814, 13336, 12644, 33338, 26095, 20687, 12447, 13206, 14422, 32613, 38724, 30660, 34146, 15502, 28051, 36866, 29879, 1653, 9526, 5006, 40453, 14981, 21821, 23391, 24776, 31430, 32047, 20821, 35136, 41856, 6592, 38824, 20945, 39145, 8087, 13491, 13978, 24697, 27666, 33255, 22553, 40772, 38087, 19590, 44972, 25364, 37666, 27308, 38348, 43299, 30650, 32978, 13283, 32752, 39162, 1164, 10449, 16296, 18983, 32275, 18885, 32875, 3689, 10673, 18443, 41681, 11556, 8082, 4085, 7331, 42721, 31573, 44145, 18723, 1825, 12730, 36577, 31127, 16695, 5212, 8923, 28761, 478, 30158, 16729, 3698, 20135, 2336, 41063, 9654, 22801, 4309, 28254, 29597, 12976, 5550, 3862, 37154, 31682, 20402, 22405, 8504, 9162, 30830, 20764, 6527, 37213, 24370, 992, 28090, 43101, 218, 10649, 13083, 4863, 13327, 32680, 44814, 44245, 4301, 8476, 25872, 35244, 2477, 8680, 16264, 42387, 23597, 14317, 35655, 17387, 15117, 5148, 29156, 41053, 32010, 3503, 21250, 23217, 42545, 37777, 42666, 17460, 41140, 25246, 12398, 43515, 27391, 42871, 13129, 5207, 1247, 27147, 28228, 42921, 7878, 36265, 4164, 10893, 20972, 21647, 41997, 5987, 20481, 37490, 13713, 27204, 33194, 12011, 21290, 11364, 22897, 40482, 42483, 24166, 17506, 36789, 16855, 23677, 1774, 42766, 14852, 29652, 15915, 28718, 4855, 31408, 22446, 38941, 24855, 10769, 13538, 893, 15214, 17010, 32873, 43633, 30525, 15198, 13501, 33176, 15267, 25279, 16925, 26052, 39442, 24605, 35164, 17073, 30112, 17577, 15427, 20952, 20304, 42099, 33839, 37588, 7195, 24525, 28075, 36052, 17859, 15980, 5661, 44518, 9310, 3731, 14595, 16324, 30371, 31371, 24268, 17034, 225, 24731, 35425, 30831, 31397, 17811, 30078, 39341, 41724, 36631, 24220, 13482, 43131, 24052, 31983, 10314, 38227, 24868, 34237, 6883, 28559, 34554, 33191, 2289, 29578, 32023, 3696, 34797, 28892, 23448, 30764, 37387, 15663, 36525, 3241, 35207, 25822, 39456, 1079, 27158, 29460, 5197, 8073, 18725, 14069, 22426, 17437, 36084, 33410, 29658, 19838, 2676, 30348, 17740, 33522, 154, 25159, 17778, 25048, 42144, 4365, 40231, 18618, 22072, 27422, 42639, 30376, 31599, 42300, 29011, 16673, 40599, 22898, 17564, 19329, 3709, 5235, 2042, 3059, 12110, 16659, 40776, 20258, 19637, 43424, 30551, 14472, 34300, 2989, 10777, 17600, 12634, 12688, 13662, 6948, 40872, 31534, 5851, 24107, 40794, 35803, 30685, 37118, 2537, 28142, 1913, 39042, 20244, 13151, 1134, 10794, 14478, 5073, 26864, 36753, 23515, 15850, 4629, 8484, 13188, 34855, 25772, 11918, 3167, 37222, 12456, 13972, 12913, 12716, 41145, 31823, 7891, 42160, 22521, 1431, 42943, 14642, 7453, 11533, 10796, 32137, 24494, 10972, 36414, 14326, 11802, 16067, 25624, 36161, 5401, 19580, 40687, 37225, 13839, 43861, 43413, 8286, 25792, 1023, 42150, 41880, 31630, 37449, 9954, 871, 837, 32168, 30964, 29729, 21315, 39123, 5805, 20018, 17175, 40920, 17130, 13743, 37448, 8757, 38298, 35528, 28236, 4392, 2485, 8815, 4914, 33973, 22756, 18117, 12209, 32800, 2020, 6482, 43380, 14106, 37925, 9134, 6917, 2437, 4570, 10925, 43090, 2874, 12149, 13536, 26058, 7341, 11500, 44658, 40915, 22352, 25384, 19295, 32377, 15507, 17609, 43352, 34740, 10297, 31308, 41077, 8638, 34431, 37700, 16210, 32236, 4810, 1584, 24839, 17713, 24202, 40348, 26641, 1854, 13601, 11218, 35908, 14420, 16599, 15121, 25493, 9354, 4700, 19384, 37578, 19834, 7414, 42214, 7894, 35682, 20262, 21790, 22607, 34730, 42729, 29292, 720, 5397, 5205, 37443, 15711, 21710, 14214, 31249, 8069, 36515, 29450, 2611, 16629, 32002, 1157, 36214, 9875, 39889, 16153, 40256, 19194, 9600, 2860, 43556, 4556, 39246, 33463, 747, 37151, 41068, 11963, 26088, 19617, 3645, 2709, 19949, 20887, 40789, 17412, 4398, 23285, 11399, 24990, 7487, 16617, 11277, 25106, 37169, 39111, 38639, 7075, 3716, 44913, 21812, 2961, 28879, 19769, 38562, 30762, 36551, 8497, 36693, 28167, 38401, 39332, 6111, 24762, 32856, 31582, 13565, 10700, 20284, 25450, 8457, 44369, 29363, 29238, 40660, 36443, 18043, 19248, 31142, 24883, 19833, 18477, 40828, 34523, 22657, 24753, 30259, 1195, 32503, 32083, 1345, 16071, 21362, 22465, 44096, 20833, 2435, 25128, 35546, 36139, 12319, 27331, 26675, 31827, 4079, 30893, 41783, 33683, 23905, 15119, 14041, 27693, 24801, 24959, 295, 14491, 3925, 40350, 29979, 15215, 44801, 25240, 28692, 27383, 21902, 43000, 7718, 42709, 24296, 17925, 20777, 19588, 27994, 19388, 43739, 30468, 7599, 27978, 7031, 37542, 32152, 29071, 11877, 18647, 29640, 17291, 44500, 38753, 16080, 40299, 3114, 34623, 2027, 33583, 18120, 20347, 38870, 12784, 2347, 9714, 13193, 44573, 26044, 5755, 31882, 36890, 7804, 15509, 9523, 30747, 32450, 31085, 1259, 38097, 12471, 14275, 27169, 17539, 28028, 2833, 5737, 29077, 1222, 16068, 10682, 21449, 26732, 29804, 40100, 26004, 3093, 25499, 36348, 14487, 26764, 32784, 22929, 6977, 25382, 12357, 21760, 35128, 8887, 17913, 43478, 33819, 365, 28091, 10806, 34216, 35021, 23122, 7440, 3714, 30769, 30111, 37930, 25811, 41264, 8727, 22674, 11835, 30106, 3685, 14834, 2656, 19522, 26769, 31972, 34417, 212, 38962, 13598, 44243, 18352, 13926, 36188, 31276, 11854, 37367, 37247, 36523, 3628, 42531, 3439, 769, 20314, 7589, 34892, 4952, 945, 35740, 43193, 15146, 8845, 24666, 34211, 5645, 13511, 7849, 32436, 32739, 16165, 11781, 29723, 20445, 31270, 2039, 35769, 16733, 19973, 9723, 23809, 35325, 9119, 22722, 9659, 11792, 17242, 4767, 24895, 21537, 22958, 27832, 39792, 15298, 18967, 39090, 12511, 10199, 36799, 7752, 44863, 14988, 25178, 30681, 15650, 20313, 3242, 19357, 16229, 20779, 37638, 4495, 42437, 25419, 44225, 7101, 9047, 37752, 63, 28812, 7726, 34299, 4637, 28042, 1482, 4076, 33149, 42288, 188, 20809, 26752, 4411, 25523, 43443, 43311, 7020, 7074, 44585, 15845, 42484, 41965, 41208, 30057, 10041, 24248, 15019, 15626, 42317, 40134, 27900, 20825, 10583, 37518, 22361, 14433, 22023, 32688, 28774, 23985, 20615, 15497, 26247, 29402, 15687, 28105, 16946, 43919, 38108, 23713, 38056, 15442, 30122, 12957, 35867, 25974, 3527, 14811, 43326, 43335, 13303, 30457, 34890, 12671, 33553, 22944, 25674, 34572, 10770, 6723, 5713, 1293, 682, 38076, 10553, 6926, 21084, 3909, 20004, 34954, 33280, 7732, 19518, 40290, 7336, 36208, 12926, 20758, 25092, 28449, 32639, 22617, 28188, 23167, 7811, 16203, 5084, 40598, 254, 36535, 21809, 10139, 35668, 17096, 6365, 30870, 9410, 41822, 43999, 16275, 24157, 3086, 19682, 12473, 20627, 17281, 26709, 39467, 27751, 42660, 11397, 15339, 15517, 36317, 44002, 11151, 3822, 33768, 17610, 11031, 5032, 8346, 25881, 9739, 1548, 31078, 27120, 883, 21030, 16558, 26548, 36099, 39729, 42022, 18315, 2447, 742, 13045, 30179, 20651, 33997, 12023, 37427, 42305, 14882, 293, 26097, 8376, 33246, 41100, 30489, 32577, 2724, 10605, 12168, 35757, 30335, 36814, 35935, 25138, 16674, 7780, 43937, 15914, 12558, 16108, 42526, 16216, 5257, 14575, 27105, 34258, 32560, 29972, 5227, 38736, 3660, 2496, 43332, 15616, 1532, 8992, 9385, 15737, 24429, 35843, 33215, 9998, 474, 34032, 40315, 30566, 24721, 23209, 44497, 43972, 4120, 34839, 24799, 8894, 19609, 15166, 14552, 43298, 19755, 22296, 3330, 2629, 2458, 25712, 30025, 4283, 32090, 12513, 17788, 39491, 6746, 26630, 1929, 19858, 6011, 15952, 5463, 13515, 10657, 26094, 4713, 31804, 3394, 40519, 15158, 23983, 16876, 1362, 5221, 573, 9464, 2237, 23865, 33626, 31561, 29256, 8635, 44012, 22343, 23542, 33107, 30281, 23501, 5549, 11323, 2647, 4575, 11879, 35508, 18730, 43885, 5224, 36845, 13591, 40674, 8898, 5867, 43249, 29251, 28845, 11384, 6777, 42587, 14711, 14771, 4487, 4599, 3815, 168, 21045, 31396, 16805, 18156, 43925, 9063, 16351, 2479, 44557, 13604, 4237, 3203, 19315, 5299, 12734, 11712, 28560, 8693, 13547, 40405, 8219, 6575, 24644, 4716, 12577, 6147, 11330, 10456, 34050, 34434, 6850, 26330, 25425, 14688, 30997, 30973, 1240, 15656, 7677, 38766, 27033, 19875, 10929, 9627, 30211, 7370, 36927, 30520, 2536, 9711, 14850, 41688, 9735, 16676, 7477, 27083, 41018, 30018, 24958, 11752, 20105, 2601, 7266, 9000, 19219, 9571, 28313, 28018, 19752, 12887, 42980, 17165, 38618, 43049, 40160, 5301, 39195, 5294, 35478, 6236, 33702, 23554, 25779, 36391, 18943, 9542, 26872, 10337, 11910, 38890, 27441, 24111, 36360, 44820, 26807, 12459, 33546, 39838, 21783, 18520, 12481, 7130, 42261, 32850, 4688, 34269, 3401, 38316, 16537, 43462, 19436, 11374, 13201, 29917, 5942, 715, 43263, 19131, 20383, 35709, 31975, 6330, 10698, 2722, 162, 14434, 19377, 14031, 14147, 43574, 37655, 40240, 12759, 33639, 39779, 13688, 44295, 11939, 8188, 40286, 1990, 6298, 16861, 41543, 13087, 19326, 1204, 10895, 19931, 39128, 43129, 42662, 36215, 3275, 10848, 33164, 7558, 38710, 25707, 37654, 9362, 35936, 30422, 28073, 42591, 12206, 4115, 8783, 39524, 3842, 8143, 11793, 29789, 33775, 10894, 25184, 17276, 19517, 24200, 35443, 38202, 37874, 38412, 31907, 38943, 17059, 11008, 16517, 5026, 20954, 9229, 11683, 40483, 17319, 23491, 39881, 33457, 28263, 29040, 15898, 14740, 15827, 43717, 19919, 7966, 12181, 25810, 8506, 30289, 38649, 32563, 7550, 31392, 1290, 37978, 629, 26406, 18990, 24739, 26781, 12717, 21823, 8294, 7458, 5438, 4347, 22383, 14149, 7828, 27346, 21687, 36416, 15787, 22451, 3773, 21612, 25457, 31109, 38418, 38560, 5215, 30438, 24087, 34322, 11947, 23254, 41730, 9066, 15773, 24364, 6460, 23295, 39991, 24746, 2976, 25045, 38759, 32792, 179, 13388, 24006, 27463, 35870, 16616, 15139, 8051, 6653, 35322, 11137, 24871, 41002, 5113, 19135, 10514, 19869, 6576, 15452, 12941, 41308, 37762, 968, 41149, 29666, 37484, 36827, 9440, 42746, 23336, 43231, 4295, 44984, 37242, 5745, 28356, 11775, 22520, 36559, 2051, 31524, 371, 12237, 7950, 25697, 39134, 29773, 12229, 36100, 20879, 35974, 37626, 34838, 32757, 30314, 43601, 10541, 31243, 23526, 30636, 38874, 29605, 7714, 37081, 3863, 40128, 25231, 3045, 6560, 12883, 26007, 16059, 30634, 18873, 3397, 4640, 26673, 16532, 17417, 29438, 33541, 36727, 33343, 18448, 40366, 9436, 42960, 6711, 14747, 15033, 14858, 26597, 2217, 3601, 34716, 22486, 43685, 8920, 42901, 26982, 13643, 18035, 20206, 3647, 3250, 18866, 2446, 1357, 17401, 23407, 23622, 3485, 21861, 21755, 32359, 41273, 36370, 14921, 23972, 33360, 33037, 20420, 12195, 22548, 13378, 27394, 25562, 7999, 43587, 24794, 10773, 35152, 23129, 14099, 16194, 9624, 35231, 18, 42553, 18496, 18264, 36165, 27758, 16480, 38539, 8371, 14205, 37011, 37997, 19824, 4928, 17990, 29022, 28400, 44415, 5350, 26662, 13963, 19061, 34297, 32504, 9734, 19571, 16707, 11948, 32220, 9971, 36733, 20786, 7516, 7652, 20121, 3973, 22608, 25009, 3668, 14868, 19391, 6163, 15815, 32821, 24214, 24147, 12836, 36719, 714, 15595, 24338, 38675, 19512, 2545, 15184, 38092, 42632, 40040, 40345, 20449, 8116, 17777, 22591, 181, 43159, 6970, 31404, 502, 36051, 42624, 24956, 10824, 41955, 4964, 15065, 8367, 42097, 22759, 37486, 20070, 28368, 24709, 23270, 8596, 5604, 34078, 981, 4141, 39902, 7270, 26217, 39616, 39917, 44176, 32497, 18068, 13830, 33863, 21199, 13684, 35578, 30918, 15335, 39477, 23716, 6391, 15870, 868, 43734, 19925, 24977, 33032, 1619, 29988, 10774, 13312, 37952, 2164, 43391, 22539, 21332, 13995, 33085, 28178, 11301, 38447, 37479, 44412, 1889, 32750, 34785, 43034, 6179, 43354, 36033, 22020, 36916, 40999, 32026, 9313, 15465, 3825, 34360, 29603, 38738, 5765, 38336, 31116, 16312, 8704, 9508, 435, 24356, 28751, 30103, 13106, 7081, 29524, 25399, 37098, 6064, 3584, 18238, 44386, 36425, 29744, 3217, 44477, 35255, 39607, 16852, 38996, 38977, 19507, 44995, 42803, 18899, 5672, 10528, 20477, 38110, 915, 40372, 27818, 22136, 43114, 4126, 12857, 4590, 37527, 554, 39368, 21066, 31413, 2003, 43835, 34625, 23791, 35855, 29826, 5720, 2914, 3852, 16661, 1011, 40213, 39400, 32999, 44525, 43694, 9896, 44849, 3436, 37009, 43695, 7755, 33929, 30252, 3835, 8933, 11647, 33079, 16241, 15217, 17036, 6014, 44590, 25282, 429, 9231, 10518, 2926, 27017, 10819, 5480, 39873, 7977, 14125, 6403, 5671, 8018, 6947, 22144, 11018, 13924, 25601, 41942, 39649, 6770, 30409, 43228, 5360, 26516, 21516, 20863, 29050, 11790, 6470, 24617, 39002, 7052, 14538, 42127, 22327, 24772, 25179, 6590, 17142, 12040, 23530, 28670, 31818, 20756, 32816, 33028, 25079, 28278, 1076, 32474, 11656, 3284, 35615, 20837, 23076, 3756, 39011, 34538, 13463, 41425, 19745, 7262, 10128, 32514, 23060, 8308, 3670, 42377, 18537, 15476, 1552, 41365, 42601, 35953, 1111, 12532, 30037, 30280, 13862, 19664, 44472, 23337, 28532, 44473, 31663, 42, 19673, 28922, 11684, 10585, 16838, 36998, 2972, 12254, 12406, 8301, 24547, 15125, 31461, 25994, 44400, 13393, 14463, 7219, 8515, 23661, 35884, 25529, 3823, 39831, 24514, 25003, 33676, 27822, 23750, 14306, 11803, 7586, 36477, 26200, 31162, 41931, 18880, 3246, 9867, 39295, 6208, 6364, 27520, 6245, 27401, 36101, 10200, 39188, 27636, 38370, 40831, 8706, 16124, 9337, 1061, 38598, 27049, 41612, 34288, 36643, 2723, 21555, 10565, 32976, 41393, 29065, 31380, 36522, 36862, 28570, 30983, 31515, 2348, 36832, 44660, 28902, 36017, 12142, 10309, 44852, 19045, 38241, 38799, 44254, 41010, 23598, 4147, 22392, 5445, 30518, 21408, 6542, 473, 22662, 4230, 42033, 25912, 27166, 21248, 37182, 18409, 8343, 24838, 21141, 22654, 23867, 19336, 25071, 22832, 6570, 26868, 20725, 38655, 33074, 8976, 7168, 39901, 6110, 22902, 19058, 12332, 10949, 3917, 34806, 2510, 42357, 1033, 39428, 7885, 3910, 34924, 37212, 35158, 38619, 17994, 21771, 32543, 5917, 27755, 32654, 29296, 4706, 34971, 37547, 11602, 30151, 29361, 31143, 27970, 30871, 9784, 7016, 13064, 15666, 26056, 11805, 8137, 12770, 21353, 11565, 24465, 29232, 5392, 20815, 40631, 11548, 29015, 1513, 9746, 10761, 16635, 5783, 18491, 937, 40238, 21957, 6484, 23389, 30527, 8874, 34760, 804, 1769, 30501, 24354, 10730, 43229, 27925, 37434, 13145, 33314, 18897, 37773, 22891, 31217, 42002, 41483, 17667, 8858, 9893, 26572, 21170, 43039, 24781, 23054, 16799, 39947, 21243, 41185, 11353, 20677, 21354, 39914, 11381, 6379, 19534, 41794, 44297, 38820, 44475, 16983, 36683, 37446, 29138, 18454, 10611, 38156, 7766, 17674, 29079, 28575, 20367, 42128, 2030, 38834, 22746, 38488, 8744, 40878, 19816, 37556, 21567, 33377, 18918, 5684, 44962, 28072, 5723, 25670, 23439, 10338, 19843, 27228, 5051, 15704, 12256, 42527, 34663, 3654, 12575, 20739, 17052, 24743, 9762, 43288, 10259, 11221, 25089, 24092, 14761, 29754, 3592, 39608, 36120, 24360, 8278, 16869, 44907, 38238, 13539, 34749, 17673, 40834, 23403, 32638, 34700, 23801, 3041, 14062, 25917, 2043, 44544, 42324, 23258, 157, 28542, 5655, 9170, 43593, 10469, 10546, 35097, 17033, 1598, 4052, 3860, 21941, 4797, 31101, 6184, 8724, 30207, 28173, 15316, 8625, 11471, 13362, 33740, 41226, 24324, 34960, 19654, 19178, 12979, 18289, 5091, 11773, 23569, 5192, 43513, 12900, 39985, 38206, 8617, 35486, 41714, 12878, 34305, 7767, 24609, 21134, 44261, 43714, 17240, 6083, 7348, 43026, 17123, 42076, 8682, 36146, 7585, 16774, 26689, 22835, 3121, 30173, 40491, 19600, 4589, 19494, 29211, 1710, 31704, 37560, 27413, 540, 14995, 25903, 33909, 5049, 35918, 3598, 16107, 42062, 37042, 2094, 39908, 22034, 30984, 17570, 33960, 37341, 20506, 36815, 26914, 7945, 23873, 27022, 3644, 563, 42276, 949, 31911, 32193, 41782, 7646, 19562, 40837, 10829, 41766, 11813, 29329, 33035, 40650, 22248, 18017, 22050, 1249, 21758, 23393, 7322, 9703, 17433, 13581, 12848, 14818, 13695, 40493, 20562, 936, 10539, 5033, 36509, 5790, 34788, 20489, 25749, 22259, 33372, 11434, 36792, 44410, 31826, 7502, 26452, 26, 19876, 43996, 38349, 19668, 40747, 42017, 35938, 38670, 248, 44298, 38545, 19413, 21464, 40336, 23101, 9127, 38952, 17814, 41224, 18458, 36378, 19975, 42573, 28594, 41161, 16395, 35638, 23310, 7739, 37153, 19952, 28053, 660, 4728, 6846, 20471, 37117, 18865, 12295, 3996, 32721, 6887, 28370, 29127, 1152, 23305, 10365, 30585, 41179, 30574, 4372, 30951, 11824, 44592, 15368, 36202, 1667, 19333, 35087, 22584, 9326, 15587, 23009, 27289, 42976, 19994, 44921, 28689, 38021, 38456, 33140, 44464, 20549, 39930, 12012, 19321, 19592, 36343, 20322, 34468, 11214, 28046, 25951, 3497, 37857, 16502, 33057, 38964, 17815, 19093, 28478, 24482, 41727, 31269, 14618, 39272, 4128, 38497, 35071, 27861, 39008, 20397, 37441, 42540, 20778, 34033, 9057, 41849, 22317, 43792, 1456, 3853, 4727, 18992, 42963, 29502, 37148, 39165, 13074, 23017, 32963, 22650, 10074, 42413, 38048, 34551, 38534, 14933, 10964, 11096, 43529, 1010, 12750, 23493, 4059, 17301, 41734, 31554, 17933, 42697, 36566, 26101, 35873, 21166, 32785, 3528, 37812, 7985, 37471, 29159, 13179, 38191, 43580, 18115, 25980, 17008, 27113, 33690, 4252, 10960, 32540, 30125, 8828, 1188, 1005, 12114, 9366, 39566, 9519, 15397, 28712, 3759, 4630, 25347, 39345, 5406, 44140, 15729, 4203, 37676, 37903, 21803, 25286, 41846, 32951, 11950, 97, 34996, 29063, 428, 28441, 23274, 33728, 35278, 18650, 28671, 12911, 20584, 42925, 29481, 2771, 41282, 36675, 11034, 30431, 3005, 26462, 29262, 21642, 198, 6509, 36752, 11311, 8394, 16099, 31555, 7605, 5337, 26810, 29419, 11215, 18735, 2614, 37297, 11690, 4491, 32832, 11529, 21791, 33339, 34356, 27084, 31355, 14613, 10876, 30445, 12535, 11169, 41780, 581, 42959, 13403, 7803, 8794, 16768, 2405, 38460, 42718, 30485, 38444, 30419, 21394, 21044, 7533, 28087, 43362, 27318, 38806, 28940, 3619, 24947, 36820, 32635, 40907, 42604, 31207, 36518, 40633, 18864, 25407, 35532, 43665, 44048, 8873, 7032, 8057, 10313, 22473, 25261, 28585, 19527, 4522, 30440, 19743, 7361, 8438, 38372, 11044, 32489, 4091, 41070, 1701, 30550, 9097, 2920, 2293, 5146, 28749, 12140, 42388, 33235, 38762, 39397, 12338, 15317, 41064, 24267, 36914, 13046, 4098, 19646, 6160, 15991, 34729, 44507, 30142, 1116, 32928, 14805, 30159, 39006, 29345, 7094, 36786, 12178, 37960, 20406, 17972, 18669, 43619, 17982, 40726, 504, 20207, 25946, 5769, 3165, 28654, 20511, 2565, 25074, 4642, 29139, 7167, 31237, 33893, 34324, 26170, 34528, 37569, 14335, 2294, 12435, 39305, 20325, 15766, 36813, 8991, 3758, 40866, 16719, 7254, 29583, 31747, 5308, 32314, 23558, 43436, 44432, 3788, 19240, 20751, 35026, 37062, 43130, 21630, 8614, 21866, 6051, 4768, 20946, 44906, 37630, 34567, 36999, 12667, 17836, 10221, 31242, 40340, 32459, 33414, 39239, 10857, 24538, 40181, 5997, 19665, 4683, 3010, 41969, 27447, 9808, 9485, 29552, 25546, 21907, 36417, 41728, 1399, 3838, 5427, 40973, 36252, 20959, 23113, 2400, 19244, 35092, 33134, 20092, 37158, 8663, 10151, 35018, 22188, 18984, 43602, 5897, 29423, 34646, 10604, 3365, 37921, 5984, 27790, 21087, 34218, 40045, 7982, 6223, 14411, 36404, 31169, 29058, 16119, 16666, 19148, 1130, 28125, 36438, 15961, 17353, 11903, 10065, 16849, 43884, 27875, 16186, 32633, 382, 1688, 15942, 11036, 21853, 23617, 3050, 12985, 34266, 22504, 20706, 25823, 5222, 9636, 30263, 31048, 26067, 22928, 40162, 14160, 15841, 25414, 35477, 16181, 5375, 39372, 38268, 26546, 24326, 43359, 44004, 5453, 32651, 4852, 26693, 23199, 10835, 3305, 40190, 35482, 12983, 14810, 26332, 19301, 31332, 35489, 12576, 16816, 21492, 41296, 16775, 3776, 33438, 36859, 41049, 41659, 26168, 34762, 24123, 18789, 27589, 16340, 33073, 30291, 21467, 23173, 43973, 10681, 17267, 4876, 10439, 30629, 2150, 18205, 4038, 32983, 3903, 32400, 23815, 15135, 3325, 14573, 8641, 38335, 13629, 9663, 39403, 635, 16910, 5461, 41050, 29856, 35191, 23292, 24089, 39062, 33621, 13037, 9848, 44803, 17426, 37528, 39075, 43847, 23752, 11466, 15743, 27719, 29654, 41091, 5452, 18101, 1719, 5018, 24565, 3754, 9248, 38558, 27849, 25849, 10844, 35527, 32565, 11649, 26463, 30304, 32027, 35011, 24067, 40402, 454, 24523, 24851, 24987, 28139, 1859, 12570, 15467, 23071, 15655, 39205, 20123, 3080, 42829, 9099, 31964, 6359, 37742, 19369, 3048, 2666, 17773, 31684, 29257, 2189, 16592, 15224, 12098, 24522, 6874, 40538, 20394, 11122, 36732, 41085, 44776, 3605, 23166, 27746, 42561, 13747, 1363, 350, 32949, 16078, 35910, 30000, 40020, 29214, 29424, 29197, 29866, 27485, 25311, 12780, 33142, 565, 7867, 8443, 645, 43796, 43245, 1512, 32278, 22776, 26755, 29965, 34725, 3266, 18062, 2905, 10901, 6823, 39496, 8580, 14261, 36868, 25479, 5156, 16066, 30584, 21338, 20681, 14072, 28723, 37536, 16010, 40023, 9342, 11654, 43960, 28500, 26239, 41594, 17186, 39645, 31891, 10220, 19692, 8945, 21810, 13209, 2443, 31602, 17514, 35407, 36109, 32448, 30643, 11025, 24228, 31464, 21206, 13968, 16125, 36622, 27784, 30952, 43202, 24620, 280, 25410, 35856, 4511, 9407, 13489, 32491, 19447, 11074, 5677, 6494, 15369, 34561, 39482, 41029, 40217, 29559, 44871, 25986, 26493, 8299, 43812, 44016, 39322, 44071, 25505, 14986, 32777, 21445, 36398, 16654, 20830, 33898, 35362, 21161, 31172, 14203, 35986, 21636, 32484, 2937, 9078, 43277, 2900, 19969, 37985, 32116, 31254, 40715, 24818, 32303, 26301, 7410, 4033, 34633, 43426, 28951, 13892, 16134, 23921, 27916, 33059, 8420, 8866, 24537, 32592, 10450, 44638, 14920, 24034, 5055, 12787, 29213, 17617, 12106, 24021, 7069, 15095, 14056, 2364, 12648, 25091, 11957, 27815, 40971, 8912, 18561, 43945, 35052, 3914, 26802, 27612, 14338, 38022, 37718, 15682, 10954, 30309, 24616, 27042, 13550, 41317, 37280, 16990, 19906, 15926, 27787, 23851, 26075, 17756, 24560, 13617, 8320, 40294, 1713, 9533, 31574, 15133, 42634, 14809, 18179, 28135, 44414, 7085, 29003, 22416, 27446, 23831, 42237, 12377, 8911, 16348, 41622, 41143, 23794, 12174, 43588, 39864, 40656, 34951, 26676, 2707, 26942, 8451, 4536, 36911, 33094, 16123, 24840, 31164, 10630, 44891, 41836, 25819, 863, 20967, 43894, 24637, 40853, 41472, 20603, 43095, 7421, 44572, 33872, 33225, 37602, 19125, 27734, 13342, 22113, 13399, 5365, 4654, 38083, 30270, 7709, 27352, 42613, 7819, 1328, 15053, 18018, 13737, 17753, 38894, 1211, 5890, 12798, 33144, 17423, 42574, 864, 8028, 23835, 42774, 22982, 25284, 25846, 2257, 41036, 33365, 8097, 34332, 9039, 35821, 39402, 27177, 25933, 10116, 17440, 17118, 21566, 21660, 34798, 11896, 19521, 1587, 40540, 41121, 4711, 22192, 26262, 35147, 7919, 6445, 10122, 9345, 5478, 23571, 18363, 41080, 41087, 42166, 37671, 44770, 2931, 18344, 11887, 42417, 151, 28252, 3337, 42612, 12932, 42427, 24359, 38001, 44988, 27665, 2584, 37530, 43544, 32286, 44332, 39647, 17956, 21233, 410, 35374, 36838, 22671, 32079, 27741, 21500, 9749, 18671, 38592, 24438, 10312, 36016, 30336, 38094, 6821, 13726, 16443, 4155, 10479, 7639, 7147, 14905, 24657, 37502, 15809, 36802, 413, 11319, 5377, 28361, 1985, 32086, 8725, 13649, 1160, 28700, 18508, 33660, 22725, 6535, 37714, 41971, 2513, 12175, 7556, 17950, 30600, 17397, 37483, 9276, 21628, 38057, 14800, 37424, 16412, 30426, 26979, 24501, 34478, 20110, 33826, 43398, 39958, 8152, 42369, 32135, 2310, 27219, 36505, 7335, 17358, 35943, 3806, 20985, 36668, 15647, 37312, 44516, 30486, 32830, 16927, 20916, 32772, 4847, 43644, 15592, 43430, 24207, 38251, 34800, 20343, 17371, 17316, 1412, 32653, 20408, 30308, 38149, 8941, 19957, 14923, 5297, 14492, 3208, 5305, 12974, 6252, 3233, 26563, 13015, 40185, 3027, 18509, 36721, 29469, 30381, 32523, 32980, 42726, 6043, 3300, 30187, 16103, 5943, 14294, 43152, 37774, 28442, 22141, 1125, 20080, 10613, 26444, 2100, 39055, 29615, 11081, 40982, 27366, 11848, 34172, 36479, 18009, 40082, 23440, 11040, 1215, 22258, 39721, 5913, 24756, 35984, 6433, 32409, 35395, 30277, 41421, 31589, 10329, 21174, 13859, 37637, 6618, 20998, 40520, 33392, 4129, 15545, 2600, 23147, 8323, 1330, 19788, 26879, 22581, 34521, 44856, 38954, 6513, 4390, 29444, 26362, 37712, 2469, 28127, 11535, 18373, 17097, 1846, 28587, 37257, 29432, 24928, 24369, 31994, 18814, 10211, 36526, 10703, 5123, 25887, 23680, 22344, 14295, 306, 16448, 15346, 44118, 37807, 30233, 21526, 12854, 15548, 17431, 38403, 6301, 13588, 31836, 30089, 29143, 22384, 38226, 6382, 12059, 10050, 16029, 36540, 5791, 13594, 37649, 18766, 2441, 34282, 9967, 37776, 2301, 691, 17172, 11472, 24611, 8203, 7956, 27390, 22052, 20189, 1039, 11771, 33412, 11996, 30282, 10431, 1827, 43345, 21716, 22677, 9252, 18518, 28038, 42491, 23037, 13772, 87, 19627, 11733, 12959, 39747, 41888, 25522, 15675, 25800, 33159, 8446, 12090, 40069, 1961, 32901, 9492, 11745, 27232, 35911, 34498, 26896, 36450, 6762, 36723, 10436, 43456, 17723, 10170, 17470, 30775, 36466, 16587, 40232, 21094, 35648, 16880, 14932, 21743, 27926, 37458, 32582, 33722, 40146, 19086, 4923, 5642, 25144, 1322, 43709, 568, 20140, 20293, 19292, 41067, 37094, 2522, 9814, 39837, 20913, 7323, 33431, 2971, 2613, 10410, 618, 38216, 14825, 34242, 3958, 43534, 8944, 39408, 26121, 15702, 30059, 1450, 31125, 27231, 35694, 20456, 21188, 886, 32356, 12296, 30355, 8368, 4234, 3578, 29164, 909, 39404, 43753, 18993, 38416, 41820, 16455, 29599, 33753, 12224, 3400, 18391, 19232, 28565, 3508, 30863, 1948, 3504, 17359, 709, 14663, 31953, 22411, 3420, 16094, 15858, 23304, 38627, 257, 31841, 19878, 28112, 34978, 29162, 2558, 18016, 25275, 12097, 8359, 25418, 8729, 11007, 17203, 14479, 9004, 39018, 15669, 15400, 41699, 21533, 3730, 23742, 24069, 42090, 37610, 34412, 15026, 3737, 13103, 16425, 7265, 28219, 5717, 15724, 41537, 9740, 30851, 2933, 6836, 33763, 34267, 15937, 18243, 5234, 11964, 3915, 36921, 4633, 42919, 16565, 8304, 6467, 1761, 27032, 4121, 38832, 19432, 38308, 30317, 41789, 20235, 36382, 12572, 5277, 33926, 9320, 5082, 1847, 32909, 35941, 44771, 12760, 13623, 8867, 28838, 10905, 32919, 20122, 30415, 7522, 9506, 19945, 32815, 23836, 41386, 9155, 1673, 14110, 37221, 36728, 29535, 43660, 2146, 1066, 36520, 42924, 29217, 9498, 13632, 11929, 41126, 6479, 43001, 29154, 8413, 14134, 1828, 43917, 15258, 25131, 12160, 29200, 27982, 26050, 28804, 10952, 13436, 10320, 28116, 41340, 21797, 21409, 12725, 32218, 27403, 42469, 44431, 38470, 16273, 21531, 42183, 25893, 31661, 35693, 32066, 1284, 1835, 35449, 6315, 41922, 31733, 21048, 3883, 9944, 16283, 16557, 1229, 10854, 5429, 28516, 2700, 22388, 17701, 15983, 16614, 3669, 20531, 17362, 14419, 15250, 40352, 29048, 19320, 28907, 4287, 22295, 34385, 17996, 17158, 28617, 30996, 12283, 38209, 3267, 28579, 13152, 33287, 15693, 9886, 26385, 42744, 35032, 18328, 16487, 28481, 22551, 14139, 18940, 19399, 20576, 41750, 4432, 31674, 7710, 4929, 12025, 18239, 32044, 38581, 9030, 1806, 22109, 37171, 31069, 25291, 10572, 779, 8403, 628, 19251, 39606, 15913, 14874, 32417, 30188, 817, 40354, 14823, 33911, 44844, 5592, 43905, 37057, 41549, 31565, 40122, 42713, 30628, 6758, 7632, 5473, 33635, 32017, 22307, 20720, 43924, 2579, 18087, 33240, 27865, 9019, 20237, 17075, 18901, 37631, 3889, 17826, 23909, 35912, 957, 30508, 4526, 25550, 19508, 39342, 15929, 25280, 11475, 28335, 2108, 41911, 8985, 3370, 16809, 42931, 8277, 464, 19378, 30411, 14292, 41262, 12712, 18670, 14356, 39954, 11642, 26400, 31488, 12067, 32836, 35214, 5466, 15959, 7313, 12649, 14951, 16988, 32663, 41447, 30625, 10368, 14082, 12436, 40731, 42443, 5409, 23552, 21407, 5861, 30395, 40287, 37601, 32091, 869, 25922, 9163, 12404, 43012, 21506, 42409, 38588, 38040, 35433, 28355, 34809, 8245, 1014, 15012, 29805, 5656, 29333, 16899, 43495, 34513, 38836, 11474, 1288, 11148, 11651, 44085, 23587, 34066, 21552, 10243, 44828, 16743, 16447, 6041, 9499, 43771, 34403, 17457, 27948, 11175, 27442, 38331, 5944, 1959, 44665, 2958, 32515, 40931, 42365, 31810, 44309, 27472, 16121, 43711, 16464, 17221, 13640, 3771, 20715, 39438, 19660, 41419, 32912, 32505, 29642, 34507, 17365, 7900, 38199, 28128, 8713, 32899, 7937, 26712, 19477, 28343, 9827, 5334, 5541, 16323, 9266, 29431, 44210, 30195, 3830, 5507, 35107, 38369, 15681, 15367, 33624, 27682, 19603, 29170, 41327, 4748, 39805, 24804, 11972, 19720, 26273, 11232, 27279, 26304, 40730, 40590, 29286, 234, 34247, 906, 2897, 1863, 30493, 7284, 18259, 44915, 1705, 12253, 35967, 34569, 27116, 13084, 28600, 31580, 5108, 14428, 17325, 2366, 17370, 33974, 2098, 23038, 15564, 8074, 43499, 25644, 41958, 18847, 35303, 22123, 18610, 15171, 38687, 35100, 16727, 34688, 38597, 5789, 19428, 21278, 22798, 37968, 24847, 6073, 13070, 6023, 41898, 43631, 25230, 19478, 13571, 39499, 14733, 39650, 35327, 19223, 32239, 27129, 6203, 13631, 15570, 44584, 39130, 43985, 31477, 11983, 28835, 23405, 2604, 43341, 26144, 21776, 40741, 4649, 19252, 10805, 32628, 39339, 5246, 44885, 36183, 7245, 28227, 33707, 35988, 30867, 7221, 27659, 25907, 18857, 33559, 29324, 27672, 25662, 10984, 39381, 37686, 44753, 3228, 41455, 42736, 29332, 31118, 27935, 18589, 15821, 3632, 43395, 27118, 3684, 1966, 25960, 10644, 39693, 41748, 10956, 1310, 22035, 6234, 41104, 24694, 8134, 11280, 20642, 38018, 35066, 18558, 18539, 38768, 17020, 12821, 8670, 17923, 8826, 35734, 18664, 2616, 1631, 9217, 11416, 7618, 29473, 1795, 13396, 30549, 27911, 24497, 12999, 18207, 35271, 18661, 26235, 33494, 42442, 29945, 33727, 19449, 29736, 24339, 42220, 14902, 31467, 10538, 8077, 21147, 42868, 22593, 18622, 36960, 25618, 36578, 35287, 31519, 37342, 35122, 23161, 31510, 15619, 41907, 6487, 12263, 44329, 19506, 3036, 27398, 14204, 42772, 4956, 35645, 5180, 43072, 30667, 12506, 23150, 35154, 28393, 19066, 41453, 36989, 15948, 596, 16053, 37287, 36541, 20593, 12860, 2540, 28572, 26047, 3116, 16520, 38550, 18126, 15052, 36841, 34484, 11115, 25793, 37811, 28030, 32562, 13634, 37989, 43832, 26173, 41437, 17638, 14833, 9870, 24322, 21302, 4533, 11951, 39664, 23280, 7436, 1972, 26571, 15556, 44775, 6877, 34293, 10167, 32716, 15761, 5510, 3184, 41744, 29492, 18312, 40780, 5834, 9981, 3741, 29297, 11108, 15255, 36153, 18976, 20048, 16622, 10902, 23107, 33511, 6707, 8808, 100, 31946, 1036, 11224, 1702, 853, 8694, 41926, 33888, 31226, 8272, 24552, 16968, 11576, 13916, 27860, 29885, 14975, 14536, 15330, 13422, 10736, 33336, 9166, 42853, 43855, 32480, 21525, 10142, 27839, 43163, 15191, 8132, 1905, 37679, 22025, 16442, 29748, 41591, 11315, 28596, 38261, 34209, 19806, 21284, 43839, 8146, 36749, 29875, 8995, 210, 43423, 105, 35213, 44482, 29927, 10480, 37240, 1975, 29397, 2738, 35511, 2178, 9611, 33738, 38304, 7391, 14977, 20079, 41039, 39311, 9881, 8309, 33288, 25487, 21314, 41725, 21349, 29712, 28274, 7259, 44495, 4170, 13644, 13359, 5976, 14373, 34015, 39021, 25503, 23848, 3847, 30562, 11380, 31850, 15897, 31611, 34802, 44973, 94, 3943, 24037, 1329, 20993, 3398, 40349, 34577, 1751, 18148, 23602, 35951, 26762, 10802, 15673, 29025, 29839, 22137, 7274, 11872, 1931, 24252, 33174, 10639, 3764, 35226, 6000, 24603, 36261, 44286, 1289, 14372, 37680, 1208, 41246, 10212, 22240, 35674, 6284, 43137, 38003, 10526, 43943, 10927, 43164, 16495, 22542, 22430, 20417, 38577, 14467, 31160, 10352, 389, 20940, 43261, 6044, 14913, 20270, 41431, 13238, 16770, 5977, 8244, 24301, 21519, 498, 15537, 37580, 31473, 12200, 42676, 352, 42411, 7126, 17798, 22644, 15057, 8914, 38009, 15745, 33033, 14979, 34934, 9257, 22007, 3029, 425, 32232, 38516, 5273, 17422, 40110, 31857, 33011, 36368, 17134, 18573, 7799, 6585, 25472, 39526, 38341, 38593, 14729, 17389, 10999, 40153, 7188, 22009, 14272, 17474, 588, 4261, 34727, 13161, 15878, 17449, 10527, 31348, 9615, 37272, 18230, 13406, 43936, 27630, 39157, 43313, 32042, 35766, 32323, 29750, 5528, 1484, 32776, 5967, 42525, 13553, 41653, 14755, 36564, 41432, 5870, 2036, 37408, 19965, 42146, 10690, 10425, 20722, 4960, 40225, 37416, 44623, 2120, 2114, 39485, 40812, 42151, 35069, 25983, 22040, 23967, 31032, 19267, 21126, 30840, 19048, 41891, 37333, 38388, 40774, 35519, 31204, 30587, 28591, 2866, 32447, 17332, 36089, 2335, 6093, 42704, 23196, 21995, 43900, 26688, 29537, 12638, 19895, 13352, 14184, 22115, 30097, 29628, 542, 11743, 29950, 18532, 10278, 33052, 32885, 33761, 41272, 3775, 43852, 7397, 17327, 1553, 4778, 17752, 29948, 4548, 34120, 27810, 6080, 11581, 20636, 22602, 2462, 5557, 20061, 10834, 32471, 9824, 43705, 39573, 33762, 14704, 4435, 27539, 3371, 22376, 11193, 17510, 24491, 9561, 12764, 12488, 27481, 43069, 27836, 3042, 340, 22288, 35919, 11412, 36767, 13653, 25044, 31846, 23777, 2300, 31089, 33461, 12368, 28074, 44258, 9773, 23125, 9394, 41362, 32277, 14678, 7325, 40832, 9618, 33041, 5518, 41148, 26376, 30380, 21209, 14815, 30671, 923, 44154, 2152, 1178, 29147, 271, 11262, 9933, 42070, 40131, 37206, 4582, 35653, 15060, 25547, 36389, 207, 22371, 36357, 17875, 14964, 32861, 20414, 23343, 25763, 43036, 17668, 28851, 20729, 38561, 14856, 8987, 20542, 33281, 26882, 2259, 32740, 42089, 18210, 8380, 16223, 3657, 5094, 21474, 9806, 44838, 4195, 25252, 24917, 5179, 6708, 36856, 29260, 13979, 2172, 21001, 37907, 11554, 31247, 35211, 32433, 4332, 15161, 38171, 20843, 14170, 34230, 33670, 23332, 29650, 31264, 13781, 1732, 17894, 40500, 42852, 1348, 20153, 15413, 22129, 35230, 37804, 3384, 12166, 16505, 26885, 29520, 35788, 24515, 37843, 34836, 28384, 33517, 40288, 36096, 2127, 27130, 10680, 24031, 31679, 38417, 33714, 22546, 32735, 22168, 694, 22186, 35715, 22631, 20114, 24389, 26779, 6358, 792, 33873, 43981, 4077, 1132, 20803, 29035, 21654, 37919, 42215, 43699, 21423, 7733, 27722, 35849, 26436, 14455, 43908, 25802, 7100, 16559, 17878, 39620, 44428, 40612, 42026, 6995, 31904, 28092, 18404, 37401, 8210, 17183, 9756, 20041, 11292, 24134, 41152, 41498, 38218, 3173, 3881, 28200, 29762, 25509, 15349, 560, 4732, 40438, 35182, 40748, 9116, 3159, 13176, 8902, 33324, 17678, 8896, 25469, 1213, 31156, 30208, 24714, 17703, 342, 23759, 40943, 10945, 32720, 1554, 40955, 26405, 31726, 13178, 18786, 7608, 5508, 17090, 35392, 27420, 12614, 3667, 2691, 23600, 2275, 18042, 19683, 32097, 34841, 111, 12214, 18355, 35113, 8841, 11762, 25276, 18680, 16842, 30801, 14622, 29728, 16456, 17530, 31799, 18168, 10435, 3248, 39077, 10381, 21255, 14232, 6631, 10048, 28241, 36601, 43645, 2491, 24053, 9645, 40074, 10438, 10849, 39720, 21176, 6174, 19380, 2329, 9193, 26774, 26599, 27959, 3810, 27092, 6827, 19163, 2949, 5034, 18600, 6841, 23278, 38046, 23638, 11258, 31010, 9444, 39987, 28163, 38433, 26763, 43741, 38835, 27270, 34128, 8000, 42067, 31411, 8325, 35785, 39949, 2554, 10782, 15285, 30931, 30237, 18176, 16290, 34312, 14225, 15325, 34985, 42577, 21428, 30264, 4317, 18757, 524, 21893, 6740, 9603, 4623, 18879, 4123, 12729, 35490, 22771, 20210, 24768, 3723, 15232, 21906, 19332, 36496, 43683, 5517, 2686, 19926, 27888, 36445, 18963, 2181, 13296, 26517, 40652, 14501, 21518, 403, 8447, 13789, 24474, 14303, 36259, 25177, 11800, 323, 37956, 25394, 1085, 30853, 3530, 40909, 44597, 4931, 35817, 42310, 8483, 43498, 21968, 22377, 21648, 9712, 3215, 28369, 15151, 21283, 27186, 10353, 6199, 550, 38846, 43296, 15132, 31499, 6530, 10100, 19225, 37505, 8711, 35187, 10508, 36734, 39036, 19004, 18280, 27637, 26513, 5060, 35068, 44020, 12554, 29582, 38454, 29016, 18536, 37050, 22453, 43064, 30026, 37302, 6449, 38408, 27555, 19079, 19383, 38285, 11994, 36558, 27111, 1502, 11834, 26417, 2029, 14413, 33319, 38968, 25290, 37648, 13915, 13904, 39628, 44724, 12939, 8200, 33721, 26800, 5104, 24381, 7382, 38702, 38731, 15525, 29798, 3502, 39321, 13068, 18395, 4841, 41715, 14500, 20363, 8653, 25430, 24075, 38654, 29892, 37701, 22989, 19947, 5546, 4145, 24639, 15847, 34319, 31727, 31052, 41553, 43096, 26549, 21752, 19819, 40552, 2607, 2680, 481, 3802, 5186, 40990, 24458, 1997, 42767, 19545, 31339, 6157, 14091, 6204, 32683, 33807, 19407, 31714, 33892, 2478, 22093, 23812, 2508, 44029, 33443, 12189, 13855, 30915, 23335, 33237, 38600, 11501, 38307, 19715, 19088, 34179, 25538, 38295, 34664, 30414, 2309, 1499, 24410, 28071, 39752, 24973, 20165, 42934, 17745, 39227, 29142, 29929, 32300, 19363, 14754, 11259, 23454, 41509, 19042, 7305, 29993, 23882, 28797, 10003, 7504, 39514, 11290, 7991, 4774, 42171, 22274, 8026, 12005, 39633, 23081, 15477, 30145, 35561, 14987, 7915, 36984, 35525, 35888, 36775, 23734, 15489, 1755, 4161, 3882, 9736, 12768, 11954, 24992, 18452, 14039, 13658, 6146, 18446, 15038, 28060, 35000, 17217, 4911, 4875, 21745, 9151, 4342, 31061, 14137, 28533, 33323, 29634, 15238, 39430, 41461, 22003, 6063, 44543, 21086, 24559, 13982, 16136, 44511, 12834, 25757, 21352, 24589, 33102, 180, 4087, 28210, 19376, 30044, 19820, 16016, 19015, 10932, 30458, 13619, 8247, 11699, 18875, 36339, 10191, 18641, 32334, 7654, 41492, 3849, 14426, 10694, 18103, 31984, 7643, 23528, 6072, 28289, 43570, 28567, 23024, 21017, 31128, 10822, 44922, 25058, 3052, 34422, 31415, 40700, 21078, 15503, 7860, 15140, 31655, 26151, 33284, 23712, 5475, 6068, 30927, 12565, 27631, 32890, 3327, 44645, 19670, 21361, 31033, 29584, 29458, 4321, 3348, 32178, 21204, 37447, 13092, 14035, 5733, 41834, 19850, 39839, 42296, 14146, 15174, 11318, 41269, 19100, 23588, 15708, 1276, 37961, 1543, 27252, 22751, 25067, 34272, 38157, 7524, 16291, 33373, 6343, 10149, 28552, 9102, 23431, 27145, 39836, 31403, 28760, 19669, 13033, 14015, 40944, 41556, 36725, 500, 1582, 13408, 40488, 43639, 9481, 12579, 40869, 24730, 14587, 41671, 34376, 31401, 33505, 7672, 20978, 8266, 23823, 11722, 3884, 28036, 12539, 35826, 8322, 40437, 26459, 20699, 18172, 14803, 3046, 459, 26976, 10037, 29843, 22239, 28813, 6722, 29468, 28143, 12763, 7601, 27307, 24375, 44221, 11511, 8271, 16783, 36828, 36965, 12528, 14603, 44397, 41260, 16725, 44006, 4102, 28679, 29532, 43880, 1053, 13271, 41476, 12050, 36605, 21067, 41830, 531, 3682, 1122, 15004, 18882, 13167, 27237, 27124, 13569, 21680, 13372, 28456, 11522, 17618, 24253, 44928, 13815, 31041, 2370, 9133, 27191, 1698, 206, 19988, 40067, 16578, 18911, 35096, 20478, 19476, 42965, 746, 7003, 39755, 5046, 32604, 13473, 977, 35387, 6384, 20275, 14355, 23820, 1644, 1099, 25676, 35997, 79, 23910, 41097, 38250, 20579, 780, 2122, 6915, 10378, 14971, 30218, 43181, 32618, 19964, 1596, 15863, 33417, 22814, 26981, 15334, 26544, 17424, 38980, 7949, 27674, 16737, 33588, 11819, 12420, 4993, 33656, 26642, 28783, 5382, 19397, 1462, 4480, 2250, 12257, 33498, 20424, 5007, 229, 12010, 8227, 10740, 35193, 42199, 24979, 43425, 12284, 28659, 5003, 19618, 21956, 26263, 36878, 36649, 36325, 9479, 31544, 16879, 40908, 40477, 26433, 12188, 3054, 28066, 29863, 19224, 36664, 6701, 12647, 34581, 43912, 31327, 32294, 32215, 28256, 16966, 31378, 11314, 18084, 20241, 28881, 11127, 24409, 15629, 33384, 24678, 32886, 7106, 23130, 43506, 24860, 9201, 12766, 24003, 4005, 14554, 38798, 21313, 43853, 12078, 34408, 30838, 25421, 43550, 28120, 43569, 28836, 25941, 5404, 37178, 23487, 5719, 43948, 5120, 2183, 9032, 16656, 3980, 35664, 3321, 29216, 21104, 14867, 40602, 11273, 37779, 17680, 18075, 4063, 35529, 13521, 40934, 12193, 34946, 24531, 42549, 32611, 7474, 12469, 28093, 34761, 15003, 24622, 9949, 34076, 43088, 24154, 14398, 38508, 41401, 27843, 31928, 8567, 11997, 42191, 29727, 37733, 9262, 36073, 37125, 19615, 18566, 11005, 2228, 18203, 11119, 15861, 5847, 31241, 11125, 29974, 26562, 2165, 42341, 34995, 27416, 41577, 5919, 28924, 1459, 4987, 12246, 29542, 4982, 26820, 21485, 18646, 33820, 14655, 42278, 35062, 4420, 10035, 3732, 21130, 11388, 10323, 18337, 30134, 37497, 38379, 38120, 36011, 21693, 29741, 4474, 25947, 43037, 43744, 3901, 25660, 35885, 29069, 16631, 4351, 43284, 9693, 35233, 38881, 10810, 23951, 30155, 25492, 31671, 7713, 17880, 30350, 14969, 31550, 37487, 44188, 35875, 28543, 24856, 24323, 28499, 20362, 22979, 7457, 6999, 12034, 27820, 30302, 41323, 44760, 32248, 5100, 25534, 2190, 3038, 5030, 40188, 43811, 30761, 11748, 5376, 25804, 6587, 26123, 22172, 40948, 37889, 3498, 5333, 39936, 39659, 7415, 8257, 11166, 34451, 37720, 23123, 3390, 22366, 18407, 43092, 42683, 26127, 38543, 44705, 13945, 19611, 12409, 33152, 41554, 5502, 6123, 16705, 14209, 21358, 35880, 29891, 9782, 40694, 812, 5996, 29068, 26892, 24462, 27506, 1940, 11906, 3310, 9918, 33429, 33732, 12715, 3513, 9445, 651, 27101, 19768, 4324, 19011, 40710, 23502, 21118, 13885, 23926, 27392, 30722, 17489, 43481, 22666, 34617, 18304, 2996, 4472, 36840, 34822, 30586, 13967, 41991, 35452, 34467, 23727, 10636, 43834, 29267, 15286, 26718, 39772, 1387, 36495, 17538, 18159, 18037, 35080, 11299, 22679, 15932, 3429, 832, 6852, 7472, 23790, 3801, 2677, 7191, 16259, 21520, 40877, 32522, 38164, 888, 24064, 11438, 5590, 30492, 472, 30326, 3489, 21073, 25539, 31566, 30967, 3867, 23976, 20753, 13739, 19803, 12953, 1877, 12795, 27633, 43224, 38272, 23465, 31193, 10792, 43347, 5328, 20696, 11189, 32268, 3120, 18318, 21426, 6990, 40317, 33967, 8954, 17121, 12248, 6397, 2655, 14735, 37844, 36291, 12691, 12161, 32841, 2520, 26649, 12906, 11791, 2941, 40440, 20950, 33816, 42948, 7514, 15190, 9829, 41821, 25191, 11173, 22731, 14210, 32883, 25496, 22145, 1185, 43682, 41938, 14, 27592, 26509, 2219, 10429, 39681, 34772, 30067, 23694, 10727, 7778, 44578, 13304, 39479, 5135, 35628, 37337, 5535, 3691, 5209, 34112, 23500, 3851, 34105, 29545, 44888, 12665, 41310, 15382, 23576, 34938, 16436, 993, 27567, 33173, 884, 32188, 27676, 35380, 43549, 17987, 28365, 1046, 18055, 34877, 3273, 29479, 39405, 34201, 33167, 31768, 3799, 40898, 40064, 25141, 32842, 11865, 25498, 21717, 41703, 3514, 33024, 28508, 20510, 39707, 21584, 29656, 40911, 14919, 10549, 10134, 301, 15514, 34575, 7996, 37214, 2032, 37072, 9203, 13232, 41499, 42962, 21638, 32185, 14917, 32946, 17648, 12089, 33315, 27334, 11707, 41458, 10981, 1804, 8112, 12496, 11017, 24807, 9378, 4143, 240, 42795, 31709, 10501, 3904, 10455, 12986, 14305, 5727, 20607, 10157, 12593, 43911, 35098, 6996, 12536, 31167, 29436, 23699, 40961, 29487, 18980, 28452, 9889, 42094, 16426, 28137, 27542, 35168, 24397, 15940, 37593, 2704, 3526, 23723, 28908, 38385, 29205, 21679, 25008, 16974, 38375, 42339, 17928, 39533, 8450, 23317, 5245, 31581, 25130, 3515, 31970, 24188, 4227, 25689, 22466, 40749, 37208, 23827, 22538, 22067, 31501, 756, 42820, 25456, 44538, 27431, 4983, 41709, 19486, 42430, 22788, 26250, 15085, 41430, 20423, 11281, 26071, 9112, 41672, 26232, 11982, 14207, 7207, 6071, 17089, 2065, 8390, 14543, 13673, 18605, 16482, 34741, 33214, 24627, 3679, 6307, 38991, 35841, 5493, 5991, 43113, 602, 34005, 40269, 9980, 30631, 15688, 23646, 37890, 35171, 4103, 9401, 3105, 17621, 14908, 26438, 31244, 40065, 40655, 2290, 3982, 9730, 40707, 34364, 24598, 39406, 34259, 5961, 6273, 18394, 29056, 19701, 11087, 18076, 8672, 24114, 44166, 7298, 28377, 13613, 19801, 27616, 31239, 18871, 9877, 32877, 38328, 28183, 26428, 25528, 35474, 29740, 18497, 9547, 36157, 35819, 44982, 18616, 16325, 11498, 3127, 42690, 14727, 12440, 13323, 23243, 37799, 20483, 17550, 38937, 40276, 17722, 10951, 25611, 4765, 4254, 17162, 15015, 34196, 3200, 39627, 39251, 22777, 31859, 11765, 30827, 34338, 7888, 30731, 3606, 32904, 17022, 12669, 25850, 10990, 23077, 44758, 19830, 38591, 36695, 8196, 38355, 8212, 43196, 34054, 16601, 7005, 27602, 29876, 22624, 30975, 37150, 11969, 2404, 35054, 43827, 17683, 17184, 23085, 3985, 10685, 7105, 9602, 16894, 13295, 14412, 27607, 23718, 5037, 43758, 24445, 32249, 40823, 23427, 24633, 40004, 19920, 22729, 15154, 30740, 31979, 25120, 7362, 27440, 27729, 15844, 1951, 44305, 6616, 8461, 13754, 37754, 43180, 22448, 39091, 19520, 8421, 32427, 8986, 7004, 15664, 34609, 37651, 4313, 16224, 27907, 13212, 29581, 17540, 12063, 22079, 33599, 6853, 41596, 14588, 13132, 23889, 27031, 13874, 39860, 36729, 11876, 18200, 29482, 1000, 33042, 44244, 14626, 44067, 33989, 36007, 6277, 11830, 40393, 35007, 21547, 37012, 30517, 2480, 44116, 11067, 33544, 31196, 32337, 10403, 35917, 13474, 2123, 24246, 24127, 7979, 38384, 23877, 21198, 18900, 19666, 20350, 27951, 4848, 17066, 43357, 28429, 13983, 4461, 41828, 41016, 33046, 22774, 43375, 20302, 39843, 15421, 17803, 10422, 32934, 8330, 36191, 42260, 30541, 15999, 17560, 7823, 11351, 7914, 12630, 33430, 43851, 5612, 36980, 13117, 7807, 9371, 16560, 24740, 1690, 25673, 32460, 29449, 8864, 35539, 13583, 16628, 37824, 37537, 39325, 36891, 1529, 31870, 6386, 20104, 18081, 14245, 16839, 35192, 7678, 5616, 20209, 39474, 19989, 27936, 7277, 27652, 11139, 41690, 32742, 2285, 13950, 28342, 13476, 28522, 42986, 20375, 1879, 539, 2819, 34859, 41167, 11302, 32796, 30813, 15277, 38432, 13944, 16004, 6337, 38864, 40466, 43664, 18095, 3533, 43613, 14544, 23433, 20860, 17320, 17120, 11389, 24005, 1341, 19342, 20466, 44955, 41873, 37364, 5243, 37290, 17525, 38723, 32482, 2158, 24441, 21564, 6982, 19210, 39557, 25953, 20923, 37283, 34656, 24754, 417, 6435, 21746, 18553, 26783, 22703, 6477, 30049, 35146, 17188, 37066, 40963, 10799, 22354, 37157, 25954, 36061, 40394, 12232, 20116, 40008, 39906, 31292, 20360, 25606, 19146, 9187, 1209, 13469, 42797, 37796, 5763, 43563, 4305, 26182, 44939, 2916, 28119, 42051, 42720, 16090, 28080, 42182, 19053, 5955, 19379, 16763, 43058, 41305, 30753, 19480, 20283, 37355, 35049, 25158, 40086, 33312, 5353, 30790, 26848, 6909, 40562, 18837, 18841, 6028, 20102, 29343, 8014, 5024, 25990, 37472, 9592, 21698, 44262, 36756, 6907, 44439, 36893, 15266, 4471, 33693, 35879, 31452, 39177, 16483, 25663, 36036, 32769, 31971, 308, 21378, 33780, 7683, 11104, 27428, 17710, 25737, 3281, 41957, 20029, 396, 19799, 10624, 42696, 27165, 26578, 2862, 33520, 3816, 26522, 23503, 41367, 6652, 36049, 26079, 8187, 15594, 26249, 33157, 1404, 18092, 7620, 37816, 26936, 20866, 13261, 40521, 38329, 39135, 38514, 21852, 28687, 41508, 29645, 21281, 5614, 1044, 33243, 35350, 672, 5363, 15972, 7971, 30249, 25376, 32733, 33640, 768, 29957, 18674, 42284, 30006, 19159, 34060, 26720, 20713, 1193, 40410, 22800, 3837, 31750, 15775, 37350, 29037, 40619, 18829, 37027, 14448, 607, 28098, 41903, 33290, 9504, 5455, 27035, 21731, 3198, 15817, 4000, 23519, 29006, 44633, 2185, 10661, 21580, 33294, 23136, 6175, 44750, 7030, 2482, 43002, 13383, 5027, 41231, 42389, 32164, 30675, 24844, 23469, 24867, 37075, 6187, 14169, 24976, 38361, 38430, 20490, 22013, 41127, 37981, 43986, 42240, 33458, 22977, 33478, 15883, 13544, 42687, 35667, 30609, 44117, 9832, 30782, 35965, 27759, 1994, 42796, 5924, 36676, 42028, 11601, 26924, 39661, 42078, 30327, 9844, 29416, 23690, 6597, 22744, 22099, 43632, 13551, 29644, 28403, 452, 35607, 438, 33633, 35697, 34870, 14298, 14151, 32392, 9587, 13847, 36913, 24932, 39739, 10996, 36808, 25174, 24350, 31880, 3651, 17523, 31892, 3157, 15805, 578, 26604, 626, 42643, 38458, 41217, 13620, 16698, 32343, 29899, 19549, 18482, 29772, 29693, 13760, 32859, 41136, 32078, 29422, 14464, 28280, 538, 8691, 10001, 18311, 6809, 33116, 12525, 39916, 6466, 803, 1268, 28537, 27710, 25111, 2319, 35537, 30224, 21106, 44308, 35222, 28109, 11812, 29699, 26686, 39277, 11899, 22060, 12014, 20072, 90, 32578, 34383, 25115, 21466, 25615, 11823, 40297, 4415, 35770, 33473, 24668, 6768, 11172, 34635, 2807, 3623, 513, 36583, 13890, 34645, 15720, 730, 38490, 9284, 10610, 34126, 4701, 2487, 27864, 17416, 1739, 17528, 13480, 11902, 2736, 5319, 658, 29437, 15419, 16702, 1016, 20161, 11261, 26858, 27971, 44628, 1627, 17942, 35219, 15571, 23087, 2149, 8551, 26573, 39640, 42609, 25841, 44859, 2174, 419, 6646, 20425, 26214, 43742, 38737, 25717, 20359, 20251, 40202, 20357, 4844, 32094, 42999, 41473, 39623, 37032, 15819, 43396, 34618, 24496, 43118, 11442, 39758, 4044, 16777, 18529, 37957, 551, 27474, 11343, 20994, 42537, 32705, 7953, 43528, 29960, 9142, 11714, 29134, 7990, 2427, 8710, 8029, 28705, 25594, 7394, 42348, 15667, 4216, 28186, 4080, 5905, 12052, 19242, 31482, 36963, 6600, 27473, 26318, 3747, 19191, 1308, 44809, 620, 31832, 18698, 44692, 1071, 12, 241, 7820, 39937, 33596, 38085, 20221, 3234, 24749, 336, 8556, 40984, 23844, 39632, 31056, 43755, 16373, 38712, 40184, 18166, 28023, 9177, 15341, 12130, 22024, 18119, 33939, 10082, 1445, 42100, 31496, 37453, 33969, 5735, 36554, 42219, 35060, 3740, 15022, 20771, 3547, 10666, 22501, 17961, 10711, 32682, 5983, 36870, 23711, 1232, 37647, 3970, 18226, 31354, 6303, 9355, 995, 18758, 17797, 30792, 29167, 38183, 1867, 819, 32452, 29698, 8295, 22988, 34880, 22893, 36843, 13080, 37073, 27093, 27038, 43659, 32558, 9935, 33474, 32272, 10618, 18040, 38252, 2207, 11303, 17615, 33261, 19629, 10064, 10326, 34657, 40385, 11874, 37737, 28250, 43599, 13013, 40382, 43991, 15423, 21554, 662, 27958, 24819, 44868, 7384, 33799, 21824, 26160, 16844, 16605, 4084, 19368, 43328, 25063, 16011, 41534, 18461, 14142, 18278, 10379, 35304, 16892, 37825, 26658, 43027, 24340, 10667, 8249, 44061, 31400, 9859, 15930, 39464, 33545, 25652, 26476, 34620, 26090, 20296, 11183, 16749, 29778, 11360, 37770, 40571, 1083, 1577, 33572, 3480, 43278, 3014, 18808, 466, 5137, 20819, 38338, 2809, 17056, 36383, 16642, 23779, 18107, 21473, 34435, 14943, 6521, 38189, 30098, 4446, 6362, 40535, 4573, 22242, 40773, 40264, 39191, 40940, 22333, 26595, 18468, 14689, 37413, 9171, 537, 23088, 8752, 38838, 8554, 29491, 33955, 10536, 11979, 19175, 42830, 39138, 28151, 13366, 37018, 4779, 8812, 17627, 39728, 33352, 41651, 16975, 11305, 30844, 23948, 11403, 21103, 34897, 10163, 23003, 3803, 36884, 28807, 28844, 924, 5064, 4963, 27854, 6346, 23625, 17013, 26954, 26782, 26293, 40607, 26264, 28115, 42163, 23533, 29700, 32655, 20938, 3593, 28818, 19069, 32893, 27709, 17156, 9767, 5173, 19168, 31012, 43081, 6783, 37962, 21911, 2569, 33920, 36083, 34619, 4594, 436, 41864, 13404, 23654, 15222, 8290, 506, 10931, 43736, 4249, 12158, 21498, 1565, 40668, 34219, 19501, 22586, 25109, 17946, 24175, 2278, 24693, 41382, 23425, 36687, 15485, 44696, 44322, 7708, 27953, 21119, 2247, 21144, 2076, 20310, 40735, 1409, 15811, 30977, 19524, 21316, 8190, 3295, 11675, 34632, 9278, 24431, 21327, 9612, 902, 7673, 16714, 41147, 11757, 22340, 39264, 35825, 13397, 29484, 16684, 33405, 3520, 40096, 6432, 15340, 27063, 7405, 4296, 39156, 38754, 26519, 26704, 22575, 25475, 35949, 21501, 1364, 21412, 44622, 39766, 35268, 25182, 36550, 31925, 41350, 27489, 28870, 42373, 960, 13297, 20324, 2734, 41944, 32846, 10828, 10721, 8658, 21305, 15848, 29441, 41881, 1588, 18349, 38608, 19083, 17241, 44209, 3486, 8201, 7786, 27845, 35920, 10025, 18402, 23388, 41343, 24298, 6702, 18194, 33824, 16683, 33178, 12534, 4913, 32512, 37553, 27531, 42425, 11057, 36440, 13196, 39484, 12370, 38264, 9588, 9710, 21294, 1391, 21296, 9233, 17290, 7201, 22686, 8637, 33540, 26450, 40865, 39038, 13289, 5178, 4602, 42753, 41497, 15563, 1448, 40289, 11611, 36617, 42880, 6900, 23172, 7141, 39995, 43712, 21400, 33285, 16663, 39124, 44378, 44092, 23023, 29781, 27152, 26753, 35023, 27835, 21881, 5770, 39512, 44522, 25237, 32685, 23372, 30741, 23805, 17692, 38376, 36018, 26010, 8961, 42079, 11650, 35761, 27775, 21557, 15374, 29166, 3595, 39804, 13155, 37884, 25196, 32468, 3951, 9111, 25336, 28603, 11542, 23178, 18302, 1350, 37430, 12633, 1718, 21214, 23840, 19662, 11075, 43638, 36118, 33935, 33748, 31179, 18185, 42244, 39500, 8479, 7452, 4320, 28225, 17061, 35975, 29088, 14610, 6476, 37915, 31356, 19831, 34292, 14402, 9356, 36556, 30273, 14930, 20458, 28031, 23030, 3642, 25540, 39745, 14007, 24105, 29029, 30703, 18375, 30434, 9096, 18691, 3459, 30920, 14804, 27230, 15804, 20365, 22037, 24683, 18340, 13459, 23269, 4455, 30767, 30471, 24466, 23022, 34542, 23765, 29247, 26903, 18719, 42165, 23995, 44659, 8949, 11826, 40102, 29725, 37830, 11517, 5269, 37970, 26694, 38523, 43720, 25108, 37265, 7066, 4750, 30787, 701, 5410, 15880, 34106, 11798, 12096, 2879, 25686, 19491, 14334, 25928, 6122, 21218, 34445, 15080, 7250, 21434, 33751, 6756, 35588, 30199, 30834, 19736, 35799, 8214, 6533, 18030, 39920, 28669, 28703, 12723, 44595, 5072, 1683, 17341, 15378, 3871, 33672, 219, 22380, 39245, 17155, 9509, 10423, 24118, 8548, 27282, 595, 13191, 34777, 44996, 831, 41180, 35741, 1177, 21, 38998, 38950, 32075, 9568, 4158, 12556, 31698, 24951, 35150, 36565, 8968, 10801, 40781, 36457, 2136, 31557, 12030, 19863, 5255, 1224, 26733, 15731, 31025, 11297, 35394, 11833, 16918, 3483, 132, 10726, 19352, 26724, 9646, 38704, 26024, 27260, 1455, 30872, 12241, 25171, 28521, 23093, 44356, 21448, 31816, 15407, 25776, 146, 17857, 25821, 11784, 44150, 40630, 35245, 6059, 40380, 36282, 9101, 10171, 42395, 2577, 2966, 8404, 27402, 10816, 27595, 40582, 6855, 42042, 666, 26012, 14360, 28630, 29080, 1572, 41648, 20591, 33962, 25695, 42558, 13502, 38553, 5775, 11744, 41363, 12687, 33420, 35977, 44224, 15874, 10766, 4984, 3995, 19744, 11316, 26038, 18514, 38782, 26555, 7962, 885, 27823, 42056, 32055, 34615, 40364, 13246, 7680, 28324, 43474, 43749, 2539, 25015, 4276, 17968, 15124, 21870, 28234, 19091, 37565, 1182, 11977, 27798, 13625, 35812, 11720, 42107, 6074, 44129, 23426, 33959, 36042, 8168, 31353, 20154, 40403, 40589, 43890, 25392, 19339, 29428, 21869, 5371, 17347, 38989, 28095, 43490, 30490, 9772, 39716, 12335, 11250, 35129, 34131, 12704, 1480, 36211, 7063, 19967, 24413, 33794, 25949, 4239, 21846, 19076, 14710, 17153, 28011, 15265, 15600, 15386, 9324, 18689, 15906, 102, 10924, 40696, 19685, 27867, 39149, 34545, 29784, 34430, 41947, 16236, 515, 15128, 26828, 34552, 32827, 2334, 19932, 9899, 3128, 31944, 16984, 20229, 22534, 2244, 35323, 18804, 21496, 16349, 2589, 34654, 26335, 40620, 8572, 24660, 23345, 20011, 19360, 15460, 15582, 9668, 12222, 17766, 42419, 21695, 14714, 15047, 32371, 7783, 1436, 15757, 19837, 6434, 217, 1321, 26539, 29082, 5468, 17697, 37064, 8248, 15812, 26705, 25574, 13794, 24292, 28379, 35874, 40377, 13788, 9475, 37324, 40786, 33699, 8514, 40524, 38680, 13094, 42138, 36195, 31808, 31487, 26453, 8656, 3277, 29034, 43463, 2845, 1735, 6820, 12465, 562, 25511, 4322, 8528, 20060, 36928, 12820, 2733, 32306, 2731, 39621, 8893, 13487, 24922, 30340, 4451, 5634, 20118, 32747, 17005, 21947, 10300, 3831, 29733, 4361, 37597, 8758, 17103, 19658, 30833, 18663, 17223, 13896, 1155, 29409, 432, 10391, 32743, 21021, 31835, 25578, 2041, 30229, 33147, 6858, 5954, 17230, 38885, 32643, 38571, 22765, 6216, 29601, 34143, 19421, 9268, 20435, 34109, 21042, 20995, 43560, 40905, 44045, 1446, 34252, 25400, 18098, 37282, 26325, 892, 41897, 40209, 28546, 29326, 26500, 15912, 2320, 12358, 42095, 34108, 13025, 11138, 30884, 23879, 13893, 1743, 2952, 35157, 22196, 35272, 7948, 35641, 39595, 19495, 40060, 34492, 969, 8107, 14116, 27208, 22839, 9322, 10890, 43044, 31138, 2394, 18599, 19130, 8232, 1078, 23059, 14926, 16955, 10868, 14972, 12967, 36472, 19082, 116, 13448, 17900, 20064, 41678, 31596, 34017, 31034, 6291, 4646, 25688, 15079, 27321, 12761, 34102, 23511, 13090, 16047, 16602, 15189, 28382, 29896, 6554, 13508, 3353, 25851, 30475, 9839, 4647, 39945, 26605, 8871, 13748, 2457, 8688, 23034, 20252, 42203, 18369, 8980, 33650, 12757, 41795, 335, 42393, 7086, 30749, 3020, 379, 5242, 25654, 2154, 2424, 43776, 149, 21649, 5665, 15910, 10488, 8963, 17671, 24122, 32445, 25956, 21976, 33767, 1427, 7716, 11321, 18734, 35319, 9136, 7383, 18479, 42851, 27329, 11478, 27183, 42983, 26344, 37165, 19791, 8130, 29716, 9305, 13060, 41061, 26867, 35324, 39268, 32354, 43561, 30892, 41673, 9067, 39349, 5596, 18507, 32731, 30954, 11921, 34782, 1048, 10451, 6025, 42000, 16759, 31517, 20611, 4040, 35862, 34110, 42328, 11772, 25596, 7344, 33760, 20348, 37481, 22334, 20487, 26153, 22444, 33948, 31294, 27423, 16169, 37886, 13455, 35232, 28255, 27513, 39592, 32625, 22906, 40196, 44766, 26852, 18350, 27979, 39522, 8513, 1850, 37421, 19915, 35905, 36262, 8015, 44142, 19296, 851, 16404, 4611, 9056, 16389, 16023, 44577, 18178, 28453, 24284, 4482, 26477, 25789, 18368, 29814, 41983, 35868, 14397, 34140, 38248, 38044, 22974, 22868, 11971, 41485, 44964, 3223, 21882, 4458, 6799, 41641, 40888, 23733, 44193, 24189, 16646, 35460, 2054, 27504, 27717, 16607, 23591, 10291, 38647, 13914, 29044, 37031, 25585, 15372, 12103, 11171, 24761, 24630, 11801, 5571, 10389, 29193, 23620, 20948, 5067, 1650, 32921, 38584, 43126, 31470, 21669, 34098, 199, 12876, 43627, 21168, 35593, 4866, 26559, 41467, 6461, 35522, 40473, 3346, 26524, 26815, 35590, 29833, 26015, 9333, 24295, 33810, 33313, 30979, 25424, 3613, 16721, 8494, 35574, 41555, 44983, 33792, 38745, 4922, 14208, 38450, 35366, 39253, 36068, 7407, 20326, 6368, 17578, 10254, 3134, 34972, 16470, 32416, 21482, 10628, 32407, 11433, 34728, 4335, 6607, 19795, 1301, 24969, 1852, 37725, 3919, 40177, 39338, 25337, 10159, 12027, 32030, 11943, 43447, 13702, 20807, 26331, 35602, 21385, 527, 5115, 39223, 13173, 32032, 26087, 1488, 23676, 44148, 6687, 42375, 33286, 7930, 30033, 40333, 4402, 9570, 31200, 41729, 18863, 15593, 12782, 24577, 38270, 26108, 26430, 26166, 32295, 20337, 3407, 43989, 41776, 29384, 18881, 43652, 4053, 13468, 1225, 4212, 29206, 37646, 13648, 16986, 35294, 10838, 31888, 24, 2936, 28344, 6776, 38640, 17861, 2429, 17452, 15225, 6703, 182, 31929, 34593, 4334, 39315, 38229, 9517, 37809, 3319, 33552, 34795, 7571, 20971, 5831, 43928, 3079, 21897, 43947, 37176, 23847, 12105, 39528, 14163, 43188, 36141, 24212, 37273, 43450, 23368, 19903, 2070, 34307, 6057, 29811, 25501, 35555, 24935, 25300, 3393, 390, 14307, 2827, 4354, 13096, 27862, 33620, 43127, 4453, 34639, 5804, 12223, 15106, 9665, 23231, 24150, 28997, 3131, 5424, 3967, 22930, 40681, 249, 28589, 36745, 11912, 25317, 44362, 93, 34966, 16888, 6780, 1725, 5964, 37087, 40459, 26458, 24231, 27857, 40487, 9960, 5683, 43007, 8006, 4200, 16570, 35717, 20767, 13895, 34584, 16317, 10441, 27262, 15439, 14314, 24952, 28547, 1628, 42884, 2615, 38527, 7281, 17354, 28865, 44491, 7082, 3074, 43877, 13579, 20108, 31541, 31295, 3419, 2378, 10756, 25714, 809, 29490, 11537, 17590, 26685, 11382, 18359, 33953, 14382, 13504, 13279, 20453, 34732, 6333, 29836, 36435, 34867, 36439, 21700, 12432, 6929, 2056, 44333, 15838, 10385, 28768, 25967, 4262, 30337, 1500, 14873, 16653, 9449, 24736, 44389, 22910, 4628, 25427, 27399, 35662, 6729, 9169, 9677, 17459, 8157, 42966, 572, 39896, 10458, 28195, 27353, 7206, 685, 14520, 36273, 12306, 38484, 4476, 43157, 31171, 37868, 17984, 39787, 13389, 27482, 27421, 5524, 43304, 33701, 29182, 19114, 19564, 14509, 20597, 42722, 14243, 4684, 32437, 20824, 8231, 6725, 8585, 12777, 16716, 6392, 9534, 29448, 14075, 5154, 2245, 26751, 16364, 19723, 8426, 10548, 5426, 3571, 43567, 41372, 43217, 16248, 28739, 41658, 25433, 2295, 18222, 27996, 19759, 11352, 37216, 20941, 41874, 5492, 17502, 25848, 35675, 11538, 26492, 32661, 14023, 14647, 16368, 13017, 14537, 15622, 8012, 4673, 35300, 13652, 1394, 6241, 12218, 11512, 27377, 5247, 39017, 10885, 21896, 39781, 44527, 26838, 5372, 5119, 35749, 40752, 4191, 2494, 41418, 42555, 44027, 29690, 28319, 29225, 41464, 6968, 16474, 38758, 7861, 43412, 39040, 29825, 36865, 753, 35388, 15199, 22813, 16969, 25056, 17375, 20573, 37611, 19390, 8535, 39634, 28284, 13795, 18908, 43013, 18501, 31003, 16212, 32889, 1608, 17958, 22827, 10656, 10944, 26647, 26240, 9732, 21089, 14104, 22302, 23514, 32025, 11327, 8632, 33151, 2483, 35252, 32941, 17915, 12483, 7617, 36939, 36636, 40842, 34147, 22519, 30995, 43243, 1131, 6997, 6399, 40156, 28035, 22583, 4441, 12998, 28138, 21582, 19226, 30526, 33777, 5256, 41407, 29062, 43819, 7906, 35053, 11453, 21460, 39549, 34081, 39546, 22070, 40172, 27700, 43703, 43177, 19196, 6806, 41852, 10474, 34734, 39818, 40496, 34346, 18300, 3832, 43272, 42855, 9434, 18054, 20734, 26410, 42170, 3073, 22936, 28725, 28222, 20497, 4733, 19340, 22900, 33883, 30877, 23041, 37826, 12954, 32051, 19059, 15123, 15018, 37462, 2016, 36830, 31961, 2090, 32187, 24065, 5203, 43752, 6033, 27973, 12286, 20605, 1674, 37411, 17699, 20443, 37294, 39498, 42847, 6671, 2957, 23980, 7773, 20113, 35913, 15993, 430, 23824, 13375, 30163, 27417, 44855, 36258, 30306, 5028, 15210, 25752, 29168, 37999, 996, 43545, 25835, 8060, 29380, 22812, 15578, 43805, 1305, 34687, 34070, 10704, 26294, 32212, 27587, 13732, 12484, 21099, 44717, 18748, 41616, 482, 5378, 37359, 14993, 30613, 726, 44449, 15402, 7428, 44260, 4388, 15276, 4685, 18000, 9159, 20289, 43530, 9528, 27319, 42404, 24771, 13036, 14883, 26046, 8364, 41426, 42973, 32151, 4977, 8936, 15630, 29626, 34757, 18747, 11934, 8978, 19438, 26660, 14634, 42038, 11042, 4608, 44536, 13441, 7078, 7353, 34260, 21952, 43846, 10437, 31670, 2200, 23132, 28734, 43504, 320, 5703, 27703, 8478, 28334, 13058, 37584, 6289, 32843, 25719, 4887, 23532, 15531, 40604, 39255, 26204, 22300, 40054, 7595, 4267, 29503, 44343, 32457, 35506, 33192, 1142, 20944, 2758, 44744, 32585, 643, 6891, 31973, 22646, 16421, 39267, 30255, 31572, 29715, 9441, 22106, 10145, 41105, 15784, 35883, 23445, 7138, 37310, 36054, 14122, 34884, 40409, 1144, 37525, 13654, 16718, 35451, 33067, 6522, 6215, 24686, 28938, 32898, 35424, 20307, 44158, 16739, 24371, 17209, 26948, 25006, 30062, 19750, 30907, 39235, 4979, 32956, 19764, 15097, 41896, 33575, 21696, 22075, 9395, 29367, 41243, 1649, 37166, 38428, 6235, 12388, 19253, 37192, 26448, 4298, 44812, 8156, 14966, 22410, 7658, 30647, 39590, 14144, 31185, 34850, 21006, 36876, 10335, 34177, 30755, 12202, 42046, 16886, 9834, 20200, 15810, 42897, 38632, 10587, 15336, 41500, 40046, 21574, 6024, 40621, 11958, 37922, 27106, 42436, 11937, 4935, 21251, 736, 29869, 21883, 28124, 37295, 18693, 27296, 40874, 23253, 9290, 12486, 15319, 23782, 17533, 20726, 23566, 19149, 4579, 13121, 42516, 26259, 24140, 39555, 28100, 13227, 22815, 11240, 16962, 33638, 15111, 13187, 13984, 25167, 17919, 35258, 20766, 36367, 13860, 7269, 28022, 32401, 21845, 3827, 35545, 21724, 36645, 25371, 18838, 5111, 32817, 7913, 3879, 25860, 44451, 25187, 13039, 20298, 17572, 25972, 11047, 6641, 27884, 9601, 1904, 14202, 6299, 32598, 36103, 39056, 13418, 9948, 8766, 25918, 35242, 44095, 4452, 2134, 42204, 29557, 21671, 34377, 19012, 7285, 22727, 28445, 36268, 35823, 36304, 6896, 31395, 37861, 3559, 19561, 11710, 31927, 25269, 39185, 25797, 13458, 32350, 5786, 42616, 37663, 4899, 13516, 44772, 41007, 30942, 3161, 14148, 29810, 139, 32290, 15995, 35040, 9673, 3965, 28816, 11590, 33518, 20168, 24035, 16511, 6050, 16897, 34344, 38010, 9460, 20890, 1767, 29949, 13005, 37415, 16399, 30238, 984, 29540, 34930, 18412, 41258, 41824, 6619, 1815, 25728, 39166, 29116, 36788, 2627, 30751, 6787, 30324, 43554, 32495, 4948, 25168, 41869, 5837, 39058, 4429, 12615, 4586, 11644, 3366, 24040, 15160, 10287, 31619, 15780, 43653, 44740, 18687, 46, 9414, 4385, 32773, 42293, 22809, 22166, 9094, 23400, 14792, 33634, 38288, 998, 20539, 107, 21247, 8432, 36836, 7164, 13385, 31225, 33789, 29926, 38674, 16276, 41172, 42953, 28160, 31921, 38814, 19689, 15233, 26910, 29687, 19541, 42821, 13721, 7712, 11023, 12487, 4343, 38823, 42091, 8102, 25315, 34195, 37571, 13272, 40507, 939, 8191, 44366, 28801, 12809, 24393, 31429, 42511, 3661, 43123, 27043, 17596, 14674, 33247, 43283, 42826, 7107, 30658, 9950, 91, 33980, 26236, 13450, 702, 25981, 9222, 2904, 5268, 9061, 30116, 9565, 11809, 25683, 17853, 23692, 1386, 7406, 34927, 28616, 4943, 10098, 15691, 17594, 22303, 43293, 14241, 14671, 40032, 27412, 20225, 20826, 31881, 677, 34614, 15685, 6423, 5063, 7882, 34250, 38064, 22, 21922, 25234, 19605, 9764, 31326, 40638, 553, 40358, 26155, 3782, 6082, 40925, 28581, 13786, 7177, 31553, 38831, 22934, 32967, 17895, 43132, 19419, 28520, 20160, 41174, 38589, 42562, 28699, 31926, 10356, 2895, 5679, 1451, 38855, 44372, 44339, 23262, 38176, 14853, 18225, 44676, 476, 3718, 28168, 41405, 24750, 17953, 974, 31592, 15789, 13973, 33219, 34442, 4655, 1187, 40189, 15263, 991, 28566, 2571, 33015, 7931, 29568, 9724, 41973, 20169, 38409, 8072, 34384, 38635, 14424, 18321, 8319, 9089, 18163, 27908, 16830, 34693, 7434, 8076, 9344, 24919, 14179, 11506, 41032, 15072, 18774, 16753, 40448, 4501, 41627, 30379, 14093, 14914, 25232, 12227, 38605, 41665, 2444, 9188, 28994, 4355, 37716, 5767, 40818, 1715, 15987, 7889, 16591, 10994, 44340, 27995, 37288, 37644, 34180, 20831, 13451, 26114, 20186, 23483, 44751, 26598, 35520, 40678, 32190, 36175, 35227, 30765, 34681, 33398, 38693, 42926, 25579, 12431, 13523, 1790, 44648, 39807, 10908, 33709, 2711, 5985, 24903, 3469, 22642, 22130, 17477, 34413, 17351, 16854, 37007, 38284, 36835, 26970, 33130, 29349, 4770, 9237, 40044, 9295, 16263, 7507, 22976, 20917, 26917, 3607, 4832, 15603, 6818, 3024, 676, 28174, 12192, 24503, 22488, 8375, 34067, 23450, 33026, 42866, 33017, 39548, 26128, 35310, 17041, 24946, 592, 33882, 15391, 3724, 3018, 28808, 11585, 43931, 4456, 8392, 44454, 20942, 11385, 29862, 14661, 18271, 24430, 17520, 35596, 24524, 44119, 21371, 42169, 12403, 14863, 11400, 38931, 43098, 42156, 41976, 13884, 44627, 8251, 41045, 12444, 14198, 41868, 11339, 2922, 985, 11524, 35972, 26727, 8442, 30276, 39432, 14789, 36303, 24219, 9727, 24590, 43454, 41175, 37092, 5993, 10977, 17675, 22857, 33698, 43492, 10567, 26036, 12387, 2442, 16709, 6854, 16606, 29546, 8588, 33570, 7091, 24787, 11880, 15451, 19554, 37541, 38037, 30447, 34169, 44252, 9292, 32183, 21595, 15662, 31369, 3906, 35201, 30728, 20932, 26843, 7416, 43109, 44587, 30216, 14512, 32241, 10440, 30965, 41956, 3448, 13937, 144, 3055, 12055, 12806, 31391, 11959, 29908, 20089, 36105, 9207, 11799, 14446, 17603, 20389, 19918, 415, 11694, 15958, 31251, 19238, 25783, 20211, 35024, 27523, 19236, 2776, 8243, 24137, 40218, 32036, 8639, 22945, 4666, 1051, 16441, 31770, 39759, 33860, 28955, 37022, 20111, 8795, 9640, 21661, 13305, 31689, 25705, 12866, 35397, 26348, 18590, 14046, 3812, 17664, 3323, 26998, 41110, 23174, 41244, 27280, 8855, 8489, 25642, 38179, 22086, 33492, 26026, 12613, 31027, 28486, 30778, 19770, 5099, 13720, 31622, 39478, 11202, 20780, 27677, 14958, 1407, 22470, 31438, 37095, 7479, 10289, 17, 22165, 21930, 9820, 20059, 36661, 987, 35978, 19828, 3820, 16070, 15320, 36955, 4154, 19308, 43213, 18548, 42271, 27205, 10140, 21151, 8852, 14049, 39736, 39449, 17872, 15115, 9287, 17430, 26295, 30009, 10973, 31222, 38945, 36218, 5937, 15965, 44837, 32804, 27669, 37747, 34986, 15363, 42556, 13901, 29434, 8023, 6774, 35731, 34485, 19217, 8085, 17038, 23785, 6198, 9964, 27433, 24582, 1982, 1886, 21026, 4831, 16151, 4744, 175, 36121, 29026, 17323, 43338, 36742, 7887, 18791, 15802, 18323, 12383, 12526, 38716, 43401, 15679, 14499, 24587, 12776, 30056, 43182, 26361, 37535, 26085, 22399, 38289, 3887, 29378, 44127, 33876, 43837, 34294, 3382, 34585, 28397, 29776, 23684, 38078, 9604, 23964, 5858, 4769, 31586, 3458, 2818, 12346, 28472, 17930, 30713, 6380, 15598, 29005, 13215, 947, 3011, 23952, 28538, 3990, 35111, 10031, 1180, 4478, 2848, 34363, 12652, 32702, 29888, 20953, 27653, 8411, 28190, 38471, 11375, 17403, 23103, 18343, 41564, 22858, 36314, 15771, 8444, 2628, 5922, 721, 42570, 40187, 40241, 14866, 82, 3711, 44713, 13584, 32692, 30008, 10679, 2406, 15226, 15281, 40588, 8111, 3311, 13668, 14719, 4719, 37728, 29610, 22001, 7392, 35043, 42588, 26566, 28229, 9118, 5574, 36169, 15354, 13006, 26499, 18336, 24071, 16158, 34878, 37882, 15356, 8546, 40683, 14980, 22790, 25101, 22336, 35162, 19245, 13131, 26112, 8034, 21320, 7169, 27554, 2283, 38507, 8807, 8796, 18759, 33380, 8207, 3349, 7924, 21535, 23507, 15686, 40644, 34789, 43893, 24467, 2985, 31151, 2240, 41609, 20028, 41996, 35429, 5624, 1527, 31442, 39417, 147, 19201, 33402, 27923, 17080, 27713, 13635, 25228, 5746, 44168, 16142, 42564, 31013, 23367, 32775, 14176, 29331, 5639, 38805, 36483, 12235, 4760, 21970, 5083, 28732, 42909, 1094, 21844, 15976, 25696, 13316, 28691, 26515, 23913, 29704, 24309, 34541, 31922, 32060, 28805, 27256, 15050, 38841, 27202, 16764, 19835, 44773, 17867, 35696, 4705, 11817, 27850, 40946, 9230, 10042, 9275, 41164, 43327, 19531, 18862, 12120, 43194, 38243, 18916, 22559, 40321, 17983, 33000, 33250, 2075, 12910, 32754, 10463, 1821, 9900, 2752, 7600, 25504, 2699, 1760, 21785, 1757, 40879, 19624, 44347, 10691, 12132, 15420, 3569, 40803, 8723, 4730, 18578, 39441, 11252, 18211, 36196, 26806, 2548, 11132, 14518, 8972, 9194, 744, 31316, 1785, 15966, 9695, 7809, 18137, 24411, 21719, 33943, 41719, 15962, 22932, 22220, 2599, 21140, 35530, 43248, 29031, 4882, 8661, 10137, 43521, 22493, 43133, 10258, 38911, 20604, 28780, 33090, 23886, 29920, 41078, 8377, 11696, 9686, 40309, 7401, 6141, 34345, 23451, 24625, 33907, 17227, 18268, 42301, 34904, 4235, 16454, 32678, 2683, 6931, 17828, 7435, 42297, 38847, 4056, 33106, 21459, 30682, 20801, 18975, 12457, 5442, 16122, 11853, 27072, 21041, 44292, 4828, 30699, 43738, 21575, 26357, 21723, 20448, 28847, 10084, 15486, 44953, 19981, 20353, 32790, 37543, 44072, 33623, 6210, 10734, 29282, 20431, 36759, 38027, 23496, 4924, 20196, 34107, 44857, 6112, 19962, 6452, 3552, 30885, 25448, 5185, 11184, 42064, 30164, 19648, 612, 18740, 21769, 16993, 580, 4890, 27912, 35991, 25942, 11088, 17293, 34876, 13626, 8267, 2991, 35185, 9050, 15576, 23378, 30879, 17526, 28540, 12476, 33512, 34874, 26420, 38332, 22497, 39121, 6580, 35335, 24814, 517, 28189, 20175, 25155, 22251, 33590, 2764, 1519, 2839, 29500, 34864, 38066, 26390, 30719, 26253, 29970, 2064, 33972, 33495, 44886, 23299, 25386, 827, 40441, 21301, 20663, 43173, 19774, 3521, 34598, 43721, 1756, 35708, 42493, 27887, 16902, 29567, 31343, 14739, 37599, 37600, 14935, 477, 29275, 35265, 7373, 30500, 14063, 16240, 30732, 40179, 19180, 20144, 37860, 17821, 10062, 17380, 12390, 29002, 29859, 41415, 42759, 28315, 36940, 4920, 40799, 42068, 27697, 6681, 17438, 17395, 2474, 5184, 19565, 22992, 2946, 3286, 31613, 24403, 2951, 9145, 12205, 16133, 22224, 32349, 6324, 37036, 9973, 15949, 15639, 27584, 26387, 15203, 16337, 21877, 31745, 29478, 10372, 29758, 44467, 36034, 23347, 25813, 30770, 38868, 44582, 24255, 2945, 31782, 11113, 9122, 11674, 22127, 18639, 34262, 2109, 33713, 37797, 19626, 36569, 41211, 4658, 24304, 4112, 37291, 33618, 26748], evaluation_set_indices=[])\n",
      ")\n"
     ]
    },
    {
     "data": {
      "application/vnd.jupyter.widget-view+json": {
       "model_id": "",
       "version_major": 2,
       "version_minor": 0
      },
      "text/plain": [
       "get_predictions_labels:   0%|          | 0/900000 [00:00<?, ?it/s]"
      ]
     },
     "metadata": {},
     "output_type": "display_data"
    },
    {
     "data": {
      "application/vnd.jupyter.widget-view+json": {
       "model_id": "7decd09ee9f04501a0681c963fa45078",
       "version_major": 2,
       "version_minor": 0
      },
      "text/plain": [
       " 33%|###3      | 1/3 [00:00<?, ?it/s]"
      ]
     },
     "metadata": {},
     "output_type": "display_data"
    },
    {
     "data": {
      "application/vnd.jupyter.widget-view+json": {
       "model_id": "",
       "version_major": 2,
       "version_minor": 0
      },
      "text/plain": [
       "[1/39]   3%|2          [00:00<?]"
      ]
     },
     "metadata": {},
     "output_type": "display_data"
    },
    {
     "data": {
      "application/vnd.jupyter.widget-view+json": {
       "model_id": "",
       "version_major": 2,
       "version_minor": 0
      },
      "text/plain": [
       "[1/10]  10%|#          [00:00<?]"
      ]
     },
     "metadata": {},
     "output_type": "display_data"
    },
    {
     "name": "stdout",
     "output_type": "stream",
     "text": [
      "Epoch metrics: {'accuracy': 0.1376, 'crossentropy': 2.683503393173218}\n"
     ]
    },
    {
     "data": {
      "application/vnd.jupyter.widget-view+json": {
       "model_id": "",
       "version_major": 2,
       "version_minor": 0
      },
      "text/plain": [
       "[1/39]   3%|2          [00:00<?]"
      ]
     },
     "metadata": {},
     "output_type": "display_data"
    },
    {
     "data": {
      "application/vnd.jupyter.widget-view+json": {
       "model_id": "",
       "version_major": 2,
       "version_minor": 0
      },
      "text/plain": [
       "[1/10]  10%|#          [00:00<?]"
      ]
     },
     "metadata": {},
     "output_type": "display_data"
    },
    {
     "name": "stdout",
     "output_type": "stream",
     "text": [
      "Epoch metrics: {'accuracy': 0.155, 'crossentropy': 2.3350872150421145}\n"
     ]
    },
    {
     "data": {
      "application/vnd.jupyter.widget-view+json": {
       "model_id": "",
       "version_major": 2,
       "version_minor": 0
      },
      "text/plain": [
       "[1/39]   3%|2          [00:00<?]"
      ]
     },
     "metadata": {},
     "output_type": "display_data"
    },
    {
     "data": {
      "application/vnd.jupyter.widget-view+json": {
       "model_id": "",
       "version_major": 2,
       "version_minor": 0
      },
      "text/plain": [
       "[1/10]  10%|#          [00:00<?]"
      ]
     },
     "metadata": {},
     "output_type": "display_data"
    },
    {
     "name": "stdout",
     "output_type": "stream",
     "text": [
      "Epoch metrics: {'accuracy': 0.1656, 'crossentropy': 2.5168664836883545}\n",
      "Epoch 3: 2.5168664836883545 worse than 2.3350872150421145, patience: 1/3!\n"
     ]
    },
    {
     "data": {
      "application/vnd.jupyter.widget-view+json": {
       "model_id": "",
       "version_major": 2,
       "version_minor": 0
      },
      "text/plain": [
       "get_predictions_labels:   0%|          | 0/500000 [00:00<?, ?it/s]"
      ]
     },
     "metadata": {},
     "output_type": "display_data"
    },
    {
     "data": {
      "application/vnd.jupyter.widget-view+json": {
       "model_id": "",
       "version_major": 2,
       "version_minor": 0
      },
      "text/plain": [
       "get_predictions_labels:   0%|          | 0/500000 [00:00<?, ?it/s]"
      ]
     },
     "metadata": {},
     "output_type": "display_data"
    },
    {
     "data": {
      "application/vnd.jupyter.widget-view+json": {
       "model_id": "",
       "version_major": 2,
       "version_minor": 0
      },
      "text/plain": [
       "Conditional Entropy:   0%|          | 0/25000 [00:00<?, ?it/s]"
      ]
     },
     "metadata": {},
     "output_type": "display_data"
    },
    {
     "data": {
      "application/vnd.jupyter.widget-view+json": {
       "model_id": "",
       "version_major": 2,
       "version_minor": 0
      },
      "text/plain": [
       "Entropy:   0%|          | 0/25000 [00:00<?, ?it/s]"
      ]
     },
     "metadata": {},
     "output_type": "display_data"
    },
    {
     "data": {
      "application/vnd.jupyter.widget-view+json": {
       "model_id": "",
       "version_major": 2,
       "version_minor": 0
      },
      "text/plain": [
       "Conditional Entropy:   0%|          | 0/25000 [00:00<?, ?it/s]"
      ]
     },
     "metadata": {},
     "output_type": "display_data"
    },
    {
     "data": {
      "application/vnd.jupyter.widget-view+json": {
       "model_id": "",
       "version_major": 2,
       "version_minor": 0
      },
      "text/plain": [
       "Entropy:   0%|          | 0/25000 [00:00<?, ?it/s]"
      ]
     },
     "metadata": {},
     "output_type": "display_data"
    },
    {
     "name": "stdout",
     "output_type": "stream",
     "text": [
      "Acquiring (label, score)s: 8 (0.4097), 0 (0.3941), 0 (0.3917), 4 (0.3692), 8 (0.3656)\n",
      "Training set size 20005:\n"
     ]
    },
    {
     "data": {
      "application/vnd.jupyter.widget-view+json": {
       "model_id": "cc1f60ba23344015ae748744330c6b33",
       "version_major": 2,
       "version_minor": 0
      },
      "text/plain": [
       "100%|##########| 1/1 [00:00<?, ?it/s]"
      ]
     },
     "metadata": {},
     "output_type": "display_data"
    },
    {
     "data": {
      "application/vnd.jupyter.widget-view+json": {
       "model_id": "563ced967c1048acbbdc9e06e25c87af",
       "version_major": 2,
       "version_minor": 0
      },
      "text/plain": [
       "[1/39]   3%|2          [00:00<?]"
      ]
     },
     "metadata": {},
     "output_type": "display_data"
    },
    {
     "name": "stderr",
     "output_type": "stream",
     "text": [
      "Engine run is terminating due to exception: .\n"
     ]
    },
    {
     "ename": "KeyboardInterrupt",
     "evalue": "",
     "output_type": "error",
     "traceback": [
      "\u001b[0;31m---------------------------------------------------------------------------\u001b[0m",
      "\u001b[0;31mKeyboardInterrupt\u001b[0m                         Traceback (most recent call last)",
      "\u001b[0;32m<ipython-input-21-8de39b24f9de>\u001b[0m in \u001b[0;36m<module>\u001b[0;34m\u001b[0m\n\u001b[1;32m     15\u001b[0m \u001b[0;34m\u001b[0m\u001b[0m\n\u001b[1;32m     16\u001b[0m \u001b[0mresults\u001b[0m \u001b[0;34m=\u001b[0m \u001b[0;34m{\u001b[0m\u001b[0;34m}\u001b[0m\u001b[0;34m\u001b[0m\u001b[0;34m\u001b[0m\u001b[0m\n\u001b[0;32m---> 17\u001b[0;31m \u001b[0mexperiment\u001b[0m\u001b[0;34m.\u001b[0m\u001b[0mrun\u001b[0m\u001b[0;34m(\u001b[0m\u001b[0mresults\u001b[0m\u001b[0;34m)\u001b[0m\u001b[0;34m\u001b[0m\u001b[0;34m\u001b[0m\u001b[0m\n\u001b[0m",
      "\u001b[0;32m<ipython-input-20-d7204e7afd47>\u001b[0m in \u001b[0;36mrun\u001b[0;34m(self, store)\u001b[0m\n\u001b[1;32m     91\u001b[0m \u001b[0;34m\u001b[0m\u001b[0m\n\u001b[1;32m     92\u001b[0m             \u001b[0;32mif\u001b[0m \u001b[0mtraining_set_size\u001b[0m \u001b[0;34m>\u001b[0m \u001b[0;36m0\u001b[0m\u001b[0;34m:\u001b[0m\u001b[0;34m\u001b[0m\u001b[0;34m\u001b[0m\u001b[0m\n\u001b[0;32m---> 93\u001b[0;31m                 train_with_schedule(\n\u001b[0m\u001b[1;32m     94\u001b[0m                     \u001b[0mmodel\u001b[0m\u001b[0;34m=\u001b[0m\u001b[0mmodel_optimizer\u001b[0m\u001b[0;34m.\u001b[0m\u001b[0mmodel\u001b[0m\u001b[0;34m,\u001b[0m\u001b[0;34m\u001b[0m\u001b[0;34m\u001b[0m\u001b[0m\n\u001b[1;32m     95\u001b[0m                     \u001b[0moptimizer\u001b[0m\u001b[0;34m=\u001b[0m\u001b[0mmodel_optimizer\u001b[0m\u001b[0;34m.\u001b[0m\u001b[0moptimizer\u001b[0m\u001b[0;34m,\u001b[0m\u001b[0;34m\u001b[0m\u001b[0;34m\u001b[0m\u001b[0m\n",
      "\u001b[0;32m~/PycharmProjects/bald-ical/batchbald_redux/black_box_model_training.py\u001b[0m in \u001b[0;36mtrain_with_schedule\u001b[0;34m(model, training_samples, validation_samples, train_loader, validation_loader, patience_schedule, factor_schedule, max_epochs, device, training_log, loss, validation_loss, optimizer, prefer_accuracy)\u001b[0m\n\u001b[1;32m    263\u001b[0m \u001b[0;34m\u001b[0m\u001b[0m\n\u001b[1;32m    264\u001b[0m     \u001b[0;31m# Kick everything off\u001b[0m\u001b[0;34m\u001b[0m\u001b[0;34m\u001b[0m\u001b[0;34m\u001b[0m\u001b[0m\n\u001b[0;32m--> 265\u001b[0;31m     \u001b[0mtrainer\u001b[0m\u001b[0;34m.\u001b[0m\u001b[0mrun\u001b[0m\u001b[0;34m(\u001b[0m\u001b[0mtrain_loader\u001b[0m\u001b[0;34m,\u001b[0m \u001b[0mmax_epochs\u001b[0m\u001b[0;34m=\u001b[0m\u001b[0mmax_epochs\u001b[0m\u001b[0;34m)\u001b[0m\u001b[0;34m\u001b[0m\u001b[0;34m\u001b[0m\u001b[0m\n\u001b[0m\u001b[1;32m    266\u001b[0m \u001b[0;34m\u001b[0m\u001b[0m\n\u001b[1;32m    267\u001b[0m     \u001b[0;31m# Return the optimizer in case we want to continue training.\u001b[0m\u001b[0;34m\u001b[0m\u001b[0;34m\u001b[0m\u001b[0;34m\u001b[0m\u001b[0m\n",
      "\u001b[0;32m~/anaconda3/envs/active_learning/lib/python3.8/site-packages/ignite/engine/engine.py\u001b[0m in \u001b[0;36mrun\u001b[0;34m(self, data, max_epochs, epoch_length, seed)\u001b[0m\n\u001b[1;32m    689\u001b[0m \u001b[0;34m\u001b[0m\u001b[0m\n\u001b[1;32m    690\u001b[0m         \u001b[0mself\u001b[0m\u001b[0;34m.\u001b[0m\u001b[0mstate\u001b[0m\u001b[0;34m.\u001b[0m\u001b[0mdataloader\u001b[0m \u001b[0;34m=\u001b[0m \u001b[0mdata\u001b[0m\u001b[0;34m\u001b[0m\u001b[0;34m\u001b[0m\u001b[0m\n\u001b[0;32m--> 691\u001b[0;31m         \u001b[0;32mreturn\u001b[0m \u001b[0mself\u001b[0m\u001b[0;34m.\u001b[0m\u001b[0m_internal_run\u001b[0m\u001b[0;34m(\u001b[0m\u001b[0;34m)\u001b[0m\u001b[0;34m\u001b[0m\u001b[0;34m\u001b[0m\u001b[0m\n\u001b[0m\u001b[1;32m    692\u001b[0m \u001b[0;34m\u001b[0m\u001b[0m\n\u001b[1;32m    693\u001b[0m     \u001b[0;34m@\u001b[0m\u001b[0mstaticmethod\u001b[0m\u001b[0;34m\u001b[0m\u001b[0;34m\u001b[0m\u001b[0m\n",
      "\u001b[0;32m~/anaconda3/envs/active_learning/lib/python3.8/site-packages/ignite/engine/engine.py\u001b[0m in \u001b[0;36m_internal_run\u001b[0;34m(self)\u001b[0m\n\u001b[1;32m    760\u001b[0m             \u001b[0mself\u001b[0m\u001b[0;34m.\u001b[0m\u001b[0m_dataloader_iter\u001b[0m \u001b[0;34m=\u001b[0m \u001b[0;32mNone\u001b[0m\u001b[0;34m\u001b[0m\u001b[0;34m\u001b[0m\u001b[0m\n\u001b[1;32m    761\u001b[0m             \u001b[0mself\u001b[0m\u001b[0;34m.\u001b[0m\u001b[0mlogger\u001b[0m\u001b[0;34m.\u001b[0m\u001b[0merror\u001b[0m\u001b[0;34m(\u001b[0m\u001b[0;34m\"Engine run is terminating due to exception: %s.\"\u001b[0m\u001b[0;34m,\u001b[0m \u001b[0mstr\u001b[0m\u001b[0;34m(\u001b[0m\u001b[0me\u001b[0m\u001b[0;34m)\u001b[0m\u001b[0;34m)\u001b[0m\u001b[0;34m\u001b[0m\u001b[0;34m\u001b[0m\u001b[0m\n\u001b[0;32m--> 762\u001b[0;31m             \u001b[0mself\u001b[0m\u001b[0;34m.\u001b[0m\u001b[0m_handle_exception\u001b[0m\u001b[0;34m(\u001b[0m\u001b[0me\u001b[0m\u001b[0;34m)\u001b[0m\u001b[0;34m\u001b[0m\u001b[0;34m\u001b[0m\u001b[0m\n\u001b[0m\u001b[1;32m    763\u001b[0m \u001b[0;34m\u001b[0m\u001b[0m\n\u001b[1;32m    764\u001b[0m         \u001b[0mself\u001b[0m\u001b[0;34m.\u001b[0m\u001b[0m_dataloader_iter\u001b[0m \u001b[0;34m=\u001b[0m \u001b[0;32mNone\u001b[0m\u001b[0;34m\u001b[0m\u001b[0;34m\u001b[0m\u001b[0m\n",
      "\u001b[0;32m~/anaconda3/envs/active_learning/lib/python3.8/site-packages/ignite/engine/engine.py\u001b[0m in \u001b[0;36m_handle_exception\u001b[0;34m(self, e)\u001b[0m\n\u001b[1;32m    465\u001b[0m             \u001b[0mself\u001b[0m\u001b[0;34m.\u001b[0m\u001b[0m_fire_event\u001b[0m\u001b[0;34m(\u001b[0m\u001b[0mEvents\u001b[0m\u001b[0;34m.\u001b[0m\u001b[0mEXCEPTION_RAISED\u001b[0m\u001b[0;34m,\u001b[0m \u001b[0me\u001b[0m\u001b[0;34m)\u001b[0m\u001b[0;34m\u001b[0m\u001b[0;34m\u001b[0m\u001b[0m\n\u001b[1;32m    466\u001b[0m         \u001b[0;32melse\u001b[0m\u001b[0;34m:\u001b[0m\u001b[0;34m\u001b[0m\u001b[0;34m\u001b[0m\u001b[0m\n\u001b[0;32m--> 467\u001b[0;31m             \u001b[0;32mraise\u001b[0m \u001b[0me\u001b[0m\u001b[0;34m\u001b[0m\u001b[0;34m\u001b[0m\u001b[0m\n\u001b[0m\u001b[1;32m    468\u001b[0m \u001b[0;34m\u001b[0m\u001b[0m\n\u001b[1;32m    469\u001b[0m     \u001b[0;34m@\u001b[0m\u001b[0mproperty\u001b[0m\u001b[0;34m\u001b[0m\u001b[0;34m\u001b[0m\u001b[0m\n",
      "\u001b[0;32m~/anaconda3/envs/active_learning/lib/python3.8/site-packages/ignite/engine/engine.py\u001b[0m in \u001b[0;36m_internal_run\u001b[0;34m(self)\u001b[0m\n\u001b[1;32m    728\u001b[0m                     \u001b[0mself\u001b[0m\u001b[0;34m.\u001b[0m\u001b[0m_setup_engine\u001b[0m\u001b[0;34m(\u001b[0m\u001b[0;34m)\u001b[0m\u001b[0;34m\u001b[0m\u001b[0;34m\u001b[0m\u001b[0m\n\u001b[1;32m    729\u001b[0m \u001b[0;34m\u001b[0m\u001b[0m\n\u001b[0;32m--> 730\u001b[0;31m                 \u001b[0mtime_taken\u001b[0m \u001b[0;34m=\u001b[0m \u001b[0mself\u001b[0m\u001b[0;34m.\u001b[0m\u001b[0m_run_once_on_dataset\u001b[0m\u001b[0;34m(\u001b[0m\u001b[0;34m)\u001b[0m\u001b[0;34m\u001b[0m\u001b[0;34m\u001b[0m\u001b[0m\n\u001b[0m\u001b[1;32m    731\u001b[0m                 \u001b[0;31m# time is available for handlers but must be update after fire\u001b[0m\u001b[0;34m\u001b[0m\u001b[0;34m\u001b[0m\u001b[0;34m\u001b[0m\u001b[0m\n\u001b[1;32m    732\u001b[0m                 \u001b[0mself\u001b[0m\u001b[0;34m.\u001b[0m\u001b[0mstate\u001b[0m\u001b[0;34m.\u001b[0m\u001b[0mtimes\u001b[0m\u001b[0;34m[\u001b[0m\u001b[0mEvents\u001b[0m\u001b[0;34m.\u001b[0m\u001b[0mEPOCH_COMPLETED\u001b[0m\u001b[0;34m.\u001b[0m\u001b[0mname\u001b[0m\u001b[0;34m]\u001b[0m \u001b[0;34m=\u001b[0m \u001b[0mtime_taken\u001b[0m\u001b[0;34m\u001b[0m\u001b[0;34m\u001b[0m\u001b[0m\n",
      "\u001b[0;32m~/anaconda3/envs/active_learning/lib/python3.8/site-packages/ignite/engine/engine.py\u001b[0m in \u001b[0;36m_run_once_on_dataset\u001b[0;34m(self)\u001b[0m\n\u001b[1;32m    809\u001b[0m                 \u001b[0mself\u001b[0m\u001b[0;34m.\u001b[0m\u001b[0mstate\u001b[0m\u001b[0;34m.\u001b[0m\u001b[0miteration\u001b[0m \u001b[0;34m+=\u001b[0m \u001b[0;36m1\u001b[0m\u001b[0;34m\u001b[0m\u001b[0;34m\u001b[0m\u001b[0m\n\u001b[1;32m    810\u001b[0m                 \u001b[0mself\u001b[0m\u001b[0;34m.\u001b[0m\u001b[0m_fire_event\u001b[0m\u001b[0;34m(\u001b[0m\u001b[0mEvents\u001b[0m\u001b[0;34m.\u001b[0m\u001b[0mITERATION_STARTED\u001b[0m\u001b[0;34m)\u001b[0m\u001b[0;34m\u001b[0m\u001b[0;34m\u001b[0m\u001b[0m\n\u001b[0;32m--> 811\u001b[0;31m                 \u001b[0mself\u001b[0m\u001b[0;34m.\u001b[0m\u001b[0mstate\u001b[0m\u001b[0;34m.\u001b[0m\u001b[0moutput\u001b[0m \u001b[0;34m=\u001b[0m \u001b[0mself\u001b[0m\u001b[0;34m.\u001b[0m\u001b[0m_process_function\u001b[0m\u001b[0;34m(\u001b[0m\u001b[0mself\u001b[0m\u001b[0;34m,\u001b[0m \u001b[0mself\u001b[0m\u001b[0;34m.\u001b[0m\u001b[0mstate\u001b[0m\u001b[0;34m.\u001b[0m\u001b[0mbatch\u001b[0m\u001b[0;34m)\u001b[0m\u001b[0;34m\u001b[0m\u001b[0;34m\u001b[0m\u001b[0m\n\u001b[0m\u001b[1;32m    812\u001b[0m                 \u001b[0mself\u001b[0m\u001b[0;34m.\u001b[0m\u001b[0m_fire_event\u001b[0m\u001b[0;34m(\u001b[0m\u001b[0mEvents\u001b[0m\u001b[0;34m.\u001b[0m\u001b[0mITERATION_COMPLETED\u001b[0m\u001b[0;34m)\u001b[0m\u001b[0;34m\u001b[0m\u001b[0;34m\u001b[0m\u001b[0m\n\u001b[1;32m    813\u001b[0m \u001b[0;34m\u001b[0m\u001b[0m\n",
      "\u001b[0;32m~/anaconda3/envs/active_learning/lib/python3.8/site-packages/ignite/engine/__init__.py\u001b[0m in \u001b[0;36m_update\u001b[0;34m(engine, batch)\u001b[0m\n\u001b[1;32m    104\u001b[0m             \u001b[0mxm\u001b[0m\u001b[0;34m.\u001b[0m\u001b[0moptimizer_step\u001b[0m\u001b[0;34m(\u001b[0m\u001b[0moptimizer\u001b[0m\u001b[0;34m,\u001b[0m \u001b[0mbarrier\u001b[0m\u001b[0;34m=\u001b[0m\u001b[0;32mTrue\u001b[0m\u001b[0;34m)\u001b[0m\u001b[0;34m\u001b[0m\u001b[0;34m\u001b[0m\u001b[0m\n\u001b[1;32m    105\u001b[0m         \u001b[0;32melse\u001b[0m\u001b[0;34m:\u001b[0m\u001b[0;34m\u001b[0m\u001b[0;34m\u001b[0m\u001b[0m\n\u001b[0;32m--> 106\u001b[0;31m             \u001b[0moptimizer\u001b[0m\u001b[0;34m.\u001b[0m\u001b[0mstep\u001b[0m\u001b[0;34m(\u001b[0m\u001b[0;34m)\u001b[0m\u001b[0;34m\u001b[0m\u001b[0;34m\u001b[0m\u001b[0m\n\u001b[0m\u001b[1;32m    107\u001b[0m \u001b[0;34m\u001b[0m\u001b[0m\n\u001b[1;32m    108\u001b[0m         \u001b[0;32mreturn\u001b[0m \u001b[0moutput_transform\u001b[0m\u001b[0;34m(\u001b[0m\u001b[0mx\u001b[0m\u001b[0;34m,\u001b[0m \u001b[0my\u001b[0m\u001b[0;34m,\u001b[0m \u001b[0my_pred\u001b[0m\u001b[0;34m,\u001b[0m \u001b[0mloss\u001b[0m\u001b[0;34m)\u001b[0m\u001b[0;34m\u001b[0m\u001b[0;34m\u001b[0m\u001b[0m\n",
      "\u001b[0;32m~/anaconda3/envs/active_learning/lib/python3.8/site-packages/torch/autograd/grad_mode.py\u001b[0m in \u001b[0;36mdecorate_context\u001b[0;34m(*args, **kwargs)\u001b[0m\n\u001b[1;32m     24\u001b[0m         \u001b[0;32mdef\u001b[0m \u001b[0mdecorate_context\u001b[0m\u001b[0;34m(\u001b[0m\u001b[0;34m*\u001b[0m\u001b[0margs\u001b[0m\u001b[0;34m,\u001b[0m \u001b[0;34m**\u001b[0m\u001b[0mkwargs\u001b[0m\u001b[0;34m)\u001b[0m\u001b[0;34m:\u001b[0m\u001b[0;34m\u001b[0m\u001b[0;34m\u001b[0m\u001b[0m\n\u001b[1;32m     25\u001b[0m             \u001b[0;32mwith\u001b[0m \u001b[0mself\u001b[0m\u001b[0;34m.\u001b[0m\u001b[0m__class__\u001b[0m\u001b[0;34m(\u001b[0m\u001b[0;34m)\u001b[0m\u001b[0;34m:\u001b[0m\u001b[0;34m\u001b[0m\u001b[0;34m\u001b[0m\u001b[0m\n\u001b[0;32m---> 26\u001b[0;31m                 \u001b[0;32mreturn\u001b[0m \u001b[0mfunc\u001b[0m\u001b[0;34m(\u001b[0m\u001b[0;34m*\u001b[0m\u001b[0margs\u001b[0m\u001b[0;34m,\u001b[0m \u001b[0;34m**\u001b[0m\u001b[0mkwargs\u001b[0m\u001b[0;34m)\u001b[0m\u001b[0;34m\u001b[0m\u001b[0;34m\u001b[0m\u001b[0m\n\u001b[0m\u001b[1;32m     27\u001b[0m         \u001b[0;32mreturn\u001b[0m \u001b[0mcast\u001b[0m\u001b[0;34m(\u001b[0m\u001b[0mF\u001b[0m\u001b[0;34m,\u001b[0m \u001b[0mdecorate_context\u001b[0m\u001b[0;34m)\u001b[0m\u001b[0;34m\u001b[0m\u001b[0;34m\u001b[0m\u001b[0m\n\u001b[1;32m     28\u001b[0m \u001b[0;34m\u001b[0m\u001b[0m\n",
      "\u001b[0;32m~/anaconda3/envs/active_learning/lib/python3.8/site-packages/torch/optim/adam.py\u001b[0m in \u001b[0;36mstep\u001b[0;34m(self, closure)\u001b[0m\n\u001b[1;32m     78\u001b[0m                 \u001b[0;32mif\u001b[0m \u001b[0mp\u001b[0m\u001b[0;34m.\u001b[0m\u001b[0mgrad\u001b[0m \u001b[0;32mis\u001b[0m \u001b[0;32mnot\u001b[0m \u001b[0;32mNone\u001b[0m\u001b[0;34m:\u001b[0m\u001b[0;34m\u001b[0m\u001b[0;34m\u001b[0m\u001b[0m\n\u001b[1;32m     79\u001b[0m                     \u001b[0mparams_with_grad\u001b[0m\u001b[0;34m.\u001b[0m\u001b[0mappend\u001b[0m\u001b[0;34m(\u001b[0m\u001b[0mp\u001b[0m\u001b[0;34m)\u001b[0m\u001b[0;34m\u001b[0m\u001b[0;34m\u001b[0m\u001b[0m\n\u001b[0;32m---> 80\u001b[0;31m                     \u001b[0;32mif\u001b[0m \u001b[0mp\u001b[0m\u001b[0;34m.\u001b[0m\u001b[0mgrad\u001b[0m\u001b[0;34m.\u001b[0m\u001b[0mis_sparse\u001b[0m\u001b[0;34m:\u001b[0m\u001b[0;34m\u001b[0m\u001b[0;34m\u001b[0m\u001b[0m\n\u001b[0m\u001b[1;32m     81\u001b[0m                         \u001b[0;32mraise\u001b[0m \u001b[0mRuntimeError\u001b[0m\u001b[0;34m(\u001b[0m\u001b[0;34m'Adam does not support sparse gradients, please consider SparseAdam instead'\u001b[0m\u001b[0;34m)\u001b[0m\u001b[0;34m\u001b[0m\u001b[0;34m\u001b[0m\u001b[0m\n\u001b[1;32m     82\u001b[0m                     \u001b[0mgrads\u001b[0m\u001b[0;34m.\u001b[0m\u001b[0mappend\u001b[0m\u001b[0;34m(\u001b[0m\u001b[0mp\u001b[0m\u001b[0;34m.\u001b[0m\u001b[0mgrad\u001b[0m\u001b[0;34m)\u001b[0m\u001b[0;34m\u001b[0m\u001b[0;34m\u001b[0m\u001b[0m\n",
      "\u001b[0;32m~/anaconda3/envs/active_learning/lib/python3.8/site-packages/torch/tensor.py\u001b[0m in \u001b[0;36mgrad\u001b[0;34m(self)\u001b[0m\n\u001b[1;32m    945\u001b[0m             \u001b[0;32mreturn\u001b[0m \u001b[0mhandle_torch_function\u001b[0m\u001b[0;34m(\u001b[0m\u001b[0mTensor\u001b[0m\u001b[0;34m.\u001b[0m\u001b[0mgrad\u001b[0m\u001b[0;34m.\u001b[0m\u001b[0m__get__\u001b[0m\u001b[0;34m,\u001b[0m \u001b[0mrelevant_args\u001b[0m\u001b[0;34m,\u001b[0m \u001b[0mself\u001b[0m\u001b[0;34m)\u001b[0m  \u001b[0;31m# type: ignore[attr-defined]\u001b[0m\u001b[0;34m\u001b[0m\u001b[0;34m\u001b[0m\u001b[0m\n\u001b[1;32m    946\u001b[0m \u001b[0;34m\u001b[0m\u001b[0m\n\u001b[0;32m--> 947\u001b[0;31m         \u001b[0;32mif\u001b[0m \u001b[0mself\u001b[0m\u001b[0;34m.\u001b[0m\u001b[0mrequires_grad\u001b[0m \u001b[0;32mand\u001b[0m \u001b[0;32mnot\u001b[0m \u001b[0mhasattr\u001b[0m\u001b[0;34m(\u001b[0m\u001b[0mself\u001b[0m\u001b[0;34m,\u001b[0m \u001b[0;34m\"retains_grad\"\u001b[0m\u001b[0;34m)\u001b[0m \u001b[0;32mand\u001b[0m \u001b[0;32mnot\u001b[0m \u001b[0mself\u001b[0m\u001b[0;34m.\u001b[0m\u001b[0mis_leaf\u001b[0m \u001b[0;32mand\u001b[0m \u001b[0mself\u001b[0m\u001b[0;34m.\u001b[0m\u001b[0m_grad\u001b[0m \u001b[0;32mis\u001b[0m \u001b[0;32mNone\u001b[0m\u001b[0;34m:\u001b[0m\u001b[0;34m\u001b[0m\u001b[0;34m\u001b[0m\u001b[0m\n\u001b[0m\u001b[1;32m    948\u001b[0m             warnings.warn(\"The .grad attribute of a Tensor that is not a leaf Tensor is being accessed. Its .grad \"\n\u001b[1;32m    949\u001b[0m                           \u001b[0;34m\"attribute won't be populated during autograd.backward(). If you indeed want the gradient \"\u001b[0m\u001b[0;34m\u001b[0m\u001b[0;34m\u001b[0m\u001b[0m\n",
      "\u001b[0;31mKeyboardInterrupt\u001b[0m: "
     ]
    }
   ],
   "source": [
    "# experiment\n",
    "\n",
    "experiment = Experiment(\n",
    "    seed=1120,\n",
    "    max_training_epochs=1,\n",
    "    max_training_set=20005,\n",
    "    acquisition_function=acquisition_functions.EvalBALD,\n",
    "    acquisition_size=5,\n",
    "    num_pool_samples=20,\n",
    "    initial_training_set_size=20000,\n",
    "    temperature=8,\n",
    "    min_samples_per_epoch=5000,\n",
    "    device=\"cuda\",\n",
    ")\n",
    "\n",
    "results = {}\n",
    "experiment.run(results)"
   ]
  },
  {
   "cell_type": "code",
   "execution_count": null,
   "metadata": {},
   "outputs": [
    {
     "data": {
      "text/plain": [
       "{'initial_training_set_indices': [38043,\n",
       "  40091,\n",
       "  17418,\n",
       "  2094,\n",
       "  39879,\n",
       "  3133,\n",
       "  5011,\n",
       "  40683,\n",
       "  54379,\n",
       "  24287,\n",
       "  9849,\n",
       "  59305,\n",
       "  39508,\n",
       "  39356,\n",
       "  8758,\n",
       "  52579,\n",
       "  13655,\n",
       "  7636,\n",
       "  21562,\n",
       "  41329],\n",
       " 'dataset_info': {'training': \"'FastMNIST (Train)'\",\n",
       "  'test': \"'FastMNIST (Test)'\"},\n",
       " 'active_learning_steps': [{'training': {'epochs': [{'accuracy': 0.62109375,\n",
       "      'crossentropy': 2.6530187726020813},\n",
       "     {'accuracy': 0.6376953125, 'crossentropy': 2.762658029794693},\n",
       "     {'accuracy': 0.646484375, 'crossentropy': 3.056214064359665},\n",
       "     {'accuracy': 0.6416015625, 'crossentropy': 3.1257119178771973}],\n",
       "    'best_epoch': 1},\n",
       "   'evaluation_metrics': {'accuracy': 0.631,\n",
       "    'crossentropy': 2.6251225173950195}}]}"
      ]
     },
     "execution_count": null,
     "metadata": {},
     "output_type": "execute_result"
    }
   ],
   "source": [
    "results"
   ]
  },
  {
   "cell_type": "code",
   "execution_count": null,
   "metadata": {},
   "outputs": [
    {
     "name": "stdout",
     "output_type": "stream",
     "text": [
      "Training set size 20:\n"
     ]
    },
    {
     "data": {
      "application/vnd.jupyter.widget-view+json": {
       "model_id": "c3fc327793734c0eb2f361164ad86451",
       "version_major": 2,
       "version_minor": 0
      },
      "text/plain": [
       "100%|##########| 1/1 [00:00<?, ?it/s]"
      ]
     },
     "metadata": {},
     "output_type": "display_data"
    },
    {
     "data": {
      "application/vnd.jupyter.widget-view+json": {
       "model_id": "",
       "version_major": 2,
       "version_minor": 0
      },
      "text/plain": [
       "[1/384]   0%|           [00:00<?]"
      ]
     },
     "metadata": {},
     "output_type": "display_data"
    },
    {
     "data": {
      "application/vnd.jupyter.widget-view+json": {
       "model_id": "",
       "version_major": 2,
       "version_minor": 0
      },
      "text/plain": [
       "[1/64]   2%|1          [00:00<?]"
      ]
     },
     "metadata": {},
     "output_type": "display_data"
    },
    {
     "name": "stdout",
     "output_type": "stream",
     "text": [
      "RestoringEarlyStopping: Restoring best parameters. (Score: -6.529030114412308)\n",
      "RestoringEarlyStopping: Restoring optimizer.\n"
     ]
    },
    {
     "data": {
      "application/vnd.jupyter.widget-view+json": {
       "model_id": "",
       "version_major": 2,
       "version_minor": 0
      },
      "text/plain": [
       "[1/157]   1%|           [00:00<?]"
      ]
     },
     "metadata": {},
     "output_type": "display_data"
    },
    {
     "name": "stdout",
     "output_type": "stream",
     "text": [
      "Perf after training {'accuracy': 0.5367, 'crossentropy': 6.438035237884521}\n"
     ]
    },
    {
     "data": {
      "application/vnd.jupyter.widget-view+json": {
       "model_id": "",
       "version_major": 2,
       "version_minor": 0
      },
      "text/plain": [
       "get_predictions:   0%|          | 0/463616 [00:00<?, ?it/s]"
      ]
     },
     "metadata": {},
     "output_type": "display_data"
    },
    {
     "data": {
      "application/vnd.jupyter.widget-view+json": {
       "model_id": "382711f4f7ad4ec7980c856e0f9d229e",
       "version_major": 2,
       "version_minor": 0
      },
      "text/plain": [
       "100%|##########| 1/1 [00:00<?, ?it/s]"
      ]
     },
     "metadata": {},
     "output_type": "display_data"
    },
    {
     "data": {
      "application/vnd.jupyter.widget-view+json": {
       "model_id": "",
       "version_major": 2,
       "version_minor": 0
      },
      "text/plain": [
       "[1/1811]   0%|           [00:00<?]"
      ]
     },
     "metadata": {},
     "output_type": "display_data"
    },
    {
     "data": {
      "application/vnd.jupyter.widget-view+json": {
       "model_id": "",
       "version_major": 2,
       "version_minor": 0
      },
      "text/plain": [
       "[1/64]   2%|1          [00:00<?]"
      ]
     },
     "metadata": {},
     "output_type": "display_data"
    },
    {
     "name": "stdout",
     "output_type": "stream",
     "text": [
      "RestoringEarlyStopping: Restoring best parameters. (Score: -5.1637596152722836)\n",
      "RestoringEarlyStopping: Restoring optimizer.\n"
     ]
    },
    {
     "data": {
      "application/vnd.jupyter.widget-view+json": {
       "model_id": "",
       "version_major": 2,
       "version_minor": 0
      },
      "text/plain": [
       "get_predictions:   0%|          | 0/2317680 [00:00<?, ?it/s]"
      ]
     },
     "metadata": {},
     "output_type": "display_data"
    },
    {
     "data": {
      "application/vnd.jupyter.widget-view+json": {
       "model_id": "",
       "version_major": 2,
       "version_minor": 0
      },
      "text/plain": [
       "get_predictions:   0%|          | 0/2317680 [00:00<?, ?it/s]"
      ]
     },
     "metadata": {},
     "output_type": "display_data"
    },
    {
     "data": {
      "application/vnd.jupyter.widget-view+json": {
       "model_id": "",
       "version_major": 2,
       "version_minor": 0
      },
      "text/plain": [
       "Conditional Entropy:   0%|          | 0/115884 [00:00<?, ?it/s]"
      ]
     },
     "metadata": {},
     "output_type": "display_data"
    },
    {
     "data": {
      "application/vnd.jupyter.widget-view+json": {
       "model_id": "",
       "version_major": 2,
       "version_minor": 0
      },
      "text/plain": [
       "Entropy:   0%|          | 0/115884 [00:00<?, ?it/s]"
      ]
     },
     "metadata": {},
     "output_type": "display_data"
    },
    {
     "data": {
      "application/vnd.jupyter.widget-view+json": {
       "model_id": "",
       "version_major": 2,
       "version_minor": 0
      },
      "text/plain": [
       "Conditional Entropy:   0%|          | 0/115884 [00:00<?, ?it/s]"
      ]
     },
     "metadata": {},
     "output_type": "display_data"
    },
    {
     "data": {
      "application/vnd.jupyter.widget-view+json": {
       "model_id": "",
       "version_major": 2,
       "version_minor": 0
      },
      "text/plain": [
       "Entropy:   0%|          | 0/115884 [00:00<?, ?it/s]"
      ]
     },
     "metadata": {},
     "output_type": "display_data"
    },
    {
     "name": "stdout",
     "output_type": "stream",
     "text": [
      "Acquiring (label, score)s: 8 (0.8711), 8 (0.8687), 3 (0.876), 3 (0.8465), 3 (0.8811)\n",
      "Training set size 25:\n"
     ]
    },
    {
     "data": {
      "application/vnd.jupyter.widget-view+json": {
       "model_id": "a5c326c4165e48eab908014b4064f795",
       "version_major": 2,
       "version_minor": 0
      },
      "text/plain": [
       "100%|##########| 1/1 [00:00<?, ?it/s]"
      ]
     },
     "metadata": {},
     "output_type": "display_data"
    },
    {
     "data": {
      "application/vnd.jupyter.widget-view+json": {
       "model_id": "",
       "version_major": 2,
       "version_minor": 0
      },
      "text/plain": [
       "[1/384]   0%|           [00:00<?]"
      ]
     },
     "metadata": {},
     "output_type": "display_data"
    },
    {
     "data": {
      "application/vnd.jupyter.widget-view+json": {
       "model_id": "",
       "version_major": 2,
       "version_minor": 0
      },
      "text/plain": [
       "[1/64]   2%|1          [00:00<?]"
      ]
     },
     "metadata": {},
     "output_type": "display_data"
    },
    {
     "name": "stdout",
     "output_type": "stream",
     "text": [
      "RestoringEarlyStopping: Restoring best parameters. (Score: -4.6851686127483845)\n",
      "RestoringEarlyStopping: Restoring optimizer.\n"
     ]
    },
    {
     "data": {
      "application/vnd.jupyter.widget-view+json": {
       "model_id": "",
       "version_major": 2,
       "version_minor": 0
      },
      "text/plain": [
       "[1/157]   1%|           [00:00<?]"
      ]
     },
     "metadata": {},
     "output_type": "display_data"
    },
    {
     "name": "stdout",
     "output_type": "stream",
     "text": [
      "Perf after training {'accuracy': 0.6256, 'crossentropy': 4.484497045135498}\n",
      "Done.\n"
     ]
    },
    {
     "data": {
      "text/plain": [
       "{'initial_training_set_indices': [38043,\n",
       "  40091,\n",
       "  17418,\n",
       "  2094,\n",
       "  39879,\n",
       "  3133,\n",
       "  5011,\n",
       "  40683,\n",
       "  54379,\n",
       "  24287,\n",
       "  9849,\n",
       "  59305,\n",
       "  39508,\n",
       "  39356,\n",
       "  8758,\n",
       "  52579,\n",
       "  13655,\n",
       "  7636,\n",
       "  21562,\n",
       "  41329],\n",
       " 'active_learning_steps': [{'training': {'epochs': [{'accuracy': 0.538818359375,\n",
       "      'crossentropy': 6.529030114412308}],\n",
       "    'best_epoch': 1},\n",
       "   'evalution_metrics': {'accuracy': 0.5367,\n",
       "    'crossentropy': 6.438035237884521},\n",
       "   'pool_training': {'epochs': [{'accuracy': 0.531005859375,\n",
       "      'crossentropy': 5.1637596152722836}],\n",
       "    'best_epoch': 1},\n",
       "   'acquisition': {'indices': [63338, 10856, 63452, 81864, 109287],\n",
       "    'labels': [8, 8, 3, 3, 3],\n",
       "    'scores': [0.8710822958846325,\n",
       "     0.8687216999221631,\n",
       "     0.8759664372823723,\n",
       "     0.8464646732511746,\n",
       "     0.8810812784952251]}},\n",
       "  {'training': {'epochs': [{'accuracy': 0.62255859375,\n",
       "      'crossentropy': 4.6851686127483845}],\n",
       "    'best_epoch': 1},\n",
       "   'evalution_metrics': {'accuracy': 0.6256,\n",
       "    'crossentropy': 4.484497045135498}}]}"
      ]
     },
     "execution_count": null,
     "metadata": {},
     "output_type": "execute_result"
    }
   ],
   "source": [
    "# experiment\n",
    "\n",
    "experiment = Experiment(\n",
    "    max_training_epochs=1, max_training_set=25, acquisition_function=AcquisitionFunction.randombaldical\n",
    ")\n",
    "\n",
    "results = {}\n",
    "experiment.run(results)\n",
    "\n",
    "results"
   ]
  },
  {
   "cell_type": "code",
   "execution_count": null,
   "metadata": {},
   "outputs": [],
   "source": [
    "# FIRST EXPERIMENT SET\n",
    "\n",
    "configs = [\n",
    "    Experiment(\n",
    "        seed=seed,\n",
    "        acquisition_function=acquisition_function,\n",
    "        acquisition_size=acquisition_size,\n",
    "        num_pool_samples=num_pool_samples,\n",
    "        temperature=8,\n",
    "    )\n",
    "    for seed in range(5)\n",
    "    for acquisition_function in [\n",
    "        acquisition_functions.BALD,\n",
    "        acquisition_functions.CoreSetBALD,\n",
    "    ]\n",
    "    for acquisition_size in [1]\n",
    "    for num_pool_samples in [100]\n",
    "] + [\n",
    "    Experiment(\n",
    "        seed=seed,\n",
    "        acquisition_function=acquisition_functions.Random,\n",
    "        acquisition_size=5,\n",
    "        num_pool_samples=1,\n",
    "    )\n",
    "    for seed in range(5)\n",
    "]"
   ]
  },
  {
   "cell_type": "code",
   "execution_count": null,
   "metadata": {},
   "outputs": [],
   "source": [
    "# exports\n",
    "\n",
    "configs = [\n",
    "    Experiment(\n",
    "        seed=seed + 7893,\n",
    "        acquisition_function=acquisition_function,\n",
    "        acquisition_size=acquisition_size,\n",
    "        num_pool_samples=num_pool_samples,\n",
    "        initial_training_set_size=1000,\n",
    "        evaluation_set_size=5000,\n",
    "        max_training_set=30000,\n",
    "        temperature=8\n",
    "    )\n",
    "    for seed in range(5)\n",
    "    for acquisition_function in [\n",
    "        acquisition_functions.TemperedBALD,\n",
    "        acquisition_functions.BALD,\n",
    "        acquisition_functions.EvalBALD,\n",
    "        acquisition_functions.TemperedEvalBALD,\n",
    "        acquisition_functions.Random,\n",
    "    ]\n",
    "    for acquisition_size in [250]\n",
    "    for num_pool_samples in [100]\n",
    "]\n",
    "\n",
    "if not is_run_from_ipython() and __name__ == \"__main__\":\n",
    "    for job_id, store in embedded_experiments(__file__, len(configs)):\n",
    "        config = configs[job_id]\n",
    "        config.seed += job_id\n",
    "        print(config)\n",
    "        store[\"config\"] = dataclasses.asdict(config)\n",
    "        store[\"log\"] = {}\n",
    "\n",
    "        try:\n",
    "            config.run(store=store)\n",
    "        except Exception:\n",
    "            store[\"exception\"] = traceback.format_exc()\n",
    "            raise"
   ]
  },
  {
   "cell_type": "code",
   "execution_count": null,
   "metadata": {},
   "outputs": [
    {
     "data": {
      "text/plain": [
       "25"
      ]
     },
     "execution_count": null,
     "metadata": {},
     "output_type": "execute_result"
    }
   ],
   "source": [
    "len(configs)"
   ]
  },
  {
   "cell_type": "code",
   "execution_count": null,
   "metadata": {},
   "outputs": [
    {
     "name": "stdout",
     "output_type": "stream",
     "text": [
      "[\n",
      "    Experiment(\n",
      "        seed=7893,\n",
      "        evaluation_set_size=5000,\n",
      "        acquisition_size=250,\n",
      "        max_training_set=30000,\n",
      "        num_pool_samples=100,\n",
      "        # class\n",
      "        acquisition_function=batchbald_redux.acquisition_functions.TemperedBALD,\n",
      "        temperature=8\n",
      "    ),\n",
      "    Experiment(\n",
      "        seed=7893,\n",
      "        evaluation_set_size=5000,\n",
      "        acquisition_size=250,\n",
      "        max_training_set=30000,\n",
      "        num_pool_samples=100,\n",
      "        temperature=8\n",
      "    ),\n",
      "    Experiment(\n",
      "        seed=7893,\n",
      "        evaluation_set_size=5000,\n",
      "        acquisition_size=250,\n",
      "        max_training_set=30000,\n",
      "        num_pool_samples=100,\n",
      "        # class\n",
      "        acquisition_function=batchbald_redux.acquisition_functions.EvalBALD,\n",
      "        temperature=8\n",
      "    ),\n",
      "    Experiment(\n",
      "        seed=7893,\n",
      "        evaluation_set_size=5000,\n",
      "        acquisition_size=250,\n",
      "        max_training_set=30000,\n",
      "        num_pool_samples=100,\n",
      "        # class\n",
      "        acquisition_function=batchbald_redux.acquisition_functions.TemperedEvalBALD,\n",
      "        temperature=8\n",
      "    ),\n",
      "    Experiment(\n",
      "        seed=7893,\n",
      "        evaluation_set_size=5000,\n",
      "        acquisition_size=250,\n",
      "        max_training_set=30000,\n",
      "        num_pool_samples=100,\n",
      "        # class\n",
      "        acquisition_function=batchbald_redux.acquisition_functions.Random,\n",
      "        temperature=8\n",
      "    ),\n",
      "    Experiment(\n",
      "        seed=7894,\n",
      "        evaluation_set_size=5000,\n",
      "        acquisition_size=250,\n",
      "        max_training_set=30000,\n",
      "        num_pool_samples=100,\n",
      "        # class\n",
      "        acquisition_function=batchbald_redux.acquisition_functions.TemperedBALD,\n",
      "        temperature=8\n",
      "    ),\n",
      "    Experiment(\n",
      "        seed=7894,\n",
      "        evaluation_set_size=5000,\n",
      "        acquisition_size=250,\n",
      "        max_training_set=30000,\n",
      "        num_pool_samples=100,\n",
      "        temperature=8\n",
      "    ),\n",
      "    Experiment(\n",
      "        seed=7894,\n",
      "        evaluation_set_size=5000,\n",
      "        acquisition_size=250,\n",
      "        max_training_set=30000,\n",
      "        num_pool_samples=100,\n",
      "        # class\n",
      "        acquisition_function=batchbald_redux.acquisition_functions.EvalBALD,\n",
      "        temperature=8\n",
      "    ),\n",
      "    Experiment(\n",
      "        seed=7894,\n",
      "        evaluation_set_size=5000,\n",
      "        acquisition_size=250,\n",
      "        max_training_set=30000,\n",
      "        num_pool_samples=100,\n",
      "        # class\n",
      "        acquisition_function=batchbald_redux.acquisition_functions.TemperedEvalBALD,\n",
      "        temperature=8\n",
      "    ),\n",
      "    Experiment(\n",
      "        seed=7894,\n",
      "        evaluation_set_size=5000,\n",
      "        acquisition_size=250,\n",
      "        max_training_set=30000,\n",
      "        num_pool_samples=100,\n",
      "        # class\n",
      "        acquisition_function=batchbald_redux.acquisition_functions.Random,\n",
      "        temperature=8\n",
      "    ),\n",
      "    Experiment(\n",
      "        seed=7895,\n",
      "        evaluation_set_size=5000,\n",
      "        acquisition_size=250,\n",
      "        max_training_set=30000,\n",
      "        num_pool_samples=100,\n",
      "        # class\n",
      "        acquisition_function=batchbald_redux.acquisition_functions.TemperedBALD,\n",
      "        temperature=8\n",
      "    ),\n",
      "    Experiment(\n",
      "        seed=7895,\n",
      "        evaluation_set_size=5000,\n",
      "        acquisition_size=250,\n",
      "        max_training_set=30000,\n",
      "        num_pool_samples=100,\n",
      "        temperature=8\n",
      "    ),\n",
      "    Experiment(\n",
      "        seed=7895,\n",
      "        evaluation_set_size=5000,\n",
      "        acquisition_size=250,\n",
      "        max_training_set=30000,\n",
      "        num_pool_samples=100,\n",
      "        # class\n",
      "        acquisition_function=batchbald_redux.acquisition_functions.EvalBALD,\n",
      "        temperature=8\n",
      "    ),\n",
      "    Experiment(\n",
      "        seed=7895,\n",
      "        evaluation_set_size=5000,\n",
      "        acquisition_size=250,\n",
      "        max_training_set=30000,\n",
      "        num_pool_samples=100,\n",
      "        # class\n",
      "        acquisition_function=batchbald_redux.acquisition_functions.TemperedEvalBALD,\n",
      "        temperature=8\n",
      "    ),\n",
      "    Experiment(\n",
      "        seed=7895,\n",
      "        evaluation_set_size=5000,\n",
      "        acquisition_size=250,\n",
      "        max_training_set=30000,\n",
      "        num_pool_samples=100,\n",
      "        # class\n",
      "        acquisition_function=batchbald_redux.acquisition_functions.Random,\n",
      "        temperature=8\n",
      "    ),\n",
      "    Experiment(\n",
      "        seed=7896,\n",
      "        evaluation_set_size=5000,\n",
      "        acquisition_size=250,\n",
      "        max_training_set=30000,\n",
      "        num_pool_samples=100,\n",
      "        # class\n",
      "        acquisition_function=batchbald_redux.acquisition_functions.TemperedBALD,\n",
      "        temperature=8\n",
      "    ),\n",
      "    Experiment(\n",
      "        seed=7896,\n",
      "        evaluation_set_size=5000,\n",
      "        acquisition_size=250,\n",
      "        max_training_set=30000,\n",
      "        num_pool_samples=100,\n",
      "        temperature=8\n",
      "    ),\n",
      "    Experiment(\n",
      "        seed=7896,\n",
      "        evaluation_set_size=5000,\n",
      "        acquisition_size=250,\n",
      "        max_training_set=30000,\n",
      "        num_pool_samples=100,\n",
      "        # class\n",
      "        acquisition_function=batchbald_redux.acquisition_functions.EvalBALD,\n",
      "        temperature=8\n",
      "    ),\n",
      "    Experiment(\n",
      "        seed=7896,\n",
      "        evaluation_set_size=5000,\n",
      "        acquisition_size=250,\n",
      "        max_training_set=30000,\n",
      "        num_pool_samples=100,\n",
      "        # class\n",
      "        acquisition_function=batchbald_redux.acquisition_functions.TemperedEvalBALD,\n",
      "        temperature=8\n",
      "    ),\n",
      "    Experiment(\n",
      "        seed=7896,\n",
      "        evaluation_set_size=5000,\n",
      "        acquisition_size=250,\n",
      "        max_training_set=30000,\n",
      "        num_pool_samples=100,\n",
      "        # class\n",
      "        acquisition_function=batchbald_redux.acquisition_functions.Random,\n",
      "        temperature=8\n",
      "    ),\n",
      "    Experiment(\n",
      "        seed=7897,\n",
      "        evaluation_set_size=5000,\n",
      "        acquisition_size=250,\n",
      "        max_training_set=30000,\n",
      "        num_pool_samples=100,\n",
      "        # class\n",
      "        acquisition_function=batchbald_redux.acquisition_functions.TemperedBALD,\n",
      "        temperature=8\n",
      "    ),\n",
      "    Experiment(\n",
      "        seed=7897,\n",
      "        evaluation_set_size=5000,\n",
      "        acquisition_size=250,\n",
      "        max_training_set=30000,\n",
      "        num_pool_samples=100,\n",
      "        temperature=8\n",
      "    ),\n",
      "    Experiment(\n",
      "        seed=7897,\n",
      "        evaluation_set_size=5000,\n",
      "        acquisition_size=250,\n",
      "        max_training_set=30000,\n",
      "        num_pool_samples=100,\n",
      "        # class\n",
      "        acquisition_function=batchbald_redux.acquisition_functions.EvalBALD,\n",
      "        temperature=8\n",
      "    ),\n",
      "    Experiment(\n",
      "        seed=7897,\n",
      "        evaluation_set_size=5000,\n",
      "        acquisition_size=250,\n",
      "        max_training_set=30000,\n",
      "        num_pool_samples=100,\n",
      "        # class\n",
      "        acquisition_function=batchbald_redux.acquisition_functions.TemperedEvalBALD,\n",
      "        temperature=8\n",
      "    ),\n",
      "    Experiment(\n",
      "        seed=7897,\n",
      "        evaluation_set_size=5000,\n",
      "        acquisition_size=250,\n",
      "        max_training_set=30000,\n",
      "        num_pool_samples=100,\n",
      "        # class\n",
      "        acquisition_function=batchbald_redux.acquisition_functions.Random,\n",
      "        temperature=8\n",
      "    )\n",
      "]\n"
     ]
    }
   ],
   "source": [
    "import prettyprinter\n",
    "prettyprinter.install_extras({\"dataclasses\"})\n",
    "prettyprinter.pprint(configs)"
   ]
  },
  {
   "cell_type": "code",
   "execution_count": null,
   "metadata": {},
   "outputs": [],
   "source": []
  }
 ],
 "metadata": {
  "kernelspec": {
   "display_name": "Python [conda env:active_learning]",
   "language": "python",
   "name": "conda-env-active_learning-py"
  }
 },
 "nbformat": 4,
 "nbformat_minor": 4
}
