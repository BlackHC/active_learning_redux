{
 "cells": [
  {
   "cell_type": "markdown",
   "metadata": {},
   "source": [
    "# CINIC-10\n",
    "> \"Because CIFA-10 is not enough\"\n",
    ">\n",
    "> ― Albert Einstein"
   ]
  },
  {
   "cell_type": "code",
   "execution_count": null,
   "metadata": {},
   "outputs": [],
   "source": [
    "# default_exp cinic10"
   ]
  },
  {
   "cell_type": "code",
   "execution_count": null,
   "metadata": {},
   "outputs": [
    {
     "name": "stdout",
     "output_type": "stream",
     "text": [
      "Appended /home/blackhc/PycharmProjects/bald-ical/src to paths\n",
      "Switched to directory /home/blackhc/PycharmProjects/bald-ical\n",
      "%load_ext autoreload\n",
      "%autoreload 2\n"
     ]
    }
   ],
   "source": [
    "# hide\n",
    "import blackhc.project.script\n",
    "from nbdev.showdoc import *"
   ]
  },
  {
   "cell_type": "code",
   "execution_count": null,
   "metadata": {},
   "outputs": [],
   "source": [
    "# exports\n",
    "\n",
    "import os\n",
    "from pathlib import Path\n",
    "from typing import IO, Any, Callable, Dict, List, Optional, Tuple, Union\n",
    "from urllib.error import URLError\n",
    "\n",
    "import torch\n",
    "from torchvision.datasets import ImageFolder\n",
    "from torchvision.datasets.utils import download_and_extract_archive, verify_str_arg\n",
    "from torchvision.transforms import Compose, Normalize, ToTensor"
   ]
  },
  {
   "cell_type": "code",
   "execution_count": null,
   "metadata": {},
   "outputs": [],
   "source": [
    "# exports\n",
    "\n",
    "# based on torchvision.datasets.mnist.py (https://github.com/pytorch/vision/blob/37eb37a836fbc2c26197dfaf76d2a3f4f39f15df/torchvision/datasets/mnist.py)\n",
    "class CINIC10(ImageFolder):\n",
    "    \"\"\"\n",
    "    Ambiguous-MNIST Dataset\n",
    "    Please cite:\n",
    "        @article{mukhoti2021deterministic,\n",
    "          title={Deterministic Neural Networks with Appropriate Inductive Biases Capture Epistemic and Aleatoric Uncertainty},\n",
    "          author={Mukhoti, Jishnu and Kirsch, Andreas and van Amersfoort, Joost and Torr, Philip HS and Gal, Yarin},\n",
    "          journal={arXiv preprint arXiv:2102.11582},\n",
    "          year={2021}\n",
    "        }\n",
    "    Args:\n",
    "        root (string): Root directory of dataset where ``MNIST/processed/training.pt``\n",
    "            and  ``MNIST/processed/test.pt`` exist.\n",
    "        train (bool, optional): If True, creates dataset from ``training.pt``,\n",
    "            otherwise from ``test.pt``.\n",
    "        download (bool, optional): If true, downloads the dataset from the internet and\n",
    "            puts it in root directory. If dataset is already downloaded, it is not\n",
    "            downloaded again.\n",
    "        transform (callable, optional): A function/transform that  takes in an PIL image\n",
    "            and returns a transformed version. E.g, ``transforms.RandomCrop``\n",
    "        target_transform (callable, optional): A function/transform that takes in the\n",
    "            target and transforms it.\n",
    "        normalize (bool, optional): Normalize the samples.\n",
    "        device: Device to use (pass `num_workers=0, pin_memory=False` to the DataLoader for max throughput)\n",
    "    \"\"\"\n",
    "\n",
    "    url = \"https://datashare.is.ed.ac.uk/bitstream/handle/10283/3192/CINIC-10.tar.gz\"\n",
    "    url_md5 = \"6ee4d0c996905fe93221de577967a372\"\n",
    "\n",
    "    splits = (\"train\", \"test\", \"valid\")\n",
    "    touch_file = \"all_extracted\"\n",
    "\n",
    "    def __init__(\n",
    "        self,\n",
    "        root: str,\n",
    "        *,\n",
    "        split: str,\n",
    "        transform: Optional[Callable] = None,\n",
    "        target_transform: Optional[Callable] = None,\n",
    "        download: bool = False,\n",
    "        imagenet_only: bool = False\n",
    "    ):\n",
    "        assert split in self.splits\n",
    "\n",
    "        if download:\n",
    "            self.download(root)\n",
    "\n",
    "        if not self._check_exists(root):\n",
    "            raise RuntimeError(\"Dataset not found. You can use download=True to download it\")\n",
    "\n",
    "        is_valid_file = self.is_imagenet_sample if imagenet_only else None\n",
    "\n",
    "        super().__init__(\n",
    "            os.path.join(self.data_folder(root), split),\n",
    "            transform=transform,\n",
    "            target_transform=target_transform,\n",
    "            is_valid_file=is_valid_file,\n",
    "        )\n",
    "\n",
    "    @staticmethod\n",
    "    def is_imagenet_sample(path: str):\n",
    "        return \"cifar10\" not in os.path.basename(path)\n",
    "\n",
    "    @classmethod\n",
    "    def data_folder(clz, root) -> str:\n",
    "        return os.path.join(root, clz.__name__)\n",
    "\n",
    "    @classmethod\n",
    "    def split_folder(clz, root, split) -> str:\n",
    "        return os.path.join(clz.data_folder(root), split)\n",
    "\n",
    "    @classmethod\n",
    "    def touch_path(clz, root) -> str:\n",
    "        return os.path.join(clz.data_folder(root), clz.touch_file)\n",
    "\n",
    "    @classmethod\n",
    "    def _check_exists(clz, root) -> bool:\n",
    "        return all(os.path.exists(clz.split_folder(root, split)) for split in clz.splits) and os.path.exists(\n",
    "            clz.touch_path(root)\n",
    "        )\n",
    "\n",
    "    @classmethod\n",
    "    def download(clz, root: str) -> None:\n",
    "        if clz._check_exists(root):\n",
    "            print(\"Files already downloaded and verified\")\n",
    "            return\n",
    "\n",
    "        download_and_extract_archive(clz.url, clz.data_folder(root), md5=clz.url_md5)\n",
    "\n",
    "        Path(clz.touch_path(root)).touch()"
   ]
  },
  {
   "cell_type": "code",
   "execution_count": null,
   "metadata": {},
   "outputs": [
    {
     "name": "stdout",
     "output_type": "stream",
     "text": [
      "Files already downloaded and verified\n",
      "Files already downloaded and verified\n",
      "Files already downloaded and verified\n"
     ]
    },
    {
     "data": {
      "text/plain": [
       "(Dataset CINIC10\n",
       "     Number of datapoints: 90000\n",
       "     Root location: data/CINIC10/train,\n",
       " Dataset CINIC10\n",
       "     Number of datapoints: 90000\n",
       "     Root location: data/CINIC10/valid,\n",
       " Dataset CINIC10\n",
       "     Number of datapoints: 90000\n",
       "     Root location: data/CINIC10/test)"
      ]
     },
     "execution_count": null,
     "metadata": {},
     "output_type": "execute_result"
    }
   ],
   "source": [
    "# slow\n",
    "\n",
    "CINIC10(\"data\", split=\"train\", download=True), CINIC10(\"data\", split=\"valid\", download=True), CINIC10(\n",
    "    \"data\", split=\"test\", download=True\n",
    ")"
   ]
  },
  {
   "cell_type": "code",
   "execution_count": null,
   "metadata": {},
   "outputs": [
    {
     "name": "stdout",
     "output_type": "stream",
     "text": [
      "Files already downloaded and verified\n",
      "Files already downloaded and verified\n",
      "Files already downloaded and verified\n"
     ]
    },
    {
     "data": {
      "text/plain": [
       "(Dataset CINIC10\n",
       "     Number of datapoints: 70000\n",
       "     Root location: data/CINIC10/train,\n",
       " Dataset CINIC10\n",
       "     Number of datapoints: 70000\n",
       "     Root location: data/CINIC10/valid,\n",
       " Dataset CINIC10\n",
       "     Number of datapoints: 70000\n",
       "     Root location: data/CINIC10/test)"
      ]
     },
     "execution_count": null,
     "metadata": {},
     "output_type": "execute_result"
    }
   ],
   "source": [
    "# slow\n",
    "\n",
    "CINIC10(\"data\", split=\"train\", download=True, imagenet_only=True), CINIC10(\n",
    "    \"data\", split=\"valid\", download=True, imagenet_only=True\n",
    "), CINIC10(\"data\", split=\"test\", download=True, imagenet_only=True)"
   ]
  },
  {
   "cell_type": "code",
   "execution_count": null,
   "metadata": {},
   "outputs": [],
   "source": []
  }
 ],
 "metadata": {
  "kernelspec": {
   "display_name": "Python [conda env:active_learning]",
   "language": "python",
   "name": "conda-env-active_learning-py"
  }
 },
 "nbformat": 4,
 "nbformat_minor": 4
}
