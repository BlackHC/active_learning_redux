{
 "cells": [
  {
   "cell_type": "markdown",
   "metadata": {},
   "source": [
    "# CINIC-10\n",
    "> \"Because CIFA-10 is not enough\"\n",
    ">\n",
    "> ― Albert Einstein"
   ]
  },
  {
   "cell_type": "code",
   "execution_count": null,
   "metadata": {},
   "outputs": [
    {
     "name": "stdout",
     "output_type": "stream",
     "text": [
      "Appended /home/blackhc/PycharmProjects/bald-ical/src to paths\n",
      "Switched to directory /home/blackhc/PycharmProjects/bald-ical\n",
      "%load_ext autoreload\n",
      "%autoreload 2\n"
     ]
    }
   ],
   "source": [
    "# hide\n",
    "import blackhc.project.script\n",
    "from nbdev.showdoc import *"
   ]
  },
  {
   "cell_type": "code",
   "execution_count": null,
   "metadata": {},
   "outputs": [],
   "source": [
    "from batchbald_redux.cinic10 import CINIC10"
   ]
  },
  {
   "cell_type": "code",
   "execution_count": null,
   "metadata": {},
   "outputs": [
    {
     "name": "stdout",
     "output_type": "stream",
     "text": [
      "Files already downloaded and verified\n",
      "Files already downloaded and verified\n",
      "Files already downloaded and verified\n"
     ]
    },
    {
     "data": {
      "text/plain": [
       "(Dataset CINIC10\n",
       "     Number of datapoints: 90000\n",
       "     Root location: data/CINIC10/train,\n",
       " Dataset CINIC10\n",
       "     Number of datapoints: 90000\n",
       "     Root location: data/CINIC10/valid,\n",
       " Dataset CINIC10\n",
       "     Number of datapoints: 90000\n",
       "     Root location: data/CINIC10/test)"
      ]
     },
     "execution_count": null,
     "metadata": {},
     "output_type": "execute_result"
    }
   ],
   "source": [
    "# slow\n",
    "\n",
    "CINIC10(\"data\", split=\"train\", download=True), CINIC10(\"data\", split=\"valid\", download=True), CINIC10(\n",
    "    \"data\", split=\"test\", download=True\n",
    ")"
   ]
  },
  {
   "cell_type": "code",
   "execution_count": null,
   "metadata": {},
   "outputs": [
    {
     "name": "stdout",
     "output_type": "stream",
     "text": [
      "Files already downloaded and verified\n",
      "Files already downloaded and verified\n",
      "Files already downloaded and verified\n"
     ]
    },
    {
     "data": {
      "text/plain": [
       "(Dataset CINIC10\n",
       "     Number of datapoints: 70000\n",
       "     Root location: data/CINIC10/train,\n",
       " Dataset CINIC10\n",
       "     Number of datapoints: 70000\n",
       "     Root location: data/CINIC10/valid,\n",
       " Dataset CINIC10\n",
       "     Number of datapoints: 70000\n",
       "     Root location: data/CINIC10/test)"
      ]
     },
     "execution_count": null,
     "metadata": {},
     "output_type": "execute_result"
    }
   ],
   "source": [
    "# slow\n",
    "\n",
    "CINIC10(\"data\", split=\"train\", download=True, imagenet_only=True), CINIC10(\n",
    "    \"data\", split=\"valid\", download=True, imagenet_only=True\n",
    "), CINIC10(\"data\", split=\"test\", download=True, imagenet_only=True)"
   ]
  },
  {
   "cell_type": "code",
   "execution_count": null,
   "metadata": {},
   "outputs": [],
   "source": []
  }
 ],
 "metadata": {
  "kernelspec": {
   "display_name": "Python [conda env:active_learning]",
   "language": "python",
   "name": "conda-env-active_learning-py"
  }
 },
 "nbformat": 4,
 "nbformat_minor": 4
}
