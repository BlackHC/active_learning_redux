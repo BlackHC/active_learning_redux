{
 "cells": [
  {
   "cell_type": "code",
   "execution_count": null,
   "id": "small-composite",
   "metadata": {},
   "outputs": [],
   "source": [
    "# Tests for Baseline Acquisition Functions"
   ]
  },
  {
   "cell_type": "code",
   "execution_count": null,
   "id": "wired-flight",
   "metadata": {},
   "outputs": [
    {
     "name": "stdout",
     "output_type": "stream",
     "text": [
      "Appended /home/blackhc/PycharmProjects/bald-ical/src to paths\n",
      "Switched to directory /home/blackhc/PycharmProjects/bald-ical\n",
      "%load_ext autoreload\n",
      "%autoreload 2\n"
     ]
    }
   ],
   "source": [
    "# hide\n",
    "\n",
    "import blackhc.project.script\n",
    "from nbdev.showdoc import *"
   ]
  },
  {
   "cell_type": "code",
   "execution_count": null,
   "id": "single-merit",
   "metadata": {},
   "outputs": [],
   "source": [
    "import torch\n",
    "\n",
    "from batchbald_redux import baseline_acquisition_functions"
   ]
  },
  {
   "cell_type": "code",
   "execution_count": null,
   "id": "accepted-effectiveness",
   "metadata": {},
   "outputs": [
    {
     "data": {
      "text/plain": [
       "tensor([-5, -6, -3, -4,  0, -3, -4])"
      ]
     },
     "execution_count": null,
     "metadata": {},
     "output_type": "execute_result"
    }
   ],
   "source": [
    "baseline_acquisition_functions.get_variation_ratios(torch.randn(size=(7,13,10)), device=\"cpu\")"
   ]
  },
  {
   "cell_type": "code",
   "execution_count": null,
   "id": "painted-turner",
   "metadata": {},
   "outputs": [
    {
     "data": {
      "text/plain": [
       "tensor([0.2698, 0.2892])"
      ]
     },
     "execution_count": null,
     "metadata": {},
     "output_type": "execute_result"
    }
   ],
   "source": [
    "baseline_acquisition_functions.get_margin_scores(torch.randn(size=(7,13,10)), device=\"cpu\")"
   ]
  },
  {
   "cell_type": "code",
   "execution_count": null,
   "id": "forty-lawrence",
   "metadata": {},
   "outputs": [
    {
     "data": {
      "text/plain": [
       "tensor([1.6610, 1.6845, 1.2571, 1.0790, 1.2159, 1.9808, 1.4166])"
      ]
     },
     "execution_count": null,
     "metadata": {},
     "output_type": "execute_result"
    }
   ],
   "source": [
    "baseline_acquisition_functions.get_mean_stddev_scores(torch.randn(size=(7,13,10)), device=\"cpu\")"
   ]
  }
 ],
 "metadata": {
  "kernelspec": {
   "display_name": "Python [conda env:active_learning]",
   "language": "python",
   "name": "conda-env-active_learning-py"
  }
 },
 "nbformat": 4,
 "nbformat_minor": 5
}
