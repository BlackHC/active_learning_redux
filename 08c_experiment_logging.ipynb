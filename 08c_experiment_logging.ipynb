{
 "cells": [
  {
   "cell_type": "markdown",
   "id": "charged-denial",
   "metadata": {},
   "source": [
    "# Experiment Logging\n",
    "> No empirical experiments without logging."
   ]
  },
  {
   "cell_type": "code",
   "execution_count": null,
   "id": "accomplished-magic",
   "metadata": {},
   "outputs": [],
   "source": [
    "# default_exp experiment_logging"
   ]
  },
  {
   "cell_type": "code",
   "execution_count": null,
   "id": "veterinary-booking",
   "metadata": {},
   "outputs": [
    {
     "name": "stdout",
     "output_type": "stream",
     "text": [
      "Appended /home/blackhc/PycharmProjects/bald-ical/src to paths\n",
      "Switched to directory /home/blackhc/PycharmProjects/bald-ical\n",
      "%load_ext autoreload\n",
      "%autoreload 2\n"
     ]
    }
   ],
   "source": [
    "# hide\n",
    "import blackhc.project.script\n",
    "from nbdev.showdoc import *"
   ]
  },
  {
   "cell_type": "markdown",
   "id": "subsequent-bangladesh",
   "metadata": {},
   "source": [
    "Import modules and functions were are going to use."
   ]
  },
  {
   "cell_type": "code",
   "execution_count": null,
   "id": "previous-arrest",
   "metadata": {},
   "outputs": [],
   "source": [
    "# exports\n",
    "\n",
    "import copy\n",
    "import dataclasses\n",
    "import functools\n",
    "\n",
    "import wandb"
   ]
  },
  {
   "cell_type": "code",
   "execution_count": null,
   "id": "swedish-northern",
   "metadata": {},
   "outputs": [],
   "source": [
    "# exports\n",
    "\n",
    "# Helper to add class names to dicts (based on dataclasses.asdict)\n",
    "\n",
    "\n",
    "def asclassdict(obj, *, dict_factory=dict):\n",
    "    \"\"\"Return the fields of a dataclass instance as a new dictionary mapping\n",
    "    field names to field values.\n",
    "\n",
    "    Example usage:\n",
    "\n",
    "      @dataclass\n",
    "      class C:\n",
    "          x: int\n",
    "          y: int\n",
    "\n",
    "      c = C(1, 2)\n",
    "      assert asdict(c) == {'x': 1, 'y': 2}\n",
    "\n",
    "    If given, 'dict_factory' will be used instead of built-in dict.\n",
    "    The function applies recursively to field values that are\n",
    "    dataclass instances. This will also look into built-in containers:\n",
    "    tuples, lists, and dicts.\n",
    "    \"\"\"\n",
    "    if not dataclasses._is_dataclass_instance(obj):\n",
    "        raise TypeError(\"asdict() should be called on dataclass instances\")\n",
    "    return _asclassdict_inner(obj, dict_factory)\n",
    "\n",
    "\n",
    "def _asclassdict_inner(obj, dict_factory):\n",
    "    if dataclasses._is_dataclass_instance(obj):\n",
    "        result = []\n",
    "        result.append((\"Dataclass\", f\"{obj.__class__.__module__}.{obj.__class__.__qualname__}\"))\n",
    "        for f in dataclasses.fields(obj):\n",
    "            value = _asclassdict_inner(getattr(obj, f.name), dict_factory)\n",
    "            result.append((f.name, value))\n",
    "        return dict_factory(result)\n",
    "    elif isinstance(obj, tuple) and hasattr(obj, \"_fields\"):\n",
    "        # obj is a namedtuple.  Recurse into it, but the returned\n",
    "        # object is another namedtuple of the same type.  This is\n",
    "        # similar to how other list- or tuple-derived classes are\n",
    "        # treated (see below), but we just need to create them\n",
    "        # differently because a namedtuple's __init__ needs to be\n",
    "        # called differently (see bpo-34363).\n",
    "\n",
    "        # I'm not using namedtuple's _asdict()\n",
    "        # method, because:\n",
    "        # - it does not recurse in to the namedtuple fields and\n",
    "        #   convert them to dicts (using dict_factory).\n",
    "        # - I don't actually want to return a dict here.  The main\n",
    "        #   use case here is json.dumps, and it handles converting\n",
    "        #   namedtuples to lists.  Admittedly we're losing some\n",
    "        #   information here when we produce a json list instead of a\n",
    "        #   dict.  Note that if we returned dicts here instead of\n",
    "        #   namedtuples, we could no longer call asdict() on a data\n",
    "        #   structure where a namedtuple was used as a dict key.\n",
    "\n",
    "        return type(obj)(*[_asclassdict_inner(v, dict_factory) for v in obj])\n",
    "    elif isinstance(obj, (list, tuple)):\n",
    "        # Assume we can create an object of this type by passing in a\n",
    "        # generator (which is not true for namedtuples, handled\n",
    "        # above).\n",
    "        return type(obj)(_asclassdict_inner(v, dict_factory) for v in obj)\n",
    "    elif isinstance(obj, dict):\n",
    "        return type(obj)(\n",
    "            (_asclassdict_inner(k, dict_factory), _asclassdict_inner(v, dict_factory)) for k, v in obj.items()\n",
    "        )\n",
    "    else:\n",
    "        return copy.deepcopy(obj)"
   ]
  },
  {
   "cell_type": "code",
   "execution_count": null,
   "id": "inclusive-arlington",
   "metadata": {},
   "outputs": [],
   "source": [
    "# exports\n",
    "\n",
    "__logging_initialized__ = None\n",
    "\n",
    "\n",
    "def init_wandb(config, notes=None, project=\"balds\", entity=\"oatml-andreas-kirsch\"):\n",
    "    global __logging_initialized__\n",
    "\n",
    "    wandb.init(\n",
    "        project=\"balds\",\n",
    "        entity=\"oatml-andreas-kirsch\",\n",
    "        config=asclassdict(config),\n",
    "        save_code=True,\n",
    "        job_type=\"experiment\",\n",
    "        notes=notes,\n",
    "        magic=True,\n",
    "        mode=\"online\",\n",
    "    )\n",
    "\n",
    "    __logging_initialized__ = True"
   ]
  },
  {
   "cell_type": "code",
   "execution_count": null,
   "id": "federal-catering",
   "metadata": {},
   "outputs": [],
   "source": [
    "# exports\n",
    "\n",
    "\n",
    "def wandb_only(f):\n",
    "    @functools.wraps(f)\n",
    "    def wrapper(*args, **kwargs):\n",
    "        global __logging_initialized__\n",
    "        if __logging_initialized__ is None:\n",
    "            wandb.init(mode=\"disabled\")\n",
    "            __logging_initialized__ = False\n",
    "        f(*args, **kwargs)\n",
    "\n",
    "    return wrapper\n",
    "\n",
    "\n",
    "@wandb_only\n",
    "def log2wandb(row, commit: bool):\n",
    "    wandb.log(row, commit=commit)"
   ]
  },
  {
   "cell_type": "code",
   "execution_count": null,
   "id": "printable-genealogy",
   "metadata": {},
   "outputs": [],
   "source": []
  }
 ],
 "metadata": {
  "kernelspec": {
   "display_name": "Python [conda env:active_learning]",
   "language": "python",
   "name": "conda-env-active_learning-py"
  }
 },
 "nbformat": 4,
 "nbformat_minor": 5
}
