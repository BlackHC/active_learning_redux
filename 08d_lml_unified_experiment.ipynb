{
 "cells": [
  {
   "cell_type": "markdown",
   "metadata": {},
   "source": [
    "# LML Unified Experiment Code\n",
    "> Resistance is futile."
   ]
  },
  {
   "cell_type": "code",
   "execution_count": null,
   "metadata": {},
   "outputs": [],
   "source": [
    "# default_exp lml_unified_experiment"
   ]
  },
  {
   "cell_type": "code",
   "execution_count": null,
   "metadata": {},
   "outputs": [
    {
     "name": "stdout",
     "output_type": "stream",
     "text": [
      "Appended /home/blackhc/PycharmProjects/bald-ical/src to paths\n",
      "Switched to directory /home/blackhc/PycharmProjects/bald-ical\n",
      "%load_ext autoreload\n",
      "%autoreload 2\n"
     ]
    }
   ],
   "source": [
    "# hide\n",
    "import blackhc.project.script"
   ]
  },
  {
   "cell_type": "markdown",
   "metadata": {},
   "source": [
    "Import modules and functions were are going to use."
   ]
  },
  {
   "cell_type": "code",
   "execution_count": null,
   "metadata": {},
   "outputs": [],
   "source": [
    "# exports\n",
    "\n",
    "import dataclasses\n",
    "import traceback\n",
    "from dataclasses import dataclass\n",
    "from typing import Dict, List, Optional, Type, Union\n",
    "\n",
    "import numpy as np\n",
    "import torch\n",
    "import torch.utils.data\n",
    "from blackhc.project import is_run_from_ipython\n",
    "from blackhc.project.experiment import embedded_experiments\n",
    "from torch import nn\n",
    "from torch.utils.data import Dataset\n",
    "\n",
    "import batchbald_redux.acquisition_functions.batchbald\n",
    "import batchbald_redux.acquisition_functions.epig\n",
    "import wandb\n",
    "from batchbald_redux import acquisition_functions, baseline_acquisition_functions\n",
    "from batchbald_redux.acquisition_functions import (\n",
    "    CandidateBatchComputer,\n",
    "    EvalDatasetBatchComputer,\n",
    "    EvalModelBatchComputer,\n",
    ")\n",
    "from batchbald_redux.active_learning import ActiveLearningData\n",
    "from batchbald_redux.black_box_model_training import evaluate\n",
    "from batchbald_redux.dataset_challenges import (\n",
    "    NamedDataset,\n",
    "    get_balanced_sample_indices,\n",
    "    get_base_dataset_index,\n",
    "    get_target,\n",
    ")\n",
    "from batchbald_redux.datasets import get_dataset\n",
    "from batchbald_redux.di import DependencyInjection\n",
    "from batchbald_redux.experiment_data import (\n",
    "    ExperimentData,\n",
    "    ExperimentDataConfig,\n",
    "    OoDDatasetConfig,\n",
    "    StandardExperimentDataConfig,\n",
    ")\n",
    "from batchbald_redux.experiment_logging import init_wandb, log2wandb\n",
    "from batchbald_redux.models import MnistModelTrainer\n",
    "from batchbald_redux.resnet_models import Cifar10ModelTrainer\n",
    "from batchbald_redux.train_eval_model import (\n",
    "    TrainEvalModel,\n",
    "    TrainSelfDistillationEvalModel,\n",
    ")\n",
    "from batchbald_redux.trained_model import BayesianEnsembleModelTrainer, ModelTrainer"
   ]
  },
  {
   "cell_type": "code",
   "execution_count": null,
   "metadata": {},
   "outputs": [],
   "source": [
    "# exports\n",
    "\n",
    "\n",
    "@dataclass\n",
    "class LmlExperimentData:\n",
    "    train_dataset: Dataset\n",
    "    validation_dataset: Dataset\n",
    "    test_dataset: Dataset\n",
    "    train_augmentations: nn.Module\n",
    "    initial_training_set_indices: List[int]\n",
    "    device: str\n",
    "\n",
    "\n",
    "@dataclass\n",
    "class LmlExperimentDataConfig(ExperimentDataConfig):\n",
    "    id_dataset_name: str\n",
    "    initial_training_set_size: int\n",
    "    validation_set_size: int\n",
    "    validation_split_random_state: int\n",
    "\n",
    "    def load(self, device) -> LmlExperimentData:\n",
    "        return load_distribution_experiment_data(\n",
    "            id_dataset_name=self.id_dataset_name,\n",
    "            initial_training_set_size=self.initial_training_set_size,\n",
    "            validation_set_size=self.validation_set_size,\n",
    "            validation_split_random_state=self.validation_split_random_state,\n",
    "            device=device,\n",
    "        )\n",
    "\n",
    "\n",
    "def load_distribution_experiment_data(\n",
    "    *,\n",
    "    id_dataset_name: str,\n",
    "    initial_training_set_size: int,\n",
    "    validation_set_size: int,\n",
    "    validation_split_random_state: int,\n",
    "    device: str,\n",
    ") -> LmlExperimentData:\n",
    "    split_dataset = get_dataset(\n",
    "        id_dataset_name,\n",
    "        root=\"data\",\n",
    "        validation_set_size=validation_set_size,\n",
    "        validation_split_random_state=validation_split_random_state,\n",
    "        normalize_like_cifar10=True,\n",
    "        device_hint=device,\n",
    "    )\n",
    "\n",
    "    train_dataset = split_dataset.train\n",
    "\n",
    "    targets = train_dataset.get_targets()\n",
    "    num_classes = train_dataset.get_num_classes()\n",
    "    initial_samples_per_class = initial_training_set_size // num_classes\n",
    "    initial_training_set_indices = get_balanced_sample_indices(\n",
    "        targets=targets,\n",
    "        num_classes=num_classes,\n",
    "        samples_per_class=initial_samples_per_class,\n",
    "        seed=validation_split_random_state,\n",
    "    )\n",
    "\n",
    "    return LmlExperimentData(\n",
    "        train_dataset=train_dataset,\n",
    "        validation_dataset=split_dataset.validation,\n",
    "        test_dataset=split_dataset.test,\n",
    "        train_augmentations=split_dataset.train_augmentations,\n",
    "        initial_training_set_indices=initial_training_set_indices,\n",
    "        device=split_dataset.device,\n",
    "    )"
   ]
  },
  {
   "cell_type": "code",
   "execution_count": null,
   "metadata": {},
   "outputs": [],
   "source": [
    "# exports\n",
    "\n",
    "\n",
    "@dataclass\n",
    "class LmlEstimates:\n",
    "    marginal_log_predictive: float\n",
    "    joint_log_predictive: float\n",
    "\n",
    "\n",
    "def get_lml_estimates(log_probs_N_K_C_labels_N):\n",
    "    log_probs_N_K_C, labels_N = log_probs_N_K_C_labels_N\n",
    "\n",
    "    true_log_probs_N_K = log_probs_N_K_C[list(range(len(labels_N))), :, labels_N]\n",
    "\n",
    "    marginal_log_predictive = torch.logsumexp(true_log_probs_N_K, dim=1).sum(dim=0) - np.log(\n",
    "        true_log_probs_N_K.shape[1]\n",
    "    )\n",
    "    joint_log_predictive = torch.logsumexp(true_log_probs_N_K.sum(dim=0), dim=0) - np.log(true_log_probs_N_K.shape[1])\n",
    "    return LmlEstimates(marginal_log_predictive, joint_log_predictive)\n",
    "\n",
    "\n",
    "@dataclass\n",
    "class LmlActiveLearner:\n",
    "    acquisition_size: int\n",
    "    max_training_set: int\n",
    "\n",
    "    num_validation_samples: int\n",
    "    num_pool_samples: int\n",
    "\n",
    "    acquisition_function: Union[CandidateBatchComputer, EvalModelBatchComputer]\n",
    "    model_trainer: ModelTrainer\n",
    "    data: LmlExperimentData\n",
    "\n",
    "    device: Optional\n",
    "\n",
    "    def __call__(self, log):\n",
    "        log[\"seed\"] = torch.seed()\n",
    "\n",
    "        # Active Learning setup\n",
    "        data = self.data\n",
    "\n",
    "        self.max_training_set = (\n",
    "            (self.max_training_set + self.acquisition_size - 1) // self.acquisition_size * self.acquisition_size\n",
    "        )\n",
    "\n",
    "        active_learning_data = ActiveLearningData(data.train_dataset)\n",
    "        active_learning_data.acquire_base_indices(data.initial_training_set_indices)\n",
    "\n",
    "        # Remove most of the remaining pool set\n",
    "        generator = np.random.default_rng(1137)\n",
    "        discard_indices = generator.permutation(len(active_learning_data.pool_dataset))[\n",
    "            : -(self.max_training_set - len(data.initial_training_set_indices))\n",
    "        ]\n",
    "        active_learning_data.extract_dataset_from_pool_indices(discard_indices)\n",
    "        log[\"pool_indices\"] = active_learning_data.pool_dataset.indices\n",
    "\n",
    "        model_trainer = self.model_trainer\n",
    "\n",
    "        train_loader = model_trainer.get_train_dataloader(active_learning_data.training_dataset)\n",
    "        pool_loader = model_trainer.get_evaluation_dataloader(active_learning_data.pool_dataset)\n",
    "        validation_loader = model_trainer.get_evaluation_dataloader(data.validation_dataset)\n",
    "        test_loader = model_trainer.get_evaluation_dataloader(data.test_dataset)\n",
    "\n",
    "        log[\"active_learning_steps\"] = []\n",
    "        active_learning_steps = log[\"active_learning_steps\"]\n",
    "\n",
    "        acquisition_function = self.acquisition_function\n",
    "\n",
    "        num_iterations = 0\n",
    "        max_iterations = int(\n",
    "            1.5 * (self.max_training_set - len(active_learning_data.training_dataset)) / self.acquisition_size\n",
    "        )\n",
    "\n",
    "        # Active Training Loop\n",
    "        while True:\n",
    "            training_set_size = len(active_learning_data.training_dataset)\n",
    "            print(f\"Training set size {training_set_size}:\")\n",
    "\n",
    "            # iteration_log = dict(training={}, pool_training={}, evaluation_metrics=None, acquisition=None)\n",
    "            active_learning_steps.append({})\n",
    "            iteration_log = active_learning_steps[-1]\n",
    "\n",
    "            iteration_log[\"training\"] = {}\n",
    "\n",
    "            loss = validation_loss = torch.nn.NLLLoss()\n",
    "\n",
    "            trained_model = model_trainer.get_trained(\n",
    "                train_loader=train_loader,\n",
    "                train_augmentations=data.train_augmentations,\n",
    "                validation_loader=validation_loader,\n",
    "                log=iteration_log[\"training\"],\n",
    "                wandb_key_path=\"model_training\",\n",
    "                loss=loss,\n",
    "                validation_loss=validation_loss,\n",
    "            )\n",
    "\n",
    "            evaluation_metrics = evaluate(\n",
    "                model=trained_model,\n",
    "                num_samples=self.num_validation_samples,\n",
    "                loader=test_loader,\n",
    "                device=self.device,\n",
    "                storage_device=\"cpu\",\n",
    "            )\n",
    "            iteration_log[\"evaluation_metrics\"] = evaluation_metrics\n",
    "            log2wandb(evaluation_metrics, commit=False)\n",
    "            print(f\"Perf after training {evaluation_metrics}\")\n",
    "\n",
    "            if training_set_size >= self.max_training_set or num_iterations >= max_iterations:\n",
    "                log2wandb({}, commit=True)\n",
    "                print(\"Done.\")\n",
    "                break\n",
    "\n",
    "            if isinstance(acquisition_function, CandidateBatchComputer):\n",
    "                candidate_batch = acquisition_function.compute_candidate_batch(trained_model, pool_loader, self.device)\n",
    "            else:\n",
    "                raise ValueError(f\"Unknown acquisition function {acquisition_function}!\")\n",
    "\n",
    "            candidate_global_dataset_indices = []\n",
    "            candidate_labels = []\n",
    "            candidate_images = []\n",
    "            for index in candidate_batch.indices:\n",
    "                base_di = get_base_dataset_index(active_learning_data.pool_dataset, index)\n",
    "                dataset_type = \"id\"\n",
    "                candidate_global_dataset_indices.append((dataset_type, base_di.index))\n",
    "                if dataset_type == \"id\":\n",
    "                    label = get_target(active_learning_data.pool_dataset, index).tolist()\n",
    "                else:\n",
    "                    label = None\n",
    "                candidate_labels.append(label)\n",
    "                candidate_images.append(wandb.Image(active_learning_data.pool_dataset[index][0]))\n",
    "\n",
    "            # Lml computation\n",
    "            lml_batch_dataloader = model_trainer.get_evaluation_dataloader(\n",
    "                torch.utils.data.Subset(active_learning_data.pool_dataset, candidate_batch.indices)\n",
    "            )\n",
    "            lml_log_probs_N_K_C_labels_N = trained_model.get_log_probs_N_K_C_labels_N(\n",
    "                lml_batch_dataloader, self.num_pool_samples, self.device, \"cpu\"\n",
    "            )\n",
    "            lml_estimate = get_lml_estimates(lml_log_probs_N_K_C_labels_N)\n",
    "\n",
    "            iteration_log[\"lml_estimate\"] = lml_estimate\n",
    "            log2wandb(dict(lml_estimate=dataclasses.asdict(lml_estimate)), commit=False)\n",
    "\n",
    "            acquisition_info = dict(\n",
    "                indices=candidate_global_dataset_indices, labels=candidate_labels, scores=candidate_batch.scores\n",
    "            )\n",
    "            iteration_log[\"acquisition\"] = acquisition_info\n",
    "\n",
    "            acquistion_batch_table = wandb.Table(\n",
    "                data=list(\n",
    "                    zip(\n",
    "                        *zip(*candidate_global_dataset_indices),\n",
    "                        candidate_images,\n",
    "                        candidate_labels,\n",
    "                        candidate_batch.scores,\n",
    "                    )\n",
    "                ),\n",
    "                columns=[\"dataset\", \"index\", \"sample\", \"label\", \"score\"],\n",
    "            )\n",
    "            log2wandb(dict(acquisition=acquistion_batch_table), commit=False)\n",
    "\n",
    "            print(candidate_batch)\n",
    "            print(candidate_global_dataset_indices)\n",
    "\n",
    "            active_learning_data.acquire(candidate_batch.indices)\n",
    "\n",
    "            ls = \", \".join(f\"{label} ({score:.4})\" for label, score in zip(candidate_labels, candidate_batch.scores))\n",
    "            print(f\"Acquiring (label, score)s: {ls}\")\n",
    "\n",
    "            num_iterations += 1\n",
    "            log2wandb({}, commit=True)\n",
    "\n",
    "\n",
    "@dataclass\n",
    "class LmlUnifiedExperiment:\n",
    "    seed: int\n",
    "\n",
    "    experiment_data_config: LmlExperimentDataConfig\n",
    "\n",
    "    acquisition_size: int = 5\n",
    "    max_training_set: int = 200\n",
    "\n",
    "    max_training_epochs: int = 300\n",
    "\n",
    "    num_pool_samples: int = 100\n",
    "    num_validation_samples: int = 20\n",
    "    num_training_samples: int = 1\n",
    "\n",
    "    device: str = \"cuda\"\n",
    "    acquisition_function: Union[\n",
    "        Type[CandidateBatchComputer], Type[EvalModelBatchComputer]\n",
    "    ] = None  # acquisition_functions.BALD\n",
    "    model_trainer_factory: Type[ModelTrainer] = None  # Cifar10ModelTrainer\n",
    "    ensemble_size: int = 1\n",
    "\n",
    "    temperature: float = 1.0\n",
    "    coldness: float = 1.0\n",
    "    stochastic_mode: acquisition_functions.StochasticMode = acquisition_functions.StochasticMode.TopK\n",
    "\n",
    "    def load_experiment_data(self) -> LmlExperimentData:\n",
    "        print(self.experiment_data_config)\n",
    "        return self.experiment_data_config.load(self.device)\n",
    "\n",
    "    # Simple Dependency Injection\n",
    "    def create_acquisition_function(self):\n",
    "        di = DependencyInjection(vars(self))\n",
    "        return di.create_dataclass_type(self.acquisition_function)\n",
    "\n",
    "    def create_model_trainer(self) -> ModelTrainer:\n",
    "        di = DependencyInjection(vars(self))\n",
    "        return di.create_dataclass_type(self.model_trainer_factory)\n",
    "\n",
    "    def run(self, store, project=None, entity=None):\n",
    "        init_wandb(self, project=project, entity=entity)\n",
    "\n",
    "        torch.manual_seed(self.seed)\n",
    "\n",
    "        # Active Learning setup\n",
    "        data = self.load_experiment_data()\n",
    "        store[\"dataset_info\"] = dict(training=repr(data.train_dataset), test=repr(data.test_dataset))\n",
    "        store[\"initial_training_set_indices\"] = data.initial_training_set_indices\n",
    "\n",
    "        print(wandb.config)\n",
    "\n",
    "        wandb.config.initial_training_set_indices = data.initial_training_set_indices\n",
    "        wandb.config[\"dataset_info\"] = store[\"dataset_info\"]\n",
    "\n",
    "        acquisition_function = self.create_acquisition_function()\n",
    "        model_trainer = self.create_model_trainer()\n",
    "        if self.ensemble_size > 1:\n",
    "            model_trainer = BayesianEnsembleModelTrainer(model_trainer=model_trainer, ensemble_size=self.ensemble_size)\n",
    "\n",
    "        active_learner = LmlActiveLearner(\n",
    "            acquisition_size=self.acquisition_size,\n",
    "            max_training_set=self.max_training_set,\n",
    "            num_validation_samples=self.num_validation_samples,\n",
    "            num_pool_samples=self.num_pool_samples,\n",
    "            acquisition_function=acquisition_function,\n",
    "            model_trainer=model_trainer,\n",
    "            data=data,\n",
    "            device=self.device,\n",
    "        )\n",
    "\n",
    "        active_learner(store)\n",
    "\n",
    "        wandb.finish()"
   ]
  },
  {
   "cell_type": "code",
   "execution_count": null,
   "metadata": {},
   "outputs": [],
   "source": [
    "configs = [\n",
    "    LmlUnifiedExperiment(\n",
    "        experiment_data_config=LmlExperimentDataConfig(\n",
    "            id_dataset_name=\"MNIST\",\n",
    "            initial_training_set_size=20,\n",
    "            validation_set_size=4096,\n",
    "            validation_split_random_state=0,\n",
    "        ),\n",
    "        seed=seed + 45682,\n",
    "        acquisition_function=acquisition_function,\n",
    "        acquisition_size=acquisition_size,\n",
    "        num_pool_samples=num_pool_samples,\n",
    "        max_training_set=1000,\n",
    "        model_trainer_factory=MnistModelTrainer,\n",
    "        stochastic_mode=stochastic_mode,\n",
    "        coldness=coldness,\n",
    "    )\n",
    "    for seed in range(5)\n",
    "    for acquisition_size in [10]\n",
    "    for num_pool_samples in [100]\n",
    "    for coldness in [1]\n",
    "    for stochastic_mode in [\n",
    "        acquisition_functions.StochasticMode.Power,\n",
    "    ]\n",
    "    for acquisition_function in [\n",
    "        acquisition_functions.BALD,\n",
    "        acquisition_functions.Random\n",
    "    ]\n",
    "]\n",
    "\n",
    "if not is_run_from_ipython() and __name__ == \"__main__\":\n",
    "    for job_id, store in embedded_experiments(__file__, len(configs)):\n",
    "        config = configs[job_id]\n",
    "        config.seed += job_id\n",
    "        print(config)\n",
    "        store[\"config\"] = dataclasses.asdict(config)\n",
    "        store[\"log\"] = {}\n",
    "\n",
    "        try:\n",
    "            config.run(store=store)\n",
    "        except Exception:\n",
    "            store[\"exception\"] = traceback.format_exc()\n",
    "            raise"
   ]
  },
  {
   "cell_type": "code",
   "execution_count": null,
   "metadata": {},
   "outputs": [
    {
     "data": {
      "text/plain": [
       "10"
      ]
     },
     "execution_count": null,
     "metadata": {},
     "output_type": "execute_result"
    }
   ],
   "source": [
    "len(configs)"
   ]
  },
  {
   "cell_type": "markdown",
   "metadata": {},
   "source": [
    "## MNIST only"
   ]
  },
  {
   "cell_type": "code",
   "execution_count": null,
   "metadata": {
    "tags": []
   },
   "outputs": [
    {
     "name": "stderr",
     "output_type": "stream",
     "text": [
      "Failed to detect the name of this notebook, you can set it manually with the WANDB_NOTEBOOK_NAME environment variable to enable code saving.\n",
      "\u001b[34m\u001b[1mwandb\u001b[0m: Currently logged in as: \u001b[33moatml-andreas-kirsch\u001b[0m (use `wandb login --relogin` to force relogin)\n"
     ]
    },
    {
     "data": {
      "text/html": [
       "wandb version 0.12.17 is available!  To upgrade, please run:\n",
       " $ pip install wandb --upgrade"
      ],
      "text/plain": [
       "<IPython.core.display.HTML object>"
      ]
     },
     "metadata": {},
     "output_type": "display_data"
    },
    {
     "data": {
      "text/html": [
       "Tracking run with wandb version 0.12.11"
      ],
      "text/plain": [
       "<IPython.core.display.HTML object>"
      ]
     },
     "metadata": {},
     "output_type": "display_data"
    },
    {
     "data": {
      "text/html": [
       "Run data is saved locally in <code>/home/blackhc/PycharmProjects/bald-ical/wandb/run-20220609_170109-4lqey7y8</code>"
      ],
      "text/plain": [
       "<IPython.core.display.HTML object>"
      ]
     },
     "metadata": {},
     "output_type": "display_data"
    },
    {
     "data": {
      "text/html": [
       "Syncing run <strong><a href=\"https://wandb.ai/oatml-andreas-kirsch/balds/runs/4lqey7y8\" target=\"_blank\">avid-totem-166</a></strong> to <a href=\"https://wandb.ai/oatml-andreas-kirsch/balds\" target=\"_blank\">Weights & Biases</a> (<a href=\"https://wandb.me/run\" target=\"_blank\">docs</a>)<br/>"
      ],
      "text/plain": [
       "<IPython.core.display.HTML object>"
      ]
     },
     "metadata": {},
     "output_type": "display_data"
    },
    {
     "name": "stdout",
     "output_type": "stream",
     "text": [
      "LmlExperimentDataConfig(id_dataset_name='MNIST', initial_training_set_size=20, validation_set_size=4096, validation_split_random_state=0)\n",
      "{'Dataclass': '__main__.LmlUnifiedExperiment', 'seed': 1, 'experiment_data_config': {'Dataclass': '__main__.LmlExperimentDataConfig', 'id_dataset_name': 'MNIST', 'initial_training_set_size': 20, 'validation_set_size': 4096, 'validation_split_random_state': 0}, 'acquisition_size': 10, 'max_training_set': 40, 'max_training_epochs': 5, 'num_pool_samples': 2, 'num_validation_samples': 20, 'num_training_samples': 1, 'device': 'cuda', 'acquisition_function': 'batchbald_redux.acquisition_functions.bald.BALD', 'model_trainer_factory': 'batchbald_redux.models.MnistModelTrainer', 'ensemble_size': 1, 'temperature': 1.0, 'coldness': 1.0, 'stochastic_mode': 'StochasticMode.TopK'}\n",
      "Creating: BALD(\n",
      "\tacquisition_size=10,\n",
      "\tnum_pool_samples=2,\n",
      "\tcoldness=1.0,\n",
      "\tstochastic_mode=StochasticMode.TopK\n",
      ")\n",
      "Creating: MnistModelTrainer(\n",
      "\tdevice=cuda,\n",
      "\tnum_training_samples=1,\n",
      "\tnum_validation_samples=20,\n",
      "\tmax_training_epochs=5\n",
      ")\n",
      "Training set size 20:\n"
     ]
    },
    {
     "name": "stderr",
     "output_type": "stream",
     "text": [
      "/home/blackhc/anaconda3/envs/active_learning/lib/python3.8/site-packages/sklearn/utils/__init__.py:1102: DeprecationWarning: `np.int` is a deprecated alias for the builtin `int`. To silence this warning, use `int` by itself. Doing this will not modify any behavior and is safe. When replacing `np.int`, you may wish to use e.g. `np.int64` or `np.int32` to specify the precision. If you wish to review your current use, check the release note link for additional information.\n",
      "Deprecated in NumPy 1.20; for more details and guidance: https://numpy.org/devdocs/release/1.20.0-notes.html#deprecations\n",
      "  return floored.astype(np.int)\n",
      "/home/blackhc/anaconda3/envs/active_learning/lib/python3.8/site-packages/sklearn/utils/__init__.py:1102: DeprecationWarning: `np.int` is a deprecated alias for the builtin `int`. To silence this warning, use `int` by itself. Doing this will not modify any behavior and is safe. When replacing `np.int`, you may wish to use e.g. `np.int64` or `np.int32` to specify the precision. If you wish to review your current use, check the release note link for additional information.\n",
      "Deprecated in NumPy 1.20; for more details and guidance: https://numpy.org/devdocs/release/1.20.0-notes.html#deprecations\n",
      "  return floored.astype(np.int)\n"
     ]
    },
    {
     "data": {
      "application/vnd.jupyter.widget-view+json": {
       "model_id": "9844e42fb5ad41ceaa913bf59ac0b86a",
       "version_major": 2,
       "version_minor": 0
      },
      "text/plain": [
       " 20%|##        | 1/5 [00:00<?, ?it/s]"
      ]
     },
     "metadata": {},
     "output_type": "display_data"
    },
    {
     "data": {
      "application/vnd.jupyter.widget-view+json": {
       "model_id": "",
       "version_major": 2,
       "version_minor": 0
      },
      "text/plain": [
       "[1/16]   6%|6          [00:00<?]"
      ]
     },
     "metadata": {},
     "output_type": "display_data"
    },
    {
     "data": {
      "application/vnd.jupyter.widget-view+json": {
       "model_id": "",
       "version_major": 2,
       "version_minor": 0
      },
      "text/plain": [
       "[1/32]   3%|3          [00:00<?]"
      ]
     },
     "metadata": {},
     "output_type": "display_data"
    },
    {
     "name": "stdout",
     "output_type": "stream",
     "text": [
      "Epoch metrics: {'accuracy': 0.633544921875, 'crossentropy': 1.6153091192245483}\n"
     ]
    },
    {
     "data": {
      "application/vnd.jupyter.widget-view+json": {
       "model_id": "",
       "version_major": 2,
       "version_minor": 0
      },
      "text/plain": [
       "[1/16]   6%|6          [00:00<?]"
      ]
     },
     "metadata": {},
     "output_type": "display_data"
    },
    {
     "data": {
      "application/vnd.jupyter.widget-view+json": {
       "model_id": "",
       "version_major": 2,
       "version_minor": 0
      },
      "text/plain": [
       "[1/32]   3%|3          [00:00<?]"
      ]
     },
     "metadata": {},
     "output_type": "display_data"
    },
    {
     "name": "stdout",
     "output_type": "stream",
     "text": [
      "Epoch metrics: {'accuracy': 0.665771484375, 'crossentropy': 1.049702525138855}\n"
     ]
    },
    {
     "data": {
      "application/vnd.jupyter.widget-view+json": {
       "model_id": "",
       "version_major": 2,
       "version_minor": 0
      },
      "text/plain": [
       "[1/16]   6%|6          [00:00<?]"
      ]
     },
     "metadata": {},
     "output_type": "display_data"
    },
    {
     "data": {
      "application/vnd.jupyter.widget-view+json": {
       "model_id": "",
       "version_major": 2,
       "version_minor": 0
      },
      "text/plain": [
       "[1/32]   3%|3          [00:00<?]"
      ]
     },
     "metadata": {},
     "output_type": "display_data"
    },
    {
     "name": "stdout",
     "output_type": "stream",
     "text": [
      "Epoch metrics: {'accuracy': 0.6884765625, 'crossentropy': 1.0206776857376099}\n"
     ]
    },
    {
     "data": {
      "application/vnd.jupyter.widget-view+json": {
       "model_id": "",
       "version_major": 2,
       "version_minor": 0
      },
      "text/plain": [
       "[1/16]   6%|6          [00:00<?]"
      ]
     },
     "metadata": {},
     "output_type": "display_data"
    },
    {
     "data": {
      "application/vnd.jupyter.widget-view+json": {
       "model_id": "",
       "version_major": 2,
       "version_minor": 0
      },
      "text/plain": [
       "[1/32]   3%|3          [00:00<?]"
      ]
     },
     "metadata": {},
     "output_type": "display_data"
    },
    {
     "name": "stdout",
     "output_type": "stream",
     "text": [
      "Epoch metrics: {'accuracy': 0.715576171875, 'crossentropy': 0.9736806750297546}\n"
     ]
    },
    {
     "data": {
      "application/vnd.jupyter.widget-view+json": {
       "model_id": "",
       "version_major": 2,
       "version_minor": 0
      },
      "text/plain": [
       "[1/16]   6%|6          [00:00<?]"
      ]
     },
     "metadata": {},
     "output_type": "display_data"
    },
    {
     "data": {
      "application/vnd.jupyter.widget-view+json": {
       "model_id": "",
       "version_major": 2,
       "version_minor": 0
      },
      "text/plain": [
       "[1/32]   3%|3          [00:00<?]"
      ]
     },
     "metadata": {},
     "output_type": "display_data"
    },
    {
     "name": "stdout",
     "output_type": "stream",
     "text": [
      "Epoch metrics: {'accuracy': 0.689453125, 'crossentropy': 1.0641498565673828}\n",
      "RestoringEarlyStopping: 1 / 20\n",
      "RestoringEarlyStopping: Restoring best parameters. (Score: 0.715576171875)\n",
      "RestoringEarlyStopping: Restoring optimizer.\n",
      "{'model_training/val_metrics': <wandb.data_types.Table object at 0x7f543e24eca0>, 'model_training/best_epoch': 3, 'model_training/best_val_accuracy': 0.715576171875, 'model_training/best_val_crossentropy': 0.9736806750297546}\n"
     ]
    },
    {
     "data": {
      "application/vnd.jupyter.widget-view+json": {
       "model_id": "",
       "version_major": 2,
       "version_minor": 0
      },
      "text/plain": [
       "get_predictions_labels:   0%|          | 0/200000 [00:00<?, ?it/s]"
      ]
     },
     "metadata": {},
     "output_type": "display_data"
    },
    {
     "name": "stdout",
     "output_type": "stream",
     "text": [
      "Perf after training {'accuracy': 0.7305, 'crossentropy': tensor(0.9253), '_timestamp': 1654790487, '_runtime': 17}\n",
      "20 40\n"
     ]
    },
    {
     "data": {
      "application/vnd.jupyter.widget-view+json": {
       "model_id": "",
       "version_major": 2,
       "version_minor": 0
      },
      "text/plain": [
       "get_predictions_labels:   0%|          | 0/40 [00:00<?, ?it/s]"
      ]
     },
     "metadata": {},
     "output_type": "display_data"
    },
    {
     "data": {
      "application/vnd.jupyter.widget-view+json": {
       "model_id": "",
       "version_major": 2,
       "version_minor": 0
      },
      "text/plain": [
       "Conditional Entropy:   0%|          | 0/20 [00:00<?, ?it/s]"
      ]
     },
     "metadata": {},
     "output_type": "display_data"
    },
    {
     "data": {
      "application/vnd.jupyter.widget-view+json": {
       "model_id": "",
       "version_major": 2,
       "version_minor": 0
      },
      "text/plain": [
       "Entropy:   0%|          | 0/20 [00:00<?, ?it/s]"
      ]
     },
     "metadata": {},
     "output_type": "display_data"
    },
    {
     "data": {
      "application/vnd.jupyter.widget-view+json": {
       "model_id": "",
       "version_major": 2,
       "version_minor": 0
      },
      "text/plain": [
       "get_predictions_labels:   0%|          | 0/20 [00:00<?, ?it/s]"
      ]
     },
     "metadata": {},
     "output_type": "display_data"
    },
    {
     "name": "stdout",
     "output_type": "stream",
     "text": [
      "CandidateBatch(scores=[0.6384381754120134, 0.5322415286180691, 0.5260113756832867, 0.5171422857261013, 0.43788164175231065, 0.41219195967240185, 0.35280675544516427, 0.2784379799719978, 0.23271255500333565, 0.21250867786466032], indices=[17, 4, 5, 14, 0, 11, 12, 6, 18, 15])\n",
      "[('id', 42257), ('id', 10772), ('id', 12675), ('id', 33931), ('id', 4772), ('id', 18874), ('id', 20397), ('id', 14713), ('id', 51472), ('id', 34214)]\n",
      "Acquiring (label, score)s: 7 (0.6384), 0 (0.5322), 9 (0.526), 3 (0.5171), 8 (0.4379), 5 (0.4122), 6 (0.3528), 4 (0.2784), 9 (0.2327), 4 (0.2125)\n",
      "Training set size 30:\n"
     ]
    },
    {
     "data": {
      "application/vnd.jupyter.widget-view+json": {
       "model_id": "5a7a82c3f97c496fb3bc9965f1801a3a",
       "version_major": 2,
       "version_minor": 0
      },
      "text/plain": [
       " 20%|##        | 1/5 [00:00<?, ?it/s]"
      ]
     },
     "metadata": {},
     "output_type": "display_data"
    },
    {
     "data": {
      "application/vnd.jupyter.widget-view+json": {
       "model_id": "",
       "version_major": 2,
       "version_minor": 0
      },
      "text/plain": [
       "[1/16]   6%|6          [00:00<?]"
      ]
     },
     "metadata": {},
     "output_type": "display_data"
    },
    {
     "data": {
      "application/vnd.jupyter.widget-view+json": {
       "model_id": "",
       "version_major": 2,
       "version_minor": 0
      },
      "text/plain": [
       "[1/32]   3%|3          [00:00<?]"
      ]
     },
     "metadata": {},
     "output_type": "display_data"
    },
    {
     "name": "stdout",
     "output_type": "stream",
     "text": [
      "Epoch metrics: {'accuracy': 0.3115234375, 'crossentropy': 1.981034755706787}\n"
     ]
    },
    {
     "data": {
      "application/vnd.jupyter.widget-view+json": {
       "model_id": "",
       "version_major": 2,
       "version_minor": 0
      },
      "text/plain": [
       "[1/16]   6%|6          [00:00<?]"
      ]
     },
     "metadata": {},
     "output_type": "display_data"
    },
    {
     "data": {
      "application/vnd.jupyter.widget-view+json": {
       "model_id": "",
       "version_major": 2,
       "version_minor": 0
      },
      "text/plain": [
       "[1/32]   3%|3          [00:00<?]"
      ]
     },
     "metadata": {},
     "output_type": "display_data"
    },
    {
     "name": "stdout",
     "output_type": "stream",
     "text": [
      "Epoch metrics: {'accuracy': 0.688232421875, 'crossentropy': 1.1834875345230103}\n"
     ]
    },
    {
     "data": {
      "application/vnd.jupyter.widget-view+json": {
       "model_id": "",
       "version_major": 2,
       "version_minor": 0
      },
      "text/plain": [
       "[1/16]   6%|6          [00:00<?]"
      ]
     },
     "metadata": {},
     "output_type": "display_data"
    },
    {
     "data": {
      "application/vnd.jupyter.widget-view+json": {
       "model_id": "",
       "version_major": 2,
       "version_minor": 0
      },
      "text/plain": [
       "[1/32]   3%|3          [00:00<?]"
      ]
     },
     "metadata": {},
     "output_type": "display_data"
    },
    {
     "name": "stdout",
     "output_type": "stream",
     "text": [
      "Epoch metrics: {'accuracy': 0.724609375, 'crossentropy': 0.9258241057395935}\n"
     ]
    },
    {
     "data": {
      "application/vnd.jupyter.widget-view+json": {
       "model_id": "",
       "version_major": 2,
       "version_minor": 0
      },
      "text/plain": [
       "[1/16]   6%|6          [00:00<?]"
      ]
     },
     "metadata": {},
     "output_type": "display_data"
    },
    {
     "data": {
      "application/vnd.jupyter.widget-view+json": {
       "model_id": "",
       "version_major": 2,
       "version_minor": 0
      },
      "text/plain": [
       "[1/32]   3%|3          [00:00<?]"
      ]
     },
     "metadata": {},
     "output_type": "display_data"
    },
    {
     "name": "stdout",
     "output_type": "stream",
     "text": [
      "Epoch metrics: {'accuracy': 0.72119140625, 'crossentropy': 0.8667286038398743}\n",
      "RestoringEarlyStopping: 1 / 20\n"
     ]
    },
    {
     "data": {
      "application/vnd.jupyter.widget-view+json": {
       "model_id": "",
       "version_major": 2,
       "version_minor": 0
      },
      "text/plain": [
       "[1/16]   6%|6          [00:00<?]"
      ]
     },
     "metadata": {},
     "output_type": "display_data"
    },
    {
     "data": {
      "application/vnd.jupyter.widget-view+json": {
       "model_id": "",
       "version_major": 2,
       "version_minor": 0
      },
      "text/plain": [
       "[1/32]   3%|3          [00:00<?]"
      ]
     },
     "metadata": {},
     "output_type": "display_data"
    },
    {
     "name": "stdout",
     "output_type": "stream",
     "text": [
      "Epoch metrics: {'accuracy': 0.7412109375, 'crossentropy': 0.8418170213699341}\n",
      "RestoringEarlyStopping: Restoring best parameters. (Score: 0.7412109375)\n",
      "RestoringEarlyStopping: Restoring optimizer.\n",
      "{'model_training/val_metrics': <wandb.data_types.Table object at 0x7f541079beb0>, 'model_training/best_epoch': 4, 'model_training/best_val_accuracy': 0.7412109375, 'model_training/best_val_crossentropy': 0.8418170213699341}\n"
     ]
    },
    {
     "data": {
      "application/vnd.jupyter.widget-view+json": {
       "model_id": "",
       "version_major": 2,
       "version_minor": 0
      },
      "text/plain": [
       "get_predictions_labels:   0%|          | 0/200000 [00:00<?, ?it/s]"
      ]
     },
     "metadata": {},
     "output_type": "display_data"
    },
    {
     "name": "stdout",
     "output_type": "stream",
     "text": [
      "Perf after training {'accuracy': 0.7385, 'crossentropy': tensor(0.8186), '_timestamp': 1654790494, '_runtime': 24}\n",
      "30 40\n"
     ]
    },
    {
     "data": {
      "application/vnd.jupyter.widget-view+json": {
       "model_id": "",
       "version_major": 2,
       "version_minor": 0
      },
      "text/plain": [
       "get_predictions_labels:   0%|          | 0/20 [00:00<?, ?it/s]"
      ]
     },
     "metadata": {},
     "output_type": "display_data"
    },
    {
     "data": {
      "application/vnd.jupyter.widget-view+json": {
       "model_id": "",
       "version_major": 2,
       "version_minor": 0
      },
      "text/plain": [
       "Conditional Entropy:   0%|          | 0/10 [00:00<?, ?it/s]"
      ]
     },
     "metadata": {},
     "output_type": "display_data"
    },
    {
     "data": {
      "application/vnd.jupyter.widget-view+json": {
       "model_id": "",
       "version_major": 2,
       "version_minor": 0
      },
      "text/plain": [
       "Entropy:   0%|          | 0/10 [00:00<?, ?it/s]"
      ]
     },
     "metadata": {},
     "output_type": "display_data"
    },
    {
     "data": {
      "application/vnd.jupyter.widget-view+json": {
       "model_id": "",
       "version_major": 2,
       "version_minor": 0
      },
      "text/plain": [
       "get_predictions_labels:   0%|          | 0/20 [00:00<?, ?it/s]"
      ]
     },
     "metadata": {},
     "output_type": "display_data"
    },
    {
     "name": "stdout",
     "output_type": "stream",
     "text": [
      "CandidateBatch(scores=[0.5039396624648, 0.11559749183180545, 0.022129452678531503, 0.010923715540287343, 0.0044587734035281545, 0.0013395915672130727, 0.0010455881146414457, 0.0003782144064454155, 0.0001937470539422276, 7.375469733071432e-05], indices=[9, 0, 8, 6, 7, 5, 2, 4, 1, 3])\n",
      "[('id', 54609), ('id', 5447), ('id', 38349), ('id', 17476), ('id', 28686), ('id', 16197), ('id', 9157), ('id', 15373), ('id', 6636), ('id', 14867)]\n",
      "Acquiring (label, score)s: 6 (0.5039), 5 (0.1156), 4 (0.02213), 6 (0.01092), 1 (0.004459), 6 (0.00134), 9 (0.001046), 6 (0.0003782), 1 (0.0001937), 0 (7.375e-05)\n",
      "Training set size 40:\n"
     ]
    },
    {
     "data": {
      "application/vnd.jupyter.widget-view+json": {
       "model_id": "690881943721421d8c5f0589819fe7bd",
       "version_major": 2,
       "version_minor": 0
      },
      "text/plain": [
       " 20%|##        | 1/5 [00:00<?, ?it/s]"
      ]
     },
     "metadata": {},
     "output_type": "display_data"
    },
    {
     "data": {
      "application/vnd.jupyter.widget-view+json": {
       "model_id": "",
       "version_major": 2,
       "version_minor": 0
      },
      "text/plain": [
       "[1/16]   6%|6          [00:00<?]"
      ]
     },
     "metadata": {},
     "output_type": "display_data"
    },
    {
     "data": {
      "application/vnd.jupyter.widget-view+json": {
       "model_id": "",
       "version_major": 2,
       "version_minor": 0
      },
      "text/plain": [
       "[1/32]   3%|3          [00:00<?]"
      ]
     },
     "metadata": {},
     "output_type": "display_data"
    },
    {
     "name": "stdout",
     "output_type": "stream",
     "text": [
      "Epoch metrics: {'accuracy': 0.3603515625, 'crossentropy': 1.8856765031814575}\n"
     ]
    },
    {
     "data": {
      "application/vnd.jupyter.widget-view+json": {
       "model_id": "",
       "version_major": 2,
       "version_minor": 0
      },
      "text/plain": [
       "[1/16]   6%|6          [00:00<?]"
      ]
     },
     "metadata": {},
     "output_type": "display_data"
    },
    {
     "data": {
      "application/vnd.jupyter.widget-view+json": {
       "model_id": "",
       "version_major": 2,
       "version_minor": 0
      },
      "text/plain": [
       "[1/32]   3%|3          [00:00<?]"
      ]
     },
     "metadata": {},
     "output_type": "display_data"
    },
    {
     "name": "stdout",
     "output_type": "stream",
     "text": [
      "Epoch metrics: {'accuracy': 0.647216796875, 'crossentropy': 1.1425728797912598}\n"
     ]
    },
    {
     "data": {
      "application/vnd.jupyter.widget-view+json": {
       "model_id": "",
       "version_major": 2,
       "version_minor": 0
      },
      "text/plain": [
       "[1/16]   6%|6          [00:00<?]"
      ]
     },
     "metadata": {},
     "output_type": "display_data"
    },
    {
     "data": {
      "application/vnd.jupyter.widget-view+json": {
       "model_id": "",
       "version_major": 2,
       "version_minor": 0
      },
      "text/plain": [
       "[1/32]   3%|3          [00:00<?]"
      ]
     },
     "metadata": {},
     "output_type": "display_data"
    },
    {
     "name": "stdout",
     "output_type": "stream",
     "text": [
      "Epoch metrics: {'accuracy': 0.7236328125, 'crossentropy': 0.8968830704689026}\n"
     ]
    },
    {
     "data": {
      "application/vnd.jupyter.widget-view+json": {
       "model_id": "",
       "version_major": 2,
       "version_minor": 0
      },
      "text/plain": [
       "[1/16]   6%|6          [00:00<?]"
      ]
     },
     "metadata": {},
     "output_type": "display_data"
    },
    {
     "data": {
      "application/vnd.jupyter.widget-view+json": {
       "model_id": "",
       "version_major": 2,
       "version_minor": 0
      },
      "text/plain": [
       "[1/32]   3%|3          [00:00<?]"
      ]
     },
     "metadata": {},
     "output_type": "display_data"
    },
    {
     "name": "stdout",
     "output_type": "stream",
     "text": [
      "Epoch metrics: {'accuracy': 0.7109375, 'crossentropy': 0.9118012189865112}\n",
      "RestoringEarlyStopping: 1 / 20\n"
     ]
    },
    {
     "data": {
      "application/vnd.jupyter.widget-view+json": {
       "model_id": "",
       "version_major": 2,
       "version_minor": 0
      },
      "text/plain": [
       "[1/16]   6%|6          [00:00<?]"
      ]
     },
     "metadata": {},
     "output_type": "display_data"
    },
    {
     "data": {
      "application/vnd.jupyter.widget-view+json": {
       "model_id": "",
       "version_major": 2,
       "version_minor": 0
      },
      "text/plain": [
       "[1/32]   3%|3          [00:00<?]"
      ]
     },
     "metadata": {},
     "output_type": "display_data"
    },
    {
     "name": "stdout",
     "output_type": "stream",
     "text": [
      "Epoch metrics: {'accuracy': 0.732177734375, 'crossentropy': 0.8665317296981812}\n",
      "RestoringEarlyStopping: Restoring best parameters. (Score: 0.732177734375)\n",
      "RestoringEarlyStopping: Restoring optimizer.\n",
      "{'model_training/val_metrics': <wandb.data_types.Table object at 0x7f543e242f70>, 'model_training/best_epoch': 4, 'model_training/best_val_accuracy': 0.732177734375, 'model_training/best_val_crossentropy': 0.8665317296981812}\n"
     ]
    },
    {
     "data": {
      "application/vnd.jupyter.widget-view+json": {
       "model_id": "",
       "version_major": 2,
       "version_minor": 0
      },
      "text/plain": [
       "get_predictions_labels:   0%|          | 0/200000 [00:00<?, ?it/s]"
      ]
     },
     "metadata": {},
     "output_type": "display_data"
    },
    {
     "name": "stdout",
     "output_type": "stream",
     "text": [
      "Perf after training {'accuracy': 0.7538, 'crossentropy': tensor(0.7971), '_timestamp': 1654790502, '_runtime': 32}\n",
      "40 40\n",
      "Done.\n",
      "\n"
     ]
    },
    {
     "data": {
      "text/html": [
       "Waiting for W&B process to finish... <strong style=\"color:green\">(success).</strong>"
      ],
      "text/plain": [
       "<IPython.core.display.HTML object>"
      ]
     },
     "metadata": {},
     "output_type": "display_data"
    },
    {
     "data": {
      "application/vnd.jupyter.widget-view+json": {
       "model_id": "",
       "version_major": 2,
       "version_minor": 0
      },
      "text/plain": [
       "VBox(children=(Label(value='0.541 MB of 0.541 MB uploaded (0.000 MB deduped)\\r'), FloatProgress(value=1.0, max…"
      ]
     },
     "metadata": {},
     "output_type": "display_data"
    },
    {
     "data": {
      "text/html": [
       "<style>\n",
       "    table.wandb td:nth-child(1) { padding: 0 10px; text-align: right }\n",
       "    .wandb-row { display: flex; flex-direction: row; flex-wrap: wrap; width: 100% }\n",
       "    .wandb-col { display: flex; flex-direction: column; flex-basis: 100%; flex: 1; padding: 10px; }\n",
       "    </style>\n",
       "<div class=\"wandb-row\"><div class=\"wandb-col\"><h3>Run history:</h3><br/><table class=\"wandb\"><tr><td>accuracy</td><td>▁▃█</td></tr><tr><td>crossentropy</td><td>█▂▁</td></tr><tr><td>model_training/best_epoch</td><td>▁██</td></tr><tr><td>model_training/best_val_accuracy</td><td>▁█▆</td></tr><tr><td>model_training/best_val_crossentropy</td><td>█▁▂</td></tr></table><br/></div><div class=\"wandb-col\"><h3>Run summary:</h3><br/><table class=\"wandb\"><tr><td>accuracy</td><td>0.7538</td></tr><tr><td>crossentropy</td><td>0.79714</td></tr><tr><td>model_training/best_epoch</td><td>4</td></tr><tr><td>model_training/best_val_accuracy</td><td>0.73218</td></tr><tr><td>model_training/best_val_crossentropy</td><td>0.86653</td></tr></table><br/></div></div>"
      ],
      "text/plain": [
       "<IPython.core.display.HTML object>"
      ]
     },
     "metadata": {},
     "output_type": "display_data"
    },
    {
     "data": {
      "text/html": [
       "Synced <strong style=\"color:#cdcd00\">avid-totem-166</strong>: <a href=\"https://wandb.ai/oatml-andreas-kirsch/balds/runs/4lqey7y8\" target=\"_blank\">https://wandb.ai/oatml-andreas-kirsch/balds/runs/4lqey7y8</a><br/>Synced 7 W&B file(s), 5 media file(s), 25 artifact file(s) and 2 other file(s)"
      ],
      "text/plain": [
       "<IPython.core.display.HTML object>"
      ]
     },
     "metadata": {},
     "output_type": "display_data"
    },
    {
     "data": {
      "text/html": [
       "Find logs at: <code>./wandb/run-20220609_170109-4lqey7y8/logs</code>"
      ],
      "text/plain": [
       "<IPython.core.display.HTML object>"
      ]
     },
     "metadata": {},
     "output_type": "display_data"
    },
    {
     "data": {
      "text/plain": [
       "{'dataset_info': {'training': \"'MNIST (Train, seed=0, 55904 samples)'\",\n",
       "  'test': \"'MNIST (Test)'\"},\n",
       " 'initial_training_set_indices': [47227,\n",
       "  11511,\n",
       "  18383,\n",
       "  41080,\n",
       "  32837,\n",
       "  24393,\n",
       "  23904,\n",
       "  11784,\n",
       "  20439,\n",
       "  35043,\n",
       "  27367,\n",
       "  30426,\n",
       "  32361,\n",
       "  26116,\n",
       "  24386,\n",
       "  4689,\n",
       "  44895,\n",
       "  24211,\n",
       "  17212,\n",
       "  3478],\n",
       " 'seed': 4749488752848790432,\n",
       " 'pool_indices': array([ 4772,  5447,  6636,  9157, 10772, 12675, 14713, 14867, 15373,\n",
       "        16197, 17476, 18874, 20397, 28686, 33931, 34214, 38349, 42257,\n",
       "        51472, 54609]),\n",
       " 'active_learning_steps': [{'training': {'epochs': [{'accuracy': 0.633544921875,\n",
       "      'crossentropy': 1.6153091192245483},\n",
       "     {'accuracy': 0.665771484375, 'crossentropy': 1.049702525138855},\n",
       "     {'accuracy': 0.6884765625, 'crossentropy': 1.0206776857376099},\n",
       "     {'accuracy': 0.715576171875, 'crossentropy': 0.9736806750297546},\n",
       "     {'accuracy': 0.689453125, 'crossentropy': 1.0641498565673828}],\n",
       "    'best_epoch': 3},\n",
       "   'evaluation_metrics': {'accuracy': 0.7305,\n",
       "    'crossentropy': tensor(0.9253),\n",
       "    '_timestamp': 1654790487,\n",
       "    '_runtime': 17},\n",
       "   'lml_estimate': LmlEstimates(marginal_log_predictive=tensor(-21.6863), joint_log_predictive=tensor(-29.3856)),\n",
       "   'acquisition': {'indices': [('id', 42257),\n",
       "     ('id', 10772),\n",
       "     ('id', 12675),\n",
       "     ('id', 33931),\n",
       "     ('id', 4772),\n",
       "     ('id', 18874),\n",
       "     ('id', 20397),\n",
       "     ('id', 14713),\n",
       "     ('id', 51472),\n",
       "     ('id', 34214)],\n",
       "    'labels': [7, 0, 9, 3, 8, 5, 6, 4, 9, 4],\n",
       "    'scores': [0.6384381754120134,\n",
       "     0.5322415286180691,\n",
       "     0.5260113756832867,\n",
       "     0.5171422857261013,\n",
       "     0.43788164175231065,\n",
       "     0.41219195967240185,\n",
       "     0.35280675544516427,\n",
       "     0.2784379799719978,\n",
       "     0.23271255500333565,\n",
       "     0.21250867786466032]}},\n",
       "  {'training': {'epochs': [{'accuracy': 0.3115234375,\n",
       "      'crossentropy': 1.981034755706787},\n",
       "     {'accuracy': 0.688232421875, 'crossentropy': 1.1834875345230103},\n",
       "     {'accuracy': 0.724609375, 'crossentropy': 0.9258241057395935},\n",
       "     {'accuracy': 0.72119140625, 'crossentropy': 0.8667286038398743},\n",
       "     {'accuracy': 0.7412109375, 'crossentropy': 0.8418170213699341}],\n",
       "    'best_epoch': 4},\n",
       "   'evaluation_metrics': {'accuracy': 0.7385,\n",
       "    'crossentropy': tensor(0.8186),\n",
       "    '_timestamp': 1654790494,\n",
       "    '_runtime': 24},\n",
       "   'lml_estimate': LmlEstimates(marginal_log_predictive=tensor(3.9382), joint_log_predictive=tensor(-1.6428)),\n",
       "   'acquisition': {'indices': [('id', 54609),\n",
       "     ('id', 5447),\n",
       "     ('id', 38349),\n",
       "     ('id', 17476),\n",
       "     ('id', 28686),\n",
       "     ('id', 16197),\n",
       "     ('id', 9157),\n",
       "     ('id', 15373),\n",
       "     ('id', 6636),\n",
       "     ('id', 14867)],\n",
       "    'labels': [6, 5, 4, 6, 1, 6, 9, 6, 1, 0],\n",
       "    'scores': [0.5039396624648,\n",
       "     0.11559749183180545,\n",
       "     0.022129452678531503,\n",
       "     0.010923715540287343,\n",
       "     0.0044587734035281545,\n",
       "     0.0013395915672130727,\n",
       "     0.0010455881146414457,\n",
       "     0.0003782144064454155,\n",
       "     0.0001937470539422276,\n",
       "     7.375469733071432e-05]}},\n",
       "  {'training': {'epochs': [{'accuracy': 0.3603515625,\n",
       "      'crossentropy': 1.8856765031814575},\n",
       "     {'accuracy': 0.647216796875, 'crossentropy': 1.1425728797912598},\n",
       "     {'accuracy': 0.7236328125, 'crossentropy': 0.8968830704689026},\n",
       "     {'accuracy': 0.7109375, 'crossentropy': 0.9118012189865112},\n",
       "     {'accuracy': 0.732177734375, 'crossentropy': 0.8665317296981812}],\n",
       "    'best_epoch': 4},\n",
       "   'evaluation_metrics': {'accuracy': 0.7538,\n",
       "    'crossentropy': tensor(0.7971),\n",
       "    '_timestamp': 1654790502,\n",
       "    '_runtime': 32}}]}"
      ]
     },
     "execution_count": null,
     "metadata": {},
     "output_type": "execute_result"
    }
   ],
   "source": [
    "# experiment\n",
    "# MNIST experiment (ood_exposure=False)\n",
    "\n",
    "experiment = LmlUnifiedExperiment(\n",
    "    experiment_data_config=LmlExperimentDataConfig(\n",
    "        id_dataset_name=\"MNIST\",\n",
    "        initial_training_set_size=20,\n",
    "        validation_set_size=4096,\n",
    "        validation_split_random_state=0,\n",
    "    ),\n",
    "    seed=1,\n",
    "    max_training_epochs=5,\n",
    "    max_training_set=20 + 20,\n",
    "    acquisition_function=acquisition_functions.BALD,\n",
    "    acquisition_size=10,\n",
    "    model_trainer_factory=MnistModelTrainer,\n",
    "    num_pool_samples=2,\n",
    "    device=\"cuda\",\n",
    ")\n",
    "\n",
    "results = {}\n",
    "experiment.run(results)\n",
    "results"
   ]
  },
  {
   "cell_type": "code",
   "execution_count": null,
   "metadata": {},
   "outputs": [],
   "source": []
  }
 ],
 "metadata": {
  "kernelspec": {
   "display_name": "Python [conda env:active_learning]",
   "language": "python",
   "name": "conda-env-active_learning-py"
  }
 },
 "nbformat": 4,
 "nbformat_minor": 4
}
