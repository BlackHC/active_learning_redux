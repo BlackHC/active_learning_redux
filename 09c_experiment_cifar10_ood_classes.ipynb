{
 "cells": [
  {
   "cell_type": "markdown",
   "metadata": {},
   "source": [
    "# Experiment CIFAR-10\n",
    "> Can we get better by training on our assumptions?"
   ]
  },
  {
   "cell_type": "code",
   "execution_count": null,
   "metadata": {},
   "outputs": [],
   "source": [
    "# default_exp experiment_cifar10_ood_classes"
   ]
  },
  {
   "cell_type": "code",
   "execution_count": null,
   "metadata": {},
   "outputs": [
    {
     "name": "stdout",
     "output_type": "stream",
     "text": [
      "Appended /home/blackhc/PycharmProjects/bald-ical/src to paths\n",
      "Switched to directory /home/blackhc/PycharmProjects/bald-ical\n",
      "%load_ext autoreload\n",
      "%autoreload 2\n"
     ]
    }
   ],
   "source": [
    "# hide\n",
    "import blackhc.project.script"
   ]
  },
  {
   "cell_type": "markdown",
   "metadata": {},
   "source": [
    "Import modules and functions were are going to use."
   ]
  },
  {
   "cell_type": "code",
   "execution_count": null,
   "metadata": {},
   "outputs": [],
   "source": [
    "# exports\n",
    "\n",
    "import dataclasses\n",
    "import traceback\n",
    "\n",
    "from blackhc.project import is_run_from_ipython\n",
    "from blackhc.project.experiment import embedded_experiments\n",
    "\n",
    "from batchbald_redux import acquisition_functions\n",
    "from batchbald_redux import baseline_acquisition_functions\n",
    "from batchbald_redux.experiment_data import OODClassesDistributionExperimentDataConfig\n",
    "from batchbald_redux.unified_experiment import UnifiedExperiment"
   ]
  },
  {
   "cell_type": "code",
   "execution_count": null,
   "metadata": {},
   "outputs": [],
   "source": [
    "# exports\n",
    "\n",
    "# (ID: air, automobile, ship and truck, OOD: bird, cat, deer, dog, frog and horse)\n",
    "# ood_classes={2, 3, 4, 5, 6, 7}\n",
    "\n",
    "configs = [\n",
    "    UnifiedExperiment(\n",
    "        experiment_data_config=OODClassesDistributionExperimentDataConfig(dataset_name=\"CIFAR-10\", repetitions=1,\n",
    "                                                                          initial_training_set_size=40,\n",
    "                                                                          validation_set_size=4000,\n",
    "                                                                          validation_split_random_state=0,\n",
    "                                                                          evaluation_set_size=4000,\n",
    "                                                                          add_dataset_noise=False,\n",
    "                                                                          ood_exposure=ood_exposure, ood_repetitions=1,\n",
    "                                                                          ood_classes={2, 3, 4, 5, 6, 7}),\n",
    "        seed=seed + 4658,\n",
    "        acquisition_function=acquisition_function,\n",
    "        acquisition_size=acquisition_size,\n",
    "        num_pool_samples=num_pool_samples,\n",
    "        max_training_set=15000,\n",
    "    )\n",
    "    for seed in range(5)\n",
    "    for acquisition_function in [\n",
    "        acquisition_functions.BALD,\n",
    "        acquisition_functions.EPIG,\n",
    "        acquisition_functions.EvalBALD,\n",
    "        baseline_acquisition_functions.BADGE,\n",
    "        acquisition_functions.Random\n",
    "    ]\n",
    "    for acquisition_size in [800]\n",
    "    for num_pool_samples in [50]\n",
    "    for ood_exposure in [False, True]\n",
    "]\n",
    "\n",
    "if not is_run_from_ipython() and __name__ == \"__main__\":\n",
    "    for job_id, store in embedded_experiments(__file__, len(configs)):\n",
    "        config = configs[job_id]\n",
    "        config.seed += job_id\n",
    "        print(config)\n",
    "        store[\"config\"] = dataclasses.asdict(config)\n",
    "        store[\"log\"] = {}\n",
    "\n",
    "        try:\n",
    "            config.run(store=store)\n",
    "        except Exception:\n",
    "            store[\"exception\"] = traceback.format_exc()\n",
    "            raise"
   ]
  },
  {
   "cell_type": "code",
   "execution_count": null,
   "metadata": {},
   "outputs": [
    {
     "data": {
      "text/plain": [
       "50"
      ]
     },
     "execution_count": null,
     "metadata": {},
     "output_type": "execute_result"
    }
   ],
   "source": [
    "len(configs)"
   ]
  },
  {
   "cell_type": "code",
   "execution_count": null,
   "metadata": {},
   "outputs": [
    {
     "name": "stdout",
     "output_type": "stream",
     "text": [
      "[\n",
      "    batchbald_redux.unified_experiment.UnifiedExperiment(\n",
      "        seed=4658,\n",
      "        experiment_data_config=batchbald_redux.experiment_data.OODClassesDistributionExperimentDataConfig(\n",
      "            dataset_name='CIFAR-10',\n",
      "            repetitions=1,\n",
      "            initial_training_set_size=400,\n",
      "            validation_set_size=4096,\n",
      "            validation_split_random_state=0,\n",
      "            evaluation_set_size=0,\n",
      "            add_dataset_noise=False,\n",
      "            ood_classes={2, 3, 4, 5, 6, 7},\n",
      "            ood_repetitions=1,\n",
      "            ood_exposure=False\n",
      "        ),\n",
      "        acquisition_size=1000,\n",
      "        max_training_set=14000,\n",
      "        num_pool_samples=50\n",
      "    ),\n",
      "    batchbald_redux.unified_experiment.UnifiedExperiment(\n",
      "        seed=4658,\n",
      "        experiment_data_config=batchbald_redux.experiment_data.OODClassesDistributionExperimentDataConfig(\n",
      "            dataset_name='CIFAR-10',\n",
      "            repetitions=1,\n",
      "            initial_training_set_size=400,\n",
      "            validation_set_size=4096,\n",
      "            validation_split_random_state=0,\n",
      "            evaluation_set_size=0,\n",
      "            add_dataset_noise=False,\n",
      "            ood_classes={2, 3, 4, 5, 6, 7},\n",
      "            ood_repetitions=1,\n",
      "            ood_exposure=True\n",
      "        ),\n",
      "        acquisition_size=1000,\n",
      "        max_training_set=14000,\n",
      "        num_pool_samples=50\n",
      "    ),\n",
      "    batchbald_redux.unified_experiment.UnifiedExperiment(\n",
      "        seed=4658,\n",
      "        experiment_data_config=batchbald_redux.experiment_data.OODClassesDistributionExperimentDataConfig(\n",
      "            dataset_name='CIFAR-10',\n",
      "            repetitions=1,\n",
      "            initial_training_set_size=400,\n",
      "            validation_set_size=4096,\n",
      "            validation_split_random_state=0,\n",
      "            evaluation_set_size=0,\n",
      "            add_dataset_noise=False,\n",
      "            ood_classes={2, 3, 4, 5, 6, 7},\n",
      "            ood_repetitions=1,\n",
      "            ood_exposure=False\n",
      "        ),\n",
      "        acquisition_size=1000,\n",
      "        max_training_set=14000,\n",
      "        num_pool_samples=50,\n",
      "        # class\n",
      "        acquisition_function=batchbald_redux.acquisition_functions.EPIG\n",
      "    ),\n",
      "    batchbald_redux.unified_experiment.UnifiedExperiment(\n",
      "        seed=4658,\n",
      "        experiment_data_config=batchbald_redux.experiment_data.OODClassesDistributionExperimentDataConfig(\n",
      "            dataset_name='CIFAR-10',\n",
      "            repetitions=1,\n",
      "            initial_training_set_size=400,\n",
      "            validation_set_size=4096,\n",
      "            validation_split_random_state=0,\n",
      "            evaluation_set_size=0,\n",
      "            add_dataset_noise=False,\n",
      "            ood_classes={2, 3, 4, 5, 6, 7},\n",
      "            ood_repetitions=1,\n",
      "            ood_exposure=True\n",
      "        ),\n",
      "        acquisition_size=1000,\n",
      "        max_training_set=14000,\n",
      "        num_pool_samples=50,\n",
      "        # class\n",
      "        acquisition_function=batchbald_redux.acquisition_functions.EPIG\n",
      "    ),\n",
      "    batchbald_redux.unified_experiment.UnifiedExperiment(\n",
      "        seed=4658,\n",
      "        experiment_data_config=batchbald_redux.experiment_data.OODClassesDistributionExperimentDataConfig(\n",
      "            dataset_name='CIFAR-10',\n",
      "            repetitions=1,\n",
      "            initial_training_set_size=400,\n",
      "            validation_set_size=4096,\n",
      "            validation_split_random_state=0,\n",
      "            evaluation_set_size=0,\n",
      "            add_dataset_noise=False,\n",
      "            ood_classes={2, 3, 4, 5, 6, 7},\n",
      "            ood_repetitions=1,\n",
      "            ood_exposure=False\n",
      "        ),\n",
      "        acquisition_size=1000,\n",
      "        max_training_set=14000,\n",
      "        num_pool_samples=50,\n",
      "        # class\n",
      "        acquisition_function=batchbald_redux.acquisition_functions.EvalBALD\n",
      "    ),\n",
      "    batchbald_redux.unified_experiment.UnifiedExperiment(\n",
      "        seed=4658,\n",
      "        experiment_data_config=batchbald_redux.experiment_data.OODClassesDistributionExperimentDataConfig(\n",
      "            dataset_name='CIFAR-10',\n",
      "            repetitions=1,\n",
      "            initial_training_set_size=400,\n",
      "            validation_set_size=4096,\n",
      "            validation_split_random_state=0,\n",
      "            evaluation_set_size=0,\n",
      "            add_dataset_noise=False,\n",
      "            ood_classes={2, 3, 4, 5, 6, 7},\n",
      "            ood_repetitions=1,\n",
      "            ood_exposure=True\n",
      "        ),\n",
      "        acquisition_size=1000,\n",
      "        max_training_set=14000,\n",
      "        num_pool_samples=50,\n",
      "        # class\n",
      "        acquisition_function=batchbald_redux.acquisition_functions.EvalBALD\n",
      "    ),\n",
      "    batchbald_redux.unified_experiment.UnifiedExperiment(\n",
      "        seed=4658,\n",
      "        experiment_data_config=batchbald_redux.experiment_data.OODClassesDistributionExperimentDataConfig(\n",
      "            dataset_name='CIFAR-10',\n",
      "            repetitions=1,\n",
      "            initial_training_set_size=400,\n",
      "            validation_set_size=4096,\n",
      "            validation_split_random_state=0,\n",
      "            evaluation_set_size=0,\n",
      "            add_dataset_noise=False,\n",
      "            ood_classes={2, 3, 4, 5, 6, 7},\n",
      "            ood_repetitions=1,\n",
      "            ood_exposure=False\n",
      "        ),\n",
      "        acquisition_size=1000,\n",
      "        max_training_set=14000,\n",
      "        num_pool_samples=50,\n",
      "        # class\n",
      "        acquisition_function=batchbald_redux.baseline_acquisition_functions.BADGE\n",
      "    ),\n",
      "    batchbald_redux.unified_experiment.UnifiedExperiment(\n",
      "        seed=4658,\n",
      "        experiment_data_config=batchbald_redux.experiment_data.OODClassesDistributionExperimentDataConfig(\n",
      "            dataset_name='CIFAR-10',\n",
      "            repetitions=1,\n",
      "            initial_training_set_size=400,\n",
      "            validation_set_size=4096,\n",
      "            validation_split_random_state=0,\n",
      "            evaluation_set_size=0,\n",
      "            add_dataset_noise=False,\n",
      "            ood_classes={2, 3, 4, 5, 6, 7},\n",
      "            ood_repetitions=1,\n",
      "            ood_exposure=True\n",
      "        ),\n",
      "        acquisition_size=1000,\n",
      "        max_training_set=14000,\n",
      "        num_pool_samples=50,\n",
      "        # class\n",
      "        acquisition_function=batchbald_redux.baseline_acquisition_functions.BADGE\n",
      "    ),\n",
      "    batchbald_redux.unified_experiment.UnifiedExperiment(\n",
      "        seed=4658,\n",
      "        experiment_data_config=batchbald_redux.experiment_data.OODClassesDistributionExperimentDataConfig(\n",
      "            dataset_name='CIFAR-10',\n",
      "            repetitions=1,\n",
      "            initial_training_set_size=400,\n",
      "            validation_set_size=4096,\n",
      "            validation_split_random_state=0,\n",
      "            evaluation_set_size=0,\n",
      "            add_dataset_noise=False,\n",
      "            ood_classes={2, 3, 4, 5, 6, 7},\n",
      "            ood_repetitions=1,\n",
      "            ood_exposure=False\n",
      "        ),\n",
      "        acquisition_size=1000,\n",
      "        max_training_set=14000,\n",
      "        num_pool_samples=50,\n",
      "        # class\n",
      "        acquisition_function=batchbald_redux.acquisition_functions.Random\n",
      "    ),\n",
      "    batchbald_redux.unified_experiment.UnifiedExperiment(\n",
      "        seed=4658,\n",
      "        experiment_data_config=batchbald_redux.experiment_data.OODClassesDistributionExperimentDataConfig(\n",
      "            dataset_name='CIFAR-10',\n",
      "            repetitions=1,\n",
      "            initial_training_set_size=400,\n",
      "            validation_set_size=4096,\n",
      "            validation_split_random_state=0,\n",
      "            evaluation_set_size=0,\n",
      "            add_dataset_noise=False,\n",
      "            ood_classes={2, 3, 4, 5, 6, 7},\n",
      "            ood_repetitions=1,\n",
      "            ood_exposure=True\n",
      "        ),\n",
      "        acquisition_size=1000,\n",
      "        max_training_set=14000,\n",
      "        num_pool_samples=50,\n",
      "        # class\n",
      "        acquisition_function=batchbald_redux.acquisition_functions.Random\n",
      "    ),\n",
      "    batchbald_redux.unified_experiment.UnifiedExperiment(\n",
      "        seed=4659,\n",
      "        experiment_data_config=batchbald_redux.experiment_data.OODClassesDistributionExperimentDataConfig(\n",
      "            dataset_name='CIFAR-10',\n",
      "            repetitions=1,\n",
      "            initial_training_set_size=400,\n",
      "            validation_set_size=4096,\n",
      "            validation_split_random_state=0,\n",
      "            evaluation_set_size=0,\n",
      "            add_dataset_noise=False,\n",
      "            ood_classes={2, 3, 4, 5, 6, 7},\n",
      "            ood_repetitions=1,\n",
      "            ood_exposure=False\n",
      "        ),\n",
      "        acquisition_size=1000,\n",
      "        max_training_set=14000,\n",
      "        num_pool_samples=50\n",
      "    ),\n",
      "    batchbald_redux.unified_experiment.UnifiedExperiment(\n",
      "        seed=4659,\n",
      "        experiment_data_config=batchbald_redux.experiment_data.OODClassesDistributionExperimentDataConfig(\n",
      "            dataset_name='CIFAR-10',\n",
      "            repetitions=1,\n",
      "            initial_training_set_size=400,\n",
      "            validation_set_size=4096,\n",
      "            validation_split_random_state=0,\n",
      "            evaluation_set_size=0,\n",
      "            add_dataset_noise=False,\n",
      "            ood_classes={2, 3, 4, 5, 6, 7},\n",
      "            ood_repetitions=1,\n",
      "            ood_exposure=True\n",
      "        ),\n",
      "        acquisition_size=1000,\n",
      "        max_training_set=14000,\n",
      "        num_pool_samples=50\n",
      "    ),\n",
      "    batchbald_redux.unified_experiment.UnifiedExperiment(\n",
      "        seed=4659,\n",
      "        experiment_data_config=batchbald_redux.experiment_data.OODClassesDistributionExperimentDataConfig(\n",
      "            dataset_name='CIFAR-10',\n",
      "            repetitions=1,\n",
      "            initial_training_set_size=400,\n",
      "            validation_set_size=4096,\n",
      "            validation_split_random_state=0,\n",
      "            evaluation_set_size=0,\n",
      "            add_dataset_noise=False,\n",
      "            ood_classes={2, 3, 4, 5, 6, 7},\n",
      "            ood_repetitions=1,\n",
      "            ood_exposure=False\n",
      "        ),\n",
      "        acquisition_size=1000,\n",
      "        max_training_set=14000,\n",
      "        num_pool_samples=50,\n",
      "        # class\n",
      "        acquisition_function=batchbald_redux.acquisition_functions.EPIG\n",
      "    ),\n",
      "    batchbald_redux.unified_experiment.UnifiedExperiment(\n",
      "        seed=4659,\n",
      "        experiment_data_config=batchbald_redux.experiment_data.OODClassesDistributionExperimentDataConfig(\n",
      "            dataset_name='CIFAR-10',\n",
      "            repetitions=1,\n",
      "            initial_training_set_size=400,\n",
      "            validation_set_size=4096,\n",
      "            validation_split_random_state=0,\n",
      "            evaluation_set_size=0,\n",
      "            add_dataset_noise=False,\n",
      "            ood_classes={2, 3, 4, 5, 6, 7},\n",
      "            ood_repetitions=1,\n",
      "            ood_exposure=True\n",
      "        ),\n",
      "        acquisition_size=1000,\n",
      "        max_training_set=14000,\n",
      "        num_pool_samples=50,\n",
      "        # class\n",
      "        acquisition_function=batchbald_redux.acquisition_functions.EPIG\n",
      "    ),\n",
      "    batchbald_redux.unified_experiment.UnifiedExperiment(\n",
      "        seed=4659,\n",
      "        experiment_data_config=batchbald_redux.experiment_data.OODClassesDistributionExperimentDataConfig(\n",
      "            dataset_name='CIFAR-10',\n",
      "            repetitions=1,\n",
      "            initial_training_set_size=400,\n",
      "            validation_set_size=4096,\n",
      "            validation_split_random_state=0,\n",
      "            evaluation_set_size=0,\n",
      "            add_dataset_noise=False,\n",
      "            ood_classes={2, 3, 4, 5, 6, 7},\n",
      "            ood_repetitions=1,\n",
      "            ood_exposure=False\n",
      "        ),\n",
      "        acquisition_size=1000,\n",
      "        max_training_set=14000,\n",
      "        num_pool_samples=50,\n",
      "        # class\n",
      "        acquisition_function=batchbald_redux.acquisition_functions.EvalBALD\n",
      "    ),\n",
      "    batchbald_redux.unified_experiment.UnifiedExperiment(\n",
      "        seed=4659,\n",
      "        experiment_data_config=batchbald_redux.experiment_data.OODClassesDistributionExperimentDataConfig(\n",
      "            dataset_name='CIFAR-10',\n",
      "            repetitions=1,\n",
      "            initial_training_set_size=400,\n",
      "            validation_set_size=4096,\n",
      "            validation_split_random_state=0,\n",
      "            evaluation_set_size=0,\n",
      "            add_dataset_noise=False,\n",
      "            ood_classes={2, 3, 4, 5, 6, 7},\n",
      "            ood_repetitions=1,\n",
      "            ood_exposure=True\n",
      "        ),\n",
      "        acquisition_size=1000,\n",
      "        max_training_set=14000,\n",
      "        num_pool_samples=50,\n",
      "        # class\n",
      "        acquisition_function=batchbald_redux.acquisition_functions.EvalBALD\n",
      "    ),\n",
      "    batchbald_redux.unified_experiment.UnifiedExperiment(\n",
      "        seed=4659,\n",
      "        experiment_data_config=batchbald_redux.experiment_data.OODClassesDistributionExperimentDataConfig(\n",
      "            dataset_name='CIFAR-10',\n",
      "            repetitions=1,\n",
      "            initial_training_set_size=400,\n",
      "            validation_set_size=4096,\n",
      "            validation_split_random_state=0,\n",
      "            evaluation_set_size=0,\n",
      "            add_dataset_noise=False,\n",
      "            ood_classes={2, 3, 4, 5, 6, 7},\n",
      "            ood_repetitions=1,\n",
      "            ood_exposure=False\n",
      "        ),\n",
      "        acquisition_size=1000,\n",
      "        max_training_set=14000,\n",
      "        num_pool_samples=50,\n",
      "        # class\n",
      "        acquisition_function=batchbald_redux.baseline_acquisition_functions.BADGE\n",
      "    ),\n",
      "    batchbald_redux.unified_experiment.UnifiedExperiment(\n",
      "        seed=4659,\n",
      "        experiment_data_config=batchbald_redux.experiment_data.OODClassesDistributionExperimentDataConfig(\n",
      "            dataset_name='CIFAR-10',\n",
      "            repetitions=1,\n",
      "            initial_training_set_size=400,\n",
      "            validation_set_size=4096,\n",
      "            validation_split_random_state=0,\n",
      "            evaluation_set_size=0,\n",
      "            add_dataset_noise=False,\n",
      "            ood_classes={2, 3, 4, 5, 6, 7},\n",
      "            ood_repetitions=1,\n",
      "            ood_exposure=True\n",
      "        ),\n",
      "        acquisition_size=1000,\n",
      "        max_training_set=14000,\n",
      "        num_pool_samples=50,\n",
      "        # class\n",
      "        acquisition_function=batchbald_redux.baseline_acquisition_functions.BADGE\n",
      "    ),\n",
      "    batchbald_redux.unified_experiment.UnifiedExperiment(\n",
      "        seed=4659,\n",
      "        experiment_data_config=batchbald_redux.experiment_data.OODClassesDistributionExperimentDataConfig(\n",
      "            dataset_name='CIFAR-10',\n",
      "            repetitions=1,\n",
      "            initial_training_set_size=400,\n",
      "            validation_set_size=4096,\n",
      "            validation_split_random_state=0,\n",
      "            evaluation_set_size=0,\n",
      "            add_dataset_noise=False,\n",
      "            ood_classes={2, 3, 4, 5, 6, 7},\n",
      "            ood_repetitions=1,\n",
      "            ood_exposure=False\n",
      "        ),\n",
      "        acquisition_size=1000,\n",
      "        max_training_set=14000,\n",
      "        num_pool_samples=50,\n",
      "        # class\n",
      "        acquisition_function=batchbald_redux.acquisition_functions.Random\n",
      "    ),\n",
      "    batchbald_redux.unified_experiment.UnifiedExperiment(\n",
      "        seed=4659,\n",
      "        experiment_data_config=batchbald_redux.experiment_data.OODClassesDistributionExperimentDataConfig(\n",
      "            dataset_name='CIFAR-10',\n",
      "            repetitions=1,\n",
      "            initial_training_set_size=400,\n",
      "            validation_set_size=4096,\n",
      "            validation_split_random_state=0,\n",
      "            evaluation_set_size=0,\n",
      "            add_dataset_noise=False,\n",
      "            ood_classes={2, 3, 4, 5, 6, 7},\n",
      "            ood_repetitions=1,\n",
      "            ood_exposure=True\n",
      "        ),\n",
      "        acquisition_size=1000,\n",
      "        max_training_set=14000,\n",
      "        num_pool_samples=50,\n",
      "        # class\n",
      "        acquisition_function=batchbald_redux.acquisition_functions.Random\n",
      "    ),\n",
      "    batchbald_redux.unified_experiment.UnifiedExperiment(\n",
      "        seed=4660,\n",
      "        experiment_data_config=batchbald_redux.experiment_data.OODClassesDistributionExperimentDataConfig(\n",
      "            dataset_name='CIFAR-10',\n",
      "            repetitions=1,\n",
      "            initial_training_set_size=400,\n",
      "            validation_set_size=4096,\n",
      "            validation_split_random_state=0,\n",
      "            evaluation_set_size=0,\n",
      "            add_dataset_noise=False,\n",
      "            ood_classes={2, 3, 4, 5, 6, 7},\n",
      "            ood_repetitions=1,\n",
      "            ood_exposure=False\n",
      "        ),\n",
      "        acquisition_size=1000,\n",
      "        max_training_set=14000,\n",
      "        num_pool_samples=50\n",
      "    ),\n",
      "    batchbald_redux.unified_experiment.UnifiedExperiment(\n",
      "        seed=4660,\n",
      "        experiment_data_config=batchbald_redux.experiment_data.OODClassesDistributionExperimentDataConfig(\n",
      "            dataset_name='CIFAR-10',\n",
      "            repetitions=1,\n",
      "            initial_training_set_size=400,\n",
      "            validation_set_size=4096,\n",
      "            validation_split_random_state=0,\n",
      "            evaluation_set_size=0,\n",
      "            add_dataset_noise=False,\n",
      "            ood_classes={2, 3, 4, 5, 6, 7},\n",
      "            ood_repetitions=1,\n",
      "            ood_exposure=True\n",
      "        ),\n",
      "        acquisition_size=1000,\n",
      "        max_training_set=14000,\n",
      "        num_pool_samples=50\n",
      "    ),\n",
      "    batchbald_redux.unified_experiment.UnifiedExperiment(\n",
      "        seed=4660,\n",
      "        experiment_data_config=batchbald_redux.experiment_data.OODClassesDistributionExperimentDataConfig(\n",
      "            dataset_name='CIFAR-10',\n",
      "            repetitions=1,\n",
      "            initial_training_set_size=400,\n",
      "            validation_set_size=4096,\n",
      "            validation_split_random_state=0,\n",
      "            evaluation_set_size=0,\n",
      "            add_dataset_noise=False,\n",
      "            ood_classes={2, 3, 4, 5, 6, 7},\n",
      "            ood_repetitions=1,\n",
      "            ood_exposure=False\n",
      "        ),\n",
      "        acquisition_size=1000,\n",
      "        max_training_set=14000,\n",
      "        num_pool_samples=50,\n",
      "        # class\n",
      "        acquisition_function=batchbald_redux.acquisition_functions.EPIG\n",
      "    ),\n",
      "    batchbald_redux.unified_experiment.UnifiedExperiment(\n",
      "        seed=4660,\n",
      "        experiment_data_config=batchbald_redux.experiment_data.OODClassesDistributionExperimentDataConfig(\n",
      "            dataset_name='CIFAR-10',\n",
      "            repetitions=1,\n",
      "            initial_training_set_size=400,\n",
      "            validation_set_size=4096,\n",
      "            validation_split_random_state=0,\n",
      "            evaluation_set_size=0,\n",
      "            add_dataset_noise=False,\n",
      "            ood_classes={2, 3, 4, 5, 6, 7},\n",
      "            ood_repetitions=1,\n",
      "            ood_exposure=True\n",
      "        ),\n",
      "        acquisition_size=1000,\n",
      "        max_training_set=14000,\n",
      "        num_pool_samples=50,\n",
      "        # class\n",
      "        acquisition_function=batchbald_redux.acquisition_functions.EPIG\n",
      "    ),\n",
      "    batchbald_redux.unified_experiment.UnifiedExperiment(\n",
      "        seed=4660,\n",
      "        experiment_data_config=batchbald_redux.experiment_data.OODClassesDistributionExperimentDataConfig(\n",
      "            dataset_name='CIFAR-10',\n",
      "            repetitions=1,\n",
      "            initial_training_set_size=400,\n",
      "            validation_set_size=4096,\n",
      "            validation_split_random_state=0,\n",
      "            evaluation_set_size=0,\n",
      "            add_dataset_noise=False,\n",
      "            ood_classes={2, 3, 4, 5, 6, 7},\n",
      "            ood_repetitions=1,\n",
      "            ood_exposure=False\n",
      "        ),\n",
      "        acquisition_size=1000,\n",
      "        max_training_set=14000,\n",
      "        num_pool_samples=50,\n",
      "        # class\n",
      "        acquisition_function=batchbald_redux.acquisition_functions.EvalBALD\n",
      "    ),\n",
      "    batchbald_redux.unified_experiment.UnifiedExperiment(\n",
      "        seed=4660,\n",
      "        experiment_data_config=batchbald_redux.experiment_data.OODClassesDistributionExperimentDataConfig(\n",
      "            dataset_name='CIFAR-10',\n",
      "            repetitions=1,\n",
      "            initial_training_set_size=400,\n",
      "            validation_set_size=4096,\n",
      "            validation_split_random_state=0,\n",
      "            evaluation_set_size=0,\n",
      "            add_dataset_noise=False,\n",
      "            ood_classes={2, 3, 4, 5, 6, 7},\n",
      "            ood_repetitions=1,\n",
      "            ood_exposure=True\n",
      "        ),\n",
      "        acquisition_size=1000,\n",
      "        max_training_set=14000,\n",
      "        num_pool_samples=50,\n",
      "        # class\n",
      "        acquisition_function=batchbald_redux.acquisition_functions.EvalBALD\n",
      "    ),\n",
      "    batchbald_redux.unified_experiment.UnifiedExperiment(\n",
      "        seed=4660,\n",
      "        experiment_data_config=batchbald_redux.experiment_data.OODClassesDistributionExperimentDataConfig(\n",
      "            dataset_name='CIFAR-10',\n",
      "            repetitions=1,\n",
      "            initial_training_set_size=400,\n",
      "            validation_set_size=4096,\n",
      "            validation_split_random_state=0,\n",
      "            evaluation_set_size=0,\n",
      "            add_dataset_noise=False,\n",
      "            ood_classes={2, 3, 4, 5, 6, 7},\n",
      "            ood_repetitions=1,\n",
      "            ood_exposure=False\n",
      "        ),\n",
      "        acquisition_size=1000,\n",
      "        max_training_set=14000,\n",
      "        num_pool_samples=50,\n",
      "        # class\n",
      "        acquisition_function=batchbald_redux.baseline_acquisition_functions.BADGE\n",
      "    ),\n",
      "    batchbald_redux.unified_experiment.UnifiedExperiment(\n",
      "        seed=4660,\n",
      "        experiment_data_config=batchbald_redux.experiment_data.OODClassesDistributionExperimentDataConfig(\n",
      "            dataset_name='CIFAR-10',\n",
      "            repetitions=1,\n",
      "            initial_training_set_size=400,\n",
      "            validation_set_size=4096,\n",
      "            validation_split_random_state=0,\n",
      "            evaluation_set_size=0,\n",
      "            add_dataset_noise=False,\n",
      "            ood_classes={2, 3, 4, 5, 6, 7},\n",
      "            ood_repetitions=1,\n",
      "            ood_exposure=True\n",
      "        ),\n",
      "        acquisition_size=1000,\n",
      "        max_training_set=14000,\n",
      "        num_pool_samples=50,\n",
      "        # class\n",
      "        acquisition_function=batchbald_redux.baseline_acquisition_functions.BADGE\n",
      "    ),\n",
      "    batchbald_redux.unified_experiment.UnifiedExperiment(\n",
      "        seed=4660,\n",
      "        experiment_data_config=batchbald_redux.experiment_data.OODClassesDistributionExperimentDataConfig(\n",
      "            dataset_name='CIFAR-10',\n",
      "            repetitions=1,\n",
      "            initial_training_set_size=400,\n",
      "            validation_set_size=4096,\n",
      "            validation_split_random_state=0,\n",
      "            evaluation_set_size=0,\n",
      "            add_dataset_noise=False,\n",
      "            ood_classes={2, 3, 4, 5, 6, 7},\n",
      "            ood_repetitions=1,\n",
      "            ood_exposure=False\n",
      "        ),\n",
      "        acquisition_size=1000,\n",
      "        max_training_set=14000,\n",
      "        num_pool_samples=50,\n",
      "        # class\n",
      "        acquisition_function=batchbald_redux.acquisition_functions.Random\n",
      "    ),\n",
      "    batchbald_redux.unified_experiment.UnifiedExperiment(\n",
      "        seed=4660,\n",
      "        experiment_data_config=batchbald_redux.experiment_data.OODClassesDistributionExperimentDataConfig(\n",
      "            dataset_name='CIFAR-10',\n",
      "            repetitions=1,\n",
      "            initial_training_set_size=400,\n",
      "            validation_set_size=4096,\n",
      "            validation_split_random_state=0,\n",
      "            evaluation_set_size=0,\n",
      "            add_dataset_noise=False,\n",
      "            ood_classes={2, 3, 4, 5, 6, 7},\n",
      "            ood_repetitions=1,\n",
      "            ood_exposure=True\n",
      "        ),\n",
      "        acquisition_size=1000,\n",
      "        max_training_set=14000,\n",
      "        num_pool_samples=50,\n",
      "        # class\n",
      "        acquisition_function=batchbald_redux.acquisition_functions.Random\n",
      "    ),\n",
      "    batchbald_redux.unified_experiment.UnifiedExperiment(\n",
      "        seed=4661,\n",
      "        experiment_data_config=batchbald_redux.experiment_data.OODClassesDistributionExperimentDataConfig(\n",
      "            dataset_name='CIFAR-10',\n",
      "            repetitions=1,\n",
      "            initial_training_set_size=400,\n",
      "            validation_set_size=4096,\n",
      "            validation_split_random_state=0,\n",
      "            evaluation_set_size=0,\n",
      "            add_dataset_noise=False,\n",
      "            ood_classes={2, 3, 4, 5, 6, 7},\n",
      "            ood_repetitions=1,\n",
      "            ood_exposure=False\n",
      "        ),\n",
      "        acquisition_size=1000,\n",
      "        max_training_set=14000,\n",
      "        num_pool_samples=50\n",
      "    ),\n",
      "    batchbald_redux.unified_experiment.UnifiedExperiment(\n",
      "        seed=4661,\n",
      "        experiment_data_config=batchbald_redux.experiment_data.OODClassesDistributionExperimentDataConfig(\n",
      "            dataset_name='CIFAR-10',\n",
      "            repetitions=1,\n",
      "            initial_training_set_size=400,\n",
      "            validation_set_size=4096,\n",
      "            validation_split_random_state=0,\n",
      "            evaluation_set_size=0,\n",
      "            add_dataset_noise=False,\n",
      "            ood_classes={2, 3, 4, 5, 6, 7},\n",
      "            ood_repetitions=1,\n",
      "            ood_exposure=True\n",
      "        ),\n",
      "        acquisition_size=1000,\n",
      "        max_training_set=14000,\n",
      "        num_pool_samples=50\n",
      "    ),\n",
      "    batchbald_redux.unified_experiment.UnifiedExperiment(\n",
      "        seed=4661,\n",
      "        experiment_data_config=batchbald_redux.experiment_data.OODClassesDistributionExperimentDataConfig(\n",
      "            dataset_name='CIFAR-10',\n",
      "            repetitions=1,\n",
      "            initial_training_set_size=400,\n",
      "            validation_set_size=4096,\n",
      "            validation_split_random_state=0,\n",
      "            evaluation_set_size=0,\n",
      "            add_dataset_noise=False,\n",
      "            ood_classes={2, 3, 4, 5, 6, 7},\n",
      "            ood_repetitions=1,\n",
      "            ood_exposure=False\n",
      "        ),\n",
      "        acquisition_size=1000,\n",
      "        max_training_set=14000,\n",
      "        num_pool_samples=50,\n",
      "        # class\n",
      "        acquisition_function=batchbald_redux.acquisition_functions.EPIG\n",
      "    ),\n",
      "    batchbald_redux.unified_experiment.UnifiedExperiment(\n",
      "        seed=4661,\n",
      "        experiment_data_config=batchbald_redux.experiment_data.OODClassesDistributionExperimentDataConfig(\n",
      "            dataset_name='CIFAR-10',\n",
      "            repetitions=1,\n",
      "            initial_training_set_size=400,\n",
      "            validation_set_size=4096,\n",
      "            validation_split_random_state=0,\n",
      "            evaluation_set_size=0,\n",
      "            add_dataset_noise=False,\n",
      "            ood_classes={2, 3, 4, 5, 6, 7},\n",
      "            ood_repetitions=1,\n",
      "            ood_exposure=True\n",
      "        ),\n",
      "        acquisition_size=1000,\n",
      "        max_training_set=14000,\n",
      "        num_pool_samples=50,\n",
      "        # class\n",
      "        acquisition_function=batchbald_redux.acquisition_functions.EPIG\n",
      "    ),\n",
      "    batchbald_redux.unified_experiment.UnifiedExperiment(\n",
      "        seed=4661,\n",
      "        experiment_data_config=batchbald_redux.experiment_data.OODClassesDistributionExperimentDataConfig(\n",
      "            dataset_name='CIFAR-10',\n",
      "            repetitions=1,\n",
      "            initial_training_set_size=400,\n",
      "            validation_set_size=4096,\n",
      "            validation_split_random_state=0,\n",
      "            evaluation_set_size=0,\n",
      "            add_dataset_noise=False,\n",
      "            ood_classes={2, 3, 4, 5, 6, 7},\n",
      "            ood_repetitions=1,\n",
      "            ood_exposure=False\n",
      "        ),\n",
      "        acquisition_size=1000,\n",
      "        max_training_set=14000,\n",
      "        num_pool_samples=50,\n",
      "        # class\n",
      "        acquisition_function=batchbald_redux.acquisition_functions.EvalBALD\n",
      "    ),\n",
      "    batchbald_redux.unified_experiment.UnifiedExperiment(\n",
      "        seed=4661,\n",
      "        experiment_data_config=batchbald_redux.experiment_data.OODClassesDistributionExperimentDataConfig(\n",
      "            dataset_name='CIFAR-10',\n",
      "            repetitions=1,\n",
      "            initial_training_set_size=400,\n",
      "            validation_set_size=4096,\n",
      "            validation_split_random_state=0,\n",
      "            evaluation_set_size=0,\n",
      "            add_dataset_noise=False,\n",
      "            ood_classes={2, 3, 4, 5, 6, 7},\n",
      "            ood_repetitions=1,\n",
      "            ood_exposure=True\n",
      "        ),\n",
      "        acquisition_size=1000,\n",
      "        max_training_set=14000,\n",
      "        num_pool_samples=50,\n",
      "        # class\n",
      "        acquisition_function=batchbald_redux.acquisition_functions.EvalBALD\n",
      "    ),\n",
      "    batchbald_redux.unified_experiment.UnifiedExperiment(\n",
      "        seed=4661,\n",
      "        experiment_data_config=batchbald_redux.experiment_data.OODClassesDistributionExperimentDataConfig(\n",
      "            dataset_name='CIFAR-10',\n",
      "            repetitions=1,\n",
      "            initial_training_set_size=400,\n",
      "            validation_set_size=4096,\n",
      "            validation_split_random_state=0,\n",
      "            evaluation_set_size=0,\n",
      "            add_dataset_noise=False,\n",
      "            ood_classes={2, 3, 4, 5, 6, 7},\n",
      "            ood_repetitions=1,\n",
      "            ood_exposure=False\n",
      "        ),\n",
      "        acquisition_size=1000,\n",
      "        max_training_set=14000,\n",
      "        num_pool_samples=50,\n",
      "        # class\n",
      "        acquisition_function=batchbald_redux.baseline_acquisition_functions.BADGE\n",
      "    ),\n",
      "    batchbald_redux.unified_experiment.UnifiedExperiment(\n",
      "        seed=4661,\n",
      "        experiment_data_config=batchbald_redux.experiment_data.OODClassesDistributionExperimentDataConfig(\n",
      "            dataset_name='CIFAR-10',\n",
      "            repetitions=1,\n",
      "            initial_training_set_size=400,\n",
      "            validation_set_size=4096,\n",
      "            validation_split_random_state=0,\n",
      "            evaluation_set_size=0,\n",
      "            add_dataset_noise=False,\n",
      "            ood_classes={2, 3, 4, 5, 6, 7},\n",
      "            ood_repetitions=1,\n",
      "            ood_exposure=True\n",
      "        ),\n",
      "        acquisition_size=1000,\n",
      "        max_training_set=14000,\n",
      "        num_pool_samples=50,\n",
      "        # class\n",
      "        acquisition_function=batchbald_redux.baseline_acquisition_functions.BADGE\n",
      "    ),\n",
      "    batchbald_redux.unified_experiment.UnifiedExperiment(\n",
      "        seed=4661,\n",
      "        experiment_data_config=batchbald_redux.experiment_data.OODClassesDistributionExperimentDataConfig(\n",
      "            dataset_name='CIFAR-10',\n",
      "            repetitions=1,\n",
      "            initial_training_set_size=400,\n",
      "            validation_set_size=4096,\n",
      "            validation_split_random_state=0,\n",
      "            evaluation_set_size=0,\n",
      "            add_dataset_noise=False,\n",
      "            ood_classes={2, 3, 4, 5, 6, 7},\n",
      "            ood_repetitions=1,\n",
      "            ood_exposure=False\n",
      "        ),\n",
      "        acquisition_size=1000,\n",
      "        max_training_set=14000,\n",
      "        num_pool_samples=50,\n",
      "        # class\n",
      "        acquisition_function=batchbald_redux.acquisition_functions.Random\n",
      "    ),\n",
      "    batchbald_redux.unified_experiment.UnifiedExperiment(\n",
      "        seed=4661,\n",
      "        experiment_data_config=batchbald_redux.experiment_data.OODClassesDistributionExperimentDataConfig(\n",
      "            dataset_name='CIFAR-10',\n",
      "            repetitions=1,\n",
      "            initial_training_set_size=400,\n",
      "            validation_set_size=4096,\n",
      "            validation_split_random_state=0,\n",
      "            evaluation_set_size=0,\n",
      "            add_dataset_noise=False,\n",
      "            ood_classes={2, 3, 4, 5, 6, 7},\n",
      "            ood_repetitions=1,\n",
      "            ood_exposure=True\n",
      "        ),\n",
      "        acquisition_size=1000,\n",
      "        max_training_set=14000,\n",
      "        num_pool_samples=50,\n",
      "        # class\n",
      "        acquisition_function=batchbald_redux.acquisition_functions.Random\n",
      "    ),\n",
      "    batchbald_redux.unified_experiment.UnifiedExperiment(\n",
      "        seed=4662,\n",
      "        experiment_data_config=batchbald_redux.experiment_data.OODClassesDistributionExperimentDataConfig(\n",
      "            dataset_name='CIFAR-10',\n",
      "            repetitions=1,\n",
      "            initial_training_set_size=400,\n",
      "            validation_set_size=4096,\n",
      "            validation_split_random_state=0,\n",
      "            evaluation_set_size=0,\n",
      "            add_dataset_noise=False,\n",
      "            ood_classes={2, 3, 4, 5, 6, 7},\n",
      "            ood_repetitions=1,\n",
      "            ood_exposure=False\n",
      "        ),\n",
      "        acquisition_size=1000,\n",
      "        max_training_set=14000,\n",
      "        num_pool_samples=50\n",
      "    ),\n",
      "    batchbald_redux.unified_experiment.UnifiedExperiment(\n",
      "        seed=4662,\n",
      "        experiment_data_config=batchbald_redux.experiment_data.OODClassesDistributionExperimentDataConfig(\n",
      "            dataset_name='CIFAR-10',\n",
      "            repetitions=1,\n",
      "            initial_training_set_size=400,\n",
      "            validation_set_size=4096,\n",
      "            validation_split_random_state=0,\n",
      "            evaluation_set_size=0,\n",
      "            add_dataset_noise=False,\n",
      "            ood_classes={2, 3, 4, 5, 6, 7},\n",
      "            ood_repetitions=1,\n",
      "            ood_exposure=True\n",
      "        ),\n",
      "        acquisition_size=1000,\n",
      "        max_training_set=14000,\n",
      "        num_pool_samples=50\n",
      "    ),\n",
      "    batchbald_redux.unified_experiment.UnifiedExperiment(\n",
      "        seed=4662,\n",
      "        experiment_data_config=batchbald_redux.experiment_data.OODClassesDistributionExperimentDataConfig(\n",
      "            dataset_name='CIFAR-10',\n",
      "            repetitions=1,\n",
      "            initial_training_set_size=400,\n",
      "            validation_set_size=4096,\n",
      "            validation_split_random_state=0,\n",
      "            evaluation_set_size=0,\n",
      "            add_dataset_noise=False,\n",
      "            ood_classes={2, 3, 4, 5, 6, 7},\n",
      "            ood_repetitions=1,\n",
      "            ood_exposure=False\n",
      "        ),\n",
      "        acquisition_size=1000,\n",
      "        max_training_set=14000,\n",
      "        num_pool_samples=50,\n",
      "        # class\n",
      "        acquisition_function=batchbald_redux.acquisition_functions.EPIG\n",
      "    ),\n",
      "    batchbald_redux.unified_experiment.UnifiedExperiment(\n",
      "        seed=4662,\n",
      "        experiment_data_config=batchbald_redux.experiment_data.OODClassesDistributionExperimentDataConfig(\n",
      "            dataset_name='CIFAR-10',\n",
      "            repetitions=1,\n",
      "            initial_training_set_size=400,\n",
      "            validation_set_size=4096,\n",
      "            validation_split_random_state=0,\n",
      "            evaluation_set_size=0,\n",
      "            add_dataset_noise=False,\n",
      "            ood_classes={2, 3, 4, 5, 6, 7},\n",
      "            ood_repetitions=1,\n",
      "            ood_exposure=True\n",
      "        ),\n",
      "        acquisition_size=1000,\n",
      "        max_training_set=14000,\n",
      "        num_pool_samples=50,\n",
      "        # class\n",
      "        acquisition_function=batchbald_redux.acquisition_functions.EPIG\n",
      "    ),\n",
      "    batchbald_redux.unified_experiment.UnifiedExperiment(\n",
      "        seed=4662,\n",
      "        experiment_data_config=batchbald_redux.experiment_data.OODClassesDistributionExperimentDataConfig(\n",
      "            dataset_name='CIFAR-10',\n",
      "            repetitions=1,\n",
      "            initial_training_set_size=400,\n",
      "            validation_set_size=4096,\n",
      "            validation_split_random_state=0,\n",
      "            evaluation_set_size=0,\n",
      "            add_dataset_noise=False,\n",
      "            ood_classes={2, 3, 4, 5, 6, 7},\n",
      "            ood_repetitions=1,\n",
      "            ood_exposure=False\n",
      "        ),\n",
      "        acquisition_size=1000,\n",
      "        max_training_set=14000,\n",
      "        num_pool_samples=50,\n",
      "        # class\n",
      "        acquisition_function=batchbald_redux.acquisition_functions.EvalBALD\n",
      "    ),\n",
      "    batchbald_redux.unified_experiment.UnifiedExperiment(\n",
      "        seed=4662,\n",
      "        experiment_data_config=batchbald_redux.experiment_data.OODClassesDistributionExperimentDataConfig(\n",
      "            dataset_name='CIFAR-10',\n",
      "            repetitions=1,\n",
      "            initial_training_set_size=400,\n",
      "            validation_set_size=4096,\n",
      "            validation_split_random_state=0,\n",
      "            evaluation_set_size=0,\n",
      "            add_dataset_noise=False,\n",
      "            ood_classes={2, 3, 4, 5, 6, 7},\n",
      "            ood_repetitions=1,\n",
      "            ood_exposure=True\n",
      "        ),\n",
      "        acquisition_size=1000,\n",
      "        max_training_set=14000,\n",
      "        num_pool_samples=50,\n",
      "        # class\n",
      "        acquisition_function=batchbald_redux.acquisition_functions.EvalBALD\n",
      "    ),\n",
      "    batchbald_redux.unified_experiment.UnifiedExperiment(\n",
      "        seed=4662,\n",
      "        experiment_data_config=batchbald_redux.experiment_data.OODClassesDistributionExperimentDataConfig(\n",
      "            dataset_name='CIFAR-10',\n",
      "            repetitions=1,\n",
      "            initial_training_set_size=400,\n",
      "            validation_set_size=4096,\n",
      "            validation_split_random_state=0,\n",
      "            evaluation_set_size=0,\n",
      "            add_dataset_noise=False,\n",
      "            ood_classes={2, 3, 4, 5, 6, 7},\n",
      "            ood_repetitions=1,\n",
      "            ood_exposure=False\n",
      "        ),\n",
      "        acquisition_size=1000,\n",
      "        max_training_set=14000,\n",
      "        num_pool_samples=50,\n",
      "        # class\n",
      "        acquisition_function=batchbald_redux.baseline_acquisition_functions.BADGE\n",
      "    ),\n",
      "    batchbald_redux.unified_experiment.UnifiedExperiment(\n",
      "        seed=4662,\n",
      "        experiment_data_config=batchbald_redux.experiment_data.OODClassesDistributionExperimentDataConfig(\n",
      "            dataset_name='CIFAR-10',\n",
      "            repetitions=1,\n",
      "            initial_training_set_size=400,\n",
      "            validation_set_size=4096,\n",
      "            validation_split_random_state=0,\n",
      "            evaluation_set_size=0,\n",
      "            add_dataset_noise=False,\n",
      "            ood_classes={2, 3, 4, 5, 6, 7},\n",
      "            ood_repetitions=1,\n",
      "            ood_exposure=True\n",
      "        ),\n",
      "        acquisition_size=1000,\n",
      "        max_training_set=14000,\n",
      "        num_pool_samples=50,\n",
      "        # class\n",
      "        acquisition_function=batchbald_redux.baseline_acquisition_functions.BADGE\n",
      "    ),\n",
      "    batchbald_redux.unified_experiment.UnifiedExperiment(\n",
      "        seed=4662,\n",
      "        experiment_data_config=batchbald_redux.experiment_data.OODClassesDistributionExperimentDataConfig(\n",
      "            dataset_name='CIFAR-10',\n",
      "            repetitions=1,\n",
      "            initial_training_set_size=400,\n",
      "            validation_set_size=4096,\n",
      "            validation_split_random_state=0,\n",
      "            evaluation_set_size=0,\n",
      "            add_dataset_noise=False,\n",
      "            ood_classes={2, 3, 4, 5, 6, 7},\n",
      "            ood_repetitions=1,\n",
      "            ood_exposure=False\n",
      "        ),\n",
      "        acquisition_size=1000,\n",
      "        max_training_set=14000,\n",
      "        num_pool_samples=50,\n",
      "        # class\n",
      "        acquisition_function=batchbald_redux.acquisition_functions.Random\n",
      "    ),\n",
      "    batchbald_redux.unified_experiment.UnifiedExperiment(\n",
      "        seed=4662,\n",
      "        experiment_data_config=batchbald_redux.experiment_data.OODClassesDistributionExperimentDataConfig(\n",
      "            dataset_name='CIFAR-10',\n",
      "            repetitions=1,\n",
      "            initial_training_set_size=400,\n",
      "            validation_set_size=4096,\n",
      "            validation_split_random_state=0,\n",
      "            evaluation_set_size=0,\n",
      "            add_dataset_noise=False,\n",
      "            ood_classes={2, 3, 4, 5, 6, 7},\n",
      "            ood_repetitions=1,\n",
      "            ood_exposure=True\n",
      "        ),\n",
      "        acquisition_size=1000,\n",
      "        max_training_set=14000,\n",
      "        num_pool_samples=50,\n",
      "        # class\n",
      "        acquisition_function=batchbald_redux.acquisition_functions.Random\n",
      "    )\n",
      "]\n"
     ]
    }
   ],
   "source": [
    "import prettyprinter\n",
    "prettyprinter.install_extras({\"dataclasses\"})\n",
    "prettyprinter.pprint(configs)"
   ]
  },
  {
   "cell_type": "code",
   "execution_count": null,
   "metadata": {},
   "outputs": [
    {
     "name": "stdout",
     "output_type": "stream",
     "text": [
      "Files already downloaded and verified\n"
     ]
    },
    {
     "name": "stderr",
     "output_type": "stream",
     "text": [
      "/home/blackhc/anaconda3/envs/active_learning/lib/python3.8/site-packages/sklearn/utils/__init__.py:1102: DeprecationWarning: `np.int` is a deprecated alias for the builtin `int`. To silence this warning, use `int` by itself. Doing this will not modify any behavior and is safe. When replacing `np.int`, you may wish to use e.g. `np.int64` or `np.int32` to specify the precision. If you wish to review your current use, check the release note link for additional information.\n",
      "Deprecated in NumPy 1.20; for more details and guidance: https://numpy.org/devdocs/release/1.20.0-notes.html#deprecations\n",
      "  return floored.astype(np.int)\n",
      "/home/blackhc/anaconda3/envs/active_learning/lib/python3.8/site-packages/sklearn/utils/__init__.py:1102: DeprecationWarning: `np.int` is a deprecated alias for the builtin `int`. To silence this warning, use `int` by itself. Doing this will not modify any behavior and is safe. When replacing `np.int`, you may wish to use e.g. `np.int64` or `np.int32` to specify the precision. If you wish to review your current use, check the release note link for additional information.\n",
      "Deprecated in NumPy 1.20; for more details and guidance: https://numpy.org/devdocs/release/1.20.0-notes.html#deprecations\n",
      "  return floored.astype(np.int)\n"
     ]
    },
    {
     "name": "stdout",
     "output_type": "stream",
     "text": [
      "Files already downloaded and verified\n",
      "Initial Samples + Evaluation Set Class Counts: [100, 100, 0, 0, 0, 0, 0, 0, 100, 100]\n",
      "Creating: BALD(\n",
      "\tacquisition_size=1000,\n",
      "\tnum_pool_samples=5\n",
      ")\n",
      "Creating: Cifar10ModelTrainer(\n",
      "\tdevice=cuda,\n",
      "\tnum_training_samples=1,\n",
      "\tnum_validation_samples=20,\n",
      "\tmax_training_epochs=100\n",
      ")\n",
      "Creating: TrainSelfDistillationEvalModel(\n",
      "\tnum_pool_samples=5\n",
      ")\n",
      "Training set size 400:\n",
      "Cosine Annealing\n"
     ]
    },
    {
     "data": {
      "application/vnd.jupyter.widget-view+json": {
       "model_id": "96c050084ccc49b18d74c286bac797b4",
       "version_major": 2,
       "version_minor": 0
      },
      "text/plain": [
       "  1%|1         | 1/100 [00:00<?, ?it/s]"
      ]
     },
     "metadata": {},
     "output_type": "display_data"
    },
    {
     "data": {
      "application/vnd.jupyter.widget-view+json": {
       "model_id": "",
       "version_major": 2,
       "version_minor": 0
      },
      "text/plain": [
       "[1/39]   3%|2          [00:00<?]"
      ]
     },
     "metadata": {},
     "output_type": "display_data"
    },
    {
     "name": "stdout",
     "output_type": "stream",
     "text": [
      "Epoch 1 metrics: {'accuracy': 0.30073349633251834, 'crossentropy': 1.3872283714616211}\n"
     ]
    },
    {
     "data": {
      "application/vnd.jupyter.widget-view+json": {
       "model_id": "",
       "version_major": 2,
       "version_minor": 0
      },
      "text/plain": [
       "[1/39]   3%|2          [00:00<?]"
      ]
     },
     "metadata": {},
     "output_type": "display_data"
    },
    {
     "name": "stdout",
     "output_type": "stream",
     "text": [
      "Epoch 2 metrics: {'accuracy': 0.3105134474327628, 'crossentropy': 1.1799926874398603}\n"
     ]
    },
    {
     "data": {
      "application/vnd.jupyter.widget-view+json": {
       "model_id": "",
       "version_major": 2,
       "version_minor": 0
      },
      "text/plain": [
       "[1/39]   3%|2          [00:00<?]"
      ]
     },
     "metadata": {},
     "output_type": "display_data"
    },
    {
     "name": "stdout",
     "output_type": "stream",
     "text": [
      "Epoch 3 metrics: {'accuracy': 0.42053789731051344, 'crossentropy': 1.6877966684933687}\n"
     ]
    },
    {
     "data": {
      "application/vnd.jupyter.widget-view+json": {
       "model_id": "",
       "version_major": 2,
       "version_minor": 0
      },
      "text/plain": [
       "[1/39]   3%|2          [00:00<?]"
      ]
     },
     "metadata": {},
     "output_type": "display_data"
    },
    {
     "name": "stdout",
     "output_type": "stream",
     "text": [
      "Epoch 4 metrics: {'accuracy': 0.41442542787286063, 'crossentropy': 1.2925261637983811}\n"
     ]
    },
    {
     "data": {
      "application/vnd.jupyter.widget-view+json": {
       "model_id": "",
       "version_major": 2,
       "version_minor": 0
      },
      "text/plain": [
       "[1/39]   3%|2          [00:00<?]"
      ]
     },
     "metadata": {},
     "output_type": "display_data"
    },
    {
     "name": "stdout",
     "output_type": "stream",
     "text": [
      "Epoch 5 metrics: {'accuracy': 0.45843520782396086, 'crossentropy': 1.4012098525147567}\n"
     ]
    },
    {
     "data": {
      "application/vnd.jupyter.widget-view+json": {
       "model_id": "",
       "version_major": 2,
       "version_minor": 0
      },
      "text/plain": [
       "[1/39]   3%|2          [00:00<?]"
      ]
     },
     "metadata": {},
     "output_type": "display_data"
    },
    {
     "name": "stdout",
     "output_type": "stream",
     "text": [
      "Epoch 6 metrics: {'accuracy': 0.5660146699266504, 'crossentropy': 1.4557614230293516}\n"
     ]
    },
    {
     "data": {
      "application/vnd.jupyter.widget-view+json": {
       "model_id": "",
       "version_major": 2,
       "version_minor": 0
      },
      "text/plain": [
       "[1/39]   3%|2          [00:00<?]"
      ]
     },
     "metadata": {},
     "output_type": "display_data"
    },
    {
     "name": "stdout",
     "output_type": "stream",
     "text": [
      "Epoch 7 metrics: {'accuracy': 0.5403422982885085, 'crossentropy': 1.8126726727613902}\n"
     ]
    },
    {
     "data": {
      "application/vnd.jupyter.widget-view+json": {
       "model_id": "",
       "version_major": 2,
       "version_minor": 0
      },
      "text/plain": [
       "[1/39]   3%|2          [00:00<?]"
      ]
     },
     "metadata": {},
     "output_type": "display_data"
    },
    {
     "name": "stdout",
     "output_type": "stream",
     "text": [
      "Epoch 8 metrics: {'accuracy': 0.4798288508557457, 'crossentropy': 4.618074649703532}\n"
     ]
    },
    {
     "data": {
      "application/vnd.jupyter.widget-view+json": {
       "model_id": "",
       "version_major": 2,
       "version_minor": 0
      },
      "text/plain": [
       "[1/39]   3%|2          [00:00<?]"
      ]
     },
     "metadata": {},
     "output_type": "display_data"
    },
    {
     "name": "stdout",
     "output_type": "stream",
     "text": [
      "Epoch 9 metrics: {'accuracy': 0.5819070904645477, 'crossentropy': 2.0352678333926026}\n"
     ]
    },
    {
     "data": {
      "application/vnd.jupyter.widget-view+json": {
       "model_id": "",
       "version_major": 2,
       "version_minor": 0
      },
      "text/plain": [
       "[1/39]   3%|2          [00:00<?]"
      ]
     },
     "metadata": {},
     "output_type": "display_data"
    },
    {
     "name": "stdout",
     "output_type": "stream",
     "text": [
      "Epoch 10 metrics: {'accuracy': 0.6124694376528117, 'crossentropy': 2.0051721608434736}\n"
     ]
    },
    {
     "data": {
      "application/vnd.jupyter.widget-view+json": {
       "model_id": "",
       "version_major": 2,
       "version_minor": 0
      },
      "text/plain": [
       "[1/39]   3%|2          [00:00<?]"
      ]
     },
     "metadata": {},
     "output_type": "display_data"
    },
    {
     "name": "stdout",
     "output_type": "stream",
     "text": [
      "Epoch 11 metrics: {'accuracy': 0.562958435207824, 'crossentropy': 2.974486264739468}\n"
     ]
    },
    {
     "data": {
      "application/vnd.jupyter.widget-view+json": {
       "model_id": "",
       "version_major": 2,
       "version_minor": 0
      },
      "text/plain": [
       "[1/39]   3%|2          [00:00<?]"
      ]
     },
     "metadata": {},
     "output_type": "display_data"
    },
    {
     "name": "stdout",
     "output_type": "stream",
     "text": [
      "Epoch 12 metrics: {'accuracy': 0.5831295843520783, 'crossentropy': 3.7229617571772455}\n"
     ]
    },
    {
     "data": {
      "application/vnd.jupyter.widget-view+json": {
       "model_id": "",
       "version_major": 2,
       "version_minor": 0
      },
      "text/plain": [
       "[1/39]   3%|2          [00:00<?]"
      ]
     },
     "metadata": {},
     "output_type": "display_data"
    },
    {
     "name": "stdout",
     "output_type": "stream",
     "text": [
      "Epoch 13 metrics: {'accuracy': 0.5519559902200489, 'crossentropy': 2.5797506352217097}\n"
     ]
    },
    {
     "data": {
      "application/vnd.jupyter.widget-view+json": {
       "model_id": "",
       "version_major": 2,
       "version_minor": 0
      },
      "text/plain": [
       "[1/39]   3%|2          [00:00<?]"
      ]
     },
     "metadata": {},
     "output_type": "display_data"
    },
    {
     "name": "stdout",
     "output_type": "stream",
     "text": [
      "Epoch 14 metrics: {'accuracy': 0.6167481662591687, 'crossentropy': 2.5558329526253027}\n"
     ]
    },
    {
     "data": {
      "application/vnd.jupyter.widget-view+json": {
       "model_id": "",
       "version_major": 2,
       "version_minor": 0
      },
      "text/plain": [
       "[1/39]   3%|2          [00:00<?]"
      ]
     },
     "metadata": {},
     "output_type": "display_data"
    },
    {
     "name": "stdout",
     "output_type": "stream",
     "text": [
      "Epoch 15 metrics: {'accuracy': 0.6246943765281173, 'crossentropy': 2.5420569519541956}\n"
     ]
    },
    {
     "data": {
      "application/vnd.jupyter.widget-view+json": {
       "model_id": "",
       "version_major": 2,
       "version_minor": 0
      },
      "text/plain": [
       "[1/39]   3%|2          [00:00<?]"
      ]
     },
     "metadata": {},
     "output_type": "display_data"
    },
    {
     "name": "stdout",
     "output_type": "stream",
     "text": [
      "Epoch 16 metrics: {'accuracy': 0.5971882640586798, 'crossentropy': 2.4278879276406213}\n"
     ]
    },
    {
     "data": {
      "application/vnd.jupyter.widget-view+json": {
       "model_id": "",
       "version_major": 2,
       "version_minor": 0
      },
      "text/plain": [
       "[1/39]   3%|2          [00:00<?]"
      ]
     },
     "metadata": {},
     "output_type": "display_data"
    },
    {
     "name": "stdout",
     "output_type": "stream",
     "text": [
      "Epoch 17 metrics: {'accuracy': 0.6344743276283619, 'crossentropy': 2.3528265154449164}\n"
     ]
    },
    {
     "data": {
      "application/vnd.jupyter.widget-view+json": {
       "model_id": "",
       "version_major": 2,
       "version_minor": 0
      },
      "text/plain": [
       "[1/39]   3%|2          [00:00<?]"
      ]
     },
     "metadata": {},
     "output_type": "display_data"
    },
    {
     "name": "stdout",
     "output_type": "stream",
     "text": [
      "Epoch 18 metrics: {'accuracy': 0.6069682151589242, 'crossentropy': 2.6095094593346557}\n"
     ]
    },
    {
     "data": {
      "application/vnd.jupyter.widget-view+json": {
       "model_id": "",
       "version_major": 2,
       "version_minor": 0
      },
      "text/plain": [
       "[1/39]   3%|2          [00:00<?]"
      ]
     },
     "metadata": {},
     "output_type": "display_data"
    },
    {
     "name": "stdout",
     "output_type": "stream",
     "text": [
      "Epoch 19 metrics: {'accuracy': 0.6424205378973105, 'crossentropy': 2.882796347141266}\n"
     ]
    },
    {
     "data": {
      "application/vnd.jupyter.widget-view+json": {
       "model_id": "",
       "version_major": 2,
       "version_minor": 0
      },
      "text/plain": [
       "[1/39]   3%|2          [00:00<?]"
      ]
     },
     "metadata": {},
     "output_type": "display_data"
    },
    {
     "name": "stdout",
     "output_type": "stream",
     "text": [
      "Epoch 20 metrics: {'accuracy': 0.6246943765281173, 'crossentropy': 2.999511447687312}\n"
     ]
    },
    {
     "data": {
      "application/vnd.jupyter.widget-view+json": {
       "model_id": "",
       "version_major": 2,
       "version_minor": 0
      },
      "text/plain": [
       "[1/39]   3%|2          [00:00<?]"
      ]
     },
     "metadata": {},
     "output_type": "display_data"
    },
    {
     "name": "stdout",
     "output_type": "stream",
     "text": [
      "Epoch 21 metrics: {'accuracy': 0.6259168704156479, 'crossentropy': 2.531711501422313}\n"
     ]
    },
    {
     "data": {
      "application/vnd.jupyter.widget-view+json": {
       "model_id": "",
       "version_major": 2,
       "version_minor": 0
      },
      "text/plain": [
       "[1/39]   3%|2          [00:00<?]"
      ]
     },
     "metadata": {},
     "output_type": "display_data"
    },
    {
     "name": "stdout",
     "output_type": "stream",
     "text": [
      "Epoch 22 metrics: {'accuracy': 0.6613691931540342, 'crossentropy': 2.3327819636515126}\n"
     ]
    },
    {
     "data": {
      "application/vnd.jupyter.widget-view+json": {
       "model_id": "",
       "version_major": 2,
       "version_minor": 0
      },
      "text/plain": [
       "[1/39]   3%|2          [00:00<?]"
      ]
     },
     "metadata": {},
     "output_type": "display_data"
    },
    {
     "name": "stdout",
     "output_type": "stream",
     "text": [
      "Epoch 23 metrics: {'accuracy': 0.6485330073349633, 'crossentropy': 2.495934001390975}\n"
     ]
    },
    {
     "data": {
      "application/vnd.jupyter.widget-view+json": {
       "model_id": "",
       "version_major": 2,
       "version_minor": 0
      },
      "text/plain": [
       "[1/39]   3%|2          [00:00<?]"
      ]
     },
     "metadata": {},
     "output_type": "display_data"
    },
    {
     "name": "stdout",
     "output_type": "stream",
     "text": [
      "Epoch 24 metrics: {'accuracy': 0.6528117359413202, 'crossentropy': 2.5606804791755957}\n"
     ]
    },
    {
     "data": {
      "application/vnd.jupyter.widget-view+json": {
       "model_id": "",
       "version_major": 2,
       "version_minor": 0
      },
      "text/plain": [
       "[1/39]   3%|2          [00:00<?]"
      ]
     },
     "metadata": {},
     "output_type": "display_data"
    },
    {
     "name": "stdout",
     "output_type": "stream",
     "text": [
      "Epoch 25 metrics: {'accuracy': 0.6393643031784841, 'crossentropy': 2.6216873341492746}\n"
     ]
    },
    {
     "data": {
      "application/vnd.jupyter.widget-view+json": {
       "model_id": "",
       "version_major": 2,
       "version_minor": 0
      },
      "text/plain": [
       "[1/39]   3%|2          [00:00<?]"
      ]
     },
     "metadata": {},
     "output_type": "display_data"
    },
    {
     "name": "stdout",
     "output_type": "stream",
     "text": [
      "Epoch 26 metrics: {'accuracy': 0.6479217603911981, 'crossentropy': 2.8604430062263693}\n"
     ]
    },
    {
     "data": {
      "application/vnd.jupyter.widget-view+json": {
       "model_id": "",
       "version_major": 2,
       "version_minor": 0
      },
      "text/plain": [
       "[1/39]   3%|2          [00:00<?]"
      ]
     },
     "metadata": {},
     "output_type": "display_data"
    },
    {
     "name": "stdout",
     "output_type": "stream",
     "text": [
      "Epoch 27 metrics: {'accuracy': 0.6191931540342298, 'crossentropy': 2.462630896813129}\n"
     ]
    },
    {
     "data": {
      "application/vnd.jupyter.widget-view+json": {
       "model_id": "",
       "version_major": 2,
       "version_minor": 0
      },
      "text/plain": [
       "[1/39]   3%|2          [00:00<?]"
      ]
     },
     "metadata": {},
     "output_type": "display_data"
    },
    {
     "name": "stdout",
     "output_type": "stream",
     "text": [
      "Epoch 28 metrics: {'accuracy': 0.6332518337408313, 'crossentropy': 2.1764630519381947}\n"
     ]
    },
    {
     "data": {
      "application/vnd.jupyter.widget-view+json": {
       "model_id": "",
       "version_major": 2,
       "version_minor": 0
      },
      "text/plain": [
       "[1/39]   3%|2          [00:00<?]"
      ]
     },
     "metadata": {},
     "output_type": "display_data"
    },
    {
     "name": "stderr",
     "output_type": "stream",
     "text": [
      "Exception ignored in: <function tqdm.__del__ at 0x7fdf9b2e5f70>\n",
      "Traceback (most recent call last):\n",
      "  File \"/home/blackhc/anaconda3/envs/active_learning/lib/python3.8/site-packages/tqdm/std.py\", line 1134, in __del__\n",
      "    def __del__(self):\n",
      "KeyboardInterrupt: \n"
     ]
    },
    {
     "name": "stdout",
     "output_type": "stream",
     "text": [
      "Epoch 29 metrics: {'accuracy': 0.6723716381418093, 'crossentropy': 2.192221565759561}\n"
     ]
    },
    {
     "data": {
      "application/vnd.jupyter.widget-view+json": {
       "model_id": "",
       "version_major": 2,
       "version_minor": 0
      },
      "text/plain": [
       "[1/39]   3%|2          [00:00<?]"
      ]
     },
     "metadata": {},
     "output_type": "display_data"
    },
    {
     "name": "stdout",
     "output_type": "stream",
     "text": [
      "Epoch 30 metrics: {'accuracy': 0.6595354523227384, 'crossentropy': 2.6499609072808825}\n"
     ]
    },
    {
     "data": {
      "application/vnd.jupyter.widget-view+json": {
       "model_id": "6fe6ee7be3d0406eae73e6a5b67714ff",
       "version_major": 2,
       "version_minor": 0
      },
      "text/plain": [
       "[1/39]   3%|2          [00:00<?]"
      ]
     },
     "metadata": {},
     "output_type": "display_data"
    },
    {
     "name": "stderr",
     "output_type": "stream",
     "text": [
      "Engine run is terminating due to exception: .\n"
     ]
    },
    {
     "ename": "KeyboardInterrupt",
     "evalue": "",
     "output_type": "error",
     "traceback": [
      "\u001b[0;31m---------------------------------------------------------------------------\u001b[0m",
      "\u001b[0;31mKeyboardInterrupt\u001b[0m                         Traceback (most recent call last)",
      "\u001b[0;32m<ipython-input-7-6f14b027d3e0>\u001b[0m in \u001b[0;36m<module>\u001b[0;34m\u001b[0m\n\u001b[1;32m      5\u001b[0m \u001b[0mconfigs\u001b[0m\u001b[0;34m[\u001b[0m\u001b[0;36m0\u001b[0m\u001b[0;34m]\u001b[0m\u001b[0;34m.\u001b[0m\u001b[0mmax_training_epochs\u001b[0m\u001b[0;34m=\u001b[0m\u001b[0;36m100\u001b[0m\u001b[0;34m\u001b[0m\u001b[0;34m\u001b[0m\u001b[0m\n\u001b[1;32m      6\u001b[0m \u001b[0mconfigs\u001b[0m\u001b[0;34m[\u001b[0m\u001b[0;36m0\u001b[0m\u001b[0;34m]\u001b[0m\u001b[0;34m.\u001b[0m\u001b[0mnum_pool_samples\u001b[0m\u001b[0;34m=\u001b[0m\u001b[0;36m5\u001b[0m\u001b[0;34m\u001b[0m\u001b[0;34m\u001b[0m\u001b[0m\n\u001b[0;32m----> 7\u001b[0;31m \u001b[0mconfigs\u001b[0m\u001b[0;34m[\u001b[0m\u001b[0;36m0\u001b[0m\u001b[0;34m]\u001b[0m\u001b[0;34m.\u001b[0m\u001b[0mrun\u001b[0m\u001b[0;34m(\u001b[0m\u001b[0mstore\u001b[0m\u001b[0;34m)\u001b[0m\u001b[0;34m\u001b[0m\u001b[0;34m\u001b[0m\u001b[0m\n\u001b[0m",
      "\u001b[0;32m~/PycharmProjects/bald-ical/batchbald_redux/unified_experiment.py\u001b[0m in \u001b[0;36mrun\u001b[0;34m(self, store)\u001b[0m\n\u001b[1;32m    252\u001b[0m         )\n\u001b[1;32m    253\u001b[0m \u001b[0;34m\u001b[0m\u001b[0m\n\u001b[0;32m--> 254\u001b[0;31m         \u001b[0mactive_learner\u001b[0m\u001b[0;34m(\u001b[0m\u001b[0mstore\u001b[0m\u001b[0;34m)\u001b[0m\u001b[0;34m\u001b[0m\u001b[0;34m\u001b[0m\u001b[0m\n\u001b[0m\u001b[1;32m    255\u001b[0m \u001b[0;34m\u001b[0m\u001b[0m\n\u001b[1;32m    256\u001b[0m \u001b[0;31m# Cell\u001b[0m\u001b[0;34m\u001b[0m\u001b[0;34m\u001b[0m\u001b[0;34m\u001b[0m\u001b[0m\n",
      "\u001b[0;32m~/PycharmProjects/bald-ical/batchbald_redux/unified_experiment.py\u001b[0m in \u001b[0;36m__call__\u001b[0;34m(self, log)\u001b[0m\n\u001b[1;32m    100\u001b[0m                 \u001b[0mloss\u001b[0m \u001b[0;34m=\u001b[0m \u001b[0mvalidation_loss\u001b[0m \u001b[0;34m=\u001b[0m \u001b[0mtorch\u001b[0m\u001b[0;34m.\u001b[0m\u001b[0mnn\u001b[0m\u001b[0;34m.\u001b[0m\u001b[0mNLLLoss\u001b[0m\u001b[0;34m(\u001b[0m\u001b[0;34m)\u001b[0m\u001b[0;34m\u001b[0m\u001b[0;34m\u001b[0m\u001b[0m\n\u001b[1;32m    101\u001b[0m \u001b[0;34m\u001b[0m\u001b[0m\n\u001b[0;32m--> 102\u001b[0;31m             trained_model = model_trainer.get_trained(\n\u001b[0m\u001b[1;32m    103\u001b[0m                 \u001b[0mtrain_loader\u001b[0m\u001b[0;34m=\u001b[0m\u001b[0mtrain_loader\u001b[0m\u001b[0;34m,\u001b[0m\u001b[0;34m\u001b[0m\u001b[0;34m\u001b[0m\u001b[0m\n\u001b[1;32m    104\u001b[0m                 \u001b[0mtrain_augmentations\u001b[0m\u001b[0;34m=\u001b[0m\u001b[0mdata\u001b[0m\u001b[0;34m.\u001b[0m\u001b[0mtrain_augmentations\u001b[0m\u001b[0;34m,\u001b[0m\u001b[0;34m\u001b[0m\u001b[0;34m\u001b[0m\u001b[0m\n",
      "\u001b[0;32m~/PycharmProjects/bald-ical/batchbald_redux/resnet_models.py\u001b[0m in \u001b[0;36mget_trained\u001b[0;34m(self, train_loader, train_augmentations, validation_loader, log, loss, validation_loss)\u001b[0m\n\u001b[1;32m    400\u001b[0m         \u001b[0;32melse\u001b[0m\u001b[0;34m:\u001b[0m\u001b[0;34m\u001b[0m\u001b[0;34m\u001b[0m\u001b[0m\n\u001b[1;32m    401\u001b[0m             \u001b[0mprint\u001b[0m\u001b[0;34m(\u001b[0m\u001b[0;34m\"Cosine Annealing\"\u001b[0m\u001b[0;34m)\u001b[0m\u001b[0;34m\u001b[0m\u001b[0;34m\u001b[0m\u001b[0m\n\u001b[0;32m--> 402\u001b[0;31m             train_with_cosine_annealing(\n\u001b[0m\u001b[1;32m    403\u001b[0m                 \u001b[0mmodel\u001b[0m\u001b[0;34m=\u001b[0m\u001b[0mmodel_optimizer\u001b[0m\u001b[0;34m.\u001b[0m\u001b[0mmodel\u001b[0m\u001b[0;34m,\u001b[0m\u001b[0;34m\u001b[0m\u001b[0;34m\u001b[0m\u001b[0m\n\u001b[1;32m    404\u001b[0m                 \u001b[0moptimizer\u001b[0m\u001b[0;34m=\u001b[0m\u001b[0mmodel_optimizer\u001b[0m\u001b[0;34m.\u001b[0m\u001b[0moptimizer\u001b[0m\u001b[0;34m,\u001b[0m\u001b[0;34m\u001b[0m\u001b[0;34m\u001b[0m\u001b[0m\n",
      "\u001b[0;32m~/PycharmProjects/bald-ical/batchbald_redux/black_box_model_training.py\u001b[0m in \u001b[0;36mtrain_with_cosine_annealing\u001b[0;34m(model, training_samples, validation_samples, train_loader, validation_loader, max_epochs, device, training_log, loss, validation_loss, optimizer, train_augmentations)\u001b[0m\n\u001b[1;32m    346\u001b[0m \u001b[0;34m\u001b[0m\u001b[0m\n\u001b[1;32m    347\u001b[0m     \u001b[0;31m# Kick everything off\u001b[0m\u001b[0;34m\u001b[0m\u001b[0;34m\u001b[0m\u001b[0;34m\u001b[0m\u001b[0m\n\u001b[0;32m--> 348\u001b[0;31m     \u001b[0mtrainer\u001b[0m\u001b[0;34m.\u001b[0m\u001b[0mrun\u001b[0m\u001b[0;34m(\u001b[0m\u001b[0mtrain_loader\u001b[0m\u001b[0;34m,\u001b[0m \u001b[0mmax_epochs\u001b[0m\u001b[0;34m=\u001b[0m\u001b[0mmax_epochs\u001b[0m\u001b[0;34m)\u001b[0m\u001b[0;34m\u001b[0m\u001b[0;34m\u001b[0m\u001b[0m\n\u001b[0m\u001b[1;32m    349\u001b[0m \u001b[0;34m\u001b[0m\u001b[0m\n\u001b[1;32m    350\u001b[0m     \u001b[0;31m# Return the optimizer in case we want to continue training.\u001b[0m\u001b[0;34m\u001b[0m\u001b[0;34m\u001b[0m\u001b[0;34m\u001b[0m\u001b[0m\n",
      "\u001b[0;32m~/anaconda3/envs/active_learning/lib/python3.8/site-packages/ignite/engine/engine.py\u001b[0m in \u001b[0;36mrun\u001b[0;34m(self, data, max_epochs, epoch_length, seed)\u001b[0m\n\u001b[1;32m    689\u001b[0m \u001b[0;34m\u001b[0m\u001b[0m\n\u001b[1;32m    690\u001b[0m         \u001b[0mself\u001b[0m\u001b[0;34m.\u001b[0m\u001b[0mstate\u001b[0m\u001b[0;34m.\u001b[0m\u001b[0mdataloader\u001b[0m \u001b[0;34m=\u001b[0m \u001b[0mdata\u001b[0m\u001b[0;34m\u001b[0m\u001b[0;34m\u001b[0m\u001b[0m\n\u001b[0;32m--> 691\u001b[0;31m         \u001b[0;32mreturn\u001b[0m \u001b[0mself\u001b[0m\u001b[0;34m.\u001b[0m\u001b[0m_internal_run\u001b[0m\u001b[0;34m(\u001b[0m\u001b[0;34m)\u001b[0m\u001b[0;34m\u001b[0m\u001b[0;34m\u001b[0m\u001b[0m\n\u001b[0m\u001b[1;32m    692\u001b[0m \u001b[0;34m\u001b[0m\u001b[0m\n\u001b[1;32m    693\u001b[0m     \u001b[0;34m@\u001b[0m\u001b[0mstaticmethod\u001b[0m\u001b[0;34m\u001b[0m\u001b[0;34m\u001b[0m\u001b[0m\n",
      "\u001b[0;32m~/anaconda3/envs/active_learning/lib/python3.8/site-packages/ignite/engine/engine.py\u001b[0m in \u001b[0;36m_internal_run\u001b[0;34m(self)\u001b[0m\n\u001b[1;32m    760\u001b[0m             \u001b[0mself\u001b[0m\u001b[0;34m.\u001b[0m\u001b[0m_dataloader_iter\u001b[0m \u001b[0;34m=\u001b[0m \u001b[0;32mNone\u001b[0m\u001b[0;34m\u001b[0m\u001b[0;34m\u001b[0m\u001b[0m\n\u001b[1;32m    761\u001b[0m             \u001b[0mself\u001b[0m\u001b[0;34m.\u001b[0m\u001b[0mlogger\u001b[0m\u001b[0;34m.\u001b[0m\u001b[0merror\u001b[0m\u001b[0;34m(\u001b[0m\u001b[0;34m\"Engine run is terminating due to exception: %s.\"\u001b[0m\u001b[0;34m,\u001b[0m \u001b[0mstr\u001b[0m\u001b[0;34m(\u001b[0m\u001b[0me\u001b[0m\u001b[0;34m)\u001b[0m\u001b[0;34m)\u001b[0m\u001b[0;34m\u001b[0m\u001b[0;34m\u001b[0m\u001b[0m\n\u001b[0;32m--> 762\u001b[0;31m             \u001b[0mself\u001b[0m\u001b[0;34m.\u001b[0m\u001b[0m_handle_exception\u001b[0m\u001b[0;34m(\u001b[0m\u001b[0me\u001b[0m\u001b[0;34m)\u001b[0m\u001b[0;34m\u001b[0m\u001b[0;34m\u001b[0m\u001b[0m\n\u001b[0m\u001b[1;32m    763\u001b[0m \u001b[0;34m\u001b[0m\u001b[0m\n\u001b[1;32m    764\u001b[0m         \u001b[0mself\u001b[0m\u001b[0;34m.\u001b[0m\u001b[0m_dataloader_iter\u001b[0m \u001b[0;34m=\u001b[0m \u001b[0;32mNone\u001b[0m\u001b[0;34m\u001b[0m\u001b[0;34m\u001b[0m\u001b[0m\n",
      "\u001b[0;32m~/anaconda3/envs/active_learning/lib/python3.8/site-packages/ignite/engine/engine.py\u001b[0m in \u001b[0;36m_handle_exception\u001b[0;34m(self, e)\u001b[0m\n\u001b[1;32m    465\u001b[0m             \u001b[0mself\u001b[0m\u001b[0;34m.\u001b[0m\u001b[0m_fire_event\u001b[0m\u001b[0;34m(\u001b[0m\u001b[0mEvents\u001b[0m\u001b[0;34m.\u001b[0m\u001b[0mEXCEPTION_RAISED\u001b[0m\u001b[0;34m,\u001b[0m \u001b[0me\u001b[0m\u001b[0;34m)\u001b[0m\u001b[0;34m\u001b[0m\u001b[0;34m\u001b[0m\u001b[0m\n\u001b[1;32m    466\u001b[0m         \u001b[0;32melse\u001b[0m\u001b[0;34m:\u001b[0m\u001b[0;34m\u001b[0m\u001b[0;34m\u001b[0m\u001b[0m\n\u001b[0;32m--> 467\u001b[0;31m             \u001b[0;32mraise\u001b[0m \u001b[0me\u001b[0m\u001b[0;34m\u001b[0m\u001b[0;34m\u001b[0m\u001b[0m\n\u001b[0m\u001b[1;32m    468\u001b[0m \u001b[0;34m\u001b[0m\u001b[0m\n\u001b[1;32m    469\u001b[0m     \u001b[0;34m@\u001b[0m\u001b[0mproperty\u001b[0m\u001b[0;34m\u001b[0m\u001b[0;34m\u001b[0m\u001b[0m\n",
      "\u001b[0;32m~/anaconda3/envs/active_learning/lib/python3.8/site-packages/ignite/engine/engine.py\u001b[0m in \u001b[0;36m_internal_run\u001b[0;34m(self)\u001b[0m\n\u001b[1;32m    728\u001b[0m                     \u001b[0mself\u001b[0m\u001b[0;34m.\u001b[0m\u001b[0m_setup_engine\u001b[0m\u001b[0;34m(\u001b[0m\u001b[0;34m)\u001b[0m\u001b[0;34m\u001b[0m\u001b[0;34m\u001b[0m\u001b[0m\n\u001b[1;32m    729\u001b[0m \u001b[0;34m\u001b[0m\u001b[0m\n\u001b[0;32m--> 730\u001b[0;31m                 \u001b[0mtime_taken\u001b[0m \u001b[0;34m=\u001b[0m \u001b[0mself\u001b[0m\u001b[0;34m.\u001b[0m\u001b[0m_run_once_on_dataset\u001b[0m\u001b[0;34m(\u001b[0m\u001b[0;34m)\u001b[0m\u001b[0;34m\u001b[0m\u001b[0;34m\u001b[0m\u001b[0m\n\u001b[0m\u001b[1;32m    731\u001b[0m                 \u001b[0;31m# time is available for handlers but must be update after fire\u001b[0m\u001b[0;34m\u001b[0m\u001b[0;34m\u001b[0m\u001b[0;34m\u001b[0m\u001b[0m\n\u001b[1;32m    732\u001b[0m                 \u001b[0mself\u001b[0m\u001b[0;34m.\u001b[0m\u001b[0mstate\u001b[0m\u001b[0;34m.\u001b[0m\u001b[0mtimes\u001b[0m\u001b[0;34m[\u001b[0m\u001b[0mEvents\u001b[0m\u001b[0;34m.\u001b[0m\u001b[0mEPOCH_COMPLETED\u001b[0m\u001b[0;34m.\u001b[0m\u001b[0mname\u001b[0m\u001b[0;34m]\u001b[0m \u001b[0;34m=\u001b[0m \u001b[0mtime_taken\u001b[0m\u001b[0;34m\u001b[0m\u001b[0;34m\u001b[0m\u001b[0m\n",
      "\u001b[0;32m~/anaconda3/envs/active_learning/lib/python3.8/site-packages/ignite/engine/engine.py\u001b[0m in \u001b[0;36m_run_once_on_dataset\u001b[0;34m(self)\u001b[0m\n\u001b[1;32m    809\u001b[0m                 \u001b[0mself\u001b[0m\u001b[0;34m.\u001b[0m\u001b[0mstate\u001b[0m\u001b[0;34m.\u001b[0m\u001b[0miteration\u001b[0m \u001b[0;34m+=\u001b[0m \u001b[0;36m1\u001b[0m\u001b[0;34m\u001b[0m\u001b[0;34m\u001b[0m\u001b[0m\n\u001b[1;32m    810\u001b[0m                 \u001b[0mself\u001b[0m\u001b[0;34m.\u001b[0m\u001b[0m_fire_event\u001b[0m\u001b[0;34m(\u001b[0m\u001b[0mEvents\u001b[0m\u001b[0;34m.\u001b[0m\u001b[0mITERATION_STARTED\u001b[0m\u001b[0;34m)\u001b[0m\u001b[0;34m\u001b[0m\u001b[0;34m\u001b[0m\u001b[0m\n\u001b[0;32m--> 811\u001b[0;31m                 \u001b[0mself\u001b[0m\u001b[0;34m.\u001b[0m\u001b[0mstate\u001b[0m\u001b[0;34m.\u001b[0m\u001b[0moutput\u001b[0m \u001b[0;34m=\u001b[0m \u001b[0mself\u001b[0m\u001b[0;34m.\u001b[0m\u001b[0m_process_function\u001b[0m\u001b[0;34m(\u001b[0m\u001b[0mself\u001b[0m\u001b[0;34m,\u001b[0m \u001b[0mself\u001b[0m\u001b[0;34m.\u001b[0m\u001b[0mstate\u001b[0m\u001b[0;34m.\u001b[0m\u001b[0mbatch\u001b[0m\u001b[0;34m)\u001b[0m\u001b[0;34m\u001b[0m\u001b[0;34m\u001b[0m\u001b[0m\n\u001b[0m\u001b[1;32m    812\u001b[0m                 \u001b[0mself\u001b[0m\u001b[0;34m.\u001b[0m\u001b[0m_fire_event\u001b[0m\u001b[0;34m(\u001b[0m\u001b[0mEvents\u001b[0m\u001b[0;34m.\u001b[0m\u001b[0mITERATION_COMPLETED\u001b[0m\u001b[0;34m)\u001b[0m\u001b[0;34m\u001b[0m\u001b[0;34m\u001b[0m\u001b[0m\n\u001b[1;32m    813\u001b[0m \u001b[0;34m\u001b[0m\u001b[0m\n",
      "\u001b[0;32m~/anaconda3/envs/active_learning/lib/python3.8/site-packages/ignite/engine/__init__.py\u001b[0m in \u001b[0;36m_update\u001b[0;34m(engine, batch)\u001b[0m\n\u001b[1;32m     97\u001b[0m         \u001b[0moptimizer\u001b[0m\u001b[0;34m.\u001b[0m\u001b[0mzero_grad\u001b[0m\u001b[0;34m(\u001b[0m\u001b[0;34m)\u001b[0m\u001b[0;34m\u001b[0m\u001b[0;34m\u001b[0m\u001b[0m\n\u001b[1;32m     98\u001b[0m         \u001b[0mx\u001b[0m\u001b[0;34m,\u001b[0m \u001b[0my\u001b[0m \u001b[0;34m=\u001b[0m \u001b[0mprepare_batch\u001b[0m\u001b[0;34m(\u001b[0m\u001b[0mbatch\u001b[0m\u001b[0;34m,\u001b[0m \u001b[0mdevice\u001b[0m\u001b[0;34m=\u001b[0m\u001b[0mdevice\u001b[0m\u001b[0;34m,\u001b[0m \u001b[0mnon_blocking\u001b[0m\u001b[0;34m=\u001b[0m\u001b[0mnon_blocking\u001b[0m\u001b[0;34m)\u001b[0m\u001b[0;34m\u001b[0m\u001b[0;34m\u001b[0m\u001b[0m\n\u001b[0;32m---> 99\u001b[0;31m         \u001b[0my_pred\u001b[0m \u001b[0;34m=\u001b[0m \u001b[0mmodel\u001b[0m\u001b[0;34m(\u001b[0m\u001b[0mx\u001b[0m\u001b[0;34m)\u001b[0m\u001b[0;34m\u001b[0m\u001b[0;34m\u001b[0m\u001b[0m\n\u001b[0m\u001b[1;32m    100\u001b[0m         \u001b[0mloss\u001b[0m \u001b[0;34m=\u001b[0m \u001b[0mloss_fn\u001b[0m\u001b[0;34m(\u001b[0m\u001b[0my_pred\u001b[0m\u001b[0;34m,\u001b[0m \u001b[0my\u001b[0m\u001b[0;34m)\u001b[0m\u001b[0;34m\u001b[0m\u001b[0;34m\u001b[0m\u001b[0m\n\u001b[1;32m    101\u001b[0m         \u001b[0mloss\u001b[0m\u001b[0;34m.\u001b[0m\u001b[0mbackward\u001b[0m\u001b[0;34m(\u001b[0m\u001b[0;34m)\u001b[0m\u001b[0;34m\u001b[0m\u001b[0;34m\u001b[0m\u001b[0m\n",
      "\u001b[0;32m~/anaconda3/envs/active_learning/lib/python3.8/site-packages/torch/nn/modules/module.py\u001b[0m in \u001b[0;36m_call_impl\u001b[0;34m(self, *input, **kwargs)\u001b[0m\n\u001b[1;32m    725\u001b[0m             \u001b[0mresult\u001b[0m \u001b[0;34m=\u001b[0m \u001b[0mself\u001b[0m\u001b[0;34m.\u001b[0m\u001b[0m_slow_forward\u001b[0m\u001b[0;34m(\u001b[0m\u001b[0;34m*\u001b[0m\u001b[0minput\u001b[0m\u001b[0;34m,\u001b[0m \u001b[0;34m**\u001b[0m\u001b[0mkwargs\u001b[0m\u001b[0;34m)\u001b[0m\u001b[0;34m\u001b[0m\u001b[0;34m\u001b[0m\u001b[0m\n\u001b[1;32m    726\u001b[0m         \u001b[0;32melse\u001b[0m\u001b[0;34m:\u001b[0m\u001b[0;34m\u001b[0m\u001b[0;34m\u001b[0m\u001b[0m\n\u001b[0;32m--> 727\u001b[0;31m             \u001b[0mresult\u001b[0m \u001b[0;34m=\u001b[0m \u001b[0mself\u001b[0m\u001b[0;34m.\u001b[0m\u001b[0mforward\u001b[0m\u001b[0;34m(\u001b[0m\u001b[0;34m*\u001b[0m\u001b[0minput\u001b[0m\u001b[0;34m,\u001b[0m \u001b[0;34m**\u001b[0m\u001b[0mkwargs\u001b[0m\u001b[0;34m)\u001b[0m\u001b[0;34m\u001b[0m\u001b[0;34m\u001b[0m\u001b[0m\n\u001b[0m\u001b[1;32m    728\u001b[0m         for hook in itertools.chain(\n\u001b[1;32m    729\u001b[0m                 \u001b[0m_global_forward_hooks\u001b[0m\u001b[0;34m.\u001b[0m\u001b[0mvalues\u001b[0m\u001b[0;34m(\u001b[0m\u001b[0;34m)\u001b[0m\u001b[0;34m,\u001b[0m\u001b[0;34m\u001b[0m\u001b[0;34m\u001b[0m\u001b[0m\n",
      "\u001b[0;32m~/anaconda3/envs/active_learning/lib/python3.8/site-packages/torch/nn/modules/container.py\u001b[0m in \u001b[0;36mforward\u001b[0;34m(self, input)\u001b[0m\n\u001b[1;32m    115\u001b[0m     \u001b[0;32mdef\u001b[0m \u001b[0mforward\u001b[0m\u001b[0;34m(\u001b[0m\u001b[0mself\u001b[0m\u001b[0;34m,\u001b[0m \u001b[0minput\u001b[0m\u001b[0;34m)\u001b[0m\u001b[0;34m:\u001b[0m\u001b[0;34m\u001b[0m\u001b[0;34m\u001b[0m\u001b[0m\n\u001b[1;32m    116\u001b[0m         \u001b[0;32mfor\u001b[0m \u001b[0mmodule\u001b[0m \u001b[0;32min\u001b[0m \u001b[0mself\u001b[0m\u001b[0;34m:\u001b[0m\u001b[0;34m\u001b[0m\u001b[0;34m\u001b[0m\u001b[0m\n\u001b[0;32m--> 117\u001b[0;31m             \u001b[0minput\u001b[0m \u001b[0;34m=\u001b[0m \u001b[0mmodule\u001b[0m\u001b[0;34m(\u001b[0m\u001b[0minput\u001b[0m\u001b[0;34m)\u001b[0m\u001b[0;34m\u001b[0m\u001b[0;34m\u001b[0m\u001b[0m\n\u001b[0m\u001b[1;32m    118\u001b[0m         \u001b[0;32mreturn\u001b[0m \u001b[0minput\u001b[0m\u001b[0;34m\u001b[0m\u001b[0;34m\u001b[0m\u001b[0m\n\u001b[1;32m    119\u001b[0m \u001b[0;34m\u001b[0m\u001b[0m\n",
      "\u001b[0;32m~/anaconda3/envs/active_learning/lib/python3.8/site-packages/torch/nn/modules/module.py\u001b[0m in \u001b[0;36m_call_impl\u001b[0;34m(self, *input, **kwargs)\u001b[0m\n\u001b[1;32m    725\u001b[0m             \u001b[0mresult\u001b[0m \u001b[0;34m=\u001b[0m \u001b[0mself\u001b[0m\u001b[0;34m.\u001b[0m\u001b[0m_slow_forward\u001b[0m\u001b[0;34m(\u001b[0m\u001b[0;34m*\u001b[0m\u001b[0minput\u001b[0m\u001b[0;34m,\u001b[0m \u001b[0;34m**\u001b[0m\u001b[0mkwargs\u001b[0m\u001b[0;34m)\u001b[0m\u001b[0;34m\u001b[0m\u001b[0;34m\u001b[0m\u001b[0m\n\u001b[1;32m    726\u001b[0m         \u001b[0;32melse\u001b[0m\u001b[0;34m:\u001b[0m\u001b[0;34m\u001b[0m\u001b[0;34m\u001b[0m\u001b[0m\n\u001b[0;32m--> 727\u001b[0;31m             \u001b[0mresult\u001b[0m \u001b[0;34m=\u001b[0m \u001b[0mself\u001b[0m\u001b[0;34m.\u001b[0m\u001b[0mforward\u001b[0m\u001b[0;34m(\u001b[0m\u001b[0;34m*\u001b[0m\u001b[0minput\u001b[0m\u001b[0;34m,\u001b[0m \u001b[0;34m**\u001b[0m\u001b[0mkwargs\u001b[0m\u001b[0;34m)\u001b[0m\u001b[0;34m\u001b[0m\u001b[0;34m\u001b[0m\u001b[0m\n\u001b[0m\u001b[1;32m    728\u001b[0m         for hook in itertools.chain(\n\u001b[1;32m    729\u001b[0m                 \u001b[0m_global_forward_hooks\u001b[0m\u001b[0;34m.\u001b[0m\u001b[0mvalues\u001b[0m\u001b[0;34m(\u001b[0m\u001b[0;34m)\u001b[0m\u001b[0;34m,\u001b[0m\u001b[0;34m\u001b[0m\u001b[0;34m\u001b[0m\u001b[0m\n",
      "\u001b[0;32m~/anaconda3/envs/active_learning/lib/python3.8/site-packages/torch/nn/modules/container.py\u001b[0m in \u001b[0;36mforward\u001b[0;34m(self, input)\u001b[0m\n\u001b[1;32m    115\u001b[0m     \u001b[0;32mdef\u001b[0m \u001b[0mforward\u001b[0m\u001b[0;34m(\u001b[0m\u001b[0mself\u001b[0m\u001b[0;34m,\u001b[0m \u001b[0minput\u001b[0m\u001b[0;34m)\u001b[0m\u001b[0;34m:\u001b[0m\u001b[0;34m\u001b[0m\u001b[0;34m\u001b[0m\u001b[0m\n\u001b[1;32m    116\u001b[0m         \u001b[0;32mfor\u001b[0m \u001b[0mmodule\u001b[0m \u001b[0;32min\u001b[0m \u001b[0mself\u001b[0m\u001b[0;34m:\u001b[0m\u001b[0;34m\u001b[0m\u001b[0;34m\u001b[0m\u001b[0m\n\u001b[0;32m--> 117\u001b[0;31m             \u001b[0minput\u001b[0m \u001b[0;34m=\u001b[0m \u001b[0mmodule\u001b[0m\u001b[0;34m(\u001b[0m\u001b[0minput\u001b[0m\u001b[0;34m)\u001b[0m\u001b[0;34m\u001b[0m\u001b[0;34m\u001b[0m\u001b[0m\n\u001b[0m\u001b[1;32m    118\u001b[0m         \u001b[0;32mreturn\u001b[0m \u001b[0minput\u001b[0m\u001b[0;34m\u001b[0m\u001b[0;34m\u001b[0m\u001b[0m\n\u001b[1;32m    119\u001b[0m \u001b[0;34m\u001b[0m\u001b[0m\n",
      "\u001b[0;32m~/anaconda3/envs/active_learning/lib/python3.8/site-packages/torch/nn/modules/module.py\u001b[0m in \u001b[0;36m_call_impl\u001b[0;34m(self, *input, **kwargs)\u001b[0m\n\u001b[1;32m    725\u001b[0m             \u001b[0mresult\u001b[0m \u001b[0;34m=\u001b[0m \u001b[0mself\u001b[0m\u001b[0;34m.\u001b[0m\u001b[0m_slow_forward\u001b[0m\u001b[0;34m(\u001b[0m\u001b[0;34m*\u001b[0m\u001b[0minput\u001b[0m\u001b[0;34m,\u001b[0m \u001b[0;34m**\u001b[0m\u001b[0mkwargs\u001b[0m\u001b[0;34m)\u001b[0m\u001b[0;34m\u001b[0m\u001b[0;34m\u001b[0m\u001b[0m\n\u001b[1;32m    726\u001b[0m         \u001b[0;32melse\u001b[0m\u001b[0;34m:\u001b[0m\u001b[0;34m\u001b[0m\u001b[0;34m\u001b[0m\u001b[0m\n\u001b[0;32m--> 727\u001b[0;31m             \u001b[0mresult\u001b[0m \u001b[0;34m=\u001b[0m \u001b[0mself\u001b[0m\u001b[0;34m.\u001b[0m\u001b[0mforward\u001b[0m\u001b[0;34m(\u001b[0m\u001b[0;34m*\u001b[0m\u001b[0minput\u001b[0m\u001b[0;34m,\u001b[0m \u001b[0;34m**\u001b[0m\u001b[0mkwargs\u001b[0m\u001b[0;34m)\u001b[0m\u001b[0;34m\u001b[0m\u001b[0;34m\u001b[0m\u001b[0m\n\u001b[0m\u001b[1;32m    728\u001b[0m         for hook in itertools.chain(\n\u001b[1;32m    729\u001b[0m                 \u001b[0m_global_forward_hooks\u001b[0m\u001b[0;34m.\u001b[0m\u001b[0mvalues\u001b[0m\u001b[0;34m(\u001b[0m\u001b[0;34m)\u001b[0m\u001b[0;34m,\u001b[0m\u001b[0;34m\u001b[0m\u001b[0;34m\u001b[0m\u001b[0m\n",
      "\u001b[0;32m~/anaconda3/envs/active_learning/lib/python3.8/site-packages/kornia/augmentation/base.py\u001b[0m in \u001b[0;36mforward\u001b[0;34m(self, input, params, return_transform)\u001b[0m\n\u001b[1;32m    243\u001b[0m \u001b[0;34m\u001b[0m\u001b[0m\n\u001b[1;32m    244\u001b[0m         \u001b[0mself\u001b[0m\u001b[0;34m.\u001b[0m\u001b[0m_params\u001b[0m \u001b[0;34m=\u001b[0m \u001b[0mparams\u001b[0m\u001b[0;34m\u001b[0m\u001b[0;34m\u001b[0m\u001b[0m\n\u001b[0;32m--> 245\u001b[0;31m         \u001b[0moutput\u001b[0m \u001b[0;34m=\u001b[0m \u001b[0mself\u001b[0m\u001b[0;34m.\u001b[0m\u001b[0mapply_func\u001b[0m\u001b[0;34m(\u001b[0m\u001b[0min_tensor\u001b[0m\u001b[0;34m,\u001b[0m \u001b[0min_transform\u001b[0m\u001b[0;34m,\u001b[0m \u001b[0mself\u001b[0m\u001b[0;34m.\u001b[0m\u001b[0m_params\u001b[0m\u001b[0;34m,\u001b[0m \u001b[0mreturn_transform\u001b[0m\u001b[0;34m)\u001b[0m\u001b[0;34m\u001b[0m\u001b[0;34m\u001b[0m\u001b[0m\n\u001b[0m\u001b[1;32m    246\u001b[0m         \u001b[0;32mreturn\u001b[0m \u001b[0m_transform_output_shape\u001b[0m\u001b[0;34m(\u001b[0m\u001b[0moutput\u001b[0m\u001b[0;34m,\u001b[0m \u001b[0mori_shape\u001b[0m\u001b[0;34m)\u001b[0m \u001b[0;32mif\u001b[0m \u001b[0mself\u001b[0m\u001b[0;34m.\u001b[0m\u001b[0mkeepdim\u001b[0m \u001b[0;32melse\u001b[0m \u001b[0moutput\u001b[0m\u001b[0;34m\u001b[0m\u001b[0;34m\u001b[0m\u001b[0m\n\u001b[1;32m    247\u001b[0m \u001b[0;34m\u001b[0m\u001b[0m\n",
      "\u001b[0;32m~/anaconda3/envs/active_learning/lib/python3.8/site-packages/kornia/augmentation/base.py\u001b[0m in \u001b[0;36mapply_func\u001b[0;34m(self, in_tensor, in_transform, params, return_transform)\u001b[0m\n\u001b[1;32m    207\u001b[0m             \u001b[0moutput\u001b[0m \u001b[0;34m=\u001b[0m \u001b[0min_tensor\u001b[0m\u001b[0;34m.\u001b[0m\u001b[0mclone\u001b[0m\u001b[0;34m(\u001b[0m\u001b[0;34m)\u001b[0m\u001b[0;34m\u001b[0m\u001b[0;34m\u001b[0m\u001b[0m\n\u001b[1;32m    208\u001b[0m             \u001b[0mtrans_matrix\u001b[0m \u001b[0;34m=\u001b[0m \u001b[0mself\u001b[0m\u001b[0;34m.\u001b[0m\u001b[0midentity_matrix\u001b[0m\u001b[0;34m(\u001b[0m\u001b[0min_tensor\u001b[0m\u001b[0;34m)\u001b[0m\u001b[0;34m\u001b[0m\u001b[0;34m\u001b[0m\u001b[0m\n\u001b[0;32m--> 209\u001b[0;31m             \u001b[0mtrans_matrix\u001b[0m\u001b[0;34m[\u001b[0m\u001b[0mto_apply\u001b[0m\u001b[0;34m]\u001b[0m \u001b[0;34m=\u001b[0m \u001b[0mself\u001b[0m\u001b[0;34m.\u001b[0m\u001b[0mcompute_transformation\u001b[0m\u001b[0;34m(\u001b[0m\u001b[0min_tensor\u001b[0m\u001b[0;34m[\u001b[0m\u001b[0mto_apply\u001b[0m\u001b[0;34m]\u001b[0m\u001b[0;34m,\u001b[0m \u001b[0mparams\u001b[0m\u001b[0;34m)\u001b[0m\u001b[0;34m\u001b[0m\u001b[0;34m\u001b[0m\u001b[0m\n\u001b[0m\u001b[1;32m    210\u001b[0m             \u001b[0moutput\u001b[0m\u001b[0;34m[\u001b[0m\u001b[0mto_apply\u001b[0m\u001b[0;34m]\u001b[0m \u001b[0;34m=\u001b[0m \u001b[0mself\u001b[0m\u001b[0;34m.\u001b[0m\u001b[0mapply_transform\u001b[0m\u001b[0;34m(\u001b[0m\u001b[0min_tensor\u001b[0m\u001b[0;34m[\u001b[0m\u001b[0mto_apply\u001b[0m\u001b[0;34m]\u001b[0m\u001b[0;34m,\u001b[0m \u001b[0mparams\u001b[0m\u001b[0;34m,\u001b[0m \u001b[0mtrans_matrix\u001b[0m\u001b[0;34m[\u001b[0m\u001b[0mto_apply\u001b[0m\u001b[0;34m]\u001b[0m\u001b[0;34m)\u001b[0m\u001b[0;34m\u001b[0m\u001b[0;34m\u001b[0m\u001b[0m\n\u001b[1;32m    211\u001b[0m \u001b[0;34m\u001b[0m\u001b[0m\n",
      "\u001b[0;31mKeyboardInterrupt\u001b[0m: "
     ]
    }
   ],
   "source": [
    "store={}\n",
    "\n",
    "configs[0].max_training_set=2000\n",
    "configs[0].experiment_data_config.initial_training_set_size = 400 # int(50000/10*4-1000)\n",
    "configs[0].max_training_epochs=100\n",
    "configs[0].num_pool_samples=5\n",
    "configs[0].run(store)"
   ]
  },
  {
   "cell_type": "code",
   "execution_count": null,
   "metadata": {},
   "outputs": [],
   "source": []
  }
 ],
 "metadata": {
  "kernelspec": {
   "display_name": "Python [conda env:active_learning]",
   "language": "python",
   "name": "conda-env-active_learning-py"
  }
 },
 "nbformat": 4,
 "nbformat_minor": 4
}
