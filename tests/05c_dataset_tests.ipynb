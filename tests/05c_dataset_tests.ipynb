{
 "cells": [
  {
   "cell_type": "code",
   "execution_count": null,
   "metadata": {},
   "outputs": [
    {
     "name": "stdout",
     "output_type": "stream",
     "text": [
      "Appended /home/blackhc/PycharmProjects/bald-ical/src to paths\n",
      "Switched to directory /home/blackhc/PycharmProjects/bald-ical\n",
      "%load_ext autoreload\n",
      "%autoreload 2\n"
     ]
    }
   ],
   "source": [
    "# hide\n",
    "import blackhc.project.script\n",
    "from nbdev.showdoc import *"
   ]
  },
  {
   "cell_type": "markdown",
   "metadata": {},
   "source": [
    "# Datasets\n",
    "\n",
    "> What the name says..."
   ]
  },
  {
   "cell_type": "code",
   "execution_count": null,
   "metadata": {},
   "outputs": [],
   "source": [
    "from batchbald_redux.datasets import *"
   ]
  },
  {
   "cell_type": "markdown",
   "metadata": {},
   "source": [
    "## Validate that we can load all datasets"
   ]
  },
  {
   "cell_type": "code",
   "execution_count": null,
   "metadata": {},
   "outputs": [
    {
     "name": "stdout",
     "output_type": "stream",
     "text": [
      "Files already downloaded and verified\n",
      "Files already downloaded and verified\n"
     ]
    },
    {
     "data": {
      "text/plain": [
       "SplitDataLoader(input_size=32, num_class=10, options={'validation_split_random_state': 0, 'normalize_like_cifar10': True}, train=<torch.utils.data.dataloader.DataLoader object at 0x7f176a04eb50>, validation=<torch.utils.data.dataloader.DataLoader object at 0x7f176a04ec40>, test=<torch.utils.data.dataloader.DataLoader object at 0x7f176a04ed30>, train_augmentations=Sequential(\n",
       "  (0): RandomCrop(crop_size=(32, 32), padding=4, fill=0, pad_if_needed=False, padding_mode=constant, resample=BILINEAR, p=1.0, p_batch=1.0, same_on_batch=False, return_transform=False)\n",
       "  (1): RandomHorizontalFlip(p=0.5, p_batch=1.0, same_on_batch=False, return_transform=None)\n",
       "))"
      ]
     },
     "execution_count": null,
     "metadata": {},
     "output_type": "execute_result"
    }
   ],
   "source": [
    "# slow\n",
    "\n",
    "get_dataloaders_by_name(\"CIFAR-10\", normalize_like_cifar10=True, root=\"data\")"
   ]
  },
  {
   "cell_type": "code",
   "execution_count": null,
   "metadata": {},
   "outputs": [
    {
     "name": "stdout",
     "output_type": "stream",
     "text": [
      "Files already downloaded and verified\n"
     ]
    },
    {
     "data": {
      "text/plain": [
       "SplitDataLoader(input_size=32, num_class=100, options={'validation_split_random_state': 0, 'normalize_like_cifar10': True}, train=<torch.utils.data.dataloader.DataLoader object at 0x7f1769ef7610>, validation=<torch.utils.data.dataloader.DataLoader object at 0x7f1769ef7700>, test=<torch.utils.data.dataloader.DataLoader object at 0x7f1769ef77f0>, train_augmentations=Sequential(\n",
       "  (0): RandomCrop(crop_size=(32, 32), padding=4, fill=0, pad_if_needed=False, padding_mode=constant, resample=BILINEAR, p=1.0, p_batch=1.0, same_on_batch=False, return_transform=False)\n",
       "  (1): RandomHorizontalFlip(p=0.5, p_batch=1.0, same_on_batch=False, return_transform=None)\n",
       "))"
      ]
     },
     "execution_count": null,
     "metadata": {},
     "output_type": "execute_result"
    }
   ],
   "source": [
    "# slow\n",
    "\n",
    "get_dataloaders_by_name(\"CIFAR-100\", normalize_like_cifar10=True, root=\"data\")"
   ]
  },
  {
   "cell_type": "code",
   "execution_count": null,
   "metadata": {},
   "outputs": [
    {
     "name": "stdout",
     "output_type": "stream",
     "text": [
      "Using downloaded and verified file: data/SVHN/train_32x32.mat\n",
      "Using downloaded and verified file: data/SVHN/test_32x32.mat\n"
     ]
    },
    {
     "data": {
      "text/plain": [
       "SplitDataLoader(input_size=32, num_class=10, options={'validation_split_random_state': 0, 'normalize_like_cifar10': True}, train=<torch.utils.data.dataloader.DataLoader object at 0x7f1760adc790>, validation=<torch.utils.data.dataloader.DataLoader object at 0x7f1760ae7730>, test=<torch.utils.data.dataloader.DataLoader object at 0x7f1760ae7820>, train_augmentations=Sequential())"
      ]
     },
     "execution_count": null,
     "metadata": {},
     "output_type": "execute_result"
    }
   ],
   "source": [
    "# slow\n",
    "\n",
    "get_dataloaders_by_name(\"SVHN\", normalize_like_cifar10=True, root=\"data\")"
   ]
  },
  {
   "cell_type": "code",
   "execution_count": null,
   "metadata": {},
   "outputs": [
    {
     "name": "stdout",
     "output_type": "stream",
     "text": [
      "Files already downloaded and verified\n"
     ]
    },
    {
     "data": {
      "text/plain": [
       "SplitDataLoader(input_size=32, num_class=10, options={'validation_split_random_state': 0, 'normalize_like_cifar10': True}, train=<torch.utils.data.dataloader.DataLoader object at 0x7f17607ba3d0>, validation=<torch.utils.data.dataloader.DataLoader object at 0x7f17607ba4c0>, test=<torch.utils.data.dataloader.DataLoader object at 0x7f17607ba5b0>, train_augmentations=Sequential(\n",
       "  (0): RandomCrop(crop_size=(32, 32), padding=4, fill=0, pad_if_needed=False, padding_mode=constant, resample=BILINEAR, p=1.0, p_batch=1.0, same_on_batch=False, return_transform=False)\n",
       "  (1): RandomHorizontalFlip(p=0.5, p_batch=1.0, same_on_batch=False, return_transform=None)\n",
       "))"
      ]
     },
     "execution_count": null,
     "metadata": {},
     "output_type": "execute_result"
    }
   ],
   "source": [
    "# slow\n",
    "\n",
    "get_dataloaders_by_name(\"CINIC-10\", normalize_like_cifar10=True, root=\"data\")"
   ]
  },
  {
   "cell_type": "code",
   "execution_count": null,
   "metadata": {},
   "outputs": [
    {
     "data": {
      "text/plain": [
       "SplitDataLoader(input_size=28, num_class=47, options={'validation_split_random_state': 0, 'normalize_like_cifar10': False}, train=<torch.utils.data.dataloader.DataLoader object at 0x7f173a40c0a0>, validation=<torch.utils.data.dataloader.DataLoader object at 0x7f173a40c190>, test=<torch.utils.data.dataloader.DataLoader object at 0x7f173a40c280>, train_augmentations=Sequential())"
      ]
     },
     "execution_count": null,
     "metadata": {},
     "output_type": "execute_result"
    }
   ],
   "source": [
    "# slow\n",
    "\n",
    "get_dataloaders_by_name(\"EMNIST\", normalize_like_cifar10=False, root=\"data\")"
   ]
  },
  {
   "cell_type": "code",
   "execution_count": null,
   "metadata": {},
   "outputs": [
    {
     "data": {
      "text/plain": [
       "SplitDataLoader(input_size=28, num_class=10, options={'validation_split_random_state': 0, 'normalize_like_cifar10': False}, train=<torch.utils.data.dataloader.DataLoader object at 0x7f173a40cac0>, validation=<torch.utils.data.dataloader.DataLoader object at 0x7f173a40cdc0>, test=<torch.utils.data.dataloader.DataLoader object at 0x7f173a40ce80>, train_augmentations=Sequential())"
      ]
     },
     "execution_count": null,
     "metadata": {},
     "output_type": "execute_result"
    }
   ],
   "source": [
    "# slow\n",
    "\n",
    "get_dataloaders_by_name(\"MNIST\", normalize_like_cifar10=False, root=\"data\")"
   ]
  },
  {
   "cell_type": "code",
   "execution_count": null,
   "metadata": {},
   "outputs": [
    {
     "data": {
      "text/plain": [
       "SplitDataLoader(input_size=28, num_class=10, options={'validation_split_random_state': 0, 'normalize_like_cifar10': False}, train=<torch.utils.data.dataloader.DataLoader object at 0x7f173a270070>, validation=<torch.utils.data.dataloader.DataLoader object at 0x7f173a2709a0>, test=<torch.utils.data.dataloader.DataLoader object at 0x7f173a270a90>, train_augmentations=Sequential())"
      ]
     },
     "execution_count": null,
     "metadata": {},
     "output_type": "execute_result"
    }
   ],
   "source": [
    "# slow\n",
    "\n",
    "get_dataloaders_by_name(\"DirtyMNIST\", normalize_like_cifar10=False, root=\"data\")"
   ]
  },
  {
   "cell_type": "code",
   "execution_count": null,
   "metadata": {},
   "outputs": [
    {
     "data": {
      "text/plain": [
       "SplitDataLoader(input_size=28, num_class=10, options={'validation_split_random_state': 0, 'normalize_like_cifar10': False}, train=<torch.utils.data.dataloader.DataLoader object at 0x7f173a2706a0>, validation=<torch.utils.data.dataloader.DataLoader object at 0x7f173827a040>, test=<torch.utils.data.dataloader.DataLoader object at 0x7f173827a340>, train_augmentations=Sequential())"
      ]
     },
     "execution_count": null,
     "metadata": {},
     "output_type": "execute_result"
    }
   ],
   "source": [
    "# slow\n",
    "\n",
    "get_dataloaders_by_name(\"DistributionalAmbiguousMNIST\", normalize_like_cifar10=False, root=\"data\")"
   ]
  },
  {
   "cell_type": "markdown",
   "metadata": {},
   "source": [
    "## Validate that we can create a validation split"
   ]
  },
  {
   "cell_type": "code",
   "execution_count": null,
   "metadata": {},
   "outputs": [
    {
     "name": "stdout",
     "output_type": "stream",
     "text": [
      "Files already downloaded and verified\n",
      "Files already downloaded and verified\n"
     ]
    },
    {
     "data": {
      "text/plain": [
       "SplitDataset(input_size=32, num_classes=10, options={'validation_split_random_state': 0, 'normalize_like_cifar10': True}, train='CIFAR-10 (Train, seed=0, 45000 samples)', validation='CIFAR-10 (Validation, seed=0, 5000 samples)', test='CIFAR-10 (Test)', train_augmentations=Sequential(\n",
       "  (0): RandomCrop(crop_size=(32, 32), padding=4, fill=0, pad_if_needed=False, padding_mode=constant, resample=BILINEAR, p=1.0, p_batch=1.0, same_on_batch=False, return_transform=False)\n",
       "  (1): RandomHorizontalFlip(p=0.5, p_batch=1.0, same_on_batch=False, return_transform=None)\n",
       "), device='cpu')"
      ]
     },
     "execution_count": null,
     "metadata": {},
     "output_type": "execute_result"
    }
   ],
   "source": [
    "# slow\n",
    "\n",
    "get_dataset(\"CIFAR-10\", normalize_like_cifar10=True, root=\"data\", validation_set_size=5000)"
   ]
  },
  {
   "cell_type": "code",
   "execution_count": null,
   "metadata": {},
   "outputs": [
    {
     "data": {
      "text/plain": [
       "SplitDataset(input_size=28, num_classes=10, options={'validation_split_random_state': 0, 'normalize_like_cifar10': True}, train='MNIST (Train, seed=0, 55000 samples)', validation='MNIST (Validation, seed=0, 5000 samples)', test='MNIST (Test)', train_augmentations=Sequential(), device=None)"
      ]
     },
     "execution_count": null,
     "metadata": {},
     "output_type": "execute_result"
    }
   ],
   "source": [
    "# slow\n",
    "\n",
    "get_dataset(\"MNIST\", normalize_like_cifar10=True, root=\"data\", validation_set_size=5000)"
   ]
  },
  {
   "cell_type": "code",
   "execution_count": null,
   "metadata": {},
   "outputs": [
    {
     "data": {
      "text/plain": [
       "SplitDataset(input_size=28, num_classes=10, options={'validation_split_random_state': 0, 'normalize_like_cifar10': True}, train='DirtyMNIST (Train, seed=0, 115000 samples)', validation='MNIST (Validation, seed=0, 5000 samples)', test='DirtyMNIST (Test)', train_augmentations=Sequential(), device=None)"
      ]
     },
     "execution_count": null,
     "metadata": {},
     "output_type": "execute_result"
    }
   ],
   "source": [
    "# slow\n",
    "\n",
    "get_dataset(\"DirtyMNIST\", normalize_like_cifar10=True, root=\"data\", validation_set_size=5000)"
   ]
  },
  {
   "cell_type": "code",
   "execution_count": null,
   "metadata": {},
   "outputs": [
    {
     "data": {
      "text/plain": [
       "SplitDataset(input_size=28, num_classes=10, options={'validation_split_random_state': 0, 'normalize_like_cifar10': True}, train='DirtyMNIST (Train, seed=0, 6000 samples)', validation='MNIST (Validation, seed=0, 5000 samples)', test='DirtyMNIST (Test)', train_augmentations=Sequential(), device=None)"
      ]
     },
     "execution_count": null,
     "metadata": {},
     "output_type": "execute_result"
    }
   ],
   "source": [
    "# slow\n",
    "\n",
    "get_dataset(\"DistributionalAmbiguousMNIST\", normalize_like_cifar10=True, root=\"data\", validation_set_size=5000)"
   ]
  },
  {
   "cell_type": "code",
   "execution_count": null,
   "metadata": {},
   "outputs": [
    {
     "name": "stdout",
     "output_type": "stream",
     "text": [
      "Files already downloaded and verified\n"
     ]
    },
    {
     "data": {
      "text/plain": [
       "SplitDataset(input_size=32, num_classes=10, options={'validation_split_random_state': 0, 'normalize_like_cifar10': True}, train='CINIC-10 (Train, imagenet_only=True, seed=0, 135000 samples)', validation='CINIC-10 (Validation, imagenet_only=True, seed=0, 5000 samples)', test='CINIC-10 (Test, imagenet_only={imagenet_only})', train_augmentations=Sequential(\n",
       "  (0): RandomCrop(crop_size=(32, 32), padding=4, fill=0, pad_if_needed=False, padding_mode=constant, resample=BILINEAR, p=1.0, p_batch=1.0, same_on_batch=False, return_transform=False)\n",
       "  (1): RandomHorizontalFlip(p=0.5, p_batch=1.0, same_on_batch=False, return_transform=None)\n",
       "), device='cpu')"
      ]
     },
     "execution_count": null,
     "metadata": {},
     "output_type": "execute_result"
    }
   ],
   "source": [
    "# slow\n",
    "\n",
    "get_dataset(\"IMAGENET-CINIC-10\", normalize_like_cifar10=True, root=\"data\", validation_set_size=5000)"
   ]
  },
  {
   "cell_type": "code",
   "execution_count": null,
   "metadata": {},
   "outputs": [
    {
     "data": {
      "text/plain": [
       "SplitDataset(input_size=28, num_classes=47, options={'validation_split_random_state': 0, 'normalize_like_cifar10': False}, train='EMNIST (Train, seed=0, 692932 samples)', validation='EMNIST (Validation, seed=0, 5000 samples)', test='EMNIST (Test)', train_augmentations=Sequential(), device=None)"
      ]
     },
     "execution_count": null,
     "metadata": {},
     "output_type": "execute_result"
    }
   ],
   "source": [
    "# slow\n",
    "\n",
    "get_dataset(\"EMNIST\", normalize_like_cifar10=False, root=\"data\", validation_set_size=5000)"
   ]
  },
  {
   "cell_type": "markdown",
   "metadata": {},
   "source": [
    "## Validate Kornia augmentations"
   ]
  },
  {
   "cell_type": "code",
   "execution_count": null,
   "metadata": {},
   "outputs": [
    {
     "name": "stdout",
     "output_type": "stream",
     "text": [
      "Files already downloaded and verified\n",
      "Files already downloaded and verified\n"
     ]
    }
   ],
   "source": [
    "# slow\n",
    "\n",
    "import kornia\n",
    "import matplotlib.pyplot as plt\n",
    "import numpy as np\n",
    "import torch\n",
    "import torchvision\n",
    "\n",
    "split_dataloaders = get_dataloaders_by_name(\"CIFAR-10\", normalize_like_cifar10=True, root=\"data\")"
   ]
  },
  {
   "cell_type": "code",
   "execution_count": null,
   "metadata": {},
   "outputs": [
    {
     "name": "stdout",
     "output_type": "stream",
     "text": [
      "torch.Size([128, 3, 32, 32])\n"
     ]
    },
    {
     "data": {
      "image/png": "[encoded data removed]",
      "text/plain": [
       "<Figure size 144x144 with 1 Axes>"
      ]
     },
     "metadata": {
      "needs_background": "light"
     },
     "output_type": "display_data"
    },
    {
     "name": "stderr",
     "output_type": "stream",
     "text": [
      "/home/blackhc/anaconda3/envs/active_learning/lib/python3.8/site-packages/kornia/utils/helpers.py:96: UserWarning: torch.solve is deprecated in favor of torch.linalg.solveand will be removed in a future PyTorch release.\n",
      "torch.linalg.solve has its arguments reversed and does not return the LU factorization.\n",
      "To get the LU factorization see torch.lu, which can be used with torch.lu_solve or torch.lu_unpack.\n",
      "X = torch.solve(B, A).solution\n",
      "should be replaced with\n",
      "X = torch.linalg.solve(A, B) (Triggered internally at  /opt/conda/conda-bld/pytorch_1634272068694/work/aten/src/ATen/native/BatchLinearAlgebra.cpp:766.)\n",
      "  out1, out2 = torch.solve(input.to(dtype), A.to(dtype))\n"
     ]
    },
    {
     "data": {
      "image/png": "[encoded data removed]",
      "text/plain": [
       "<Figure size 144x144 with 1 Axes>"
      ]
     },
     "metadata": {
      "needs_background": "light"
     },
     "output_type": "display_data"
    }
   ],
   "source": [
    "# slow\n",
    "\n",
    "for image_batch, labels in split_dataloaders.train:\n",
    "    break\n",
    "\n",
    "print(image_batch.shape)\n",
    "\n",
    "image_rgb: np.ndarray = kornia.tensor_to_image(CIFAR10_BATCH_DENORMALIZE(image_batch))\n",
    "fig, axs = plt.subplots(1, 1, figsize=(2, 2))\n",
    "\n",
    "axs.axis(\"off\")\n",
    "axs.imshow(image_rgb[0])\n",
    "plt.show()\n",
    "\n",
    "image_rgb: np.ndarray = kornia.tensor_to_image(\n",
    "    CIFAR10_BATCH_DENORMALIZE(split_dataloaders.train_augmentations(image_batch))\n",
    ")\n",
    "\n",
    "fig, axs = plt.subplots(1, 1, figsize=(2, 2))\n",
    "axs.axis(\"off\")\n",
    "axs.imshow(image_rgb[0])\n",
    "plt.show()"
   ]
  },
  {
   "cell_type": "code",
   "execution_count": null,
   "metadata": {},
   "outputs": [],
   "source": []
  }
 ],
 "metadata": {
  "kernelspec": {
   "display_name": "Python [conda env:active_learning]",
   "language": "python",
   "name": "conda-env-active_learning-py"
  }
 },
 "nbformat": 4,
 "nbformat_minor": 4
}
