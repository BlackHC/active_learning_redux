{
 "cells": [
  {
   "cell_type": "markdown",
   "id": "monthly-viking",
   "metadata": {},
   "source": [
    "# Tests for Active Learning Acquisitions"
   ]
  },
  {
   "cell_type": "code",
   "execution_count": null,
   "id": "presidential-maker",
   "metadata": {},
   "outputs": [
    {
     "name": "stdout",
     "output_type": "stream",
     "text": [
      "Appended /home/blackhc/PycharmProjects/bald-ical/src to paths\n",
      "Switched to directory /home/blackhc/PycharmProjects/bald-ical\n",
      "%load_ext autoreload\n",
      "%autoreload 2\n"
     ]
    }
   ],
   "source": [
    "# hide\n",
    "\n",
    "import blackhc.project.script\n",
    "from nbdev.showdoc import *"
   ]
  },
  {
   "cell_type": "code",
   "execution_count": null,
   "id": "early-north",
   "metadata": {},
   "outputs": [],
   "source": [
    "import torch\n",
    "\n",
    "from batchbald_redux import active_learning, datasets"
   ]
  },
  {
   "cell_type": "markdown",
   "id": "hearing-symbol",
   "metadata": {},
   "source": [
    "# SampledActiveLearningData"
   ]
  },
  {
   "cell_type": "code",
   "execution_count": null,
   "id": "satellite-integrity",
   "metadata": {},
   "outputs": [],
   "source": [
    "split_dataset = datasets.get_dataset(\"DistributionalAmbiguousMNIST\", root=\"data\")"
   ]
  },
  {
   "cell_type": "code",
   "execution_count": null,
   "id": "subject-citizenship",
   "metadata": {},
   "outputs": [],
   "source": [
    "active_learning_data = active_learning.SampledActiveLearningData(split_dataset.train)"
   ]
  },
  {
   "cell_type": "code",
   "execution_count": null,
   "id": "neural-planning",
   "metadata": {},
   "outputs": [
    {
     "data": {
      "text/plain": [
       "tensor([8, 8, 1, 9, 1, 1, 8, 1, 8, 8, 1, 8, 1, 1, 1, 8, 1, 1, 1, 1])"
      ]
     },
     "execution_count": null,
     "metadata": {},
     "output_type": "execute_result"
    }
   ],
   "source": [
    "active_learning_data.acquire([10]*20)"
   ]
  },
  {
   "cell_type": "code",
   "execution_count": null,
   "id": "prepared-queen",
   "metadata": {},
   "outputs": [
    {
     "data": {
      "text/plain": [
       "(tensor([8, 8, 8, 1, 8, 1, 8, 1, 1, 1, 8, 1, 1, 1, 1, 1, 1, 8, 1, 8, 8, 8, 1, 9,\n",
       "         1, 1, 8, 1, 8, 8, 1, 8, 1, 1, 1, 8, 1, 1, 1, 1]),\n",
       " array([10., 10., 10., 10., 10., 10., 10., 10., 10., 10., 10., 10., 10.,\n",
       "        10., 10., 10., 10., 10., 10., 10., 10., 10., 10., 10., 10., 10.,\n",
       "        10., 10., 10., 10., 10., 10., 10., 10., 10., 10., 10., 10., 10.,\n",
       "        10.]))"
      ]
     },
     "execution_count": null,
     "metadata": {},
     "output_type": "execute_result"
    }
   ],
   "source": [
    "active_learning_data.training_labels, active_learning_data.training_indices"
   ]
  },
  {
   "cell_type": "code",
   "execution_count": null,
   "id": "still-coupon",
   "metadata": {},
   "outputs": [
    {
     "data": {
      "text/plain": [
       "'DirtyMNIST (Train, seed=0, 6000 samples)'[[10. 10. 10. 10. 10. 10. 10. 10. 10. 10. 10. 10. 10. 10. 10. 10. 10. 10.\n",
       " 10. 10. 10. 10. 10. 10. 10. 10. 10. 10. 10. 10. 10. 10. 10. 10. 10. 10.\n",
       " 10. 10. 10. 10.]] | replace_targets{'targets': tensor([8, 8, 8, 1, 8, 1, 8, 1, 1, 1, 8, 1, 1, 1, 1, 1, 1, 8, 1, 8, 8, 8, 1, 9,\n",
       "        1, 1, 8, 1, 8, 8, 1, 8, 1, 1, 1, 8, 1, 1, 1, 1]), 'num_classes': 10}"
      ]
     },
     "execution_count": null,
     "metadata": {},
     "output_type": "execute_result"
    }
   ],
   "source": [
    "active_learning_data.training_dataset"
   ]
  },
  {
   "cell_type": "code",
   "execution_count": null,
   "id": "senior-turtle",
   "metadata": {},
   "outputs": [],
   "source": []
  }
 ],
 "metadata": {
  "kernelspec": {
   "display_name": "Python [conda env:active_learning]",
   "language": "python",
   "name": "conda-env-active_learning-py"
  }
 },
 "nbformat": 4,
 "nbformat_minor": 5
}
