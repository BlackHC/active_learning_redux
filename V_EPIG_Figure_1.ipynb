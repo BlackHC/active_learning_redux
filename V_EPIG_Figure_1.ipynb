{
 "cells": [
  {
   "cell_type": "markdown",
   "id": "charged-basket",
   "metadata": {},
   "source": [
    "# EPIG Figure 1"
   ]
  },
  {
   "cell_type": "code",
   "execution_count": null,
   "id": "asian-activation",
   "metadata": {},
   "outputs": [
    {
     "name": "stdout",
     "output_type": "stream",
     "text": [
      "Collecting package metadata (current_repodata.json): done\n",
      "Solving environment: \\ \n",
      "The environment is inconsistent, please check the package plan carefully\n",
      "The following packages are causing the inconsistency:\n",
      "\n",
      "  - conda-forge/linux-64::widgetsnbextension==3.5.1=py38h578d9bd_4\n",
      "  - pytorch/linux-64::torchvision==0.8.2=py38_cu110\n",
      "  - defaults/linux-64::mkl_random==1.1.1=py38h0573a6f_0\n",
      "  - defaults/linux-64::mkl_fft==1.2.0=py38h23d657b_0\n",
      "  - defaults/linux-64::jedi==0.17.0=py38_0\n",
      "  - pytorch/linux-64::pytorch==1.7.1=py3.8_cuda11.0.221_cudnn8.0.5_0\n",
      "  - pytorch/linux-64::ignite==0.4.2=py38_0\n",
      "  - pytorch/linux-64::torchaudio==0.7.2=py38\n",
      "  - conda-forge/linux-64::matplotlib-base==3.3.3=py38h5c7f4ab_0\n",
      "  - conda-forge/noarch::ipywidgets==7.5.1=pyh9f0ad1d_1\n",
      "  - conda-forge/linux-64::notebook==6.1.5=py38h578d9bd_0\n",
      "  - defaults/linux-64::numpy==1.19.2=py38h54aff64_0\n",
      "  - conda-forge/noarch::ipympl==0.5.8=pyh9f0ad1d_0\n",
      "done\n",
      "\n",
      "## Package Plan ##\n",
      "\n",
      "  environment location: /home/blackhc/anaconda3/envs/active_learning\n",
      "\n",
      "  added / updated specs:\n",
      "    - scikit-learn\n",
      "\n",
      "\n",
      "The following packages will be downloaded:\n",
      "\n",
      "    package                    |            build\n",
      "    ---------------------------|-----------------\n",
      "    ca-certificates-2020.10.14 |                0         128 KB  anaconda\n",
      "    certifi-2020.6.20          |           py38_0         160 KB  anaconda\n",
      "    conda-4.10.3               |   py38h06a4308_0         2.9 MB\n",
      "    intel-openmp-2021.3.0      |    h06a4308_3350         1.4 MB\n",
      "    ipykernel-5.3.4            |   py38h5ca1d4c_0         177 KB  anaconda\n",
      "    ipython-7.18.1             |   py38h5ca1d4c_0         1.1 MB  anaconda\n",
      "    joblib-0.17.0              |             py_0         205 KB  anaconda\n",
      "    libgfortran-ng-7.3.0       |       hdf63c60_0         1.3 MB  anaconda\n",
      "    mkl-2021.3.0               |     h06a4308_520       141.2 MB\n",
      "    mkl-service-2.4.0          |   py38h7f8727e_0          59 KB\n",
      "    mkl_fft-1.3.0              |   py38h42c9631_2         180 KB\n",
      "    mkl_random-1.2.2           |   py38h51133e4_0         308 KB\n",
      "    numpy-1.20.3               |   py38hf144106_0          23 KB\n",
      "    numpy-base-1.20.3          |   py38h74d4b33_0         4.5 MB\n",
      "    openssl-1.1.1k             |       h27cfd23_0         2.5 MB\n",
      "    parso-0.8.0                |             py_0          70 KB  anaconda\n",
      "    scikit-learn-0.23.2        |   py38h0573a6f_0         7.0 MB  anaconda\n",
      "    scipy-1.6.2                |   py38had2a1c9_1        15.6 MB\n",
      "    threadpoolctl-2.1.0        |     pyh5ca1d4c_0          16 KB  anaconda\n",
      "    ------------------------------------------------------------\n",
      "                                           Total:       178.9 MB\n",
      "\n",
      "The following NEW packages will be INSTALLED:\n",
      "\n",
      "  ipykernel          anaconda/linux-64::ipykernel-5.3.4-py38h5ca1d4c_0\n",
      "  ipython            anaconda/linux-64::ipython-7.18.1-py38h5ca1d4c_0\n",
      "  joblib             anaconda/noarch::joblib-0.17.0-py_0\n",
      "  libgfortran-ng     anaconda/linux-64::libgfortran-ng-7.3.0-hdf63c60_0\n",
      "  numpy-base         pkgs/main/linux-64::numpy-base-1.20.3-py38h74d4b33_0\n",
      "  parso              anaconda/noarch::parso-0.8.0-py_0\n",
      "  scikit-learn       anaconda/linux-64::scikit-learn-0.23.2-py38h0573a6f_0\n",
      "  scipy              pkgs/main/linux-64::scipy-1.6.2-py38had2a1c9_1\n",
      "  threadpoolctl      anaconda/noarch::threadpoolctl-2.1.0-pyh5ca1d4c_0\n",
      "\n",
      "The following packages will be UPDATED:\n",
      "\n",
      "  conda                                4.9.2-py38h06a4308_0 --> 4.10.3-py38h06a4308_0\n",
      "  intel-openmp                                   2020.2-254 --> 2021.3.0-h06a4308_3350\n",
      "  mkl                                            2020.2-256 --> 2021.3.0-h06a4308_520\n",
      "  mkl-service                          2.3.0-py38he904b0f_0 --> 2.4.0-py38h7f8727e_0\n",
      "  mkl_fft                              1.2.0-py38h23d657b_0 --> 1.3.0-py38h42c9631_2\n",
      "  mkl_random                           1.1.1-py38h0573a6f_0 --> 1.2.2-py38h51133e4_0\n",
      "  numpy                               1.19.2-py38h54aff64_0 --> 1.20.3-py38hf144106_0\n",
      "  openssl                                 1.1.1i-h27cfd23_0 --> 1.1.1k-h27cfd23_0\n",
      "\n",
      "The following packages will be SUPERSEDED by a higher-priority channel:\n",
      "\n",
      "  ca-certificates    conda-forge::ca-certificates-2020.12.~ --> anaconda::ca-certificates-2020.10.14-0\n",
      "  certifi            conda-forge::certifi-2020.12.5-py38h5~ --> anaconda::certifi-2020.6.20-py38_0\n",
      "\n",
      "\n",
      "\n",
      "Downloading and Extracting Packages\n",
      "openssl-1.1.1k       | 2.5 MB    | ##################################### | 100% \n",
      "mkl_fft-1.3.0        | 180 KB    | ##################################### | 100% \n",
      "scipy-1.6.2          | 15.6 MB   | ##################################### | 100% \n",
      "scikit-learn-0.23.2  | 7.0 MB    | ##################################### | 100% \n",
      "numpy-base-1.20.3    | 4.5 MB    | ##################################### | 100% \n",
      "parso-0.8.0          | 70 KB     | ##################################### | 100% \n",
      "joblib-0.17.0        | 205 KB    | ##################################### | 100% \n",
      "conda-4.10.3         | 2.9 MB    | ##################################### | 100% \n",
      "mkl-service-2.4.0    | 59 KB     | ##################################### | 100% \n",
      "threadpoolctl-2.1.0  | 16 KB     | ##################################### | 100% \n",
      "ipython-7.18.1       | 1.1 MB    | ##################################### | 100% \n",
      "ipykernel-5.3.4      | 177 KB    | ##################################### | 100% \n",
      "ca-certificates-2020 | 128 KB    | ##################################### | 100% \n",
      "libgfortran-ng-7.3.0 | 1.3 MB    | ##################################### | 100% \n",
      "mkl-2021.3.0         | 141.2 MB  | ##################################### | 100% \n",
      "certifi-2020.6.20    | 160 KB    | ##################################### | 100% \n",
      "intel-openmp-2021.3. | 1.4 MB    | ##################################### | 100% \n",
      "numpy-1.20.3         | 23 KB     | ##################################### | 100% \n",
      "mkl_random-1.2.2     | 308 KB    | ##################################### | 100% \n",
      "Preparing transaction: done\n",
      "Verifying transaction: done\n",
      "Executing transaction: done\n"
     ]
    }
   ],
   "source": [
    "!conda install -y -c anaconda scikit-learn "
   ]
  },
  {
   "cell_type": "code",
   "execution_count": null,
   "id": "representative-costume",
   "metadata": {},
   "outputs": [],
   "source": [
    "import itertools\n",
    "import numpy as np\n",
    "\n",
    "from scipy.stats import multivariate_normal\n",
    "from scipy.stats import norm\n",
    "\n",
    "from sklearn.datasets import fetch_openml\n",
    "from sklearn.model_selection import train_test_split\n",
    "from sklearn.gaussian_process import GaussianProcessRegressor\n",
    "from sklearn.gaussian_process.kernels import RBF, ConstantKernel as C"
   ]
  },
  {
   "cell_type": "code",
   "execution_count": null,
   "id": "devoted-context",
   "metadata": {},
   "outputs": [],
   "source": [
    "from matplotlib import pyplot as plt\n",
    "%matplotlib inline\n"
   ]
  },
  {
   "cell_type": "code",
   "execution_count": null,
   "id": "christian-revolution",
   "metadata": {},
   "outputs": [],
   "source": [
    "def sample(x, f, noise_f):\n",
    "    y = f(x)\n",
    "    stddev_x = noise_f(x)    \n",
    "    noise = np.random.normal(0, stddev_x)\n",
    "    y += noise\n",
    "        \n",
    "    return y, stddev_x\n",
    "\n",
    "def sample_and_fit_gp(x, f, noise_f):\n",
    "    y, stddev_x = sample(x, f, noise_f)    \n",
    "    gp = fit_gp(x, y, stddev_x)\n",
    "    \n",
    "    return gp, y, stddev_x\n",
    "\n",
    "\n",
    "def fit_gp(x, y, std):\n",
    "    x = np.asarray(x)\n",
    "    y = np.asarray(y)\n",
    "    std = np.asarray(std)\n",
    "    \n",
    "    #kernel = C(1.0, (1e-3, 1e3)) * RBF(1, (1e-2, 1e2))\n",
    "    kernel = RBF(1, (1e-2, 1e2))\n",
    "    #kernel = RBF(0.1, (1e-2, 1e2))\n",
    "    # Instantiate a Gaussian Process model\n",
    "    gp = GaussianProcessRegressor(kernel=kernel, alpha=std ** 2,\n",
    "                                  n_restarts_optimizer=10)\n",
    "    \n",
    "    # Fit to data using Maximum Likelihood Estimation of the parameters\n",
    "    gp.fit(x[:, None], y)\n",
    "    \n",
    "    return gp"
   ]
  },
  {
   "cell_type": "code",
   "execution_count": null,
   "id": "nervous-diary",
   "metadata": {},
   "outputs": [],
   "source": [
    "def plot_stddev(x, y, sigma, axes=None, label='95% confidence interval'):\n",
    "    if axes is None:\n",
    "        axes = plt.gca()\n",
    "        \n",
    "    axes.fill(np.concatenate([x, x[::-1]]),\n",
    "             np.concatenate([\n",
    "                 y - 1.9600 * sigma,\n",
    "                 (y + 1.9600 * sigma)[::-1]\n",
    "             ]),\n",
    "             alpha=.25,\n",
    "             fc='b',\n",
    "             ec='None',\n",
    "             label=label)\n"
   ]
  },
  {
   "cell_type": "code",
   "execution_count": null,
   "id": "expired-idaho",
   "metadata": {},
   "outputs": [],
   "source": [
    "def plot_gp(gp, obs_x, obs_y, obs_stddev, padding=None, axes=None):\n",
    "    if padding is None:\n",
    "        padding = PLOT_GP_PADDING\n",
    "    if axes is None:\n",
    "        axes = plt.gca()\n",
    "\n",
    "    obs_x = np.asarray(obs_x)\n",
    "    obs_y = np.asarray(obs_y)\n",
    "\n",
    "    x_min = obs_x.min() - padding\n",
    "    x_max = obs_x.max() + padding\n",
    "\n",
    "    axes.set_xlim(x_min, x_max)\n",
    "\n",
    "    x = np.linspace(x_min, x_max, 1000)\n",
    "    y, sigma = gp.predict(x[:, None], return_std=True)\n",
    "\n",
    "    axes.errorbar(obs_x,\n",
    "                 obs_y,\n",
    "                 obs_stddev,\n",
    "                 fmt='rx',\n",
    "                 markersize=10,\n",
    "                 label=u'Training Data')\n",
    "    axes.plot(x, y, 'b-', label=u'Prediction')\n",
    "\n",
    "    plot_stddev(x, y, sigma)\n",
    "\n",
    "    return x, y, sigma"
   ]
  },
  {
   "cell_type": "code",
   "execution_count": null,
   "id": "finished-petroleum",
   "metadata": {},
   "outputs": [
    {
     "data": {
      "image/png": "[encoded data removed]",
      "text/plain": [
       "<Figure size 432x288 with 1 Axes>"
      ]
     },
     "metadata": {
      "needs_background": "light"
     },
     "output_type": "display_data"
    }
   ],
   "source": [
    "x = [0]\n",
    "y = [2]\n",
    "stddev = 0.05\n",
    "gp = fit_gp(x, y, stddev)\n",
    "    \n",
    "plot_gp(gp, x, y, stddev)\n",
    "\n",
    "   \n",
    "plt.show()"
   ]
  },
  {
   "cell_type": "code",
   "execution_count": null,
   "id": "ruled-protection",
   "metadata": {},
   "outputs": [],
   "source": [
    "def BALD(gp: GaussianProcessRegressor, x, stddev):\n",
    "    y_mean, y_stddev = gp.predict([[x]], return_std=True)\n",
    "\n",
    "    bald_value = norm(scale=y_stddev+stddev).entropy() - norm(scale=stddev).entropy()\n",
    "    \n",
    "    return bald_value    "
   ]
  },
  {
   "cell_type": "code",
   "execution_count": null,
   "id": "blank-victory",
   "metadata": {},
   "outputs": [],
   "source": [
    "X = np.arange(-3,3, 0.1)\n",
    "bald_scores = [BALD(gp, x, stddev) for x in X]"
   ]
  },
  {
   "cell_type": "code",
   "execution_count": null,
   "id": "million-vampire",
   "metadata": {},
   "outputs": [
    {
     "data": {
      "text/plain": [
       "[<matplotlib.lines.Line2D at 0x7fdd9e5530d0>]"
      ]
     },
     "execution_count": null,
     "metadata": {},
     "output_type": "execute_result"
    },
    {
     "data": {
      "image/png": "[encoded data removed]",
      "text/plain": [
       "<Figure size 432x288 with 1 Axes>"
      ]
     },
     "metadata": {
      "needs_background": "light"
     },
     "output_type": "display_data"
    }
   ],
   "source": [
    "plot_gp(gp, x, y, stddev)\n",
    "plt.plot(X, bald_scores, c=\"g\", label=\"BALD\")"
   ]
  },
  {
   "cell_type": "code",
   "execution_count": null,
   "id": "compound-lotus",
   "metadata": {},
   "outputs": [],
   "source": [
    "def EPIG(gp: GaussianProcessRegressor, x, x_e, stddev):\n",
    "    Y_mean, cov = gp.predict([[x], [x_e]], return_cov=True)\n",
    "    \n",
    "    cov += np.diag([stddev, stddev])\n",
    "    \n",
    "    H_Y = norm(scale=cov[0, 0]**0.5).entropy()\n",
    "    H_Y_e = norm(scale=cov[1, 1]**0.5).entropy()\n",
    "        \n",
    "    H_Y__Y_e = multivariate_normal(Y_mean, cov=cov).entropy()\n",
    "    \n",
    "    #print(H_Y, H_Y_e, H_Y__Y_e)\n",
    "    \n",
    "    epig_value = H_Y + H_Y_e - H_Y__Y_e\n",
    "    \n",
    "    return epig_value"
   ]
  },
  {
   "cell_type": "code",
   "execution_count": null,
   "id": "included-laugh",
   "metadata": {},
   "outputs": [],
   "source": [
    "x_e = -1\n",
    "epig_scores = [EPIG(gp, x, x_e, stddev) for x in X]"
   ]
  },
  {
   "cell_type": "code",
   "execution_count": null,
   "id": "consecutive-british",
   "metadata": {},
   "outputs": [
    {
     "data": {
      "text/plain": [
       "(-2.5, 3.5)"
      ]
     },
     "execution_count": null,
     "metadata": {},
     "output_type": "execute_result"
    },
    {
     "data": {
      "image/png": "[encoded data removed]",
      "text/plain": [
       "<Figure size 432x288 with 1 Axes>"
      ]
     },
     "metadata": {
      "needs_background": "light"
     },
     "output_type": "display_data"
    }
   ],
   "source": [
    "plot_gp(gp, x, y, stddev)\n",
    "plt.plot(X, epig_scores, c=\"r\", linewidth=2, label=\"EPIG\")\n",
    "plt.plot(X, bald_scores, c=\"g\", linewidth=2, label=\"BALD\")\n",
    "#plt.scatter([x_e], [0], c=\"black\", marker=\"o\")\n",
    "\n",
    "plt.vlines([x_e], ymin=-4, ymax=4, colors=\"black\", label=\"Evaluation Set\")\n",
    "handles, labels = plt.gca().get_legend_handles_labels()\n",
    "hl = list(zip(handles, labels))\n",
    "hl = [hl[2], hl[1], hl[4], hl[5], hl[0], hl[3]]\n",
    "handles, labels = list(zip(*hl))\n",
    "plt.legend(handles, labels, loc='center left', bbox_to_anchor=(1, 0.5))\n",
    "plt.xlim([-2, 2])\n",
    "plt.ylim([-2.5, 3.5])"
   ]
  },
  {
   "cell_type": "code",
   "execution_count": null,
   "id": "excess-basics",
   "metadata": {},
   "outputs": [],
   "source": []
  }
 ],
 "metadata": {
  "kernelspec": {
   "display_name": "Python [conda env:active_learning]",
   "language": "python",
   "name": "conda-env-active_learning-py"
  }
 },
 "nbformat": 4,
 "nbformat_minor": 5
}
