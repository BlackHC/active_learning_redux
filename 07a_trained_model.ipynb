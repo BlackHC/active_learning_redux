{
 "cells": [
  {
   "cell_type": "markdown",
   "metadata": {},
   "source": [
    "# Trained Model Interface\n",
    "> \"Why simple, when you can use design patterns?\""
   ]
  },
  {
   "cell_type": "code",
   "execution_count": null,
   "metadata": {},
   "outputs": [],
   "source": [
    "# default_exp trained_model"
   ]
  },
  {
   "cell_type": "code",
   "execution_count": null,
   "metadata": {},
   "outputs": [
    {
     "name": "stdout",
     "output_type": "stream",
     "text": [
      "Appended /home/blackhc/PycharmProjects/bald-ical/src to paths\n",
      "Switched to directory /home/blackhc/PycharmProjects/bald-ical\n",
      "%load_ext autoreload\n",
      "%autoreload 2\n"
     ]
    }
   ],
   "source": [
    "# hide\n",
    "import blackhc.project.script\n",
    "from nbdev.showdoc import *"
   ]
  },
  {
   "cell_type": "code",
   "execution_count": null,
   "metadata": {},
   "outputs": [],
   "source": [
    "# exporti\n",
    "from dataclasses import dataclass\n",
    "\n",
    "import torch.nn\n",
    "\n",
    "from batchbald_redux.consistent_mc_dropout import (\n",
    "    BayesianModule,\n",
    "    get_ensemble_predictions_labels,\n",
    ")"
   ]
  },
  {
   "cell_type": "code",
   "execution_count": null,
   "metadata": {},
   "outputs": [],
   "source": [
    "# exports\n",
    "\n",
    "\n",
    "class TrainedModel:\n",
    "    \"\"\"Evaluate a trained model.\"\"\"\n",
    "\n",
    "    def get_log_probs_N_K_C_labels_N(self, pool_loader, device):\n",
    "        raise NotImplementedError()\n",
    "\n",
    "    def get_log_probs_N_K_C(self, loader, device):\n",
    "        return self.get_log_probs_N_K_C_labels_N(loader, device)[0]\n",
    "\n",
    "\n",
    "@dataclass\n",
    "class TrainedMCDropoutModel(TrainedModel):\n",
    "    num_samples: int\n",
    "    model: BayesianModule\n",
    "\n",
    "    def get_log_probs_N_K_C_labels_N(self, loader, device):\n",
    "        log_probs_N_K_C, labels_B = self.model.get_predictions_labels(\n",
    "            num_samples=self.num_samples,\n",
    "            loader=loader,\n",
    "            device=device,\n",
    "        )\n",
    "\n",
    "        return log_probs_N_K_C, labels_B\n",
    "\n",
    "\n",
    "@dataclass\n",
    "class TrainedEnsemble(TrainedModel):\n",
    "    models: [torch.nn.Module]\n",
    "\n",
    "    def get_log_probs_N_K_C_labels_N(self, pool_loader, device):\n",
    "        log_probs_N_K_C, labels_B = get_ensemble_predictions_labels(\n",
    "            modules=self.models, loader=pool_loader, device=device\n",
    "        )\n",
    "        return log_probs_N_K_C, labels_B"
   ]
  }
 ],
 "metadata": {
  "kernelspec": {
   "display_name": "Python [conda env:active_learning]",
   "language": "python",
   "name": "conda-env-active_learning-py"
  }
 },
 "nbformat": 4,
 "nbformat_minor": 4
}
