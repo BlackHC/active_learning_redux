{
 "cells": [
  {
   "cell_type": "markdown",
   "metadata": {},
   "source": [
    "# Black Box Model Training\n",
    "> \"Learning is not attained by chance, it must be sought for with ardor and attended to with diligence.” \n",
    ">\n",
    "> &mdash; <cite>Abigail Adams</cite>."
   ]
  },
  {
   "cell_type": "markdown",
   "metadata": {},
   "source": [
    "After looking at a simple example experiment, it is worth looking at the big picture. The big picture requires us to train different models with differently-sized datasets.\n",
    "\n",
    "We don't want to worry about fine-tuning training too much. Because we cannot."
   ]
  },
  {
   "cell_type": "code",
   "execution_count": null,
   "metadata": {},
   "outputs": [],
   "source": [
    "# default_exp black_box_model_training"
   ]
  },
  {
   "cell_type": "code",
   "execution_count": null,
   "metadata": {},
   "outputs": [
    {
     "name": "stdout",
     "output_type": "stream",
     "text": [
      "Appended /home/blackhc/PycharmProjects/bald-ical/src to paths\n",
      "Switched to directory /home/blackhc/PycharmProjects/bald-ical\n",
      "%load_ext autoreload\n",
      "%autoreload 2\n"
     ]
    }
   ],
   "source": [
    "# hide\n",
    "import blackhc.project.script\n",
    "from nbdev.showdoc import *"
   ]
  },
  {
   "cell_type": "markdown",
   "metadata": {},
   "source": [
    "## Goals\n",
    "\n",
    "* Log as much as possible by default.\n",
    "* Avoid magic numbers. Magic numbers don't work very well when everything keeps changing."
   ]
  },
  {
   "cell_type": "code",
   "execution_count": null,
   "metadata": {},
   "outputs": [],
   "source": [
    "# exporti\n",
    "\n",
    "from dataclasses import dataclass\n",
    "from typing import Optional\n",
    "import torch\n",
    "from blackhc.project import is_run_from_ipython\n",
    "from blackhc.project.utils.ignite_progress_bar import ignite_progress_bar\n",
    "from ignite.contrib.engines.common import setup_common_training_handlers\n",
    "from ignite.contrib.handlers import ProgressBar\n",
    "from ignite.engine import Events, create_supervised_evaluator, create_supervised_trainer\n",
    "from ignite.metrics import Accuracy, Loss, RunningAverage\n",
    "from torch import nn\n",
    "\n",
    "\n",
    "from batchbald_redux.consistent_mc_dropout import (\n",
    "    GeometricMeanPrediction,\n",
    "    SamplerModel,\n",
    "    multi_sample_loss, BayesianModule, get_log_mean_probs,\n",
    ")\n",
    "from batchbald_redux.restoring_early_stopping import (\n",
    "    PatienceWithSnapshot,\n",
    "    ReduceLROnPlateauWithScheduleWrapper,\n",
    "    RestoringEarlyStopping,\n",
    ")"
   ]
  },
  {
   "cell_type": "code",
   "execution_count": null,
   "metadata": {},
   "outputs": [],
   "source": [
    "# exports\n",
    "from batchbald_redux.trained_model import TrainedModel\n",
    "\n",
    "LOG_INTERVAL = 10\n",
    "\n",
    "\n",
    "def train(\n",
    "    *,\n",
    "    model,\n",
    "    training_samples,\n",
    "    validation_samples,\n",
    "    train_loader,\n",
    "    validation_loader,\n",
    "    patience: Optional[int],\n",
    "    max_epochs: int,\n",
    "    device: str,\n",
    "    training_log: dict,\n",
    "    loss=None,\n",
    "    validation_loss=None,\n",
    "    optimizer=None,\n",
    "    prefer_accuracy=True,\n",
    "    train_augmentations=None,\n",
    "):\n",
    "    if not len(train_loader.dataset):\n",
    "        return optimizer\n",
    "\n",
    "    if loss is None:\n",
    "        loss = nn.NLLLoss()\n",
    "    if validation_loss is None:\n",
    "        validation_loss = loss\n",
    "\n",
    "    train_model = SamplerModel(model, training_samples)\n",
    "    if train_augmentations is not None:\n",
    "        train_model = torch.nn.Sequential(train_augmentations, train_model)\n",
    "\n",
    "    validation_model = GeometricMeanPrediction(SamplerModel(model, validation_samples))\n",
    "\n",
    "    # Move model to device before creating the optimizer\n",
    "    train_model.to(device)\n",
    "\n",
    "    if optimizer is None:\n",
    "        optimizer = torch.optim.Adam(model.parameters(), weight_decay=5e-4)\n",
    "\n",
    "    trainer = create_supervised_trainer(train_model, optimizer, loss_fn=multi_sample_loss(loss), device=device)\n",
    "\n",
    "    metrics = create_metrics(validation_loss)\n",
    "\n",
    "    validation_evaluator = create_supervised_evaluator(validation_model, metrics=metrics, device=device)\n",
    "\n",
    "    @trainer.on(Events.EPOCH_COMPLETED)\n",
    "    def compute_metrics(engine):\n",
    "        validation_evaluator.run(validation_loader)\n",
    "\n",
    "    # Only to look nicer.\n",
    "    RunningAverage(output_transform=lambda x: x).attach(trainer, \"crossentropy\")\n",
    "\n",
    "    enable_tqdm_pbars = is_run_from_ipython()\n",
    "\n",
    "    setup_common_training_handlers(\n",
    "        trainer, with_pbars=enable_tqdm_pbars, with_gpu_stats=torch.cuda.is_available(), log_every_iters=LOG_INTERVAL\n",
    "    )\n",
    "\n",
    "    if enable_tqdm_pbars:\n",
    "        ProgressBar(persist=False).attach(\n",
    "            validation_evaluator,\n",
    "            metric_names=\"all\",\n",
    "            event_name=Events.ITERATION_COMPLETED(every=LOG_INTERVAL),\n",
    "        )\n",
    "    else:\n",
    "        ignite_progress_bar(trainer, desc=lambda engine: \"Training\", log_interval=LOG_INTERVAL)\n",
    "\n",
    "    training_log[\"epochs\"] = []\n",
    "    epochs_log = training_log[\"epochs\"]\n",
    "\n",
    "    # Logging\n",
    "    @validation_evaluator.on(Events.EPOCH_COMPLETED)\n",
    "    def log_training_results(engine):\n",
    "        metrics = dict(engine.state.metrics)\n",
    "        epochs_log.append(metrics)\n",
    "\n",
    "        if is_run_from_ipython():\n",
    "            print(f\"Epoch metrics: {metrics}\")\n",
    "\n",
    "    # Add early stopping\n",
    "    if patience is not None:\n",
    "        if prefer_accuracy:\n",
    "\n",
    "            def score_function():\n",
    "                return float(validation_evaluator.state.metrics[\"accuracy\"])\n",
    "\n",
    "        else:\n",
    "\n",
    "            def score_function():\n",
    "                return float(-validation_evaluator.state.metrics[\"crossentropy\"])\n",
    "\n",
    "        early_stopping = RestoringEarlyStopping(\n",
    "            patience=patience,\n",
    "            score_function=score_function,\n",
    "            module=model,\n",
    "            optimizer=optimizer,\n",
    "            training_engine=trainer,\n",
    "            validation_engine=validation_evaluator,\n",
    "        )\n",
    "    else:\n",
    "        early_stopping = None\n",
    "\n",
    "    # Kick everything off\n",
    "    trainer.run(train_loader, max_epochs=max_epochs)\n",
    "\n",
    "    if early_stopping:\n",
    "        training_log[\"best_epoch\"] = early_stopping.best_epoch\n",
    "\n",
    "    # Return the optimizer in case we want to continue training.\n",
    "    return optimizer"
   ]
  },
  {
   "cell_type": "code",
   "execution_count": null,
   "metadata": {},
   "outputs": [],
   "source": [
    "# exports\n",
    "\n",
    "\n",
    "def train_with_schedule(\n",
    "    *,\n",
    "    model,\n",
    "    training_samples,\n",
    "    validation_samples,\n",
    "    train_loader,\n",
    "    validation_loader,\n",
    "    patience_schedule: [int],\n",
    "    factor_schedule: [int],\n",
    "    max_epochs: int,\n",
    "    device: str,\n",
    "    training_log: dict,\n",
    "    loss=None,\n",
    "    validation_loss=None,\n",
    "    optimizer=None,\n",
    "    prefer_accuracy=True,\n",
    "    train_augmentations=None,\n",
    "):\n",
    "    if not len(train_loader.dataset):\n",
    "        return optimizer\n",
    "\n",
    "    if loss is None:\n",
    "        loss = nn.NLLLoss()\n",
    "    if validation_loss is None:\n",
    "        validation_loss = loss\n",
    "\n",
    "    train_model = SamplerModel(model, training_samples)\n",
    "    if train_augmentations is not None:\n",
    "        train_model = torch.nn.Sequential(train_augmentations, train_model)\n",
    "\n",
    "    validation_model = GeometricMeanPrediction(SamplerModel(model, validation_samples))\n",
    "\n",
    "    # Move model to device before creating the optimizer\n",
    "    train_model.to(device)\n",
    "\n",
    "    if optimizer is None:\n",
    "        optimizer = torch.optim.Adam(model.parameters(), weight_decay=5e-4)\n",
    "\n",
    "    trainer = create_supervised_trainer(train_model, optimizer, loss_fn=multi_sample_loss(loss), device=device)\n",
    "\n",
    "    metrics = create_metrics(validation_loss)\n",
    "\n",
    "    validation_evaluator = create_supervised_evaluator(validation_model, metrics=metrics, device=device)\n",
    "\n",
    "    @trainer.on(Events.EPOCH_COMPLETED)\n",
    "    def compute_metrics(engine):\n",
    "        validation_evaluator.run(validation_loader)\n",
    "\n",
    "    # Only to look nicer.\n",
    "    RunningAverage(output_transform=lambda x: x).attach(trainer, \"crossentropy\")\n",
    "\n",
    "    enable_tqdm_pbars = is_run_from_ipython()\n",
    "\n",
    "    setup_common_training_handlers(\n",
    "        trainer, with_pbars=enable_tqdm_pbars, with_gpu_stats=torch.cuda.is_available(), log_every_iters=LOG_INTERVAL\n",
    "    )\n",
    "\n",
    "    if enable_tqdm_pbars:\n",
    "        ProgressBar(persist=False).attach(\n",
    "            validation_evaluator,\n",
    "            metric_names=\"all\",\n",
    "            event_name=Events.ITERATION_COMPLETED(every=LOG_INTERVAL),\n",
    "        )\n",
    "    else:\n",
    "        ignite_progress_bar(trainer, desc=lambda engine: \"Training\", log_interval=LOG_INTERVAL)\n",
    "\n",
    "    training_log[\"epochs\"] = []\n",
    "    epochs_log = training_log[\"epochs\"]\n",
    "\n",
    "    # Logging\n",
    "    @validation_evaluator.on(Events.EPOCH_COMPLETED)\n",
    "    def log_training_results(engine):\n",
    "        metrics = dict(engine.state.metrics)\n",
    "        epochs_log.append(metrics)\n",
    "\n",
    "        if is_run_from_ipython():\n",
    "            print(f\"Epoch metrics: {metrics}\")\n",
    "\n",
    "    if prefer_accuracy:\n",
    "        def score_function(metrics):\n",
    "            return float(metrics[\"accuracy\"])\n",
    "\n",
    "    else:\n",
    "\n",
    "        def score_function(metrics):\n",
    "            return float(metrics[\"crossentropy\"])\n",
    "\n",
    "    training_log[\"era_epochs\"] = []\n",
    "\n",
    "    def next_era_callback():\n",
    "        training_log[\"era_epochs\"].append(trainer.state.epoch)\n",
    "\n",
    "    scheduler = ReduceLROnPlateauWithScheduleWrapper(\n",
    "        optimizer,\n",
    "        metrics_transform=score_function,\n",
    "        factor_schedule=factor_schedule,\n",
    "        patience_schedule=patience_schedule,\n",
    "        end_callback=trainer.terminate,\n",
    "        next_era_callback=next_era_callback,\n",
    "        mode=\"max\" if prefer_accuracy else \"min\",\n",
    "        verbose=True,\n",
    "    )\n",
    "\n",
    "    @validation_evaluator.on(Events.EPOCH_COMPLETED)\n",
    "    def step_scheduler(engine):\n",
    "        scheduler.step(engine)\n",
    "\n",
    "    # Kick everything off\n",
    "    trainer.run(train_loader, max_epochs=max_epochs)\n",
    "\n",
    "    # Return the optimizer in case we want to continue training.\n",
    "    return optimizer\n",
    "\n",
    "\n",
    "def train_with_cosine_annealing(\n",
    "    *,\n",
    "    model,\n",
    "    training_samples,\n",
    "    validation_samples,\n",
    "    train_loader,\n",
    "    validation_loader,\n",
    "    max_epochs: int,\n",
    "    device: str,\n",
    "    training_log: dict,\n",
    "    loss=None,\n",
    "    validation_loss=None,\n",
    "    optimizer=None,\n",
    "    train_augmentations=None,\n",
    "):\n",
    "    if not len(train_loader.dataset):\n",
    "        return optimizer\n",
    "\n",
    "    if loss is None:\n",
    "        loss = nn.NLLLoss()\n",
    "    if validation_loss is None:\n",
    "        validation_loss = loss\n",
    "\n",
    "    train_model = SamplerModel(model, training_samples)\n",
    "    if train_augmentations is not None:\n",
    "        train_model = torch.nn.Sequential(train_augmentations, train_model)\n",
    "\n",
    "    validation_model = GeometricMeanPrediction(SamplerModel(model, validation_samples))\n",
    "\n",
    "    # Move model to device before creating the optimizer\n",
    "    train_model.to(device)\n",
    "\n",
    "    if optimizer is None:\n",
    "        optimizer = torch.optim.Adam(model.parameters(), weight_decay=5e-4)\n",
    "\n",
    "    trainer = create_supervised_trainer(train_model, optimizer, loss_fn=multi_sample_loss(loss), device=device)\n",
    "\n",
    "    metrics = create_metrics(validation_loss)\n",
    "\n",
    "    validation_evaluator = create_supervised_evaluator(validation_model, metrics=metrics, device=device)\n",
    "\n",
    "    @trainer.on(Events.EPOCH_COMPLETED)\n",
    "    def compute_metrics(engine):\n",
    "        validation_evaluator.run(validation_loader)\n",
    "\n",
    "    # Only to look nicer.\n",
    "    RunningAverage(output_transform=lambda x: x).attach(trainer, \"crossentropy\")\n",
    "\n",
    "    enable_tqdm_pbars = is_run_from_ipython()\n",
    "\n",
    "    setup_common_training_handlers(\n",
    "        trainer, with_pbars=enable_tqdm_pbars, with_gpu_stats=torch.cuda.is_available(), log_every_iters=LOG_INTERVAL\n",
    "    )\n",
    "\n",
    "    if enable_tqdm_pbars:\n",
    "        ProgressBar(persist=False).attach(\n",
    "            validation_evaluator,\n",
    "            metric_names=\"all\",\n",
    "            event_name=Events.ITERATION_COMPLETED(every=LOG_INTERVAL),\n",
    "        )\n",
    "    else:\n",
    "        ignite_progress_bar(trainer, desc=lambda engine: \"Training\", log_interval=LOG_INTERVAL)\n",
    "\n",
    "    training_log[\"epochs\"] = []\n",
    "    epochs_log = training_log[\"epochs\"]\n",
    "\n",
    "    # Logging\n",
    "    @validation_evaluator.on(Events.EPOCH_COMPLETED)\n",
    "    def log_training_results(engine):\n",
    "        metrics = dict(engine.state.metrics)\n",
    "        epochs_log.append(metrics)\n",
    "\n",
    "        if is_run_from_ipython():\n",
    "            print(f\"Epoch {trainer.state.epoch} metrics: {metrics}\")\n",
    "\n",
    "    scheduler = torch.optim.lr_scheduler.CosineAnnealingLR(\n",
    "        optimizer,\n",
    "        T_max=max_epochs\n",
    "    )\n",
    "\n",
    "    @validation_evaluator.on(Events.EPOCH_COMPLETED)\n",
    "    def step_scheduler(engine):\n",
    "        scheduler.step()\n",
    "\n",
    "    # Kick everything off\n",
    "    trainer.run(train_loader, max_epochs=max_epochs)\n",
    "\n",
    "    # Return the optimizer in case we want to continue training.\n",
    "    return optimizer"
   ]
  },
  {
   "cell_type": "code",
   "execution_count": null,
   "metadata": {},
   "outputs": [],
   "source": [
    "# exports\n",
    "\n",
    "\n",
    "@dataclass\n",
    "class ModelOptimizerStateDicts:\n",
    "    model_state_dict: object\n",
    "    optimizer_state_dict: object\n",
    "\n",
    "\n",
    "@dataclass\n",
    "class DoubleSnapshots:\n",
    "    high_accuracy: ModelOptimizerStateDicts\n",
    "    low_cross_entropy: ModelOptimizerStateDicts\n",
    "\n",
    "\n",
    "def train_double_snapshots(\n",
    "    *,\n",
    "    model: BayesianModule,\n",
    "    training_samples,\n",
    "    validation_samples,\n",
    "    train_loader,\n",
    "    validation_loader,\n",
    "    patience: int,\n",
    "    max_epochs: int,\n",
    "    device: str,\n",
    "    training_log: dict,\n",
    "    loss=None,\n",
    "    validation_loss=None,\n",
    "    optimizer=None,\n",
    "    train_augmentations: torch.nn.Module,\n",
    ") -> DoubleSnapshots:\n",
    "    if loss is None:\n",
    "        loss = nn.NLLLoss()\n",
    "    if validation_loss is None:\n",
    "        validation_loss = loss\n",
    "\n",
    "    train_model = SamplerModel(model, training_samples)\n",
    "    if train_augmentations is not None:\n",
    "        train_model = torch.nn.Sequential(train_augmentations, train_model)\n",
    "\n",
    "    validation_model = GeometricMeanPrediction(SamplerModel(model, validation_samples))\n",
    "\n",
    "    # Move model to device before creating the optimizer\n",
    "    train_model.to(device)\n",
    "\n",
    "    if optimizer is None:\n",
    "        optimizer = torch.optim.Adam(model.parameters(), weight_decay=5e-4)\n",
    "\n",
    "    trainer = create_supervised_trainer(train_model, optimizer, loss_fn=multi_sample_loss(loss), device=device)\n",
    "\n",
    "    metrics = create_metrics(validation_loss)\n",
    "\n",
    "    validation_evaluator = create_supervised_evaluator(validation_model, metrics=metrics, device=device)\n",
    "\n",
    "    @trainer.on(Events.EPOCH_COMPLETED)\n",
    "    def compute_metrics(engine):\n",
    "        validation_evaluator.run(validation_loader)\n",
    "\n",
    "    # Only to look nicer.\n",
    "    RunningAverage(output_transform=lambda x: x).attach(trainer, \"crossentropy\")\n",
    "\n",
    "    enable_tqdm_pbars = is_run_from_ipython()\n",
    "\n",
    "    setup_common_training_handlers(\n",
    "        trainer, with_pbars=enable_tqdm_pbars, with_gpu_stats=torch.cuda.is_available(), log_every_iters=LOG_INTERVAL\n",
    "    )\n",
    "\n",
    "    if enable_tqdm_pbars:\n",
    "        ProgressBar(persist=False).attach(\n",
    "            validation_evaluator,\n",
    "            metric_names=\"all\",\n",
    "            event_name=Events.ITERATION_COMPLETED(every=LOG_INTERVAL),\n",
    "        )\n",
    "    else:\n",
    "        ignite_progress_bar(trainer, desc=lambda engine: \"Training\", log_interval=LOG_INTERVAL)\n",
    "\n",
    "    training_log[\"epochs\"] = []\n",
    "    epochs_log = training_log[\"epochs\"]\n",
    "\n",
    "    # Logging\n",
    "    @validation_evaluator.on(Events.EPOCH_COMPLETED)\n",
    "    def log_training_results(engine):\n",
    "        metrics = dict(engine.state.metrics)\n",
    "        epochs_log.append(metrics)\n",
    "\n",
    "        if is_run_from_ipython():\n",
    "            print(f\"Epoch metrics: {metrics}\")\n",
    "\n",
    "    cross_entropy_state_dicts = None\n",
    "    accuracy_state_dicts = None\n",
    "\n",
    "    # Add early stopping\n",
    "    if patience is not None:\n",
    "\n",
    "        def cross_entropy_out_of_patience_callback(module_state_dict, optimizer_state_dict):\n",
    "            nonlocal cross_entropy_state_dicts\n",
    "            cross_entropy_state_dicts = ModelOptimizerStateDicts(\n",
    "                model_state_dict=module_state_dict, optimizer_state_dict=optimizer_state_dict\n",
    "            )\n",
    "            if cross_entropy_pws.is_out_of_patience() and accuracy_entropy_pws.is_out_of_patience():\n",
    "                trainer.terminate()\n",
    "\n",
    "        cross_entropy_pws = PatienceWithSnapshot(\n",
    "            name=\"LowCrossEntropy-\",\n",
    "            patience=patience,\n",
    "            score_function=lambda: float(-validation_evaluator.state.metrics[\"crossentropy\"]),\n",
    "            module=model,\n",
    "            optimizer=optimizer,\n",
    "            training_engine=trainer,\n",
    "            validation_engine=validation_evaluator,\n",
    "            out_of_patience_callback=cross_entropy_out_of_patience_callback,\n",
    "        )\n",
    "\n",
    "        def accuracy_out_of_patience_callback(module_state_dict, optimizer_state_dict):\n",
    "            nonlocal accuracy_state_dicts\n",
    "            accuracy_state_dicts = ModelOptimizerStateDicts(\n",
    "                model_state_dict=module_state_dict, optimizer_state_dict=optimizer_state_dict\n",
    "            )\n",
    "            if cross_entropy_pws.is_out_of_patience() and accuracy_entropy_pws.is_out_of_patience():\n",
    "                trainer.terminate()\n",
    "\n",
    "        accuracy_entropy_pws = PatienceWithSnapshot(\n",
    "            name=\"Accuracy-\",\n",
    "            patience=patience,\n",
    "            score_function=lambda: float(validation_evaluator.state.metrics[\"accuracy\"]),\n",
    "            module=model,\n",
    "            optimizer=optimizer,\n",
    "            training_engine=trainer,\n",
    "            validation_engine=validation_evaluator,\n",
    "            out_of_patience_callback=accuracy_out_of_patience_callback,\n",
    "        )\n",
    "\n",
    "    # Kick everything off\n",
    "    trainer.run(train_loader, max_epochs=max_epochs)\n",
    "\n",
    "    if cross_entropy_state_dicts:\n",
    "        training_log[\"cross_entropy_best_epoch\"] = cross_entropy_pws.best_epoch\n",
    "    else:\n",
    "        cross_entropy_state_dicts = ModelOptimizerStateDicts(\n",
    "            model_state_dict=model.state_dict(), optimizer_state_dict=optimizer.state_dict()\n",
    "        )\n",
    "\n",
    "    if accuracy_state_dicts:\n",
    "        training_log[\"cross_entropy_best_epoch\"] = cross_entropy_pws.best_epoch\n",
    "    else:\n",
    "        accuracy_state_dicts = ModelOptimizerStateDicts(\n",
    "            model_state_dict=model.state_dict(), optimizer_state_dict=optimizer.state_dict()\n",
    "        )\n",
    "\n",
    "    return DoubleSnapshots(accuracy_state_dicts, cross_entropy_state_dicts)"
   ]
  },
  {
   "cell_type": "code",
   "execution_count": null,
   "metadata": {},
   "outputs": [],
   "source": [
    "# exports\n",
    "\n",
    "\n",
    "def evaluate(*, model: TrainedModel, loader, num_samples, device, storage_device, loss=None):\n",
    "    log_probs_N_K_C, labels_N = model.get_log_probs_N_K_C_labels_N(loader=loader, num_samples=num_samples, device=device, storage_device=storage_device)\n",
    "\n",
    "\n",
    "    if loss is None:\n",
    "        loss = nn.NLLLoss()\n",
    "\n",
    "    log_prob_mean_N_C = get_log_mean_probs(log_probs_N_K_C)\n",
    "    crossentropy = loss(log_prob_mean_N_C, labels_N)\n",
    "    accuracy = torch.sum(torch.eq(torch.argmax(log_prob_mean_N_C, dim=1), labels_N)).item() / len(labels_N)\n",
    "\n",
    "    return dict(accuracy=accuracy, crossentropy=crossentropy)\n",
    "\n",
    "\n",
    "def evaluate_old(*, model, num_samples, loader, device, loss=None):\n",
    "    # TODO: rewrite this on top of TrainedModel?\n",
    "    # Add \"get_log_prob_predictions\" which returns the mean?\n",
    "    # Compute accuracy etc based on that?\n",
    "\n",
    "    # Move model to device\n",
    "    model.to(device)\n",
    "\n",
    "    evaluation_model = GeometricMeanPrediction(SamplerModel(model, num_samples))\n",
    "\n",
    "    if loss is None:\n",
    "        loss = nn.NLLLoss()\n",
    "\n",
    "    metrics = create_metrics(loss)\n",
    "\n",
    "    evaluator = create_supervised_evaluator(evaluation_model, metrics=metrics, device=device)\n",
    "\n",
    "    ProgressBar(persist=False).attach(\n",
    "        evaluator,\n",
    "        metric_names=\"all\",\n",
    "        event_name=Events.ITERATION_COMPLETED(every=LOG_INTERVAL),\n",
    "    )\n",
    "\n",
    "    # Kick everything off\n",
    "    evaluator.run(loader, max_epochs=1)\n",
    "\n",
    "    return evaluator.state.metrics\n",
    "\n",
    "\n",
    "def create_metrics(loss):\n",
    "    return {\"accuracy\": Accuracy(), \"crossentropy\": Loss(loss)}"
   ]
  },
  {
   "cell_type": "markdown",
   "metadata": {},
   "source": [
    "We want to use metrics that allow us to capture the quality of the produced uncertainty during training."
   ]
  },
  {
   "cell_type": "code",
   "execution_count": null,
   "metadata": {},
   "outputs": [],
   "source": [
    "# experiment\n",
    "\n",
    "import torch.utils.data\n",
    "\n",
    "from batchbald_redux.consistent_mc_dropout import GeometricMeanPrediction, SamplerModel\n",
    "from batchbald_redux.dataset_challenges import create_repeated_MNIST_dataset\n",
    "from batchbald_redux.models import BayesianMNISTCNN\n",
    "from batchbald_redux.fast_mnist import FastMNIST\n",
    "\n",
    "train_dataset, test_dataset = create_repeated_MNIST_dataset(num_repetitions=1, add_noise=False)\n",
    "\n",
    "train_loader = torch.utils.data.DataLoader(train_dataset * 0.5, batch_size=64)\n",
    "test_loader = torch.utils.data.DataLoader(test_dataset, batch_size=64, drop_last=False)"
   ]
  },
  {
   "cell_type": "code",
   "execution_count": null,
   "metadata": {},
   "outputs": [
    {
     "data": {
      "application/vnd.jupyter.widget-view+json": {
       "model_id": "2bbf392a62a045dd9c1a20e7a90dfeaf",
       "version_major": 2,
       "version_minor": 0
      },
      "text/plain": [
       " 33%|###3      | 1/3 [00:00<?, ?it/s]"
      ]
     },
     "metadata": {},
     "output_type": "display_data"
    },
    {
     "data": {
      "application/vnd.jupyter.widget-view+json": {
       "model_id": "",
       "version_major": 2,
       "version_minor": 0
      },
      "text/plain": [
       "[1/469]   0%|           [00:00<?]"
      ]
     },
     "metadata": {},
     "output_type": "display_data"
    },
    {
     "data": {
      "application/vnd.jupyter.widget-view+json": {
       "model_id": "",
       "version_major": 2,
       "version_minor": 0
      },
      "text/plain": [
       "[1/469]   0%|           [00:00<?]"
      ]
     },
     "metadata": {},
     "output_type": "display_data"
    },
    {
     "name": "stdout",
     "output_type": "stream",
     "text": [
      "Epoch metrics: {'accuracy': 0.9594, 'crossentropy': 0.2248309172709783}\n"
     ]
    },
    {
     "data": {
      "application/vnd.jupyter.widget-view+json": {
       "model_id": "",
       "version_major": 2,
       "version_minor": 0
      },
      "text/plain": [
       "[1/469]   0%|           [00:00<?]"
      ]
     },
     "metadata": {},
     "output_type": "display_data"
    },
    {
     "data": {
      "application/vnd.jupyter.widget-view+json": {
       "model_id": "",
       "version_major": 2,
       "version_minor": 0
      },
      "text/plain": [
       "[1/469]   0%|           [00:00<?]"
      ]
     },
     "metadata": {},
     "output_type": "display_data"
    },
    {
     "name": "stdout",
     "output_type": "stream",
     "text": [
      "Epoch metrics: {'accuracy': 0.9734666666666667, 'crossentropy': 0.1687226093451182}\n"
     ]
    },
    {
     "data": {
      "application/vnd.jupyter.widget-view+json": {
       "model_id": "",
       "version_major": 2,
       "version_minor": 0
      },
      "text/plain": [
       "[1/469]   0%|           [00:00<?]"
      ]
     },
     "metadata": {},
     "output_type": "display_data"
    },
    {
     "data": {
      "application/vnd.jupyter.widget-view+json": {
       "model_id": "",
       "version_major": 2,
       "version_minor": 0
      },
      "text/plain": [
       "[1/469]   0%|           [00:00<?]"
      ]
     },
     "metadata": {},
     "output_type": "display_data"
    },
    {
     "name": "stdout",
     "output_type": "stream",
     "text": [
      "Epoch metrics: {'accuracy': 0.9788666666666667, 'crossentropy': 0.13679596647024156}\n",
      "RestoringEarlyStopping: Restoring best parameters. (Score: 0.9788666666666667)\n",
      "RestoringEarlyStopping: Restoring optimizer.\n"
     ]
    },
    {
     "data": {
      "text/plain": [
       "{'epochs': [{'accuracy': 0.9594, 'crossentropy': 0.2248309172709783},\n",
       "  {'accuracy': 0.9734666666666667, 'crossentropy': 0.1687226093451182},\n",
       "  {'accuracy': 0.9788666666666667, 'crossentropy': 0.13679596647024156}],\n",
       " 'best_epoch': 3}"
      ]
     },
     "execution_count": null,
     "metadata": {},
     "output_type": "execute_result"
    }
   ],
   "source": [
    "# experiment\n",
    "\n",
    "model = BayesianMNISTCNN()\n",
    "\n",
    "training_log = {}\n",
    "\n",
    "train(\n",
    "    model=model,\n",
    "    training_samples=1,\n",
    "    validation_samples=4,\n",
    "    train_loader=train_loader,\n",
    "    validation_loader=train_loader,\n",
    "    patience=3,\n",
    "    max_epochs=3,\n",
    "    device=\"cuda\",\n",
    "    training_log=training_log,\n",
    ")\n",
    "\n",
    "training_log"
   ]
  },
  {
   "cell_type": "code",
   "execution_count": null,
   "metadata": {},
   "outputs": [
    {
     "data": {
      "application/vnd.jupyter.widget-view+json": {
       "model_id": "",
       "version_major": 2,
       "version_minor": 0
      },
      "text/plain": [
       "[1/157]   1%|           [00:00<?]"
      ]
     },
     "metadata": {},
     "output_type": "display_data"
    },
    {
     "data": {
      "text/plain": [
       "{'accuracy': 0.9715, 'crossentropy': 0.1681874878913164}"
      ]
     },
     "execution_count": null,
     "metadata": {},
     "output_type": "execute_result"
    }
   ],
   "source": [
    "evaluate_old(model=model, num_samples=4, loader=test_loader, device=\"cuda\")"
   ]
  },
  {
   "cell_type": "code",
   "execution_count": null,
   "metadata": {},
   "outputs": [
    {
     "data": {
      "application/vnd.jupyter.widget-view+json": {
       "model_id": "3fa6ab9a89f74c1badfa1445cc43d6e8",
       "version_major": 2,
       "version_minor": 0
      },
      "text/plain": [
       "  2%|1         | 1/60 [00:00<?, ?it/s]"
      ]
     },
     "metadata": {},
     "output_type": "display_data"
    },
    {
     "data": {
      "application/vnd.jupyter.widget-view+json": {
       "model_id": "",
       "version_major": 2,
       "version_minor": 0
      },
      "text/plain": [
       "[1/47]   2%|2          [00:00<?]"
      ]
     },
     "metadata": {},
     "output_type": "display_data"
    },
    {
     "data": {
      "application/vnd.jupyter.widget-view+json": {
       "model_id": "",
       "version_major": 2,
       "version_minor": 0
      },
      "text/plain": [
       "[1/157]   1%|           [00:00<?]"
      ]
     },
     "metadata": {},
     "output_type": "display_data"
    },
    {
     "name": "stdout",
     "output_type": "stream",
     "text": [
      "Epoch metrics: {'accuracy': 0.8138, 'crossentropy': 0.8318569969177246}\n"
     ]
    },
    {
     "data": {
      "application/vnd.jupyter.widget-view+json": {
       "model_id": "",
       "version_major": 2,
       "version_minor": 0
      },
      "text/plain": [
       "[1/47]   2%|2          [00:00<?]"
      ]
     },
     "metadata": {},
     "output_type": "display_data"
    },
    {
     "data": {
      "application/vnd.jupyter.widget-view+json": {
       "model_id": "",
       "version_major": 2,
       "version_minor": 0
      },
      "text/plain": [
       "[1/157]   1%|           [00:00<?]"
      ]
     },
     "metadata": {},
     "output_type": "display_data"
    },
    {
     "name": "stdout",
     "output_type": "stream",
     "text": [
      "Epoch metrics: {'accuracy': 0.9051, 'crossentropy': 0.5015810224533082}\n"
     ]
    },
    {
     "data": {
      "application/vnd.jupyter.widget-view+json": {
       "model_id": "",
       "version_major": 2,
       "version_minor": 0
      },
      "text/plain": [
       "[1/47]   2%|2          [00:00<?]"
      ]
     },
     "metadata": {},
     "output_type": "display_data"
    },
    {
     "data": {
      "application/vnd.jupyter.widget-view+json": {
       "model_id": "",
       "version_major": 2,
       "version_minor": 0
      },
      "text/plain": [
       "[1/157]   1%|           [00:00<?]"
      ]
     },
     "metadata": {},
     "output_type": "display_data"
    },
    {
     "name": "stdout",
     "output_type": "stream",
     "text": [
      "Epoch metrics: {'accuracy': 0.9231, 'crossentropy': 0.4067144854307175}\n"
     ]
    },
    {
     "data": {
      "application/vnd.jupyter.widget-view+json": {
       "model_id": "",
       "version_major": 2,
       "version_minor": 0
      },
      "text/plain": [
       "[1/47]   2%|2          [00:00<?]"
      ]
     },
     "metadata": {},
     "output_type": "display_data"
    },
    {
     "data": {
      "application/vnd.jupyter.widget-view+json": {
       "model_id": "",
       "version_major": 2,
       "version_minor": 0
      },
      "text/plain": [
       "[1/157]   1%|           [00:00<?]"
      ]
     },
     "metadata": {},
     "output_type": "display_data"
    },
    {
     "name": "stdout",
     "output_type": "stream",
     "text": [
      "Epoch metrics: {'accuracy': 0.9376, 'crossentropy': 0.33887774846553803}\n"
     ]
    },
    {
     "data": {
      "application/vnd.jupyter.widget-view+json": {
       "model_id": "",
       "version_major": 2,
       "version_minor": 0
      },
      "text/plain": [
       "[1/47]   2%|2          [00:00<?]"
      ]
     },
     "metadata": {},
     "output_type": "display_data"
    },
    {
     "data": {
      "application/vnd.jupyter.widget-view+json": {
       "model_id": "",
       "version_major": 2,
       "version_minor": 0
      },
      "text/plain": [
       "[1/157]   1%|           [00:00<?]"
      ]
     },
     "metadata": {},
     "output_type": "display_data"
    },
    {
     "name": "stdout",
     "output_type": "stream",
     "text": [
      "Epoch metrics: {'accuracy': 0.9488, 'crossentropy': 0.284973241519928}\n"
     ]
    },
    {
     "data": {
      "application/vnd.jupyter.widget-view+json": {
       "model_id": "",
       "version_major": 2,
       "version_minor": 0
      },
      "text/plain": [
       "[1/47]   2%|2          [00:00<?]"
      ]
     },
     "metadata": {},
     "output_type": "display_data"
    },
    {
     "data": {
      "application/vnd.jupyter.widget-view+json": {
       "model_id": "",
       "version_major": 2,
       "version_minor": 0
      },
      "text/plain": [
       "[1/157]   1%|           [00:00<?]"
      ]
     },
     "metadata": {},
     "output_type": "display_data"
    },
    {
     "name": "stdout",
     "output_type": "stream",
     "text": [
      "Epoch metrics: {'accuracy': 0.9463, 'crossentropy': 0.2858008557677269}\n",
      "Epoch 6: 0.9463 worse than 0.9488, patience: 1/3!\n"
     ]
    },
    {
     "data": {
      "application/vnd.jupyter.widget-view+json": {
       "model_id": "",
       "version_major": 2,
       "version_minor": 0
      },
      "text/plain": [
       "[1/47]   2%|2          [00:00<?]"
      ]
     },
     "metadata": {},
     "output_type": "display_data"
    },
    {
     "data": {
      "application/vnd.jupyter.widget-view+json": {
       "model_id": "",
       "version_major": 2,
       "version_minor": 0
      },
      "text/plain": [
       "[1/157]   1%|           [00:00<?]"
      ]
     },
     "metadata": {},
     "output_type": "display_data"
    },
    {
     "name": "stdout",
     "output_type": "stream",
     "text": [
      "Epoch metrics: {'accuracy': 0.9544, 'crossentropy': 0.2509216430902481}\n"
     ]
    },
    {
     "data": {
      "application/vnd.jupyter.widget-view+json": {
       "model_id": "",
       "version_major": 2,
       "version_minor": 0
      },
      "text/plain": [
       "[1/47]   2%|2          [00:00<?]"
      ]
     },
     "metadata": {},
     "output_type": "display_data"
    },
    {
     "data": {
      "application/vnd.jupyter.widget-view+json": {
       "model_id": "",
       "version_major": 2,
       "version_minor": 0
      },
      "text/plain": [
       "[1/157]   1%|           [00:00<?]"
      ]
     },
     "metadata": {},
     "output_type": "display_data"
    },
    {
     "name": "stdout",
     "output_type": "stream",
     "text": [
      "Epoch metrics: {'accuracy': 0.9573, 'crossentropy': 0.2428978340089321}\n"
     ]
    },
    {
     "data": {
      "application/vnd.jupyter.widget-view+json": {
       "model_id": "",
       "version_major": 2,
       "version_minor": 0
      },
      "text/plain": [
       "[1/47]   2%|2          [00:00<?]"
      ]
     },
     "metadata": {},
     "output_type": "display_data"
    },
    {
     "data": {
      "application/vnd.jupyter.widget-view+json": {
       "model_id": "",
       "version_major": 2,
       "version_minor": 0
      },
      "text/plain": [
       "[1/157]   1%|           [00:00<?]"
      ]
     },
     "metadata": {},
     "output_type": "display_data"
    },
    {
     "name": "stdout",
     "output_type": "stream",
     "text": [
      "Epoch metrics: {'accuracy': 0.9608, 'crossentropy': 0.22644489660859107}\n"
     ]
    },
    {
     "data": {
      "application/vnd.jupyter.widget-view+json": {
       "model_id": "",
       "version_major": 2,
       "version_minor": 0
      },
      "text/plain": [
       "[1/47]   2%|2          [00:00<?]"
      ]
     },
     "metadata": {},
     "output_type": "display_data"
    },
    {
     "data": {
      "application/vnd.jupyter.widget-view+json": {
       "model_id": "",
       "version_major": 2,
       "version_minor": 0
      },
      "text/plain": [
       "[1/157]   1%|           [00:00<?]"
      ]
     },
     "metadata": {},
     "output_type": "display_data"
    },
    {
     "name": "stdout",
     "output_type": "stream",
     "text": [
      "Epoch metrics: {'accuracy': 0.9608, 'crossentropy': 0.21278315509557724}\n",
      "Epoch 10: 0.9608 worse than 0.9608, patience: 1/3!\n"
     ]
    },
    {
     "data": {
      "application/vnd.jupyter.widget-view+json": {
       "model_id": "",
       "version_major": 2,
       "version_minor": 0
      },
      "text/plain": [
       "[1/47]   2%|2          [00:00<?]"
      ]
     },
     "metadata": {},
     "output_type": "display_data"
    },
    {
     "data": {
      "application/vnd.jupyter.widget-view+json": {
       "model_id": "",
       "version_major": 2,
       "version_minor": 0
      },
      "text/plain": [
       "[1/157]   1%|           [00:00<?]"
      ]
     },
     "metadata": {},
     "output_type": "display_data"
    },
    {
     "name": "stdout",
     "output_type": "stream",
     "text": [
      "Epoch metrics: {'accuracy': 0.9618, 'crossentropy': 0.2145445026308298}\n"
     ]
    },
    {
     "data": {
      "application/vnd.jupyter.widget-view+json": {
       "model_id": "",
       "version_major": 2,
       "version_minor": 0
      },
      "text/plain": [
       "[1/47]   2%|2          [00:00<?]"
      ]
     },
     "metadata": {},
     "output_type": "display_data"
    },
    {
     "data": {
      "application/vnd.jupyter.widget-view+json": {
       "model_id": "",
       "version_major": 2,
       "version_minor": 0
      },
      "text/plain": [
       "[1/157]   1%|           [00:00<?]"
      ]
     },
     "metadata": {},
     "output_type": "display_data"
    },
    {
     "name": "stdout",
     "output_type": "stream",
     "text": [
      "Epoch metrics: {'accuracy': 0.963, 'crossentropy': 0.21237999706566335}\n"
     ]
    },
    {
     "data": {
      "application/vnd.jupyter.widget-view+json": {
       "model_id": "",
       "version_major": 2,
       "version_minor": 0
      },
      "text/plain": [
       "[1/47]   2%|2          [00:00<?]"
      ]
     },
     "metadata": {},
     "output_type": "display_data"
    },
    {
     "data": {
      "application/vnd.jupyter.widget-view+json": {
       "model_id": "",
       "version_major": 2,
       "version_minor": 0
      },
      "text/plain": [
       "[1/157]   1%|           [00:00<?]"
      ]
     },
     "metadata": {},
     "output_type": "display_data"
    },
    {
     "name": "stdout",
     "output_type": "stream",
     "text": [
      "Epoch metrics: {'accuracy': 0.9631, 'crossentropy': 0.21369002146720886}\n"
     ]
    },
    {
     "data": {
      "application/vnd.jupyter.widget-view+json": {
       "model_id": "",
       "version_major": 2,
       "version_minor": 0
      },
      "text/plain": [
       "[1/47]   2%|2          [00:00<?]"
      ]
     },
     "metadata": {},
     "output_type": "display_data"
    },
    {
     "data": {
      "application/vnd.jupyter.widget-view+json": {
       "model_id": "",
       "version_major": 2,
       "version_minor": 0
      },
      "text/plain": [
       "[1/157]   1%|           [00:00<?]"
      ]
     },
     "metadata": {},
     "output_type": "display_data"
    },
    {
     "name": "stdout",
     "output_type": "stream",
     "text": [
      "Epoch metrics: {'accuracy': 0.9673, 'crossentropy': 0.188571187569201}\n"
     ]
    },
    {
     "data": {
      "application/vnd.jupyter.widget-view+json": {
       "model_id": "",
       "version_major": 2,
       "version_minor": 0
      },
      "text/plain": [
       "[1/47]   2%|2          [00:00<?]"
      ]
     },
     "metadata": {},
     "output_type": "display_data"
    },
    {
     "data": {
      "application/vnd.jupyter.widget-view+json": {
       "model_id": "",
       "version_major": 2,
       "version_minor": 0
      },
      "text/plain": [
       "[1/157]   1%|           [00:00<?]"
      ]
     },
     "metadata": {},
     "output_type": "display_data"
    },
    {
     "name": "stdout",
     "output_type": "stream",
     "text": [
      "Epoch metrics: {'accuracy': 0.9667, 'crossentropy': 0.1944719546556473}\n",
      "Epoch 15: 0.9667 worse than 0.9673, patience: 1/3!\n"
     ]
    },
    {
     "data": {
      "application/vnd.jupyter.widget-view+json": {
       "model_id": "",
       "version_major": 2,
       "version_minor": 0
      },
      "text/plain": [
       "[1/47]   2%|2          [00:00<?]"
      ]
     },
     "metadata": {},
     "output_type": "display_data"
    },
    {
     "data": {
      "application/vnd.jupyter.widget-view+json": {
       "model_id": "",
       "version_major": 2,
       "version_minor": 0
      },
      "text/plain": [
       "[1/157]   1%|           [00:00<?]"
      ]
     },
     "metadata": {},
     "output_type": "display_data"
    },
    {
     "name": "stdout",
     "output_type": "stream",
     "text": [
      "Epoch metrics: {'accuracy': 0.9679, 'crossentropy': 0.19227623180747033}\n"
     ]
    },
    {
     "data": {
      "application/vnd.jupyter.widget-view+json": {
       "model_id": "",
       "version_major": 2,
       "version_minor": 0
      },
      "text/plain": [
       "[1/47]   2%|2          [00:00<?]"
      ]
     },
     "metadata": {},
     "output_type": "display_data"
    },
    {
     "data": {
      "application/vnd.jupyter.widget-view+json": {
       "model_id": "",
       "version_major": 2,
       "version_minor": 0
      },
      "text/plain": [
       "[1/157]   1%|           [00:00<?]"
      ]
     },
     "metadata": {},
     "output_type": "display_data"
    },
    {
     "name": "stdout",
     "output_type": "stream",
     "text": [
      "Epoch metrics: {'accuracy': 0.9673, 'crossentropy': 0.20758895537257194}\n",
      "Epoch 17: 0.9673 worse than 0.9679, patience: 1/3!\n"
     ]
    },
    {
     "data": {
      "application/vnd.jupyter.widget-view+json": {
       "model_id": "",
       "version_major": 2,
       "version_minor": 0
      },
      "text/plain": [
       "[1/47]   2%|2          [00:00<?]"
      ]
     },
     "metadata": {},
     "output_type": "display_data"
    },
    {
     "data": {
      "application/vnd.jupyter.widget-view+json": {
       "model_id": "",
       "version_major": 2,
       "version_minor": 0
      },
      "text/plain": [
       "[1/157]   1%|           [00:00<?]"
      ]
     },
     "metadata": {},
     "output_type": "display_data"
    },
    {
     "name": "stdout",
     "output_type": "stream",
     "text": [
      "Epoch metrics: {'accuracy': 0.9689, 'crossentropy': 0.19289123542010783}\n"
     ]
    },
    {
     "data": {
      "application/vnd.jupyter.widget-view+json": {
       "model_id": "",
       "version_major": 2,
       "version_minor": 0
      },
      "text/plain": [
       "[1/47]   2%|2          [00:00<?]"
      ]
     },
     "metadata": {},
     "output_type": "display_data"
    },
    {
     "data": {
      "application/vnd.jupyter.widget-view+json": {
       "model_id": "",
       "version_major": 2,
       "version_minor": 0
      },
      "text/plain": [
       "[1/157]   1%|           [00:00<?]"
      ]
     },
     "metadata": {},
     "output_type": "display_data"
    },
    {
     "name": "stdout",
     "output_type": "stream",
     "text": [
      "Epoch metrics: {'accuracy': 0.9701, 'crossentropy': 0.18630976665019988}\n"
     ]
    },
    {
     "data": {
      "application/vnd.jupyter.widget-view+json": {
       "model_id": "",
       "version_major": 2,
       "version_minor": 0
      },
      "text/plain": [
       "[1/47]   2%|2          [00:00<?]"
      ]
     },
     "metadata": {},
     "output_type": "display_data"
    },
    {
     "data": {
      "application/vnd.jupyter.widget-view+json": {
       "model_id": "",
       "version_major": 2,
       "version_minor": 0
      },
      "text/plain": [
       "[1/157]   1%|           [00:00<?]"
      ]
     },
     "metadata": {},
     "output_type": "display_data"
    },
    {
     "name": "stdout",
     "output_type": "stream",
     "text": [
      "Epoch metrics: {'accuracy': 0.9695, 'crossentropy': 0.19547787671089173}\n",
      "Epoch 20: 0.9695 worse than 0.9701, patience: 1/3!\n"
     ]
    },
    {
     "data": {
      "application/vnd.jupyter.widget-view+json": {
       "model_id": "",
       "version_major": 2,
       "version_minor": 0
      },
      "text/plain": [
       "[1/47]   2%|2          [00:00<?]"
      ]
     },
     "metadata": {},
     "output_type": "display_data"
    },
    {
     "data": {
      "application/vnd.jupyter.widget-view+json": {
       "model_id": "",
       "version_major": 2,
       "version_minor": 0
      },
      "text/plain": [
       "[1/157]   1%|           [00:00<?]"
      ]
     },
     "metadata": {},
     "output_type": "display_data"
    },
    {
     "name": "stdout",
     "output_type": "stream",
     "text": [
      "Epoch metrics: {'accuracy': 0.9706, 'crossentropy': 0.18417280072569847}\n"
     ]
    },
    {
     "data": {
      "application/vnd.jupyter.widget-view+json": {
       "model_id": "",
       "version_major": 2,
       "version_minor": 0
      },
      "text/plain": [
       "[1/47]   2%|2          [00:00<?]"
      ]
     },
     "metadata": {},
     "output_type": "display_data"
    },
    {
     "data": {
      "application/vnd.jupyter.widget-view+json": {
       "model_id": "",
       "version_major": 2,
       "version_minor": 0
      },
      "text/plain": [
       "[1/157]   1%|           [00:00<?]"
      ]
     },
     "metadata": {},
     "output_type": "display_data"
    },
    {
     "name": "stdout",
     "output_type": "stream",
     "text": [
      "Epoch metrics: {'accuracy': 0.9718, 'crossentropy': 0.18118949906229972}\n"
     ]
    },
    {
     "data": {
      "application/vnd.jupyter.widget-view+json": {
       "model_id": "",
       "version_major": 2,
       "version_minor": 0
      },
      "text/plain": [
       "[1/47]   2%|2          [00:00<?]"
      ]
     },
     "metadata": {},
     "output_type": "display_data"
    },
    {
     "data": {
      "application/vnd.jupyter.widget-view+json": {
       "model_id": "",
       "version_major": 2,
       "version_minor": 0
      },
      "text/plain": [
       "[1/157]   1%|           [00:00<?]"
      ]
     },
     "metadata": {},
     "output_type": "display_data"
    },
    {
     "name": "stdout",
     "output_type": "stream",
     "text": [
      "Epoch metrics: {'accuracy': 0.9694, 'crossentropy': 0.1888744118079543}\n",
      "Epoch 23: 0.9694 worse than 0.9718, patience: 1/3!\n"
     ]
    },
    {
     "data": {
      "application/vnd.jupyter.widget-view+json": {
       "model_id": "",
       "version_major": 2,
       "version_minor": 0
      },
      "text/plain": [
       "[1/47]   2%|2          [00:00<?]"
      ]
     },
     "metadata": {},
     "output_type": "display_data"
    },
    {
     "data": {
      "application/vnd.jupyter.widget-view+json": {
       "model_id": "",
       "version_major": 2,
       "version_minor": 0
      },
      "text/plain": [
       "[1/157]   1%|           [00:00<?]"
      ]
     },
     "metadata": {},
     "output_type": "display_data"
    },
    {
     "name": "stdout",
     "output_type": "stream",
     "text": [
      "Epoch metrics: {'accuracy': 0.9683, 'crossentropy': 0.189695987880975}\n",
      "Epoch 24: 0.9683 worse than 0.9718, patience: 2/3!\n"
     ]
    },
    {
     "data": {
      "application/vnd.jupyter.widget-view+json": {
       "model_id": "",
       "version_major": 2,
       "version_minor": 0
      },
      "text/plain": [
       "[1/47]   2%|2          [00:00<?]"
      ]
     },
     "metadata": {},
     "output_type": "display_data"
    },
    {
     "data": {
      "application/vnd.jupyter.widget-view+json": {
       "model_id": "",
       "version_major": 2,
       "version_minor": 0
      },
      "text/plain": [
       "[1/157]   1%|           [00:00<?]"
      ]
     },
     "metadata": {},
     "output_type": "display_data"
    },
    {
     "name": "stdout",
     "output_type": "stream",
     "text": [
      "Epoch metrics: {'accuracy': 0.9715, 'crossentropy': 0.1844632924541831}\n",
      "Epoch 25: 0.9715 worse than 0.9718, patience: 3/3!\n"
     ]
    },
    {
     "data": {
      "application/vnd.jupyter.widget-view+json": {
       "model_id": "",
       "version_major": 2,
       "version_minor": 0
      },
      "text/plain": [
       "[1/47]   2%|2          [00:00<?]"
      ]
     },
     "metadata": {},
     "output_type": "display_data"
    },
    {
     "data": {
      "application/vnd.jupyter.widget-view+json": {
       "model_id": "",
       "version_major": 2,
       "version_minor": 0
      },
      "text/plain": [
       "[1/157]   1%|           [00:00<?]"
      ]
     },
     "metadata": {},
     "output_type": "display_data"
    },
    {
     "name": "stdout",
     "output_type": "stream",
     "text": [
      "Epoch metrics: {'accuracy': 0.9707, 'crossentropy': 0.19293912473917008}\n",
      "Epoch 26: 0.9707 worse than 0.9718, patience: 4/3!\n",
      "Epoch    26: reducing learning rate of group 0 to 1.0000e-04.\n"
     ]
    },
    {
     "data": {
      "application/vnd.jupyter.widget-view+json": {
       "model_id": "",
       "version_major": 2,
       "version_minor": 0
      },
      "text/plain": [
       "[1/47]   2%|2          [00:00<?]"
      ]
     },
     "metadata": {},
     "output_type": "display_data"
    },
    {
     "data": {
      "application/vnd.jupyter.widget-view+json": {
       "model_id": "",
       "version_major": 2,
       "version_minor": 0
      },
      "text/plain": [
       "[1/157]   1%|           [00:00<?]"
      ]
     },
     "metadata": {},
     "output_type": "display_data"
    },
    {
     "name": "stdout",
     "output_type": "stream",
     "text": [
      "Epoch metrics: {'accuracy': 0.9744, 'crossentropy': 0.16678278848044575}\n"
     ]
    },
    {
     "data": {
      "application/vnd.jupyter.widget-view+json": {
       "model_id": "",
       "version_major": 2,
       "version_minor": 0
      },
      "text/plain": [
       "[1/47]   2%|2          [00:00<?]"
      ]
     },
     "metadata": {},
     "output_type": "display_data"
    },
    {
     "data": {
      "application/vnd.jupyter.widget-view+json": {
       "model_id": "",
       "version_major": 2,
       "version_minor": 0
      },
      "text/plain": [
       "[1/157]   1%|           [00:00<?]"
      ]
     },
     "metadata": {},
     "output_type": "display_data"
    },
    {
     "name": "stdout",
     "output_type": "stream",
     "text": [
      "Epoch metrics: {'accuracy': 0.9732, 'crossentropy': 0.170559820997715}\n",
      "Epoch 28: 0.9732 worse than 0.9744, patience: 1/3!\n"
     ]
    },
    {
     "data": {
      "application/vnd.jupyter.widget-view+json": {
       "model_id": "",
       "version_major": 2,
       "version_minor": 0
      },
      "text/plain": [
       "[1/47]   2%|2          [00:00<?]"
      ]
     },
     "metadata": {},
     "output_type": "display_data"
    },
    {
     "data": {
      "application/vnd.jupyter.widget-view+json": {
       "model_id": "",
       "version_major": 2,
       "version_minor": 0
      },
      "text/plain": [
       "[1/157]   1%|           [00:00<?]"
      ]
     },
     "metadata": {},
     "output_type": "display_data"
    },
    {
     "name": "stdout",
     "output_type": "stream",
     "text": [
      "Epoch metrics: {'accuracy': 0.9747, 'crossentropy': 0.16037208632528782}\n"
     ]
    },
    {
     "data": {
      "application/vnd.jupyter.widget-view+json": {
       "model_id": "",
       "version_major": 2,
       "version_minor": 0
      },
      "text/plain": [
       "[1/47]   2%|2          [00:00<?]"
      ]
     },
     "metadata": {},
     "output_type": "display_data"
    },
    {
     "data": {
      "application/vnd.jupyter.widget-view+json": {
       "model_id": "",
       "version_major": 2,
       "version_minor": 0
      },
      "text/plain": [
       "[1/157]   1%|           [00:00<?]"
      ]
     },
     "metadata": {},
     "output_type": "display_data"
    },
    {
     "name": "stdout",
     "output_type": "stream",
     "text": [
      "Epoch metrics: {'accuracy': 0.9751, 'crossentropy': 0.16294795689582825}\n"
     ]
    },
    {
     "data": {
      "application/vnd.jupyter.widget-view+json": {
       "model_id": "",
       "version_major": 2,
       "version_minor": 0
      },
      "text/plain": [
       "[1/47]   2%|2          [00:00<?]"
      ]
     },
     "metadata": {},
     "output_type": "display_data"
    },
    {
     "data": {
      "application/vnd.jupyter.widget-view+json": {
       "model_id": "",
       "version_major": 2,
       "version_minor": 0
      },
      "text/plain": [
       "[1/157]   1%|           [00:00<?]"
      ]
     },
     "metadata": {},
     "output_type": "display_data"
    },
    {
     "name": "stdout",
     "output_type": "stream",
     "text": [
      "Epoch metrics: {'accuracy': 0.9757, 'crossentropy': 0.1579607660241425}\n"
     ]
    },
    {
     "data": {
      "application/vnd.jupyter.widget-view+json": {
       "model_id": "",
       "version_major": 2,
       "version_minor": 0
      },
      "text/plain": [
       "[1/47]   2%|2          [00:00<?]"
      ]
     },
     "metadata": {},
     "output_type": "display_data"
    },
    {
     "data": {
      "application/vnd.jupyter.widget-view+json": {
       "model_id": "",
       "version_major": 2,
       "version_minor": 0
      },
      "text/plain": [
       "[1/157]   1%|           [00:00<?]"
      ]
     },
     "metadata": {},
     "output_type": "display_data"
    },
    {
     "name": "stdout",
     "output_type": "stream",
     "text": [
      "Epoch metrics: {'accuracy': 0.9749, 'crossentropy': 0.15656672970429064}\n",
      "Epoch 32: 0.9749 worse than 0.9757, patience: 1/3!\n"
     ]
    },
    {
     "data": {
      "application/vnd.jupyter.widget-view+json": {
       "model_id": "",
       "version_major": 2,
       "version_minor": 0
      },
      "text/plain": [
       "[1/47]   2%|2          [00:00<?]"
      ]
     },
     "metadata": {},
     "output_type": "display_data"
    },
    {
     "data": {
      "application/vnd.jupyter.widget-view+json": {
       "model_id": "",
       "version_major": 2,
       "version_minor": 0
      },
      "text/plain": [
       "[1/157]   1%|           [00:00<?]"
      ]
     },
     "metadata": {},
     "output_type": "display_data"
    },
    {
     "name": "stdout",
     "output_type": "stream",
     "text": [
      "Epoch metrics: {'accuracy': 0.9742, 'crossentropy': 0.165166756830737}\n",
      "Epoch 33: 0.9742 worse than 0.9757, patience: 2/3!\n"
     ]
    },
    {
     "data": {
      "application/vnd.jupyter.widget-view+json": {
       "model_id": "",
       "version_major": 2,
       "version_minor": 0
      },
      "text/plain": [
       "[1/47]   2%|2          [00:00<?]"
      ]
     },
     "metadata": {},
     "output_type": "display_data"
    },
    {
     "data": {
      "application/vnd.jupyter.widget-view+json": {
       "model_id": "",
       "version_major": 2,
       "version_minor": 0
      },
      "text/plain": [
       "[1/157]   1%|           [00:00<?]"
      ]
     },
     "metadata": {},
     "output_type": "display_data"
    },
    {
     "name": "stdout",
     "output_type": "stream",
     "text": [
      "Epoch metrics: {'accuracy': 0.9744, 'crossentropy': 0.16184359027966858}\n",
      "Epoch 34: 0.9744 worse than 0.9757, patience: 3/3!\n"
     ]
    },
    {
     "data": {
      "application/vnd.jupyter.widget-view+json": {
       "model_id": "",
       "version_major": 2,
       "version_minor": 0
      },
      "text/plain": [
       "[1/47]   2%|2          [00:00<?]"
      ]
     },
     "metadata": {},
     "output_type": "display_data"
    },
    {
     "data": {
      "application/vnd.jupyter.widget-view+json": {
       "model_id": "",
       "version_major": 2,
       "version_minor": 0
      },
      "text/plain": [
       "[1/157]   1%|           [00:00<?]"
      ]
     },
     "metadata": {},
     "output_type": "display_data"
    },
    {
     "name": "stdout",
     "output_type": "stream",
     "text": [
      "Epoch metrics: {'accuracy': 0.9754, 'crossentropy': 0.15807696827538312}\n",
      "Epoch 35: 0.9754 worse than 0.9757, patience: 4/3!\n"
     ]
    },
    {
     "data": {
      "text/plain": [
       "{'epochs': [{'accuracy': 0.8138, 'crossentropy': 0.8318569969177246},\n",
       "  {'accuracy': 0.9051, 'crossentropy': 0.5015810224533082},\n",
       "  {'accuracy': 0.9231, 'crossentropy': 0.4067144854307175},\n",
       "  {'accuracy': 0.9376, 'crossentropy': 0.33887774846553803},\n",
       "  {'accuracy': 0.9488, 'crossentropy': 0.284973241519928},\n",
       "  {'accuracy': 0.9463, 'crossentropy': 0.2858008557677269},\n",
       "  {'accuracy': 0.9544, 'crossentropy': 0.2509216430902481},\n",
       "  {'accuracy': 0.9573, 'crossentropy': 0.2428978340089321},\n",
       "  {'accuracy': 0.9608, 'crossentropy': 0.22644489660859107},\n",
       "  {'accuracy': 0.9608, 'crossentropy': 0.21278315509557724},\n",
       "  {'accuracy': 0.9618, 'crossentropy': 0.2145445026308298},\n",
       "  {'accuracy': 0.963, 'crossentropy': 0.21237999706566335},\n",
       "  {'accuracy': 0.9631, 'crossentropy': 0.21369002146720886},\n",
       "  {'accuracy': 0.9673, 'crossentropy': 0.188571187569201},\n",
       "  {'accuracy': 0.9667, 'crossentropy': 0.1944719546556473},\n",
       "  {'accuracy': 0.9679, 'crossentropy': 0.19227623180747033},\n",
       "  {'accuracy': 0.9673, 'crossentropy': 0.20758895537257194},\n",
       "  {'accuracy': 0.9689, 'crossentropy': 0.19289123542010783},\n",
       "  {'accuracy': 0.9701, 'crossentropy': 0.18630976665019988},\n",
       "  {'accuracy': 0.9695, 'crossentropy': 0.19547787671089173},\n",
       "  {'accuracy': 0.9706, 'crossentropy': 0.18417280072569847},\n",
       "  {'accuracy': 0.9718, 'crossentropy': 0.18118949906229972},\n",
       "  {'accuracy': 0.9694, 'crossentropy': 0.1888744118079543},\n",
       "  {'accuracy': 0.9683, 'crossentropy': 0.189695987880975},\n",
       "  {'accuracy': 0.9715, 'crossentropy': 0.1844632924541831},\n",
       "  {'accuracy': 0.9707, 'crossentropy': 0.19293912473917008},\n",
       "  {'accuracy': 0.9744, 'crossentropy': 0.16678278848044575},\n",
       "  {'accuracy': 0.9732, 'crossentropy': 0.170559820997715},\n",
       "  {'accuracy': 0.9747, 'crossentropy': 0.16037208632528782},\n",
       "  {'accuracy': 0.9751, 'crossentropy': 0.16294795689582825},\n",
       "  {'accuracy': 0.9757, 'crossentropy': 0.1579607660241425},\n",
       "  {'accuracy': 0.9749, 'crossentropy': 0.15656672970429064},\n",
       "  {'accuracy': 0.9742, 'crossentropy': 0.165166756830737},\n",
       "  {'accuracy': 0.9744, 'crossentropy': 0.16184359027966858},\n",
       "  {'accuracy': 0.9754, 'crossentropy': 0.15807696827538312}],\n",
       " 'era_epochs': [26]}"
      ]
     },
     "execution_count": null,
     "metadata": {},
     "output_type": "execute_result"
    }
   ],
   "source": [
    "# experiment\n",
    "\n",
    "model = BayesianMNISTCNN()\n",
    "\n",
    "training_log = {}\n",
    "\n",
    "train_with_schedule(\n",
    "    model=model,\n",
    "    training_samples=1,\n",
    "    validation_samples=4,\n",
    "    train_loader=train_loader,\n",
    "    validation_loader=test_loader,\n",
    "    patience_schedule=[3, 3],\n",
    "    factor_schedule=[0.1],\n",
    "    max_epochs=60,\n",
    "    device=\"cuda\",\n",
    "    training_log=training_log,\n",
    ")\n",
    "\n",
    "training_log"
   ]
  },
  {
   "cell_type": "markdown",
   "metadata": {},
   "source": [
    "## Obtaining predictions\n",
    "\n",
    "Sometimes, we want to obtain predictions from our models, instead of pure evaluation metrics... I know right?\n",
    "\n",
    "The following helper method registers an event handler with an Ignite Engine that stores the predictions in a list:\n",
    "\n",
    "TODO: MOVE THIS/REMOVE THIS"
   ]
  },
  {
   "cell_type": "markdown",
   "metadata": {},
   "source": [
    "### Example"
   ]
  },
  {
   "cell_type": "code",
   "execution_count": null,
   "metadata": {},
   "outputs": [
    {
     "data": {
      "application/vnd.jupyter.widget-view+json": {
       "model_id": "",
       "version_major": 2,
       "version_minor": 0
      },
      "text/plain": [
       "get_predictions_labels:   0%|          | 0/100000 [00:00<?, ?it/s]"
      ]
     },
     "metadata": {},
     "output_type": "display_data"
    },
    {
     "data": {
      "text/plain": [
       "10000"
      ]
     },
     "execution_count": null,
     "metadata": {},
     "output_type": "execute_result"
    }
   ],
   "source": [
    "# experiment\n",
    "\n",
    "\n",
    "predictions = get_predictions(model=model, num_samples=10, num_classes=10, loader=test_loader, device=\"cuda\")\n",
    "len(predictions)"
   ]
  },
  {
   "cell_type": "code",
   "execution_count": null,
   "metadata": {},
   "outputs": [
    {
     "data": {
      "application/vnd.jupyter.widget-view+json": {
       "model_id": "",
       "version_major": 2,
       "version_minor": 0
      },
      "text/plain": [
       "get_predictions_labels:   0%|          | 0/70000 [00:00<?, ?it/s]"
      ]
     },
     "metadata": {},
     "output_type": "display_data"
    },
    {
     "data": {
      "text/plain": [
       "(torch.Size([10000, 7, 10]), torch.Size([10000]))"
      ]
     },
     "execution_count": null,
     "metadata": {},
     "output_type": "execute_result"
    }
   ],
   "source": [
    "# experiment\n",
    "\n",
    "predictions, labels = get_predictions_labels(\n",
    "    model=model, num_samples=7, num_classes=10, loader=test_loader, device=\"cuda\"\n",
    ")\n",
    "predictions.shape, labels.shape"
   ]
  },
  {
   "cell_type": "code",
   "execution_count": null,
   "metadata": {},
   "outputs": [
    {
     "data": {
      "text/plain": [
       "tensor([[[-2.8367e+01, -2.4773e+01, -1.6460e+01, -1.5410e+01, -2.6516e+01,\n",
       "          -2.5284e+01, -4.4725e+01, -5.9605e-07, -1.9745e+01, -1.5331e+01],\n",
       "         [-2.0561e+01, -2.3827e+01, -1.9392e+01, -2.4907e+01, -2.7014e+01,\n",
       "          -2.3035e+01, -3.5366e+01, -1.6689e-06, -2.3001e+01, -1.3284e+01],\n",
       "         [-2.8653e+01, -2.2573e+01, -1.1184e+01, -1.6494e+01, -3.4791e+01,\n",
       "          -2.9149e+01, -4.1066e+01, -1.4067e-05, -2.3491e+01, -2.0259e+01],\n",
       "         [-1.8519e+01, -1.0138e+01, -1.1501e+01, -9.9980e+00, -1.2409e+01,\n",
       "          -1.5788e+01, -2.3412e+01, -6.1302e-04, -1.0140e+01, -7.6546e+00],\n",
       "         [-2.5508e+01, -1.6356e+01, -1.3611e+01, -1.8889e+01, -2.4214e+01,\n",
       "          -3.2515e+01, -4.0044e+01, -1.3113e-06, -2.1938e+01, -2.1855e+01],\n",
       "         [-2.7792e+01, -2.1009e+01, -1.6808e+01, -2.0931e+01, -2.7830e+01,\n",
       "          -2.6055e+01, -3.9284e+01, -9.5367e-07, -2.4812e+01, -1.3849e+01],\n",
       "         [-2.9338e+01, -2.4237e+01, -2.1119e+01, -2.8949e+01, -3.0423e+01,\n",
       "          -3.5695e+01, -5.0294e+01, -2.3842e-07, -2.9808e+01, -1.5091e+01]],\n",
       "\n",
       "        [[-6.6202e+00, -1.5267e+01, -1.8708e-03, -1.4534e+01, -2.6040e+01,\n",
       "          -1.8932e+01, -1.4454e+01, -2.0005e+01, -7.5338e+00, -1.9521e+01],\n",
       "         [-6.9466e+00, -7.7664e-01, -6.2143e-01, -8.7233e+00, -9.3295e+00,\n",
       "          -1.2793e+01, -8.8358e+00, -9.9763e+00, -6.5380e+00, -1.0822e+01],\n",
       "         [-6.9954e+00, -1.8317e+01, -9.1654e-04, -1.7266e+01, -2.9420e+01,\n",
       "          -2.9447e+01, -1.9204e+01, -2.7540e+01, -1.6756e+01, -2.5317e+01],\n",
       "         [-8.7175e-01, -9.6184e+00, -5.6602e-01, -7.8070e+00, -1.5205e+01,\n",
       "          -1.0090e+01, -5.0855e+00, -1.1524e+01, -4.9219e+00, -1.2727e+01],\n",
       "         [-2.5550e+01, -1.5435e+01, -2.3842e-07, -1.8554e+01, -3.1748e+01,\n",
       "          -3.8187e+01, -2.5995e+01, -2.3685e+01, -2.1000e+01, -3.7446e+01],\n",
       "         [-9.5787e+00, -1.3928e+01, -2.0168e-04, -1.0935e+01, -2.4859e+01,\n",
       "          -2.0220e+01, -1.4796e+01, -2.3907e+01, -9.0844e+00, -2.3881e+01],\n",
       "         [-3.1086e+00, -7.6503e+00, -4.6193e-02, -2.3069e+01, -2.0763e+01,\n",
       "          -2.4662e+01, -1.6486e+01, -2.1891e+01, -1.3556e+01, -2.4425e+01]],\n",
       "\n",
       "        [[-1.0924e+01, -2.7033e-02, -7.5790e+00, -9.4438e+00, -4.4072e+00,\n",
       "          -8.9046e+00, -4.4128e+00, -7.4897e+00, -7.4283e+00, -7.6774e+00],\n",
       "         [-1.2271e+01, -5.3010e-04, -1.2919e+01, -1.5111e+01, -7.9624e+00,\n",
       "          -1.0890e+01, -9.5858e+00, -9.9795e+00, -1.0626e+01, -1.1025e+01],\n",
       "         [-1.6920e+01, -9.1832e-04, -1.1426e+01, -1.2194e+01, -9.2078e+00,\n",
       "          -1.2397e+01, -1.2455e+01, -7.1480e+00, -1.2170e+01, -1.3161e+01],\n",
       "         [-1.3441e+01, -4.2234e-03, -1.4484e+01, -1.2271e+01, -6.7756e+00,\n",
       "          -1.0589e+01, -1.1132e+01, -6.1250e+00, -9.0457e+00, -7.2344e+00],\n",
       "         [-2.5182e+01, -7.7486e-06, -1.6112e+01, -1.6870e+01, -1.4944e+01,\n",
       "          -1.7934e+01, -1.6265e+01, -1.2391e+01, -1.2696e+01, -1.9349e+01],\n",
       "         [-2.1247e+01, -1.3113e-06, -2.1583e+01, -1.9943e+01, -1.4988e+01,\n",
       "          -1.5463e+01, -1.5930e+01, -1.5362e+01, -1.4699e+01, -1.9313e+01],\n",
       "         [-2.7783e+01, -3.6716e-05, -2.6629e+01, -2.8167e+01, -1.0211e+01,\n",
       "          -2.4403e+01, -2.3573e+01, -1.8405e+01, -2.1453e+01, -1.9456e+01]],\n",
       "\n",
       "        [[-7.7543e-03, -1.5186e+01, -9.4181e+00, -1.1168e+01, -1.4532e+01,\n",
       "          -7.6481e+00, -9.2738e+00, -1.0384e+01, -4.9611e+00, -1.0754e+01],\n",
       "         [-4.5528e-04, -1.7889e+01, -1.7315e+01, -1.9002e+01, -1.5540e+01,\n",
       "          -7.8443e+00, -1.1262e+01, -1.0303e+01, -1.2230e+01, -1.1351e+01],\n",
       "         [-5.0495e-03, -1.8906e+01, -5.4178e+00, -1.2443e+01, -1.7726e+01,\n",
       "          -1.2960e+01, -1.2100e+01, -1.3459e+01, -7.6330e+00, -9.1877e+00],\n",
       "         [-5.7917e-03, -1.4555e+01, -1.0996e+01, -1.7610e+01, -1.6705e+01,\n",
       "          -9.5658e+00, -5.2013e+00, -1.4351e+01, -8.6559e+00, -1.2529e+01],\n",
       "         [-4.7684e-07, -2.5123e+01, -1.4947e+01, -2.5059e+01, -2.8786e+01,\n",
       "          -2.0648e+01, -1.9444e+01, -1.9367e+01, -1.5966e+01, -2.4160e+01],\n",
       "         [-8.3339e-03, -2.0464e+01, -1.6595e+01, -1.6657e+01, -1.7367e+01,\n",
       "          -7.0197e+00, -4.9142e+00, -1.5997e+01, -1.0093e+01, -1.0712e+01],\n",
       "         [ 0.0000e+00, -3.0200e+01, -2.3203e+01, -3.3509e+01, -4.2402e+01,\n",
       "          -2.1398e+01, -2.4292e+01, -2.8858e+01, -1.7637e+01, -3.2227e+01]],\n",
       "\n",
       "        [[-1.8499e+01, -2.4979e+01, -1.9336e+01, -1.8843e+01, -9.8768e-02,\n",
       "          -1.4585e+01, -2.0720e+01, -1.3453e+01, -1.5895e+01, -2.3640e+00],\n",
       "         [-1.4316e+01, -2.0806e+01, -1.5550e+01, -2.0495e+01, -3.6955e-06,\n",
       "          -1.8439e+01, -1.3907e+01, -2.2486e+01, -2.0624e+01, -1.3141e+01],\n",
       "         [-1.9121e+01, -2.1166e+01, -1.7532e+01, -1.7741e+01, -1.7498e-04,\n",
       "          -2.2747e+01, -2.2131e+01, -1.9050e+01, -1.6993e+01, -8.6508e+00],\n",
       "         [-1.9747e+01, -2.0353e+01, -1.4479e+01, -1.7232e+01, -1.5401e-04,\n",
       "          -1.9031e+01, -1.6842e+01, -1.4703e+01, -1.8014e+01, -8.7855e+00],\n",
       "         [-1.5684e+01, -1.5487e+01, -8.7441e+00, -1.4199e+01, -4.3466e-04,\n",
       "          -1.9137e+01, -1.1640e+01, -8.2380e+00, -1.4705e+01, -1.4582e+01],\n",
       "         [-1.5630e+01, -1.8462e+01, -1.4663e+01, -2.0053e+01, -3.1311e-04,\n",
       "          -2.4119e+01, -1.5153e+01, -1.6353e+01, -1.5695e+01, -8.0728e+00],\n",
       "         [-2.5900e+01, -2.1803e+01, -2.6461e+01, -3.0287e+01, -1.5497e-06,\n",
       "          -2.7549e+01, -2.3879e+01, -2.6580e+01, -2.7880e+01, -1.3383e+01]],\n",
       "\n",
       "        [[-1.2324e+01, -1.5824e-02, -8.2841e+00, -1.1531e+01, -5.1355e+00,\n",
       "          -1.1042e+01, -4.6952e+00, -8.4596e+00, -8.9422e+00, -9.8938e+00],\n",
       "         [-1.4428e+01, -8.3205e-05, -1.6124e+01, -1.8721e+01, -9.7820e+00,\n",
       "          -1.3651e+01, -1.1106e+01, -1.2258e+01, -1.2351e+01, -1.4058e+01],\n",
       "         [-2.0467e+01, -2.3493e-04, -1.3303e+01, -1.4561e+01, -1.1321e+01,\n",
       "          -1.6175e+01, -1.6012e+01, -8.4230e+00, -1.4490e+01, -1.6359e+01],\n",
       "         [-1.4916e+01, -2.1416e-03, -1.5921e+01, -1.3690e+01, -8.1365e+00,\n",
       "          -1.2727e+01, -1.3083e+01, -6.3964e+00, -1.0302e+01, -8.8815e+00],\n",
       "         [-2.3866e+01, -3.5405e-05, -1.3759e+01, -1.7127e+01, -1.5331e+01,\n",
       "          -1.9535e+01, -1.6267e+01, -1.0684e+01, -1.1404e+01, -1.9767e+01],\n",
       "         [-2.3413e+01, -2.3842e-07, -2.5266e+01, -2.3497e+01, -1.7425e+01,\n",
       "          -1.8386e+01, -1.7727e+01, -1.7513e+01, -1.5505e+01, -2.2240e+01],\n",
       "         [-2.7879e+01, -4.2915e-06, -2.7365e+01, -3.1678e+01, -1.2359e+01,\n",
       "          -2.8105e+01, -2.4983e+01, -1.9962e+01, -2.1883e+01, -2.1608e+01]],\n",
       "\n",
       "        [[-1.9733e+01, -2.5420e+01, -1.9939e+01, -1.8059e+01, -3.0303e-01,\n",
       "          -9.2340e+00, -2.0749e+01, -1.2484e+01, -8.2243e+00, -1.3430e+00],\n",
       "         [-1.3366e+01, -9.3194e+00, -1.2752e+01, -1.4943e+01, -2.8594e-04,\n",
       "          -1.2928e+01, -1.2025e+01, -1.2327e+01, -9.6708e+00, -9.0674e+00],\n",
       "         [-1.6692e+01, -1.3588e+01, -1.3212e+01, -1.4703e+01, -3.4616e-02,\n",
       "          -1.4751e+01, -1.4533e+01, -1.3080e+01, -6.7268e+00, -3.4168e+00],\n",
       "         [-3.1121e+01, -1.7317e+01, -2.1833e+01, -1.9458e+01, -6.1588e-04,\n",
       "          -1.7771e+01, -2.4142e+01, -1.0984e+01, -1.3171e+01, -7.4240e+00],\n",
       "         [-3.0571e+01, -2.7184e+01, -2.3067e+01, -2.1660e+01, -2.0266e-06,\n",
       "          -2.2184e+01, -2.8647e+01, -1.4194e+01, -1.3545e+01, -1.7413e+01],\n",
       "         [-2.0717e+01, -1.4666e+01, -1.8736e+01, -2.2005e+01, -2.6544e-04,\n",
       "          -1.8455e+01, -1.5911e+01, -1.4565e+01, -8.5990e+00, -9.4319e+00],\n",
       "         [-3.5859e+01, -2.0904e+01, -3.3990e+01, -2.8829e+01, -1.2517e-05,\n",
       "          -1.8238e+01, -3.0454e+01, -2.0779e+01, -2.0958e+01, -1.1289e+01]],\n",
       "\n",
       "        [[-2.7855e+01, -3.1768e+01, -2.5714e+01, -1.8389e+01, -8.6943e+00,\n",
       "          -1.3262e+01, -3.0148e+01, -1.7637e+01, -1.4639e+01, -1.6974e-04],\n",
       "         [-9.9251e+00, -1.2054e+01, -1.0521e+01, -8.4083e+00, -5.6589e+00,\n",
       "          -6.8299e+00, -1.3738e+01, -8.6643e+00, -6.7774e+00, -6.2042e-03],\n",
       "         [-1.5764e+01, -1.5791e+01, -1.2485e+01, -9.2081e+00, -5.8755e+00,\n",
       "          -8.0630e+00, -1.5638e+01, -1.3784e+01, -5.2240e+00, -8.6508e-03],\n",
       "         [-1.5507e+01, -1.3722e+01, -1.4377e+01, -8.1890e+00, -4.1146e+00,\n",
       "          -4.7136e+00, -1.3800e+01, -9.7190e+00, -5.8427e+00, -2.8962e-02],\n",
       "         [-1.5710e+01, -2.1056e+01, -1.5463e+01, -5.9697e+00, -1.0082e+01,\n",
       "          -1.0693e+01, -2.1117e+01, -1.2028e+01, -3.5756e+00, -3.1104e-02],\n",
       "         [-1.9268e+01, -2.6441e+01, -2.1147e+01, -1.3175e+01, -7.6129e+00,\n",
       "          -9.4066e+00, -2.1952e+01, -1.5426e+01, -1.0856e+01, -5.9789e-04],\n",
       "         [-2.0338e+01, -1.1768e+01, -1.8357e+01, -7.8905e+00, -6.3472e+00,\n",
       "          -5.2227e+00, -2.0653e+01, -1.3608e+01, -7.5603e+00, -8.0809e-03]],\n",
       "\n",
       "        [[-1.8418e+01, -2.9859e+01, -1.9532e+01, -2.0148e+01, -1.7572e+01,\n",
       "          -5.1074e-02, -9.6074e+00, -2.0889e+01, -3.0080e+00, -7.9974e+00],\n",
       "         [-1.1018e+01, -1.5769e+01, -1.8009e+01, -1.4769e+01, -8.6634e+00,\n",
       "          -2.1326e-03, -9.6645e+00, -1.2161e+01, -8.2911e+00, -6.4246e+00],\n",
       "         [-7.7984e+00, -1.5273e+01, -1.0723e+01, -1.1370e+01, -6.5486e+00,\n",
       "          -1.7918e-01, -2.6650e+00, -1.4982e+01, -4.4559e+00, -2.5138e+00],\n",
       "         [-6.2625e+00, -1.7464e+01, -1.0016e+01, -1.2694e+01, -1.0523e+01,\n",
       "          -9.9680e-02, -2.5850e+00, -1.3946e+01, -5.0860e+00, -4.4819e+00],\n",
       "         [-1.9125e+01, -3.7024e+01, -3.7909e+01, -3.1402e+01, -3.0102e+01,\n",
       "          -1.7141e-01, -1.8483e+00, -4.0585e+01, -1.1336e+01, -2.6128e+01],\n",
       "         [-5.8242e+00, -1.9773e+01, -1.6431e+01, -1.4472e+01, -1.2763e+01,\n",
       "          -1.2837e-01, -4.0458e+00, -1.0770e+01, -2.3361e+00, -5.7160e+00],\n",
       "         [-1.4145e+01, -1.6863e+01, -2.6579e+01, -1.9360e+01, -1.3682e+01,\n",
       "          -6.9735e-05, -9.9623e+00, -2.1851e+01, -1.1306e+01, -1.1689e+01]],\n",
       "\n",
       "        [[-3.3025e+01, -3.7300e+01, -2.9990e+01, -2.2606e+01, -1.1316e+01,\n",
       "          -1.7137e+01, -3.8416e+01, -1.3299e+01, -1.4978e+01, -1.4186e-05],\n",
       "         [-1.3933e+01, -1.7199e+01, -1.2314e+01, -1.2638e+01, -1.0085e+01,\n",
       "          -1.0380e+01, -1.9811e+01, -2.8411e+00, -9.1330e+00, -6.0334e-02],\n",
       "         [-2.1187e+01, -2.6215e+01, -1.9301e+01, -1.6299e+01, -1.0111e+01,\n",
       "          -1.3128e+01, -2.0469e+01, -1.6457e+01, -7.5622e+00, -5.6263e-04],\n",
       "         [-3.2213e+01, -2.3767e+01, -2.5504e+01, -1.8476e+01, -6.2695e+00,\n",
       "          -1.7697e+01, -3.0409e+01, -1.0441e+01, -1.0757e+01, -1.9456e-03],\n",
       "         [-2.8670e+01, -3.3934e+01, -2.7621e+01, -1.9474e+01, -1.0158e+01,\n",
       "          -2.3465e+01, -4.0189e+01, -1.0862e+01, -9.1986e+00, -1.5913e-04],\n",
       "         [-1.9840e+01, -2.4728e+01, -1.9644e+01, -1.5725e+01, -8.3183e+00,\n",
       "          -1.3910e+01, -2.3886e+01, -8.1078e+00, -1.1086e+01, -5.6179e-04],\n",
       "         [-3.3327e+01, -2.6882e+01, -3.1107e+01, -2.4077e+01, -1.2177e+01,\n",
       "          -2.4243e+01, -4.2406e+01, -1.0158e+01, -1.7353e+01, -4.3868e-05]]])"
      ]
     },
     "execution_count": null,
     "metadata": {},
     "output_type": "execute_result"
    }
   ],
   "source": [
    "predictions[:10]"
   ]
  }
 ],
 "metadata": {
  "kernelspec": {
   "display_name": "Python [conda env:active_learning]",
   "language": "python",
   "name": "conda-env-active_learning-py"
  }
 },
 "nbformat": 4,
 "nbformat_minor": 4
}
