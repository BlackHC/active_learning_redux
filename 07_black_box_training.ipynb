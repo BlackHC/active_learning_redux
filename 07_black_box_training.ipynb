{
 "cells": [
  {
   "cell_type": "markdown",
   "metadata": {},
   "source": [
    "# Black Box Model Training\n",
    "> \"Learning is not attained by chance, it must be sought for with ardor and attended to with diligence.” \n",
    ">\n",
    "> &mdash; <cite>Abigail Adams</cite>."
   ]
  },
  {
   "cell_type": "markdown",
   "metadata": {},
   "source": [
    "After looking at a simple example experiment, it is worth looking at the big picture. The big picture requires us to train different models with differently-sized datasets.\n",
    "\n",
    "We don't want to worry about fine-tuning training too much. Because we cannot."
   ]
  },
  {
   "cell_type": "code",
   "execution_count": null,
   "metadata": {},
   "outputs": [],
   "source": [
    "# default_exp black_box_model_training"
   ]
  },
  {
   "cell_type": "code",
   "execution_count": null,
   "metadata": {},
   "outputs": [],
   "source": [
    "# hide\n",
    "import blackhc.project.script\n",
    "from nbdev.showdoc import *"
   ]
  },
  {
   "cell_type": "markdown",
   "metadata": {},
   "source": [
    "## Goals\n",
    "\n",
    "* Log as much as possible by default.\n",
    "* Avoid magic numbers. Magic numbers don't work very well when everything keeps changing."
   ]
  },
  {
   "cell_type": "code",
   "execution_count": null,
   "metadata": {},
   "outputs": [],
   "source": [
    "# exporti\n",
    "\n",
    "from dataclasses import dataclass\n",
    "from typing import Optional\n",
    "\n",
    "import torch\n",
    "import torch.utils.data\n",
    "from blackhc.project import is_run_from_ipython\n",
    "from blackhc.project.utils.ignite_progress_bar import ignite_progress_bar\n",
    "from ignite.contrib.engines.common import setup_common_training_handlers\n",
    "from ignite.contrib.handlers import ProgressBar\n",
    "from ignite.engine import Events, create_supervised_evaluator, create_supervised_trainer\n",
    "from ignite.metrics import Accuracy, Loss, RunningAverage, Average\n",
    "from torch import nn\n",
    "\n",
    "from batchbald_redux.consistent_mc_dropout import (\n",
    "    BayesianModule,\n",
    "    GeometricMeanPrediction,\n",
    "    SamplerModel,\n",
    "    get_log_mean_probs,\n",
    "    multi_sample_loss, LogProbMeanPrediction,\n",
    ")\n",
    "from batchbald_redux.restoring_early_stopping import (\n",
    "    PatienceWithSnapshot,\n",
    "    ReduceLROnPlateauWithScheduleWrapper,\n",
    "    RestoringEarlyStopping, suggest_limit_schedule,\n",
    ")"
   ]
  },
  {
   "cell_type": "code",
   "execution_count": null,
   "metadata": {},
   "outputs": [],
   "source": [
    "# exports\n",
    "from batchbald_redux.trained_model import TrainedModel\n",
    "\n",
    "LOG_INTERVAL = 10\n",
    "\n",
    "\n",
    "def train(\n",
    "    *,\n",
    "    model,\n",
    "    training_samples,\n",
    "    validation_samples,\n",
    "    train_loader:  torch.utils.data.DataLoader,\n",
    "    validation_loader: torch.utils.data.DataLoader,\n",
    "    patience: Optional[int],\n",
    "    max_epochs: int,\n",
    "    device: str,\n",
    "    training_log: dict,\n",
    "    loss=None,\n",
    "    validation_loss=None,\n",
    "    optimizer=None,\n",
    "    prefer_accuracy=True,\n",
    "    train_augmentations=None,\n",
    "):\n",
    "    if not len(train_loader.dataset):\n",
    "        return optimizer\n",
    "\n",
    "    if loss is None:\n",
    "        loss = nn.NLLLoss()\n",
    "    if validation_loss is None:\n",
    "        validation_loss = loss\n",
    "\n",
    "    train_model = SamplerModel(model, training_samples)\n",
    "    if train_augmentations is not None:\n",
    "        train_model = torch.nn.Sequential(train_augmentations, train_model)\n",
    "\n",
    "    validation_model = LogProbMeanPrediction(SamplerModel(model, validation_samples))\n",
    "\n",
    "    # Move model to device before creating the optimizer\n",
    "    train_model.to(device)\n",
    "\n",
    "    if optimizer is None:\n",
    "        optimizer = torch.optim.Adam(model.parameters(), weight_decay=5e-4)\n",
    "\n",
    "    trainer = create_supervised_trainer(train_model, optimizer, loss_fn=multi_sample_loss(loss), device=device)\n",
    "\n",
    "    metrics = create_metrics(validation_loss)\n",
    "\n",
    "    validation_evaluator = create_supervised_evaluator(validation_model, metrics=metrics, device=device)\n",
    "\n",
    "    assert len(validation_loader.dataset) > 0, \"Empty validation loader does not work with early stopping!!!\"\n",
    "    @trainer.on(Events.EPOCH_COMPLETED)\n",
    "    def compute_metrics(engine):\n",
    "        validation_evaluator.run(validation_loader)\n",
    "\n",
    "    # Only to look nicer.\n",
    "    RunningAverage(output_transform=lambda x: x).attach(trainer, \"crossentropy\")\n",
    "\n",
    "    enable_tqdm_pbars = is_run_from_ipython()\n",
    "\n",
    "    setup_common_training_handlers(\n",
    "        trainer, with_pbars=enable_tqdm_pbars, with_gpu_stats=torch.cuda.is_available(), log_every_iters=LOG_INTERVAL\n",
    "    )\n",
    "\n",
    "    if enable_tqdm_pbars:\n",
    "        ProgressBar(persist=False).attach(\n",
    "            validation_evaluator,\n",
    "            metric_names=\"all\",\n",
    "            event_name=Events.ITERATION_COMPLETED(every=LOG_INTERVAL),\n",
    "        )\n",
    "    else:\n",
    "        ignite_progress_bar(trainer, desc=lambda engine: \"Training\", log_interval=LOG_INTERVAL)\n",
    "\n",
    "    training_log[\"epochs\"] = []\n",
    "    epochs_log = training_log[\"epochs\"]\n",
    "\n",
    "    # Logging\n",
    "    @validation_evaluator.on(Events.EPOCH_COMPLETED)\n",
    "    def log_training_results(engine):\n",
    "        metrics = dict(engine.state.metrics)\n",
    "        epochs_log.append(metrics)\n",
    "\n",
    "        if is_run_from_ipython():\n",
    "            print(f\"Epoch metrics: {metrics}\")\n",
    "\n",
    "    # Add early stopping\n",
    "    if patience is not None:\n",
    "        if prefer_accuracy:\n",
    "\n",
    "            def score_function():\n",
    "                return float(validation_evaluator.state.metrics[\"accuracy\"])\n",
    "\n",
    "        else:\n",
    "\n",
    "            def score_function():\n",
    "                return float(-validation_evaluator.state.metrics[\"crossentropy\"])\n",
    "\n",
    "        early_stopping = RestoringEarlyStopping(\n",
    "            patience=patience,\n",
    "            score_function=score_function,\n",
    "            module=model,\n",
    "            optimizer=optimizer,\n",
    "            training_engine=trainer,\n",
    "            validation_engine=validation_evaluator,\n",
    "        )\n",
    "    else:\n",
    "        early_stopping = None\n",
    "\n",
    "    # Kick everything off\n",
    "    trainer.run(train_loader, max_epochs=max_epochs)\n",
    "\n",
    "    if early_stopping:\n",
    "        training_log[\"best_epoch\"] = early_stopping.best_epoch\n",
    "\n",
    "    # Return the optimizer in case we want to continue training.\n",
    "    return optimizer"
   ]
  },
  {
   "cell_type": "code",
   "execution_count": null,
   "metadata": {},
   "outputs": [],
   "source": [
    "# exports\n",
    "\n",
    "\n",
    "def train_with_schedule(\n",
    "    *,\n",
    "    model,\n",
    "    training_samples,\n",
    "    validation_samples,\n",
    "    train_loader: torch.utils.data.DataLoader,\n",
    "    validation_loader: torch.utils.data.DataLoader,\n",
    "    patience_schedule: [int],\n",
    "    factor_schedule: [int],\n",
    "    max_epochs: int,\n",
    "    device: str,\n",
    "    training_log: dict,\n",
    "    loss=None,\n",
    "    validation_loss=None,\n",
    "    optimizer=None,\n",
    "    prefer_accuracy=True,\n",
    "    train_augmentations=None,\n",
    "    limit_schedule: [int] = None,\n",
    "):\n",
    "    if not len(train_loader.dataset):\n",
    "        return optimizer\n",
    "    if not limit_schedule:\n",
    "        limit_schedule, max_epochs = suggest_limit_schedule(patience_schedule, max_epochs)\n",
    "        print(f\"Limit schedule/max epochs updated: {limit_schedule}, {max_epochs}\")\n",
    "\n",
    "    if loss is None:\n",
    "        loss = nn.NLLLoss()\n",
    "    if validation_loss is None:\n",
    "        validation_loss = loss\n",
    "\n",
    "    train_model = SamplerModel(model, training_samples)\n",
    "    if train_augmentations is not None:\n",
    "        train_model = torch.nn.Sequential(train_augmentations, train_model)\n",
    "\n",
    "    validation_model = LogProbMeanPrediction(SamplerModel(model, validation_samples))\n",
    "\n",
    "    # Move model to device before creating the optimizer\n",
    "    train_model.to(device)\n",
    "\n",
    "    if optimizer is None:\n",
    "        optimizer = torch.optim.Adam(model.parameters(), weight_decay=5e-4)\n",
    "\n",
    "    trainer = create_supervised_trainer(train_model, optimizer, loss_fn=multi_sample_loss(loss), device=device)\n",
    "\n",
    "    metrics = create_metrics(validation_loss)\n",
    "\n",
    "    validation_evaluator = create_supervised_evaluator(validation_model, metrics=metrics, device=device)\n",
    "\n",
    "    assert len(validation_loader.dataset) > 0, \"Empty validation loader does not work with early stopping!!!\"\n",
    "    @trainer.on(Events.EPOCH_COMPLETED)\n",
    "    def compute_metrics(engine):\n",
    "        validation_evaluator.run(validation_loader)\n",
    "\n",
    "    # Only to look nicer.\n",
    "    RunningAverage(output_transform=lambda x: x).attach(trainer, \"crossentropy\")\n",
    "\n",
    "    enable_tqdm_pbars = is_run_from_ipython()\n",
    "\n",
    "    setup_common_training_handlers(\n",
    "        trainer, with_pbars=enable_tqdm_pbars, with_gpu_stats=torch.cuda.is_available(), log_every_iters=LOG_INTERVAL\n",
    "    )\n",
    "\n",
    "    if enable_tqdm_pbars:\n",
    "        ProgressBar(persist=False).attach(\n",
    "            validation_evaluator,\n",
    "            metric_names=\"all\",\n",
    "            event_name=Events.ITERATION_COMPLETED(every=LOG_INTERVAL),\n",
    "        )\n",
    "    else:\n",
    "        ignite_progress_bar(trainer, desc=lambda engine: \"Training\", log_interval=LOG_INTERVAL)\n",
    "\n",
    "    training_log[\"epochs\"] = []\n",
    "    epochs_log = training_log[\"epochs\"]\n",
    "\n",
    "    # Logging\n",
    "    @validation_evaluator.on(Events.EPOCH_COMPLETED)\n",
    "    def log_training_results(engine):\n",
    "        metrics = dict(engine.state.metrics)\n",
    "        epochs_log.append(metrics)\n",
    "\n",
    "        if is_run_from_ipython():\n",
    "            print(f\"Epoch metrics: {metrics}\")\n",
    "\n",
    "    if prefer_accuracy:\n",
    "\n",
    "        def score_function(metrics):\n",
    "            return float(metrics[\"accuracy\"])\n",
    "\n",
    "    else:\n",
    "\n",
    "        def score_function(metrics):\n",
    "            return float(metrics[\"crossentropy\"])\n",
    "\n",
    "    training_log[\"era_epochs\"] = []\n",
    "\n",
    "    def next_era_callback():\n",
    "        training_log[\"era_epochs\"].append(trainer.state.epoch)\n",
    "\n",
    "    scheduler = ReduceLROnPlateauWithScheduleWrapper(\n",
    "        optimizer,\n",
    "        metrics_transform=score_function,\n",
    "        factor_schedule=factor_schedule,\n",
    "        patience_schedule=patience_schedule,\n",
    "        limit_schedule=limit_schedule,\n",
    "        end_callback=trainer.terminate,\n",
    "        next_era_callback=next_era_callback,\n",
    "        mode=\"max\" if prefer_accuracy else \"min\",\n",
    "        verbose=True,\n",
    "        module=model\n",
    "    )\n",
    "\n",
    "    @validation_evaluator.on(Events.EPOCH_COMPLETED)\n",
    "    def step_scheduler(engine):\n",
    "        scheduler.step(engine)\n",
    "\n",
    "    # Kick everything off\n",
    "    trainer.run(train_loader, max_epochs=max_epochs)\n",
    "\n",
    "    # Return the optimizer in case we want to continue training.\n",
    "    return optimizer\n",
    "\n",
    "\n",
    "def train_with_cosine_annealing(\n",
    "    *,\n",
    "    model,\n",
    "    training_samples,\n",
    "    validation_samples,\n",
    "    train_loader: torch.utils.data.DataLoader,\n",
    "    validation_loader: torch.utils.data.DataLoader,\n",
    "    max_epochs: int,\n",
    "    device: str,\n",
    "    training_log: dict,\n",
    "    loss=None,\n",
    "    validation_loss=None,\n",
    "    optimizer=None,\n",
    "    train_augmentations=None,\n",
    "):\n",
    "    if not len(train_loader.dataset):\n",
    "        return optimizer\n",
    "\n",
    "    if loss is None:\n",
    "        loss = nn.NLLLoss()\n",
    "    if validation_loss is None:\n",
    "        validation_loss = loss\n",
    "\n",
    "    train_model = SamplerModel(model, training_samples)\n",
    "    if train_augmentations is not None:\n",
    "        train_model = torch.nn.Sequential(train_augmentations, train_model)\n",
    "\n",
    "    validation_model = LogProbMeanPrediction(SamplerModel(model, validation_samples))\n",
    "\n",
    "    # Move model to device before creating the optimizer\n",
    "    train_model.to(device)\n",
    "\n",
    "    if optimizer is None:\n",
    "        optimizer = torch.optim.Adam(model.parameters(), weight_decay=5e-4)\n",
    "\n",
    "    trainer = create_supervised_trainer(train_model, optimizer, loss_fn=multi_sample_loss(loss), device=device)\n",
    "\n",
    "    metrics = create_metrics(validation_loss)\n",
    "\n",
    "    validation_evaluator = create_supervised_evaluator(validation_model, metrics=metrics, device=device)\n",
    "\n",
    "    if len(validation_loader.dataset) > 0:\n",
    "        @trainer.on(Events.EPOCH_COMPLETED)\n",
    "        def compute_metrics(engine):\n",
    "            validation_evaluator.run(validation_loader)\n",
    "\n",
    "    # Only to look nicer.\n",
    "    #RunningAverage(output_transform=lambda x: x).attach(trainer, \"crossentropy\")\n",
    "    Average().attach(trainer, \"training_crossentropy\")\n",
    "\n",
    "    enable_tqdm_pbars = is_run_from_ipython()\n",
    "\n",
    "    setup_common_training_handlers(\n",
    "        trainer, with_pbars=enable_tqdm_pbars, with_gpu_stats=torch.cuda.is_available(), log_every_iters=LOG_INTERVAL\n",
    "    )\n",
    "\n",
    "    if enable_tqdm_pbars:\n",
    "        if len(validation_loader.dataset) > 0:\n",
    "            ProgressBar(persist=False).attach(\n",
    "                validation_evaluator,\n",
    "                metric_names=\"all\",\n",
    "                event_name=Events.ITERATION_COMPLETED(every=LOG_INTERVAL),\n",
    "            )\n",
    "    else:\n",
    "        ignite_progress_bar(trainer, desc=lambda engine: \"Training\", log_interval=LOG_INTERVAL)\n",
    "\n",
    "    training_log[\"epochs\"] = []\n",
    "    epochs_log = training_log[\"epochs\"]\n",
    "\n",
    "    # Logging\n",
    "    @trainer.on(Events.EPOCH_COMPLETED)\n",
    "    def log_training_metrics(engine):\n",
    "        metrics = dict(engine.state.metrics)\n",
    "        epochs_log.append(metrics)\n",
    "\n",
    "    @validation_evaluator.on(Events.EPOCH_COMPLETED)\n",
    "    def log_validation_metrics(engine):\n",
    "        metrics = dict(engine.state.metrics)\n",
    "        epochs_log.append(metrics)\n",
    "\n",
    "        if is_run_from_ipython():\n",
    "            print(f\"Epoch {trainer.state.epoch} metrics: {metrics}\")\n",
    "\n",
    "    scheduler = torch.optim.lr_scheduler.CosineAnnealingLR(optimizer, T_max=max_epochs)\n",
    "\n",
    "    @trainer.on(Events.EPOCH_COMPLETED)\n",
    "    def step_scheduler(engine):\n",
    "        scheduler.step()\n",
    "\n",
    "    # Kick everything off\n",
    "    trainer.run(train_loader, max_epochs=max_epochs)\n",
    "\n",
    "    # Return the optimizer in case we want to continue training.\n",
    "    return optimizer"
   ]
  },
  {
   "cell_type": "code",
   "execution_count": null,
   "metadata": {},
   "outputs": [],
   "source": [
    "# exports\n",
    "\n",
    "\n",
    "@dataclass\n",
    "class ModelOptimizerStateDicts:\n",
    "    model_state_dict: object\n",
    "    optimizer_state_dict: object\n",
    "\n",
    "\n",
    "@dataclass\n",
    "class DoubleSnapshots:\n",
    "    high_accuracy: ModelOptimizerStateDicts\n",
    "    low_cross_entropy: ModelOptimizerStateDicts\n",
    "\n",
    "\n",
    "def train_double_snapshots(\n",
    "    *,\n",
    "    model: BayesianModule,\n",
    "    training_samples,\n",
    "    validation_samples,\n",
    "    train_loader,\n",
    "    validation_loader,\n",
    "    patience: int,\n",
    "    max_epochs: int,\n",
    "    device: str,\n",
    "    training_log: dict,\n",
    "    loss=None,\n",
    "    validation_loss=None,\n",
    "    optimizer=None,\n",
    "    train_augmentations: torch.nn.Module,\n",
    ") -> DoubleSnapshots:\n",
    "    if loss is None:\n",
    "        loss = nn.NLLLoss()\n",
    "    if validation_loss is None:\n",
    "        validation_loss = loss\n",
    "\n",
    "    train_model = SamplerModel(model, training_samples)\n",
    "    if train_augmentations is not None:\n",
    "        train_model = torch.nn.Sequential(train_augmentations, train_model)\n",
    "\n",
    "    validation_model = LogProbMeanPrediction(SamplerModel(model, validation_samples))\n",
    "\n",
    "    # Move model to device before creating the optimizer\n",
    "    train_model.to(device)\n",
    "\n",
    "    if optimizer is None:\n",
    "        optimizer = torch.optim.Adam(model.parameters(), weight_decay=5e-4)\n",
    "\n",
    "    trainer = create_supervised_trainer(train_model, optimizer, loss_fn=multi_sample_loss(loss), device=device)\n",
    "\n",
    "    metrics = create_metrics(validation_loss)\n",
    "\n",
    "    validation_evaluator = create_supervised_evaluator(validation_model, metrics=metrics, device=device)\n",
    "\n",
    "    @trainer.on(Events.EPOCH_COMPLETED)\n",
    "    def compute_metrics(engine):\n",
    "        validation_evaluator.run(validation_loader)\n",
    "\n",
    "    # Only to look nicer.\n",
    "    RunningAverage(output_transform=lambda x: x).attach(trainer, \"crossentropy\")\n",
    "\n",
    "    enable_tqdm_pbars = is_run_from_ipython()\n",
    "\n",
    "    setup_common_training_handlers(\n",
    "        trainer, with_pbars=enable_tqdm_pbars, with_gpu_stats=torch.cuda.is_available(), log_every_iters=LOG_INTERVAL\n",
    "    )\n",
    "\n",
    "    if enable_tqdm_pbars:\n",
    "        ProgressBar(persist=False).attach(\n",
    "            validation_evaluator,\n",
    "            metric_names=\"all\",\n",
    "            event_name=Events.ITERATION_COMPLETED(every=LOG_INTERVAL),\n",
    "        )\n",
    "    else:\n",
    "        ignite_progress_bar(trainer, desc=lambda engine: \"Training\", log_interval=LOG_INTERVAL)\n",
    "\n",
    "    training_log[\"epochs\"] = []\n",
    "    epochs_log = training_log[\"epochs\"]\n",
    "\n",
    "    # Logging\n",
    "    @validation_evaluator.on(Events.EPOCH_COMPLETED)\n",
    "    def log_training_results(engine):\n",
    "        metrics = dict(engine.state.metrics)\n",
    "        epochs_log.append(metrics)\n",
    "\n",
    "        if is_run_from_ipython():\n",
    "            print(f\"Epoch metrics: {metrics}\")\n",
    "\n",
    "    cross_entropy_state_dicts = None\n",
    "    accuracy_state_dicts = None\n",
    "\n",
    "    # Add early stopping\n",
    "    if patience is not None:\n",
    "\n",
    "        def cross_entropy_out_of_patience_callback(module_state_dict, optimizer_state_dict):\n",
    "            nonlocal cross_entropy_state_dicts\n",
    "            cross_entropy_state_dicts = ModelOptimizerStateDicts(\n",
    "                model_state_dict=module_state_dict, optimizer_state_dict=optimizer_state_dict\n",
    "            )\n",
    "            if cross_entropy_pws.is_out_of_patience() and accuracy_entropy_pws.is_out_of_patience():\n",
    "                trainer.terminate()\n",
    "\n",
    "        cross_entropy_pws = PatienceWithSnapshot(\n",
    "            name=\"LowCrossEntropy-\",\n",
    "            patience=patience,\n",
    "            score_function=lambda: float(-validation_evaluator.state.metrics[\"crossentropy\"]),\n",
    "            module=model,\n",
    "            optimizer=optimizer,\n",
    "            training_engine=trainer,\n",
    "            validation_engine=validation_evaluator,\n",
    "            out_of_patience_callback=cross_entropy_out_of_patience_callback,\n",
    "        )\n",
    "\n",
    "        def accuracy_out_of_patience_callback(module_state_dict, optimizer_state_dict):\n",
    "            nonlocal accuracy_state_dicts\n",
    "            accuracy_state_dicts = ModelOptimizerStateDicts(\n",
    "                model_state_dict=module_state_dict, optimizer_state_dict=optimizer_state_dict\n",
    "            )\n",
    "            if cross_entropy_pws.is_out_of_patience() and accuracy_entropy_pws.is_out_of_patience():\n",
    "                trainer.terminate()\n",
    "\n",
    "        accuracy_entropy_pws = PatienceWithSnapshot(\n",
    "            name=\"Accuracy-\",\n",
    "            patience=patience,\n",
    "            score_function=lambda: float(validation_evaluator.state.metrics[\"accuracy\"]),\n",
    "            module=model,\n",
    "            optimizer=optimizer,\n",
    "            training_engine=trainer,\n",
    "            validation_engine=validation_evaluator,\n",
    "            out_of_patience_callback=accuracy_out_of_patience_callback,\n",
    "        )\n",
    "\n",
    "    # Kick everything off\n",
    "    trainer.run(train_loader, max_epochs=max_epochs)\n",
    "\n",
    "    if cross_entropy_state_dicts:\n",
    "        training_log[\"cross_entropy_best_epoch\"] = cross_entropy_pws.best_epoch\n",
    "    else:\n",
    "        cross_entropy_state_dicts = ModelOptimizerStateDicts(\n",
    "            model_state_dict=model.state_dict(), optimizer_state_dict=optimizer.state_dict()\n",
    "        )\n",
    "\n",
    "    if accuracy_state_dicts:\n",
    "        training_log[\"cross_entropy_best_epoch\"] = cross_entropy_pws.best_epoch\n",
    "    else:\n",
    "        accuracy_state_dicts = ModelOptimizerStateDicts(\n",
    "            model_state_dict=model.state_dict(), optimizer_state_dict=optimizer.state_dict()\n",
    "        )\n",
    "\n",
    "    return DoubleSnapshots(accuracy_state_dicts, cross_entropy_state_dicts)"
   ]
  },
  {
   "cell_type": "code",
   "execution_count": null,
   "metadata": {},
   "outputs": [],
   "source": [
    "# exports\n",
    "\n",
    "\n",
    "def evaluate(*, model: TrainedModel, loader, num_samples, device, storage_device, loss=None):\n",
    "    log_probs_N_K_C, labels_N = model.get_log_probs_N_K_C_labels_N(\n",
    "        loader=loader, num_samples=num_samples, device=device, storage_device=storage_device\n",
    "    )\n",
    "\n",
    "    if loss is None:\n",
    "        loss = nn.NLLLoss()\n",
    "\n",
    "    log_prob_mean_N_C = get_log_mean_probs(log_probs_N_K_C)\n",
    "    crossentropy = loss(log_prob_mean_N_C, labels_N)\n",
    "    accuracy = torch.sum(torch.eq(torch.argmax(log_prob_mean_N_C, dim=1), labels_N)).item() / len(labels_N)\n",
    "\n",
    "    return dict(accuracy=accuracy, crossentropy=crossentropy)\n",
    "\n",
    "\n",
    "def evaluate_old(*, model, num_samples, loader, device, loss=None):\n",
    "        # TODO: rewrite this on top of TrainedModel?\n",
    "        # Add \"get_log_prob_predictions\" which returns the mean?\n",
    "        # Compute accuracy etc based on that?\n",
    "\n",
    "    # Move model to device\n",
    "    model.to(device)\n",
    "\n",
    "    evaluation_model = LogProbMeanPrediction(SamplerModel(model, num_samples))\n",
    "\n",
    "    if loss is None:\n",
    "        loss = nn.NLLLoss()\n",
    "\n",
    "    metrics = create_metrics(loss)\n",
    "\n",
    "    evaluator = create_supervised_evaluator(evaluation_model, metrics=metrics, device=device)\n",
    "\n",
    "    ProgressBar(persist=False).attach(\n",
    "        evaluator,\n",
    "        metric_names=\"all\",\n",
    "        event_name=Events.ITERATION_COMPLETED(every=LOG_INTERVAL),\n",
    "    )\n",
    "\n",
    "    # Kick everything off\n",
    "    evaluator.run(loader, max_epochs=1)\n",
    "\n",
    "    return evaluator.state.metrics\n",
    "\n",
    "\n",
    "def create_metrics(loss):\n",
    "    return {\"accuracy\": Accuracy(), \"crossentropy\": Loss(loss)}"
   ]
  },
  {
   "cell_type": "markdown",
   "metadata": {},
   "source": [
    "We want to use metrics that allow us to capture the quality of the produced uncertainty during training."
   ]
  },
  {
   "cell_type": "code",
   "execution_count": null,
   "metadata": {},
   "outputs": [],
   "source": [
    "# experiment\n",
    "\n",
    "import torch.utils.data\n",
    "\n",
    "from batchbald_redux.consistent_mc_dropout import GeometricMeanPrediction, SamplerModel\n",
    "from batchbald_redux.dataset_challenges import create_repeated_MNIST_dataset\n",
    "from batchbald_redux.fast_mnist import FastMNIST\n",
    "from batchbald_redux.models import BayesianMNISTCNN\n",
    "\n",
    "train_dataset, test_dataset = create_repeated_MNIST_dataset(num_repetitions=1, add_noise=False)\n",
    "\n",
    "train_loader = torch.utils.data.DataLoader(train_dataset * 0.5, batch_size=64)\n",
    "test_loader = torch.utils.data.DataLoader(test_dataset, batch_size=64, drop_last=False)"
   ]
  },
  {
   "cell_type": "code",
   "execution_count": null,
   "metadata": {},
   "outputs": [
    {
     "data": {
      "application/vnd.jupyter.widget-view+json": {
       "model_id": "8a8bef0f804f4b9997abbe4f8c96b6a3",
       "version_major": 2,
       "version_minor": 0
      },
      "text/plain": [
       " 33%|###3      | 1/3 [00:00<?, ?it/s]"
      ]
     },
     "metadata": {},
     "output_type": "display_data"
    },
    {
     "data": {
      "application/vnd.jupyter.widget-view+json": {
       "model_id": "",
       "version_major": 2,
       "version_minor": 0
      },
      "text/plain": [
       "[1/469]   0%|           [00:00<?]"
      ]
     },
     "metadata": {},
     "output_type": "display_data"
    },
    {
     "data": {
      "application/vnd.jupyter.widget-view+json": {
       "model_id": "",
       "version_major": 2,
       "version_minor": 0
      },
      "text/plain": [
       "[1/469]   0%|           [00:00<?]"
      ]
     },
     "metadata": {},
     "output_type": "display_data"
    },
    {
     "name": "stdout",
     "output_type": "stream",
     "text": [
      "Epoch metrics: {'accuracy': 0.9618, 'crossentropy': 0.22172169035275777}\n"
     ]
    },
    {
     "data": {
      "application/vnd.jupyter.widget-view+json": {
       "model_id": "",
       "version_major": 2,
       "version_minor": 0
      },
      "text/plain": [
       "[1/469]   0%|           [00:00<?]"
      ]
     },
     "metadata": {},
     "output_type": "display_data"
    },
    {
     "data": {
      "application/vnd.jupyter.widget-view+json": {
       "model_id": "",
       "version_major": 2,
       "version_minor": 0
      },
      "text/plain": [
       "[1/469]   0%|           [00:00<?]"
      ]
     },
     "metadata": {},
     "output_type": "display_data"
    },
    {
     "name": "stdout",
     "output_type": "stream",
     "text": [
      "Epoch metrics: {'accuracy': 0.9730666666666666, 'crossentropy': 0.16770083003838857}\n"
     ]
    },
    {
     "data": {
      "application/vnd.jupyter.widget-view+json": {
       "model_id": "",
       "version_major": 2,
       "version_minor": 0
      },
      "text/plain": [
       "[1/469]   0%|           [00:00<?]"
      ]
     },
     "metadata": {},
     "output_type": "display_data"
    },
    {
     "data": {
      "application/vnd.jupyter.widget-view+json": {
       "model_id": "",
       "version_major": 2,
       "version_minor": 0
      },
      "text/plain": [
       "[1/469]   0%|           [00:00<?]"
      ]
     },
     "metadata": {},
     "output_type": "display_data"
    },
    {
     "name": "stdout",
     "output_type": "stream",
     "text": [
      "Epoch metrics: {'accuracy': 0.9798666666666667, 'crossentropy': 0.12909452050328254}\n",
      "RestoringEarlyStopping: Restoring best parameters. (Score: 0.9798666666666667)\n",
      "RestoringEarlyStopping: Restoring optimizer.\n"
     ]
    },
    {
     "data": {
      "text/plain": [
       "{'epochs': [{'accuracy': 0.9618, 'crossentropy': 0.22172169035275777},\n",
       "  {'accuracy': 0.9730666666666666, 'crossentropy': 0.16770083003838857},\n",
       "  {'accuracy': 0.9798666666666667, 'crossentropy': 0.12909452050328254}],\n",
       " 'best_epoch': 3}"
      ]
     },
     "execution_count": null,
     "metadata": {},
     "output_type": "execute_result"
    }
   ],
   "source": [
    "# experiment\n",
    "\n",
    "model = BayesianMNISTCNN()\n",
    "\n",
    "training_log = {}\n",
    "\n",
    "train(\n",
    "    model=model,\n",
    "    training_samples=1,\n",
    "    validation_samples=4,\n",
    "    train_loader=train_loader,\n",
    "    validation_loader=train_loader,\n",
    "    patience=3,\n",
    "    max_epochs=3,\n",
    "    device=\"cuda\",\n",
    "    training_log=training_log,\n",
    ")\n",
    "\n",
    "training_log"
   ]
  },
  {
   "cell_type": "code",
   "execution_count": null,
   "metadata": {},
   "outputs": [
    {
     "data": {
      "application/vnd.jupyter.widget-view+json": {
       "model_id": "",
       "version_major": 2,
       "version_minor": 0
      },
      "text/plain": [
       "get_predictions_labels:   0%|          | 0/40000 [00:00<?, ?it/s]"
      ]
     },
     "metadata": {},
     "output_type": "display_data"
    },
    {
     "data": {
      "text/plain": [
       "torch.Size([10000, 4, 1024])"
      ]
     },
     "execution_count": null,
     "metadata": {},
     "output_type": "execute_result"
    }
   ],
   "source": [
    "# experiment\n",
    "\n",
    "model.get_predictions_labels(\n",
    "    num_samples=4, loader=test_loader, device=\"cuda\", storage_device=\"cpu\", return_embedding=True\n",
    ")[0].shape"
   ]
  },
  {
   "cell_type": "code",
   "execution_count": null,
   "metadata": {},
   "outputs": [
    {
     "data": {
      "application/vnd.jupyter.widget-view+json": {
       "model_id": "",
       "version_major": 2,
       "version_minor": 0
      },
      "text/plain": [
       "[1/157]   1%|           [00:00<?]"
      ]
     },
     "metadata": {},
     "output_type": "display_data"
    },
    {
     "data": {
      "text/plain": [
       "{'accuracy': 0.9794, 'crossentropy': 0.1288855351626873}"
      ]
     },
     "execution_count": null,
     "metadata": {},
     "output_type": "execute_result"
    }
   ],
   "source": [
    "# experiment\n",
    "\n",
    "evaluate_old(model=model, num_samples=4, loader=test_loader, device=\"cuda\")"
   ]
  },
  {
   "cell_type": "code",
   "execution_count": null,
   "metadata": {},
   "outputs": [
    {
     "data": {
      "application/vnd.jupyter.widget-view+json": {
       "model_id": "3fa6ab9a89f74c1badfa1445cc43d6e8",
       "version_major": 2,
       "version_minor": 0
      },
      "text/plain": [
       "  2%|1         | 1/60 [00:00<?, ?it/s]"
      ]
     },
     "metadata": {},
     "output_type": "display_data"
    },
    {
     "data": {
      "application/vnd.jupyter.widget-view+json": {
       "model_id": "",
       "version_major": 2,
       "version_minor": 0
      },
      "text/plain": [
       "[1/47]   2%|2          [00:00<?]"
      ]
     },
     "metadata": {},
     "output_type": "display_data"
    },
    {
     "data": {
      "application/vnd.jupyter.widget-view+json": {
       "model_id": "",
       "version_major": 2,
       "version_minor": 0
      },
      "text/plain": [
       "[1/157]   1%|           [00:00<?]"
      ]
     },
     "metadata": {},
     "output_type": "display_data"
    },
    {
     "name": "stdout",
     "output_type": "stream",
     "text": [
      "Epoch metrics: {'accuracy': 0.8138, 'crossentropy': 0.8318569969177246}\n"
     ]
    },
    {
     "data": {
      "application/vnd.jupyter.widget-view+json": {
       "model_id": "",
       "version_major": 2,
       "version_minor": 0
      },
      "text/plain": [
       "[1/47]   2%|2          [00:00<?]"
      ]
     },
     "metadata": {},
     "output_type": "display_data"
    },
    {
     "data": {
      "application/vnd.jupyter.widget-view+json": {
       "model_id": "",
       "version_major": 2,
       "version_minor": 0
      },
      "text/plain": [
       "[1/157]   1%|           [00:00<?]"
      ]
     },
     "metadata": {},
     "output_type": "display_data"
    },
    {
     "name": "stdout",
     "output_type": "stream",
     "text": [
      "Epoch metrics: {'accuracy': 0.9051, 'crossentropy': 0.5015810224533082}\n"
     ]
    },
    {
     "data": {
      "application/vnd.jupyter.widget-view+json": {
       "model_id": "",
       "version_major": 2,
       "version_minor": 0
      },
      "text/plain": [
       "[1/47]   2%|2          [00:00<?]"
      ]
     },
     "metadata": {},
     "output_type": "display_data"
    },
    {
     "data": {
      "application/vnd.jupyter.widget-view+json": {
       "model_id": "",
       "version_major": 2,
       "version_minor": 0
      },
      "text/plain": [
       "[1/157]   1%|           [00:00<?]"
      ]
     },
     "metadata": {},
     "output_type": "display_data"
    },
    {
     "name": "stdout",
     "output_type": "stream",
     "text": [
      "Epoch metrics: {'accuracy': 0.9231, 'crossentropy': 0.4067144854307175}\n"
     ]
    },
    {
     "data": {
      "application/vnd.jupyter.widget-view+json": {
       "model_id": "",
       "version_major": 2,
       "version_minor": 0
      },
      "text/plain": [
       "[1/47]   2%|2          [00:00<?]"
      ]
     },
     "metadata": {},
     "output_type": "display_data"
    },
    {
     "data": {
      "application/vnd.jupyter.widget-view+json": {
       "model_id": "",
       "version_major": 2,
       "version_minor": 0
      },
      "text/plain": [
       "[1/157]   1%|           [00:00<?]"
      ]
     },
     "metadata": {},
     "output_type": "display_data"
    },
    {
     "name": "stdout",
     "output_type": "stream",
     "text": [
      "Epoch metrics: {'accuracy': 0.9376, 'crossentropy': 0.33887774846553803}\n"
     ]
    },
    {
     "data": {
      "application/vnd.jupyter.widget-view+json": {
       "model_id": "",
       "version_major": 2,
       "version_minor": 0
      },
      "text/plain": [
       "[1/47]   2%|2          [00:00<?]"
      ]
     },
     "metadata": {},
     "output_type": "display_data"
    },
    {
     "data": {
      "application/vnd.jupyter.widget-view+json": {
       "model_id": "",
       "version_major": 2,
       "version_minor": 0
      },
      "text/plain": [
       "[1/157]   1%|           [00:00<?]"
      ]
     },
     "metadata": {},
     "output_type": "display_data"
    },
    {
     "name": "stdout",
     "output_type": "stream",
     "text": [
      "Epoch metrics: {'accuracy': 0.9488, 'crossentropy': 0.284973241519928}\n"
     ]
    },
    {
     "data": {
      "application/vnd.jupyter.widget-view+json": {
       "model_id": "",
       "version_major": 2,
       "version_minor": 0
      },
      "text/plain": [
       "[1/47]   2%|2          [00:00<?]"
      ]
     },
     "metadata": {},
     "output_type": "display_data"
    },
    {
     "data": {
      "application/vnd.jupyter.widget-view+json": {
       "model_id": "",
       "version_major": 2,
       "version_minor": 0
      },
      "text/plain": [
       "[1/157]   1%|           [00:00<?]"
      ]
     },
     "metadata": {},
     "output_type": "display_data"
    },
    {
     "name": "stdout",
     "output_type": "stream",
     "text": [
      "Epoch metrics: {'accuracy': 0.9463, 'crossentropy': 0.2858008557677269}\n",
      "Epoch 6: 0.9463 worse than 0.9488, patience: 1/3!\n"
     ]
    },
    {
     "data": {
      "application/vnd.jupyter.widget-view+json": {
       "model_id": "",
       "version_major": 2,
       "version_minor": 0
      },
      "text/plain": [
       "[1/47]   2%|2          [00:00<?]"
      ]
     },
     "metadata": {},
     "output_type": "display_data"
    },
    {
     "data": {
      "application/vnd.jupyter.widget-view+json": {
       "model_id": "",
       "version_major": 2,
       "version_minor": 0
      },
      "text/plain": [
       "[1/157]   1%|           [00:00<?]"
      ]
     },
     "metadata": {},
     "output_type": "display_data"
    },
    {
     "name": "stdout",
     "output_type": "stream",
     "text": [
      "Epoch metrics: {'accuracy': 0.9544, 'crossentropy': 0.2509216430902481}\n"
     ]
    },
    {
     "data": {
      "application/vnd.jupyter.widget-view+json": {
       "model_id": "",
       "version_major": 2,
       "version_minor": 0
      },
      "text/plain": [
       "[1/47]   2%|2          [00:00<?]"
      ]
     },
     "metadata": {},
     "output_type": "display_data"
    },
    {
     "data": {
      "application/vnd.jupyter.widget-view+json": {
       "model_id": "",
       "version_major": 2,
       "version_minor": 0
      },
      "text/plain": [
       "[1/157]   1%|           [00:00<?]"
      ]
     },
     "metadata": {},
     "output_type": "display_data"
    },
    {
     "name": "stdout",
     "output_type": "stream",
     "text": [
      "Epoch metrics: {'accuracy': 0.9573, 'crossentropy': 0.2428978340089321}\n"
     ]
    },
    {
     "data": {
      "application/vnd.jupyter.widget-view+json": {
       "model_id": "",
       "version_major": 2,
       "version_minor": 0
      },
      "text/plain": [
       "[1/47]   2%|2          [00:00<?]"
      ]
     },
     "metadata": {},
     "output_type": "display_data"
    },
    {
     "data": {
      "application/vnd.jupyter.widget-view+json": {
       "model_id": "",
       "version_major": 2,
       "version_minor": 0
      },
      "text/plain": [
       "[1/157]   1%|           [00:00<?]"
      ]
     },
     "metadata": {},
     "output_type": "display_data"
    },
    {
     "name": "stdout",
     "output_type": "stream",
     "text": [
      "Epoch metrics: {'accuracy': 0.9608, 'crossentropy': 0.22644489660859107}\n"
     ]
    },
    {
     "data": {
      "application/vnd.jupyter.widget-view+json": {
       "model_id": "",
       "version_major": 2,
       "version_minor": 0
      },
      "text/plain": [
       "[1/47]   2%|2          [00:00<?]"
      ]
     },
     "metadata": {},
     "output_type": "display_data"
    },
    {
     "data": {
      "application/vnd.jupyter.widget-view+json": {
       "model_id": "",
       "version_major": 2,
       "version_minor": 0
      },
      "text/plain": [
       "[1/157]   1%|           [00:00<?]"
      ]
     },
     "metadata": {},
     "output_type": "display_data"
    },
    {
     "name": "stdout",
     "output_type": "stream",
     "text": [
      "Epoch metrics: {'accuracy': 0.9608, 'crossentropy': 0.21278315509557724}\n",
      "Epoch 10: 0.9608 worse than 0.9608, patience: 1/3!\n"
     ]
    },
    {
     "data": {
      "application/vnd.jupyter.widget-view+json": {
       "model_id": "",
       "version_major": 2,
       "version_minor": 0
      },
      "text/plain": [
       "[1/47]   2%|2          [00:00<?]"
      ]
     },
     "metadata": {},
     "output_type": "display_data"
    },
    {
     "data": {
      "application/vnd.jupyter.widget-view+json": {
       "model_id": "",
       "version_major": 2,
       "version_minor": 0
      },
      "text/plain": [
       "[1/157]   1%|           [00:00<?]"
      ]
     },
     "metadata": {},
     "output_type": "display_data"
    },
    {
     "name": "stdout",
     "output_type": "stream",
     "text": [
      "Epoch metrics: {'accuracy': 0.9618, 'crossentropy': 0.2145445026308298}\n"
     ]
    },
    {
     "data": {
      "application/vnd.jupyter.widget-view+json": {
       "model_id": "",
       "version_major": 2,
       "version_minor": 0
      },
      "text/plain": [
       "[1/47]   2%|2          [00:00<?]"
      ]
     },
     "metadata": {},
     "output_type": "display_data"
    },
    {
     "data": {
      "application/vnd.jupyter.widget-view+json": {
       "model_id": "",
       "version_major": 2,
       "version_minor": 0
      },
      "text/plain": [
       "[1/157]   1%|           [00:00<?]"
      ]
     },
     "metadata": {},
     "output_type": "display_data"
    },
    {
     "name": "stdout",
     "output_type": "stream",
     "text": [
      "Epoch metrics: {'accuracy': 0.963, 'crossentropy': 0.21237999706566335}\n"
     ]
    },
    {
     "data": {
      "application/vnd.jupyter.widget-view+json": {
       "model_id": "",
       "version_major": 2,
       "version_minor": 0
      },
      "text/plain": [
       "[1/47]   2%|2          [00:00<?]"
      ]
     },
     "metadata": {},
     "output_type": "display_data"
    },
    {
     "data": {
      "application/vnd.jupyter.widget-view+json": {
       "model_id": "",
       "version_major": 2,
       "version_minor": 0
      },
      "text/plain": [
       "[1/157]   1%|           [00:00<?]"
      ]
     },
     "metadata": {},
     "output_type": "display_data"
    },
    {
     "name": "stdout",
     "output_type": "stream",
     "text": [
      "Epoch metrics: {'accuracy': 0.9631, 'crossentropy': 0.21369002146720886}\n"
     ]
    },
    {
     "data": {
      "application/vnd.jupyter.widget-view+json": {
       "model_id": "",
       "version_major": 2,
       "version_minor": 0
      },
      "text/plain": [
       "[1/47]   2%|2          [00:00<?]"
      ]
     },
     "metadata": {},
     "output_type": "display_data"
    },
    {
     "data": {
      "application/vnd.jupyter.widget-view+json": {
       "model_id": "",
       "version_major": 2,
       "version_minor": 0
      },
      "text/plain": [
       "[1/157]   1%|           [00:00<?]"
      ]
     },
     "metadata": {},
     "output_type": "display_data"
    },
    {
     "name": "stdout",
     "output_type": "stream",
     "text": [
      "Epoch metrics: {'accuracy': 0.9673, 'crossentropy': 0.188571187569201}\n"
     ]
    },
    {
     "data": {
      "application/vnd.jupyter.widget-view+json": {
       "model_id": "",
       "version_major": 2,
       "version_minor": 0
      },
      "text/plain": [
       "[1/47]   2%|2          [00:00<?]"
      ]
     },
     "metadata": {},
     "output_type": "display_data"
    },
    {
     "data": {
      "application/vnd.jupyter.widget-view+json": {
       "model_id": "",
       "version_major": 2,
       "version_minor": 0
      },
      "text/plain": [
       "[1/157]   1%|           [00:00<?]"
      ]
     },
     "metadata": {},
     "output_type": "display_data"
    },
    {
     "name": "stdout",
     "output_type": "stream",
     "text": [
      "Epoch metrics: {'accuracy': 0.9667, 'crossentropy': 0.1944719546556473}\n",
      "Epoch 15: 0.9667 worse than 0.9673, patience: 1/3!\n"
     ]
    },
    {
     "data": {
      "application/vnd.jupyter.widget-view+json": {
       "model_id": "",
       "version_major": 2,
       "version_minor": 0
      },
      "text/plain": [
       "[1/47]   2%|2          [00:00<?]"
      ]
     },
     "metadata": {},
     "output_type": "display_data"
    },
    {
     "data": {
      "application/vnd.jupyter.widget-view+json": {
       "model_id": "",
       "version_major": 2,
       "version_minor": 0
      },
      "text/plain": [
       "[1/157]   1%|           [00:00<?]"
      ]
     },
     "metadata": {},
     "output_type": "display_data"
    },
    {
     "name": "stdout",
     "output_type": "stream",
     "text": [
      "Epoch metrics: {'accuracy': 0.9679, 'crossentropy': 0.19227623180747033}\n"
     ]
    },
    {
     "data": {
      "application/vnd.jupyter.widget-view+json": {
       "model_id": "",
       "version_major": 2,
       "version_minor": 0
      },
      "text/plain": [
       "[1/47]   2%|2          [00:00<?]"
      ]
     },
     "metadata": {},
     "output_type": "display_data"
    },
    {
     "data": {
      "application/vnd.jupyter.widget-view+json": {
       "model_id": "",
       "version_major": 2,
       "version_minor": 0
      },
      "text/plain": [
       "[1/157]   1%|           [00:00<?]"
      ]
     },
     "metadata": {},
     "output_type": "display_data"
    },
    {
     "name": "stdout",
     "output_type": "stream",
     "text": [
      "Epoch metrics: {'accuracy': 0.9673, 'crossentropy': 0.20758895537257194}\n",
      "Epoch 17: 0.9673 worse than 0.9679, patience: 1/3!\n"
     ]
    },
    {
     "data": {
      "application/vnd.jupyter.widget-view+json": {
       "model_id": "",
       "version_major": 2,
       "version_minor": 0
      },
      "text/plain": [
       "[1/47]   2%|2          [00:00<?]"
      ]
     },
     "metadata": {},
     "output_type": "display_data"
    },
    {
     "data": {
      "application/vnd.jupyter.widget-view+json": {
       "model_id": "",
       "version_major": 2,
       "version_minor": 0
      },
      "text/plain": [
       "[1/157]   1%|           [00:00<?]"
      ]
     },
     "metadata": {},
     "output_type": "display_data"
    },
    {
     "name": "stdout",
     "output_type": "stream",
     "text": [
      "Epoch metrics: {'accuracy': 0.9689, 'crossentropy': 0.19289123542010783}\n"
     ]
    },
    {
     "data": {
      "application/vnd.jupyter.widget-view+json": {
       "model_id": "",
       "version_major": 2,
       "version_minor": 0
      },
      "text/plain": [
       "[1/47]   2%|2          [00:00<?]"
      ]
     },
     "metadata": {},
     "output_type": "display_data"
    },
    {
     "data": {
      "application/vnd.jupyter.widget-view+json": {
       "model_id": "",
       "version_major": 2,
       "version_minor": 0
      },
      "text/plain": [
       "[1/157]   1%|           [00:00<?]"
      ]
     },
     "metadata": {},
     "output_type": "display_data"
    },
    {
     "name": "stdout",
     "output_type": "stream",
     "text": [
      "Epoch metrics: {'accuracy': 0.9701, 'crossentropy': 0.18630976665019988}\n"
     ]
    },
    {
     "data": {
      "application/vnd.jupyter.widget-view+json": {
       "model_id": "",
       "version_major": 2,
       "version_minor": 0
      },
      "text/plain": [
       "[1/47]   2%|2          [00:00<?]"
      ]
     },
     "metadata": {},
     "output_type": "display_data"
    },
    {
     "data": {
      "application/vnd.jupyter.widget-view+json": {
       "model_id": "",
       "version_major": 2,
       "version_minor": 0
      },
      "text/plain": [
       "[1/157]   1%|           [00:00<?]"
      ]
     },
     "metadata": {},
     "output_type": "display_data"
    },
    {
     "name": "stdout",
     "output_type": "stream",
     "text": [
      "Epoch metrics: {'accuracy': 0.9695, 'crossentropy': 0.19547787671089173}\n",
      "Epoch 20: 0.9695 worse than 0.9701, patience: 1/3!\n"
     ]
    },
    {
     "data": {
      "application/vnd.jupyter.widget-view+json": {
       "model_id": "",
       "version_major": 2,
       "version_minor": 0
      },
      "text/plain": [
       "[1/47]   2%|2          [00:00<?]"
      ]
     },
     "metadata": {},
     "output_type": "display_data"
    },
    {
     "data": {
      "application/vnd.jupyter.widget-view+json": {
       "model_id": "",
       "version_major": 2,
       "version_minor": 0
      },
      "text/plain": [
       "[1/157]   1%|           [00:00<?]"
      ]
     },
     "metadata": {},
     "output_type": "display_data"
    },
    {
     "name": "stdout",
     "output_type": "stream",
     "text": [
      "Epoch metrics: {'accuracy': 0.9706, 'crossentropy': 0.18417280072569847}\n"
     ]
    },
    {
     "data": {
      "application/vnd.jupyter.widget-view+json": {
       "model_id": "",
       "version_major": 2,
       "version_minor": 0
      },
      "text/plain": [
       "[1/47]   2%|2          [00:00<?]"
      ]
     },
     "metadata": {},
     "output_type": "display_data"
    },
    {
     "data": {
      "application/vnd.jupyter.widget-view+json": {
       "model_id": "",
       "version_major": 2,
       "version_minor": 0
      },
      "text/plain": [
       "[1/157]   1%|           [00:00<?]"
      ]
     },
     "metadata": {},
     "output_type": "display_data"
    },
    {
     "name": "stdout",
     "output_type": "stream",
     "text": [
      "Epoch metrics: {'accuracy': 0.9718, 'crossentropy': 0.18118949906229972}\n"
     ]
    },
    {
     "data": {
      "application/vnd.jupyter.widget-view+json": {
       "model_id": "",
       "version_major": 2,
       "version_minor": 0
      },
      "text/plain": [
       "[1/47]   2%|2          [00:00<?]"
      ]
     },
     "metadata": {},
     "output_type": "display_data"
    },
    {
     "data": {
      "application/vnd.jupyter.widget-view+json": {
       "model_id": "",
       "version_major": 2,
       "version_minor": 0
      },
      "text/plain": [
       "[1/157]   1%|           [00:00<?]"
      ]
     },
     "metadata": {},
     "output_type": "display_data"
    },
    {
     "name": "stdout",
     "output_type": "stream",
     "text": [
      "Epoch metrics: {'accuracy': 0.9694, 'crossentropy': 0.1888744118079543}\n",
      "Epoch 23: 0.9694 worse than 0.9718, patience: 1/3!\n"
     ]
    },
    {
     "data": {
      "application/vnd.jupyter.widget-view+json": {
       "model_id": "",
       "version_major": 2,
       "version_minor": 0
      },
      "text/plain": [
       "[1/47]   2%|2          [00:00<?]"
      ]
     },
     "metadata": {},
     "output_type": "display_data"
    },
    {
     "data": {
      "application/vnd.jupyter.widget-view+json": {
       "model_id": "",
       "version_major": 2,
       "version_minor": 0
      },
      "text/plain": [
       "[1/157]   1%|           [00:00<?]"
      ]
     },
     "metadata": {},
     "output_type": "display_data"
    },
    {
     "name": "stdout",
     "output_type": "stream",
     "text": [
      "Epoch metrics: {'accuracy': 0.9683, 'crossentropy': 0.189695987880975}\n",
      "Epoch 24: 0.9683 worse than 0.9718, patience: 2/3!\n"
     ]
    },
    {
     "data": {
      "application/vnd.jupyter.widget-view+json": {
       "model_id": "",
       "version_major": 2,
       "version_minor": 0
      },
      "text/plain": [
       "[1/47]   2%|2          [00:00<?]"
      ]
     },
     "metadata": {},
     "output_type": "display_data"
    },
    {
     "data": {
      "application/vnd.jupyter.widget-view+json": {
       "model_id": "",
       "version_major": 2,
       "version_minor": 0
      },
      "text/plain": [
       "[1/157]   1%|           [00:00<?]"
      ]
     },
     "metadata": {},
     "output_type": "display_data"
    },
    {
     "name": "stdout",
     "output_type": "stream",
     "text": [
      "Epoch metrics: {'accuracy': 0.9715, 'crossentropy': 0.1844632924541831}\n",
      "Epoch 25: 0.9715 worse than 0.9718, patience: 3/3!\n"
     ]
    },
    {
     "data": {
      "application/vnd.jupyter.widget-view+json": {
       "model_id": "",
       "version_major": 2,
       "version_minor": 0
      },
      "text/plain": [
       "[1/47]   2%|2          [00:00<?]"
      ]
     },
     "metadata": {},
     "output_type": "display_data"
    },
    {
     "data": {
      "application/vnd.jupyter.widget-view+json": {
       "model_id": "",
       "version_major": 2,
       "version_minor": 0
      },
      "text/plain": [
       "[1/157]   1%|           [00:00<?]"
      ]
     },
     "metadata": {},
     "output_type": "display_data"
    },
    {
     "name": "stdout",
     "output_type": "stream",
     "text": [
      "Epoch metrics: {'accuracy': 0.9707, 'crossentropy': 0.19293912473917008}\n",
      "Epoch 26: 0.9707 worse than 0.9718, patience: 4/3!\n",
      "Epoch    26: reducing learning rate of group 0 to 1.0000e-04.\n"
     ]
    },
    {
     "data": {
      "application/vnd.jupyter.widget-view+json": {
       "model_id": "",
       "version_major": 2,
       "version_minor": 0
      },
      "text/plain": [
       "[1/47]   2%|2          [00:00<?]"
      ]
     },
     "metadata": {},
     "output_type": "display_data"
    },
    {
     "data": {
      "application/vnd.jupyter.widget-view+json": {
       "model_id": "",
       "version_major": 2,
       "version_minor": 0
      },
      "text/plain": [
       "[1/157]   1%|           [00:00<?]"
      ]
     },
     "metadata": {},
     "output_type": "display_data"
    },
    {
     "name": "stdout",
     "output_type": "stream",
     "text": [
      "Epoch metrics: {'accuracy': 0.9744, 'crossentropy': 0.16678278848044575}\n"
     ]
    },
    {
     "data": {
      "application/vnd.jupyter.widget-view+json": {
       "model_id": "",
       "version_major": 2,
       "version_minor": 0
      },
      "text/plain": [
       "[1/47]   2%|2          [00:00<?]"
      ]
     },
     "metadata": {},
     "output_type": "display_data"
    },
    {
     "data": {
      "application/vnd.jupyter.widget-view+json": {
       "model_id": "",
       "version_major": 2,
       "version_minor": 0
      },
      "text/plain": [
       "[1/157]   1%|           [00:00<?]"
      ]
     },
     "metadata": {},
     "output_type": "display_data"
    },
    {
     "name": "stdout",
     "output_type": "stream",
     "text": [
      "Epoch metrics: {'accuracy': 0.9732, 'crossentropy': 0.170559820997715}\n",
      "Epoch 28: 0.9732 worse than 0.9744, patience: 1/3!\n"
     ]
    },
    {
     "data": {
      "application/vnd.jupyter.widget-view+json": {
       "model_id": "",
       "version_major": 2,
       "version_minor": 0
      },
      "text/plain": [
       "[1/47]   2%|2          [00:00<?]"
      ]
     },
     "metadata": {},
     "output_type": "display_data"
    },
    {
     "data": {
      "application/vnd.jupyter.widget-view+json": {
       "model_id": "",
       "version_major": 2,
       "version_minor": 0
      },
      "text/plain": [
       "[1/157]   1%|           [00:00<?]"
      ]
     },
     "metadata": {},
     "output_type": "display_data"
    },
    {
     "name": "stdout",
     "output_type": "stream",
     "text": [
      "Epoch metrics: {'accuracy': 0.9747, 'crossentropy': 0.16037208632528782}\n"
     ]
    },
    {
     "data": {
      "application/vnd.jupyter.widget-view+json": {
       "model_id": "",
       "version_major": 2,
       "version_minor": 0
      },
      "text/plain": [
       "[1/47]   2%|2          [00:00<?]"
      ]
     },
     "metadata": {},
     "output_type": "display_data"
    },
    {
     "data": {
      "application/vnd.jupyter.widget-view+json": {
       "model_id": "",
       "version_major": 2,
       "version_minor": 0
      },
      "text/plain": [
       "[1/157]   1%|           [00:00<?]"
      ]
     },
     "metadata": {},
     "output_type": "display_data"
    },
    {
     "name": "stdout",
     "output_type": "stream",
     "text": [
      "Epoch metrics: {'accuracy': 0.9751, 'crossentropy': 0.16294795689582825}\n"
     ]
    },
    {
     "data": {
      "application/vnd.jupyter.widget-view+json": {
       "model_id": "",
       "version_major": 2,
       "version_minor": 0
      },
      "text/plain": [
       "[1/47]   2%|2          [00:00<?]"
      ]
     },
     "metadata": {},
     "output_type": "display_data"
    },
    {
     "data": {
      "application/vnd.jupyter.widget-view+json": {
       "model_id": "",
       "version_major": 2,
       "version_minor": 0
      },
      "text/plain": [
       "[1/157]   1%|           [00:00<?]"
      ]
     },
     "metadata": {},
     "output_type": "display_data"
    },
    {
     "name": "stdout",
     "output_type": "stream",
     "text": [
      "Epoch metrics: {'accuracy': 0.9757, 'crossentropy': 0.1579607660241425}\n"
     ]
    },
    {
     "data": {
      "application/vnd.jupyter.widget-view+json": {
       "model_id": "",
       "version_major": 2,
       "version_minor": 0
      },
      "text/plain": [
       "[1/47]   2%|2          [00:00<?]"
      ]
     },
     "metadata": {},
     "output_type": "display_data"
    },
    {
     "data": {
      "application/vnd.jupyter.widget-view+json": {
       "model_id": "",
       "version_major": 2,
       "version_minor": 0
      },
      "text/plain": [
       "[1/157]   1%|           [00:00<?]"
      ]
     },
     "metadata": {},
     "output_type": "display_data"
    },
    {
     "name": "stdout",
     "output_type": "stream",
     "text": [
      "Epoch metrics: {'accuracy': 0.9749, 'crossentropy': 0.15656672970429064}\n",
      "Epoch 32: 0.9749 worse than 0.9757, patience: 1/3!\n"
     ]
    },
    {
     "data": {
      "application/vnd.jupyter.widget-view+json": {
       "model_id": "",
       "version_major": 2,
       "version_minor": 0
      },
      "text/plain": [
       "[1/47]   2%|2          [00:00<?]"
      ]
     },
     "metadata": {},
     "output_type": "display_data"
    },
    {
     "data": {
      "application/vnd.jupyter.widget-view+json": {
       "model_id": "",
       "version_major": 2,
       "version_minor": 0
      },
      "text/plain": [
       "[1/157]   1%|           [00:00<?]"
      ]
     },
     "metadata": {},
     "output_type": "display_data"
    },
    {
     "name": "stdout",
     "output_type": "stream",
     "text": [
      "Epoch metrics: {'accuracy': 0.9742, 'crossentropy': 0.165166756830737}\n",
      "Epoch 33: 0.9742 worse than 0.9757, patience: 2/3!\n"
     ]
    },
    {
     "data": {
      "application/vnd.jupyter.widget-view+json": {
       "model_id": "",
       "version_major": 2,
       "version_minor": 0
      },
      "text/plain": [
       "[1/47]   2%|2          [00:00<?]"
      ]
     },
     "metadata": {},
     "output_type": "display_data"
    },
    {
     "data": {
      "application/vnd.jupyter.widget-view+json": {
       "model_id": "",
       "version_major": 2,
       "version_minor": 0
      },
      "text/plain": [
       "[1/157]   1%|           [00:00<?]"
      ]
     },
     "metadata": {},
     "output_type": "display_data"
    },
    {
     "name": "stdout",
     "output_type": "stream",
     "text": [
      "Epoch metrics: {'accuracy': 0.9744, 'crossentropy': 0.16184359027966858}\n",
      "Epoch 34: 0.9744 worse than 0.9757, patience: 3/3!\n"
     ]
    },
    {
     "data": {
      "application/vnd.jupyter.widget-view+json": {
       "model_id": "",
       "version_major": 2,
       "version_minor": 0
      },
      "text/plain": [
       "[1/47]   2%|2          [00:00<?]"
      ]
     },
     "metadata": {},
     "output_type": "display_data"
    },
    {
     "data": {
      "application/vnd.jupyter.widget-view+json": {
       "model_id": "",
       "version_major": 2,
       "version_minor": 0
      },
      "text/plain": [
       "[1/157]   1%|           [00:00<?]"
      ]
     },
     "metadata": {},
     "output_type": "display_data"
    },
    {
     "name": "stdout",
     "output_type": "stream",
     "text": [
      "Epoch metrics: {'accuracy': 0.9754, 'crossentropy': 0.15807696827538312}\n",
      "Epoch 35: 0.9754 worse than 0.9757, patience: 4/3!\n"
     ]
    },
    {
     "data": {
      "text/plain": [
       "{'epochs': [{'accuracy': 0.8138, 'crossentropy': 0.8318569969177246},\n",
       "  {'accuracy': 0.9051, 'crossentropy': 0.5015810224533082},\n",
       "  {'accuracy': 0.9231, 'crossentropy': 0.4067144854307175},\n",
       "  {'accuracy': 0.9376, 'crossentropy': 0.33887774846553803},\n",
       "  {'accuracy': 0.9488, 'crossentropy': 0.284973241519928},\n",
       "  {'accuracy': 0.9463, 'crossentropy': 0.2858008557677269},\n",
       "  {'accuracy': 0.9544, 'crossentropy': 0.2509216430902481},\n",
       "  {'accuracy': 0.9573, 'crossentropy': 0.2428978340089321},\n",
       "  {'accuracy': 0.9608, 'crossentropy': 0.22644489660859107},\n",
       "  {'accuracy': 0.9608, 'crossentropy': 0.21278315509557724},\n",
       "  {'accuracy': 0.9618, 'crossentropy': 0.2145445026308298},\n",
       "  {'accuracy': 0.963, 'crossentropy': 0.21237999706566335},\n",
       "  {'accuracy': 0.9631, 'crossentropy': 0.21369002146720886},\n",
       "  {'accuracy': 0.9673, 'crossentropy': 0.188571187569201},\n",
       "  {'accuracy': 0.9667, 'crossentropy': 0.1944719546556473},\n",
       "  {'accuracy': 0.9679, 'crossentropy': 0.19227623180747033},\n",
       "  {'accuracy': 0.9673, 'crossentropy': 0.20758895537257194},\n",
       "  {'accuracy': 0.9689, 'crossentropy': 0.19289123542010783},\n",
       "  {'accuracy': 0.9701, 'crossentropy': 0.18630976665019988},\n",
       "  {'accuracy': 0.9695, 'crossentropy': 0.19547787671089173},\n",
       "  {'accuracy': 0.9706, 'crossentropy': 0.18417280072569847},\n",
       "  {'accuracy': 0.9718, 'crossentropy': 0.18118949906229972},\n",
       "  {'accuracy': 0.9694, 'crossentropy': 0.1888744118079543},\n",
       "  {'accuracy': 0.9683, 'crossentropy': 0.189695987880975},\n",
       "  {'accuracy': 0.9715, 'crossentropy': 0.1844632924541831},\n",
       "  {'accuracy': 0.9707, 'crossentropy': 0.19293912473917008},\n",
       "  {'accuracy': 0.9744, 'crossentropy': 0.16678278848044575},\n",
       "  {'accuracy': 0.9732, 'crossentropy': 0.170559820997715},\n",
       "  {'accuracy': 0.9747, 'crossentropy': 0.16037208632528782},\n",
       "  {'accuracy': 0.9751, 'crossentropy': 0.16294795689582825},\n",
       "  {'accuracy': 0.9757, 'crossentropy': 0.1579607660241425},\n",
       "  {'accuracy': 0.9749, 'crossentropy': 0.15656672970429064},\n",
       "  {'accuracy': 0.9742, 'crossentropy': 0.165166756830737},\n",
       "  {'accuracy': 0.9744, 'crossentropy': 0.16184359027966858},\n",
       "  {'accuracy': 0.9754, 'crossentropy': 0.15807696827538312}],\n",
       " 'era_epochs': [26]}"
      ]
     },
     "execution_count": null,
     "metadata": {},
     "output_type": "execute_result"
    }
   ],
   "source": [
    "# experiment\n",
    "\n",
    "model = BayesianMNISTCNN()\n",
    "\n",
    "training_log = {}\n",
    "\n",
    "train_with_schedule(\n",
    "    model=model,\n",
    "    training_samples=1,\n",
    "    validation_samples=4,\n",
    "    train_loader=train_loader,\n",
    "    validation_loader=test_loader,\n",
    "    patience_schedule=[3, 3],\n",
    "    factor_schedule=[0.1],\n",
    "    max_epochs=60,\n",
    "    device=\"cuda\",\n",
    "    training_log=training_log,\n",
    ")\n",
    "\n",
    "training_log"
   ]
  }
 ],
 "metadata": {
  "kernelspec": {
   "display_name": "Python [conda env:active_learning]",
   "language": "python",
   "name": "conda-env-active_learning-py"
  }
 },
 "nbformat": 4,
 "nbformat_minor": 4
}
