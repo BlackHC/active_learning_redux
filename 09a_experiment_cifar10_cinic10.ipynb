{
 "cells": [
  {
   "cell_type": "markdown",
   "metadata": {},
   "source": [
    "# Experiment CIFAR-10\n",
    "> Can we get better by training on our assumptions?"
   ]
  },
  {
   "cell_type": "code",
   "execution_count": null,
   "metadata": {},
   "outputs": [],
   "source": [
    "# default_exp experiment_cifar10_cinic10"
   ]
  },
  {
   "cell_type": "code",
   "execution_count": null,
   "metadata": {},
   "outputs": [],
   "source": [
    "# hide\n",
    "import blackhc.project.script"
   ]
  },
  {
   "cell_type": "markdown",
   "metadata": {},
   "source": [
    "Import modules and functions were are going to use."
   ]
  },
  {
   "cell_type": "code",
   "execution_count": null,
   "metadata": {},
   "outputs": [],
   "source": [
    "# exports\n",
    "\n",
    "import dataclasses\n",
    "import traceback\n",
    "\n",
    "from blackhc.project import is_run_from_ipython\n",
    "from blackhc.project.experiment import embedded_experiments\n",
    "\n",
    "from batchbald_redux import acquisition_functions, baseline_acquisition_functions\n",
    "from batchbald_redux.experiment_data import (\n",
    "    OoDDatasetConfig,\n",
    "    StandardExperimentDataConfig,\n",
    ")\n",
    "from batchbald_redux.resnet_models import Cifar10ModelWorkshopPaperTrainer\n",
    "from batchbald_redux.unified_experiment import UnifiedExperiment"
   ]
  },
  {
   "cell_type": "code",
   "execution_count": null,
   "metadata": {},
   "outputs": [],
   "source": [
    "# exports\n",
    "\n",
    "shared_configs = dict(\n",
    "    num_validation_samples=1,\n",
    "    num_pool_samples=1,\n",
    "    num_training_samples=1,\n",
    "    resnet18_dropout_head=False,\n",
    "    ensemble_size=3,\n",
    "    max_training_epochs=105,\n",
    "    model_trainer_factory=Cifar10ModelWorkshopPaperTrainer,\n",
    "    max_training_set=16000,\n",
    ")\n",
    "\n",
    "configs = sum(\n",
    "    [\n",
    "        [\n",
    "            UnifiedExperiment(\n",
    "                experiment_data_config=StandardExperimentDataConfig(\n",
    "                    id_dataset_name=id_dataset_name,\n",
    "                    id_repetitions=1,\n",
    "                    initial_training_set_size=1000,\n",
    "                    validation_set_size=1024,\n",
    "                    validation_split_random_state=0,\n",
    "                    evaluation_set_size=0,\n",
    "                    add_dataset_noise=False,\n",
    "                    ood_dataset_config=None,\n",
    "                ),\n",
    "                seed=seed + 1456,\n",
    "                acquisition_function=acquisition_function,\n",
    "                acquisition_size=acquisition_size,\n",
    "                **shared_configs\n",
    "            )\n",
    "            for acquisition_function in [\n",
    "                acquisition_functions.BALD,\n",
    "            ]\n",
    "        ]\n",
    "        + [\n",
    "            UnifiedExperiment(\n",
    "                experiment_data_config=StandardExperimentDataConfig(\n",
    "                    id_dataset_name=id_dataset_name,\n",
    "                    id_repetitions=1,\n",
    "                    initial_training_set_size=1000,\n",
    "                    validation_set_size=1024,\n",
    "                    validation_split_random_state=0,\n",
    "                    evaluation_set_size=0,\n",
    "                    add_dataset_noise=False,\n",
    "                    ood_dataset_config=None,\n",
    "                ),\n",
    "                seed=seed + 8945,\n",
    "                acquisition_function=acquisition_function,\n",
    "                acquisition_size=acquisition_size,\n",
    "                coldness=coldness,\n",
    "                stochastic_mode=stochastic_mode,\n",
    "                **shared_configs\n",
    "            )\n",
    "            for stochastic_mode in [\n",
    "                acquisition_functions.StochasticMode.Power,\n",
    "                acquisition_functions.StochasticMode.Softmax,\n",
    "                acquisition_functions.StochasticMode.Softrank,\n",
    "            ]\n",
    "            for coldness in ([1/8, 1] if stochastic_mode != acquisition_functions.StochasticMode.Softrank else [1])\n",
    "            for acquisition_function in [\n",
    "                acquisition_functions.StochasticBALD,\n",
    "            ]\n",
    "        ]\n",
    "        for seed in range(3)\n",
    "        for id_dataset_name in [\"CINIC-10\"]\n",
    "        for acquisition_size in [300]\n",
    "    ],\n",
    "    [],\n",
    ")\n",
    "# + [\n",
    "#     UnifiedExperiment(\n",
    "#         experiment_data_config=StandardExperimentDataConfig(\n",
    "#             id_dataset_name=id_dataset_name,\n",
    "#             id_repetitions=1,\n",
    "#             initial_training_set_size=1000,\n",
    "#             validation_set_size=1024,\n",
    "#             validation_split_random_state=0,\n",
    "#             evaluation_set_size=0,\n",
    "#             add_dataset_noise=False,\n",
    "#             ood_dataset_config=None,\n",
    "#         ),\n",
    "#         seed=seed + 1456,\n",
    "#         acquisition_function=acquisition_function,\n",
    "#         acquisition_size=acquisition_size,\n",
    "#         num_validation_samples=1,\n",
    "#         num_pool_samples=1,\n",
    "#         num_training_samples=1,\n",
    "#         resnet18_dropout_head=False,\n",
    "#         ensemble_size=1,\n",
    "#         max_training_epochs=105,\n",
    "#         model_trainer_factory=Cifar10ModelWorkshopPaperTrainer,\n",
    "#         max_training_set=16000,\n",
    "#     )\n",
    "#     for acquisition_function in [\n",
    "#         baseline_acquisition_functions.BADGE,\n",
    "#     ]\n",
    "#     for seed in range(3)\n",
    "#     for id_dataset_name in [\"CIFAR-10\", \"CINIC-10\"]\n",
    "#     for acquisition_size in [300, 900]\n",
    "# ]\n",
    "#     UnifiedExperiment(\n",
    "#         seed=seed + 8945,\n",
    "#         acquisition_function=acquisition_function,\n",
    "#         acquisition_size=acquisition_size,\n",
    "#         num_pool_samples=num_pool_samples,\n",
    "#         initial_training_set_size=1000,\n",
    "#         evaluation_set_size=0,\n",
    "#         max_training_set=15000,\n",
    "#         temperature=temperature,\n",
    "#         id_dataset_name=\"CIFAR-10\",\n",
    "#         ood_dataset_name=None,\n",
    "#         ood_exposure=False,\n",
    "#         id_repetitions=id_repetitions,\n",
    "#         add_dataset_noise=True\n",
    "\n",
    "#     )\n",
    "#     for seed in range(5)\n",
    "#     for acquisition_function in [\n",
    "#         acquisition_functions.SieveBALD,\n",
    "#     ]\n",
    "#     for acquisition_size in [3000]\n",
    "#     for num_pool_samples in [100]\n",
    "#     for temperature in [1/64]\n",
    "#     for id_repetitions in [1,5,10,20]\n",
    "# ]\n",
    "# +\n",
    "#     UnifiedExperiment(\n",
    "#         seed=seed + 8945,\n",
    "#         acquisition_function=acquisition_function,\n",
    "#         acquisition_size=acquisition_size,\n",
    "#         num_pool_samples=num_pool_samples,\n",
    "#         initial_training_set_size=1000,\n",
    "#         evaluation_set_size=0,\n",
    "#         max_training_set=15000,\n",
    "#         temperature=temperature,\n",
    "#         id_dataset_name=\"CIFAR-10\",\n",
    "#         ood_dataset_name=None,\n",
    "#         ood_exposure=False,\n",
    "#         id_repetitions=id_repetitions,\n",
    "#         add_dataset_noise=True\n",
    "\n",
    "#     )\n",
    "#     for seed in range(5)\n",
    "#     for acquisition_function in [\n",
    "#         acquisition_functions.SoftmaxBALD,\n",
    "#     ]\n",
    "#     for acquisition_size in [3000]\n",
    "#     for num_pool_samples in [100]\n",
    "#     for temperature in [1/64]\n",
    "#     for id_repetitions in [1,5,10,20]\n",
    "# ] + [\n",
    "#     UnifiedExperiment(\n",
    "#         seed=seed + 8945,\n",
    "#         acquisition_function=acquisition_function,\n",
    "#         acquisition_size=acquisition_size,\n",
    "#         num_pool_samples=num_pool_samples,\n",
    "#         initial_training_set_size=1000,\n",
    "#         evaluation_set_size=0,\n",
    "#         max_training_set=15000,\n",
    "#         temperature=temperature,\n",
    "#         id_repetitions=id_repetitions,\n",
    "#         add_dataset_noise=True,\n",
    "#         id_dataset_name=\"CIFAR-10\",\n",
    "#         ood_dataset_name=None,\n",
    "#         ood_exposure=False,\n",
    "#     )\n",
    "#     for seed in range(5)\n",
    "#     for acquisition_function in [\n",
    "#         acquisition_functions.BALD,\n",
    "#     ]\n",
    "#     for acquisition_size in [3000]\n",
    "#     for num_pool_samples in [100]\n",
    "#     for temperature in [0]\n",
    "#     for id_repetitions in [1,5,10,20]\n",
    "# ]\n",
    "\n",
    "if not is_run_from_ipython() and __name__ == \"__main__\":\n",
    "    for job_id, store in embedded_experiments(__file__, len(configs)):\n",
    "        config = configs[job_id]\n",
    "        config.seed += job_id\n",
    "        print(config)\n",
    "        store[\"config\"] = dataclasses.asdict(config)\n",
    "        store[\"log\"] = {}\n",
    "\n",
    "        try:\n",
    "            config.run(store=store)\n",
    "        except Exception:\n",
    "            store[\"exception\"] = traceback.format_exc()\n",
    "            raise"
   ]
  },
  {
   "cell_type": "code",
   "execution_count": null,
   "metadata": {},
   "outputs": [
    {
     "data": {
      "text/plain": [
       "18"
      ]
     },
     "execution_count": null,
     "metadata": {},
     "output_type": "execute_result"
    }
   ],
   "source": [
    "len(configs)"
   ]
  },
  {
   "cell_type": "code",
   "execution_count": null,
   "metadata": {},
   "outputs": [
    {
     "name": "stdout",
     "output_type": "stream",
     "text": [
      "[\n",
      "    batchbald_redux.unified_experiment.UnifiedExperiment(\n",
      "        seed=1456,\n",
      "        experiment_data_config=batchbald_redux.experiment_data.StandardExperimentDataConfig(\n",
      "            id_dataset_name='CIFAR-10',\n",
      "            id_repetitions=1,\n",
      "            initial_training_set_size=1000,\n",
      "            validation_set_size=1024,\n",
      "            validation_split_random_state=0,\n",
      "            evaluation_set_size=0,\n",
      "            add_dataset_noise=False,\n",
      "            ood_dataset_config=None\n",
      "        ),\n",
      "        acquisition_size=300,\n",
      "        max_training_set=16000,\n",
      "        max_training_epochs=105,\n",
      "        num_pool_samples=1,\n",
      "        num_validation_samples=1,\n",
      "        # class\n",
      "        acquisition_function=batchbald_redux.baseline_acquisition_functions.BADGE,\n",
      "        # class\n",
      "        model_trainer_factory=batchbald_redux.resnet_models.Cifar10ModelWorkshopPaperTrainer,\n",
      "        ensemble_size=3,\n",
      "        resnet18_dropout_head=False\n",
      "    ),\n",
      "    batchbald_redux.unified_experiment.UnifiedExperiment(\n",
      "        seed=1456,\n",
      "        experiment_data_config=batchbald_redux.experiment_data.StandardExperimentDataConfig(\n",
      "            id_dataset_name='CIFAR-10',\n",
      "            id_repetitions=1,\n",
      "            initial_training_set_size=1000,\n",
      "            validation_set_size=1024,\n",
      "            validation_split_random_state=0,\n",
      "            evaluation_set_size=0,\n",
      "            add_dataset_noise=False,\n",
      "            ood_dataset_config=None\n",
      "        ),\n",
      "        acquisition_size=300,\n",
      "        max_training_set=16000,\n",
      "        max_training_epochs=105,\n",
      "        num_pool_samples=1,\n",
      "        num_validation_samples=1,\n",
      "        # class\n",
      "        acquisition_function=batchbald_redux.acquisition_functions.BALD,\n",
      "        # class\n",
      "        model_trainer_factory=batchbald_redux.resnet_models.Cifar10ModelWorkshopPaperTrainer,\n",
      "        ensemble_size=3,\n",
      "        resnet18_dropout_head=False\n",
      "    ),\n",
      "    batchbald_redux.unified_experiment.UnifiedExperiment(\n",
      "        seed=8945,\n",
      "        experiment_data_config=batchbald_redux.experiment_data.StandardExperimentDataConfig(\n",
      "            id_dataset_name='CIFAR-10',\n",
      "            id_repetitions=1,\n",
      "            initial_training_set_size=1000,\n",
      "            validation_set_size=1024,\n",
      "            validation_split_random_state=0,\n",
      "            evaluation_set_size=0,\n",
      "            add_dataset_noise=False,\n",
      "            ood_dataset_config=None\n",
      "        ),\n",
      "        acquisition_size=300,\n",
      "        max_training_set=16000,\n",
      "        max_training_epochs=105,\n",
      "        num_pool_samples=1,\n",
      "        num_validation_samples=1,\n",
      "        # class\n",
      "        acquisition_function=batchbald_redux.acquisition_functions.StochasticBALD,\n",
      "        # class\n",
      "        model_trainer_factory=batchbald_redux.resnet_models.Cifar10ModelWorkshopPaperTrainer,\n",
      "        ensemble_size=3,\n",
      "        stochastic_mode=batchbald_redux.batchbald.StochasticMode.Power,\n",
      "        resnet18_dropout_head=False\n",
      "    ),\n",
      "    batchbald_redux.unified_experiment.UnifiedExperiment(\n",
      "        seed=8945,\n",
      "        experiment_data_config=batchbald_redux.experiment_data.StandardExperimentDataConfig(\n",
      "            id_dataset_name='CIFAR-10',\n",
      "            id_repetitions=1,\n",
      "            initial_training_set_size=1000,\n",
      "            validation_set_size=1024,\n",
      "            validation_split_random_state=0,\n",
      "            evaluation_set_size=0,\n",
      "            add_dataset_noise=False,\n",
      "            ood_dataset_config=None\n",
      "        ),\n",
      "        acquisition_size=300,\n",
      "        max_training_set=16000,\n",
      "        max_training_epochs=105,\n",
      "        num_pool_samples=1,\n",
      "        num_validation_samples=1,\n",
      "        # class\n",
      "        acquisition_function=batchbald_redux.acquisition_functions.StochasticBALD,\n",
      "        # class\n",
      "        model_trainer_factory=batchbald_redux.resnet_models.Cifar10ModelWorkshopPaperTrainer,\n",
      "        ensemble_size=3,\n",
      "        coldness=8,\n",
      "        stochastic_mode=batchbald_redux.batchbald.StochasticMode.Power,\n",
      "        resnet18_dropout_head=False\n",
      "    ),\n",
      "    batchbald_redux.unified_experiment.UnifiedExperiment(\n",
      "        seed=8945,\n",
      "        experiment_data_config=batchbald_redux.experiment_data.StandardExperimentDataConfig(\n",
      "            id_dataset_name='CIFAR-10',\n",
      "            id_repetitions=1,\n",
      "            initial_training_set_size=1000,\n",
      "            validation_set_size=1024,\n",
      "            validation_split_random_state=0,\n",
      "            evaluation_set_size=0,\n",
      "            add_dataset_noise=False,\n",
      "            ood_dataset_config=None\n",
      "        ),\n",
      "        acquisition_size=300,\n",
      "        max_training_set=16000,\n",
      "        max_training_epochs=105,\n",
      "        num_pool_samples=1,\n",
      "        num_validation_samples=1,\n",
      "        # class\n",
      "        acquisition_function=batchbald_redux.acquisition_functions.StochasticBALD,\n",
      "        # class\n",
      "        model_trainer_factory=batchbald_redux.resnet_models.Cifar10ModelWorkshopPaperTrainer,\n",
      "        ensemble_size=3,\n",
      "        stochastic_mode=batchbald_redux.batchbald.StochasticMode.Softmax,\n",
      "        resnet18_dropout_head=False\n",
      "    ),\n",
      "    batchbald_redux.unified_experiment.UnifiedExperiment(\n",
      "        seed=8945,\n",
      "        experiment_data_config=batchbald_redux.experiment_data.StandardExperimentDataConfig(\n",
      "            id_dataset_name='CIFAR-10',\n",
      "            id_repetitions=1,\n",
      "            initial_training_set_size=1000,\n",
      "            validation_set_size=1024,\n",
      "            validation_split_random_state=0,\n",
      "            evaluation_set_size=0,\n",
      "            add_dataset_noise=False,\n",
      "            ood_dataset_config=None\n",
      "        ),\n",
      "        acquisition_size=300,\n",
      "        max_training_set=16000,\n",
      "        max_training_epochs=105,\n",
      "        num_pool_samples=1,\n",
      "        num_validation_samples=1,\n",
      "        # class\n",
      "        acquisition_function=batchbald_redux.acquisition_functions.StochasticBALD,\n",
      "        # class\n",
      "        model_trainer_factory=batchbald_redux.resnet_models.Cifar10ModelWorkshopPaperTrainer,\n",
      "        ensemble_size=3,\n",
      "        coldness=8,\n",
      "        stochastic_mode=batchbald_redux.batchbald.StochasticMode.Softmax,\n",
      "        resnet18_dropout_head=False\n",
      "    ),\n",
      "    batchbald_redux.unified_experiment.UnifiedExperiment(\n",
      "        seed=8945,\n",
      "        experiment_data_config=batchbald_redux.experiment_data.StandardExperimentDataConfig(\n",
      "            id_dataset_name='CIFAR-10',\n",
      "            id_repetitions=1,\n",
      "            initial_training_set_size=1000,\n",
      "            validation_set_size=1024,\n",
      "            validation_split_random_state=0,\n",
      "            evaluation_set_size=0,\n",
      "            add_dataset_noise=False,\n",
      "            ood_dataset_config=None\n",
      "        ),\n",
      "        acquisition_size=300,\n",
      "        max_training_set=16000,\n",
      "        max_training_epochs=105,\n",
      "        num_pool_samples=1,\n",
      "        num_validation_samples=1,\n",
      "        # class\n",
      "        acquisition_function=batchbald_redux.acquisition_functions.StochasticBALD,\n",
      "        # class\n",
      "        model_trainer_factory=batchbald_redux.resnet_models.Cifar10ModelWorkshopPaperTrainer,\n",
      "        ensemble_size=3,\n",
      "        stochastic_mode=batchbald_redux.batchbald.StochasticMode.Softrank,\n",
      "        resnet18_dropout_head=False\n",
      "    ),\n",
      "    batchbald_redux.unified_experiment.UnifiedExperiment(\n",
      "        seed=1456,\n",
      "        experiment_data_config=batchbald_redux.experiment_data.StandardExperimentDataConfig(\n",
      "            id_dataset_name='CIFAR-10',\n",
      "            id_repetitions=1,\n",
      "            initial_training_set_size=1000,\n",
      "            validation_set_size=1024,\n",
      "            validation_split_random_state=0,\n",
      "            evaluation_set_size=0,\n",
      "            add_dataset_noise=False,\n",
      "            ood_dataset_config=None\n",
      "        ),\n",
      "        acquisition_size=900,\n",
      "        max_training_set=16000,\n",
      "        max_training_epochs=105,\n",
      "        num_pool_samples=1,\n",
      "        num_validation_samples=1,\n",
      "        # class\n",
      "        acquisition_function=batchbald_redux.baseline_acquisition_functions.BADGE,\n",
      "        # class\n",
      "        model_trainer_factory=batchbald_redux.resnet_models.Cifar10ModelWorkshopPaperTrainer,\n",
      "        ensemble_size=3,\n",
      "        resnet18_dropout_head=False\n",
      "    ),\n",
      "    batchbald_redux.unified_experiment.UnifiedExperiment(\n",
      "        seed=1456,\n",
      "        experiment_data_config=batchbald_redux.experiment_data.StandardExperimentDataConfig(\n",
      "            id_dataset_name='CIFAR-10',\n",
      "            id_repetitions=1,\n",
      "            initial_training_set_size=1000,\n",
      "            validation_set_size=1024,\n",
      "            validation_split_random_state=0,\n",
      "            evaluation_set_size=0,\n",
      "            add_dataset_noise=False,\n",
      "            ood_dataset_config=None\n",
      "        ),\n",
      "        acquisition_size=900,\n",
      "        max_training_set=16000,\n",
      "        max_training_epochs=105,\n",
      "        num_pool_samples=1,\n",
      "        num_validation_samples=1,\n",
      "        # class\n",
      "        acquisition_function=batchbald_redux.acquisition_functions.BALD,\n",
      "        # class\n",
      "        model_trainer_factory=batchbald_redux.resnet_models.Cifar10ModelWorkshopPaperTrainer,\n",
      "        ensemble_size=3,\n",
      "        resnet18_dropout_head=False\n",
      "    ),\n",
      "    batchbald_redux.unified_experiment.UnifiedExperiment(\n",
      "        seed=8945,\n",
      "        experiment_data_config=batchbald_redux.experiment_data.StandardExperimentDataConfig(\n",
      "            id_dataset_name='CIFAR-10',\n",
      "            id_repetitions=1,\n",
      "            initial_training_set_size=1000,\n",
      "            validation_set_size=1024,\n",
      "            validation_split_random_state=0,\n",
      "            evaluation_set_size=0,\n",
      "            add_dataset_noise=False,\n",
      "            ood_dataset_config=None\n",
      "        ),\n",
      "        acquisition_size=900,\n",
      "        max_training_set=16000,\n",
      "        max_training_epochs=105,\n",
      "        num_pool_samples=1,\n",
      "        num_validation_samples=1,\n",
      "        # class\n",
      "        acquisition_function=batchbald_redux.acquisition_functions.StochasticBALD,\n",
      "        # class\n",
      "        model_trainer_factory=batchbald_redux.resnet_models.Cifar10ModelWorkshopPaperTrainer,\n",
      "        ensemble_size=3,\n",
      "        stochastic_mode=batchbald_redux.batchbald.StochasticMode.Power,\n",
      "        resnet18_dropout_head=False\n",
      "    ),\n",
      "    batchbald_redux.unified_experiment.UnifiedExperiment(\n",
      "        seed=8945,\n",
      "        experiment_data_config=batchbald_redux.experiment_data.StandardExperimentDataConfig(\n",
      "            id_dataset_name='CIFAR-10',\n",
      "            id_repetitions=1,\n",
      "            initial_training_set_size=1000,\n",
      "            validation_set_size=1024,\n",
      "            validation_split_random_state=0,\n",
      "            evaluation_set_size=0,\n",
      "            add_dataset_noise=False,\n",
      "            ood_dataset_config=None\n",
      "        ),\n",
      "        acquisition_size=900,\n",
      "        max_training_set=16000,\n",
      "        max_training_epochs=105,\n",
      "        num_pool_samples=1,\n",
      "        num_validation_samples=1,\n",
      "        # class\n",
      "        acquisition_function=batchbald_redux.acquisition_functions.StochasticBALD,\n",
      "        # class\n",
      "        model_trainer_factory=batchbald_redux.resnet_models.Cifar10ModelWorkshopPaperTrainer,\n",
      "        ensemble_size=3,\n",
      "        coldness=8,\n",
      "        stochastic_mode=batchbald_redux.batchbald.StochasticMode.Power,\n",
      "        resnet18_dropout_head=False\n",
      "    ),\n",
      "    batchbald_redux.unified_experiment.UnifiedExperiment(\n",
      "        seed=8945,\n",
      "        experiment_data_config=batchbald_redux.experiment_data.StandardExperimentDataConfig(\n",
      "            id_dataset_name='CIFAR-10',\n",
      "            id_repetitions=1,\n",
      "            initial_training_set_size=1000,\n",
      "            validation_set_size=1024,\n",
      "            validation_split_random_state=0,\n",
      "            evaluation_set_size=0,\n",
      "            add_dataset_noise=False,\n",
      "            ood_dataset_config=None\n",
      "        ),\n",
      "        acquisition_size=900,\n",
      "        max_training_set=16000,\n",
      "        max_training_epochs=105,\n",
      "        num_pool_samples=1,\n",
      "        num_validation_samples=1,\n",
      "        # class\n",
      "        acquisition_function=batchbald_redux.acquisition_functions.StochasticBALD,\n",
      "        # class\n",
      "        model_trainer_factory=batchbald_redux.resnet_models.Cifar10ModelWorkshopPaperTrainer,\n",
      "        ensemble_size=3,\n",
      "        stochastic_mode=batchbald_redux.batchbald.StochasticMode.Softmax,\n",
      "        resnet18_dropout_head=False\n",
      "    ),\n",
      "    batchbald_redux.unified_experiment.UnifiedExperiment(\n",
      "        seed=8945,\n",
      "        experiment_data_config=batchbald_redux.experiment_data.StandardExperimentDataConfig(\n",
      "            id_dataset_name='CIFAR-10',\n",
      "            id_repetitions=1,\n",
      "            initial_training_set_size=1000,\n",
      "            validation_set_size=1024,\n",
      "            validation_split_random_state=0,\n",
      "            evaluation_set_size=0,\n",
      "            add_dataset_noise=False,\n",
      "            ood_dataset_config=None\n",
      "        ),\n",
      "        acquisition_size=900,\n",
      "        max_training_set=16000,\n",
      "        max_training_epochs=105,\n",
      "        num_pool_samples=1,\n",
      "        num_validation_samples=1,\n",
      "        # class\n",
      "        acquisition_function=batchbald_redux.acquisition_functions.StochasticBALD,\n",
      "        # class\n",
      "        model_trainer_factory=batchbald_redux.resnet_models.Cifar10ModelWorkshopPaperTrainer,\n",
      "        ensemble_size=3,\n",
      "        coldness=8,\n",
      "        stochastic_mode=batchbald_redux.batchbald.StochasticMode.Softmax,\n",
      "        resnet18_dropout_head=False\n",
      "    ),\n",
      "    batchbald_redux.unified_experiment.UnifiedExperiment(\n",
      "        seed=8945,\n",
      "        experiment_data_config=batchbald_redux.experiment_data.StandardExperimentDataConfig(\n",
      "            id_dataset_name='CIFAR-10',\n",
      "            id_repetitions=1,\n",
      "            initial_training_set_size=1000,\n",
      "            validation_set_size=1024,\n",
      "            validation_split_random_state=0,\n",
      "            evaluation_set_size=0,\n",
      "            add_dataset_noise=False,\n",
      "            ood_dataset_config=None\n",
      "        ),\n",
      "        acquisition_size=900,\n",
      "        max_training_set=16000,\n",
      "        max_training_epochs=105,\n",
      "        num_pool_samples=1,\n",
      "        num_validation_samples=1,\n",
      "        # class\n",
      "        acquisition_function=batchbald_redux.acquisition_functions.StochasticBALD,\n",
      "        # class\n",
      "        model_trainer_factory=batchbald_redux.resnet_models.Cifar10ModelWorkshopPaperTrainer,\n",
      "        ensemble_size=3,\n",
      "        stochastic_mode=batchbald_redux.batchbald.StochasticMode.Softrank,\n",
      "        resnet18_dropout_head=False\n",
      "    ),\n",
      "    batchbald_redux.unified_experiment.UnifiedExperiment(\n",
      "        seed=1456,\n",
      "        experiment_data_config=batchbald_redux.experiment_data.StandardExperimentDataConfig(\n",
      "            id_dataset_name='CINIC-10',\n",
      "            id_repetitions=1,\n",
      "            initial_training_set_size=1000,\n",
      "            validation_set_size=1024,\n",
      "            validation_split_random_state=0,\n",
      "            evaluation_set_size=0,\n",
      "            add_dataset_noise=False,\n",
      "            ood_dataset_config=None\n",
      "        ),\n",
      "        acquisition_size=300,\n",
      "        max_training_set=16000,\n",
      "        max_training_epochs=105,\n",
      "        num_pool_samples=1,\n",
      "        num_validation_samples=1,\n",
      "        # class\n",
      "        acquisition_function=batchbald_redux.baseline_acquisition_functions.BADGE,\n",
      "        # class\n",
      "        model_trainer_factory=batchbald_redux.resnet_models.Cifar10ModelWorkshopPaperTrainer,\n",
      "        ensemble_size=3,\n",
      "        resnet18_dropout_head=False\n",
      "    ),\n",
      "    batchbald_redux.unified_experiment.UnifiedExperiment(\n",
      "        seed=1456,\n",
      "        experiment_data_config=batchbald_redux.experiment_data.StandardExperimentDataConfig(\n",
      "            id_dataset_name='CINIC-10',\n",
      "            id_repetitions=1,\n",
      "            initial_training_set_size=1000,\n",
      "            validation_set_size=1024,\n",
      "            validation_split_random_state=0,\n",
      "            evaluation_set_size=0,\n",
      "            add_dataset_noise=False,\n",
      "            ood_dataset_config=None\n",
      "        ),\n",
      "        acquisition_size=300,\n",
      "        max_training_set=16000,\n",
      "        max_training_epochs=105,\n",
      "        num_pool_samples=1,\n",
      "        num_validation_samples=1,\n",
      "        # class\n",
      "        acquisition_function=batchbald_redux.acquisition_functions.BALD,\n",
      "        # class\n",
      "        model_trainer_factory=batchbald_redux.resnet_models.Cifar10ModelWorkshopPaperTrainer,\n",
      "        ensemble_size=3,\n",
      "        resnet18_dropout_head=False\n",
      "    ),\n",
      "    batchbald_redux.unified_experiment.UnifiedExperiment(\n",
      "        seed=8945,\n",
      "        experiment_data_config=batchbald_redux.experiment_data.StandardExperimentDataConfig(\n",
      "            id_dataset_name='CINIC-10',\n",
      "            id_repetitions=1,\n",
      "            initial_training_set_size=1000,\n",
      "            validation_set_size=1024,\n",
      "            validation_split_random_state=0,\n",
      "            evaluation_set_size=0,\n",
      "            add_dataset_noise=False,\n",
      "            ood_dataset_config=None\n",
      "        ),\n",
      "        acquisition_size=300,\n",
      "        max_training_set=16000,\n",
      "        max_training_epochs=105,\n",
      "        num_pool_samples=1,\n",
      "        num_validation_samples=1,\n",
      "        # class\n",
      "        acquisition_function=batchbald_redux.acquisition_functions.StochasticBALD,\n",
      "        # class\n",
      "        model_trainer_factory=batchbald_redux.resnet_models.Cifar10ModelWorkshopPaperTrainer,\n",
      "        ensemble_size=3,\n",
      "        stochastic_mode=batchbald_redux.batchbald.StochasticMode.Power,\n",
      "        resnet18_dropout_head=False\n",
      "    ),\n",
      "    batchbald_redux.unified_experiment.UnifiedExperiment(\n",
      "        seed=8945,\n",
      "        experiment_data_config=batchbald_redux.experiment_data.StandardExperimentDataConfig(\n",
      "            id_dataset_name='CINIC-10',\n",
      "            id_repetitions=1,\n",
      "            initial_training_set_size=1000,\n",
      "            validation_set_size=1024,\n",
      "            validation_split_random_state=0,\n",
      "            evaluation_set_size=0,\n",
      "            add_dataset_noise=False,\n",
      "            ood_dataset_config=None\n",
      "        ),\n",
      "        acquisition_size=300,\n",
      "        max_training_set=16000,\n",
      "        max_training_epochs=105,\n",
      "        num_pool_samples=1,\n",
      "        num_validation_samples=1,\n",
      "        # class\n",
      "        acquisition_function=batchbald_redux.acquisition_functions.StochasticBALD,\n",
      "        # class\n",
      "        model_trainer_factory=batchbald_redux.resnet_models.Cifar10ModelWorkshopPaperTrainer,\n",
      "        ensemble_size=3,\n",
      "        coldness=8,\n",
      "        stochastic_mode=batchbald_redux.batchbald.StochasticMode.Power,\n",
      "        resnet18_dropout_head=False\n",
      "    ),\n",
      "    batchbald_redux.unified_experiment.UnifiedExperiment(\n",
      "        seed=8945,\n",
      "        experiment_data_config=batchbald_redux.experiment_data.StandardExperimentDataConfig(\n",
      "            id_dataset_name='CINIC-10',\n",
      "            id_repetitions=1,\n",
      "            initial_training_set_size=1000,\n",
      "            validation_set_size=1024,\n",
      "            validation_split_random_state=0,\n",
      "            evaluation_set_size=0,\n",
      "            add_dataset_noise=False,\n",
      "            ood_dataset_config=None\n",
      "        ),\n",
      "        acquisition_size=300,\n",
      "        max_training_set=16000,\n",
      "        max_training_epochs=105,\n",
      "        num_pool_samples=1,\n",
      "        num_validation_samples=1,\n",
      "        # class\n",
      "        acquisition_function=batchbald_redux.acquisition_functions.StochasticBALD,\n",
      "        # class\n",
      "        model_trainer_factory=batchbald_redux.resnet_models.Cifar10ModelWorkshopPaperTrainer,\n",
      "        ensemble_size=3,\n",
      "        stochastic_mode=batchbald_redux.batchbald.StochasticMode.Softmax,\n",
      "        resnet18_dropout_head=False\n",
      "    ),\n",
      "    batchbald_redux.unified_experiment.UnifiedExperiment(\n",
      "        seed=8945,\n",
      "        experiment_data_config=batchbald_redux.experiment_data.StandardExperimentDataConfig(\n",
      "            id_dataset_name='CINIC-10',\n",
      "            id_repetitions=1,\n",
      "            initial_training_set_size=1000,\n",
      "            validation_set_size=1024,\n",
      "            validation_split_random_state=0,\n",
      "            evaluation_set_size=0,\n",
      "            add_dataset_noise=False,\n",
      "            ood_dataset_config=None\n",
      "        ),\n",
      "        acquisition_size=300,\n",
      "        max_training_set=16000,\n",
      "        max_training_epochs=105,\n",
      "        num_pool_samples=1,\n",
      "        num_validation_samples=1,\n",
      "        # class\n",
      "        acquisition_function=batchbald_redux.acquisition_functions.StochasticBALD,\n",
      "        # class\n",
      "        model_trainer_factory=batchbald_redux.resnet_models.Cifar10ModelWorkshopPaperTrainer,\n",
      "        ensemble_size=3,\n",
      "        coldness=8,\n",
      "        stochastic_mode=batchbald_redux.batchbald.StochasticMode.Softmax,\n",
      "        resnet18_dropout_head=False\n",
      "    ),\n",
      "    batchbald_redux.unified_experiment.UnifiedExperiment(\n",
      "        seed=8945,\n",
      "        experiment_data_config=batchbald_redux.experiment_data.StandardExperimentDataConfig(\n",
      "            id_dataset_name='CINIC-10',\n",
      "            id_repetitions=1,\n",
      "            initial_training_set_size=1000,\n",
      "            validation_set_size=1024,\n",
      "            validation_split_random_state=0,\n",
      "            evaluation_set_size=0,\n",
      "            add_dataset_noise=False,\n",
      "            ood_dataset_config=None\n",
      "        ),\n",
      "        acquisition_size=300,\n",
      "        max_training_set=16000,\n",
      "        max_training_epochs=105,\n",
      "        num_pool_samples=1,\n",
      "        num_validation_samples=1,\n",
      "        # class\n",
      "        acquisition_function=batchbald_redux.acquisition_functions.StochasticBALD,\n",
      "        # class\n",
      "        model_trainer_factory=batchbald_redux.resnet_models.Cifar10ModelWorkshopPaperTrainer,\n",
      "        ensemble_size=3,\n",
      "        stochastic_mode=batchbald_redux.batchbald.StochasticMode.Softrank,\n",
      "        resnet18_dropout_head=False\n",
      "    ),\n",
      "    batchbald_redux.unified_experiment.UnifiedExperiment(\n",
      "        seed=1456,\n",
      "        experiment_data_config=batchbald_redux.experiment_data.StandardExperimentDataConfig(\n",
      "            id_dataset_name='CINIC-10',\n",
      "            id_repetitions=1,\n",
      "            initial_training_set_size=1000,\n",
      "            validation_set_size=1024,\n",
      "            validation_split_random_state=0,\n",
      "            evaluation_set_size=0,\n",
      "            add_dataset_noise=False,\n",
      "            ood_dataset_config=None\n",
      "        ),\n",
      "        acquisition_size=900,\n",
      "        max_training_set=16000,\n",
      "        max_training_epochs=105,\n",
      "        num_pool_samples=1,\n",
      "        num_validation_samples=1,\n",
      "        # class\n",
      "        acquisition_function=batchbald_redux.baseline_acquisition_functions.BADGE,\n",
      "        # class\n",
      "        model_trainer_factory=batchbald_redux.resnet_models.Cifar10ModelWorkshopPaperTrainer,\n",
      "        ensemble_size=3,\n",
      "        resnet18_dropout_head=False\n",
      "    ),\n",
      "    batchbald_redux.unified_experiment.UnifiedExperiment(\n",
      "        seed=1456,\n",
      "        experiment_data_config=batchbald_redux.experiment_data.StandardExperimentDataConfig(\n",
      "            id_dataset_name='CINIC-10',\n",
      "            id_repetitions=1,\n",
      "            initial_training_set_size=1000,\n",
      "            validation_set_size=1024,\n",
      "            validation_split_random_state=0,\n",
      "            evaluation_set_size=0,\n",
      "            add_dataset_noise=False,\n",
      "            ood_dataset_config=None\n",
      "        ),\n",
      "        acquisition_size=900,\n",
      "        max_training_set=16000,\n",
      "        max_training_epochs=105,\n",
      "        num_pool_samples=1,\n",
      "        num_validation_samples=1,\n",
      "        # class\n",
      "        acquisition_function=batchbald_redux.acquisition_functions.BALD,\n",
      "        # class\n",
      "        model_trainer_factory=batchbald_redux.resnet_models.Cifar10ModelWorkshopPaperTrainer,\n",
      "        ensemble_size=3,\n",
      "        resnet18_dropout_head=False\n",
      "    ),\n",
      "    batchbald_redux.unified_experiment.UnifiedExperiment(\n",
      "        seed=8945,\n",
      "        experiment_data_config=batchbald_redux.experiment_data.StandardExperimentDataConfig(\n",
      "            id_dataset_name='CINIC-10',\n",
      "            id_repetitions=1,\n",
      "            initial_training_set_size=1000,\n",
      "            validation_set_size=1024,\n",
      "            validation_split_random_state=0,\n",
      "            evaluation_set_size=0,\n",
      "            add_dataset_noise=False,\n",
      "            ood_dataset_config=None\n",
      "        ),\n",
      "        acquisition_size=900,\n",
      "        max_training_set=16000,\n",
      "        max_training_epochs=105,\n",
      "        num_pool_samples=1,\n",
      "        num_validation_samples=1,\n",
      "        # class\n",
      "        acquisition_function=batchbald_redux.acquisition_functions.StochasticBALD,\n",
      "        # class\n",
      "        model_trainer_factory=batchbald_redux.resnet_models.Cifar10ModelWorkshopPaperTrainer,\n",
      "        ensemble_size=3,\n",
      "        stochastic_mode=batchbald_redux.batchbald.StochasticMode.Power,\n",
      "        resnet18_dropout_head=False\n",
      "    ),\n",
      "    batchbald_redux.unified_experiment.UnifiedExperiment(\n",
      "        seed=8945,\n",
      "        experiment_data_config=batchbald_redux.experiment_data.StandardExperimentDataConfig(\n",
      "            id_dataset_name='CINIC-10',\n",
      "            id_repetitions=1,\n",
      "            initial_training_set_size=1000,\n",
      "            validation_set_size=1024,\n",
      "            validation_split_random_state=0,\n",
      "            evaluation_set_size=0,\n",
      "            add_dataset_noise=False,\n",
      "            ood_dataset_config=None\n",
      "        ),\n",
      "        acquisition_size=900,\n",
      "        max_training_set=16000,\n",
      "        max_training_epochs=105,\n",
      "        num_pool_samples=1,\n",
      "        num_validation_samples=1,\n",
      "        # class\n",
      "        acquisition_function=batchbald_redux.acquisition_functions.StochasticBALD,\n",
      "        # class\n",
      "        model_trainer_factory=batchbald_redux.resnet_models.Cifar10ModelWorkshopPaperTrainer,\n",
      "        ensemble_size=3,\n",
      "        coldness=8,\n",
      "        stochastic_mode=batchbald_redux.batchbald.StochasticMode.Power,\n",
      "        resnet18_dropout_head=False\n",
      "    ),\n",
      "    batchbald_redux.unified_experiment.UnifiedExperiment(\n",
      "        seed=8945,\n",
      "        experiment_data_config=batchbald_redux.experiment_data.StandardExperimentDataConfig(\n",
      "            id_dataset_name='CINIC-10',\n",
      "            id_repetitions=1,\n",
      "            initial_training_set_size=1000,\n",
      "            validation_set_size=1024,\n",
      "            validation_split_random_state=0,\n",
      "            evaluation_set_size=0,\n",
      "            add_dataset_noise=False,\n",
      "            ood_dataset_config=None\n",
      "        ),\n",
      "        acquisition_size=900,\n",
      "        max_training_set=16000,\n",
      "        max_training_epochs=105,\n",
      "        num_pool_samples=1,\n",
      "        num_validation_samples=1,\n",
      "        # class\n",
      "        acquisition_function=batchbald_redux.acquisition_functions.StochasticBALD,\n",
      "        # class\n",
      "        model_trainer_factory=batchbald_redux.resnet_models.Cifar10ModelWorkshopPaperTrainer,\n",
      "        ensemble_size=3,\n",
      "        stochastic_mode=batchbald_redux.batchbald.StochasticMode.Softmax,\n",
      "        resnet18_dropout_head=False\n",
      "    ),\n",
      "    batchbald_redux.unified_experiment.UnifiedExperiment(\n",
      "        seed=8945,\n",
      "        experiment_data_config=batchbald_redux.experiment_data.StandardExperimentDataConfig(\n",
      "            id_dataset_name='CINIC-10',\n",
      "            id_repetitions=1,\n",
      "            initial_training_set_size=1000,\n",
      "            validation_set_size=1024,\n",
      "            validation_split_random_state=0,\n",
      "            evaluation_set_size=0,\n",
      "            add_dataset_noise=False,\n",
      "            ood_dataset_config=None\n",
      "        ),\n",
      "        acquisition_size=900,\n",
      "        max_training_set=16000,\n",
      "        max_training_epochs=105,\n",
      "        num_pool_samples=1,\n",
      "        num_validation_samples=1,\n",
      "        # class\n",
      "        acquisition_function=batchbald_redux.acquisition_functions.StochasticBALD,\n",
      "        # class\n",
      "        model_trainer_factory=batchbald_redux.resnet_models.Cifar10ModelWorkshopPaperTrainer,\n",
      "        ensemble_size=3,\n",
      "        coldness=8,\n",
      "        stochastic_mode=batchbald_redux.batchbald.StochasticMode.Softmax,\n",
      "        resnet18_dropout_head=False\n",
      "    ),\n",
      "    batchbald_redux.unified_experiment.UnifiedExperiment(\n",
      "        seed=8945,\n",
      "        experiment_data_config=batchbald_redux.experiment_data.StandardExperimentDataConfig(\n",
      "            id_dataset_name='CINIC-10',\n",
      "            id_repetitions=1,\n",
      "            initial_training_set_size=1000,\n",
      "            validation_set_size=1024,\n",
      "            validation_split_random_state=0,\n",
      "            evaluation_set_size=0,\n",
      "            add_dataset_noise=False,\n",
      "            ood_dataset_config=None\n",
      "        ),\n",
      "        acquisition_size=900,\n",
      "        max_training_set=16000,\n",
      "        max_training_epochs=105,\n",
      "        num_pool_samples=1,\n",
      "        num_validation_samples=1,\n",
      "        # class\n",
      "        acquisition_function=batchbald_redux.acquisition_functions.StochasticBALD,\n",
      "        # class\n",
      "        model_trainer_factory=batchbald_redux.resnet_models.Cifar10ModelWorkshopPaperTrainer,\n",
      "        ensemble_size=3,\n",
      "        stochastic_mode=batchbald_redux.batchbald.StochasticMode.Softrank,\n",
      "        resnet18_dropout_head=False\n",
      "    ),\n",
      "    batchbald_redux.unified_experiment.UnifiedExperiment(\n",
      "        seed=1457,\n",
      "        experiment_data_config=batchbald_redux.experiment_data.StandardExperimentDataConfig(\n",
      "            id_dataset_name='CIFAR-10',\n",
      "            id_repetitions=1,\n",
      "            initial_training_set_size=1000,\n",
      "            validation_set_size=1024,\n",
      "            validation_split_random_state=0,\n",
      "            evaluation_set_size=0,\n",
      "            add_dataset_noise=False,\n",
      "            ood_dataset_config=None\n",
      "        ),\n",
      "        acquisition_size=300,\n",
      "        max_training_set=16000,\n",
      "        max_training_epochs=105,\n",
      "        num_pool_samples=1,\n",
      "        num_validation_samples=1,\n",
      "        # class\n",
      "        acquisition_function=batchbald_redux.baseline_acquisition_functions.BADGE,\n",
      "        # class\n",
      "        model_trainer_factory=batchbald_redux.resnet_models.Cifar10ModelWorkshopPaperTrainer,\n",
      "        ensemble_size=3,\n",
      "        resnet18_dropout_head=False\n",
      "    ),\n",
      "    batchbald_redux.unified_experiment.UnifiedExperiment(\n",
      "        seed=1457,\n",
      "        experiment_data_config=batchbald_redux.experiment_data.StandardExperimentDataConfig(\n",
      "            id_dataset_name='CIFAR-10',\n",
      "            id_repetitions=1,\n",
      "            initial_training_set_size=1000,\n",
      "            validation_set_size=1024,\n",
      "            validation_split_random_state=0,\n",
      "            evaluation_set_size=0,\n",
      "            add_dataset_noise=False,\n",
      "            ood_dataset_config=None\n",
      "        ),\n",
      "        acquisition_size=300,\n",
      "        max_training_set=16000,\n",
      "        max_training_epochs=105,\n",
      "        num_pool_samples=1,\n",
      "        num_validation_samples=1,\n",
      "        # class\n",
      "        acquisition_function=batchbald_redux.acquisition_functions.BALD,\n",
      "        # class\n",
      "        model_trainer_factory=batchbald_redux.resnet_models.Cifar10ModelWorkshopPaperTrainer,\n",
      "        ensemble_size=3,\n",
      "        resnet18_dropout_head=False\n",
      "    ),\n",
      "    batchbald_redux.unified_experiment.UnifiedExperiment(\n",
      "        seed=8946,\n",
      "        experiment_data_config=batchbald_redux.experiment_data.StandardExperimentDataConfig(\n",
      "            id_dataset_name='CIFAR-10',\n",
      "            id_repetitions=1,\n",
      "            initial_training_set_size=1000,\n",
      "            validation_set_size=1024,\n",
      "            validation_split_random_state=0,\n",
      "            evaluation_set_size=0,\n",
      "            add_dataset_noise=False,\n",
      "            ood_dataset_config=None\n",
      "        ),\n",
      "        acquisition_size=300,\n",
      "        max_training_set=16000,\n",
      "        max_training_epochs=105,\n",
      "        num_pool_samples=1,\n",
      "        num_validation_samples=1,\n",
      "        # class\n",
      "        acquisition_function=batchbald_redux.acquisition_functions.StochasticBALD,\n",
      "        # class\n",
      "        model_trainer_factory=batchbald_redux.resnet_models.Cifar10ModelWorkshopPaperTrainer,\n",
      "        ensemble_size=3,\n",
      "        stochastic_mode=batchbald_redux.batchbald.StochasticMode.Power,\n",
      "        resnet18_dropout_head=False\n",
      "    ),\n",
      "    batchbald_redux.unified_experiment.UnifiedExperiment(\n",
      "        seed=8946,\n",
      "        experiment_data_config=batchbald_redux.experiment_data.StandardExperimentDataConfig(\n",
      "            id_dataset_name='CIFAR-10',\n",
      "            id_repetitions=1,\n",
      "            initial_training_set_size=1000,\n",
      "            validation_set_size=1024,\n",
      "            validation_split_random_state=0,\n",
      "            evaluation_set_size=0,\n",
      "            add_dataset_noise=False,\n",
      "            ood_dataset_config=None\n",
      "        ),\n",
      "        acquisition_size=300,\n",
      "        max_training_set=16000,\n",
      "        max_training_epochs=105,\n",
      "        num_pool_samples=1,\n",
      "        num_validation_samples=1,\n",
      "        # class\n",
      "        acquisition_function=batchbald_redux.acquisition_functions.StochasticBALD,\n",
      "        # class\n",
      "        model_trainer_factory=batchbald_redux.resnet_models.Cifar10ModelWorkshopPaperTrainer,\n",
      "        ensemble_size=3,\n",
      "        coldness=8,\n",
      "        stochastic_mode=batchbald_redux.batchbald.StochasticMode.Power,\n",
      "        resnet18_dropout_head=False\n",
      "    ),\n",
      "    batchbald_redux.unified_experiment.UnifiedExperiment(\n",
      "        seed=8946,\n",
      "        experiment_data_config=batchbald_redux.experiment_data.StandardExperimentDataConfig(\n",
      "            id_dataset_name='CIFAR-10',\n",
      "            id_repetitions=1,\n",
      "            initial_training_set_size=1000,\n",
      "            validation_set_size=1024,\n",
      "            validation_split_random_state=0,\n",
      "            evaluation_set_size=0,\n",
      "            add_dataset_noise=False,\n",
      "            ood_dataset_config=None\n",
      "        ),\n",
      "        acquisition_size=300,\n",
      "        max_training_set=16000,\n",
      "        max_training_epochs=105,\n",
      "        num_pool_samples=1,\n",
      "        num_validation_samples=1,\n",
      "        # class\n",
      "        acquisition_function=batchbald_redux.acquisition_functions.StochasticBALD,\n",
      "        # class\n",
      "        model_trainer_factory=batchbald_redux.resnet_models.Cifar10ModelWorkshopPaperTrainer,\n",
      "        ensemble_size=3,\n",
      "        stochastic_mode=batchbald_redux.batchbald.StochasticMode.Softmax,\n",
      "        resnet18_dropout_head=False\n",
      "    ),\n",
      "    batchbald_redux.unified_experiment.UnifiedExperiment(\n",
      "        seed=8946,\n",
      "        experiment_data_config=batchbald_redux.experiment_data.StandardExperimentDataConfig(\n",
      "            id_dataset_name='CIFAR-10',\n",
      "            id_repetitions=1,\n",
      "            initial_training_set_size=1000,\n",
      "            validation_set_size=1024,\n",
      "            validation_split_random_state=0,\n",
      "            evaluation_set_size=0,\n",
      "            add_dataset_noise=False,\n",
      "            ood_dataset_config=None\n",
      "        ),\n",
      "        acquisition_size=300,\n",
      "        max_training_set=16000,\n",
      "        max_training_epochs=105,\n",
      "        num_pool_samples=1,\n",
      "        num_validation_samples=1,\n",
      "        # class\n",
      "        acquisition_function=batchbald_redux.acquisition_functions.StochasticBALD,\n",
      "        # class\n",
      "        model_trainer_factory=batchbald_redux.resnet_models.Cifar10ModelWorkshopPaperTrainer,\n",
      "        ensemble_size=3,\n",
      "        coldness=8,\n",
      "        stochastic_mode=batchbald_redux.batchbald.StochasticMode.Softmax,\n",
      "        resnet18_dropout_head=False\n",
      "    ),\n",
      "    batchbald_redux.unified_experiment.UnifiedExperiment(\n",
      "        seed=8946,\n",
      "        experiment_data_config=batchbald_redux.experiment_data.StandardExperimentDataConfig(\n",
      "            id_dataset_name='CIFAR-10',\n",
      "            id_repetitions=1,\n",
      "            initial_training_set_size=1000,\n",
      "            validation_set_size=1024,\n",
      "            validation_split_random_state=0,\n",
      "            evaluation_set_size=0,\n",
      "            add_dataset_noise=False,\n",
      "            ood_dataset_config=None\n",
      "        ),\n",
      "        acquisition_size=300,\n",
      "        max_training_set=16000,\n",
      "        max_training_epochs=105,\n",
      "        num_pool_samples=1,\n",
      "        num_validation_samples=1,\n",
      "        # class\n",
      "        acquisition_function=batchbald_redux.acquisition_functions.StochasticBALD,\n",
      "        # class\n",
      "        model_trainer_factory=batchbald_redux.resnet_models.Cifar10ModelWorkshopPaperTrainer,\n",
      "        ensemble_size=3,\n",
      "        stochastic_mode=batchbald_redux.batchbald.StochasticMode.Softrank,\n",
      "        resnet18_dropout_head=False\n",
      "    ),\n",
      "    batchbald_redux.unified_experiment.UnifiedExperiment(\n",
      "        seed=1457,\n",
      "        experiment_data_config=batchbald_redux.experiment_data.StandardExperimentDataConfig(\n",
      "            id_dataset_name='CIFAR-10',\n",
      "            id_repetitions=1,\n",
      "            initial_training_set_size=1000,\n",
      "            validation_set_size=1024,\n",
      "            validation_split_random_state=0,\n",
      "            evaluation_set_size=0,\n",
      "            add_dataset_noise=False,\n",
      "            ood_dataset_config=None\n",
      "        ),\n",
      "        acquisition_size=900,\n",
      "        max_training_set=16000,\n",
      "        max_training_epochs=105,\n",
      "        num_pool_samples=1,\n",
      "        num_validation_samples=1,\n",
      "        # class\n",
      "        acquisition_function=batchbald_redux.baseline_acquisition_functions.BADGE,\n",
      "        # class\n",
      "        model_trainer_factory=batchbald_redux.resnet_models.Cifar10ModelWorkshopPaperTrainer,\n",
      "        ensemble_size=3,\n",
      "        resnet18_dropout_head=False\n",
      "    ),\n",
      "    batchbald_redux.unified_experiment.UnifiedExperiment(\n",
      "        seed=1457,\n",
      "        experiment_data_config=batchbald_redux.experiment_data.StandardExperimentDataConfig(\n",
      "            id_dataset_name='CIFAR-10',\n",
      "            id_repetitions=1,\n",
      "            initial_training_set_size=1000,\n",
      "            validation_set_size=1024,\n",
      "            validation_split_random_state=0,\n",
      "            evaluation_set_size=0,\n",
      "            add_dataset_noise=False,\n",
      "            ood_dataset_config=None\n",
      "        ),\n",
      "        acquisition_size=900,\n",
      "        max_training_set=16000,\n",
      "        max_training_epochs=105,\n",
      "        num_pool_samples=1,\n",
      "        num_validation_samples=1,\n",
      "        # class\n",
      "        acquisition_function=batchbald_redux.acquisition_functions.BALD,\n",
      "        # class\n",
      "        model_trainer_factory=batchbald_redux.resnet_models.Cifar10ModelWorkshopPaperTrainer,\n",
      "        ensemble_size=3,\n",
      "        resnet18_dropout_head=False\n",
      "    ),\n",
      "    batchbald_redux.unified_experiment.UnifiedExperiment(\n",
      "        seed=8946,\n",
      "        experiment_data_config=batchbald_redux.experiment_data.StandardExperimentDataConfig(\n",
      "            id_dataset_name='CIFAR-10',\n",
      "            id_repetitions=1,\n",
      "            initial_training_set_size=1000,\n",
      "            validation_set_size=1024,\n",
      "            validation_split_random_state=0,\n",
      "            evaluation_set_size=0,\n",
      "            add_dataset_noise=False,\n",
      "            ood_dataset_config=None\n",
      "        ),\n",
      "        acquisition_size=900,\n",
      "        max_training_set=16000,\n",
      "        max_training_epochs=105,\n",
      "        num_pool_samples=1,\n",
      "        num_validation_samples=1,\n",
      "        # class\n",
      "        acquisition_function=batchbald_redux.acquisition_functions.StochasticBALD,\n",
      "        # class\n",
      "        model_trainer_factory=batchbald_redux.resnet_models.Cifar10ModelWorkshopPaperTrainer,\n",
      "        ensemble_size=3,\n",
      "        stochastic_mode=batchbald_redux.batchbald.StochasticMode.Power,\n",
      "        resnet18_dropout_head=False\n",
      "    ),\n",
      "    batchbald_redux.unified_experiment.UnifiedExperiment(\n",
      "        seed=8946,\n",
      "        experiment_data_config=batchbald_redux.experiment_data.StandardExperimentDataConfig(\n",
      "            id_dataset_name='CIFAR-10',\n",
      "            id_repetitions=1,\n",
      "            initial_training_set_size=1000,\n",
      "            validation_set_size=1024,\n",
      "            validation_split_random_state=0,\n",
      "            evaluation_set_size=0,\n",
      "            add_dataset_noise=False,\n",
      "            ood_dataset_config=None\n",
      "        ),\n",
      "        acquisition_size=900,\n",
      "        max_training_set=16000,\n",
      "        max_training_epochs=105,\n",
      "        num_pool_samples=1,\n",
      "        num_validation_samples=1,\n",
      "        # class\n",
      "        acquisition_function=batchbald_redux.acquisition_functions.StochasticBALD,\n",
      "        # class\n",
      "        model_trainer_factory=batchbald_redux.resnet_models.Cifar10ModelWorkshopPaperTrainer,\n",
      "        ensemble_size=3,\n",
      "        coldness=8,\n",
      "        stochastic_mode=batchbald_redux.batchbald.StochasticMode.Power,\n",
      "        resnet18_dropout_head=False\n",
      "    ),\n",
      "    batchbald_redux.unified_experiment.UnifiedExperiment(\n",
      "        seed=8946,\n",
      "        experiment_data_config=batchbald_redux.experiment_data.StandardExperimentDataConfig(\n",
      "            id_dataset_name='CIFAR-10',\n",
      "            id_repetitions=1,\n",
      "            initial_training_set_size=1000,\n",
      "            validation_set_size=1024,\n",
      "            validation_split_random_state=0,\n",
      "            evaluation_set_size=0,\n",
      "            add_dataset_noise=False,\n",
      "            ood_dataset_config=None\n",
      "        ),\n",
      "        acquisition_size=900,\n",
      "        max_training_set=16000,\n",
      "        max_training_epochs=105,\n",
      "        num_pool_samples=1,\n",
      "        num_validation_samples=1,\n",
      "        # class\n",
      "        acquisition_function=batchbald_redux.acquisition_functions.StochasticBALD,\n",
      "        # class\n",
      "        model_trainer_factory=batchbald_redux.resnet_models.Cifar10ModelWorkshopPaperTrainer,\n",
      "        ensemble_size=3,\n",
      "        stochastic_mode=batchbald_redux.batchbald.StochasticMode.Softmax,\n",
      "        resnet18_dropout_head=False\n",
      "    ),\n",
      "    batchbald_redux.unified_experiment.UnifiedExperiment(\n",
      "        seed=8946,\n",
      "        experiment_data_config=batchbald_redux.experiment_data.StandardExperimentDataConfig(\n",
      "            id_dataset_name='CIFAR-10',\n",
      "            id_repetitions=1,\n",
      "            initial_training_set_size=1000,\n",
      "            validation_set_size=1024,\n",
      "            validation_split_random_state=0,\n",
      "            evaluation_set_size=0,\n",
      "            add_dataset_noise=False,\n",
      "            ood_dataset_config=None\n",
      "        ),\n",
      "        acquisition_size=900,\n",
      "        max_training_set=16000,\n",
      "        max_training_epochs=105,\n",
      "        num_pool_samples=1,\n",
      "        num_validation_samples=1,\n",
      "        # class\n",
      "        acquisition_function=batchbald_redux.acquisition_functions.StochasticBALD,\n",
      "        # class\n",
      "        model_trainer_factory=batchbald_redux.resnet_models.Cifar10ModelWorkshopPaperTrainer,\n",
      "        ensemble_size=3,\n",
      "        coldness=8,\n",
      "        stochastic_mode=batchbald_redux.batchbald.StochasticMode.Softmax,\n",
      "        resnet18_dropout_head=False\n",
      "    ),\n",
      "    batchbald_redux.unified_experiment.UnifiedExperiment(\n",
      "        seed=8946,\n",
      "        experiment_data_config=batchbald_redux.experiment_data.StandardExperimentDataConfig(\n",
      "            id_dataset_name='CIFAR-10',\n",
      "            id_repetitions=1,\n",
      "            initial_training_set_size=1000,\n",
      "            validation_set_size=1024,\n",
      "            validation_split_random_state=0,\n",
      "            evaluation_set_size=0,\n",
      "            add_dataset_noise=False,\n",
      "            ood_dataset_config=None\n",
      "        ),\n",
      "        acquisition_size=900,\n",
      "        max_training_set=16000,\n",
      "        max_training_epochs=105,\n",
      "        num_pool_samples=1,\n",
      "        num_validation_samples=1,\n",
      "        # class\n",
      "        acquisition_function=batchbald_redux.acquisition_functions.StochasticBALD,\n",
      "        # class\n",
      "        model_trainer_factory=batchbald_redux.resnet_models.Cifar10ModelWorkshopPaperTrainer,\n",
      "        ensemble_size=3,\n",
      "        stochastic_mode=batchbald_redux.batchbald.StochasticMode.Softrank,\n",
      "        resnet18_dropout_head=False\n",
      "    ),\n",
      "    batchbald_redux.unified_experiment.UnifiedExperiment(\n",
      "        seed=1457,\n",
      "        experiment_data_config=batchbald_redux.experiment_data.StandardExperimentDataConfig(\n",
      "            id_dataset_name='CINIC-10',\n",
      "            id_repetitions=1,\n",
      "            initial_training_set_size=1000,\n",
      "            validation_set_size=1024,\n",
      "            validation_split_random_state=0,\n",
      "            evaluation_set_size=0,\n",
      "            add_dataset_noise=False,\n",
      "            ood_dataset_config=None\n",
      "        ),\n",
      "        acquisition_size=300,\n",
      "        max_training_set=16000,\n",
      "        max_training_epochs=105,\n",
      "        num_pool_samples=1,\n",
      "        num_validation_samples=1,\n",
      "        # class\n",
      "        acquisition_function=batchbald_redux.baseline_acquisition_functions.BADGE,\n",
      "        # class\n",
      "        model_trainer_factory=batchbald_redux.resnet_models.Cifar10ModelWorkshopPaperTrainer,\n",
      "        ensemble_size=3,\n",
      "        resnet18_dropout_head=False\n",
      "    ),\n",
      "    batchbald_redux.unified_experiment.UnifiedExperiment(\n",
      "        seed=1457,\n",
      "        experiment_data_config=batchbald_redux.experiment_data.StandardExperimentDataConfig(\n",
      "            id_dataset_name='CINIC-10',\n",
      "            id_repetitions=1,\n",
      "            initial_training_set_size=1000,\n",
      "            validation_set_size=1024,\n",
      "            validation_split_random_state=0,\n",
      "            evaluation_set_size=0,\n",
      "            add_dataset_noise=False,\n",
      "            ood_dataset_config=None\n",
      "        ),\n",
      "        acquisition_size=300,\n",
      "        max_training_set=16000,\n",
      "        max_training_epochs=105,\n",
      "        num_pool_samples=1,\n",
      "        num_validation_samples=1,\n",
      "        # class\n",
      "        acquisition_function=batchbald_redux.acquisition_functions.BALD,\n",
      "        # class\n",
      "        model_trainer_factory=batchbald_redux.resnet_models.Cifar10ModelWorkshopPaperTrainer,\n",
      "        ensemble_size=3,\n",
      "        resnet18_dropout_head=False\n",
      "    ),\n",
      "    batchbald_redux.unified_experiment.UnifiedExperiment(\n",
      "        seed=8946,\n",
      "        experiment_data_config=batchbald_redux.experiment_data.StandardExperimentDataConfig(\n",
      "            id_dataset_name='CINIC-10',\n",
      "            id_repetitions=1,\n",
      "            initial_training_set_size=1000,\n",
      "            validation_set_size=1024,\n",
      "            validation_split_random_state=0,\n",
      "            evaluation_set_size=0,\n",
      "            add_dataset_noise=False,\n",
      "            ood_dataset_config=None\n",
      "        ),\n",
      "        acquisition_size=300,\n",
      "        max_training_set=16000,\n",
      "        max_training_epochs=105,\n",
      "        num_pool_samples=1,\n",
      "        num_validation_samples=1,\n",
      "        # class\n",
      "        acquisition_function=batchbald_redux.acquisition_functions.StochasticBALD,\n",
      "        # class\n",
      "        model_trainer_factory=batchbald_redux.resnet_models.Cifar10ModelWorkshopPaperTrainer,\n",
      "        ensemble_size=3,\n",
      "        stochastic_mode=batchbald_redux.batchbald.StochasticMode.Power,\n",
      "        resnet18_dropout_head=False\n",
      "    ),\n",
      "    batchbald_redux.unified_experiment.UnifiedExperiment(\n",
      "        seed=8946,\n",
      "        experiment_data_config=batchbald_redux.experiment_data.StandardExperimentDataConfig(\n",
      "            id_dataset_name='CINIC-10',\n",
      "            id_repetitions=1,\n",
      "            initial_training_set_size=1000,\n",
      "            validation_set_size=1024,\n",
      "            validation_split_random_state=0,\n",
      "            evaluation_set_size=0,\n",
      "            add_dataset_noise=False,\n",
      "            ood_dataset_config=None\n",
      "        ),\n",
      "        acquisition_size=300,\n",
      "        max_training_set=16000,\n",
      "        max_training_epochs=105,\n",
      "        num_pool_samples=1,\n",
      "        num_validation_samples=1,\n",
      "        # class\n",
      "        acquisition_function=batchbald_redux.acquisition_functions.StochasticBALD,\n",
      "        # class\n",
      "        model_trainer_factory=batchbald_redux.resnet_models.Cifar10ModelWorkshopPaperTrainer,\n",
      "        ensemble_size=3,\n",
      "        coldness=8,\n",
      "        stochastic_mode=batchbald_redux.batchbald.StochasticMode.Power,\n",
      "        resnet18_dropout_head=False\n",
      "    ),\n",
      "    batchbald_redux.unified_experiment.UnifiedExperiment(\n",
      "        seed=8946,\n",
      "        experiment_data_config=batchbald_redux.experiment_data.StandardExperimentDataConfig(\n",
      "            id_dataset_name='CINIC-10',\n",
      "            id_repetitions=1,\n",
      "            initial_training_set_size=1000,\n",
      "            validation_set_size=1024,\n",
      "            validation_split_random_state=0,\n",
      "            evaluation_set_size=0,\n",
      "            add_dataset_noise=False,\n",
      "            ood_dataset_config=None\n",
      "        ),\n",
      "        acquisition_size=300,\n",
      "        max_training_set=16000,\n",
      "        max_training_epochs=105,\n",
      "        num_pool_samples=1,\n",
      "        num_validation_samples=1,\n",
      "        # class\n",
      "        acquisition_function=batchbald_redux.acquisition_functions.StochasticBALD,\n",
      "        # class\n",
      "        model_trainer_factory=batchbald_redux.resnet_models.Cifar10ModelWorkshopPaperTrainer,\n",
      "        ensemble_size=3,\n",
      "        stochastic_mode=batchbald_redux.batchbald.StochasticMode.Softmax,\n",
      "        resnet18_dropout_head=False\n",
      "    ),\n",
      "    batchbald_redux.unified_experiment.UnifiedExperiment(\n",
      "        seed=8946,\n",
      "        experiment_data_config=batchbald_redux.experiment_data.StandardExperimentDataConfig(\n",
      "            id_dataset_name='CINIC-10',\n",
      "            id_repetitions=1,\n",
      "            initial_training_set_size=1000,\n",
      "            validation_set_size=1024,\n",
      "            validation_split_random_state=0,\n",
      "            evaluation_set_size=0,\n",
      "            add_dataset_noise=False,\n",
      "            ood_dataset_config=None\n",
      "        ),\n",
      "        acquisition_size=300,\n",
      "        max_training_set=16000,\n",
      "        max_training_epochs=105,\n",
      "        num_pool_samples=1,\n",
      "        num_validation_samples=1,\n",
      "        # class\n",
      "        acquisition_function=batchbald_redux.acquisition_functions.StochasticBALD,\n",
      "        # class\n",
      "        model_trainer_factory=batchbald_redux.resnet_models.Cifar10ModelWorkshopPaperTrainer,\n",
      "        ensemble_size=3,\n",
      "        coldness=8,\n",
      "        stochastic_mode=batchbald_redux.batchbald.StochasticMode.Softmax,\n",
      "        resnet18_dropout_head=False\n",
      "    ),\n",
      "    batchbald_redux.unified_experiment.UnifiedExperiment(\n",
      "        seed=8946,\n",
      "        experiment_data_config=batchbald_redux.experiment_data.StandardExperimentDataConfig(\n",
      "            id_dataset_name='CINIC-10',\n",
      "            id_repetitions=1,\n",
      "            initial_training_set_size=1000,\n",
      "            validation_set_size=1024,\n",
      "            validation_split_random_state=0,\n",
      "            evaluation_set_size=0,\n",
      "            add_dataset_noise=False,\n",
      "            ood_dataset_config=None\n",
      "        ),\n",
      "        acquisition_size=300,\n",
      "        max_training_set=16000,\n",
      "        max_training_epochs=105,\n",
      "        num_pool_samples=1,\n",
      "        num_validation_samples=1,\n",
      "        # class\n",
      "        acquisition_function=batchbald_redux.acquisition_functions.StochasticBALD,\n",
      "        # class\n",
      "        model_trainer_factory=batchbald_redux.resnet_models.Cifar10ModelWorkshopPaperTrainer,\n",
      "        ensemble_size=3,\n",
      "        stochastic_mode=batchbald_redux.batchbald.StochasticMode.Softrank,\n",
      "        resnet18_dropout_head=False\n",
      "    ),\n",
      "    batchbald_redux.unified_experiment.UnifiedExperiment(\n",
      "        seed=1457,\n",
      "        experiment_data_config=batchbald_redux.experiment_data.StandardExperimentDataConfig(\n",
      "            id_dataset_name='CINIC-10',\n",
      "            id_repetitions=1,\n",
      "            initial_training_set_size=1000,\n",
      "            validation_set_size=1024,\n",
      "            validation_split_random_state=0,\n",
      "            evaluation_set_size=0,\n",
      "            add_dataset_noise=False,\n",
      "            ood_dataset_config=None\n",
      "        ),\n",
      "        acquisition_size=900,\n",
      "        max_training_set=16000,\n",
      "        max_training_epochs=105,\n",
      "        num_pool_samples=1,\n",
      "        num_validation_samples=1,\n",
      "        # class\n",
      "        acquisition_function=batchbald_redux.baseline_acquisition_functions.BADGE,\n",
      "        # class\n",
      "        model_trainer_factory=batchbald_redux.resnet_models.Cifar10ModelWorkshopPaperTrainer,\n",
      "        ensemble_size=3,\n",
      "        resnet18_dropout_head=False\n",
      "    ),\n",
      "    batchbald_redux.unified_experiment.UnifiedExperiment(\n",
      "        seed=1457,\n",
      "        experiment_data_config=batchbald_redux.experiment_data.StandardExperimentDataConfig(\n",
      "            id_dataset_name='CINIC-10',\n",
      "            id_repetitions=1,\n",
      "            initial_training_set_size=1000,\n",
      "            validation_set_size=1024,\n",
      "            validation_split_random_state=0,\n",
      "            evaluation_set_size=0,\n",
      "            add_dataset_noise=False,\n",
      "            ood_dataset_config=None\n",
      "        ),\n",
      "        acquisition_size=900,\n",
      "        max_training_set=16000,\n",
      "        max_training_epochs=105,\n",
      "        num_pool_samples=1,\n",
      "        num_validation_samples=1,\n",
      "        # class\n",
      "        acquisition_function=batchbald_redux.acquisition_functions.BALD,\n",
      "        # class\n",
      "        model_trainer_factory=batchbald_redux.resnet_models.Cifar10ModelWorkshopPaperTrainer,\n",
      "        ensemble_size=3,\n",
      "        resnet18_dropout_head=False\n",
      "    ),\n",
      "    batchbald_redux.unified_experiment.UnifiedExperiment(\n",
      "        seed=8946,\n",
      "        experiment_data_config=batchbald_redux.experiment_data.StandardExperimentDataConfig(\n",
      "            id_dataset_name='CINIC-10',\n",
      "            id_repetitions=1,\n",
      "            initial_training_set_size=1000,\n",
      "            validation_set_size=1024,\n",
      "            validation_split_random_state=0,\n",
      "            evaluation_set_size=0,\n",
      "            add_dataset_noise=False,\n",
      "            ood_dataset_config=None\n",
      "        ),\n",
      "        acquisition_size=900,\n",
      "        max_training_set=16000,\n",
      "        max_training_epochs=105,\n",
      "        num_pool_samples=1,\n",
      "        num_validation_samples=1,\n",
      "        # class\n",
      "        acquisition_function=batchbald_redux.acquisition_functions.StochasticBALD,\n",
      "        # class\n",
      "        model_trainer_factory=batchbald_redux.resnet_models.Cifar10ModelWorkshopPaperTrainer,\n",
      "        ensemble_size=3,\n",
      "        stochastic_mode=batchbald_redux.batchbald.StochasticMode.Power,\n",
      "        resnet18_dropout_head=False\n",
      "    ),\n",
      "    batchbald_redux.unified_experiment.UnifiedExperiment(\n",
      "        seed=8946,\n",
      "        experiment_data_config=batchbald_redux.experiment_data.StandardExperimentDataConfig(\n",
      "            id_dataset_name='CINIC-10',\n",
      "            id_repetitions=1,\n",
      "            initial_training_set_size=1000,\n",
      "            validation_set_size=1024,\n",
      "            validation_split_random_state=0,\n",
      "            evaluation_set_size=0,\n",
      "            add_dataset_noise=False,\n",
      "            ood_dataset_config=None\n",
      "        ),\n",
      "        acquisition_size=900,\n",
      "        max_training_set=16000,\n",
      "        max_training_epochs=105,\n",
      "        num_pool_samples=1,\n",
      "        num_validation_samples=1,\n",
      "        # class\n",
      "        acquisition_function=batchbald_redux.acquisition_functions.StochasticBALD,\n",
      "        # class\n",
      "        model_trainer_factory=batchbald_redux.resnet_models.Cifar10ModelWorkshopPaperTrainer,\n",
      "        ensemble_size=3,\n",
      "        coldness=8,\n",
      "        stochastic_mode=batchbald_redux.batchbald.StochasticMode.Power,\n",
      "        resnet18_dropout_head=False\n",
      "    ),\n",
      "    batchbald_redux.unified_experiment.UnifiedExperiment(\n",
      "        seed=8946,\n",
      "        experiment_data_config=batchbald_redux.experiment_data.StandardExperimentDataConfig(\n",
      "            id_dataset_name='CINIC-10',\n",
      "            id_repetitions=1,\n",
      "            initial_training_set_size=1000,\n",
      "            validation_set_size=1024,\n",
      "            validation_split_random_state=0,\n",
      "            evaluation_set_size=0,\n",
      "            add_dataset_noise=False,\n",
      "            ood_dataset_config=None\n",
      "        ),\n",
      "        acquisition_size=900,\n",
      "        max_training_set=16000,\n",
      "        max_training_epochs=105,\n",
      "        num_pool_samples=1,\n",
      "        num_validation_samples=1,\n",
      "        # class\n",
      "        acquisition_function=batchbald_redux.acquisition_functions.StochasticBALD,\n",
      "        # class\n",
      "        model_trainer_factory=batchbald_redux.resnet_models.Cifar10ModelWorkshopPaperTrainer,\n",
      "        ensemble_size=3,\n",
      "        stochastic_mode=batchbald_redux.batchbald.StochasticMode.Softmax,\n",
      "        resnet18_dropout_head=False\n",
      "    ),\n",
      "    batchbald_redux.unified_experiment.UnifiedExperiment(\n",
      "        seed=8946,\n",
      "        experiment_data_config=batchbald_redux.experiment_data.StandardExperimentDataConfig(\n",
      "            id_dataset_name='CINIC-10',\n",
      "            id_repetitions=1,\n",
      "            initial_training_set_size=1000,\n",
      "            validation_set_size=1024,\n",
      "            validation_split_random_state=0,\n",
      "            evaluation_set_size=0,\n",
      "            add_dataset_noise=False,\n",
      "            ood_dataset_config=None\n",
      "        ),\n",
      "        acquisition_size=900,\n",
      "        max_training_set=16000,\n",
      "        max_training_epochs=105,\n",
      "        num_pool_samples=1,\n",
      "        num_validation_samples=1,\n",
      "        # class\n",
      "        acquisition_function=batchbald_redux.acquisition_functions.StochasticBALD,\n",
      "        # class\n",
      "        model_trainer_factory=batchbald_redux.resnet_models.Cifar10ModelWorkshopPaperTrainer,\n",
      "        ensemble_size=3,\n",
      "        coldness=8,\n",
      "        stochastic_mode=batchbald_redux.batchbald.StochasticMode.Softmax,\n",
      "        resnet18_dropout_head=False\n",
      "    ),\n",
      "    batchbald_redux.unified_experiment.UnifiedExperiment(\n",
      "        seed=8946,\n",
      "        experiment_data_config=batchbald_redux.experiment_data.StandardExperimentDataConfig(\n",
      "            id_dataset_name='CINIC-10',\n",
      "            id_repetitions=1,\n",
      "            initial_training_set_size=1000,\n",
      "            validation_set_size=1024,\n",
      "            validation_split_random_state=0,\n",
      "            evaluation_set_size=0,\n",
      "            add_dataset_noise=False,\n",
      "            ood_dataset_config=None\n",
      "        ),\n",
      "        acquisition_size=900,\n",
      "        max_training_set=16000,\n",
      "        max_training_epochs=105,\n",
      "        num_pool_samples=1,\n",
      "        num_validation_samples=1,\n",
      "        # class\n",
      "        acquisition_function=batchbald_redux.acquisition_functions.StochasticBALD,\n",
      "        # class\n",
      "        model_trainer_factory=batchbald_redux.resnet_models.Cifar10ModelWorkshopPaperTrainer,\n",
      "        ensemble_size=3,\n",
      "        stochastic_mode=batchbald_redux.batchbald.StochasticMode.Softrank,\n",
      "        resnet18_dropout_head=False\n",
      "    ),\n",
      "    batchbald_redux.unified_experiment.UnifiedExperiment(\n",
      "        seed=1458,\n",
      "        experiment_data_config=batchbald_redux.experiment_data.StandardExperimentDataConfig(\n",
      "            id_dataset_name='CIFAR-10',\n",
      "            id_repetitions=1,\n",
      "            initial_training_set_size=1000,\n",
      "            validation_set_size=1024,\n",
      "            validation_split_random_state=0,\n",
      "            evaluation_set_size=0,\n",
      "            add_dataset_noise=False,\n",
      "            ood_dataset_config=None\n",
      "        ),\n",
      "        acquisition_size=300,\n",
      "        max_training_set=16000,\n",
      "        max_training_epochs=105,\n",
      "        num_pool_samples=1,\n",
      "        num_validation_samples=1,\n",
      "        # class\n",
      "        acquisition_function=batchbald_redux.baseline_acquisition_functions.BADGE,\n",
      "        # class\n",
      "        model_trainer_factory=batchbald_redux.resnet_models.Cifar10ModelWorkshopPaperTrainer,\n",
      "        ensemble_size=3,\n",
      "        resnet18_dropout_head=False\n",
      "    ),\n",
      "    batchbald_redux.unified_experiment.UnifiedExperiment(\n",
      "        seed=1458,\n",
      "        experiment_data_config=batchbald_redux.experiment_data.StandardExperimentDataConfig(\n",
      "            id_dataset_name='CIFAR-10',\n",
      "            id_repetitions=1,\n",
      "            initial_training_set_size=1000,\n",
      "            validation_set_size=1024,\n",
      "            validation_split_random_state=0,\n",
      "            evaluation_set_size=0,\n",
      "            add_dataset_noise=False,\n",
      "            ood_dataset_config=None\n",
      "        ),\n",
      "        acquisition_size=300,\n",
      "        max_training_set=16000,\n",
      "        max_training_epochs=105,\n",
      "        num_pool_samples=1,\n",
      "        num_validation_samples=1,\n",
      "        # class\n",
      "        acquisition_function=batchbald_redux.acquisition_functions.BALD,\n",
      "        # class\n",
      "        model_trainer_factory=batchbald_redux.resnet_models.Cifar10ModelWorkshopPaperTrainer,\n",
      "        ensemble_size=3,\n",
      "        resnet18_dropout_head=False\n",
      "    ),\n",
      "    batchbald_redux.unified_experiment.UnifiedExperiment(\n",
      "        seed=8947,\n",
      "        experiment_data_config=batchbald_redux.experiment_data.StandardExperimentDataConfig(\n",
      "            id_dataset_name='CIFAR-10',\n",
      "            id_repetitions=1,\n",
      "            initial_training_set_size=1000,\n",
      "            validation_set_size=1024,\n",
      "            validation_split_random_state=0,\n",
      "            evaluation_set_size=0,\n",
      "            add_dataset_noise=False,\n",
      "            ood_dataset_config=None\n",
      "        ),\n",
      "        acquisition_size=300,\n",
      "        max_training_set=16000,\n",
      "        max_training_epochs=105,\n",
      "        num_pool_samples=1,\n",
      "        num_validation_samples=1,\n",
      "        # class\n",
      "        acquisition_function=batchbald_redux.acquisition_functions.StochasticBALD,\n",
      "        # class\n",
      "        model_trainer_factory=batchbald_redux.resnet_models.Cifar10ModelWorkshopPaperTrainer,\n",
      "        ensemble_size=3,\n",
      "        stochastic_mode=batchbald_redux.batchbald.StochasticMode.Power,\n",
      "        resnet18_dropout_head=False\n",
      "    ),\n",
      "    batchbald_redux.unified_experiment.UnifiedExperiment(\n",
      "        seed=8947,\n",
      "        experiment_data_config=batchbald_redux.experiment_data.StandardExperimentDataConfig(\n",
      "            id_dataset_name='CIFAR-10',\n",
      "            id_repetitions=1,\n",
      "            initial_training_set_size=1000,\n",
      "            validation_set_size=1024,\n",
      "            validation_split_random_state=0,\n",
      "            evaluation_set_size=0,\n",
      "            add_dataset_noise=False,\n",
      "            ood_dataset_config=None\n",
      "        ),\n",
      "        acquisition_size=300,\n",
      "        max_training_set=16000,\n",
      "        max_training_epochs=105,\n",
      "        num_pool_samples=1,\n",
      "        num_validation_samples=1,\n",
      "        # class\n",
      "        acquisition_function=batchbald_redux.acquisition_functions.StochasticBALD,\n",
      "        # class\n",
      "        model_trainer_factory=batchbald_redux.resnet_models.Cifar10ModelWorkshopPaperTrainer,\n",
      "        ensemble_size=3,\n",
      "        coldness=8,\n",
      "        stochastic_mode=batchbald_redux.batchbald.StochasticMode.Power,\n",
      "        resnet18_dropout_head=False\n",
      "    ),\n",
      "    batchbald_redux.unified_experiment.UnifiedExperiment(\n",
      "        seed=8947,\n",
      "        experiment_data_config=batchbald_redux.experiment_data.StandardExperimentDataConfig(\n",
      "            id_dataset_name='CIFAR-10',\n",
      "            id_repetitions=1,\n",
      "            initial_training_set_size=1000,\n",
      "            validation_set_size=1024,\n",
      "            validation_split_random_state=0,\n",
      "            evaluation_set_size=0,\n",
      "            add_dataset_noise=False,\n",
      "            ood_dataset_config=None\n",
      "        ),\n",
      "        acquisition_size=300,\n",
      "        max_training_set=16000,\n",
      "        max_training_epochs=105,\n",
      "        num_pool_samples=1,\n",
      "        num_validation_samples=1,\n",
      "        # class\n",
      "        acquisition_function=batchbald_redux.acquisition_functions.StochasticBALD,\n",
      "        # class\n",
      "        model_trainer_factory=batchbald_redux.resnet_models.Cifar10ModelWorkshopPaperTrainer,\n",
      "        ensemble_size=3,\n",
      "        stochastic_mode=batchbald_redux.batchbald.StochasticMode.Softmax,\n",
      "        resnet18_dropout_head=False\n",
      "    ),\n",
      "    batchbald_redux.unified_experiment.UnifiedExperiment(\n",
      "        seed=8947,\n",
      "        experiment_data_config=batchbald_redux.experiment_data.StandardExperimentDataConfig(\n",
      "            id_dataset_name='CIFAR-10',\n",
      "            id_repetitions=1,\n",
      "            initial_training_set_size=1000,\n",
      "            validation_set_size=1024,\n",
      "            validation_split_random_state=0,\n",
      "            evaluation_set_size=0,\n",
      "            add_dataset_noise=False,\n",
      "            ood_dataset_config=None\n",
      "        ),\n",
      "        acquisition_size=300,\n",
      "        max_training_set=16000,\n",
      "        max_training_epochs=105,\n",
      "        num_pool_samples=1,\n",
      "        num_validation_samples=1,\n",
      "        # class\n",
      "        acquisition_function=batchbald_redux.acquisition_functions.StochasticBALD,\n",
      "        # class\n",
      "        model_trainer_factory=batchbald_redux.resnet_models.Cifar10ModelWorkshopPaperTrainer,\n",
      "        ensemble_size=3,\n",
      "        coldness=8,\n",
      "        stochastic_mode=batchbald_redux.batchbald.StochasticMode.Softmax,\n",
      "        resnet18_dropout_head=False\n",
      "    ),\n",
      "    batchbald_redux.unified_experiment.UnifiedExperiment(\n",
      "        seed=8947,\n",
      "        experiment_data_config=batchbald_redux.experiment_data.StandardExperimentDataConfig(\n",
      "            id_dataset_name='CIFAR-10',\n",
      "            id_repetitions=1,\n",
      "            initial_training_set_size=1000,\n",
      "            validation_set_size=1024,\n",
      "            validation_split_random_state=0,\n",
      "            evaluation_set_size=0,\n",
      "            add_dataset_noise=False,\n",
      "            ood_dataset_config=None\n",
      "        ),\n",
      "        acquisition_size=300,\n",
      "        max_training_set=16000,\n",
      "        max_training_epochs=105,\n",
      "        num_pool_samples=1,\n",
      "        num_validation_samples=1,\n",
      "        # class\n",
      "        acquisition_function=batchbald_redux.acquisition_functions.StochasticBALD,\n",
      "        # class\n",
      "        model_trainer_factory=batchbald_redux.resnet_models.Cifar10ModelWorkshopPaperTrainer,\n",
      "        ensemble_size=3,\n",
      "        stochastic_mode=batchbald_redux.batchbald.StochasticMode.Softrank,\n",
      "        resnet18_dropout_head=False\n",
      "    ),\n",
      "    batchbald_redux.unified_experiment.UnifiedExperiment(\n",
      "        seed=1458,\n",
      "        experiment_data_config=batchbald_redux.experiment_data.StandardExperimentDataConfig(\n",
      "            id_dataset_name='CIFAR-10',\n",
      "            id_repetitions=1,\n",
      "            initial_training_set_size=1000,\n",
      "            validation_set_size=1024,\n",
      "            validation_split_random_state=0,\n",
      "            evaluation_set_size=0,\n",
      "            add_dataset_noise=False,\n",
      "            ood_dataset_config=None\n",
      "        ),\n",
      "        acquisition_size=900,\n",
      "        max_training_set=16000,\n",
      "        max_training_epochs=105,\n",
      "        num_pool_samples=1,\n",
      "        num_validation_samples=1,\n",
      "        # class\n",
      "        acquisition_function=batchbald_redux.baseline_acquisition_functions.BADGE,\n",
      "        # class\n",
      "        model_trainer_factory=batchbald_redux.resnet_models.Cifar10ModelWorkshopPaperTrainer,\n",
      "        ensemble_size=3,\n",
      "        resnet18_dropout_head=False\n",
      "    ),\n",
      "    batchbald_redux.unified_experiment.UnifiedExperiment(\n",
      "        seed=1458,\n",
      "        experiment_data_config=batchbald_redux.experiment_data.StandardExperimentDataConfig(\n",
      "            id_dataset_name='CIFAR-10',\n",
      "            id_repetitions=1,\n",
      "            initial_training_set_size=1000,\n",
      "            validation_set_size=1024,\n",
      "            validation_split_random_state=0,\n",
      "            evaluation_set_size=0,\n",
      "            add_dataset_noise=False,\n",
      "            ood_dataset_config=None\n",
      "        ),\n",
      "        acquisition_size=900,\n",
      "        max_training_set=16000,\n",
      "        max_training_epochs=105,\n",
      "        num_pool_samples=1,\n",
      "        num_validation_samples=1,\n",
      "        # class\n",
      "        acquisition_function=batchbald_redux.acquisition_functions.BALD,\n",
      "        # class\n",
      "        model_trainer_factory=batchbald_redux.resnet_models.Cifar10ModelWorkshopPaperTrainer,\n",
      "        ensemble_size=3,\n",
      "        resnet18_dropout_head=False\n",
      "    ),\n",
      "    batchbald_redux.unified_experiment.UnifiedExperiment(\n",
      "        seed=8947,\n",
      "        experiment_data_config=batchbald_redux.experiment_data.StandardExperimentDataConfig(\n",
      "            id_dataset_name='CIFAR-10',\n",
      "            id_repetitions=1,\n",
      "            initial_training_set_size=1000,\n",
      "            validation_set_size=1024,\n",
      "            validation_split_random_state=0,\n",
      "            evaluation_set_size=0,\n",
      "            add_dataset_noise=False,\n",
      "            ood_dataset_config=None\n",
      "        ),\n",
      "        acquisition_size=900,\n",
      "        max_training_set=16000,\n",
      "        max_training_epochs=105,\n",
      "        num_pool_samples=1,\n",
      "        num_validation_samples=1,\n",
      "        # class\n",
      "        acquisition_function=batchbald_redux.acquisition_functions.StochasticBALD,\n",
      "        # class\n",
      "        model_trainer_factory=batchbald_redux.resnet_models.Cifar10ModelWorkshopPaperTrainer,\n",
      "        ensemble_size=3,\n",
      "        stochastic_mode=batchbald_redux.batchbald.StochasticMode.Power,\n",
      "        resnet18_dropout_head=False\n",
      "    ),\n",
      "    batchbald_redux.unified_experiment.UnifiedExperiment(\n",
      "        seed=8947,\n",
      "        experiment_data_config=batchbald_redux.experiment_data.StandardExperimentDataConfig(\n",
      "            id_dataset_name='CIFAR-10',\n",
      "            id_repetitions=1,\n",
      "            initial_training_set_size=1000,\n",
      "            validation_set_size=1024,\n",
      "            validation_split_random_state=0,\n",
      "            evaluation_set_size=0,\n",
      "            add_dataset_noise=False,\n",
      "            ood_dataset_config=None\n",
      "        ),\n",
      "        acquisition_size=900,\n",
      "        max_training_set=16000,\n",
      "        max_training_epochs=105,\n",
      "        num_pool_samples=1,\n",
      "        num_validation_samples=1,\n",
      "        # class\n",
      "        acquisition_function=batchbald_redux.acquisition_functions.StochasticBALD,\n",
      "        # class\n",
      "        model_trainer_factory=batchbald_redux.resnet_models.Cifar10ModelWorkshopPaperTrainer,\n",
      "        ensemble_size=3,\n",
      "        coldness=8,\n",
      "        stochastic_mode=batchbald_redux.batchbald.StochasticMode.Power,\n",
      "        resnet18_dropout_head=False\n",
      "    ),\n",
      "    batchbald_redux.unified_experiment.UnifiedExperiment(\n",
      "        seed=8947,\n",
      "        experiment_data_config=batchbald_redux.experiment_data.StandardExperimentDataConfig(\n",
      "            id_dataset_name='CIFAR-10',\n",
      "            id_repetitions=1,\n",
      "            initial_training_set_size=1000,\n",
      "            validation_set_size=1024,\n",
      "            validation_split_random_state=0,\n",
      "            evaluation_set_size=0,\n",
      "            add_dataset_noise=False,\n",
      "            ood_dataset_config=None\n",
      "        ),\n",
      "        acquisition_size=900,\n",
      "        max_training_set=16000,\n",
      "        max_training_epochs=105,\n",
      "        num_pool_samples=1,\n",
      "        num_validation_samples=1,\n",
      "        # class\n",
      "        acquisition_function=batchbald_redux.acquisition_functions.StochasticBALD,\n",
      "        # class\n",
      "        model_trainer_factory=batchbald_redux.resnet_models.Cifar10ModelWorkshopPaperTrainer,\n",
      "        ensemble_size=3,\n",
      "        stochastic_mode=batchbald_redux.batchbald.StochasticMode.Softmax,\n",
      "        resnet18_dropout_head=False\n",
      "    ),\n",
      "    batchbald_redux.unified_experiment.UnifiedExperiment(\n",
      "        seed=8947,\n",
      "        experiment_data_config=batchbald_redux.experiment_data.StandardExperimentDataConfig(\n",
      "            id_dataset_name='CIFAR-10',\n",
      "            id_repetitions=1,\n",
      "            initial_training_set_size=1000,\n",
      "            validation_set_size=1024,\n",
      "            validation_split_random_state=0,\n",
      "            evaluation_set_size=0,\n",
      "            add_dataset_noise=False,\n",
      "            ood_dataset_config=None\n",
      "        ),\n",
      "        acquisition_size=900,\n",
      "        max_training_set=16000,\n",
      "        max_training_epochs=105,\n",
      "        num_pool_samples=1,\n",
      "        num_validation_samples=1,\n",
      "        # class\n",
      "        acquisition_function=batchbald_redux.acquisition_functions.StochasticBALD,\n",
      "        # class\n",
      "        model_trainer_factory=batchbald_redux.resnet_models.Cifar10ModelWorkshopPaperTrainer,\n",
      "        ensemble_size=3,\n",
      "        coldness=8,\n",
      "        stochastic_mode=batchbald_redux.batchbald.StochasticMode.Softmax,\n",
      "        resnet18_dropout_head=False\n",
      "    ),\n",
      "    batchbald_redux.unified_experiment.UnifiedExperiment(\n",
      "        seed=8947,\n",
      "        experiment_data_config=batchbald_redux.experiment_data.StandardExperimentDataConfig(\n",
      "            id_dataset_name='CIFAR-10',\n",
      "            id_repetitions=1,\n",
      "            initial_training_set_size=1000,\n",
      "            validation_set_size=1024,\n",
      "            validation_split_random_state=0,\n",
      "            evaluation_set_size=0,\n",
      "            add_dataset_noise=False,\n",
      "            ood_dataset_config=None\n",
      "        ),\n",
      "        acquisition_size=900,\n",
      "        max_training_set=16000,\n",
      "        max_training_epochs=105,\n",
      "        num_pool_samples=1,\n",
      "        num_validation_samples=1,\n",
      "        # class\n",
      "        acquisition_function=batchbald_redux.acquisition_functions.StochasticBALD,\n",
      "        # class\n",
      "        model_trainer_factory=batchbald_redux.resnet_models.Cifar10ModelWorkshopPaperTrainer,\n",
      "        ensemble_size=3,\n",
      "        stochastic_mode=batchbald_redux.batchbald.StochasticMode.Softrank,\n",
      "        resnet18_dropout_head=False\n",
      "    ),\n",
      "    batchbald_redux.unified_experiment.UnifiedExperiment(\n",
      "        seed=1458,\n",
      "        experiment_data_config=batchbald_redux.experiment_data.StandardExperimentDataConfig(\n",
      "            id_dataset_name='CINIC-10',\n",
      "            id_repetitions=1,\n",
      "            initial_training_set_size=1000,\n",
      "            validation_set_size=1024,\n",
      "            validation_split_random_state=0,\n",
      "            evaluation_set_size=0,\n",
      "            add_dataset_noise=False,\n",
      "            ood_dataset_config=None\n",
      "        ),\n",
      "        acquisition_size=300,\n",
      "        max_training_set=16000,\n",
      "        max_training_epochs=105,\n",
      "        num_pool_samples=1,\n",
      "        num_validation_samples=1,\n",
      "        # class\n",
      "        acquisition_function=batchbald_redux.baseline_acquisition_functions.BADGE,\n",
      "        # class\n",
      "        model_trainer_factory=batchbald_redux.resnet_models.Cifar10ModelWorkshopPaperTrainer,\n",
      "        ensemble_size=3,\n",
      "        resnet18_dropout_head=False\n",
      "    ),\n",
      "    batchbald_redux.unified_experiment.UnifiedExperiment(\n",
      "        seed=1458,\n",
      "        experiment_data_config=batchbald_redux.experiment_data.StandardExperimentDataConfig(\n",
      "            id_dataset_name='CINIC-10',\n",
      "            id_repetitions=1,\n",
      "            initial_training_set_size=1000,\n",
      "            validation_set_size=1024,\n",
      "            validation_split_random_state=0,\n",
      "            evaluation_set_size=0,\n",
      "            add_dataset_noise=False,\n",
      "            ood_dataset_config=None\n",
      "        ),\n",
      "        acquisition_size=300,\n",
      "        max_training_set=16000,\n",
      "        max_training_epochs=105,\n",
      "        num_pool_samples=1,\n",
      "        num_validation_samples=1,\n",
      "        # class\n",
      "        acquisition_function=batchbald_redux.acquisition_functions.BALD,\n",
      "        # class\n",
      "        model_trainer_factory=batchbald_redux.resnet_models.Cifar10ModelWorkshopPaperTrainer,\n",
      "        ensemble_size=3,\n",
      "        resnet18_dropout_head=False\n",
      "    ),\n",
      "    batchbald_redux.unified_experiment.UnifiedExperiment(\n",
      "        seed=8947,\n",
      "        experiment_data_config=batchbald_redux.experiment_data.StandardExperimentDataConfig(\n",
      "            id_dataset_name='CINIC-10',\n",
      "            id_repetitions=1,\n",
      "            initial_training_set_size=1000,\n",
      "            validation_set_size=1024,\n",
      "            validation_split_random_state=0,\n",
      "            evaluation_set_size=0,\n",
      "            add_dataset_noise=False,\n",
      "            ood_dataset_config=None\n",
      "        ),\n",
      "        acquisition_size=300,\n",
      "        max_training_set=16000,\n",
      "        max_training_epochs=105,\n",
      "        num_pool_samples=1,\n",
      "        num_validation_samples=1,\n",
      "        # class\n",
      "        acquisition_function=batchbald_redux.acquisition_functions.StochasticBALD,\n",
      "        # class\n",
      "        model_trainer_factory=batchbald_redux.resnet_models.Cifar10ModelWorkshopPaperTrainer,\n",
      "        ensemble_size=3,\n",
      "        stochastic_mode=batchbald_redux.batchbald.StochasticMode.Power,\n",
      "        resnet18_dropout_head=False\n",
      "    ),\n",
      "    batchbald_redux.unified_experiment.UnifiedExperiment(\n",
      "        seed=8947,\n",
      "        experiment_data_config=batchbald_redux.experiment_data.StandardExperimentDataConfig(\n",
      "            id_dataset_name='CINIC-10',\n",
      "            id_repetitions=1,\n",
      "            initial_training_set_size=1000,\n",
      "            validation_set_size=1024,\n",
      "            validation_split_random_state=0,\n",
      "            evaluation_set_size=0,\n",
      "            add_dataset_noise=False,\n",
      "            ood_dataset_config=None\n",
      "        ),\n",
      "        acquisition_size=300,\n",
      "        max_training_set=16000,\n",
      "        max_training_epochs=105,\n",
      "        num_pool_samples=1,\n",
      "        num_validation_samples=1,\n",
      "        # class\n",
      "        acquisition_function=batchbald_redux.acquisition_functions.StochasticBALD,\n",
      "        # class\n",
      "        model_trainer_factory=batchbald_redux.resnet_models.Cifar10ModelWorkshopPaperTrainer,\n",
      "        ensemble_size=3,\n",
      "        coldness=8,\n",
      "        stochastic_mode=batchbald_redux.batchbald.StochasticMode.Power,\n",
      "        resnet18_dropout_head=False\n",
      "    ),\n",
      "    batchbald_redux.unified_experiment.UnifiedExperiment(\n",
      "        seed=8947,\n",
      "        experiment_data_config=batchbald_redux.experiment_data.StandardExperimentDataConfig(\n",
      "            id_dataset_name='CINIC-10',\n",
      "            id_repetitions=1,\n",
      "            initial_training_set_size=1000,\n",
      "            validation_set_size=1024,\n",
      "            validation_split_random_state=0,\n",
      "            evaluation_set_size=0,\n",
      "            add_dataset_noise=False,\n",
      "            ood_dataset_config=None\n",
      "        ),\n",
      "        acquisition_size=300,\n",
      "        max_training_set=16000,\n",
      "        max_training_epochs=105,\n",
      "        num_pool_samples=1,\n",
      "        num_validation_samples=1,\n",
      "        # class\n",
      "        acquisition_function=batchbald_redux.acquisition_functions.StochasticBALD,\n",
      "        # class\n",
      "        model_trainer_factory=batchbald_redux.resnet_models.Cifar10ModelWorkshopPaperTrainer,\n",
      "        ensemble_size=3,\n",
      "        stochastic_mode=batchbald_redux.batchbald.StochasticMode.Softmax,\n",
      "        resnet18_dropout_head=False\n",
      "    ),\n",
      "    batchbald_redux.unified_experiment.UnifiedExperiment(\n",
      "        seed=8947,\n",
      "        experiment_data_config=batchbald_redux.experiment_data.StandardExperimentDataConfig(\n",
      "            id_dataset_name='CINIC-10',\n",
      "            id_repetitions=1,\n",
      "            initial_training_set_size=1000,\n",
      "            validation_set_size=1024,\n",
      "            validation_split_random_state=0,\n",
      "            evaluation_set_size=0,\n",
      "            add_dataset_noise=False,\n",
      "            ood_dataset_config=None\n",
      "        ),\n",
      "        acquisition_size=300,\n",
      "        max_training_set=16000,\n",
      "        max_training_epochs=105,\n",
      "        num_pool_samples=1,\n",
      "        num_validation_samples=1,\n",
      "        # class\n",
      "        acquisition_function=batchbald_redux.acquisition_functions.StochasticBALD,\n",
      "        # class\n",
      "        model_trainer_factory=batchbald_redux.resnet_models.Cifar10ModelWorkshopPaperTrainer,\n",
      "        ensemble_size=3,\n",
      "        coldness=8,\n",
      "        stochastic_mode=batchbald_redux.batchbald.StochasticMode.Softmax,\n",
      "        resnet18_dropout_head=False\n",
      "    ),\n",
      "    batchbald_redux.unified_experiment.UnifiedExperiment(\n",
      "        seed=8947,\n",
      "        experiment_data_config=batchbald_redux.experiment_data.StandardExperimentDataConfig(\n",
      "            id_dataset_name='CINIC-10',\n",
      "            id_repetitions=1,\n",
      "            initial_training_set_size=1000,\n",
      "            validation_set_size=1024,\n",
      "            validation_split_random_state=0,\n",
      "            evaluation_set_size=0,\n",
      "            add_dataset_noise=False,\n",
      "            ood_dataset_config=None\n",
      "        ),\n",
      "        acquisition_size=300,\n",
      "        max_training_set=16000,\n",
      "        max_training_epochs=105,\n",
      "        num_pool_samples=1,\n",
      "        num_validation_samples=1,\n",
      "        # class\n",
      "        acquisition_function=batchbald_redux.acquisition_functions.StochasticBALD,\n",
      "        # class\n",
      "        model_trainer_factory=batchbald_redux.resnet_models.Cifar10ModelWorkshopPaperTrainer,\n",
      "        ensemble_size=3,\n",
      "        stochastic_mode=batchbald_redux.batchbald.StochasticMode.Softrank,\n",
      "        resnet18_dropout_head=False\n",
      "    ),\n",
      "    batchbald_redux.unified_experiment.UnifiedExperiment(\n",
      "        seed=1458,\n",
      "        experiment_data_config=batchbald_redux.experiment_data.StandardExperimentDataConfig(\n",
      "            id_dataset_name='CINIC-10',\n",
      "            id_repetitions=1,\n",
      "            initial_training_set_size=1000,\n",
      "            validation_set_size=1024,\n",
      "            validation_split_random_state=0,\n",
      "            evaluation_set_size=0,\n",
      "            add_dataset_noise=False,\n",
      "            ood_dataset_config=None\n",
      "        ),\n",
      "        acquisition_size=900,\n",
      "        max_training_set=16000,\n",
      "        max_training_epochs=105,\n",
      "        num_pool_samples=1,\n",
      "        num_validation_samples=1,\n",
      "        # class\n",
      "        acquisition_function=batchbald_redux.baseline_acquisition_functions.BADGE,\n",
      "        # class\n",
      "        model_trainer_factory=batchbald_redux.resnet_models.Cifar10ModelWorkshopPaperTrainer,\n",
      "        ensemble_size=3,\n",
      "        resnet18_dropout_head=False\n",
      "    ),\n",
      "    batchbald_redux.unified_experiment.UnifiedExperiment(\n",
      "        seed=1458,\n",
      "        experiment_data_config=batchbald_redux.experiment_data.StandardExperimentDataConfig(\n",
      "            id_dataset_name='CINIC-10',\n",
      "            id_repetitions=1,\n",
      "            initial_training_set_size=1000,\n",
      "            validation_set_size=1024,\n",
      "            validation_split_random_state=0,\n",
      "            evaluation_set_size=0,\n",
      "            add_dataset_noise=False,\n",
      "            ood_dataset_config=None\n",
      "        ),\n",
      "        acquisition_size=900,\n",
      "        max_training_set=16000,\n",
      "        max_training_epochs=105,\n",
      "        num_pool_samples=1,\n",
      "        num_validation_samples=1,\n",
      "        # class\n",
      "        acquisition_function=batchbald_redux.acquisition_functions.BALD,\n",
      "        # class\n",
      "        model_trainer_factory=batchbald_redux.resnet_models.Cifar10ModelWorkshopPaperTrainer,\n",
      "        ensemble_size=3,\n",
      "        resnet18_dropout_head=False\n",
      "    ),\n",
      "    batchbald_redux.unified_experiment.UnifiedExperiment(\n",
      "        seed=8947,\n",
      "        experiment_data_config=batchbald_redux.experiment_data.StandardExperimentDataConfig(\n",
      "            id_dataset_name='CINIC-10',\n",
      "            id_repetitions=1,\n",
      "            initial_training_set_size=1000,\n",
      "            validation_set_size=1024,\n",
      "            validation_split_random_state=0,\n",
      "            evaluation_set_size=0,\n",
      "            add_dataset_noise=False,\n",
      "            ood_dataset_config=None\n",
      "        ),\n",
      "        acquisition_size=900,\n",
      "        max_training_set=16000,\n",
      "        max_training_epochs=105,\n",
      "        num_pool_samples=1,\n",
      "        num_validation_samples=1,\n",
      "        # class\n",
      "        acquisition_function=batchbald_redux.acquisition_functions.StochasticBALD,\n",
      "        # class\n",
      "        model_trainer_factory=batchbald_redux.resnet_models.Cifar10ModelWorkshopPaperTrainer,\n",
      "        ensemble_size=3,\n",
      "        stochastic_mode=batchbald_redux.batchbald.StochasticMode.Power,\n",
      "        resnet18_dropout_head=False\n",
      "    ),\n",
      "    batchbald_redux.unified_experiment.UnifiedExperiment(\n",
      "        seed=8947,\n",
      "        experiment_data_config=batchbald_redux.experiment_data.StandardExperimentDataConfig(\n",
      "            id_dataset_name='CINIC-10',\n",
      "            id_repetitions=1,\n",
      "            initial_training_set_size=1000,\n",
      "            validation_set_size=1024,\n",
      "            validation_split_random_state=0,\n",
      "            evaluation_set_size=0,\n",
      "            add_dataset_noise=False,\n",
      "            ood_dataset_config=None\n",
      "        ),\n",
      "        acquisition_size=900,\n",
      "        max_training_set=16000,\n",
      "        max_training_epochs=105,\n",
      "        num_pool_samples=1,\n",
      "        num_validation_samples=1,\n",
      "        # class\n",
      "        acquisition_function=batchbald_redux.acquisition_functions.StochasticBALD,\n",
      "        # class\n",
      "        model_trainer_factory=batchbald_redux.resnet_models.Cifar10ModelWorkshopPaperTrainer,\n",
      "        ensemble_size=3,\n",
      "        coldness=8,\n",
      "        stochastic_mode=batchbald_redux.batchbald.StochasticMode.Power,\n",
      "        resnet18_dropout_head=False\n",
      "    ),\n",
      "    batchbald_redux.unified_experiment.UnifiedExperiment(\n",
      "        seed=8947,\n",
      "        experiment_data_config=batchbald_redux.experiment_data.StandardExperimentDataConfig(\n",
      "            id_dataset_name='CINIC-10',\n",
      "            id_repetitions=1,\n",
      "            initial_training_set_size=1000,\n",
      "            validation_set_size=1024,\n",
      "            validation_split_random_state=0,\n",
      "            evaluation_set_size=0,\n",
      "            add_dataset_noise=False,\n",
      "            ood_dataset_config=None\n",
      "        ),\n",
      "        acquisition_size=900,\n",
      "        max_training_set=16000,\n",
      "        max_training_epochs=105,\n",
      "        num_pool_samples=1,\n",
      "        num_validation_samples=1,\n",
      "        # class\n",
      "        acquisition_function=batchbald_redux.acquisition_functions.StochasticBALD,\n",
      "        # class\n",
      "        model_trainer_factory=batchbald_redux.resnet_models.Cifar10ModelWorkshopPaperTrainer,\n",
      "        ensemble_size=3,\n",
      "        stochastic_mode=batchbald_redux.batchbald.StochasticMode.Softmax,\n",
      "        resnet18_dropout_head=False\n",
      "    ),\n",
      "    batchbald_redux.unified_experiment.UnifiedExperiment(\n",
      "        seed=8947,\n",
      "        experiment_data_config=batchbald_redux.experiment_data.StandardExperimentDataConfig(\n",
      "            id_dataset_name='CINIC-10',\n",
      "            id_repetitions=1,\n",
      "            initial_training_set_size=1000,\n",
      "            validation_set_size=1024,\n",
      "            validation_split_random_state=0,\n",
      "            evaluation_set_size=0,\n",
      "            add_dataset_noise=False,\n",
      "            ood_dataset_config=None\n",
      "        ),\n",
      "        acquisition_size=900,\n",
      "        max_training_set=16000,\n",
      "        max_training_epochs=105,\n",
      "        num_pool_samples=1,\n",
      "        num_validation_samples=1,\n",
      "        # class\n",
      "        acquisition_function=batchbald_redux.acquisition_functions.StochasticBALD,\n",
      "        # class\n",
      "        model_trainer_factory=batchbald_redux.resnet_models.Cifar10ModelWorkshopPaperTrainer,\n",
      "        ensemble_size=3,\n",
      "        coldness=8,\n",
      "        stochastic_mode=batchbald_redux.batchbald.StochasticMode.Softmax,\n",
      "        resnet18_dropout_head=False\n",
      "    ),\n",
      "    batchbald_redux.unified_experiment.UnifiedExperiment(\n",
      "        seed=8947,\n",
      "        experiment_data_config=batchbald_redux.experiment_data.StandardExperimentDataConfig(\n",
      "            id_dataset_name='CINIC-10',\n",
      "            id_repetitions=1,\n",
      "            initial_training_set_size=1000,\n",
      "            validation_set_size=1024,\n",
      "            validation_split_random_state=0,\n",
      "            evaluation_set_size=0,\n",
      "            add_dataset_noise=False,\n",
      "            ood_dataset_config=None\n",
      "        ),\n",
      "        acquisition_size=900,\n",
      "        max_training_set=16000,\n",
      "        max_training_epochs=105,\n",
      "        num_pool_samples=1,\n",
      "        num_validation_samples=1,\n",
      "        # class\n",
      "        acquisition_function=batchbald_redux.acquisition_functions.StochasticBALD,\n",
      "        # class\n",
      "        model_trainer_factory=batchbald_redux.resnet_models.Cifar10ModelWorkshopPaperTrainer,\n",
      "        ensemble_size=3,\n",
      "        stochastic_mode=batchbald_redux.batchbald.StochasticMode.Softrank,\n",
      "        resnet18_dropout_head=False\n",
      "    )\n",
      "]\n"
     ]
    }
   ],
   "source": [
    "import prettyprinter\n",
    "\n",
    "prettyprinter.install_extras({\"dataclasses\"})\n",
    "prettyprinter.pprint(configs)"
   ]
  },
  {
   "cell_type": "code",
   "execution_count": null,
   "metadata": {},
   "outputs": [
    {
     "name": "stdout",
     "output_type": "stream",
     "text": [
      "StandardExperimentDataConfig(id_dataset_name='CIFAR-10', id_repetitions=1, initial_training_set_size=1000, validation_set_size=1024, validation_split_random_state=0, evaluation_set_size=0, add_dataset_noise=False, ood_dataset_config=None)\n",
      "Files already downloaded and verified\n"
     ]
    },
    {
     "name": "stderr",
     "output_type": "stream",
     "text": [
      "/home/blackhc/anaconda3/envs/active_learning/lib/python3.8/site-packages/sklearn/utils/__init__.py:1102: DeprecationWarning: `np.int` is a deprecated alias for the builtin `int`. To silence this warning, use `int` by itself. Doing this will not modify any behavior and is safe. When replacing `np.int`, you may wish to use e.g. `np.int64` or `np.int32` to specify the precision. If you wish to review your current use, check the release note link for additional information.\n",
      "Deprecated in NumPy 1.20; for more details and guidance: https://numpy.org/devdocs/release/1.20.0-notes.html#deprecations\n",
      "  return floored.astype(np.int)\n",
      "/home/blackhc/anaconda3/envs/active_learning/lib/python3.8/site-packages/sklearn/utils/__init__.py:1102: DeprecationWarning: `np.int` is a deprecated alias for the builtin `int`. To silence this warning, use `int` by itself. Doing this will not modify any behavior and is safe. When replacing `np.int`, you may wish to use e.g. `np.int64` or `np.int32` to specify the precision. If you wish to review your current use, check the release note link for additional information.\n",
      "Deprecated in NumPy 1.20; for more details and guidance: https://numpy.org/devdocs/release/1.20.0-notes.html#deprecations\n",
      "  return floored.astype(np.int)\n"
     ]
    },
    {
     "name": "stdout",
     "output_type": "stream",
     "text": [
      "Files already downloaded and verified\n",
      "Creating: StochasticBALD(\n",
      "\tacquisition_size=300,\n",
      "\tnum_pool_samples=5,\n",
      "\tcoldness=8,\n",
      "\tstochastic_mode=StochasticMode.Power\n",
      ")\n",
      "Creating: Cifar10ModelWorkshopPaperTrainer(\n",
      "\tdevice=cuda,\n",
      "\tnum_training_samples=1,\n",
      "\tnum_validation_samples=1,\n",
      "\tmax_training_epochs=1,\n",
      "\tresnet18_dropout_head=False\n",
      ")\n",
      "Creating: TrainSelfDistillationEvalModel(\n",
      "\tnum_pool_samples=5\n",
      ")\n",
      "Training set size 1000:\n",
      "NeurIPS Workshop Style\n",
      "Limit schedule/max epochs updated: [40, 60], 60\n"
     ]
    },
    {
     "data": {
      "application/vnd.jupyter.widget-view+json": {
       "model_id": "795c4b4e85af43f5b4edcbd31f4a9704",
       "version_major": 2,
       "version_minor": 0
      },
      "text/plain": [
       "  2%|1         | 1/60 [00:00<?, ?it/s]"
      ]
     },
     "metadata": {},
     "output_type": "display_data"
    },
    {
     "name": "stderr",
     "output_type": "stream",
     "text": [
      "/home/blackhc/anaconda3/envs/active_learning/lib/python3.8/site-packages/kornia/utils/helpers.py:96: UserWarning: torch.solve is deprecated in favor of torch.linalg.solveand will be removed in a future PyTorch release.\n",
      "torch.linalg.solve has its arguments reversed and does not return the LU factorization.\n",
      "To get the LU factorization see torch.lu, which can be used with torch.lu_solve or torch.lu_unpack.\n",
      "X = torch.solve(B, A).solution\n",
      "should be replaced with\n",
      "X = torch.linalg.solve(A, B) (Triggered internally at  /opt/conda/conda-bld/pytorch_1634272068694/work/aten/src/ATen/native/BatchLinearAlgebra.cpp:766.)\n",
      "  out1, out2 = torch.solve(input.to(dtype), A.to(dtype))\n"
     ]
    },
    {
     "name": "stdout",
     "output_type": "stream",
     "text": [
      "Epoch metrics: {'accuracy': 0.140625, 'crossentropy': 2.479145050048828}\n"
     ]
    },
    {
     "data": {
      "application/vnd.jupyter.widget-view+json": {
       "model_id": "",
       "version_major": 2,
       "version_minor": 0
      },
      "text/plain": [
       "[1/8]  12%|#2         [00:00<?]"
      ]
     },
     "metadata": {},
     "output_type": "display_data"
    },
    {
     "name": "stdout",
     "output_type": "stream",
     "text": [
      "Epoch metrics: {'accuracy': 0.2197265625, 'crossentropy': 2.094893455505371}\n"
     ]
    },
    {
     "data": {
      "application/vnd.jupyter.widget-view+json": {
       "model_id": "",
       "version_major": 2,
       "version_minor": 0
      },
      "text/plain": [
       "[1/8]  12%|#2         [00:00<?]"
      ]
     },
     "metadata": {},
     "output_type": "display_data"
    },
    {
     "name": "stdout",
     "output_type": "stream",
     "text": [
      "Epoch metrics: {'accuracy': 0.2490234375, 'crossentropy': 1.9933443069458008}\n"
     ]
    },
    {
     "data": {
      "application/vnd.jupyter.widget-view+json": {
       "model_id": "",
       "version_major": 2,
       "version_minor": 0
      },
      "text/plain": [
       "[1/8]  12%|#2         [00:00<?]"
      ]
     },
     "metadata": {},
     "output_type": "display_data"
    },
    {
     "name": "stdout",
     "output_type": "stream",
     "text": [
      "Epoch metrics: {'accuracy': 0.2890625, 'crossentropy': 2.018357753753662}\n"
     ]
    },
    {
     "data": {
      "application/vnd.jupyter.widget-view+json": {
       "model_id": "",
       "version_major": 2,
       "version_minor": 0
      },
      "text/plain": [
       "[1/8]  12%|#2         [00:00<?]"
      ]
     },
     "metadata": {},
     "output_type": "display_data"
    },
    {
     "name": "stdout",
     "output_type": "stream",
     "text": [
      "Epoch metrics: {'accuracy': 0.302734375, 'crossentropy': 1.876763105392456}\n",
      "Epoch metrics: {'accuracy': 0.29296875, 'crossentropy': 1.9801175594329834}\n",
      "Epoch 6: 0.29296875 worse than 0.302734375, patience: 1/20!\n"
     ]
    },
    {
     "data": {
      "application/vnd.jupyter.widget-view+json": {
       "model_id": "",
       "version_major": 2,
       "version_minor": 0
      },
      "text/plain": [
       "[1/8]  12%|#2         [00:00<?]"
      ]
     },
     "metadata": {},
     "output_type": "display_data"
    },
    {
     "name": "stdout",
     "output_type": "stream",
     "text": [
      "Epoch metrics: {'accuracy': 0.357421875, 'crossentropy': 1.7292580604553223}\n"
     ]
    },
    {
     "data": {
      "application/vnd.jupyter.widget-view+json": {
       "model_id": "",
       "version_major": 2,
       "version_minor": 0
      },
      "text/plain": [
       "[1/8]  12%|#2         [00:00<?]"
      ]
     },
     "metadata": {},
     "output_type": "display_data"
    },
    {
     "name": "stdout",
     "output_type": "stream",
     "text": [
      "Epoch metrics: {'accuracy': 0.3203125, 'crossentropy': 1.8108887672424316}\n",
      "Epoch 8: 0.3203125 worse than 0.357421875, patience: 1/20!\n"
     ]
    },
    {
     "data": {
      "application/vnd.jupyter.widget-view+json": {
       "model_id": "",
       "version_major": 2,
       "version_minor": 0
      },
      "text/plain": [
       "[1/8]  12%|#2         [00:00<?]"
      ]
     },
     "metadata": {},
     "output_type": "display_data"
    },
    {
     "name": "stdout",
     "output_type": "stream",
     "text": [
      "Epoch metrics: {'accuracy': 0.3720703125, 'crossentropy': 1.6613187789916992}\n"
     ]
    },
    {
     "data": {
      "application/vnd.jupyter.widget-view+json": {
       "model_id": "",
       "version_major": 2,
       "version_minor": 0
      },
      "text/plain": [
       "[1/8]  12%|#2         [00:00<?]"
      ]
     },
     "metadata": {},
     "output_type": "display_data"
    },
    {
     "name": "stdout",
     "output_type": "stream",
     "text": [
      "Epoch metrics: {'accuracy': 0.3740234375, 'crossentropy': 1.760793924331665}\n",
      "Epoch metrics: {'accuracy': 0.3623046875, 'crossentropy': 1.9551172256469727}\n",
      "Epoch 11: 0.3623046875 worse than 0.3740234375, patience: 1/20!\n"
     ]
    },
    {
     "data": {
      "application/vnd.jupyter.widget-view+json": {
       "model_id": "",
       "version_major": 2,
       "version_minor": 0
      },
      "text/plain": [
       "[1/8]  12%|#2         [00:00<?]"
      ]
     },
     "metadata": {},
     "output_type": "display_data"
    },
    {
     "name": "stdout",
     "output_type": "stream",
     "text": [
      "Epoch metrics: {'accuracy': 0.3759765625, 'crossentropy': 1.9411952495574951}\n"
     ]
    },
    {
     "data": {
      "application/vnd.jupyter.widget-view+json": {
       "model_id": "",
       "version_major": 2,
       "version_minor": 0
      },
      "text/plain": [
       "[1/8]  12%|#2         [00:00<?]"
      ]
     },
     "metadata": {},
     "output_type": "display_data"
    },
    {
     "name": "stdout",
     "output_type": "stream",
     "text": [
      "Epoch metrics: {'accuracy': 0.3994140625, 'crossentropy': 1.853234052658081}\n"
     ]
    },
    {
     "data": {
      "application/vnd.jupyter.widget-view+json": {
       "model_id": "",
       "version_major": 2,
       "version_minor": 0
      },
      "text/plain": [
       "[1/8]  12%|#2         [00:00<?]"
      ]
     },
     "metadata": {},
     "output_type": "display_data"
    },
    {
     "name": "stdout",
     "output_type": "stream",
     "text": [
      "Epoch metrics: {'accuracy': 0.3408203125, 'crossentropy': 2.3708229064941406}\n",
      "Epoch 14: 0.3408203125 worse than 0.3994140625, patience: 1/20!\n"
     ]
    },
    {
     "data": {
      "application/vnd.jupyter.widget-view+json": {
       "model_id": "",
       "version_major": 2,
       "version_minor": 0
      },
      "text/plain": [
       "[1/8]  12%|#2         [00:00<?]"
      ]
     },
     "metadata": {},
     "output_type": "display_data"
    },
    {
     "name": "stdout",
     "output_type": "stream",
     "text": [
      "Epoch metrics: {'accuracy': 0.3955078125, 'crossentropy': 1.83982253074646}\n",
      "Epoch 15: 0.3955078125 worse than 0.3994140625, patience: 2/20!\n",
      "Epoch metrics: {'accuracy': 0.3876953125, 'crossentropy': 1.762087106704712}\n",
      "Epoch 16: 0.3876953125 worse than 0.3994140625, patience: 3/20!\n"
     ]
    },
    {
     "data": {
      "application/vnd.jupyter.widget-view+json": {
       "model_id": "",
       "version_major": 2,
       "version_minor": 0
      },
      "text/plain": [
       "[1/8]  12%|#2         [00:00<?]"
      ]
     },
     "metadata": {},
     "output_type": "display_data"
    },
    {
     "name": "stdout",
     "output_type": "stream",
     "text": [
      "Epoch metrics: {'accuracy': 0.4052734375, 'crossentropy': 1.7708840370178223}\n"
     ]
    },
    {
     "data": {
      "application/vnd.jupyter.widget-view+json": {
       "model_id": "",
       "version_major": 2,
       "version_minor": 0
      },
      "text/plain": [
       "[1/8]  12%|#2         [00:00<?]"
      ]
     },
     "metadata": {},
     "output_type": "display_data"
    },
    {
     "name": "stdout",
     "output_type": "stream",
     "text": [
      "Epoch metrics: {'accuracy': 0.3486328125, 'crossentropy': 2.088315010070801}\n",
      "Epoch 18: 0.3486328125 worse than 0.4052734375, patience: 1/20!\n"
     ]
    },
    {
     "data": {
      "application/vnd.jupyter.widget-view+json": {
       "model_id": "",
       "version_major": 2,
       "version_minor": 0
      },
      "text/plain": [
       "[1/8]  12%|#2         [00:00<?]"
      ]
     },
     "metadata": {},
     "output_type": "display_data"
    },
    {
     "name": "stdout",
     "output_type": "stream",
     "text": [
      "Epoch metrics: {'accuracy': 0.3955078125, 'crossentropy': 2.1869146823883057}\n",
      "Epoch 19: 0.3955078125 worse than 0.4052734375, patience: 2/20!\n"
     ]
    },
    {
     "data": {
      "application/vnd.jupyter.widget-view+json": {
       "model_id": "",
       "version_major": 2,
       "version_minor": 0
      },
      "text/plain": [
       "[1/8]  12%|#2         [00:00<?]"
      ]
     },
     "metadata": {},
     "output_type": "display_data"
    },
    {
     "name": "stdout",
     "output_type": "stream",
     "text": [
      "Epoch metrics: {'accuracy': 0.3525390625, 'crossentropy': 2.157532215118408}\n",
      "Epoch 20: 0.3525390625 worse than 0.4052734375, patience: 3/20!\n",
      "Epoch metrics: {'accuracy': 0.4013671875, 'crossentropy': 2.183838367462158}\n",
      "Epoch 21: 0.4013671875 worse than 0.4052734375, patience: 4/20!\n"
     ]
    },
    {
     "data": {
      "application/vnd.jupyter.widget-view+json": {
       "model_id": "",
       "version_major": 2,
       "version_minor": 0
      },
      "text/plain": [
       "[1/8]  12%|#2         [00:00<?]"
      ]
     },
     "metadata": {},
     "output_type": "display_data"
    },
    {
     "name": "stdout",
     "output_type": "stream",
     "text": [
      "Epoch metrics: {'accuracy': 0.4296875, 'crossentropy': 1.7439382076263428}\n"
     ]
    },
    {
     "data": {
      "application/vnd.jupyter.widget-view+json": {
       "model_id": "",
       "version_major": 2,
       "version_minor": 0
      },
      "text/plain": [
       "[1/8]  12%|#2         [00:00<?]"
      ]
     },
     "metadata": {},
     "output_type": "display_data"
    },
    {
     "name": "stdout",
     "output_type": "stream",
     "text": [
      "Epoch metrics: {'accuracy': 0.4052734375, 'crossentropy': 1.9809460639953613}\n",
      "Epoch 23: 0.4052734375 worse than 0.4296875, patience: 1/20!\n"
     ]
    },
    {
     "data": {
      "application/vnd.jupyter.widget-view+json": {
       "model_id": "",
       "version_major": 2,
       "version_minor": 0
      },
      "text/plain": [
       "[1/8]  12%|#2         [00:00<?]"
      ]
     },
     "metadata": {},
     "output_type": "display_data"
    },
    {
     "name": "stdout",
     "output_type": "stream",
     "text": [
      "Epoch metrics: {'accuracy': 0.392578125, 'crossentropy': 2.0482165813446045}\n",
      "Epoch 24: 0.392578125 worse than 0.4296875, patience: 2/20!\n"
     ]
    },
    {
     "data": {
      "application/vnd.jupyter.widget-view+json": {
       "model_id": "",
       "version_major": 2,
       "version_minor": 0
      },
      "text/plain": [
       "[1/8]  12%|#2         [00:00<?]"
      ]
     },
     "metadata": {},
     "output_type": "display_data"
    },
    {
     "name": "stdout",
     "output_type": "stream",
     "text": [
      "Epoch metrics: {'accuracy': 0.4365234375, 'crossentropy': 2.0709428787231445}\n",
      "Epoch metrics: {'accuracy': 0.4111328125, 'crossentropy': 1.9726386070251465}\n",
      "Epoch 26: 0.4111328125 worse than 0.4365234375, patience: 1/20!\n"
     ]
    },
    {
     "data": {
      "application/vnd.jupyter.widget-view+json": {
       "model_id": "",
       "version_major": 2,
       "version_minor": 0
      },
      "text/plain": [
       "[1/8]  12%|#2         [00:00<?]"
      ]
     },
     "metadata": {},
     "output_type": "display_data"
    },
    {
     "name": "stdout",
     "output_type": "stream",
     "text": [
      "Epoch metrics: {'accuracy': 0.3857421875, 'crossentropy': 2.676699161529541}\n",
      "Epoch 27: 0.3857421875 worse than 0.4365234375, patience: 2/20!\n"
     ]
    },
    {
     "data": {
      "application/vnd.jupyter.widget-view+json": {
       "model_id": "",
       "version_major": 2,
       "version_minor": 0
      },
      "text/plain": [
       "[1/8]  12%|#2         [00:00<?]"
      ]
     },
     "metadata": {},
     "output_type": "display_data"
    },
    {
     "name": "stdout",
     "output_type": "stream",
     "text": [
      "Epoch metrics: {'accuracy': 0.4228515625, 'crossentropy': 2.169896364212036}\n",
      "Epoch 28: 0.4228515625 worse than 0.4365234375, patience: 3/20!\n"
     ]
    },
    {
     "data": {
      "application/vnd.jupyter.widget-view+json": {
       "model_id": "",
       "version_major": 2,
       "version_minor": 0
      },
      "text/plain": [
       "[1/8]  12%|#2         [00:00<?]"
      ]
     },
     "metadata": {},
     "output_type": "display_data"
    },
    {
     "name": "stdout",
     "output_type": "stream",
     "text": [
      "Epoch metrics: {'accuracy': 0.345703125, 'crossentropy': 3.3966362476348877}\n",
      "Epoch 29: 0.345703125 worse than 0.4365234375, patience: 4/20!\n"
     ]
    },
    {
     "data": {
      "application/vnd.jupyter.widget-view+json": {
       "model_id": "",
       "version_major": 2,
       "version_minor": 0
      },
      "text/plain": [
       "[1/8]  12%|#2         [00:00<?]"
      ]
     },
     "metadata": {},
     "output_type": "display_data"
    },
    {
     "name": "stdout",
     "output_type": "stream",
     "text": [
      "Epoch metrics: {'accuracy': 0.408203125, 'crossentropy': 2.0707855224609375}\n",
      "Epoch 30: 0.408203125 worse than 0.4365234375, patience: 5/20!\n",
      "Epoch metrics: {'accuracy': 0.4169921875, 'crossentropy': 1.9521968364715576}\n",
      "Epoch 31: 0.4169921875 worse than 0.4365234375, patience: 6/20!\n"
     ]
    },
    {
     "data": {
      "application/vnd.jupyter.widget-view+json": {
       "model_id": "",
       "version_major": 2,
       "version_minor": 0
      },
      "text/plain": [
       "[1/8]  12%|#2         [00:00<?]"
      ]
     },
     "metadata": {},
     "output_type": "display_data"
    },
    {
     "name": "stdout",
     "output_type": "stream",
     "text": [
      "Epoch metrics: {'accuracy': 0.435546875, 'crossentropy': 2.0135507583618164}\n",
      "Epoch 32: 0.435546875 worse than 0.4365234375, patience: 7/20!\n"
     ]
    },
    {
     "data": {
      "application/vnd.jupyter.widget-view+json": {
       "model_id": "",
       "version_major": 2,
       "version_minor": 0
      },
      "text/plain": [
       "[1/8]  12%|#2         [00:00<?]"
      ]
     },
     "metadata": {},
     "output_type": "display_data"
    },
    {
     "name": "stdout",
     "output_type": "stream",
     "text": [
      "Epoch metrics: {'accuracy': 0.4501953125, 'crossentropy': 1.9546098709106445}\n"
     ]
    },
    {
     "data": {
      "application/vnd.jupyter.widget-view+json": {
       "model_id": "",
       "version_major": 2,
       "version_minor": 0
      },
      "text/plain": [
       "[1/8]  12%|#2         [00:00<?]"
      ]
     },
     "metadata": {},
     "output_type": "display_data"
    },
    {
     "name": "stdout",
     "output_type": "stream",
     "text": [
      "Epoch metrics: {'accuracy': 0.4365234375, 'crossentropy': 2.110567569732666}\n",
      "Epoch 34: 0.4365234375 worse than 0.4501953125, patience: 1/20!\n"
     ]
    },
    {
     "data": {
      "application/vnd.jupyter.widget-view+json": {
       "model_id": "",
       "version_major": 2,
       "version_minor": 0
      },
      "text/plain": [
       "[1/8]  12%|#2         [00:00<?]"
      ]
     },
     "metadata": {},
     "output_type": "display_data"
    },
    {
     "name": "stdout",
     "output_type": "stream",
     "text": [
      "Epoch metrics: {'accuracy': 0.4013671875, 'crossentropy': 2.5297391414642334}\n",
      "Epoch 35: 0.4013671875 worse than 0.4501953125, patience: 2/20!\n",
      "Epoch metrics: {'accuracy': 0.443359375, 'crossentropy': 2.1002416610717773}\n",
      "Epoch 36: 0.443359375 worse than 0.4501953125, patience: 3/20!\n"
     ]
    },
    {
     "data": {
      "application/vnd.jupyter.widget-view+json": {
       "model_id": "",
       "version_major": 2,
       "version_minor": 0
      },
      "text/plain": [
       "[1/8]  12%|#2         [00:00<?]"
      ]
     },
     "metadata": {},
     "output_type": "display_data"
    },
    {
     "name": "stdout",
     "output_type": "stream",
     "text": [
      "Epoch metrics: {'accuracy': 0.396484375, 'crossentropy': 2.340847969055176}\n",
      "Epoch 37: 0.396484375 worse than 0.4501953125, patience: 4/20!\n"
     ]
    },
    {
     "data": {
      "application/vnd.jupyter.widget-view+json": {
       "model_id": "",
       "version_major": 2,
       "version_minor": 0
      },
      "text/plain": [
       "[1/8]  12%|#2         [00:00<?]"
      ]
     },
     "metadata": {},
     "output_type": "display_data"
    },
    {
     "name": "stdout",
     "output_type": "stream",
     "text": [
      "Epoch metrics: {'accuracy': 0.44140625, 'crossentropy': 2.1643896102905273}\n",
      "Epoch 38: 0.44140625 worse than 0.4501953125, patience: 5/20!\n"
     ]
    },
    {
     "data": {
      "application/vnd.jupyter.widget-view+json": {
       "model_id": "",
       "version_major": 2,
       "version_minor": 0
      },
      "text/plain": [
       "[1/8]  12%|#2         [00:00<?]"
      ]
     },
     "metadata": {},
     "output_type": "display_data"
    },
    {
     "name": "stdout",
     "output_type": "stream",
     "text": [
      "Epoch metrics: {'accuracy': 0.41796875, 'crossentropy': 2.752408504486084}\n",
      "Epoch 39: 0.41796875 worse than 0.4501953125, patience: 6/20!\n"
     ]
    },
    {
     "data": {
      "application/vnd.jupyter.widget-view+json": {
       "model_id": "",
       "version_major": 2,
       "version_minor": 0
      },
      "text/plain": [
       "[1/8]  12%|#2         [00:00<?]"
      ]
     },
     "metadata": {},
     "output_type": "display_data"
    },
    {
     "name": "stdout",
     "output_type": "stream",
     "text": [
      "Epoch metrics: {'accuracy': 0.39453125, 'crossentropy': 2.8070602416992188}\n",
      "Epoch 40: 0.39453125 worse than 0.4501953125, patience: 7/20!\n",
      "Restoring best snapshot: best_score: 0.4501953125 @ epoch 33\n",
      "Epoch    40: reducing learning rate of group 0 to 1.0000e-03.\n",
      "Epoch metrics: {'accuracy': 0.458984375, 'crossentropy': 1.9254062175750732}\n"
     ]
    },
    {
     "data": {
      "application/vnd.jupyter.widget-view+json": {
       "model_id": "",
       "version_major": 2,
       "version_minor": 0
      },
      "text/plain": [
       "[1/8]  12%|#2         [00:00<?]"
      ]
     },
     "metadata": {},
     "output_type": "display_data"
    },
    {
     "name": "stdout",
     "output_type": "stream",
     "text": [
      "Epoch metrics: {'accuracy': 0.46875, 'crossentropy': 1.8773713111877441}\n"
     ]
    },
    {
     "data": {
      "application/vnd.jupyter.widget-view+json": {
       "model_id": "",
       "version_major": 2,
       "version_minor": 0
      },
      "text/plain": [
       "[1/8]  12%|#2         [00:00<?]"
      ]
     },
     "metadata": {},
     "output_type": "display_data"
    },
    {
     "name": "stdout",
     "output_type": "stream",
     "text": [
      "Epoch metrics: {'accuracy': 0.45703125, 'crossentropy': 1.8228464126586914}\n",
      "Epoch 43: 0.45703125 worse than 0.46875, patience: 1/10!\n"
     ]
    },
    {
     "data": {
      "application/vnd.jupyter.widget-view+json": {
       "model_id": "",
       "version_major": 2,
       "version_minor": 0
      },
      "text/plain": [
       "[1/8]  12%|#2         [00:00<?]"
      ]
     },
     "metadata": {},
     "output_type": "display_data"
    },
    {
     "name": "stdout",
     "output_type": "stream",
     "text": [
      "Epoch metrics: {'accuracy': 0.4482421875, 'crossentropy': 1.8531348705291748}\n",
      "Epoch 44: 0.4482421875 worse than 0.46875, patience: 2/10!\n"
     ]
    },
    {
     "data": {
      "application/vnd.jupyter.widget-view+json": {
       "model_id": "",
       "version_major": 2,
       "version_minor": 0
      },
      "text/plain": [
       "[1/8]  12%|#2         [00:00<?]"
      ]
     },
     "metadata": {},
     "output_type": "display_data"
    },
    {
     "name": "stdout",
     "output_type": "stream",
     "text": [
      "Epoch metrics: {'accuracy': 0.455078125, 'crossentropy': 1.8777580261230469}\n",
      "Epoch 45: 0.455078125 worse than 0.46875, patience: 3/10!\n",
      "Epoch metrics: {'accuracy': 0.46484375, 'crossentropy': 1.850936770439148}\n",
      "Epoch 46: 0.46484375 worse than 0.46875, patience: 4/10!\n"
     ]
    },
    {
     "data": {
      "application/vnd.jupyter.widget-view+json": {
       "model_id": "",
       "version_major": 2,
       "version_minor": 0
      },
      "text/plain": [
       "[1/8]  12%|#2         [00:00<?]"
      ]
     },
     "metadata": {},
     "output_type": "display_data"
    },
    {
     "name": "stdout",
     "output_type": "stream",
     "text": [
      "Epoch metrics: {'accuracy': 0.4716796875, 'crossentropy': 1.8424134254455566}\n"
     ]
    },
    {
     "data": {
      "application/vnd.jupyter.widget-view+json": {
       "model_id": "",
       "version_major": 2,
       "version_minor": 0
      },
      "text/plain": [
       "[1/8]  12%|#2         [00:00<?]"
      ]
     },
     "metadata": {},
     "output_type": "display_data"
    },
    {
     "name": "stdout",
     "output_type": "stream",
     "text": [
      "Epoch metrics: {'accuracy': 0.4638671875, 'crossentropy': 1.8579645156860352}\n",
      "Epoch 48: 0.4638671875 worse than 0.4716796875, patience: 1/10!\n"
     ]
    },
    {
     "data": {
      "application/vnd.jupyter.widget-view+json": {
       "model_id": "",
       "version_major": 2,
       "version_minor": 0
      },
      "text/plain": [
       "[1/8]  12%|#2         [00:00<?]"
      ]
     },
     "metadata": {},
     "output_type": "display_data"
    },
    {
     "name": "stdout",
     "output_type": "stream",
     "text": [
      "Epoch metrics: {'accuracy': 0.4658203125, 'crossentropy': 1.8713059425354004}\n",
      "Epoch 49: 0.4658203125 worse than 0.4716796875, patience: 2/10!\n"
     ]
    },
    {
     "data": {
      "application/vnd.jupyter.widget-view+json": {
       "model_id": "",
       "version_major": 2,
       "version_minor": 0
      },
      "text/plain": [
       "[1/8]  12%|#2         [00:00<?]"
      ]
     },
     "metadata": {},
     "output_type": "display_data"
    },
    {
     "name": "stdout",
     "output_type": "stream",
     "text": [
      "Epoch metrics: {'accuracy': 0.4619140625, 'crossentropy': 1.8749456405639648}\n",
      "Epoch 50: 0.4619140625 worse than 0.4716796875, patience: 3/10!\n",
      "Epoch metrics: {'accuracy': 0.4658203125, 'crossentropy': 1.8763854503631592}\n",
      "Epoch 51: 0.4658203125 worse than 0.4716796875, patience: 4/10!\n"
     ]
    },
    {
     "data": {
      "application/vnd.jupyter.widget-view+json": {
       "model_id": "",
       "version_major": 2,
       "version_minor": 0
      },
      "text/plain": [
       "[1/8]  12%|#2         [00:00<?]"
      ]
     },
     "metadata": {},
     "output_type": "display_data"
    },
    {
     "name": "stdout",
     "output_type": "stream",
     "text": [
      "Epoch metrics: {'accuracy': 0.474609375, 'crossentropy': 1.8990215063095093}\n"
     ]
    },
    {
     "data": {
      "application/vnd.jupyter.widget-view+json": {
       "model_id": "",
       "version_major": 2,
       "version_minor": 0
      },
      "text/plain": [
       "[1/8]  12%|#2         [00:00<?]"
      ]
     },
     "metadata": {},
     "output_type": "display_data"
    },
    {
     "name": "stdout",
     "output_type": "stream",
     "text": [
      "Epoch metrics: {'accuracy': 0.4697265625, 'crossentropy': 1.913280963897705}\n",
      "Epoch 53: 0.4697265625 worse than 0.474609375, patience: 1/10!\n"
     ]
    },
    {
     "data": {
      "application/vnd.jupyter.widget-view+json": {
       "model_id": "",
       "version_major": 2,
       "version_minor": 0
      },
      "text/plain": [
       "[1/8]  12%|#2         [00:00<?]"
      ]
     },
     "metadata": {},
     "output_type": "display_data"
    },
    {
     "name": "stdout",
     "output_type": "stream",
     "text": [
      "Epoch metrics: {'accuracy': 0.4697265625, 'crossentropy': 1.9096366167068481}\n",
      "Epoch 54: 0.4697265625 worse than 0.474609375, patience: 2/10!\n"
     ]
    },
    {
     "data": {
      "application/vnd.jupyter.widget-view+json": {
       "model_id": "",
       "version_major": 2,
       "version_minor": 0
      },
      "text/plain": [
       "[1/8]  12%|#2         [00:00<?]"
      ]
     },
     "metadata": {},
     "output_type": "display_data"
    },
    {
     "name": "stdout",
     "output_type": "stream",
     "text": [
      "Epoch metrics: {'accuracy': 0.45703125, 'crossentropy': 1.9259169101715088}\n",
      "Epoch 55: 0.45703125 worse than 0.474609375, patience: 3/10!\n",
      "Epoch metrics: {'accuracy': 0.4638671875, 'crossentropy': 1.9375927448272705}\n",
      "Epoch 56: 0.4638671875 worse than 0.474609375, patience: 4/10!\n"
     ]
    },
    {
     "data": {
      "application/vnd.jupyter.widget-view+json": {
       "model_id": "",
       "version_major": 2,
       "version_minor": 0
      },
      "text/plain": [
       "[1/8]  12%|#2         [00:00<?]"
      ]
     },
     "metadata": {},
     "output_type": "display_data"
    },
    {
     "name": "stdout",
     "output_type": "stream",
     "text": [
      "Epoch metrics: {'accuracy': 0.4599609375, 'crossentropy': 1.916820764541626}\n",
      "Epoch 57: 0.4599609375 worse than 0.474609375, patience: 5/10!\n"
     ]
    },
    {
     "data": {
      "application/vnd.jupyter.widget-view+json": {
       "model_id": "",
       "version_major": 2,
       "version_minor": 0
      },
      "text/plain": [
       "[1/8]  12%|#2         [00:00<?]"
      ]
     },
     "metadata": {},
     "output_type": "display_data"
    },
    {
     "name": "stdout",
     "output_type": "stream",
     "text": [
      "Epoch metrics: {'accuracy': 0.4755859375, 'crossentropy': 1.9235997200012207}\n"
     ]
    },
    {
     "data": {
      "application/vnd.jupyter.widget-view+json": {
       "model_id": "",
       "version_major": 2,
       "version_minor": 0
      },
      "text/plain": [
       "[1/8]  12%|#2         [00:00<?]"
      ]
     },
     "metadata": {},
     "output_type": "display_data"
    },
    {
     "name": "stdout",
     "output_type": "stream",
     "text": [
      "Epoch metrics: {'accuracy': 0.470703125, 'crossentropy': 1.944220781326294}\n",
      "Epoch 59: 0.470703125 worse than 0.4755859375, patience: 1/10!\n"
     ]
    },
    {
     "data": {
      "application/vnd.jupyter.widget-view+json": {
       "model_id": "",
       "version_major": 2,
       "version_minor": 0
      },
      "text/plain": [
       "[1/8]  12%|#2         [00:00<?]"
      ]
     },
     "metadata": {},
     "output_type": "display_data"
    },
    {
     "name": "stdout",
     "output_type": "stream",
     "text": [
      "Epoch metrics: {'accuracy': 0.4619140625, 'crossentropy': 1.955542802810669}\n",
      "Epoch 60: 0.4619140625 worse than 0.4755859375, patience: 2/10!\n",
      "Restoring best snapshot: best_score: 0.4755859375 @ epoch 58\n",
      "NeurIPS Workshop Style\n",
      "Limit schedule/max epochs updated: [40, 60], 60\n"
     ]
    },
    {
     "data": {
      "application/vnd.jupyter.widget-view+json": {
       "model_id": "bb1ede772f7348f382eaffc6450479dd",
       "version_major": 2,
       "version_minor": 0
      },
      "text/plain": [
       "  2%|1         | 1/60 [00:00<?, ?it/s]"
      ]
     },
     "metadata": {},
     "output_type": "display_data"
    },
    {
     "name": "stdout",
     "output_type": "stream",
     "text": [
      "Epoch metrics: {'accuracy': 0.119140625, 'crossentropy': 2.3012704849243164}\n"
     ]
    },
    {
     "data": {
      "application/vnd.jupyter.widget-view+json": {
       "model_id": "",
       "version_major": 2,
       "version_minor": 0
      },
      "text/plain": [
       "[1/8]  12%|#2         [00:00<?]"
      ]
     },
     "metadata": {},
     "output_type": "display_data"
    },
    {
     "name": "stdout",
     "output_type": "stream",
     "text": [
      "Epoch metrics: {'accuracy': 0.1884765625, 'crossentropy': 2.1952896118164062}\n"
     ]
    },
    {
     "data": {
      "application/vnd.jupyter.widget-view+json": {
       "model_id": "",
       "version_major": 2,
       "version_minor": 0
      },
      "text/plain": [
       "[1/8]  12%|#2         [00:00<?]"
      ]
     },
     "metadata": {},
     "output_type": "display_data"
    },
    {
     "name": "stdout",
     "output_type": "stream",
     "text": [
      "Epoch metrics: {'accuracy': 0.2451171875, 'crossentropy': 1.9945433139801025}\n"
     ]
    },
    {
     "data": {
      "application/vnd.jupyter.widget-view+json": {
       "model_id": "",
       "version_major": 2,
       "version_minor": 0
      },
      "text/plain": [
       "[1/8]  12%|#2         [00:00<?]"
      ]
     },
     "metadata": {},
     "output_type": "display_data"
    },
    {
     "name": "stdout",
     "output_type": "stream",
     "text": [
      "Epoch metrics: {'accuracy': 0.26171875, 'crossentropy': 1.9712258577346802}\n"
     ]
    },
    {
     "data": {
      "application/vnd.jupyter.widget-view+json": {
       "model_id": "",
       "version_major": 2,
       "version_minor": 0
      },
      "text/plain": [
       "[1/8]  12%|#2         [00:00<?]"
      ]
     },
     "metadata": {},
     "output_type": "display_data"
    },
    {
     "name": "stdout",
     "output_type": "stream",
     "text": [
      "Epoch metrics: {'accuracy': 0.294921875, 'crossentropy': 1.8958768844604492}\n",
      "Epoch metrics: {'accuracy': 0.3251953125, 'crossentropy': 2.1190855503082275}\n"
     ]
    },
    {
     "data": {
      "application/vnd.jupyter.widget-view+json": {
       "model_id": "",
       "version_major": 2,
       "version_minor": 0
      },
      "text/plain": [
       "[1/8]  12%|#2         [00:00<?]"
      ]
     },
     "metadata": {},
     "output_type": "display_data"
    },
    {
     "name": "stdout",
     "output_type": "stream",
     "text": [
      "Epoch metrics: {'accuracy': 0.3427734375, 'crossentropy': 1.7373878955841064}\n"
     ]
    },
    {
     "data": {
      "application/vnd.jupyter.widget-view+json": {
       "model_id": "",
       "version_major": 2,
       "version_minor": 0
      },
      "text/plain": [
       "[1/8]  12%|#2         [00:00<?]"
      ]
     },
     "metadata": {},
     "output_type": "display_data"
    },
    {
     "name": "stdout",
     "output_type": "stream",
     "text": [
      "Epoch metrics: {'accuracy': 0.3359375, 'crossentropy': 1.7753663063049316}\n",
      "Epoch 8: 0.3359375 worse than 0.3427734375, patience: 1/20!\n"
     ]
    },
    {
     "data": {
      "application/vnd.jupyter.widget-view+json": {
       "model_id": "",
       "version_major": 2,
       "version_minor": 0
      },
      "text/plain": [
       "[1/8]  12%|#2         [00:00<?]"
      ]
     },
     "metadata": {},
     "output_type": "display_data"
    },
    {
     "name": "stdout",
     "output_type": "stream",
     "text": [
      "Epoch metrics: {'accuracy': 0.34765625, 'crossentropy': 1.8103389739990234}\n"
     ]
    },
    {
     "data": {
      "application/vnd.jupyter.widget-view+json": {
       "model_id": "",
       "version_major": 2,
       "version_minor": 0
      },
      "text/plain": [
       "[1/8]  12%|#2         [00:00<?]"
      ]
     },
     "metadata": {},
     "output_type": "display_data"
    },
    {
     "name": "stdout",
     "output_type": "stream",
     "text": [
      "Epoch metrics: {'accuracy': 0.3232421875, 'crossentropy': 2.2755565643310547}\n",
      "Epoch 10: 0.3232421875 worse than 0.34765625, patience: 1/20!\n",
      "Epoch metrics: {'accuracy': 0.3916015625, 'crossentropy': 1.7913551330566406}\n"
     ]
    },
    {
     "data": {
      "application/vnd.jupyter.widget-view+json": {
       "model_id": "",
       "version_major": 2,
       "version_minor": 0
      },
      "text/plain": [
       "[1/8]  12%|#2         [00:00<?]"
      ]
     },
     "metadata": {},
     "output_type": "display_data"
    },
    {
     "name": "stdout",
     "output_type": "stream",
     "text": [
      "Epoch metrics: {'accuracy': 0.3486328125, 'crossentropy': 2.1044392585754395}\n",
      "Epoch 12: 0.3486328125 worse than 0.3916015625, patience: 1/20!\n"
     ]
    },
    {
     "data": {
      "application/vnd.jupyter.widget-view+json": {
       "model_id": "",
       "version_major": 2,
       "version_minor": 0
      },
      "text/plain": [
       "[1/8]  12%|#2         [00:00<?]"
      ]
     },
     "metadata": {},
     "output_type": "display_data"
    },
    {
     "name": "stdout",
     "output_type": "stream",
     "text": [
      "Epoch metrics: {'accuracy': 0.3544921875, 'crossentropy': 2.0263044834136963}\n",
      "Epoch 13: 0.3544921875 worse than 0.3916015625, patience: 2/20!\n"
     ]
    },
    {
     "data": {
      "application/vnd.jupyter.widget-view+json": {
       "model_id": "",
       "version_major": 2,
       "version_minor": 0
      },
      "text/plain": [
       "[1/8]  12%|#2         [00:00<?]"
      ]
     },
     "metadata": {},
     "output_type": "display_data"
    },
    {
     "name": "stdout",
     "output_type": "stream",
     "text": [
      "Epoch metrics: {'accuracy': 0.353515625, 'crossentropy': 2.3461270332336426}\n",
      "Epoch 14: 0.353515625 worse than 0.3916015625, patience: 3/20!\n"
     ]
    },
    {
     "data": {
      "application/vnd.jupyter.widget-view+json": {
       "model_id": "",
       "version_major": 2,
       "version_minor": 0
      },
      "text/plain": [
       "[1/8]  12%|#2         [00:00<?]"
      ]
     },
     "metadata": {},
     "output_type": "display_data"
    },
    {
     "name": "stdout",
     "output_type": "stream",
     "text": [
      "Epoch metrics: {'accuracy': 0.3642578125, 'crossentropy': 1.7959611415863037}\n",
      "Epoch 15: 0.3642578125 worse than 0.3916015625, patience: 4/20!\n",
      "Epoch metrics: {'accuracy': 0.3544921875, 'crossentropy': 2.0480546951293945}\n",
      "Epoch 16: 0.3544921875 worse than 0.3916015625, patience: 5/20!\n"
     ]
    },
    {
     "data": {
      "application/vnd.jupyter.widget-view+json": {
       "model_id": "",
       "version_major": 2,
       "version_minor": 0
      },
      "text/plain": [
       "[1/8]  12%|#2         [00:00<?]"
      ]
     },
     "metadata": {},
     "output_type": "display_data"
    },
    {
     "name": "stdout",
     "output_type": "stream",
     "text": [
      "Epoch metrics: {'accuracy': 0.3623046875, 'crossentropy': 2.125328540802002}\n",
      "Epoch 17: 0.3623046875 worse than 0.3916015625, patience: 6/20!\n"
     ]
    },
    {
     "data": {
      "application/vnd.jupyter.widget-view+json": {
       "model_id": "",
       "version_major": 2,
       "version_minor": 0
      },
      "text/plain": [
       "[1/8]  12%|#2         [00:00<?]"
      ]
     },
     "metadata": {},
     "output_type": "display_data"
    },
    {
     "name": "stdout",
     "output_type": "stream",
     "text": [
      "Epoch metrics: {'accuracy': 0.42578125, 'crossentropy': 1.761115312576294}\n"
     ]
    },
    {
     "data": {
      "application/vnd.jupyter.widget-view+json": {
       "model_id": "",
       "version_major": 2,
       "version_minor": 0
      },
      "text/plain": [
       "[1/8]  12%|#2         [00:00<?]"
      ]
     },
     "metadata": {},
     "output_type": "display_data"
    },
    {
     "name": "stdout",
     "output_type": "stream",
     "text": [
      "Epoch metrics: {'accuracy': 0.400390625, 'crossentropy': 1.8836984634399414}\n",
      "Epoch 19: 0.400390625 worse than 0.42578125, patience: 1/20!\n"
     ]
    },
    {
     "data": {
      "application/vnd.jupyter.widget-view+json": {
       "model_id": "",
       "version_major": 2,
       "version_minor": 0
      },
      "text/plain": [
       "[1/8]  12%|#2         [00:00<?]"
      ]
     },
     "metadata": {},
     "output_type": "display_data"
    },
    {
     "name": "stdout",
     "output_type": "stream",
     "text": [
      "Epoch metrics: {'accuracy': 0.4052734375, 'crossentropy': 1.9414761066436768}\n",
      "Epoch 20: 0.4052734375 worse than 0.42578125, patience: 2/20!\n",
      "Epoch metrics: {'accuracy': 0.400390625, 'crossentropy': 1.9600749015808105}\n",
      "Epoch 21: 0.400390625 worse than 0.42578125, patience: 3/20!\n"
     ]
    },
    {
     "data": {
      "application/vnd.jupyter.widget-view+json": {
       "model_id": "",
       "version_major": 2,
       "version_minor": 0
      },
      "text/plain": [
       "[1/8]  12%|#2         [00:00<?]"
      ]
     },
     "metadata": {},
     "output_type": "display_data"
    },
    {
     "name": "stdout",
     "output_type": "stream",
     "text": [
      "Epoch metrics: {'accuracy': 0.4140625, 'crossentropy': 1.9491150379180908}\n",
      "Epoch 22: 0.4140625 worse than 0.42578125, patience: 4/20!\n"
     ]
    },
    {
     "data": {
      "application/vnd.jupyter.widget-view+json": {
       "model_id": "",
       "version_major": 2,
       "version_minor": 0
      },
      "text/plain": [
       "[1/8]  12%|#2         [00:00<?]"
      ]
     },
     "metadata": {},
     "output_type": "display_data"
    },
    {
     "name": "stdout",
     "output_type": "stream",
     "text": [
      "Epoch metrics: {'accuracy': 0.4365234375, 'crossentropy': 1.8223776817321777}\n"
     ]
    },
    {
     "data": {
      "application/vnd.jupyter.widget-view+json": {
       "model_id": "",
       "version_major": 2,
       "version_minor": 0
      },
      "text/plain": [
       "[1/8]  12%|#2         [00:00<?]"
      ]
     },
     "metadata": {},
     "output_type": "display_data"
    },
    {
     "name": "stdout",
     "output_type": "stream",
     "text": [
      "Epoch metrics: {'accuracy': 0.4208984375, 'crossentropy': 1.879697561264038}\n",
      "Epoch 24: 0.4208984375 worse than 0.4365234375, patience: 1/20!\n"
     ]
    },
    {
     "data": {
      "application/vnd.jupyter.widget-view+json": {
       "model_id": "",
       "version_major": 2,
       "version_minor": 0
      },
      "text/plain": [
       "[1/8]  12%|#2         [00:00<?]"
      ]
     },
     "metadata": {},
     "output_type": "display_data"
    },
    {
     "name": "stdout",
     "output_type": "stream",
     "text": [
      "Epoch metrics: {'accuracy': 0.423828125, 'crossentropy': 2.2593374252319336}\n",
      "Epoch 25: 0.423828125 worse than 0.4365234375, patience: 2/20!\n",
      "Epoch metrics: {'accuracy': 0.3984375, 'crossentropy': 1.9743627309799194}\n",
      "Epoch 26: 0.3984375 worse than 0.4365234375, patience: 3/20!\n"
     ]
    },
    {
     "data": {
      "application/vnd.jupyter.widget-view+json": {
       "model_id": "",
       "version_major": 2,
       "version_minor": 0
      },
      "text/plain": [
       "[1/8]  12%|#2         [00:00<?]"
      ]
     },
     "metadata": {},
     "output_type": "display_data"
    },
    {
     "name": "stdout",
     "output_type": "stream",
     "text": [
      "Epoch metrics: {'accuracy': 0.4599609375, 'crossentropy': 2.0620932579040527}\n"
     ]
    },
    {
     "data": {
      "application/vnd.jupyter.widget-view+json": {
       "model_id": "",
       "version_major": 2,
       "version_minor": 0
      },
      "text/plain": [
       "[1/8]  12%|#2         [00:00<?]"
      ]
     },
     "metadata": {},
     "output_type": "display_data"
    },
    {
     "name": "stdout",
     "output_type": "stream",
     "text": [
      "Epoch metrics: {'accuracy': 0.4296875, 'crossentropy': 2.2803220748901367}\n",
      "Epoch 28: 0.4296875 worse than 0.4599609375, patience: 1/20!\n"
     ]
    },
    {
     "data": {
      "application/vnd.jupyter.widget-view+json": {
       "model_id": "",
       "version_major": 2,
       "version_minor": 0
      },
      "text/plain": [
       "[1/8]  12%|#2         [00:00<?]"
      ]
     },
     "metadata": {},
     "output_type": "display_data"
    },
    {
     "name": "stdout",
     "output_type": "stream",
     "text": [
      "Epoch metrics: {'accuracy': 0.4169921875, 'crossentropy': 2.111743927001953}\n",
      "Epoch 29: 0.4169921875 worse than 0.4599609375, patience: 2/20!\n"
     ]
    },
    {
     "data": {
      "application/vnd.jupyter.widget-view+json": {
       "model_id": "",
       "version_major": 2,
       "version_minor": 0
      },
      "text/plain": [
       "[1/8]  12%|#2         [00:00<?]"
      ]
     },
     "metadata": {},
     "output_type": "display_data"
    },
    {
     "name": "stdout",
     "output_type": "stream",
     "text": [
      "Epoch metrics: {'accuracy': 0.4072265625, 'crossentropy': 2.181873321533203}\n",
      "Epoch 30: 0.4072265625 worse than 0.4599609375, patience: 3/20!\n",
      "Epoch metrics: {'accuracy': 0.42578125, 'crossentropy': 2.3784289360046387}\n",
      "Epoch 31: 0.42578125 worse than 0.4599609375, patience: 4/20!\n"
     ]
    },
    {
     "data": {
      "application/vnd.jupyter.widget-view+json": {
       "model_id": "",
       "version_major": 2,
       "version_minor": 0
      },
      "text/plain": [
       "[1/8]  12%|#2         [00:00<?]"
      ]
     },
     "metadata": {},
     "output_type": "display_data"
    },
    {
     "name": "stdout",
     "output_type": "stream",
     "text": [
      "Epoch metrics: {'accuracy': 0.4091796875, 'crossentropy': 2.1481378078460693}\n",
      "Epoch 32: 0.4091796875 worse than 0.4599609375, patience: 5/20!\n"
     ]
    },
    {
     "data": {
      "application/vnd.jupyter.widget-view+json": {
       "model_id": "",
       "version_major": 2,
       "version_minor": 0
      },
      "text/plain": [
       "[1/8]  12%|#2         [00:00<?]"
      ]
     },
     "metadata": {},
     "output_type": "display_data"
    },
    {
     "name": "stdout",
     "output_type": "stream",
     "text": [
      "Epoch metrics: {'accuracy': 0.43359375, 'crossentropy': 2.052018165588379}\n",
      "Epoch 33: 0.43359375 worse than 0.4599609375, patience: 6/20!\n"
     ]
    },
    {
     "data": {
      "application/vnd.jupyter.widget-view+json": {
       "model_id": "",
       "version_major": 2,
       "version_minor": 0
      },
      "text/plain": [
       "[1/8]  12%|#2         [00:00<?]"
      ]
     },
     "metadata": {},
     "output_type": "display_data"
    },
    {
     "name": "stdout",
     "output_type": "stream",
     "text": [
      "Epoch metrics: {'accuracy': 0.439453125, 'crossentropy': 2.166149854660034}\n",
      "Epoch 34: 0.439453125 worse than 0.4599609375, patience: 7/20!\n"
     ]
    },
    {
     "data": {
      "application/vnd.jupyter.widget-view+json": {
       "model_id": "",
       "version_major": 2,
       "version_minor": 0
      },
      "text/plain": [
       "[1/8]  12%|#2         [00:00<?]"
      ]
     },
     "metadata": {},
     "output_type": "display_data"
    },
    {
     "name": "stdout",
     "output_type": "stream",
     "text": [
      "Epoch metrics: {'accuracy': 0.4287109375, 'crossentropy': 2.3158931732177734}\n",
      "Epoch 35: 0.4287109375 worse than 0.4599609375, patience: 8/20!\n",
      "Epoch metrics: {'accuracy': 0.451171875, 'crossentropy': 1.9303784370422363}\n",
      "Epoch 36: 0.451171875 worse than 0.4599609375, patience: 9/20!\n"
     ]
    },
    {
     "data": {
      "application/vnd.jupyter.widget-view+json": {
       "model_id": "",
       "version_major": 2,
       "version_minor": 0
      },
      "text/plain": [
       "[1/8]  12%|#2         [00:00<?]"
      ]
     },
     "metadata": {},
     "output_type": "display_data"
    },
    {
     "name": "stdout",
     "output_type": "stream",
     "text": [
      "Epoch metrics: {'accuracy': 0.4677734375, 'crossentropy': 2.0168795585632324}\n"
     ]
    },
    {
     "data": {
      "application/vnd.jupyter.widget-view+json": {
       "model_id": "",
       "version_major": 2,
       "version_minor": 0
      },
      "text/plain": [
       "[1/8]  12%|#2         [00:00<?]"
      ]
     },
     "metadata": {},
     "output_type": "display_data"
    },
    {
     "name": "stdout",
     "output_type": "stream",
     "text": [
      "Epoch metrics: {'accuracy': 0.427734375, 'crossentropy': 2.620422840118408}\n",
      "Epoch 38: 0.427734375 worse than 0.4677734375, patience: 1/20!\n"
     ]
    },
    {
     "data": {
      "application/vnd.jupyter.widget-view+json": {
       "model_id": "",
       "version_major": 2,
       "version_minor": 0
      },
      "text/plain": [
       "[1/8]  12%|#2         [00:00<?]"
      ]
     },
     "metadata": {},
     "output_type": "display_data"
    },
    {
     "name": "stdout",
     "output_type": "stream",
     "text": [
      "Epoch metrics: {'accuracy': 0.412109375, 'crossentropy': 2.4242842197418213}\n",
      "Epoch 39: 0.412109375 worse than 0.4677734375, patience: 2/20!\n"
     ]
    },
    {
     "data": {
      "application/vnd.jupyter.widget-view+json": {
       "model_id": "",
       "version_major": 2,
       "version_minor": 0
      },
      "text/plain": [
       "[1/8]  12%|#2         [00:00<?]"
      ]
     },
     "metadata": {},
     "output_type": "display_data"
    },
    {
     "name": "stdout",
     "output_type": "stream",
     "text": [
      "Epoch metrics: {'accuracy': 0.412109375, 'crossentropy': 2.603012800216675}\n",
      "Epoch 40: 0.412109375 worse than 0.4677734375, patience: 3/20!\n",
      "Restoring best snapshot: best_score: 0.4677734375 @ epoch 37\n",
      "Epoch    40: reducing learning rate of group 0 to 1.0000e-03.\n",
      "Epoch metrics: {'accuracy': 0.4853515625, 'crossentropy': 1.8233823776245117}\n"
     ]
    },
    {
     "data": {
      "application/vnd.jupyter.widget-view+json": {
       "model_id": "",
       "version_major": 2,
       "version_minor": 0
      },
      "text/plain": [
       "[1/8]  12%|#2         [00:00<?]"
      ]
     },
     "metadata": {},
     "output_type": "display_data"
    },
    {
     "name": "stdout",
     "output_type": "stream",
     "text": [
      "Epoch metrics: {'accuracy': 0.4951171875, 'crossentropy': 1.8261725902557373}\n"
     ]
    },
    {
     "data": {
      "application/vnd.jupyter.widget-view+json": {
       "model_id": "",
       "version_major": 2,
       "version_minor": 0
      },
      "text/plain": [
       "[1/8]  12%|#2         [00:00<?]"
      ]
     },
     "metadata": {},
     "output_type": "display_data"
    },
    {
     "name": "stdout",
     "output_type": "stream",
     "text": [
      "Epoch metrics: {'accuracy': 0.4931640625, 'crossentropy': 1.8644299507141113}\n",
      "Epoch 43: 0.4931640625 worse than 0.4951171875, patience: 1/10!\n"
     ]
    },
    {
     "data": {
      "application/vnd.jupyter.widget-view+json": {
       "model_id": "",
       "version_major": 2,
       "version_minor": 0
      },
      "text/plain": [
       "[1/8]  12%|#2         [00:00<?]"
      ]
     },
     "metadata": {},
     "output_type": "display_data"
    },
    {
     "name": "stdout",
     "output_type": "stream",
     "text": [
      "Epoch metrics: {'accuracy': 0.4990234375, 'crossentropy': 1.8875579833984375}\n"
     ]
    },
    {
     "data": {
      "application/vnd.jupyter.widget-view+json": {
       "model_id": "",
       "version_major": 2,
       "version_minor": 0
      },
      "text/plain": [
       "[1/8]  12%|#2         [00:00<?]"
      ]
     },
     "metadata": {},
     "output_type": "display_data"
    },
    {
     "name": "stdout",
     "output_type": "stream",
     "text": [
      "Epoch metrics: {'accuracy': 0.4970703125, 'crossentropy': 1.8824461698532104}\n",
      "Epoch 45: 0.4970703125 worse than 0.4990234375, patience: 1/10!\n",
      "Epoch metrics: {'accuracy': 0.494140625, 'crossentropy': 1.860888957977295}\n",
      "Epoch 46: 0.494140625 worse than 0.4990234375, patience: 2/10!\n"
     ]
    },
    {
     "data": {
      "application/vnd.jupyter.widget-view+json": {
       "model_id": "",
       "version_major": 2,
       "version_minor": 0
      },
      "text/plain": [
       "[1/8]  12%|#2         [00:00<?]"
      ]
     },
     "metadata": {},
     "output_type": "display_data"
    },
    {
     "name": "stdout",
     "output_type": "stream",
     "text": [
      "Epoch metrics: {'accuracy': 0.490234375, 'crossentropy': 1.8483492136001587}\n",
      "Epoch 47: 0.490234375 worse than 0.4990234375, patience: 3/10!\n"
     ]
    },
    {
     "data": {
      "application/vnd.jupyter.widget-view+json": {
       "model_id": "",
       "version_major": 2,
       "version_minor": 0
      },
      "text/plain": [
       "[1/8]  12%|#2         [00:00<?]"
      ]
     },
     "metadata": {},
     "output_type": "display_data"
    },
    {
     "name": "stdout",
     "output_type": "stream",
     "text": [
      "Epoch metrics: {'accuracy': 0.498046875, 'crossentropy': 1.855846643447876}\n",
      "Epoch 48: 0.498046875 worse than 0.4990234375, patience: 4/10!\n"
     ]
    },
    {
     "data": {
      "application/vnd.jupyter.widget-view+json": {
       "model_id": "",
       "version_major": 2,
       "version_minor": 0
      },
      "text/plain": [
       "[1/8]  12%|#2         [00:00<?]"
      ]
     },
     "metadata": {},
     "output_type": "display_data"
    },
    {
     "name": "stdout",
     "output_type": "stream",
     "text": [
      "Epoch metrics: {'accuracy': 0.501953125, 'crossentropy': 1.8568155765533447}\n"
     ]
    },
    {
     "data": {
      "application/vnd.jupyter.widget-view+json": {
       "model_id": "",
       "version_major": 2,
       "version_minor": 0
      },
      "text/plain": [
       "[1/8]  12%|#2         [00:00<?]"
      ]
     },
     "metadata": {},
     "output_type": "display_data"
    },
    {
     "name": "stdout",
     "output_type": "stream",
     "text": [
      "Epoch metrics: {'accuracy': 0.498046875, 'crossentropy': 1.8720521926879883}\n",
      "Epoch 50: 0.498046875 worse than 0.501953125, patience: 1/10!\n",
      "Epoch metrics: {'accuracy': 0.4912109375, 'crossentropy': 1.884466528892517}\n",
      "Epoch 51: 0.4912109375 worse than 0.501953125, patience: 2/10!\n"
     ]
    },
    {
     "data": {
      "application/vnd.jupyter.widget-view+json": {
       "model_id": "",
       "version_major": 2,
       "version_minor": 0
      },
      "text/plain": [
       "[1/8]  12%|#2         [00:00<?]"
      ]
     },
     "metadata": {},
     "output_type": "display_data"
    },
    {
     "name": "stdout",
     "output_type": "stream",
     "text": [
      "Epoch metrics: {'accuracy': 0.4921875, 'crossentropy': 1.9161241054534912}\n",
      "Epoch 52: 0.4921875 worse than 0.501953125, patience: 3/10!\n"
     ]
    },
    {
     "data": {
      "application/vnd.jupyter.widget-view+json": {
       "model_id": "",
       "version_major": 2,
       "version_minor": 0
      },
      "text/plain": [
       "[1/8]  12%|#2         [00:00<?]"
      ]
     },
     "metadata": {},
     "output_type": "display_data"
    },
    {
     "name": "stdout",
     "output_type": "stream",
     "text": [
      "Epoch metrics: {'accuracy': 0.498046875, 'crossentropy': 1.9108613729476929}\n",
      "Epoch 53: 0.498046875 worse than 0.501953125, patience: 4/10!\n"
     ]
    },
    {
     "data": {
      "application/vnd.jupyter.widget-view+json": {
       "model_id": "",
       "version_major": 2,
       "version_minor": 0
      },
      "text/plain": [
       "[1/8]  12%|#2         [00:00<?]"
      ]
     },
     "metadata": {},
     "output_type": "display_data"
    },
    {
     "name": "stdout",
     "output_type": "stream",
     "text": [
      "Epoch metrics: {'accuracy': 0.4912109375, 'crossentropy': 1.9222054481506348}\n",
      "Epoch 54: 0.4912109375 worse than 0.501953125, patience: 5/10!\n"
     ]
    },
    {
     "data": {
      "application/vnd.jupyter.widget-view+json": {
       "model_id": "",
       "version_major": 2,
       "version_minor": 0
      },
      "text/plain": [
       "[1/8]  12%|#2         [00:00<?]"
      ]
     },
     "metadata": {},
     "output_type": "display_data"
    },
    {
     "name": "stdout",
     "output_type": "stream",
     "text": [
      "Epoch metrics: {'accuracy': 0.494140625, 'crossentropy': 1.9441418647766113}\n",
      "Epoch 55: 0.494140625 worse than 0.501953125, patience: 6/10!\n",
      "Epoch metrics: {'accuracy': 0.49609375, 'crossentropy': 1.9429115056991577}\n",
      "Epoch 56: 0.49609375 worse than 0.501953125, patience: 7/10!\n"
     ]
    },
    {
     "data": {
      "application/vnd.jupyter.widget-view+json": {
       "model_id": "",
       "version_major": 2,
       "version_minor": 0
      },
      "text/plain": [
       "[1/8]  12%|#2         [00:00<?]"
      ]
     },
     "metadata": {},
     "output_type": "display_data"
    },
    {
     "name": "stdout",
     "output_type": "stream",
     "text": [
      "Epoch metrics: {'accuracy': 0.494140625, 'crossentropy': 1.9341440200805664}\n",
      "Epoch 57: 0.494140625 worse than 0.501953125, patience: 8/10!\n"
     ]
    },
    {
     "data": {
      "application/vnd.jupyter.widget-view+json": {
       "model_id": "",
       "version_major": 2,
       "version_minor": 0
      },
      "text/plain": [
       "[1/8]  12%|#2         [00:00<?]"
      ]
     },
     "metadata": {},
     "output_type": "display_data"
    },
    {
     "name": "stdout",
     "output_type": "stream",
     "text": [
      "Epoch metrics: {'accuracy': 0.4931640625, 'crossentropy': 1.9487805366516113}\n",
      "Epoch 58: 0.4931640625 worse than 0.501953125, patience: 9/10!\n"
     ]
    },
    {
     "data": {
      "application/vnd.jupyter.widget-view+json": {
       "model_id": "",
       "version_major": 2,
       "version_minor": 0
      },
      "text/plain": [
       "[1/8]  12%|#2         [00:00<?]"
      ]
     },
     "metadata": {},
     "output_type": "display_data"
    },
    {
     "name": "stdout",
     "output_type": "stream",
     "text": [
      "Epoch metrics: {'accuracy': 0.4951171875, 'crossentropy': 1.9803202152252197}\n",
      "Epoch 59: 0.4951171875 worse than 0.501953125, patience: 10/10!\n"
     ]
    },
    {
     "data": {
      "application/vnd.jupyter.widget-view+json": {
       "model_id": "",
       "version_major": 2,
       "version_minor": 0
      },
      "text/plain": [
       "[1/8]  12%|#2         [00:00<?]"
      ]
     },
     "metadata": {},
     "output_type": "display_data"
    },
    {
     "name": "stdout",
     "output_type": "stream",
     "text": [
      "Epoch metrics: {'accuracy': 0.501953125, 'crossentropy': 1.9957759380340576}\n",
      "Epoch 60: 0.501953125 worse than 0.501953125, patience: 11/10!\n",
      "Restoring best snapshot: best_score: 0.501953125 @ epoch 49\n",
      "NeurIPS Workshop Style\n",
      "Limit schedule/max epochs updated: [40, 60], 60\n"
     ]
    },
    {
     "data": {
      "application/vnd.jupyter.widget-view+json": {
       "model_id": "db7a8b95cb11479dad344eb7f05ff4e0",
       "version_major": 2,
       "version_minor": 0
      },
      "text/plain": [
       "  2%|1         | 1/60 [00:00<?, ?it/s]"
      ]
     },
     "metadata": {},
     "output_type": "display_data"
    },
    {
     "name": "stdout",
     "output_type": "stream",
     "text": [
      "Epoch metrics: {'accuracy': 0.1318359375, 'crossentropy': 2.271721839904785}\n"
     ]
    },
    {
     "data": {
      "application/vnd.jupyter.widget-view+json": {
       "model_id": "",
       "version_major": 2,
       "version_minor": 0
      },
      "text/plain": [
       "[1/8]  12%|#2         [00:00<?]"
      ]
     },
     "metadata": {},
     "output_type": "display_data"
    },
    {
     "name": "stdout",
     "output_type": "stream",
     "text": [
      "Epoch metrics: {'accuracy': 0.1923828125, 'crossentropy': 2.173743724822998}\n"
     ]
    },
    {
     "data": {
      "application/vnd.jupyter.widget-view+json": {
       "model_id": "",
       "version_major": 2,
       "version_minor": 0
      },
      "text/plain": [
       "[1/8]  12%|#2         [00:00<?]"
      ]
     },
     "metadata": {},
     "output_type": "display_data"
    },
    {
     "name": "stdout",
     "output_type": "stream",
     "text": [
      "Epoch metrics: {'accuracy': 0.2412109375, 'crossentropy': 2.01741361618042}\n"
     ]
    },
    {
     "data": {
      "application/vnd.jupyter.widget-view+json": {
       "model_id": "",
       "version_major": 2,
       "version_minor": 0
      },
      "text/plain": [
       "[1/8]  12%|#2         [00:00<?]"
      ]
     },
     "metadata": {},
     "output_type": "display_data"
    },
    {
     "name": "stdout",
     "output_type": "stream",
     "text": [
      "Epoch metrics: {'accuracy': 0.2529296875, 'crossentropy': 1.948512315750122}\n"
     ]
    },
    {
     "data": {
      "application/vnd.jupyter.widget-view+json": {
       "model_id": "",
       "version_major": 2,
       "version_minor": 0
      },
      "text/plain": [
       "[1/8]  12%|#2         [00:00<?]"
      ]
     },
     "metadata": {},
     "output_type": "display_data"
    },
    {
     "name": "stdout",
     "output_type": "stream",
     "text": [
      "Epoch metrics: {'accuracy': 0.2158203125, 'crossentropy': 2.917454242706299}\n",
      "Epoch 5: 0.2158203125 worse than 0.2529296875, patience: 1/20!\n",
      "Epoch metrics: {'accuracy': 0.2998046875, 'crossentropy': 1.8652114868164062}\n"
     ]
    },
    {
     "data": {
      "application/vnd.jupyter.widget-view+json": {
       "model_id": "",
       "version_major": 2,
       "version_minor": 0
      },
      "text/plain": [
       "[1/8]  12%|#2         [00:00<?]"
      ]
     },
     "metadata": {},
     "output_type": "display_data"
    },
    {
     "name": "stdout",
     "output_type": "stream",
     "text": [
      "Epoch metrics: {'accuracy': 0.3046875, 'crossentropy': 1.8936755657196045}\n"
     ]
    },
    {
     "data": {
      "application/vnd.jupyter.widget-view+json": {
       "model_id": "",
       "version_major": 2,
       "version_minor": 0
      },
      "text/plain": [
       "[1/8]  12%|#2         [00:00<?]"
      ]
     },
     "metadata": {},
     "output_type": "display_data"
    },
    {
     "name": "stdout",
     "output_type": "stream",
     "text": [
      "Epoch metrics: {'accuracy': 0.3408203125, 'crossentropy': 1.7680151462554932}\n"
     ]
    },
    {
     "data": {
      "application/vnd.jupyter.widget-view+json": {
       "model_id": "",
       "version_major": 2,
       "version_minor": 0
      },
      "text/plain": [
       "[1/8]  12%|#2         [00:00<?]"
      ]
     },
     "metadata": {},
     "output_type": "display_data"
    },
    {
     "name": "stdout",
     "output_type": "stream",
     "text": [
      "Epoch metrics: {'accuracy': 0.3603515625, 'crossentropy': 1.7424509525299072}\n"
     ]
    },
    {
     "data": {
      "application/vnd.jupyter.widget-view+json": {
       "model_id": "",
       "version_major": 2,
       "version_minor": 0
      },
      "text/plain": [
       "[1/8]  12%|#2         [00:00<?]"
      ]
     },
     "metadata": {},
     "output_type": "display_data"
    },
    {
     "name": "stdout",
     "output_type": "stream",
     "text": [
      "Epoch metrics: {'accuracy': 0.365234375, 'crossentropy': 1.7777519226074219}\n",
      "Epoch metrics: {'accuracy': 0.353515625, 'crossentropy': 1.7884161472320557}\n",
      "Epoch 11: 0.353515625 worse than 0.365234375, patience: 1/20!\n"
     ]
    },
    {
     "data": {
      "application/vnd.jupyter.widget-view+json": {
       "model_id": "",
       "version_major": 2,
       "version_minor": 0
      },
      "text/plain": [
       "[1/8]  12%|#2         [00:00<?]"
      ]
     },
     "metadata": {},
     "output_type": "display_data"
    },
    {
     "name": "stdout",
     "output_type": "stream",
     "text": [
      "Epoch metrics: {'accuracy': 0.3515625, 'crossentropy': 1.7184197902679443}\n",
      "Epoch 12: 0.3515625 worse than 0.365234375, patience: 2/20!\n"
     ]
    },
    {
     "data": {
      "application/vnd.jupyter.widget-view+json": {
       "model_id": "",
       "version_major": 2,
       "version_minor": 0
      },
      "text/plain": [
       "[1/8]  12%|#2         [00:00<?]"
      ]
     },
     "metadata": {},
     "output_type": "display_data"
    },
    {
     "name": "stdout",
     "output_type": "stream",
     "text": [
      "Epoch metrics: {'accuracy': 0.3955078125, 'crossentropy': 1.7181555032730103}\n"
     ]
    },
    {
     "data": {
      "application/vnd.jupyter.widget-view+json": {
       "model_id": "",
       "version_major": 2,
       "version_minor": 0
      },
      "text/plain": [
       "[1/8]  12%|#2         [00:00<?]"
      ]
     },
     "metadata": {},
     "output_type": "display_data"
    },
    {
     "name": "stdout",
     "output_type": "stream",
     "text": [
      "Epoch metrics: {'accuracy': 0.3486328125, 'crossentropy': 2.0708694458007812}\n",
      "Epoch 14: 0.3486328125 worse than 0.3955078125, patience: 1/20!\n"
     ]
    },
    {
     "data": {
      "application/vnd.jupyter.widget-view+json": {
       "model_id": "",
       "version_major": 2,
       "version_minor": 0
      },
      "text/plain": [
       "[1/8]  12%|#2         [00:00<?]"
      ]
     },
     "metadata": {},
     "output_type": "display_data"
    },
    {
     "name": "stdout",
     "output_type": "stream",
     "text": [
      "Epoch metrics: {'accuracy': 0.392578125, 'crossentropy': 1.7636523246765137}\n",
      "Epoch 15: 0.392578125 worse than 0.3955078125, patience: 2/20!\n",
      "Epoch metrics: {'accuracy': 0.40234375, 'crossentropy': 1.796265959739685}\n"
     ]
    },
    {
     "data": {
      "application/vnd.jupyter.widget-view+json": {
       "model_id": "",
       "version_major": 2,
       "version_minor": 0
      },
      "text/plain": [
       "[1/8]  12%|#2         [00:00<?]"
      ]
     },
     "metadata": {},
     "output_type": "display_data"
    },
    {
     "name": "stdout",
     "output_type": "stream",
     "text": [
      "Epoch metrics: {'accuracy': 0.3427734375, 'crossentropy': 2.836376428604126}\n",
      "Epoch 17: 0.3427734375 worse than 0.40234375, patience: 1/20!\n"
     ]
    },
    {
     "data": {
      "application/vnd.jupyter.widget-view+json": {
       "model_id": "",
       "version_major": 2,
       "version_minor": 0
      },
      "text/plain": [
       "[1/8]  12%|#2         [00:00<?]"
      ]
     },
     "metadata": {},
     "output_type": "display_data"
    },
    {
     "name": "stdout",
     "output_type": "stream",
     "text": [
      "Epoch metrics: {'accuracy': 0.3779296875, 'crossentropy': 1.9393694400787354}\n",
      "Epoch 18: 0.3779296875 worse than 0.40234375, patience: 2/20!\n"
     ]
    },
    {
     "data": {
      "application/vnd.jupyter.widget-view+json": {
       "model_id": "",
       "version_major": 2,
       "version_minor": 0
      },
      "text/plain": [
       "[1/8]  12%|#2         [00:00<?]"
      ]
     },
     "metadata": {},
     "output_type": "display_data"
    },
    {
     "name": "stdout",
     "output_type": "stream",
     "text": [
      "Epoch metrics: {'accuracy': 0.4033203125, 'crossentropy': 1.8890727758407593}\n"
     ]
    },
    {
     "data": {
      "application/vnd.jupyter.widget-view+json": {
       "model_id": "",
       "version_major": 2,
       "version_minor": 0
      },
      "text/plain": [
       "[1/8]  12%|#2         [00:00<?]"
      ]
     },
     "metadata": {},
     "output_type": "display_data"
    },
    {
     "name": "stdout",
     "output_type": "stream",
     "text": [
      "Epoch metrics: {'accuracy': 0.412109375, 'crossentropy': 1.8144328594207764}\n",
      "Epoch metrics: {'accuracy': 0.4296875, 'crossentropy': 1.735748529434204}\n"
     ]
    },
    {
     "data": {
      "application/vnd.jupyter.widget-view+json": {
       "model_id": "",
       "version_major": 2,
       "version_minor": 0
      },
      "text/plain": [
       "[1/8]  12%|#2         [00:00<?]"
      ]
     },
     "metadata": {},
     "output_type": "display_data"
    },
    {
     "name": "stdout",
     "output_type": "stream",
     "text": [
      "Epoch metrics: {'accuracy': 0.4208984375, 'crossentropy': 2.085444927215576}\n",
      "Epoch 22: 0.4208984375 worse than 0.4296875, patience: 1/20!\n"
     ]
    },
    {
     "data": {
      "application/vnd.jupyter.widget-view+json": {
       "model_id": "",
       "version_major": 2,
       "version_minor": 0
      },
      "text/plain": [
       "[1/8]  12%|#2         [00:00<?]"
      ]
     },
     "metadata": {},
     "output_type": "display_data"
    },
    {
     "name": "stdout",
     "output_type": "stream",
     "text": [
      "Epoch metrics: {'accuracy': 0.4267578125, 'crossentropy': 1.8629573583602905}\n",
      "Epoch 23: 0.4267578125 worse than 0.4296875, patience: 2/20!\n"
     ]
    },
    {
     "data": {
      "application/vnd.jupyter.widget-view+json": {
       "model_id": "",
       "version_major": 2,
       "version_minor": 0
      },
      "text/plain": [
       "[1/8]  12%|#2         [00:00<?]"
      ]
     },
     "metadata": {},
     "output_type": "display_data"
    },
    {
     "name": "stdout",
     "output_type": "stream",
     "text": [
      "Epoch metrics: {'accuracy': 0.3994140625, 'crossentropy': 2.2250614166259766}\n",
      "Epoch 24: 0.3994140625 worse than 0.4296875, patience: 3/20!\n"
     ]
    },
    {
     "data": {
      "application/vnd.jupyter.widget-view+json": {
       "model_id": "",
       "version_major": 2,
       "version_minor": 0
      },
      "text/plain": [
       "[1/8]  12%|#2         [00:00<?]"
      ]
     },
     "metadata": {},
     "output_type": "display_data"
    },
    {
     "name": "stdout",
     "output_type": "stream",
     "text": [
      "Epoch metrics: {'accuracy': 0.4140625, 'crossentropy': 2.0015809535980225}\n",
      "Epoch 25: 0.4140625 worse than 0.4296875, patience: 4/20!\n",
      "Epoch metrics: {'accuracy': 0.45703125, 'crossentropy': 2.0723748207092285}\n"
     ]
    },
    {
     "data": {
      "application/vnd.jupyter.widget-view+json": {
       "model_id": "",
       "version_major": 2,
       "version_minor": 0
      },
      "text/plain": [
       "[1/8]  12%|#2         [00:00<?]"
      ]
     },
     "metadata": {},
     "output_type": "display_data"
    },
    {
     "name": "stdout",
     "output_type": "stream",
     "text": [
      "Epoch metrics: {'accuracy': 0.4072265625, 'crossentropy': 2.1009583473205566}\n",
      "Epoch 27: 0.4072265625 worse than 0.45703125, patience: 1/20!\n"
     ]
    },
    {
     "data": {
      "application/vnd.jupyter.widget-view+json": {
       "model_id": "",
       "version_major": 2,
       "version_minor": 0
      },
      "text/plain": [
       "[1/8]  12%|#2         [00:00<?]"
      ]
     },
     "metadata": {},
     "output_type": "display_data"
    },
    {
     "name": "stdout",
     "output_type": "stream",
     "text": [
      "Epoch metrics: {'accuracy': 0.40625, 'crossentropy': 2.00950288772583}\n",
      "Epoch 28: 0.40625 worse than 0.45703125, patience: 2/20!\n"
     ]
    },
    {
     "data": {
      "application/vnd.jupyter.widget-view+json": {
       "model_id": "",
       "version_major": 2,
       "version_minor": 0
      },
      "text/plain": [
       "[1/8]  12%|#2         [00:00<?]"
      ]
     },
     "metadata": {},
     "output_type": "display_data"
    },
    {
     "name": "stdout",
     "output_type": "stream",
     "text": [
      "Epoch metrics: {'accuracy': 0.4482421875, 'crossentropy': 2.2019996643066406}\n",
      "Epoch 29: 0.4482421875 worse than 0.45703125, patience: 3/20!\n"
     ]
    },
    {
     "data": {
      "application/vnd.jupyter.widget-view+json": {
       "model_id": "",
       "version_major": 2,
       "version_minor": 0
      },
      "text/plain": [
       "[1/8]  12%|#2         [00:00<?]"
      ]
     },
     "metadata": {},
     "output_type": "display_data"
    },
    {
     "name": "stdout",
     "output_type": "stream",
     "text": [
      "Epoch metrics: {'accuracy': 0.3916015625, 'crossentropy': 2.1107089519500732}\n",
      "Epoch 30: 0.3916015625 worse than 0.45703125, patience: 4/20!\n",
      "Epoch metrics: {'accuracy': 0.4453125, 'crossentropy': 2.1417007446289062}\n",
      "Epoch 31: 0.4453125 worse than 0.45703125, patience: 5/20!\n"
     ]
    },
    {
     "data": {
      "application/vnd.jupyter.widget-view+json": {
       "model_id": "",
       "version_major": 2,
       "version_minor": 0
      },
      "text/plain": [
       "[1/8]  12%|#2         [00:00<?]"
      ]
     },
     "metadata": {},
     "output_type": "display_data"
    },
    {
     "name": "stdout",
     "output_type": "stream",
     "text": [
      "Epoch metrics: {'accuracy': 0.4267578125, 'crossentropy': 2.417229652404785}\n",
      "Epoch 32: 0.4267578125 worse than 0.45703125, patience: 6/20!\n"
     ]
    },
    {
     "data": {
      "application/vnd.jupyter.widget-view+json": {
       "model_id": "",
       "version_major": 2,
       "version_minor": 0
      },
      "text/plain": [
       "[1/8]  12%|#2         [00:00<?]"
      ]
     },
     "metadata": {},
     "output_type": "display_data"
    },
    {
     "name": "stdout",
     "output_type": "stream",
     "text": [
      "Epoch metrics: {'accuracy': 0.41796875, 'crossentropy': 2.119783401489258}\n",
      "Epoch 33: 0.41796875 worse than 0.45703125, patience: 7/20!\n"
     ]
    },
    {
     "data": {
      "application/vnd.jupyter.widget-view+json": {
       "model_id": "",
       "version_major": 2,
       "version_minor": 0
      },
      "text/plain": [
       "[1/8]  12%|#2         [00:00<?]"
      ]
     },
     "metadata": {},
     "output_type": "display_data"
    },
    {
     "name": "stdout",
     "output_type": "stream",
     "text": [
      "Epoch metrics: {'accuracy': 0.4345703125, 'crossentropy': 2.309903144836426}\n",
      "Epoch 34: 0.4345703125 worse than 0.45703125, patience: 8/20!\n"
     ]
    },
    {
     "data": {
      "application/vnd.jupyter.widget-view+json": {
       "model_id": "",
       "version_major": 2,
       "version_minor": 0
      },
      "text/plain": [
       "[1/8]  12%|#2         [00:00<?]"
      ]
     },
     "metadata": {},
     "output_type": "display_data"
    },
    {
     "name": "stdout",
     "output_type": "stream",
     "text": [
      "Epoch metrics: {'accuracy': 0.4716796875, 'crossentropy': 2.128251314163208}\n",
      "Epoch metrics: {'accuracy': 0.4091796875, 'crossentropy': 2.2573814392089844}\n",
      "Epoch 36: 0.4091796875 worse than 0.4716796875, patience: 1/20!\n"
     ]
    },
    {
     "data": {
      "application/vnd.jupyter.widget-view+json": {
       "model_id": "",
       "version_major": 2,
       "version_minor": 0
      },
      "text/plain": [
       "[1/8]  12%|#2         [00:00<?]"
      ]
     },
     "metadata": {},
     "output_type": "display_data"
    },
    {
     "name": "stdout",
     "output_type": "stream",
     "text": [
      "Epoch metrics: {'accuracy': 0.3916015625, 'crossentropy': 2.62845516204834}\n",
      "Epoch 37: 0.3916015625 worse than 0.4716796875, patience: 2/20!\n"
     ]
    },
    {
     "data": {
      "application/vnd.jupyter.widget-view+json": {
       "model_id": "",
       "version_major": 2,
       "version_minor": 0
      },
      "text/plain": [
       "[1/8]  12%|#2         [00:00<?]"
      ]
     },
     "metadata": {},
     "output_type": "display_data"
    },
    {
     "name": "stdout",
     "output_type": "stream",
     "text": [
      "Epoch metrics: {'accuracy': 0.44140625, 'crossentropy': 2.1764917373657227}\n",
      "Epoch 38: 0.44140625 worse than 0.4716796875, patience: 3/20!\n"
     ]
    },
    {
     "data": {
      "application/vnd.jupyter.widget-view+json": {
       "model_id": "",
       "version_major": 2,
       "version_minor": 0
      },
      "text/plain": [
       "[1/8]  12%|#2         [00:00<?]"
      ]
     },
     "metadata": {},
     "output_type": "display_data"
    },
    {
     "name": "stdout",
     "output_type": "stream",
     "text": [
      "Epoch metrics: {'accuracy': 0.4453125, 'crossentropy': 2.2685611248016357}\n",
      "Epoch 39: 0.4453125 worse than 0.4716796875, patience: 4/20!\n"
     ]
    },
    {
     "data": {
      "application/vnd.jupyter.widget-view+json": {
       "model_id": "",
       "version_major": 2,
       "version_minor": 0
      },
      "text/plain": [
       "[1/8]  12%|#2         [00:00<?]"
      ]
     },
     "metadata": {},
     "output_type": "display_data"
    },
    {
     "name": "stdout",
     "output_type": "stream",
     "text": [
      "Epoch metrics: {'accuracy': 0.37890625, 'crossentropy': 2.460073232650757}\n",
      "Epoch 40: 0.37890625 worse than 0.4716796875, patience: 5/20!\n",
      "Restoring best snapshot: best_score: 0.4716796875 @ epoch 35\n",
      "Epoch    40: reducing learning rate of group 0 to 1.0000e-03.\n",
      "Epoch metrics: {'accuracy': 0.4765625, 'crossentropy': 1.9391651153564453}\n"
     ]
    },
    {
     "data": {
      "application/vnd.jupyter.widget-view+json": {
       "model_id": "",
       "version_major": 2,
       "version_minor": 0
      },
      "text/plain": [
       "[1/8]  12%|#2         [00:00<?]"
      ]
     },
     "metadata": {},
     "output_type": "display_data"
    },
    {
     "name": "stdout",
     "output_type": "stream",
     "text": [
      "Epoch metrics: {'accuracy': 0.46875, 'crossentropy': 1.8957467079162598}\n",
      "Epoch 42: 0.46875 worse than 0.4765625, patience: 1/10!\n"
     ]
    },
    {
     "data": {
      "application/vnd.jupyter.widget-view+json": {
       "model_id": "",
       "version_major": 2,
       "version_minor": 0
      },
      "text/plain": [
       "[1/8]  12%|#2         [00:00<?]"
      ]
     },
     "metadata": {},
     "output_type": "display_data"
    },
    {
     "name": "stdout",
     "output_type": "stream",
     "text": [
      "Epoch metrics: {'accuracy': 0.4755859375, 'crossentropy': 1.877326250076294}\n",
      "Epoch 43: 0.4755859375 worse than 0.4765625, patience: 2/10!\n"
     ]
    },
    {
     "data": {
      "application/vnd.jupyter.widget-view+json": {
       "model_id": "",
       "version_major": 2,
       "version_minor": 0
      },
      "text/plain": [
       "[1/8]  12%|#2         [00:00<?]"
      ]
     },
     "metadata": {},
     "output_type": "display_data"
    },
    {
     "name": "stdout",
     "output_type": "stream",
     "text": [
      "Epoch metrics: {'accuracy': 0.482421875, 'crossentropy': 1.915670394897461}\n"
     ]
    },
    {
     "data": {
      "application/vnd.jupyter.widget-view+json": {
       "model_id": "",
       "version_major": 2,
       "version_minor": 0
      },
      "text/plain": [
       "[1/8]  12%|#2         [00:00<?]"
      ]
     },
     "metadata": {},
     "output_type": "display_data"
    },
    {
     "name": "stdout",
     "output_type": "stream",
     "text": [
      "Epoch metrics: {'accuracy': 0.490234375, 'crossentropy': 1.9242346286773682}\n",
      "Epoch metrics: {'accuracy': 0.4912109375, 'crossentropy': 1.9122066497802734}\n"
     ]
    },
    {
     "data": {
      "application/vnd.jupyter.widget-view+json": {
       "model_id": "",
       "version_major": 2,
       "version_minor": 0
      },
      "text/plain": [
       "[1/8]  12%|#2         [00:00<?]"
      ]
     },
     "metadata": {},
     "output_type": "display_data"
    },
    {
     "name": "stdout",
     "output_type": "stream",
     "text": [
      "Epoch metrics: {'accuracy': 0.4775390625, 'crossentropy': 1.912947177886963}\n",
      "Epoch 47: 0.4775390625 worse than 0.4912109375, patience: 1/10!\n"
     ]
    },
    {
     "data": {
      "application/vnd.jupyter.widget-view+json": {
       "model_id": "",
       "version_major": 2,
       "version_minor": 0
      },
      "text/plain": [
       "[1/8]  12%|#2         [00:00<?]"
      ]
     },
     "metadata": {},
     "output_type": "display_data"
    },
    {
     "name": "stdout",
     "output_type": "stream",
     "text": [
      "Epoch metrics: {'accuracy': 0.4736328125, 'crossentropy': 1.9354698657989502}\n",
      "Epoch 48: 0.4736328125 worse than 0.4912109375, patience: 2/10!\n"
     ]
    },
    {
     "data": {
      "application/vnd.jupyter.widget-view+json": {
       "model_id": "",
       "version_major": 2,
       "version_minor": 0
      },
      "text/plain": [
       "[1/8]  12%|#2         [00:00<?]"
      ]
     },
     "metadata": {},
     "output_type": "display_data"
    },
    {
     "name": "stdout",
     "output_type": "stream",
     "text": [
      "Epoch metrics: {'accuracy': 0.4853515625, 'crossentropy': 1.9456501007080078}\n",
      "Epoch 49: 0.4853515625 worse than 0.4912109375, patience: 3/10!\n"
     ]
    },
    {
     "data": {
      "application/vnd.jupyter.widget-view+json": {
       "model_id": "",
       "version_major": 2,
       "version_minor": 0
      },
      "text/plain": [
       "[1/8]  12%|#2         [00:00<?]"
      ]
     },
     "metadata": {},
     "output_type": "display_data"
    },
    {
     "name": "stdout",
     "output_type": "stream",
     "text": [
      "Epoch metrics: {'accuracy': 0.4873046875, 'crossentropy': 1.9420843124389648}\n",
      "Epoch 50: 0.4873046875 worse than 0.4912109375, patience: 4/10!\n",
      "Epoch metrics: {'accuracy': 0.4892578125, 'crossentropy': 1.9611868858337402}\n",
      "Epoch 51: 0.4892578125 worse than 0.4912109375, patience: 5/10!\n"
     ]
    },
    {
     "data": {
      "application/vnd.jupyter.widget-view+json": {
       "model_id": "",
       "version_major": 2,
       "version_minor": 0
      },
      "text/plain": [
       "[1/8]  12%|#2         [00:00<?]"
      ]
     },
     "metadata": {},
     "output_type": "display_data"
    },
    {
     "name": "stdout",
     "output_type": "stream",
     "text": [
      "Epoch metrics: {'accuracy': 0.4921875, 'crossentropy': 1.942270040512085}\n"
     ]
    },
    {
     "data": {
      "application/vnd.jupyter.widget-view+json": {
       "model_id": "",
       "version_major": 2,
       "version_minor": 0
      },
      "text/plain": [
       "[1/8]  12%|#2         [00:00<?]"
      ]
     },
     "metadata": {},
     "output_type": "display_data"
    },
    {
     "name": "stdout",
     "output_type": "stream",
     "text": [
      "Epoch metrics: {'accuracy': 0.48828125, 'crossentropy': 1.9460234642028809}\n",
      "Epoch 53: 0.48828125 worse than 0.4921875, patience: 1/10!\n"
     ]
    },
    {
     "data": {
      "application/vnd.jupyter.widget-view+json": {
       "model_id": "",
       "version_major": 2,
       "version_minor": 0
      },
      "text/plain": [
       "[1/8]  12%|#2         [00:00<?]"
      ]
     },
     "metadata": {},
     "output_type": "display_data"
    },
    {
     "name": "stdout",
     "output_type": "stream",
     "text": [
      "Epoch metrics: {'accuracy': 0.490234375, 'crossentropy': 1.9857553243637085}\n",
      "Epoch 54: 0.490234375 worse than 0.4921875, patience: 2/10!\n"
     ]
    },
    {
     "data": {
      "application/vnd.jupyter.widget-view+json": {
       "model_id": "",
       "version_major": 2,
       "version_minor": 0
      },
      "text/plain": [
       "[1/8]  12%|#2         [00:00<?]"
      ]
     },
     "metadata": {},
     "output_type": "display_data"
    },
    {
     "name": "stdout",
     "output_type": "stream",
     "text": [
      "Epoch metrics: {'accuracy': 0.48828125, 'crossentropy': 1.9796559810638428}\n",
      "Epoch 55: 0.48828125 worse than 0.4921875, patience: 3/10!\n",
      "Epoch metrics: {'accuracy': 0.474609375, 'crossentropy': 1.979042410850525}\n",
      "Epoch 56: 0.474609375 worse than 0.4921875, patience: 4/10!\n"
     ]
    },
    {
     "data": {
      "application/vnd.jupyter.widget-view+json": {
       "model_id": "",
       "version_major": 2,
       "version_minor": 0
      },
      "text/plain": [
       "[1/8]  12%|#2         [00:00<?]"
      ]
     },
     "metadata": {},
     "output_type": "display_data"
    },
    {
     "name": "stdout",
     "output_type": "stream",
     "text": [
      "Epoch metrics: {'accuracy': 0.478515625, 'crossentropy': 1.9751605987548828}\n",
      "Epoch 57: 0.478515625 worse than 0.4921875, patience: 5/10!\n"
     ]
    },
    {
     "data": {
      "application/vnd.jupyter.widget-view+json": {
       "model_id": "",
       "version_major": 2,
       "version_minor": 0
      },
      "text/plain": [
       "[1/8]  12%|#2         [00:00<?]"
      ]
     },
     "metadata": {},
     "output_type": "display_data"
    },
    {
     "name": "stdout",
     "output_type": "stream",
     "text": [
      "Epoch metrics: {'accuracy': 0.48046875, 'crossentropy': 1.9913841485977173}\n",
      "Epoch 58: 0.48046875 worse than 0.4921875, patience: 6/10!\n"
     ]
    },
    {
     "data": {
      "application/vnd.jupyter.widget-view+json": {
       "model_id": "",
       "version_major": 2,
       "version_minor": 0
      },
      "text/plain": [
       "[1/8]  12%|#2         [00:00<?]"
      ]
     },
     "metadata": {},
     "output_type": "display_data"
    },
    {
     "name": "stdout",
     "output_type": "stream",
     "text": [
      "Epoch metrics: {'accuracy': 0.4892578125, 'crossentropy': 2.0270097255706787}\n",
      "Epoch 59: 0.4892578125 worse than 0.4921875, patience: 7/10!\n"
     ]
    },
    {
     "data": {
      "application/vnd.jupyter.widget-view+json": {
       "model_id": "",
       "version_major": 2,
       "version_minor": 0
      },
      "text/plain": [
       "[1/8]  12%|#2         [00:00<?]"
      ]
     },
     "metadata": {},
     "output_type": "display_data"
    },
    {
     "name": "stdout",
     "output_type": "stream",
     "text": [
      "Epoch metrics: {'accuracy': 0.4970703125, 'crossentropy': 2.0400729179382324}\n",
      "Restoring best snapshot: best_score: 0.4970703125 @ epoch 60\n"
     ]
    },
    {
     "data": {
      "application/vnd.jupyter.widget-view+json": {
       "model_id": "",
       "version_major": 2,
       "version_minor": 0
      },
      "text/plain": [
       "get_predictions_labels:   0%|          | 0/10000 [00:00<?, ?it/s]"
      ]
     },
     "metadata": {},
     "output_type": "display_data"
    },
    {
     "data": {
      "application/vnd.jupyter.widget-view+json": {
       "model_id": "",
       "version_major": 2,
       "version_minor": 0
      },
      "text/plain": [
       "get_predictions_labels:   0%|          | 0/10000 [00:00<?, ?it/s]"
      ]
     },
     "metadata": {},
     "output_type": "display_data"
    },
    {
     "data": {
      "application/vnd.jupyter.widget-view+json": {
       "model_id": "",
       "version_major": 2,
       "version_minor": 0
      },
      "text/plain": [
       "get_predictions_labels:   0%|          | 0/10000 [00:00<?, ?it/s]"
      ]
     },
     "metadata": {},
     "output_type": "display_data"
    },
    {
     "name": "stdout",
     "output_type": "stream",
     "text": [
      "Perf after training {'accuracy': 0.5034, 'crossentropy': tensor(1.6824)}\n"
     ]
    },
    {
     "data": {
      "application/vnd.jupyter.widget-view+json": {
       "model_id": "",
       "version_major": 2,
       "version_minor": 0
      },
      "text/plain": [
       "get_predictions_labels:   0%|          | 0/95952 [00:00<?, ?it/s]"
      ]
     },
     "metadata": {},
     "output_type": "display_data"
    },
    {
     "data": {
      "application/vnd.jupyter.widget-view+json": {
       "model_id": "",
       "version_major": 2,
       "version_minor": 0
      },
      "text/plain": [
       "get_predictions_labels:   0%|          | 0/95952 [00:00<?, ?it/s]"
      ]
     },
     "metadata": {},
     "output_type": "display_data"
    },
    {
     "data": {
      "application/vnd.jupyter.widget-view+json": {
       "model_id": "",
       "version_major": 2,
       "version_minor": 0
      },
      "text/plain": [
       "get_predictions_labels:   0%|          | 0/95952 [00:00<?, ?it/s]"
      ]
     },
     "metadata": {},
     "output_type": "display_data"
    },
    {
     "data": {
      "application/vnd.jupyter.widget-view+json": {
       "model_id": "",
       "version_major": 2,
       "version_minor": 0
      },
      "text/plain": [
       "Conditional Entropy:   0%|          | 0/47976 [00:00<?, ?it/s]"
      ]
     },
     "metadata": {},
     "output_type": "display_data"
    },
    {
     "data": {
      "application/vnd.jupyter.widget-view+json": {
       "model_id": "",
       "version_major": 2,
       "version_minor": 0
      },
      "text/plain": [
       "Entropy:   0%|          | 0/47976 [00:00<?, ?it/s]"
      ]
     },
     "metadata": {},
     "output_type": "display_data"
    },
    {
     "name": "stdout",
     "output_type": "stream",
     "text": [
      "CandidateBatch(scores=[0.29617753977740774, 0.14929386632449126, 0.14042188043822845, 0.13561701063934906, 0.12551198033788236, 0.11587380730878305, 0.1081785889516576, 0.10318522232910732, 0.10028609012837636, 0.07910100369259015, 0.0595642760746285, 0.056496623136499446, 0.0480974583513627, -0.0003344104814704263, -0.024483918028025405, -0.05868755287245064, -0.060729997998662744, -0.06483828993515683, -0.07266099279175536, -0.08303425078136822, -0.08493905198309115, -0.08826177952030845, -0.0917231456310107, -0.09322396681837897, -0.09349900755281104, -0.1085312087856567, -0.10880747194813978, -0.11035702823406313, -0.11373049969951132, -0.1284572549304118, -0.1369941620823329, -0.14414451338511716, -0.14638930275788886, -0.14709074744055906, -0.1544179604953905, -0.1718396815443063, -0.17193064279121323, -0.17433757495651808, -0.17493876712021292, -0.17793750532394587, -0.20004764783578136, -0.2047085608832342, -0.20785528881946924, -0.2126760937814199, -0.21795550007810643, -0.21854255992835558, -0.22375512548355175, -0.22821897951415104, -0.23081753358589896, -0.234552558420489, -0.23654412147374432, -0.23868492752525053, -0.23936193849792142, -0.23948581546398945, -0.24090250779725308, -0.24436573906718534, -0.24498798043854714, -0.25047486654500684, -0.25086789662747966, -0.25223379123728185, -0.25300603160378266, -0.2535722503628005, -0.25627488105340335, -0.2571039077439916, -0.2571323880393473, -0.2581345788913097, -0.25852047075469786, -0.25984682601623954, -0.2605125306329733, -0.26604510503814593, -0.26842628367418425, -0.2689608944143873, -0.27142159348898154, -0.2716202495232657, -0.2725370856601465, -0.27277114294881777, -0.272882899518596, -0.2746432822616215, -0.27475376736680157, -0.2747862738818379, -0.2787102389783494, -0.27878322594118177, -0.2799440079598173, -0.28053463957696523, -0.2832789355363545, -0.28628681074660906, -0.28636098372628815, -0.2864041874063044, -0.28681405980157704, -0.28695940484754145, -0.2874117431329296, -0.2876259871416516, -0.2883496122749491, -0.2899183102928764, -0.2916184667446343, -0.29320420380710155, -0.2942200635364417, -0.2944431093663251, -0.2966738541909059, -0.297017411323094, -0.29953332345032396, -0.29983150297606376, -0.3002000015119797, -0.3019102346504664, -0.3028038396797542, -0.3028627118081535, -0.3038174756319836, -0.306849925859872, -0.30820086116683587, -0.308965825301919, -0.30897690216943874, -0.30959008903917856, -0.3099016547172293, -0.31032215454158524, -0.31120895035679247, -0.3153142432505421, -0.31548377397124866, -0.31563967323632697, -0.31741590341198633, -0.3184705504455397, -0.3186296133000478, -0.3188583045728651, -0.31898546941660305, -0.31929041122606755, -0.3194115682999085, -0.32021299477095333, -0.3204498316628256, -0.3207799158954866, -0.3213031203079303, -0.32179618456249737, -0.3233233737207446, -0.32374891713521003, -0.3238423020704841, -0.3247656918989147, -0.32566961873345374, -0.33217372203353707, -0.3349474999600933, -0.3357192259877037, -0.33620567411464286, -0.3363011311948776, -0.3365677832300389, -0.3370698144629759, -0.3372166698970851, -0.33736364960582116, -0.33846277942686553, -0.33893716368329374, -0.34033803350888703, -0.34322883325797693, -0.3479661282946484, -0.3496217637763362, -0.3504955340097076, -0.35391144915546713, -0.3543950767299, -0.35530871090078564, -0.3557131845960627, -0.35621413902109283, -0.3572409967300617, -0.3576464756140218, -0.35814231199224156, -0.3594268818126217, -0.3603685044659176, -0.3612518765686598, -0.36141779072750346, -0.36149511305826776, -0.3637075418699047, -0.3647709883288704, -0.3651456187310086, -0.36549958773604746, -0.367867770082543, -0.36979487479146694, -0.36997330652615656, -0.37065781587321833, -0.37188363208508923, -0.3720712464649779, -0.3725246174791587, -0.3741113905857726, -0.37487541663214186, -0.3765130483936495, -0.3770045392571122, -0.37830993920155276, -0.37904312519700556, -0.37916669516105744, -0.3797246190040361, -0.3802248072692808, -0.3805829517214864, -0.38137434185811275, -0.38139966926843216, -0.38275453123783804, -0.3828721301448593, -0.38324830002303784, -0.3840574367068012, -0.3848752110497511, -0.38511278136715077, -0.38680337842145895, -0.3870088930739351, -0.38759071923778776, -0.3900058482648483, -0.39165746971073845, -0.393571533183396, -0.39386008406106676, -0.39640222058155206, -0.39725871294927645, -0.39762318984337786, -0.3995977204273729, -0.40058428696034654, -0.4008528334268859, -0.40115315785742417, -0.4031360172938938, -0.4037027197071569, -0.40599881537319915, -0.40608069510160916, -0.4075273271461095, -0.40771825158268993, -0.4083157579246251, -0.4092443713841649, -0.4101144843455635, -0.41013517432660673, -0.4103933504868254, -0.4106739336091622, -0.41105110475773526, -0.4149704261199883, -0.41520936086216265, -0.41668759267156763, -0.4173924823697352, -0.41834219413087625, -0.4208128608638036, -0.42144522437451576, -0.4215393126929983, -0.42269851335781516, -0.4241213854377994, -0.4248593061927449, -0.4271240783037835, -0.42766209765854246, -0.42767171119621483, -0.4285034119034359, -0.4294549770564495, -0.4306729306592306, -0.43267518564615803, -0.4329375258973172, -0.43329740747066264, -0.43348348496604033, -0.43377775257525875, -0.4372321714244561, -0.43914476597882834, -0.43934288154398643, -0.44179314758042154, -0.4421624819429151, -0.4443045549720485, -0.4443196451405673, -0.4444509061006758, -0.44448299587308526, -0.4448055747391292, -0.4448714057045422, -0.44491910446325866, -0.44539804753780626, -0.4462494431895739, -0.44834869684024936, -0.4487827383315519, -0.44893919474629707, -0.4495800342687628, -0.44995986731770204, -0.45010592529013005, -0.45038627300779654, -0.45100036518082676, -0.45122504740862956, -0.4518302312656539, -0.45367330019715135, -0.4548680094906636, -0.4573337192075583, -0.4577550355952673, -0.4580473118100618, -0.4588574475137798, -0.4590800872221339, -0.45995553986587245, -0.46061961841145027, -0.46070559205157857, -0.4619921595271598, -0.4622770064368557, -0.46299281719207847, -0.4630869780635737, -0.46321163177248537, -0.46339093198796383, -0.46502260069148205, -0.46703602944339245, -0.4672970777526009, -0.46750948448030616, -0.46878549079623066, -0.469115833001348, -0.46982044418763835, -0.4706509834900711, -0.47065273847105693, -0.4713936950953392, -0.47153453475637813, -0.47283527631143757, -0.4729532415689854, -0.47359199625134996, -0.47385549315704995, -0.4740639765908414, -0.4741059919057102, -0.4741773832163258], indices=[45959, 40218, 2136, 7337, 36514, 27826, 20723, 42523, 9059, 1924, 20562, 3942, 42054, 8158, 17715, 31528, 39334, 29999, 38597, 46350, 45747, 44368, 26299, 37672, 43483, 7047, 17859, 2783, 40833, 40045, 7766, 17673, 47292, 18243, 30327, 13691, 27010, 17437, 35942, 14592, 12088, 13135, 28104, 38709, 32031, 11686, 6861, 8354, 12274, 21669, 36287, 38691, 14012, 13709, 43433, 9249, 13743, 33130, 9900, 22314, 12976, 11433, 45476, 18117, 24328, 45116, 16243, 5782, 9473, 6737, 37623, 18404, 20916, 22250, 19125, 7892, 40551, 4844, 44318, 29482, 42022, 18994, 47529, 41009, 25134, 12245, 20197, 13418, 26460, 31189, 28794, 9589, 19319, 43210, 28326, 22447, 27235, 39886, 47800, 30085, 12777, 37238, 10250, 40046, 5796, 10259, 38706, 23487, 24430, 46863, 30012, 39914, 46485, 3393, 18811, 30490, 28922, 35408, 13991, 18192, 15909, 33871, 21657, 1990, 5693, 42824, 43244, 8153, 37902, 15475, 7639, 27583, 7825, 13605, 33694, 21164, 18645, 2435, 41681, 37004, 1249, 31393, 17920, 19759, 13016, 42670, 30857, 15496, 47198, 38282, 33041, 7333, 2567, 35694, 13453, 37884, 9684, 44957, 22303, 17471, 14140, 10958, 7839, 26054, 29764, 45368, 34490, 24825, 15910, 20320, 46640, 8028, 25085, 12279, 9901, 29752, 12615, 5670, 39050, 30764, 20654, 2208, 37288, 18992, 27375, 40398, 21783, 33667, 39958, 2690, 43889, 25621, 15163, 9416, 13335, 20270, 16984, 47360, 16252, 25053, 28652, 46669, 3402, 1250, 4818, 7082, 22138, 23208, 3555, 19543, 21373, 14969, 45728, 21581, 1114, 33165, 21821, 15946, 37820, 1539, 46962, 13227, 38121, 7266, 32273, 27559, 41917, 47960, 44290, 31368, 18131, 20510, 15104, 2323, 25887, 32835, 34807, 47209, 28606, 33688, 35543, 22684, 15875, 44539, 10243, 13912, 30777, 46271, 46966, 28327, 5606, 32153, 29605, 36142, 19103, 32807, 35478, 25660, 14237, 41325, 43163, 33631, 38801, 4447, 17121, 28185, 3283, 12005, 17946, 33456, 18398, 44464, 18253, 717, 2960, 43290, 6291, 33354, 28948, 31030, 6811, 46472, 44844, 33478, 17473, 10290, 327, 9063, 23472, 7432, 18622, 25021, 47423, 5541, 8261, 36502, 35005, 19908, 775, 1752])\n",
      "[('id', 46917), ('id', 41048), ('id', 2179), ('id', 7491), ('id', 37258), ('id', 28406), ('id', 21160), ('id', 43399), ('id', 9254), ('id', 1962), ('id', 20997), ('id', 4011), ('id', 42923), ('id', 8333), ('id', 18098), ('id', 32180), ('id', 40151), ('id', 30627), ('id', 39397), ('id', 47316), ('id', 46702), ('id', 45288), ('id', 26845), ('id', 38450), ('id', 44381), ('id', 7192), ('id', 18246), ('id', 2832), ('id', 41681), ('id', 40874), ('id', 7929), ('id', 18055), ('id', 48281), ('id', 18639), ('id', 30958), ('id', 13982), ('id', 27571), ('id', 17814), ('id', 36675), ('id', 14902), ('id', 12349), ('id', 13414), ('id', 28692), ('id', 39513), ('id', 32692), ('id', 11935), ('id', 6999), ('id', 8531), ('id', 12535), ('id', 22124), ('id', 37025), ('id', 39495), ('id', 14309), ('id', 14000), ('id', 44330), ('id', 9444), ('id', 14034), ('id', 33804), ('id', 10108), ('id', 22779), ('id', 13249), ('id', 11677), ('id', 46426), ('id', 18510), ('id', 24831), ('id', 46060), ('id', 16586), ('id', 5896), ('id', 9672), ('id', 6870), ('id', 38400), ('id', 18805), ('id', 21357), ('id', 22715), ('id', 19540), ('id', 8059), ('id', 41396), ('id', 4935), ('id', 45236), ('id', 30101), ('id', 42890), ('id', 19404), ('id', 48522), ('id', 41860), ('id', 25657), ('id', 12506), ('id', 20628), ('id', 13706), ('id', 27011), ('id', 31834), ('id', 29396), ('id', 9792), ('id', 19737), ('id', 44102), ('id', 28920), ('id', 22913), ('id', 27798), ('id', 40710), ('id', 48795), ('id', 30713), ('id', 13049), ('id', 38006), ('id', 10466), ('id', 40875), ('id', 5910), ('id', 10475), ('id', 39510), ('id', 23976), ('id', 24934), ('id', 47838), ('id', 30640), ('id', 40740), ('id', 47453), ('id', 3453), ('id', 19220), ('id', 31124), ('id', 29526), ('id', 36128), ('id', 14286), ('id', 18588), ('id', 16245), ('id', 34560), ('id', 22111), ('id', 2029), ('id', 5806), ('id', 43706), ('id', 44138), ('id', 8328), ('id', 38683), ('id', 15802), ('id', 7797), ('id', 28154), ('id', 7991), ('id', 13894), ('id', 34380), ('id', 21609), ('id', 19051), ('id', 2480), ('id', 42542), ('id', 37767), ('id', 1271), ('id', 32043), ('id', 18309), ('id', 20186), ('id', 13290), ('id', 43547), ('id', 31499), ('id', 15823), ('id', 48184), ('id', 39073), ('id', 33714), ('id', 7487), ('id', 2614), ('id', 36422), ('id', 13741), ('id', 38664), ('id', 9887), ('id', 45896), ('id', 22768), ('id', 17848), ('id', 14440), ('id', 11193), ('id', 8005), ('id', 26593), ('id', 30388), ('id', 46318), ('id', 35191), ('id', 25341), ('id', 16246), ('id', 20752), ('id', 47612), ('id', 8200), ('id', 25607), ('id', 12540), ('id', 10109), ('id', 30376), ('id', 12882), ('id', 5782), ('id', 39857), ('id', 31403), ('id', 21089), ('id', 2252), ('id', 38058), ('id', 19402), ('id', 27941), ('id', 41231), ('id', 22240), ('id', 34351), ('id', 40784), ('id', 2738), ('id', 44795), ('id', 26151), ('id', 15484), ('id', 9614), ('id', 13620), ('id', 20701), ('id', 17350), ('id', 48350), ('id', 16596), ('id', 25575), ('id', 29251), ('id', 47642), ('id', 3462), ('id', 1272), ('id', 4909), ('id', 7229), ('id', 22601), ('id', 23688), ('id', 3616), ('id', 19967), ('id', 21823), ('id', 15284), ('id', 46682), ('id', 22034), ('id', 1131), ('id', 33839), ('id', 22279), ('id', 16282), ('id', 38598), ('id', 1566), ('id', 47938), ('id', 13509), ('id', 38909), ('id', 7416), ('id', 32936), ('id', 28129), ('id', 42784), ('id', 48960), ('id', 45208), ('id', 32018), ('id', 18525), ('id', 20944), ('id', 15423), ('id', 2368), ('id', 26422), ('id', 33507), ('id', 35515), ('id', 48196), ('id', 29205), ('id', 34372), ('id', 36268), ('id', 23155), ('id', 16210), ('id', 45462), ('id', 10459), ('id', 14206), ('id', 31416), ('id', 47236), ('id', 47942), ('id', 28921), ('id', 5717), ('id', 32815), ('id', 30227), ('id', 36879), ('id', 19518), ('id', 33479), ('id', 36201), ('id', 26191), ('id', 14540), ('id', 42178), ('id', 44054), ('id', 34313), ('id', 39606), ('id', 4529), ('id', 17490), ('id', 28776), ('id', 3339), ('id', 12264), ('id', 18335), ('id', 34136), ('id', 18799), ('id', 45385), ('id', 18649), ('id', 729), ('id', 3012), ('id', 44186), ('id', 6415), ('id', 34032), ('id', 29553), ('id', 31673), ('id', 6946), ('id', 47440), ('id', 45779), ('id', 34158), ('id', 17850), ('id', 10506), ('id', 332), ('id', 9258), ('id', 23960), ('id', 7587), ('id', 19027), ('id', 25541), ('id', 48413), ('id', 5649), ('id', 8437), ('id', 37246), ('id', 35717), ('id', 20336), ('id', 787), ('id', 1784)]\n",
      "Acquiring (label, score)s: 3 (0.2962), 6 (0.1493), 3 (0.1404), 1 (0.1356), 1 (0.1255), 6 (0.1159), 1 (0.1082), 3 (0.1032), 9 (0.1003), 6 (0.0791), 7 (0.05956), 8 (0.0565), 7 (0.0481), 0 (-0.0003344), 0 (-0.02448), 0 (-0.05869), 2 (-0.06073), 3 (-0.06484), 3 (-0.07266), 6 (-0.08303), 1 (-0.08494), 7 (-0.08826), 3 (-0.09172), 2 (-0.09322), 0 (-0.0935), 2 (-0.1085), 5 (-0.1088), 8 (-0.1104), 8 (-0.1137), 0 (-0.1285), 4 (-0.137), 4 (-0.1441), 8 (-0.1464), 5 (-0.1471), 2 (-0.1544), 8 (-0.1718), 3 (-0.1719), 8 (-0.1743), 6 (-0.1749), 3 (-0.1779), 0 (-0.2), 5 (-0.2047), 3 (-0.2079), 0 (-0.2127), 1 (-0.218), 1 (-0.2185), 1 (-0.2238), 8 (-0.2282), 3 (-0.2308), 4 (-0.2346), 9 (-0.2365), 0 (-0.2387), 2 (-0.2394), 8 (-0.2395), 9 (-0.2409), 5 (-0.2444), 9 (-0.245), 8 (-0.2505), 8 (-0.2509), 9 (-0.2522), 6 (-0.253), 8 (-0.2536), 5 (-0.2563), 1 (-0.2571), 3 (-0.2571), 0 (-0.2581), 3 (-0.2585), 0 (-0.2598), 1 (-0.2605), 2 (-0.266), 1 (-0.2684), 0 (-0.269), 2 (-0.2714), 0 (-0.2716), 7 (-0.2725), 0 (-0.2728), 4 (-0.2729), 3 (-0.2746), 0 (-0.2748), 8 (-0.2748), 5 (-0.2787), 3 (-0.2788), 5 (-0.2799), 0 (-0.2805), 4 (-0.2833), 5 (-0.2863), 7 (-0.2864), 8 (-0.2864), 0 (-0.2868), 1 (-0.287), 7 (-0.2874), 2 (-0.2876), 1 (-0.2883), 1 (-0.2899), 6 (-0.2916), 1 (-0.2932), 2 (-0.2942), 9 (-0.2944), 9 (-0.2967), 9 (-0.297), 5 (-0.2995), 4 (-0.2998), 5 (-0.3002), 2 (-0.3019), 2 (-0.3028), 1 (-0.3029), 2 (-0.3038), 8 (-0.3068), 4 (-0.3082), 8 (-0.309), 4 (-0.309), 8 (-0.3096), 2 (-0.3099), 5 (-0.3103), 4 (-0.3112), 1 (-0.3153), 9 (-0.3155), 0 (-0.3156), 7 (-0.3174), 2 (-0.3185), 9 (-0.3186), 3 (-0.3189), 5 (-0.319), 9 (-0.3193), 2 (-0.3194), 5 (-0.3202), 2 (-0.3204), 6 (-0.3208), 3 (-0.3213), 4 (-0.3218), 7 (-0.3233), 8 (-0.3237), 0 (-0.3238), 5 (-0.3248), 8 (-0.3257), 5 (-0.3322), 2 (-0.3349), 7 (-0.3357), 8 (-0.3362), 0 (-0.3363), 0 (-0.3366), 2 (-0.3371), 4 (-0.3372), 6 (-0.3374), 6 (-0.3385), 9 (-0.3389), 1 (-0.3403), 1 (-0.3432), 3 (-0.348), 8 (-0.3496), 1 (-0.3505), 2 (-0.3539), 7 (-0.3544), 8 (-0.3553), 6 (-0.3557), 2 (-0.3562), 2 (-0.3572), 7 (-0.3576), 1 (-0.3581), 0 (-0.3594), 5 (-0.3604), 6 (-0.3613), 0 (-0.3614), 7 (-0.3615), 9 (-0.3637), 2 (-0.3648), 1 (-0.3651), 4 (-0.3655), 2 (-0.3679), 6 (-0.3698), 7 (-0.37), 1 (-0.3707), 8 (-0.3719), 4 (-0.3721), 6 (-0.3725), 8 (-0.3741), 0 (-0.3749), 7 (-0.3765), 5 (-0.377), 4 (-0.3783), 4 (-0.379), 0 (-0.3792), 5 (-0.3797), 4 (-0.3802), 2 (-0.3806), 9 (-0.3814), 4 (-0.3814), 9 (-0.3828), 0 (-0.3829), 0 (-0.3832), 7 (-0.3841), 3 (-0.3849), 9 (-0.3851), 8 (-0.3868), 8 (-0.387), 1 (-0.3876), 9 (-0.39), 0 (-0.3917), 6 (-0.3936), 1 (-0.3939), 9 (-0.3964), 5 (-0.3973), 5 (-0.3976), 3 (-0.3996), 5 (-0.4006), 1 (-0.4009), 0 (-0.4012), 7 (-0.4031), 5 (-0.4037), 5 (-0.406), 1 (-0.4061), 2 (-0.4075), 3 (-0.4077), 5 (-0.4083), 3 (-0.4092), 2 (-0.4101), 2 (-0.4101), 0 (-0.4104), 1 (-0.4107), 5 (-0.4111), 1 (-0.415), 3 (-0.4152), 0 (-0.4167), 8 (-0.4174), 1 (-0.4183), 4 (-0.4208), 0 (-0.4214), 6 (-0.4215), 2 (-0.4227), 3 (-0.4241), 9 (-0.4249), 7 (-0.4271), 8 (-0.4277), 8 (-0.4277), 1 (-0.4285), 7 (-0.4295), 7 (-0.4307), 5 (-0.4327), 5 (-0.4329), 3 (-0.4333), 6 (-0.4335), 2 (-0.4338), 8 (-0.4372), 4 (-0.4391), 9 (-0.4393), 4 (-0.4418), 8 (-0.4422), 3 (-0.4443), 0 (-0.4443), 9 (-0.4445), 1 (-0.4445), 4 (-0.4448), 1 (-0.4449), 8 (-0.4449), 1 (-0.4454), 5 (-0.4462), 0 (-0.4483), 5 (-0.4488), 2 (-0.4489), 9 (-0.4496), 9 (-0.45), 4 (-0.4501), 9 (-0.4504), 9 (-0.451), 3 (-0.4512), 5 (-0.4518), 2 (-0.4537), 9 (-0.4549), 0 (-0.4573), 1 (-0.4578), 8 (-0.458), 9 (-0.4589), 6 (-0.4591), 6 (-0.46), 3 (-0.4606), 9 (-0.4607), 6 (-0.462), 9 (-0.4623), 2 (-0.463), 2 (-0.4631), 9 (-0.4632), 8 (-0.4634), 8 (-0.465), 5 (-0.467), 4 (-0.4673), 5 (-0.4675), 2 (-0.4688), 7 (-0.4691), 8 (-0.4698), 0 (-0.4707), 4 (-0.4707), 9 (-0.4714), 2 (-0.4715), 3 (-0.4728), 3 (-0.473), 0 (-0.4736), 7 (-0.4739), 7 (-0.4741), 3 (-0.4741), 7 (-0.4742)\n",
      "Training set size 1300:\n",
      "NeurIPS Workshop Style\n",
      "Limit schedule/max epochs updated: [40, 60], 60\n"
     ]
    },
    {
     "data": {
      "application/vnd.jupyter.widget-view+json": {
       "model_id": "065ec169535e46c79955134409b8658e",
       "version_major": 2,
       "version_minor": 0
      },
      "text/plain": [
       "  2%|1         | 1/60 [00:00<?, ?it/s]"
      ]
     },
     "metadata": {},
     "output_type": "display_data"
    },
    {
     "data": {
      "application/vnd.jupyter.widget-view+json": {
       "model_id": "",
       "version_major": 2,
       "version_minor": 0
      },
      "text/plain": [
       "[1/10]  10%|#          [00:00<?]"
      ]
     },
     "metadata": {},
     "output_type": "display_data"
    },
    {
     "name": "stdout",
     "output_type": "stream",
     "text": [
      "Epoch metrics: {'accuracy': 0.146484375, 'crossentropy': 2.2959184646606445}\n"
     ]
    },
    {
     "data": {
      "application/vnd.jupyter.widget-view+json": {
       "model_id": "",
       "version_major": 2,
       "version_minor": 0
      },
      "text/plain": [
       "[1/10]  10%|#          [00:00<?]"
      ]
     },
     "metadata": {},
     "output_type": "display_data"
    },
    {
     "name": "stdout",
     "output_type": "stream",
     "text": [
      "Epoch metrics: {'accuracy': 0.2080078125, 'crossentropy': 2.1239328384399414}\n"
     ]
    },
    {
     "data": {
      "application/vnd.jupyter.widget-view+json": {
       "model_id": "",
       "version_major": 2,
       "version_minor": 0
      },
      "text/plain": [
       "[1/10]  10%|#          [00:00<?]"
      ]
     },
     "metadata": {},
     "output_type": "display_data"
    },
    {
     "name": "stdout",
     "output_type": "stream",
     "text": [
      "Epoch metrics: {'accuracy': 0.2490234375, 'crossentropy': 1.9910898208618164}\n"
     ]
    },
    {
     "data": {
      "application/vnd.jupyter.widget-view+json": {
       "model_id": "",
       "version_major": 2,
       "version_minor": 0
      },
      "text/plain": [
       "[1/10]  10%|#          [00:00<?]"
      ]
     },
     "metadata": {},
     "output_type": "display_data"
    },
    {
     "name": "stdout",
     "output_type": "stream",
     "text": [
      "Epoch metrics: {'accuracy': 0.2744140625, 'crossentropy': 1.8992671966552734}\n"
     ]
    },
    {
     "data": {
      "application/vnd.jupyter.widget-view+json": {
       "model_id": "",
       "version_major": 2,
       "version_minor": 0
      },
      "text/plain": [
       "[1/10]  10%|#          [00:00<?]"
      ]
     },
     "metadata": {},
     "output_type": "display_data"
    },
    {
     "name": "stdout",
     "output_type": "stream",
     "text": [
      "Epoch metrics: {'accuracy': 0.3076171875, 'crossentropy': 1.8491034507751465}\n"
     ]
    },
    {
     "data": {
      "application/vnd.jupyter.widget-view+json": {
       "model_id": "",
       "version_major": 2,
       "version_minor": 0
      },
      "text/plain": [
       "[1/10]  10%|#          [00:00<?]"
      ]
     },
     "metadata": {},
     "output_type": "display_data"
    },
    {
     "name": "stdout",
     "output_type": "stream",
     "text": [
      "Epoch metrics: {'accuracy': 0.2958984375, 'crossentropy': 2.0256447792053223}\n",
      "Epoch 6: 0.2958984375 worse than 0.3076171875, patience: 1/20!\n"
     ]
    },
    {
     "data": {
      "application/vnd.jupyter.widget-view+json": {
       "model_id": "",
       "version_major": 2,
       "version_minor": 0
      },
      "text/plain": [
       "[1/10]  10%|#          [00:00<?]"
      ]
     },
     "metadata": {},
     "output_type": "display_data"
    },
    {
     "name": "stdout",
     "output_type": "stream",
     "text": [
      "Epoch metrics: {'accuracy': 0.33203125, 'crossentropy': 1.8950735330581665}\n"
     ]
    },
    {
     "data": {
      "application/vnd.jupyter.widget-view+json": {
       "model_id": "",
       "version_major": 2,
       "version_minor": 0
      },
      "text/plain": [
       "[1/10]  10%|#          [00:00<?]"
      ]
     },
     "metadata": {},
     "output_type": "display_data"
    },
    {
     "name": "stdout",
     "output_type": "stream",
     "text": [
      "Epoch metrics: {'accuracy': 0.3349609375, 'crossentropy': 1.7935713529586792}\n"
     ]
    },
    {
     "data": {
      "application/vnd.jupyter.widget-view+json": {
       "model_id": "",
       "version_major": 2,
       "version_minor": 0
      },
      "text/plain": [
       "[1/10]  10%|#          [00:00<?]"
      ]
     },
     "metadata": {},
     "output_type": "display_data"
    },
    {
     "name": "stdout",
     "output_type": "stream",
     "text": [
      "Epoch metrics: {'accuracy': 0.3544921875, 'crossentropy': 1.7524700164794922}\n"
     ]
    },
    {
     "data": {
      "application/vnd.jupyter.widget-view+json": {
       "model_id": "",
       "version_major": 2,
       "version_minor": 0
      },
      "text/plain": [
       "[1/10]  10%|#          [00:00<?]"
      ]
     },
     "metadata": {},
     "output_type": "display_data"
    },
    {
     "name": "stdout",
     "output_type": "stream",
     "text": [
      "Epoch metrics: {'accuracy': 0.3056640625, 'crossentropy': 1.8755322694778442}\n",
      "Epoch 10: 0.3056640625 worse than 0.3544921875, patience: 1/20!\n"
     ]
    },
    {
     "data": {
      "application/vnd.jupyter.widget-view+json": {
       "model_id": "",
       "version_major": 2,
       "version_minor": 0
      },
      "text/plain": [
       "[1/10]  10%|#          [00:00<?]"
      ]
     },
     "metadata": {},
     "output_type": "display_data"
    },
    {
     "name": "stdout",
     "output_type": "stream",
     "text": [
      "Epoch metrics: {'accuracy': 0.35546875, 'crossentropy': 1.9226657152175903}\n"
     ]
    },
    {
     "data": {
      "application/vnd.jupyter.widget-view+json": {
       "model_id": "",
       "version_major": 2,
       "version_minor": 0
      },
      "text/plain": [
       "[1/10]  10%|#          [00:00<?]"
      ]
     },
     "metadata": {},
     "output_type": "display_data"
    },
    {
     "name": "stdout",
     "output_type": "stream",
     "text": [
      "Epoch metrics: {'accuracy': 0.3798828125, 'crossentropy': 1.6950584650039673}\n"
     ]
    },
    {
     "data": {
      "application/vnd.jupyter.widget-view+json": {
       "model_id": "",
       "version_major": 2,
       "version_minor": 0
      },
      "text/plain": [
       "[1/10]  10%|#          [00:00<?]"
      ]
     },
     "metadata": {},
     "output_type": "display_data"
    },
    {
     "name": "stdout",
     "output_type": "stream",
     "text": [
      "Epoch metrics: {'accuracy': 0.400390625, 'crossentropy': 1.6901555061340332}\n"
     ]
    },
    {
     "data": {
      "application/vnd.jupyter.widget-view+json": {
       "model_id": "",
       "version_major": 2,
       "version_minor": 0
      },
      "text/plain": [
       "[1/10]  10%|#          [00:00<?]"
      ]
     },
     "metadata": {},
     "output_type": "display_data"
    },
    {
     "name": "stdout",
     "output_type": "stream",
     "text": [
      "Epoch metrics: {'accuracy': 0.3671875, 'crossentropy': 1.81807541847229}\n",
      "Epoch 14: 0.3671875 worse than 0.400390625, patience: 1/20!\n"
     ]
    },
    {
     "data": {
      "application/vnd.jupyter.widget-view+json": {
       "model_id": "",
       "version_major": 2,
       "version_minor": 0
      },
      "text/plain": [
       "[1/10]  10%|#          [00:00<?]"
      ]
     },
     "metadata": {},
     "output_type": "display_data"
    },
    {
     "name": "stderr",
     "output_type": "stream",
     "text": [
      "Exception ignored in: <function _MultiProcessingDataLoaderIter.__del__ at 0x7f70d1c2b3a0>\n",
      "Traceback (most recent call last):\n",
      "  File \"/home/blackhc/anaconda3/envs/active_learning/lib/python3.8/site-packages/torch/utils/data/dataloader.py\", line 1328, in __del__\n",
      "    self._shutdown_workers()\n",
      "  File \"/home/blackhc/anaconda3/envs/active_learning/lib/python3.8/site-packages/torch/utils/data/dataloader.py\", line 1301, in _shutdown_workers\n",
      "    w.join(timeout=_utils.MP_STATUS_CHECK_INTERVAL)\n",
      "  File \"/home/blackhc/anaconda3/envs/active_learning/lib/python3.8/multiprocessing/process.py\", line 149, in join\n",
      "    res = self._popen.wait(timeout)\n",
      "  File \"/home/blackhc/anaconda3/envs/active_learning/lib/python3.8/multiprocessing/popen_fork.py\", line 44, in wait\n",
      "    if not wait([self.sentinel], timeout):\n",
      "  File \"/home/blackhc/anaconda3/envs/active_learning/lib/python3.8/multiprocessing/connection.py\", line 931, in wait\n",
      "    ready = selector.select(timeout)\n",
      "  File \"/home/blackhc/anaconda3/envs/active_learning/lib/python3.8/selectors.py\", line 415, in select\n",
      "    fd_event_list = self._selector.poll(timeout)\n",
      "KeyboardInterrupt: \n"
     ]
    },
    {
     "name": "stdout",
     "output_type": "stream",
     "text": [
      "Epoch metrics: {'accuracy': 0.376953125, 'crossentropy': 1.8140383958816528}\n",
      "Epoch 15: 0.376953125 worse than 0.400390625, patience: 2/20!\n"
     ]
    },
    {
     "data": {
      "application/vnd.jupyter.widget-view+json": {
       "model_id": "",
       "version_major": 2,
       "version_minor": 0
      },
      "text/plain": [
       "[1/10]  10%|#          [00:00<?]"
      ]
     },
     "metadata": {},
     "output_type": "display_data"
    },
    {
     "name": "stdout",
     "output_type": "stream",
     "text": [
      "Epoch metrics: {'accuracy': 0.4150390625, 'crossentropy': 1.6661734580993652}\n"
     ]
    },
    {
     "data": {
      "application/vnd.jupyter.widget-view+json": {
       "model_id": "",
       "version_major": 2,
       "version_minor": 0
      },
      "text/plain": [
       "[1/10]  10%|#          [00:00<?]"
      ]
     },
     "metadata": {},
     "output_type": "display_data"
    },
    {
     "name": "stdout",
     "output_type": "stream",
     "text": [
      "Epoch metrics: {'accuracy': 0.396484375, 'crossentropy': 1.8092057704925537}\n",
      "Epoch 17: 0.396484375 worse than 0.4150390625, patience: 1/20!\n"
     ]
    },
    {
     "data": {
      "application/vnd.jupyter.widget-view+json": {
       "model_id": "",
       "version_major": 2,
       "version_minor": 0
      },
      "text/plain": [
       "[1/10]  10%|#          [00:00<?]"
      ]
     },
     "metadata": {},
     "output_type": "display_data"
    },
    {
     "name": "stdout",
     "output_type": "stream",
     "text": [
      "Epoch metrics: {'accuracy': 0.40625, 'crossentropy': 1.7282845973968506}\n",
      "Epoch 18: 0.40625 worse than 0.4150390625, patience: 2/20!\n"
     ]
    },
    {
     "data": {
      "application/vnd.jupyter.widget-view+json": {
       "model_id": "",
       "version_major": 2,
       "version_minor": 0
      },
      "text/plain": [
       "[1/10]  10%|#          [00:00<?]"
      ]
     },
     "metadata": {},
     "output_type": "display_data"
    },
    {
     "name": "stdout",
     "output_type": "stream",
     "text": [
      "Epoch metrics: {'accuracy': 0.431640625, 'crossentropy': 1.7795724868774414}\n"
     ]
    },
    {
     "name": "stderr",
     "output_type": "stream",
     "text": [
      "Engine run is terminating due to exception: \n"
     ]
    },
    {
     "ename": "KeyboardInterrupt",
     "evalue": "",
     "output_type": "error",
     "traceback": [
      "\u001b[0;31m---------------------------------------------------------------------------\u001b[0m",
      "\u001b[0;31mKeyboardInterrupt\u001b[0m                         Traceback (most recent call last)",
      "\u001b[0;32m<ipython-input-6-b6f2f96a2e05>\u001b[0m in \u001b[0;36m<module>\u001b[0;34m\u001b[0m\n\u001b[1;32m      3\u001b[0m \u001b[0mconfigs\u001b[0m\u001b[0;34m[\u001b[0m\u001b[0;36m3\u001b[0m\u001b[0;34m]\u001b[0m\u001b[0;34m.\u001b[0m\u001b[0mmax_training_epochs\u001b[0m \u001b[0;34m=\u001b[0m \u001b[0;36m1\u001b[0m\u001b[0;34m\u001b[0m\u001b[0;34m\u001b[0m\u001b[0m\n\u001b[1;32m      4\u001b[0m \u001b[0mconfigs\u001b[0m\u001b[0;34m[\u001b[0m\u001b[0;36m3\u001b[0m\u001b[0;34m]\u001b[0m\u001b[0;34m.\u001b[0m\u001b[0mnum_pool_samples\u001b[0m \u001b[0;34m=\u001b[0m \u001b[0;36m5\u001b[0m\u001b[0;34m\u001b[0m\u001b[0;34m\u001b[0m\u001b[0m\n\u001b[0;32m----> 5\u001b[0;31m \u001b[0mconfigs\u001b[0m\u001b[0;34m[\u001b[0m\u001b[0;36m3\u001b[0m\u001b[0;34m]\u001b[0m\u001b[0;34m.\u001b[0m\u001b[0mrun\u001b[0m\u001b[0;34m(\u001b[0m\u001b[0mstore\u001b[0m\u001b[0;34m)\u001b[0m\u001b[0;34m\u001b[0m\u001b[0;34m\u001b[0m\u001b[0m\n\u001b[0m",
      "\u001b[0;32m~/PycharmProjects/bald-ical/batchbald_redux/unified_experiment.py\u001b[0m in \u001b[0;36mrun\u001b[0;34m(self, store)\u001b[0m\n\u001b[1;32m    269\u001b[0m         )\n\u001b[1;32m    270\u001b[0m \u001b[0;34m\u001b[0m\u001b[0m\n\u001b[0;32m--> 271\u001b[0;31m         \u001b[0mactive_learner\u001b[0m\u001b[0;34m(\u001b[0m\u001b[0mstore\u001b[0m\u001b[0;34m)\u001b[0m\u001b[0;34m\u001b[0m\u001b[0;34m\u001b[0m\u001b[0m\n\u001b[0m\u001b[1;32m    272\u001b[0m \u001b[0;34m\u001b[0m\u001b[0m\n\u001b[1;32m    273\u001b[0m \u001b[0;31m# Cell\u001b[0m\u001b[0;34m\u001b[0m\u001b[0;34m\u001b[0m\u001b[0;34m\u001b[0m\u001b[0m\n",
      "\u001b[0;32m~/PycharmProjects/bald-ical/batchbald_redux/unified_experiment.py\u001b[0m in \u001b[0;36m__call__\u001b[0;34m(self, log)\u001b[0m\n\u001b[1;32m    104\u001b[0m                 \u001b[0mloss\u001b[0m \u001b[0;34m=\u001b[0m \u001b[0mvalidation_loss\u001b[0m \u001b[0;34m=\u001b[0m \u001b[0mtorch\u001b[0m\u001b[0;34m.\u001b[0m\u001b[0mnn\u001b[0m\u001b[0;34m.\u001b[0m\u001b[0mNLLLoss\u001b[0m\u001b[0;34m(\u001b[0m\u001b[0;34m)\u001b[0m\u001b[0;34m\u001b[0m\u001b[0;34m\u001b[0m\u001b[0m\n\u001b[1;32m    105\u001b[0m \u001b[0;34m\u001b[0m\u001b[0m\n\u001b[0;32m--> 106\u001b[0;31m             trained_model = model_trainer.get_trained(\n\u001b[0m\u001b[1;32m    107\u001b[0m                 \u001b[0mtrain_loader\u001b[0m\u001b[0;34m=\u001b[0m\u001b[0mtrain_loader\u001b[0m\u001b[0;34m,\u001b[0m\u001b[0;34m\u001b[0m\u001b[0;34m\u001b[0m\u001b[0m\n\u001b[1;32m    108\u001b[0m                 \u001b[0mtrain_augmentations\u001b[0m\u001b[0;34m=\u001b[0m\u001b[0mtrain_augmentations\u001b[0m\u001b[0;34m,\u001b[0m\u001b[0;34m\u001b[0m\u001b[0;34m\u001b[0m\u001b[0m\n",
      "\u001b[0;32m~/PycharmProjects/bald-ical/batchbald_redux/trained_model.py\u001b[0m in \u001b[0;36mget_trained\u001b[0;34m(self, train_loader, train_augmentations, validation_loader, log, loss, validation_loss)\u001b[0m\n\u001b[1;32m    252\u001b[0m         \u001b[0;32mfor\u001b[0m \u001b[0mi\u001b[0m \u001b[0;32min\u001b[0m \u001b[0mrange\u001b[0m\u001b[0;34m(\u001b[0m\u001b[0mself\u001b[0m\u001b[0;34m.\u001b[0m\u001b[0mensemble_size\u001b[0m\u001b[0;34m)\u001b[0m\u001b[0;34m:\u001b[0m\u001b[0;34m\u001b[0m\u001b[0;34m\u001b[0m\u001b[0m\n\u001b[1;32m    253\u001b[0m             \u001b[0mlog\u001b[0m\u001b[0;34m[\u001b[0m\u001b[0;34m\"ensemble\"\u001b[0m\u001b[0;34m]\u001b[0m\u001b[0;34m.\u001b[0m\u001b[0mappend\u001b[0m\u001b[0;34m(\u001b[0m\u001b[0;34m{\u001b[0m\u001b[0;34m}\u001b[0m\u001b[0;34m)\u001b[0m\u001b[0;34m\u001b[0m\u001b[0;34m\u001b[0m\u001b[0m\n\u001b[0;32m--> 254\u001b[0;31m             model = self.model_trainer.get_trained(\n\u001b[0m\u001b[1;32m    255\u001b[0m                 \u001b[0mtrain_loader\u001b[0m\u001b[0;34m=\u001b[0m\u001b[0mtrain_loader\u001b[0m\u001b[0;34m,\u001b[0m\u001b[0;34m\u001b[0m\u001b[0;34m\u001b[0m\u001b[0m\n\u001b[1;32m    256\u001b[0m                 \u001b[0mtrain_augmentations\u001b[0m\u001b[0;34m=\u001b[0m\u001b[0mtrain_augmentations\u001b[0m\u001b[0;34m,\u001b[0m\u001b[0;34m\u001b[0m\u001b[0;34m\u001b[0m\u001b[0m\n",
      "\u001b[0;32m~/PycharmProjects/bald-ical/batchbald_redux/resnet_models.py\u001b[0m in \u001b[0;36mget_trained\u001b[0;34m(self, train_loader, train_augmentations, validation_loader, log, loss, validation_loss)\u001b[0m\n\u001b[1;32m    446\u001b[0m \u001b[0;34m\u001b[0m\u001b[0m\n\u001b[1;32m    447\u001b[0m         \u001b[0mprint\u001b[0m\u001b[0;34m(\u001b[0m\u001b[0;34m\"NeurIPS Workshop Style\"\u001b[0m\u001b[0;34m)\u001b[0m\u001b[0;34m\u001b[0m\u001b[0;34m\u001b[0m\u001b[0m\n\u001b[0;32m--> 448\u001b[0;31m         train_with_schedule(\n\u001b[0m\u001b[1;32m    449\u001b[0m             \u001b[0mmodel\u001b[0m\u001b[0;34m=\u001b[0m\u001b[0mmodel_optimizer\u001b[0m\u001b[0;34m.\u001b[0m\u001b[0mmodel\u001b[0m\u001b[0;34m,\u001b[0m\u001b[0;34m\u001b[0m\u001b[0;34m\u001b[0m\u001b[0m\n\u001b[1;32m    450\u001b[0m             \u001b[0moptimizer\u001b[0m\u001b[0;34m=\u001b[0m\u001b[0mmodel_optimizer\u001b[0m\u001b[0;34m.\u001b[0m\u001b[0moptimizer\u001b[0m\u001b[0;34m,\u001b[0m\u001b[0;34m\u001b[0m\u001b[0;34m\u001b[0m\u001b[0m\n",
      "\u001b[0;32m~/PycharmProjects/bald-ical/batchbald_redux/black_box_model_training.py\u001b[0m in \u001b[0;36mtrain_with_schedule\u001b[0;34m(model, training_samples, validation_samples, train_loader, validation_loader, patience_schedule, factor_schedule, max_epochs, device, training_log, loss, validation_loss, optimizer, prefer_accuracy, train_augmentations, limit_schedule)\u001b[0m\n\u001b[1;32m    267\u001b[0m \u001b[0;34m\u001b[0m\u001b[0m\n\u001b[1;32m    268\u001b[0m     \u001b[0;31m# Kick everything off\u001b[0m\u001b[0;34m\u001b[0m\u001b[0;34m\u001b[0m\u001b[0;34m\u001b[0m\u001b[0m\n\u001b[0;32m--> 269\u001b[0;31m     \u001b[0mtrainer\u001b[0m\u001b[0;34m.\u001b[0m\u001b[0mrun\u001b[0m\u001b[0;34m(\u001b[0m\u001b[0mtrain_loader\u001b[0m\u001b[0;34m,\u001b[0m \u001b[0mmax_epochs\u001b[0m\u001b[0;34m=\u001b[0m\u001b[0mmax_epochs\u001b[0m\u001b[0;34m)\u001b[0m\u001b[0;34m\u001b[0m\u001b[0;34m\u001b[0m\u001b[0m\n\u001b[0m\u001b[1;32m    270\u001b[0m \u001b[0;34m\u001b[0m\u001b[0m\n\u001b[1;32m    271\u001b[0m     \u001b[0;31m# Return the optimizer in case we want to continue training.\u001b[0m\u001b[0;34m\u001b[0m\u001b[0;34m\u001b[0m\u001b[0;34m\u001b[0m\u001b[0m\n",
      "\u001b[0;32m~/anaconda3/envs/active_learning/lib/python3.8/site-packages/ignite/engine/engine.py\u001b[0m in \u001b[0;36mrun\u001b[0;34m(self, data, max_epochs, epoch_length, seed)\u001b[0m\n\u001b[1;32m    696\u001b[0m \u001b[0;34m\u001b[0m\u001b[0m\n\u001b[1;32m    697\u001b[0m         \u001b[0mself\u001b[0m\u001b[0;34m.\u001b[0m\u001b[0mstate\u001b[0m\u001b[0;34m.\u001b[0m\u001b[0mdataloader\u001b[0m \u001b[0;34m=\u001b[0m \u001b[0mdata\u001b[0m\u001b[0;34m\u001b[0m\u001b[0;34m\u001b[0m\u001b[0m\n\u001b[0;32m--> 698\u001b[0;31m         \u001b[0;32mreturn\u001b[0m \u001b[0mself\u001b[0m\u001b[0;34m.\u001b[0m\u001b[0m_internal_run\u001b[0m\u001b[0;34m(\u001b[0m\u001b[0;34m)\u001b[0m\u001b[0;34m\u001b[0m\u001b[0;34m\u001b[0m\u001b[0m\n\u001b[0m\u001b[1;32m    699\u001b[0m \u001b[0;34m\u001b[0m\u001b[0m\n\u001b[1;32m    700\u001b[0m     \u001b[0;34m@\u001b[0m\u001b[0mstaticmethod\u001b[0m\u001b[0;34m\u001b[0m\u001b[0;34m\u001b[0m\u001b[0m\n",
      "\u001b[0;32m~/anaconda3/envs/active_learning/lib/python3.8/site-packages/ignite/engine/engine.py\u001b[0m in \u001b[0;36m_internal_run\u001b[0;34m(self)\u001b[0m\n\u001b[1;32m    769\u001b[0m             \u001b[0mself\u001b[0m\u001b[0;34m.\u001b[0m\u001b[0m_dataloader_iter\u001b[0m \u001b[0;34m=\u001b[0m \u001b[0;32mNone\u001b[0m\u001b[0;34m\u001b[0m\u001b[0;34m\u001b[0m\u001b[0m\n\u001b[1;32m    770\u001b[0m             \u001b[0mself\u001b[0m\u001b[0;34m.\u001b[0m\u001b[0mlogger\u001b[0m\u001b[0;34m.\u001b[0m\u001b[0merror\u001b[0m\u001b[0;34m(\u001b[0m\u001b[0;34mf\"Engine run is terminating due to exception: {e}\"\u001b[0m\u001b[0;34m)\u001b[0m\u001b[0;34m\u001b[0m\u001b[0;34m\u001b[0m\u001b[0m\n\u001b[0;32m--> 771\u001b[0;31m             \u001b[0mself\u001b[0m\u001b[0;34m.\u001b[0m\u001b[0m_handle_exception\u001b[0m\u001b[0;34m(\u001b[0m\u001b[0me\u001b[0m\u001b[0;34m)\u001b[0m\u001b[0;34m\u001b[0m\u001b[0;34m\u001b[0m\u001b[0m\n\u001b[0m\u001b[1;32m    772\u001b[0m \u001b[0;34m\u001b[0m\u001b[0m\n\u001b[1;32m    773\u001b[0m         \u001b[0mself\u001b[0m\u001b[0;34m.\u001b[0m\u001b[0m_dataloader_iter\u001b[0m \u001b[0;34m=\u001b[0m \u001b[0;32mNone\u001b[0m\u001b[0;34m\u001b[0m\u001b[0;34m\u001b[0m\u001b[0m\n",
      "\u001b[0;32m~/anaconda3/envs/active_learning/lib/python3.8/site-packages/ignite/engine/engine.py\u001b[0m in \u001b[0;36m_handle_exception\u001b[0;34m(self, e)\u001b[0m\n\u001b[1;32m    464\u001b[0m             \u001b[0mself\u001b[0m\u001b[0;34m.\u001b[0m\u001b[0m_fire_event\u001b[0m\u001b[0;34m(\u001b[0m\u001b[0mEvents\u001b[0m\u001b[0;34m.\u001b[0m\u001b[0mEXCEPTION_RAISED\u001b[0m\u001b[0;34m,\u001b[0m \u001b[0me\u001b[0m\u001b[0;34m)\u001b[0m\u001b[0;34m\u001b[0m\u001b[0;34m\u001b[0m\u001b[0m\n\u001b[1;32m    465\u001b[0m         \u001b[0;32melse\u001b[0m\u001b[0;34m:\u001b[0m\u001b[0;34m\u001b[0m\u001b[0;34m\u001b[0m\u001b[0m\n\u001b[0;32m--> 466\u001b[0;31m             \u001b[0;32mraise\u001b[0m \u001b[0me\u001b[0m\u001b[0;34m\u001b[0m\u001b[0;34m\u001b[0m\u001b[0m\n\u001b[0m\u001b[1;32m    467\u001b[0m \u001b[0;34m\u001b[0m\u001b[0m\n\u001b[1;32m    468\u001b[0m     \u001b[0;34m@\u001b[0m\u001b[0mproperty\u001b[0m\u001b[0;34m\u001b[0m\u001b[0;34m\u001b[0m\u001b[0m\n",
      "\u001b[0;32m~/anaconda3/envs/active_learning/lib/python3.8/site-packages/ignite/engine/engine.py\u001b[0m in \u001b[0;36m_internal_run\u001b[0;34m(self)\u001b[0m\n\u001b[1;32m    739\u001b[0m                     \u001b[0mself\u001b[0m\u001b[0;34m.\u001b[0m\u001b[0m_setup_engine\u001b[0m\u001b[0;34m(\u001b[0m\u001b[0;34m)\u001b[0m\u001b[0;34m\u001b[0m\u001b[0;34m\u001b[0m\u001b[0m\n\u001b[1;32m    740\u001b[0m \u001b[0;34m\u001b[0m\u001b[0m\n\u001b[0;32m--> 741\u001b[0;31m                 \u001b[0mtime_taken\u001b[0m \u001b[0;34m=\u001b[0m \u001b[0mself\u001b[0m\u001b[0;34m.\u001b[0m\u001b[0m_run_once_on_dataset\u001b[0m\u001b[0;34m(\u001b[0m\u001b[0;34m)\u001b[0m\u001b[0;34m\u001b[0m\u001b[0;34m\u001b[0m\u001b[0m\n\u001b[0m\u001b[1;32m    742\u001b[0m                 \u001b[0;31m# time is available for handlers but must be update after fire\u001b[0m\u001b[0;34m\u001b[0m\u001b[0;34m\u001b[0m\u001b[0;34m\u001b[0m\u001b[0m\n\u001b[1;32m    743\u001b[0m                 \u001b[0mself\u001b[0m\u001b[0;34m.\u001b[0m\u001b[0mstate\u001b[0m\u001b[0;34m.\u001b[0m\u001b[0mtimes\u001b[0m\u001b[0;34m[\u001b[0m\u001b[0mEvents\u001b[0m\u001b[0;34m.\u001b[0m\u001b[0mEPOCH_COMPLETED\u001b[0m\u001b[0;34m.\u001b[0m\u001b[0mname\u001b[0m\u001b[0;34m]\u001b[0m \u001b[0;34m=\u001b[0m \u001b[0mtime_taken\u001b[0m\u001b[0;34m\u001b[0m\u001b[0;34m\u001b[0m\u001b[0m\n",
      "\u001b[0;32m~/anaconda3/envs/active_learning/lib/python3.8/site-packages/ignite/engine/engine.py\u001b[0m in \u001b[0;36m_run_once_on_dataset\u001b[0;34m(self)\u001b[0m\n\u001b[1;32m    829\u001b[0m                 \u001b[0mself\u001b[0m\u001b[0;34m.\u001b[0m\u001b[0mstate\u001b[0m\u001b[0;34m.\u001b[0m\u001b[0miteration\u001b[0m \u001b[0;34m+=\u001b[0m \u001b[0;36m1\u001b[0m\u001b[0;34m\u001b[0m\u001b[0;34m\u001b[0m\u001b[0m\n\u001b[1;32m    830\u001b[0m                 \u001b[0mself\u001b[0m\u001b[0;34m.\u001b[0m\u001b[0m_fire_event\u001b[0m\u001b[0;34m(\u001b[0m\u001b[0mEvents\u001b[0m\u001b[0;34m.\u001b[0m\u001b[0mITERATION_STARTED\u001b[0m\u001b[0;34m)\u001b[0m\u001b[0;34m\u001b[0m\u001b[0;34m\u001b[0m\u001b[0m\n\u001b[0;32m--> 831\u001b[0;31m                 \u001b[0mself\u001b[0m\u001b[0;34m.\u001b[0m\u001b[0mstate\u001b[0m\u001b[0;34m.\u001b[0m\u001b[0moutput\u001b[0m \u001b[0;34m=\u001b[0m \u001b[0mself\u001b[0m\u001b[0;34m.\u001b[0m\u001b[0m_process_function\u001b[0m\u001b[0;34m(\u001b[0m\u001b[0mself\u001b[0m\u001b[0;34m,\u001b[0m \u001b[0mself\u001b[0m\u001b[0;34m.\u001b[0m\u001b[0mstate\u001b[0m\u001b[0;34m.\u001b[0m\u001b[0mbatch\u001b[0m\u001b[0;34m)\u001b[0m\u001b[0;34m\u001b[0m\u001b[0;34m\u001b[0m\u001b[0m\n\u001b[0m\u001b[1;32m    832\u001b[0m                 \u001b[0mself\u001b[0m\u001b[0;34m.\u001b[0m\u001b[0m_fire_event\u001b[0m\u001b[0;34m(\u001b[0m\u001b[0mEvents\u001b[0m\u001b[0;34m.\u001b[0m\u001b[0mITERATION_COMPLETED\u001b[0m\u001b[0;34m)\u001b[0m\u001b[0;34m\u001b[0m\u001b[0;34m\u001b[0m\u001b[0m\n\u001b[1;32m    833\u001b[0m \u001b[0;34m\u001b[0m\u001b[0m\n",
      "\u001b[0;32m~/anaconda3/envs/active_learning/lib/python3.8/site-packages/ignite/engine/__init__.py\u001b[0m in \u001b[0;36mupdate\u001b[0;34m(engine, batch)\u001b[0m\n\u001b[1;32m    108\u001b[0m             \u001b[0moptimizer\u001b[0m\u001b[0;34m.\u001b[0m\u001b[0mstep\u001b[0m\u001b[0;34m(\u001b[0m\u001b[0;34m)\u001b[0m\u001b[0;34m\u001b[0m\u001b[0;34m\u001b[0m\u001b[0m\n\u001b[1;32m    109\u001b[0m             \u001b[0moptimizer\u001b[0m\u001b[0;34m.\u001b[0m\u001b[0mzero_grad\u001b[0m\u001b[0;34m(\u001b[0m\u001b[0;34m)\u001b[0m\u001b[0;34m\u001b[0m\u001b[0;34m\u001b[0m\u001b[0m\n\u001b[0;32m--> 110\u001b[0;31m         \u001b[0;32mreturn\u001b[0m \u001b[0moutput_transform\u001b[0m\u001b[0;34m(\u001b[0m\u001b[0mx\u001b[0m\u001b[0;34m,\u001b[0m \u001b[0my\u001b[0m\u001b[0;34m,\u001b[0m \u001b[0my_pred\u001b[0m\u001b[0;34m,\u001b[0m \u001b[0mloss\u001b[0m\u001b[0;34m)\u001b[0m\u001b[0;34m\u001b[0m\u001b[0;34m\u001b[0m\u001b[0m\n\u001b[0m\u001b[1;32m    111\u001b[0m \u001b[0;34m\u001b[0m\u001b[0m\n\u001b[1;32m    112\u001b[0m     \u001b[0;32mreturn\u001b[0m \u001b[0mupdate\u001b[0m\u001b[0;34m\u001b[0m\u001b[0;34m\u001b[0m\u001b[0m\n",
      "\u001b[0;32m~/anaconda3/envs/active_learning/lib/python3.8/site-packages/ignite/engine/__init__.py\u001b[0m in \u001b[0;36m<lambda>\u001b[0;34m(x, y, y_pred, loss)\u001b[0m\n\u001b[1;32m    384\u001b[0m     \u001b[0mnon_blocking\u001b[0m\u001b[0;34m:\u001b[0m \u001b[0mbool\u001b[0m \u001b[0;34m=\u001b[0m \u001b[0;32mFalse\u001b[0m\u001b[0;34m,\u001b[0m\u001b[0;34m\u001b[0m\u001b[0;34m\u001b[0m\u001b[0m\n\u001b[1;32m    385\u001b[0m     \u001b[0mprepare_batch\u001b[0m\u001b[0;34m:\u001b[0m \u001b[0mCallable\u001b[0m \u001b[0;34m=\u001b[0m \u001b[0m_prepare_batch\u001b[0m\u001b[0;34m,\u001b[0m\u001b[0;34m\u001b[0m\u001b[0;34m\u001b[0m\u001b[0m\n\u001b[0;32m--> 386\u001b[0;31m     \u001b[0moutput_transform\u001b[0m\u001b[0;34m:\u001b[0m \u001b[0mCallable\u001b[0m \u001b[0;34m=\u001b[0m \u001b[0;32mlambda\u001b[0m \u001b[0mx\u001b[0m\u001b[0;34m,\u001b[0m \u001b[0my\u001b[0m\u001b[0;34m,\u001b[0m \u001b[0my_pred\u001b[0m\u001b[0;34m,\u001b[0m \u001b[0mloss\u001b[0m\u001b[0;34m:\u001b[0m \u001b[0mloss\u001b[0m\u001b[0;34m.\u001b[0m\u001b[0mitem\u001b[0m\u001b[0;34m(\u001b[0m\u001b[0;34m)\u001b[0m\u001b[0;34m,\u001b[0m\u001b[0;34m\u001b[0m\u001b[0;34m\u001b[0m\u001b[0m\n\u001b[0m\u001b[1;32m    387\u001b[0m     \u001b[0mdeterministic\u001b[0m\u001b[0;34m:\u001b[0m \u001b[0mbool\u001b[0m \u001b[0;34m=\u001b[0m \u001b[0;32mFalse\u001b[0m\u001b[0;34m,\u001b[0m\u001b[0;34m\u001b[0m\u001b[0;34m\u001b[0m\u001b[0m\n\u001b[1;32m    388\u001b[0m     \u001b[0mamp_mode\u001b[0m\u001b[0;34m:\u001b[0m \u001b[0mOptional\u001b[0m\u001b[0;34m[\u001b[0m\u001b[0mstr\u001b[0m\u001b[0;34m]\u001b[0m \u001b[0;34m=\u001b[0m \u001b[0;32mNone\u001b[0m\u001b[0;34m,\u001b[0m\u001b[0;34m\u001b[0m\u001b[0;34m\u001b[0m\u001b[0m\n",
      "\u001b[0;31mKeyboardInterrupt\u001b[0m: "
     ]
    }
   ],
   "source": [
    "store = {}\n",
    "\n",
    "configs[3].max_training_epochs = 1\n",
    "configs[3].num_pool_samples = 5\n",
    "configs[3].run(store)"
   ]
  },
  {
   "cell_type": "code",
   "execution_count": null,
   "metadata": {},
   "outputs": [],
   "source": []
  }
 ],
 "metadata": {
  "kernelspec": {
   "display_name": "Python [conda env:active_learning]",
   "language": "python",
   "name": "conda-env-active_learning-py"
  }
 },
 "nbformat": 4,
 "nbformat_minor": 4
}
