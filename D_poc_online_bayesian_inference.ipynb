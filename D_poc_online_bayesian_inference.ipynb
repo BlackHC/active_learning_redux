{
 "cells": [
  {
   "cell_type": "markdown",
   "metadata": {},
   "source": [
    "# Experiment POC OBI\n",
    "> Can we get better by training on our assumptions?"
   ]
  },
  {
   "cell_type": "code",
   "execution_count": null,
   "metadata": {},
   "outputs": [],
   "source": [
    "# default_exp poc_online_bayesian_inference"
   ]
  },
  {
   "cell_type": "code",
   "execution_count": null,
   "metadata": {},
   "outputs": [],
   "source": [
    "# hide\n",
    "import blackhc.project.script"
   ]
  },
  {
   "cell_type": "markdown",
   "metadata": {},
   "source": [
    "Import modules and functions were are going to use."
   ]
  },
  {
   "cell_type": "code",
   "execution_count": null,
   "metadata": {},
   "outputs": [],
   "source": [
    "# exports\n",
    "\n",
    "import dataclasses\n",
    "import traceback\n",
    "from dataclasses import dataclass\n",
    "from typing import Type, Union\n",
    "\n",
    "import torch\n",
    "import torch.utils.data\n",
    "from blackhc.project import is_run_from_ipython\n",
    "from blackhc.project.experiment import embedded_experiments\n",
    "from torch.utils.data import Dataset\n",
    "\n",
    "import wandb\n",
    "\n",
    "from batchbald_redux.active_learning import ActiveLearningData, RandomFixedLengthSampler\n",
    "from batchbald_redux.black_box_model_training import evaluate_old, train\n",
    "from batchbald_redux.dataset_operations import NamedDataset\n",
    "from batchbald_redux.di import DependencyInjection\n",
    "from batchbald_redux.experiment_logging import asclassdict, init_wandb, log2wandb\n",
    "from batchbald_redux.fast_mnist import FastMNIST\n",
    "from batchbald_redux.model_optimizer_factory import ModelOptimizerFactory\n",
    "from batchbald_redux.models import MnistOptimizerFactory\n",
    "from batchbald_redux.online_bayesian_inference import evaluate_online_bayesian_inference"
   ]
  },
  {
   "cell_type": "code",
   "execution_count": null,
   "metadata": {},
   "outputs": [],
   "source": [
    "# exports\n",
    "\n",
    "# From the BatchBALD Repo\n",
    "from batchbald_redux.train_eval_model import TrainEvalModel"
   ]
  },
  {
   "cell_type": "code",
   "execution_count": null,
   "metadata": {},
   "outputs": [],
   "source": [
    "# exports\n",
    "\n",
    "from blackhc.progress_bar import create_progress_bar\n",
    "from toma import toma\n",
    "\n",
    "\n",
    "def compute_entropy_from_probs(probs_N_K_C: torch.Tensor) -> torch.Tensor:\n",
    "    N, K, C = probs_N_K_C.shape\n",
    "\n",
    "    entropies_N = torch.empty(N, dtype=torch.double)\n",
    "\n",
    "    pbar = create_progress_bar(N, tqdm_args=dict(desc=\"Entropy\", leave=False))\n",
    "    pbar.start()\n",
    "\n",
    "    @toma.execute.chunked(probs_N_K_C, 1024)\n",
    "    def compute(probs_n_K_C, start: int, end: int):\n",
    "        mean_probs_n_C = probs_n_K_C.mean(dim=1)\n",
    "        nats_n_C = mean_probs_n_C * torch.log(mean_probs_n_C)\n",
    "        nats_n_C[mean_probs_n_C == 0] = 0.0\n",
    "\n",
    "        entropies_N[start:end].copy_(-torch.sum(nats_n_C, dim=1))\n",
    "        pbar.update(end - start)\n",
    "\n",
    "    pbar.finish()\n",
    "\n",
    "    return entropies_N"
   ]
  },
  {
   "cell_type": "code",
   "execution_count": null,
   "metadata": {},
   "outputs": [
    {
     "data": {
      "application/vnd.jupyter.widget-view+json": {
       "model_id": "",
       "version_major": 2,
       "version_minor": 0
      },
      "text/plain": [
       "Entropy:   0%|          | 0/60000 [00:00<?, ?it/s]"
      ]
     },
     "metadata": {},
     "output_type": "display_data"
    }
   ],
   "source": [
    "train_predictions = torch.load(\"./data/mnist_train_predictions.pt\", map_location=\"cpu\")\n",
    "train_entropies = compute_entropy_from_probs(train_predictions[:, None, :])"
   ]
  },
  {
   "cell_type": "code",
   "execution_count": null,
   "metadata": {},
   "outputs": [],
   "source": [
    "from matplotlib import pyplot as plt"
   ]
  },
  {
   "cell_type": "code",
   "execution_count": null,
   "metadata": {},
   "outputs": [
    {
     "data": {
      "text/plain": [
       "(array([55951.,  1227.,   635.,   386.,   241.,   206.,   130.,   117.,\n",
       "          118.,    74.]),\n",
       " array([0.  , 0.02, 0.04, 0.06, 0.08, 0.1 , 0.12, 0.14, 0.16, 0.18, 0.2 ]),\n",
       " <BarContainer object of 10 artists>)"
      ]
     },
     "execution_count": null,
     "metadata": {},
     "output_type": "execute_result"
    },
    {
     "data": {
      "image/png": "[encoded data removed]",
      "text/plain": [
       "<Figure size 432x288 with 1 Axes>"
      ]
     },
     "metadata": {
      "needs_background": "light"
     },
     "output_type": "display_data"
    }
   ],
   "source": [
    "plt.hist(train_entropies.cpu().numpy(), range=[0, 0.2])"
   ]
  },
  {
   "cell_type": "code",
   "execution_count": null,
   "metadata": {},
   "outputs": [
    {
     "data": {
      "text/plain": [
       "5678"
      ]
     },
     "execution_count": null,
     "metadata": {},
     "output_type": "execute_result"
    }
   ],
   "source": [
    "60000 - len(torch.nonzero(train_entropies < 0.01, as_tuple=True)[0].numpy())"
   ]
  },
  {
   "cell_type": "code",
   "execution_count": null,
   "metadata": {},
   "outputs": [],
   "source": [
    "import numpy as np"
   ]
  },
  {
   "cell_type": "code",
   "execution_count": null,
   "metadata": {},
   "outputs": [
    {
     "data": {
      "text/plain": [
       "[51348,\n",
       " 49110,\n",
       " 8222,\n",
       " 28130,\n",
       " 13484,\n",
       " 47685,\n",
       " 3938,\n",
       " 59930,\n",
       " 49196,\n",
       " 19427,\n",
       " 4601,\n",
       " 49922,\n",
       " 45635,\n",
       " 35684,\n",
       " 3579,\n",
       " 7621,\n",
       " 8465,\n",
       " 33959,\n",
       " 27521,\n",
       " 27015,\n",
       " 14546,\n",
       " 56672,\n",
       " 29175,\n",
       " 34788,\n",
       " 8131,\n",
       " 26332,\n",
       " 38192,\n",
       " 21892,\n",
       " 39029,\n",
       " 38998,\n",
       " 5055,\n",
       " 59421,\n",
       " 38657,\n",
       " 56902,\n",
       " 12450,\n",
       " 24639,\n",
       " 40834,\n",
       " 49727,\n",
       " 36103,\n",
       " 9254,\n",
       " 9245,\n",
       " 58379,\n",
       " 23120,\n",
       " 33276,\n",
       " 4809,\n",
       " 1912,\n",
       " 21893,\n",
       " 40110,\n",
       " 13327,\n",
       " 12976,\n",
       " 32620,\n",
       " 33379,\n",
       " 46791,\n",
       " 54018,\n",
       " 56012,\n",
       " 14950,\n",
       " 23198,\n",
       " 23621,\n",
       " 8800,\n",
       " 13812,\n",
       " 39580,\n",
       " 51209,\n",
       " 890,\n",
       " 47684,\n",
       " 52758,\n",
       " 53629,\n",
       " 1215,\n",
       " 31729,\n",
       " 24465,\n",
       " 50917,\n",
       " 48575,\n",
       " 47113,\n",
       " 20236,\n",
       " 39311,\n",
       " 25944,\n",
       " 43811,\n",
       " 37921,\n",
       " 6902,\n",
       " 321,\n",
       " 49988,\n",
       " 9436,\n",
       " 33907,\n",
       " 56920,\n",
       " 13604,\n",
       " 29309,\n",
       " 14098,\n",
       " 22260,\n",
       " 40723,\n",
       " 27635,\n",
       " 36611,\n",
       " 57194,\n",
       " 44682,\n",
       " 55813,\n",
       " 29089,\n",
       " 23673,\n",
       " 55498,\n",
       " 636,\n",
       " 32250,\n",
       " 33342,\n",
       " 34457]"
      ]
     },
     "execution_count": null,
     "metadata": {},
     "output_type": "execute_result"
    }
   ],
   "source": [
    "# draw random samples\n",
    "\n",
    "initial_training_set = [\n",
    "    51348,\n",
    "    49110,\n",
    "    8222,\n",
    "    28130,\n",
    "    13484,\n",
    "    47685,\n",
    "    3938,\n",
    "    59930,\n",
    "    49196,\n",
    "    19427,\n",
    "    4601,\n",
    "    49922,\n",
    "    45635,\n",
    "    35684,\n",
    "    3579,\n",
    "    7621,\n",
    "    8465,\n",
    "    33959,\n",
    "    27521,\n",
    "    27015,\n",
    "]\n",
    "\n",
    "\n",
    "remaining_samples = [i for i in range(60000) if i not in initial_training_set]\n",
    "random_samples = np.random.choice(remaining_samples, size=80, replace=False)\n",
    "\n",
    "initial_training_set + list(random_samples)"
   ]
  },
  {
   "cell_type": "code",
   "execution_count": null,
   "metadata": {
    "tags": []
   },
   "outputs": [],
   "source": [
    "# exports\n",
    "\n",
    "# Rerun from 2022/04/15\n",
    "\n",
    "training_set_90 = [\n",
    "    46377,\n",
    "    44390,\n",
    "    7485,\n",
    "    25450,\n",
    "    12220,\n",
    "    43112,\n",
    "    3612,\n",
    "    54256,\n",
    "    44467,\n",
    "    17555,\n",
    "    4218,\n",
    "    45101,\n",
    "    41296,\n",
    "    32261,\n",
    "    3281,\n",
    "    6944,\n",
    "    7701,\n",
    "    30692,\n",
    "    24891,\n",
    "    24436,\n",
    "    17776,\n",
    "    36852,\n",
    "    26891,\n",
    "    17001,\n",
    "    44414,\n",
    "    23050,\n",
    "    30884,\n",
    "    41516,\n",
    "    8897,\n",
    "    34608,\n",
    "    11721,\n",
    "    13127,\n",
    "    9870,\n",
    "    39700,\n",
    "    13985,\n",
    "    9608,\n",
    "    17808,\n",
    "    23028,\n",
    "    3494,\n",
    "    10210,\n",
    "    42384,\n",
    "    31742,\n",
    "    17100,\n",
    "    46530,\n",
    "    26733,\n",
    "    4762,\n",
    "    14113,\n",
    "    20798,\n",
    "    28388,\n",
    "    42973,\n",
    "    37347,\n",
    "    55042,\n",
    "    41295,\n",
    "    28310,\n",
    "    19280,\n",
    "    18501,\n",
    "    274,\n",
    "    11208,\n",
    "    13335,\n",
    "    24440,\n",
    "    49493,\n",
    "    58129,\n",
    "    56210,\n",
    "    40766,\n",
    "    13318,\n",
    "    50040,\n",
    "    18408,\n",
    "    7255,\n",
    "    15494,\n",
    "    7168,\n",
    "    9472,\n",
    "    14845,\n",
    "    14096,\n",
    "    26072,\n",
    "    35944,\n",
    "    34836,\n",
    "    12655,\n",
    "    991,\n",
    "    38577,\n",
    "    47322,\n",
    "    45212,\n",
    "    16286,\n",
    "    5308,\n",
    "    38182,\n",
    "    31624,\n",
    "    12702,\n",
    "    30861,\n",
    "    46320,\n",
    "    36408,\n",
    "    49841,\n",
    "    33426,\n",
    "    57527,\n",
    "    3273,\n",
    "    24740,\n",
    "    39627,\n",
    "    22199,\n",
    "    19362,\n",
    "    42136,\n",
    "    41965,\n",
    "    43095,\n",
    "]\n",
    "\n",
    "training_set_90[:20] = [\n",
    "    51348,\n",
    "    49110,\n",
    "    8222,\n",
    "    28130,\n",
    "    13484,\n",
    "    47685,\n",
    "    3938,\n",
    "    59930,\n",
    "    49196,\n",
    "    19427,\n",
    "    4601,\n",
    "    49922,\n",
    "    45635,\n",
    "    35684,\n",
    "    3579,\n",
    "    7621,\n",
    "    8465,\n",
    "    33959,\n",
    "    27521,\n",
    "    27015,\n",
    "]\n",
    "\n",
    "training_set_random = [\n",
    "    51348,\n",
    "    49110,\n",
    "    8222,\n",
    "    28130,\n",
    "    13484,\n",
    "    47685,\n",
    "    3938,\n",
    "    59930,\n",
    "    49196,\n",
    "    19427,\n",
    "    4601,\n",
    "    49922,\n",
    "    45635,\n",
    "    35684,\n",
    "    3579,\n",
    "    7621,\n",
    "    8465,\n",
    "    33959,\n",
    "    27521,\n",
    "    27015,\n",
    "    14546,\n",
    "    56672,\n",
    "    29175,\n",
    "    34788,\n",
    "    8131,\n",
    "    26332,\n",
    "    38192,\n",
    "    21892,\n",
    "    39029,\n",
    "    38998,\n",
    "    5055,\n",
    "    59421,\n",
    "    38657,\n",
    "    56902,\n",
    "    12450,\n",
    "    24639,\n",
    "    40834,\n",
    "    49727,\n",
    "    36103,\n",
    "    9254,\n",
    "    9245,\n",
    "    58379,\n",
    "    23120,\n",
    "    33276,\n",
    "    4809,\n",
    "    1912,\n",
    "    21893,\n",
    "    40110,\n",
    "    13327,\n",
    "    12976,\n",
    "    32620,\n",
    "    33379,\n",
    "    46791,\n",
    "    54018,\n",
    "    56012,\n",
    "    14950,\n",
    "    23198,\n",
    "    23621,\n",
    "    8800,\n",
    "    13812,\n",
    "    39580,\n",
    "    51209,\n",
    "    890,\n",
    "    47684,\n",
    "    52758,\n",
    "    53629,\n",
    "    1215,\n",
    "    31729,\n",
    "    24465,\n",
    "    50917,\n",
    "    48575,\n",
    "    47113,\n",
    "    20236,\n",
    "    39311,\n",
    "    25944,\n",
    "    43811,\n",
    "    37921,\n",
    "    6902,\n",
    "    321,\n",
    "    49988,\n",
    "    9436,\n",
    "    33907,\n",
    "    56920,\n",
    "    13604,\n",
    "    29309,\n",
    "    14098,\n",
    "    22260,\n",
    "    40723,\n",
    "    27635,\n",
    "    36611,\n",
    "    57194,\n",
    "    44682,\n",
    "    55813,\n",
    "    29089,\n",
    "    23673,\n",
    "    55498,\n",
    "    636,\n",
    "    32250,\n",
    "    33342,\n",
    "    34457,\n",
    "]\n",
    "\n",
    "\n",
    "@dataclass\n",
    "class Experiment:\n",
    "    seed: int = 1337\n",
    "    num_pool_samples: int = 20\n",
    "    num_validation_samples: int = 20\n",
    "    num_training_samples: int = 1\n",
    "    num_patience_epochs: int = 5 * 4\n",
    "    max_training_epochs: int = 30 * 4\n",
    "    training_batch_size: int = 64\n",
    "    device: str = \"cuda\"\n",
    "    validation_set_size: int = 1024\n",
    "    min_samples_per_epoch: int = 1024\n",
    "    model_optimizer_factory: Type[ModelOptimizerFactory] = MnistOptimizerFactory\n",
    "    max_obi_steps: int = 10\n",
    "    num_samples_list: int = (100, 1000, 10000)\n",
    "    up_factor: int = 2\n",
    "    num_trials: int = 5\n",
    "    acquisition_size: int = 5\n",
    "    random_acquisition: bool = False\n",
    "\n",
    "    def load_dataset(self, training_set_indices) -> (ActiveLearningData, Dataset, Dataset):\n",
    "        train_dataset = NamedDataset(\n",
    "            FastMNIST(\"data\", train=True, download=True, device=self.device), \"FastMNIST (train)\"\n",
    "        )\n",
    "\n",
    "        train_predictions = torch.load(\"./data/mnist_train_predictions.pt\", map_location=self.device)\n",
    "\n",
    "        train_dataset = train_dataset.override_targets(targets=train_predictions.argmax(dim=1))\n",
    "\n",
    "        active_learning_data = ActiveLearningData(train_dataset)\n",
    "\n",
    "        active_learning_data.acquire_base_indices(training_set_indices[:20])\n",
    "\n",
    "        active_learning_data_validation_set = ActiveLearningData(train_dataset)\n",
    "        active_learning_data_validation_set.acquire_base_indices(training_set_indices)\n",
    "\n",
    "        validation_dataset = active_learning_data_validation_set.extract_dataset_from_pool(self.validation_set_size)\n",
    "        validation_dataset = NamedDataset(\n",
    "            validation_dataset, f\"FastMNIST (validation, {len(validation_dataset)} samples)\"\n",
    "        )\n",
    "\n",
    "        test_dataset = FastMNIST(\"data\", train=False, device=self.device)\n",
    "        test_dataset = NamedDataset(test_dataset, f\"FastMNIST (test, {len(test_dataset)} samples)\")\n",
    "\n",
    "        return active_learning_data, validation_dataset, test_dataset, training_set_indices[:20]\n",
    "\n",
    "    # Simple Dependency Injection\n",
    "    def create_train_eval_model(self, runtime_config) -> TrainEvalModel:\n",
    "        config = {**vars(self), **runtime_config}\n",
    "        di = DependencyInjection(config, [])\n",
    "        return di.create_dataclass_type(self.train_eval_model)\n",
    "\n",
    "    def run(self, store):\n",
    "        init_wandb(self)\n",
    "\n",
    "        training_set_indices = training_set_random if self.random_acquisition else training_set_90\n",
    "\n",
    "        torch.manual_seed(self.seed)\n",
    "\n",
    "        # Active Learning setup\n",
    "        active_learning_data, validation_dataset, test_dataset, initial_training_set_indices = self.load_dataset(training_set_indices)\n",
    "        store[\"initial_training_set_indices\"] = initial_training_set_indices\n",
    "        store[\"dataset_info\"] = dict(training=repr(active_learning_data.base_dataset), test=repr(test_dataset))\n",
    "\n",
    "        print(wandb.config)\n",
    "\n",
    "        wandb.config.initial_training_set_indices = initial_training_set_indices\n",
    "        wandb.config[\"dataset_info\"] = store[\"dataset_info\"]\n",
    "\n",
    "        # initial_training_set_indices = active_learning_data.get_random_pool_indices(self.initial_set_size)\n",
    "        # initial_training_set_indices = get_balanced_sample_indices(\n",
    "        #     active_learning_data.pool_dataset, 10, self.initial_set_size // 10\n",
    "        # )\n",
    "\n",
    "        train_loader = torch.utils.data.DataLoader(\n",
    "            active_learning_data.training_dataset,\n",
    "            batch_size=self.training_batch_size,\n",
    "            sampler=RandomFixedLengthSampler(active_learning_data.training_dataset, self.min_samples_per_epoch),\n",
    "            drop_last=True,\n",
    "        )\n",
    "\n",
    "        validation_loader = torch.utils.data.DataLoader(validation_dataset, batch_size=128, drop_last=False)\n",
    "        test_loader = torch.utils.data.DataLoader(test_dataset, batch_size=128, drop_last=False)\n",
    "\n",
    "        store[\"obi_performances\"] = []\n",
    "        obi_performances = store[\"obi_performances\"]\n",
    "\n",
    "        store[\"obi_topk_ensemble_performances\"] = []\n",
    "        obi_topk_ensemble_performances = store[\"obi_topk_ensemble_performances\"]\n",
    "\n",
    "        store[\"active_learning_steps\"] = []\n",
    "        active_learning_steps = store[\"active_learning_steps\"]\n",
    "\n",
    "        # Active Training Loop\n",
    "        while True:\n",
    "            training_set_size = len(active_learning_data.training_dataset)\n",
    "            print(f\"Training set size {training_set_size}:\")\n",
    "\n",
    "            # iteration_log = dict(training={}, pool_training={}, evaluation_metrics=None, acquisition=None)\n",
    "            active_learning_steps.append({})\n",
    "            iteration_log = active_learning_steps[-1]\n",
    "\n",
    "            iteration_log[\"training\"] = {}\n",
    "\n",
    "            model_optimizer = self.model_optimizer_factory().create_model_optimizer()\n",
    "\n",
    "            if training_set_size > 0:\n",
    "                train(\n",
    "                    model=model_optimizer.model,\n",
    "                    optimizer=model_optimizer.optimizer,\n",
    "                    training_samples=self.num_training_samples,\n",
    "                    validation_samples=self.num_validation_samples,\n",
    "                    train_loader=train_loader,\n",
    "                    validation_loader=validation_loader,\n",
    "                    patience=self.num_patience_epochs,\n",
    "                    max_epochs=self.max_training_epochs,\n",
    "                    device=self.device,\n",
    "                    training_log=iteration_log[\"training\"],\n",
    "                    wandb_key_path=\"model_training\",\n",
    "                )\n",
    "\n",
    "            evaluation_metrics = evaluate_old(\n",
    "                model=model_optimizer.model,\n",
    "                num_samples=self.num_validation_samples,\n",
    "                loader=test_loader,\n",
    "                device=self.device,\n",
    "            )\n",
    "            iteration_log[\"evaluation_metrics\"] = evaluation_metrics\n",
    "            log2wandb(evaluation_metrics, commit=False)\n",
    "            print(f\"Perf after training {evaluation_metrics}\")\n",
    "\n",
    "            obi_results, obi_topk_ensemble_results = evaluate_online_bayesian_inference(\n",
    "                model=model_optimizer.model,\n",
    "                real_training_set_size=training_set_size,\n",
    "                train_dataset=active_learning_data.base_dataset,\n",
    "                test_dataset=test_dataset,\n",
    "                training_indices=training_set_indices[: training_set_size + self.max_obi_steps],\n",
    "                start_index=training_set_size,\n",
    "                num_samples_list=self.num_samples_list,\n",
    "                num_trials=self.num_trials,\n",
    "                up_factor=self.up_factor,\n",
    "                eval_batchsize=512,\n",
    "                device=self.device,\n",
    "            )\n",
    "\n",
    "            obi_performances.append(obi_results)\n",
    "            obi_topk_ensemble_performances.append(obi_topk_ensemble_results)\n",
    "            log2wandb(\n",
    "                dict(\n",
    "                    obi_performances=[asclassdict(result) for result in obi_results],\n",
    "                    obi_topk_ensemble_results=[asclassdict(result) for result in obi_topk_ensemble_results],\n",
    "                ),\n",
    "                commit=False,\n",
    "            )\n",
    "\n",
    "            if training_set_size >= len(training_set_indices):\n",
    "                log2wandb({}, commit=True)\n",
    "                print(\"Done.\")\n",
    "                break\n",
    "\n",
    "            next_indices = training_set_indices[training_set_size : training_set_size + self.acquisition_size]\n",
    "            iteration_log[\"acquisition\"] = dict(indices=next_indices)\n",
    "\n",
    "            active_learning_data.acquire_base_indices(next_indices)\n",
    "            log2wandb({}, commit=True)"
   ]
  },
  {
   "cell_type": "code",
   "execution_count": null,
   "metadata": {
    "tags": []
   },
   "outputs": [
    {
     "data": {
      "text/html": [
       "Finishing last run (ID:1edm6a18) before initializing another..."
      ],
      "text/plain": [
       "<IPython.core.display.HTML object>"
      ]
     },
     "metadata": {},
     "output_type": "display_data"
    },
    {
     "name": "stdout",
     "output_type": "stream",
     "text": [
      "\n"
     ]
    },
    {
     "data": {
      "text/html": [
       "Waiting for W&B process to finish... <strong style=\"color:green\">(success).</strong>"
      ],
      "text/plain": [
       "<IPython.core.display.HTML object>"
      ]
     },
     "metadata": {},
     "output_type": "display_data"
    },
    {
     "data": {
      "application/vnd.jupyter.widget-view+json": {
       "model_id": "",
       "version_major": 2,
       "version_minor": 0
      },
      "text/plain": [
       "VBox(children=(Label(value='0.473 MB of 0.473 MB uploaded (0.000 MB deduped)\\r'), FloatProgress(value=1.0, max…"
      ]
     },
     "metadata": {},
     "output_type": "display_data"
    },
    {
     "data": {
      "text/html": [
       "<style>\n",
       "    table.wandb td:nth-child(1) { padding: 0 10px; text-align: right }\n",
       "    .wandb-row { display: flex; flex-direction: row; flex-wrap: wrap; width: 100% }\n",
       "    .wandb-col { display: flex; flex-direction: column; flex-basis: 100%; flex: 1; padding: 10px; }\n",
       "    </style>\n",
       "<div class=\"wandb-row\"><div class=\"wandb-col\"><h3>Run history:</h3><br/><table class=\"wandb\"><tr><td>accuracy</td><td>▁</td></tr><tr><td>crossentropy</td><td>▁</td></tr><tr><td>model_training/best_epoch</td><td>▁</td></tr><tr><td>model_training/best_val_accuracy</td><td>▁</td></tr><tr><td>model_training/best_val_crossentropy</td><td>▁</td></tr></table><br/></div><div class=\"wandb-col\"><h3>Run summary:</h3><br/><table class=\"wandb\"><tr><td>accuracy</td><td>0.5981</td></tr><tr><td>crossentropy</td><td>1.69386</td></tr><tr><td>model_training/best_epoch</td><td>29</td></tr><tr><td>model_training/best_val_accuracy</td><td>0.60742</td></tr><tr><td>model_training/best_val_crossentropy</td><td>1.78939</td></tr></table><br/></div></div>"
      ],
      "text/plain": [
       "<IPython.core.display.HTML object>"
      ]
     },
     "metadata": {},
     "output_type": "display_data"
    },
    {
     "data": {
      "text/html": [
       "Synced <strong style=\"color:#cdcd00\">wise-sound-1147</strong>: <a href=\"https://wandb.ai/oatml-andreas-kirsch/balds/runs/1edm6a18\" target=\"_blank\">https://wandb.ai/oatml-andreas-kirsch/balds/runs/1edm6a18</a><br/>Synced 7 W&B file(s), 1 media file(s), 1 artifact file(s) and 2 other file(s)"
      ],
      "text/plain": [
       "<IPython.core.display.HTML object>"
      ]
     },
     "metadata": {},
     "output_type": "display_data"
    },
    {
     "data": {
      "text/html": [
       "Find logs at: <code>./wandb/run-20220429_000603-1edm6a18/logs</code>"
      ],
      "text/plain": [
       "<IPython.core.display.HTML object>"
      ]
     },
     "metadata": {},
     "output_type": "display_data"
    },
    {
     "data": {
      "text/html": [
       "Successfully finished last run (ID:1edm6a18). Initializing new run:<br/>"
      ],
      "text/plain": [
       "<IPython.core.display.HTML object>"
      ]
     },
     "metadata": {},
     "output_type": "display_data"
    },
    {
     "data": {
      "text/html": [
       "wandb version 0.12.15 is available!  To upgrade, please run:\n",
       " $ pip install wandb --upgrade"
      ],
      "text/plain": [
       "<IPython.core.display.HTML object>"
      ]
     },
     "metadata": {},
     "output_type": "display_data"
    },
    {
     "data": {
      "text/html": [
       "Tracking run with wandb version 0.12.11"
      ],
      "text/plain": [
       "<IPython.core.display.HTML object>"
      ]
     },
     "metadata": {},
     "output_type": "display_data"
    },
    {
     "data": {
      "text/html": [
       "Run data is saved locally in <code>/home/blackhc/PycharmProjects/bald-ical/wandb/run-20220429_000743-bqy71pvx</code>"
      ],
      "text/plain": [
       "<IPython.core.display.HTML object>"
      ]
     },
     "metadata": {},
     "output_type": "display_data"
    },
    {
     "data": {
      "text/html": [
       "Syncing run <strong><a href=\"https://wandb.ai/oatml-andreas-kirsch/balds/runs/bqy71pvx\" target=\"_blank\">pleasant-pond-1148</a></strong> to <a href=\"https://wandb.ai/oatml-andreas-kirsch/balds\" target=\"_blank\">Weights & Biases</a> (<a href=\"https://wandb.me/run\" target=\"_blank\">docs</a>)<br/>"
      ],
      "text/plain": [
       "<IPython.core.display.HTML object>"
      ]
     },
     "metadata": {},
     "output_type": "display_data"
    },
    {
     "name": "stdout",
     "output_type": "stream",
     "text": [
      "{'Dataclass': '__main__.Experiment', 'seed': 1120, 'num_pool_samples': 100, 'num_validation_samples': 20, 'num_training_samples': 1, 'num_patience_epochs': 20, 'max_training_epochs': 120, 'training_batch_size': 64, 'device': 'cuda', 'validation_set_size': 1024, 'min_samples_per_epoch': 1024, 'model_optimizer_factory': 'batchbald_redux.models.MnistOptimizerFactory', 'max_obi_steps': 10, 'num_samples_list': [10, 100], 'up_factor': 2, 'num_trials': 5, 'acquisition_size': 5, 'random_acquisition': True}\n",
      "Training set size 20:\n"
     ]
    },
    {
     "data": {
      "application/vnd.jupyter.widget-view+json": {
       "model_id": "d711b43b6c0141cbb475d42e526ae3e5",
       "version_major": 2,
       "version_minor": 0
      },
      "text/plain": [
       "  1%|          | 1/120 [00:00<?, ?it/s]"
      ]
     },
     "metadata": {},
     "output_type": "display_data"
    },
    {
     "data": {
      "application/vnd.jupyter.widget-view+json": {
       "model_id": "",
       "version_major": 2,
       "version_minor": 0
      },
      "text/plain": [
       "[1/16]   6%|6          [00:00<?]"
      ]
     },
     "metadata": {},
     "output_type": "display_data"
    },
    {
     "name": "stdout",
     "output_type": "stream",
     "text": [
      "Epoch metrics: {'accuracy': 0.53125, 'crossentropy': 1.6860700845718384}\n"
     ]
    },
    {
     "data": {
      "application/vnd.jupyter.widget-view+json": {
       "model_id": "",
       "version_major": 2,
       "version_minor": 0
      },
      "text/plain": [
       "[1/16]   6%|6          [00:00<?]"
      ]
     },
     "metadata": {},
     "output_type": "display_data"
    },
    {
     "name": "stdout",
     "output_type": "stream",
     "text": [
      "Epoch metrics: {'accuracy': 0.578125, 'crossentropy': 1.403245449066162}\n"
     ]
    },
    {
     "data": {
      "application/vnd.jupyter.widget-view+json": {
       "model_id": "",
       "version_major": 2,
       "version_minor": 0
      },
      "text/plain": [
       "[1/16]   6%|6          [00:00<?]"
      ]
     },
     "metadata": {},
     "output_type": "display_data"
    },
    {
     "name": "stdout",
     "output_type": "stream",
     "text": [
      "Epoch metrics: {'accuracy': 0.57421875, 'crossentropy': 1.6297085285186768}\n",
      "RestoringEarlyStopping: 1 / 20\n"
     ]
    },
    {
     "data": {
      "application/vnd.jupyter.widget-view+json": {
       "model_id": "",
       "version_major": 2,
       "version_minor": 0
      },
      "text/plain": [
       "[1/16]   6%|6          [00:00<?]"
      ]
     },
     "metadata": {},
     "output_type": "display_data"
    },
    {
     "name": "stdout",
     "output_type": "stream",
     "text": [
      "Epoch metrics: {'accuracy': 0.5771484375, 'crossentropy': 1.6736737489700317}\n",
      "RestoringEarlyStopping: 2 / 20\n"
     ]
    },
    {
     "data": {
      "application/vnd.jupyter.widget-view+json": {
       "model_id": "",
       "version_major": 2,
       "version_minor": 0
      },
      "text/plain": [
       "[1/16]   6%|6          [00:00<?]"
      ]
     },
     "metadata": {},
     "output_type": "display_data"
    },
    {
     "name": "stdout",
     "output_type": "stream",
     "text": [
      "Epoch metrics: {'accuracy': 0.5869140625, 'crossentropy': 1.6601365804672241}\n"
     ]
    },
    {
     "data": {
      "application/vnd.jupyter.widget-view+json": {
       "model_id": "",
       "version_major": 2,
       "version_minor": 0
      },
      "text/plain": [
       "[1/16]   6%|6          [00:00<?]"
      ]
     },
     "metadata": {},
     "output_type": "display_data"
    },
    {
     "name": "stdout",
     "output_type": "stream",
     "text": [
      "Epoch metrics: {'accuracy': 0.5703125, 'crossentropy': 1.8642305135726929}\n",
      "RestoringEarlyStopping: 1 / 20\n"
     ]
    },
    {
     "data": {
      "application/vnd.jupyter.widget-view+json": {
       "model_id": "",
       "version_major": 2,
       "version_minor": 0
      },
      "text/plain": [
       "[1/16]   6%|6          [00:00<?]"
      ]
     },
     "metadata": {},
     "output_type": "display_data"
    },
    {
     "name": "stdout",
     "output_type": "stream",
     "text": [
      "Epoch metrics: {'accuracy': 0.5986328125, 'crossentropy': 1.7198810577392578}\n"
     ]
    },
    {
     "data": {
      "application/vnd.jupyter.widget-view+json": {
       "model_id": "",
       "version_major": 2,
       "version_minor": 0
      },
      "text/plain": [
       "[1/16]   6%|6          [00:00<?]"
      ]
     },
     "metadata": {},
     "output_type": "display_data"
    },
    {
     "name": "stdout",
     "output_type": "stream",
     "text": [
      "Epoch metrics: {'accuracy': 0.5751953125, 'crossentropy': 1.7458257675170898}\n",
      "RestoringEarlyStopping: 1 / 20\n"
     ]
    },
    {
     "data": {
      "application/vnd.jupyter.widget-view+json": {
       "model_id": "",
       "version_major": 2,
       "version_minor": 0
      },
      "text/plain": [
       "[1/16]   6%|6          [00:00<?]"
      ]
     },
     "metadata": {},
     "output_type": "display_data"
    },
    {
     "name": "stdout",
     "output_type": "stream",
     "text": [
      "Epoch metrics: {'accuracy': 0.5595703125, 'crossentropy': 1.8030117750167847}\n",
      "RestoringEarlyStopping: 2 / 20\n"
     ]
    },
    {
     "data": {
      "application/vnd.jupyter.widget-view+json": {
       "model_id": "",
       "version_major": 2,
       "version_minor": 0
      },
      "text/plain": [
       "[1/16]   6%|6          [00:00<?]"
      ]
     },
     "metadata": {},
     "output_type": "display_data"
    },
    {
     "name": "stdout",
     "output_type": "stream",
     "text": [
      "Epoch metrics: {'accuracy': 0.5712890625, 'crossentropy': 1.8639084100723267}\n",
      "RestoringEarlyStopping: 3 / 20\n"
     ]
    },
    {
     "data": {
      "application/vnd.jupyter.widget-view+json": {
       "model_id": "",
       "version_major": 2,
       "version_minor": 0
      },
      "text/plain": [
       "[1/16]   6%|6          [00:00<?]"
      ]
     },
     "metadata": {},
     "output_type": "display_data"
    },
    {
     "name": "stdout",
     "output_type": "stream",
     "text": [
      "Epoch metrics: {'accuracy': 0.583984375, 'crossentropy': 1.7130600214004517}\n",
      "RestoringEarlyStopping: 4 / 20\n"
     ]
    },
    {
     "data": {
      "application/vnd.jupyter.widget-view+json": {
       "model_id": "",
       "version_major": 2,
       "version_minor": 0
      },
      "text/plain": [
       "[1/16]   6%|6          [00:00<?]"
      ]
     },
     "metadata": {},
     "output_type": "display_data"
    },
    {
     "name": "stdout",
     "output_type": "stream",
     "text": [
      "Epoch metrics: {'accuracy': 0.5966796875, 'crossentropy': 1.7583857774734497}\n",
      "RestoringEarlyStopping: 5 / 20\n"
     ]
    },
    {
     "data": {
      "application/vnd.jupyter.widget-view+json": {
       "model_id": "",
       "version_major": 2,
       "version_minor": 0
      },
      "text/plain": [
       "[1/16]   6%|6          [00:00<?]"
      ]
     },
     "metadata": {},
     "output_type": "display_data"
    },
    {
     "name": "stdout",
     "output_type": "stream",
     "text": [
      "Epoch metrics: {'accuracy': 0.5947265625, 'crossentropy': 1.8011263608932495}\n",
      "RestoringEarlyStopping: 6 / 20\n"
     ]
    },
    {
     "data": {
      "application/vnd.jupyter.widget-view+json": {
       "model_id": "",
       "version_major": 2,
       "version_minor": 0
      },
      "text/plain": [
       "[1/16]   6%|6          [00:00<?]"
      ]
     },
     "metadata": {},
     "output_type": "display_data"
    },
    {
     "name": "stdout",
     "output_type": "stream",
     "text": [
      "Epoch metrics: {'accuracy': 0.578125, 'crossentropy': 1.8280960321426392}\n",
      "RestoringEarlyStopping: 7 / 20\n"
     ]
    },
    {
     "data": {
      "application/vnd.jupyter.widget-view+json": {
       "model_id": "",
       "version_major": 2,
       "version_minor": 0
      },
      "text/plain": [
       "[1/16]   6%|6          [00:00<?]"
      ]
     },
     "metadata": {},
     "output_type": "display_data"
    },
    {
     "name": "stdout",
     "output_type": "stream",
     "text": [
      "Epoch metrics: {'accuracy': 0.5791015625, 'crossentropy': 1.884833574295044}\n",
      "RestoringEarlyStopping: 8 / 20\n"
     ]
    },
    {
     "data": {
      "application/vnd.jupyter.widget-view+json": {
       "model_id": "",
       "version_major": 2,
       "version_minor": 0
      },
      "text/plain": [
       "[1/16]   6%|6          [00:00<?]"
      ]
     },
     "metadata": {},
     "output_type": "display_data"
    },
    {
     "name": "stdout",
     "output_type": "stream",
     "text": [
      "Epoch metrics: {'accuracy': 0.5703125, 'crossentropy': 1.9384914636611938}\n",
      "RestoringEarlyStopping: 9 / 20\n"
     ]
    },
    {
     "data": {
      "application/vnd.jupyter.widget-view+json": {
       "model_id": "",
       "version_major": 2,
       "version_minor": 0
      },
      "text/plain": [
       "[1/16]   6%|6          [00:00<?]"
      ]
     },
     "metadata": {},
     "output_type": "display_data"
    },
    {
     "name": "stdout",
     "output_type": "stream",
     "text": [
      "Epoch metrics: {'accuracy': 0.564453125, 'crossentropy': 2.026677131652832}\n",
      "RestoringEarlyStopping: 10 / 20\n"
     ]
    },
    {
     "data": {
      "application/vnd.jupyter.widget-view+json": {
       "model_id": "",
       "version_major": 2,
       "version_minor": 0
      },
      "text/plain": [
       "[1/16]   6%|6          [00:00<?]"
      ]
     },
     "metadata": {},
     "output_type": "display_data"
    },
    {
     "name": "stdout",
     "output_type": "stream",
     "text": [
      "Epoch metrics: {'accuracy': 0.591796875, 'crossentropy': 1.798771858215332}\n",
      "RestoringEarlyStopping: 11 / 20\n"
     ]
    },
    {
     "data": {
      "application/vnd.jupyter.widget-view+json": {
       "model_id": "",
       "version_major": 2,
       "version_minor": 0
      },
      "text/plain": [
       "[1/16]   6%|6          [00:00<?]"
      ]
     },
     "metadata": {},
     "output_type": "display_data"
    },
    {
     "name": "stdout",
     "output_type": "stream",
     "text": [
      "Epoch metrics: {'accuracy': 0.5830078125, 'crossentropy': 1.8671399354934692}\n",
      "RestoringEarlyStopping: 12 / 20\n"
     ]
    },
    {
     "data": {
      "application/vnd.jupyter.widget-view+json": {
       "model_id": "",
       "version_major": 2,
       "version_minor": 0
      },
      "text/plain": [
       "[1/16]   6%|6          [00:00<?]"
      ]
     },
     "metadata": {},
     "output_type": "display_data"
    },
    {
     "name": "stdout",
     "output_type": "stream",
     "text": [
      "Epoch metrics: {'accuracy': 0.5791015625, 'crossentropy': 1.967775821685791}\n",
      "RestoringEarlyStopping: 13 / 20\n"
     ]
    },
    {
     "data": {
      "application/vnd.jupyter.widget-view+json": {
       "model_id": "",
       "version_major": 2,
       "version_minor": 0
      },
      "text/plain": [
       "[1/16]   6%|6          [00:00<?]"
      ]
     },
     "metadata": {},
     "output_type": "display_data"
    },
    {
     "name": "stdout",
     "output_type": "stream",
     "text": [
      "Epoch metrics: {'accuracy': 0.5654296875, 'crossentropy': 1.9399442672729492}\n",
      "RestoringEarlyStopping: 14 / 20\n"
     ]
    },
    {
     "data": {
      "application/vnd.jupyter.widget-view+json": {
       "model_id": "",
       "version_major": 2,
       "version_minor": 0
      },
      "text/plain": [
       "[1/16]   6%|6          [00:00<?]"
      ]
     },
     "metadata": {},
     "output_type": "display_data"
    },
    {
     "name": "stdout",
     "output_type": "stream",
     "text": [
      "Epoch metrics: {'accuracy': 0.580078125, 'crossentropy': 1.9851447343826294}\n",
      "RestoringEarlyStopping: 15 / 20\n"
     ]
    },
    {
     "data": {
      "application/vnd.jupyter.widget-view+json": {
       "model_id": "",
       "version_major": 2,
       "version_minor": 0
      },
      "text/plain": [
       "[1/16]   6%|6          [00:00<?]"
      ]
     },
     "metadata": {},
     "output_type": "display_data"
    },
    {
     "name": "stdout",
     "output_type": "stream",
     "text": [
      "Epoch metrics: {'accuracy': 0.583984375, 'crossentropy': 1.8897390365600586}\n",
      "RestoringEarlyStopping: 16 / 20\n"
     ]
    },
    {
     "data": {
      "application/vnd.jupyter.widget-view+json": {
       "model_id": "",
       "version_major": 2,
       "version_minor": 0
      },
      "text/plain": [
       "[1/16]   6%|6          [00:00<?]"
      ]
     },
     "metadata": {},
     "output_type": "display_data"
    },
    {
     "name": "stdout",
     "output_type": "stream",
     "text": [
      "Epoch metrics: {'accuracy': 0.568359375, 'crossentropy': 1.7665351629257202}\n",
      "RestoringEarlyStopping: 17 / 20\n"
     ]
    },
    {
     "data": {
      "application/vnd.jupyter.widget-view+json": {
       "model_id": "",
       "version_major": 2,
       "version_minor": 0
      },
      "text/plain": [
       "[1/16]   6%|6          [00:00<?]"
      ]
     },
     "metadata": {},
     "output_type": "display_data"
    },
    {
     "name": "stdout",
     "output_type": "stream",
     "text": [
      "Epoch metrics: {'accuracy': 0.556640625, 'crossentropy': 1.844299077987671}\n",
      "RestoringEarlyStopping: 18 / 20\n"
     ]
    },
    {
     "data": {
      "application/vnd.jupyter.widget-view+json": {
       "model_id": "",
       "version_major": 2,
       "version_minor": 0
      },
      "text/plain": [
       "[1/16]   6%|6          [00:00<?]"
      ]
     },
     "metadata": {},
     "output_type": "display_data"
    },
    {
     "name": "stdout",
     "output_type": "stream",
     "text": [
      "Epoch metrics: {'accuracy': 0.5751953125, 'crossentropy': 1.8201444149017334}\n",
      "RestoringEarlyStopping: 19 / 20\n"
     ]
    },
    {
     "data": {
      "application/vnd.jupyter.widget-view+json": {
       "model_id": "",
       "version_major": 2,
       "version_minor": 0
      },
      "text/plain": [
       "[1/16]   6%|6          [00:00<?]"
      ]
     },
     "metadata": {},
     "output_type": "display_data"
    },
    {
     "name": "stdout",
     "output_type": "stream",
     "text": [
      "Epoch metrics: {'accuracy': 0.5947265625, 'crossentropy': 1.7643983364105225}\n",
      "RestoringEarlyStopping: 20 / 20\n",
      "RestoringEarlyStopping: Out of patience\n",
      "RestoringEarlyStopping: Restoring best parameters. (Score: 0.5986328125)\n",
      "RestoringEarlyStopping: Restoring optimizer.\n",
      "{'model_training/val_metrics': <wandb.data_types.Table object at 0x7f4dc004b460>, 'model_training/best_epoch': 6, 'model_training/best_val_accuracy': 0.5986328125, 'model_training/best_val_crossentropy': 1.7198810577392578}\n"
     ]
    },
    {
     "data": {
      "application/vnd.jupyter.widget-view+json": {
       "model_id": "",
       "version_major": 2,
       "version_minor": 0
      },
      "text/plain": [
       "[1/79]   1%|1          [00:00<?]"
      ]
     },
     "metadata": {},
     "output_type": "display_data"
    },
    {
     "name": "stdout",
     "output_type": "stream",
     "text": [
      "Perf after training {'accuracy': 0.5962, 'crossentropy': 1.685489453125, '_timestamp': 1651187288, '_runtime': 20}\n"
     ]
    },
    {
     "data": {
      "application/vnd.jupyter.widget-view+json": {
       "model_id": "",
       "version_major": 2,
       "version_minor": 0
      },
      "text/plain": [
       "get_predictions_labels:   0%|          | 0/2006000 [00:00<?, ?it/s]"
      ]
     },
     "metadata": {},
     "output_type": "display_data"
    },
    {
     "data": {
      "application/vnd.jupyter.widget-view+json": {
       "model_id": "73e54393a4d74d44835d9597a6f49099",
       "version_major": 2,
       "version_minor": 0
      },
      "text/plain": [
       "  0%|          | 0/5 [00:00<?, ?it/s]"
      ]
     },
     "metadata": {},
     "output_type": "display_data"
    },
    {
     "data": {
      "application/vnd.jupyter.widget-view+json": {
       "model_id": "7c6a684ddab244739343559c55df9804",
       "version_major": 2,
       "version_minor": 0
      },
      "text/plain": [
       "  0%|          | 0/5 [00:00<?, ?it/s]"
      ]
     },
     "metadata": {},
     "output_type": "display_data"
    },
    {
     "name": "stdout",
     "output_type": "stream",
     "text": [
      "Training set size 25:\n"
     ]
    },
    {
     "data": {
      "application/vnd.jupyter.widget-view+json": {
       "model_id": "bac9748f07e94a399eb1e885aab29ee0",
       "version_major": 2,
       "version_minor": 0
      },
      "text/plain": [
       "  1%|          | 1/120 [00:00<?, ?it/s]"
      ]
     },
     "metadata": {},
     "output_type": "display_data"
    },
    {
     "data": {
      "application/vnd.jupyter.widget-view+json": {
       "model_id": "",
       "version_major": 2,
       "version_minor": 0
      },
      "text/plain": [
       "[1/16]   6%|6          [00:00<?]"
      ]
     },
     "metadata": {},
     "output_type": "display_data"
    },
    {
     "name": "stdout",
     "output_type": "stream",
     "text": [
      "Epoch metrics: {'accuracy': 0.4697265625, 'crossentropy': 1.8736950159072876}\n"
     ]
    },
    {
     "data": {
      "application/vnd.jupyter.widget-view+json": {
       "model_id": "",
       "version_major": 2,
       "version_minor": 0
      },
      "text/plain": [
       "[1/16]   6%|6          [00:00<?]"
      ]
     },
     "metadata": {},
     "output_type": "display_data"
    },
    {
     "name": "stdout",
     "output_type": "stream",
     "text": [
      "Epoch metrics: {'accuracy': 0.5732421875, 'crossentropy': 1.5384868383407593}\n"
     ]
    },
    {
     "data": {
      "application/vnd.jupyter.widget-view+json": {
       "model_id": "",
       "version_major": 2,
       "version_minor": 0
      },
      "text/plain": [
       "[1/16]   6%|6          [00:00<?]"
      ]
     },
     "metadata": {},
     "output_type": "display_data"
    },
    {
     "name": "stdout",
     "output_type": "stream",
     "text": [
      "Epoch metrics: {'accuracy': 0.58984375, 'crossentropy': 1.5438417196273804}\n"
     ]
    },
    {
     "data": {
      "application/vnd.jupyter.widget-view+json": {
       "model_id": "",
       "version_major": 2,
       "version_minor": 0
      },
      "text/plain": [
       "[1/16]   6%|6          [00:00<?]"
      ]
     },
     "metadata": {},
     "output_type": "display_data"
    },
    {
     "name": "stdout",
     "output_type": "stream",
     "text": [
      "Epoch metrics: {'accuracy': 0.6025390625, 'crossentropy': 1.4993747472763062}\n"
     ]
    },
    {
     "data": {
      "application/vnd.jupyter.widget-view+json": {
       "model_id": "",
       "version_major": 2,
       "version_minor": 0
      },
      "text/plain": [
       "[1/16]   6%|6          [00:00<?]"
      ]
     },
     "metadata": {},
     "output_type": "display_data"
    },
    {
     "name": "stdout",
     "output_type": "stream",
     "text": [
      "Epoch metrics: {'accuracy': 0.6142578125, 'crossentropy': 1.546315312385559}\n"
     ]
    },
    {
     "data": {
      "application/vnd.jupyter.widget-view+json": {
       "model_id": "",
       "version_major": 2,
       "version_minor": 0
      },
      "text/plain": [
       "[1/16]   6%|6          [00:00<?]"
      ]
     },
     "metadata": {},
     "output_type": "display_data"
    },
    {
     "name": "stdout",
     "output_type": "stream",
     "text": [
      "Epoch metrics: {'accuracy': 0.603515625, 'crossentropy': 1.6430463790893555}\n",
      "RestoringEarlyStopping: 1 / 20\n"
     ]
    },
    {
     "data": {
      "application/vnd.jupyter.widget-view+json": {
       "model_id": "",
       "version_major": 2,
       "version_minor": 0
      },
      "text/plain": [
       "[1/16]   6%|6          [00:00<?]"
      ]
     },
     "metadata": {},
     "output_type": "display_data"
    },
    {
     "name": "stdout",
     "output_type": "stream",
     "text": [
      "Epoch metrics: {'accuracy': 0.60546875, 'crossentropy': 1.6495801210403442}\n",
      "RestoringEarlyStopping: 2 / 20\n"
     ]
    },
    {
     "data": {
      "application/vnd.jupyter.widget-view+json": {
       "model_id": "",
       "version_major": 2,
       "version_minor": 0
      },
      "text/plain": [
       "[1/16]   6%|6          [00:00<?]"
      ]
     },
     "metadata": {},
     "output_type": "display_data"
    },
    {
     "name": "stdout",
     "output_type": "stream",
     "text": [
      "Epoch metrics: {'accuracy': 0.6162109375, 'crossentropy': 1.6413298845291138}\n"
     ]
    },
    {
     "data": {
      "application/vnd.jupyter.widget-view+json": {
       "model_id": "",
       "version_major": 2,
       "version_minor": 0
      },
      "text/plain": [
       "[1/16]   6%|6          [00:00<?]"
      ]
     },
     "metadata": {},
     "output_type": "display_data"
    },
    {
     "name": "stdout",
     "output_type": "stream",
     "text": [
      "Epoch metrics: {'accuracy': 0.6123046875, 'crossentropy': 1.7124134302139282}\n",
      "RestoringEarlyStopping: 1 / 20\n"
     ]
    },
    {
     "data": {
      "application/vnd.jupyter.widget-view+json": {
       "model_id": "",
       "version_major": 2,
       "version_minor": 0
      },
      "text/plain": [
       "[1/16]   6%|6          [00:00<?]"
      ]
     },
     "metadata": {},
     "output_type": "display_data"
    },
    {
     "name": "stdout",
     "output_type": "stream",
     "text": [
      "Epoch metrics: {'accuracy': 0.6318359375, 'crossentropy': 1.6137335300445557}\n"
     ]
    },
    {
     "data": {
      "application/vnd.jupyter.widget-view+json": {
       "model_id": "",
       "version_major": 2,
       "version_minor": 0
      },
      "text/plain": [
       "[1/16]   6%|6          [00:00<?]"
      ]
     },
     "metadata": {},
     "output_type": "display_data"
    },
    {
     "name": "stdout",
     "output_type": "stream",
     "text": [
      "Epoch metrics: {'accuracy': 0.60546875, 'crossentropy': 1.7820192575454712}\n",
      "RestoringEarlyStopping: 1 / 20\n"
     ]
    },
    {
     "data": {
      "application/vnd.jupyter.widget-view+json": {
       "model_id": "",
       "version_major": 2,
       "version_minor": 0
      },
      "text/plain": [
       "[1/16]   6%|6          [00:00<?]"
      ]
     },
     "metadata": {},
     "output_type": "display_data"
    },
    {
     "name": "stdout",
     "output_type": "stream",
     "text": [
      "Epoch metrics: {'accuracy': 0.619140625, 'crossentropy': 1.6584652662277222}\n",
      "RestoringEarlyStopping: 2 / 20\n"
     ]
    },
    {
     "data": {
      "application/vnd.jupyter.widget-view+json": {
       "model_id": "",
       "version_major": 2,
       "version_minor": 0
      },
      "text/plain": [
       "[1/16]   6%|6          [00:00<?]"
      ]
     },
     "metadata": {},
     "output_type": "display_data"
    },
    {
     "name": "stdout",
     "output_type": "stream",
     "text": [
      "Epoch metrics: {'accuracy': 0.6162109375, 'crossentropy': 1.8200035095214844}\n",
      "RestoringEarlyStopping: 3 / 20\n"
     ]
    },
    {
     "data": {
      "application/vnd.jupyter.widget-view+json": {
       "model_id": "",
       "version_major": 2,
       "version_minor": 0
      },
      "text/plain": [
       "[1/16]   6%|6          [00:00<?]"
      ]
     },
     "metadata": {},
     "output_type": "display_data"
    },
    {
     "name": "stdout",
     "output_type": "stream",
     "text": [
      "Epoch metrics: {'accuracy': 0.599609375, 'crossentropy': 1.9349629878997803}\n",
      "RestoringEarlyStopping: 4 / 20\n"
     ]
    },
    {
     "data": {
      "application/vnd.jupyter.widget-view+json": {
       "model_id": "",
       "version_major": 2,
       "version_minor": 0
      },
      "text/plain": [
       "[1/16]   6%|6          [00:00<?]"
      ]
     },
     "metadata": {},
     "output_type": "display_data"
    },
    {
     "name": "stdout",
     "output_type": "stream",
     "text": [
      "Epoch metrics: {'accuracy': 0.623046875, 'crossentropy': 1.8347406387329102}\n",
      "RestoringEarlyStopping: 5 / 20\n"
     ]
    },
    {
     "data": {
      "application/vnd.jupyter.widget-view+json": {
       "model_id": "",
       "version_major": 2,
       "version_minor": 0
      },
      "text/plain": [
       "[1/16]   6%|6          [00:00<?]"
      ]
     },
     "metadata": {},
     "output_type": "display_data"
    },
    {
     "name": "stdout",
     "output_type": "stream",
     "text": [
      "Epoch metrics: {'accuracy': 0.623046875, 'crossentropy': 1.6977647542953491}\n",
      "RestoringEarlyStopping: 6 / 20\n"
     ]
    },
    {
     "data": {
      "application/vnd.jupyter.widget-view+json": {
       "model_id": "",
       "version_major": 2,
       "version_minor": 0
      },
      "text/plain": [
       "[1/16]   6%|6          [00:00<?]"
      ]
     },
     "metadata": {},
     "output_type": "display_data"
    },
    {
     "name": "stdout",
     "output_type": "stream",
     "text": [
      "Epoch metrics: {'accuracy': 0.6181640625, 'crossentropy': 1.7811791896820068}\n",
      "RestoringEarlyStopping: 7 / 20\n"
     ]
    },
    {
     "data": {
      "application/vnd.jupyter.widget-view+json": {
       "model_id": "",
       "version_major": 2,
       "version_minor": 0
      },
      "text/plain": [
       "[1/16]   6%|6          [00:00<?]"
      ]
     },
     "metadata": {},
     "output_type": "display_data"
    },
    {
     "name": "stdout",
     "output_type": "stream",
     "text": [
      "Epoch metrics: {'accuracy': 0.6181640625, 'crossentropy': 1.8008760213851929}\n",
      "RestoringEarlyStopping: 8 / 20\n"
     ]
    },
    {
     "data": {
      "application/vnd.jupyter.widget-view+json": {
       "model_id": "",
       "version_major": 2,
       "version_minor": 0
      },
      "text/plain": [
       "[1/16]   6%|6          [00:00<?]"
      ]
     },
     "metadata": {},
     "output_type": "display_data"
    },
    {
     "name": "stdout",
     "output_type": "stream",
     "text": [
      "Epoch metrics: {'accuracy': 0.6044921875, 'crossentropy': 1.799109697341919}\n",
      "RestoringEarlyStopping: 9 / 20\n"
     ]
    },
    {
     "data": {
      "application/vnd.jupyter.widget-view+json": {
       "model_id": "",
       "version_major": 2,
       "version_minor": 0
      },
      "text/plain": [
       "[1/16]   6%|6          [00:00<?]"
      ]
     },
     "metadata": {},
     "output_type": "display_data"
    },
    {
     "name": "stdout",
     "output_type": "stream",
     "text": [
      "Epoch metrics: {'accuracy': 0.6240234375, 'crossentropy': 1.8306230306625366}\n",
      "RestoringEarlyStopping: 10 / 20\n"
     ]
    },
    {
     "data": {
      "application/vnd.jupyter.widget-view+json": {
       "model_id": "",
       "version_major": 2,
       "version_minor": 0
      },
      "text/plain": [
       "[1/16]   6%|6          [00:00<?]"
      ]
     },
     "metadata": {},
     "output_type": "display_data"
    },
    {
     "name": "stdout",
     "output_type": "stream",
     "text": [
      "Epoch metrics: {'accuracy': 0.615234375, 'crossentropy': 1.9417650699615479}\n",
      "RestoringEarlyStopping: 11 / 20\n"
     ]
    },
    {
     "data": {
      "application/vnd.jupyter.widget-view+json": {
       "model_id": "",
       "version_major": 2,
       "version_minor": 0
      },
      "text/plain": [
       "[1/16]   6%|6          [00:00<?]"
      ]
     },
     "metadata": {},
     "output_type": "display_data"
    },
    {
     "name": "stdout",
     "output_type": "stream",
     "text": [
      "Epoch metrics: {'accuracy': 0.6142578125, 'crossentropy': 1.872727632522583}\n",
      "RestoringEarlyStopping: 12 / 20\n"
     ]
    },
    {
     "data": {
      "application/vnd.jupyter.widget-view+json": {
       "model_id": "",
       "version_major": 2,
       "version_minor": 0
      },
      "text/plain": [
       "[1/16]   6%|6          [00:00<?]"
      ]
     },
     "metadata": {},
     "output_type": "display_data"
    },
    {
     "name": "stdout",
     "output_type": "stream",
     "text": [
      "Epoch metrics: {'accuracy': 0.623046875, 'crossentropy': 1.802254557609558}\n",
      "RestoringEarlyStopping: 13 / 20\n"
     ]
    },
    {
     "data": {
      "application/vnd.jupyter.widget-view+json": {
       "model_id": "",
       "version_major": 2,
       "version_minor": 0
      },
      "text/plain": [
       "[1/16]   6%|6          [00:00<?]"
      ]
     },
     "metadata": {},
     "output_type": "display_data"
    },
    {
     "name": "stdout",
     "output_type": "stream",
     "text": [
      "Epoch metrics: {'accuracy': 0.6044921875, 'crossentropy': 2.0551059246063232}\n",
      "RestoringEarlyStopping: 14 / 20\n"
     ]
    },
    {
     "data": {
      "application/vnd.jupyter.widget-view+json": {
       "model_id": "",
       "version_major": 2,
       "version_minor": 0
      },
      "text/plain": [
       "[1/16]   6%|6          [00:00<?]"
      ]
     },
     "metadata": {},
     "output_type": "display_data"
    },
    {
     "name": "stdout",
     "output_type": "stream",
     "text": [
      "Epoch metrics: {'accuracy': 0.6005859375, 'crossentropy': 2.042090892791748}\n",
      "RestoringEarlyStopping: 15 / 20\n"
     ]
    },
    {
     "data": {
      "application/vnd.jupyter.widget-view+json": {
       "model_id": "",
       "version_major": 2,
       "version_minor": 0
      },
      "text/plain": [
       "[1/16]   6%|6          [00:00<?]"
      ]
     },
     "metadata": {},
     "output_type": "display_data"
    },
    {
     "name": "stdout",
     "output_type": "stream",
     "text": [
      "Epoch metrics: {'accuracy': 0.59375, 'crossentropy': 1.961662769317627}\n",
      "RestoringEarlyStopping: 16 / 20\n"
     ]
    },
    {
     "data": {
      "application/vnd.jupyter.widget-view+json": {
       "model_id": "",
       "version_major": 2,
       "version_minor": 0
      },
      "text/plain": [
       "[1/16]   6%|6          [00:00<?]"
      ]
     },
     "metadata": {},
     "output_type": "display_data"
    },
    {
     "name": "stdout",
     "output_type": "stream",
     "text": [
      "Epoch metrics: {'accuracy': 0.5947265625, 'crossentropy': 1.9146138429641724}\n",
      "RestoringEarlyStopping: 17 / 20\n"
     ]
    },
    {
     "data": {
      "application/vnd.jupyter.widget-view+json": {
       "model_id": "",
       "version_major": 2,
       "version_minor": 0
      },
      "text/plain": [
       "[1/16]   6%|6          [00:00<?]"
      ]
     },
     "metadata": {},
     "output_type": "display_data"
    },
    {
     "name": "stdout",
     "output_type": "stream",
     "text": [
      "Epoch metrics: {'accuracy': 0.6015625, 'crossentropy': 1.8821790218353271}\n",
      "RestoringEarlyStopping: 18 / 20\n"
     ]
    },
    {
     "data": {
      "application/vnd.jupyter.widget-view+json": {
       "model_id": "",
       "version_major": 2,
       "version_minor": 0
      },
      "text/plain": [
       "[1/16]   6%|6          [00:00<?]"
      ]
     },
     "metadata": {},
     "output_type": "display_data"
    },
    {
     "name": "stdout",
     "output_type": "stream",
     "text": [
      "Epoch metrics: {'accuracy': 0.59375, 'crossentropy': 2.0446882247924805}\n",
      "RestoringEarlyStopping: 19 / 20\n"
     ]
    },
    {
     "data": {
      "application/vnd.jupyter.widget-view+json": {
       "model_id": "",
       "version_major": 2,
       "version_minor": 0
      },
      "text/plain": [
       "[1/16]   6%|6          [00:00<?]"
      ]
     },
     "metadata": {},
     "output_type": "display_data"
    },
    {
     "name": "stdout",
     "output_type": "stream",
     "text": [
      "Epoch metrics: {'accuracy': 0.5908203125, 'crossentropy': 2.081068992614746}\n",
      "RestoringEarlyStopping: 20 / 20\n",
      "RestoringEarlyStopping: Out of patience\n",
      "RestoringEarlyStopping: Restoring best parameters. (Score: 0.6318359375)\n",
      "RestoringEarlyStopping: Restoring optimizer.\n",
      "{'model_training/val_metrics': <wandb.data_types.Table object at 0x7f4d8c6689a0>, 'model_training/best_epoch': 9, 'model_training/best_val_accuracy': 0.6318359375, 'model_training/best_val_crossentropy': 1.6137335300445557}\n"
     ]
    },
    {
     "data": {
      "application/vnd.jupyter.widget-view+json": {
       "model_id": "",
       "version_major": 2,
       "version_minor": 0
      },
      "text/plain": [
       "[1/79]   1%|1          [00:00<?]"
      ]
     },
     "metadata": {},
     "output_type": "display_data"
    },
    {
     "name": "stdout",
     "output_type": "stream",
     "text": [
      "Perf after training {'accuracy': 0.6053, 'crossentropy': 1.6513515625, '_timestamp': 1651187320, '_runtime': 52}\n"
     ]
    },
    {
     "data": {
      "application/vnd.jupyter.widget-view+json": {
       "model_id": "",
       "version_major": 2,
       "version_minor": 0
      },
      "text/plain": [
       "get_predictions_labels:   0%|          | 0/2007000 [00:00<?, ?it/s]"
      ]
     },
     "metadata": {},
     "output_type": "display_data"
    },
    {
     "data": {
      "application/vnd.jupyter.widget-view+json": {
       "model_id": "9b1a8e8591284752b808b48c8a471f3b",
       "version_major": 2,
       "version_minor": 0
      },
      "text/plain": [
       "  0%|          | 0/5 [00:00<?, ?it/s]"
      ]
     },
     "metadata": {},
     "output_type": "display_data"
    },
    {
     "data": {
      "application/vnd.jupyter.widget-view+json": {
       "model_id": "dce14d3290254954896ef18fb9d21f6b",
       "version_major": 2,
       "version_minor": 0
      },
      "text/plain": [
       "  0%|          | 0/5 [00:00<?, ?it/s]"
      ]
     },
     "metadata": {},
     "output_type": "display_data"
    },
    {
     "name": "stdout",
     "output_type": "stream",
     "text": [
      "Training set size 30:\n"
     ]
    },
    {
     "data": {
      "application/vnd.jupyter.widget-view+json": {
       "model_id": "de66e73996f34bf8ad7db962f7a5dd54",
       "version_major": 2,
       "version_minor": 0
      },
      "text/plain": [
       "  1%|          | 1/120 [00:00<?, ?it/s]"
      ]
     },
     "metadata": {},
     "output_type": "display_data"
    },
    {
     "data": {
      "application/vnd.jupyter.widget-view+json": {
       "model_id": "",
       "version_major": 2,
       "version_minor": 0
      },
      "text/plain": [
       "[1/16]   6%|6          [00:00<?]"
      ]
     },
     "metadata": {},
     "output_type": "display_data"
    },
    {
     "name": "stdout",
     "output_type": "stream",
     "text": [
      "Epoch metrics: {'accuracy': 0.4833984375, 'crossentropy': 1.7939091920852661}\n"
     ]
    },
    {
     "data": {
      "application/vnd.jupyter.widget-view+json": {
       "model_id": "",
       "version_major": 2,
       "version_minor": 0
      },
      "text/plain": [
       "[1/16]   6%|6          [00:00<?]"
      ]
     },
     "metadata": {},
     "output_type": "display_data"
    },
    {
     "name": "stdout",
     "output_type": "stream",
     "text": [
      "Epoch metrics: {'accuracy': 0.625, 'crossentropy': 1.3598222732543945}\n"
     ]
    },
    {
     "data": {
      "application/vnd.jupyter.widget-view+json": {
       "model_id": "",
       "version_major": 2,
       "version_minor": 0
      },
      "text/plain": [
       "[1/16]   6%|6          [00:00<?]"
      ]
     },
     "metadata": {},
     "output_type": "display_data"
    },
    {
     "name": "stdout",
     "output_type": "stream",
     "text": [
      "Epoch metrics: {'accuracy': 0.63671875, 'crossentropy': 1.2715601921081543}\n"
     ]
    },
    {
     "data": {
      "application/vnd.jupyter.widget-view+json": {
       "model_id": "",
       "version_major": 2,
       "version_minor": 0
      },
      "text/plain": [
       "[1/16]   6%|6          [00:00<?]"
      ]
     },
     "metadata": {},
     "output_type": "display_data"
    },
    {
     "name": "stdout",
     "output_type": "stream",
     "text": [
      "Epoch metrics: {'accuracy': 0.6357421875, 'crossentropy': 1.4956834316253662}\n",
      "RestoringEarlyStopping: 1 / 20\n"
     ]
    },
    {
     "data": {
      "application/vnd.jupyter.widget-view+json": {
       "model_id": "",
       "version_major": 2,
       "version_minor": 0
      },
      "text/plain": [
       "[1/16]   6%|6          [00:00<?]"
      ]
     },
     "metadata": {},
     "output_type": "display_data"
    },
    {
     "name": "stdout",
     "output_type": "stream",
     "text": [
      "Epoch metrics: {'accuracy': 0.6474609375, 'crossentropy': 1.3535583019256592}\n"
     ]
    },
    {
     "data": {
      "application/vnd.jupyter.widget-view+json": {
       "model_id": "",
       "version_major": 2,
       "version_minor": 0
      },
      "text/plain": [
       "[1/16]   6%|6          [00:00<?]"
      ]
     },
     "metadata": {},
     "output_type": "display_data"
    },
    {
     "name": "stdout",
     "output_type": "stream",
     "text": [
      "Epoch metrics: {'accuracy': 0.640625, 'crossentropy': 1.4745161533355713}\n",
      "RestoringEarlyStopping: 1 / 20\n"
     ]
    },
    {
     "data": {
      "application/vnd.jupyter.widget-view+json": {
       "model_id": "",
       "version_major": 2,
       "version_minor": 0
      },
      "text/plain": [
       "[1/16]   6%|6          [00:00<?]"
      ]
     },
     "metadata": {},
     "output_type": "display_data"
    },
    {
     "name": "stdout",
     "output_type": "stream",
     "text": [
      "Epoch metrics: {'accuracy': 0.634765625, 'crossentropy': 1.5511658191680908}\n",
      "RestoringEarlyStopping: 2 / 20\n"
     ]
    },
    {
     "data": {
      "application/vnd.jupyter.widget-view+json": {
       "model_id": "",
       "version_major": 2,
       "version_minor": 0
      },
      "text/plain": [
       "[1/16]   6%|6          [00:00<?]"
      ]
     },
     "metadata": {},
     "output_type": "display_data"
    },
    {
     "name": "stdout",
     "output_type": "stream",
     "text": [
      "Epoch metrics: {'accuracy': 0.6279296875, 'crossentropy': 1.675184726715088}\n",
      "RestoringEarlyStopping: 3 / 20\n"
     ]
    },
    {
     "data": {
      "application/vnd.jupyter.widget-view+json": {
       "model_id": "",
       "version_major": 2,
       "version_minor": 0
      },
      "text/plain": [
       "[1/16]   6%|6          [00:00<?]"
      ]
     },
     "metadata": {},
     "output_type": "display_data"
    },
    {
     "name": "stdout",
     "output_type": "stream",
     "text": [
      "Epoch metrics: {'accuracy': 0.630859375, 'crossentropy': 1.646170973777771}\n",
      "RestoringEarlyStopping: 4 / 20\n"
     ]
    },
    {
     "data": {
      "application/vnd.jupyter.widget-view+json": {
       "model_id": "",
       "version_major": 2,
       "version_minor": 0
      },
      "text/plain": [
       "[1/16]   6%|6          [00:00<?]"
      ]
     },
     "metadata": {},
     "output_type": "display_data"
    },
    {
     "name": "stdout",
     "output_type": "stream",
     "text": [
      "Epoch metrics: {'accuracy': 0.6328125, 'crossentropy': 1.6516377925872803}\n",
      "RestoringEarlyStopping: 5 / 20\n"
     ]
    },
    {
     "data": {
      "application/vnd.jupyter.widget-view+json": {
       "model_id": "",
       "version_major": 2,
       "version_minor": 0
      },
      "text/plain": [
       "[1/16]   6%|6          [00:00<?]"
      ]
     },
     "metadata": {},
     "output_type": "display_data"
    },
    {
     "name": "stdout",
     "output_type": "stream",
     "text": [
      "Epoch metrics: {'accuracy': 0.640625, 'crossentropy': 1.606212854385376}\n",
      "RestoringEarlyStopping: 6 / 20\n"
     ]
    },
    {
     "data": {
      "application/vnd.jupyter.widget-view+json": {
       "model_id": "",
       "version_major": 2,
       "version_minor": 0
      },
      "text/plain": [
       "[1/16]   6%|6          [00:00<?]"
      ]
     },
     "metadata": {},
     "output_type": "display_data"
    },
    {
     "name": "stdout",
     "output_type": "stream",
     "text": [
      "Epoch metrics: {'accuracy': 0.638671875, 'crossentropy': 1.576488733291626}\n",
      "RestoringEarlyStopping: 7 / 20\n"
     ]
    },
    {
     "data": {
      "application/vnd.jupyter.widget-view+json": {
       "model_id": "",
       "version_major": 2,
       "version_minor": 0
      },
      "text/plain": [
       "[1/16]   6%|6          [00:00<?]"
      ]
     },
     "metadata": {},
     "output_type": "display_data"
    },
    {
     "name": "stdout",
     "output_type": "stream",
     "text": [
      "Epoch metrics: {'accuracy': 0.6259765625, 'crossentropy': 1.8811843395233154}\n",
      "RestoringEarlyStopping: 8 / 20\n"
     ]
    },
    {
     "data": {
      "application/vnd.jupyter.widget-view+json": {
       "model_id": "",
       "version_major": 2,
       "version_minor": 0
      },
      "text/plain": [
       "[1/16]   6%|6          [00:00<?]"
      ]
     },
     "metadata": {},
     "output_type": "display_data"
    },
    {
     "name": "stdout",
     "output_type": "stream",
     "text": [
      "Epoch metrics: {'accuracy': 0.6416015625, 'crossentropy': 1.886958360671997}\n",
      "RestoringEarlyStopping: 9 / 20\n"
     ]
    },
    {
     "data": {
      "application/vnd.jupyter.widget-view+json": {
       "model_id": "",
       "version_major": 2,
       "version_minor": 0
      },
      "text/plain": [
       "[1/16]   6%|6          [00:00<?]"
      ]
     },
     "metadata": {},
     "output_type": "display_data"
    },
    {
     "name": "stdout",
     "output_type": "stream",
     "text": [
      "Epoch metrics: {'accuracy': 0.638671875, 'crossentropy': 1.863370418548584}\n",
      "RestoringEarlyStopping: 10 / 20\n"
     ]
    },
    {
     "data": {
      "application/vnd.jupyter.widget-view+json": {
       "model_id": "",
       "version_major": 2,
       "version_minor": 0
      },
      "text/plain": [
       "[1/16]   6%|6          [00:00<?]"
      ]
     },
     "metadata": {},
     "output_type": "display_data"
    },
    {
     "name": "stdout",
     "output_type": "stream",
     "text": [
      "Epoch metrics: {'accuracy': 0.62890625, 'crossentropy': 1.8208427429199219}\n",
      "RestoringEarlyStopping: 11 / 20\n"
     ]
    },
    {
     "data": {
      "application/vnd.jupyter.widget-view+json": {
       "model_id": "",
       "version_major": 2,
       "version_minor": 0
      },
      "text/plain": [
       "[1/16]   6%|6          [00:00<?]"
      ]
     },
     "metadata": {},
     "output_type": "display_data"
    },
    {
     "name": "stdout",
     "output_type": "stream",
     "text": [
      "Epoch metrics: {'accuracy': 0.646484375, 'crossentropy': 1.6873459815979004}\n",
      "RestoringEarlyStopping: 12 / 20\n"
     ]
    },
    {
     "data": {
      "application/vnd.jupyter.widget-view+json": {
       "model_id": "",
       "version_major": 2,
       "version_minor": 0
      },
      "text/plain": [
       "[1/16]   6%|6          [00:00<?]"
      ]
     },
     "metadata": {},
     "output_type": "display_data"
    },
    {
     "name": "stdout",
     "output_type": "stream",
     "text": [
      "Epoch metrics: {'accuracy': 0.642578125, 'crossentropy': 1.7016938924789429}\n",
      "RestoringEarlyStopping: 13 / 20\n"
     ]
    },
    {
     "data": {
      "application/vnd.jupyter.widget-view+json": {
       "model_id": "",
       "version_major": 2,
       "version_minor": 0
      },
      "text/plain": [
       "[1/16]   6%|6          [00:00<?]"
      ]
     },
     "metadata": {},
     "output_type": "display_data"
    },
    {
     "name": "stdout",
     "output_type": "stream",
     "text": [
      "Epoch metrics: {'accuracy': 0.638671875, 'crossentropy': 1.8637508153915405}\n",
      "RestoringEarlyStopping: 14 / 20\n"
     ]
    },
    {
     "data": {
      "application/vnd.jupyter.widget-view+json": {
       "model_id": "",
       "version_major": 2,
       "version_minor": 0
      },
      "text/plain": [
       "[1/16]   6%|6          [00:00<?]"
      ]
     },
     "metadata": {},
     "output_type": "display_data"
    },
    {
     "name": "stdout",
     "output_type": "stream",
     "text": [
      "Epoch metrics: {'accuracy': 0.6337890625, 'crossentropy': 1.780155062675476}\n",
      "RestoringEarlyStopping: 15 / 20\n"
     ]
    },
    {
     "data": {
      "application/vnd.jupyter.widget-view+json": {
       "model_id": "",
       "version_major": 2,
       "version_minor": 0
      },
      "text/plain": [
       "[1/16]   6%|6          [00:00<?]"
      ]
     },
     "metadata": {},
     "output_type": "display_data"
    },
    {
     "name": "stdout",
     "output_type": "stream",
     "text": [
      "Epoch metrics: {'accuracy': 0.6416015625, 'crossentropy': 1.7387900352478027}\n",
      "RestoringEarlyStopping: 16 / 20\n"
     ]
    },
    {
     "data": {
      "application/vnd.jupyter.widget-view+json": {
       "model_id": "",
       "version_major": 2,
       "version_minor": 0
      },
      "text/plain": [
       "[1/16]   6%|6          [00:00<?]"
      ]
     },
     "metadata": {},
     "output_type": "display_data"
    },
    {
     "name": "stdout",
     "output_type": "stream",
     "text": [
      "Epoch metrics: {'accuracy': 0.6376953125, 'crossentropy': 1.8353168964385986}\n",
      "RestoringEarlyStopping: 17 / 20\n"
     ]
    },
    {
     "data": {
      "application/vnd.jupyter.widget-view+json": {
       "model_id": "",
       "version_major": 2,
       "version_minor": 0
      },
      "text/plain": [
       "[1/16]   6%|6          [00:00<?]"
      ]
     },
     "metadata": {},
     "output_type": "display_data"
    },
    {
     "name": "stdout",
     "output_type": "stream",
     "text": [
      "Epoch metrics: {'accuracy': 0.638671875, 'crossentropy': 2.0483360290527344}\n",
      "RestoringEarlyStopping: 18 / 20\n"
     ]
    },
    {
     "data": {
      "application/vnd.jupyter.widget-view+json": {
       "model_id": "",
       "version_major": 2,
       "version_minor": 0
      },
      "text/plain": [
       "[1/16]   6%|6          [00:00<?]"
      ]
     },
     "metadata": {},
     "output_type": "display_data"
    },
    {
     "name": "stdout",
     "output_type": "stream",
     "text": [
      "Epoch metrics: {'accuracy': 0.6357421875, 'crossentropy': 1.9495981931686401}\n",
      "RestoringEarlyStopping: 19 / 20\n"
     ]
    },
    {
     "data": {
      "application/vnd.jupyter.widget-view+json": {
       "model_id": "",
       "version_major": 2,
       "version_minor": 0
      },
      "text/plain": [
       "[1/16]   6%|6          [00:00<?]"
      ]
     },
     "metadata": {},
     "output_type": "display_data"
    },
    {
     "name": "stdout",
     "output_type": "stream",
     "text": [
      "Epoch metrics: {'accuracy': 0.638671875, 'crossentropy': 1.749145746231079}\n",
      "RestoringEarlyStopping: 20 / 20\n",
      "RestoringEarlyStopping: Out of patience\n",
      "RestoringEarlyStopping: Restoring best parameters. (Score: 0.6474609375)\n",
      "RestoringEarlyStopping: Restoring optimizer.\n",
      "{'model_training/val_metrics': <wandb.data_types.Table object at 0x7f4d8c4de520>, 'model_training/best_epoch': 4, 'model_training/best_val_accuracy': 0.6474609375, 'model_training/best_val_crossentropy': 1.3535583019256592}\n"
     ]
    },
    {
     "data": {
      "application/vnd.jupyter.widget-view+json": {
       "model_id": "",
       "version_major": 2,
       "version_minor": 0
      },
      "text/plain": [
       "[1/79]   1%|1          [00:00<?]"
      ]
     },
     "metadata": {},
     "output_type": "display_data"
    },
    {
     "name": "stdout",
     "output_type": "stream",
     "text": [
      "Perf after training {'accuracy': 0.6322, 'crossentropy': 1.4178912109375, '_timestamp': 1651187348, '_runtime': 80}\n"
     ]
    },
    {
     "data": {
      "application/vnd.jupyter.widget-view+json": {
       "model_id": "",
       "version_major": 2,
       "version_minor": 0
      },
      "text/plain": [
       "get_predictions_labels:   0%|          | 0/2008000 [00:00<?, ?it/s]"
      ]
     },
     "metadata": {},
     "output_type": "display_data"
    },
    {
     "data": {
      "application/vnd.jupyter.widget-view+json": {
       "model_id": "85c5eb366b4349dd8428e48f0adb6147",
       "version_major": 2,
       "version_minor": 0
      },
      "text/plain": [
       "  0%|          | 0/5 [00:00<?, ?it/s]"
      ]
     },
     "metadata": {},
     "output_type": "display_data"
    },
    {
     "data": {
      "application/vnd.jupyter.widget-view+json": {
       "model_id": "f8f07d9f8e97456790964933809e3f51",
       "version_major": 2,
       "version_minor": 0
      },
      "text/plain": [
       "  0%|          | 0/5 [00:00<?, ?it/s]"
      ]
     },
     "metadata": {},
     "output_type": "display_data"
    },
    {
     "name": "stdout",
     "output_type": "stream",
     "text": [
      "Training set size 35:\n"
     ]
    },
    {
     "data": {
      "application/vnd.jupyter.widget-view+json": {
       "model_id": "79c80523a62e4dfb863eaa5ea6636c87",
       "version_major": 2,
       "version_minor": 0
      },
      "text/plain": [
       "  1%|          | 1/120 [00:00<?, ?it/s]"
      ]
     },
     "metadata": {},
     "output_type": "display_data"
    },
    {
     "data": {
      "application/vnd.jupyter.widget-view+json": {
       "model_id": "",
       "version_major": 2,
       "version_minor": 0
      },
      "text/plain": [
       "[1/16]   6%|6          [00:00<?]"
      ]
     },
     "metadata": {},
     "output_type": "display_data"
    },
    {
     "name": "stdout",
     "output_type": "stream",
     "text": [
      "Epoch metrics: {'accuracy': 0.3642578125, 'crossentropy': 1.9549784660339355}\n"
     ]
    },
    {
     "data": {
      "application/vnd.jupyter.widget-view+json": {
       "model_id": "",
       "version_major": 2,
       "version_minor": 0
      },
      "text/plain": [
       "[1/16]   6%|6          [00:00<?]"
      ]
     },
     "metadata": {},
     "output_type": "display_data"
    },
    {
     "name": "stdout",
     "output_type": "stream",
     "text": [
      "Epoch metrics: {'accuracy': 0.6015625, 'crossentropy': 1.375648856163025}\n"
     ]
    },
    {
     "data": {
      "application/vnd.jupyter.widget-view+json": {
       "model_id": "",
       "version_major": 2,
       "version_minor": 0
      },
      "text/plain": [
       "[1/16]   6%|6          [00:00<?]"
      ]
     },
     "metadata": {},
     "output_type": "display_data"
    },
    {
     "name": "stdout",
     "output_type": "stream",
     "text": [
      "Epoch metrics: {'accuracy': 0.6259765625, 'crossentropy': 1.3033690452575684}\n"
     ]
    },
    {
     "data": {
      "application/vnd.jupyter.widget-view+json": {
       "model_id": "",
       "version_major": 2,
       "version_minor": 0
      },
      "text/plain": [
       "[1/16]   6%|6          [00:00<?]"
      ]
     },
     "metadata": {},
     "output_type": "display_data"
    },
    {
     "name": "stdout",
     "output_type": "stream",
     "text": [
      "Epoch metrics: {'accuracy': 0.6220703125, 'crossentropy': 1.4706107378005981}\n",
      "RestoringEarlyStopping: 1 / 20\n"
     ]
    },
    {
     "data": {
      "application/vnd.jupyter.widget-view+json": {
       "model_id": "",
       "version_major": 2,
       "version_minor": 0
      },
      "text/plain": [
       "[1/16]   6%|6          [00:00<?]"
      ]
     },
     "metadata": {},
     "output_type": "display_data"
    },
    {
     "name": "stdout",
     "output_type": "stream",
     "text": [
      "Epoch metrics: {'accuracy': 0.6474609375, 'crossentropy': 1.4281833171844482}\n"
     ]
    },
    {
     "data": {
      "application/vnd.jupyter.widget-view+json": {
       "model_id": "",
       "version_major": 2,
       "version_minor": 0
      },
      "text/plain": [
       "[1/16]   6%|6          [00:00<?]"
      ]
     },
     "metadata": {},
     "output_type": "display_data"
    },
    {
     "name": "stdout",
     "output_type": "stream",
     "text": [
      "Epoch metrics: {'accuracy': 0.646484375, 'crossentropy': 1.4908554553985596}\n",
      "RestoringEarlyStopping: 1 / 20\n"
     ]
    },
    {
     "data": {
      "application/vnd.jupyter.widget-view+json": {
       "model_id": "",
       "version_major": 2,
       "version_minor": 0
      },
      "text/plain": [
       "[1/16]   6%|6          [00:00<?]"
      ]
     },
     "metadata": {},
     "output_type": "display_data"
    },
    {
     "name": "stdout",
     "output_type": "stream",
     "text": [
      "Epoch metrics: {'accuracy': 0.6591796875, 'crossentropy': 1.466894268989563}\n"
     ]
    },
    {
     "data": {
      "application/vnd.jupyter.widget-view+json": {
       "model_id": "",
       "version_major": 2,
       "version_minor": 0
      },
      "text/plain": [
       "[1/16]   6%|6          [00:00<?]"
      ]
     },
     "metadata": {},
     "output_type": "display_data"
    },
    {
     "name": "stdout",
     "output_type": "stream",
     "text": [
      "Epoch metrics: {'accuracy': 0.6376953125, 'crossentropy': 1.6962484121322632}\n",
      "RestoringEarlyStopping: 1 / 20\n"
     ]
    },
    {
     "data": {
      "application/vnd.jupyter.widget-view+json": {
       "model_id": "",
       "version_major": 2,
       "version_minor": 0
      },
      "text/plain": [
       "[1/16]   6%|6          [00:00<?]"
      ]
     },
     "metadata": {},
     "output_type": "display_data"
    },
    {
     "name": "stdout",
     "output_type": "stream",
     "text": [
      "Epoch metrics: {'accuracy': 0.6552734375, 'crossentropy': 1.5402953624725342}\n",
      "RestoringEarlyStopping: 2 / 20\n"
     ]
    },
    {
     "data": {
      "application/vnd.jupyter.widget-view+json": {
       "model_id": "",
       "version_major": 2,
       "version_minor": 0
      },
      "text/plain": [
       "[1/16]   6%|6          [00:00<?]"
      ]
     },
     "metadata": {},
     "output_type": "display_data"
    },
    {
     "name": "stdout",
     "output_type": "stream",
     "text": [
      "Epoch metrics: {'accuracy': 0.63671875, 'crossentropy': 1.6579644680023193}\n",
      "RestoringEarlyStopping: 3 / 20\n"
     ]
    },
    {
     "data": {
      "application/vnd.jupyter.widget-view+json": {
       "model_id": "",
       "version_major": 2,
       "version_minor": 0
      },
      "text/plain": [
       "[1/16]   6%|6          [00:00<?]"
      ]
     },
     "metadata": {},
     "output_type": "display_data"
    },
    {
     "name": "stdout",
     "output_type": "stream",
     "text": [
      "Epoch metrics: {'accuracy': 0.6328125, 'crossentropy': 1.7331483364105225}\n",
      "RestoringEarlyStopping: 4 / 20\n"
     ]
    },
    {
     "data": {
      "application/vnd.jupyter.widget-view+json": {
       "model_id": "",
       "version_major": 2,
       "version_minor": 0
      },
      "text/plain": [
       "[1/16]   6%|6          [00:00<?]"
      ]
     },
     "metadata": {},
     "output_type": "display_data"
    },
    {
     "name": "stdout",
     "output_type": "stream",
     "text": [
      "Epoch metrics: {'accuracy': 0.6337890625, 'crossentropy': 1.6831144094467163}\n",
      "RestoringEarlyStopping: 5 / 20\n"
     ]
    },
    {
     "data": {
      "application/vnd.jupyter.widget-view+json": {
       "model_id": "",
       "version_major": 2,
       "version_minor": 0
      },
      "text/plain": [
       "[1/16]   6%|6          [00:00<?]"
      ]
     },
     "metadata": {},
     "output_type": "display_data"
    },
    {
     "name": "stdout",
     "output_type": "stream",
     "text": [
      "Epoch metrics: {'accuracy': 0.6279296875, 'crossentropy': 1.7526617050170898}\n",
      "RestoringEarlyStopping: 6 / 20\n"
     ]
    },
    {
     "data": {
      "application/vnd.jupyter.widget-view+json": {
       "model_id": "",
       "version_major": 2,
       "version_minor": 0
      },
      "text/plain": [
       "[1/16]   6%|6          [00:00<?]"
      ]
     },
     "metadata": {},
     "output_type": "display_data"
    },
    {
     "name": "stdout",
     "output_type": "stream",
     "text": [
      "Epoch metrics: {'accuracy': 0.626953125, 'crossentropy': 1.7761213779449463}\n",
      "RestoringEarlyStopping: 7 / 20\n"
     ]
    },
    {
     "data": {
      "application/vnd.jupyter.widget-view+json": {
       "model_id": "",
       "version_major": 2,
       "version_minor": 0
      },
      "text/plain": [
       "[1/16]   6%|6          [00:00<?]"
      ]
     },
     "metadata": {},
     "output_type": "display_data"
    },
    {
     "name": "stdout",
     "output_type": "stream",
     "text": [
      "Epoch metrics: {'accuracy': 0.6416015625, 'crossentropy': 1.6970536708831787}\n",
      "RestoringEarlyStopping: 8 / 20\n"
     ]
    },
    {
     "data": {
      "application/vnd.jupyter.widget-view+json": {
       "model_id": "",
       "version_major": 2,
       "version_minor": 0
      },
      "text/plain": [
       "[1/16]   6%|6          [00:00<?]"
      ]
     },
     "metadata": {},
     "output_type": "display_data"
    },
    {
     "name": "stdout",
     "output_type": "stream",
     "text": [
      "Epoch metrics: {'accuracy': 0.6396484375, 'crossentropy': 1.6380906105041504}\n",
      "RestoringEarlyStopping: 9 / 20\n"
     ]
    },
    {
     "data": {
      "application/vnd.jupyter.widget-view+json": {
       "model_id": "",
       "version_major": 2,
       "version_minor": 0
      },
      "text/plain": [
       "[1/16]   6%|6          [00:00<?]"
      ]
     },
     "metadata": {},
     "output_type": "display_data"
    },
    {
     "name": "stdout",
     "output_type": "stream",
     "text": [
      "Epoch metrics: {'accuracy': 0.6416015625, 'crossentropy': 1.7314889430999756}\n",
      "RestoringEarlyStopping: 10 / 20\n"
     ]
    },
    {
     "data": {
      "application/vnd.jupyter.widget-view+json": {
       "model_id": "",
       "version_major": 2,
       "version_minor": 0
      },
      "text/plain": [
       "[1/16]   6%|6          [00:00<?]"
      ]
     },
     "metadata": {},
     "output_type": "display_data"
    },
    {
     "name": "stdout",
     "output_type": "stream",
     "text": [
      "Epoch metrics: {'accuracy': 0.63671875, 'crossentropy': 1.7219301462173462}\n",
      "RestoringEarlyStopping: 11 / 20\n"
     ]
    },
    {
     "data": {
      "application/vnd.jupyter.widget-view+json": {
       "model_id": "",
       "version_major": 2,
       "version_minor": 0
      },
      "text/plain": [
       "[1/16]   6%|6          [00:00<?]"
      ]
     },
     "metadata": {},
     "output_type": "display_data"
    },
    {
     "name": "stdout",
     "output_type": "stream",
     "text": [
      "Epoch metrics: {'accuracy': 0.6318359375, 'crossentropy': 1.6900439262390137}\n",
      "RestoringEarlyStopping: 12 / 20\n"
     ]
    },
    {
     "data": {
      "application/vnd.jupyter.widget-view+json": {
       "model_id": "",
       "version_major": 2,
       "version_minor": 0
      },
      "text/plain": [
       "[1/16]   6%|6          [00:00<?]"
      ]
     },
     "metadata": {},
     "output_type": "display_data"
    },
    {
     "name": "stdout",
     "output_type": "stream",
     "text": [
      "Epoch metrics: {'accuracy': 0.646484375, 'crossentropy': 1.6780420541763306}\n",
      "RestoringEarlyStopping: 13 / 20\n"
     ]
    },
    {
     "data": {
      "application/vnd.jupyter.widget-view+json": {
       "model_id": "",
       "version_major": 2,
       "version_minor": 0
      },
      "text/plain": [
       "[1/16]   6%|6          [00:00<?]"
      ]
     },
     "metadata": {},
     "output_type": "display_data"
    },
    {
     "name": "stdout",
     "output_type": "stream",
     "text": [
      "Epoch metrics: {'accuracy': 0.638671875, 'crossentropy': 1.7592166662216187}\n",
      "RestoringEarlyStopping: 14 / 20\n"
     ]
    },
    {
     "data": {
      "application/vnd.jupyter.widget-view+json": {
       "model_id": "",
       "version_major": 2,
       "version_minor": 0
      },
      "text/plain": [
       "[1/16]   6%|6          [00:00<?]"
      ]
     },
     "metadata": {},
     "output_type": "display_data"
    },
    {
     "name": "stdout",
     "output_type": "stream",
     "text": [
      "Epoch metrics: {'accuracy': 0.6376953125, 'crossentropy': 1.6724780797958374}\n",
      "RestoringEarlyStopping: 15 / 20\n"
     ]
    },
    {
     "data": {
      "application/vnd.jupyter.widget-view+json": {
       "model_id": "",
       "version_major": 2,
       "version_minor": 0
      },
      "text/plain": [
       "[1/16]   6%|6          [00:00<?]"
      ]
     },
     "metadata": {},
     "output_type": "display_data"
    },
    {
     "name": "stdout",
     "output_type": "stream",
     "text": [
      "Epoch metrics: {'accuracy': 0.6357421875, 'crossentropy': 1.7193139791488647}\n",
      "RestoringEarlyStopping: 16 / 20\n"
     ]
    },
    {
     "data": {
      "application/vnd.jupyter.widget-view+json": {
       "model_id": "",
       "version_major": 2,
       "version_minor": 0
      },
      "text/plain": [
       "[1/16]   6%|6          [00:00<?]"
      ]
     },
     "metadata": {},
     "output_type": "display_data"
    },
    {
     "name": "stdout",
     "output_type": "stream",
     "text": [
      "Epoch metrics: {'accuracy': 0.6416015625, 'crossentropy': 1.7677066326141357}\n",
      "RestoringEarlyStopping: 17 / 20\n"
     ]
    },
    {
     "data": {
      "application/vnd.jupyter.widget-view+json": {
       "model_id": "",
       "version_major": 2,
       "version_minor": 0
      },
      "text/plain": [
       "[1/16]   6%|6          [00:00<?]"
      ]
     },
     "metadata": {},
     "output_type": "display_data"
    },
    {
     "name": "stdout",
     "output_type": "stream",
     "text": [
      "Epoch metrics: {'accuracy': 0.6376953125, 'crossentropy': 1.6754975318908691}\n",
      "RestoringEarlyStopping: 18 / 20\n"
     ]
    },
    {
     "data": {
      "application/vnd.jupyter.widget-view+json": {
       "model_id": "",
       "version_major": 2,
       "version_minor": 0
      },
      "text/plain": [
       "[1/16]   6%|6          [00:00<?]"
      ]
     },
     "metadata": {},
     "output_type": "display_data"
    },
    {
     "name": "stdout",
     "output_type": "stream",
     "text": [
      "Epoch metrics: {'accuracy': 0.64453125, 'crossentropy': 1.7246756553649902}\n",
      "RestoringEarlyStopping: 19 / 20\n"
     ]
    },
    {
     "data": {
      "application/vnd.jupyter.widget-view+json": {
       "model_id": "",
       "version_major": 2,
       "version_minor": 0
      },
      "text/plain": [
       "[1/16]   6%|6          [00:00<?]"
      ]
     },
     "metadata": {},
     "output_type": "display_data"
    },
    {
     "name": "stdout",
     "output_type": "stream",
     "text": [
      "Epoch metrics: {'accuracy': 0.6455078125, 'crossentropy': 1.6523017883300781}\n",
      "RestoringEarlyStopping: 20 / 20\n",
      "RestoringEarlyStopping: Out of patience\n",
      "RestoringEarlyStopping: Restoring best parameters. (Score: 0.6591796875)\n",
      "RestoringEarlyStopping: Restoring optimizer.\n",
      "{'model_training/val_metrics': <wandb.data_types.Table object at 0x7f4d8c34f4c0>, 'model_training/best_epoch': 6, 'model_training/best_val_accuracy': 0.6591796875, 'model_training/best_val_crossentropy': 1.466894268989563}\n"
     ]
    },
    {
     "data": {
      "application/vnd.jupyter.widget-view+json": {
       "model_id": "",
       "version_major": 2,
       "version_minor": 0
      },
      "text/plain": [
       "[1/79]   1%|1          [00:00<?]"
      ]
     },
     "metadata": {},
     "output_type": "display_data"
    },
    {
     "name": "stdout",
     "output_type": "stream",
     "text": [
      "Perf after training {'accuracy': 0.6465, 'crossentropy': 1.47599228515625, '_timestamp': 1651187378, '_runtime': 110}\n"
     ]
    },
    {
     "data": {
      "application/vnd.jupyter.widget-view+json": {
       "model_id": "",
       "version_major": 2,
       "version_minor": 0
      },
      "text/plain": [
       "get_predictions_labels:   0%|          | 0/2009000 [00:00<?, ?it/s]"
      ]
     },
     "metadata": {},
     "output_type": "display_data"
    },
    {
     "data": {
      "application/vnd.jupyter.widget-view+json": {
       "model_id": "c168252070d248018c1e6c1389450c98",
       "version_major": 2,
       "version_minor": 0
      },
      "text/plain": [
       "  0%|          | 0/5 [00:00<?, ?it/s]"
      ]
     },
     "metadata": {},
     "output_type": "display_data"
    },
    {
     "data": {
      "application/vnd.jupyter.widget-view+json": {
       "model_id": "f0bbc2b22bec48c9b5b2d8d649abc741",
       "version_major": 2,
       "version_minor": 0
      },
      "text/plain": [
       "  0%|          | 0/5 [00:00<?, ?it/s]"
      ]
     },
     "metadata": {},
     "output_type": "display_data"
    },
    {
     "name": "stdout",
     "output_type": "stream",
     "text": [
      "Training set size 40:\n"
     ]
    },
    {
     "data": {
      "application/vnd.jupyter.widget-view+json": {
       "model_id": "1972571bbba34821b48a3ce920d152df",
       "version_major": 2,
       "version_minor": 0
      },
      "text/plain": [
       "  1%|          | 1/120 [00:00<?, ?it/s]"
      ]
     },
     "metadata": {},
     "output_type": "display_data"
    },
    {
     "data": {
      "application/vnd.jupyter.widget-view+json": {
       "model_id": "",
       "version_major": 2,
       "version_minor": 0
      },
      "text/plain": [
       "[1/16]   6%|6          [00:00<?]"
      ]
     },
     "metadata": {},
     "output_type": "display_data"
    },
    {
     "name": "stdout",
     "output_type": "stream",
     "text": [
      "Epoch metrics: {'accuracy': 0.5361328125, 'crossentropy': 1.92691969871521}\n"
     ]
    },
    {
     "data": {
      "application/vnd.jupyter.widget-view+json": {
       "model_id": "",
       "version_major": 2,
       "version_minor": 0
      },
      "text/plain": [
       "[1/16]   6%|6          [00:00<?]"
      ]
     },
     "metadata": {},
     "output_type": "display_data"
    },
    {
     "name": "stdout",
     "output_type": "stream",
     "text": [
      "Epoch metrics: {'accuracy': 0.642578125, 'crossentropy': 1.2635858058929443}\n"
     ]
    },
    {
     "data": {
      "application/vnd.jupyter.widget-view+json": {
       "model_id": "",
       "version_major": 2,
       "version_minor": 0
      },
      "text/plain": [
       "[1/16]   6%|6          [00:00<?]"
      ]
     },
     "metadata": {},
     "output_type": "display_data"
    },
    {
     "name": "stdout",
     "output_type": "stream",
     "text": [
      "Epoch metrics: {'accuracy': 0.7001953125, 'crossentropy': 1.0416051149368286}\n"
     ]
    },
    {
     "data": {
      "application/vnd.jupyter.widget-view+json": {
       "model_id": "",
       "version_major": 2,
       "version_minor": 0
      },
      "text/plain": [
       "[1/16]   6%|6          [00:00<?]"
      ]
     },
     "metadata": {},
     "output_type": "display_data"
    },
    {
     "name": "stdout",
     "output_type": "stream",
     "text": [
      "Epoch metrics: {'accuracy': 0.6728515625, 'crossentropy': 1.2102819681167603}\n",
      "RestoringEarlyStopping: 1 / 20\n"
     ]
    },
    {
     "data": {
      "application/vnd.jupyter.widget-view+json": {
       "model_id": "",
       "version_major": 2,
       "version_minor": 0
      },
      "text/plain": [
       "[1/16]   6%|6          [00:00<?]"
      ]
     },
     "metadata": {},
     "output_type": "display_data"
    },
    {
     "name": "stdout",
     "output_type": "stream",
     "text": [
      "Epoch metrics: {'accuracy': 0.69921875, 'crossentropy': 1.1185848712921143}\n",
      "RestoringEarlyStopping: 2 / 20\n"
     ]
    },
    {
     "data": {
      "application/vnd.jupyter.widget-view+json": {
       "model_id": "",
       "version_major": 2,
       "version_minor": 0
      },
      "text/plain": [
       "[1/16]   6%|6          [00:00<?]"
      ]
     },
     "metadata": {},
     "output_type": "display_data"
    },
    {
     "name": "stdout",
     "output_type": "stream",
     "text": [
      "Epoch metrics: {'accuracy': 0.6923828125, 'crossentropy': 1.154073715209961}\n",
      "RestoringEarlyStopping: 3 / 20\n"
     ]
    },
    {
     "data": {
      "application/vnd.jupyter.widget-view+json": {
       "model_id": "",
       "version_major": 2,
       "version_minor": 0
      },
      "text/plain": [
       "[1/16]   6%|6          [00:00<?]"
      ]
     },
     "metadata": {},
     "output_type": "display_data"
    },
    {
     "name": "stdout",
     "output_type": "stream",
     "text": [
      "Epoch metrics: {'accuracy': 0.6982421875, 'crossentropy': 1.2469472885131836}\n",
      "RestoringEarlyStopping: 4 / 20\n"
     ]
    },
    {
     "data": {
      "application/vnd.jupyter.widget-view+json": {
       "model_id": "",
       "version_major": 2,
       "version_minor": 0
      },
      "text/plain": [
       "[1/16]   6%|6          [00:00<?]"
      ]
     },
     "metadata": {},
     "output_type": "display_data"
    },
    {
     "name": "stdout",
     "output_type": "stream",
     "text": [
      "Epoch metrics: {'accuracy': 0.7109375, 'crossentropy': 1.2077317237854004}\n"
     ]
    },
    {
     "data": {
      "application/vnd.jupyter.widget-view+json": {
       "model_id": "",
       "version_major": 2,
       "version_minor": 0
      },
      "text/plain": [
       "[1/16]   6%|6          [00:00<?]"
      ]
     },
     "metadata": {},
     "output_type": "display_data"
    },
    {
     "name": "stdout",
     "output_type": "stream",
     "text": [
      "Epoch metrics: {'accuracy': 0.69140625, 'crossentropy': 1.256813645362854}\n",
      "RestoringEarlyStopping: 1 / 20\n"
     ]
    },
    {
     "data": {
      "application/vnd.jupyter.widget-view+json": {
       "model_id": "",
       "version_major": 2,
       "version_minor": 0
      },
      "text/plain": [
       "[1/16]   6%|6          [00:00<?]"
      ]
     },
     "metadata": {},
     "output_type": "display_data"
    },
    {
     "name": "stdout",
     "output_type": "stream",
     "text": [
      "Epoch metrics: {'accuracy': 0.6806640625, 'crossentropy': 1.3001667261123657}\n",
      "RestoringEarlyStopping: 2 / 20\n"
     ]
    },
    {
     "data": {
      "application/vnd.jupyter.widget-view+json": {
       "model_id": "",
       "version_major": 2,
       "version_minor": 0
      },
      "text/plain": [
       "[1/16]   6%|6          [00:00<?]"
      ]
     },
     "metadata": {},
     "output_type": "display_data"
    },
    {
     "name": "stdout",
     "output_type": "stream",
     "text": [
      "Epoch metrics: {'accuracy': 0.6875, 'crossentropy': 1.2882323265075684}\n",
      "RestoringEarlyStopping: 3 / 20\n"
     ]
    },
    {
     "data": {
      "application/vnd.jupyter.widget-view+json": {
       "model_id": "",
       "version_major": 2,
       "version_minor": 0
      },
      "text/plain": [
       "[1/16]   6%|6          [00:00<?]"
      ]
     },
     "metadata": {},
     "output_type": "display_data"
    },
    {
     "name": "stdout",
     "output_type": "stream",
     "text": [
      "Epoch metrics: {'accuracy': 0.6875, 'crossentropy': 1.3296780586242676}\n",
      "RestoringEarlyStopping: 4 / 20\n"
     ]
    },
    {
     "data": {
      "application/vnd.jupyter.widget-view+json": {
       "model_id": "",
       "version_major": 2,
       "version_minor": 0
      },
      "text/plain": [
       "[1/16]   6%|6          [00:00<?]"
      ]
     },
     "metadata": {},
     "output_type": "display_data"
    },
    {
     "name": "stdout",
     "output_type": "stream",
     "text": [
      "Epoch metrics: {'accuracy': 0.7236328125, 'crossentropy': 1.1155086755752563}\n"
     ]
    },
    {
     "data": {
      "application/vnd.jupyter.widget-view+json": {
       "model_id": "",
       "version_major": 2,
       "version_minor": 0
      },
      "text/plain": [
       "[1/16]   6%|6          [00:00<?]"
      ]
     },
     "metadata": {},
     "output_type": "display_data"
    },
    {
     "name": "stdout",
     "output_type": "stream",
     "text": [
      "Epoch metrics: {'accuracy': 0.70703125, 'crossentropy': 1.1215099096298218}\n",
      "RestoringEarlyStopping: 1 / 20\n"
     ]
    },
    {
     "data": {
      "application/vnd.jupyter.widget-view+json": {
       "model_id": "",
       "version_major": 2,
       "version_minor": 0
      },
      "text/plain": [
       "[1/16]   6%|6          [00:00<?]"
      ]
     },
     "metadata": {},
     "output_type": "display_data"
    },
    {
     "name": "stdout",
     "output_type": "stream",
     "text": [
      "Epoch metrics: {'accuracy': 0.6923828125, 'crossentropy': 1.3070564270019531}\n",
      "RestoringEarlyStopping: 2 / 20\n"
     ]
    },
    {
     "data": {
      "application/vnd.jupyter.widget-view+json": {
       "model_id": "",
       "version_major": 2,
       "version_minor": 0
      },
      "text/plain": [
       "[1/16]   6%|6          [00:00<?]"
      ]
     },
     "metadata": {},
     "output_type": "display_data"
    },
    {
     "name": "stdout",
     "output_type": "stream",
     "text": [
      "Epoch metrics: {'accuracy': 0.7041015625, 'crossentropy': 1.3424241542816162}\n",
      "RestoringEarlyStopping: 3 / 20\n"
     ]
    },
    {
     "data": {
      "application/vnd.jupyter.widget-view+json": {
       "model_id": "",
       "version_major": 2,
       "version_minor": 0
      },
      "text/plain": [
       "[1/16]   6%|6          [00:00<?]"
      ]
     },
     "metadata": {},
     "output_type": "display_data"
    },
    {
     "name": "stdout",
     "output_type": "stream",
     "text": [
      "Epoch metrics: {'accuracy': 0.7177734375, 'crossentropy': 1.2745146751403809}\n",
      "RestoringEarlyStopping: 4 / 20\n"
     ]
    },
    {
     "data": {
      "application/vnd.jupyter.widget-view+json": {
       "model_id": "",
       "version_major": 2,
       "version_minor": 0
      },
      "text/plain": [
       "[1/16]   6%|6          [00:00<?]"
      ]
     },
     "metadata": {},
     "output_type": "display_data"
    },
    {
     "name": "stdout",
     "output_type": "stream",
     "text": [
      "Epoch metrics: {'accuracy': 0.724609375, 'crossentropy': 1.2535779476165771}\n"
     ]
    },
    {
     "data": {
      "application/vnd.jupyter.widget-view+json": {
       "model_id": "",
       "version_major": 2,
       "version_minor": 0
      },
      "text/plain": [
       "[1/16]   6%|6          [00:00<?]"
      ]
     },
     "metadata": {},
     "output_type": "display_data"
    },
    {
     "name": "stdout",
     "output_type": "stream",
     "text": [
      "Epoch metrics: {'accuracy': 0.6982421875, 'crossentropy': 1.2466461658477783}\n",
      "RestoringEarlyStopping: 1 / 20\n"
     ]
    },
    {
     "data": {
      "application/vnd.jupyter.widget-view+json": {
       "model_id": "",
       "version_major": 2,
       "version_minor": 0
      },
      "text/plain": [
       "[1/16]   6%|6          [00:00<?]"
      ]
     },
     "metadata": {},
     "output_type": "display_data"
    },
    {
     "name": "stdout",
     "output_type": "stream",
     "text": [
      "Epoch metrics: {'accuracy': 0.7158203125, 'crossentropy': 1.298054575920105}\n",
      "RestoringEarlyStopping: 2 / 20\n"
     ]
    },
    {
     "data": {
      "application/vnd.jupyter.widget-view+json": {
       "model_id": "",
       "version_major": 2,
       "version_minor": 0
      },
      "text/plain": [
       "[1/16]   6%|6          [00:00<?]"
      ]
     },
     "metadata": {},
     "output_type": "display_data"
    },
    {
     "name": "stdout",
     "output_type": "stream",
     "text": [
      "Epoch metrics: {'accuracy': 0.7177734375, 'crossentropy': 1.2564595937728882}\n",
      "RestoringEarlyStopping: 3 / 20\n"
     ]
    },
    {
     "data": {
      "application/vnd.jupyter.widget-view+json": {
       "model_id": "",
       "version_major": 2,
       "version_minor": 0
      },
      "text/plain": [
       "[1/16]   6%|6          [00:00<?]"
      ]
     },
     "metadata": {},
     "output_type": "display_data"
    },
    {
     "name": "stdout",
     "output_type": "stream",
     "text": [
      "Epoch metrics: {'accuracy': 0.716796875, 'crossentropy': 1.1964534521102905}\n",
      "RestoringEarlyStopping: 4 / 20\n"
     ]
    },
    {
     "data": {
      "application/vnd.jupyter.widget-view+json": {
       "model_id": "",
       "version_major": 2,
       "version_minor": 0
      },
      "text/plain": [
       "[1/16]   6%|6          [00:00<?]"
      ]
     },
     "metadata": {},
     "output_type": "display_data"
    },
    {
     "name": "stdout",
     "output_type": "stream",
     "text": [
      "Epoch metrics: {'accuracy': 0.71875, 'crossentropy': 1.2139276266098022}\n",
      "RestoringEarlyStopping: 5 / 20\n"
     ]
    },
    {
     "data": {
      "application/vnd.jupyter.widget-view+json": {
       "model_id": "",
       "version_major": 2,
       "version_minor": 0
      },
      "text/plain": [
       "[1/16]   6%|6          [00:00<?]"
      ]
     },
     "metadata": {},
     "output_type": "display_data"
    },
    {
     "name": "stdout",
     "output_type": "stream",
     "text": [
      "Epoch metrics: {'accuracy': 0.712890625, 'crossentropy': 1.248416543006897}\n",
      "RestoringEarlyStopping: 6 / 20\n"
     ]
    },
    {
     "data": {
      "application/vnd.jupyter.widget-view+json": {
       "model_id": "",
       "version_major": 2,
       "version_minor": 0
      },
      "text/plain": [
       "[1/16]   6%|6          [00:00<?]"
      ]
     },
     "metadata": {},
     "output_type": "display_data"
    },
    {
     "name": "stdout",
     "output_type": "stream",
     "text": [
      "Epoch metrics: {'accuracy': 0.712890625, 'crossentropy': 1.3274636268615723}\n",
      "RestoringEarlyStopping: 7 / 20\n"
     ]
    },
    {
     "data": {
      "application/vnd.jupyter.widget-view+json": {
       "model_id": "",
       "version_major": 2,
       "version_minor": 0
      },
      "text/plain": [
       "[1/16]   6%|6          [00:00<?]"
      ]
     },
     "metadata": {},
     "output_type": "display_data"
    },
    {
     "name": "stdout",
     "output_type": "stream",
     "text": [
      "Epoch metrics: {'accuracy': 0.7041015625, 'crossentropy': 1.3250964879989624}\n",
      "RestoringEarlyStopping: 8 / 20\n"
     ]
    },
    {
     "data": {
      "application/vnd.jupyter.widget-view+json": {
       "model_id": "",
       "version_major": 2,
       "version_minor": 0
      },
      "text/plain": [
       "[1/16]   6%|6          [00:00<?]"
      ]
     },
     "metadata": {},
     "output_type": "display_data"
    },
    {
     "name": "stdout",
     "output_type": "stream",
     "text": [
      "Epoch metrics: {'accuracy': 0.720703125, 'crossentropy': 1.3411786556243896}\n",
      "RestoringEarlyStopping: 9 / 20\n"
     ]
    },
    {
     "data": {
      "application/vnd.jupyter.widget-view+json": {
       "model_id": "",
       "version_major": 2,
       "version_minor": 0
      },
      "text/plain": [
       "[1/16]   6%|6          [00:00<?]"
      ]
     },
     "metadata": {},
     "output_type": "display_data"
    },
    {
     "name": "stdout",
     "output_type": "stream",
     "text": [
      "Epoch metrics: {'accuracy': 0.708984375, 'crossentropy': 1.400192379951477}\n",
      "RestoringEarlyStopping: 10 / 20\n"
     ]
    },
    {
     "data": {
      "application/vnd.jupyter.widget-view+json": {
       "model_id": "",
       "version_major": 2,
       "version_minor": 0
      },
      "text/plain": [
       "[1/16]   6%|6          [00:00<?]"
      ]
     },
     "metadata": {},
     "output_type": "display_data"
    },
    {
     "name": "stdout",
     "output_type": "stream",
     "text": [
      "Epoch metrics: {'accuracy': 0.7041015625, 'crossentropy': 1.4479238986968994}\n",
      "RestoringEarlyStopping: 11 / 20\n"
     ]
    },
    {
     "data": {
      "application/vnd.jupyter.widget-view+json": {
       "model_id": "",
       "version_major": 2,
       "version_minor": 0
      },
      "text/plain": [
       "[1/16]   6%|6          [00:00<?]"
      ]
     },
     "metadata": {},
     "output_type": "display_data"
    },
    {
     "name": "stdout",
     "output_type": "stream",
     "text": [
      "Epoch metrics: {'accuracy': 0.7119140625, 'crossentropy': 1.277262568473816}\n",
      "RestoringEarlyStopping: 12 / 20\n"
     ]
    },
    {
     "data": {
      "application/vnd.jupyter.widget-view+json": {
       "model_id": "",
       "version_major": 2,
       "version_minor": 0
      },
      "text/plain": [
       "[1/16]   6%|6          [00:00<?]"
      ]
     },
     "metadata": {},
     "output_type": "display_data"
    },
    {
     "name": "stdout",
     "output_type": "stream",
     "text": [
      "Epoch metrics: {'accuracy': 0.708984375, 'crossentropy': 1.358046531677246}\n",
      "RestoringEarlyStopping: 13 / 20\n"
     ]
    },
    {
     "data": {
      "application/vnd.jupyter.widget-view+json": {
       "model_id": "",
       "version_major": 2,
       "version_minor": 0
      },
      "text/plain": [
       "[1/16]   6%|6          [00:00<?]"
      ]
     },
     "metadata": {},
     "output_type": "display_data"
    },
    {
     "name": "stdout",
     "output_type": "stream",
     "text": [
      "Epoch metrics: {'accuracy': 0.7158203125, 'crossentropy': 1.4503519535064697}\n",
      "RestoringEarlyStopping: 14 / 20\n"
     ]
    },
    {
     "data": {
      "application/vnd.jupyter.widget-view+json": {
       "model_id": "",
       "version_major": 2,
       "version_minor": 0
      },
      "text/plain": [
       "[1/16]   6%|6          [00:00<?]"
      ]
     },
     "metadata": {},
     "output_type": "display_data"
    },
    {
     "name": "stdout",
     "output_type": "stream",
     "text": [
      "Epoch metrics: {'accuracy': 0.71875, 'crossentropy': 1.342147946357727}\n",
      "RestoringEarlyStopping: 15 / 20\n"
     ]
    },
    {
     "data": {
      "application/vnd.jupyter.widget-view+json": {
       "model_id": "",
       "version_major": 2,
       "version_minor": 0
      },
      "text/plain": [
       "[1/16]   6%|6          [00:00<?]"
      ]
     },
     "metadata": {},
     "output_type": "display_data"
    },
    {
     "name": "stdout",
     "output_type": "stream",
     "text": [
      "Epoch metrics: {'accuracy': 0.7197265625, 'crossentropy': 1.2747952938079834}\n",
      "RestoringEarlyStopping: 16 / 20\n"
     ]
    },
    {
     "data": {
      "application/vnd.jupyter.widget-view+json": {
       "model_id": "",
       "version_major": 2,
       "version_minor": 0
      },
      "text/plain": [
       "[1/16]   6%|6          [00:00<?]"
      ]
     },
     "metadata": {},
     "output_type": "display_data"
    },
    {
     "name": "stdout",
     "output_type": "stream",
     "text": [
      "Epoch metrics: {'accuracy': 0.7080078125, 'crossentropy': 1.4223017692565918}\n",
      "RestoringEarlyStopping: 17 / 20\n"
     ]
    },
    {
     "data": {
      "application/vnd.jupyter.widget-view+json": {
       "model_id": "",
       "version_major": 2,
       "version_minor": 0
      },
      "text/plain": [
       "[1/16]   6%|6          [00:00<?]"
      ]
     },
     "metadata": {},
     "output_type": "display_data"
    },
    {
     "name": "stdout",
     "output_type": "stream",
     "text": [
      "Epoch metrics: {'accuracy': 0.7158203125, 'crossentropy': 1.2920024394989014}\n",
      "RestoringEarlyStopping: 18 / 20\n"
     ]
    },
    {
     "data": {
      "application/vnd.jupyter.widget-view+json": {
       "model_id": "",
       "version_major": 2,
       "version_minor": 0
      },
      "text/plain": [
       "[1/16]   6%|6          [00:00<?]"
      ]
     },
     "metadata": {},
     "output_type": "display_data"
    },
    {
     "name": "stdout",
     "output_type": "stream",
     "text": [
      "Epoch metrics: {'accuracy': 0.716796875, 'crossentropy': 1.279114842414856}\n",
      "RestoringEarlyStopping: 19 / 20\n"
     ]
    },
    {
     "data": {
      "application/vnd.jupyter.widget-view+json": {
       "model_id": "",
       "version_major": 2,
       "version_minor": 0
      },
      "text/plain": [
       "[1/16]   6%|6          [00:00<?]"
      ]
     },
     "metadata": {},
     "output_type": "display_data"
    },
    {
     "name": "stdout",
     "output_type": "stream",
     "text": [
      "Epoch metrics: {'accuracy': 0.7060546875, 'crossentropy': 1.3292289972305298}\n",
      "RestoringEarlyStopping: 20 / 20\n",
      "RestoringEarlyStopping: Out of patience\n",
      "RestoringEarlyStopping: Restoring best parameters. (Score: 0.724609375)\n",
      "RestoringEarlyStopping: Restoring optimizer.\n",
      "{'model_training/val_metrics': <wandb.data_types.Table object at 0x7f4d8c152460>, 'model_training/best_epoch': 17, 'model_training/best_val_accuracy': 0.724609375, 'model_training/best_val_crossentropy': 1.2535779476165771}\n"
     ]
    },
    {
     "data": {
      "application/vnd.jupyter.widget-view+json": {
       "model_id": "",
       "version_major": 2,
       "version_minor": 0
      },
      "text/plain": [
       "[1/79]   1%|1          [00:00<?]"
      ]
     },
     "metadata": {},
     "output_type": "display_data"
    },
    {
     "name": "stdout",
     "output_type": "stream",
     "text": [
      "Perf after training {'accuracy': 0.7121, 'crossentropy': 1.22771279296875, '_timestamp': 1651187413, '_runtime': 145}\n"
     ]
    },
    {
     "data": {
      "application/vnd.jupyter.widget-view+json": {
       "model_id": "84ee0808bbde468596e7abe7f7ce82d6",
       "version_major": 2,
       "version_minor": 0
      },
      "text/plain": [
       "get_predictions_labels:   0%|          | 0/2010000 [00:00<?, ?it/s]"
      ]
     },
     "metadata": {},
     "output_type": "display_data"
    },
    {
     "ename": "KeyboardInterrupt",
     "evalue": "",
     "output_type": "error",
     "traceback": [
      "\u001b[0;31m---------------------------------------------------------------------------\u001b[0m",
      "\u001b[0;31mKeyboardInterrupt\u001b[0m                         Traceback (most recent call last)",
      "\u001b[0;32m<ipython-input-19-d6b98c690543>\u001b[0m in \u001b[0;36m<module>\u001b[0;34m\u001b[0m\n\u001b[1;32m      4\u001b[0m \u001b[0;34m\u001b[0m\u001b[0m\n\u001b[1;32m      5\u001b[0m \u001b[0mresults\u001b[0m \u001b[0;34m=\u001b[0m \u001b[0;34m{\u001b[0m\u001b[0;34m}\u001b[0m\u001b[0;34m\u001b[0m\u001b[0;34m\u001b[0m\u001b[0m\n\u001b[0;32m----> 6\u001b[0;31m \u001b[0mexperiment\u001b[0m\u001b[0;34m.\u001b[0m\u001b[0mrun\u001b[0m\u001b[0;34m(\u001b[0m\u001b[0mresults\u001b[0m\u001b[0;34m)\u001b[0m\u001b[0;34m\u001b[0m\u001b[0;34m\u001b[0m\u001b[0m\n\u001b[0m",
      "\u001b[0;32m<ipython-input-17-514dc4e0fe0e>\u001b[0m in \u001b[0;36mrun\u001b[0;34m(self, store)\u001b[0m\n\u001b[1;32m    360\u001b[0m             \u001b[0mprint\u001b[0m\u001b[0;34m(\u001b[0m\u001b[0;34mf\"Perf after training {evaluation_metrics}\"\u001b[0m\u001b[0;34m)\u001b[0m\u001b[0;34m\u001b[0m\u001b[0;34m\u001b[0m\u001b[0m\n\u001b[1;32m    361\u001b[0m \u001b[0;34m\u001b[0m\u001b[0m\n\u001b[0;32m--> 362\u001b[0;31m             obi_results, obi_topk_ensemble_results = evaluate_online_bayesian_inference(\n\u001b[0m\u001b[1;32m    363\u001b[0m                 \u001b[0mmodel\u001b[0m\u001b[0;34m=\u001b[0m\u001b[0mmodel_optimizer\u001b[0m\u001b[0;34m.\u001b[0m\u001b[0mmodel\u001b[0m\u001b[0;34m,\u001b[0m\u001b[0;34m\u001b[0m\u001b[0;34m\u001b[0m\u001b[0m\n\u001b[1;32m    364\u001b[0m                 \u001b[0mreal_training_set_size\u001b[0m\u001b[0;34m=\u001b[0m\u001b[0mtraining_set_size\u001b[0m\u001b[0;34m,\u001b[0m\u001b[0;34m\u001b[0m\u001b[0;34m\u001b[0m\u001b[0m\n",
      "\u001b[0;32m~/PycharmProjects/bald-ical/batchbald_redux/online_bayesian_inference.py\u001b[0m in \u001b[0;36mevaluate_online_bayesian_inference\u001b[0;34m(model, real_training_set_size, train_dataset, test_dataset, training_indices, start_index, num_samples_list, num_trials, up_factor, eval_batchsize, device)\u001b[0m\n\u001b[1;32m     33\u001b[0m                                        \u001b[0mnum_trials\u001b[0m\u001b[0;34m:\u001b[0m \u001b[0mint\u001b[0m\u001b[0;34m,\u001b[0m\u001b[0;34m\u001b[0m\u001b[0;34m\u001b[0m\u001b[0m\n\u001b[1;32m     34\u001b[0m                                        up_factor: int, eval_batchsize: int, device) -> List[OBIPerformance]:\n\u001b[0;32m---> 35\u001b[0;31m     log_probs_N_M_C, labels_N = get_obi_predictions_labels(model, test_dataset=test_dataset,\n\u001b[0m\u001b[1;32m     36\u001b[0m                                                            \u001b[0mtrain_dataset\u001b[0m\u001b[0;34m=\u001b[0m\u001b[0mtrain_dataset\u001b[0m\u001b[0;34m,\u001b[0m\u001b[0;34m\u001b[0m\u001b[0;34m\u001b[0m\u001b[0m\n\u001b[1;32m     37\u001b[0m                                                            \u001b[0mtraining_indices\u001b[0m\u001b[0;34m=\u001b[0m\u001b[0mtraining_indices\u001b[0m\u001b[0;34m,\u001b[0m\u001b[0;34m\u001b[0m\u001b[0;34m\u001b[0m\u001b[0m\n",
      "\u001b[0;32m~/PycharmProjects/bald-ical/batchbald_redux/online_bayesian_inference.py\u001b[0m in \u001b[0;36mget_obi_predictions_labels\u001b[0;34m(model, test_dataset, train_dataset, training_indices, num_samples, eval_batchsize, device)\u001b[0m\n\u001b[1;32m     73\u001b[0m         \u001b[0mjoint_set\u001b[0m\u001b[0;34m,\u001b[0m \u001b[0mbatch_size\u001b[0m\u001b[0;34m=\u001b[0m\u001b[0meval_batchsize\u001b[0m\u001b[0;34m,\u001b[0m \u001b[0mdrop_last\u001b[0m\u001b[0;34m=\u001b[0m\u001b[0;32mFalse\u001b[0m\u001b[0;34m,\u001b[0m \u001b[0mshuffle\u001b[0m\u001b[0;34m=\u001b[0m\u001b[0;32mFalse\u001b[0m\u001b[0;34m\u001b[0m\u001b[0;34m\u001b[0m\u001b[0m\n\u001b[1;32m     74\u001b[0m     )\n\u001b[0;32m---> 75\u001b[0;31m     log_probs_N_M_C, labels_N = model.get_predictions_labels(num_samples=num_samples, loader=joint_loader,\n\u001b[0m\u001b[1;32m     76\u001b[0m                                                              \u001b[0mdevice\u001b[0m\u001b[0;34m=\u001b[0m\u001b[0mdevice\u001b[0m\u001b[0;34m,\u001b[0m\u001b[0;34m\u001b[0m\u001b[0;34m\u001b[0m\u001b[0m\n\u001b[1;32m     77\u001b[0m                                                              storage_device=\"cpu\")\n",
      "\u001b[0;32m~/PycharmProjects/bald-ical/batchbald_redux/consistent_mc_dropout.py\u001b[0m in \u001b[0;36mget_predictions_labels\u001b[0;34m(self, num_samples, loader, device, storage_device)\u001b[0m\n\u001b[1;32m    147\u001b[0m         \u001b[0mself\u001b[0m\u001b[0;34m,\u001b[0m \u001b[0;34m*\u001b[0m\u001b[0;34m,\u001b[0m \u001b[0mnum_samples\u001b[0m\u001b[0;34m:\u001b[0m \u001b[0mint\u001b[0m\u001b[0;34m,\u001b[0m \u001b[0mloader\u001b[0m\u001b[0;34m:\u001b[0m \u001b[0mdata\u001b[0m\u001b[0;34m.\u001b[0m\u001b[0mDataLoader\u001b[0m\u001b[0;34m,\u001b[0m \u001b[0mdevice\u001b[0m\u001b[0;34m,\u001b[0m \u001b[0mstorage_device\u001b[0m\u001b[0;34m\u001b[0m\u001b[0;34m\u001b[0m\u001b[0m\n\u001b[1;32m    148\u001b[0m     ):\n\u001b[0;32m--> 149\u001b[0;31m         return bmodule_get_predictions_labels(\n\u001b[0m\u001b[1;32m    150\u001b[0m             \u001b[0mself\u001b[0m\u001b[0;34m,\u001b[0m\u001b[0;34m\u001b[0m\u001b[0;34m\u001b[0m\u001b[0m\n\u001b[1;32m    151\u001b[0m             \u001b[0mnum_samples\u001b[0m\u001b[0;34m=\u001b[0m\u001b[0mnum_samples\u001b[0m\u001b[0;34m,\u001b[0m\u001b[0;34m\u001b[0m\u001b[0;34m\u001b[0m\u001b[0m\n",
      "\u001b[0;32m~/anaconda3/envs/active_learning/lib/python3.8/site-packages/torch/autograd/grad_mode.py\u001b[0m in \u001b[0;36mdecorate_context\u001b[0;34m(*args, **kwargs)\u001b[0m\n\u001b[1;32m     26\u001b[0m         \u001b[0;32mdef\u001b[0m \u001b[0mdecorate_context\u001b[0m\u001b[0;34m(\u001b[0m\u001b[0;34m*\u001b[0m\u001b[0margs\u001b[0m\u001b[0;34m,\u001b[0m \u001b[0;34m**\u001b[0m\u001b[0mkwargs\u001b[0m\u001b[0;34m)\u001b[0m\u001b[0;34m:\u001b[0m\u001b[0;34m\u001b[0m\u001b[0;34m\u001b[0m\u001b[0m\n\u001b[1;32m     27\u001b[0m             \u001b[0;32mwith\u001b[0m \u001b[0mself\u001b[0m\u001b[0;34m.\u001b[0m\u001b[0m__class__\u001b[0m\u001b[0;34m(\u001b[0m\u001b[0;34m)\u001b[0m\u001b[0;34m:\u001b[0m\u001b[0;34m\u001b[0m\u001b[0;34m\u001b[0m\u001b[0m\n\u001b[0;32m---> 28\u001b[0;31m                 \u001b[0;32mreturn\u001b[0m \u001b[0mfunc\u001b[0m\u001b[0;34m(\u001b[0m\u001b[0;34m*\u001b[0m\u001b[0margs\u001b[0m\u001b[0;34m,\u001b[0m \u001b[0;34m**\u001b[0m\u001b[0mkwargs\u001b[0m\u001b[0;34m)\u001b[0m\u001b[0;34m\u001b[0m\u001b[0;34m\u001b[0m\u001b[0m\n\u001b[0m\u001b[1;32m     29\u001b[0m         \u001b[0;32mreturn\u001b[0m \u001b[0mcast\u001b[0m\u001b[0;34m(\u001b[0m\u001b[0mF\u001b[0m\u001b[0;34m,\u001b[0m \u001b[0mdecorate_context\u001b[0m\u001b[0;34m)\u001b[0m\u001b[0;34m\u001b[0m\u001b[0;34m\u001b[0m\u001b[0m\n\u001b[1;32m     30\u001b[0m \u001b[0;34m\u001b[0m\u001b[0m\n",
      "\u001b[0;32m~/PycharmProjects/bald-ical/batchbald_redux/consistent_mc_dropout.py\u001b[0m in \u001b[0;36mbmodule_get_predictions_labels\u001b[0;34m(self, num_samples, loader, device, storage_device)\u001b[0m\n\u001b[1;32m    391\u001b[0m \u001b[0;34m\u001b[0m\u001b[0m\n\u001b[1;32m    392\u001b[0m     \u001b[0;34m@\u001b[0m\u001b[0mtoma\u001b[0m\u001b[0;34m.\u001b[0m\u001b[0mexecute\u001b[0m\u001b[0;34m.\u001b[0m\u001b[0mrange\u001b[0m\u001b[0;34m(\u001b[0m\u001b[0;36m0\u001b[0m\u001b[0;34m,\u001b[0m \u001b[0mnum_samples\u001b[0m\u001b[0;34m,\u001b[0m \u001b[0;36m128\u001b[0m\u001b[0;34m)\u001b[0m\u001b[0;34m\u001b[0m\u001b[0;34m\u001b[0m\u001b[0m\n\u001b[0;32m--> 393\u001b[0;31m     \u001b[0;32mdef\u001b[0m \u001b[0mget_prediction_batch\u001b[0m\u001b[0;34m(\u001b[0m\u001b[0mstart\u001b[0m\u001b[0;34m,\u001b[0m \u001b[0mend\u001b[0m\u001b[0;34m)\u001b[0m\u001b[0;34m:\u001b[0m\u001b[0;34m\u001b[0m\u001b[0;34m\u001b[0m\u001b[0m\n\u001b[0m\u001b[1;32m    394\u001b[0m         \u001b[0;32mnonlocal\u001b[0m \u001b[0mpredictions\u001b[0m\u001b[0;34m\u001b[0m\u001b[0;34m\u001b[0m\u001b[0m\n\u001b[1;32m    395\u001b[0m         \u001b[0;32mnonlocal\u001b[0m \u001b[0mlabels\u001b[0m\u001b[0;34m\u001b[0m\u001b[0;34m\u001b[0m\u001b[0m\n",
      "\u001b[0;32m~/anaconda3/envs/active_learning/lib/python3.8/site-packages/toma/__init__.py\u001b[0m in \u001b[0;36mexecute_range\u001b[0;34m(func)\u001b[0m\n\u001b[1;32m    184\u001b[0m \u001b[0;34m\u001b[0m\u001b[0m\n\u001b[1;32m    185\u001b[0m             \u001b[0;32mdef\u001b[0m \u001b[0mexecute_range\u001b[0m\u001b[0;34m(\u001b[0m\u001b[0mfunc\u001b[0m\u001b[0;34m)\u001b[0m\u001b[0;34m:\u001b[0m\u001b[0;34m\u001b[0m\u001b[0;34m\u001b[0m\u001b[0m\n\u001b[0;32m--> 186\u001b[0;31m                 \u001b[0;32mreturn\u001b[0m \u001b[0mexplicit\u001b[0m\u001b[0;34m.\u001b[0m\u001b[0mrange\u001b[0m\u001b[0;34m(\u001b[0m\u001b[0mfunc\u001b[0m\u001b[0;34m,\u001b[0m \u001b[0mstart\u001b[0m\u001b[0;34m,\u001b[0m \u001b[0mend\u001b[0m\u001b[0;34m,\u001b[0m \u001b[0minitial_step\u001b[0m\u001b[0;34m,\u001b[0m \u001b[0mtoma_cache_type\u001b[0m\u001b[0;34m=\u001b[0m\u001b[0mcache_type\u001b[0m\u001b[0;34m,\u001b[0m \u001b[0mtoma_context\u001b[0m\u001b[0;34m=\u001b[0m\u001b[0mcontext\u001b[0m\u001b[0;34m)\u001b[0m\u001b[0;34m\u001b[0m\u001b[0;34m\u001b[0m\u001b[0m\n\u001b[0m\u001b[1;32m    187\u001b[0m \u001b[0;34m\u001b[0m\u001b[0m\n\u001b[1;32m    188\u001b[0m             \u001b[0;32mreturn\u001b[0m \u001b[0mexecute_range\u001b[0m\u001b[0;34m\u001b[0m\u001b[0;34m\u001b[0m\u001b[0m\n",
      "\u001b[0;32m~/anaconda3/envs/active_learning/lib/python3.8/site-packages/toma/__init__.py\u001b[0m in \u001b[0;36mrange\u001b[0;34m(func, start, end, initial_step, toma_context, toma_cache_type, *args, **kwargs)\u001b[0m\n\u001b[1;32m    267\u001b[0m         \u001b[0;32mwhile\u001b[0m \u001b[0mcurrent\u001b[0m \u001b[0;34m<\u001b[0m \u001b[0mend\u001b[0m\u001b[0;34m:\u001b[0m\u001b[0;34m\u001b[0m\u001b[0;34m\u001b[0m\u001b[0m\n\u001b[1;32m    268\u001b[0m             \u001b[0;32mtry\u001b[0m\u001b[0;34m:\u001b[0m\u001b[0;34m\u001b[0m\u001b[0;34m\u001b[0m\u001b[0m\n\u001b[0;32m--> 269\u001b[0;31m                 \u001b[0mfunc\u001b[0m\u001b[0;34m(\u001b[0m\u001b[0mcurrent\u001b[0m\u001b[0;34m,\u001b[0m \u001b[0mmin\u001b[0m\u001b[0;34m(\u001b[0m\u001b[0mcurrent\u001b[0m \u001b[0;34m+\u001b[0m \u001b[0mbatchsize\u001b[0m\u001b[0;34m.\u001b[0m\u001b[0mget\u001b[0m\u001b[0;34m(\u001b[0m\u001b[0;34m)\u001b[0m\u001b[0;34m,\u001b[0m \u001b[0mend\u001b[0m\u001b[0;34m)\u001b[0m\u001b[0;34m,\u001b[0m \u001b[0;34m*\u001b[0m\u001b[0margs\u001b[0m\u001b[0;34m,\u001b[0m \u001b[0;34m**\u001b[0m\u001b[0mkwargs\u001b[0m\u001b[0;34m)\u001b[0m\u001b[0;34m\u001b[0m\u001b[0;34m\u001b[0m\u001b[0m\n\u001b[0m\u001b[1;32m    270\u001b[0m                 \u001b[0mcurrent\u001b[0m \u001b[0;34m+=\u001b[0m \u001b[0mbatchsize\u001b[0m\u001b[0;34m.\u001b[0m\u001b[0mget\u001b[0m\u001b[0;34m(\u001b[0m\u001b[0;34m)\u001b[0m\u001b[0;34m\u001b[0m\u001b[0;34m\u001b[0m\u001b[0m\n\u001b[1;32m    271\u001b[0m                 \u001b[0mgc_cuda\u001b[0m\u001b[0;34m(\u001b[0m\u001b[0;34m)\u001b[0m\u001b[0;34m\u001b[0m\u001b[0;34m\u001b[0m\u001b[0m\n",
      "\u001b[0;32m~/PycharmProjects/bald-ical/batchbald_redux/consistent_mc_dropout.py\u001b[0m in \u001b[0;36mget_prediction_batch\u001b[0;34m(start, end)\u001b[0m\n\u001b[1;32m    405\u001b[0m \u001b[0;34m\u001b[0m\u001b[0m\n\u001b[1;32m    406\u001b[0m         \u001b[0mdata_start\u001b[0m \u001b[0;34m=\u001b[0m \u001b[0;36m0\u001b[0m\u001b[0;34m\u001b[0m\u001b[0;34m\u001b[0m\u001b[0m\n\u001b[0;32m--> 407\u001b[0;31m         \u001b[0;32mfor\u001b[0m \u001b[0mbatch_x\u001b[0m\u001b[0;34m,\u001b[0m \u001b[0mbatch_labels\u001b[0m \u001b[0;32min\u001b[0m \u001b[0mloader\u001b[0m\u001b[0;34m:\u001b[0m\u001b[0;34m\u001b[0m\u001b[0;34m\u001b[0m\u001b[0m\n\u001b[0m\u001b[1;32m    408\u001b[0m             \u001b[0mbatch_x\u001b[0m \u001b[0;34m=\u001b[0m \u001b[0mbatch_x\u001b[0m\u001b[0;34m.\u001b[0m\u001b[0mto\u001b[0m\u001b[0;34m(\u001b[0m\u001b[0mdevice\u001b[0m\u001b[0;34m=\u001b[0m\u001b[0mdevice\u001b[0m\u001b[0;34m,\u001b[0m \u001b[0mnon_blocking\u001b[0m\u001b[0;34m=\u001b[0m\u001b[0;32mTrue\u001b[0m\u001b[0;34m)\u001b[0m\u001b[0;34m\u001b[0m\u001b[0;34m\u001b[0m\u001b[0m\n\u001b[1;32m    409\u001b[0m             \u001b[0mbatch_predictions\u001b[0m \u001b[0;34m=\u001b[0m \u001b[0mself\u001b[0m\u001b[0;34m(\u001b[0m\u001b[0mbatch_x\u001b[0m\u001b[0;34m,\u001b[0m \u001b[0mnum_sub_samples\u001b[0m\u001b[0;34m)\u001b[0m\u001b[0;34m\u001b[0m\u001b[0;34m\u001b[0m\u001b[0m\n",
      "\u001b[0;32m~/anaconda3/envs/active_learning/lib/python3.8/site-packages/torch/utils/data/dataloader.py\u001b[0m in \u001b[0;36m__next__\u001b[0;34m(self)\u001b[0m\n\u001b[1;32m    519\u001b[0m             \u001b[0;32mif\u001b[0m \u001b[0mself\u001b[0m\u001b[0;34m.\u001b[0m\u001b[0m_sampler_iter\u001b[0m \u001b[0;32mis\u001b[0m \u001b[0;32mNone\u001b[0m\u001b[0;34m:\u001b[0m\u001b[0;34m\u001b[0m\u001b[0;34m\u001b[0m\u001b[0m\n\u001b[1;32m    520\u001b[0m                 \u001b[0mself\u001b[0m\u001b[0;34m.\u001b[0m\u001b[0m_reset\u001b[0m\u001b[0;34m(\u001b[0m\u001b[0;34m)\u001b[0m\u001b[0;34m\u001b[0m\u001b[0;34m\u001b[0m\u001b[0m\n\u001b[0;32m--> 521\u001b[0;31m             \u001b[0mdata\u001b[0m \u001b[0;34m=\u001b[0m \u001b[0mself\u001b[0m\u001b[0;34m.\u001b[0m\u001b[0m_next_data\u001b[0m\u001b[0;34m(\u001b[0m\u001b[0;34m)\u001b[0m\u001b[0;34m\u001b[0m\u001b[0;34m\u001b[0m\u001b[0m\n\u001b[0m\u001b[1;32m    522\u001b[0m             \u001b[0mself\u001b[0m\u001b[0;34m.\u001b[0m\u001b[0m_num_yielded\u001b[0m \u001b[0;34m+=\u001b[0m \u001b[0;36m1\u001b[0m\u001b[0;34m\u001b[0m\u001b[0;34m\u001b[0m\u001b[0m\n\u001b[1;32m    523\u001b[0m             \u001b[0;32mif\u001b[0m \u001b[0mself\u001b[0m\u001b[0;34m.\u001b[0m\u001b[0m_dataset_kind\u001b[0m \u001b[0;34m==\u001b[0m \u001b[0m_DatasetKind\u001b[0m\u001b[0;34m.\u001b[0m\u001b[0mIterable\u001b[0m \u001b[0;32mand\u001b[0m\u001b[0;31m \u001b[0m\u001b[0;31m\\\u001b[0m\u001b[0;34m\u001b[0m\u001b[0;34m\u001b[0m\u001b[0m\n",
      "\u001b[0;32m~/anaconda3/envs/active_learning/lib/python3.8/site-packages/torch/utils/data/dataloader.py\u001b[0m in \u001b[0;36m_next_data\u001b[0;34m(self)\u001b[0m\n\u001b[1;32m    559\u001b[0m     \u001b[0;32mdef\u001b[0m \u001b[0m_next_data\u001b[0m\u001b[0;34m(\u001b[0m\u001b[0mself\u001b[0m\u001b[0;34m)\u001b[0m\u001b[0;34m:\u001b[0m\u001b[0;34m\u001b[0m\u001b[0;34m\u001b[0m\u001b[0m\n\u001b[1;32m    560\u001b[0m         \u001b[0mindex\u001b[0m \u001b[0;34m=\u001b[0m \u001b[0mself\u001b[0m\u001b[0;34m.\u001b[0m\u001b[0m_next_index\u001b[0m\u001b[0;34m(\u001b[0m\u001b[0;34m)\u001b[0m  \u001b[0;31m# may raise StopIteration\u001b[0m\u001b[0;34m\u001b[0m\u001b[0;34m\u001b[0m\u001b[0m\n\u001b[0;32m--> 561\u001b[0;31m         \u001b[0mdata\u001b[0m \u001b[0;34m=\u001b[0m \u001b[0mself\u001b[0m\u001b[0;34m.\u001b[0m\u001b[0m_dataset_fetcher\u001b[0m\u001b[0;34m.\u001b[0m\u001b[0mfetch\u001b[0m\u001b[0;34m(\u001b[0m\u001b[0mindex\u001b[0m\u001b[0;34m)\u001b[0m  \u001b[0;31m# may raise StopIteration\u001b[0m\u001b[0;34m\u001b[0m\u001b[0;34m\u001b[0m\u001b[0m\n\u001b[0m\u001b[1;32m    562\u001b[0m         \u001b[0;32mif\u001b[0m \u001b[0mself\u001b[0m\u001b[0;34m.\u001b[0m\u001b[0m_pin_memory\u001b[0m\u001b[0;34m:\u001b[0m\u001b[0;34m\u001b[0m\u001b[0;34m\u001b[0m\u001b[0m\n\u001b[1;32m    563\u001b[0m             \u001b[0mdata\u001b[0m \u001b[0;34m=\u001b[0m \u001b[0m_utils\u001b[0m\u001b[0;34m.\u001b[0m\u001b[0mpin_memory\u001b[0m\u001b[0;34m.\u001b[0m\u001b[0mpin_memory\u001b[0m\u001b[0;34m(\u001b[0m\u001b[0mdata\u001b[0m\u001b[0;34m)\u001b[0m\u001b[0;34m\u001b[0m\u001b[0;34m\u001b[0m\u001b[0m\n",
      "\u001b[0;32m~/anaconda3/envs/active_learning/lib/python3.8/site-packages/torch/utils/data/_utils/fetch.py\u001b[0m in \u001b[0;36mfetch\u001b[0;34m(self, possibly_batched_index)\u001b[0m\n\u001b[1;32m     47\u001b[0m     \u001b[0;32mdef\u001b[0m \u001b[0mfetch\u001b[0m\u001b[0;34m(\u001b[0m\u001b[0mself\u001b[0m\u001b[0;34m,\u001b[0m \u001b[0mpossibly_batched_index\u001b[0m\u001b[0;34m)\u001b[0m\u001b[0;34m:\u001b[0m\u001b[0;34m\u001b[0m\u001b[0;34m\u001b[0m\u001b[0m\n\u001b[1;32m     48\u001b[0m         \u001b[0;32mif\u001b[0m \u001b[0mself\u001b[0m\u001b[0;34m.\u001b[0m\u001b[0mauto_collation\u001b[0m\u001b[0;34m:\u001b[0m\u001b[0;34m\u001b[0m\u001b[0;34m\u001b[0m\u001b[0m\n\u001b[0;32m---> 49\u001b[0;31m             \u001b[0mdata\u001b[0m \u001b[0;34m=\u001b[0m \u001b[0;34m[\u001b[0m\u001b[0mself\u001b[0m\u001b[0;34m.\u001b[0m\u001b[0mdataset\u001b[0m\u001b[0;34m[\u001b[0m\u001b[0midx\u001b[0m\u001b[0;34m]\u001b[0m \u001b[0;32mfor\u001b[0m \u001b[0midx\u001b[0m \u001b[0;32min\u001b[0m \u001b[0mpossibly_batched_index\u001b[0m\u001b[0;34m]\u001b[0m\u001b[0;34m\u001b[0m\u001b[0;34m\u001b[0m\u001b[0m\n\u001b[0m\u001b[1;32m     50\u001b[0m         \u001b[0;32melse\u001b[0m\u001b[0;34m:\u001b[0m\u001b[0;34m\u001b[0m\u001b[0;34m\u001b[0m\u001b[0m\n\u001b[1;32m     51\u001b[0m             \u001b[0mdata\u001b[0m \u001b[0;34m=\u001b[0m \u001b[0mself\u001b[0m\u001b[0;34m.\u001b[0m\u001b[0mdataset\u001b[0m\u001b[0;34m[\u001b[0m\u001b[0mpossibly_batched_index\u001b[0m\u001b[0;34m]\u001b[0m\u001b[0;34m\u001b[0m\u001b[0;34m\u001b[0m\u001b[0m\n",
      "\u001b[0;32m~/anaconda3/envs/active_learning/lib/python3.8/site-packages/torch/utils/data/_utils/fetch.py\u001b[0m in \u001b[0;36m<listcomp>\u001b[0;34m(.0)\u001b[0m\n\u001b[1;32m     47\u001b[0m     \u001b[0;32mdef\u001b[0m \u001b[0mfetch\u001b[0m\u001b[0;34m(\u001b[0m\u001b[0mself\u001b[0m\u001b[0;34m,\u001b[0m \u001b[0mpossibly_batched_index\u001b[0m\u001b[0;34m)\u001b[0m\u001b[0;34m:\u001b[0m\u001b[0;34m\u001b[0m\u001b[0;34m\u001b[0m\u001b[0m\n\u001b[1;32m     48\u001b[0m         \u001b[0;32mif\u001b[0m \u001b[0mself\u001b[0m\u001b[0;34m.\u001b[0m\u001b[0mauto_collation\u001b[0m\u001b[0;34m:\u001b[0m\u001b[0;34m\u001b[0m\u001b[0;34m\u001b[0m\u001b[0m\n\u001b[0;32m---> 49\u001b[0;31m             \u001b[0mdata\u001b[0m \u001b[0;34m=\u001b[0m \u001b[0;34m[\u001b[0m\u001b[0mself\u001b[0m\u001b[0;34m.\u001b[0m\u001b[0mdataset\u001b[0m\u001b[0;34m[\u001b[0m\u001b[0midx\u001b[0m\u001b[0;34m]\u001b[0m \u001b[0;32mfor\u001b[0m \u001b[0midx\u001b[0m \u001b[0;32min\u001b[0m \u001b[0mpossibly_batched_index\u001b[0m\u001b[0;34m]\u001b[0m\u001b[0;34m\u001b[0m\u001b[0;34m\u001b[0m\u001b[0m\n\u001b[0m\u001b[1;32m     50\u001b[0m         \u001b[0;32melse\u001b[0m\u001b[0;34m:\u001b[0m\u001b[0;34m\u001b[0m\u001b[0;34m\u001b[0m\u001b[0m\n\u001b[1;32m     51\u001b[0m             \u001b[0mdata\u001b[0m \u001b[0;34m=\u001b[0m \u001b[0mself\u001b[0m\u001b[0;34m.\u001b[0m\u001b[0mdataset\u001b[0m\u001b[0;34m[\u001b[0m\u001b[0mpossibly_batched_index\u001b[0m\u001b[0;34m]\u001b[0m\u001b[0;34m\u001b[0m\u001b[0;34m\u001b[0m\u001b[0m\n",
      "\u001b[0;32m~/PycharmProjects/bald-ical/batchbald_redux/dataset_challenges.py\u001b[0m in \u001b[0;36m__getitem__\u001b[0;34m(self, idx)\u001b[0m\n\u001b[1;32m     51\u001b[0m \u001b[0;34m\u001b[0m\u001b[0m\n\u001b[1;32m     52\u001b[0m     \u001b[0;32mdef\u001b[0m \u001b[0m__getitem__\u001b[0m\u001b[0;34m(\u001b[0m\u001b[0mself\u001b[0m\u001b[0;34m,\u001b[0m \u001b[0midx\u001b[0m\u001b[0;34m)\u001b[0m\u001b[0;34m:\u001b[0m\u001b[0;34m\u001b[0m\u001b[0;34m\u001b[0m\u001b[0m\n\u001b[0;32m---> 53\u001b[0;31m         \u001b[0;32mreturn\u001b[0m \u001b[0mself\u001b[0m\u001b[0;34m.\u001b[0m\u001b[0mdataset\u001b[0m\u001b[0;34m[\u001b[0m\u001b[0midx\u001b[0m\u001b[0;34m]\u001b[0m\u001b[0;34m\u001b[0m\u001b[0;34m\u001b[0m\u001b[0m\n\u001b[0m\u001b[1;32m     54\u001b[0m \u001b[0;34m\u001b[0m\u001b[0m\n\u001b[1;32m     55\u001b[0m     \u001b[0;32mdef\u001b[0m \u001b[0m__len__\u001b[0m\u001b[0;34m(\u001b[0m\u001b[0mself\u001b[0m\u001b[0;34m)\u001b[0m\u001b[0;34m:\u001b[0m\u001b[0;34m\u001b[0m\u001b[0;34m\u001b[0m\u001b[0m\n",
      "\u001b[0;32m~/anaconda3/envs/active_learning/lib/python3.8/site-packages/torch/utils/data/dataset.py\u001b[0m in \u001b[0;36m__getitem__\u001b[0;34m(self, idx)\u001b[0m\n\u001b[1;32m    306\u001b[0m         \u001b[0;32melse\u001b[0m\u001b[0;34m:\u001b[0m\u001b[0;34m\u001b[0m\u001b[0;34m\u001b[0m\u001b[0m\n\u001b[1;32m    307\u001b[0m             \u001b[0msample_idx\u001b[0m \u001b[0;34m=\u001b[0m \u001b[0midx\u001b[0m \u001b[0;34m-\u001b[0m \u001b[0mself\u001b[0m\u001b[0;34m.\u001b[0m\u001b[0mcumulative_sizes\u001b[0m\u001b[0;34m[\u001b[0m\u001b[0mdataset_idx\u001b[0m \u001b[0;34m-\u001b[0m \u001b[0;36m1\u001b[0m\u001b[0;34m]\u001b[0m\u001b[0;34m\u001b[0m\u001b[0;34m\u001b[0m\u001b[0m\n\u001b[0;32m--> 308\u001b[0;31m         \u001b[0;32mreturn\u001b[0m \u001b[0mself\u001b[0m\u001b[0;34m.\u001b[0m\u001b[0mdatasets\u001b[0m\u001b[0;34m[\u001b[0m\u001b[0mdataset_idx\u001b[0m\u001b[0;34m]\u001b[0m\u001b[0;34m[\u001b[0m\u001b[0msample_idx\u001b[0m\u001b[0;34m]\u001b[0m\u001b[0;34m\u001b[0m\u001b[0;34m\u001b[0m\u001b[0m\n\u001b[0m\u001b[1;32m    309\u001b[0m \u001b[0;34m\u001b[0m\u001b[0m\n\u001b[1;32m    310\u001b[0m     \u001b[0;34m@\u001b[0m\u001b[0mproperty\u001b[0m\u001b[0;34m\u001b[0m\u001b[0;34m\u001b[0m\u001b[0m\n",
      "\u001b[0;32m~/PycharmProjects/bald-ical/batchbald_redux/dataset_challenges.py\u001b[0m in \u001b[0;36m__getitem__\u001b[0;34m(self, idx)\u001b[0m\n\u001b[1;32m     51\u001b[0m \u001b[0;34m\u001b[0m\u001b[0m\n\u001b[1;32m     52\u001b[0m     \u001b[0;32mdef\u001b[0m \u001b[0m__getitem__\u001b[0m\u001b[0;34m(\u001b[0m\u001b[0mself\u001b[0m\u001b[0;34m,\u001b[0m \u001b[0midx\u001b[0m\u001b[0;34m)\u001b[0m\u001b[0;34m:\u001b[0m\u001b[0;34m\u001b[0m\u001b[0;34m\u001b[0m\u001b[0m\n\u001b[0;32m---> 53\u001b[0;31m         \u001b[0;32mreturn\u001b[0m \u001b[0mself\u001b[0m\u001b[0;34m.\u001b[0m\u001b[0mdataset\u001b[0m\u001b[0;34m[\u001b[0m\u001b[0midx\u001b[0m\u001b[0;34m]\u001b[0m\u001b[0;34m\u001b[0m\u001b[0;34m\u001b[0m\u001b[0m\n\u001b[0m\u001b[1;32m     54\u001b[0m \u001b[0;34m\u001b[0m\u001b[0m\n\u001b[1;32m     55\u001b[0m     \u001b[0;32mdef\u001b[0m \u001b[0m__len__\u001b[0m\u001b[0;34m(\u001b[0m\u001b[0mself\u001b[0m\u001b[0;34m)\u001b[0m\u001b[0;34m:\u001b[0m\u001b[0;34m\u001b[0m\u001b[0;34m\u001b[0m\u001b[0m\n",
      "\u001b[0;31mKeyboardInterrupt\u001b[0m: "
     ]
    }
   ],
   "source": [
    "# experiment\n",
    "\n",
    "experiment = Experiment(seed=1120, num_pool_samples=100, device=\"cuda\", num_samples_list=(10, 100), random_acquisition=True)\n",
    "\n",
    "results = {}\n",
    "experiment.run(results)"
   ]
  },
  {
   "cell_type": "code",
   "execution_count": null,
   "metadata": {
    "tags": []
   },
   "outputs": [
    {
     "data": {
      "text/plain": [
       "{'initial_training_set_indices': [51348,\n",
       "  49110,\n",
       "  8222,\n",
       "  28130,\n",
       "  13484,\n",
       "  47685,\n",
       "  3938,\n",
       "  59930,\n",
       "  49196,\n",
       "  19427,\n",
       "  4601,\n",
       "  49922,\n",
       "  45635,\n",
       "  35684,\n",
       "  3579,\n",
       "  7621,\n",
       "  8465,\n",
       "  33959,\n",
       "  27521,\n",
       "  27015],\n",
       " 'dataset_info': {'training': \"'FastMNIST (train)'\",\n",
       "  'test': \"'FastMNIST (test, 10000 samples)'\"},\n",
       " 'obi_performances': [[OBIPerformance(total_training_set_size=20, real_training_set_size=20, online_training_set_size=0, trial_index=0, num_samples=10, accuracy=0.538100004196167, crossentropy=1.516221893453387),\n",
       "   OBIPerformance(total_training_set_size=20, real_training_set_size=20, online_training_set_size=0, trial_index=1, num_samples=10, accuracy=0.5690000057220459, crossentropy=1.394369463295061),\n",
       "   OBIPerformance(total_training_set_size=20, real_training_set_size=20, online_training_set_size=0, trial_index=2, num_samples=10, accuracy=0.578000009059906, crossentropy=1.4390312500523),\n",
       "   OBIPerformance(total_training_set_size=20, real_training_set_size=20, online_training_set_size=0, trial_index=3, num_samples=10, accuracy=0.5702999830245972, crossentropy=1.3985775331252561),\n",
       "   OBIPerformance(total_training_set_size=20, real_training_set_size=20, online_training_set_size=0, trial_index=4, num_samples=10, accuracy=0.5687000155448914, crossentropy=1.4096811979439918),\n",
       "   OBIPerformance(total_training_set_size=20, real_training_set_size=20, online_training_set_size=0, trial_index=0, num_samples=100, accuracy=0.589900016784668, crossentropy=1.335559089110711),\n",
       "   OBIPerformance(total_training_set_size=20, real_training_set_size=20, online_training_set_size=0, trial_index=1, num_samples=100, accuracy=0.5927000045776367, crossentropy=1.3349937885306855),\n",
       "   OBIPerformance(total_training_set_size=20, real_training_set_size=20, online_training_set_size=0, trial_index=2, num_samples=100, accuracy=0.5892999768257141, crossentropy=1.3305602299056785),\n",
       "   OBIPerformance(total_training_set_size=20, real_training_set_size=20, online_training_set_size=0, trial_index=3, num_samples=100, accuracy=0.5884000062942505, crossentropy=1.326474675328213),\n",
       "   OBIPerformance(total_training_set_size=20, real_training_set_size=20, online_training_set_size=0, trial_index=4, num_samples=100, accuracy=0.5889999866485596, crossentropy=1.327846993107089),\n",
       "   OBIPerformance(total_training_set_size=21, real_training_set_size=20, online_training_set_size=1, trial_index=0, num_samples=10, accuracy=0.5108000040054321, crossentropy=1.4310323746858784),\n",
       "   OBIPerformance(total_training_set_size=21, real_training_set_size=20, online_training_set_size=1, trial_index=1, num_samples=10, accuracy=0.5382999777793884, crossentropy=1.4689672375465028),\n",
       "   OBIPerformance(total_training_set_size=21, real_training_set_size=20, online_training_set_size=1, trial_index=2, num_samples=10, accuracy=0.5706999897956848, crossentropy=1.3674014090958952),\n",
       "   OBIPerformance(total_training_set_size=21, real_training_set_size=20, online_training_set_size=1, trial_index=3, num_samples=10, accuracy=0.4722999930381775, crossentropy=1.7070471526844717),\n",
       "   OBIPerformance(total_training_set_size=21, real_training_set_size=20, online_training_set_size=1, trial_index=4, num_samples=10, accuracy=0.4941999912261963, crossentropy=1.5801827079626178),\n",
       "   OBIPerformance(total_training_set_size=21, real_training_set_size=20, online_training_set_size=1, trial_index=0, num_samples=100, accuracy=0.555899977684021, crossentropy=1.3692344624259745),\n",
       "   OBIPerformance(total_training_set_size=21, real_training_set_size=20, online_training_set_size=1, trial_index=1, num_samples=100, accuracy=0.5461999773979187, crossentropy=1.3893260465550705),\n",
       "   OBIPerformance(total_training_set_size=21, real_training_set_size=20, online_training_set_size=1, trial_index=2, num_samples=100, accuracy=0.5467000007629395, crossentropy=1.4121668238064042),\n",
       "   OBIPerformance(total_training_set_size=21, real_training_set_size=20, online_training_set_size=1, trial_index=3, num_samples=100, accuracy=0.5705000162124634, crossentropy=1.340967229007888),\n",
       "   OBIPerformance(total_training_set_size=21, real_training_set_size=20, online_training_set_size=1, trial_index=4, num_samples=100, accuracy=0.5415999889373779, crossentropy=1.3909245617626436),\n",
       "   OBIPerformance(total_training_set_size=22, real_training_set_size=20, online_training_set_size=2, trial_index=0, num_samples=10, accuracy=0.4828000068664551, crossentropy=1.640097319819771),\n",
       "   OBIPerformance(total_training_set_size=22, real_training_set_size=20, online_training_set_size=2, trial_index=1, num_samples=10, accuracy=0.383899986743927, crossentropy=1.998316493829286),\n",
       "   OBIPerformance(total_training_set_size=22, real_training_set_size=20, online_training_set_size=2, trial_index=2, num_samples=10, accuracy=0.5619000196456909, crossentropy=1.3614083629595173),\n",
       "   OBIPerformance(total_training_set_size=22, real_training_set_size=20, online_training_set_size=2, trial_index=3, num_samples=10, accuracy=0.5605999827384949, crossentropy=1.5468709941090097),\n",
       "   OBIPerformance(total_training_set_size=22, real_training_set_size=20, online_training_set_size=2, trial_index=4, num_samples=10, accuracy=0.4586000144481659, crossentropy=1.5487413009570614),\n",
       "   OBIPerformance(total_training_set_size=22, real_training_set_size=20, online_training_set_size=2, trial_index=0, num_samples=100, accuracy=0.5400999784469604, crossentropy=1.4679958268059266),\n",
       "   OBIPerformance(total_training_set_size=22, real_training_set_size=20, online_training_set_size=2, trial_index=1, num_samples=100, accuracy=0.5325000286102295, crossentropy=1.4296249512044592),\n",
       "   OBIPerformance(total_training_set_size=22, real_training_set_size=20, online_training_set_size=2, trial_index=2, num_samples=100, accuracy=0.5491999983787537, crossentropy=1.4132995300598465),\n",
       "   OBIPerformance(total_training_set_size=22, real_training_set_size=20, online_training_set_size=2, trial_index=3, num_samples=100, accuracy=0.5425000190734863, crossentropy=1.4154437291381885),\n",
       "   OBIPerformance(total_training_set_size=22, real_training_set_size=20, online_training_set_size=2, trial_index=4, num_samples=100, accuracy=0.5428000092506409, crossentropy=1.4202467605273033),\n",
       "   OBIPerformance(total_training_set_size=23, real_training_set_size=20, online_training_set_size=3, trial_index=0, num_samples=10, accuracy=0.46540001034736633, crossentropy=1.6941649669171794),\n",
       "   OBIPerformance(total_training_set_size=23, real_training_set_size=20, online_training_set_size=3, trial_index=1, num_samples=10, accuracy=0.5766000151634216, crossentropy=1.33491877038404),\n",
       "   OBIPerformance(total_training_set_size=23, real_training_set_size=20, online_training_set_size=3, trial_index=2, num_samples=10, accuracy=0.42559999227523804, crossentropy=1.9941827284583042),\n",
       "   OBIPerformance(total_training_set_size=23, real_training_set_size=20, online_training_set_size=3, trial_index=3, num_samples=10, accuracy=0.4498000144958496, crossentropy=1.9126078195619989),\n",
       "   OBIPerformance(total_training_set_size=23, real_training_set_size=20, online_training_set_size=3, trial_index=4, num_samples=10, accuracy=0.48429998755455017, crossentropy=1.5444571334279291),\n",
       "   OBIPerformance(total_training_set_size=23, real_training_set_size=20, online_training_set_size=3, trial_index=0, num_samples=100, accuracy=0.5055000185966492, crossentropy=1.4592617706394788),\n",
       "   OBIPerformance(total_training_set_size=23, real_training_set_size=20, online_training_set_size=3, trial_index=1, num_samples=100, accuracy=0.5791000127792358, crossentropy=1.3435869851745037),\n",
       "   OBIPerformance(total_training_set_size=23, real_training_set_size=20, online_training_set_size=3, trial_index=2, num_samples=100, accuracy=0.5246000289916992, crossentropy=1.4374560238386542),\n",
       "   OBIPerformance(total_training_set_size=23, real_training_set_size=20, online_training_set_size=3, trial_index=3, num_samples=100, accuracy=0.5454000234603882, crossentropy=1.4060078429477834),\n",
       "   OBIPerformance(total_training_set_size=23, real_training_set_size=20, online_training_set_size=3, trial_index=4, num_samples=100, accuracy=0.507099986076355, crossentropy=1.4585205344874193),\n",
       "   OBIPerformance(total_training_set_size=24, real_training_set_size=20, online_training_set_size=4, trial_index=0, num_samples=10, accuracy=0.492000013589859, crossentropy=1.5434660181821085),\n",
       "   OBIPerformance(total_training_set_size=24, real_training_set_size=20, online_training_set_size=4, trial_index=1, num_samples=10, accuracy=0.5871000289916992, crossentropy=1.3112769217945621),\n",
       "   OBIPerformance(total_training_set_size=24, real_training_set_size=20, online_training_set_size=4, trial_index=2, num_samples=10, accuracy=0.5235000252723694, crossentropy=1.550065473856313),\n",
       "   OBIPerformance(total_training_set_size=24, real_training_set_size=20, online_training_set_size=4, trial_index=3, num_samples=10, accuracy=0.43810001015663147, crossentropy=1.6212727767219297),\n",
       "   OBIPerformance(total_training_set_size=24, real_training_set_size=20, online_training_set_size=4, trial_index=4, num_samples=10, accuracy=0.538100004196167, crossentropy=1.4224725189917262),\n",
       "   OBIPerformance(total_training_set_size=24, real_training_set_size=20, online_training_set_size=4, trial_index=0, num_samples=100, accuracy=0.5842000246047974, crossentropy=1.335075112353193),\n",
       "   OBIPerformance(total_training_set_size=24, real_training_set_size=20, online_training_set_size=4, trial_index=1, num_samples=100, accuracy=0.5770999789237976, crossentropy=1.4018046512510478),\n",
       "   OBIPerformance(total_training_set_size=24, real_training_set_size=20, online_training_set_size=4, trial_index=2, num_samples=100, accuracy=0.5723000168800354, crossentropy=1.4060498496145326),\n",
       "   OBIPerformance(total_training_set_size=24, real_training_set_size=20, online_training_set_size=4, trial_index=3, num_samples=100, accuracy=0.5763999819755554, crossentropy=1.3260788603580833),\n",
       "   OBIPerformance(total_training_set_size=24, real_training_set_size=20, online_training_set_size=4, trial_index=4, num_samples=100, accuracy=0.6014000177383423, crossentropy=1.3545435081220982),\n",
       "   OBIPerformance(total_training_set_size=25, real_training_set_size=20, online_training_set_size=5, trial_index=0, num_samples=10, accuracy=0.4230000078678131, crossentropy=1.7063899486848353),\n",
       "   OBIPerformance(total_training_set_size=25, real_training_set_size=20, online_training_set_size=5, trial_index=1, num_samples=10, accuracy=0.4413999915122986, crossentropy=1.8784460713362507),\n",
       "   OBIPerformance(total_training_set_size=25, real_training_set_size=20, online_training_set_size=5, trial_index=2, num_samples=10, accuracy=0.4537999927997589, crossentropy=1.5809112179319735),\n",
       "   OBIPerformance(total_training_set_size=25, real_training_set_size=20, online_training_set_size=5, trial_index=3, num_samples=10, accuracy=0.4115999937057495, crossentropy=1.7492424631097518),\n",
       "   OBIPerformance(total_training_set_size=25, real_training_set_size=20, online_training_set_size=5, trial_index=4, num_samples=10, accuracy=0.5099999904632568, crossentropy=1.6358352208201898),\n",
       "   OBIPerformance(total_training_set_size=25, real_training_set_size=20, online_training_set_size=5, trial_index=0, num_samples=100, accuracy=0.4876999855041504, crossentropy=1.5200327706793209),\n",
       "   OBIPerformance(total_training_set_size=25, real_training_set_size=20, online_training_set_size=5, trial_index=1, num_samples=100, accuracy=0.567300021648407, crossentropy=1.4114834289959146),\n",
       "   OBIPerformance(total_training_set_size=25, real_training_set_size=20, online_training_set_size=5, trial_index=2, num_samples=100, accuracy=0.490200012922287, crossentropy=1.521271881289261),\n",
       "   OBIPerformance(total_training_set_size=25, real_training_set_size=20, online_training_set_size=5, trial_index=3, num_samples=100, accuracy=0.4586000144481659, crossentropy=1.571481322419214),\n",
       "   OBIPerformance(total_training_set_size=25, real_training_set_size=20, online_training_set_size=5, trial_index=4, num_samples=100, accuracy=0.5403000116348267, crossentropy=1.4178464957416665),\n",
       "   OBIPerformance(total_training_set_size=26, real_training_set_size=20, online_training_set_size=6, trial_index=0, num_samples=10, accuracy=0.5253000259399414, crossentropy=1.4747099626123017),\n",
       "   OBIPerformance(total_training_set_size=26, real_training_set_size=20, online_training_set_size=6, trial_index=1, num_samples=10, accuracy=0.48399999737739563, crossentropy=1.554101437140076),\n",
       "   OBIPerformance(total_training_set_size=26, real_training_set_size=20, online_training_set_size=6, trial_index=2, num_samples=10, accuracy=0.4194999933242798, crossentropy=1.7205025649786614),\n",
       "   OBIPerformance(total_training_set_size=26, real_training_set_size=20, online_training_set_size=6, trial_index=3, num_samples=10, accuracy=0.44119998812675476, crossentropy=1.6098627574521018),\n",
       "   OBIPerformance(total_training_set_size=26, real_training_set_size=20, online_training_set_size=6, trial_index=4, num_samples=10, accuracy=0.5285000205039978, crossentropy=1.434040272415036),\n",
       "   OBIPerformance(total_training_set_size=26, real_training_set_size=20, online_training_set_size=6, trial_index=0, num_samples=100, accuracy=0.5637000203132629, crossentropy=1.4240856171016043),\n",
       "   OBIPerformance(total_training_set_size=26, real_training_set_size=20, online_training_set_size=6, trial_index=1, num_samples=100, accuracy=0.5626999735832214, crossentropy=1.417474933965884),\n",
       "   OBIPerformance(total_training_set_size=26, real_training_set_size=20, online_training_set_size=6, trial_index=2, num_samples=100, accuracy=0.5612000226974487, crossentropy=1.385929869604441),\n",
       "   OBIPerformance(total_training_set_size=26, real_training_set_size=20, online_training_set_size=6, trial_index=3, num_samples=100, accuracy=0.5623999834060669, crossentropy=1.4224550458626617),\n",
       "   OBIPerformance(total_training_set_size=26, real_training_set_size=20, online_training_set_size=6, trial_index=4, num_samples=100, accuracy=0.5658000111579895, crossentropy=1.3812882008355278),\n",
       "   OBIPerformance(total_training_set_size=27, real_training_set_size=20, online_training_set_size=7, trial_index=0, num_samples=10, accuracy=0.5289999842643738, crossentropy=1.5204433397631762),\n",
       "   OBIPerformance(total_training_set_size=27, real_training_set_size=20, online_training_set_size=7, trial_index=1, num_samples=10, accuracy=0.427700012922287, crossentropy=1.698829331811973),\n",
       "   OBIPerformance(total_training_set_size=27, real_training_set_size=20, online_training_set_size=7, trial_index=2, num_samples=10, accuracy=0.5514000058174133, crossentropy=1.4818146365081875),\n",
       "   OBIPerformance(total_training_set_size=27, real_training_set_size=20, online_training_set_size=7, trial_index=3, num_samples=10, accuracy=0.46369999647140503, crossentropy=1.5850571383495478),\n",
       "   OBIPerformance(total_training_set_size=27, real_training_set_size=20, online_training_set_size=7, trial_index=4, num_samples=10, accuracy=0.43860000371932983, crossentropy=1.6193627475884438),\n",
       "   OBIPerformance(total_training_set_size=27, real_training_set_size=20, online_training_set_size=7, trial_index=0, num_samples=100, accuracy=0.48910000920295715, crossentropy=1.5199999125600345),\n",
       "   OBIPerformance(total_training_set_size=27, real_training_set_size=20, online_training_set_size=7, trial_index=1, num_samples=100, accuracy=0.48980000615119934, crossentropy=1.519081176457409),\n",
       "   OBIPerformance(total_training_set_size=27, real_training_set_size=20, online_training_set_size=7, trial_index=2, num_samples=100, accuracy=0.48590001463890076, crossentropy=1.529872042842119),\n",
       "   OBIPerformance(total_training_set_size=27, real_training_set_size=20, online_training_set_size=7, trial_index=3, num_samples=100, accuracy=0.5598000288009644, crossentropy=1.4015750651377823),\n",
       "   OBIPerformance(total_training_set_size=27, real_training_set_size=20, online_training_set_size=7, trial_index=4, num_samples=100, accuracy=0.47540000081062317, crossentropy=1.5675185960155897),\n",
       "   OBIPerformance(total_training_set_size=28, real_training_set_size=20, online_training_set_size=8, trial_index=0, num_samples=10, accuracy=0.4433000087738037, crossentropy=1.6035994605316592),\n",
       "   OBIPerformance(total_training_set_size=28, real_training_set_size=20, online_training_set_size=8, trial_index=1, num_samples=10, accuracy=0.5253000259399414, crossentropy=1.4747343085858566),\n",
       "   OBIPerformance(total_training_set_size=28, real_training_set_size=20, online_training_set_size=8, trial_index=2, num_samples=10, accuracy=0.5228999853134155, crossentropy=1.7230733964234788),\n",
       "   OBIPerformance(total_training_set_size=28, real_training_set_size=20, online_training_set_size=8, trial_index=3, num_samples=10, accuracy=0.4957999885082245, crossentropy=1.7042442318957434),\n",
       "   OBIPerformance(total_training_set_size=28, real_training_set_size=20, online_training_set_size=8, trial_index=4, num_samples=10, accuracy=0.5604000091552734, crossentropy=1.6179471884154344),\n",
       "   OBIPerformance(total_training_set_size=28, real_training_set_size=20, online_training_set_size=8, trial_index=0, num_samples=100, accuracy=0.4406999945640564, crossentropy=1.6138038182093437),\n",
       "   OBIPerformance(total_training_set_size=28, real_training_set_size=20, online_training_set_size=8, trial_index=1, num_samples=100, accuracy=0.4952999949455261, crossentropy=1.5516442793194338),\n",
       "   OBIPerformance(total_training_set_size=28, real_training_set_size=20, online_training_set_size=8, trial_index=2, num_samples=100, accuracy=0.4147000014781952, crossentropy=1.73651682346683),\n",
       "   OBIPerformance(total_training_set_size=28, real_training_set_size=20, online_training_set_size=8, trial_index=3, num_samples=100, accuracy=0.4772999882698059, crossentropy=1.556860853399344),\n",
       "   OBIPerformance(total_training_set_size=28, real_training_set_size=20, online_training_set_size=8, trial_index=4, num_samples=100, accuracy=0.4749999940395355, crossentropy=1.560255091366018),\n",
       "   OBIPerformance(total_training_set_size=29, real_training_set_size=20, online_training_set_size=9, trial_index=0, num_samples=10, accuracy=0.5460000038146973, crossentropy=1.5457934192441967),\n",
       "   OBIPerformance(total_training_set_size=29, real_training_set_size=20, online_training_set_size=9, trial_index=1, num_samples=10, accuracy=0.546500027179718, crossentropy=1.527443198214064),\n",
       "   OBIPerformance(total_training_set_size=29, real_training_set_size=20, online_training_set_size=9, trial_index=2, num_samples=10, accuracy=0.5333999991416931, crossentropy=1.4619989457136748),\n",
       "   OBIPerformance(total_training_set_size=29, real_training_set_size=20, online_training_set_size=9, trial_index=3, num_samples=10, accuracy=0.524399995803833, crossentropy=1.4459335009817293),\n",
       "   OBIPerformance(total_training_set_size=29, real_training_set_size=20, online_training_set_size=9, trial_index=4, num_samples=10, accuracy=0.5178999900817871, crossentropy=1.514726970924966),\n",
       "   OBIPerformance(total_training_set_size=29, real_training_set_size=20, online_training_set_size=9, trial_index=0, num_samples=100, accuracy=0.43959999084472656, crossentropy=1.6169641866016042),\n",
       "   OBIPerformance(total_training_set_size=29, real_training_set_size=20, online_training_set_size=9, trial_index=1, num_samples=100, accuracy=0.44190001487731934, crossentropy=1.6108624702045151),\n",
       "   OBIPerformance(total_training_set_size=29, real_training_set_size=20, online_training_set_size=9, trial_index=2, num_samples=100, accuracy=0.48399999737739563, crossentropy=1.5596720207710035),\n",
       "   OBIPerformance(total_training_set_size=29, real_training_set_size=20, online_training_set_size=9, trial_index=3, num_samples=100, accuracy=0.43950000405311584, crossentropy=1.6168463713939287),\n",
       "   OBIPerformance(total_training_set_size=29, real_training_set_size=20, online_training_set_size=9, trial_index=4, num_samples=100, accuracy=0.5526000261306763, crossentropy=1.422336710444493),\n",
       "   OBIPerformance(total_training_set_size=30, real_training_set_size=20, online_training_set_size=10, trial_index=0, num_samples=10, accuracy=0.5146999955177307, crossentropy=1.59071577353385),\n",
       "   OBIPerformance(total_training_set_size=30, real_training_set_size=20, online_training_set_size=10, trial_index=1, num_samples=10, accuracy=0.48330000042915344, crossentropy=1.5600168334171838),\n",
       "   OBIPerformance(total_training_set_size=30, real_training_set_size=20, online_training_set_size=10, trial_index=2, num_samples=10, accuracy=0.5587000250816345, crossentropy=1.3704955509548913),\n",
       "   OBIPerformance(total_training_set_size=30, real_training_set_size=20, online_training_set_size=10, trial_index=3, num_samples=10, accuracy=0.4675000011920929, crossentropy=1.6099594739354792),\n",
       "   OBIPerformance(total_training_set_size=30, real_training_set_size=20, online_training_set_size=10, trial_index=4, num_samples=10, accuracy=0.43799999356269836, crossentropy=1.621819811882544),\n",
       "   OBIPerformance(total_training_set_size=30, real_training_set_size=20, online_training_set_size=10, trial_index=0, num_samples=100, accuracy=0.5471000075340271, crossentropy=1.4569512473178925),\n",
       "   OBIPerformance(total_training_set_size=30, real_training_set_size=20, online_training_set_size=10, trial_index=1, num_samples=100, accuracy=0.5024999976158142, crossentropy=1.5201764815928764),\n",
       "   OBIPerformance(total_training_set_size=30, real_training_set_size=20, online_training_set_size=10, trial_index=2, num_samples=100, accuracy=0.4814999997615814, crossentropy=1.523882362156875),\n",
       "   OBIPerformance(total_training_set_size=30, real_training_set_size=20, online_training_set_size=10, trial_index=3, num_samples=100, accuracy=0.4916999936103821, crossentropy=1.5245047330435468),\n",
       "   OBIPerformance(total_training_set_size=30, real_training_set_size=20, online_training_set_size=10, trial_index=4, num_samples=100, accuracy=0.4390999972820282, crossentropy=1.6182969328551637)],\n",
       "  [OBIPerformance(total_training_set_size=25, real_training_set_size=25, online_training_set_size=0, trial_index=0, num_samples=10, accuracy=0.6100999712944031, crossentropy=1.6376072416808467),\n",
       "   OBIPerformance(total_training_set_size=25, real_training_set_size=25, online_training_set_size=0, trial_index=1, num_samples=10, accuracy=0.6097999811172485, crossentropy=1.615296419706585),\n",
       "   OBIPerformance(total_training_set_size=25, real_training_set_size=25, online_training_set_size=0, trial_index=2, num_samples=10, accuracy=0.5914000272750854, crossentropy=1.9317943811467426),\n",
       "   OBIPerformance(total_training_set_size=25, real_training_set_size=25, online_training_set_size=0, trial_index=3, num_samples=10, accuracy=0.6015999913215637, crossentropy=1.4375807893623322),\n",
       "   OBIPerformance(total_training_set_size=25, real_training_set_size=25, online_training_set_size=0, trial_index=4, num_samples=10, accuracy=0.6104000210762024, crossentropy=1.8309441336785284),\n",
       "   OBIPerformance(total_training_set_size=25, real_training_set_size=25, online_training_set_size=0, trial_index=0, num_samples=100, accuracy=0.6100999712944031, crossentropy=1.5381897910683175),\n",
       "   OBIPerformance(total_training_set_size=25, real_training_set_size=25, online_training_set_size=0, trial_index=1, num_samples=100, accuracy=0.6074000000953674, crossentropy=1.5889133845215737),\n",
       "   OBIPerformance(total_training_set_size=25, real_training_set_size=25, online_training_set_size=0, trial_index=2, num_samples=100, accuracy=0.6078000068664551, crossentropy=1.5115162383650613),\n",
       "   OBIPerformance(total_training_set_size=25, real_training_set_size=25, online_training_set_size=0, trial_index=3, num_samples=100, accuracy=0.6104000210762024, crossentropy=1.5038056689931252),\n",
       "   OBIPerformance(total_training_set_size=25, real_training_set_size=25, online_training_set_size=0, trial_index=4, num_samples=100, accuracy=0.6118000149726868, crossentropy=1.5320206094214917),\n",
       "   OBIPerformance(total_training_set_size=26, real_training_set_size=25, online_training_set_size=1, trial_index=0, num_samples=10, accuracy=0.5544000267982483, crossentropy=1.9709936213214279),\n",
       "   OBIPerformance(total_training_set_size=26, real_training_set_size=25, online_training_set_size=1, trial_index=1, num_samples=10, accuracy=0.6014999747276306, crossentropy=1.9488236465841866),\n",
       "   OBIPerformance(total_training_set_size=26, real_training_set_size=25, online_training_set_size=1, trial_index=2, num_samples=10, accuracy=0.5523999929428101, crossentropy=2.0429818992965467),\n",
       "   OBIPerformance(total_training_set_size=26, real_training_set_size=25, online_training_set_size=1, trial_index=3, num_samples=10, accuracy=0.5371999740600586, crossentropy=2.099833893563872),\n",
       "   OBIPerformance(total_training_set_size=26, real_training_set_size=25, online_training_set_size=1, trial_index=4, num_samples=10, accuracy=0.5705000162124634, crossentropy=1.8870867260437725),\n",
       "   OBIPerformance(total_training_set_size=26, real_training_set_size=25, online_training_set_size=1, trial_index=0, num_samples=100, accuracy=0.5992000102996826, crossentropy=1.654170173885335),\n",
       "   OBIPerformance(total_training_set_size=26, real_training_set_size=25, online_training_set_size=1, trial_index=1, num_samples=100, accuracy=0.6043999791145325, crossentropy=1.6092253931080474),\n",
       "   OBIPerformance(total_training_set_size=26, real_training_set_size=25, online_training_set_size=1, trial_index=2, num_samples=100, accuracy=0.5914999842643738, crossentropy=1.676038880737029),\n",
       "   OBIPerformance(total_training_set_size=26, real_training_set_size=25, online_training_set_size=1, trial_index=3, num_samples=100, accuracy=0.5961999893188477, crossentropy=1.6445126566418138),\n",
       "   OBIPerformance(total_training_set_size=26, real_training_set_size=25, online_training_set_size=1, trial_index=4, num_samples=100, accuracy=0.5899999737739563, crossentropy=1.6852523026283797),\n",
       "   OBIPerformance(total_training_set_size=27, real_training_set_size=25, online_training_set_size=2, trial_index=0, num_samples=10, accuracy=0.5817000269889832, crossentropy=1.9717441695144633),\n",
       "   OBIPerformance(total_training_set_size=27, real_training_set_size=25, online_training_set_size=2, trial_index=1, num_samples=10, accuracy=0.5360999703407288, crossentropy=2.183609979635687),\n",
       "   OBIPerformance(total_training_set_size=27, real_training_set_size=25, online_training_set_size=2, trial_index=2, num_samples=10, accuracy=0.5899999737739563, crossentropy=1.889122755179886),\n",
       "   OBIPerformance(total_training_set_size=27, real_training_set_size=25, online_training_set_size=2, trial_index=3, num_samples=10, accuracy=0.5180000066757202, crossentropy=2.834119843432201),\n",
       "   OBIPerformance(total_training_set_size=27, real_training_set_size=25, online_training_set_size=2, trial_index=4, num_samples=10, accuracy=0.5260999798774719, crossentropy=2.2044175901266927),\n",
       "   OBIPerformance(total_training_set_size=27, real_training_set_size=25, online_training_set_size=2, trial_index=0, num_samples=100, accuracy=0.5857999920845032, crossentropy=1.7883326441781464),\n",
       "   OBIPerformance(total_training_set_size=27, real_training_set_size=25, online_training_set_size=2, trial_index=1, num_samples=100, accuracy=0.5080999732017517, crossentropy=2.2506345206153635),\n",
       "   OBIPerformance(total_training_set_size=27, real_training_set_size=25, online_training_set_size=2, trial_index=2, num_samples=100, accuracy=0.5875999927520752, crossentropy=1.839266339663366),\n",
       "   OBIPerformance(total_training_set_size=27, real_training_set_size=25, online_training_set_size=2, trial_index=3, num_samples=100, accuracy=0.5813999772071838, crossentropy=1.8494240900683825),\n",
       "   OBIPerformance(total_training_set_size=27, real_training_set_size=25, online_training_set_size=2, trial_index=4, num_samples=100, accuracy=0.5268999934196472, crossentropy=2.2260231643049293),\n",
       "   OBIPerformance(total_training_set_size=28, real_training_set_size=25, online_training_set_size=3, trial_index=0, num_samples=10, accuracy=0.5751000046730042, crossentropy=1.7488442436620844),\n",
       "   OBIPerformance(total_training_set_size=28, real_training_set_size=25, online_training_set_size=3, trial_index=1, num_samples=10, accuracy=0.5726000070571899, crossentropy=2.240477478330983),\n",
       "   OBIPerformance(total_training_set_size=28, real_training_set_size=25, online_training_set_size=3, trial_index=2, num_samples=10, accuracy=0.58160001039505, crossentropy=2.01932261751905),\n",
       "   OBIPerformance(total_training_set_size=28, real_training_set_size=25, online_training_set_size=3, trial_index=3, num_samples=10, accuracy=0.5756000280380249, crossentropy=1.8769506062711927),\n",
       "   OBIPerformance(total_training_set_size=28, real_training_set_size=25, online_training_set_size=3, trial_index=4, num_samples=10, accuracy=0.5889999866485596, crossentropy=1.9076354853849629),\n",
       "   OBIPerformance(total_training_set_size=28, real_training_set_size=25, online_training_set_size=3, trial_index=0, num_samples=100, accuracy=0.519599974155426, crossentropy=2.2496125445840387),\n",
       "   OBIPerformance(total_training_set_size=28, real_training_set_size=25, online_training_set_size=3, trial_index=1, num_samples=100, accuracy=0.5202000141143799, crossentropy=2.2396571847792197),\n",
       "   OBIPerformance(total_training_set_size=28, real_training_set_size=25, online_training_set_size=3, trial_index=2, num_samples=100, accuracy=0.5157999992370605, crossentropy=2.2125949128246485),\n",
       "   OBIPerformance(total_training_set_size=28, real_training_set_size=25, online_training_set_size=3, trial_index=3, num_samples=100, accuracy=0.5889999866485596, crossentropy=1.8628801053480448),\n",
       "   OBIPerformance(total_training_set_size=28, real_training_set_size=25, online_training_set_size=3, trial_index=4, num_samples=100, accuracy=0.5224999785423279, crossentropy=2.3735127332052395),\n",
       "   OBIPerformance(total_training_set_size=29, real_training_set_size=25, online_training_set_size=4, trial_index=0, num_samples=10, accuracy=0.5767999887466431, crossentropy=2.641944438443787),\n",
       "   OBIPerformance(total_training_set_size=29, real_training_set_size=25, online_training_set_size=4, trial_index=1, num_samples=10, accuracy=0.58160001039505, crossentropy=1.985471471506219),\n",
       "   OBIPerformance(total_training_set_size=29, real_training_set_size=25, online_training_set_size=4, trial_index=2, num_samples=10, accuracy=0.5898000001907349, crossentropy=2.02617115135217),\n",
       "   OBIPerformance(total_training_set_size=29, real_training_set_size=25, online_training_set_size=4, trial_index=3, num_samples=10, accuracy=0.5501000285148621, crossentropy=2.4420125597094775),\n",
       "   OBIPerformance(total_training_set_size=29, real_training_set_size=25, online_training_set_size=4, trial_index=4, num_samples=10, accuracy=0.5867000222206116, crossentropy=1.8085561077739978),\n",
       "   OBIPerformance(total_training_set_size=29, real_training_set_size=25, online_training_set_size=4, trial_index=0, num_samples=100, accuracy=0.607699990272522, crossentropy=1.6434745846272796),\n",
       "   OBIPerformance(total_training_set_size=29, real_training_set_size=25, online_training_set_size=4, trial_index=1, num_samples=100, accuracy=0.6273000240325928, crossentropy=1.5586418345181836),\n",
       "   OBIPerformance(total_training_set_size=29, real_training_set_size=25, online_training_set_size=4, trial_index=2, num_samples=100, accuracy=0.623199999332428, crossentropy=1.6223923761514683),\n",
       "   OBIPerformance(total_training_set_size=29, real_training_set_size=25, online_training_set_size=4, trial_index=3, num_samples=100, accuracy=0.5976999998092651, crossentropy=1.769269589450079),\n",
       "   OBIPerformance(total_training_set_size=29, real_training_set_size=25, online_training_set_size=4, trial_index=4, num_samples=100, accuracy=0.6086999773979187, crossentropy=1.6456227645143096),\n",
       "   OBIPerformance(total_training_set_size=30, real_training_set_size=25, online_training_set_size=5, trial_index=0, num_samples=10, accuracy=0.597599983215332, crossentropy=1.736539457927888),\n",
       "   OBIPerformance(total_training_set_size=30, real_training_set_size=25, online_training_set_size=5, trial_index=1, num_samples=10, accuracy=0.5728999972343445, crossentropy=1.7106097900693544),\n",
       "   OBIPerformance(total_training_set_size=30, real_training_set_size=25, online_training_set_size=5, trial_index=2, num_samples=10, accuracy=0.5656999945640564, crossentropy=1.6273046869569054),\n",
       "   OBIPerformance(total_training_set_size=30, real_training_set_size=25, online_training_set_size=5, trial_index=3, num_samples=10, accuracy=0.5623999834060669, crossentropy=2.700319981735113),\n",
       "   OBIPerformance(total_training_set_size=30, real_training_set_size=25, online_training_set_size=5, trial_index=4, num_samples=10, accuracy=0.5582000017166138, crossentropy=2.0554589601092697),\n",
       "   OBIPerformance(total_training_set_size=30, real_training_set_size=25, online_training_set_size=5, trial_index=0, num_samples=100, accuracy=0.5694000124931335, crossentropy=1.638806473920221),\n",
       "   OBIPerformance(total_training_set_size=30, real_training_set_size=25, online_training_set_size=5, trial_index=1, num_samples=100, accuracy=0.5414999723434448, crossentropy=1.7817528223899666),\n",
       "   OBIPerformance(total_training_set_size=30, real_training_set_size=25, online_training_set_size=5, trial_index=2, num_samples=100, accuracy=0.5687999725341797, crossentropy=1.736103958209068),\n",
       "   OBIPerformance(total_training_set_size=30, real_training_set_size=25, online_training_set_size=5, trial_index=3, num_samples=100, accuracy=0.5788000226020813, crossentropy=1.6854608578821277),\n",
       "   OBIPerformance(total_training_set_size=30, real_training_set_size=25, online_training_set_size=5, trial_index=4, num_samples=100, accuracy=0.5608999729156494, crossentropy=1.7576803008335282),\n",
       "   OBIPerformance(total_training_set_size=31, real_training_set_size=25, online_training_set_size=6, trial_index=0, num_samples=10, accuracy=0.5526999831199646, crossentropy=2.162691137476734),\n",
       "   OBIPerformance(total_training_set_size=31, real_training_set_size=25, online_training_set_size=6, trial_index=1, num_samples=10, accuracy=0.6323000192642212, crossentropy=1.7017910256220676),\n",
       "   OBIPerformance(total_training_set_size=31, real_training_set_size=25, online_training_set_size=6, trial_index=2, num_samples=10, accuracy=0.5940999984741211, crossentropy=1.8202552528398432),\n",
       "   OBIPerformance(total_training_set_size=31, real_training_set_size=25, online_training_set_size=6, trial_index=3, num_samples=10, accuracy=0.5676000118255615, crossentropy=1.8005403523684373),\n",
       "   OBIPerformance(total_training_set_size=31, real_training_set_size=25, online_training_set_size=6, trial_index=4, num_samples=10, accuracy=0.5103999972343445, crossentropy=2.961633716206063),\n",
       "   OBIPerformance(total_training_set_size=31, real_training_set_size=25, online_training_set_size=6, trial_index=0, num_samples=100, accuracy=0.5952000021934509, crossentropy=1.5563478480702626),\n",
       "   OBIPerformance(total_training_set_size=31, real_training_set_size=25, online_training_set_size=6, trial_index=1, num_samples=100, accuracy=0.6051999926567078, crossentropy=1.5486998200622526),\n",
       "   OBIPerformance(total_training_set_size=31, real_training_set_size=25, online_training_set_size=6, trial_index=2, num_samples=100, accuracy=0.5985999703407288, crossentropy=1.6610404141810795),\n",
       "   OBIPerformance(total_training_set_size=31, real_training_set_size=25, online_training_set_size=6, trial_index=3, num_samples=100, accuracy=0.5896000266075134, crossentropy=1.5953753865617757),\n",
       "   OBIPerformance(total_training_set_size=31, real_training_set_size=25, online_training_set_size=6, trial_index=4, num_samples=100, accuracy=0.6049000024795532, crossentropy=1.5607134193468577),\n",
       "   OBIPerformance(total_training_set_size=32, real_training_set_size=25, online_training_set_size=7, trial_index=0, num_samples=10, accuracy=0.5371000170707703, crossentropy=2.043801463605277),\n",
       "   OBIPerformance(total_training_set_size=32, real_training_set_size=25, online_training_set_size=7, trial_index=1, num_samples=10, accuracy=0.5932000279426575, crossentropy=1.9111877533216954),\n",
       "   OBIPerformance(total_training_set_size=32, real_training_set_size=25, online_training_set_size=7, trial_index=2, num_samples=10, accuracy=0.5785999894142151, crossentropy=1.8704877449817596),\n",
       "   OBIPerformance(total_training_set_size=32, real_training_set_size=25, online_training_set_size=7, trial_index=3, num_samples=10, accuracy=0.5956000089645386, crossentropy=1.8987038980257671),\n",
       "   OBIPerformance(total_training_set_size=32, real_training_set_size=25, online_training_set_size=7, trial_index=4, num_samples=10, accuracy=0.5250999927520752, crossentropy=2.388334066223233),\n",
       "   OBIPerformance(total_training_set_size=32, real_training_set_size=25, online_training_set_size=7, trial_index=0, num_samples=100, accuracy=0.6198999881744385, crossentropy=1.479960824291604),\n",
       "   OBIPerformance(total_training_set_size=32, real_training_set_size=25, online_training_set_size=7, trial_index=1, num_samples=100, accuracy=0.59579998254776, crossentropy=1.480162888433034),\n",
       "   OBIPerformance(total_training_set_size=32, real_training_set_size=25, online_training_set_size=7, trial_index=2, num_samples=100, accuracy=0.5475999712944031, crossentropy=1.7789497137354484),\n",
       "   OBIPerformance(total_training_set_size=32, real_training_set_size=25, online_training_set_size=7, trial_index=3, num_samples=100, accuracy=0.5507000088691711, crossentropy=1.7265107611438162),\n",
       "   OBIPerformance(total_training_set_size=32, real_training_set_size=25, online_training_set_size=7, trial_index=4, num_samples=100, accuracy=0.546500027179718, crossentropy=1.7856688982373592),\n",
       "   OBIPerformance(total_training_set_size=33, real_training_set_size=25, online_training_set_size=8, trial_index=0, num_samples=10, accuracy=0.5442000031471252, crossentropy=2.1340101865426444),\n",
       "   OBIPerformance(total_training_set_size=33, real_training_set_size=25, online_training_set_size=8, trial_index=1, num_samples=10, accuracy=0.5533999800682068, crossentropy=1.9940055103193088),\n",
       "   OBIPerformance(total_training_set_size=33, real_training_set_size=25, online_training_set_size=8, trial_index=2, num_samples=10, accuracy=0.5953999757766724, crossentropy=1.7291821105081828),\n",
       "   OBIPerformance(total_training_set_size=33, real_training_set_size=25, online_training_set_size=8, trial_index=3, num_samples=10, accuracy=0.5864999890327454, crossentropy=1.8024592735243607),\n",
       "   OBIPerformance(total_training_set_size=33, real_training_set_size=25, online_training_set_size=8, trial_index=4, num_samples=10, accuracy=0.5371000170707703, crossentropy=2.0309373522256426),\n",
       "   OBIPerformance(total_training_set_size=33, real_training_set_size=25, online_training_set_size=8, trial_index=0, num_samples=100, accuracy=0.5400000214576721, crossentropy=1.9180752324110844),\n",
       "   OBIPerformance(total_training_set_size=33, real_training_set_size=25, online_training_set_size=8, trial_index=1, num_samples=100, accuracy=0.541100025177002, crossentropy=1.916601084240894),\n",
       "   OBIPerformance(total_training_set_size=33, real_training_set_size=25, online_training_set_size=8, trial_index=2, num_samples=100, accuracy=0.5891000032424927, crossentropy=1.6037420898884498),\n",
       "   OBIPerformance(total_training_set_size=33, real_training_set_size=25, online_training_set_size=8, trial_index=3, num_samples=100, accuracy=0.5406000018119812, crossentropy=1.9299277980448255),\n",
       "   OBIPerformance(total_training_set_size=33, real_training_set_size=25, online_training_set_size=8, trial_index=4, num_samples=100, accuracy=0.5386999845504761, crossentropy=1.9910045475259932),\n",
       "   OBIPerformance(total_training_set_size=34, real_training_set_size=25, online_training_set_size=9, trial_index=0, num_samples=10, accuracy=0.5411999821662903, crossentropy=1.921045141596812),\n",
       "   OBIPerformance(total_training_set_size=34, real_training_set_size=25, online_training_set_size=9, trial_index=1, num_samples=10, accuracy=0.5717999935150146, crossentropy=1.8601931519355615),\n",
       "   OBIPerformance(total_training_set_size=34, real_training_set_size=25, online_training_set_size=9, trial_index=2, num_samples=10, accuracy=0.5764999985694885, crossentropy=1.9161851874110973),\n",
       "   OBIPerformance(total_training_set_size=34, real_training_set_size=25, online_training_set_size=9, trial_index=3, num_samples=10, accuracy=0.5925999879837036, crossentropy=1.7674351697271835),\n",
       "   OBIPerformance(total_training_set_size=34, real_training_set_size=25, online_training_set_size=9, trial_index=4, num_samples=10, accuracy=0.5735999941825867, crossentropy=1.84517442854294),\n",
       "   OBIPerformance(total_training_set_size=34, real_training_set_size=25, online_training_set_size=9, trial_index=0, num_samples=100, accuracy=0.5674999952316284, crossentropy=1.6574367656371642),\n",
       "   OBIPerformance(total_training_set_size=34, real_training_set_size=25, online_training_set_size=9, trial_index=1, num_samples=100, accuracy=0.5475000143051147, crossentropy=1.7657161202990383),\n",
       "   OBIPerformance(total_training_set_size=34, real_training_set_size=25, online_training_set_size=9, trial_index=2, num_samples=100, accuracy=0.5613999962806702, crossentropy=1.682907977431608),\n",
       "   OBIPerformance(total_training_set_size=34, real_training_set_size=25, online_training_set_size=9, trial_index=3, num_samples=100, accuracy=0.5701000094413757, crossentropy=1.6488591451325487),\n",
       "   OBIPerformance(total_training_set_size=34, real_training_set_size=25, online_training_set_size=9, trial_index=4, num_samples=100, accuracy=0.5996999740600586, crossentropy=1.6469500130991968),\n",
       "   OBIPerformance(total_training_set_size=35, real_training_set_size=25, online_training_set_size=10, trial_index=0, num_samples=10, accuracy=0.5860000252723694, crossentropy=1.7037003220558622),\n",
       "   OBIPerformance(total_training_set_size=35, real_training_set_size=25, online_training_set_size=10, trial_index=1, num_samples=10, accuracy=0.5260999798774719, crossentropy=2.375470636791103),\n",
       "   OBIPerformance(total_training_set_size=35, real_training_set_size=25, online_training_set_size=10, trial_index=2, num_samples=10, accuracy=0.5447999835014343, crossentropy=2.1348407867910284),\n",
       "   OBIPerformance(total_training_set_size=35, real_training_set_size=25, online_training_set_size=10, trial_index=3, num_samples=10, accuracy=0.5562999844551086, crossentropy=2.52490240724365),\n",
       "   OBIPerformance(total_training_set_size=35, real_training_set_size=25, online_training_set_size=10, trial_index=4, num_samples=10, accuracy=0.5253999829292297, crossentropy=2.4174216976274874),\n",
       "   OBIPerformance(total_training_set_size=35, real_training_set_size=25, online_training_set_size=10, trial_index=0, num_samples=100, accuracy=0.550000011920929, crossentropy=1.8399666425114811),\n",
       "   OBIPerformance(total_training_set_size=35, real_training_set_size=25, online_training_set_size=10, trial_index=1, num_samples=100, accuracy=0.5371000170707703, crossentropy=2.009523930110315),\n",
       "   OBIPerformance(total_training_set_size=35, real_training_set_size=25, online_training_set_size=10, trial_index=2, num_samples=100, accuracy=0.5400000214576721, crossentropy=1.9460873576058846),\n",
       "   OBIPerformance(total_training_set_size=35, real_training_set_size=25, online_training_set_size=10, trial_index=3, num_samples=100, accuracy=0.5440000295639038, crossentropy=1.8489375667687349),\n",
       "   OBIPerformance(total_training_set_size=35, real_training_set_size=25, online_training_set_size=10, trial_index=4, num_samples=100, accuracy=0.5401999950408936, crossentropy=1.943040866485901)],\n",
       "  [OBIPerformance(total_training_set_size=30, real_training_set_size=30, online_training_set_size=0, trial_index=0, num_samples=10, accuracy=0.6553000211715698, crossentropy=1.6493704446256634),\n",
       "   OBIPerformance(total_training_set_size=30, real_training_set_size=30, online_training_set_size=0, trial_index=1, num_samples=10, accuracy=0.6798999905586243, crossentropy=1.6922504163094116),\n",
       "   OBIPerformance(total_training_set_size=30, real_training_set_size=30, online_training_set_size=0, trial_index=2, num_samples=10, accuracy=0.6682999730110168, crossentropy=1.414807733161789),\n",
       "   OBIPerformance(total_training_set_size=30, real_training_set_size=30, online_training_set_size=0, trial_index=3, num_samples=10, accuracy=0.6841999888420105, crossentropy=1.4658374798565494),\n",
       "   OBIPerformance(total_training_set_size=30, real_training_set_size=30, online_training_set_size=0, trial_index=4, num_samples=10, accuracy=0.6717000007629395, crossentropy=1.3567051124058678),\n",
       "   OBIPerformance(total_training_set_size=30, real_training_set_size=30, online_training_set_size=0, trial_index=0, num_samples=100, accuracy=0.6816999912261963, crossentropy=1.1340940909650736),\n",
       "   OBIPerformance(total_training_set_size=30, real_training_set_size=30, online_training_set_size=0, trial_index=1, num_samples=100, accuracy=0.6814000010490417, crossentropy=1.1347216911569669),\n",
       "   OBIPerformance(total_training_set_size=30, real_training_set_size=30, online_training_set_size=0, trial_index=2, num_samples=100, accuracy=0.682200014591217, crossentropy=1.1236202621514846),\n",
       "   OBIPerformance(total_training_set_size=30, real_training_set_size=30, online_training_set_size=0, trial_index=3, num_samples=100, accuracy=0.6754000186920166, crossentropy=1.1721064034197455),\n",
       "   OBIPerformance(total_training_set_size=30, real_training_set_size=30, online_training_set_size=0, trial_index=4, num_samples=100, accuracy=0.6815999746322632, crossentropy=1.121347171405315),\n",
       "   OBIPerformance(total_training_set_size=31, real_training_set_size=30, online_training_set_size=1, trial_index=0, num_samples=10, accuracy=0.6553000211715698, crossentropy=1.4524667810426912),\n",
       "   OBIPerformance(total_training_set_size=31, real_training_set_size=30, online_training_set_size=1, trial_index=1, num_samples=10, accuracy=0.6897000074386597, crossentropy=1.4149371504469928),\n",
       "   OBIPerformance(total_training_set_size=31, real_training_set_size=30, online_training_set_size=1, trial_index=2, num_samples=10, accuracy=0.6757000088691711, crossentropy=1.2541490635351915),\n",
       "   OBIPerformance(total_training_set_size=31, real_training_set_size=30, online_training_set_size=1, trial_index=3, num_samples=10, accuracy=0.6563000082969666, crossentropy=1.4237299721431738),\n",
       "   OBIPerformance(total_training_set_size=31, real_training_set_size=30, online_training_set_size=1, trial_index=4, num_samples=10, accuracy=0.6753000020980835, crossentropy=1.5763221266863),\n",
       "   OBIPerformance(total_training_set_size=31, real_training_set_size=30, online_training_set_size=1, trial_index=0, num_samples=100, accuracy=0.6700999736785889, crossentropy=1.1714726240937405),\n",
       "   OBIPerformance(total_training_set_size=31, real_training_set_size=30, online_training_set_size=1, trial_index=1, num_samples=100, accuracy=0.6764000058174133, crossentropy=1.138640144460815),\n",
       "   OBIPerformance(total_training_set_size=31, real_training_set_size=30, online_training_set_size=1, trial_index=2, num_samples=100, accuracy=0.671999990940094, crossentropy=1.182803313953726),\n",
       "   OBIPerformance(total_training_set_size=31, real_training_set_size=30, online_training_set_size=1, trial_index=3, num_samples=100, accuracy=0.6783999800682068, crossentropy=1.1525015029739432),\n",
       "   OBIPerformance(total_training_set_size=31, real_training_set_size=30, online_training_set_size=1, trial_index=4, num_samples=100, accuracy=0.6657000184059143, crossentropy=1.187274606455306),\n",
       "   OBIPerformance(total_training_set_size=32, real_training_set_size=30, online_training_set_size=2, trial_index=0, num_samples=10, accuracy=0.5821999907493591, crossentropy=2.5594327522993057),\n",
       "   OBIPerformance(total_training_set_size=32, real_training_set_size=30, online_training_set_size=2, trial_index=1, num_samples=10, accuracy=0.6704999804496765, crossentropy=1.7988378700426055),\n",
       "   OBIPerformance(total_training_set_size=32, real_training_set_size=30, online_training_set_size=2, trial_index=2, num_samples=10, accuracy=0.6640999913215637, crossentropy=1.5021631476989874),\n",
       "   OBIPerformance(total_training_set_size=32, real_training_set_size=30, online_training_set_size=2, trial_index=3, num_samples=10, accuracy=0.6389999985694885, crossentropy=1.634070684146529),\n",
       "   OBIPerformance(total_training_set_size=32, real_training_set_size=30, online_training_set_size=2, trial_index=4, num_samples=10, accuracy=0.6636000275611877, crossentropy=1.4739030518835055),\n",
       "   OBIPerformance(total_training_set_size=32, real_training_set_size=30, online_training_set_size=2, trial_index=0, num_samples=100, accuracy=0.6625000238418579, crossentropy=1.346377788587259),\n",
       "   OBIPerformance(total_training_set_size=32, real_training_set_size=30, online_training_set_size=2, trial_index=1, num_samples=100, accuracy=0.6776000261306763, crossentropy=1.3129367489640071),\n",
       "   OBIPerformance(total_training_set_size=32, real_training_set_size=30, online_training_set_size=2, trial_index=2, num_samples=100, accuracy=0.6402000188827515, crossentropy=1.41925491939407),\n",
       "   OBIPerformance(total_training_set_size=32, real_training_set_size=30, online_training_set_size=2, trial_index=3, num_samples=100, accuracy=0.6628000140190125, crossentropy=1.368467045584973),\n",
       "   OBIPerformance(total_training_set_size=32, real_training_set_size=30, online_training_set_size=2, trial_index=4, num_samples=100, accuracy=0.6751999855041504, crossentropy=1.3167524451265453),\n",
       "   OBIPerformance(total_training_set_size=33, real_training_set_size=30, online_training_set_size=3, trial_index=0, num_samples=10, accuracy=0.6342999935150146, crossentropy=2.0022730890381477),\n",
       "   OBIPerformance(total_training_set_size=33, real_training_set_size=30, online_training_set_size=3, trial_index=1, num_samples=10, accuracy=0.6389999985694885, crossentropy=1.8626000776625922),\n",
       "   OBIPerformance(total_training_set_size=33, real_training_set_size=30, online_training_set_size=3, trial_index=2, num_samples=10, accuracy=0.6514000296592712, crossentropy=1.8712996796753723),\n",
       "   OBIPerformance(total_training_set_size=33, real_training_set_size=30, online_training_set_size=3, trial_index=3, num_samples=10, accuracy=0.6489999890327454, crossentropy=2.1929052006429566),\n",
       "   OBIPerformance(total_training_set_size=33, real_training_set_size=30, online_training_set_size=3, trial_index=4, num_samples=10, accuracy=0.6703000068664551, crossentropy=1.2695603980805839),\n",
       "   OBIPerformance(total_training_set_size=33, real_training_set_size=30, online_training_set_size=3, trial_index=0, num_samples=100, accuracy=0.63919997215271, crossentropy=1.7552481527257358),\n",
       "   OBIPerformance(total_training_set_size=33, real_training_set_size=30, online_training_set_size=3, trial_index=1, num_samples=100, accuracy=0.6780999898910522, crossentropy=1.3721962224523077),\n",
       "   OBIPerformance(total_training_set_size=33, real_training_set_size=30, online_training_set_size=3, trial_index=2, num_samples=100, accuracy=0.6651999950408936, crossentropy=1.4142157744747847),\n",
       "   OBIPerformance(total_training_set_size=33, real_training_set_size=30, online_training_set_size=3, trial_index=3, num_samples=100, accuracy=0.6765999794006348, crossentropy=1.5898312683172524),\n",
       "   OBIPerformance(total_training_set_size=33, real_training_set_size=30, online_training_set_size=3, trial_index=4, num_samples=100, accuracy=0.6394000053405762, crossentropy=1.7385163196039393),\n",
       "   OBIPerformance(total_training_set_size=34, real_training_set_size=30, online_training_set_size=4, trial_index=0, num_samples=10, accuracy=0.6730999946594238, crossentropy=1.6124593873953357),\n",
       "   OBIPerformance(total_training_set_size=34, real_training_set_size=30, online_training_set_size=4, trial_index=1, num_samples=10, accuracy=0.6614999771118164, crossentropy=1.5500862244402387),\n",
       "   OBIPerformance(total_training_set_size=34, real_training_set_size=30, online_training_set_size=4, trial_index=2, num_samples=10, accuracy=0.6341000199317932, crossentropy=2.8499686744612482),\n",
       "   OBIPerformance(total_training_set_size=34, real_training_set_size=30, online_training_set_size=4, trial_index=3, num_samples=10, accuracy=0.6245999932289124, crossentropy=2.225383406484064),\n",
       "   OBIPerformance(total_training_set_size=34, real_training_set_size=30, online_training_set_size=4, trial_index=4, num_samples=10, accuracy=0.6699000000953674, crossentropy=2.43924555588654),\n",
       "   OBIPerformance(total_training_set_size=34, real_training_set_size=30, online_training_set_size=4, trial_index=0, num_samples=100, accuracy=0.6434000134468079, crossentropy=1.4408952797417467),\n",
       "   OBIPerformance(total_training_set_size=34, real_training_set_size=30, online_training_set_size=4, trial_index=1, num_samples=100, accuracy=0.6736999750137329, crossentropy=1.2670047682392436),\n",
       "   OBIPerformance(total_training_set_size=34, real_training_set_size=30, online_training_set_size=4, trial_index=2, num_samples=100, accuracy=0.675000011920929, crossentropy=1.2566334408193587),\n",
       "   OBIPerformance(total_training_set_size=34, real_training_set_size=30, online_training_set_size=4, trial_index=3, num_samples=100, accuracy=0.663100004196167, crossentropy=1.3139963246928392),\n",
       "   OBIPerformance(total_training_set_size=34, real_training_set_size=30, online_training_set_size=4, trial_index=4, num_samples=100, accuracy=0.6377999782562256, crossentropy=1.7989955081662152),\n",
       "   OBIPerformance(total_training_set_size=35, real_training_set_size=30, online_training_set_size=5, trial_index=0, num_samples=10, accuracy=0.6337000131607056, crossentropy=1.621878388148549),\n",
       "   OBIPerformance(total_training_set_size=35, real_training_set_size=30, online_training_set_size=5, trial_index=1, num_samples=10, accuracy=0.6068999767303467, crossentropy=1.5787162078077182),\n",
       "   OBIPerformance(total_training_set_size=35, real_training_set_size=30, online_training_set_size=5, trial_index=2, num_samples=10, accuracy=0.6740000247955322, crossentropy=2.3762723518704676),\n",
       "   OBIPerformance(total_training_set_size=35, real_training_set_size=30, online_training_set_size=5, trial_index=3, num_samples=10, accuracy=0.6470000147819519, crossentropy=1.3758278633622474),\n",
       "   OBIPerformance(total_training_set_size=35, real_training_set_size=30, online_training_set_size=5, trial_index=4, num_samples=10, accuracy=0.6256999969482422, crossentropy=2.247413437185756),\n",
       "   OBIPerformance(total_training_set_size=35, real_training_set_size=30, online_training_set_size=5, trial_index=0, num_samples=100, accuracy=0.6180999875068665, crossentropy=1.6989354545876478),\n",
       "   OBIPerformance(total_training_set_size=35, real_training_set_size=30, online_training_set_size=5, trial_index=1, num_samples=100, accuracy=0.6244000196456909, crossentropy=1.652026832367172),\n",
       "   OBIPerformance(total_training_set_size=35, real_training_set_size=30, online_training_set_size=5, trial_index=2, num_samples=100, accuracy=0.6097999811172485, crossentropy=1.75485667395258),\n",
       "   OBIPerformance(total_training_set_size=35, real_training_set_size=30, online_training_set_size=5, trial_index=3, num_samples=100, accuracy=0.6632999777793884, crossentropy=1.2801276899349716),\n",
       "   OBIPerformance(total_training_set_size=35, real_training_set_size=30, online_training_set_size=5, trial_index=4, num_samples=100, accuracy=0.6279000043869019, crossentropy=1.6459553694103917),\n",
       "   OBIPerformance(total_training_set_size=36, real_training_set_size=30, online_training_set_size=6, trial_index=0, num_samples=10, accuracy=0.6018999814987183, crossentropy=2.438453357602158),\n",
       "   OBIPerformance(total_training_set_size=36, real_training_set_size=30, online_training_set_size=6, trial_index=1, num_samples=10, accuracy=0.5849999785423279, crossentropy=1.941975553342779),\n",
       "   OBIPerformance(total_training_set_size=36, real_training_set_size=30, online_training_set_size=6, trial_index=2, num_samples=10, accuracy=0.6477000117301941, crossentropy=1.3948290968555317),\n",
       "   OBIPerformance(total_training_set_size=36, real_training_set_size=30, online_training_set_size=6, trial_index=3, num_samples=10, accuracy=0.5821999907493591, crossentropy=2.782713331242634),\n",
       "   OBIPerformance(total_training_set_size=36, real_training_set_size=30, online_training_set_size=6, trial_index=4, num_samples=10, accuracy=0.6599000096321106, crossentropy=1.7235108682882736),\n",
       "   OBIPerformance(total_training_set_size=36, real_training_set_size=30, online_training_set_size=6, trial_index=0, num_samples=100, accuracy=0.6244999766349792, crossentropy=2.1108565640522605),\n",
       "   OBIPerformance(total_training_set_size=36, real_training_set_size=30, online_training_set_size=6, trial_index=1, num_samples=100, accuracy=0.6154999732971191, crossentropy=1.6200696691320677),\n",
       "   OBIPerformance(total_training_set_size=36, real_training_set_size=30, online_training_set_size=6, trial_index=2, num_samples=100, accuracy=0.616599977016449, crossentropy=1.5560327729411818),\n",
       "   OBIPerformance(total_training_set_size=36, real_training_set_size=30, online_training_set_size=6, trial_index=3, num_samples=100, accuracy=0.6302000284194946, crossentropy=1.9502134978798218),\n",
       "   OBIPerformance(total_training_set_size=36, real_training_set_size=30, online_training_set_size=6, trial_index=4, num_samples=100, accuracy=0.6137999892234802, crossentropy=2.329690273102308),\n",
       "   OBIPerformance(total_training_set_size=37, real_training_set_size=30, online_training_set_size=7, trial_index=0, num_samples=10, accuracy=0.6700000166893005, crossentropy=1.2903394765002443),\n",
       "   OBIPerformance(total_training_set_size=37, real_training_set_size=30, online_training_set_size=7, trial_index=1, num_samples=10, accuracy=0.6624000072479248, crossentropy=1.6861538863940442),\n",
       "   OBIPerformance(total_training_set_size=37, real_training_set_size=30, online_training_set_size=7, trial_index=2, num_samples=10, accuracy=0.6636999845504761, crossentropy=1.707168538409896),\n",
       "   OBIPerformance(total_training_set_size=37, real_training_set_size=30, online_training_set_size=7, trial_index=3, num_samples=10, accuracy=0.6327000260353088, crossentropy=1.435496116435163),\n",
       "   OBIPerformance(total_training_set_size=37, real_training_set_size=30, online_training_set_size=7, trial_index=4, num_samples=10, accuracy=0.6366999745368958, crossentropy=1.696861206913655),\n",
       "   OBIPerformance(total_training_set_size=37, real_training_set_size=30, online_training_set_size=7, trial_index=0, num_samples=100, accuracy=0.5985000133514404, crossentropy=1.5828351865074972),\n",
       "   OBIPerformance(total_training_set_size=37, real_training_set_size=30, online_training_set_size=7, trial_index=1, num_samples=100, accuracy=0.6148999929428101, crossentropy=1.858025368344777),\n",
       "   OBIPerformance(total_training_set_size=37, real_training_set_size=30, online_training_set_size=7, trial_index=2, num_samples=100, accuracy=0.6151000261306763, crossentropy=1.797645964622296),\n",
       "   OBIPerformance(total_training_set_size=37, real_training_set_size=30, online_training_set_size=7, trial_index=3, num_samples=100, accuracy=0.583899974822998, crossentropy=1.900472710284993),\n",
       "   OBIPerformance(total_training_set_size=37, real_training_set_size=30, online_training_set_size=7, trial_index=4, num_samples=100, accuracy=0.5837000012397766, crossentropy=1.9078268146905382),\n",
       "   OBIPerformance(total_training_set_size=38, real_training_set_size=30, online_training_set_size=8, trial_index=0, num_samples=10, accuracy=0.6468999981880188, crossentropy=1.3773340618385852),\n",
       "   OBIPerformance(total_training_set_size=38, real_training_set_size=30, online_training_set_size=8, trial_index=1, num_samples=10, accuracy=0.5841000080108643, crossentropy=1.6926345731538186),\n",
       "   OBIPerformance(total_training_set_size=38, real_training_set_size=30, online_training_set_size=8, trial_index=2, num_samples=10, accuracy=0.5989999771118164, crossentropy=2.1149583038456012),\n",
       "   OBIPerformance(total_training_set_size=38, real_training_set_size=30, online_training_set_size=8, trial_index=3, num_samples=10, accuracy=0.6309000253677368, crossentropy=2.549013394315134),\n",
       "   OBIPerformance(total_training_set_size=38, real_training_set_size=30, online_training_set_size=8, trial_index=4, num_samples=10, accuracy=0.5242000222206116, crossentropy=2.5725474325188245),\n",
       "   OBIPerformance(total_training_set_size=38, real_training_set_size=30, online_training_set_size=8, trial_index=0, num_samples=100, accuracy=0.6284000277519226, crossentropy=1.4928710347176422),\n",
       "   OBIPerformance(total_training_set_size=38, real_training_set_size=30, online_training_set_size=8, trial_index=1, num_samples=100, accuracy=0.650600016117096, crossentropy=1.2694906775073143),\n",
       "   OBIPerformance(total_training_set_size=38, real_training_set_size=30, online_training_set_size=8, trial_index=2, num_samples=100, accuracy=0.6337000131607056, crossentropy=1.32450354602736),\n",
       "   OBIPerformance(total_training_set_size=38, real_training_set_size=30, online_training_set_size=8, trial_index=3, num_samples=100, accuracy=0.5835000276565552, crossentropy=1.9356446377142213),\n",
       "   OBIPerformance(total_training_set_size=38, real_training_set_size=30, online_training_set_size=8, trial_index=4, num_samples=100, accuracy=0.6478000283241272, crossentropy=1.3522311789602597),\n",
       "   OBIPerformance(total_training_set_size=39, real_training_set_size=30, online_training_set_size=9, trial_index=0, num_samples=10, accuracy=0.6452999711036682, crossentropy=2.2725632833513627),\n",
       "   OBIPerformance(total_training_set_size=39, real_training_set_size=30, online_training_set_size=9, trial_index=1, num_samples=10, accuracy=0.6504999995231628, crossentropy=1.5006043189246367),\n",
       "   OBIPerformance(total_training_set_size=39, real_training_set_size=30, online_training_set_size=9, trial_index=2, num_samples=10, accuracy=0.6496999859809875, crossentropy=1.9761713030065653),\n",
       "   OBIPerformance(total_training_set_size=39, real_training_set_size=30, online_training_set_size=9, trial_index=3, num_samples=10, accuracy=0.6543999910354614, crossentropy=2.230876908722793),\n",
       "   OBIPerformance(total_training_set_size=39, real_training_set_size=30, online_training_set_size=9, trial_index=4, num_samples=10, accuracy=0.6137999892234802, crossentropy=2.5416660894777885),\n",
       "   OBIPerformance(total_training_set_size=39, real_training_set_size=30, online_training_set_size=9, trial_index=0, num_samples=100, accuracy=0.5835000276565552, crossentropy=1.9363986560383157),\n",
       "   OBIPerformance(total_training_set_size=39, real_training_set_size=30, online_training_set_size=9, trial_index=1, num_samples=100, accuracy=0.5835000276565552, crossentropy=1.9363860123499559),\n",
       "   OBIPerformance(total_training_set_size=39, real_training_set_size=30, online_training_set_size=9, trial_index=2, num_samples=100, accuracy=0.659600019454956, crossentropy=1.4345601121815714),\n",
       "   OBIPerformance(total_training_set_size=39, real_training_set_size=30, online_training_set_size=9, trial_index=3, num_samples=100, accuracy=0.6470999717712402, crossentropy=1.370131597463961),\n",
       "   OBIPerformance(total_training_set_size=39, real_training_set_size=30, online_training_set_size=9, trial_index=4, num_samples=100, accuracy=0.5838000178337097, crossentropy=1.8621107786563578),\n",
       "   OBIPerformance(total_training_set_size=40, real_training_set_size=30, online_training_set_size=10, trial_index=0, num_samples=10, accuracy=0.6657999753952026, crossentropy=2.257695189509324),\n",
       "   OBIPerformance(total_training_set_size=40, real_training_set_size=30, online_training_set_size=10, trial_index=1, num_samples=10, accuracy=0.656000018119812, crossentropy=1.9094349899939305),\n",
       "   OBIPerformance(total_training_set_size=40, real_training_set_size=30, online_training_set_size=10, trial_index=2, num_samples=10, accuracy=0.6468999981880188, crossentropy=1.3773340619232308),\n",
       "   OBIPerformance(total_training_set_size=40, real_training_set_size=30, online_training_set_size=10, trial_index=3, num_samples=10, accuracy=0.6468999981880188, crossentropy=1.3773340616290546),\n",
       "   OBIPerformance(total_training_set_size=40, real_training_set_size=30, online_training_set_size=10, trial_index=4, num_samples=10, accuracy=0.5821999907493591, crossentropy=2.6430894823362987),\n",
       "   OBIPerformance(total_training_set_size=40, real_training_set_size=30, online_training_set_size=10, trial_index=0, num_samples=100, accuracy=0.6136999726295471, crossentropy=1.377590983900062),\n",
       "   OBIPerformance(total_training_set_size=40, real_training_set_size=30, online_training_set_size=10, trial_index=1, num_samples=100, accuracy=0.6057000160217285, crossentropy=1.444698800121636),\n",
       "   OBIPerformance(total_training_set_size=40, real_training_set_size=30, online_training_set_size=10, trial_index=2, num_samples=100, accuracy=0.6468999981880188, crossentropy=1.3767018222480536),\n",
       "   OBIPerformance(total_training_set_size=40, real_training_set_size=30, online_training_set_size=10, trial_index=3, num_samples=100, accuracy=0.669700026512146, crossentropy=1.2587810059010185),\n",
       "   OBIPerformance(total_training_set_size=40, real_training_set_size=30, online_training_set_size=10, trial_index=4, num_samples=100, accuracy=0.6468999981880188, crossentropy=1.3773262465297014)]],\n",
       " 'active_learning_steps': [{'training': {'epochs': [{'accuracy': 0.498046875,\n",
       "      'crossentropy': 1.6982649564743042},\n",
       "     {'accuracy': 0.5888671875, 'crossentropy': 1.4402198791503906},\n",
       "     {'accuracy': 0.5654296875, 'crossentropy': 1.6309633255004883},\n",
       "     {'accuracy': 0.5732421875, 'crossentropy': 1.6977273225784302},\n",
       "     {'accuracy': 0.57421875, 'crossentropy': 1.7026183605194092},\n",
       "     {'accuracy': 0.556640625, 'crossentropy': 1.87465500831604},\n",
       "     {'accuracy': 0.5830078125, 'crossentropy': 1.8215177059173584},\n",
       "     {'accuracy': 0.576171875, 'crossentropy': 1.8394629955291748},\n",
       "     {'accuracy': 0.556640625, 'crossentropy': 1.8409117460250854},\n",
       "     {'accuracy': 0.5771484375, 'crossentropy': 1.8598860502243042},\n",
       "     {'accuracy': 0.5751953125, 'crossentropy': 1.8028939962387085},\n",
       "     {'accuracy': 0.5830078125, 'crossentropy': 1.797486424446106},\n",
       "     {'accuracy': 0.5849609375, 'crossentropy': 1.8238229751586914},\n",
       "     {'accuracy': 0.5869140625, 'crossentropy': 1.8789403438568115},\n",
       "     {'accuracy': 0.5791015625, 'crossentropy': 1.8765678405761719},\n",
       "     {'accuracy': 0.556640625, 'crossentropy': 1.9669631719589233},\n",
       "     {'accuracy': 0.5625, 'crossentropy': 2.0490760803222656},\n",
       "     {'accuracy': 0.5869140625, 'crossentropy': 1.8095895051956177},\n",
       "     {'accuracy': 0.5810546875, 'crossentropy': 1.956794261932373},\n",
       "     {'accuracy': 0.5849609375, 'crossentropy': 2.0158591270446777},\n",
       "     {'accuracy': 0.5439453125, 'crossentropy': 2.0667121410369873},\n",
       "     {'accuracy': 0.568359375, 'crossentropy': 2.01694917678833}],\n",
       "    'best_epoch': 1},\n",
       "   'evaluation_metrics': {'accuracy': 0.5835,\n",
       "    'crossentropy': 1.39644130859375,\n",
       "    '_timestamp': 1650146633,\n",
       "    '_runtime': 23},\n",
       "   'acquisition': {'indices': [17776, 36852, 26891, 17001, 44414]}},\n",
       "  {'training': {'epochs': [{'accuracy': 0.392578125,\n",
       "      'crossentropy': 1.7610929012298584},\n",
       "     {'accuracy': 0.580078125, 'crossentropy': 1.499049186706543},\n",
       "     {'accuracy': 0.578125, 'crossentropy': 1.642911672592163},\n",
       "     {'accuracy': 0.5888671875, 'crossentropy': 1.6243882179260254},\n",
       "     {'accuracy': 0.599609375, 'crossentropy': 1.553757667541504},\n",
       "     {'accuracy': 0.6044921875, 'crossentropy': 1.6975044012069702},\n",
       "     {'accuracy': 0.5712890625, 'crossentropy': 1.8377858400344849},\n",
       "     {'accuracy': 0.5712890625, 'crossentropy': 1.9138169288635254},\n",
       "     {'accuracy': 0.5888671875, 'crossentropy': 1.722456932067871},\n",
       "     {'accuracy': 0.5810546875, 'crossentropy': 1.8387601375579834},\n",
       "     {'accuracy': 0.5615234375, 'crossentropy': 1.9316930770874023},\n",
       "     {'accuracy': 0.564453125, 'crossentropy': 2.07055401802063},\n",
       "     {'accuracy': 0.5771484375, 'crossentropy': 1.830942153930664},\n",
       "     {'accuracy': 0.5859375, 'crossentropy': 1.721291184425354},\n",
       "     {'accuracy': 0.5830078125, 'crossentropy': 2.021444797515869},\n",
       "     {'accuracy': 0.5478515625, 'crossentropy': 2.004549741744995},\n",
       "     {'accuracy': 0.5712890625, 'crossentropy': 2.0528836250305176},\n",
       "     {'accuracy': 0.57421875, 'crossentropy': 1.9162685871124268},\n",
       "     {'accuracy': 0.5947265625, 'crossentropy': 1.8648276329040527},\n",
       "     {'accuracy': 0.595703125, 'crossentropy': 2.074589729309082},\n",
       "     {'accuracy': 0.5908203125, 'crossentropy': 1.8965049982070923},\n",
       "     {'accuracy': 0.5986328125, 'crossentropy': 1.8511106967926025},\n",
       "     {'accuracy': 0.5888671875, 'crossentropy': 1.79728102684021},\n",
       "     {'accuracy': 0.56640625, 'crossentropy': 2.104839563369751},\n",
       "     {'accuracy': 0.5625, 'crossentropy': 2.0135533809661865},\n",
       "     {'accuracy': 0.576171875, 'crossentropy': 1.929125189781189}],\n",
       "    'best_epoch': 5},\n",
       "   'evaluation_metrics': {'accuracy': 0.6058,\n",
       "    'crossentropy': 1.6094099609375,\n",
       "    '_timestamp': 1650146660,\n",
       "    '_runtime': 50},\n",
       "   'acquisition': {'indices': [23050, 30884, 41516, 8897, 34608]}},\n",
       "  {'training': {'epochs': [{'accuracy': 0.384765625,\n",
       "      'crossentropy': 1.8451828956604004},\n",
       "     {'accuracy': 0.5068359375, 'crossentropy': 1.4651920795440674},\n",
       "     {'accuracy': 0.5791015625, 'crossentropy': 1.3441417217254639},\n",
       "     {'accuracy': 0.59375, 'crossentropy': 1.2797155380249023},\n",
       "     {'accuracy': 0.6044921875, 'crossentropy': 1.2529510259628296},\n",
       "     {'accuracy': 0.5869140625, 'crossentropy': 1.4234411716461182},\n",
       "     {'accuracy': 0.6103515625, 'crossentropy': 1.368377923965454},\n",
       "     {'accuracy': 0.6044921875, 'crossentropy': 1.4224683046340942},\n",
       "     {'accuracy': 0.619140625, 'crossentropy': 1.3120524883270264},\n",
       "     {'accuracy': 0.5986328125, 'crossentropy': 1.4843430519104004},\n",
       "     {'accuracy': 0.630859375, 'crossentropy': 1.2483532428741455},\n",
       "     {'accuracy': 0.6201171875, 'crossentropy': 1.359853982925415},\n",
       "     {'accuracy': 0.6435546875, 'crossentropy': 1.3114601373672485},\n",
       "     {'accuracy': 0.64453125, 'crossentropy': 1.2504527568817139},\n",
       "     {'accuracy': 0.625, 'crossentropy': 1.3473081588745117},\n",
       "     {'accuracy': 0.619140625, 'crossentropy': 1.3479756116867065},\n",
       "     {'accuracy': 0.6279296875, 'crossentropy': 1.3399513959884644},\n",
       "     {'accuracy': 0.625, 'crossentropy': 1.4034274816513062},\n",
       "     {'accuracy': 0.6494140625, 'crossentropy': 1.3031257390975952},\n",
       "     {'accuracy': 0.625, 'crossentropy': 1.38523268699646},\n",
       "     {'accuracy': 0.615234375, 'crossentropy': 1.5263015031814575},\n",
       "     {'accuracy': 0.6318359375, 'crossentropy': 1.4069820642471313},\n",
       "     {'accuracy': 0.63671875, 'crossentropy': 1.325340986251831},\n",
       "     {'accuracy': 0.619140625, 'crossentropy': 1.4355727434158325},\n",
       "     {'accuracy': 0.607421875, 'crossentropy': 1.5232502222061157},\n",
       "     {'accuracy': 0.6298828125, 'crossentropy': 1.3429975509643555},\n",
       "     {'accuracy': 0.6064453125, 'crossentropy': 1.5156619548797607},\n",
       "     {'accuracy': 0.625, 'crossentropy': 1.4553465843200684},\n",
       "     {'accuracy': 0.6435546875, 'crossentropy': 1.378708004951477},\n",
       "     {'accuracy': 0.6455078125, 'crossentropy': 1.3057401180267334},\n",
       "     {'accuracy': 0.623046875, 'crossentropy': 1.4687678813934326},\n",
       "     {'accuracy': 0.6259765625, 'crossentropy': 1.5313355922698975},\n",
       "     {'accuracy': 0.671875, 'crossentropy': 1.4225190877914429},\n",
       "     {'accuracy': 0.658203125, 'crossentropy': 1.3263912200927734},\n",
       "     {'accuracy': 0.6201171875, 'crossentropy': 1.5050984621047974},\n",
       "     {'accuracy': 0.6552734375, 'crossentropy': 1.3476742506027222},\n",
       "     {'accuracy': 0.642578125, 'crossentropy': 1.3577030897140503},\n",
       "     {'accuracy': 0.6162109375, 'crossentropy': 1.4826518297195435},\n",
       "     {'accuracy': 0.6689453125, 'crossentropy': 1.1885735988616943},\n",
       "     {'accuracy': 0.625, 'crossentropy': 1.386590600013733},\n",
       "     {'accuracy': 0.6416015625, 'crossentropy': 1.3295832872390747},\n",
       "     {'accuracy': 0.65234375, 'crossentropy': 1.3120930194854736},\n",
       "     {'accuracy': 0.6572265625, 'crossentropy': 1.375509262084961},\n",
       "     {'accuracy': 0.650390625, 'crossentropy': 1.4387462139129639},\n",
       "     {'accuracy': 0.654296875, 'crossentropy': 1.3311309814453125},\n",
       "     {'accuracy': 0.6328125, 'crossentropy': 1.388687014579773},\n",
       "     {'accuracy': 0.6318359375, 'crossentropy': 1.413032054901123},\n",
       "     {'accuracy': 0.646484375, 'crossentropy': 1.3818559646606445},\n",
       "     {'accuracy': 0.6337890625, 'crossentropy': 1.4675642251968384},\n",
       "     {'accuracy': 0.6259765625, 'crossentropy': 1.480331301689148},\n",
       "     {'accuracy': 0.630859375, 'crossentropy': 1.3433988094329834},\n",
       "     {'accuracy': 0.6416015625, 'crossentropy': 1.3653669357299805},\n",
       "     {'accuracy': 0.6357421875, 'crossentropy': 1.3764736652374268}],\n",
       "    'best_epoch': 32},\n",
       "   'evaluation_metrics': {'accuracy': 0.6791,\n",
       "    'crossentropy': 1.2912138671875,\n",
       "    '_timestamp': 1650146696,\n",
       "    '_runtime': 86},\n",
       "   'acquisition': {'indices': [11721, 13127, 9870, 39700, 13985]}},\n",
       "  {'training': {'epochs': [{'accuracy': 0.2861328125,\n",
       "      'crossentropy': 2.0189788341522217},\n",
       "     {'accuracy': 0.5595703125, 'crossentropy': 1.376032829284668},\n",
       "     {'accuracy': 0.6162109375, 'crossentropy': 1.3099182844161987},\n",
       "     {'accuracy': 0.6328125, 'crossentropy': 1.242930293083191},\n",
       "     {'accuracy': 0.6494140625, 'crossentropy': 1.209563136100769},\n",
       "     {'accuracy': 0.646484375, 'crossentropy': 1.3501644134521484},\n",
       "     {'accuracy': 0.66015625, 'crossentropy': 1.276748776435852},\n",
       "     {'accuracy': 0.65234375, 'crossentropy': 1.3631401062011719},\n",
       "     {'accuracy': 0.65625, 'crossentropy': 1.3457051515579224},\n",
       "     {'accuracy': 0.6533203125, 'crossentropy': 1.25152587890625},\n",
       "     {'accuracy': 0.6728515625, 'crossentropy': 1.284234642982483},\n",
       "     {'accuracy': 0.66015625, 'crossentropy': 1.304644227027893},\n",
       "     {'accuracy': 0.6455078125, 'crossentropy': 1.334561824798584},\n",
       "     {'accuracy': 0.642578125, 'crossentropy': 1.3373467922210693},\n",
       "     {'accuracy': 0.677734375, 'crossentropy': 1.3325796127319336},\n",
       "     {'accuracy': 0.6669921875, 'crossentropy': 1.2678810358047485},\n",
       "     {'accuracy': 0.65234375, 'crossentropy': 1.3493870496749878},\n",
       "     {'accuracy': 0.6513671875, 'crossentropy': 1.4422907829284668},\n",
       "     {'accuracy': 0.666015625, 'crossentropy': 1.402571439743042},\n",
       "     {'accuracy': 0.6689453125, 'crossentropy': 1.4179450273513794},\n",
       "     {'accuracy': 0.66015625, 'crossentropy': 1.2956926822662354},\n",
       "     {'accuracy': 0.6572265625, 'crossentropy': 1.413398027420044},\n",
       "     {'accuracy': 0.66796875, 'crossentropy': 1.2732652425765991},\n",
       "     {'accuracy': 0.6728515625, 'crossentropy': 1.2829333543777466},\n",
       "     {'accuracy': 0.6630859375, 'crossentropy': 1.2925512790679932},\n",
       "     {'accuracy': 0.6640625, 'crossentropy': 1.3245954513549805},\n",
       "     {'accuracy': 0.6669921875, 'crossentropy': 1.3267536163330078},\n",
       "     {'accuracy': 0.658203125, 'crossentropy': 1.3234596252441406},\n",
       "     {'accuracy': 0.6787109375, 'crossentropy': 1.320326805114746},\n",
       "     {'accuracy': 0.6630859375, 'crossentropy': 1.3857308626174927},\n",
       "     {'accuracy': 0.673828125, 'crossentropy': 1.2790052890777588},\n",
       "     {'accuracy': 0.6650390625, 'crossentropy': 1.3205260038375854},\n",
       "     {'accuracy': 0.666015625, 'crossentropy': 1.3766523599624634},\n",
       "     {'accuracy': 0.6689453125, 'crossentropy': 1.2650502920150757},\n",
       "     {'accuracy': 0.6728515625, 'crossentropy': 1.3205281496047974},\n",
       "     {'accuracy': 0.677734375, 'crossentropy': 1.349450945854187},\n",
       "     {'accuracy': 0.6767578125, 'crossentropy': 1.3711493015289307},\n",
       "     {'accuracy': 0.66796875, 'crossentropy': 1.366260051727295},\n",
       "     {'accuracy': 0.6767578125, 'crossentropy': 1.2759532928466797},\n",
       "     {'accuracy': 0.6806640625, 'crossentropy': 1.337022304534912},\n",
       "     {'accuracy': 0.68359375, 'crossentropy': 1.300515055656433},\n",
       "     {'accuracy': 0.671875, 'crossentropy': 1.4049433469772339},\n",
       "     {'accuracy': 0.6630859375, 'crossentropy': 1.339883804321289},\n",
       "     {'accuracy': 0.6884765625, 'crossentropy': 1.215468168258667},\n",
       "     {'accuracy': 0.6572265625, 'crossentropy': 1.3123524188995361},\n",
       "     {'accuracy': 0.6533203125, 'crossentropy': 1.2819137573242188},\n",
       "     {'accuracy': 0.69921875, 'crossentropy': 1.073171615600586},\n",
       "     {'accuracy': 0.6728515625, 'crossentropy': 1.360499620437622},\n",
       "     {'accuracy': 0.685546875, 'crossentropy': 1.3186885118484497},\n",
       "     {'accuracy': 0.6806640625, 'crossentropy': 1.2420796155929565},\n",
       "     {'accuracy': 0.6728515625, 'crossentropy': 1.2878775596618652},\n",
       "     {'accuracy': 0.67578125, 'crossentropy': 1.3673439025878906},\n",
       "     {'accuracy': 0.6640625, 'crossentropy': 1.4459720849990845},\n",
       "     {'accuracy': 0.6591796875, 'crossentropy': 1.4396723508834839},\n",
       "     {'accuracy': 0.64453125, 'crossentropy': 1.3584870100021362},\n",
       "     {'accuracy': 0.677734375, 'crossentropy': 1.239335536956787},\n",
       "     {'accuracy': 0.669921875, 'crossentropy': 1.235924243927002},\n",
       "     {'accuracy': 0.6572265625, 'crossentropy': 1.4290560483932495},\n",
       "     {'accuracy': 0.66796875, 'crossentropy': 1.2773425579071045},\n",
       "     {'accuracy': 0.662109375, 'crossentropy': 1.2364497184753418},\n",
       "     {'accuracy': 0.6865234375, 'crossentropy': 1.2086702585220337},\n",
       "     {'accuracy': 0.677734375, 'crossentropy': 1.243868350982666},\n",
       "     {'accuracy': 0.673828125, 'crossentropy': 1.318315029144287},\n",
       "     {'accuracy': 0.6708984375, 'crossentropy': 1.3837350606918335},\n",
       "     {'accuracy': 0.6591796875, 'crossentropy': 1.3592121601104736},\n",
       "     {'accuracy': 0.6640625, 'crossentropy': 1.3860594034194946},\n",
       "     {'accuracy': 0.6787109375, 'crossentropy': 1.261418342590332}],\n",
       "    'best_epoch': 46},\n",
       "   'evaluation_metrics': {'accuracy': 0.7008,\n",
       "    'crossentropy': 1.1200462890625,\n",
       "    '_timestamp': 1650146737,\n",
       "    '_runtime': 127}}]}"
      ]
     },
     "execution_count": null,
     "metadata": {},
     "output_type": "execute_result"
    }
   ],
   "source": [
    "results"
   ]
  },
  {
   "cell_type": "code",
   "execution_count": null,
   "metadata": {},
   "outputs": [],
   "source": [
    "# exports\n",
    "\n",
    "configs = [\n",
    "    Experiment(\n",
    "        seed=seed+1337,\n",
    "        acquisition_size=acquisition_size,\n",
    "        num_pool_samples=num_pool_samples,\n",
    "        random_acquisition=random_acquisition,\n",
    "        num_samples_list= (10000,)\n",
    "    )\n",
    "    for seed in range(4)\n",
    "    for acquisition_size in [1]\n",
    "    for num_pool_samples in [100]\n",
    "    for random_acquisition in [True, False]\n",
    "]\n",
    "\n",
    "if not is_run_from_ipython() and __name__ == \"__main__\":\n",
    "    for job_id, store in embedded_experiments(__file__, len(configs)):\n",
    "        config = configs[job_id]\n",
    "        config.seed += job_id\n",
    "        print(config)\n",
    "        store[\"config\"] = dataclasses.asdict(config)\n",
    "        store[\"log\"] = {}\n",
    "\n",
    "        try:\n",
    "            config.run(store=store)\n",
    "        except Exception:\n",
    "            store[\"exception\"] = traceback.format_exc()\n",
    "            raise"
   ]
  },
  {
   "cell_type": "code",
   "execution_count": null,
   "metadata": {},
   "outputs": [
    {
     "data": {
      "text/plain": [
       "1"
      ]
     },
     "execution_count": null,
     "metadata": {},
     "output_type": "execute_result"
    }
   ],
   "source": [
    "len(configs)"
   ]
  },
  {
   "cell_type": "code",
   "execution_count": null,
   "metadata": {},
   "outputs": [
    {
     "name": "stdout",
     "output_type": "stream",
     "text": [
      "[Experiment(seed=0, num_pool_samples=100)]\n",
      "\n"
     ]
    },
    {
     "data": {
      "text/html": [
       "Waiting for W&B process to finish... <strong style=\"color:green\">(success).</strong>"
      ],
      "text/plain": [
       "<IPython.core.display.HTML object>"
      ]
     },
     "metadata": {},
     "output_type": "display_data"
    },
    {
     "data": {
      "application/vnd.jupyter.widget-view+json": {
       "model_id": "",
       "version_major": 2,
       "version_minor": 0
      },
      "text/plain": [
       "VBox(children=(Label(value='0.015 MB of 0.015 MB uploaded (0.000 MB deduped)\\r'), FloatProgress(value=1.0, max…"
      ]
     },
     "metadata": {},
     "output_type": "display_data"
    },
    {
     "data": {
      "text/html": [
       "<style>\n",
       "    table.wandb td:nth-child(1) { padding: 0 10px; text-align: right }\n",
       "    .wandb-row { display: flex; flex-direction: row; flex-wrap: wrap; width: 100% }\n",
       "    .wandb-col { display: flex; flex-direction: column; flex-basis: 100%; flex: 1; padding: 10px; }\n",
       "    </style>\n",
       "<div class=\"wandb-row\"><div class=\"wandb-col\"><h3>Run history:</h3><br/><table class=\"wandb\"><tr><td>accuracy</td><td>▁▂▇█</td></tr><tr><td>crossentropy</td><td>▅█▃▁</td></tr><tr><td>model_training/best_epoch</td><td>▁▂▆█</td></tr><tr><td>model_training/best_val_accuracy</td><td>▁▂▆█</td></tr><tr><td>model_training/best_val_crossentropy</td><td>▅█▅▁</td></tr></table><br/></div><div class=\"wandb-col\"><h3>Run summary:</h3><br/><table class=\"wandb\"><tr><td>accuracy</td><td>0.7008</td></tr><tr><td>crossentropy</td><td>1.12005</td></tr><tr><td>model_training/best_epoch</td><td>46</td></tr><tr><td>model_training/best_val_accuracy</td><td>0.69922</td></tr><tr><td>model_training/best_val_crossentropy</td><td>1.07317</td></tr></table><br/></div></div>"
      ],
      "text/plain": [
       "<IPython.core.display.HTML object>"
      ]
     },
     "metadata": {},
     "output_type": "display_data"
    },
    {
     "data": {
      "text/html": [
       "Synced <strong style=\"color:#cdcd00\">rose-durian-280</strong>: <a href=\"https://wandb.ai/oatml-andreas-kirsch/balds/runs/sa8pzazv\" target=\"_blank\">https://wandb.ai/oatml-andreas-kirsch/balds/runs/sa8pzazv</a><br/>Synced 6 W&B file(s), 4 media file(s), 4 artifact file(s) and 0 other file(s)"
      ],
      "text/plain": [
       "<IPython.core.display.HTML object>"
      ]
     },
     "metadata": {},
     "output_type": "display_data"
    },
    {
     "data": {
      "text/html": [
       "Find logs at: <code>./wandb/run-20220416_230325-sa8pzazv/logs</code>"
      ],
      "text/plain": [
       "<IPython.core.display.HTML object>"
      ]
     },
     "metadata": {},
     "output_type": "display_data"
    }
   ],
   "source": [
    "# slow\n",
    "import prettyprinter\n",
    "\n",
    "prettyprinter.install_extras(include={\"dataclasses\"})\n",
    "\n",
    "prettyprinter.pprint(configs)"
   ]
  },
  {
   "cell_type": "code",
   "execution_count": null,
   "metadata": {},
   "outputs": [],
   "source": []
  }
 ],
 "metadata": {
  "kernelspec": {
   "display_name": "Python [conda env:active_learning]",
   "language": "python",
   "name": "conda-env-active_learning-py"
  }
 },
 "nbformat": 4,
 "nbformat_minor": 4
}
