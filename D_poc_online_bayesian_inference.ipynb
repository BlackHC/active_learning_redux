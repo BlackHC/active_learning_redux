{
 "cells": [
  {
   "cell_type": "markdown",
   "metadata": {},
   "source": [
    "# Experiment POC OBI\n",
    "> Can we get better by training on our assumptions?"
   ]
  },
  {
   "cell_type": "code",
   "execution_count": null,
   "metadata": {},
   "outputs": [],
   "source": [
    "# default_exp poc_online_bayesian_inference"
   ]
  },
  {
   "cell_type": "code",
   "execution_count": null,
   "metadata": {},
   "outputs": [
    {
     "name": "stdout",
     "output_type": "stream",
     "text": [
      "Appended /home/blackhc/PycharmProjects/bald-ical/src to paths\n",
      "Switched to directory /home/blackhc/PycharmProjects/bald-ical\n",
      "%load_ext autoreload\n",
      "%autoreload 2\n"
     ]
    }
   ],
   "source": [
    "# hide\n",
    "import blackhc.project.script"
   ]
  },
  {
   "cell_type": "markdown",
   "metadata": {},
   "source": [
    "Import modules and functions were are going to use."
   ]
  },
  {
   "cell_type": "code",
   "execution_count": null,
   "metadata": {},
   "outputs": [],
   "source": [
    "# exports\n",
    "\n",
    "import dataclasses\n",
    "import traceback\n",
    "from dataclasses import dataclass\n",
    "from typing import Type, Union\n",
    "\n",
    "import torch\n",
    "import torch.utils.data\n",
    "from blackhc.project import is_run_from_ipython\n",
    "from blackhc.project.experiment import embedded_experiments\n",
    "from torch.utils.data import Dataset\n",
    "\n",
    "import batchbald_redux.acquisition_functions as acquisition_functions\n",
    "import wandb\n",
    "from batchbald_redux.acquisition_functions import (\n",
    "    CandidateBatchComputer,\n",
    "    EvalModelBatchComputer,\n",
    ")\n",
    "from batchbald_redux.active_learning import ActiveLearningData, RandomFixedLengthSampler\n",
    "from batchbald_redux.black_box_model_training import evaluate_old, train\n",
    "from batchbald_redux.dataset_challenges import (\n",
    "    AdditiveGaussianNoise,\n",
    "    NamedDataset,\n",
    "    create_repeated_MNIST_dataset,\n",
    "    get_balanced_sample_indices,\n",
    "    get_base_dataset_index,\n",
    "    get_target,\n",
    ")\n",
    "from batchbald_redux.di import DependencyInjection\n",
    "from batchbald_redux.experiment_logging import asclassdict, init_wandb, log2wandb\n",
    "from batchbald_redux.fast_mnist import FastMNIST\n",
    "from batchbald_redux.model_optimizer_factory import ModelOptimizerFactory\n",
    "from batchbald_redux.models import MnistOptimizerFactory\n",
    "from batchbald_redux.online_bayesian_inference import evaluate_online_bayesian_inference"
   ]
  },
  {
   "cell_type": "code",
   "execution_count": null,
   "metadata": {},
   "outputs": [],
   "source": [
    "# exports\n",
    "\n",
    "# From the BatchBALD Repo\n",
    "from batchbald_redux.train_eval_model import (\n",
    "    TrainEvalModel,\n",
    "    TrainSelfDistillationEvalModel,\n",
    ")\n",
    "from batchbald_redux.trained_model import TrainedBayesianModel"
   ]
  },
  {
   "cell_type": "code",
   "execution_count": null,
   "metadata": {},
   "outputs": [],
   "source": [
    "# exports\n",
    "\n",
    "from blackhc.progress_bar import create_progress_bar\n",
    "from toma import toma\n",
    "\n",
    "\n",
    "def compute_entropy_from_probs(probs_N_K_C: torch.Tensor) -> torch.Tensor:\n",
    "    N, K, C = probs_N_K_C.shape\n",
    "\n",
    "    entropies_N = torch.empty(N, dtype=torch.double)\n",
    "\n",
    "    pbar = create_progress_bar(N, tqdm_args=dict(desc=\"Entropy\", leave=False))\n",
    "    pbar.start()\n",
    "\n",
    "    @toma.execute.chunked(probs_N_K_C, 1024)\n",
    "    def compute(probs_n_K_C, start: int, end: int):\n",
    "        mean_probs_n_C = probs_n_K_C.mean(dim=1)\n",
    "        nats_n_C = mean_probs_n_C * torch.log(mean_probs_n_C)\n",
    "        nats_n_C[mean_probs_n_C == 0] = 0.0\n",
    "\n",
    "        entropies_N[start:end].copy_(-torch.sum(nats_n_C, dim=1))\n",
    "        pbar.update(end - start)\n",
    "\n",
    "    pbar.finish()\n",
    "\n",
    "    return entropies_N"
   ]
  },
  {
   "cell_type": "code",
   "execution_count": null,
   "metadata": {},
   "outputs": [
    {
     "data": {
      "application/vnd.jupyter.widget-view+json": {
       "model_id": "",
       "version_major": 2,
       "version_minor": 0
      },
      "text/plain": [
       "Entropy:   0%|          | 0/60000 [00:00<?, ?it/s]"
      ]
     },
     "metadata": {},
     "output_type": "display_data"
    }
   ],
   "source": [
    "train_predictions = torch.load(\"./data/mnist_train_predictions.pt\", map_location=\"cpu\")\n",
    "train_entropies = compute_entropy_from_probs(train_predictions[:, None, :])"
   ]
  },
  {
   "cell_type": "code",
   "execution_count": null,
   "metadata": {},
   "outputs": [],
   "source": [
    "from matplotlib import pyplot as plt"
   ]
  },
  {
   "cell_type": "code",
   "execution_count": null,
   "metadata": {},
   "outputs": [
    {
     "data": {
      "text/plain": [
       "(array([55951.,  1227.,   635.,   386.,   241.,   206.,   130.,   117.,\n",
       "          118.,    74.]),\n",
       " array([0.  , 0.02, 0.04, 0.06, 0.08, 0.1 , 0.12, 0.14, 0.16, 0.18, 0.2 ]),\n",
       " <BarContainer object of 10 artists>)"
      ]
     },
     "execution_count": null,
     "metadata": {},
     "output_type": "execute_result"
    },
    {
     "data": {
      "image/png": "[encoded data removed]",
      "text/plain": [
       "<Figure size 432x288 with 1 Axes>"
      ]
     },
     "metadata": {
      "needs_background": "light"
     },
     "output_type": "display_data"
    }
   ],
   "source": [
    "plt.hist(train_entropies.cpu().numpy(), range=[0, 0.2])"
   ]
  },
  {
   "cell_type": "code",
   "execution_count": null,
   "metadata": {},
   "outputs": [
    {
     "data": {
      "text/plain": [
       "5678"
      ]
     },
     "execution_count": null,
     "metadata": {},
     "output_type": "execute_result"
    }
   ],
   "source": [
    "60000 - len(torch.nonzero(train_entropies < 0.01, as_tuple=True)[0].numpy())"
   ]
  },
  {
   "cell_type": "code",
   "execution_count": null,
   "metadata": {
    "tags": []
   },
   "outputs": [],
   "source": [
    "# exports\n",
    "\n",
    "# Rerun from 2022/04/15\n",
    "\n",
    "training_set_90 = [\n",
    "    46377,\n",
    "    44390,\n",
    "    7485,\n",
    "    25450,\n",
    "    12220,\n",
    "    43112,\n",
    "    3612,\n",
    "    54256,\n",
    "    44467,\n",
    "    17555,\n",
    "    4218,\n",
    "    45101,\n",
    "    41296,\n",
    "    32261,\n",
    "    3281,\n",
    "    6944,\n",
    "    7701,\n",
    "    30692,\n",
    "    24891,\n",
    "    24436,\n",
    "    17776,\n",
    "    36852,\n",
    "    26891,\n",
    "    17001,\n",
    "    44414,\n",
    "    23050,\n",
    "    30884,\n",
    "    41516,\n",
    "    8897,\n",
    "    34608,\n",
    "    11721,\n",
    "    13127,\n",
    "    9870,\n",
    "    39700,\n",
    "    13985,\n",
    "    9608,\n",
    "    17808,\n",
    "    23028,\n",
    "    3494,\n",
    "    10210,\n",
    "    42384,\n",
    "    31742,\n",
    "    17100,\n",
    "    46530,\n",
    "    26733,\n",
    "    4762,\n",
    "    14113,\n",
    "    20798,\n",
    "    28388,\n",
    "    42973,\n",
    "    37347,\n",
    "    55042,\n",
    "    41295,\n",
    "    28310,\n",
    "    19280,\n",
    "    18501,\n",
    "    274,\n",
    "    11208,\n",
    "    13335,\n",
    "    24440,\n",
    "    49493,\n",
    "    58129,\n",
    "    56210,\n",
    "    40766,\n",
    "    13318,\n",
    "    50040,\n",
    "    18408,\n",
    "    7255,\n",
    "    15494,\n",
    "    7168,\n",
    "    9472,\n",
    "    14845,\n",
    "    14096,\n",
    "    26072,\n",
    "    35944,\n",
    "    34836,\n",
    "    12655,\n",
    "    991,\n",
    "    38577,\n",
    "    47322,\n",
    "    45212,\n",
    "    16286,\n",
    "    5308,\n",
    "    38182,\n",
    "    31624,\n",
    "    12702,\n",
    "    30861,\n",
    "    46320,\n",
    "    36408,\n",
    "    49841,\n",
    "    33426,\n",
    "    57527,\n",
    "    3273,\n",
    "    24740,\n",
    "    39627,\n",
    "    22199,\n",
    "    19362,\n",
    "    42136,\n",
    "    41965,\n",
    "    43095,\n",
    "]\n",
    "\n",
    "training_set_90[:20] = [\n",
    "    51348,\n",
    "    49110,\n",
    "    8222,\n",
    "    28130,\n",
    "    13484,\n",
    "    47685,\n",
    "    3938,\n",
    "    59930,\n",
    "    49196,\n",
    "    19427,\n",
    "    4601,\n",
    "    49922,\n",
    "    45635,\n",
    "    35684,\n",
    "    3579,\n",
    "    7621,\n",
    "    8465,\n",
    "    33959,\n",
    "    27521,\n",
    "    27015,\n",
    "]\n",
    "\n",
    "\n",
    "@dataclass\n",
    "class Experiment:\n",
    "    seed: int = 1337\n",
    "    num_pool_samples: int = 20\n",
    "    num_validation_samples: int = 20\n",
    "    num_training_samples: int = 1\n",
    "    num_patience_epochs: int = 5 * 4\n",
    "    max_training_epochs: int = 30 * 4\n",
    "    training_batch_size: int = 64\n",
    "    device: str = \"cuda\"\n",
    "    validation_set_size: int = 1024\n",
    "    min_samples_per_epoch: int = 1024\n",
    "    model_optimizer_factory: Type[ModelOptimizerFactory] = MnistOptimizerFactory\n",
    "    max_obi_steps: int = 10\n",
    "    num_samples_list: int = (100, 1000, 10000)\n",
    "    up_factor: int = 2\n",
    "    num_trials: int = 5\n",
    "    acquisition_size: int = 5\n",
    "\n",
    "    def load_dataset(self) -> (ActiveLearningData, Dataset, Dataset):\n",
    "        train_dataset = NamedDataset(\n",
    "            FastMNIST(\"data\", train=True, download=True, device=self.device), \"FastMNIST (train)\"\n",
    "        )\n",
    "\n",
    "        active_learning_data = ActiveLearningData(train_dataset)\n",
    "\n",
    "        active_learning_data.acquire_base_indices(training_set_90[:20])\n",
    "\n",
    "        active_learning_data_validation_set = ActiveLearningData(train_dataset)\n",
    "        active_learning_data_validation_set.acquire_base_indices(training_set_90)\n",
    "\n",
    "        validation_dataset = active_learning_data_validation_set.extract_dataset_from_pool(self.validation_set_size)\n",
    "        validation_dataset = NamedDataset(\n",
    "            validation_dataset, f\"FastMNIST (validation, {len(validation_dataset)} samples)\"\n",
    "        )\n",
    "\n",
    "        test_dataset = FastMNIST(\"data\", train=False, device=self.device)\n",
    "        test_dataset = NamedDataset(test_dataset, f\"FastMNIST (test, {len(test_dataset)} samples)\")\n",
    "\n",
    "        return active_learning_data, validation_dataset, test_dataset, training_set_90[:20]\n",
    "\n",
    "    # Simple Dependency Injection\n",
    "    def create_train_eval_model(self, runtime_config) -> TrainEvalModel:\n",
    "        config = {**vars(self), **runtime_config}\n",
    "        di = DependencyInjection(config, [])\n",
    "        return di.create_dataclass_type(self.train_eval_model)\n",
    "\n",
    "    def run(self, store):\n",
    "        init_wandb(self)\n",
    "\n",
    "        torch.manual_seed(self.seed)\n",
    "\n",
    "        # Active Learning setup\n",
    "        active_learning_data, validation_dataset, test_dataset, initial_training_set_indices = self.load_dataset()\n",
    "        store[\"initial_training_set_indices\"] = initial_training_set_indices\n",
    "        store[\"dataset_info\"] = dict(training=repr(active_learning_data.base_dataset), test=repr(test_dataset))\n",
    "\n",
    "        print(wandb.config)\n",
    "\n",
    "        wandb.config.initial_training_set_indices = initial_training_set_indices\n",
    "        wandb.config[\"dataset_info\"] = store[\"dataset_info\"]\n",
    "\n",
    "        # initial_training_set_indices = active_learning_data.get_random_pool_indices(self.initial_set_size)\n",
    "        # initial_training_set_indices = get_balanced_sample_indices(\n",
    "        #     active_learning_data.pool_dataset, 10, self.initial_set_size // 10\n",
    "        # )\n",
    "\n",
    "        train_loader = torch.utils.data.DataLoader(\n",
    "            active_learning_data.training_dataset,\n",
    "            batch_size=self.training_batch_size,\n",
    "            sampler=RandomFixedLengthSampler(active_learning_data.training_dataset, self.min_samples_per_epoch),\n",
    "            drop_last=True,\n",
    "        )\n",
    "\n",
    "        validation_loader = torch.utils.data.DataLoader(validation_dataset, batch_size=128, drop_last=False)\n",
    "        test_loader = torch.utils.data.DataLoader(test_dataset, batch_size=128, drop_last=False)\n",
    "\n",
    "        store[\"obi_performances\"] = []\n",
    "        obi_performances = store[\"obi_performances\"]\n",
    "        \n",
    "        store[\"upperbound_performances\"] = []\n",
    "        upperbound_performances = store[\"upperbound_performances\"]\n",
    "\n",
    "        store[\"active_learning_steps\"] = []\n",
    "        active_learning_steps = store[\"active_learning_steps\"]\n",
    "\n",
    "        # Active Training Loop\n",
    "        while True:\n",
    "            training_set_size = len(active_learning_data.training_dataset)\n",
    "            print(f\"Training set size {training_set_size}:\")\n",
    "\n",
    "            # iteration_log = dict(training={}, pool_training={}, evaluation_metrics=None, acquisition=None)\n",
    "            active_learning_steps.append({})\n",
    "            iteration_log = active_learning_steps[-1]\n",
    "\n",
    "            iteration_log[\"training\"] = {}\n",
    "\n",
    "            model_optimizer = self.model_optimizer_factory().create_model_optimizer()\n",
    "\n",
    "            if training_set_size > 0:\n",
    "                train(\n",
    "                    model=model_optimizer.model,\n",
    "                    optimizer=model_optimizer.optimizer,\n",
    "                    training_samples=self.num_training_samples,\n",
    "                    validation_samples=self.num_validation_samples,\n",
    "                    train_loader=train_loader,\n",
    "                    validation_loader=validation_loader,\n",
    "                    patience=self.num_patience_epochs,\n",
    "                    max_epochs=self.max_training_epochs,\n",
    "                    device=self.device,\n",
    "                    training_log=iteration_log[\"training\"],\n",
    "                    wandb_key_path=\"model_training\",\n",
    "                )\n",
    "\n",
    "            evaluation_metrics = evaluate_old(\n",
    "                model=model_optimizer.model,\n",
    "                num_samples=self.num_validation_samples,\n",
    "                loader=test_loader,\n",
    "                device=self.device,\n",
    "            )\n",
    "            iteration_log[\"evaluation_metrics\"] = evaluation_metrics\n",
    "            log2wandb(evaluation_metrics, commit=False)\n",
    "            print(f\"Perf after training {evaluation_metrics}\")\n",
    "            \n",
    "            obi_results, upperbound_result = evaluate_online_bayesian_inference(\n",
    "                model=model_optimizer.model,\n",
    "                real_training_set_size=training_set_size,\n",
    "                train_dataset=active_learning_data.base_dataset,\n",
    "                test_dataset=test_dataset,\n",
    "                training_indices=training_set_90[: training_set_size + self.max_obi_steps],\n",
    "                start_index=training_set_size,\n",
    "                num_samples_list=self.num_samples_list,\n",
    "                num_trials=self.num_trials,\n",
    "                up_factor=self.up_factor,\n",
    "                eval_batchsize=512,\n",
    "                device=self.device,\n",
    "            )\n",
    "\n",
    "            obi_performances.append(obi_results)\n",
    "            upperbound_performances.append(upperbound_result)\n",
    "            log2wandb(\n",
    "                dict(\n",
    "                    obi_performances=[asclassdict(result) for result in obi_results],\n",
    "                    upperbound_performance=asclassdict(upperbound_result),\n",
    "                ),\n",
    "                commit=False,\n",
    "            )\n",
    "\n",
    "            if training_set_size >= len(training_set_90):\n",
    "                log2wandb({}, commit=True)\n",
    "                print(\"Done.\")\n",
    "                break\n",
    "\n",
    "            next_indices = training_set_90[training_set_size : training_set_size + self.acquisition_size]\n",
    "            iteration_log[\"acquisition\"] = dict(indices=next_indices)\n",
    "\n",
    "            active_learning_data.acquire_base_indices(next_indices)\n",
    "            log2wandb({}, commit=True)"
   ]
  },
  {
   "cell_type": "code",
   "execution_count": null,
   "metadata": {
    "tags": []
   },
   "outputs": [
    {
     "data": {
      "text/html": [
       "Finishing last run (ID:31oliqzd) before initializing another..."
      ],
      "text/plain": [
       "<IPython.core.display.HTML object>"
      ]
     },
     "metadata": {},
     "output_type": "display_data"
    },
    {
     "name": "stdout",
     "output_type": "stream",
     "text": [
      "\n"
     ]
    },
    {
     "data": {
      "text/html": [
       "Waiting for W&B process to finish... <strong style=\"color:green\">(success).</strong>"
      ],
      "text/plain": [
       "<IPython.core.display.HTML object>"
      ]
     },
     "metadata": {},
     "output_type": "display_data"
    },
    {
     "data": {
      "application/vnd.jupyter.widget-view+json": {
       "model_id": "",
       "version_major": 2,
       "version_minor": 0
      },
      "text/plain": [
       "VBox(children=(Label(value='1.939 MB of 1.939 MB uploaded (0.000 MB deduped)\\r'), FloatProgress(value=1.0, max…"
      ]
     },
     "metadata": {},
     "output_type": "display_data"
    },
    {
     "data": {
      "text/html": [
       "<style>\n",
       "    table.wandb td:nth-child(1) { padding: 0 10px; text-align: right }\n",
       "    .wandb-row { display: flex; flex-direction: row; flex-wrap: wrap; width: 100% }\n",
       "    .wandb-col { display: flex; flex-direction: column; flex-basis: 100%; flex: 1; padding: 10px; }\n",
       "    </style>\n",
       "<div class=\"wandb-row\"><div class=\"wandb-col\"><h3>Run history:</h3><br/><table class=\"wandb\"><tr><td>accuracy</td><td>▁</td></tr><tr><td>crossentropy</td><td>▁</td></tr><tr><td>model_training/best_epoch</td><td>▁</td></tr><tr><td>model_training/best_val_accuracy</td><td>▁</td></tr><tr><td>model_training/best_val_crossentropy</td><td>▁</td></tr></table><br/></div><div class=\"wandb-col\"><h3>Run summary:</h3><br/><table class=\"wandb\"><tr><td>accuracy</td><td>0.5996</td></tr><tr><td>crossentropy</td><td>1.77773</td></tr><tr><td>model_training/best_epoch</td><td>29</td></tr><tr><td>model_training/best_val_accuracy</td><td>0.60156</td></tr><tr><td>model_training/best_val_crossentropy</td><td>1.88428</td></tr></table><br/></div></div>"
      ],
      "text/plain": [
       "<IPython.core.display.HTML object>"
      ]
     },
     "metadata": {},
     "output_type": "display_data"
    },
    {
     "data": {
      "text/html": [
       "Synced <strong style=\"color:#cdcd00\">twilight-dust-286</strong>: <a href=\"https://wandb.ai/oatml-andreas-kirsch/balds/runs/31oliqzd\" target=\"_blank\">https://wandb.ai/oatml-andreas-kirsch/balds/runs/31oliqzd</a><br/>Synced 7 W&B file(s), 1 media file(s), 1 artifact file(s) and 1 other file(s)"
      ],
      "text/plain": [
       "<IPython.core.display.HTML object>"
      ]
     },
     "metadata": {},
     "output_type": "display_data"
    },
    {
     "data": {
      "text/html": [
       "Find logs at: <code>./wandb/run-20220419_210504-31oliqzd/logs</code>"
      ],
      "text/plain": [
       "<IPython.core.display.HTML object>"
      ]
     },
     "metadata": {},
     "output_type": "display_data"
    },
    {
     "data": {
      "text/html": [
       "Successfully finished last run (ID:31oliqzd). Initializing new run:<br/>"
      ],
      "text/plain": [
       "<IPython.core.display.HTML object>"
      ]
     },
     "metadata": {},
     "output_type": "display_data"
    },
    {
     "data": {
      "text/html": [
       "wandb version 0.12.14 is available!  To upgrade, please run:\n",
       " $ pip install wandb --upgrade"
      ],
      "text/plain": [
       "<IPython.core.display.HTML object>"
      ]
     },
     "metadata": {},
     "output_type": "display_data"
    },
    {
     "data": {
      "text/html": [
       "Tracking run with wandb version 0.12.11"
      ],
      "text/plain": [
       "<IPython.core.display.HTML object>"
      ]
     },
     "metadata": {},
     "output_type": "display_data"
    },
    {
     "data": {
      "text/html": [
       "Run data is saved locally in <code>/home/blackhc/PycharmProjects/bald-ical/wandb/run-20220419_211329-23m2xzzi</code>"
      ],
      "text/plain": [
       "<IPython.core.display.HTML object>"
      ]
     },
     "metadata": {},
     "output_type": "display_data"
    },
    {
     "data": {
      "text/html": [
       "Syncing run <strong><a href=\"https://wandb.ai/oatml-andreas-kirsch/balds/runs/23m2xzzi\" target=\"_blank\">charmed-snowflake-287</a></strong> to <a href=\"https://wandb.ai/oatml-andreas-kirsch/balds\" target=\"_blank\">Weights & Biases</a> (<a href=\"https://wandb.me/run\" target=\"_blank\">docs</a>)<br/>"
      ],
      "text/plain": [
       "<IPython.core.display.HTML object>"
      ]
     },
     "metadata": {},
     "output_type": "display_data"
    },
    {
     "name": "stdout",
     "output_type": "stream",
     "text": [
      "{'Dataclass': '__main__.Experiment', 'seed': 1120, 'num_pool_samples': 100, 'num_validation_samples': 20, 'num_training_samples': 1, 'num_patience_epochs': 20, 'max_training_epochs': 120, 'training_batch_size': 64, 'device': 'cuda', 'validation_set_size': 1024, 'min_samples_per_epoch': 1024, 'model_optimizer_factory': 'batchbald_redux.models.MnistOptimizerFactory', 'max_obi_steps': 10, 'num_samples_list': [10, 100], 'up_factor': 2, 'num_trials': 5, 'acquisition_size': 5}\n",
      "Training set size 20:\n"
     ]
    },
    {
     "data": {
      "application/vnd.jupyter.widget-view+json": {
       "model_id": "35d3f168d5fc42e9989a723254562daa",
       "version_major": 2,
       "version_minor": 0
      },
      "text/plain": [
       "  1%|          | 1/120 [00:00<?, ?it/s]"
      ]
     },
     "metadata": {},
     "output_type": "display_data"
    },
    {
     "data": {
      "application/vnd.jupyter.widget-view+json": {
       "model_id": "",
       "version_major": 2,
       "version_minor": 0
      },
      "text/plain": [
       "[1/16]   6%|6          [00:00<?]"
      ]
     },
     "metadata": {},
     "output_type": "display_data"
    },
    {
     "name": "stdout",
     "output_type": "stream",
     "text": [
      "Epoch metrics: {'accuracy': 0.498046875, 'crossentropy': 1.698270320892334}\n"
     ]
    },
    {
     "data": {
      "application/vnd.jupyter.widget-view+json": {
       "model_id": "",
       "version_major": 2,
       "version_minor": 0
      },
      "text/plain": [
       "[1/16]   6%|6          [00:00<?]"
      ]
     },
     "metadata": {},
     "output_type": "display_data"
    },
    {
     "name": "stdout",
     "output_type": "stream",
     "text": [
      "Epoch metrics: {'accuracy': 0.5869140625, 'crossentropy': 1.4432613849639893}\n"
     ]
    },
    {
     "data": {
      "application/vnd.jupyter.widget-view+json": {
       "model_id": "",
       "version_major": 2,
       "version_minor": 0
      },
      "text/plain": [
       "[1/16]   6%|6          [00:00<?]"
      ]
     },
     "metadata": {},
     "output_type": "display_data"
    },
    {
     "name": "stdout",
     "output_type": "stream",
     "text": [
      "Epoch metrics: {'accuracy': 0.56640625, 'crossentropy': 1.6315778493881226}\n",
      "RestoringEarlyStopping: 1 / 20\n"
     ]
    },
    {
     "data": {
      "application/vnd.jupyter.widget-view+json": {
       "model_id": "",
       "version_major": 2,
       "version_minor": 0
      },
      "text/plain": [
       "[1/16]   6%|6          [00:00<?]"
      ]
     },
     "metadata": {},
     "output_type": "display_data"
    },
    {
     "name": "stdout",
     "output_type": "stream",
     "text": [
      "Epoch metrics: {'accuracy': 0.57421875, 'crossentropy': 1.6933497190475464}\n",
      "RestoringEarlyStopping: 2 / 20\n"
     ]
    },
    {
     "data": {
      "application/vnd.jupyter.widget-view+json": {
       "model_id": "",
       "version_major": 2,
       "version_minor": 0
      },
      "text/plain": [
       "[1/16]   6%|6          [00:00<?]"
      ]
     },
     "metadata": {},
     "output_type": "display_data"
    },
    {
     "name": "stdout",
     "output_type": "stream",
     "text": [
      "Epoch metrics: {'accuracy': 0.578125, 'crossentropy': 1.6983140707015991}\n",
      "RestoringEarlyStopping: 3 / 20\n"
     ]
    },
    {
     "data": {
      "application/vnd.jupyter.widget-view+json": {
       "model_id": "",
       "version_major": 2,
       "version_minor": 0
      },
      "text/plain": [
       "[1/16]   6%|6          [00:00<?]"
      ]
     },
     "metadata": {},
     "output_type": "display_data"
    },
    {
     "name": "stdout",
     "output_type": "stream",
     "text": [
      "Epoch metrics: {'accuracy': 0.5546875, 'crossentropy': 1.8744792938232422}\n",
      "RestoringEarlyStopping: 4 / 20\n"
     ]
    },
    {
     "data": {
      "application/vnd.jupyter.widget-view+json": {
       "model_id": "",
       "version_major": 2,
       "version_minor": 0
      },
      "text/plain": [
       "[1/16]   6%|6          [00:00<?]"
      ]
     },
     "metadata": {},
     "output_type": "display_data"
    },
    {
     "name": "stdout",
     "output_type": "stream",
     "text": [
      "Epoch metrics: {'accuracy': 0.5849609375, 'crossentropy': 1.8153116703033447}\n",
      "RestoringEarlyStopping: 5 / 20\n"
     ]
    },
    {
     "data": {
      "application/vnd.jupyter.widget-view+json": {
       "model_id": "",
       "version_major": 2,
       "version_minor": 0
      },
      "text/plain": [
       "[1/16]   6%|6          [00:00<?]"
      ]
     },
     "metadata": {},
     "output_type": "display_data"
    },
    {
     "name": "stdout",
     "output_type": "stream",
     "text": [
      "Epoch metrics: {'accuracy': 0.578125, 'crossentropy': 1.8306891918182373}\n",
      "RestoringEarlyStopping: 6 / 20\n"
     ]
    },
    {
     "data": {
      "application/vnd.jupyter.widget-view+json": {
       "model_id": "",
       "version_major": 2,
       "version_minor": 0
      },
      "text/plain": [
       "[1/16]   6%|6          [00:00<?]"
      ]
     },
     "metadata": {},
     "output_type": "display_data"
    },
    {
     "name": "stdout",
     "output_type": "stream",
     "text": [
      "Epoch metrics: {'accuracy': 0.556640625, 'crossentropy': 1.8482317924499512}\n",
      "RestoringEarlyStopping: 7 / 20\n"
     ]
    },
    {
     "data": {
      "application/vnd.jupyter.widget-view+json": {
       "model_id": "",
       "version_major": 2,
       "version_minor": 0
      },
      "text/plain": [
       "[1/16]   6%|6          [00:00<?]"
      ]
     },
     "metadata": {},
     "output_type": "display_data"
    },
    {
     "name": "stdout",
     "output_type": "stream",
     "text": [
      "Epoch metrics: {'accuracy': 0.576171875, 'crossentropy': 1.8684550523757935}\n",
      "RestoringEarlyStopping: 8 / 20\n"
     ]
    },
    {
     "data": {
      "application/vnd.jupyter.widget-view+json": {
       "model_id": "",
       "version_major": 2,
       "version_minor": 0
      },
      "text/plain": [
       "[1/16]   6%|6          [00:00<?]"
      ]
     },
     "metadata": {},
     "output_type": "display_data"
    },
    {
     "name": "stdout",
     "output_type": "stream",
     "text": [
      "Epoch metrics: {'accuracy': 0.5751953125, 'crossentropy': 1.806377649307251}\n",
      "RestoringEarlyStopping: 9 / 20\n"
     ]
    },
    {
     "data": {
      "application/vnd.jupyter.widget-view+json": {
       "model_id": "",
       "version_major": 2,
       "version_minor": 0
      },
      "text/plain": [
       "[1/16]   6%|6          [00:00<?]"
      ]
     },
     "metadata": {},
     "output_type": "display_data"
    },
    {
     "name": "stdout",
     "output_type": "stream",
     "text": [
      "Epoch metrics: {'accuracy': 0.583984375, 'crossentropy': 1.808190107345581}\n",
      "RestoringEarlyStopping: 10 / 20\n"
     ]
    },
    {
     "data": {
      "application/vnd.jupyter.widget-view+json": {
       "model_id": "",
       "version_major": 2,
       "version_minor": 0
      },
      "text/plain": [
       "[1/16]   6%|6          [00:00<?]"
      ]
     },
     "metadata": {},
     "output_type": "display_data"
    },
    {
     "name": "stdout",
     "output_type": "stream",
     "text": [
      "Epoch metrics: {'accuracy': 0.580078125, 'crossentropy': 1.8413379192352295}\n",
      "RestoringEarlyStopping: 11 / 20\n"
     ]
    },
    {
     "data": {
      "application/vnd.jupyter.widget-view+json": {
       "model_id": "",
       "version_major": 2,
       "version_minor": 0
      },
      "text/plain": [
       "[1/16]   6%|6          [00:00<?]"
      ]
     },
     "metadata": {},
     "output_type": "display_data"
    },
    {
     "name": "stdout",
     "output_type": "stream",
     "text": [
      "Epoch metrics: {'accuracy': 0.5830078125, 'crossentropy': 1.8899109363555908}\n",
      "RestoringEarlyStopping: 12 / 20\n"
     ]
    },
    {
     "data": {
      "application/vnd.jupyter.widget-view+json": {
       "model_id": "",
       "version_major": 2,
       "version_minor": 0
      },
      "text/plain": [
       "[1/16]   6%|6          [00:00<?]"
      ]
     },
     "metadata": {},
     "output_type": "display_data"
    },
    {
     "name": "stdout",
     "output_type": "stream",
     "text": [
      "Epoch metrics: {'accuracy': 0.583984375, 'crossentropy': 1.876299500465393}\n",
      "RestoringEarlyStopping: 13 / 20\n"
     ]
    },
    {
     "data": {
      "application/vnd.jupyter.widget-view+json": {
       "model_id": "",
       "version_major": 2,
       "version_minor": 0
      },
      "text/plain": [
       "[1/16]   6%|6          [00:00<?]"
      ]
     },
     "metadata": {},
     "output_type": "display_data"
    },
    {
     "name": "stdout",
     "output_type": "stream",
     "text": [
      "Epoch metrics: {'accuracy': 0.5615234375, 'crossentropy': 1.9736772775650024}\n",
      "RestoringEarlyStopping: 14 / 20\n"
     ]
    },
    {
     "data": {
      "application/vnd.jupyter.widget-view+json": {
       "model_id": "",
       "version_major": 2,
       "version_minor": 0
      },
      "text/plain": [
       "[1/16]   6%|6          [00:00<?]"
      ]
     },
     "metadata": {},
     "output_type": "display_data"
    },
    {
     "name": "stdout",
     "output_type": "stream",
     "text": [
      "Epoch metrics: {'accuracy': 0.5625, 'crossentropy': 2.066951036453247}\n",
      "RestoringEarlyStopping: 15 / 20\n"
     ]
    },
    {
     "data": {
      "application/vnd.jupyter.widget-view+json": {
       "model_id": "",
       "version_major": 2,
       "version_minor": 0
      },
      "text/plain": [
       "[1/16]   6%|6          [00:00<?]"
      ]
     },
     "metadata": {},
     "output_type": "display_data"
    },
    {
     "name": "stdout",
     "output_type": "stream",
     "text": [
      "Epoch metrics: {'accuracy': 0.5908203125, 'crossentropy': 1.8146048784255981}\n"
     ]
    },
    {
     "data": {
      "application/vnd.jupyter.widget-view+json": {
       "model_id": "",
       "version_major": 2,
       "version_minor": 0
      },
      "text/plain": [
       "[1/16]   6%|6          [00:00<?]"
      ]
     },
     "metadata": {},
     "output_type": "display_data"
    },
    {
     "name": "stdout",
     "output_type": "stream",
     "text": [
      "Epoch metrics: {'accuracy': 0.580078125, 'crossentropy': 1.9622409343719482}\n",
      "RestoringEarlyStopping: 1 / 20\n"
     ]
    },
    {
     "data": {
      "application/vnd.jupyter.widget-view+json": {
       "model_id": "",
       "version_major": 2,
       "version_minor": 0
      },
      "text/plain": [
       "[1/16]   6%|6          [00:00<?]"
      ]
     },
     "metadata": {},
     "output_type": "display_data"
    },
    {
     "name": "stdout",
     "output_type": "stream",
     "text": [
      "Epoch metrics: {'accuracy': 0.5859375, 'crossentropy': 2.011101245880127}\n",
      "RestoringEarlyStopping: 2 / 20\n"
     ]
    },
    {
     "data": {
      "application/vnd.jupyter.widget-view+json": {
       "model_id": "",
       "version_major": 2,
       "version_minor": 0
      },
      "text/plain": [
       "[1/16]   6%|6          [00:00<?]"
      ]
     },
     "metadata": {},
     "output_type": "display_data"
    },
    {
     "name": "stdout",
     "output_type": "stream",
     "text": [
      "Epoch metrics: {'accuracy': 0.552734375, 'crossentropy': 2.0409812927246094}\n",
      "RestoringEarlyStopping: 3 / 20\n"
     ]
    },
    {
     "data": {
      "application/vnd.jupyter.widget-view+json": {
       "model_id": "",
       "version_major": 2,
       "version_minor": 0
      },
      "text/plain": [
       "[1/16]   6%|6          [00:00<?]"
      ]
     },
     "metadata": {},
     "output_type": "display_data"
    },
    {
     "name": "stdout",
     "output_type": "stream",
     "text": [
      "Epoch metrics: {'accuracy': 0.568359375, 'crossentropy': 2.0042529106140137}\n",
      "RestoringEarlyStopping: 4 / 20\n"
     ]
    },
    {
     "data": {
      "application/vnd.jupyter.widget-view+json": {
       "model_id": "",
       "version_major": 2,
       "version_minor": 0
      },
      "text/plain": [
       "[1/16]   6%|6          [00:00<?]"
      ]
     },
     "metadata": {},
     "output_type": "display_data"
    },
    {
     "name": "stdout",
     "output_type": "stream",
     "text": [
      "Epoch metrics: {'accuracy': 0.5849609375, 'crossentropy': 1.9034472703933716}\n",
      "RestoringEarlyStopping: 5 / 20\n"
     ]
    },
    {
     "data": {
      "application/vnd.jupyter.widget-view+json": {
       "model_id": "",
       "version_major": 2,
       "version_minor": 0
      },
      "text/plain": [
       "[1/16]   6%|6          [00:00<?]"
      ]
     },
     "metadata": {},
     "output_type": "display_data"
    },
    {
     "name": "stdout",
     "output_type": "stream",
     "text": [
      "Epoch metrics: {'accuracy': 0.578125, 'crossentropy': 1.784635305404663}\n",
      "RestoringEarlyStopping: 6 / 20\n"
     ]
    },
    {
     "data": {
      "application/vnd.jupyter.widget-view+json": {
       "model_id": "",
       "version_major": 2,
       "version_minor": 0
      },
      "text/plain": [
       "[1/16]   6%|6          [00:00<?]"
      ]
     },
     "metadata": {},
     "output_type": "display_data"
    },
    {
     "name": "stdout",
     "output_type": "stream",
     "text": [
      "Epoch metrics: {'accuracy': 0.568359375, 'crossentropy': 1.7980711460113525}\n",
      "RestoringEarlyStopping: 7 / 20\n"
     ]
    },
    {
     "data": {
      "application/vnd.jupyter.widget-view+json": {
       "model_id": "",
       "version_major": 2,
       "version_minor": 0
      },
      "text/plain": [
       "[1/16]   6%|6          [00:00<?]"
      ]
     },
     "metadata": {},
     "output_type": "display_data"
    },
    {
     "name": "stdout",
     "output_type": "stream",
     "text": [
      "Epoch metrics: {'accuracy': 0.5908203125, 'crossentropy': 1.768648624420166}\n",
      "RestoringEarlyStopping: 8 / 20\n"
     ]
    },
    {
     "data": {
      "application/vnd.jupyter.widget-view+json": {
       "model_id": "",
       "version_major": 2,
       "version_minor": 0
      },
      "text/plain": [
       "[1/16]   6%|6          [00:00<?]"
      ]
     },
     "metadata": {},
     "output_type": "display_data"
    },
    {
     "name": "stdout",
     "output_type": "stream",
     "text": [
      "Epoch metrics: {'accuracy': 0.583984375, 'crossentropy': 1.8436307907104492}\n",
      "RestoringEarlyStopping: 9 / 20\n"
     ]
    },
    {
     "data": {
      "application/vnd.jupyter.widget-view+json": {
       "model_id": "",
       "version_major": 2,
       "version_minor": 0
      },
      "text/plain": [
       "[1/16]   6%|6          [00:00<?]"
      ]
     },
     "metadata": {},
     "output_type": "display_data"
    },
    {
     "name": "stdout",
     "output_type": "stream",
     "text": [
      "Epoch metrics: {'accuracy': 0.5712890625, 'crossentropy': 2.0871682167053223}\n",
      "RestoringEarlyStopping: 10 / 20\n"
     ]
    },
    {
     "data": {
      "application/vnd.jupyter.widget-view+json": {
       "model_id": "",
       "version_major": 2,
       "version_minor": 0
      },
      "text/plain": [
       "[1/16]   6%|6          [00:00<?]"
      ]
     },
     "metadata": {},
     "output_type": "display_data"
    },
    {
     "name": "stdout",
     "output_type": "stream",
     "text": [
      "Epoch metrics: {'accuracy': 0.58984375, 'crossentropy': 1.9061651229858398}\n",
      "RestoringEarlyStopping: 11 / 20\n"
     ]
    },
    {
     "data": {
      "application/vnd.jupyter.widget-view+json": {
       "model_id": "",
       "version_major": 2,
       "version_minor": 0
      },
      "text/plain": [
       "[1/16]   6%|6          [00:00<?]"
      ]
     },
     "metadata": {},
     "output_type": "display_data"
    },
    {
     "name": "stdout",
     "output_type": "stream",
     "text": [
      "Epoch metrics: {'accuracy': 0.59375, 'crossentropy': 1.893503189086914}\n"
     ]
    },
    {
     "data": {
      "application/vnd.jupyter.widget-view+json": {
       "model_id": "",
       "version_major": 2,
       "version_minor": 0
      },
      "text/plain": [
       "[1/16]   6%|6          [00:00<?]"
      ]
     },
     "metadata": {},
     "output_type": "display_data"
    },
    {
     "name": "stdout",
     "output_type": "stream",
     "text": [
      "Epoch metrics: {'accuracy': 0.5859375, 'crossentropy': 2.025881290435791}\n",
      "RestoringEarlyStopping: 1 / 20\n"
     ]
    },
    {
     "data": {
      "application/vnd.jupyter.widget-view+json": {
       "model_id": "",
       "version_major": 2,
       "version_minor": 0
      },
      "text/plain": [
       "[1/16]   6%|6          [00:00<?]"
      ]
     },
     "metadata": {},
     "output_type": "display_data"
    },
    {
     "name": "stdout",
     "output_type": "stream",
     "text": [
      "Epoch metrics: {'accuracy': 0.5888671875, 'crossentropy': 1.97034752368927}\n",
      "RestoringEarlyStopping: 2 / 20\n"
     ]
    },
    {
     "data": {
      "application/vnd.jupyter.widget-view+json": {
       "model_id": "",
       "version_major": 2,
       "version_minor": 0
      },
      "text/plain": [
       "[1/16]   6%|6          [00:00<?]"
      ]
     },
     "metadata": {},
     "output_type": "display_data"
    },
    {
     "name": "stdout",
     "output_type": "stream",
     "text": [
      "Epoch metrics: {'accuracy': 0.5888671875, 'crossentropy': 1.9118006229400635}\n",
      "RestoringEarlyStopping: 3 / 20\n"
     ]
    },
    {
     "data": {
      "application/vnd.jupyter.widget-view+json": {
       "model_id": "",
       "version_major": 2,
       "version_minor": 0
      },
      "text/plain": [
       "[1/16]   6%|6          [00:00<?]"
      ]
     },
     "metadata": {},
     "output_type": "display_data"
    },
    {
     "name": "stdout",
     "output_type": "stream",
     "text": [
      "Epoch metrics: {'accuracy': 0.5908203125, 'crossentropy': 2.0066781044006348}\n",
      "RestoringEarlyStopping: 4 / 20\n"
     ]
    },
    {
     "data": {
      "application/vnd.jupyter.widget-view+json": {
       "model_id": "",
       "version_major": 2,
       "version_minor": 0
      },
      "text/plain": [
       "[1/16]   6%|6          [00:00<?]"
      ]
     },
     "metadata": {},
     "output_type": "display_data"
    },
    {
     "name": "stdout",
     "output_type": "stream",
     "text": [
      "Epoch metrics: {'accuracy': 0.59765625, 'crossentropy': 1.9450751543045044}\n"
     ]
    },
    {
     "data": {
      "application/vnd.jupyter.widget-view+json": {
       "model_id": "",
       "version_major": 2,
       "version_minor": 0
      },
      "text/plain": [
       "[1/16]   6%|6          [00:00<?]"
      ]
     },
     "metadata": {},
     "output_type": "display_data"
    },
    {
     "name": "stdout",
     "output_type": "stream",
     "text": [
      "Epoch metrics: {'accuracy': 0.58203125, 'crossentropy': 2.005213737487793}\n",
      "RestoringEarlyStopping: 1 / 20\n"
     ]
    },
    {
     "data": {
      "application/vnd.jupyter.widget-view+json": {
       "model_id": "",
       "version_major": 2,
       "version_minor": 0
      },
      "text/plain": [
       "[1/16]   6%|6          [00:00<?]"
      ]
     },
     "metadata": {},
     "output_type": "display_data"
    },
    {
     "name": "stdout",
     "output_type": "stream",
     "text": [
      "Epoch metrics: {'accuracy': 0.5810546875, 'crossentropy': 1.9534133672714233}\n",
      "RestoringEarlyStopping: 2 / 20\n"
     ]
    },
    {
     "data": {
      "application/vnd.jupyter.widget-view+json": {
       "model_id": "",
       "version_major": 2,
       "version_minor": 0
      },
      "text/plain": [
       "[1/16]   6%|6          [00:00<?]"
      ]
     },
     "metadata": {},
     "output_type": "display_data"
    },
    {
     "name": "stdout",
     "output_type": "stream",
     "text": [
      "Epoch metrics: {'accuracy': 0.568359375, 'crossentropy': 1.9242274761199951}\n",
      "RestoringEarlyStopping: 3 / 20\n"
     ]
    },
    {
     "data": {
      "application/vnd.jupyter.widget-view+json": {
       "model_id": "",
       "version_major": 2,
       "version_minor": 0
      },
      "text/plain": [
       "[1/16]   6%|6          [00:00<?]"
      ]
     },
     "metadata": {},
     "output_type": "display_data"
    },
    {
     "name": "stdout",
     "output_type": "stream",
     "text": [
      "Epoch metrics: {'accuracy': 0.57421875, 'crossentropy': 2.085645914077759}\n",
      "RestoringEarlyStopping: 4 / 20\n"
     ]
    },
    {
     "data": {
      "application/vnd.jupyter.widget-view+json": {
       "model_id": "",
       "version_major": 2,
       "version_minor": 0
      },
      "text/plain": [
       "[1/16]   6%|6          [00:00<?]"
      ]
     },
     "metadata": {},
     "output_type": "display_data"
    },
    {
     "name": "stdout",
     "output_type": "stream",
     "text": [
      "Epoch metrics: {'accuracy': 0.583984375, 'crossentropy': 2.064002752304077}\n",
      "RestoringEarlyStopping: 5 / 20\n"
     ]
    },
    {
     "data": {
      "application/vnd.jupyter.widget-view+json": {
       "model_id": "",
       "version_major": 2,
       "version_minor": 0
      },
      "text/plain": [
       "[1/16]   6%|6          [00:00<?]"
      ]
     },
     "metadata": {},
     "output_type": "display_data"
    },
    {
     "name": "stdout",
     "output_type": "stream",
     "text": [
      "Epoch metrics: {'accuracy': 0.572265625, 'crossentropy': 2.073512315750122}\n",
      "RestoringEarlyStopping: 6 / 20\n"
     ]
    },
    {
     "data": {
      "application/vnd.jupyter.widget-view+json": {
       "model_id": "",
       "version_major": 2,
       "version_minor": 0
      },
      "text/plain": [
       "[1/16]   6%|6          [00:00<?]"
      ]
     },
     "metadata": {},
     "output_type": "display_data"
    },
    {
     "name": "stdout",
     "output_type": "stream",
     "text": [
      "Epoch metrics: {'accuracy': 0.5791015625, 'crossentropy': 2.0619754791259766}\n",
      "RestoringEarlyStopping: 7 / 20\n"
     ]
    },
    {
     "data": {
      "application/vnd.jupyter.widget-view+json": {
       "model_id": "",
       "version_major": 2,
       "version_minor": 0
      },
      "text/plain": [
       "[1/16]   6%|6          [00:00<?]"
      ]
     },
     "metadata": {},
     "output_type": "display_data"
    },
    {
     "name": "stdout",
     "output_type": "stream",
     "text": [
      "Epoch metrics: {'accuracy': 0.5859375, 'crossentropy': 1.8491023778915405}\n",
      "RestoringEarlyStopping: 8 / 20\n"
     ]
    },
    {
     "data": {
      "application/vnd.jupyter.widget-view+json": {
       "model_id": "",
       "version_major": 2,
       "version_minor": 0
      },
      "text/plain": [
       "[1/16]   6%|6          [00:00<?]"
      ]
     },
     "metadata": {},
     "output_type": "display_data"
    },
    {
     "name": "stdout",
     "output_type": "stream",
     "text": [
      "Epoch metrics: {'accuracy': 0.580078125, 'crossentropy': 1.9167743921279907}\n",
      "RestoringEarlyStopping: 9 / 20\n"
     ]
    },
    {
     "data": {
      "application/vnd.jupyter.widget-view+json": {
       "model_id": "",
       "version_major": 2,
       "version_minor": 0
      },
      "text/plain": [
       "[1/16]   6%|6          [00:00<?]"
      ]
     },
     "metadata": {},
     "output_type": "display_data"
    },
    {
     "name": "stdout",
     "output_type": "stream",
     "text": [
      "Epoch metrics: {'accuracy': 0.5693359375, 'crossentropy': 2.020437717437744}\n",
      "RestoringEarlyStopping: 10 / 20\n"
     ]
    },
    {
     "data": {
      "application/vnd.jupyter.widget-view+json": {
       "model_id": "",
       "version_major": 2,
       "version_minor": 0
      },
      "text/plain": [
       "[1/16]   6%|6          [00:00<?]"
      ]
     },
     "metadata": {},
     "output_type": "display_data"
    },
    {
     "name": "stdout",
     "output_type": "stream",
     "text": [
      "Epoch metrics: {'accuracy': 0.55859375, 'crossentropy': 1.8997365236282349}\n",
      "RestoringEarlyStopping: 11 / 20\n"
     ]
    },
    {
     "data": {
      "application/vnd.jupyter.widget-view+json": {
       "model_id": "",
       "version_major": 2,
       "version_minor": 0
      },
      "text/plain": [
       "[1/16]   6%|6          [00:00<?]"
      ]
     },
     "metadata": {},
     "output_type": "display_data"
    },
    {
     "name": "stdout",
     "output_type": "stream",
     "text": [
      "Epoch metrics: {'accuracy': 0.57421875, 'crossentropy': 1.9237723350524902}\n",
      "RestoringEarlyStopping: 12 / 20\n"
     ]
    },
    {
     "data": {
      "application/vnd.jupyter.widget-view+json": {
       "model_id": "",
       "version_major": 2,
       "version_minor": 0
      },
      "text/plain": [
       "[1/16]   6%|6          [00:00<?]"
      ]
     },
     "metadata": {},
     "output_type": "display_data"
    },
    {
     "name": "stdout",
     "output_type": "stream",
     "text": [
      "Epoch metrics: {'accuracy': 0.5888671875, 'crossentropy': 1.9672794342041016}\n",
      "RestoringEarlyStopping: 13 / 20\n"
     ]
    },
    {
     "data": {
      "application/vnd.jupyter.widget-view+json": {
       "model_id": "",
       "version_major": 2,
       "version_minor": 0
      },
      "text/plain": [
       "[1/16]   6%|6          [00:00<?]"
      ]
     },
     "metadata": {},
     "output_type": "display_data"
    },
    {
     "name": "stdout",
     "output_type": "stream",
     "text": [
      "Epoch metrics: {'accuracy': 0.5703125, 'crossentropy': 2.088172435760498}\n",
      "RestoringEarlyStopping: 14 / 20\n"
     ]
    },
    {
     "data": {
      "application/vnd.jupyter.widget-view+json": {
       "model_id": "",
       "version_major": 2,
       "version_minor": 0
      },
      "text/plain": [
       "[1/16]   6%|6          [00:00<?]"
      ]
     },
     "metadata": {},
     "output_type": "display_data"
    },
    {
     "name": "stdout",
     "output_type": "stream",
     "text": [
      "Epoch metrics: {'accuracy': 0.58203125, 'crossentropy': 1.8703957796096802}\n",
      "RestoringEarlyStopping: 15 / 20\n"
     ]
    },
    {
     "data": {
      "application/vnd.jupyter.widget-view+json": {
       "model_id": "",
       "version_major": 2,
       "version_minor": 0
      },
      "text/plain": [
       "[1/16]   6%|6          [00:00<?]"
      ]
     },
     "metadata": {},
     "output_type": "display_data"
    },
    {
     "name": "stdout",
     "output_type": "stream",
     "text": [
      "Epoch metrics: {'accuracy': 0.5791015625, 'crossentropy': 1.9217575788497925}\n",
      "RestoringEarlyStopping: 16 / 20\n"
     ]
    },
    {
     "data": {
      "application/vnd.jupyter.widget-view+json": {
       "model_id": "",
       "version_major": 2,
       "version_minor": 0
      },
      "text/plain": [
       "[1/16]   6%|6          [00:00<?]"
      ]
     },
     "metadata": {},
     "output_type": "display_data"
    },
    {
     "name": "stdout",
     "output_type": "stream",
     "text": [
      "Epoch metrics: {'accuracy': 0.5771484375, 'crossentropy': 2.0212905406951904}\n",
      "RestoringEarlyStopping: 17 / 20\n"
     ]
    },
    {
     "data": {
      "application/vnd.jupyter.widget-view+json": {
       "model_id": "",
       "version_major": 2,
       "version_minor": 0
      },
      "text/plain": [
       "[1/16]   6%|6          [00:00<?]"
      ]
     },
     "metadata": {},
     "output_type": "display_data"
    },
    {
     "name": "stdout",
     "output_type": "stream",
     "text": [
      "Epoch metrics: {'accuracy': 0.5927734375, 'crossentropy': 1.9173277616500854}\n",
      "RestoringEarlyStopping: 18 / 20\n"
     ]
    },
    {
     "data": {
      "application/vnd.jupyter.widget-view+json": {
       "model_id": "",
       "version_major": 2,
       "version_minor": 0
      },
      "text/plain": [
       "[1/16]   6%|6          [00:00<?]"
      ]
     },
     "metadata": {},
     "output_type": "display_data"
    },
    {
     "name": "stdout",
     "output_type": "stream",
     "text": [
      "Epoch metrics: {'accuracy': 0.5927734375, 'crossentropy': 1.9478100538253784}\n",
      "RestoringEarlyStopping: 19 / 20\n"
     ]
    },
    {
     "data": {
      "application/vnd.jupyter.widget-view+json": {
       "model_id": "",
       "version_major": 2,
       "version_minor": 0
      },
      "text/plain": [
       "[1/16]   6%|6          [00:00<?]"
      ]
     },
     "metadata": {},
     "output_type": "display_data"
    },
    {
     "name": "stdout",
     "output_type": "stream",
     "text": [
      "Epoch metrics: {'accuracy': 0.5869140625, 'crossentropy': 1.967516303062439}\n",
      "RestoringEarlyStopping: 20 / 20\n",
      "RestoringEarlyStopping: Out of patience\n",
      "RestoringEarlyStopping: Restoring best parameters. (Score: 0.59765625)\n",
      "RestoringEarlyStopping: Restoring optimizer.\n",
      "{'model_training/val_metrics': <wandb.data_types.Table object at 0x7feeb4d06220>, 'model_training/best_epoch': 34, 'model_training/best_val_accuracy': 0.59765625, 'model_training/best_val_crossentropy': 1.9450751543045044}\n"
     ]
    },
    {
     "data": {
      "application/vnd.jupyter.widget-view+json": {
       "model_id": "",
       "version_major": 2,
       "version_minor": 0
      },
      "text/plain": [
       "[1/79]   1%|1          [00:00<?]"
      ]
     },
     "metadata": {},
     "output_type": "display_data"
    },
    {
     "name": "stdout",
     "output_type": "stream",
     "text": [
      "Perf after training {'accuracy': 0.597, 'crossentropy': 1.830930859375, '_timestamp': 1650399242, '_runtime': 28}\n"
     ]
    },
    {
     "data": {
      "application/vnd.jupyter.widget-view+json": {
       "model_id": "",
       "version_major": 2,
       "version_minor": 0
      },
      "text/plain": [
       "get_predictions_labels:   0%|          | 0/2006000 [00:00<?, ?it/s]"
      ]
     },
     "metadata": {},
     "output_type": "display_data"
    },
    {
     "name": "stdout",
     "output_type": "stream",
     "text": [
      "Online Training Size/Num Samples/Trial: 20/10/0\n",
      "OBIPerformance(total_training_set_size=20, real_training_set_size=20, online_training_set_size=20, trial_index=0, num_samples=10, accuracy=0.5910999774932861, crossentropy=2.2180018424987793)\n",
      "Online Training Size/Num Samples/Trial: 20/10/1\n",
      "OBIPerformance(total_training_set_size=20, real_training_set_size=20, online_training_set_size=20, trial_index=1, num_samples=10, accuracy=0.5827000141143799, crossentropy=2.0835869312286377)\n",
      "Online Training Size/Num Samples/Trial: 20/10/2\n",
      "OBIPerformance(total_training_set_size=20, real_training_set_size=20, online_training_set_size=20, trial_index=2, num_samples=10, accuracy=0.5903000235557556, crossentropy=1.8148714303970337)\n",
      "Online Training Size/Num Samples/Trial: 20/10/3\n",
      "OBIPerformance(total_training_set_size=20, real_training_set_size=20, online_training_set_size=20, trial_index=3, num_samples=10, accuracy=0.5856000185012817, crossentropy=1.9677722454071045)\n",
      "Online Training Size/Num Samples/Trial: 20/10/4\n",
      "OBIPerformance(total_training_set_size=20, real_training_set_size=20, online_training_set_size=20, trial_index=4, num_samples=10, accuracy=0.6089000105857849, crossentropy=1.7621705532073975)\n",
      "Online Training Size/Num Samples/Trial: 20/100/0\n",
      "OBIPerformance(total_training_set_size=20, real_training_set_size=20, online_training_set_size=20, trial_index=0, num_samples=100, accuracy=0.5989999771118164, crossentropy=1.6574043035507202)\n",
      "Online Training Size/Num Samples/Trial: 20/100/1\n",
      "OBIPerformance(total_training_set_size=20, real_training_set_size=20, online_training_set_size=20, trial_index=1, num_samples=100, accuracy=0.5992000102996826, crossentropy=1.6825703382492065)\n",
      "Online Training Size/Num Samples/Trial: 20/100/2\n",
      "OBIPerformance(total_training_set_size=20, real_training_set_size=20, online_training_set_size=20, trial_index=2, num_samples=100, accuracy=0.599399983882904, crossentropy=1.708972454071045)\n",
      "Online Training Size/Num Samples/Trial: 20/100/3\n",
      "OBIPerformance(total_training_set_size=20, real_training_set_size=20, online_training_set_size=20, trial_index=3, num_samples=100, accuracy=0.5983999967575073, crossentropy=1.722508192062378)\n",
      "Online Training Size/Num Samples/Trial: 20/100/4\n",
      "OBIPerformance(total_training_set_size=20, real_training_set_size=20, online_training_set_size=20, trial_index=4, num_samples=100, accuracy=0.5976999998092651, crossentropy=1.6214429140090942)\n",
      "Online Training Size/Num Samples/Trial: 21/10/0\n",
      "OBIPerformance(total_training_set_size=21, real_training_set_size=20, online_training_set_size=21, trial_index=0, num_samples=10, accuracy=0.5734000205993652, crossentropy=2.030655860900879)\n",
      "Online Training Size/Num Samples/Trial: 21/10/1\n",
      "OBIPerformance(total_training_set_size=21, real_training_set_size=20, online_training_set_size=21, trial_index=1, num_samples=10, accuracy=0.5620999932289124, crossentropy=1.8677246570587158)\n",
      "Online Training Size/Num Samples/Trial: 21/10/2\n",
      "OBIPerformance(total_training_set_size=21, real_training_set_size=20, online_training_set_size=21, trial_index=2, num_samples=10, accuracy=0.576200008392334, crossentropy=1.831650972366333)\n",
      "Online Training Size/Num Samples/Trial: 21/10/3\n",
      "OBIPerformance(total_training_set_size=21, real_training_set_size=20, online_training_set_size=21, trial_index=3, num_samples=10, accuracy=0.5742999911308289, crossentropy=2.077195882797241)\n",
      "Online Training Size/Num Samples/Trial: 21/10/4\n",
      "OBIPerformance(total_training_set_size=21, real_training_set_size=20, online_training_set_size=21, trial_index=4, num_samples=10, accuracy=0.49549999833106995, crossentropy=2.7372424602508545)\n",
      "Online Training Size/Num Samples/Trial: 21/100/0\n",
      "OBIPerformance(total_training_set_size=21, real_training_set_size=20, online_training_set_size=21, trial_index=0, num_samples=100, accuracy=0.5246999859809875, crossentropy=1.9411195516586304)\n",
      "Online Training Size/Num Samples/Trial: 21/100/1\n",
      "OBIPerformance(total_training_set_size=21, real_training_set_size=20, online_training_set_size=21, trial_index=1, num_samples=100, accuracy=0.5340999960899353, crossentropy=1.7959262132644653)\n",
      "Online Training Size/Num Samples/Trial: 21/100/2\n",
      "OBIPerformance(total_training_set_size=21, real_training_set_size=20, online_training_set_size=21, trial_index=2, num_samples=100, accuracy=0.5230000019073486, crossentropy=1.825531244277954)\n",
      "Online Training Size/Num Samples/Trial: 21/100/3\n",
      "OBIPerformance(total_training_set_size=21, real_training_set_size=20, online_training_set_size=21, trial_index=3, num_samples=100, accuracy=0.5425000190734863, crossentropy=1.9714893102645874)\n",
      "Online Training Size/Num Samples/Trial: 21/100/4\n",
      "OBIPerformance(total_training_set_size=21, real_training_set_size=20, online_training_set_size=21, trial_index=4, num_samples=100, accuracy=0.5117999911308289, crossentropy=2.2993645668029785)\n",
      "Online Training Size/Num Samples/Trial: 22/10/0\n",
      "OBIPerformance(total_training_set_size=22, real_training_set_size=20, online_training_set_size=22, trial_index=0, num_samples=10, accuracy=0.554099977016449, crossentropy=2.8691561222076416)\n",
      "Online Training Size/Num Samples/Trial: 22/10/1\n",
      "OBIPerformance(total_training_set_size=22, real_training_set_size=20, online_training_set_size=22, trial_index=1, num_samples=10, accuracy=0.6230999827384949, crossentropy=1.7937970161437988)\n",
      "Online Training Size/Num Samples/Trial: 22/10/2\n",
      "OBIPerformance(total_training_set_size=22, real_training_set_size=20, online_training_set_size=22, trial_index=2, num_samples=10, accuracy=0.546999990940094, crossentropy=2.87606143951416)\n",
      "Online Training Size/Num Samples/Trial: 22/10/3\n",
      "OBIPerformance(total_training_set_size=22, real_training_set_size=20, online_training_set_size=22, trial_index=3, num_samples=10, accuracy=0.6227999925613403, crossentropy=1.7921738624572754)\n",
      "Online Training Size/Num Samples/Trial: 22/10/4\n",
      "OBIPerformance(total_training_set_size=22, real_training_set_size=20, online_training_set_size=22, trial_index=4, num_samples=10, accuracy=0.5389999747276306, crossentropy=2.377718687057495)\n",
      "Online Training Size/Num Samples/Trial: 22/100/0\n",
      "OBIPerformance(total_training_set_size=22, real_training_set_size=20, online_training_set_size=22, trial_index=0, num_samples=100, accuracy=0.5383999943733215, crossentropy=1.7817802429199219)\n",
      "Online Training Size/Num Samples/Trial: 22/100/1\n",
      "OBIPerformance(total_training_set_size=22, real_training_set_size=20, online_training_set_size=22, trial_index=1, num_samples=100, accuracy=0.519599974155426, crossentropy=2.1275060176849365)\n",
      "Online Training Size/Num Samples/Trial: 22/100/2\n",
      "OBIPerformance(total_training_set_size=22, real_training_set_size=20, online_training_set_size=22, trial_index=2, num_samples=100, accuracy=0.5394999980926514, crossentropy=2.2917604446411133)\n",
      "Online Training Size/Num Samples/Trial: 22/100/3\n",
      "OBIPerformance(total_training_set_size=22, real_training_set_size=20, online_training_set_size=22, trial_index=3, num_samples=100, accuracy=0.5128999948501587, crossentropy=1.8980467319488525)\n",
      "Online Training Size/Num Samples/Trial: 22/100/4\n",
      "OBIPerformance(total_training_set_size=22, real_training_set_size=20, online_training_set_size=22, trial_index=4, num_samples=100, accuracy=0.5407999753952026, crossentropy=2.0113584995269775)\n",
      "Online Training Size/Num Samples/Trial: 23/10/0\n",
      "OBIPerformance(total_training_set_size=23, real_training_set_size=20, online_training_set_size=23, trial_index=0, num_samples=10, accuracy=0.4916999936103821, crossentropy=2.643968105316162)\n",
      "Online Training Size/Num Samples/Trial: 23/10/1\n",
      "OBIPerformance(total_training_set_size=23, real_training_set_size=20, online_training_set_size=23, trial_index=1, num_samples=10, accuracy=0.5859000086784363, crossentropy=2.49922776222229)\n",
      "Online Training Size/Num Samples/Trial: 23/10/2\n",
      "OBIPerformance(total_training_set_size=23, real_training_set_size=20, online_training_set_size=23, trial_index=2, num_samples=10, accuracy=0.5597000122070312, crossentropy=2.9539544582366943)\n",
      "Online Training Size/Num Samples/Trial: 23/10/3\n",
      "OBIPerformance(total_training_set_size=23, real_training_set_size=20, online_training_set_size=23, trial_index=3, num_samples=10, accuracy=0.5131999850273132, crossentropy=2.1422576904296875)\n",
      "Online Training Size/Num Samples/Trial: 23/10/4\n",
      "OBIPerformance(total_training_set_size=23, real_training_set_size=20, online_training_set_size=23, trial_index=4, num_samples=10, accuracy=0.5206999778747559, crossentropy=1.8575701713562012)\n",
      "Online Training Size/Num Samples/Trial: 23/100/0\n",
      "OBIPerformance(total_training_set_size=23, real_training_set_size=20, online_training_set_size=23, trial_index=0, num_samples=100, accuracy=0.5534999966621399, crossentropy=1.923736333847046)\n",
      "Online Training Size/Num Samples/Trial: 23/100/1\n",
      "OBIPerformance(total_training_set_size=23, real_training_set_size=20, online_training_set_size=23, trial_index=1, num_samples=100, accuracy=0.517300009727478, crossentropy=2.2937488555908203)\n",
      "Online Training Size/Num Samples/Trial: 23/100/2\n",
      "OBIPerformance(total_training_set_size=23, real_training_set_size=20, online_training_set_size=23, trial_index=2, num_samples=100, accuracy=0.5552999973297119, crossentropy=1.651902675628662)\n",
      "Online Training Size/Num Samples/Trial: 23/100/3\n",
      "OBIPerformance(total_training_set_size=23, real_training_set_size=20, online_training_set_size=23, trial_index=3, num_samples=100, accuracy=0.4961000084877014, crossentropy=2.0617012977600098)\n",
      "Online Training Size/Num Samples/Trial: 23/100/4\n",
      "OBIPerformance(total_training_set_size=23, real_training_set_size=20, online_training_set_size=23, trial_index=4, num_samples=100, accuracy=0.5716000199317932, crossentropy=1.9148882627487183)\n",
      "Online Training Size/Num Samples/Trial: 24/10/0\n",
      "OBIPerformance(total_training_set_size=24, real_training_set_size=20, online_training_set_size=24, trial_index=0, num_samples=10, accuracy=0.578000009059906, crossentropy=2.4212701320648193)\n",
      "Online Training Size/Num Samples/Trial: 24/10/1\n",
      "OBIPerformance(total_training_set_size=24, real_training_set_size=20, online_training_set_size=24, trial_index=1, num_samples=10, accuracy=0.5565999746322632, crossentropy=3.3825597763061523)\n",
      "Online Training Size/Num Samples/Trial: 24/10/2\n",
      "OBIPerformance(total_training_set_size=24, real_training_set_size=20, online_training_set_size=24, trial_index=2, num_samples=10, accuracy=0.4932999908924103, crossentropy=2.2019569873809814)\n",
      "Online Training Size/Num Samples/Trial: 24/10/3\n",
      "OBIPerformance(total_training_set_size=24, real_training_set_size=20, online_training_set_size=24, trial_index=3, num_samples=10, accuracy=0.5705999732017517, crossentropy=2.725994825363159)\n",
      "Online Training Size/Num Samples/Trial: 24/10/4\n",
      "OBIPerformance(total_training_set_size=24, real_training_set_size=20, online_training_set_size=24, trial_index=4, num_samples=10, accuracy=0.5537999868392944, crossentropy=2.6390321254730225)\n",
      "Online Training Size/Num Samples/Trial: 24/100/0\n",
      "OBIPerformance(total_training_set_size=24, real_training_set_size=20, online_training_set_size=24, trial_index=0, num_samples=100, accuracy=0.5253000259399414, crossentropy=1.9134875535964966)\n",
      "Online Training Size/Num Samples/Trial: 24/100/1\n",
      "OBIPerformance(total_training_set_size=24, real_training_set_size=20, online_training_set_size=24, trial_index=1, num_samples=100, accuracy=0.5541999936103821, crossentropy=1.8671060800552368)\n",
      "Online Training Size/Num Samples/Trial: 24/100/2\n",
      "OBIPerformance(total_training_set_size=24, real_training_set_size=20, online_training_set_size=24, trial_index=2, num_samples=100, accuracy=0.5547000169754028, crossentropy=1.8280707597732544)\n",
      "Online Training Size/Num Samples/Trial: 24/100/3\n",
      "OBIPerformance(total_training_set_size=24, real_training_set_size=20, online_training_set_size=24, trial_index=3, num_samples=100, accuracy=0.5515999794006348, crossentropy=2.061389684677124)\n",
      "Online Training Size/Num Samples/Trial: 24/100/4\n",
      "OBIPerformance(total_training_set_size=24, real_training_set_size=20, online_training_set_size=24, trial_index=4, num_samples=100, accuracy=0.517300009727478, crossentropy=2.2849955558776855)\n",
      "Online Training Size/Num Samples/Trial: 25/10/0\n",
      "OBIPerformance(total_training_set_size=25, real_training_set_size=20, online_training_set_size=25, trial_index=0, num_samples=10, accuracy=0.5910000205039978, crossentropy=2.044016122817993)\n",
      "Online Training Size/Num Samples/Trial: 25/10/1\n",
      "OBIPerformance(total_training_set_size=25, real_training_set_size=20, online_training_set_size=25, trial_index=1, num_samples=10, accuracy=0.6191999912261963, crossentropy=1.6323403120040894)\n",
      "Online Training Size/Num Samples/Trial: 25/10/2\n",
      "OBIPerformance(total_training_set_size=25, real_training_set_size=20, online_training_set_size=25, trial_index=2, num_samples=10, accuracy=0.5745000243186951, crossentropy=2.5503368377685547)\n",
      "Online Training Size/Num Samples/Trial: 25/10/3\n",
      "OBIPerformance(total_training_set_size=25, real_training_set_size=20, online_training_set_size=25, trial_index=3, num_samples=10, accuracy=0.548799991607666, crossentropy=2.83449649810791)\n",
      "Online Training Size/Num Samples/Trial: 25/10/4\n",
      "OBIPerformance(total_training_set_size=25, real_training_set_size=20, online_training_set_size=25, trial_index=4, num_samples=10, accuracy=0.5187000036239624, crossentropy=2.0884482860565186)\n",
      "Online Training Size/Num Samples/Trial: 25/100/0\n",
      "OBIPerformance(total_training_set_size=25, real_training_set_size=20, online_training_set_size=25, trial_index=0, num_samples=100, accuracy=0.5432000160217285, crossentropy=1.9263595342636108)\n",
      "Online Training Size/Num Samples/Trial: 25/100/1\n",
      "OBIPerformance(total_training_set_size=25, real_training_set_size=20, online_training_set_size=25, trial_index=1, num_samples=100, accuracy=0.6190000176429749, crossentropy=1.7513344287872314)\n",
      "Online Training Size/Num Samples/Trial: 25/100/2\n",
      "OBIPerformance(total_training_set_size=25, real_training_set_size=20, online_training_set_size=25, trial_index=2, num_samples=100, accuracy=0.5551000237464905, crossentropy=1.8917773962020874)\n",
      "Online Training Size/Num Samples/Trial: 25/100/3\n",
      "OBIPerformance(total_training_set_size=25, real_training_set_size=20, online_training_set_size=25, trial_index=3, num_samples=100, accuracy=0.5424000024795532, crossentropy=1.9428236484527588)\n",
      "Online Training Size/Num Samples/Trial: 25/100/4\n",
      "OBIPerformance(total_training_set_size=25, real_training_set_size=20, online_training_set_size=25, trial_index=4, num_samples=100, accuracy=0.5503000020980835, crossentropy=2.1254148483276367)\n",
      "Online Training Size/Num Samples/Trial: 26/10/0\n",
      "OBIPerformance(total_training_set_size=26, real_training_set_size=20, online_training_set_size=26, trial_index=0, num_samples=10, accuracy=0.517300009727478, crossentropy=2.3142666816711426)\n",
      "Online Training Size/Num Samples/Trial: 26/10/1\n",
      "OBIPerformance(total_training_set_size=26, real_training_set_size=20, online_training_set_size=26, trial_index=1, num_samples=10, accuracy=0.5633000135421753, crossentropy=3.3289551734924316)\n",
      "Online Training Size/Num Samples/Trial: 26/10/2\n",
      "OBIPerformance(total_training_set_size=26, real_training_set_size=20, online_training_set_size=26, trial_index=2, num_samples=10, accuracy=0.5198000073432922, crossentropy=2.656656265258789)\n",
      "Online Training Size/Num Samples/Trial: 26/10/3\n",
      "OBIPerformance(total_training_set_size=26, real_training_set_size=20, online_training_set_size=26, trial_index=3, num_samples=10, accuracy=0.5072000026702881, crossentropy=3.104780673980713)\n",
      "Online Training Size/Num Samples/Trial: 26/10/4\n",
      "OBIPerformance(total_training_set_size=26, real_training_set_size=20, online_training_set_size=26, trial_index=4, num_samples=10, accuracy=0.5580999851226807, crossentropy=2.3501360416412354)\n",
      "Online Training Size/Num Samples/Trial: 26/100/0\n",
      "OBIPerformance(total_training_set_size=26, real_training_set_size=20, online_training_set_size=26, trial_index=0, num_samples=100, accuracy=0.6182000041007996, crossentropy=1.7465909719467163)\n",
      "Online Training Size/Num Samples/Trial: 26/100/1\n",
      "OBIPerformance(total_training_set_size=26, real_training_set_size=20, online_training_set_size=26, trial_index=1, num_samples=100, accuracy=0.5389999747276306, crossentropy=2.3768982887268066)\n",
      "Online Training Size/Num Samples/Trial: 26/100/2\n",
      "OBIPerformance(total_training_set_size=26, real_training_set_size=20, online_training_set_size=26, trial_index=2, num_samples=100, accuracy=0.5389999747276306, crossentropy=2.3769099712371826)\n",
      "Online Training Size/Num Samples/Trial: 26/100/3\n",
      "OBIPerformance(total_training_set_size=26, real_training_set_size=20, online_training_set_size=26, trial_index=3, num_samples=100, accuracy=0.5389999747276306, crossentropy=2.3354623317718506)\n",
      "Online Training Size/Num Samples/Trial: 26/100/4\n",
      "OBIPerformance(total_training_set_size=26, real_training_set_size=20, online_training_set_size=26, trial_index=4, num_samples=100, accuracy=0.5389999747276306, crossentropy=2.3353655338287354)\n",
      "Online Training Size/Num Samples/Trial: 27/10/0\n",
      "OBIPerformance(total_training_set_size=27, real_training_set_size=20, online_training_set_size=27, trial_index=0, num_samples=10, accuracy=0.593999981880188, crossentropy=2.5448825359344482)\n",
      "Online Training Size/Num Samples/Trial: 27/10/1\n",
      "OBIPerformance(total_training_set_size=27, real_training_set_size=20, online_training_set_size=27, trial_index=1, num_samples=10, accuracy=0.5264999866485596, crossentropy=2.3802642822265625)\n",
      "Online Training Size/Num Samples/Trial: 27/10/2\n",
      "OBIPerformance(total_training_set_size=27, real_training_set_size=20, online_training_set_size=27, trial_index=2, num_samples=10, accuracy=0.5156000256538391, crossentropy=3.289156675338745)\n",
      "Online Training Size/Num Samples/Trial: 27/10/3\n",
      "OBIPerformance(total_training_set_size=27, real_training_set_size=20, online_training_set_size=27, trial_index=3, num_samples=10, accuracy=0.4699000120162964, crossentropy=2.5751261711120605)\n",
      "Online Training Size/Num Samples/Trial: 27/10/4\n",
      "OBIPerformance(total_training_set_size=27, real_training_set_size=20, online_training_set_size=27, trial_index=4, num_samples=10, accuracy=0.5620999932289124, crossentropy=2.0445799827575684)\n",
      "Online Training Size/Num Samples/Trial: 27/100/0\n",
      "OBIPerformance(total_training_set_size=27, real_training_set_size=20, online_training_set_size=27, trial_index=0, num_samples=100, accuracy=0.5080000162124634, crossentropy=2.2622203826904297)\n",
      "Online Training Size/Num Samples/Trial: 27/100/1\n",
      "OBIPerformance(total_training_set_size=27, real_training_set_size=20, online_training_set_size=27, trial_index=1, num_samples=100, accuracy=0.6195999979972839, crossentropy=1.5516009330749512)\n",
      "Online Training Size/Num Samples/Trial: 27/100/2\n",
      "OBIPerformance(total_training_set_size=27, real_training_set_size=20, online_training_set_size=27, trial_index=2, num_samples=100, accuracy=0.5389999747276306, crossentropy=2.37636137008667)\n",
      "Online Training Size/Num Samples/Trial: 27/100/3\n",
      "OBIPerformance(total_training_set_size=27, real_training_set_size=20, online_training_set_size=27, trial_index=3, num_samples=100, accuracy=0.5390999913215637, crossentropy=2.3140084743499756)\n",
      "Online Training Size/Num Samples/Trial: 27/100/4\n",
      "OBIPerformance(total_training_set_size=27, real_training_set_size=20, online_training_set_size=27, trial_index=4, num_samples=100, accuracy=0.5389999747276306, crossentropy=2.3773868083953857)\n",
      "Online Training Size/Num Samples/Trial: 28/10/0\n",
      "OBIPerformance(total_training_set_size=28, real_training_set_size=20, online_training_set_size=28, trial_index=0, num_samples=10, accuracy=0.5393000245094299, crossentropy=2.8563334941864014)\n",
      "Online Training Size/Num Samples/Trial: 28/10/1\n",
      "OBIPerformance(total_training_set_size=28, real_training_set_size=20, online_training_set_size=28, trial_index=1, num_samples=10, accuracy=0.5389999747276306, crossentropy=2.3789284229278564)\n",
      "Online Training Size/Num Samples/Trial: 28/10/2\n",
      "OBIPerformance(total_training_set_size=28, real_training_set_size=20, online_training_set_size=28, trial_index=2, num_samples=10, accuracy=0.5936999917030334, crossentropy=1.9123975038528442)\n",
      "Online Training Size/Num Samples/Trial: 28/10/3\n",
      "OBIPerformance(total_training_set_size=28, real_training_set_size=20, online_training_set_size=28, trial_index=3, num_samples=10, accuracy=0.5612000226974487, crossentropy=2.101165533065796)\n",
      "Online Training Size/Num Samples/Trial: 28/10/4\n",
      "OBIPerformance(total_training_set_size=28, real_training_set_size=20, online_training_set_size=28, trial_index=4, num_samples=10, accuracy=0.5317000150680542, crossentropy=2.522538185119629)\n",
      "Online Training Size/Num Samples/Trial: 28/100/0\n",
      "OBIPerformance(total_training_set_size=28, real_training_set_size=20, online_training_set_size=28, trial_index=0, num_samples=100, accuracy=0.5080000162124634, crossentropy=2.260779619216919)\n",
      "Online Training Size/Num Samples/Trial: 28/100/1\n",
      "OBIPerformance(total_training_set_size=28, real_training_set_size=20, online_training_set_size=28, trial_index=1, num_samples=100, accuracy=0.5390999913215637, crossentropy=2.2039270401000977)\n",
      "Online Training Size/Num Samples/Trial: 28/100/2\n",
      "OBIPerformance(total_training_set_size=28, real_training_set_size=20, online_training_set_size=28, trial_index=2, num_samples=100, accuracy=0.5080000162124634, crossentropy=2.2607264518737793)\n",
      "Online Training Size/Num Samples/Trial: 28/100/3\n",
      "OBIPerformance(total_training_set_size=28, real_training_set_size=20, online_training_set_size=28, trial_index=3, num_samples=100, accuracy=0.5831000208854675, crossentropy=1.826865792274475)\n",
      "Online Training Size/Num Samples/Trial: 28/100/4\n",
      "OBIPerformance(total_training_set_size=28, real_training_set_size=20, online_training_set_size=28, trial_index=4, num_samples=100, accuracy=0.5080000162124634, crossentropy=2.26243257522583)\n",
      "Online Training Size/Num Samples/Trial: 29/10/0\n",
      "OBIPerformance(total_training_set_size=29, real_training_set_size=20, online_training_set_size=29, trial_index=0, num_samples=10, accuracy=0.5667999982833862, crossentropy=2.7994446754455566)\n",
      "Online Training Size/Num Samples/Trial: 29/10/1\n",
      "OBIPerformance(total_training_set_size=29, real_training_set_size=20, online_training_set_size=29, trial_index=1, num_samples=10, accuracy=0.5072000026702881, crossentropy=3.0858402252197266)\n",
      "Online Training Size/Num Samples/Trial: 29/10/2\n",
      "OBIPerformance(total_training_set_size=29, real_training_set_size=20, online_training_set_size=29, trial_index=2, num_samples=10, accuracy=0.571399986743927, crossentropy=2.7352347373962402)\n",
      "Online Training Size/Num Samples/Trial: 29/10/3\n",
      "OBIPerformance(total_training_set_size=29, real_training_set_size=20, online_training_set_size=29, trial_index=3, num_samples=10, accuracy=0.5936999917030334, crossentropy=2.327798843383789)\n",
      "Online Training Size/Num Samples/Trial: 29/10/4\n",
      "OBIPerformance(total_training_set_size=29, real_training_set_size=20, online_training_set_size=29, trial_index=4, num_samples=10, accuracy=0.5177000164985657, crossentropy=2.5593907833099365)\n",
      "Online Training Size/Num Samples/Trial: 29/100/0\n",
      "OBIPerformance(total_training_set_size=29, real_training_set_size=20, online_training_set_size=29, trial_index=0, num_samples=100, accuracy=0.5080000162124634, crossentropy=2.2626688480377197)\n",
      "Online Training Size/Num Samples/Trial: 29/100/1\n",
      "OBIPerformance(total_training_set_size=29, real_training_set_size=20, online_training_set_size=29, trial_index=1, num_samples=100, accuracy=0.5080000162124634, crossentropy=2.262364149093628)\n",
      "Online Training Size/Num Samples/Trial: 29/100/2\n",
      "OBIPerformance(total_training_set_size=29, real_training_set_size=20, online_training_set_size=29, trial_index=2, num_samples=100, accuracy=0.5080000162124634, crossentropy=2.262671709060669)\n",
      "Online Training Size/Num Samples/Trial: 29/100/3\n",
      "OBIPerformance(total_training_set_size=29, real_training_set_size=20, online_training_set_size=29, trial_index=3, num_samples=100, accuracy=0.5454000234603882, crossentropy=2.2908225059509277)\n",
      "Online Training Size/Num Samples/Trial: 29/100/4\n",
      "OBIPerformance(total_training_set_size=29, real_training_set_size=20, online_training_set_size=29, trial_index=4, num_samples=100, accuracy=0.532800018787384, crossentropy=2.3157906532287598)\n",
      "Online Training Size/Num Samples/Trial: 30/10/0\n",
      "OBIPerformance(total_training_set_size=30, real_training_set_size=20, online_training_set_size=30, trial_index=0, num_samples=10, accuracy=0.5317000150680542, crossentropy=2.5226571559906006)\n",
      "Online Training Size/Num Samples/Trial: 30/10/1\n",
      "OBIPerformance(total_training_set_size=30, real_training_set_size=20, online_training_set_size=30, trial_index=1, num_samples=10, accuracy=0.5764999985694885, crossentropy=2.400820732116699)\n",
      "Online Training Size/Num Samples/Trial: 30/10/2\n",
      "OBIPerformance(total_training_set_size=30, real_training_set_size=20, online_training_set_size=30, trial_index=2, num_samples=10, accuracy=0.5532000064849854, crossentropy=2.959202527999878)\n",
      "Online Training Size/Num Samples/Trial: 30/10/3\n",
      "OBIPerformance(total_training_set_size=30, real_training_set_size=20, online_training_set_size=30, trial_index=3, num_samples=10, accuracy=0.5927000045776367, crossentropy=3.2271335124969482)\n",
      "Online Training Size/Num Samples/Trial: 30/10/4\n",
      "OBIPerformance(total_training_set_size=30, real_training_set_size=20, online_training_set_size=30, trial_index=4, num_samples=10, accuracy=0.6182000041007996, crossentropy=1.872896671295166)\n",
      "Online Training Size/Num Samples/Trial: 30/100/0\n",
      "OBIPerformance(total_training_set_size=30, real_training_set_size=20, online_training_set_size=30, trial_index=0, num_samples=100, accuracy=0.6266999840736389, crossentropy=1.7188349962234497)\n",
      "Online Training Size/Num Samples/Trial: 30/100/1\n",
      "OBIPerformance(total_training_set_size=30, real_training_set_size=20, online_training_set_size=30, trial_index=1, num_samples=100, accuracy=0.5080000162124634, crossentropy=2.262674331665039)\n",
      "Online Training Size/Num Samples/Trial: 30/100/2\n",
      "OBIPerformance(total_training_set_size=30, real_training_set_size=20, online_training_set_size=30, trial_index=2, num_samples=100, accuracy=0.5393000245094299, crossentropy=2.198261022567749)\n",
      "Online Training Size/Num Samples/Trial: 30/100/3\n",
      "OBIPerformance(total_training_set_size=30, real_training_set_size=20, online_training_set_size=30, trial_index=3, num_samples=100, accuracy=0.5306000113487244, crossentropy=2.0258772373199463)\n",
      "Online Training Size/Num Samples/Trial: 30/100/4\n",
      "OBIPerformance(total_training_set_size=30, real_training_set_size=20, online_training_set_size=30, trial_index=4, num_samples=100, accuracy=0.5392000079154968, crossentropy=2.219721555709839)\n",
      "OBIPerformance(total_training_set_size=10020, real_training_set_size=20, online_training_set_size=10000, trial_index=0, num_samples=200, accuracy=0.60589998960495, crossentropy=1.4300214052200317)\n",
      "Training set size 25:\n"
     ]
    },
    {
     "data": {
      "application/vnd.jupyter.widget-view+json": {
       "model_id": "9a09eded6e34423692eca307a28191bb",
       "version_major": 2,
       "version_minor": 0
      },
      "text/plain": [
       "  1%|          | 1/120 [00:00<?, ?it/s]"
      ]
     },
     "metadata": {},
     "output_type": "display_data"
    },
    {
     "data": {
      "application/vnd.jupyter.widget-view+json": {
       "model_id": "",
       "version_major": 2,
       "version_minor": 0
      },
      "text/plain": [
       "[1/16]   6%|6          [00:00<?]"
      ]
     },
     "metadata": {},
     "output_type": "display_data"
    },
    {
     "name": "stdout",
     "output_type": "stream",
     "text": [
      "Epoch metrics: {'accuracy': 0.44921875, 'crossentropy': 1.856518030166626}\n"
     ]
    },
    {
     "data": {
      "application/vnd.jupyter.widget-view+json": {
       "model_id": "",
       "version_major": 2,
       "version_minor": 0
      },
      "text/plain": [
       "[1/16]   6%|6          [00:00<?]"
      ]
     },
     "metadata": {},
     "output_type": "display_data"
    },
    {
     "name": "stdout",
     "output_type": "stream",
     "text": [
      "Epoch metrics: {'accuracy': 0.630859375, 'crossentropy': 1.2549703121185303}\n"
     ]
    },
    {
     "data": {
      "application/vnd.jupyter.widget-view+json": {
       "model_id": "",
       "version_major": 2,
       "version_minor": 0
      },
      "text/plain": [
       "[1/16]   6%|6          [00:00<?]"
      ]
     },
     "metadata": {},
     "output_type": "display_data"
    },
    {
     "name": "stdout",
     "output_type": "stream",
     "text": [
      "Epoch metrics: {'accuracy': 0.640625, 'crossentropy': 1.1209205389022827}\n"
     ]
    },
    {
     "data": {
      "application/vnd.jupyter.widget-view+json": {
       "model_id": "",
       "version_major": 2,
       "version_minor": 0
      },
      "text/plain": [
       "[1/16]   6%|6          [00:00<?]"
      ]
     },
     "metadata": {},
     "output_type": "display_data"
    },
    {
     "name": "stdout",
     "output_type": "stream",
     "text": [
      "Epoch metrics: {'accuracy': 0.671875, 'crossentropy': 1.0541449785232544}\n"
     ]
    },
    {
     "data": {
      "application/vnd.jupyter.widget-view+json": {
       "model_id": "",
       "version_major": 2,
       "version_minor": 0
      },
      "text/plain": [
       "[1/16]   6%|6          [00:00<?]"
      ]
     },
     "metadata": {},
     "output_type": "display_data"
    },
    {
     "name": "stdout",
     "output_type": "stream",
     "text": [
      "Epoch metrics: {'accuracy': 0.6796875, 'crossentropy': 1.0794131755828857}\n"
     ]
    },
    {
     "data": {
      "application/vnd.jupyter.widget-view+json": {
       "model_id": "",
       "version_major": 2,
       "version_minor": 0
      },
      "text/plain": [
       "[1/16]   6%|6          [00:00<?]"
      ]
     },
     "metadata": {},
     "output_type": "display_data"
    },
    {
     "name": "stdout",
     "output_type": "stream",
     "text": [
      "Epoch metrics: {'accuracy': 0.6943359375, 'crossentropy': 1.0215439796447754}\n"
     ]
    },
    {
     "data": {
      "application/vnd.jupyter.widget-view+json": {
       "model_id": "",
       "version_major": 2,
       "version_minor": 0
      },
      "text/plain": [
       "[1/16]   6%|6          [00:00<?]"
      ]
     },
     "metadata": {},
     "output_type": "display_data"
    },
    {
     "name": "stdout",
     "output_type": "stream",
     "text": [
      "Epoch metrics: {'accuracy': 0.6982421875, 'crossentropy': 1.0682412385940552}\n"
     ]
    },
    {
     "data": {
      "application/vnd.jupyter.widget-view+json": {
       "model_id": "",
       "version_major": 2,
       "version_minor": 0
      },
      "text/plain": [
       "[1/16]   6%|6          [00:00<?]"
      ]
     },
     "metadata": {},
     "output_type": "display_data"
    },
    {
     "name": "stdout",
     "output_type": "stream",
     "text": [
      "Epoch metrics: {'accuracy': 0.69140625, 'crossentropy': 1.1076823472976685}\n",
      "RestoringEarlyStopping: 1 / 20\n"
     ]
    },
    {
     "data": {
      "application/vnd.jupyter.widget-view+json": {
       "model_id": "",
       "version_major": 2,
       "version_minor": 0
      },
      "text/plain": [
       "[1/16]   6%|6          [00:00<?]"
      ]
     },
     "metadata": {},
     "output_type": "display_data"
    },
    {
     "name": "stdout",
     "output_type": "stream",
     "text": [
      "Epoch metrics: {'accuracy': 0.69140625, 'crossentropy': 1.0712047815322876}\n",
      "RestoringEarlyStopping: 2 / 20\n"
     ]
    },
    {
     "data": {
      "application/vnd.jupyter.widget-view+json": {
       "model_id": "",
       "version_major": 2,
       "version_minor": 0
      },
      "text/plain": [
       "[1/16]   6%|6          [00:00<?]"
      ]
     },
     "metadata": {},
     "output_type": "display_data"
    },
    {
     "name": "stdout",
     "output_type": "stream",
     "text": [
      "Epoch metrics: {'accuracy': 0.6953125, 'crossentropy': 1.1108332872390747}\n",
      "RestoringEarlyStopping: 3 / 20\n"
     ]
    },
    {
     "data": {
      "application/vnd.jupyter.widget-view+json": {
       "model_id": "",
       "version_major": 2,
       "version_minor": 0
      },
      "text/plain": [
       "[1/16]   6%|6          [00:00<?]"
      ]
     },
     "metadata": {},
     "output_type": "display_data"
    },
    {
     "name": "stdout",
     "output_type": "stream",
     "text": [
      "Epoch metrics: {'accuracy': 0.6806640625, 'crossentropy': 1.1535918712615967}\n",
      "RestoringEarlyStopping: 4 / 20\n"
     ]
    },
    {
     "data": {
      "application/vnd.jupyter.widget-view+json": {
       "model_id": "",
       "version_major": 2,
       "version_minor": 0
      },
      "text/plain": [
       "[1/16]   6%|6          [00:00<?]"
      ]
     },
     "metadata": {},
     "output_type": "display_data"
    },
    {
     "name": "stdout",
     "output_type": "stream",
     "text": [
      "Epoch metrics: {'accuracy': 0.666015625, 'crossentropy': 1.1108342409133911}\n",
      "RestoringEarlyStopping: 5 / 20\n"
     ]
    },
    {
     "data": {
      "application/vnd.jupyter.widget-view+json": {
       "model_id": "",
       "version_major": 2,
       "version_minor": 0
      },
      "text/plain": [
       "[1/16]   6%|6          [00:00<?]"
      ]
     },
     "metadata": {},
     "output_type": "display_data"
    },
    {
     "name": "stdout",
     "output_type": "stream",
     "text": [
      "Epoch metrics: {'accuracy': 0.6962890625, 'crossentropy': 1.055483341217041}\n",
      "RestoringEarlyStopping: 6 / 20\n"
     ]
    },
    {
     "data": {
      "application/vnd.jupyter.widget-view+json": {
       "model_id": "",
       "version_major": 2,
       "version_minor": 0
      },
      "text/plain": [
       "[1/16]   6%|6          [00:00<?]"
      ]
     },
     "metadata": {},
     "output_type": "display_data"
    },
    {
     "name": "stdout",
     "output_type": "stream",
     "text": [
      "Epoch metrics: {'accuracy': 0.6796875, 'crossentropy': 1.0697667598724365}\n",
      "RestoringEarlyStopping: 7 / 20\n"
     ]
    },
    {
     "data": {
      "application/vnd.jupyter.widget-view+json": {
       "model_id": "",
       "version_major": 2,
       "version_minor": 0
      },
      "text/plain": [
       "[1/16]   6%|6          [00:00<?]"
      ]
     },
     "metadata": {},
     "output_type": "display_data"
    },
    {
     "name": "stdout",
     "output_type": "stream",
     "text": [
      "Epoch metrics: {'accuracy': 0.6748046875, 'crossentropy': 1.1307344436645508}\n",
      "RestoringEarlyStopping: 8 / 20\n"
     ]
    },
    {
     "data": {
      "application/vnd.jupyter.widget-view+json": {
       "model_id": "",
       "version_major": 2,
       "version_minor": 0
      },
      "text/plain": [
       "[1/16]   6%|6          [00:00<?]"
      ]
     },
     "metadata": {},
     "output_type": "display_data"
    },
    {
     "name": "stdout",
     "output_type": "stream",
     "text": [
      "Epoch metrics: {'accuracy': 0.681640625, 'crossentropy': 1.0840954780578613}\n",
      "RestoringEarlyStopping: 9 / 20\n"
     ]
    },
    {
     "data": {
      "application/vnd.jupyter.widget-view+json": {
       "model_id": "",
       "version_major": 2,
       "version_minor": 0
      },
      "text/plain": [
       "[1/16]   6%|6          [00:00<?]"
      ]
     },
     "metadata": {},
     "output_type": "display_data"
    },
    {
     "name": "stdout",
     "output_type": "stream",
     "text": [
      "Epoch metrics: {'accuracy': 0.701171875, 'crossentropy': 1.0406358242034912}\n"
     ]
    },
    {
     "data": {
      "application/vnd.jupyter.widget-view+json": {
       "model_id": "",
       "version_major": 2,
       "version_minor": 0
      },
      "text/plain": [
       "[1/16]   6%|6          [00:00<?]"
      ]
     },
     "metadata": {},
     "output_type": "display_data"
    },
    {
     "name": "stdout",
     "output_type": "stream",
     "text": [
      "Epoch metrics: {'accuracy': 0.697265625, 'crossentropy': 1.0697234869003296}\n",
      "RestoringEarlyStopping: 1 / 20\n"
     ]
    },
    {
     "data": {
      "application/vnd.jupyter.widget-view+json": {
       "model_id": "",
       "version_major": 2,
       "version_minor": 0
      },
      "text/plain": [
       "[1/16]   6%|6          [00:00<?]"
      ]
     },
     "metadata": {},
     "output_type": "display_data"
    },
    {
     "name": "stdout",
     "output_type": "stream",
     "text": [
      "Epoch metrics: {'accuracy': 0.69921875, 'crossentropy': 1.058584213256836}\n",
      "RestoringEarlyStopping: 2 / 20\n"
     ]
    },
    {
     "data": {
      "application/vnd.jupyter.widget-view+json": {
       "model_id": "",
       "version_major": 2,
       "version_minor": 0
      },
      "text/plain": [
       "[1/16]   6%|6          [00:00<?]"
      ]
     },
     "metadata": {},
     "output_type": "display_data"
    },
    {
     "name": "stdout",
     "output_type": "stream",
     "text": [
      "Epoch metrics: {'accuracy': 0.703125, 'crossentropy': 1.0953316688537598}\n"
     ]
    },
    {
     "data": {
      "application/vnd.jupyter.widget-view+json": {
       "model_id": "",
       "version_major": 2,
       "version_minor": 0
      },
      "text/plain": [
       "[1/16]   6%|6          [00:00<?]"
      ]
     },
     "metadata": {},
     "output_type": "display_data"
    },
    {
     "name": "stdout",
     "output_type": "stream",
     "text": [
      "Epoch metrics: {'accuracy': 0.685546875, 'crossentropy': 1.1081825494766235}\n",
      "RestoringEarlyStopping: 1 / 20\n"
     ]
    },
    {
     "data": {
      "application/vnd.jupyter.widget-view+json": {
       "model_id": "",
       "version_major": 2,
       "version_minor": 0
      },
      "text/plain": [
       "[1/16]   6%|6          [00:00<?]"
      ]
     },
     "metadata": {},
     "output_type": "display_data"
    },
    {
     "name": "stdout",
     "output_type": "stream",
     "text": [
      "Epoch metrics: {'accuracy': 0.6748046875, 'crossentropy': 1.186870813369751}\n",
      "RestoringEarlyStopping: 2 / 20\n"
     ]
    },
    {
     "data": {
      "application/vnd.jupyter.widget-view+json": {
       "model_id": "",
       "version_major": 2,
       "version_minor": 0
      },
      "text/plain": [
       "[1/16]   6%|6          [00:00<?]"
      ]
     },
     "metadata": {},
     "output_type": "display_data"
    },
    {
     "name": "stdout",
     "output_type": "stream",
     "text": [
      "Epoch metrics: {'accuracy': 0.6669921875, 'crossentropy': 1.1322853565216064}\n",
      "RestoringEarlyStopping: 3 / 20\n"
     ]
    },
    {
     "data": {
      "application/vnd.jupyter.widget-view+json": {
       "model_id": "",
       "version_major": 2,
       "version_minor": 0
      },
      "text/plain": [
       "[1/16]   6%|6          [00:00<?]"
      ]
     },
     "metadata": {},
     "output_type": "display_data"
    },
    {
     "name": "stdout",
     "output_type": "stream",
     "text": [
      "Epoch metrics: {'accuracy': 0.6962890625, 'crossentropy': 1.0614471435546875}\n",
      "RestoringEarlyStopping: 4 / 20\n"
     ]
    },
    {
     "data": {
      "application/vnd.jupyter.widget-view+json": {
       "model_id": "",
       "version_major": 2,
       "version_minor": 0
      },
      "text/plain": [
       "[1/16]   6%|6          [00:00<?]"
      ]
     },
     "metadata": {},
     "output_type": "display_data"
    },
    {
     "name": "stdout",
     "output_type": "stream",
     "text": [
      "Epoch metrics: {'accuracy': 0.70703125, 'crossentropy': 1.0820726156234741}\n"
     ]
    },
    {
     "data": {
      "application/vnd.jupyter.widget-view+json": {
       "model_id": "",
       "version_major": 2,
       "version_minor": 0
      },
      "text/plain": [
       "[1/16]   6%|6          [00:00<?]"
      ]
     },
     "metadata": {},
     "output_type": "display_data"
    },
    {
     "name": "stdout",
     "output_type": "stream",
     "text": [
      "Epoch metrics: {'accuracy': 0.703125, 'crossentropy': 1.0782809257507324}\n",
      "RestoringEarlyStopping: 1 / 20\n"
     ]
    },
    {
     "data": {
      "application/vnd.jupyter.widget-view+json": {
       "model_id": "",
       "version_major": 2,
       "version_minor": 0
      },
      "text/plain": [
       "[1/16]   6%|6          [00:00<?]"
      ]
     },
     "metadata": {},
     "output_type": "display_data"
    },
    {
     "name": "stdout",
     "output_type": "stream",
     "text": [
      "Epoch metrics: {'accuracy': 0.703125, 'crossentropy': 1.1027195453643799}\n",
      "RestoringEarlyStopping: 2 / 20\n"
     ]
    },
    {
     "data": {
      "application/vnd.jupyter.widget-view+json": {
       "model_id": "",
       "version_major": 2,
       "version_minor": 0
      },
      "text/plain": [
       "[1/16]   6%|6          [00:00<?]"
      ]
     },
     "metadata": {},
     "output_type": "display_data"
    },
    {
     "name": "stdout",
     "output_type": "stream",
     "text": [
      "Epoch metrics: {'accuracy': 0.685546875, 'crossentropy': 1.1368708610534668}\n",
      "RestoringEarlyStopping: 3 / 20\n"
     ]
    },
    {
     "data": {
      "application/vnd.jupyter.widget-view+json": {
       "model_id": "",
       "version_major": 2,
       "version_minor": 0
      },
      "text/plain": [
       "[1/16]   6%|6          [00:00<?]"
      ]
     },
     "metadata": {},
     "output_type": "display_data"
    },
    {
     "name": "stdout",
     "output_type": "stream",
     "text": [
      "Epoch metrics: {'accuracy': 0.6923828125, 'crossentropy': 1.140493631362915}\n",
      "RestoringEarlyStopping: 4 / 20\n"
     ]
    },
    {
     "data": {
      "application/vnd.jupyter.widget-view+json": {
       "model_id": "",
       "version_major": 2,
       "version_minor": 0
      },
      "text/plain": [
       "[1/16]   6%|6          [00:00<?]"
      ]
     },
     "metadata": {},
     "output_type": "display_data"
    },
    {
     "name": "stdout",
     "output_type": "stream",
     "text": [
      "Epoch metrics: {'accuracy': 0.693359375, 'crossentropy': 1.1100842952728271}\n",
      "RestoringEarlyStopping: 5 / 20\n"
     ]
    },
    {
     "data": {
      "application/vnd.jupyter.widget-view+json": {
       "model_id": "",
       "version_major": 2,
       "version_minor": 0
      },
      "text/plain": [
       "[1/16]   6%|6          [00:00<?]"
      ]
     },
     "metadata": {},
     "output_type": "display_data"
    },
    {
     "name": "stdout",
     "output_type": "stream",
     "text": [
      "Epoch metrics: {'accuracy': 0.6904296875, 'crossentropy': 1.133840799331665}\n",
      "RestoringEarlyStopping: 6 / 20\n"
     ]
    },
    {
     "data": {
      "application/vnd.jupyter.widget-view+json": {
       "model_id": "",
       "version_major": 2,
       "version_minor": 0
      },
      "text/plain": [
       "[1/16]   6%|6          [00:00<?]"
      ]
     },
     "metadata": {},
     "output_type": "display_data"
    },
    {
     "name": "stdout",
     "output_type": "stream",
     "text": [
      "Epoch metrics: {'accuracy': 0.6904296875, 'crossentropy': 1.131980538368225}\n",
      "RestoringEarlyStopping: 7 / 20\n"
     ]
    },
    {
     "data": {
      "application/vnd.jupyter.widget-view+json": {
       "model_id": "",
       "version_major": 2,
       "version_minor": 0
      },
      "text/plain": [
       "[1/16]   6%|6          [00:00<?]"
      ]
     },
     "metadata": {},
     "output_type": "display_data"
    },
    {
     "name": "stdout",
     "output_type": "stream",
     "text": [
      "Epoch metrics: {'accuracy': 0.69140625, 'crossentropy': 1.1707013845443726}\n",
      "RestoringEarlyStopping: 8 / 20\n"
     ]
    },
    {
     "data": {
      "application/vnd.jupyter.widget-view+json": {
       "model_id": "",
       "version_major": 2,
       "version_minor": 0
      },
      "text/plain": [
       "[1/16]   6%|6          [00:00<?]"
      ]
     },
     "metadata": {},
     "output_type": "display_data"
    },
    {
     "name": "stdout",
     "output_type": "stream",
     "text": [
      "Epoch metrics: {'accuracy': 0.689453125, 'crossentropy': 1.1046849489212036}\n",
      "RestoringEarlyStopping: 9 / 20\n"
     ]
    },
    {
     "data": {
      "application/vnd.jupyter.widget-view+json": {
       "model_id": "",
       "version_major": 2,
       "version_minor": 0
      },
      "text/plain": [
       "[1/16]   6%|6          [00:00<?]"
      ]
     },
     "metadata": {},
     "output_type": "display_data"
    },
    {
     "name": "stdout",
     "output_type": "stream",
     "text": [
      "Epoch metrics: {'accuracy': 0.6953125, 'crossentropy': 1.1158068180084229}\n",
      "RestoringEarlyStopping: 10 / 20\n"
     ]
    },
    {
     "data": {
      "application/vnd.jupyter.widget-view+json": {
       "model_id": "",
       "version_major": 2,
       "version_minor": 0
      },
      "text/plain": [
       "[1/16]   6%|6          [00:00<?]"
      ]
     },
     "metadata": {},
     "output_type": "display_data"
    },
    {
     "name": "stdout",
     "output_type": "stream",
     "text": [
      "Epoch metrics: {'accuracy': 0.693359375, 'crossentropy': 1.1580835580825806}\n",
      "RestoringEarlyStopping: 11 / 20\n"
     ]
    },
    {
     "data": {
      "application/vnd.jupyter.widget-view+json": {
       "model_id": "",
       "version_major": 2,
       "version_minor": 0
      },
      "text/plain": [
       "[1/16]   6%|6          [00:00<?]"
      ]
     },
     "metadata": {},
     "output_type": "display_data"
    },
    {
     "name": "stdout",
     "output_type": "stream",
     "text": [
      "Epoch metrics: {'accuracy': 0.6962890625, 'crossentropy': 1.1171997785568237}\n",
      "RestoringEarlyStopping: 12 / 20\n"
     ]
    },
    {
     "data": {
      "application/vnd.jupyter.widget-view+json": {
       "model_id": "",
       "version_major": 2,
       "version_minor": 0
      },
      "text/plain": [
       "[1/16]   6%|6          [00:00<?]"
      ]
     },
     "metadata": {},
     "output_type": "display_data"
    },
    {
     "name": "stdout",
     "output_type": "stream",
     "text": [
      "Epoch metrics: {'accuracy': 0.6962890625, 'crossentropy': 1.1185073852539062}\n",
      "RestoringEarlyStopping: 13 / 20\n"
     ]
    },
    {
     "data": {
      "application/vnd.jupyter.widget-view+json": {
       "model_id": "",
       "version_major": 2,
       "version_minor": 0
      },
      "text/plain": [
       "[1/16]   6%|6          [00:00<?]"
      ]
     },
     "metadata": {},
     "output_type": "display_data"
    },
    {
     "name": "stdout",
     "output_type": "stream",
     "text": [
      "Epoch metrics: {'accuracy': 0.6943359375, 'crossentropy': 1.1397669315338135}\n",
      "RestoringEarlyStopping: 14 / 20\n"
     ]
    },
    {
     "data": {
      "application/vnd.jupyter.widget-view+json": {
       "model_id": "",
       "version_major": 2,
       "version_minor": 0
      },
      "text/plain": [
       "[1/16]   6%|6          [00:00<?]"
      ]
     },
     "metadata": {},
     "output_type": "display_data"
    },
    {
     "name": "stdout",
     "output_type": "stream",
     "text": [
      "Epoch metrics: {'accuracy': 0.66796875, 'crossentropy': 1.2217668294906616}\n",
      "RestoringEarlyStopping: 15 / 20\n"
     ]
    },
    {
     "data": {
      "application/vnd.jupyter.widget-view+json": {
       "model_id": "",
       "version_major": 2,
       "version_minor": 0
      },
      "text/plain": [
       "[1/16]   6%|6          [00:00<?]"
      ]
     },
     "metadata": {},
     "output_type": "display_data"
    },
    {
     "name": "stdout",
     "output_type": "stream",
     "text": [
      "Epoch metrics: {'accuracy': 0.6845703125, 'crossentropy': 1.122391700744629}\n",
      "RestoringEarlyStopping: 16 / 20\n"
     ]
    },
    {
     "data": {
      "application/vnd.jupyter.widget-view+json": {
       "model_id": "",
       "version_major": 2,
       "version_minor": 0
      },
      "text/plain": [
       "[1/16]   6%|6          [00:00<?]"
      ]
     },
     "metadata": {},
     "output_type": "display_data"
    },
    {
     "name": "stdout",
     "output_type": "stream",
     "text": [
      "Epoch metrics: {'accuracy': 0.6748046875, 'crossentropy': 1.1272904872894287}\n",
      "RestoringEarlyStopping: 17 / 20\n"
     ]
    },
    {
     "data": {
      "application/vnd.jupyter.widget-view+json": {
       "model_id": "",
       "version_major": 2,
       "version_minor": 0
      },
      "text/plain": [
       "[1/16]   6%|6          [00:00<?]"
      ]
     },
     "metadata": {},
     "output_type": "display_data"
    },
    {
     "name": "stdout",
     "output_type": "stream",
     "text": [
      "Epoch metrics: {'accuracy': 0.68359375, 'crossentropy': 1.1383116245269775}\n",
      "RestoringEarlyStopping: 18 / 20\n"
     ]
    },
    {
     "data": {
      "application/vnd.jupyter.widget-view+json": {
       "model_id": "",
       "version_major": 2,
       "version_minor": 0
      },
      "text/plain": [
       "[1/16]   6%|6          [00:00<?]"
      ]
     },
     "metadata": {},
     "output_type": "display_data"
    },
    {
     "name": "stdout",
     "output_type": "stream",
     "text": [
      "Epoch metrics: {'accuracy': 0.66015625, 'crossentropy': 1.1926709413528442}\n",
      "RestoringEarlyStopping: 19 / 20\n"
     ]
    },
    {
     "data": {
      "application/vnd.jupyter.widget-view+json": {
       "model_id": "",
       "version_major": 2,
       "version_minor": 0
      },
      "text/plain": [
       "[1/16]   6%|6          [00:00<?]"
      ]
     },
     "metadata": {},
     "output_type": "display_data"
    },
    {
     "name": "stdout",
     "output_type": "stream",
     "text": [
      "Epoch metrics: {'accuracy': 0.681640625, 'crossentropy': 1.1588342189788818}\n",
      "RestoringEarlyStopping: 20 / 20\n",
      "RestoringEarlyStopping: Out of patience\n",
      "RestoringEarlyStopping: Restoring best parameters. (Score: 0.70703125)\n",
      "RestoringEarlyStopping: Restoring optimizer.\n",
      "{'model_training/val_metrics': <wandb.data_types.Table object at 0x7feeb4cca670>, 'model_training/best_epoch': 24, 'model_training/best_val_accuracy': 0.70703125, 'model_training/best_val_crossentropy': 1.0820726156234741}\n"
     ]
    },
    {
     "data": {
      "application/vnd.jupyter.widget-view+json": {
       "model_id": "",
       "version_major": 2,
       "version_minor": 0
      },
      "text/plain": [
       "[1/79]   1%|1          [00:00<?]"
      ]
     },
     "metadata": {},
     "output_type": "display_data"
    },
    {
     "name": "stdout",
     "output_type": "stream",
     "text": [
      "Perf after training {'accuracy': 0.717, 'crossentropy': 1.01125322265625, '_timestamp': 1650399275, '_runtime': 61}\n"
     ]
    },
    {
     "data": {
      "application/vnd.jupyter.widget-view+json": {
       "model_id": "",
       "version_major": 2,
       "version_minor": 0
      },
      "text/plain": [
       "get_predictions_labels:   0%|          | 0/2007000 [00:00<?, ?it/s]"
      ]
     },
     "metadata": {},
     "output_type": "display_data"
    },
    {
     "name": "stdout",
     "output_type": "stream",
     "text": [
      "Online Training Size/Num Samples/Trial: 25/10/0\n",
      "OBIPerformance(total_training_set_size=25, real_training_set_size=25, online_training_set_size=25, trial_index=0, num_samples=10, accuracy=0.71670001745224, crossentropy=1.0214773416519165)\n",
      "Online Training Size/Num Samples/Trial: 25/10/1\n",
      "OBIPerformance(total_training_set_size=25, real_training_set_size=25, online_training_set_size=25, trial_index=1, num_samples=10, accuracy=0.723800003528595, crossentropy=0.9048498868942261)\n",
      "Online Training Size/Num Samples/Trial: 25/10/2\n",
      "OBIPerformance(total_training_set_size=25, real_training_set_size=25, online_training_set_size=25, trial_index=2, num_samples=10, accuracy=0.7107999920845032, crossentropy=1.0695911645889282)\n",
      "Online Training Size/Num Samples/Trial: 25/10/3\n",
      "OBIPerformance(total_training_set_size=25, real_training_set_size=25, online_training_set_size=25, trial_index=3, num_samples=10, accuracy=0.7063000202178955, crossentropy=1.1058127880096436)\n",
      "Online Training Size/Num Samples/Trial: 25/10/4\n",
      "OBIPerformance(total_training_set_size=25, real_training_set_size=25, online_training_set_size=25, trial_index=4, num_samples=10, accuracy=0.7060999870300293, crossentropy=1.2342642545700073)\n",
      "Online Training Size/Num Samples/Trial: 25/100/0\n",
      "OBIPerformance(total_training_set_size=25, real_training_set_size=25, online_training_set_size=25, trial_index=0, num_samples=100, accuracy=0.7172999978065491, crossentropy=0.9332746863365173)\n",
      "Online Training Size/Num Samples/Trial: 25/100/1\n",
      "OBIPerformance(total_training_set_size=25, real_training_set_size=25, online_training_set_size=25, trial_index=1, num_samples=100, accuracy=0.7210000157356262, crossentropy=0.9097136855125427)\n",
      "Online Training Size/Num Samples/Trial: 25/100/2\n",
      "OBIPerformance(total_training_set_size=25, real_training_set_size=25, online_training_set_size=25, trial_index=2, num_samples=100, accuracy=0.714900016784668, crossentropy=0.9650574922561646)\n",
      "Online Training Size/Num Samples/Trial: 25/100/3\n",
      "OBIPerformance(total_training_set_size=25, real_training_set_size=25, online_training_set_size=25, trial_index=3, num_samples=100, accuracy=0.7182999849319458, crossentropy=0.9427382946014404)\n",
      "Online Training Size/Num Samples/Trial: 25/100/4\n",
      "OBIPerformance(total_training_set_size=25, real_training_set_size=25, online_training_set_size=25, trial_index=4, num_samples=100, accuracy=0.7215999960899353, crossentropy=0.9262194633483887)\n",
      "Online Training Size/Num Samples/Trial: 26/10/0\n",
      "OBIPerformance(total_training_set_size=26, real_training_set_size=25, online_training_set_size=26, trial_index=0, num_samples=10, accuracy=0.6837999820709229, crossentropy=1.1991385221481323)\n",
      "Online Training Size/Num Samples/Trial: 26/10/1\n",
      "OBIPerformance(total_training_set_size=26, real_training_set_size=25, online_training_set_size=26, trial_index=1, num_samples=10, accuracy=0.6741999983787537, crossentropy=1.1905337572097778)\n",
      "Online Training Size/Num Samples/Trial: 26/10/2\n",
      "OBIPerformance(total_training_set_size=26, real_training_set_size=25, online_training_set_size=26, trial_index=2, num_samples=10, accuracy=0.6075999736785889, crossentropy=1.641159176826477)\n",
      "Online Training Size/Num Samples/Trial: 26/10/3\n",
      "OBIPerformance(total_training_set_size=26, real_training_set_size=25, online_training_set_size=26, trial_index=3, num_samples=10, accuracy=0.6995000243186951, crossentropy=1.1466898918151855)\n",
      "Online Training Size/Num Samples/Trial: 26/10/4\n",
      "OBIPerformance(total_training_set_size=26, real_training_set_size=25, online_training_set_size=26, trial_index=4, num_samples=10, accuracy=0.6561999917030334, crossentropy=1.4110352993011475)\n",
      "Online Training Size/Num Samples/Trial: 26/100/0\n",
      "OBIPerformance(total_training_set_size=26, real_training_set_size=25, online_training_set_size=26, trial_index=0, num_samples=100, accuracy=0.699400007724762, crossentropy=0.9945628046989441)\n",
      "Online Training Size/Num Samples/Trial: 26/100/1\n",
      "OBIPerformance(total_training_set_size=26, real_training_set_size=25, online_training_set_size=26, trial_index=1, num_samples=100, accuracy=0.6984999775886536, crossentropy=0.9945120811462402)\n",
      "Online Training Size/Num Samples/Trial: 26/100/2\n",
      "OBIPerformance(total_training_set_size=26, real_training_set_size=25, online_training_set_size=26, trial_index=2, num_samples=100, accuracy=0.7020999789237976, crossentropy=0.9641451239585876)\n",
      "Online Training Size/Num Samples/Trial: 26/100/3\n",
      "OBIPerformance(total_training_set_size=26, real_training_set_size=25, online_training_set_size=26, trial_index=3, num_samples=100, accuracy=0.7085999846458435, crossentropy=1.0002361536026)\n",
      "Online Training Size/Num Samples/Trial: 26/100/4\n",
      "OBIPerformance(total_training_set_size=26, real_training_set_size=25, online_training_set_size=26, trial_index=4, num_samples=100, accuracy=0.7107999920845032, crossentropy=0.9686326384544373)\n",
      "Online Training Size/Num Samples/Trial: 27/10/0\n",
      "OBIPerformance(total_training_set_size=27, real_training_set_size=25, online_training_set_size=27, trial_index=0, num_samples=10, accuracy=0.6521000266075134, crossentropy=1.4259721040725708)\n",
      "Online Training Size/Num Samples/Trial: 27/10/1\n",
      "OBIPerformance(total_training_set_size=27, real_training_set_size=25, online_training_set_size=27, trial_index=1, num_samples=10, accuracy=0.6692000031471252, crossentropy=1.4551246166229248)\n",
      "Online Training Size/Num Samples/Trial: 27/10/2\n",
      "OBIPerformance(total_training_set_size=27, real_training_set_size=25, online_training_set_size=27, trial_index=2, num_samples=10, accuracy=0.6201000213623047, crossentropy=1.5723767280578613)\n",
      "Online Training Size/Num Samples/Trial: 27/10/3\n",
      "OBIPerformance(total_training_set_size=27, real_training_set_size=25, online_training_set_size=27, trial_index=3, num_samples=10, accuracy=0.7106000185012817, crossentropy=1.170883059501648)\n",
      "Online Training Size/Num Samples/Trial: 27/10/4\n",
      "OBIPerformance(total_training_set_size=27, real_training_set_size=25, online_training_set_size=27, trial_index=4, num_samples=10, accuracy=0.6337000131607056, crossentropy=1.4730921983718872)\n",
      "Online Training Size/Num Samples/Trial: 27/100/0\n",
      "OBIPerformance(total_training_set_size=27, real_training_set_size=25, online_training_set_size=27, trial_index=0, num_samples=100, accuracy=0.6973000168800354, crossentropy=0.9563875198364258)\n",
      "Online Training Size/Num Samples/Trial: 27/100/1\n",
      "OBIPerformance(total_training_set_size=27, real_training_set_size=25, online_training_set_size=27, trial_index=1, num_samples=100, accuracy=0.696399986743927, crossentropy=0.9419617056846619)\n",
      "Online Training Size/Num Samples/Trial: 27/100/2\n",
      "OBIPerformance(total_training_set_size=27, real_training_set_size=25, online_training_set_size=27, trial_index=2, num_samples=100, accuracy=0.6746000051498413, crossentropy=1.0705177783966064)\n",
      "Online Training Size/Num Samples/Trial: 27/100/3\n",
      "OBIPerformance(total_training_set_size=27, real_training_set_size=25, online_training_set_size=27, trial_index=3, num_samples=100, accuracy=0.695900022983551, crossentropy=1.0103552341461182)\n",
      "Online Training Size/Num Samples/Trial: 27/100/4\n",
      "OBIPerformance(total_training_set_size=27, real_training_set_size=25, online_training_set_size=27, trial_index=4, num_samples=100, accuracy=0.694100022315979, crossentropy=0.9390249252319336)\n",
      "Online Training Size/Num Samples/Trial: 28/10/0\n",
      "OBIPerformance(total_training_set_size=28, real_training_set_size=25, online_training_set_size=28, trial_index=0, num_samples=10, accuracy=0.6317999958992004, crossentropy=1.0953665971755981)\n",
      "Online Training Size/Num Samples/Trial: 28/10/1\n",
      "OBIPerformance(total_training_set_size=28, real_training_set_size=25, online_training_set_size=28, trial_index=1, num_samples=10, accuracy=0.5917999744415283, crossentropy=2.1471567153930664)\n",
      "Online Training Size/Num Samples/Trial: 28/10/2\n",
      "OBIPerformance(total_training_set_size=28, real_training_set_size=25, online_training_set_size=28, trial_index=2, num_samples=10, accuracy=0.5925999879837036, crossentropy=1.774548053741455)\n",
      "Online Training Size/Num Samples/Trial: 28/10/3\n",
      "OBIPerformance(total_training_set_size=28, real_training_set_size=25, online_training_set_size=28, trial_index=3, num_samples=10, accuracy=0.6553999781608582, crossentropy=1.3731272220611572)\n",
      "Online Training Size/Num Samples/Trial: 28/10/4\n",
      "OBIPerformance(total_training_set_size=28, real_training_set_size=25, online_training_set_size=28, trial_index=4, num_samples=10, accuracy=0.6175000071525574, crossentropy=1.8959685564041138)\n",
      "Online Training Size/Num Samples/Trial: 28/100/0\n",
      "OBIPerformance(total_training_set_size=28, real_training_set_size=25, online_training_set_size=28, trial_index=0, num_samples=100, accuracy=0.6809999942779541, crossentropy=0.9858848452568054)\n",
      "Online Training Size/Num Samples/Trial: 28/100/1\n",
      "OBIPerformance(total_training_set_size=28, real_training_set_size=25, online_training_set_size=28, trial_index=1, num_samples=100, accuracy=0.642300009727478, crossentropy=1.1430566310882568)\n",
      "Online Training Size/Num Samples/Trial: 28/100/2\n",
      "OBIPerformance(total_training_set_size=28, real_training_set_size=25, online_training_set_size=28, trial_index=2, num_samples=100, accuracy=0.6480000019073486, crossentropy=1.058159589767456)\n",
      "Online Training Size/Num Samples/Trial: 28/100/3\n",
      "OBIPerformance(total_training_set_size=28, real_training_set_size=25, online_training_set_size=28, trial_index=3, num_samples=100, accuracy=0.6510000228881836, crossentropy=1.1805380582809448)\n",
      "Online Training Size/Num Samples/Trial: 28/100/4\n",
      "OBIPerformance(total_training_set_size=28, real_training_set_size=25, online_training_set_size=28, trial_index=4, num_samples=100, accuracy=0.638700008392334, crossentropy=1.2203811407089233)\n",
      "Online Training Size/Num Samples/Trial: 29/10/0\n",
      "OBIPerformance(total_training_set_size=29, real_training_set_size=25, online_training_set_size=29, trial_index=0, num_samples=10, accuracy=0.660099983215332, crossentropy=1.2157318592071533)\n",
      "Online Training Size/Num Samples/Trial: 29/10/1\n",
      "OBIPerformance(total_training_set_size=29, real_training_set_size=25, online_training_set_size=29, trial_index=1, num_samples=10, accuracy=0.6872000098228455, crossentropy=1.1221799850463867)\n",
      "Online Training Size/Num Samples/Trial: 29/10/2\n",
      "OBIPerformance(total_training_set_size=29, real_training_set_size=25, online_training_set_size=29, trial_index=2, num_samples=10, accuracy=0.6725999712944031, crossentropy=1.7536324262619019)\n",
      "Online Training Size/Num Samples/Trial: 29/10/3\n",
      "OBIPerformance(total_training_set_size=29, real_training_set_size=25, online_training_set_size=29, trial_index=3, num_samples=10, accuracy=0.6825000047683716, crossentropy=1.3169351816177368)\n",
      "Online Training Size/Num Samples/Trial: 29/10/4\n",
      "OBIPerformance(total_training_set_size=29, real_training_set_size=25, online_training_set_size=29, trial_index=4, num_samples=10, accuracy=0.6553999781608582, crossentropy=1.374871015548706)\n",
      "Online Training Size/Num Samples/Trial: 29/100/0\n",
      "OBIPerformance(total_training_set_size=29, real_training_set_size=25, online_training_set_size=29, trial_index=0, num_samples=100, accuracy=0.6775000095367432, crossentropy=1.0049536228179932)\n",
      "Online Training Size/Num Samples/Trial: 29/100/1\n",
      "OBIPerformance(total_training_set_size=29, real_training_set_size=25, online_training_set_size=29, trial_index=1, num_samples=100, accuracy=0.6776999831199646, crossentropy=1.0105609893798828)\n",
      "Online Training Size/Num Samples/Trial: 29/100/2\n",
      "OBIPerformance(total_training_set_size=29, real_training_set_size=25, online_training_set_size=29, trial_index=2, num_samples=100, accuracy=0.6632000207901001, crossentropy=1.1393691301345825)\n",
      "Online Training Size/Num Samples/Trial: 29/100/3\n",
      "OBIPerformance(total_training_set_size=29, real_training_set_size=25, online_training_set_size=29, trial_index=3, num_samples=100, accuracy=0.6636999845504761, crossentropy=1.089890956878662)\n",
      "Online Training Size/Num Samples/Trial: 29/100/4\n",
      "OBIPerformance(total_training_set_size=29, real_training_set_size=25, online_training_set_size=29, trial_index=4, num_samples=100, accuracy=0.6638000011444092, crossentropy=1.0904338359832764)\n",
      "Online Training Size/Num Samples/Trial: 30/10/0\n",
      "OBIPerformance(total_training_set_size=30, real_training_set_size=25, online_training_set_size=30, trial_index=0, num_samples=10, accuracy=0.6498000025749207, crossentropy=1.2659004926681519)\n",
      "Online Training Size/Num Samples/Trial: 30/10/1\n",
      "OBIPerformance(total_training_set_size=30, real_training_set_size=25, online_training_set_size=30, trial_index=1, num_samples=10, accuracy=0.5673999786376953, crossentropy=2.045170783996582)\n",
      "Online Training Size/Num Samples/Trial: 30/10/2\n",
      "OBIPerformance(total_training_set_size=30, real_training_set_size=25, online_training_set_size=30, trial_index=2, num_samples=10, accuracy=0.6424999833106995, crossentropy=1.7063661813735962)\n",
      "Online Training Size/Num Samples/Trial: 30/10/3\n",
      "OBIPerformance(total_training_set_size=30, real_training_set_size=25, online_training_set_size=30, trial_index=3, num_samples=10, accuracy=0.6262999773025513, crossentropy=1.6618527173995972)\n",
      "Online Training Size/Num Samples/Trial: 30/10/4\n",
      "OBIPerformance(total_training_set_size=30, real_training_set_size=25, online_training_set_size=30, trial_index=4, num_samples=10, accuracy=0.6425999999046326, crossentropy=1.7021478414535522)\n",
      "Online Training Size/Num Samples/Trial: 30/100/0\n",
      "OBIPerformance(total_training_set_size=30, real_training_set_size=25, online_training_set_size=30, trial_index=0, num_samples=100, accuracy=0.7107999920845032, crossentropy=0.8903203010559082)\n",
      "Online Training Size/Num Samples/Trial: 30/100/1\n",
      "OBIPerformance(total_training_set_size=30, real_training_set_size=25, online_training_set_size=30, trial_index=1, num_samples=100, accuracy=0.7049999833106995, crossentropy=0.9266240000724792)\n",
      "Online Training Size/Num Samples/Trial: 30/100/2\n",
      "OBIPerformance(total_training_set_size=30, real_training_set_size=25, online_training_set_size=30, trial_index=2, num_samples=100, accuracy=0.7111999988555908, crossentropy=0.8882027268409729)\n",
      "Online Training Size/Num Samples/Trial: 30/100/3\n",
      "OBIPerformance(total_training_set_size=30, real_training_set_size=25, online_training_set_size=30, trial_index=3, num_samples=100, accuracy=0.6996999979019165, crossentropy=0.9579876065254211)\n",
      "Online Training Size/Num Samples/Trial: 30/100/4\n",
      "OBIPerformance(total_training_set_size=30, real_training_set_size=25, online_training_set_size=30, trial_index=4, num_samples=100, accuracy=0.7107999920845032, crossentropy=0.8782379627227783)\n",
      "Online Training Size/Num Samples/Trial: 31/10/0\n",
      "OBIPerformance(total_training_set_size=31, real_training_set_size=25, online_training_set_size=31, trial_index=0, num_samples=10, accuracy=0.6269000172615051, crossentropy=1.3610355854034424)\n",
      "Online Training Size/Num Samples/Trial: 31/10/1\n",
      "OBIPerformance(total_training_set_size=31, real_training_set_size=25, online_training_set_size=31, trial_index=1, num_samples=10, accuracy=0.6582000255584717, crossentropy=1.3408023118972778)\n",
      "Online Training Size/Num Samples/Trial: 31/10/2\n",
      "OBIPerformance(total_training_set_size=31, real_training_set_size=25, online_training_set_size=31, trial_index=2, num_samples=10, accuracy=0.6089000105857849, crossentropy=1.5909539461135864)\n",
      "Online Training Size/Num Samples/Trial: 31/10/3\n",
      "OBIPerformance(total_training_set_size=31, real_training_set_size=25, online_training_set_size=31, trial_index=3, num_samples=10, accuracy=0.6111000180244446, crossentropy=1.7525378465652466)\n",
      "Online Training Size/Num Samples/Trial: 31/10/4\n",
      "OBIPerformance(total_training_set_size=31, real_training_set_size=25, online_training_set_size=31, trial_index=4, num_samples=10, accuracy=0.659600019454956, crossentropy=1.2206311225891113)\n",
      "Online Training Size/Num Samples/Trial: 31/100/0\n",
      "OBIPerformance(total_training_set_size=31, real_training_set_size=25, online_training_set_size=31, trial_index=0, num_samples=100, accuracy=0.6603000164031982, crossentropy=1.0198012590408325)\n",
      "Online Training Size/Num Samples/Trial: 31/100/1\n",
      "OBIPerformance(total_training_set_size=31, real_training_set_size=25, online_training_set_size=31, trial_index=1, num_samples=100, accuracy=0.6625000238418579, crossentropy=1.105876088142395)\n",
      "Online Training Size/Num Samples/Trial: 31/100/2\n",
      "OBIPerformance(total_training_set_size=31, real_training_set_size=25, online_training_set_size=31, trial_index=2, num_samples=100, accuracy=0.6331999897956848, crossentropy=1.2696195840835571)\n",
      "Online Training Size/Num Samples/Trial: 31/100/3\n",
      "OBIPerformance(total_training_set_size=31, real_training_set_size=25, online_training_set_size=31, trial_index=3, num_samples=100, accuracy=0.6740000247955322, crossentropy=1.1784697771072388)\n",
      "Online Training Size/Num Samples/Trial: 31/100/4\n",
      "OBIPerformance(total_training_set_size=31, real_training_set_size=25, online_training_set_size=31, trial_index=4, num_samples=100, accuracy=0.6783000230789185, crossentropy=1.133583426475525)\n",
      "Online Training Size/Num Samples/Trial: 32/10/0\n",
      "OBIPerformance(total_training_set_size=32, real_training_set_size=25, online_training_set_size=32, trial_index=0, num_samples=10, accuracy=0.6759999990463257, crossentropy=1.3635510206222534)\n",
      "Online Training Size/Num Samples/Trial: 32/10/1\n",
      "OBIPerformance(total_training_set_size=32, real_training_set_size=25, online_training_set_size=32, trial_index=1, num_samples=10, accuracy=0.6553999781608582, crossentropy=1.3801164627075195)\n",
      "Online Training Size/Num Samples/Trial: 32/10/2\n",
      "OBIPerformance(total_training_set_size=32, real_training_set_size=25, online_training_set_size=32, trial_index=2, num_samples=10, accuracy=0.660099983215332, crossentropy=1.217561960220337)\n",
      "Online Training Size/Num Samples/Trial: 32/10/3\n",
      "OBIPerformance(total_training_set_size=32, real_training_set_size=25, online_training_set_size=32, trial_index=3, num_samples=10, accuracy=0.660099983215332, crossentropy=1.2165735960006714)\n",
      "Online Training Size/Num Samples/Trial: 32/10/4\n",
      "OBIPerformance(total_training_set_size=32, real_training_set_size=25, online_training_set_size=32, trial_index=4, num_samples=10, accuracy=0.6194000244140625, crossentropy=1.6317294836044312)\n",
      "Online Training Size/Num Samples/Trial: 32/100/0\n",
      "OBIPerformance(total_training_set_size=32, real_training_set_size=25, online_training_set_size=32, trial_index=0, num_samples=100, accuracy=0.7019000053405762, crossentropy=0.9489039182662964)\n",
      "Online Training Size/Num Samples/Trial: 32/100/1\n",
      "OBIPerformance(total_training_set_size=32, real_training_set_size=25, online_training_set_size=32, trial_index=1, num_samples=100, accuracy=0.7013999819755554, crossentropy=0.9587455987930298)\n",
      "Online Training Size/Num Samples/Trial: 32/100/2\n",
      "OBIPerformance(total_training_set_size=32, real_training_set_size=25, online_training_set_size=32, trial_index=2, num_samples=100, accuracy=0.6984999775886536, crossentropy=0.9849599599838257)\n",
      "Online Training Size/Num Samples/Trial: 32/100/3\n",
      "OBIPerformance(total_training_set_size=32, real_training_set_size=25, online_training_set_size=32, trial_index=3, num_samples=100, accuracy=0.6984999775886536, crossentropy=0.9856892824172974)\n",
      "Online Training Size/Num Samples/Trial: 32/100/4\n",
      "OBIPerformance(total_training_set_size=32, real_training_set_size=25, online_training_set_size=32, trial_index=4, num_samples=100, accuracy=0.7013999819755554, crossentropy=0.9584519267082214)\n",
      "Online Training Size/Num Samples/Trial: 33/10/0\n",
      "OBIPerformance(total_training_set_size=33, real_training_set_size=25, online_training_set_size=33, trial_index=0, num_samples=10, accuracy=0.6984000205993652, crossentropy=1.1247230768203735)\n",
      "Online Training Size/Num Samples/Trial: 33/10/1\n",
      "OBIPerformance(total_training_set_size=33, real_training_set_size=25, online_training_set_size=33, trial_index=1, num_samples=10, accuracy=0.6269000172615051, crossentropy=1.3610352277755737)\n",
      "Online Training Size/Num Samples/Trial: 33/10/2\n",
      "OBIPerformance(total_training_set_size=33, real_training_set_size=25, online_training_set_size=33, trial_index=2, num_samples=10, accuracy=0.6197999715805054, crossentropy=1.6165968179702759)\n",
      "Online Training Size/Num Samples/Trial: 33/10/3\n",
      "OBIPerformance(total_training_set_size=33, real_training_set_size=25, online_training_set_size=33, trial_index=3, num_samples=10, accuracy=0.7017999887466431, crossentropy=1.2869350910186768)\n",
      "Online Training Size/Num Samples/Trial: 33/10/4\n",
      "OBIPerformance(total_training_set_size=33, real_training_set_size=25, online_training_set_size=33, trial_index=4, num_samples=10, accuracy=0.6345000267028809, crossentropy=1.3296948671340942)\n",
      "Online Training Size/Num Samples/Trial: 33/100/0\n",
      "OBIPerformance(total_training_set_size=33, real_training_set_size=25, online_training_set_size=33, trial_index=0, num_samples=100, accuracy=0.6273999810218811, crossentropy=1.3407319784164429)\n",
      "Online Training Size/Num Samples/Trial: 33/100/1\n",
      "OBIPerformance(total_training_set_size=33, real_training_set_size=25, online_training_set_size=33, trial_index=1, num_samples=100, accuracy=0.6980000138282776, crossentropy=0.9154353737831116)\n",
      "Online Training Size/Num Samples/Trial: 33/100/2\n",
      "OBIPerformance(total_training_set_size=33, real_training_set_size=25, online_training_set_size=33, trial_index=2, num_samples=100, accuracy=0.6668999791145325, crossentropy=1.0908007621765137)\n",
      "Online Training Size/Num Samples/Trial: 33/100/3\n",
      "OBIPerformance(total_training_set_size=33, real_training_set_size=25, online_training_set_size=33, trial_index=3, num_samples=100, accuracy=0.6668999791145325, crossentropy=1.090896487236023)\n",
      "Online Training Size/Num Samples/Trial: 33/100/4\n",
      "OBIPerformance(total_training_set_size=33, real_training_set_size=25, online_training_set_size=33, trial_index=4, num_samples=100, accuracy=0.6668999791145325, crossentropy=1.0908043384552002)\n",
      "Online Training Size/Num Samples/Trial: 34/10/0\n",
      "OBIPerformance(total_training_set_size=34, real_training_set_size=25, online_training_set_size=34, trial_index=0, num_samples=10, accuracy=0.6049000024795532, crossentropy=1.820210337638855)\n",
      "Online Training Size/Num Samples/Trial: 34/10/1\n",
      "OBIPerformance(total_training_set_size=34, real_training_set_size=25, online_training_set_size=34, trial_index=1, num_samples=10, accuracy=0.698199987411499, crossentropy=1.0123878717422485)\n",
      "Online Training Size/Num Samples/Trial: 34/10/2\n",
      "OBIPerformance(total_training_set_size=34, real_training_set_size=25, online_training_set_size=34, trial_index=2, num_samples=10, accuracy=0.6089000105857849, crossentropy=1.5904085636138916)\n",
      "Online Training Size/Num Samples/Trial: 34/10/3\n",
      "OBIPerformance(total_training_set_size=34, real_training_set_size=25, online_training_set_size=34, trial_index=3, num_samples=10, accuracy=0.6194999814033508, crossentropy=1.368219017982483)\n",
      "Online Training Size/Num Samples/Trial: 34/10/4\n",
      "OBIPerformance(total_training_set_size=34, real_training_set_size=25, online_training_set_size=34, trial_index=4, num_samples=10, accuracy=0.6553999781608582, crossentropy=1.3810091018676758)\n",
      "Online Training Size/Num Samples/Trial: 34/100/0\n",
      "OBIPerformance(total_training_set_size=34, real_training_set_size=25, online_training_set_size=34, trial_index=0, num_samples=100, accuracy=0.659500002861023, crossentropy=1.2026808261871338)\n",
      "Online Training Size/Num Samples/Trial: 34/100/1\n",
      "OBIPerformance(total_training_set_size=34, real_training_set_size=25, online_training_set_size=34, trial_index=1, num_samples=100, accuracy=0.6384999752044678, crossentropy=1.1443841457366943)\n",
      "Online Training Size/Num Samples/Trial: 34/100/2\n",
      "OBIPerformance(total_training_set_size=34, real_training_set_size=25, online_training_set_size=34, trial_index=2, num_samples=100, accuracy=0.6816999912261963, crossentropy=1.1357216835021973)\n",
      "Online Training Size/Num Samples/Trial: 34/100/3\n",
      "OBIPerformance(total_training_set_size=34, real_training_set_size=25, online_training_set_size=34, trial_index=3, num_samples=100, accuracy=0.6699000000953674, crossentropy=1.0738900899887085)\n",
      "Online Training Size/Num Samples/Trial: 34/100/4\n",
      "OBIPerformance(total_training_set_size=34, real_training_set_size=25, online_training_set_size=34, trial_index=4, num_samples=100, accuracy=0.670199990272522, crossentropy=1.1128253936767578)\n",
      "Online Training Size/Num Samples/Trial: 35/10/0\n",
      "OBIPerformance(total_training_set_size=35, real_training_set_size=25, online_training_set_size=35, trial_index=0, num_samples=10, accuracy=0.6424000263214111, crossentropy=1.7428853511810303)\n",
      "Online Training Size/Num Samples/Trial: 35/10/1\n",
      "OBIPerformance(total_training_set_size=35, real_training_set_size=25, online_training_set_size=35, trial_index=1, num_samples=10, accuracy=0.6194000244140625, crossentropy=1.6318206787109375)\n",
      "Online Training Size/Num Samples/Trial: 35/10/2\n",
      "OBIPerformance(total_training_set_size=35, real_training_set_size=25, online_training_set_size=35, trial_index=2, num_samples=10, accuracy=0.6082000136375427, crossentropy=1.6774917840957642)\n",
      "Online Training Size/Num Samples/Trial: 35/10/3\n",
      "OBIPerformance(total_training_set_size=35, real_training_set_size=25, online_training_set_size=35, trial_index=3, num_samples=10, accuracy=0.6553999781608582, crossentropy=1.3810083866119385)\n",
      "Online Training Size/Num Samples/Trial: 35/10/4\n",
      "OBIPerformance(total_training_set_size=35, real_training_set_size=25, online_training_set_size=35, trial_index=4, num_samples=10, accuracy=0.5885000228881836, crossentropy=2.0655782222747803)\n",
      "Online Training Size/Num Samples/Trial: 35/100/0\n",
      "OBIPerformance(total_training_set_size=35, real_training_set_size=25, online_training_set_size=35, trial_index=0, num_samples=100, accuracy=0.6413000226020813, crossentropy=1.1288611888885498)\n",
      "Online Training Size/Num Samples/Trial: 35/100/1\n",
      "OBIPerformance(total_training_set_size=35, real_training_set_size=25, online_training_set_size=35, trial_index=1, num_samples=100, accuracy=0.664900004863739, crossentropy=1.106507420539856)\n",
      "Online Training Size/Num Samples/Trial: 35/100/2\n",
      "OBIPerformance(total_training_set_size=35, real_training_set_size=25, online_training_set_size=35, trial_index=2, num_samples=100, accuracy=0.6640999913215637, crossentropy=1.1200599670410156)\n",
      "Online Training Size/Num Samples/Trial: 35/100/3\n",
      "OBIPerformance(total_training_set_size=35, real_training_set_size=25, online_training_set_size=35, trial_index=3, num_samples=100, accuracy=0.6985999941825867, crossentropy=0.968167781829834)\n",
      "Online Training Size/Num Samples/Trial: 35/100/4\n",
      "OBIPerformance(total_training_set_size=35, real_training_set_size=25, online_training_set_size=35, trial_index=4, num_samples=100, accuracy=0.6601999998092651, crossentropy=1.1830369234085083)\n",
      "OBIPerformance(total_training_set_size=10025, real_training_set_size=25, online_training_set_size=10000, trial_index=0, num_samples=200, accuracy=0.7335000038146973, crossentropy=0.8218143582344055)\n",
      "Training set size 30:\n"
     ]
    },
    {
     "data": {
      "application/vnd.jupyter.widget-view+json": {
       "model_id": "be45462c8ea84d0e92a8b2b9be75e7ef",
       "version_major": 2,
       "version_minor": 0
      },
      "text/plain": [
       "  1%|          | 1/120 [00:00<?, ?it/s]"
      ]
     },
     "metadata": {},
     "output_type": "display_data"
    },
    {
     "data": {
      "application/vnd.jupyter.widget-view+json": {
       "model_id": "",
       "version_major": 2,
       "version_minor": 0
      },
      "text/plain": [
       "[1/16]   6%|6          [00:00<?]"
      ]
     },
     "metadata": {},
     "output_type": "display_data"
    },
    {
     "name": "stdout",
     "output_type": "stream",
     "text": [
      "Epoch metrics: {'accuracy': 0.4755859375, 'crossentropy': 1.9365075826644897}\n"
     ]
    },
    {
     "data": {
      "application/vnd.jupyter.widget-view+json": {
       "model_id": "",
       "version_major": 2,
       "version_minor": 0
      },
      "text/plain": [
       "[1/16]   6%|6          [00:00<?]"
      ]
     },
     "metadata": {},
     "output_type": "display_data"
    },
    {
     "name": "stdout",
     "output_type": "stream",
     "text": [
      "Epoch metrics: {'accuracy': 0.5859375, 'crossentropy': 1.2988812923431396}\n"
     ]
    },
    {
     "data": {
      "application/vnd.jupyter.widget-view+json": {
       "model_id": "",
       "version_major": 2,
       "version_minor": 0
      },
      "text/plain": [
       "[1/16]   6%|6          [00:00<?]"
      ]
     },
     "metadata": {},
     "output_type": "display_data"
    },
    {
     "name": "stdout",
     "output_type": "stream",
     "text": [
      "Epoch metrics: {'accuracy': 0.6552734375, 'crossentropy': 1.0720024108886719}\n"
     ]
    },
    {
     "data": {
      "application/vnd.jupyter.widget-view+json": {
       "model_id": "",
       "version_major": 2,
       "version_minor": 0
      },
      "text/plain": [
       "[1/16]   6%|6          [00:00<?]"
      ]
     },
     "metadata": {},
     "output_type": "display_data"
    },
    {
     "name": "stdout",
     "output_type": "stream",
     "text": [
      "Epoch metrics: {'accuracy': 0.6630859375, 'crossentropy': 1.0527043342590332}\n"
     ]
    },
    {
     "data": {
      "application/vnd.jupyter.widget-view+json": {
       "model_id": "",
       "version_major": 2,
       "version_minor": 0
      },
      "text/plain": [
       "[1/16]   6%|6          [00:00<?]"
      ]
     },
     "metadata": {},
     "output_type": "display_data"
    },
    {
     "name": "stdout",
     "output_type": "stream",
     "text": [
      "Epoch metrics: {'accuracy': 0.6923828125, 'crossentropy': 0.9618135690689087}\n"
     ]
    },
    {
     "data": {
      "application/vnd.jupyter.widget-view+json": {
       "model_id": "",
       "version_major": 2,
       "version_minor": 0
      },
      "text/plain": [
       "[1/16]   6%|6          [00:00<?]"
      ]
     },
     "metadata": {},
     "output_type": "display_data"
    },
    {
     "name": "stdout",
     "output_type": "stream",
     "text": [
      "Epoch metrics: {'accuracy': 0.6630859375, 'crossentropy': 1.0060240030288696}\n",
      "RestoringEarlyStopping: 1 / 20\n"
     ]
    },
    {
     "data": {
      "application/vnd.jupyter.widget-view+json": {
       "model_id": "",
       "version_major": 2,
       "version_minor": 0
      },
      "text/plain": [
       "[1/16]   6%|6          [00:00<?]"
      ]
     },
     "metadata": {},
     "output_type": "display_data"
    },
    {
     "name": "stdout",
     "output_type": "stream",
     "text": [
      "Epoch metrics: {'accuracy': 0.685546875, 'crossentropy': 1.0346741676330566}\n",
      "RestoringEarlyStopping: 2 / 20\n"
     ]
    },
    {
     "data": {
      "application/vnd.jupyter.widget-view+json": {
       "model_id": "",
       "version_major": 2,
       "version_minor": 0
      },
      "text/plain": [
       "[1/16]   6%|6          [00:00<?]"
      ]
     },
     "metadata": {},
     "output_type": "display_data"
    },
    {
     "name": "stdout",
     "output_type": "stream",
     "text": [
      "Epoch metrics: {'accuracy': 0.67578125, 'crossentropy': 0.994245171546936}\n",
      "RestoringEarlyStopping: 3 / 20\n"
     ]
    },
    {
     "data": {
      "application/vnd.jupyter.widget-view+json": {
       "model_id": "",
       "version_major": 2,
       "version_minor": 0
      },
      "text/plain": [
       "[1/16]   6%|6          [00:00<?]"
      ]
     },
     "metadata": {},
     "output_type": "display_data"
    },
    {
     "name": "stdout",
     "output_type": "stream",
     "text": [
      "Epoch metrics: {'accuracy': 0.689453125, 'crossentropy': 0.9833250641822815}\n",
      "RestoringEarlyStopping: 4 / 20\n"
     ]
    },
    {
     "data": {
      "application/vnd.jupyter.widget-view+json": {
       "model_id": "",
       "version_major": 2,
       "version_minor": 0
      },
      "text/plain": [
       "[1/16]   6%|6          [00:00<?]"
      ]
     },
     "metadata": {},
     "output_type": "display_data"
    },
    {
     "name": "stdout",
     "output_type": "stream",
     "text": [
      "Epoch metrics: {'accuracy': 0.689453125, 'crossentropy': 0.9997125267982483}\n",
      "RestoringEarlyStopping: 5 / 20\n"
     ]
    },
    {
     "data": {
      "application/vnd.jupyter.widget-view+json": {
       "model_id": "",
       "version_major": 2,
       "version_minor": 0
      },
      "text/plain": [
       "[1/16]   6%|6          [00:00<?]"
      ]
     },
     "metadata": {},
     "output_type": "display_data"
    },
    {
     "name": "stdout",
     "output_type": "stream",
     "text": [
      "Epoch metrics: {'accuracy': 0.7021484375, 'crossentropy': 0.9695551991462708}\n"
     ]
    },
    {
     "data": {
      "application/vnd.jupyter.widget-view+json": {
       "model_id": "",
       "version_major": 2,
       "version_minor": 0
      },
      "text/plain": [
       "[1/16]   6%|6          [00:00<?]"
      ]
     },
     "metadata": {},
     "output_type": "display_data"
    },
    {
     "name": "stdout",
     "output_type": "stream",
     "text": [
      "Epoch metrics: {'accuracy': 0.7021484375, 'crossentropy': 0.9893882274627686}\n",
      "RestoringEarlyStopping: 1 / 20\n"
     ]
    },
    {
     "data": {
      "application/vnd.jupyter.widget-view+json": {
       "model_id": "",
       "version_major": 2,
       "version_minor": 0
      },
      "text/plain": [
       "[1/16]   6%|6          [00:00<?]"
      ]
     },
     "metadata": {},
     "output_type": "display_data"
    },
    {
     "name": "stdout",
     "output_type": "stream",
     "text": [
      "Epoch metrics: {'accuracy': 0.705078125, 'crossentropy': 0.9860646724700928}\n"
     ]
    },
    {
     "data": {
      "application/vnd.jupyter.widget-view+json": {
       "model_id": "",
       "version_major": 2,
       "version_minor": 0
      },
      "text/plain": [
       "[1/16]   6%|6          [00:00<?]"
      ]
     },
     "metadata": {},
     "output_type": "display_data"
    },
    {
     "name": "stdout",
     "output_type": "stream",
     "text": [
      "Epoch metrics: {'accuracy': 0.671875, 'crossentropy': 1.1450977325439453}\n",
      "RestoringEarlyStopping: 1 / 20\n"
     ]
    },
    {
     "data": {
      "application/vnd.jupyter.widget-view+json": {
       "model_id": "",
       "version_major": 2,
       "version_minor": 0
      },
      "text/plain": [
       "[1/16]   6%|6          [00:00<?]"
      ]
     },
     "metadata": {},
     "output_type": "display_data"
    },
    {
     "name": "stdout",
     "output_type": "stream",
     "text": [
      "Epoch metrics: {'accuracy': 0.6982421875, 'crossentropy': 1.016077995300293}\n",
      "RestoringEarlyStopping: 2 / 20\n"
     ]
    },
    {
     "data": {
      "application/vnd.jupyter.widget-view+json": {
       "model_id": "",
       "version_major": 2,
       "version_minor": 0
      },
      "text/plain": [
       "[1/16]   6%|6          [00:00<?]"
      ]
     },
     "metadata": {},
     "output_type": "display_data"
    },
    {
     "name": "stdout",
     "output_type": "stream",
     "text": [
      "Epoch metrics: {'accuracy': 0.6982421875, 'crossentropy': 0.9775023460388184}\n",
      "RestoringEarlyStopping: 3 / 20\n"
     ]
    },
    {
     "data": {
      "application/vnd.jupyter.widget-view+json": {
       "model_id": "",
       "version_major": 2,
       "version_minor": 0
      },
      "text/plain": [
       "[1/16]   6%|6          [00:00<?]"
      ]
     },
     "metadata": {},
     "output_type": "display_data"
    },
    {
     "name": "stdout",
     "output_type": "stream",
     "text": [
      "Epoch metrics: {'accuracy': 0.701171875, 'crossentropy': 0.9959571361541748}\n",
      "RestoringEarlyStopping: 4 / 20\n"
     ]
    },
    {
     "data": {
      "application/vnd.jupyter.widget-view+json": {
       "model_id": "",
       "version_major": 2,
       "version_minor": 0
      },
      "text/plain": [
       "[1/16]   6%|6          [00:00<?]"
      ]
     },
     "metadata": {},
     "output_type": "display_data"
    },
    {
     "name": "stdout",
     "output_type": "stream",
     "text": [
      "Epoch metrics: {'accuracy': 0.6943359375, 'crossentropy': 1.0017292499542236}\n",
      "RestoringEarlyStopping: 5 / 20\n"
     ]
    },
    {
     "data": {
      "application/vnd.jupyter.widget-view+json": {
       "model_id": "",
       "version_major": 2,
       "version_minor": 0
      },
      "text/plain": [
       "[1/16]   6%|6          [00:00<?]"
      ]
     },
     "metadata": {},
     "output_type": "display_data"
    },
    {
     "name": "stdout",
     "output_type": "stream",
     "text": [
      "Epoch metrics: {'accuracy': 0.716796875, 'crossentropy': 0.933784544467926}\n"
     ]
    },
    {
     "data": {
      "application/vnd.jupyter.widget-view+json": {
       "model_id": "",
       "version_major": 2,
       "version_minor": 0
      },
      "text/plain": [
       "[1/16]   6%|6          [00:00<?]"
      ]
     },
     "metadata": {},
     "output_type": "display_data"
    },
    {
     "name": "stdout",
     "output_type": "stream",
     "text": [
      "Epoch metrics: {'accuracy': 0.7119140625, 'crossentropy': 0.9659706354141235}\n",
      "RestoringEarlyStopping: 1 / 20\n"
     ]
    },
    {
     "data": {
      "application/vnd.jupyter.widget-view+json": {
       "model_id": "",
       "version_major": 2,
       "version_minor": 0
      },
      "text/plain": [
       "[1/16]   6%|6          [00:00<?]"
      ]
     },
     "metadata": {},
     "output_type": "display_data"
    },
    {
     "name": "stdout",
     "output_type": "stream",
     "text": [
      "Epoch metrics: {'accuracy': 0.6767578125, 'crossentropy': 1.0842918157577515}\n",
      "RestoringEarlyStopping: 2 / 20\n"
     ]
    },
    {
     "data": {
      "application/vnd.jupyter.widget-view+json": {
       "model_id": "",
       "version_major": 2,
       "version_minor": 0
      },
      "text/plain": [
       "[1/16]   6%|6          [00:00<?]"
      ]
     },
     "metadata": {},
     "output_type": "display_data"
    },
    {
     "name": "stdout",
     "output_type": "stream",
     "text": [
      "Epoch metrics: {'accuracy': 0.7001953125, 'crossentropy': 0.9882994294166565}\n",
      "RestoringEarlyStopping: 3 / 20\n"
     ]
    },
    {
     "data": {
      "application/vnd.jupyter.widget-view+json": {
       "model_id": "",
       "version_major": 2,
       "version_minor": 0
      },
      "text/plain": [
       "[1/16]   6%|6          [00:00<?]"
      ]
     },
     "metadata": {},
     "output_type": "display_data"
    },
    {
     "name": "stdout",
     "output_type": "stream",
     "text": [
      "Epoch metrics: {'accuracy': 0.689453125, 'crossentropy': 1.0312467813491821}\n",
      "RestoringEarlyStopping: 4 / 20\n"
     ]
    },
    {
     "data": {
      "application/vnd.jupyter.widget-view+json": {
       "model_id": "",
       "version_major": 2,
       "version_minor": 0
      },
      "text/plain": [
       "[1/16]   6%|6          [00:00<?]"
      ]
     },
     "metadata": {},
     "output_type": "display_data"
    },
    {
     "name": "stdout",
     "output_type": "stream",
     "text": [
      "Epoch metrics: {'accuracy': 0.69140625, 'crossentropy': 0.9937529563903809}\n",
      "RestoringEarlyStopping: 5 / 20\n"
     ]
    },
    {
     "data": {
      "application/vnd.jupyter.widget-view+json": {
       "model_id": "",
       "version_major": 2,
       "version_minor": 0
      },
      "text/plain": [
       "[1/16]   6%|6          [00:00<?]"
      ]
     },
     "metadata": {},
     "output_type": "display_data"
    },
    {
     "name": "stdout",
     "output_type": "stream",
     "text": [
      "Epoch metrics: {'accuracy': 0.7080078125, 'crossentropy': 0.9977726340293884}\n",
      "RestoringEarlyStopping: 6 / 20\n"
     ]
    },
    {
     "data": {
      "application/vnd.jupyter.widget-view+json": {
       "model_id": "",
       "version_major": 2,
       "version_minor": 0
      },
      "text/plain": [
       "[1/16]   6%|6          [00:00<?]"
      ]
     },
     "metadata": {},
     "output_type": "display_data"
    },
    {
     "name": "stdout",
     "output_type": "stream",
     "text": [
      "Epoch metrics: {'accuracy': 0.693359375, 'crossentropy': 1.0168564319610596}\n",
      "RestoringEarlyStopping: 7 / 20\n"
     ]
    },
    {
     "data": {
      "application/vnd.jupyter.widget-view+json": {
       "model_id": "",
       "version_major": 2,
       "version_minor": 0
      },
      "text/plain": [
       "[1/16]   6%|6          [00:00<?]"
      ]
     },
     "metadata": {},
     "output_type": "display_data"
    },
    {
     "name": "stdout",
     "output_type": "stream",
     "text": [
      "Epoch metrics: {'accuracy': 0.6796875, 'crossentropy': 1.0715240240097046}\n",
      "RestoringEarlyStopping: 8 / 20\n"
     ]
    },
    {
     "data": {
      "application/vnd.jupyter.widget-view+json": {
       "model_id": "",
       "version_major": 2,
       "version_minor": 0
      },
      "text/plain": [
       "[1/16]   6%|6          [00:00<?]"
      ]
     },
     "metadata": {},
     "output_type": "display_data"
    },
    {
     "name": "stdout",
     "output_type": "stream",
     "text": [
      "Epoch metrics: {'accuracy': 0.6865234375, 'crossentropy': 1.068698525428772}\n",
      "RestoringEarlyStopping: 9 / 20\n"
     ]
    },
    {
     "data": {
      "application/vnd.jupyter.widget-view+json": {
       "model_id": "",
       "version_major": 2,
       "version_minor": 0
      },
      "text/plain": [
       "[1/16]   6%|6          [00:00<?]"
      ]
     },
     "metadata": {},
     "output_type": "display_data"
    },
    {
     "name": "stdout",
     "output_type": "stream",
     "text": [
      "Epoch metrics: {'accuracy': 0.6982421875, 'crossentropy': 1.0681222677230835}\n",
      "RestoringEarlyStopping: 10 / 20\n"
     ]
    },
    {
     "data": {
      "application/vnd.jupyter.widget-view+json": {
       "model_id": "",
       "version_major": 2,
       "version_minor": 0
      },
      "text/plain": [
       "[1/16]   6%|6          [00:00<?]"
      ]
     },
     "metadata": {},
     "output_type": "display_data"
    },
    {
     "name": "stdout",
     "output_type": "stream",
     "text": [
      "Epoch metrics: {'accuracy': 0.7080078125, 'crossentropy': 1.048799991607666}\n",
      "RestoringEarlyStopping: 11 / 20\n"
     ]
    },
    {
     "data": {
      "application/vnd.jupyter.widget-view+json": {
       "model_id": "",
       "version_major": 2,
       "version_minor": 0
      },
      "text/plain": [
       "[1/16]   6%|6          [00:00<?]"
      ]
     },
     "metadata": {},
     "output_type": "display_data"
    },
    {
     "name": "stdout",
     "output_type": "stream",
     "text": [
      "Epoch metrics: {'accuracy': 0.69921875, 'crossentropy': 1.0226521492004395}\n",
      "RestoringEarlyStopping: 12 / 20\n"
     ]
    },
    {
     "data": {
      "application/vnd.jupyter.widget-view+json": {
       "model_id": "",
       "version_major": 2,
       "version_minor": 0
      },
      "text/plain": [
       "[1/16]   6%|6          [00:00<?]"
      ]
     },
     "metadata": {},
     "output_type": "display_data"
    },
    {
     "name": "stdout",
     "output_type": "stream",
     "text": [
      "Epoch metrics: {'accuracy': 0.6953125, 'crossentropy': 1.0766767263412476}\n",
      "RestoringEarlyStopping: 13 / 20\n"
     ]
    },
    {
     "data": {
      "application/vnd.jupyter.widget-view+json": {
       "model_id": "",
       "version_major": 2,
       "version_minor": 0
      },
      "text/plain": [
       "[1/16]   6%|6          [00:00<?]"
      ]
     },
     "metadata": {},
     "output_type": "display_data"
    },
    {
     "name": "stdout",
     "output_type": "stream",
     "text": [
      "Epoch metrics: {'accuracy': 0.6884765625, 'crossentropy': 1.0700740814208984}\n",
      "RestoringEarlyStopping: 14 / 20\n"
     ]
    },
    {
     "data": {
      "application/vnd.jupyter.widget-view+json": {
       "model_id": "",
       "version_major": 2,
       "version_minor": 0
      },
      "text/plain": [
       "[1/16]   6%|6          [00:00<?]"
      ]
     },
     "metadata": {},
     "output_type": "display_data"
    },
    {
     "name": "stdout",
     "output_type": "stream",
     "text": [
      "Epoch metrics: {'accuracy': 0.7060546875, 'crossentropy': 1.0074958801269531}\n",
      "RestoringEarlyStopping: 15 / 20\n"
     ]
    },
    {
     "data": {
      "application/vnd.jupyter.widget-view+json": {
       "model_id": "",
       "version_major": 2,
       "version_minor": 0
      },
      "text/plain": [
       "[1/16]   6%|6          [00:00<?]"
      ]
     },
     "metadata": {},
     "output_type": "display_data"
    },
    {
     "name": "stdout",
     "output_type": "stream",
     "text": [
      "Epoch metrics: {'accuracy': 0.7197265625, 'crossentropy': 0.996133029460907}\n"
     ]
    },
    {
     "data": {
      "application/vnd.jupyter.widget-view+json": {
       "model_id": "",
       "version_major": 2,
       "version_minor": 0
      },
      "text/plain": [
       "[1/16]   6%|6          [00:00<?]"
      ]
     },
     "metadata": {},
     "output_type": "display_data"
    },
    {
     "name": "stdout",
     "output_type": "stream",
     "text": [
      "Epoch metrics: {'accuracy': 0.701171875, 'crossentropy': 1.0230679512023926}\n",
      "RestoringEarlyStopping: 1 / 20\n"
     ]
    },
    {
     "data": {
      "application/vnd.jupyter.widget-view+json": {
       "model_id": "",
       "version_major": 2,
       "version_minor": 0
      },
      "text/plain": [
       "[1/16]   6%|6          [00:00<?]"
      ]
     },
     "metadata": {},
     "output_type": "display_data"
    },
    {
     "name": "stdout",
     "output_type": "stream",
     "text": [
      "Epoch metrics: {'accuracy': 0.72265625, 'crossentropy': 0.961711585521698}\n"
     ]
    },
    {
     "data": {
      "application/vnd.jupyter.widget-view+json": {
       "model_id": "",
       "version_major": 2,
       "version_minor": 0
      },
      "text/plain": [
       "[1/16]   6%|6          [00:00<?]"
      ]
     },
     "metadata": {},
     "output_type": "display_data"
    },
    {
     "name": "stdout",
     "output_type": "stream",
     "text": [
      "Epoch metrics: {'accuracy': 0.7177734375, 'crossentropy': 0.9780423641204834}\n",
      "RestoringEarlyStopping: 1 / 20\n"
     ]
    },
    {
     "data": {
      "application/vnd.jupyter.widget-view+json": {
       "model_id": "",
       "version_major": 2,
       "version_minor": 0
      },
      "text/plain": [
       "[1/16]   6%|6          [00:00<?]"
      ]
     },
     "metadata": {},
     "output_type": "display_data"
    },
    {
     "name": "stdout",
     "output_type": "stream",
     "text": [
      "Epoch metrics: {'accuracy': 0.7099609375, 'crossentropy': 1.0045251846313477}\n",
      "RestoringEarlyStopping: 2 / 20\n"
     ]
    },
    {
     "data": {
      "application/vnd.jupyter.widget-view+json": {
       "model_id": "",
       "version_major": 2,
       "version_minor": 0
      },
      "text/plain": [
       "[1/16]   6%|6          [00:00<?]"
      ]
     },
     "metadata": {},
     "output_type": "display_data"
    },
    {
     "name": "stdout",
     "output_type": "stream",
     "text": [
      "Epoch metrics: {'accuracy': 0.7138671875, 'crossentropy': 0.9967975616455078}\n",
      "RestoringEarlyStopping: 3 / 20\n"
     ]
    },
    {
     "data": {
      "application/vnd.jupyter.widget-view+json": {
       "model_id": "",
       "version_major": 2,
       "version_minor": 0
      },
      "text/plain": [
       "[1/16]   6%|6          [00:00<?]"
      ]
     },
     "metadata": {},
     "output_type": "display_data"
    },
    {
     "name": "stdout",
     "output_type": "stream",
     "text": [
      "Epoch metrics: {'accuracy': 0.7177734375, 'crossentropy': 1.0070579051971436}\n",
      "RestoringEarlyStopping: 4 / 20\n"
     ]
    },
    {
     "data": {
      "application/vnd.jupyter.widget-view+json": {
       "model_id": "",
       "version_major": 2,
       "version_minor": 0
      },
      "text/plain": [
       "[1/16]   6%|6          [00:00<?]"
      ]
     },
     "metadata": {},
     "output_type": "display_data"
    },
    {
     "name": "stdout",
     "output_type": "stream",
     "text": [
      "Epoch metrics: {'accuracy': 0.71484375, 'crossentropy': 1.0135987997055054}\n",
      "RestoringEarlyStopping: 5 / 20\n"
     ]
    },
    {
     "data": {
      "application/vnd.jupyter.widget-view+json": {
       "model_id": "",
       "version_major": 2,
       "version_minor": 0
      },
      "text/plain": [
       "[1/16]   6%|6          [00:00<?]"
      ]
     },
     "metadata": {},
     "output_type": "display_data"
    },
    {
     "name": "stdout",
     "output_type": "stream",
     "text": [
      "Epoch metrics: {'accuracy': 0.720703125, 'crossentropy': 1.0104293823242188}\n",
      "RestoringEarlyStopping: 6 / 20\n"
     ]
    },
    {
     "data": {
      "application/vnd.jupyter.widget-view+json": {
       "model_id": "",
       "version_major": 2,
       "version_minor": 0
      },
      "text/plain": [
       "[1/16]   6%|6          [00:00<?]"
      ]
     },
     "metadata": {},
     "output_type": "display_data"
    },
    {
     "name": "stdout",
     "output_type": "stream",
     "text": [
      "Epoch metrics: {'accuracy': 0.7216796875, 'crossentropy': 1.025801420211792}\n",
      "RestoringEarlyStopping: 7 / 20\n"
     ]
    },
    {
     "data": {
      "application/vnd.jupyter.widget-view+json": {
       "model_id": "",
       "version_major": 2,
       "version_minor": 0
      },
      "text/plain": [
       "[1/16]   6%|6          [00:00<?]"
      ]
     },
     "metadata": {},
     "output_type": "display_data"
    },
    {
     "name": "stdout",
     "output_type": "stream",
     "text": [
      "Epoch metrics: {'accuracy': 0.7080078125, 'crossentropy': 1.0270580053329468}\n",
      "RestoringEarlyStopping: 8 / 20\n"
     ]
    },
    {
     "data": {
      "application/vnd.jupyter.widget-view+json": {
       "model_id": "",
       "version_major": 2,
       "version_minor": 0
      },
      "text/plain": [
       "[1/16]   6%|6          [00:00<?]"
      ]
     },
     "metadata": {},
     "output_type": "display_data"
    },
    {
     "name": "stdout",
     "output_type": "stream",
     "text": [
      "Epoch metrics: {'accuracy': 0.7060546875, 'crossentropy': 1.0663819313049316}\n",
      "RestoringEarlyStopping: 9 / 20\n"
     ]
    },
    {
     "data": {
      "application/vnd.jupyter.widget-view+json": {
       "model_id": "",
       "version_major": 2,
       "version_minor": 0
      },
      "text/plain": [
       "[1/16]   6%|6          [00:00<?]"
      ]
     },
     "metadata": {},
     "output_type": "display_data"
    },
    {
     "name": "stdout",
     "output_type": "stream",
     "text": [
      "Epoch metrics: {'accuracy': 0.703125, 'crossentropy': 1.0449384450912476}\n",
      "RestoringEarlyStopping: 10 / 20\n"
     ]
    },
    {
     "data": {
      "application/vnd.jupyter.widget-view+json": {
       "model_id": "",
       "version_major": 2,
       "version_minor": 0
      },
      "text/plain": [
       "[1/16]   6%|6          [00:00<?]"
      ]
     },
     "metadata": {},
     "output_type": "display_data"
    },
    {
     "name": "stdout",
     "output_type": "stream",
     "text": [
      "Epoch metrics: {'accuracy': 0.7060546875, 'crossentropy': 1.0056489706039429}\n",
      "RestoringEarlyStopping: 11 / 20\n"
     ]
    },
    {
     "data": {
      "application/vnd.jupyter.widget-view+json": {
       "model_id": "",
       "version_major": 2,
       "version_minor": 0
      },
      "text/plain": [
       "[1/16]   6%|6          [00:00<?]"
      ]
     },
     "metadata": {},
     "output_type": "display_data"
    },
    {
     "name": "stdout",
     "output_type": "stream",
     "text": [
      "Epoch metrics: {'accuracy': 0.697265625, 'crossentropy': 1.0358614921569824}\n",
      "RestoringEarlyStopping: 12 / 20\n"
     ]
    },
    {
     "data": {
      "application/vnd.jupyter.widget-view+json": {
       "model_id": "",
       "version_major": 2,
       "version_minor": 0
      },
      "text/plain": [
       "[1/16]   6%|6          [00:00<?]"
      ]
     },
     "metadata": {},
     "output_type": "display_data"
    },
    {
     "name": "stdout",
     "output_type": "stream",
     "text": [
      "Epoch metrics: {'accuracy': 0.7080078125, 'crossentropy': 0.9749272465705872}\n",
      "RestoringEarlyStopping: 13 / 20\n"
     ]
    },
    {
     "data": {
      "application/vnd.jupyter.widget-view+json": {
       "model_id": "",
       "version_major": 2,
       "version_minor": 0
      },
      "text/plain": [
       "[1/16]   6%|6          [00:00<?]"
      ]
     },
     "metadata": {},
     "output_type": "display_data"
    },
    {
     "name": "stdout",
     "output_type": "stream",
     "text": [
      "Epoch metrics: {'accuracy': 0.7255859375, 'crossentropy': 0.9382076859474182}\n"
     ]
    },
    {
     "data": {
      "application/vnd.jupyter.widget-view+json": {
       "model_id": "",
       "version_major": 2,
       "version_minor": 0
      },
      "text/plain": [
       "[1/16]   6%|6          [00:00<?]"
      ]
     },
     "metadata": {},
     "output_type": "display_data"
    },
    {
     "name": "stdout",
     "output_type": "stream",
     "text": [
      "Epoch metrics: {'accuracy': 0.7255859375, 'crossentropy': 0.9409717321395874}\n",
      "RestoringEarlyStopping: 1 / 20\n"
     ]
    },
    {
     "data": {
      "application/vnd.jupyter.widget-view+json": {
       "model_id": "",
       "version_major": 2,
       "version_minor": 0
      },
      "text/plain": [
       "[1/16]   6%|6          [00:00<?]"
      ]
     },
     "metadata": {},
     "output_type": "display_data"
    },
    {
     "name": "stdout",
     "output_type": "stream",
     "text": [
      "Epoch metrics: {'accuracy': 0.7138671875, 'crossentropy': 0.996443510055542}\n",
      "RestoringEarlyStopping: 2 / 20\n"
     ]
    },
    {
     "data": {
      "application/vnd.jupyter.widget-view+json": {
       "model_id": "",
       "version_major": 2,
       "version_minor": 0
      },
      "text/plain": [
       "[1/16]   6%|6          [00:00<?]"
      ]
     },
     "metadata": {},
     "output_type": "display_data"
    },
    {
     "name": "stdout",
     "output_type": "stream",
     "text": [
      "Epoch metrics: {'accuracy': 0.712890625, 'crossentropy': 1.015112280845642}\n",
      "RestoringEarlyStopping: 3 / 20\n"
     ]
    },
    {
     "data": {
      "application/vnd.jupyter.widget-view+json": {
       "model_id": "",
       "version_major": 2,
       "version_minor": 0
      },
      "text/plain": [
       "[1/16]   6%|6          [00:00<?]"
      ]
     },
     "metadata": {},
     "output_type": "display_data"
    },
    {
     "name": "stdout",
     "output_type": "stream",
     "text": [
      "Epoch metrics: {'accuracy': 0.7197265625, 'crossentropy': 0.9762999415397644}\n",
      "RestoringEarlyStopping: 4 / 20\n"
     ]
    },
    {
     "data": {
      "application/vnd.jupyter.widget-view+json": {
       "model_id": "",
       "version_major": 2,
       "version_minor": 0
      },
      "text/plain": [
       "[1/16]   6%|6          [00:00<?]"
      ]
     },
     "metadata": {},
     "output_type": "display_data"
    },
    {
     "name": "stdout",
     "output_type": "stream",
     "text": [
      "Epoch metrics: {'accuracy': 0.6923828125, 'crossentropy': 1.1398853063583374}\n",
      "RestoringEarlyStopping: 5 / 20\n"
     ]
    },
    {
     "data": {
      "application/vnd.jupyter.widget-view+json": {
       "model_id": "",
       "version_major": 2,
       "version_minor": 0
      },
      "text/plain": [
       "[1/16]   6%|6          [00:00<?]"
      ]
     },
     "metadata": {},
     "output_type": "display_data"
    },
    {
     "name": "stdout",
     "output_type": "stream",
     "text": [
      "Epoch metrics: {'accuracy': 0.7177734375, 'crossentropy': 0.9939927458763123}\n",
      "RestoringEarlyStopping: 6 / 20\n"
     ]
    },
    {
     "data": {
      "application/vnd.jupyter.widget-view+json": {
       "model_id": "",
       "version_major": 2,
       "version_minor": 0
      },
      "text/plain": [
       "[1/16]   6%|6          [00:00<?]"
      ]
     },
     "metadata": {},
     "output_type": "display_data"
    },
    {
     "name": "stdout",
     "output_type": "stream",
     "text": [
      "Epoch metrics: {'accuracy': 0.73046875, 'crossentropy': 0.9550729393959045}\n"
     ]
    },
    {
     "data": {
      "application/vnd.jupyter.widget-view+json": {
       "model_id": "",
       "version_major": 2,
       "version_minor": 0
      },
      "text/plain": [
       "[1/16]   6%|6          [00:00<?]"
      ]
     },
     "metadata": {},
     "output_type": "display_data"
    },
    {
     "name": "stdout",
     "output_type": "stream",
     "text": [
      "Epoch metrics: {'accuracy': 0.73046875, 'crossentropy': 0.9536440968513489}\n",
      "RestoringEarlyStopping: 1 / 20\n"
     ]
    },
    {
     "data": {
      "application/vnd.jupyter.widget-view+json": {
       "model_id": "",
       "version_major": 2,
       "version_minor": 0
      },
      "text/plain": [
       "[1/16]   6%|6          [00:00<?]"
      ]
     },
     "metadata": {},
     "output_type": "display_data"
    },
    {
     "name": "stdout",
     "output_type": "stream",
     "text": [
      "Epoch metrics: {'accuracy': 0.70703125, 'crossentropy': 1.0097301006317139}\n",
      "RestoringEarlyStopping: 2 / 20\n"
     ]
    },
    {
     "data": {
      "application/vnd.jupyter.widget-view+json": {
       "model_id": "",
       "version_major": 2,
       "version_minor": 0
      },
      "text/plain": [
       "[1/16]   6%|6          [00:00<?]"
      ]
     },
     "metadata": {},
     "output_type": "display_data"
    },
    {
     "name": "stdout",
     "output_type": "stream",
     "text": [
      "Epoch metrics: {'accuracy': 0.689453125, 'crossentropy': 1.0761806964874268}\n",
      "RestoringEarlyStopping: 3 / 20\n"
     ]
    },
    {
     "data": {
      "application/vnd.jupyter.widget-view+json": {
       "model_id": "",
       "version_major": 2,
       "version_minor": 0
      },
      "text/plain": [
       "[1/16]   6%|6          [00:00<?]"
      ]
     },
     "metadata": {},
     "output_type": "display_data"
    },
    {
     "name": "stdout",
     "output_type": "stream",
     "text": [
      "Epoch metrics: {'accuracy': 0.7109375, 'crossentropy': 1.0542153120040894}\n",
      "RestoringEarlyStopping: 4 / 20\n"
     ]
    },
    {
     "data": {
      "application/vnd.jupyter.widget-view+json": {
       "model_id": "",
       "version_major": 2,
       "version_minor": 0
      },
      "text/plain": [
       "[1/16]   6%|6          [00:00<?]"
      ]
     },
     "metadata": {},
     "output_type": "display_data"
    },
    {
     "name": "stdout",
     "output_type": "stream",
     "text": [
      "Epoch metrics: {'accuracy': 0.7001953125, 'crossentropy': 1.0609701871871948}\n",
      "RestoringEarlyStopping: 5 / 20\n"
     ]
    },
    {
     "data": {
      "application/vnd.jupyter.widget-view+json": {
       "model_id": "",
       "version_major": 2,
       "version_minor": 0
      },
      "text/plain": [
       "[1/16]   6%|6          [00:00<?]"
      ]
     },
     "metadata": {},
     "output_type": "display_data"
    },
    {
     "name": "stdout",
     "output_type": "stream",
     "text": [
      "Epoch metrics: {'accuracy': 0.6943359375, 'crossentropy': 1.0995185375213623}\n",
      "RestoringEarlyStopping: 6 / 20\n"
     ]
    },
    {
     "data": {
      "application/vnd.jupyter.widget-view+json": {
       "model_id": "",
       "version_major": 2,
       "version_minor": 0
      },
      "text/plain": [
       "[1/16]   6%|6          [00:00<?]"
      ]
     },
     "metadata": {},
     "output_type": "display_data"
    },
    {
     "name": "stdout",
     "output_type": "stream",
     "text": [
      "Epoch metrics: {'accuracy': 0.7021484375, 'crossentropy': 1.0579948425292969}\n",
      "RestoringEarlyStopping: 7 / 20\n"
     ]
    },
    {
     "data": {
      "application/vnd.jupyter.widget-view+json": {
       "model_id": "",
       "version_major": 2,
       "version_minor": 0
      },
      "text/plain": [
       "[1/16]   6%|6          [00:00<?]"
      ]
     },
     "metadata": {},
     "output_type": "display_data"
    },
    {
     "name": "stdout",
     "output_type": "stream",
     "text": [
      "Epoch metrics: {'accuracy': 0.697265625, 'crossentropy': 1.0171080827713013}\n",
      "RestoringEarlyStopping: 8 / 20\n"
     ]
    },
    {
     "data": {
      "application/vnd.jupyter.widget-view+json": {
       "model_id": "",
       "version_major": 2,
       "version_minor": 0
      },
      "text/plain": [
       "[1/16]   6%|6          [00:00<?]"
      ]
     },
     "metadata": {},
     "output_type": "display_data"
    },
    {
     "name": "stdout",
     "output_type": "stream",
     "text": [
      "Epoch metrics: {'accuracy': 0.67578125, 'crossentropy': 1.1201931238174438}\n",
      "RestoringEarlyStopping: 9 / 20\n"
     ]
    },
    {
     "data": {
      "application/vnd.jupyter.widget-view+json": {
       "model_id": "",
       "version_major": 2,
       "version_minor": 0
      },
      "text/plain": [
       "[1/16]   6%|6          [00:00<?]"
      ]
     },
     "metadata": {},
     "output_type": "display_data"
    },
    {
     "name": "stdout",
     "output_type": "stream",
     "text": [
      "Epoch metrics: {'accuracy': 0.6962890625, 'crossentropy': 1.0190379619598389}\n",
      "RestoringEarlyStopping: 10 / 20\n"
     ]
    },
    {
     "data": {
      "application/vnd.jupyter.widget-view+json": {
       "model_id": "",
       "version_major": 2,
       "version_minor": 0
      },
      "text/plain": [
       "[1/16]   6%|6          [00:00<?]"
      ]
     },
     "metadata": {},
     "output_type": "display_data"
    },
    {
     "name": "stdout",
     "output_type": "stream",
     "text": [
      "Epoch metrics: {'accuracy': 0.6708984375, 'crossentropy': 1.142327070236206}\n",
      "RestoringEarlyStopping: 11 / 20\n"
     ]
    },
    {
     "data": {
      "application/vnd.jupyter.widget-view+json": {
       "model_id": "",
       "version_major": 2,
       "version_minor": 0
      },
      "text/plain": [
       "[1/16]   6%|6          [00:00<?]"
      ]
     },
     "metadata": {},
     "output_type": "display_data"
    },
    {
     "name": "stdout",
     "output_type": "stream",
     "text": [
      "Epoch metrics: {'accuracy': 0.7197265625, 'crossentropy': 0.9680137634277344}\n",
      "RestoringEarlyStopping: 12 / 20\n"
     ]
    },
    {
     "data": {
      "application/vnd.jupyter.widget-view+json": {
       "model_id": "",
       "version_major": 2,
       "version_minor": 0
      },
      "text/plain": [
       "[1/16]   6%|6          [00:00<?]"
      ]
     },
     "metadata": {},
     "output_type": "display_data"
    },
    {
     "name": "stdout",
     "output_type": "stream",
     "text": [
      "Epoch metrics: {'accuracy': 0.7177734375, 'crossentropy': 1.0113897323608398}\n",
      "RestoringEarlyStopping: 13 / 20\n"
     ]
    },
    {
     "data": {
      "application/vnd.jupyter.widget-view+json": {
       "model_id": "",
       "version_major": 2,
       "version_minor": 0
      },
      "text/plain": [
       "[1/16]   6%|6          [00:00<?]"
      ]
     },
     "metadata": {},
     "output_type": "display_data"
    },
    {
     "name": "stdout",
     "output_type": "stream",
     "text": [
      "Epoch metrics: {'accuracy': 0.7197265625, 'crossentropy': 1.0133159160614014}\n",
      "RestoringEarlyStopping: 14 / 20\n"
     ]
    },
    {
     "data": {
      "application/vnd.jupyter.widget-view+json": {
       "model_id": "",
       "version_major": 2,
       "version_minor": 0
      },
      "text/plain": [
       "[1/16]   6%|6          [00:00<?]"
      ]
     },
     "metadata": {},
     "output_type": "display_data"
    },
    {
     "name": "stdout",
     "output_type": "stream",
     "text": [
      "Epoch metrics: {'accuracy': 0.7216796875, 'crossentropy': 0.9995049238204956}\n",
      "RestoringEarlyStopping: 15 / 20\n"
     ]
    },
    {
     "data": {
      "application/vnd.jupyter.widget-view+json": {
       "model_id": "",
       "version_major": 2,
       "version_minor": 0
      },
      "text/plain": [
       "[1/16]   6%|6          [00:00<?]"
      ]
     },
     "metadata": {},
     "output_type": "display_data"
    },
    {
     "name": "stdout",
     "output_type": "stream",
     "text": [
      "Epoch metrics: {'accuracy': 0.7021484375, 'crossentropy': 1.048302412033081}\n",
      "RestoringEarlyStopping: 16 / 20\n"
     ]
    },
    {
     "data": {
      "application/vnd.jupyter.widget-view+json": {
       "model_id": "",
       "version_major": 2,
       "version_minor": 0
      },
      "text/plain": [
       "[1/16]   6%|6          [00:00<?]"
      ]
     },
     "metadata": {},
     "output_type": "display_data"
    },
    {
     "name": "stdout",
     "output_type": "stream",
     "text": [
      "Epoch metrics: {'accuracy': 0.7021484375, 'crossentropy': 1.0537757873535156}\n",
      "RestoringEarlyStopping: 17 / 20\n"
     ]
    },
    {
     "data": {
      "application/vnd.jupyter.widget-view+json": {
       "model_id": "",
       "version_major": 2,
       "version_minor": 0
      },
      "text/plain": [
       "[1/16]   6%|6          [00:00<?]"
      ]
     },
     "metadata": {},
     "output_type": "display_data"
    },
    {
     "name": "stdout",
     "output_type": "stream",
     "text": [
      "Epoch metrics: {'accuracy': 0.6943359375, 'crossentropy': 1.0692312717437744}\n",
      "RestoringEarlyStopping: 18 / 20\n"
     ]
    },
    {
     "data": {
      "application/vnd.jupyter.widget-view+json": {
       "model_id": "",
       "version_major": 2,
       "version_minor": 0
      },
      "text/plain": [
       "[1/16]   6%|6          [00:00<?]"
      ]
     },
     "metadata": {},
     "output_type": "display_data"
    },
    {
     "name": "stdout",
     "output_type": "stream",
     "text": [
      "Epoch metrics: {'accuracy': 0.6748046875, 'crossentropy': 1.1178358793258667}\n",
      "RestoringEarlyStopping: 19 / 20\n"
     ]
    },
    {
     "data": {
      "application/vnd.jupyter.widget-view+json": {
       "model_id": "",
       "version_major": 2,
       "version_minor": 0
      },
      "text/plain": [
       "[1/16]   6%|6          [00:00<?]"
      ]
     },
     "metadata": {},
     "output_type": "display_data"
    },
    {
     "name": "stdout",
     "output_type": "stream",
     "text": [
      "Epoch metrics: {'accuracy': 0.71484375, 'crossentropy': 1.0029326677322388}\n",
      "RestoringEarlyStopping: 20 / 20\n",
      "RestoringEarlyStopping: Out of patience\n",
      "RestoringEarlyStopping: Restoring best parameters. (Score: 0.73046875)\n",
      "RestoringEarlyStopping: Restoring optimizer.\n",
      "{'model_training/val_metrics': <wandb.data_types.Table object at 0x7fee808ce160>, 'model_training/best_epoch': 57, 'model_training/best_val_accuracy': 0.73046875, 'model_training/best_val_crossentropy': 0.9550729393959045}\n"
     ]
    },
    {
     "data": {
      "application/vnd.jupyter.widget-view+json": {
       "model_id": "",
       "version_major": 2,
       "version_minor": 0
      },
      "text/plain": [
       "[1/79]   1%|1          [00:00<?]"
      ]
     },
     "metadata": {},
     "output_type": "display_data"
    },
    {
     "name": "stdout",
     "output_type": "stream",
     "text": [
      "Perf after training {'accuracy': 0.7503, 'crossentropy': 0.9040412109375, '_timestamp': 1650399318, '_runtime': 104}\n"
     ]
    },
    {
     "data": {
      "application/vnd.jupyter.widget-view+json": {
       "model_id": "",
       "version_major": 2,
       "version_minor": 0
      },
      "text/plain": [
       "get_predictions_labels:   0%|          | 0/2008000 [00:00<?, ?it/s]"
      ]
     },
     "metadata": {},
     "output_type": "display_data"
    },
    {
     "name": "stdout",
     "output_type": "stream",
     "text": [
      "Online Training Size/Num Samples/Trial: 30/10/0\n",
      "OBIPerformance(total_training_set_size=30, real_training_set_size=30, online_training_set_size=30, trial_index=0, num_samples=10, accuracy=0.7264999747276306, crossentropy=0.9891496896743774)\n",
      "Online Training Size/Num Samples/Trial: 30/10/1\n",
      "OBIPerformance(total_training_set_size=30, real_training_set_size=30, online_training_set_size=30, trial_index=1, num_samples=10, accuracy=0.734000027179718, crossentropy=1.1417120695114136)\n",
      "Online Training Size/Num Samples/Trial: 30/10/2\n",
      "OBIPerformance(total_training_set_size=30, real_training_set_size=30, online_training_set_size=30, trial_index=2, num_samples=10, accuracy=0.7304999828338623, crossentropy=0.9575334191322327)\n",
      "Online Training Size/Num Samples/Trial: 30/10/3\n",
      "OBIPerformance(total_training_set_size=30, real_training_set_size=30, online_training_set_size=30, trial_index=3, num_samples=10, accuracy=0.7487999796867371, crossentropy=0.9357743263244629)\n",
      "Online Training Size/Num Samples/Trial: 30/10/4\n",
      "OBIPerformance(total_training_set_size=30, real_training_set_size=30, online_training_set_size=30, trial_index=4, num_samples=10, accuracy=0.7250000238418579, crossentropy=0.9740013480186462)\n",
      "Online Training Size/Num Samples/Trial: 30/100/0\n",
      "OBIPerformance(total_training_set_size=30, real_training_set_size=30, online_training_set_size=30, trial_index=0, num_samples=100, accuracy=0.7475000023841858, crossentropy=0.8618864417076111)\n",
      "Online Training Size/Num Samples/Trial: 30/100/1\n",
      "OBIPerformance(total_training_set_size=30, real_training_set_size=30, online_training_set_size=30, trial_index=1, num_samples=100, accuracy=0.7473999857902527, crossentropy=0.8505836129188538)\n",
      "Online Training Size/Num Samples/Trial: 30/100/2\n",
      "OBIPerformance(total_training_set_size=30, real_training_set_size=30, online_training_set_size=30, trial_index=2, num_samples=100, accuracy=0.7447999715805054, crossentropy=0.851276159286499)\n",
      "Online Training Size/Num Samples/Trial: 30/100/3\n",
      "OBIPerformance(total_training_set_size=30, real_training_set_size=30, online_training_set_size=30, trial_index=3, num_samples=100, accuracy=0.7458000183105469, crossentropy=0.8547167778015137)\n",
      "Online Training Size/Num Samples/Trial: 30/100/4\n",
      "OBIPerformance(total_training_set_size=30, real_training_set_size=30, online_training_set_size=30, trial_index=4, num_samples=100, accuracy=0.7454000115394592, crossentropy=0.8668652176856995)\n",
      "Online Training Size/Num Samples/Trial: 31/10/0\n",
      "OBIPerformance(total_training_set_size=31, real_training_set_size=30, online_training_set_size=31, trial_index=0, num_samples=10, accuracy=0.6554999947547913, crossentropy=1.431227207183838)\n",
      "Online Training Size/Num Samples/Trial: 31/10/1\n",
      "OBIPerformance(total_training_set_size=31, real_training_set_size=30, online_training_set_size=31, trial_index=1, num_samples=10, accuracy=0.6758000254631042, crossentropy=1.201427936553955)\n",
      "Online Training Size/Num Samples/Trial: 31/10/2\n",
      "OBIPerformance(total_training_set_size=31, real_training_set_size=30, online_training_set_size=31, trial_index=2, num_samples=10, accuracy=0.6747999787330627, crossentropy=2.3124701976776123)\n",
      "Online Training Size/Num Samples/Trial: 31/10/3\n",
      "OBIPerformance(total_training_set_size=31, real_training_set_size=30, online_training_set_size=31, trial_index=3, num_samples=10, accuracy=0.6920999884605408, crossentropy=2.0379271507263184)\n",
      "Online Training Size/Num Samples/Trial: 31/10/4\n",
      "OBIPerformance(total_training_set_size=31, real_training_set_size=30, online_training_set_size=31, trial_index=4, num_samples=10, accuracy=0.641700029373169, crossentropy=1.9505019187927246)\n",
      "Online Training Size/Num Samples/Trial: 31/100/0\n",
      "OBIPerformance(total_training_set_size=31, real_training_set_size=30, online_training_set_size=31, trial_index=0, num_samples=100, accuracy=0.7161999940872192, crossentropy=1.11378014087677)\n",
      "Online Training Size/Num Samples/Trial: 31/100/1\n",
      "OBIPerformance(total_training_set_size=31, real_training_set_size=30, online_training_set_size=31, trial_index=1, num_samples=100, accuracy=0.7149999737739563, crossentropy=1.1183656454086304)\n",
      "Online Training Size/Num Samples/Trial: 31/100/2\n",
      "OBIPerformance(total_training_set_size=31, real_training_set_size=30, online_training_set_size=31, trial_index=2, num_samples=100, accuracy=0.7414000034332275, crossentropy=1.0124455690383911)\n",
      "Online Training Size/Num Samples/Trial: 31/100/3\n",
      "OBIPerformance(total_training_set_size=31, real_training_set_size=30, online_training_set_size=31, trial_index=3, num_samples=100, accuracy=0.7210999727249146, crossentropy=0.9907740354537964)\n",
      "Online Training Size/Num Samples/Trial: 31/100/4\n",
      "OBIPerformance(total_training_set_size=31, real_training_set_size=30, online_training_set_size=31, trial_index=4, num_samples=100, accuracy=0.722000002861023, crossentropy=1.0225400924682617)\n",
      "Online Training Size/Num Samples/Trial: 32/10/0\n",
      "OBIPerformance(total_training_set_size=32, real_training_set_size=30, online_training_set_size=32, trial_index=0, num_samples=10, accuracy=0.6736999750137329, crossentropy=1.5575472116470337)\n",
      "Online Training Size/Num Samples/Trial: 32/10/1\n",
      "OBIPerformance(total_training_set_size=32, real_training_set_size=30, online_training_set_size=32, trial_index=1, num_samples=10, accuracy=0.6646999716758728, crossentropy=1.6989494562149048)\n",
      "Online Training Size/Num Samples/Trial: 32/10/2\n",
      "OBIPerformance(total_training_set_size=32, real_training_set_size=30, online_training_set_size=32, trial_index=2, num_samples=10, accuracy=0.6759999990463257, crossentropy=1.4217785596847534)\n",
      "Online Training Size/Num Samples/Trial: 32/10/3\n",
      "OBIPerformance(total_training_set_size=32, real_training_set_size=30, online_training_set_size=32, trial_index=3, num_samples=10, accuracy=0.5981000065803528, crossentropy=2.177250623703003)\n",
      "Online Training Size/Num Samples/Trial: 32/10/4\n",
      "OBIPerformance(total_training_set_size=32, real_training_set_size=30, online_training_set_size=32, trial_index=4, num_samples=10, accuracy=0.6554999947547913, crossentropy=1.4754835367202759)\n",
      "Online Training Size/Num Samples/Trial: 32/100/0\n",
      "OBIPerformance(total_training_set_size=32, real_training_set_size=30, online_training_set_size=32, trial_index=0, num_samples=100, accuracy=0.6607000231742859, crossentropy=1.1448885202407837)\n",
      "Online Training Size/Num Samples/Trial: 32/100/1\n",
      "OBIPerformance(total_training_set_size=32, real_training_set_size=30, online_training_set_size=32, trial_index=1, num_samples=100, accuracy=0.6588000059127808, crossentropy=1.2470109462738037)\n",
      "Online Training Size/Num Samples/Trial: 32/100/2\n",
      "OBIPerformance(total_training_set_size=32, real_training_set_size=30, online_training_set_size=32, trial_index=2, num_samples=100, accuracy=0.6608999967575073, crossentropy=1.1361085176467896)\n",
      "Online Training Size/Num Samples/Trial: 32/100/3\n",
      "OBIPerformance(total_training_set_size=32, real_training_set_size=30, online_training_set_size=32, trial_index=3, num_samples=100, accuracy=0.754800021648407, crossentropy=0.8622263669967651)\n",
      "Online Training Size/Num Samples/Trial: 32/100/4\n",
      "OBIPerformance(total_training_set_size=32, real_training_set_size=30, online_training_set_size=32, trial_index=4, num_samples=100, accuracy=0.6611999869346619, crossentropy=1.1301954984664917)\n",
      "Online Training Size/Num Samples/Trial: 33/10/0\n",
      "OBIPerformance(total_training_set_size=33, real_training_set_size=30, online_training_set_size=33, trial_index=0, num_samples=10, accuracy=0.6100000143051147, crossentropy=1.4268248081207275)\n",
      "Online Training Size/Num Samples/Trial: 33/10/1\n",
      "OBIPerformance(total_training_set_size=33, real_training_set_size=30, online_training_set_size=33, trial_index=1, num_samples=10, accuracy=0.629800021648407, crossentropy=1.4375914335250854)\n",
      "Online Training Size/Num Samples/Trial: 33/10/2\n",
      "OBIPerformance(total_training_set_size=33, real_training_set_size=30, online_training_set_size=33, trial_index=2, num_samples=10, accuracy=0.6689000129699707, crossentropy=1.2011337280273438)\n",
      "Online Training Size/Num Samples/Trial: 33/10/3\n",
      "OBIPerformance(total_training_set_size=33, real_training_set_size=30, online_training_set_size=33, trial_index=3, num_samples=10, accuracy=0.6664999723434448, crossentropy=1.1619348526000977)\n",
      "Online Training Size/Num Samples/Trial: 33/10/4\n",
      "OBIPerformance(total_training_set_size=33, real_training_set_size=30, online_training_set_size=33, trial_index=4, num_samples=10, accuracy=0.6708999872207642, crossentropy=1.225209355354309)\n",
      "Online Training Size/Num Samples/Trial: 33/100/0\n",
      "OBIPerformance(total_training_set_size=33, real_training_set_size=30, online_training_set_size=33, trial_index=0, num_samples=100, accuracy=0.6728000044822693, crossentropy=1.1556531190872192)\n",
      "Online Training Size/Num Samples/Trial: 33/100/1\n",
      "OBIPerformance(total_training_set_size=33, real_training_set_size=30, online_training_set_size=33, trial_index=1, num_samples=100, accuracy=0.6843000054359436, crossentropy=1.0602389574050903)\n",
      "Online Training Size/Num Samples/Trial: 33/100/2\n",
      "OBIPerformance(total_training_set_size=33, real_training_set_size=30, online_training_set_size=33, trial_index=2, num_samples=100, accuracy=0.7538999915122986, crossentropy=0.8405681848526001)\n",
      "Online Training Size/Num Samples/Trial: 33/100/3\n",
      "OBIPerformance(total_training_set_size=33, real_training_set_size=30, online_training_set_size=33, trial_index=3, num_samples=100, accuracy=0.6607000231742859, crossentropy=1.1360838413238525)\n",
      "Online Training Size/Num Samples/Trial: 33/100/4\n",
      "OBIPerformance(total_training_set_size=33, real_training_set_size=30, online_training_set_size=33, trial_index=4, num_samples=100, accuracy=0.6776999831199646, crossentropy=1.128988265991211)\n",
      "Online Training Size/Num Samples/Trial: 34/10/0\n",
      "OBIPerformance(total_training_set_size=34, real_training_set_size=30, online_training_set_size=34, trial_index=0, num_samples=10, accuracy=0.6730999946594238, crossentropy=1.319328784942627)\n",
      "Online Training Size/Num Samples/Trial: 34/10/1\n",
      "OBIPerformance(total_training_set_size=34, real_training_set_size=30, online_training_set_size=34, trial_index=1, num_samples=10, accuracy=0.6078000068664551, crossentropy=2.53008770942688)\n",
      "Online Training Size/Num Samples/Trial: 34/10/2\n",
      "OBIPerformance(total_training_set_size=34, real_training_set_size=30, online_training_set_size=34, trial_index=2, num_samples=10, accuracy=0.6966000199317932, crossentropy=1.1220920085906982)\n",
      "Online Training Size/Num Samples/Trial: 34/10/3\n",
      "OBIPerformance(total_training_set_size=34, real_training_set_size=30, online_training_set_size=34, trial_index=3, num_samples=10, accuracy=0.6983000040054321, crossentropy=1.674551010131836)\n",
      "Online Training Size/Num Samples/Trial: 34/10/4\n",
      "OBIPerformance(total_training_set_size=34, real_training_set_size=30, online_training_set_size=34, trial_index=4, num_samples=10, accuracy=0.6563000082969666, crossentropy=1.380245566368103)\n",
      "Online Training Size/Num Samples/Trial: 34/100/0\n",
      "OBIPerformance(total_training_set_size=34, real_training_set_size=30, online_training_set_size=34, trial_index=0, num_samples=100, accuracy=0.7188000082969666, crossentropy=0.9739326238632202)\n",
      "Online Training Size/Num Samples/Trial: 34/100/1\n",
      "OBIPerformance(total_training_set_size=34, real_training_set_size=30, online_training_set_size=34, trial_index=1, num_samples=100, accuracy=0.6428999900817871, crossentropy=1.3566532135009766)\n",
      "Online Training Size/Num Samples/Trial: 34/100/2\n",
      "OBIPerformance(total_training_set_size=34, real_training_set_size=30, online_training_set_size=34, trial_index=2, num_samples=100, accuracy=0.6996999979019165, crossentropy=1.006731390953064)\n",
      "Online Training Size/Num Samples/Trial: 34/100/3\n",
      "OBIPerformance(total_training_set_size=34, real_training_set_size=30, online_training_set_size=34, trial_index=3, num_samples=100, accuracy=0.6432999968528748, crossentropy=1.4131263494491577)\n",
      "Online Training Size/Num Samples/Trial: 34/100/4\n",
      "OBIPerformance(total_training_set_size=34, real_training_set_size=30, online_training_set_size=34, trial_index=4, num_samples=100, accuracy=0.7311999797821045, crossentropy=1.034193992614746)\n",
      "Online Training Size/Num Samples/Trial: 35/10/0\n",
      "OBIPerformance(total_training_set_size=35, real_training_set_size=30, online_training_set_size=35, trial_index=0, num_samples=10, accuracy=0.6155999898910522, crossentropy=1.7022240161895752)\n",
      "Online Training Size/Num Samples/Trial: 35/10/1\n",
      "OBIPerformance(total_training_set_size=35, real_training_set_size=30, online_training_set_size=35, trial_index=1, num_samples=10, accuracy=0.6955999732017517, crossentropy=1.2111427783966064)\n",
      "Online Training Size/Num Samples/Trial: 35/10/2\n",
      "OBIPerformance(total_training_set_size=35, real_training_set_size=30, online_training_set_size=35, trial_index=2, num_samples=10, accuracy=0.6765000224113464, crossentropy=1.2404958009719849)\n",
      "Online Training Size/Num Samples/Trial: 35/10/3\n",
      "OBIPerformance(total_training_set_size=35, real_training_set_size=30, online_training_set_size=35, trial_index=3, num_samples=10, accuracy=0.6528000235557556, crossentropy=1.3847806453704834)\n",
      "Online Training Size/Num Samples/Trial: 35/10/4\n",
      "OBIPerformance(total_training_set_size=35, real_training_set_size=30, online_training_set_size=35, trial_index=4, num_samples=10, accuracy=0.6927000284194946, crossentropy=1.243099570274353)\n",
      "Online Training Size/Num Samples/Trial: 35/100/0\n",
      "OBIPerformance(total_training_set_size=35, real_training_set_size=30, online_training_set_size=35, trial_index=0, num_samples=100, accuracy=0.6539000272750854, crossentropy=1.185910701751709)\n",
      "Online Training Size/Num Samples/Trial: 35/100/1\n",
      "OBIPerformance(total_training_set_size=35, real_training_set_size=30, online_training_set_size=35, trial_index=1, num_samples=100, accuracy=0.6585999727249146, crossentropy=1.1530065536499023)\n",
      "Online Training Size/Num Samples/Trial: 35/100/2\n",
      "OBIPerformance(total_training_set_size=35, real_training_set_size=30, online_training_set_size=35, trial_index=2, num_samples=100, accuracy=0.6517000198364258, crossentropy=1.1812869310379028)\n",
      "Online Training Size/Num Samples/Trial: 35/100/3\n",
      "OBIPerformance(total_training_set_size=35, real_training_set_size=30, online_training_set_size=35, trial_index=3, num_samples=100, accuracy=0.6675000190734863, crossentropy=1.0888524055480957)\n",
      "Online Training Size/Num Samples/Trial: 35/100/4\n",
      "OBIPerformance(total_training_set_size=35, real_training_set_size=30, online_training_set_size=35, trial_index=4, num_samples=100, accuracy=0.6771000027656555, crossentropy=1.0610398054122925)\n",
      "Online Training Size/Num Samples/Trial: 36/10/0\n",
      "OBIPerformance(total_training_set_size=36, real_training_set_size=30, online_training_set_size=36, trial_index=0, num_samples=10, accuracy=0.6958000063896179, crossentropy=1.2798784971237183)\n",
      "Online Training Size/Num Samples/Trial: 36/10/1\n",
      "OBIPerformance(total_training_set_size=36, real_training_set_size=30, online_training_set_size=36, trial_index=1, num_samples=10, accuracy=0.6107000112533569, crossentropy=1.9415760040283203)\n",
      "Online Training Size/Num Samples/Trial: 36/10/2\n",
      "OBIPerformance(total_training_set_size=36, real_training_set_size=30, online_training_set_size=36, trial_index=2, num_samples=10, accuracy=0.652999997138977, crossentropy=1.4012194871902466)\n",
      "Online Training Size/Num Samples/Trial: 36/10/3\n",
      "OBIPerformance(total_training_set_size=36, real_training_set_size=30, online_training_set_size=36, trial_index=3, num_samples=10, accuracy=0.6144999861717224, crossentropy=1.3390629291534424)\n",
      "Online Training Size/Num Samples/Trial: 36/10/4\n",
      "OBIPerformance(total_training_set_size=36, real_training_set_size=30, online_training_set_size=36, trial_index=4, num_samples=10, accuracy=0.6707000136375427, crossentropy=1.2116928100585938)\n",
      "Online Training Size/Num Samples/Trial: 36/100/0\n",
      "OBIPerformance(total_training_set_size=36, real_training_set_size=30, online_training_set_size=36, trial_index=0, num_samples=100, accuracy=0.6154000163078308, crossentropy=1.3082126379013062)\n",
      "Online Training Size/Num Samples/Trial: 36/100/1\n",
      "OBIPerformance(total_training_set_size=36, real_training_set_size=30, online_training_set_size=36, trial_index=1, num_samples=100, accuracy=0.6126000285148621, crossentropy=1.3409231901168823)\n",
      "Online Training Size/Num Samples/Trial: 36/100/2\n",
      "OBIPerformance(total_training_set_size=36, real_training_set_size=30, online_training_set_size=36, trial_index=2, num_samples=100, accuracy=0.713699996471405, crossentropy=0.9118548631668091)\n",
      "Online Training Size/Num Samples/Trial: 36/100/3\n",
      "OBIPerformance(total_training_set_size=36, real_training_set_size=30, online_training_set_size=36, trial_index=3, num_samples=100, accuracy=0.6980000138282776, crossentropy=1.0936622619628906)\n",
      "Online Training Size/Num Samples/Trial: 36/100/4\n",
      "OBIPerformance(total_training_set_size=36, real_training_set_size=30, online_training_set_size=36, trial_index=4, num_samples=100, accuracy=0.704800009727478, crossentropy=0.9365864396095276)\n",
      "Online Training Size/Num Samples/Trial: 37/10/0\n",
      "OBIPerformance(total_training_set_size=37, real_training_set_size=30, online_training_set_size=37, trial_index=0, num_samples=10, accuracy=0.6092000007629395, crossentropy=1.4300622940063477)\n",
      "Online Training Size/Num Samples/Trial: 37/10/1\n",
      "OBIPerformance(total_training_set_size=37, real_training_set_size=30, online_training_set_size=37, trial_index=1, num_samples=10, accuracy=0.6158999800682068, crossentropy=1.7769300937652588)\n",
      "Online Training Size/Num Samples/Trial: 37/10/2\n",
      "OBIPerformance(total_training_set_size=37, real_training_set_size=30, online_training_set_size=37, trial_index=2, num_samples=10, accuracy=0.6679999828338623, crossentropy=1.9446057081222534)\n",
      "Online Training Size/Num Samples/Trial: 37/10/3\n",
      "OBIPerformance(total_training_set_size=37, real_training_set_size=30, online_training_set_size=37, trial_index=3, num_samples=10, accuracy=0.6251000165939331, crossentropy=1.279638409614563)\n",
      "Online Training Size/Num Samples/Trial: 37/10/4\n",
      "OBIPerformance(total_training_set_size=37, real_training_set_size=30, online_training_set_size=37, trial_index=4, num_samples=10, accuracy=0.6417999863624573, crossentropy=1.6144704818725586)\n",
      "Online Training Size/Num Samples/Trial: 37/100/0\n",
      "OBIPerformance(total_training_set_size=37, real_training_set_size=30, online_training_set_size=37, trial_index=0, num_samples=100, accuracy=0.7013000249862671, crossentropy=0.975781261920929)\n",
      "Online Training Size/Num Samples/Trial: 37/100/1\n",
      "OBIPerformance(total_training_set_size=37, real_training_set_size=30, online_training_set_size=37, trial_index=1, num_samples=100, accuracy=0.6916999816894531, crossentropy=0.9977251887321472)\n",
      "Online Training Size/Num Samples/Trial: 37/100/2\n",
      "OBIPerformance(total_training_set_size=37, real_training_set_size=30, online_training_set_size=37, trial_index=2, num_samples=100, accuracy=0.6104000210762024, crossentropy=1.4026442766189575)\n",
      "Online Training Size/Num Samples/Trial: 37/100/3\n",
      "OBIPerformance(total_training_set_size=37, real_training_set_size=30, online_training_set_size=37, trial_index=3, num_samples=100, accuracy=0.6715999841690063, crossentropy=1.0827614068984985)\n",
      "Online Training Size/Num Samples/Trial: 37/100/4\n",
      "OBIPerformance(total_training_set_size=37, real_training_set_size=30, online_training_set_size=37, trial_index=4, num_samples=100, accuracy=0.6105999946594238, crossentropy=1.3859773874282837)\n",
      "Online Training Size/Num Samples/Trial: 38/10/0\n",
      "OBIPerformance(total_training_set_size=38, real_training_set_size=30, online_training_set_size=38, trial_index=0, num_samples=10, accuracy=0.7127000093460083, crossentropy=1.0971190929412842)\n",
      "Online Training Size/Num Samples/Trial: 38/10/1\n",
      "OBIPerformance(total_training_set_size=38, real_training_set_size=30, online_training_set_size=38, trial_index=1, num_samples=10, accuracy=0.611299991607666, crossentropy=2.123046398162842)\n",
      "Online Training Size/Num Samples/Trial: 38/10/2\n",
      "OBIPerformance(total_training_set_size=38, real_training_set_size=30, online_training_set_size=38, trial_index=2, num_samples=10, accuracy=0.6158000230789185, crossentropy=1.8061171770095825)\n",
      "Online Training Size/Num Samples/Trial: 38/10/3\n",
      "OBIPerformance(total_training_set_size=38, real_training_set_size=30, online_training_set_size=38, trial_index=3, num_samples=10, accuracy=0.611299991607666, crossentropy=2.115800619125366)\n",
      "Online Training Size/Num Samples/Trial: 38/10/4\n",
      "OBIPerformance(total_training_set_size=38, real_training_set_size=30, online_training_set_size=38, trial_index=4, num_samples=10, accuracy=0.6442000269889832, crossentropy=1.4519705772399902)\n",
      "Online Training Size/Num Samples/Trial: 38/100/0\n",
      "OBIPerformance(total_training_set_size=38, real_training_set_size=30, online_training_set_size=38, trial_index=0, num_samples=100, accuracy=0.6122000217437744, crossentropy=1.351948618888855)\n",
      "Online Training Size/Num Samples/Trial: 38/100/1\n",
      "OBIPerformance(total_training_set_size=38, real_training_set_size=30, online_training_set_size=38, trial_index=1, num_samples=100, accuracy=0.6122000217437744, crossentropy=1.3519736528396606)\n",
      "Online Training Size/Num Samples/Trial: 38/100/2\n",
      "OBIPerformance(total_training_set_size=38, real_training_set_size=30, online_training_set_size=38, trial_index=2, num_samples=100, accuracy=0.6711000204086304, crossentropy=1.2728019952774048)\n",
      "Online Training Size/Num Samples/Trial: 38/100/3\n",
      "OBIPerformance(total_training_set_size=38, real_training_set_size=30, online_training_set_size=38, trial_index=3, num_samples=100, accuracy=0.6093000173568726, crossentropy=1.4290707111358643)\n",
      "Online Training Size/Num Samples/Trial: 38/100/4\n",
      "OBIPerformance(total_training_set_size=38, real_training_set_size=30, online_training_set_size=38, trial_index=4, num_samples=100, accuracy=0.6122000217437744, crossentropy=1.352118730545044)\n",
      "Online Training Size/Num Samples/Trial: 39/10/0\n",
      "OBIPerformance(total_training_set_size=39, real_training_set_size=30, online_training_set_size=39, trial_index=0, num_samples=10, accuracy=0.6736999750137329, crossentropy=1.2110915184020996)\n",
      "Online Training Size/Num Samples/Trial: 39/10/1\n",
      "OBIPerformance(total_training_set_size=39, real_training_set_size=30, online_training_set_size=39, trial_index=1, num_samples=10, accuracy=0.6348999738693237, crossentropy=1.750708818435669)\n",
      "Online Training Size/Num Samples/Trial: 39/10/2\n",
      "OBIPerformance(total_training_set_size=39, real_training_set_size=30, online_training_set_size=39, trial_index=2, num_samples=10, accuracy=0.6894999742507935, crossentropy=1.1907275915145874)\n",
      "Online Training Size/Num Samples/Trial: 39/10/3\n",
      "OBIPerformance(total_training_set_size=39, real_training_set_size=30, online_training_set_size=39, trial_index=3, num_samples=10, accuracy=0.7279000282287598, crossentropy=1.0553375482559204)\n",
      "Online Training Size/Num Samples/Trial: 39/10/4\n",
      "OBIPerformance(total_training_set_size=39, real_training_set_size=30, online_training_set_size=39, trial_index=4, num_samples=10, accuracy=0.6814000010490417, crossentropy=1.6540037393569946)\n",
      "Online Training Size/Num Samples/Trial: 39/100/0\n",
      "OBIPerformance(total_training_set_size=39, real_training_set_size=30, online_training_set_size=39, trial_index=0, num_samples=100, accuracy=0.6970000267028809, crossentropy=1.1152595281600952)\n",
      "Online Training Size/Num Samples/Trial: 39/100/1\n",
      "OBIPerformance(total_training_set_size=39, real_training_set_size=30, online_training_set_size=39, trial_index=1, num_samples=100, accuracy=0.6093999743461609, crossentropy=1.4184927940368652)\n",
      "Online Training Size/Num Samples/Trial: 39/100/2\n",
      "OBIPerformance(total_training_set_size=39, real_training_set_size=30, online_training_set_size=39, trial_index=2, num_samples=100, accuracy=0.6995000243186951, crossentropy=1.0671491622924805)\n",
      "Online Training Size/Num Samples/Trial: 39/100/3\n",
      "OBIPerformance(total_training_set_size=39, real_training_set_size=30, online_training_set_size=39, trial_index=3, num_samples=100, accuracy=0.6710000038146973, crossentropy=1.280805230140686)\n",
      "Online Training Size/Num Samples/Trial: 39/100/4\n",
      "OBIPerformance(total_training_set_size=39, real_training_set_size=30, online_training_set_size=39, trial_index=4, num_samples=100, accuracy=0.6093000173568726, crossentropy=1.4285635948181152)\n",
      "Online Training Size/Num Samples/Trial: 40/10/0\n",
      "OBIPerformance(total_training_set_size=40, real_training_set_size=30, online_training_set_size=40, trial_index=0, num_samples=10, accuracy=0.6753000020980835, crossentropy=1.2904107570648193)\n",
      "Online Training Size/Num Samples/Trial: 40/10/1\n",
      "OBIPerformance(total_training_set_size=40, real_training_set_size=30, online_training_set_size=40, trial_index=1, num_samples=10, accuracy=0.7246999740600586, crossentropy=1.1906986236572266)\n",
      "Online Training Size/Num Samples/Trial: 40/10/2\n",
      "OBIPerformance(total_training_set_size=40, real_training_set_size=30, online_training_set_size=40, trial_index=2, num_samples=10, accuracy=0.7368999719619751, crossentropy=1.1553544998168945)\n",
      "Online Training Size/Num Samples/Trial: 40/10/3\n",
      "OBIPerformance(total_training_set_size=40, real_training_set_size=30, online_training_set_size=40, trial_index=3, num_samples=10, accuracy=0.6330000162124634, crossentropy=1.4985729455947876)\n",
      "Online Training Size/Num Samples/Trial: 40/10/4\n",
      "OBIPerformance(total_training_set_size=40, real_training_set_size=30, online_training_set_size=40, trial_index=4, num_samples=10, accuracy=0.6158000230789185, crossentropy=1.8061212301254272)\n",
      "Online Training Size/Num Samples/Trial: 40/100/0\n",
      "OBIPerformance(total_training_set_size=40, real_training_set_size=30, online_training_set_size=40, trial_index=0, num_samples=100, accuracy=0.6747000217437744, crossentropy=1.1375048160552979)\n",
      "Online Training Size/Num Samples/Trial: 40/100/1\n",
      "OBIPerformance(total_training_set_size=40, real_training_set_size=30, online_training_set_size=40, trial_index=1, num_samples=100, accuracy=0.6093000173568726, crossentropy=1.4232101440429688)\n",
      "Online Training Size/Num Samples/Trial: 40/100/2\n",
      "OBIPerformance(total_training_set_size=40, real_training_set_size=30, online_training_set_size=40, trial_index=2, num_samples=100, accuracy=0.6789000034332275, crossentropy=1.1366688013076782)\n",
      "Online Training Size/Num Samples/Trial: 40/100/3\n",
      "OBIPerformance(total_training_set_size=40, real_training_set_size=30, online_training_set_size=40, trial_index=3, num_samples=100, accuracy=0.6093000173568726, crossentropy=1.4223068952560425)\n",
      "Online Training Size/Num Samples/Trial: 40/100/4\n",
      "OBIPerformance(total_training_set_size=40, real_training_set_size=30, online_training_set_size=40, trial_index=4, num_samples=100, accuracy=0.6100000143051147, crossentropy=1.4070321321487427)\n",
      "OBIPerformance(total_training_set_size=10030, real_training_set_size=30, online_training_set_size=10000, trial_index=0, num_samples=200, accuracy=0.7595999836921692, crossentropy=0.8177483677864075)\n",
      "Training set size 35:\n"
     ]
    },
    {
     "data": {
      "application/vnd.jupyter.widget-view+json": {
       "model_id": "835d8ee6ed59490294ef14f0acd703c9",
       "version_major": 2,
       "version_minor": 0
      },
      "text/plain": [
       "  1%|          | 1/120 [00:00<?, ?it/s]"
      ]
     },
     "metadata": {},
     "output_type": "display_data"
    },
    {
     "data": {
      "application/vnd.jupyter.widget-view+json": {
       "model_id": "",
       "version_major": 2,
       "version_minor": 0
      },
      "text/plain": [
       "[1/16]   6%|6          [00:00<?]"
      ]
     },
     "metadata": {},
     "output_type": "display_data"
    },
    {
     "name": "stdout",
     "output_type": "stream",
     "text": [
      "Epoch metrics: {'accuracy': 0.3134765625, 'crossentropy': 2.0656332969665527}\n"
     ]
    },
    {
     "data": {
      "application/vnd.jupyter.widget-view+json": {
       "model_id": "",
       "version_major": 2,
       "version_minor": 0
      },
      "text/plain": [
       "[1/16]   6%|6          [00:00<?]"
      ]
     },
     "metadata": {},
     "output_type": "display_data"
    },
    {
     "name": "stdout",
     "output_type": "stream",
     "text": [
      "Epoch metrics: {'accuracy': 0.626953125, 'crossentropy': 1.3512336015701294}\n"
     ]
    },
    {
     "data": {
      "application/vnd.jupyter.widget-view+json": {
       "model_id": "",
       "version_major": 2,
       "version_minor": 0
      },
      "text/plain": [
       "[1/16]   6%|6          [00:00<?]"
      ]
     },
     "metadata": {},
     "output_type": "display_data"
    },
    {
     "name": "stdout",
     "output_type": "stream",
     "text": [
      "Epoch metrics: {'accuracy': 0.7177734375, 'crossentropy': 0.9148144125938416}\n"
     ]
    },
    {
     "data": {
      "application/vnd.jupyter.widget-view+json": {
       "model_id": "",
       "version_major": 2,
       "version_minor": 0
      },
      "text/plain": [
       "[1/16]   6%|6          [00:00<?]"
      ]
     },
     "metadata": {},
     "output_type": "display_data"
    },
    {
     "name": "stdout",
     "output_type": "stream",
     "text": [
      "Epoch metrics: {'accuracy': 0.744140625, 'crossentropy': 0.7861782908439636}\n"
     ]
    },
    {
     "data": {
      "application/vnd.jupyter.widget-view+json": {
       "model_id": "",
       "version_major": 2,
       "version_minor": 0
      },
      "text/plain": [
       "[1/16]   6%|6          [00:00<?]"
      ]
     },
     "metadata": {},
     "output_type": "display_data"
    },
    {
     "name": "stdout",
     "output_type": "stream",
     "text": [
      "Epoch metrics: {'accuracy': 0.78125, 'crossentropy': 0.7199538350105286}\n"
     ]
    },
    {
     "data": {
      "application/vnd.jupyter.widget-view+json": {
       "model_id": "",
       "version_major": 2,
       "version_minor": 0
      },
      "text/plain": [
       "[1/16]   6%|6          [00:00<?]"
      ]
     },
     "metadata": {},
     "output_type": "display_data"
    },
    {
     "name": "stdout",
     "output_type": "stream",
     "text": [
      "Epoch metrics: {'accuracy': 0.7705078125, 'crossentropy': 0.7569038271903992}\n",
      "RestoringEarlyStopping: 1 / 20\n"
     ]
    },
    {
     "data": {
      "application/vnd.jupyter.widget-view+json": {
       "model_id": "",
       "version_major": 2,
       "version_minor": 0
      },
      "text/plain": [
       "[1/16]   6%|6          [00:00<?]"
      ]
     },
     "metadata": {},
     "output_type": "display_data"
    },
    {
     "name": "stdout",
     "output_type": "stream",
     "text": [
      "Epoch metrics: {'accuracy': 0.7734375, 'crossentropy': 0.7190671563148499}\n",
      "RestoringEarlyStopping: 2 / 20\n"
     ]
    },
    {
     "data": {
      "application/vnd.jupyter.widget-view+json": {
       "model_id": "",
       "version_major": 2,
       "version_minor": 0
      },
      "text/plain": [
       "[1/16]   6%|6          [00:00<?]"
      ]
     },
     "metadata": {},
     "output_type": "display_data"
    },
    {
     "name": "stdout",
     "output_type": "stream",
     "text": [
      "Epoch metrics: {'accuracy': 0.7724609375, 'crossentropy': 0.7482227683067322}\n",
      "RestoringEarlyStopping: 3 / 20\n"
     ]
    },
    {
     "data": {
      "application/vnd.jupyter.widget-view+json": {
       "model_id": "",
       "version_major": 2,
       "version_minor": 0
      },
      "text/plain": [
       "[1/16]   6%|6          [00:00<?]"
      ]
     },
     "metadata": {},
     "output_type": "display_data"
    },
    {
     "name": "stdout",
     "output_type": "stream",
     "text": [
      "Epoch metrics: {'accuracy': 0.7744140625, 'crossentropy': 0.7117286324501038}\n",
      "RestoringEarlyStopping: 4 / 20\n"
     ]
    },
    {
     "data": {
      "application/vnd.jupyter.widget-view+json": {
       "model_id": "",
       "version_major": 2,
       "version_minor": 0
      },
      "text/plain": [
       "[1/16]   6%|6          [00:00<?]"
      ]
     },
     "metadata": {},
     "output_type": "display_data"
    },
    {
     "name": "stdout",
     "output_type": "stream",
     "text": [
      "Epoch metrics: {'accuracy': 0.787109375, 'crossentropy': 0.7095447778701782}\n"
     ]
    },
    {
     "data": {
      "application/vnd.jupyter.widget-view+json": {
       "model_id": "",
       "version_major": 2,
       "version_minor": 0
      },
      "text/plain": [
       "[1/16]   6%|6          [00:00<?]"
      ]
     },
     "metadata": {},
     "output_type": "display_data"
    },
    {
     "name": "stdout",
     "output_type": "stream",
     "text": [
      "Epoch metrics: {'accuracy': 0.791015625, 'crossentropy': 0.6761534214019775}\n"
     ]
    },
    {
     "data": {
      "application/vnd.jupyter.widget-view+json": {
       "model_id": "",
       "version_major": 2,
       "version_minor": 0
      },
      "text/plain": [
       "[1/16]   6%|6          [00:00<?]"
      ]
     },
     "metadata": {},
     "output_type": "display_data"
    },
    {
     "name": "stdout",
     "output_type": "stream",
     "text": [
      "Epoch metrics: {'accuracy': 0.8046875, 'crossentropy': 0.6823737621307373}\n"
     ]
    },
    {
     "data": {
      "application/vnd.jupyter.widget-view+json": {
       "model_id": "",
       "version_major": 2,
       "version_minor": 0
      },
      "text/plain": [
       "[1/16]   6%|6          [00:00<?]"
      ]
     },
     "metadata": {},
     "output_type": "display_data"
    },
    {
     "name": "stdout",
     "output_type": "stream",
     "text": [
      "Epoch metrics: {'accuracy': 0.7939453125, 'crossentropy': 0.6939209699630737}\n",
      "RestoringEarlyStopping: 1 / 20\n"
     ]
    },
    {
     "data": {
      "application/vnd.jupyter.widget-view+json": {
       "model_id": "",
       "version_major": 2,
       "version_minor": 0
      },
      "text/plain": [
       "[1/16]   6%|6          [00:00<?]"
      ]
     },
     "metadata": {},
     "output_type": "display_data"
    },
    {
     "name": "stdout",
     "output_type": "stream",
     "text": [
      "Epoch metrics: {'accuracy': 0.7900390625, 'crossentropy': 0.7028720378875732}\n",
      "RestoringEarlyStopping: 2 / 20\n"
     ]
    },
    {
     "data": {
      "application/vnd.jupyter.widget-view+json": {
       "model_id": "",
       "version_major": 2,
       "version_minor": 0
      },
      "text/plain": [
       "[1/16]   6%|6          [00:00<?]"
      ]
     },
     "metadata": {},
     "output_type": "display_data"
    },
    {
     "name": "stdout",
     "output_type": "stream",
     "text": [
      "Epoch metrics: {'accuracy': 0.78125, 'crossentropy': 0.7027364373207092}\n",
      "RestoringEarlyStopping: 3 / 20\n"
     ]
    },
    {
     "data": {
      "application/vnd.jupyter.widget-view+json": {
       "model_id": "",
       "version_major": 2,
       "version_minor": 0
      },
      "text/plain": [
       "[1/16]   6%|6          [00:00<?]"
      ]
     },
     "metadata": {},
     "output_type": "display_data"
    },
    {
     "name": "stdout",
     "output_type": "stream",
     "text": [
      "Epoch metrics: {'accuracy': 0.7880859375, 'crossentropy': 0.68690025806427}\n",
      "RestoringEarlyStopping: 4 / 20\n"
     ]
    },
    {
     "data": {
      "application/vnd.jupyter.widget-view+json": {
       "model_id": "",
       "version_major": 2,
       "version_minor": 0
      },
      "text/plain": [
       "[1/16]   6%|6          [00:00<?]"
      ]
     },
     "metadata": {},
     "output_type": "display_data"
    },
    {
     "name": "stderr",
     "output_type": "stream",
     "text": [
      "Engine run is terminating due to exception: \n"
     ]
    },
    {
     "name": "stdout",
     "output_type": "stream",
     "text": [
      "Epoch metrics: {'accuracy': 0.7783203125, 'crossentropy': 0.7368150353431702}\n",
      "RestoringEarlyStopping: 5 / 20\n"
     ]
    },
    {
     "ename": "KeyboardInterrupt",
     "evalue": "",
     "output_type": "error",
     "traceback": [
      "\u001b[0;31m---------------------------------------------------------------------------\u001b[0m",
      "\u001b[0;31mKeyboardInterrupt\u001b[0m                         Traceback (most recent call last)",
      "\u001b[0;32m<ipython-input-8-4cb14e2d45d7>\u001b[0m in \u001b[0;36m<module>\u001b[0;34m\u001b[0m\n\u001b[1;32m      4\u001b[0m \u001b[0;34m\u001b[0m\u001b[0m\n\u001b[1;32m      5\u001b[0m \u001b[0mresults\u001b[0m \u001b[0;34m=\u001b[0m \u001b[0;34m{\u001b[0m\u001b[0;34m}\u001b[0m\u001b[0;34m\u001b[0m\u001b[0;34m\u001b[0m\u001b[0m\n\u001b[0;32m----> 6\u001b[0;31m \u001b[0mexperiment\u001b[0m\u001b[0;34m.\u001b[0m\u001b[0mrun\u001b[0m\u001b[0;34m(\u001b[0m\u001b[0mresults\u001b[0m\u001b[0;34m)\u001b[0m\u001b[0;34m\u001b[0m\u001b[0;34m\u001b[0m\u001b[0m\n\u001b[0m",
      "\u001b[0;32m<ipython-input-7-42c6059baa03>\u001b[0m in \u001b[0;36mrun\u001b[0;34m(self, store)\u001b[0m\n\u001b[1;32m    230\u001b[0m \u001b[0;34m\u001b[0m\u001b[0m\n\u001b[1;32m    231\u001b[0m             \u001b[0;32mif\u001b[0m \u001b[0mtraining_set_size\u001b[0m \u001b[0;34m>\u001b[0m \u001b[0;36m0\u001b[0m\u001b[0;34m:\u001b[0m\u001b[0;34m\u001b[0m\u001b[0;34m\u001b[0m\u001b[0m\n\u001b[0;32m--> 232\u001b[0;31m                 train(\n\u001b[0m\u001b[1;32m    233\u001b[0m                     \u001b[0mmodel\u001b[0m\u001b[0;34m=\u001b[0m\u001b[0mmodel_optimizer\u001b[0m\u001b[0;34m.\u001b[0m\u001b[0mmodel\u001b[0m\u001b[0;34m,\u001b[0m\u001b[0;34m\u001b[0m\u001b[0;34m\u001b[0m\u001b[0m\n\u001b[1;32m    234\u001b[0m                     \u001b[0moptimizer\u001b[0m\u001b[0;34m=\u001b[0m\u001b[0mmodel_optimizer\u001b[0m\u001b[0;34m.\u001b[0m\u001b[0moptimizer\u001b[0m\u001b[0;34m,\u001b[0m\u001b[0;34m\u001b[0m\u001b[0;34m\u001b[0m\u001b[0m\n",
      "\u001b[0;32m~/PycharmProjects/bald-ical/batchbald_redux/black_box_model_training.py\u001b[0m in \u001b[0;36mtrain\u001b[0;34m(model, training_samples, validation_samples, train_loader, validation_loader, patience, max_epochs, device, training_log, wandb_key_path, loss, validation_loss, optimizer, prefer_accuracy, train_augmentations)\u001b[0m\n\u001b[1;32m    215\u001b[0m \u001b[0;34m\u001b[0m\u001b[0m\n\u001b[1;32m    216\u001b[0m     \u001b[0;31m# Kick everything off\u001b[0m\u001b[0;34m\u001b[0m\u001b[0;34m\u001b[0m\u001b[0;34m\u001b[0m\u001b[0m\n\u001b[0;32m--> 217\u001b[0;31m     \u001b[0mtrainer\u001b[0m\u001b[0;34m.\u001b[0m\u001b[0mrun\u001b[0m\u001b[0;34m(\u001b[0m\u001b[0mtrain_loader\u001b[0m\u001b[0;34m,\u001b[0m \u001b[0mmax_epochs\u001b[0m\u001b[0;34m=\u001b[0m\u001b[0mmax_epochs\u001b[0m\u001b[0;34m)\u001b[0m\u001b[0;34m\u001b[0m\u001b[0;34m\u001b[0m\u001b[0m\n\u001b[0m\u001b[1;32m    218\u001b[0m \u001b[0;34m\u001b[0m\u001b[0m\n\u001b[1;32m    219\u001b[0m     \u001b[0mbest_epoch\u001b[0m \u001b[0;34m=\u001b[0m \u001b[0;32mNone\u001b[0m\u001b[0;34m\u001b[0m\u001b[0;34m\u001b[0m\u001b[0m\n",
      "\u001b[0;32m~/anaconda3/envs/active_learning/lib/python3.8/site-packages/ignite/engine/engine.py\u001b[0m in \u001b[0;36mrun\u001b[0;34m(self, data, max_epochs, epoch_length, seed)\u001b[0m\n\u001b[1;32m    696\u001b[0m \u001b[0;34m\u001b[0m\u001b[0m\n\u001b[1;32m    697\u001b[0m         \u001b[0mself\u001b[0m\u001b[0;34m.\u001b[0m\u001b[0mstate\u001b[0m\u001b[0;34m.\u001b[0m\u001b[0mdataloader\u001b[0m \u001b[0;34m=\u001b[0m \u001b[0mdata\u001b[0m\u001b[0;34m\u001b[0m\u001b[0;34m\u001b[0m\u001b[0m\n\u001b[0;32m--> 698\u001b[0;31m         \u001b[0;32mreturn\u001b[0m \u001b[0mself\u001b[0m\u001b[0;34m.\u001b[0m\u001b[0m_internal_run\u001b[0m\u001b[0;34m(\u001b[0m\u001b[0;34m)\u001b[0m\u001b[0;34m\u001b[0m\u001b[0;34m\u001b[0m\u001b[0m\n\u001b[0m\u001b[1;32m    699\u001b[0m \u001b[0;34m\u001b[0m\u001b[0m\n\u001b[1;32m    700\u001b[0m     \u001b[0;34m@\u001b[0m\u001b[0mstaticmethod\u001b[0m\u001b[0;34m\u001b[0m\u001b[0;34m\u001b[0m\u001b[0m\n",
      "\u001b[0;32m~/anaconda3/envs/active_learning/lib/python3.8/site-packages/ignite/engine/engine.py\u001b[0m in \u001b[0;36m_internal_run\u001b[0;34m(self)\u001b[0m\n\u001b[1;32m    769\u001b[0m             \u001b[0mself\u001b[0m\u001b[0;34m.\u001b[0m\u001b[0m_dataloader_iter\u001b[0m \u001b[0;34m=\u001b[0m \u001b[0;32mNone\u001b[0m\u001b[0;34m\u001b[0m\u001b[0;34m\u001b[0m\u001b[0m\n\u001b[1;32m    770\u001b[0m             \u001b[0mself\u001b[0m\u001b[0;34m.\u001b[0m\u001b[0mlogger\u001b[0m\u001b[0;34m.\u001b[0m\u001b[0merror\u001b[0m\u001b[0;34m(\u001b[0m\u001b[0;34mf\"Engine run is terminating due to exception: {e}\"\u001b[0m\u001b[0;34m)\u001b[0m\u001b[0;34m\u001b[0m\u001b[0;34m\u001b[0m\u001b[0m\n\u001b[0;32m--> 771\u001b[0;31m             \u001b[0mself\u001b[0m\u001b[0;34m.\u001b[0m\u001b[0m_handle_exception\u001b[0m\u001b[0;34m(\u001b[0m\u001b[0me\u001b[0m\u001b[0;34m)\u001b[0m\u001b[0;34m\u001b[0m\u001b[0;34m\u001b[0m\u001b[0m\n\u001b[0m\u001b[1;32m    772\u001b[0m \u001b[0;34m\u001b[0m\u001b[0m\n\u001b[1;32m    773\u001b[0m         \u001b[0mself\u001b[0m\u001b[0;34m.\u001b[0m\u001b[0m_dataloader_iter\u001b[0m \u001b[0;34m=\u001b[0m \u001b[0;32mNone\u001b[0m\u001b[0;34m\u001b[0m\u001b[0;34m\u001b[0m\u001b[0m\n",
      "\u001b[0;32m~/anaconda3/envs/active_learning/lib/python3.8/site-packages/ignite/engine/engine.py\u001b[0m in \u001b[0;36m_handle_exception\u001b[0;34m(self, e)\u001b[0m\n\u001b[1;32m    464\u001b[0m             \u001b[0mself\u001b[0m\u001b[0;34m.\u001b[0m\u001b[0m_fire_event\u001b[0m\u001b[0;34m(\u001b[0m\u001b[0mEvents\u001b[0m\u001b[0;34m.\u001b[0m\u001b[0mEXCEPTION_RAISED\u001b[0m\u001b[0;34m,\u001b[0m \u001b[0me\u001b[0m\u001b[0;34m)\u001b[0m\u001b[0;34m\u001b[0m\u001b[0;34m\u001b[0m\u001b[0m\n\u001b[1;32m    465\u001b[0m         \u001b[0;32melse\u001b[0m\u001b[0;34m:\u001b[0m\u001b[0;34m\u001b[0m\u001b[0;34m\u001b[0m\u001b[0m\n\u001b[0;32m--> 466\u001b[0;31m             \u001b[0;32mraise\u001b[0m \u001b[0me\u001b[0m\u001b[0;34m\u001b[0m\u001b[0;34m\u001b[0m\u001b[0m\n\u001b[0m\u001b[1;32m    467\u001b[0m \u001b[0;34m\u001b[0m\u001b[0m\n\u001b[1;32m    468\u001b[0m     \u001b[0;34m@\u001b[0m\u001b[0mproperty\u001b[0m\u001b[0;34m\u001b[0m\u001b[0;34m\u001b[0m\u001b[0m\n",
      "\u001b[0;32m~/anaconda3/envs/active_learning/lib/python3.8/site-packages/ignite/engine/engine.py\u001b[0m in \u001b[0;36m_internal_run\u001b[0;34m(self)\u001b[0m\n\u001b[1;32m    739\u001b[0m                     \u001b[0mself\u001b[0m\u001b[0;34m.\u001b[0m\u001b[0m_setup_engine\u001b[0m\u001b[0;34m(\u001b[0m\u001b[0;34m)\u001b[0m\u001b[0;34m\u001b[0m\u001b[0;34m\u001b[0m\u001b[0m\n\u001b[1;32m    740\u001b[0m \u001b[0;34m\u001b[0m\u001b[0m\n\u001b[0;32m--> 741\u001b[0;31m                 \u001b[0mtime_taken\u001b[0m \u001b[0;34m=\u001b[0m \u001b[0mself\u001b[0m\u001b[0;34m.\u001b[0m\u001b[0m_run_once_on_dataset\u001b[0m\u001b[0;34m(\u001b[0m\u001b[0;34m)\u001b[0m\u001b[0;34m\u001b[0m\u001b[0;34m\u001b[0m\u001b[0m\n\u001b[0m\u001b[1;32m    742\u001b[0m                 \u001b[0;31m# time is available for handlers but must be update after fire\u001b[0m\u001b[0;34m\u001b[0m\u001b[0;34m\u001b[0m\u001b[0;34m\u001b[0m\u001b[0m\n\u001b[1;32m    743\u001b[0m                 \u001b[0mself\u001b[0m\u001b[0;34m.\u001b[0m\u001b[0mstate\u001b[0m\u001b[0;34m.\u001b[0m\u001b[0mtimes\u001b[0m\u001b[0;34m[\u001b[0m\u001b[0mEvents\u001b[0m\u001b[0;34m.\u001b[0m\u001b[0mEPOCH_COMPLETED\u001b[0m\u001b[0;34m.\u001b[0m\u001b[0mname\u001b[0m\u001b[0;34m]\u001b[0m \u001b[0;34m=\u001b[0m \u001b[0mtime_taken\u001b[0m\u001b[0;34m\u001b[0m\u001b[0;34m\u001b[0m\u001b[0m\n",
      "\u001b[0;32m~/anaconda3/envs/active_learning/lib/python3.8/site-packages/ignite/engine/engine.py\u001b[0m in \u001b[0;36m_run_once_on_dataset\u001b[0;34m(self)\u001b[0m\n\u001b[1;32m    829\u001b[0m                 \u001b[0mself\u001b[0m\u001b[0;34m.\u001b[0m\u001b[0mstate\u001b[0m\u001b[0;34m.\u001b[0m\u001b[0miteration\u001b[0m \u001b[0;34m+=\u001b[0m \u001b[0;36m1\u001b[0m\u001b[0;34m\u001b[0m\u001b[0;34m\u001b[0m\u001b[0m\n\u001b[1;32m    830\u001b[0m                 \u001b[0mself\u001b[0m\u001b[0;34m.\u001b[0m\u001b[0m_fire_event\u001b[0m\u001b[0;34m(\u001b[0m\u001b[0mEvents\u001b[0m\u001b[0;34m.\u001b[0m\u001b[0mITERATION_STARTED\u001b[0m\u001b[0;34m)\u001b[0m\u001b[0;34m\u001b[0m\u001b[0;34m\u001b[0m\u001b[0m\n\u001b[0;32m--> 831\u001b[0;31m                 \u001b[0mself\u001b[0m\u001b[0;34m.\u001b[0m\u001b[0mstate\u001b[0m\u001b[0;34m.\u001b[0m\u001b[0moutput\u001b[0m \u001b[0;34m=\u001b[0m \u001b[0mself\u001b[0m\u001b[0;34m.\u001b[0m\u001b[0m_process_function\u001b[0m\u001b[0;34m(\u001b[0m\u001b[0mself\u001b[0m\u001b[0;34m,\u001b[0m \u001b[0mself\u001b[0m\u001b[0;34m.\u001b[0m\u001b[0mstate\u001b[0m\u001b[0;34m.\u001b[0m\u001b[0mbatch\u001b[0m\u001b[0;34m)\u001b[0m\u001b[0;34m\u001b[0m\u001b[0;34m\u001b[0m\u001b[0m\n\u001b[0m\u001b[1;32m    832\u001b[0m                 \u001b[0mself\u001b[0m\u001b[0;34m.\u001b[0m\u001b[0m_fire_event\u001b[0m\u001b[0;34m(\u001b[0m\u001b[0mEvents\u001b[0m\u001b[0;34m.\u001b[0m\u001b[0mITERATION_COMPLETED\u001b[0m\u001b[0;34m)\u001b[0m\u001b[0;34m\u001b[0m\u001b[0;34m\u001b[0m\u001b[0m\n\u001b[1;32m    833\u001b[0m \u001b[0;34m\u001b[0m\u001b[0m\n",
      "\u001b[0;32m~/anaconda3/envs/active_learning/lib/python3.8/site-packages/ignite/engine/__init__.py\u001b[0m in \u001b[0;36mupdate\u001b[0;34m(engine, batch)\u001b[0m\n\u001b[1;32m    104\u001b[0m         \u001b[0;32mif\u001b[0m \u001b[0mgradient_accumulation_steps\u001b[0m \u001b[0;34m>\u001b[0m \u001b[0;36m1\u001b[0m\u001b[0;34m:\u001b[0m\u001b[0;34m\u001b[0m\u001b[0;34m\u001b[0m\u001b[0m\n\u001b[1;32m    105\u001b[0m             \u001b[0mloss\u001b[0m \u001b[0;34m=\u001b[0m \u001b[0mloss\u001b[0m \u001b[0;34m/\u001b[0m \u001b[0mgradient_accumulation_steps\u001b[0m\u001b[0;34m\u001b[0m\u001b[0;34m\u001b[0m\u001b[0m\n\u001b[0;32m--> 106\u001b[0;31m         \u001b[0mloss\u001b[0m\u001b[0;34m.\u001b[0m\u001b[0mbackward\u001b[0m\u001b[0;34m(\u001b[0m\u001b[0;34m)\u001b[0m\u001b[0;34m\u001b[0m\u001b[0;34m\u001b[0m\u001b[0m\n\u001b[0m\u001b[1;32m    107\u001b[0m         \u001b[0;32mif\u001b[0m \u001b[0mengine\u001b[0m\u001b[0;34m.\u001b[0m\u001b[0mstate\u001b[0m\u001b[0;34m.\u001b[0m\u001b[0miteration\u001b[0m \u001b[0;34m%\u001b[0m \u001b[0mgradient_accumulation_steps\u001b[0m \u001b[0;34m==\u001b[0m \u001b[0;36m0\u001b[0m\u001b[0;34m:\u001b[0m\u001b[0;34m\u001b[0m\u001b[0;34m\u001b[0m\u001b[0m\n\u001b[1;32m    108\u001b[0m             \u001b[0moptimizer\u001b[0m\u001b[0;34m.\u001b[0m\u001b[0mstep\u001b[0m\u001b[0;34m(\u001b[0m\u001b[0;34m)\u001b[0m\u001b[0;34m\u001b[0m\u001b[0;34m\u001b[0m\u001b[0m\n",
      "\u001b[0;32m~/anaconda3/envs/active_learning/lib/python3.8/site-packages/torch/_tensor.py\u001b[0m in \u001b[0;36mbackward\u001b[0;34m(self, gradient, retain_graph, create_graph, inputs)\u001b[0m\n\u001b[1;32m    305\u001b[0m                 \u001b[0mcreate_graph\u001b[0m\u001b[0;34m=\u001b[0m\u001b[0mcreate_graph\u001b[0m\u001b[0;34m,\u001b[0m\u001b[0;34m\u001b[0m\u001b[0;34m\u001b[0m\u001b[0m\n\u001b[1;32m    306\u001b[0m                 inputs=inputs)\n\u001b[0;32m--> 307\u001b[0;31m         \u001b[0mtorch\u001b[0m\u001b[0;34m.\u001b[0m\u001b[0mautograd\u001b[0m\u001b[0;34m.\u001b[0m\u001b[0mbackward\u001b[0m\u001b[0;34m(\u001b[0m\u001b[0mself\u001b[0m\u001b[0;34m,\u001b[0m \u001b[0mgradient\u001b[0m\u001b[0;34m,\u001b[0m \u001b[0mretain_graph\u001b[0m\u001b[0;34m,\u001b[0m \u001b[0mcreate_graph\u001b[0m\u001b[0;34m,\u001b[0m \u001b[0minputs\u001b[0m\u001b[0;34m=\u001b[0m\u001b[0minputs\u001b[0m\u001b[0;34m)\u001b[0m\u001b[0;34m\u001b[0m\u001b[0;34m\u001b[0m\u001b[0m\n\u001b[0m\u001b[1;32m    308\u001b[0m \u001b[0;34m\u001b[0m\u001b[0m\n\u001b[1;32m    309\u001b[0m     \u001b[0;32mdef\u001b[0m \u001b[0mregister_hook\u001b[0m\u001b[0;34m(\u001b[0m\u001b[0mself\u001b[0m\u001b[0;34m,\u001b[0m \u001b[0mhook\u001b[0m\u001b[0;34m)\u001b[0m\u001b[0;34m:\u001b[0m\u001b[0;34m\u001b[0m\u001b[0;34m\u001b[0m\u001b[0m\n",
      "\u001b[0;32m~/anaconda3/envs/active_learning/lib/python3.8/site-packages/torch/autograd/__init__.py\u001b[0m in \u001b[0;36mbackward\u001b[0;34m(tensors, grad_tensors, retain_graph, create_graph, grad_variables, inputs)\u001b[0m\n\u001b[1;32m    152\u001b[0m         \u001b[0mretain_graph\u001b[0m \u001b[0;34m=\u001b[0m \u001b[0mcreate_graph\u001b[0m\u001b[0;34m\u001b[0m\u001b[0;34m\u001b[0m\u001b[0m\n\u001b[1;32m    153\u001b[0m \u001b[0;34m\u001b[0m\u001b[0m\n\u001b[0;32m--> 154\u001b[0;31m     Variable._execution_engine.run_backward(\n\u001b[0m\u001b[1;32m    155\u001b[0m         \u001b[0mtensors\u001b[0m\u001b[0;34m,\u001b[0m \u001b[0mgrad_tensors_\u001b[0m\u001b[0;34m,\u001b[0m \u001b[0mretain_graph\u001b[0m\u001b[0;34m,\u001b[0m \u001b[0mcreate_graph\u001b[0m\u001b[0;34m,\u001b[0m \u001b[0minputs\u001b[0m\u001b[0;34m,\u001b[0m\u001b[0;34m\u001b[0m\u001b[0;34m\u001b[0m\u001b[0m\n\u001b[1;32m    156\u001b[0m         allow_unreachable=True, accumulate_grad=True)  # allow_unreachable flag\n",
      "\u001b[0;31mKeyboardInterrupt\u001b[0m: "
     ]
    }
   ],
   "source": [
    "# experiment\n",
    "\n",
    "experiment = Experiment(seed=1120, num_pool_samples=100, device=\"cuda\", num_samples_list=(10, 100))\n",
    "\n",
    "results = {}\n",
    "experiment.run(results)"
   ]
  },
  {
   "cell_type": "code",
   "execution_count": null,
   "metadata": {
    "tags": []
   },
   "outputs": [
    {
     "data": {
      "text/plain": [
       "{'initial_training_set_indices': [51348,\n",
       "  49110,\n",
       "  8222,\n",
       "  28130,\n",
       "  13484,\n",
       "  47685,\n",
       "  3938,\n",
       "  59930,\n",
       "  49196,\n",
       "  19427,\n",
       "  4601,\n",
       "  49922,\n",
       "  45635,\n",
       "  35684,\n",
       "  3579,\n",
       "  7621,\n",
       "  8465,\n",
       "  33959,\n",
       "  27521,\n",
       "  27015],\n",
       " 'dataset_info': {'training': \"'FastMNIST (train)'\",\n",
       "  'test': \"'FastMNIST (test, 10000 samples)'\"},\n",
       " 'obi_performances': [[OBIPerformance(total_training_set_size=20, real_training_set_size=20, online_training_set_size=0, trial_index=0, num_samples=10, accuracy=0.538100004196167, crossentropy=1.516221893453387),\n",
       "   OBIPerformance(total_training_set_size=20, real_training_set_size=20, online_training_set_size=0, trial_index=1, num_samples=10, accuracy=0.5690000057220459, crossentropy=1.394369463295061),\n",
       "   OBIPerformance(total_training_set_size=20, real_training_set_size=20, online_training_set_size=0, trial_index=2, num_samples=10, accuracy=0.578000009059906, crossentropy=1.4390312500523),\n",
       "   OBIPerformance(total_training_set_size=20, real_training_set_size=20, online_training_set_size=0, trial_index=3, num_samples=10, accuracy=0.5702999830245972, crossentropy=1.3985775331252561),\n",
       "   OBIPerformance(total_training_set_size=20, real_training_set_size=20, online_training_set_size=0, trial_index=4, num_samples=10, accuracy=0.5687000155448914, crossentropy=1.4096811979439918),\n",
       "   OBIPerformance(total_training_set_size=20, real_training_set_size=20, online_training_set_size=0, trial_index=0, num_samples=100, accuracy=0.589900016784668, crossentropy=1.335559089110711),\n",
       "   OBIPerformance(total_training_set_size=20, real_training_set_size=20, online_training_set_size=0, trial_index=1, num_samples=100, accuracy=0.5927000045776367, crossentropy=1.3349937885306855),\n",
       "   OBIPerformance(total_training_set_size=20, real_training_set_size=20, online_training_set_size=0, trial_index=2, num_samples=100, accuracy=0.5892999768257141, crossentropy=1.3305602299056785),\n",
       "   OBIPerformance(total_training_set_size=20, real_training_set_size=20, online_training_set_size=0, trial_index=3, num_samples=100, accuracy=0.5884000062942505, crossentropy=1.326474675328213),\n",
       "   OBIPerformance(total_training_set_size=20, real_training_set_size=20, online_training_set_size=0, trial_index=4, num_samples=100, accuracy=0.5889999866485596, crossentropy=1.327846993107089),\n",
       "   OBIPerformance(total_training_set_size=21, real_training_set_size=20, online_training_set_size=1, trial_index=0, num_samples=10, accuracy=0.5108000040054321, crossentropy=1.4310323746858784),\n",
       "   OBIPerformance(total_training_set_size=21, real_training_set_size=20, online_training_set_size=1, trial_index=1, num_samples=10, accuracy=0.5382999777793884, crossentropy=1.4689672375465028),\n",
       "   OBIPerformance(total_training_set_size=21, real_training_set_size=20, online_training_set_size=1, trial_index=2, num_samples=10, accuracy=0.5706999897956848, crossentropy=1.3674014090958952),\n",
       "   OBIPerformance(total_training_set_size=21, real_training_set_size=20, online_training_set_size=1, trial_index=3, num_samples=10, accuracy=0.4722999930381775, crossentropy=1.7070471526844717),\n",
       "   OBIPerformance(total_training_set_size=21, real_training_set_size=20, online_training_set_size=1, trial_index=4, num_samples=10, accuracy=0.4941999912261963, crossentropy=1.5801827079626178),\n",
       "   OBIPerformance(total_training_set_size=21, real_training_set_size=20, online_training_set_size=1, trial_index=0, num_samples=100, accuracy=0.555899977684021, crossentropy=1.3692344624259745),\n",
       "   OBIPerformance(total_training_set_size=21, real_training_set_size=20, online_training_set_size=1, trial_index=1, num_samples=100, accuracy=0.5461999773979187, crossentropy=1.3893260465550705),\n",
       "   OBIPerformance(total_training_set_size=21, real_training_set_size=20, online_training_set_size=1, trial_index=2, num_samples=100, accuracy=0.5467000007629395, crossentropy=1.4121668238064042),\n",
       "   OBIPerformance(total_training_set_size=21, real_training_set_size=20, online_training_set_size=1, trial_index=3, num_samples=100, accuracy=0.5705000162124634, crossentropy=1.340967229007888),\n",
       "   OBIPerformance(total_training_set_size=21, real_training_set_size=20, online_training_set_size=1, trial_index=4, num_samples=100, accuracy=0.5415999889373779, crossentropy=1.3909245617626436),\n",
       "   OBIPerformance(total_training_set_size=22, real_training_set_size=20, online_training_set_size=2, trial_index=0, num_samples=10, accuracy=0.4828000068664551, crossentropy=1.640097319819771),\n",
       "   OBIPerformance(total_training_set_size=22, real_training_set_size=20, online_training_set_size=2, trial_index=1, num_samples=10, accuracy=0.383899986743927, crossentropy=1.998316493829286),\n",
       "   OBIPerformance(total_training_set_size=22, real_training_set_size=20, online_training_set_size=2, trial_index=2, num_samples=10, accuracy=0.5619000196456909, crossentropy=1.3614083629595173),\n",
       "   OBIPerformance(total_training_set_size=22, real_training_set_size=20, online_training_set_size=2, trial_index=3, num_samples=10, accuracy=0.5605999827384949, crossentropy=1.5468709941090097),\n",
       "   OBIPerformance(total_training_set_size=22, real_training_set_size=20, online_training_set_size=2, trial_index=4, num_samples=10, accuracy=0.4586000144481659, crossentropy=1.5487413009570614),\n",
       "   OBIPerformance(total_training_set_size=22, real_training_set_size=20, online_training_set_size=2, trial_index=0, num_samples=100, accuracy=0.5400999784469604, crossentropy=1.4679958268059266),\n",
       "   OBIPerformance(total_training_set_size=22, real_training_set_size=20, online_training_set_size=2, trial_index=1, num_samples=100, accuracy=0.5325000286102295, crossentropy=1.4296249512044592),\n",
       "   OBIPerformance(total_training_set_size=22, real_training_set_size=20, online_training_set_size=2, trial_index=2, num_samples=100, accuracy=0.5491999983787537, crossentropy=1.4132995300598465),\n",
       "   OBIPerformance(total_training_set_size=22, real_training_set_size=20, online_training_set_size=2, trial_index=3, num_samples=100, accuracy=0.5425000190734863, crossentropy=1.4154437291381885),\n",
       "   OBIPerformance(total_training_set_size=22, real_training_set_size=20, online_training_set_size=2, trial_index=4, num_samples=100, accuracy=0.5428000092506409, crossentropy=1.4202467605273033),\n",
       "   OBIPerformance(total_training_set_size=23, real_training_set_size=20, online_training_set_size=3, trial_index=0, num_samples=10, accuracy=0.46540001034736633, crossentropy=1.6941649669171794),\n",
       "   OBIPerformance(total_training_set_size=23, real_training_set_size=20, online_training_set_size=3, trial_index=1, num_samples=10, accuracy=0.5766000151634216, crossentropy=1.33491877038404),\n",
       "   OBIPerformance(total_training_set_size=23, real_training_set_size=20, online_training_set_size=3, trial_index=2, num_samples=10, accuracy=0.42559999227523804, crossentropy=1.9941827284583042),\n",
       "   OBIPerformance(total_training_set_size=23, real_training_set_size=20, online_training_set_size=3, trial_index=3, num_samples=10, accuracy=0.4498000144958496, crossentropy=1.9126078195619989),\n",
       "   OBIPerformance(total_training_set_size=23, real_training_set_size=20, online_training_set_size=3, trial_index=4, num_samples=10, accuracy=0.48429998755455017, crossentropy=1.5444571334279291),\n",
       "   OBIPerformance(total_training_set_size=23, real_training_set_size=20, online_training_set_size=3, trial_index=0, num_samples=100, accuracy=0.5055000185966492, crossentropy=1.4592617706394788),\n",
       "   OBIPerformance(total_training_set_size=23, real_training_set_size=20, online_training_set_size=3, trial_index=1, num_samples=100, accuracy=0.5791000127792358, crossentropy=1.3435869851745037),\n",
       "   OBIPerformance(total_training_set_size=23, real_training_set_size=20, online_training_set_size=3, trial_index=2, num_samples=100, accuracy=0.5246000289916992, crossentropy=1.4374560238386542),\n",
       "   OBIPerformance(total_training_set_size=23, real_training_set_size=20, online_training_set_size=3, trial_index=3, num_samples=100, accuracy=0.5454000234603882, crossentropy=1.4060078429477834),\n",
       "   OBIPerformance(total_training_set_size=23, real_training_set_size=20, online_training_set_size=3, trial_index=4, num_samples=100, accuracy=0.507099986076355, crossentropy=1.4585205344874193),\n",
       "   OBIPerformance(total_training_set_size=24, real_training_set_size=20, online_training_set_size=4, trial_index=0, num_samples=10, accuracy=0.492000013589859, crossentropy=1.5434660181821085),\n",
       "   OBIPerformance(total_training_set_size=24, real_training_set_size=20, online_training_set_size=4, trial_index=1, num_samples=10, accuracy=0.5871000289916992, crossentropy=1.3112769217945621),\n",
       "   OBIPerformance(total_training_set_size=24, real_training_set_size=20, online_training_set_size=4, trial_index=2, num_samples=10, accuracy=0.5235000252723694, crossentropy=1.550065473856313),\n",
       "   OBIPerformance(total_training_set_size=24, real_training_set_size=20, online_training_set_size=4, trial_index=3, num_samples=10, accuracy=0.43810001015663147, crossentropy=1.6212727767219297),\n",
       "   OBIPerformance(total_training_set_size=24, real_training_set_size=20, online_training_set_size=4, trial_index=4, num_samples=10, accuracy=0.538100004196167, crossentropy=1.4224725189917262),\n",
       "   OBIPerformance(total_training_set_size=24, real_training_set_size=20, online_training_set_size=4, trial_index=0, num_samples=100, accuracy=0.5842000246047974, crossentropy=1.335075112353193),\n",
       "   OBIPerformance(total_training_set_size=24, real_training_set_size=20, online_training_set_size=4, trial_index=1, num_samples=100, accuracy=0.5770999789237976, crossentropy=1.4018046512510478),\n",
       "   OBIPerformance(total_training_set_size=24, real_training_set_size=20, online_training_set_size=4, trial_index=2, num_samples=100, accuracy=0.5723000168800354, crossentropy=1.4060498496145326),\n",
       "   OBIPerformance(total_training_set_size=24, real_training_set_size=20, online_training_set_size=4, trial_index=3, num_samples=100, accuracy=0.5763999819755554, crossentropy=1.3260788603580833),\n",
       "   OBIPerformance(total_training_set_size=24, real_training_set_size=20, online_training_set_size=4, trial_index=4, num_samples=100, accuracy=0.6014000177383423, crossentropy=1.3545435081220982),\n",
       "   OBIPerformance(total_training_set_size=25, real_training_set_size=20, online_training_set_size=5, trial_index=0, num_samples=10, accuracy=0.4230000078678131, crossentropy=1.7063899486848353),\n",
       "   OBIPerformance(total_training_set_size=25, real_training_set_size=20, online_training_set_size=5, trial_index=1, num_samples=10, accuracy=0.4413999915122986, crossentropy=1.8784460713362507),\n",
       "   OBIPerformance(total_training_set_size=25, real_training_set_size=20, online_training_set_size=5, trial_index=2, num_samples=10, accuracy=0.4537999927997589, crossentropy=1.5809112179319735),\n",
       "   OBIPerformance(total_training_set_size=25, real_training_set_size=20, online_training_set_size=5, trial_index=3, num_samples=10, accuracy=0.4115999937057495, crossentropy=1.7492424631097518),\n",
       "   OBIPerformance(total_training_set_size=25, real_training_set_size=20, online_training_set_size=5, trial_index=4, num_samples=10, accuracy=0.5099999904632568, crossentropy=1.6358352208201898),\n",
       "   OBIPerformance(total_training_set_size=25, real_training_set_size=20, online_training_set_size=5, trial_index=0, num_samples=100, accuracy=0.4876999855041504, crossentropy=1.5200327706793209),\n",
       "   OBIPerformance(total_training_set_size=25, real_training_set_size=20, online_training_set_size=5, trial_index=1, num_samples=100, accuracy=0.567300021648407, crossentropy=1.4114834289959146),\n",
       "   OBIPerformance(total_training_set_size=25, real_training_set_size=20, online_training_set_size=5, trial_index=2, num_samples=100, accuracy=0.490200012922287, crossentropy=1.521271881289261),\n",
       "   OBIPerformance(total_training_set_size=25, real_training_set_size=20, online_training_set_size=5, trial_index=3, num_samples=100, accuracy=0.4586000144481659, crossentropy=1.571481322419214),\n",
       "   OBIPerformance(total_training_set_size=25, real_training_set_size=20, online_training_set_size=5, trial_index=4, num_samples=100, accuracy=0.5403000116348267, crossentropy=1.4178464957416665),\n",
       "   OBIPerformance(total_training_set_size=26, real_training_set_size=20, online_training_set_size=6, trial_index=0, num_samples=10, accuracy=0.5253000259399414, crossentropy=1.4747099626123017),\n",
       "   OBIPerformance(total_training_set_size=26, real_training_set_size=20, online_training_set_size=6, trial_index=1, num_samples=10, accuracy=0.48399999737739563, crossentropy=1.554101437140076),\n",
       "   OBIPerformance(total_training_set_size=26, real_training_set_size=20, online_training_set_size=6, trial_index=2, num_samples=10, accuracy=0.4194999933242798, crossentropy=1.7205025649786614),\n",
       "   OBIPerformance(total_training_set_size=26, real_training_set_size=20, online_training_set_size=6, trial_index=3, num_samples=10, accuracy=0.44119998812675476, crossentropy=1.6098627574521018),\n",
       "   OBIPerformance(total_training_set_size=26, real_training_set_size=20, online_training_set_size=6, trial_index=4, num_samples=10, accuracy=0.5285000205039978, crossentropy=1.434040272415036),\n",
       "   OBIPerformance(total_training_set_size=26, real_training_set_size=20, online_training_set_size=6, trial_index=0, num_samples=100, accuracy=0.5637000203132629, crossentropy=1.4240856171016043),\n",
       "   OBIPerformance(total_training_set_size=26, real_training_set_size=20, online_training_set_size=6, trial_index=1, num_samples=100, accuracy=0.5626999735832214, crossentropy=1.417474933965884),\n",
       "   OBIPerformance(total_training_set_size=26, real_training_set_size=20, online_training_set_size=6, trial_index=2, num_samples=100, accuracy=0.5612000226974487, crossentropy=1.385929869604441),\n",
       "   OBIPerformance(total_training_set_size=26, real_training_set_size=20, online_training_set_size=6, trial_index=3, num_samples=100, accuracy=0.5623999834060669, crossentropy=1.4224550458626617),\n",
       "   OBIPerformance(total_training_set_size=26, real_training_set_size=20, online_training_set_size=6, trial_index=4, num_samples=100, accuracy=0.5658000111579895, crossentropy=1.3812882008355278),\n",
       "   OBIPerformance(total_training_set_size=27, real_training_set_size=20, online_training_set_size=7, trial_index=0, num_samples=10, accuracy=0.5289999842643738, crossentropy=1.5204433397631762),\n",
       "   OBIPerformance(total_training_set_size=27, real_training_set_size=20, online_training_set_size=7, trial_index=1, num_samples=10, accuracy=0.427700012922287, crossentropy=1.698829331811973),\n",
       "   OBIPerformance(total_training_set_size=27, real_training_set_size=20, online_training_set_size=7, trial_index=2, num_samples=10, accuracy=0.5514000058174133, crossentropy=1.4818146365081875),\n",
       "   OBIPerformance(total_training_set_size=27, real_training_set_size=20, online_training_set_size=7, trial_index=3, num_samples=10, accuracy=0.46369999647140503, crossentropy=1.5850571383495478),\n",
       "   OBIPerformance(total_training_set_size=27, real_training_set_size=20, online_training_set_size=7, trial_index=4, num_samples=10, accuracy=0.43860000371932983, crossentropy=1.6193627475884438),\n",
       "   OBIPerformance(total_training_set_size=27, real_training_set_size=20, online_training_set_size=7, trial_index=0, num_samples=100, accuracy=0.48910000920295715, crossentropy=1.5199999125600345),\n",
       "   OBIPerformance(total_training_set_size=27, real_training_set_size=20, online_training_set_size=7, trial_index=1, num_samples=100, accuracy=0.48980000615119934, crossentropy=1.519081176457409),\n",
       "   OBIPerformance(total_training_set_size=27, real_training_set_size=20, online_training_set_size=7, trial_index=2, num_samples=100, accuracy=0.48590001463890076, crossentropy=1.529872042842119),\n",
       "   OBIPerformance(total_training_set_size=27, real_training_set_size=20, online_training_set_size=7, trial_index=3, num_samples=100, accuracy=0.5598000288009644, crossentropy=1.4015750651377823),\n",
       "   OBIPerformance(total_training_set_size=27, real_training_set_size=20, online_training_set_size=7, trial_index=4, num_samples=100, accuracy=0.47540000081062317, crossentropy=1.5675185960155897),\n",
       "   OBIPerformance(total_training_set_size=28, real_training_set_size=20, online_training_set_size=8, trial_index=0, num_samples=10, accuracy=0.4433000087738037, crossentropy=1.6035994605316592),\n",
       "   OBIPerformance(total_training_set_size=28, real_training_set_size=20, online_training_set_size=8, trial_index=1, num_samples=10, accuracy=0.5253000259399414, crossentropy=1.4747343085858566),\n",
       "   OBIPerformance(total_training_set_size=28, real_training_set_size=20, online_training_set_size=8, trial_index=2, num_samples=10, accuracy=0.5228999853134155, crossentropy=1.7230733964234788),\n",
       "   OBIPerformance(total_training_set_size=28, real_training_set_size=20, online_training_set_size=8, trial_index=3, num_samples=10, accuracy=0.4957999885082245, crossentropy=1.7042442318957434),\n",
       "   OBIPerformance(total_training_set_size=28, real_training_set_size=20, online_training_set_size=8, trial_index=4, num_samples=10, accuracy=0.5604000091552734, crossentropy=1.6179471884154344),\n",
       "   OBIPerformance(total_training_set_size=28, real_training_set_size=20, online_training_set_size=8, trial_index=0, num_samples=100, accuracy=0.4406999945640564, crossentropy=1.6138038182093437),\n",
       "   OBIPerformance(total_training_set_size=28, real_training_set_size=20, online_training_set_size=8, trial_index=1, num_samples=100, accuracy=0.4952999949455261, crossentropy=1.5516442793194338),\n",
       "   OBIPerformance(total_training_set_size=28, real_training_set_size=20, online_training_set_size=8, trial_index=2, num_samples=100, accuracy=0.4147000014781952, crossentropy=1.73651682346683),\n",
       "   OBIPerformance(total_training_set_size=28, real_training_set_size=20, online_training_set_size=8, trial_index=3, num_samples=100, accuracy=0.4772999882698059, crossentropy=1.556860853399344),\n",
       "   OBIPerformance(total_training_set_size=28, real_training_set_size=20, online_training_set_size=8, trial_index=4, num_samples=100, accuracy=0.4749999940395355, crossentropy=1.560255091366018),\n",
       "   OBIPerformance(total_training_set_size=29, real_training_set_size=20, online_training_set_size=9, trial_index=0, num_samples=10, accuracy=0.5460000038146973, crossentropy=1.5457934192441967),\n",
       "   OBIPerformance(total_training_set_size=29, real_training_set_size=20, online_training_set_size=9, trial_index=1, num_samples=10, accuracy=0.546500027179718, crossentropy=1.527443198214064),\n",
       "   OBIPerformance(total_training_set_size=29, real_training_set_size=20, online_training_set_size=9, trial_index=2, num_samples=10, accuracy=0.5333999991416931, crossentropy=1.4619989457136748),\n",
       "   OBIPerformance(total_training_set_size=29, real_training_set_size=20, online_training_set_size=9, trial_index=3, num_samples=10, accuracy=0.524399995803833, crossentropy=1.4459335009817293),\n",
       "   OBIPerformance(total_training_set_size=29, real_training_set_size=20, online_training_set_size=9, trial_index=4, num_samples=10, accuracy=0.5178999900817871, crossentropy=1.514726970924966),\n",
       "   OBIPerformance(total_training_set_size=29, real_training_set_size=20, online_training_set_size=9, trial_index=0, num_samples=100, accuracy=0.43959999084472656, crossentropy=1.6169641866016042),\n",
       "   OBIPerformance(total_training_set_size=29, real_training_set_size=20, online_training_set_size=9, trial_index=1, num_samples=100, accuracy=0.44190001487731934, crossentropy=1.6108624702045151),\n",
       "   OBIPerformance(total_training_set_size=29, real_training_set_size=20, online_training_set_size=9, trial_index=2, num_samples=100, accuracy=0.48399999737739563, crossentropy=1.5596720207710035),\n",
       "   OBIPerformance(total_training_set_size=29, real_training_set_size=20, online_training_set_size=9, trial_index=3, num_samples=100, accuracy=0.43950000405311584, crossentropy=1.6168463713939287),\n",
       "   OBIPerformance(total_training_set_size=29, real_training_set_size=20, online_training_set_size=9, trial_index=4, num_samples=100, accuracy=0.5526000261306763, crossentropy=1.422336710444493),\n",
       "   OBIPerformance(total_training_set_size=30, real_training_set_size=20, online_training_set_size=10, trial_index=0, num_samples=10, accuracy=0.5146999955177307, crossentropy=1.59071577353385),\n",
       "   OBIPerformance(total_training_set_size=30, real_training_set_size=20, online_training_set_size=10, trial_index=1, num_samples=10, accuracy=0.48330000042915344, crossentropy=1.5600168334171838),\n",
       "   OBIPerformance(total_training_set_size=30, real_training_set_size=20, online_training_set_size=10, trial_index=2, num_samples=10, accuracy=0.5587000250816345, crossentropy=1.3704955509548913),\n",
       "   OBIPerformance(total_training_set_size=30, real_training_set_size=20, online_training_set_size=10, trial_index=3, num_samples=10, accuracy=0.4675000011920929, crossentropy=1.6099594739354792),\n",
       "   OBIPerformance(total_training_set_size=30, real_training_set_size=20, online_training_set_size=10, trial_index=4, num_samples=10, accuracy=0.43799999356269836, crossentropy=1.621819811882544),\n",
       "   OBIPerformance(total_training_set_size=30, real_training_set_size=20, online_training_set_size=10, trial_index=0, num_samples=100, accuracy=0.5471000075340271, crossentropy=1.4569512473178925),\n",
       "   OBIPerformance(total_training_set_size=30, real_training_set_size=20, online_training_set_size=10, trial_index=1, num_samples=100, accuracy=0.5024999976158142, crossentropy=1.5201764815928764),\n",
       "   OBIPerformance(total_training_set_size=30, real_training_set_size=20, online_training_set_size=10, trial_index=2, num_samples=100, accuracy=0.4814999997615814, crossentropy=1.523882362156875),\n",
       "   OBIPerformance(total_training_set_size=30, real_training_set_size=20, online_training_set_size=10, trial_index=3, num_samples=100, accuracy=0.4916999936103821, crossentropy=1.5245047330435468),\n",
       "   OBIPerformance(total_training_set_size=30, real_training_set_size=20, online_training_set_size=10, trial_index=4, num_samples=100, accuracy=0.4390999972820282, crossentropy=1.6182969328551637)],\n",
       "  [OBIPerformance(total_training_set_size=25, real_training_set_size=25, online_training_set_size=0, trial_index=0, num_samples=10, accuracy=0.6100999712944031, crossentropy=1.6376072416808467),\n",
       "   OBIPerformance(total_training_set_size=25, real_training_set_size=25, online_training_set_size=0, trial_index=1, num_samples=10, accuracy=0.6097999811172485, crossentropy=1.615296419706585),\n",
       "   OBIPerformance(total_training_set_size=25, real_training_set_size=25, online_training_set_size=0, trial_index=2, num_samples=10, accuracy=0.5914000272750854, crossentropy=1.9317943811467426),\n",
       "   OBIPerformance(total_training_set_size=25, real_training_set_size=25, online_training_set_size=0, trial_index=3, num_samples=10, accuracy=0.6015999913215637, crossentropy=1.4375807893623322),\n",
       "   OBIPerformance(total_training_set_size=25, real_training_set_size=25, online_training_set_size=0, trial_index=4, num_samples=10, accuracy=0.6104000210762024, crossentropy=1.8309441336785284),\n",
       "   OBIPerformance(total_training_set_size=25, real_training_set_size=25, online_training_set_size=0, trial_index=0, num_samples=100, accuracy=0.6100999712944031, crossentropy=1.5381897910683175),\n",
       "   OBIPerformance(total_training_set_size=25, real_training_set_size=25, online_training_set_size=0, trial_index=1, num_samples=100, accuracy=0.6074000000953674, crossentropy=1.5889133845215737),\n",
       "   OBIPerformance(total_training_set_size=25, real_training_set_size=25, online_training_set_size=0, trial_index=2, num_samples=100, accuracy=0.6078000068664551, crossentropy=1.5115162383650613),\n",
       "   OBIPerformance(total_training_set_size=25, real_training_set_size=25, online_training_set_size=0, trial_index=3, num_samples=100, accuracy=0.6104000210762024, crossentropy=1.5038056689931252),\n",
       "   OBIPerformance(total_training_set_size=25, real_training_set_size=25, online_training_set_size=0, trial_index=4, num_samples=100, accuracy=0.6118000149726868, crossentropy=1.5320206094214917),\n",
       "   OBIPerformance(total_training_set_size=26, real_training_set_size=25, online_training_set_size=1, trial_index=0, num_samples=10, accuracy=0.5544000267982483, crossentropy=1.9709936213214279),\n",
       "   OBIPerformance(total_training_set_size=26, real_training_set_size=25, online_training_set_size=1, trial_index=1, num_samples=10, accuracy=0.6014999747276306, crossentropy=1.9488236465841866),\n",
       "   OBIPerformance(total_training_set_size=26, real_training_set_size=25, online_training_set_size=1, trial_index=2, num_samples=10, accuracy=0.5523999929428101, crossentropy=2.0429818992965467),\n",
       "   OBIPerformance(total_training_set_size=26, real_training_set_size=25, online_training_set_size=1, trial_index=3, num_samples=10, accuracy=0.5371999740600586, crossentropy=2.099833893563872),\n",
       "   OBIPerformance(total_training_set_size=26, real_training_set_size=25, online_training_set_size=1, trial_index=4, num_samples=10, accuracy=0.5705000162124634, crossentropy=1.8870867260437725),\n",
       "   OBIPerformance(total_training_set_size=26, real_training_set_size=25, online_training_set_size=1, trial_index=0, num_samples=100, accuracy=0.5992000102996826, crossentropy=1.654170173885335),\n",
       "   OBIPerformance(total_training_set_size=26, real_training_set_size=25, online_training_set_size=1, trial_index=1, num_samples=100, accuracy=0.6043999791145325, crossentropy=1.6092253931080474),\n",
       "   OBIPerformance(total_training_set_size=26, real_training_set_size=25, online_training_set_size=1, trial_index=2, num_samples=100, accuracy=0.5914999842643738, crossentropy=1.676038880737029),\n",
       "   OBIPerformance(total_training_set_size=26, real_training_set_size=25, online_training_set_size=1, trial_index=3, num_samples=100, accuracy=0.5961999893188477, crossentropy=1.6445126566418138),\n",
       "   OBIPerformance(total_training_set_size=26, real_training_set_size=25, online_training_set_size=1, trial_index=4, num_samples=100, accuracy=0.5899999737739563, crossentropy=1.6852523026283797),\n",
       "   OBIPerformance(total_training_set_size=27, real_training_set_size=25, online_training_set_size=2, trial_index=0, num_samples=10, accuracy=0.5817000269889832, crossentropy=1.9717441695144633),\n",
       "   OBIPerformance(total_training_set_size=27, real_training_set_size=25, online_training_set_size=2, trial_index=1, num_samples=10, accuracy=0.5360999703407288, crossentropy=2.183609979635687),\n",
       "   OBIPerformance(total_training_set_size=27, real_training_set_size=25, online_training_set_size=2, trial_index=2, num_samples=10, accuracy=0.5899999737739563, crossentropy=1.889122755179886),\n",
       "   OBIPerformance(total_training_set_size=27, real_training_set_size=25, online_training_set_size=2, trial_index=3, num_samples=10, accuracy=0.5180000066757202, crossentropy=2.834119843432201),\n",
       "   OBIPerformance(total_training_set_size=27, real_training_set_size=25, online_training_set_size=2, trial_index=4, num_samples=10, accuracy=0.5260999798774719, crossentropy=2.2044175901266927),\n",
       "   OBIPerformance(total_training_set_size=27, real_training_set_size=25, online_training_set_size=2, trial_index=0, num_samples=100, accuracy=0.5857999920845032, crossentropy=1.7883326441781464),\n",
       "   OBIPerformance(total_training_set_size=27, real_training_set_size=25, online_training_set_size=2, trial_index=1, num_samples=100, accuracy=0.5080999732017517, crossentropy=2.2506345206153635),\n",
       "   OBIPerformance(total_training_set_size=27, real_training_set_size=25, online_training_set_size=2, trial_index=2, num_samples=100, accuracy=0.5875999927520752, crossentropy=1.839266339663366),\n",
       "   OBIPerformance(total_training_set_size=27, real_training_set_size=25, online_training_set_size=2, trial_index=3, num_samples=100, accuracy=0.5813999772071838, crossentropy=1.8494240900683825),\n",
       "   OBIPerformance(total_training_set_size=27, real_training_set_size=25, online_training_set_size=2, trial_index=4, num_samples=100, accuracy=0.5268999934196472, crossentropy=2.2260231643049293),\n",
       "   OBIPerformance(total_training_set_size=28, real_training_set_size=25, online_training_set_size=3, trial_index=0, num_samples=10, accuracy=0.5751000046730042, crossentropy=1.7488442436620844),\n",
       "   OBIPerformance(total_training_set_size=28, real_training_set_size=25, online_training_set_size=3, trial_index=1, num_samples=10, accuracy=0.5726000070571899, crossentropy=2.240477478330983),\n",
       "   OBIPerformance(total_training_set_size=28, real_training_set_size=25, online_training_set_size=3, trial_index=2, num_samples=10, accuracy=0.58160001039505, crossentropy=2.01932261751905),\n",
       "   OBIPerformance(total_training_set_size=28, real_training_set_size=25, online_training_set_size=3, trial_index=3, num_samples=10, accuracy=0.5756000280380249, crossentropy=1.8769506062711927),\n",
       "   OBIPerformance(total_training_set_size=28, real_training_set_size=25, online_training_set_size=3, trial_index=4, num_samples=10, accuracy=0.5889999866485596, crossentropy=1.9076354853849629),\n",
       "   OBIPerformance(total_training_set_size=28, real_training_set_size=25, online_training_set_size=3, trial_index=0, num_samples=100, accuracy=0.519599974155426, crossentropy=2.2496125445840387),\n",
       "   OBIPerformance(total_training_set_size=28, real_training_set_size=25, online_training_set_size=3, trial_index=1, num_samples=100, accuracy=0.5202000141143799, crossentropy=2.2396571847792197),\n",
       "   OBIPerformance(total_training_set_size=28, real_training_set_size=25, online_training_set_size=3, trial_index=2, num_samples=100, accuracy=0.5157999992370605, crossentropy=2.2125949128246485),\n",
       "   OBIPerformance(total_training_set_size=28, real_training_set_size=25, online_training_set_size=3, trial_index=3, num_samples=100, accuracy=0.5889999866485596, crossentropy=1.8628801053480448),\n",
       "   OBIPerformance(total_training_set_size=28, real_training_set_size=25, online_training_set_size=3, trial_index=4, num_samples=100, accuracy=0.5224999785423279, crossentropy=2.3735127332052395),\n",
       "   OBIPerformance(total_training_set_size=29, real_training_set_size=25, online_training_set_size=4, trial_index=0, num_samples=10, accuracy=0.5767999887466431, crossentropy=2.641944438443787),\n",
       "   OBIPerformance(total_training_set_size=29, real_training_set_size=25, online_training_set_size=4, trial_index=1, num_samples=10, accuracy=0.58160001039505, crossentropy=1.985471471506219),\n",
       "   OBIPerformance(total_training_set_size=29, real_training_set_size=25, online_training_set_size=4, trial_index=2, num_samples=10, accuracy=0.5898000001907349, crossentropy=2.02617115135217),\n",
       "   OBIPerformance(total_training_set_size=29, real_training_set_size=25, online_training_set_size=4, trial_index=3, num_samples=10, accuracy=0.5501000285148621, crossentropy=2.4420125597094775),\n",
       "   OBIPerformance(total_training_set_size=29, real_training_set_size=25, online_training_set_size=4, trial_index=4, num_samples=10, accuracy=0.5867000222206116, crossentropy=1.8085561077739978),\n",
       "   OBIPerformance(total_training_set_size=29, real_training_set_size=25, online_training_set_size=4, trial_index=0, num_samples=100, accuracy=0.607699990272522, crossentropy=1.6434745846272796),\n",
       "   OBIPerformance(total_training_set_size=29, real_training_set_size=25, online_training_set_size=4, trial_index=1, num_samples=100, accuracy=0.6273000240325928, crossentropy=1.5586418345181836),\n",
       "   OBIPerformance(total_training_set_size=29, real_training_set_size=25, online_training_set_size=4, trial_index=2, num_samples=100, accuracy=0.623199999332428, crossentropy=1.6223923761514683),\n",
       "   OBIPerformance(total_training_set_size=29, real_training_set_size=25, online_training_set_size=4, trial_index=3, num_samples=100, accuracy=0.5976999998092651, crossentropy=1.769269589450079),\n",
       "   OBIPerformance(total_training_set_size=29, real_training_set_size=25, online_training_set_size=4, trial_index=4, num_samples=100, accuracy=0.6086999773979187, crossentropy=1.6456227645143096),\n",
       "   OBIPerformance(total_training_set_size=30, real_training_set_size=25, online_training_set_size=5, trial_index=0, num_samples=10, accuracy=0.597599983215332, crossentropy=1.736539457927888),\n",
       "   OBIPerformance(total_training_set_size=30, real_training_set_size=25, online_training_set_size=5, trial_index=1, num_samples=10, accuracy=0.5728999972343445, crossentropy=1.7106097900693544),\n",
       "   OBIPerformance(total_training_set_size=30, real_training_set_size=25, online_training_set_size=5, trial_index=2, num_samples=10, accuracy=0.5656999945640564, crossentropy=1.6273046869569054),\n",
       "   OBIPerformance(total_training_set_size=30, real_training_set_size=25, online_training_set_size=5, trial_index=3, num_samples=10, accuracy=0.5623999834060669, crossentropy=2.700319981735113),\n",
       "   OBIPerformance(total_training_set_size=30, real_training_set_size=25, online_training_set_size=5, trial_index=4, num_samples=10, accuracy=0.5582000017166138, crossentropy=2.0554589601092697),\n",
       "   OBIPerformance(total_training_set_size=30, real_training_set_size=25, online_training_set_size=5, trial_index=0, num_samples=100, accuracy=0.5694000124931335, crossentropy=1.638806473920221),\n",
       "   OBIPerformance(total_training_set_size=30, real_training_set_size=25, online_training_set_size=5, trial_index=1, num_samples=100, accuracy=0.5414999723434448, crossentropy=1.7817528223899666),\n",
       "   OBIPerformance(total_training_set_size=30, real_training_set_size=25, online_training_set_size=5, trial_index=2, num_samples=100, accuracy=0.5687999725341797, crossentropy=1.736103958209068),\n",
       "   OBIPerformance(total_training_set_size=30, real_training_set_size=25, online_training_set_size=5, trial_index=3, num_samples=100, accuracy=0.5788000226020813, crossentropy=1.6854608578821277),\n",
       "   OBIPerformance(total_training_set_size=30, real_training_set_size=25, online_training_set_size=5, trial_index=4, num_samples=100, accuracy=0.5608999729156494, crossentropy=1.7576803008335282),\n",
       "   OBIPerformance(total_training_set_size=31, real_training_set_size=25, online_training_set_size=6, trial_index=0, num_samples=10, accuracy=0.5526999831199646, crossentropy=2.162691137476734),\n",
       "   OBIPerformance(total_training_set_size=31, real_training_set_size=25, online_training_set_size=6, trial_index=1, num_samples=10, accuracy=0.6323000192642212, crossentropy=1.7017910256220676),\n",
       "   OBIPerformance(total_training_set_size=31, real_training_set_size=25, online_training_set_size=6, trial_index=2, num_samples=10, accuracy=0.5940999984741211, crossentropy=1.8202552528398432),\n",
       "   OBIPerformance(total_training_set_size=31, real_training_set_size=25, online_training_set_size=6, trial_index=3, num_samples=10, accuracy=0.5676000118255615, crossentropy=1.8005403523684373),\n",
       "   OBIPerformance(total_training_set_size=31, real_training_set_size=25, online_training_set_size=6, trial_index=4, num_samples=10, accuracy=0.5103999972343445, crossentropy=2.961633716206063),\n",
       "   OBIPerformance(total_training_set_size=31, real_training_set_size=25, online_training_set_size=6, trial_index=0, num_samples=100, accuracy=0.5952000021934509, crossentropy=1.5563478480702626),\n",
       "   OBIPerformance(total_training_set_size=31, real_training_set_size=25, online_training_set_size=6, trial_index=1, num_samples=100, accuracy=0.6051999926567078, crossentropy=1.5486998200622526),\n",
       "   OBIPerformance(total_training_set_size=31, real_training_set_size=25, online_training_set_size=6, trial_index=2, num_samples=100, accuracy=0.5985999703407288, crossentropy=1.6610404141810795),\n",
       "   OBIPerformance(total_training_set_size=31, real_training_set_size=25, online_training_set_size=6, trial_index=3, num_samples=100, accuracy=0.5896000266075134, crossentropy=1.5953753865617757),\n",
       "   OBIPerformance(total_training_set_size=31, real_training_set_size=25, online_training_set_size=6, trial_index=4, num_samples=100, accuracy=0.6049000024795532, crossentropy=1.5607134193468577),\n",
       "   OBIPerformance(total_training_set_size=32, real_training_set_size=25, online_training_set_size=7, trial_index=0, num_samples=10, accuracy=0.5371000170707703, crossentropy=2.043801463605277),\n",
       "   OBIPerformance(total_training_set_size=32, real_training_set_size=25, online_training_set_size=7, trial_index=1, num_samples=10, accuracy=0.5932000279426575, crossentropy=1.9111877533216954),\n",
       "   OBIPerformance(total_training_set_size=32, real_training_set_size=25, online_training_set_size=7, trial_index=2, num_samples=10, accuracy=0.5785999894142151, crossentropy=1.8704877449817596),\n",
       "   OBIPerformance(total_training_set_size=32, real_training_set_size=25, online_training_set_size=7, trial_index=3, num_samples=10, accuracy=0.5956000089645386, crossentropy=1.8987038980257671),\n",
       "   OBIPerformance(total_training_set_size=32, real_training_set_size=25, online_training_set_size=7, trial_index=4, num_samples=10, accuracy=0.5250999927520752, crossentropy=2.388334066223233),\n",
       "   OBIPerformance(total_training_set_size=32, real_training_set_size=25, online_training_set_size=7, trial_index=0, num_samples=100, accuracy=0.6198999881744385, crossentropy=1.479960824291604),\n",
       "   OBIPerformance(total_training_set_size=32, real_training_set_size=25, online_training_set_size=7, trial_index=1, num_samples=100, accuracy=0.59579998254776, crossentropy=1.480162888433034),\n",
       "   OBIPerformance(total_training_set_size=32, real_training_set_size=25, online_training_set_size=7, trial_index=2, num_samples=100, accuracy=0.5475999712944031, crossentropy=1.7789497137354484),\n",
       "   OBIPerformance(total_training_set_size=32, real_training_set_size=25, online_training_set_size=7, trial_index=3, num_samples=100, accuracy=0.5507000088691711, crossentropy=1.7265107611438162),\n",
       "   OBIPerformance(total_training_set_size=32, real_training_set_size=25, online_training_set_size=7, trial_index=4, num_samples=100, accuracy=0.546500027179718, crossentropy=1.7856688982373592),\n",
       "   OBIPerformance(total_training_set_size=33, real_training_set_size=25, online_training_set_size=8, trial_index=0, num_samples=10, accuracy=0.5442000031471252, crossentropy=2.1340101865426444),\n",
       "   OBIPerformance(total_training_set_size=33, real_training_set_size=25, online_training_set_size=8, trial_index=1, num_samples=10, accuracy=0.5533999800682068, crossentropy=1.9940055103193088),\n",
       "   OBIPerformance(total_training_set_size=33, real_training_set_size=25, online_training_set_size=8, trial_index=2, num_samples=10, accuracy=0.5953999757766724, crossentropy=1.7291821105081828),\n",
       "   OBIPerformance(total_training_set_size=33, real_training_set_size=25, online_training_set_size=8, trial_index=3, num_samples=10, accuracy=0.5864999890327454, crossentropy=1.8024592735243607),\n",
       "   OBIPerformance(total_training_set_size=33, real_training_set_size=25, online_training_set_size=8, trial_index=4, num_samples=10, accuracy=0.5371000170707703, crossentropy=2.0309373522256426),\n",
       "   OBIPerformance(total_training_set_size=33, real_training_set_size=25, online_training_set_size=8, trial_index=0, num_samples=100, accuracy=0.5400000214576721, crossentropy=1.9180752324110844),\n",
       "   OBIPerformance(total_training_set_size=33, real_training_set_size=25, online_training_set_size=8, trial_index=1, num_samples=100, accuracy=0.541100025177002, crossentropy=1.916601084240894),\n",
       "   OBIPerformance(total_training_set_size=33, real_training_set_size=25, online_training_set_size=8, trial_index=2, num_samples=100, accuracy=0.5891000032424927, crossentropy=1.6037420898884498),\n",
       "   OBIPerformance(total_training_set_size=33, real_training_set_size=25, online_training_set_size=8, trial_index=3, num_samples=100, accuracy=0.5406000018119812, crossentropy=1.9299277980448255),\n",
       "   OBIPerformance(total_training_set_size=33, real_training_set_size=25, online_training_set_size=8, trial_index=4, num_samples=100, accuracy=0.5386999845504761, crossentropy=1.9910045475259932),\n",
       "   OBIPerformance(total_training_set_size=34, real_training_set_size=25, online_training_set_size=9, trial_index=0, num_samples=10, accuracy=0.5411999821662903, crossentropy=1.921045141596812),\n",
       "   OBIPerformance(total_training_set_size=34, real_training_set_size=25, online_training_set_size=9, trial_index=1, num_samples=10, accuracy=0.5717999935150146, crossentropy=1.8601931519355615),\n",
       "   OBIPerformance(total_training_set_size=34, real_training_set_size=25, online_training_set_size=9, trial_index=2, num_samples=10, accuracy=0.5764999985694885, crossentropy=1.9161851874110973),\n",
       "   OBIPerformance(total_training_set_size=34, real_training_set_size=25, online_training_set_size=9, trial_index=3, num_samples=10, accuracy=0.5925999879837036, crossentropy=1.7674351697271835),\n",
       "   OBIPerformance(total_training_set_size=34, real_training_set_size=25, online_training_set_size=9, trial_index=4, num_samples=10, accuracy=0.5735999941825867, crossentropy=1.84517442854294),\n",
       "   OBIPerformance(total_training_set_size=34, real_training_set_size=25, online_training_set_size=9, trial_index=0, num_samples=100, accuracy=0.5674999952316284, crossentropy=1.6574367656371642),\n",
       "   OBIPerformance(total_training_set_size=34, real_training_set_size=25, online_training_set_size=9, trial_index=1, num_samples=100, accuracy=0.5475000143051147, crossentropy=1.7657161202990383),\n",
       "   OBIPerformance(total_training_set_size=34, real_training_set_size=25, online_training_set_size=9, trial_index=2, num_samples=100, accuracy=0.5613999962806702, crossentropy=1.682907977431608),\n",
       "   OBIPerformance(total_training_set_size=34, real_training_set_size=25, online_training_set_size=9, trial_index=3, num_samples=100, accuracy=0.5701000094413757, crossentropy=1.6488591451325487),\n",
       "   OBIPerformance(total_training_set_size=34, real_training_set_size=25, online_training_set_size=9, trial_index=4, num_samples=100, accuracy=0.5996999740600586, crossentropy=1.6469500130991968),\n",
       "   OBIPerformance(total_training_set_size=35, real_training_set_size=25, online_training_set_size=10, trial_index=0, num_samples=10, accuracy=0.5860000252723694, crossentropy=1.7037003220558622),\n",
       "   OBIPerformance(total_training_set_size=35, real_training_set_size=25, online_training_set_size=10, trial_index=1, num_samples=10, accuracy=0.5260999798774719, crossentropy=2.375470636791103),\n",
       "   OBIPerformance(total_training_set_size=35, real_training_set_size=25, online_training_set_size=10, trial_index=2, num_samples=10, accuracy=0.5447999835014343, crossentropy=2.1348407867910284),\n",
       "   OBIPerformance(total_training_set_size=35, real_training_set_size=25, online_training_set_size=10, trial_index=3, num_samples=10, accuracy=0.5562999844551086, crossentropy=2.52490240724365),\n",
       "   OBIPerformance(total_training_set_size=35, real_training_set_size=25, online_training_set_size=10, trial_index=4, num_samples=10, accuracy=0.5253999829292297, crossentropy=2.4174216976274874),\n",
       "   OBIPerformance(total_training_set_size=35, real_training_set_size=25, online_training_set_size=10, trial_index=0, num_samples=100, accuracy=0.550000011920929, crossentropy=1.8399666425114811),\n",
       "   OBIPerformance(total_training_set_size=35, real_training_set_size=25, online_training_set_size=10, trial_index=1, num_samples=100, accuracy=0.5371000170707703, crossentropy=2.009523930110315),\n",
       "   OBIPerformance(total_training_set_size=35, real_training_set_size=25, online_training_set_size=10, trial_index=2, num_samples=100, accuracy=0.5400000214576721, crossentropy=1.9460873576058846),\n",
       "   OBIPerformance(total_training_set_size=35, real_training_set_size=25, online_training_set_size=10, trial_index=3, num_samples=100, accuracy=0.5440000295639038, crossentropy=1.8489375667687349),\n",
       "   OBIPerformance(total_training_set_size=35, real_training_set_size=25, online_training_set_size=10, trial_index=4, num_samples=100, accuracy=0.5401999950408936, crossentropy=1.943040866485901)],\n",
       "  [OBIPerformance(total_training_set_size=30, real_training_set_size=30, online_training_set_size=0, trial_index=0, num_samples=10, accuracy=0.6553000211715698, crossentropy=1.6493704446256634),\n",
       "   OBIPerformance(total_training_set_size=30, real_training_set_size=30, online_training_set_size=0, trial_index=1, num_samples=10, accuracy=0.6798999905586243, crossentropy=1.6922504163094116),\n",
       "   OBIPerformance(total_training_set_size=30, real_training_set_size=30, online_training_set_size=0, trial_index=2, num_samples=10, accuracy=0.6682999730110168, crossentropy=1.414807733161789),\n",
       "   OBIPerformance(total_training_set_size=30, real_training_set_size=30, online_training_set_size=0, trial_index=3, num_samples=10, accuracy=0.6841999888420105, crossentropy=1.4658374798565494),\n",
       "   OBIPerformance(total_training_set_size=30, real_training_set_size=30, online_training_set_size=0, trial_index=4, num_samples=10, accuracy=0.6717000007629395, crossentropy=1.3567051124058678),\n",
       "   OBIPerformance(total_training_set_size=30, real_training_set_size=30, online_training_set_size=0, trial_index=0, num_samples=100, accuracy=0.6816999912261963, crossentropy=1.1340940909650736),\n",
       "   OBIPerformance(total_training_set_size=30, real_training_set_size=30, online_training_set_size=0, trial_index=1, num_samples=100, accuracy=0.6814000010490417, crossentropy=1.1347216911569669),\n",
       "   OBIPerformance(total_training_set_size=30, real_training_set_size=30, online_training_set_size=0, trial_index=2, num_samples=100, accuracy=0.682200014591217, crossentropy=1.1236202621514846),\n",
       "   OBIPerformance(total_training_set_size=30, real_training_set_size=30, online_training_set_size=0, trial_index=3, num_samples=100, accuracy=0.6754000186920166, crossentropy=1.1721064034197455),\n",
       "   OBIPerformance(total_training_set_size=30, real_training_set_size=30, online_training_set_size=0, trial_index=4, num_samples=100, accuracy=0.6815999746322632, crossentropy=1.121347171405315),\n",
       "   OBIPerformance(total_training_set_size=31, real_training_set_size=30, online_training_set_size=1, trial_index=0, num_samples=10, accuracy=0.6553000211715698, crossentropy=1.4524667810426912),\n",
       "   OBIPerformance(total_training_set_size=31, real_training_set_size=30, online_training_set_size=1, trial_index=1, num_samples=10, accuracy=0.6897000074386597, crossentropy=1.4149371504469928),\n",
       "   OBIPerformance(total_training_set_size=31, real_training_set_size=30, online_training_set_size=1, trial_index=2, num_samples=10, accuracy=0.6757000088691711, crossentropy=1.2541490635351915),\n",
       "   OBIPerformance(total_training_set_size=31, real_training_set_size=30, online_training_set_size=1, trial_index=3, num_samples=10, accuracy=0.6563000082969666, crossentropy=1.4237299721431738),\n",
       "   OBIPerformance(total_training_set_size=31, real_training_set_size=30, online_training_set_size=1, trial_index=4, num_samples=10, accuracy=0.6753000020980835, crossentropy=1.5763221266863),\n",
       "   OBIPerformance(total_training_set_size=31, real_training_set_size=30, online_training_set_size=1, trial_index=0, num_samples=100, accuracy=0.6700999736785889, crossentropy=1.1714726240937405),\n",
       "   OBIPerformance(total_training_set_size=31, real_training_set_size=30, online_training_set_size=1, trial_index=1, num_samples=100, accuracy=0.6764000058174133, crossentropy=1.138640144460815),\n",
       "   OBIPerformance(total_training_set_size=31, real_training_set_size=30, online_training_set_size=1, trial_index=2, num_samples=100, accuracy=0.671999990940094, crossentropy=1.182803313953726),\n",
       "   OBIPerformance(total_training_set_size=31, real_training_set_size=30, online_training_set_size=1, trial_index=3, num_samples=100, accuracy=0.6783999800682068, crossentropy=1.1525015029739432),\n",
       "   OBIPerformance(total_training_set_size=31, real_training_set_size=30, online_training_set_size=1, trial_index=4, num_samples=100, accuracy=0.6657000184059143, crossentropy=1.187274606455306),\n",
       "   OBIPerformance(total_training_set_size=32, real_training_set_size=30, online_training_set_size=2, trial_index=0, num_samples=10, accuracy=0.5821999907493591, crossentropy=2.5594327522993057),\n",
       "   OBIPerformance(total_training_set_size=32, real_training_set_size=30, online_training_set_size=2, trial_index=1, num_samples=10, accuracy=0.6704999804496765, crossentropy=1.7988378700426055),\n",
       "   OBIPerformance(total_training_set_size=32, real_training_set_size=30, online_training_set_size=2, trial_index=2, num_samples=10, accuracy=0.6640999913215637, crossentropy=1.5021631476989874),\n",
       "   OBIPerformance(total_training_set_size=32, real_training_set_size=30, online_training_set_size=2, trial_index=3, num_samples=10, accuracy=0.6389999985694885, crossentropy=1.634070684146529),\n",
       "   OBIPerformance(total_training_set_size=32, real_training_set_size=30, online_training_set_size=2, trial_index=4, num_samples=10, accuracy=0.6636000275611877, crossentropy=1.4739030518835055),\n",
       "   OBIPerformance(total_training_set_size=32, real_training_set_size=30, online_training_set_size=2, trial_index=0, num_samples=100, accuracy=0.6625000238418579, crossentropy=1.346377788587259),\n",
       "   OBIPerformance(total_training_set_size=32, real_training_set_size=30, online_training_set_size=2, trial_index=1, num_samples=100, accuracy=0.6776000261306763, crossentropy=1.3129367489640071),\n",
       "   OBIPerformance(total_training_set_size=32, real_training_set_size=30, online_training_set_size=2, trial_index=2, num_samples=100, accuracy=0.6402000188827515, crossentropy=1.41925491939407),\n",
       "   OBIPerformance(total_training_set_size=32, real_training_set_size=30, online_training_set_size=2, trial_index=3, num_samples=100, accuracy=0.6628000140190125, crossentropy=1.368467045584973),\n",
       "   OBIPerformance(total_training_set_size=32, real_training_set_size=30, online_training_set_size=2, trial_index=4, num_samples=100, accuracy=0.6751999855041504, crossentropy=1.3167524451265453),\n",
       "   OBIPerformance(total_training_set_size=33, real_training_set_size=30, online_training_set_size=3, trial_index=0, num_samples=10, accuracy=0.6342999935150146, crossentropy=2.0022730890381477),\n",
       "   OBIPerformance(total_training_set_size=33, real_training_set_size=30, online_training_set_size=3, trial_index=1, num_samples=10, accuracy=0.6389999985694885, crossentropy=1.8626000776625922),\n",
       "   OBIPerformance(total_training_set_size=33, real_training_set_size=30, online_training_set_size=3, trial_index=2, num_samples=10, accuracy=0.6514000296592712, crossentropy=1.8712996796753723),\n",
       "   OBIPerformance(total_training_set_size=33, real_training_set_size=30, online_training_set_size=3, trial_index=3, num_samples=10, accuracy=0.6489999890327454, crossentropy=2.1929052006429566),\n",
       "   OBIPerformance(total_training_set_size=33, real_training_set_size=30, online_training_set_size=3, trial_index=4, num_samples=10, accuracy=0.6703000068664551, crossentropy=1.2695603980805839),\n",
       "   OBIPerformance(total_training_set_size=33, real_training_set_size=30, online_training_set_size=3, trial_index=0, num_samples=100, accuracy=0.63919997215271, crossentropy=1.7552481527257358),\n",
       "   OBIPerformance(total_training_set_size=33, real_training_set_size=30, online_training_set_size=3, trial_index=1, num_samples=100, accuracy=0.6780999898910522, crossentropy=1.3721962224523077),\n",
       "   OBIPerformance(total_training_set_size=33, real_training_set_size=30, online_training_set_size=3, trial_index=2, num_samples=100, accuracy=0.6651999950408936, crossentropy=1.4142157744747847),\n",
       "   OBIPerformance(total_training_set_size=33, real_training_set_size=30, online_training_set_size=3, trial_index=3, num_samples=100, accuracy=0.6765999794006348, crossentropy=1.5898312683172524),\n",
       "   OBIPerformance(total_training_set_size=33, real_training_set_size=30, online_training_set_size=3, trial_index=4, num_samples=100, accuracy=0.6394000053405762, crossentropy=1.7385163196039393),\n",
       "   OBIPerformance(total_training_set_size=34, real_training_set_size=30, online_training_set_size=4, trial_index=0, num_samples=10, accuracy=0.6730999946594238, crossentropy=1.6124593873953357),\n",
       "   OBIPerformance(total_training_set_size=34, real_training_set_size=30, online_training_set_size=4, trial_index=1, num_samples=10, accuracy=0.6614999771118164, crossentropy=1.5500862244402387),\n",
       "   OBIPerformance(total_training_set_size=34, real_training_set_size=30, online_training_set_size=4, trial_index=2, num_samples=10, accuracy=0.6341000199317932, crossentropy=2.8499686744612482),\n",
       "   OBIPerformance(total_training_set_size=34, real_training_set_size=30, online_training_set_size=4, trial_index=3, num_samples=10, accuracy=0.6245999932289124, crossentropy=2.225383406484064),\n",
       "   OBIPerformance(total_training_set_size=34, real_training_set_size=30, online_training_set_size=4, trial_index=4, num_samples=10, accuracy=0.6699000000953674, crossentropy=2.43924555588654),\n",
       "   OBIPerformance(total_training_set_size=34, real_training_set_size=30, online_training_set_size=4, trial_index=0, num_samples=100, accuracy=0.6434000134468079, crossentropy=1.4408952797417467),\n",
       "   OBIPerformance(total_training_set_size=34, real_training_set_size=30, online_training_set_size=4, trial_index=1, num_samples=100, accuracy=0.6736999750137329, crossentropy=1.2670047682392436),\n",
       "   OBIPerformance(total_training_set_size=34, real_training_set_size=30, online_training_set_size=4, trial_index=2, num_samples=100, accuracy=0.675000011920929, crossentropy=1.2566334408193587),\n",
       "   OBIPerformance(total_training_set_size=34, real_training_set_size=30, online_training_set_size=4, trial_index=3, num_samples=100, accuracy=0.663100004196167, crossentropy=1.3139963246928392),\n",
       "   OBIPerformance(total_training_set_size=34, real_training_set_size=30, online_training_set_size=4, trial_index=4, num_samples=100, accuracy=0.6377999782562256, crossentropy=1.7989955081662152),\n",
       "   OBIPerformance(total_training_set_size=35, real_training_set_size=30, online_training_set_size=5, trial_index=0, num_samples=10, accuracy=0.6337000131607056, crossentropy=1.621878388148549),\n",
       "   OBIPerformance(total_training_set_size=35, real_training_set_size=30, online_training_set_size=5, trial_index=1, num_samples=10, accuracy=0.6068999767303467, crossentropy=1.5787162078077182),\n",
       "   OBIPerformance(total_training_set_size=35, real_training_set_size=30, online_training_set_size=5, trial_index=2, num_samples=10, accuracy=0.6740000247955322, crossentropy=2.3762723518704676),\n",
       "   OBIPerformance(total_training_set_size=35, real_training_set_size=30, online_training_set_size=5, trial_index=3, num_samples=10, accuracy=0.6470000147819519, crossentropy=1.3758278633622474),\n",
       "   OBIPerformance(total_training_set_size=35, real_training_set_size=30, online_training_set_size=5, trial_index=4, num_samples=10, accuracy=0.6256999969482422, crossentropy=2.247413437185756),\n",
       "   OBIPerformance(total_training_set_size=35, real_training_set_size=30, online_training_set_size=5, trial_index=0, num_samples=100, accuracy=0.6180999875068665, crossentropy=1.6989354545876478),\n",
       "   OBIPerformance(total_training_set_size=35, real_training_set_size=30, online_training_set_size=5, trial_index=1, num_samples=100, accuracy=0.6244000196456909, crossentropy=1.652026832367172),\n",
       "   OBIPerformance(total_training_set_size=35, real_training_set_size=30, online_training_set_size=5, trial_index=2, num_samples=100, accuracy=0.6097999811172485, crossentropy=1.75485667395258),\n",
       "   OBIPerformance(total_training_set_size=35, real_training_set_size=30, online_training_set_size=5, trial_index=3, num_samples=100, accuracy=0.6632999777793884, crossentropy=1.2801276899349716),\n",
       "   OBIPerformance(total_training_set_size=35, real_training_set_size=30, online_training_set_size=5, trial_index=4, num_samples=100, accuracy=0.6279000043869019, crossentropy=1.6459553694103917),\n",
       "   OBIPerformance(total_training_set_size=36, real_training_set_size=30, online_training_set_size=6, trial_index=0, num_samples=10, accuracy=0.6018999814987183, crossentropy=2.438453357602158),\n",
       "   OBIPerformance(total_training_set_size=36, real_training_set_size=30, online_training_set_size=6, trial_index=1, num_samples=10, accuracy=0.5849999785423279, crossentropy=1.941975553342779),\n",
       "   OBIPerformance(total_training_set_size=36, real_training_set_size=30, online_training_set_size=6, trial_index=2, num_samples=10, accuracy=0.6477000117301941, crossentropy=1.3948290968555317),\n",
       "   OBIPerformance(total_training_set_size=36, real_training_set_size=30, online_training_set_size=6, trial_index=3, num_samples=10, accuracy=0.5821999907493591, crossentropy=2.782713331242634),\n",
       "   OBIPerformance(total_training_set_size=36, real_training_set_size=30, online_training_set_size=6, trial_index=4, num_samples=10, accuracy=0.6599000096321106, crossentropy=1.7235108682882736),\n",
       "   OBIPerformance(total_training_set_size=36, real_training_set_size=30, online_training_set_size=6, trial_index=0, num_samples=100, accuracy=0.6244999766349792, crossentropy=2.1108565640522605),\n",
       "   OBIPerformance(total_training_set_size=36, real_training_set_size=30, online_training_set_size=6, trial_index=1, num_samples=100, accuracy=0.6154999732971191, crossentropy=1.6200696691320677),\n",
       "   OBIPerformance(total_training_set_size=36, real_training_set_size=30, online_training_set_size=6, trial_index=2, num_samples=100, accuracy=0.616599977016449, crossentropy=1.5560327729411818),\n",
       "   OBIPerformance(total_training_set_size=36, real_training_set_size=30, online_training_set_size=6, trial_index=3, num_samples=100, accuracy=0.6302000284194946, crossentropy=1.9502134978798218),\n",
       "   OBIPerformance(total_training_set_size=36, real_training_set_size=30, online_training_set_size=6, trial_index=4, num_samples=100, accuracy=0.6137999892234802, crossentropy=2.329690273102308),\n",
       "   OBIPerformance(total_training_set_size=37, real_training_set_size=30, online_training_set_size=7, trial_index=0, num_samples=10, accuracy=0.6700000166893005, crossentropy=1.2903394765002443),\n",
       "   OBIPerformance(total_training_set_size=37, real_training_set_size=30, online_training_set_size=7, trial_index=1, num_samples=10, accuracy=0.6624000072479248, crossentropy=1.6861538863940442),\n",
       "   OBIPerformance(total_training_set_size=37, real_training_set_size=30, online_training_set_size=7, trial_index=2, num_samples=10, accuracy=0.6636999845504761, crossentropy=1.707168538409896),\n",
       "   OBIPerformance(total_training_set_size=37, real_training_set_size=30, online_training_set_size=7, trial_index=3, num_samples=10, accuracy=0.6327000260353088, crossentropy=1.435496116435163),\n",
       "   OBIPerformance(total_training_set_size=37, real_training_set_size=30, online_training_set_size=7, trial_index=4, num_samples=10, accuracy=0.6366999745368958, crossentropy=1.696861206913655),\n",
       "   OBIPerformance(total_training_set_size=37, real_training_set_size=30, online_training_set_size=7, trial_index=0, num_samples=100, accuracy=0.5985000133514404, crossentropy=1.5828351865074972),\n",
       "   OBIPerformance(total_training_set_size=37, real_training_set_size=30, online_training_set_size=7, trial_index=1, num_samples=100, accuracy=0.6148999929428101, crossentropy=1.858025368344777),\n",
       "   OBIPerformance(total_training_set_size=37, real_training_set_size=30, online_training_set_size=7, trial_index=2, num_samples=100, accuracy=0.6151000261306763, crossentropy=1.797645964622296),\n",
       "   OBIPerformance(total_training_set_size=37, real_training_set_size=30, online_training_set_size=7, trial_index=3, num_samples=100, accuracy=0.583899974822998, crossentropy=1.900472710284993),\n",
       "   OBIPerformance(total_training_set_size=37, real_training_set_size=30, online_training_set_size=7, trial_index=4, num_samples=100, accuracy=0.5837000012397766, crossentropy=1.9078268146905382),\n",
       "   OBIPerformance(total_training_set_size=38, real_training_set_size=30, online_training_set_size=8, trial_index=0, num_samples=10, accuracy=0.6468999981880188, crossentropy=1.3773340618385852),\n",
       "   OBIPerformance(total_training_set_size=38, real_training_set_size=30, online_training_set_size=8, trial_index=1, num_samples=10, accuracy=0.5841000080108643, crossentropy=1.6926345731538186),\n",
       "   OBIPerformance(total_training_set_size=38, real_training_set_size=30, online_training_set_size=8, trial_index=2, num_samples=10, accuracy=0.5989999771118164, crossentropy=2.1149583038456012),\n",
       "   OBIPerformance(total_training_set_size=38, real_training_set_size=30, online_training_set_size=8, trial_index=3, num_samples=10, accuracy=0.6309000253677368, crossentropy=2.549013394315134),\n",
       "   OBIPerformance(total_training_set_size=38, real_training_set_size=30, online_training_set_size=8, trial_index=4, num_samples=10, accuracy=0.5242000222206116, crossentropy=2.5725474325188245),\n",
       "   OBIPerformance(total_training_set_size=38, real_training_set_size=30, online_training_set_size=8, trial_index=0, num_samples=100, accuracy=0.6284000277519226, crossentropy=1.4928710347176422),\n",
       "   OBIPerformance(total_training_set_size=38, real_training_set_size=30, online_training_set_size=8, trial_index=1, num_samples=100, accuracy=0.650600016117096, crossentropy=1.2694906775073143),\n",
       "   OBIPerformance(total_training_set_size=38, real_training_set_size=30, online_training_set_size=8, trial_index=2, num_samples=100, accuracy=0.6337000131607056, crossentropy=1.32450354602736),\n",
       "   OBIPerformance(total_training_set_size=38, real_training_set_size=30, online_training_set_size=8, trial_index=3, num_samples=100, accuracy=0.5835000276565552, crossentropy=1.9356446377142213),\n",
       "   OBIPerformance(total_training_set_size=38, real_training_set_size=30, online_training_set_size=8, trial_index=4, num_samples=100, accuracy=0.6478000283241272, crossentropy=1.3522311789602597),\n",
       "   OBIPerformance(total_training_set_size=39, real_training_set_size=30, online_training_set_size=9, trial_index=0, num_samples=10, accuracy=0.6452999711036682, crossentropy=2.2725632833513627),\n",
       "   OBIPerformance(total_training_set_size=39, real_training_set_size=30, online_training_set_size=9, trial_index=1, num_samples=10, accuracy=0.6504999995231628, crossentropy=1.5006043189246367),\n",
       "   OBIPerformance(total_training_set_size=39, real_training_set_size=30, online_training_set_size=9, trial_index=2, num_samples=10, accuracy=0.6496999859809875, crossentropy=1.9761713030065653),\n",
       "   OBIPerformance(total_training_set_size=39, real_training_set_size=30, online_training_set_size=9, trial_index=3, num_samples=10, accuracy=0.6543999910354614, crossentropy=2.230876908722793),\n",
       "   OBIPerformance(total_training_set_size=39, real_training_set_size=30, online_training_set_size=9, trial_index=4, num_samples=10, accuracy=0.6137999892234802, crossentropy=2.5416660894777885),\n",
       "   OBIPerformance(total_training_set_size=39, real_training_set_size=30, online_training_set_size=9, trial_index=0, num_samples=100, accuracy=0.5835000276565552, crossentropy=1.9363986560383157),\n",
       "   OBIPerformance(total_training_set_size=39, real_training_set_size=30, online_training_set_size=9, trial_index=1, num_samples=100, accuracy=0.5835000276565552, crossentropy=1.9363860123499559),\n",
       "   OBIPerformance(total_training_set_size=39, real_training_set_size=30, online_training_set_size=9, trial_index=2, num_samples=100, accuracy=0.659600019454956, crossentropy=1.4345601121815714),\n",
       "   OBIPerformance(total_training_set_size=39, real_training_set_size=30, online_training_set_size=9, trial_index=3, num_samples=100, accuracy=0.6470999717712402, crossentropy=1.370131597463961),\n",
       "   OBIPerformance(total_training_set_size=39, real_training_set_size=30, online_training_set_size=9, trial_index=4, num_samples=100, accuracy=0.5838000178337097, crossentropy=1.8621107786563578),\n",
       "   OBIPerformance(total_training_set_size=40, real_training_set_size=30, online_training_set_size=10, trial_index=0, num_samples=10, accuracy=0.6657999753952026, crossentropy=2.257695189509324),\n",
       "   OBIPerformance(total_training_set_size=40, real_training_set_size=30, online_training_set_size=10, trial_index=1, num_samples=10, accuracy=0.656000018119812, crossentropy=1.9094349899939305),\n",
       "   OBIPerformance(total_training_set_size=40, real_training_set_size=30, online_training_set_size=10, trial_index=2, num_samples=10, accuracy=0.6468999981880188, crossentropy=1.3773340619232308),\n",
       "   OBIPerformance(total_training_set_size=40, real_training_set_size=30, online_training_set_size=10, trial_index=3, num_samples=10, accuracy=0.6468999981880188, crossentropy=1.3773340616290546),\n",
       "   OBIPerformance(total_training_set_size=40, real_training_set_size=30, online_training_set_size=10, trial_index=4, num_samples=10, accuracy=0.5821999907493591, crossentropy=2.6430894823362987),\n",
       "   OBIPerformance(total_training_set_size=40, real_training_set_size=30, online_training_set_size=10, trial_index=0, num_samples=100, accuracy=0.6136999726295471, crossentropy=1.377590983900062),\n",
       "   OBIPerformance(total_training_set_size=40, real_training_set_size=30, online_training_set_size=10, trial_index=1, num_samples=100, accuracy=0.6057000160217285, crossentropy=1.444698800121636),\n",
       "   OBIPerformance(total_training_set_size=40, real_training_set_size=30, online_training_set_size=10, trial_index=2, num_samples=100, accuracy=0.6468999981880188, crossentropy=1.3767018222480536),\n",
       "   OBIPerformance(total_training_set_size=40, real_training_set_size=30, online_training_set_size=10, trial_index=3, num_samples=100, accuracy=0.669700026512146, crossentropy=1.2587810059010185),\n",
       "   OBIPerformance(total_training_set_size=40, real_training_set_size=30, online_training_set_size=10, trial_index=4, num_samples=100, accuracy=0.6468999981880188, crossentropy=1.3773262465297014)]],\n",
       " 'active_learning_steps': [{'training': {'epochs': [{'accuracy': 0.498046875,\n",
       "      'crossentropy': 1.6982649564743042},\n",
       "     {'accuracy': 0.5888671875, 'crossentropy': 1.4402198791503906},\n",
       "     {'accuracy': 0.5654296875, 'crossentropy': 1.6309633255004883},\n",
       "     {'accuracy': 0.5732421875, 'crossentropy': 1.6977273225784302},\n",
       "     {'accuracy': 0.57421875, 'crossentropy': 1.7026183605194092},\n",
       "     {'accuracy': 0.556640625, 'crossentropy': 1.87465500831604},\n",
       "     {'accuracy': 0.5830078125, 'crossentropy': 1.8215177059173584},\n",
       "     {'accuracy': 0.576171875, 'crossentropy': 1.8394629955291748},\n",
       "     {'accuracy': 0.556640625, 'crossentropy': 1.8409117460250854},\n",
       "     {'accuracy': 0.5771484375, 'crossentropy': 1.8598860502243042},\n",
       "     {'accuracy': 0.5751953125, 'crossentropy': 1.8028939962387085},\n",
       "     {'accuracy': 0.5830078125, 'crossentropy': 1.797486424446106},\n",
       "     {'accuracy': 0.5849609375, 'crossentropy': 1.8238229751586914},\n",
       "     {'accuracy': 0.5869140625, 'crossentropy': 1.8789403438568115},\n",
       "     {'accuracy': 0.5791015625, 'crossentropy': 1.8765678405761719},\n",
       "     {'accuracy': 0.556640625, 'crossentropy': 1.9669631719589233},\n",
       "     {'accuracy': 0.5625, 'crossentropy': 2.0490760803222656},\n",
       "     {'accuracy': 0.5869140625, 'crossentropy': 1.8095895051956177},\n",
       "     {'accuracy': 0.5810546875, 'crossentropy': 1.956794261932373},\n",
       "     {'accuracy': 0.5849609375, 'crossentropy': 2.0158591270446777},\n",
       "     {'accuracy': 0.5439453125, 'crossentropy': 2.0667121410369873},\n",
       "     {'accuracy': 0.568359375, 'crossentropy': 2.01694917678833}],\n",
       "    'best_epoch': 1},\n",
       "   'evaluation_metrics': {'accuracy': 0.5835,\n",
       "    'crossentropy': 1.39644130859375,\n",
       "    '_timestamp': 1650146633,\n",
       "    '_runtime': 23},\n",
       "   'acquisition': {'indices': [17776, 36852, 26891, 17001, 44414]}},\n",
       "  {'training': {'epochs': [{'accuracy': 0.392578125,\n",
       "      'crossentropy': 1.7610929012298584},\n",
       "     {'accuracy': 0.580078125, 'crossentropy': 1.499049186706543},\n",
       "     {'accuracy': 0.578125, 'crossentropy': 1.642911672592163},\n",
       "     {'accuracy': 0.5888671875, 'crossentropy': 1.6243882179260254},\n",
       "     {'accuracy': 0.599609375, 'crossentropy': 1.553757667541504},\n",
       "     {'accuracy': 0.6044921875, 'crossentropy': 1.6975044012069702},\n",
       "     {'accuracy': 0.5712890625, 'crossentropy': 1.8377858400344849},\n",
       "     {'accuracy': 0.5712890625, 'crossentropy': 1.9138169288635254},\n",
       "     {'accuracy': 0.5888671875, 'crossentropy': 1.722456932067871},\n",
       "     {'accuracy': 0.5810546875, 'crossentropy': 1.8387601375579834},\n",
       "     {'accuracy': 0.5615234375, 'crossentropy': 1.9316930770874023},\n",
       "     {'accuracy': 0.564453125, 'crossentropy': 2.07055401802063},\n",
       "     {'accuracy': 0.5771484375, 'crossentropy': 1.830942153930664},\n",
       "     {'accuracy': 0.5859375, 'crossentropy': 1.721291184425354},\n",
       "     {'accuracy': 0.5830078125, 'crossentropy': 2.021444797515869},\n",
       "     {'accuracy': 0.5478515625, 'crossentropy': 2.004549741744995},\n",
       "     {'accuracy': 0.5712890625, 'crossentropy': 2.0528836250305176},\n",
       "     {'accuracy': 0.57421875, 'crossentropy': 1.9162685871124268},\n",
       "     {'accuracy': 0.5947265625, 'crossentropy': 1.8648276329040527},\n",
       "     {'accuracy': 0.595703125, 'crossentropy': 2.074589729309082},\n",
       "     {'accuracy': 0.5908203125, 'crossentropy': 1.8965049982070923},\n",
       "     {'accuracy': 0.5986328125, 'crossentropy': 1.8511106967926025},\n",
       "     {'accuracy': 0.5888671875, 'crossentropy': 1.79728102684021},\n",
       "     {'accuracy': 0.56640625, 'crossentropy': 2.104839563369751},\n",
       "     {'accuracy': 0.5625, 'crossentropy': 2.0135533809661865},\n",
       "     {'accuracy': 0.576171875, 'crossentropy': 1.929125189781189}],\n",
       "    'best_epoch': 5},\n",
       "   'evaluation_metrics': {'accuracy': 0.6058,\n",
       "    'crossentropy': 1.6094099609375,\n",
       "    '_timestamp': 1650146660,\n",
       "    '_runtime': 50},\n",
       "   'acquisition': {'indices': [23050, 30884, 41516, 8897, 34608]}},\n",
       "  {'training': {'epochs': [{'accuracy': 0.384765625,\n",
       "      'crossentropy': 1.8451828956604004},\n",
       "     {'accuracy': 0.5068359375, 'crossentropy': 1.4651920795440674},\n",
       "     {'accuracy': 0.5791015625, 'crossentropy': 1.3441417217254639},\n",
       "     {'accuracy': 0.59375, 'crossentropy': 1.2797155380249023},\n",
       "     {'accuracy': 0.6044921875, 'crossentropy': 1.2529510259628296},\n",
       "     {'accuracy': 0.5869140625, 'crossentropy': 1.4234411716461182},\n",
       "     {'accuracy': 0.6103515625, 'crossentropy': 1.368377923965454},\n",
       "     {'accuracy': 0.6044921875, 'crossentropy': 1.4224683046340942},\n",
       "     {'accuracy': 0.619140625, 'crossentropy': 1.3120524883270264},\n",
       "     {'accuracy': 0.5986328125, 'crossentropy': 1.4843430519104004},\n",
       "     {'accuracy': 0.630859375, 'crossentropy': 1.2483532428741455},\n",
       "     {'accuracy': 0.6201171875, 'crossentropy': 1.359853982925415},\n",
       "     {'accuracy': 0.6435546875, 'crossentropy': 1.3114601373672485},\n",
       "     {'accuracy': 0.64453125, 'crossentropy': 1.2504527568817139},\n",
       "     {'accuracy': 0.625, 'crossentropy': 1.3473081588745117},\n",
       "     {'accuracy': 0.619140625, 'crossentropy': 1.3479756116867065},\n",
       "     {'accuracy': 0.6279296875, 'crossentropy': 1.3399513959884644},\n",
       "     {'accuracy': 0.625, 'crossentropy': 1.4034274816513062},\n",
       "     {'accuracy': 0.6494140625, 'crossentropy': 1.3031257390975952},\n",
       "     {'accuracy': 0.625, 'crossentropy': 1.38523268699646},\n",
       "     {'accuracy': 0.615234375, 'crossentropy': 1.5263015031814575},\n",
       "     {'accuracy': 0.6318359375, 'crossentropy': 1.4069820642471313},\n",
       "     {'accuracy': 0.63671875, 'crossentropy': 1.325340986251831},\n",
       "     {'accuracy': 0.619140625, 'crossentropy': 1.4355727434158325},\n",
       "     {'accuracy': 0.607421875, 'crossentropy': 1.5232502222061157},\n",
       "     {'accuracy': 0.6298828125, 'crossentropy': 1.3429975509643555},\n",
       "     {'accuracy': 0.6064453125, 'crossentropy': 1.5156619548797607},\n",
       "     {'accuracy': 0.625, 'crossentropy': 1.4553465843200684},\n",
       "     {'accuracy': 0.6435546875, 'crossentropy': 1.378708004951477},\n",
       "     {'accuracy': 0.6455078125, 'crossentropy': 1.3057401180267334},\n",
       "     {'accuracy': 0.623046875, 'crossentropy': 1.4687678813934326},\n",
       "     {'accuracy': 0.6259765625, 'crossentropy': 1.5313355922698975},\n",
       "     {'accuracy': 0.671875, 'crossentropy': 1.4225190877914429},\n",
       "     {'accuracy': 0.658203125, 'crossentropy': 1.3263912200927734},\n",
       "     {'accuracy': 0.6201171875, 'crossentropy': 1.5050984621047974},\n",
       "     {'accuracy': 0.6552734375, 'crossentropy': 1.3476742506027222},\n",
       "     {'accuracy': 0.642578125, 'crossentropy': 1.3577030897140503},\n",
       "     {'accuracy': 0.6162109375, 'crossentropy': 1.4826518297195435},\n",
       "     {'accuracy': 0.6689453125, 'crossentropy': 1.1885735988616943},\n",
       "     {'accuracy': 0.625, 'crossentropy': 1.386590600013733},\n",
       "     {'accuracy': 0.6416015625, 'crossentropy': 1.3295832872390747},\n",
       "     {'accuracy': 0.65234375, 'crossentropy': 1.3120930194854736},\n",
       "     {'accuracy': 0.6572265625, 'crossentropy': 1.375509262084961},\n",
       "     {'accuracy': 0.650390625, 'crossentropy': 1.4387462139129639},\n",
       "     {'accuracy': 0.654296875, 'crossentropy': 1.3311309814453125},\n",
       "     {'accuracy': 0.6328125, 'crossentropy': 1.388687014579773},\n",
       "     {'accuracy': 0.6318359375, 'crossentropy': 1.413032054901123},\n",
       "     {'accuracy': 0.646484375, 'crossentropy': 1.3818559646606445},\n",
       "     {'accuracy': 0.6337890625, 'crossentropy': 1.4675642251968384},\n",
       "     {'accuracy': 0.6259765625, 'crossentropy': 1.480331301689148},\n",
       "     {'accuracy': 0.630859375, 'crossentropy': 1.3433988094329834},\n",
       "     {'accuracy': 0.6416015625, 'crossentropy': 1.3653669357299805},\n",
       "     {'accuracy': 0.6357421875, 'crossentropy': 1.3764736652374268}],\n",
       "    'best_epoch': 32},\n",
       "   'evaluation_metrics': {'accuracy': 0.6791,\n",
       "    'crossentropy': 1.2912138671875,\n",
       "    '_timestamp': 1650146696,\n",
       "    '_runtime': 86},\n",
       "   'acquisition': {'indices': [11721, 13127, 9870, 39700, 13985]}},\n",
       "  {'training': {'epochs': [{'accuracy': 0.2861328125,\n",
       "      'crossentropy': 2.0189788341522217},\n",
       "     {'accuracy': 0.5595703125, 'crossentropy': 1.376032829284668},\n",
       "     {'accuracy': 0.6162109375, 'crossentropy': 1.3099182844161987},\n",
       "     {'accuracy': 0.6328125, 'crossentropy': 1.242930293083191},\n",
       "     {'accuracy': 0.6494140625, 'crossentropy': 1.209563136100769},\n",
       "     {'accuracy': 0.646484375, 'crossentropy': 1.3501644134521484},\n",
       "     {'accuracy': 0.66015625, 'crossentropy': 1.276748776435852},\n",
       "     {'accuracy': 0.65234375, 'crossentropy': 1.3631401062011719},\n",
       "     {'accuracy': 0.65625, 'crossentropy': 1.3457051515579224},\n",
       "     {'accuracy': 0.6533203125, 'crossentropy': 1.25152587890625},\n",
       "     {'accuracy': 0.6728515625, 'crossentropy': 1.284234642982483},\n",
       "     {'accuracy': 0.66015625, 'crossentropy': 1.304644227027893},\n",
       "     {'accuracy': 0.6455078125, 'crossentropy': 1.334561824798584},\n",
       "     {'accuracy': 0.642578125, 'crossentropy': 1.3373467922210693},\n",
       "     {'accuracy': 0.677734375, 'crossentropy': 1.3325796127319336},\n",
       "     {'accuracy': 0.6669921875, 'crossentropy': 1.2678810358047485},\n",
       "     {'accuracy': 0.65234375, 'crossentropy': 1.3493870496749878},\n",
       "     {'accuracy': 0.6513671875, 'crossentropy': 1.4422907829284668},\n",
       "     {'accuracy': 0.666015625, 'crossentropy': 1.402571439743042},\n",
       "     {'accuracy': 0.6689453125, 'crossentropy': 1.4179450273513794},\n",
       "     {'accuracy': 0.66015625, 'crossentropy': 1.2956926822662354},\n",
       "     {'accuracy': 0.6572265625, 'crossentropy': 1.413398027420044},\n",
       "     {'accuracy': 0.66796875, 'crossentropy': 1.2732652425765991},\n",
       "     {'accuracy': 0.6728515625, 'crossentropy': 1.2829333543777466},\n",
       "     {'accuracy': 0.6630859375, 'crossentropy': 1.2925512790679932},\n",
       "     {'accuracy': 0.6640625, 'crossentropy': 1.3245954513549805},\n",
       "     {'accuracy': 0.6669921875, 'crossentropy': 1.3267536163330078},\n",
       "     {'accuracy': 0.658203125, 'crossentropy': 1.3234596252441406},\n",
       "     {'accuracy': 0.6787109375, 'crossentropy': 1.320326805114746},\n",
       "     {'accuracy': 0.6630859375, 'crossentropy': 1.3857308626174927},\n",
       "     {'accuracy': 0.673828125, 'crossentropy': 1.2790052890777588},\n",
       "     {'accuracy': 0.6650390625, 'crossentropy': 1.3205260038375854},\n",
       "     {'accuracy': 0.666015625, 'crossentropy': 1.3766523599624634},\n",
       "     {'accuracy': 0.6689453125, 'crossentropy': 1.2650502920150757},\n",
       "     {'accuracy': 0.6728515625, 'crossentropy': 1.3205281496047974},\n",
       "     {'accuracy': 0.677734375, 'crossentropy': 1.349450945854187},\n",
       "     {'accuracy': 0.6767578125, 'crossentropy': 1.3711493015289307},\n",
       "     {'accuracy': 0.66796875, 'crossentropy': 1.366260051727295},\n",
       "     {'accuracy': 0.6767578125, 'crossentropy': 1.2759532928466797},\n",
       "     {'accuracy': 0.6806640625, 'crossentropy': 1.337022304534912},\n",
       "     {'accuracy': 0.68359375, 'crossentropy': 1.300515055656433},\n",
       "     {'accuracy': 0.671875, 'crossentropy': 1.4049433469772339},\n",
       "     {'accuracy': 0.6630859375, 'crossentropy': 1.339883804321289},\n",
       "     {'accuracy': 0.6884765625, 'crossentropy': 1.215468168258667},\n",
       "     {'accuracy': 0.6572265625, 'crossentropy': 1.3123524188995361},\n",
       "     {'accuracy': 0.6533203125, 'crossentropy': 1.2819137573242188},\n",
       "     {'accuracy': 0.69921875, 'crossentropy': 1.073171615600586},\n",
       "     {'accuracy': 0.6728515625, 'crossentropy': 1.360499620437622},\n",
       "     {'accuracy': 0.685546875, 'crossentropy': 1.3186885118484497},\n",
       "     {'accuracy': 0.6806640625, 'crossentropy': 1.2420796155929565},\n",
       "     {'accuracy': 0.6728515625, 'crossentropy': 1.2878775596618652},\n",
       "     {'accuracy': 0.67578125, 'crossentropy': 1.3673439025878906},\n",
       "     {'accuracy': 0.6640625, 'crossentropy': 1.4459720849990845},\n",
       "     {'accuracy': 0.6591796875, 'crossentropy': 1.4396723508834839},\n",
       "     {'accuracy': 0.64453125, 'crossentropy': 1.3584870100021362},\n",
       "     {'accuracy': 0.677734375, 'crossentropy': 1.239335536956787},\n",
       "     {'accuracy': 0.669921875, 'crossentropy': 1.235924243927002},\n",
       "     {'accuracy': 0.6572265625, 'crossentropy': 1.4290560483932495},\n",
       "     {'accuracy': 0.66796875, 'crossentropy': 1.2773425579071045},\n",
       "     {'accuracy': 0.662109375, 'crossentropy': 1.2364497184753418},\n",
       "     {'accuracy': 0.6865234375, 'crossentropy': 1.2086702585220337},\n",
       "     {'accuracy': 0.677734375, 'crossentropy': 1.243868350982666},\n",
       "     {'accuracy': 0.673828125, 'crossentropy': 1.318315029144287},\n",
       "     {'accuracy': 0.6708984375, 'crossentropy': 1.3837350606918335},\n",
       "     {'accuracy': 0.6591796875, 'crossentropy': 1.3592121601104736},\n",
       "     {'accuracy': 0.6640625, 'crossentropy': 1.3860594034194946},\n",
       "     {'accuracy': 0.6787109375, 'crossentropy': 1.261418342590332}],\n",
       "    'best_epoch': 46},\n",
       "   'evaluation_metrics': {'accuracy': 0.7008,\n",
       "    'crossentropy': 1.1200462890625,\n",
       "    '_timestamp': 1650146737,\n",
       "    '_runtime': 127}}]}"
      ]
     },
     "execution_count": null,
     "metadata": {},
     "output_type": "execute_result"
    }
   ],
   "source": [
    "results"
   ]
  },
  {
   "cell_type": "code",
   "execution_count": null,
   "metadata": {},
   "outputs": [],
   "source": [
    "# exports\n",
    "\n",
    "configs = [\n",
    "    Experiment(\n",
    "        seed=seed,\n",
    "        acquisition_size=acquisition_size,\n",
    "        num_pool_samples=num_pool_samples,\n",
    "    )\n",
    "    for seed in range(1)\n",
    "    for acquisition_size in [5]\n",
    "    for num_pool_samples in [100]\n",
    "]\n",
    "\n",
    "if not is_run_from_ipython() and __name__ == \"__main__\":\n",
    "    for job_id, store in embedded_experiments(__file__, len(configs)):\n",
    "        config = configs[job_id]\n",
    "        config.seed += job_id\n",
    "        print(config)\n",
    "        store[\"config\"] = dataclasses.asdict(config)\n",
    "        store[\"log\"] = {}\n",
    "\n",
    "        try:\n",
    "            config.run(store=store)\n",
    "        except Exception:\n",
    "            store[\"exception\"] = traceback.format_exc()\n",
    "            raise"
   ]
  },
  {
   "cell_type": "code",
   "execution_count": null,
   "metadata": {},
   "outputs": [
    {
     "data": {
      "text/plain": [
       "1"
      ]
     },
     "execution_count": null,
     "metadata": {},
     "output_type": "execute_result"
    }
   ],
   "source": [
    "len(configs)"
   ]
  },
  {
   "cell_type": "code",
   "execution_count": null,
   "metadata": {},
   "outputs": [
    {
     "name": "stdout",
     "output_type": "stream",
     "text": [
      "[Experiment(seed=0, num_pool_samples=100)]\n",
      "\n"
     ]
    },
    {
     "data": {
      "text/html": [
       "Waiting for W&B process to finish... <strong style=\"color:green\">(success).</strong>"
      ],
      "text/plain": [
       "<IPython.core.display.HTML object>"
      ]
     },
     "metadata": {},
     "output_type": "display_data"
    },
    {
     "data": {
      "application/vnd.jupyter.widget-view+json": {
       "model_id": "",
       "version_major": 2,
       "version_minor": 0
      },
      "text/plain": [
       "VBox(children=(Label(value='0.015 MB of 0.015 MB uploaded (0.000 MB deduped)\\r'), FloatProgress(value=1.0, max…"
      ]
     },
     "metadata": {},
     "output_type": "display_data"
    },
    {
     "data": {
      "text/html": [
       "<style>\n",
       "    table.wandb td:nth-child(1) { padding: 0 10px; text-align: right }\n",
       "    .wandb-row { display: flex; flex-direction: row; flex-wrap: wrap; width: 100% }\n",
       "    .wandb-col { display: flex; flex-direction: column; flex-basis: 100%; flex: 1; padding: 10px; }\n",
       "    </style>\n",
       "<div class=\"wandb-row\"><div class=\"wandb-col\"><h3>Run history:</h3><br/><table class=\"wandb\"><tr><td>accuracy</td><td>▁▂▇█</td></tr><tr><td>crossentropy</td><td>▅█▃▁</td></tr><tr><td>model_training/best_epoch</td><td>▁▂▆█</td></tr><tr><td>model_training/best_val_accuracy</td><td>▁▂▆█</td></tr><tr><td>model_training/best_val_crossentropy</td><td>▅█▅▁</td></tr></table><br/></div><div class=\"wandb-col\"><h3>Run summary:</h3><br/><table class=\"wandb\"><tr><td>accuracy</td><td>0.7008</td></tr><tr><td>crossentropy</td><td>1.12005</td></tr><tr><td>model_training/best_epoch</td><td>46</td></tr><tr><td>model_training/best_val_accuracy</td><td>0.69922</td></tr><tr><td>model_training/best_val_crossentropy</td><td>1.07317</td></tr></table><br/></div></div>"
      ],
      "text/plain": [
       "<IPython.core.display.HTML object>"
      ]
     },
     "metadata": {},
     "output_type": "display_data"
    },
    {
     "data": {
      "text/html": [
       "Synced <strong style=\"color:#cdcd00\">rose-durian-280</strong>: <a href=\"https://wandb.ai/oatml-andreas-kirsch/balds/runs/sa8pzazv\" target=\"_blank\">https://wandb.ai/oatml-andreas-kirsch/balds/runs/sa8pzazv</a><br/>Synced 6 W&B file(s), 4 media file(s), 4 artifact file(s) and 0 other file(s)"
      ],
      "text/plain": [
       "<IPython.core.display.HTML object>"
      ]
     },
     "metadata": {},
     "output_type": "display_data"
    },
    {
     "data": {
      "text/html": [
       "Find logs at: <code>./wandb/run-20220416_230325-sa8pzazv/logs</code>"
      ],
      "text/plain": [
       "<IPython.core.display.HTML object>"
      ]
     },
     "metadata": {},
     "output_type": "display_data"
    }
   ],
   "source": [
    "# slow\n",
    "import prettyprinter\n",
    "\n",
    "prettyprinter.install_extras(include={\"dataclasses\"})\n",
    "\n",
    "prettyprinter.pprint(configs)"
   ]
  },
  {
   "cell_type": "code",
   "execution_count": null,
   "metadata": {},
   "outputs": [],
   "source": []
  }
 ],
 "metadata": {
  "kernelspec": {
   "display_name": "Python [conda env:active_learning]",
   "language": "python",
   "name": "conda-env-active_learning-py"
  }
 },
 "nbformat": 4,
 "nbformat_minor": 4
}
