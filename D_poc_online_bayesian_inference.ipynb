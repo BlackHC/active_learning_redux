{
 "cells": [
  {
   "cell_type": "markdown",
   "metadata": {},
   "source": [
    "# Experiment POC OBI\n",
    "> Can we get better by training on our assumptions?"
   ]
  },
  {
   "cell_type": "code",
   "execution_count": null,
   "metadata": {},
   "outputs": [],
   "source": [
    "# default_exp poc_online_bayesian_inference"
   ]
  },
  {
   "cell_type": "code",
   "execution_count": null,
   "metadata": {},
   "outputs": [
    {
     "name": "stdout",
     "output_type": "stream",
     "text": [
      "Appended /home/blackhc/PycharmProjects/bald-ical/src to paths\n",
      "Switched to directory /home/blackhc/PycharmProjects/bald-ical\n",
      "%load_ext autoreload\n",
      "%autoreload 2\n"
     ]
    }
   ],
   "source": [
    "# hide\n",
    "import blackhc.project.script"
   ]
  },
  {
   "cell_type": "markdown",
   "metadata": {},
   "source": [
    "Import modules and functions were are going to use."
   ]
  },
  {
   "cell_type": "code",
   "execution_count": null,
   "metadata": {},
   "outputs": [],
   "source": [
    "# exports\n",
    "\n",
    "import dataclasses\n",
    "import traceback\n",
    "from dataclasses import dataclass\n",
    "from typing import Type, Union\n",
    "\n",
    "import torch\n",
    "import torch.utils.data\n",
    "from blackhc.project import is_run_from_ipython\n",
    "from blackhc.project.experiment import embedded_experiments\n",
    "from torch.utils.data import Dataset\n",
    "\n",
    "import batchbald_redux.acquisition_functions as acquisition_functions\n",
    "import wandb\n",
    "from batchbald_redux.acquisition_functions import (\n",
    "    CandidateBatchComputer,\n",
    "    EvalModelBatchComputer,\n",
    ")\n",
    "from batchbald_redux.active_learning import ActiveLearningData, RandomFixedLengthSampler\n",
    "from batchbald_redux.black_box_model_training import evaluate_old, train\n",
    "from batchbald_redux.dataset_challenges import (\n",
    "    AdditiveGaussianNoise,\n",
    "    NamedDataset,\n",
    "    create_repeated_MNIST_dataset,\n",
    "    get_balanced_sample_indices,\n",
    "    get_base_dataset_index,\n",
    "    get_target,\n",
    ")\n",
    "from batchbald_redux.di import DependencyInjection\n",
    "from batchbald_redux.experiment_logging import asclassdict, init_wandb, log2wandb\n",
    "from batchbald_redux.fast_mnist import FastMNIST\n",
    "from batchbald_redux.model_optimizer_factory import ModelOptimizerFactory\n",
    "from batchbald_redux.models import MnistOptimizerFactory\n",
    "from batchbald_redux.online_bayesian_inference import evaluate_online_bayesian_inference"
   ]
  },
  {
   "cell_type": "code",
   "execution_count": null,
   "metadata": {},
   "outputs": [],
   "source": [
    "# exports\n",
    "\n",
    "# From the BatchBALD Repo\n",
    "from batchbald_redux.train_eval_model import (\n",
    "    TrainEvalModel,\n",
    "    TrainSelfDistillationEvalModel,\n",
    ")\n",
    "from batchbald_redux.trained_model import TrainedBayesianModel"
   ]
  },
  {
   "cell_type": "code",
   "execution_count": null,
   "metadata": {},
   "outputs": [],
   "source": [
    "# exports\n",
    "\n",
    "from blackhc.progress_bar import create_progress_bar\n",
    "from toma import toma\n",
    "\n",
    "\n",
    "def compute_entropy_from_probs(probs_N_K_C: torch.Tensor) -> torch.Tensor:\n",
    "    N, K, C = probs_N_K_C.shape\n",
    "\n",
    "    entropies_N = torch.empty(N, dtype=torch.double)\n",
    "\n",
    "    pbar = create_progress_bar(N, tqdm_args=dict(desc=\"Entropy\", leave=False))\n",
    "    pbar.start()\n",
    "\n",
    "    @toma.execute.chunked(probs_N_K_C, 1024)\n",
    "    def compute(probs_n_K_C, start: int, end: int):\n",
    "        mean_probs_n_C = probs_n_K_C.mean(dim=1)\n",
    "        nats_n_C = mean_probs_n_C * torch.log(mean_probs_n_C)\n",
    "        nats_n_C[mean_probs_n_C == 0] = 0.0\n",
    "\n",
    "        entropies_N[start:end].copy_(-torch.sum(nats_n_C, dim=1))\n",
    "        pbar.update(end - start)\n",
    "\n",
    "    pbar.finish()\n",
    "\n",
    "    return entropies_N"
   ]
  },
  {
   "cell_type": "code",
   "execution_count": null,
   "metadata": {},
   "outputs": [
    {
     "data": {
      "application/vnd.jupyter.widget-view+json": {
       "model_id": "",
       "version_major": 2,
       "version_minor": 0
      },
      "text/plain": [
       "Entropy:   0%|          | 0/60000 [00:00<?, ?it/s]"
      ]
     },
     "metadata": {},
     "output_type": "display_data"
    }
   ],
   "source": [
    "train_predictions = torch.load(\"./data/mnist_train_predictions.pt\", map_location=\"cpu\")\n",
    "train_entropies = compute_entropy_from_probs(train_predictions[:, None, :])"
   ]
  },
  {
   "cell_type": "code",
   "execution_count": null,
   "metadata": {},
   "outputs": [],
   "source": [
    "from matplotlib import pyplot as plt"
   ]
  },
  {
   "cell_type": "code",
   "execution_count": null,
   "metadata": {},
   "outputs": [
    {
     "data": {
      "text/plain": [
       "(array([55951.,  1227.,   635.,   386.,   241.,   206.,   130.,   117.,\n",
       "          118.,    74.]),\n",
       " array([0.  , 0.02, 0.04, 0.06, 0.08, 0.1 , 0.12, 0.14, 0.16, 0.18, 0.2 ]),\n",
       " <BarContainer object of 10 artists>)"
      ]
     },
     "execution_count": null,
     "metadata": {},
     "output_type": "execute_result"
    },
    {
     "data": {
      "image/png": "[encoded data removed]",
      "text/plain": [
       "<Figure size 432x288 with 1 Axes>"
      ]
     },
     "metadata": {
      "needs_background": "light"
     },
     "output_type": "display_data"
    }
   ],
   "source": [
    "plt.hist(train_entropies.cpu().numpy(), range=[0, 0.2])"
   ]
  },
  {
   "cell_type": "code",
   "execution_count": null,
   "metadata": {},
   "outputs": [
    {
     "data": {
      "text/plain": [
       "5678"
      ]
     },
     "execution_count": null,
     "metadata": {},
     "output_type": "execute_result"
    }
   ],
   "source": [
    "60000 - len(torch.nonzero(train_entropies < 0.01, as_tuple=True)[0].numpy())"
   ]
  },
  {
   "cell_type": "code",
   "execution_count": null,
   "metadata": {
    "tags": []
   },
   "outputs": [],
   "source": [
    "# exports\n",
    "\n",
    "# Rerun from 2022/04/15\n",
    "\n",
    "training_set_90 = [\n",
    "    46377,\n",
    "    44390,\n",
    "    7485,\n",
    "    25450,\n",
    "    12220,\n",
    "    43112,\n",
    "    3612,\n",
    "    54256,\n",
    "    44467,\n",
    "    17555,\n",
    "    4218,\n",
    "    45101,\n",
    "    41296,\n",
    "    32261,\n",
    "    3281,\n",
    "    6944,\n",
    "    7701,\n",
    "    30692,\n",
    "    24891,\n",
    "    24436,\n",
    "    17776,\n",
    "    36852,\n",
    "    26891,\n",
    "    17001,\n",
    "    44414,\n",
    "    23050,\n",
    "    30884,\n",
    "    41516,\n",
    "    8897,\n",
    "    34608,\n",
    "    11721,\n",
    "    13127,\n",
    "    9870,\n",
    "    39700,\n",
    "    13985,\n",
    "    9608,\n",
    "    17808,\n",
    "    23028,\n",
    "    3494,\n",
    "    10210,\n",
    "    42384,\n",
    "    31742,\n",
    "    17100,\n",
    "    46530,\n",
    "    26733,\n",
    "    4762,\n",
    "    14113,\n",
    "    20798,\n",
    "    28388,\n",
    "    42973,\n",
    "    37347,\n",
    "    55042,\n",
    "    41295,\n",
    "    28310,\n",
    "    19280,\n",
    "    18501,\n",
    "    274,\n",
    "    11208,\n",
    "    13335,\n",
    "    24440,\n",
    "    49493,\n",
    "    58129,\n",
    "    56210,\n",
    "    40766,\n",
    "    13318,\n",
    "    50040,\n",
    "    18408,\n",
    "    7255,\n",
    "    15494,\n",
    "    7168,\n",
    "    9472,\n",
    "    14845,\n",
    "    14096,\n",
    "    26072,\n",
    "    35944,\n",
    "    34836,\n",
    "    12655,\n",
    "    991,\n",
    "    38577,\n",
    "    47322,\n",
    "    45212,\n",
    "    16286,\n",
    "    5308,\n",
    "    38182,\n",
    "    31624,\n",
    "    12702,\n",
    "    30861,\n",
    "    46320,\n",
    "    36408,\n",
    "    49841,\n",
    "    33426,\n",
    "    57527,\n",
    "    3273,\n",
    "    24740,\n",
    "    39627,\n",
    "    22199,\n",
    "    19362,\n",
    "    42136,\n",
    "    41965,\n",
    "    43095,\n",
    "]\n",
    "\n",
    "training_set_90[:20] = [51348,\n",
    " 49110,\n",
    " 8222,\n",
    " 28130,\n",
    " 13484,\n",
    " 47685,\n",
    " 3938,\n",
    " 59930,\n",
    " 49196,\n",
    " 19427,\n",
    " 4601,\n",
    " 49922,\n",
    " 45635,\n",
    " 35684,\n",
    " 3579,\n",
    " 7621,\n",
    " 8465,\n",
    " 33959,\n",
    " 27521,\n",
    " 27015]\n",
    "\n",
    "\n",
    "@dataclass\n",
    "class Experiment:\n",
    "    seed: int = 1337\n",
    "    num_pool_samples: int = 20\n",
    "    num_validation_samples: int = 20\n",
    "    num_training_samples: int = 1\n",
    "    num_patience_epochs: int = 5 * 4\n",
    "    max_training_epochs: int = 30 * 4\n",
    "    training_batch_size: int = 64\n",
    "    device: str = \"cuda\"\n",
    "    validation_set_size: int = 1024\n",
    "    min_samples_per_epoch: int = 1024\n",
    "    model_optimizer_factory: Type[ModelOptimizerFactory] = MnistOptimizerFactory\n",
    "    max_obi_steps: int = 10\n",
    "    num_samples_list: int = (100, 1000, 10000)\n",
    "    up_factor: int = 2\n",
    "    num_trials: int = 5\n",
    "    acquisition_size: int = 5\n",
    "\n",
    "    def load_dataset(self) -> (ActiveLearningData, Dataset, Dataset):\n",
    "        train_dataset = NamedDataset(\n",
    "            FastMNIST(\"data\", train=True, download=True, device=self.device), \"FastMNIST (train)\"\n",
    "        )\n",
    "        \n",
    "        active_learning_data = ActiveLearningData(train_dataset)\n",
    "\n",
    "        active_learning_data.acquire_base_indices(training_set_90[:20])\n",
    "\n",
    "        active_learning_data_validation_set = ActiveLearningData(train_dataset)\n",
    "        active_learning_data_validation_set.acquire_base_indices(training_set_90)\n",
    "\n",
    "        validation_dataset = active_learning_data_validation_set.extract_dataset_from_pool(self.validation_set_size)\n",
    "        validation_dataset = NamedDataset(\n",
    "            validation_dataset, f\"FastMNIST (validation, {len(validation_dataset)} samples)\"\n",
    "        )\n",
    "\n",
    "        test_dataset = FastMNIST(\"data\", train=False, device=self.device)\n",
    "        test_dataset = NamedDataset(test_dataset, f\"FastMNIST (test, {len(test_dataset)} samples)\")\n",
    "\n",
    "        return active_learning_data, validation_dataset, test_dataset, training_set_90[:20]\n",
    "\n",
    "    # Simple Dependency Injection\n",
    "    def create_train_eval_model(self, runtime_config) -> TrainEvalModel:\n",
    "        config = {**vars(self), **runtime_config}\n",
    "        di = DependencyInjection(config, [])\n",
    "        return di.create_dataclass_type(self.train_eval_model)\n",
    "\n",
    "    def run(self, store):\n",
    "        init_wandb(self)\n",
    "\n",
    "        torch.manual_seed(self.seed)\n",
    "\n",
    "        # Active Learning setup\n",
    "        active_learning_data, validation_dataset, test_dataset, initial_training_set_indices = self.load_dataset()\n",
    "        store[\"initial_training_set_indices\"] = initial_training_set_indices\n",
    "        store[\"dataset_info\"] = dict(training=repr(active_learning_data.base_dataset), test=repr(test_dataset))\n",
    "\n",
    "        print(wandb.config)\n",
    "\n",
    "        wandb.config.initial_training_set_indices = initial_training_set_indices\n",
    "        wandb.config[\"dataset_info\"] = store[\"dataset_info\"]\n",
    "\n",
    "        # initial_training_set_indices = active_learning_data.get_random_pool_indices(self.initial_set_size)\n",
    "        # initial_training_set_indices = get_balanced_sample_indices(\n",
    "        #     active_learning_data.pool_dataset, 10, self.initial_set_size // 10\n",
    "        # )\n",
    "\n",
    "        train_loader = torch.utils.data.DataLoader(\n",
    "            active_learning_data.training_dataset,\n",
    "            batch_size=self.training_batch_size,\n",
    "            sampler=RandomFixedLengthSampler(active_learning_data.training_dataset, self.min_samples_per_epoch),\n",
    "            drop_last=True,\n",
    "        )\n",
    "\n",
    "        validation_loader = torch.utils.data.DataLoader(validation_dataset, batch_size=128, drop_last=False)\n",
    "        test_loader = torch.utils.data.DataLoader(test_dataset, batch_size=128, drop_last=False)\n",
    "\n",
    "        store[\"obi_performances\"] = []\n",
    "        obi_performances = store[\"obi_performances\"]\n",
    "\n",
    "        store[\"active_learning_steps\"] = []\n",
    "        active_learning_steps = store[\"active_learning_steps\"]\n",
    "\n",
    "        # Active Training Loop\n",
    "        while True:\n",
    "            training_set_size = len(active_learning_data.training_dataset)\n",
    "            print(f\"Training set size {training_set_size}:\")\n",
    "\n",
    "            # iteration_log = dict(training={}, pool_training={}, evaluation_metrics=None, acquisition=None)\n",
    "            active_learning_steps.append({})\n",
    "            iteration_log = active_learning_steps[-1]\n",
    "\n",
    "            iteration_log[\"training\"] = {}\n",
    "\n",
    "            model_optimizer = self.model_optimizer_factory().create_model_optimizer()\n",
    "\n",
    "            if training_set_size > 0:\n",
    "                train(\n",
    "                    model=model_optimizer.model,\n",
    "                    optimizer=model_optimizer.optimizer,\n",
    "                    training_samples=self.num_training_samples,\n",
    "                    validation_samples=self.num_validation_samples,\n",
    "                    train_loader=train_loader,\n",
    "                    validation_loader=validation_loader,\n",
    "                    patience=self.num_patience_epochs,\n",
    "                    max_epochs=self.max_training_epochs,\n",
    "                    device=self.device,\n",
    "                    training_log=iteration_log[\"training\"],\n",
    "                    wandb_key_path=\"model_training\",\n",
    "                )\n",
    "\n",
    "            evaluation_metrics = evaluate_old(\n",
    "                model=model_optimizer.model,\n",
    "                num_samples=self.num_validation_samples,\n",
    "                loader=test_loader,\n",
    "                device=self.device,\n",
    "            )\n",
    "            iteration_log[\"evaluation_metrics\"] = evaluation_metrics\n",
    "            log2wandb(evaluation_metrics, commit=False)\n",
    "            print(f\"Perf after training {evaluation_metrics}\")\n",
    "\n",
    "            results = []\n",
    "            if training_set_size % 5 == 0:\n",
    "                results = evaluate_online_bayesian_inference(\n",
    "                    model=model_optimizer.model,\n",
    "                    real_training_set_size=training_set_size,\n",
    "                    train_dataset=active_learning_data.base_dataset,\n",
    "                    test_dataset=test_dataset,\n",
    "                    additional_training_indices=training_set_90[\n",
    "                        training_set_size : training_set_size + self.max_obi_steps\n",
    "                    ],\n",
    "                    num_samples_list=self.num_samples_list,\n",
    "                    num_trials=self.num_trials,\n",
    "                    up_factor=self.up_factor,\n",
    "                    eval_batchsize=512,\n",
    "                    device=self.device,\n",
    "                )\n",
    "\n",
    "            obi_performances.append(results)\n",
    "            log2wandb(dict(obi_performances=[asclassdict(result) for result in results]), commit=False)\n",
    "\n",
    "            if training_set_size >= len(training_set_90):\n",
    "                log2wandb({}, commit=True)\n",
    "                print(\"Done.\")\n",
    "                break\n",
    "\n",
    "            next_indices = training_set_90[training_set_size : training_set_size + self.acquisition_size]\n",
    "            iteration_log[\"acquisition\"] = dict(indices=next_indices)\n",
    "\n",
    "            active_learning_data.acquire_base_indices(next_indices)\n",
    "            log2wandb({}, commit=True)"
   ]
  },
  {
   "cell_type": "code",
   "execution_count": null,
   "metadata": {
    "tags": []
   },
   "outputs": [
    {
     "name": "stderr",
     "output_type": "stream",
     "text": [
      "Failed to detect the name of this notebook, you can set it manually with the WANDB_NOTEBOOK_NAME environment variable to enable code saving.\n",
      "\u001b[34m\u001b[1mwandb\u001b[0m: Currently logged in as: \u001b[33moatml-andreas-kirsch\u001b[0m (use `wandb login --relogin` to force relogin)\n"
     ]
    },
    {
     "data": {
      "text/html": [
       "wandb version 0.12.14 is available!  To upgrade, please run:\n",
       " $ pip install wandb --upgrade"
      ],
      "text/plain": [
       "<IPython.core.display.HTML object>"
      ]
     },
     "metadata": {},
     "output_type": "display_data"
    },
    {
     "data": {
      "text/html": [
       "Tracking run with wandb version 0.12.11"
      ],
      "text/plain": [
       "<IPython.core.display.HTML object>"
      ]
     },
     "metadata": {},
     "output_type": "display_data"
    },
    {
     "data": {
      "text/html": [
       "Run data is saved locally in <code>/home/blackhc/PycharmProjects/bald-ical/wandb/run-20220418_235212-3uyik2b9</code>"
      ],
      "text/plain": [
       "<IPython.core.display.HTML object>"
      ]
     },
     "metadata": {},
     "output_type": "display_data"
    },
    {
     "data": {
      "text/html": [
       "Syncing run <strong><a href=\"https://wandb.ai/oatml-andreas-kirsch/balds/runs/3uyik2b9\" target=\"_blank\">fearless-lion-282</a></strong> to <a href=\"https://wandb.ai/oatml-andreas-kirsch/balds\" target=\"_blank\">Weights & Biases</a> (<a href=\"https://wandb.me/run\" target=\"_blank\">docs</a>)<br/>"
      ],
      "text/plain": [
       "<IPython.core.display.HTML object>"
      ]
     },
     "metadata": {},
     "output_type": "display_data"
    },
    {
     "name": "stdout",
     "output_type": "stream",
     "text": [
      "{'Dataclass': '__main__.Experiment', 'seed': 1120, 'num_pool_samples': 100, 'num_validation_samples': 20, 'num_training_samples': 1, 'num_patience_epochs': 20, 'max_training_epochs': 120, 'training_batch_size': 64, 'device': 'cuda', 'validation_set_size': 1024, 'min_samples_per_epoch': 1024, 'model_optimizer_factory': 'batchbald_redux.models.MnistOptimizerFactory', 'max_obi_steps': 10, 'num_samples_list': [10, 100], 'up_factor': 2, 'num_trials': 5, 'acquisition_size': 5}\n",
      "Training set size 20:\n"
     ]
    },
    {
     "data": {
      "application/vnd.jupyter.widget-view+json": {
       "model_id": "3d966ffe81114f74b153c0be00ebf33f",
       "version_major": 2,
       "version_minor": 0
      },
      "text/plain": [
       "  1%|          | 1/120 [00:00<?, ?it/s]"
      ]
     },
     "metadata": {},
     "output_type": "display_data"
    },
    {
     "data": {
      "application/vnd.jupyter.widget-view+json": {
       "model_id": "",
       "version_major": 2,
       "version_minor": 0
      },
      "text/plain": [
       "[1/16]   6%|6          [00:00<?]"
      ]
     },
     "metadata": {},
     "output_type": "display_data"
    },
    {
     "name": "stdout",
     "output_type": "stream",
     "text": [
      "Epoch metrics: {'accuracy': 0.498046875, 'crossentropy': 1.6978874206542969}\n"
     ]
    },
    {
     "data": {
      "application/vnd.jupyter.widget-view+json": {
       "model_id": "",
       "version_major": 2,
       "version_minor": 0
      },
      "text/plain": [
       "[1/16]   6%|6          [00:00<?]"
      ]
     },
     "metadata": {},
     "output_type": "display_data"
    },
    {
     "name": "stdout",
     "output_type": "stream",
     "text": [
      "Epoch metrics: {'accuracy': 0.5908203125, 'crossentropy': 1.4439122676849365}\n"
     ]
    },
    {
     "data": {
      "application/vnd.jupyter.widget-view+json": {
       "model_id": "",
       "version_major": 2,
       "version_minor": 0
      },
      "text/plain": [
       "[1/16]   6%|6          [00:00<?]"
      ]
     },
     "metadata": {},
     "output_type": "display_data"
    },
    {
     "name": "stdout",
     "output_type": "stream",
     "text": [
      "Epoch metrics: {'accuracy': 0.5732421875, 'crossentropy': 1.6255619525909424}\n",
      "RestoringEarlyStopping: 1 / 20\n"
     ]
    },
    {
     "data": {
      "application/vnd.jupyter.widget-view+json": {
       "model_id": "",
       "version_major": 2,
       "version_minor": 0
      },
      "text/plain": [
       "[1/16]   6%|6          [00:00<?]"
      ]
     },
     "metadata": {},
     "output_type": "display_data"
    },
    {
     "name": "stdout",
     "output_type": "stream",
     "text": [
      "Epoch metrics: {'accuracy': 0.572265625, 'crossentropy': 1.7010595798492432}\n",
      "RestoringEarlyStopping: 2 / 20\n"
     ]
    },
    {
     "data": {
      "application/vnd.jupyter.widget-view+json": {
       "model_id": "",
       "version_major": 2,
       "version_minor": 0
      },
      "text/plain": [
       "[1/16]   6%|6          [00:00<?]"
      ]
     },
     "metadata": {},
     "output_type": "display_data"
    },
    {
     "name": "stdout",
     "output_type": "stream",
     "text": [
      "Epoch metrics: {'accuracy': 0.5810546875, 'crossentropy': 1.6882646083831787}\n",
      "RestoringEarlyStopping: 3 / 20\n"
     ]
    },
    {
     "data": {
      "application/vnd.jupyter.widget-view+json": {
       "model_id": "",
       "version_major": 2,
       "version_minor": 0
      },
      "text/plain": [
       "[1/16]   6%|6          [00:00<?]"
      ]
     },
     "metadata": {},
     "output_type": "display_data"
    },
    {
     "name": "stdout",
     "output_type": "stream",
     "text": [
      "Epoch metrics: {'accuracy': 0.55078125, 'crossentropy': 1.897071123123169}\n",
      "RestoringEarlyStopping: 4 / 20\n"
     ]
    },
    {
     "data": {
      "application/vnd.jupyter.widget-view+json": {
       "model_id": "",
       "version_major": 2,
       "version_minor": 0
      },
      "text/plain": [
       "[1/16]   6%|6          [00:00<?]"
      ]
     },
     "metadata": {},
     "output_type": "display_data"
    },
    {
     "name": "stdout",
     "output_type": "stream",
     "text": [
      "Epoch metrics: {'accuracy': 0.583984375, 'crossentropy': 1.8133219480514526}\n",
      "RestoringEarlyStopping: 5 / 20\n"
     ]
    },
    {
     "data": {
      "application/vnd.jupyter.widget-view+json": {
       "model_id": "",
       "version_major": 2,
       "version_minor": 0
      },
      "text/plain": [
       "[1/16]   6%|6          [00:00<?]"
      ]
     },
     "metadata": {},
     "output_type": "display_data"
    },
    {
     "name": "stdout",
     "output_type": "stream",
     "text": [
      "Epoch metrics: {'accuracy': 0.57421875, 'crossentropy': 1.8303645849227905}\n",
      "RestoringEarlyStopping: 6 / 20\n"
     ]
    },
    {
     "data": {
      "application/vnd.jupyter.widget-view+json": {
       "model_id": "",
       "version_major": 2,
       "version_minor": 0
      },
      "text/plain": [
       "[1/16]   6%|6          [00:00<?]"
      ]
     },
     "metadata": {},
     "output_type": "display_data"
    },
    {
     "name": "stdout",
     "output_type": "stream",
     "text": [
      "Epoch metrics: {'accuracy': 0.546875, 'crossentropy': 1.852595329284668}\n",
      "RestoringEarlyStopping: 7 / 20\n"
     ]
    },
    {
     "data": {
      "application/vnd.jupyter.widget-view+json": {
       "model_id": "",
       "version_major": 2,
       "version_minor": 0
      },
      "text/plain": [
       "[1/16]   6%|6          [00:00<?]"
      ]
     },
     "metadata": {},
     "output_type": "display_data"
    },
    {
     "name": "stdout",
     "output_type": "stream",
     "text": [
      "Epoch metrics: {'accuracy': 0.5751953125, 'crossentropy': 1.860951542854309}\n",
      "RestoringEarlyStopping: 8 / 20\n"
     ]
    },
    {
     "data": {
      "application/vnd.jupyter.widget-view+json": {
       "model_id": "",
       "version_major": 2,
       "version_minor": 0
      },
      "text/plain": [
       "[1/16]   6%|6          [00:00<?]"
      ]
     },
     "metadata": {},
     "output_type": "display_data"
    },
    {
     "name": "stdout",
     "output_type": "stream",
     "text": [
      "Epoch metrics: {'accuracy': 0.572265625, 'crossentropy': 1.8273544311523438}\n",
      "RestoringEarlyStopping: 9 / 20\n"
     ]
    },
    {
     "data": {
      "application/vnd.jupyter.widget-view+json": {
       "model_id": "",
       "version_major": 2,
       "version_minor": 0
      },
      "text/plain": [
       "[1/16]   6%|6          [00:00<?]"
      ]
     },
     "metadata": {},
     "output_type": "display_data"
    },
    {
     "name": "stdout",
     "output_type": "stream",
     "text": [
      "Epoch metrics: {'accuracy': 0.5849609375, 'crossentropy': 1.8127977848052979}\n",
      "RestoringEarlyStopping: 10 / 20\n"
     ]
    },
    {
     "data": {
      "application/vnd.jupyter.widget-view+json": {
       "model_id": "",
       "version_major": 2,
       "version_minor": 0
      },
      "text/plain": [
       "[1/16]   6%|6          [00:00<?]"
      ]
     },
     "metadata": {},
     "output_type": "display_data"
    },
    {
     "name": "stdout",
     "output_type": "stream",
     "text": [
      "Epoch metrics: {'accuracy': 0.5869140625, 'crossentropy': 1.8377717733383179}\n",
      "RestoringEarlyStopping: 11 / 20\n"
     ]
    },
    {
     "data": {
      "application/vnd.jupyter.widget-view+json": {
       "model_id": "",
       "version_major": 2,
       "version_minor": 0
      },
      "text/plain": [
       "[1/16]   6%|6          [00:00<?]"
      ]
     },
     "metadata": {},
     "output_type": "display_data"
    },
    {
     "name": "stdout",
     "output_type": "stream",
     "text": [
      "Epoch metrics: {'accuracy': 0.5849609375, 'crossentropy': 1.8848482370376587}\n",
      "RestoringEarlyStopping: 12 / 20\n"
     ]
    },
    {
     "data": {
      "application/vnd.jupyter.widget-view+json": {
       "model_id": "",
       "version_major": 2,
       "version_minor": 0
      },
      "text/plain": [
       "[1/16]   6%|6          [00:00<?]"
      ]
     },
     "metadata": {},
     "output_type": "display_data"
    },
    {
     "name": "stdout",
     "output_type": "stream",
     "text": [
      "Epoch metrics: {'accuracy': 0.578125, 'crossentropy': 1.8798604011535645}\n",
      "RestoringEarlyStopping: 13 / 20\n"
     ]
    },
    {
     "data": {
      "application/vnd.jupyter.widget-view+json": {
       "model_id": "",
       "version_major": 2,
       "version_minor": 0
      },
      "text/plain": [
       "[1/16]   6%|6          [00:00<?]"
      ]
     },
     "metadata": {},
     "output_type": "display_data"
    },
    {
     "name": "stdout",
     "output_type": "stream",
     "text": [
      "Epoch metrics: {'accuracy': 0.5546875, 'crossentropy': 1.9861276149749756}\n",
      "RestoringEarlyStopping: 14 / 20\n"
     ]
    },
    {
     "data": {
      "application/vnd.jupyter.widget-view+json": {
       "model_id": "",
       "version_major": 2,
       "version_minor": 0
      },
      "text/plain": [
       "[1/16]   6%|6          [00:00<?]"
      ]
     },
     "metadata": {},
     "output_type": "display_data"
    },
    {
     "name": "stdout",
     "output_type": "stream",
     "text": [
      "Epoch metrics: {'accuracy': 0.556640625, 'crossentropy': 2.08250093460083}\n",
      "RestoringEarlyStopping: 15 / 20\n"
     ]
    },
    {
     "data": {
      "application/vnd.jupyter.widget-view+json": {
       "model_id": "",
       "version_major": 2,
       "version_minor": 0
      },
      "text/plain": [
       "[1/16]   6%|6          [00:00<?]"
      ]
     },
     "metadata": {},
     "output_type": "display_data"
    },
    {
     "name": "stdout",
     "output_type": "stream",
     "text": [
      "Epoch metrics: {'accuracy': 0.5869140625, 'crossentropy': 1.8019202947616577}\n",
      "RestoringEarlyStopping: 16 / 20\n"
     ]
    },
    {
     "data": {
      "application/vnd.jupyter.widget-view+json": {
       "model_id": "",
       "version_major": 2,
       "version_minor": 0
      },
      "text/plain": [
       "[1/16]   6%|6          [00:00<?]"
      ]
     },
     "metadata": {},
     "output_type": "display_data"
    },
    {
     "name": "stdout",
     "output_type": "stream",
     "text": [
      "Epoch metrics: {'accuracy': 0.580078125, 'crossentropy': 1.9349033832550049}\n",
      "RestoringEarlyStopping: 17 / 20\n"
     ]
    },
    {
     "data": {
      "application/vnd.jupyter.widget-view+json": {
       "model_id": "",
       "version_major": 2,
       "version_minor": 0
      },
      "text/plain": [
       "[1/16]   6%|6          [00:00<?]"
      ]
     },
     "metadata": {},
     "output_type": "display_data"
    },
    {
     "name": "stdout",
     "output_type": "stream",
     "text": [
      "Epoch metrics: {'accuracy': 0.5908203125, 'crossentropy': 1.9876773357391357}\n",
      "RestoringEarlyStopping: 18 / 20\n"
     ]
    },
    {
     "data": {
      "application/vnd.jupyter.widget-view+json": {
       "model_id": "",
       "version_major": 2,
       "version_minor": 0
      },
      "text/plain": [
       "[1/16]   6%|6          [00:00<?]"
      ]
     },
     "metadata": {},
     "output_type": "display_data"
    },
    {
     "name": "stdout",
     "output_type": "stream",
     "text": [
      "Epoch metrics: {'accuracy': 0.5517578125, 'crossentropy': 2.030268430709839}\n",
      "RestoringEarlyStopping: 19 / 20\n"
     ]
    },
    {
     "data": {
      "application/vnd.jupyter.widget-view+json": {
       "model_id": "",
       "version_major": 2,
       "version_minor": 0
      },
      "text/plain": [
       "[1/16]   6%|6          [00:00<?]"
      ]
     },
     "metadata": {},
     "output_type": "display_data"
    },
    {
     "name": "stdout",
     "output_type": "stream",
     "text": [
      "Epoch metrics: {'accuracy': 0.5693359375, 'crossentropy': 2.0061864852905273}\n",
      "RestoringEarlyStopping: 20 / 20\n",
      "RestoringEarlyStopping: Out of patience\n",
      "RestoringEarlyStopping: Restoring best parameters. (Score: 0.5908203125)\n",
      "RestoringEarlyStopping: Restoring optimizer.\n",
      "{'model_training/val_metrics': <wandb.data_types.Table object at 0x7f0ff0394250>, 'model_training/best_epoch': 1, 'model_training/best_val_accuracy': 0.5908203125, 'model_training/best_val_crossentropy': 1.4439122676849365}\n"
     ]
    },
    {
     "data": {
      "application/vnd.jupyter.widget-view+json": {
       "model_id": "",
       "version_major": 2,
       "version_minor": 0
      },
      "text/plain": [
       "[1/79]   1%|1          [00:00<?]"
      ]
     },
     "metadata": {},
     "output_type": "display_data"
    },
    {
     "name": "stdout",
     "output_type": "stream",
     "text": [
      "Perf after training {'accuracy': 0.5828, 'crossentropy': 1.39873291015625, '_timestamp': 1650322351, '_runtime': 19}\n"
     ]
    },
    {
     "data": {
      "application/vnd.jupyter.widget-view+json": {
       "model_id": "",
       "version_major": 2,
       "version_minor": 0
      },
      "text/plain": [
       "get_predictions_labels:   0%|          | 0/2002000 [00:00<?, ?it/s]"
      ]
     },
     "metadata": {},
     "output_type": "display_data"
    },
    {
     "name": "stdout",
     "output_type": "stream",
     "text": [
      "Online Training Size/Num Samples/Trial: 0/10/0\n",
      "torch.Size([10010, 10, 10])\n",
      "tensor(0.) tensor(nan)\n"
     ]
    },
    {
     "data": {
      "image/png": "[encoded data removed]",
      "text/plain": [
       "<Figure size 432x288 with 1 Axes>"
      ]
     },
     "metadata": {
      "needs_background": "light"
     },
     "output_type": "display_data"
    },
    {
     "name": "stdout",
     "output_type": "stream",
     "text": [
      "torch.Size([10000, 10, 10])\n",
      "OBIPerformance(total_training_set_size=20, real_training_set_size=20, online_training_set_size=0, trial_index=0, num_samples=10, accuracy=0.5742999911308289, crossentropy=1.3173576593399048)\n",
      "Online Training Size/Num Samples/Trial: 0/10/1\n",
      "torch.Size([10010, 10, 10])\n",
      "tensor(0.) tensor(nan)\n"
     ]
    },
    {
     "data": {
      "image/png": "[encoded data removed]",
      "text/plain": [
       "<Figure size 432x288 with 1 Axes>"
      ]
     },
     "metadata": {
      "needs_background": "light"
     },
     "output_type": "display_data"
    },
    {
     "name": "stdout",
     "output_type": "stream",
     "text": [
      "torch.Size([10000, 10, 10])\n",
      "OBIPerformance(total_training_set_size=20, real_training_set_size=20, online_training_set_size=0, trial_index=1, num_samples=10, accuracy=0.583299994468689, crossentropy=1.3814374208450317)\n",
      "Online Training Size/Num Samples/Trial: 0/10/2\n",
      "torch.Size([10010, 10, 10])\n",
      "tensor(0.) tensor(nan)\n"
     ]
    },
    {
     "data": {
      "image/png": "[encoded data removed]",
      "text/plain": [
       "<Figure size 432x288 with 1 Axes>"
      ]
     },
     "metadata": {
      "needs_background": "light"
     },
     "output_type": "display_data"
    },
    {
     "name": "stdout",
     "output_type": "stream",
     "text": [
      "torch.Size([10000, 10, 10])\n",
      "OBIPerformance(total_training_set_size=20, real_training_set_size=20, online_training_set_size=0, trial_index=2, num_samples=10, accuracy=0.5658000111579895, crossentropy=1.4978936910629272)\n",
      "Online Training Size/Num Samples/Trial: 0/10/3\n",
      "torch.Size([10010, 10, 10])\n",
      "tensor(0.) tensor(nan)\n"
     ]
    },
    {
     "data": {
      "image/png": "[encoded data removed]",
      "text/plain": [
       "<Figure size 432x288 with 1 Axes>"
      ]
     },
     "metadata": {
      "needs_background": "light"
     },
     "output_type": "display_data"
    },
    {
     "name": "stdout",
     "output_type": "stream",
     "text": [
      "torch.Size([10000, 10, 10])\n",
      "OBIPerformance(total_training_set_size=20, real_training_set_size=20, online_training_set_size=0, trial_index=3, num_samples=10, accuracy=0.567799985408783, crossentropy=1.5471975803375244)\n",
      "Online Training Size/Num Samples/Trial: 0/10/4\n",
      "torch.Size([10010, 10, 10])\n",
      "tensor(0.) tensor(nan)\n"
     ]
    },
    {
     "data": {
      "image/png": "[encoded data removed]",
      "text/plain": [
       "<Figure size 432x288 with 1 Axes>"
      ]
     },
     "metadata": {
      "needs_background": "light"
     },
     "output_type": "display_data"
    },
    {
     "name": "stdout",
     "output_type": "stream",
     "text": [
      "torch.Size([10000, 10, 10])\n",
      "OBIPerformance(total_training_set_size=20, real_training_set_size=20, online_training_set_size=0, trial_index=4, num_samples=10, accuracy=0.5877000093460083, crossentropy=1.3796792030334473)\n",
      "Online Training Size/Num Samples/Trial: 0/100/0\n",
      "torch.Size([10010, 100, 10])\n",
      "tensor(0.) tensor(nan)\n"
     ]
    },
    {
     "data": {
      "image/png": "[encoded data removed]",
      "text/plain": [
       "<Figure size 432x288 with 1 Axes>"
      ]
     },
     "metadata": {
      "needs_background": "light"
     },
     "output_type": "display_data"
    },
    {
     "name": "stdout",
     "output_type": "stream",
     "text": [
      "torch.Size([10000, 100, 10])\n",
      "OBIPerformance(total_training_set_size=20, real_training_set_size=20, online_training_set_size=0, trial_index=0, num_samples=100, accuracy=0.5849000215530396, crossentropy=1.3507739305496216)\n",
      "Online Training Size/Num Samples/Trial: 0/100/1\n",
      "torch.Size([10010, 100, 10])\n",
      "tensor(0.) tensor(nan)\n"
     ]
    },
    {
     "data": {
      "image/png": "[encoded data removed]",
      "text/plain": [
       "<Figure size 432x288 with 1 Axes>"
      ]
     },
     "metadata": {
      "needs_background": "light"
     },
     "output_type": "display_data"
    },
    {
     "name": "stdout",
     "output_type": "stream",
     "text": [
      "torch.Size([10000, 100, 10])\n",
      "OBIPerformance(total_training_set_size=20, real_training_set_size=20, online_training_set_size=0, trial_index=1, num_samples=100, accuracy=0.5927000045776367, crossentropy=1.3224592208862305)\n",
      "Online Training Size/Num Samples/Trial: 0/100/2\n",
      "torch.Size([10010, 100, 10])\n",
      "tensor(0.) tensor(nan)\n"
     ]
    },
    {
     "data": {
      "image/png": "[encoded data removed]",
      "text/plain": [
       "<Figure size 432x288 with 1 Axes>"
      ]
     },
     "metadata": {
      "needs_background": "light"
     },
     "output_type": "display_data"
    },
    {
     "name": "stdout",
     "output_type": "stream",
     "text": [
      "torch.Size([10000, 100, 10])\n",
      "OBIPerformance(total_training_set_size=20, real_training_set_size=20, online_training_set_size=0, trial_index=2, num_samples=100, accuracy=0.5928000211715698, crossentropy=1.334039330482483)\n",
      "Online Training Size/Num Samples/Trial: 0/100/3\n",
      "torch.Size([10010, 100, 10])\n",
      "tensor(0.) tensor(nan)\n"
     ]
    },
    {
     "data": {
      "image/png": "[encoded data removed]",
      "text/plain": [
       "<Figure size 432x288 with 1 Axes>"
      ]
     },
     "metadata": {
      "needs_background": "light"
     },
     "output_type": "display_data"
    },
    {
     "name": "stdout",
     "output_type": "stream",
     "text": [
      "torch.Size([10000, 100, 10])\n",
      "OBIPerformance(total_training_set_size=20, real_training_set_size=20, online_training_set_size=0, trial_index=3, num_samples=100, accuracy=0.5871000289916992, crossentropy=1.3419795036315918)\n",
      "Online Training Size/Num Samples/Trial: 0/100/4\n",
      "torch.Size([10010, 100, 10])\n",
      "tensor(0.) tensor(nan)\n"
     ]
    },
    {
     "data": {
      "image/png": "[encoded data removed]",
      "text/plain": [
       "<Figure size 432x288 with 1 Axes>"
      ]
     },
     "metadata": {
      "needs_background": "light"
     },
     "output_type": "display_data"
    },
    {
     "name": "stdout",
     "output_type": "stream",
     "text": [
      "torch.Size([10000, 100, 10])\n",
      "OBIPerformance(total_training_set_size=20, real_training_set_size=20, online_training_set_size=0, trial_index=4, num_samples=100, accuracy=0.5874000191688538, crossentropy=1.3583260774612427)\n",
      "Online Training Size/Num Samples/Trial: 1/10/0\n",
      "torch.Size([10010, 10, 10])\n",
      "tensor(-4.9288) tensor(-7.0426)\n"
     ]
    },
    {
     "data": {
      "image/png": "[encoded data removed]",
      "text/plain": [
       "<Figure size 432x288 with 1 Axes>"
      ]
     },
     "metadata": {
      "needs_background": "light"
     },
     "output_type": "display_data"
    },
    {
     "name": "stdout",
     "output_type": "stream",
     "text": [
      "torch.Size([10000, 10, 10])\n",
      "OBIPerformance(total_training_set_size=21, real_training_set_size=20, online_training_set_size=1, trial_index=0, num_samples=10, accuracy=0.46799999475479126, crossentropy=1.6246726512908936)\n",
      "Online Training Size/Num Samples/Trial: 1/10/1\n",
      "torch.Size([10010, 10, 10])\n",
      "tensor(-4.9288) tensor(-6.1348)\n"
     ]
    },
    {
     "data": {
      "image/png": "[encoded data removed]",
      "text/plain": [
       "<Figure size 432x288 with 1 Axes>"
      ]
     },
     "metadata": {
      "needs_background": "light"
     },
     "output_type": "display_data"
    },
    {
     "name": "stdout",
     "output_type": "stream",
     "text": [
      "torch.Size([10000, 10, 10])\n",
      "OBIPerformance(total_training_set_size=21, real_training_set_size=20, online_training_set_size=1, trial_index=1, num_samples=10, accuracy=0.5939000248908997, crossentropy=1.3758227825164795)\n",
      "Online Training Size/Num Samples/Trial: 1/10/2\n",
      "torch.Size([10010, 10, 10])\n",
      "tensor(-5.3695) tensor(-7.1130)\n"
     ]
    },
    {
     "data": {
      "image/png": "[encoded data removed]",
      "text/plain": [
       "<Figure size 432x288 with 1 Axes>"
      ]
     },
     "metadata": {
      "needs_background": "light"
     },
     "output_type": "display_data"
    },
    {
     "name": "stdout",
     "output_type": "stream",
     "text": [
      "torch.Size([10000, 10, 10])\n",
      "OBIPerformance(total_training_set_size=21, real_training_set_size=20, online_training_set_size=1, trial_index=2, num_samples=10, accuracy=0.5620999932289124, crossentropy=1.5565084218978882)\n",
      "Online Training Size/Num Samples/Trial: 1/10/3\n",
      "torch.Size([10010, 10, 10])\n",
      "tensor(-2.7579) tensor(-4.5900)\n"
     ]
    },
    {
     "data": {
      "image/png": "[encoded data removed]",
      "text/plain": [
       "<Figure size 432x288 with 1 Axes>"
      ]
     },
     "metadata": {
      "needs_background": "light"
     },
     "output_type": "display_data"
    },
    {
     "name": "stdout",
     "output_type": "stream",
     "text": [
      "torch.Size([10000, 10, 10])\n",
      "OBIPerformance(total_training_set_size=21, real_training_set_size=20, online_training_set_size=1, trial_index=3, num_samples=10, accuracy=0.46779999136924744, crossentropy=1.5106593370437622)\n",
      "Online Training Size/Num Samples/Trial: 1/10/4\n",
      "torch.Size([10010, 10, 10])\n",
      "tensor(-3.9723) tensor(-5.7635)\n"
     ]
    },
    {
     "data": {
      "image/png": "[encoded data removed]",
      "text/plain": [
       "<Figure size 432x288 with 1 Axes>"
      ]
     },
     "metadata": {
      "needs_background": "light"
     },
     "output_type": "display_data"
    },
    {
     "name": "stdout",
     "output_type": "stream",
     "text": [
      "torch.Size([10000, 10, 10])\n",
      "OBIPerformance(total_training_set_size=21, real_training_set_size=20, online_training_set_size=1, trial_index=4, num_samples=10, accuracy=0.5723000168800354, crossentropy=1.34258234500885)\n",
      "Online Training Size/Num Samples/Trial: 1/100/0\n",
      "torch.Size([10010, 100, 10])\n",
      "tensor(-2.8890) tensor(-5.3845)\n"
     ]
    },
    {
     "data": {
      "image/png": "[encoded data removed]",
      "text/plain": [
       "<Figure size 432x288 with 1 Axes>"
      ]
     },
     "metadata": {
      "needs_background": "light"
     },
     "output_type": "display_data"
    },
    {
     "name": "stdout",
     "output_type": "stream",
     "text": [
      "torch.Size([10000, 100, 10])\n",
      "OBIPerformance(total_training_set_size=21, real_training_set_size=20, online_training_set_size=1, trial_index=0, num_samples=100, accuracy=0.567799985408783, crossentropy=1.344135046005249)\n",
      "Online Training Size/Num Samples/Trial: 1/100/1\n",
      "torch.Size([10010, 100, 10])\n",
      "tensor(-2.6725) tensor(-5.3252)\n"
     ]
    },
    {
     "data": {
      "image/png": "[encoded data removed]",
      "text/plain": [
       "<Figure size 432x288 with 1 Axes>"
      ]
     },
     "metadata": {
      "needs_background": "light"
     },
     "output_type": "display_data"
    },
    {
     "name": "stdout",
     "output_type": "stream",
     "text": [
      "torch.Size([10000, 100, 10])\n",
      "OBIPerformance(total_training_set_size=21, real_training_set_size=20, online_training_set_size=1, trial_index=1, num_samples=100, accuracy=0.5565999746322632, crossentropy=1.3762857913970947)\n",
      "Online Training Size/Num Samples/Trial: 1/100/2\n",
      "torch.Size([10010, 100, 10])\n",
      "tensor(-2.9441) tensor(-5.6520)\n"
     ]
    },
    {
     "data": {
      "image/png": "[encoded data removed]",
      "text/plain": [
       "<Figure size 432x288 with 1 Axes>"
      ]
     },
     "metadata": {
      "needs_background": "light"
     },
     "output_type": "display_data"
    },
    {
     "name": "stdout",
     "output_type": "stream",
     "text": [
      "torch.Size([10000, 100, 10])\n",
      "OBIPerformance(total_training_set_size=21, real_training_set_size=20, online_training_set_size=1, trial_index=2, num_samples=100, accuracy=0.5745999813079834, crossentropy=1.3500847816467285)\n",
      "Online Training Size/Num Samples/Trial: 1/100/3\n",
      "torch.Size([10010, 100, 10])\n",
      "tensor(-2.6725) tensor(-5.3949)\n"
     ]
    },
    {
     "data": {
      "image/png": "[encoded data removed]",
      "text/plain": [
       "<Figure size 432x288 with 1 Axes>"
      ]
     },
     "metadata": {
      "needs_background": "light"
     },
     "output_type": "display_data"
    },
    {
     "name": "stdout",
     "output_type": "stream",
     "text": [
      "torch.Size([10000, 100, 10])\n",
      "OBIPerformance(total_training_set_size=21, real_training_set_size=20, online_training_set_size=1, trial_index=3, num_samples=100, accuracy=0.5565999746322632, crossentropy=1.366755723953247)\n",
      "Online Training Size/Num Samples/Trial: 1/100/4\n",
      "torch.Size([10010, 100, 10])\n",
      "tensor(-2.8890) tensor(-5.5642)\n"
     ]
    },
    {
     "data": {
      "image/png": "[encoded data removed]",
      "text/plain": [
       "<Figure size 432x288 with 1 Axes>"
      ]
     },
     "metadata": {
      "needs_background": "light"
     },
     "output_type": "display_data"
    },
    {
     "name": "stdout",
     "output_type": "stream",
     "text": [
      "torch.Size([10000, 100, 10])\n",
      "OBIPerformance(total_training_set_size=21, real_training_set_size=20, online_training_set_size=1, trial_index=4, num_samples=100, accuracy=0.5674999952316284, crossentropy=1.3576483726501465)\n",
      "Online Training Size/Num Samples/Trial: 2/10/0\n",
      "torch.Size([10010, 10, 10])\n",
      "tensor(-7.1250) tensor(-4.5134)\n"
     ]
    },
    {
     "data": {
      "image/png": "[encoded data removed]",
      "text/plain": [
       "<Figure size 432x288 with 1 Axes>"
      ]
     },
     "metadata": {
      "needs_background": "light"
     },
     "output_type": "display_data"
    },
    {
     "name": "stdout",
     "output_type": "stream",
     "text": [
      "torch.Size([10000, 10, 10])\n",
      "OBIPerformance(total_training_set_size=22, real_training_set_size=20, online_training_set_size=2, trial_index=0, num_samples=10, accuracy=0.5209000110626221, crossentropy=1.431923747062683)\n",
      "Online Training Size/Num Samples/Trial: 2/10/1\n",
      "torch.Size([10010, 10, 10])\n",
      "tensor(-6.8333) tensor(-4.4519)\n"
     ]
    },
    {
     "data": {
      "image/png": "[encoded data removed]",
      "text/plain": [
       "<Figure size 432x288 with 1 Axes>"
      ]
     },
     "metadata": {
      "needs_background": "light"
     },
     "output_type": "display_data"
    },
    {
     "name": "stdout",
     "output_type": "stream",
     "text": [
      "torch.Size([10000, 10, 10])\n",
      "OBIPerformance(total_training_set_size=22, real_training_set_size=20, online_training_set_size=2, trial_index=1, num_samples=10, accuracy=0.5680000185966492, crossentropy=1.355170488357544)\n",
      "Online Training Size/Num Samples/Trial: 2/10/2\n",
      "torch.Size([10010, 10, 10])\n",
      "tensor(-4.6414) tensor(-3.4623)\n"
     ]
    },
    {
     "data": {
      "image/png": "[encoded data removed]",
      "text/plain": [
       "<Figure size 432x288 with 1 Axes>"
      ]
     },
     "metadata": {
      "needs_background": "light"
     },
     "output_type": "display_data"
    },
    {
     "name": "stdout",
     "output_type": "stream",
     "text": [
      "torch.Size([10000, 10, 10])\n",
      "OBIPerformance(total_training_set_size=22, real_training_set_size=20, online_training_set_size=2, trial_index=2, num_samples=10, accuracy=0.47369998693466187, crossentropy=1.7250007390975952)\n",
      "Online Training Size/Num Samples/Trial: 2/10/3\n",
      "torch.Size([10010, 10, 10])\n",
      "tensor(-4.6414) tensor(-3.4626)\n"
     ]
    },
    {
     "data": {
      "image/png": "[encoded data removed]",
      "text/plain": [
       "<Figure size 432x288 with 1 Axes>"
      ]
     },
     "metadata": {
      "needs_background": "light"
     },
     "output_type": "display_data"
    },
    {
     "name": "stdout",
     "output_type": "stream",
     "text": [
      "torch.Size([10000, 10, 10])\n",
      "OBIPerformance(total_training_set_size=22, real_training_set_size=20, online_training_set_size=2, trial_index=3, num_samples=10, accuracy=0.47189998626708984, crossentropy=1.698228120803833)\n",
      "Online Training Size/Num Samples/Trial: 2/10/4\n",
      "torch.Size([10010, 10, 10])\n",
      "tensor(-6.8333) tensor(-4.5676)\n"
     ]
    },
    {
     "data": {
      "image/png": "[encoded data removed]",
      "text/plain": [
       "<Figure size 432x288 with 1 Axes>"
      ]
     },
     "metadata": {
      "needs_background": "light"
     },
     "output_type": "display_data"
    },
    {
     "name": "stdout",
     "output_type": "stream",
     "text": [
      "torch.Size([10000, 10, 10])\n",
      "OBIPerformance(total_training_set_size=22, real_training_set_size=20, online_training_set_size=2, trial_index=4, num_samples=10, accuracy=0.5217000246047974, crossentropy=1.4466438293457031)\n",
      "Online Training Size/Num Samples/Trial: 2/100/0\n",
      "torch.Size([10010, 100, 10])\n",
      "tensor(-4.6414) tensor(-4.2016)\n"
     ]
    },
    {
     "data": {
      "image/png": "[encoded data removed]",
      "text/plain": [
       "<Figure size 432x288 with 1 Axes>"
      ]
     },
     "metadata": {
      "needs_background": "light"
     },
     "output_type": "display_data"
    },
    {
     "name": "stdout",
     "output_type": "stream",
     "text": [
      "torch.Size([10000, 100, 10])\n",
      "OBIPerformance(total_training_set_size=22, real_training_set_size=20, online_training_set_size=2, trial_index=0, num_samples=100, accuracy=0.5285000205039978, crossentropy=1.4962666034698486)\n",
      "Online Training Size/Num Samples/Trial: 2/100/1\n",
      "torch.Size([10010, 100, 10])\n",
      "tensor(-5.8447) tensor(-4.6384)\n"
     ]
    },
    {
     "data": {
      "image/png": "[encoded data removed]",
      "text/plain": [
       "<Figure size 432x288 with 1 Axes>"
      ]
     },
     "metadata": {
      "needs_background": "light"
     },
     "output_type": "display_data"
    },
    {
     "name": "stdout",
     "output_type": "stream",
     "text": [
      "torch.Size([10000, 100, 10])\n",
      "OBIPerformance(total_training_set_size=22, real_training_set_size=20, online_training_set_size=2, trial_index=1, num_samples=100, accuracy=0.5464000105857849, crossentropy=1.4155572652816772)\n",
      "Online Training Size/Num Samples/Trial: 2/100/2\n",
      "torch.Size([10010, 100, 10])\n",
      "tensor(-4.6414) tensor(-4.2244)\n"
     ]
    },
    {
     "data": {
      "image/png": "[encoded data removed]",
      "text/plain": [
       "<Figure size 432x288 with 1 Axes>"
      ]
     },
     "metadata": {
      "needs_background": "light"
     },
     "output_type": "display_data"
    },
    {
     "name": "stdout",
     "output_type": "stream",
     "text": [
      "torch.Size([10000, 100, 10])\n",
      "OBIPerformance(total_training_set_size=22, real_training_set_size=20, online_training_set_size=2, trial_index=2, num_samples=100, accuracy=0.5364000201225281, crossentropy=1.4541970491409302)\n",
      "Online Training Size/Num Samples/Trial: 2/100/3\n",
      "torch.Size([10010, 100, 10])\n",
      "tensor(-6.2287) tensor(-4.6844)\n"
     ]
    },
    {
     "data": {
      "image/png": "[encoded data removed]",
      "text/plain": [
       "<Figure size 432x288 with 1 Axes>"
      ]
     },
     "metadata": {
      "needs_background": "light"
     },
     "output_type": "display_data"
    },
    {
     "name": "stdout",
     "output_type": "stream",
     "text": [
      "torch.Size([10000, 100, 10])\n",
      "OBIPerformance(total_training_set_size=22, real_training_set_size=20, online_training_set_size=2, trial_index=3, num_samples=100, accuracy=0.59170001745224, crossentropy=1.309928297996521)\n",
      "Online Training Size/Num Samples/Trial: 2/100/4\n",
      "torch.Size([10010, 100, 10])\n",
      "tensor(-6.2287) tensor(-4.7685)\n"
     ]
    },
    {
     "data": {
      "image/png": "[encoded data removed]",
      "text/plain": [
       "<Figure size 432x288 with 1 Axes>"
      ]
     },
     "metadata": {
      "needs_background": "light"
     },
     "output_type": "display_data"
    },
    {
     "name": "stdout",
     "output_type": "stream",
     "text": [
      "torch.Size([10000, 100, 10])\n",
      "OBIPerformance(total_training_set_size=22, real_training_set_size=20, online_training_set_size=2, trial_index=4, num_samples=100, accuracy=0.5859000086784363, crossentropy=1.3602101802825928)\n",
      "Online Training Size/Num Samples/Trial: 3/10/0\n",
      "torch.Size([10010, 10, 10])\n",
      "tensor(-13.3996) tensor(-5.2085)\n"
     ]
    },
    {
     "data": {
      "image/png": "[encoded data removed]",
      "text/plain": [
       "<Figure size 432x288 with 1 Axes>"
      ]
     },
     "metadata": {
      "needs_background": "light"
     },
     "output_type": "display_data"
    },
    {
     "name": "stdout",
     "output_type": "stream",
     "text": [
      "torch.Size([10000, 10, 10])\n",
      "OBIPerformance(total_training_set_size=23, real_training_set_size=20, online_training_set_size=3, trial_index=0, num_samples=10, accuracy=0.48890000581741333, crossentropy=1.5711921453475952)\n",
      "Online Training Size/Num Samples/Trial: 3/10/1\n",
      "torch.Size([10010, 10, 10])\n",
      "tensor(-13.1385) tensor(-5.0664)\n"
     ]
    },
    {
     "data": {
      "image/png": "[encoded data removed]",
      "text/plain": [
       "<Figure size 432x288 with 1 Axes>"
      ]
     },
     "metadata": {
      "needs_background": "light"
     },
     "output_type": "display_data"
    },
    {
     "name": "stdout",
     "output_type": "stream",
     "text": [
      "torch.Size([10000, 10, 10])\n",
      "OBIPerformance(total_training_set_size=23, real_training_set_size=20, online_training_set_size=3, trial_index=1, num_samples=10, accuracy=0.535099983215332, crossentropy=1.5120761394500732)\n",
      "Online Training Size/Num Samples/Trial: 3/10/2\n",
      "torch.Size([10010, 10, 10])\n",
      "tensor(-11.6424) tensor(-4.5786)\n"
     ]
    },
    {
     "data": {
      "image/png": "[encoded data removed]",
      "text/plain": [
       "<Figure size 432x288 with 1 Axes>"
      ]
     },
     "metadata": {
      "needs_background": "light"
     },
     "output_type": "display_data"
    },
    {
     "name": "stdout",
     "output_type": "stream",
     "text": [
      "torch.Size([10000, 10, 10])\n",
      "OBIPerformance(total_training_set_size=23, real_training_set_size=20, online_training_set_size=3, trial_index=2, num_samples=10, accuracy=0.5216000080108643, crossentropy=1.4761110544204712)\n",
      "Online Training Size/Num Samples/Trial: 3/10/3\n",
      "torch.Size([10010, 10, 10])\n",
      "tensor(-9.9009) tensor(-4.0495)\n"
     ]
    },
    {
     "data": {
      "image/png": "[encoded data removed]",
      "text/plain": [
       "<Figure size 432x288 with 1 Axes>"
      ]
     },
     "metadata": {
      "needs_background": "light"
     },
     "output_type": "display_data"
    },
    {
     "name": "stdout",
     "output_type": "stream",
     "text": [
      "torch.Size([10000, 10, 10])\n",
      "OBIPerformance(total_training_set_size=23, real_training_set_size=20, online_training_set_size=3, trial_index=3, num_samples=10, accuracy=0.5318999886512756, crossentropy=1.4289307594299316)\n",
      "Online Training Size/Num Samples/Trial: 3/10/4\n",
      "torch.Size([10010, 10, 10])\n",
      "tensor(-13.8211) tensor(-5.3309)\n"
     ]
    },
    {
     "data": {
      "image/png": "[encoded data removed]",
      "text/plain": [
       "<Figure size 432x288 with 1 Axes>"
      ]
     },
     "metadata": {
      "needs_background": "light"
     },
     "output_type": "display_data"
    },
    {
     "name": "stdout",
     "output_type": "stream",
     "text": [
      "torch.Size([10000, 10, 10])\n",
      "OBIPerformance(total_training_set_size=23, real_training_set_size=20, online_training_set_size=3, trial_index=4, num_samples=10, accuracy=0.4945000112056732, crossentropy=1.483237385749817)\n",
      "Online Training Size/Num Samples/Trial: 3/100/0\n",
      "torch.Size([10010, 100, 10])\n",
      "tensor(-11.6864) tensor(-5.0547)\n"
     ]
    },
    {
     "data": {
      "image/png": "[encoded data removed]",
      "text/plain": [
       "<Figure size 432x288 with 1 Axes>"
      ]
     },
     "metadata": {
      "needs_background": "light"
     },
     "output_type": "display_data"
    },
    {
     "name": "stdout",
     "output_type": "stream",
     "text": [
      "torch.Size([10000, 100, 10])\n",
      "OBIPerformance(total_training_set_size=23, real_training_set_size=20, online_training_set_size=3, trial_index=0, num_samples=100, accuracy=0.5623000264167786, crossentropy=1.4142738580703735)\n",
      "Online Training Size/Num Samples/Trial: 3/100/1\n",
      "torch.Size([10010, 100, 10])\n",
      "tensor(-9.5508) tensor(-4.4403)\n"
     ]
    },
    {
     "data": {
      "image/png": "[encoded data removed]",
      "text/plain": [
       "<Figure size 432x288 with 1 Axes>"
      ]
     },
     "metadata": {
      "needs_background": "light"
     },
     "output_type": "display_data"
    },
    {
     "name": "stdout",
     "output_type": "stream",
     "text": [
      "torch.Size([10000, 100, 10])\n",
      "OBIPerformance(total_training_set_size=23, real_training_set_size=20, online_training_set_size=3, trial_index=1, num_samples=100, accuracy=0.5422000288963318, crossentropy=1.3815956115722656)\n",
      "Online Training Size/Num Samples/Trial: 3/100/2\n",
      "torch.Size([10010, 100, 10])\n",
      "tensor(-9.5508) tensor(-4.5878)\n"
     ]
    },
    {
     "data": {
      "image/png": "[encoded data removed]",
      "text/plain": [
       "<Figure size 432x288 with 1 Axes>"
      ]
     },
     "metadata": {
      "needs_background": "light"
     },
     "output_type": "display_data"
    },
    {
     "name": "stdout",
     "output_type": "stream",
     "text": [
      "torch.Size([10000, 100, 10])\n",
      "OBIPerformance(total_training_set_size=23, real_training_set_size=20, online_training_set_size=3, trial_index=2, num_samples=100, accuracy=0.49470001459121704, crossentropy=1.5541729927062988)\n",
      "Online Training Size/Num Samples/Trial: 3/100/3\n",
      "torch.Size([10010, 100, 10])\n",
      "tensor(-9.5508) tensor(-4.4842)\n"
     ]
    },
    {
     "data": {
      "image/png": "[encoded data removed]",
      "text/plain": [
       "<Figure size 432x288 with 1 Axes>"
      ]
     },
     "metadata": {
      "needs_background": "light"
     },
     "output_type": "display_data"
    },
    {
     "name": "stdout",
     "output_type": "stream",
     "text": [
      "torch.Size([10000, 100, 10])\n",
      "OBIPerformance(total_training_set_size=23, real_training_set_size=20, online_training_set_size=3, trial_index=3, num_samples=100, accuracy=0.5351999998092651, crossentropy=1.3899881839752197)\n",
      "Online Training Size/Num Samples/Trial: 3/100/4\n",
      "torch.Size([10010, 100, 10])\n",
      "tensor(-11.6424) tensor(-5.0463)\n"
     ]
    },
    {
     "data": {
      "image/png": "[encoded data removed]",
      "text/plain": [
       "<Figure size 432x288 with 1 Axes>"
      ]
     },
     "metadata": {
      "needs_background": "light"
     },
     "output_type": "display_data"
    },
    {
     "name": "stdout",
     "output_type": "stream",
     "text": [
      "torch.Size([10000, 100, 10])\n",
      "OBIPerformance(total_training_set_size=23, real_training_set_size=20, online_training_set_size=3, trial_index=4, num_samples=100, accuracy=0.5907999873161316, crossentropy=1.359989047050476)\n",
      "Online Training Size/Num Samples/Trial: 4/10/0\n",
      "torch.Size([10010, 10, 10])\n",
      "tensor(-13.5190) tensor(-3.7982)\n"
     ]
    },
    {
     "data": {
      "image/png": "[encoded data removed]",
      "text/plain": [
       "<Figure size 432x288 with 1 Axes>"
      ]
     },
     "metadata": {
      "needs_background": "light"
     },
     "output_type": "display_data"
    },
    {
     "name": "stdout",
     "output_type": "stream",
     "text": [
      "torch.Size([10000, 10, 10])\n",
      "OBIPerformance(total_training_set_size=24, real_training_set_size=20, online_training_set_size=4, trial_index=0, num_samples=10, accuracy=0.5406000018119812, crossentropy=1.450213074684143)\n",
      "Online Training Size/Num Samples/Trial: 4/10/1\n",
      "torch.Size([10010, 10, 10])\n",
      "tensor(-26.5494) tensor(-7.1497)\n"
     ]
    },
    {
     "data": {
      "image/png": "[encoded data removed]",
      "text/plain": [
       "<Figure size 432x288 with 1 Axes>"
      ]
     },
     "metadata": {
      "needs_background": "light"
     },
     "output_type": "display_data"
    },
    {
     "name": "stdout",
     "output_type": "stream",
     "text": [
      "torch.Size([10000, 10, 10])\n",
      "OBIPerformance(total_training_set_size=24, real_training_set_size=20, online_training_set_size=4, trial_index=1, num_samples=10, accuracy=0.5472999811172485, crossentropy=1.6037453413009644)\n",
      "Online Training Size/Num Samples/Trial: 4/10/2\n",
      "torch.Size([10010, 10, 10])\n",
      "tensor(-16.2201) tensor(-4.6200)\n"
     ]
    },
    {
     "data": {
      "image/png": "[encoded data removed]",
      "text/plain": [
       "<Figure size 432x288 with 1 Axes>"
      ]
     },
     "metadata": {
      "needs_background": "light"
     },
     "output_type": "display_data"
    },
    {
     "name": "stdout",
     "output_type": "stream",
     "text": [
      "torch.Size([10000, 10, 10])\n",
      "OBIPerformance(total_training_set_size=24, real_training_set_size=20, online_training_set_size=4, trial_index=2, num_samples=10, accuracy=0.5299000144004822, crossentropy=1.4628994464874268)\n",
      "Online Training Size/Num Samples/Trial: 4/10/3\n",
      "torch.Size([10010, 10, 10])\n",
      "tensor(-16.8467) tensor(-4.5920)\n"
     ]
    },
    {
     "data": {
      "image/png": "[encoded data removed]",
      "text/plain": [
       "<Figure size 432x288 with 1 Axes>"
      ]
     },
     "metadata": {
      "needs_background": "light"
     },
     "output_type": "display_data"
    },
    {
     "name": "stdout",
     "output_type": "stream",
     "text": [
      "torch.Size([10000, 10, 10])\n",
      "OBIPerformance(total_training_set_size=24, real_training_set_size=20, online_training_set_size=4, trial_index=3, num_samples=10, accuracy=0.5482000112533569, crossentropy=1.3900562524795532)\n",
      "Online Training Size/Num Samples/Trial: 4/10/4\n",
      "torch.Size([10010, 10, 10])\n",
      "tensor(-19.5328) tensor(-5.2932)\n"
     ]
    },
    {
     "data": {
      "image/png": "[encoded data removed]",
      "text/plain": [
       "<Figure size 432x288 with 1 Axes>"
      ]
     },
     "metadata": {
      "needs_background": "light"
     },
     "output_type": "display_data"
    },
    {
     "name": "stdout",
     "output_type": "stream",
     "text": [
      "torch.Size([10000, 10, 10])\n",
      "OBIPerformance(total_training_set_size=24, real_training_set_size=20, online_training_set_size=4, trial_index=4, num_samples=10, accuracy=0.5390999913215637, crossentropy=1.5897239446640015)\n",
      "Online Training Size/Num Samples/Trial: 4/100/0\n",
      "torch.Size([10010, 100, 10])\n",
      "tensor(-13.3519) tensor(-4.2822)\n"
     ]
    },
    {
     "data": {
      "image/png": "[encoded data removed]",
      "text/plain": [
       "<Figure size 432x288 with 1 Axes>"
      ]
     },
     "metadata": {
      "needs_background": "light"
     },
     "output_type": "display_data"
    },
    {
     "name": "stdout",
     "output_type": "stream",
     "text": [
      "torch.Size([10000, 100, 10])\n",
      "OBIPerformance(total_training_set_size=24, real_training_set_size=20, online_training_set_size=4, trial_index=0, num_samples=100, accuracy=0.5924999713897705, crossentropy=1.3244596719741821)\n",
      "Online Training Size/Num Samples/Trial: 4/100/1\n",
      "torch.Size([10010, 100, 10])\n",
      "tensor(-14.2322) tensor(-4.5165)\n"
     ]
    },
    {
     "data": {
      "image/png": "[encoded data removed]",
      "text/plain": [
       "<Figure size 432x288 with 1 Axes>"
      ]
     },
     "metadata": {
      "needs_background": "light"
     },
     "output_type": "display_data"
    },
    {
     "name": "stdout",
     "output_type": "stream",
     "text": [
      "torch.Size([10000, 100, 10])\n",
      "OBIPerformance(total_training_set_size=24, real_training_set_size=20, online_training_set_size=4, trial_index=1, num_samples=100, accuracy=0.5213000178337097, crossentropy=1.4956024885177612)\n",
      "Online Training Size/Num Samples/Trial: 4/100/2\n",
      "torch.Size([10010, 100, 10])\n",
      "tensor(-13.6180) tensor(-4.3872)\n"
     ]
    },
    {
     "data": {
      "image/png": "[encoded data removed]",
      "text/plain": [
       "<Figure size 432x288 with 1 Axes>"
      ]
     },
     "metadata": {
      "needs_background": "light"
     },
     "output_type": "display_data"
    },
    {
     "name": "stdout",
     "output_type": "stream",
     "text": [
      "torch.Size([10000, 100, 10])\n",
      "OBIPerformance(total_training_set_size=24, real_training_set_size=20, online_training_set_size=4, trial_index=2, num_samples=100, accuracy=0.5652999877929688, crossentropy=1.361990213394165)\n",
      "Online Training Size/Num Samples/Trial: 4/100/3\n",
      "torch.Size([10010, 100, 10])\n",
      "tensor(-13.3519) tensor(-4.2979)\n"
     ]
    },
    {
     "data": {
      "image/png": "[encoded data removed]",
      "text/plain": [
       "<Figure size 432x288 with 1 Axes>"
      ]
     },
     "metadata": {
      "needs_background": "light"
     },
     "output_type": "display_data"
    },
    {
     "name": "stdout",
     "output_type": "stream",
     "text": [
      "torch.Size([10000, 100, 10])\n",
      "OBIPerformance(total_training_set_size=24, real_training_set_size=20, online_training_set_size=4, trial_index=3, num_samples=100, accuracy=0.5892000198364258, crossentropy=1.3231515884399414)\n",
      "Online Training Size/Num Samples/Trial: 4/100/4\n",
      "torch.Size([10010, 100, 10])\n",
      "tensor(-13.3519) tensor(-4.3771)\n"
     ]
    },
    {
     "data": {
      "image/png": "[encoded data removed]",
      "text/plain": [
       "<Figure size 432x288 with 1 Axes>"
      ]
     },
     "metadata": {
      "needs_background": "light"
     },
     "output_type": "display_data"
    },
    {
     "name": "stdout",
     "output_type": "stream",
     "text": [
      "torch.Size([10000, 100, 10])\n",
      "OBIPerformance(total_training_set_size=24, real_training_set_size=20, online_training_set_size=4, trial_index=4, num_samples=100, accuracy=0.5616999864578247, crossentropy=1.3872970342636108)\n",
      "Online Training Size/Num Samples/Trial: 5/10/0\n",
      "torch.Size([10010, 10, 10])\n",
      "tensor(-19.8283) tensor(-4.4254)\n"
     ]
    },
    {
     "data": {
      "image/png": "[encoded data removed]",
      "text/plain": [
       "<Figure size 432x288 with 1 Axes>"
      ]
     },
     "metadata": {
      "needs_background": "light"
     },
     "output_type": "display_data"
    },
    {
     "name": "stdout",
     "output_type": "stream",
     "text": [
      "torch.Size([10000, 10, 10])\n",
      "OBIPerformance(total_training_set_size=25, real_training_set_size=20, online_training_set_size=5, trial_index=0, num_samples=10, accuracy=0.38850000500679016, crossentropy=1.8228973150253296)\n",
      "Online Training Size/Num Samples/Trial: 5/10/1\n",
      "torch.Size([10010, 10, 10])\n",
      "tensor(-23.3211) tensor(-5.1166)\n"
     ]
    },
    {
     "data": {
      "image/png": "[encoded data removed]",
      "text/plain": [
       "<Figure size 432x288 with 1 Axes>"
      ]
     },
     "metadata": {
      "needs_background": "light"
     },
     "output_type": "display_data"
    },
    {
     "name": "stdout",
     "output_type": "stream",
     "text": [
      "torch.Size([10000, 10, 10])\n",
      "OBIPerformance(total_training_set_size=25, real_training_set_size=20, online_training_set_size=5, trial_index=1, num_samples=10, accuracy=0.4708000123500824, crossentropy=1.6987605094909668)\n",
      "Online Training Size/Num Samples/Trial: 5/10/2\n",
      "torch.Size([10010, 10, 10])\n",
      "tensor(-22.9463) tensor(-4.9228)\n"
     ]
    },
    {
     "ename": "KeyboardInterrupt",
     "evalue": "",
     "output_type": "error",
     "traceback": [
      "\u001b[0;31m---------------------------------------------------------------------------\u001b[0m",
      "\u001b[0;31mKeyboardInterrupt\u001b[0m                         Traceback (most recent call last)",
      "\u001b[0;32m<ipython-input-6-4cb14e2d45d7>\u001b[0m in \u001b[0;36m<module>\u001b[0;34m\u001b[0m\n\u001b[1;32m      4\u001b[0m \u001b[0;34m\u001b[0m\u001b[0m\n\u001b[1;32m      5\u001b[0m \u001b[0mresults\u001b[0m \u001b[0;34m=\u001b[0m \u001b[0;34m{\u001b[0m\u001b[0;34m}\u001b[0m\u001b[0;34m\u001b[0m\u001b[0;34m\u001b[0m\u001b[0m\n\u001b[0;32m----> 6\u001b[0;31m \u001b[0mexperiment\u001b[0m\u001b[0;34m.\u001b[0m\u001b[0mrun\u001b[0m\u001b[0;34m(\u001b[0m\u001b[0mresults\u001b[0m\u001b[0;34m)\u001b[0m\u001b[0;34m\u001b[0m\u001b[0;34m\u001b[0m\u001b[0m\n\u001b[0m",
      "\u001b[0;32m<ipython-input-5-5648e555f477>\u001b[0m in \u001b[0;36mrun\u001b[0;34m(self, store)\u001b[0m\n\u001b[1;32m    251\u001b[0m             \u001b[0mresults\u001b[0m \u001b[0;34m=\u001b[0m \u001b[0;34m[\u001b[0m\u001b[0;34m]\u001b[0m\u001b[0;34m\u001b[0m\u001b[0;34m\u001b[0m\u001b[0m\n\u001b[1;32m    252\u001b[0m             \u001b[0;32mif\u001b[0m \u001b[0mtraining_set_size\u001b[0m \u001b[0;34m%\u001b[0m \u001b[0;36m5\u001b[0m \u001b[0;34m==\u001b[0m \u001b[0;36m0\u001b[0m\u001b[0;34m:\u001b[0m\u001b[0;34m\u001b[0m\u001b[0;34m\u001b[0m\u001b[0m\n\u001b[0;32m--> 253\u001b[0;31m                 results = evaluate_online_bayesian_inference(\n\u001b[0m\u001b[1;32m    254\u001b[0m                     \u001b[0mmodel\u001b[0m\u001b[0;34m=\u001b[0m\u001b[0mmodel_optimizer\u001b[0m\u001b[0;34m.\u001b[0m\u001b[0mmodel\u001b[0m\u001b[0;34m,\u001b[0m\u001b[0;34m\u001b[0m\u001b[0;34m\u001b[0m\u001b[0m\n\u001b[1;32m    255\u001b[0m                     \u001b[0mreal_training_set_size\u001b[0m\u001b[0;34m=\u001b[0m\u001b[0mtraining_set_size\u001b[0m\u001b[0;34m,\u001b[0m\u001b[0;34m\u001b[0m\u001b[0;34m\u001b[0m\u001b[0m\n",
      "\u001b[0;32m~/PycharmProjects/bald-ical/batchbald_redux/online_bayesian_inference.py\u001b[0m in \u001b[0;36mevaluate_online_bayesian_inference\u001b[0;34m(model, real_training_set_size, train_dataset, test_dataset, additional_training_indices, num_samples_list, num_trials, up_factor, eval_batchsize, device)\u001b[0m\n\u001b[1;32m     32\u001b[0m \u001b[0;34m\u001b[0m\u001b[0m\n\u001b[1;32m     33\u001b[0m     \u001b[0mnum_additional_training_indices\u001b[0m \u001b[0;34m=\u001b[0m \u001b[0mlen\u001b[0m\u001b[0;34m(\u001b[0m\u001b[0madditional_training_indices\u001b[0m\u001b[0;34m)\u001b[0m\u001b[0;34m\u001b[0m\u001b[0;34m\u001b[0m\u001b[0m\n\u001b[0;32m---> 34\u001b[0;31m     return eval_obi_simple(log_probs_N_M_C=log_probs_N_M_C, labels_N=labels_N,\n\u001b[0m\u001b[1;32m     35\u001b[0m                            \u001b[0mnum_additional_training_indices\u001b[0m\u001b[0;34m=\u001b[0m\u001b[0mnum_additional_training_indices\u001b[0m\u001b[0;34m,\u001b[0m\u001b[0;34m\u001b[0m\u001b[0;34m\u001b[0m\u001b[0m\n\u001b[1;32m     36\u001b[0m                            \u001b[0mnum_samples_list\u001b[0m\u001b[0;34m=\u001b[0m\u001b[0mnum_samples_list\u001b[0m\u001b[0;34m,\u001b[0m \u001b[0mnum_trials\u001b[0m\u001b[0;34m=\u001b[0m\u001b[0mnum_trials\u001b[0m\u001b[0;34m,\u001b[0m\u001b[0;34m\u001b[0m\u001b[0;34m\u001b[0m\u001b[0m\n",
      "\u001b[0;32m~/PycharmProjects/bald-ical/batchbald_redux/online_bayesian_inference.py\u001b[0m in \u001b[0;36meval_obi_simple\u001b[0;34m(log_probs_N_M_C, labels_N, num_additional_training_indices, num_samples_list, num_trials, real_training_set_size)\u001b[0m\n\u001b[1;32m     83\u001b[0m                 \u001b[0;31m#sns.kdeplot((mix_weights_m - mix_weights_m_max).numpy(), ).set_title(f\"{online_training_set_size}/{num_samples}/{trial}\")\u001b[0m\u001b[0;34m\u001b[0m\u001b[0;34m\u001b[0m\u001b[0;34m\u001b[0m\u001b[0m\n\u001b[1;32m     84\u001b[0m                 \u001b[0mplt\u001b[0m\u001b[0;34m.\u001b[0m\u001b[0mhist\u001b[0m\u001b[0;34m(\u001b[0m\u001b[0mmix_weights_m\u001b[0m\u001b[0;34m.\u001b[0m\u001b[0mnumpy\u001b[0m\u001b[0;34m(\u001b[0m\u001b[0;34m)\u001b[0m\u001b[0;34m)\u001b[0m\u001b[0;34m\u001b[0m\u001b[0;34m\u001b[0m\u001b[0m\n\u001b[0;32m---> 85\u001b[0;31m                 \u001b[0mplt\u001b[0m\u001b[0;34m.\u001b[0m\u001b[0mshow\u001b[0m\u001b[0;34m(\u001b[0m\u001b[0;34m)\u001b[0m\u001b[0;34m\u001b[0m\u001b[0;34m\u001b[0m\u001b[0m\n\u001b[0m\u001b[1;32m     86\u001b[0m \u001b[0;34m\u001b[0m\u001b[0m\n\u001b[1;32m     87\u001b[0m                 joint_log_probs_n_m_C = (mix_weights_m[None, :, None] - mix_weights_m_max\n",
      "\u001b[0;32m~/anaconda3/envs/active_learning/lib/python3.8/site-packages/matplotlib/pyplot.py\u001b[0m in \u001b[0;36mshow\u001b[0;34m(*args, **kwargs)\u001b[0m\n\u001b[1;32m    351\u001b[0m     \"\"\"\n\u001b[1;32m    352\u001b[0m     \u001b[0m_warn_if_gui_out_of_main_thread\u001b[0m\u001b[0;34m(\u001b[0m\u001b[0;34m)\u001b[0m\u001b[0;34m\u001b[0m\u001b[0;34m\u001b[0m\u001b[0m\n\u001b[0;32m--> 353\u001b[0;31m     \u001b[0;32mreturn\u001b[0m \u001b[0m_backend_mod\u001b[0m\u001b[0;34m.\u001b[0m\u001b[0mshow\u001b[0m\u001b[0;34m(\u001b[0m\u001b[0;34m*\u001b[0m\u001b[0margs\u001b[0m\u001b[0;34m,\u001b[0m \u001b[0;34m**\u001b[0m\u001b[0mkwargs\u001b[0m\u001b[0;34m)\u001b[0m\u001b[0;34m\u001b[0m\u001b[0;34m\u001b[0m\u001b[0m\n\u001b[0m\u001b[1;32m    354\u001b[0m \u001b[0;34m\u001b[0m\u001b[0m\n\u001b[1;32m    355\u001b[0m \u001b[0;34m\u001b[0m\u001b[0m\n",
      "\u001b[0;32m~/anaconda3/envs/active_learning/lib/python3.8/site-packages/matplotlib_inline/backend_inline.py\u001b[0m in \u001b[0;36mshow\u001b[0;34m(close, block)\u001b[0m\n\u001b[1;32m     39\u001b[0m     \u001b[0;32mtry\u001b[0m\u001b[0;34m:\u001b[0m\u001b[0;34m\u001b[0m\u001b[0;34m\u001b[0m\u001b[0m\n\u001b[1;32m     40\u001b[0m         \u001b[0;32mfor\u001b[0m \u001b[0mfigure_manager\u001b[0m \u001b[0;32min\u001b[0m \u001b[0mGcf\u001b[0m\u001b[0;34m.\u001b[0m\u001b[0mget_all_fig_managers\u001b[0m\u001b[0;34m(\u001b[0m\u001b[0;34m)\u001b[0m\u001b[0;34m:\u001b[0m\u001b[0;34m\u001b[0m\u001b[0;34m\u001b[0m\u001b[0m\n\u001b[0;32m---> 41\u001b[0;31m             display(\n\u001b[0m\u001b[1;32m     42\u001b[0m                 \u001b[0mfigure_manager\u001b[0m\u001b[0;34m.\u001b[0m\u001b[0mcanvas\u001b[0m\u001b[0;34m.\u001b[0m\u001b[0mfigure\u001b[0m\u001b[0;34m,\u001b[0m\u001b[0;34m\u001b[0m\u001b[0;34m\u001b[0m\u001b[0m\n\u001b[1;32m     43\u001b[0m                 \u001b[0mmetadata\u001b[0m\u001b[0;34m=\u001b[0m\u001b[0m_fetch_figure_metadata\u001b[0m\u001b[0;34m(\u001b[0m\u001b[0mfigure_manager\u001b[0m\u001b[0;34m.\u001b[0m\u001b[0mcanvas\u001b[0m\u001b[0;34m.\u001b[0m\u001b[0mfigure\u001b[0m\u001b[0;34m)\u001b[0m\u001b[0;34m\u001b[0m\u001b[0;34m\u001b[0m\u001b[0m\n",
      "\u001b[0;32m~/anaconda3/envs/active_learning/lib/python3.8/site-packages/IPython/core/display.py\u001b[0m in \u001b[0;36mdisplay\u001b[0;34m(include, exclude, metadata, transient, display_id, *objs, **kwargs)\u001b[0m\n\u001b[1;32m    311\u001b[0m             \u001b[0mpublish_display_data\u001b[0m\u001b[0;34m(\u001b[0m\u001b[0mdata\u001b[0m\u001b[0;34m=\u001b[0m\u001b[0mobj\u001b[0m\u001b[0;34m,\u001b[0m \u001b[0mmetadata\u001b[0m\u001b[0;34m=\u001b[0m\u001b[0mmetadata\u001b[0m\u001b[0;34m,\u001b[0m \u001b[0;34m**\u001b[0m\u001b[0mkwargs\u001b[0m\u001b[0;34m)\u001b[0m\u001b[0;34m\u001b[0m\u001b[0;34m\u001b[0m\u001b[0m\n\u001b[1;32m    312\u001b[0m         \u001b[0;32melse\u001b[0m\u001b[0;34m:\u001b[0m\u001b[0;34m\u001b[0m\u001b[0;34m\u001b[0m\u001b[0m\n\u001b[0;32m--> 313\u001b[0;31m             \u001b[0mformat_dict\u001b[0m\u001b[0;34m,\u001b[0m \u001b[0mmd_dict\u001b[0m \u001b[0;34m=\u001b[0m \u001b[0mformat\u001b[0m\u001b[0;34m(\u001b[0m\u001b[0mobj\u001b[0m\u001b[0;34m,\u001b[0m \u001b[0minclude\u001b[0m\u001b[0;34m=\u001b[0m\u001b[0minclude\u001b[0m\u001b[0;34m,\u001b[0m \u001b[0mexclude\u001b[0m\u001b[0;34m=\u001b[0m\u001b[0mexclude\u001b[0m\u001b[0;34m)\u001b[0m\u001b[0;34m\u001b[0m\u001b[0;34m\u001b[0m\u001b[0m\n\u001b[0m\u001b[1;32m    314\u001b[0m             \u001b[0;32mif\u001b[0m \u001b[0;32mnot\u001b[0m \u001b[0mformat_dict\u001b[0m\u001b[0;34m:\u001b[0m\u001b[0;34m\u001b[0m\u001b[0;34m\u001b[0m\u001b[0m\n\u001b[1;32m    315\u001b[0m                 \u001b[0;31m# nothing to display (e.g. _ipython_display_ took over)\u001b[0m\u001b[0;34m\u001b[0m\u001b[0;34m\u001b[0m\u001b[0;34m\u001b[0m\u001b[0m\n",
      "\u001b[0;32m~/anaconda3/envs/active_learning/lib/python3.8/site-packages/IPython/core/formatters.py\u001b[0m in \u001b[0;36mformat\u001b[0;34m(self, obj, include, exclude)\u001b[0m\n\u001b[1;32m    178\u001b[0m             \u001b[0mmd\u001b[0m \u001b[0;34m=\u001b[0m \u001b[0;32mNone\u001b[0m\u001b[0;34m\u001b[0m\u001b[0;34m\u001b[0m\u001b[0m\n\u001b[1;32m    179\u001b[0m             \u001b[0;32mtry\u001b[0m\u001b[0;34m:\u001b[0m\u001b[0;34m\u001b[0m\u001b[0;34m\u001b[0m\u001b[0m\n\u001b[0;32m--> 180\u001b[0;31m                 \u001b[0mdata\u001b[0m \u001b[0;34m=\u001b[0m \u001b[0mformatter\u001b[0m\u001b[0;34m(\u001b[0m\u001b[0mobj\u001b[0m\u001b[0;34m)\u001b[0m\u001b[0;34m\u001b[0m\u001b[0;34m\u001b[0m\u001b[0m\n\u001b[0m\u001b[1;32m    181\u001b[0m             \u001b[0;32mexcept\u001b[0m\u001b[0;34m:\u001b[0m\u001b[0;34m\u001b[0m\u001b[0;34m\u001b[0m\u001b[0m\n\u001b[1;32m    182\u001b[0m                 \u001b[0;31m# FIXME: log the exception\u001b[0m\u001b[0;34m\u001b[0m\u001b[0;34m\u001b[0m\u001b[0;34m\u001b[0m\u001b[0m\n",
      "\u001b[0;32m<decorator-gen-2>\u001b[0m in \u001b[0;36m__call__\u001b[0;34m(self, obj)\u001b[0m\n",
      "\u001b[0;32m~/anaconda3/envs/active_learning/lib/python3.8/site-packages/IPython/core/formatters.py\u001b[0m in \u001b[0;36mcatch_format_error\u001b[0;34m(method, self, *args, **kwargs)\u001b[0m\n\u001b[1;32m    222\u001b[0m     \u001b[0;34m\"\"\"show traceback on failed format call\"\"\"\u001b[0m\u001b[0;34m\u001b[0m\u001b[0;34m\u001b[0m\u001b[0m\n\u001b[1;32m    223\u001b[0m     \u001b[0;32mtry\u001b[0m\u001b[0;34m:\u001b[0m\u001b[0;34m\u001b[0m\u001b[0;34m\u001b[0m\u001b[0m\n\u001b[0;32m--> 224\u001b[0;31m         \u001b[0mr\u001b[0m \u001b[0;34m=\u001b[0m \u001b[0mmethod\u001b[0m\u001b[0;34m(\u001b[0m\u001b[0mself\u001b[0m\u001b[0;34m,\u001b[0m \u001b[0;34m*\u001b[0m\u001b[0margs\u001b[0m\u001b[0;34m,\u001b[0m \u001b[0;34m**\u001b[0m\u001b[0mkwargs\u001b[0m\u001b[0;34m)\u001b[0m\u001b[0;34m\u001b[0m\u001b[0;34m\u001b[0m\u001b[0m\n\u001b[0m\u001b[1;32m    225\u001b[0m     \u001b[0;32mexcept\u001b[0m \u001b[0mNotImplementedError\u001b[0m\u001b[0;34m:\u001b[0m\u001b[0;34m\u001b[0m\u001b[0;34m\u001b[0m\u001b[0m\n\u001b[1;32m    226\u001b[0m         \u001b[0;31m# don't warn on NotImplementedErrors\u001b[0m\u001b[0;34m\u001b[0m\u001b[0;34m\u001b[0m\u001b[0;34m\u001b[0m\u001b[0m\n",
      "\u001b[0;32m~/anaconda3/envs/active_learning/lib/python3.8/site-packages/IPython/core/formatters.py\u001b[0m in \u001b[0;36m__call__\u001b[0;34m(self, obj)\u001b[0m\n\u001b[1;32m    339\u001b[0m                 \u001b[0;32mpass\u001b[0m\u001b[0;34m\u001b[0m\u001b[0;34m\u001b[0m\u001b[0m\n\u001b[1;32m    340\u001b[0m             \u001b[0;32melse\u001b[0m\u001b[0;34m:\u001b[0m\u001b[0;34m\u001b[0m\u001b[0;34m\u001b[0m\u001b[0m\n\u001b[0;32m--> 341\u001b[0;31m                 \u001b[0;32mreturn\u001b[0m \u001b[0mprinter\u001b[0m\u001b[0;34m(\u001b[0m\u001b[0mobj\u001b[0m\u001b[0;34m)\u001b[0m\u001b[0;34m\u001b[0m\u001b[0;34m\u001b[0m\u001b[0m\n\u001b[0m\u001b[1;32m    342\u001b[0m             \u001b[0;31m# Finally look for special method names\u001b[0m\u001b[0;34m\u001b[0m\u001b[0;34m\u001b[0m\u001b[0;34m\u001b[0m\u001b[0m\n\u001b[1;32m    343\u001b[0m             \u001b[0mmethod\u001b[0m \u001b[0;34m=\u001b[0m \u001b[0mget_real_method\u001b[0m\u001b[0;34m(\u001b[0m\u001b[0mobj\u001b[0m\u001b[0;34m,\u001b[0m \u001b[0mself\u001b[0m\u001b[0;34m.\u001b[0m\u001b[0mprint_method\u001b[0m\u001b[0;34m)\u001b[0m\u001b[0;34m\u001b[0m\u001b[0;34m\u001b[0m\u001b[0m\n",
      "\u001b[0;32m~/anaconda3/envs/active_learning/lib/python3.8/site-packages/IPython/core/pylabtools.py\u001b[0m in \u001b[0;36m<lambda>\u001b[0;34m(fig)\u001b[0m\n\u001b[1;32m    246\u001b[0m \u001b[0;34m\u001b[0m\u001b[0m\n\u001b[1;32m    247\u001b[0m     \u001b[0;32mif\u001b[0m \u001b[0;34m'png'\u001b[0m \u001b[0;32min\u001b[0m \u001b[0mformats\u001b[0m\u001b[0;34m:\u001b[0m\u001b[0;34m\u001b[0m\u001b[0;34m\u001b[0m\u001b[0m\n\u001b[0;32m--> 248\u001b[0;31m         \u001b[0mpng_formatter\u001b[0m\u001b[0;34m.\u001b[0m\u001b[0mfor_type\u001b[0m\u001b[0;34m(\u001b[0m\u001b[0mFigure\u001b[0m\u001b[0;34m,\u001b[0m \u001b[0;32mlambda\u001b[0m \u001b[0mfig\u001b[0m\u001b[0;34m:\u001b[0m \u001b[0mprint_figure\u001b[0m\u001b[0;34m(\u001b[0m\u001b[0mfig\u001b[0m\u001b[0;34m,\u001b[0m \u001b[0;34m'png'\u001b[0m\u001b[0;34m,\u001b[0m \u001b[0;34m**\u001b[0m\u001b[0mkwargs\u001b[0m\u001b[0;34m)\u001b[0m\u001b[0;34m)\u001b[0m\u001b[0;34m\u001b[0m\u001b[0;34m\u001b[0m\u001b[0m\n\u001b[0m\u001b[1;32m    249\u001b[0m     \u001b[0;32mif\u001b[0m \u001b[0;34m'retina'\u001b[0m \u001b[0;32min\u001b[0m \u001b[0mformats\u001b[0m \u001b[0;32mor\u001b[0m \u001b[0;34m'png2x'\u001b[0m \u001b[0;32min\u001b[0m \u001b[0mformats\u001b[0m\u001b[0;34m:\u001b[0m\u001b[0;34m\u001b[0m\u001b[0;34m\u001b[0m\u001b[0m\n\u001b[1;32m    250\u001b[0m         \u001b[0mpng_formatter\u001b[0m\u001b[0;34m.\u001b[0m\u001b[0mfor_type\u001b[0m\u001b[0;34m(\u001b[0m\u001b[0mFigure\u001b[0m\u001b[0;34m,\u001b[0m \u001b[0;32mlambda\u001b[0m \u001b[0mfig\u001b[0m\u001b[0;34m:\u001b[0m \u001b[0mretina_figure\u001b[0m\u001b[0;34m(\u001b[0m\u001b[0mfig\u001b[0m\u001b[0;34m,\u001b[0m \u001b[0;34m**\u001b[0m\u001b[0mkwargs\u001b[0m\u001b[0;34m)\u001b[0m\u001b[0;34m)\u001b[0m\u001b[0;34m\u001b[0m\u001b[0;34m\u001b[0m\u001b[0m\n",
      "\u001b[0;32m~/anaconda3/envs/active_learning/lib/python3.8/site-packages/IPython/core/pylabtools.py\u001b[0m in \u001b[0;36mprint_figure\u001b[0;34m(fig, fmt, bbox_inches, **kwargs)\u001b[0m\n\u001b[1;32m    130\u001b[0m         \u001b[0mFigureCanvasBase\u001b[0m\u001b[0;34m(\u001b[0m\u001b[0mfig\u001b[0m\u001b[0;34m)\u001b[0m\u001b[0;34m\u001b[0m\u001b[0;34m\u001b[0m\u001b[0m\n\u001b[1;32m    131\u001b[0m \u001b[0;34m\u001b[0m\u001b[0m\n\u001b[0;32m--> 132\u001b[0;31m     \u001b[0mfig\u001b[0m\u001b[0;34m.\u001b[0m\u001b[0mcanvas\u001b[0m\u001b[0;34m.\u001b[0m\u001b[0mprint_figure\u001b[0m\u001b[0;34m(\u001b[0m\u001b[0mbytes_io\u001b[0m\u001b[0;34m,\u001b[0m \u001b[0;34m**\u001b[0m\u001b[0mkw\u001b[0m\u001b[0;34m)\u001b[0m\u001b[0;34m\u001b[0m\u001b[0;34m\u001b[0m\u001b[0m\n\u001b[0m\u001b[1;32m    133\u001b[0m     \u001b[0mdata\u001b[0m \u001b[0;34m=\u001b[0m \u001b[0mbytes_io\u001b[0m\u001b[0;34m.\u001b[0m\u001b[0mgetvalue\u001b[0m\u001b[0;34m(\u001b[0m\u001b[0;34m)\u001b[0m\u001b[0;34m\u001b[0m\u001b[0;34m\u001b[0m\u001b[0m\n\u001b[1;32m    134\u001b[0m     \u001b[0;32mif\u001b[0m \u001b[0mfmt\u001b[0m \u001b[0;34m==\u001b[0m \u001b[0;34m'svg'\u001b[0m\u001b[0;34m:\u001b[0m\u001b[0;34m\u001b[0m\u001b[0;34m\u001b[0m\u001b[0m\n",
      "\u001b[0;32m~/anaconda3/envs/active_learning/lib/python3.8/site-packages/matplotlib/backend_bases.py\u001b[0m in \u001b[0;36mprint_figure\u001b[0;34m(self, filename, dpi, facecolor, edgecolor, orientation, format, bbox_inches, pad_inches, bbox_extra_artists, backend, **kwargs)\u001b[0m\n\u001b[1;32m   2191\u001b[0m                            else suppress())\n\u001b[1;32m   2192\u001b[0m                     \u001b[0;32mwith\u001b[0m \u001b[0mctx\u001b[0m\u001b[0;34m:\u001b[0m\u001b[0;34m\u001b[0m\u001b[0;34m\u001b[0m\u001b[0m\n\u001b[0;32m-> 2193\u001b[0;31m                         \u001b[0mself\u001b[0m\u001b[0;34m.\u001b[0m\u001b[0mfigure\u001b[0m\u001b[0;34m.\u001b[0m\u001b[0mdraw\u001b[0m\u001b[0;34m(\u001b[0m\u001b[0mrenderer\u001b[0m\u001b[0;34m)\u001b[0m\u001b[0;34m\u001b[0m\u001b[0;34m\u001b[0m\u001b[0m\n\u001b[0m\u001b[1;32m   2194\u001b[0m \u001b[0;34m\u001b[0m\u001b[0m\n\u001b[1;32m   2195\u001b[0m                     bbox_inches = self.figure.get_tightbbox(\n",
      "\u001b[0;32m~/anaconda3/envs/active_learning/lib/python3.8/site-packages/matplotlib/artist.py\u001b[0m in \u001b[0;36mdraw_wrapper\u001b[0;34m(artist, renderer, *args, **kwargs)\u001b[0m\n\u001b[1;32m     39\u001b[0m                 \u001b[0mrenderer\u001b[0m\u001b[0;34m.\u001b[0m\u001b[0mstart_filter\u001b[0m\u001b[0;34m(\u001b[0m\u001b[0;34m)\u001b[0m\u001b[0;34m\u001b[0m\u001b[0;34m\u001b[0m\u001b[0m\n\u001b[1;32m     40\u001b[0m \u001b[0;34m\u001b[0m\u001b[0m\n\u001b[0;32m---> 41\u001b[0;31m             \u001b[0;32mreturn\u001b[0m \u001b[0mdraw\u001b[0m\u001b[0;34m(\u001b[0m\u001b[0martist\u001b[0m\u001b[0;34m,\u001b[0m \u001b[0mrenderer\u001b[0m\u001b[0;34m,\u001b[0m \u001b[0;34m*\u001b[0m\u001b[0margs\u001b[0m\u001b[0;34m,\u001b[0m \u001b[0;34m**\u001b[0m\u001b[0mkwargs\u001b[0m\u001b[0;34m)\u001b[0m\u001b[0;34m\u001b[0m\u001b[0;34m\u001b[0m\u001b[0m\n\u001b[0m\u001b[1;32m     42\u001b[0m         \u001b[0;32mfinally\u001b[0m\u001b[0;34m:\u001b[0m\u001b[0;34m\u001b[0m\u001b[0;34m\u001b[0m\u001b[0m\n\u001b[1;32m     43\u001b[0m             \u001b[0;32mif\u001b[0m \u001b[0martist\u001b[0m\u001b[0;34m.\u001b[0m\u001b[0mget_agg_filter\u001b[0m\u001b[0;34m(\u001b[0m\u001b[0;34m)\u001b[0m \u001b[0;32mis\u001b[0m \u001b[0;32mnot\u001b[0m \u001b[0;32mNone\u001b[0m\u001b[0;34m:\u001b[0m\u001b[0;34m\u001b[0m\u001b[0;34m\u001b[0m\u001b[0m\n",
      "\u001b[0;32m~/anaconda3/envs/active_learning/lib/python3.8/site-packages/matplotlib/figure.py\u001b[0m in \u001b[0;36mdraw\u001b[0;34m(self, renderer)\u001b[0m\n\u001b[1;32m   1861\u001b[0m \u001b[0;34m\u001b[0m\u001b[0m\n\u001b[1;32m   1862\u001b[0m             \u001b[0mself\u001b[0m\u001b[0;34m.\u001b[0m\u001b[0mpatch\u001b[0m\u001b[0;34m.\u001b[0m\u001b[0mdraw\u001b[0m\u001b[0;34m(\u001b[0m\u001b[0mrenderer\u001b[0m\u001b[0;34m)\u001b[0m\u001b[0;34m\u001b[0m\u001b[0;34m\u001b[0m\u001b[0m\n\u001b[0;32m-> 1863\u001b[0;31m             mimage._draw_list_compositing_images(\n\u001b[0m\u001b[1;32m   1864\u001b[0m                 renderer, self, artists, self.suppressComposite)\n\u001b[1;32m   1865\u001b[0m \u001b[0;34m\u001b[0m\u001b[0m\n",
      "\u001b[0;32m~/anaconda3/envs/active_learning/lib/python3.8/site-packages/matplotlib/image.py\u001b[0m in \u001b[0;36m_draw_list_compositing_images\u001b[0;34m(renderer, parent, artists, suppress_composite)\u001b[0m\n\u001b[1;32m    129\u001b[0m     \u001b[0;32mif\u001b[0m \u001b[0mnot_composite\u001b[0m \u001b[0;32mor\u001b[0m \u001b[0;32mnot\u001b[0m \u001b[0mhas_images\u001b[0m\u001b[0;34m:\u001b[0m\u001b[0;34m\u001b[0m\u001b[0;34m\u001b[0m\u001b[0m\n\u001b[1;32m    130\u001b[0m         \u001b[0;32mfor\u001b[0m \u001b[0ma\u001b[0m \u001b[0;32min\u001b[0m \u001b[0martists\u001b[0m\u001b[0;34m:\u001b[0m\u001b[0;34m\u001b[0m\u001b[0;34m\u001b[0m\u001b[0m\n\u001b[0;32m--> 131\u001b[0;31m             \u001b[0ma\u001b[0m\u001b[0;34m.\u001b[0m\u001b[0mdraw\u001b[0m\u001b[0;34m(\u001b[0m\u001b[0mrenderer\u001b[0m\u001b[0;34m)\u001b[0m\u001b[0;34m\u001b[0m\u001b[0;34m\u001b[0m\u001b[0m\n\u001b[0m\u001b[1;32m    132\u001b[0m     \u001b[0;32melse\u001b[0m\u001b[0;34m:\u001b[0m\u001b[0;34m\u001b[0m\u001b[0;34m\u001b[0m\u001b[0m\n\u001b[1;32m    133\u001b[0m         \u001b[0;31m# Composite any adjacent images together\u001b[0m\u001b[0;34m\u001b[0m\u001b[0;34m\u001b[0m\u001b[0;34m\u001b[0m\u001b[0m\n",
      "\u001b[0;32m~/anaconda3/envs/active_learning/lib/python3.8/site-packages/matplotlib/artist.py\u001b[0m in \u001b[0;36mdraw_wrapper\u001b[0;34m(artist, renderer, *args, **kwargs)\u001b[0m\n\u001b[1;32m     39\u001b[0m                 \u001b[0mrenderer\u001b[0m\u001b[0;34m.\u001b[0m\u001b[0mstart_filter\u001b[0m\u001b[0;34m(\u001b[0m\u001b[0;34m)\u001b[0m\u001b[0;34m\u001b[0m\u001b[0;34m\u001b[0m\u001b[0m\n\u001b[1;32m     40\u001b[0m \u001b[0;34m\u001b[0m\u001b[0m\n\u001b[0;32m---> 41\u001b[0;31m             \u001b[0;32mreturn\u001b[0m \u001b[0mdraw\u001b[0m\u001b[0;34m(\u001b[0m\u001b[0martist\u001b[0m\u001b[0;34m,\u001b[0m \u001b[0mrenderer\u001b[0m\u001b[0;34m,\u001b[0m \u001b[0;34m*\u001b[0m\u001b[0margs\u001b[0m\u001b[0;34m,\u001b[0m \u001b[0;34m**\u001b[0m\u001b[0mkwargs\u001b[0m\u001b[0;34m)\u001b[0m\u001b[0;34m\u001b[0m\u001b[0;34m\u001b[0m\u001b[0m\n\u001b[0m\u001b[1;32m     42\u001b[0m         \u001b[0;32mfinally\u001b[0m\u001b[0;34m:\u001b[0m\u001b[0;34m\u001b[0m\u001b[0;34m\u001b[0m\u001b[0m\n\u001b[1;32m     43\u001b[0m             \u001b[0;32mif\u001b[0m \u001b[0martist\u001b[0m\u001b[0;34m.\u001b[0m\u001b[0mget_agg_filter\u001b[0m\u001b[0;34m(\u001b[0m\u001b[0;34m)\u001b[0m \u001b[0;32mis\u001b[0m \u001b[0;32mnot\u001b[0m \u001b[0;32mNone\u001b[0m\u001b[0;34m:\u001b[0m\u001b[0;34m\u001b[0m\u001b[0;34m\u001b[0m\u001b[0m\n",
      "\u001b[0;32m~/anaconda3/envs/active_learning/lib/python3.8/site-packages/matplotlib/cbook/deprecation.py\u001b[0m in \u001b[0;36mwrapper\u001b[0;34m(*inner_args, **inner_kwargs)\u001b[0m\n\u001b[1;32m    409\u001b[0m                          \u001b[0;32melse\u001b[0m \u001b[0mdeprecation_addendum\u001b[0m\u001b[0;34m,\u001b[0m\u001b[0;34m\u001b[0m\u001b[0;34m\u001b[0m\u001b[0m\n\u001b[1;32m    410\u001b[0m                 **kwargs)\n\u001b[0;32m--> 411\u001b[0;31m         \u001b[0;32mreturn\u001b[0m \u001b[0mfunc\u001b[0m\u001b[0;34m(\u001b[0m\u001b[0;34m*\u001b[0m\u001b[0minner_args\u001b[0m\u001b[0;34m,\u001b[0m \u001b[0;34m**\u001b[0m\u001b[0minner_kwargs\u001b[0m\u001b[0;34m)\u001b[0m\u001b[0;34m\u001b[0m\u001b[0;34m\u001b[0m\u001b[0m\n\u001b[0m\u001b[1;32m    412\u001b[0m \u001b[0;34m\u001b[0m\u001b[0m\n\u001b[1;32m    413\u001b[0m     \u001b[0;32mreturn\u001b[0m \u001b[0mwrapper\u001b[0m\u001b[0;34m\u001b[0m\u001b[0;34m\u001b[0m\u001b[0m\n",
      "\u001b[0;32m~/anaconda3/envs/active_learning/lib/python3.8/site-packages/matplotlib/axes/_base.py\u001b[0m in \u001b[0;36mdraw\u001b[0;34m(self, renderer, inframe)\u001b[0m\n\u001b[1;32m   2745\u001b[0m             \u001b[0mrenderer\u001b[0m\u001b[0;34m.\u001b[0m\u001b[0mstop_rasterizing\u001b[0m\u001b[0;34m(\u001b[0m\u001b[0;34m)\u001b[0m\u001b[0;34m\u001b[0m\u001b[0;34m\u001b[0m\u001b[0m\n\u001b[1;32m   2746\u001b[0m \u001b[0;34m\u001b[0m\u001b[0m\n\u001b[0;32m-> 2747\u001b[0;31m         \u001b[0mmimage\u001b[0m\u001b[0;34m.\u001b[0m\u001b[0m_draw_list_compositing_images\u001b[0m\u001b[0;34m(\u001b[0m\u001b[0mrenderer\u001b[0m\u001b[0;34m,\u001b[0m \u001b[0mself\u001b[0m\u001b[0;34m,\u001b[0m \u001b[0martists\u001b[0m\u001b[0;34m)\u001b[0m\u001b[0;34m\u001b[0m\u001b[0;34m\u001b[0m\u001b[0m\n\u001b[0m\u001b[1;32m   2748\u001b[0m \u001b[0;34m\u001b[0m\u001b[0m\n\u001b[1;32m   2749\u001b[0m         \u001b[0mrenderer\u001b[0m\u001b[0;34m.\u001b[0m\u001b[0mclose_group\u001b[0m\u001b[0;34m(\u001b[0m\u001b[0;34m'axes'\u001b[0m\u001b[0;34m)\u001b[0m\u001b[0;34m\u001b[0m\u001b[0;34m\u001b[0m\u001b[0m\n",
      "\u001b[0;32m~/anaconda3/envs/active_learning/lib/python3.8/site-packages/matplotlib/image.py\u001b[0m in \u001b[0;36m_draw_list_compositing_images\u001b[0;34m(renderer, parent, artists, suppress_composite)\u001b[0m\n\u001b[1;32m    129\u001b[0m     \u001b[0;32mif\u001b[0m \u001b[0mnot_composite\u001b[0m \u001b[0;32mor\u001b[0m \u001b[0;32mnot\u001b[0m \u001b[0mhas_images\u001b[0m\u001b[0;34m:\u001b[0m\u001b[0;34m\u001b[0m\u001b[0;34m\u001b[0m\u001b[0m\n\u001b[1;32m    130\u001b[0m         \u001b[0;32mfor\u001b[0m \u001b[0ma\u001b[0m \u001b[0;32min\u001b[0m \u001b[0martists\u001b[0m\u001b[0;34m:\u001b[0m\u001b[0;34m\u001b[0m\u001b[0;34m\u001b[0m\u001b[0m\n\u001b[0;32m--> 131\u001b[0;31m             \u001b[0ma\u001b[0m\u001b[0;34m.\u001b[0m\u001b[0mdraw\u001b[0m\u001b[0;34m(\u001b[0m\u001b[0mrenderer\u001b[0m\u001b[0;34m)\u001b[0m\u001b[0;34m\u001b[0m\u001b[0;34m\u001b[0m\u001b[0m\n\u001b[0m\u001b[1;32m    132\u001b[0m     \u001b[0;32melse\u001b[0m\u001b[0;34m:\u001b[0m\u001b[0;34m\u001b[0m\u001b[0;34m\u001b[0m\u001b[0m\n\u001b[1;32m    133\u001b[0m         \u001b[0;31m# Composite any adjacent images together\u001b[0m\u001b[0;34m\u001b[0m\u001b[0;34m\u001b[0m\u001b[0;34m\u001b[0m\u001b[0m\n",
      "\u001b[0;32m~/anaconda3/envs/active_learning/lib/python3.8/site-packages/matplotlib/artist.py\u001b[0m in \u001b[0;36mdraw_wrapper\u001b[0;34m(artist, renderer, *args, **kwargs)\u001b[0m\n\u001b[1;32m     39\u001b[0m                 \u001b[0mrenderer\u001b[0m\u001b[0;34m.\u001b[0m\u001b[0mstart_filter\u001b[0m\u001b[0;34m(\u001b[0m\u001b[0;34m)\u001b[0m\u001b[0;34m\u001b[0m\u001b[0;34m\u001b[0m\u001b[0m\n\u001b[1;32m     40\u001b[0m \u001b[0;34m\u001b[0m\u001b[0m\n\u001b[0;32m---> 41\u001b[0;31m             \u001b[0;32mreturn\u001b[0m \u001b[0mdraw\u001b[0m\u001b[0;34m(\u001b[0m\u001b[0martist\u001b[0m\u001b[0;34m,\u001b[0m \u001b[0mrenderer\u001b[0m\u001b[0;34m,\u001b[0m \u001b[0;34m*\u001b[0m\u001b[0margs\u001b[0m\u001b[0;34m,\u001b[0m \u001b[0;34m**\u001b[0m\u001b[0mkwargs\u001b[0m\u001b[0;34m)\u001b[0m\u001b[0;34m\u001b[0m\u001b[0;34m\u001b[0m\u001b[0m\n\u001b[0m\u001b[1;32m     42\u001b[0m         \u001b[0;32mfinally\u001b[0m\u001b[0;34m:\u001b[0m\u001b[0;34m\u001b[0m\u001b[0;34m\u001b[0m\u001b[0m\n\u001b[1;32m     43\u001b[0m             \u001b[0;32mif\u001b[0m \u001b[0martist\u001b[0m\u001b[0;34m.\u001b[0m\u001b[0mget_agg_filter\u001b[0m\u001b[0;34m(\u001b[0m\u001b[0;34m)\u001b[0m \u001b[0;32mis\u001b[0m \u001b[0;32mnot\u001b[0m \u001b[0;32mNone\u001b[0m\u001b[0;34m:\u001b[0m\u001b[0;34m\u001b[0m\u001b[0;34m\u001b[0m\u001b[0m\n",
      "\u001b[0;32m~/anaconda3/envs/active_learning/lib/python3.8/site-packages/matplotlib/axis.py\u001b[0m in \u001b[0;36mdraw\u001b[0;34m(self, renderer, *args, **kwargs)\u001b[0m\n\u001b[1;32m   1163\u001b[0m \u001b[0;34m\u001b[0m\u001b[0m\n\u001b[1;32m   1164\u001b[0m         \u001b[0mticks_to_draw\u001b[0m \u001b[0;34m=\u001b[0m \u001b[0mself\u001b[0m\u001b[0;34m.\u001b[0m\u001b[0m_update_ticks\u001b[0m\u001b[0;34m(\u001b[0m\u001b[0;34m)\u001b[0m\u001b[0;34m\u001b[0m\u001b[0;34m\u001b[0m\u001b[0m\n\u001b[0;32m-> 1165\u001b[0;31m         ticklabelBoxes, ticklabelBoxes2 = self._get_tick_bboxes(ticks_to_draw,\n\u001b[0m\u001b[1;32m   1166\u001b[0m                                                                 renderer)\n\u001b[1;32m   1167\u001b[0m \u001b[0;34m\u001b[0m\u001b[0m\n",
      "\u001b[0;32m~/anaconda3/envs/active_learning/lib/python3.8/site-packages/matplotlib/axis.py\u001b[0m in \u001b[0;36m_get_tick_bboxes\u001b[0;34m(self, ticks, renderer)\u001b[0m\n\u001b[1;32m   1089\u001b[0m     \u001b[0;32mdef\u001b[0m \u001b[0m_get_tick_bboxes\u001b[0m\u001b[0;34m(\u001b[0m\u001b[0mself\u001b[0m\u001b[0;34m,\u001b[0m \u001b[0mticks\u001b[0m\u001b[0;34m,\u001b[0m \u001b[0mrenderer\u001b[0m\u001b[0;34m)\u001b[0m\u001b[0;34m:\u001b[0m\u001b[0;34m\u001b[0m\u001b[0;34m\u001b[0m\u001b[0m\n\u001b[1;32m   1090\u001b[0m         \u001b[0;34m\"\"\"Return lists of bboxes for ticks' label1's and label2's.\"\"\"\u001b[0m\u001b[0;34m\u001b[0m\u001b[0;34m\u001b[0m\u001b[0m\n\u001b[0;32m-> 1091\u001b[0;31m         return ([tick.label1.get_window_extent(renderer)\n\u001b[0m\u001b[1;32m   1092\u001b[0m                  for tick in ticks if tick.label1.get_visible()],\n\u001b[1;32m   1093\u001b[0m                 [tick.label2.get_window_extent(renderer)\n",
      "\u001b[0;32m~/anaconda3/envs/active_learning/lib/python3.8/site-packages/matplotlib/axis.py\u001b[0m in \u001b[0;36m<listcomp>\u001b[0;34m(.0)\u001b[0m\n\u001b[1;32m   1089\u001b[0m     \u001b[0;32mdef\u001b[0m \u001b[0m_get_tick_bboxes\u001b[0m\u001b[0;34m(\u001b[0m\u001b[0mself\u001b[0m\u001b[0;34m,\u001b[0m \u001b[0mticks\u001b[0m\u001b[0;34m,\u001b[0m \u001b[0mrenderer\u001b[0m\u001b[0;34m)\u001b[0m\u001b[0;34m:\u001b[0m\u001b[0;34m\u001b[0m\u001b[0;34m\u001b[0m\u001b[0m\n\u001b[1;32m   1090\u001b[0m         \u001b[0;34m\"\"\"Return lists of bboxes for ticks' label1's and label2's.\"\"\"\u001b[0m\u001b[0;34m\u001b[0m\u001b[0;34m\u001b[0m\u001b[0m\n\u001b[0;32m-> 1091\u001b[0;31m         return ([tick.label1.get_window_extent(renderer)\n\u001b[0m\u001b[1;32m   1092\u001b[0m                  for tick in ticks if tick.label1.get_visible()],\n\u001b[1;32m   1093\u001b[0m                 [tick.label2.get_window_extent(renderer)\n",
      "\u001b[0;32m~/anaconda3/envs/active_learning/lib/python3.8/site-packages/matplotlib/text.py\u001b[0m in \u001b[0;36mget_window_extent\u001b[0;34m(self, renderer, dpi)\u001b[0m\n\u001b[1;32m    900\u001b[0m \u001b[0;34m\u001b[0m\u001b[0m\n\u001b[1;32m    901\u001b[0m         \u001b[0;32mwith\u001b[0m \u001b[0mcbook\u001b[0m\u001b[0;34m.\u001b[0m\u001b[0m_setattr_cm\u001b[0m\u001b[0;34m(\u001b[0m\u001b[0mself\u001b[0m\u001b[0;34m.\u001b[0m\u001b[0mfigure\u001b[0m\u001b[0;34m,\u001b[0m \u001b[0mdpi\u001b[0m\u001b[0;34m=\u001b[0m\u001b[0mdpi\u001b[0m\u001b[0;34m)\u001b[0m\u001b[0;34m:\u001b[0m\u001b[0;34m\u001b[0m\u001b[0;34m\u001b[0m\u001b[0m\n\u001b[0;32m--> 902\u001b[0;31m             \u001b[0mbbox\u001b[0m\u001b[0;34m,\u001b[0m \u001b[0minfo\u001b[0m\u001b[0;34m,\u001b[0m \u001b[0mdescent\u001b[0m \u001b[0;34m=\u001b[0m \u001b[0mself\u001b[0m\u001b[0;34m.\u001b[0m\u001b[0m_get_layout\u001b[0m\u001b[0;34m(\u001b[0m\u001b[0mself\u001b[0m\u001b[0;34m.\u001b[0m\u001b[0m_renderer\u001b[0m\u001b[0;34m)\u001b[0m\u001b[0;34m\u001b[0m\u001b[0;34m\u001b[0m\u001b[0m\n\u001b[0m\u001b[1;32m    903\u001b[0m             \u001b[0mx\u001b[0m\u001b[0;34m,\u001b[0m \u001b[0my\u001b[0m \u001b[0;34m=\u001b[0m \u001b[0mself\u001b[0m\u001b[0;34m.\u001b[0m\u001b[0mget_unitless_position\u001b[0m\u001b[0;34m(\u001b[0m\u001b[0;34m)\u001b[0m\u001b[0;34m\u001b[0m\u001b[0;34m\u001b[0m\u001b[0m\n\u001b[1;32m    904\u001b[0m             \u001b[0mx\u001b[0m\u001b[0;34m,\u001b[0m \u001b[0my\u001b[0m \u001b[0;34m=\u001b[0m \u001b[0mself\u001b[0m\u001b[0;34m.\u001b[0m\u001b[0mget_transform\u001b[0m\u001b[0;34m(\u001b[0m\u001b[0;34m)\u001b[0m\u001b[0;34m.\u001b[0m\u001b[0mtransform\u001b[0m\u001b[0;34m(\u001b[0m\u001b[0;34m(\u001b[0m\u001b[0mx\u001b[0m\u001b[0;34m,\u001b[0m \u001b[0my\u001b[0m\u001b[0;34m)\u001b[0m\u001b[0;34m)\u001b[0m\u001b[0;34m\u001b[0m\u001b[0;34m\u001b[0m\u001b[0m\n",
      "\u001b[0;32m~/anaconda3/envs/active_learning/lib/python3.8/site-packages/matplotlib/text.py\u001b[0m in \u001b[0;36m_get_layout\u001b[0;34m(self, renderer)\u001b[0m\n\u001b[1;32m    334\u001b[0m \u001b[0;34m\u001b[0m\u001b[0m\n\u001b[1;32m    335\u001b[0m         \u001b[0;31m# get the rotation matrix\u001b[0m\u001b[0;34m\u001b[0m\u001b[0;34m\u001b[0m\u001b[0;34m\u001b[0m\u001b[0m\n\u001b[0;32m--> 336\u001b[0;31m         \u001b[0mM\u001b[0m \u001b[0;34m=\u001b[0m \u001b[0mAffine2D\u001b[0m\u001b[0;34m(\u001b[0m\u001b[0;34m)\u001b[0m\u001b[0;34m.\u001b[0m\u001b[0mrotate_deg\u001b[0m\u001b[0;34m(\u001b[0m\u001b[0mself\u001b[0m\u001b[0;34m.\u001b[0m\u001b[0mget_rotation\u001b[0m\u001b[0;34m(\u001b[0m\u001b[0;34m)\u001b[0m\u001b[0;34m)\u001b[0m\u001b[0;34m\u001b[0m\u001b[0;34m\u001b[0m\u001b[0m\n\u001b[0m\u001b[1;32m    337\u001b[0m \u001b[0;34m\u001b[0m\u001b[0m\n\u001b[1;32m    338\u001b[0m         \u001b[0;31m# now offset the individual text lines within the box\u001b[0m\u001b[0;34m\u001b[0m\u001b[0;34m\u001b[0m\u001b[0;34m\u001b[0m\u001b[0m\n",
      "\u001b[0;32m~/anaconda3/envs/active_learning/lib/python3.8/site-packages/matplotlib/transforms.py\u001b[0m in \u001b[0;36mrotate_deg\u001b[0;34m(self, degrees)\u001b[0m\n\u001b[1;32m   1943\u001b[0m         \u001b[0;32mand\u001b[0m \u001b[0;34m:\u001b[0m\u001b[0mmeth\u001b[0m\u001b[0;34m:\u001b[0m\u001b[0;31m`\u001b[0m\u001b[0mscale\u001b[0m\u001b[0;31m`\u001b[0m\u001b[0;34m.\u001b[0m\u001b[0;34m\u001b[0m\u001b[0;34m\u001b[0m\u001b[0m\n\u001b[1;32m   1944\u001b[0m         \"\"\"\n\u001b[0;32m-> 1945\u001b[0;31m         \u001b[0;32mreturn\u001b[0m \u001b[0mself\u001b[0m\u001b[0;34m.\u001b[0m\u001b[0mrotate\u001b[0m\u001b[0;34m(\u001b[0m\u001b[0mmath\u001b[0m\u001b[0;34m.\u001b[0m\u001b[0mradians\u001b[0m\u001b[0;34m(\u001b[0m\u001b[0mdegrees\u001b[0m\u001b[0;34m)\u001b[0m\u001b[0;34m)\u001b[0m\u001b[0;34m\u001b[0m\u001b[0;34m\u001b[0m\u001b[0m\n\u001b[0m\u001b[1;32m   1946\u001b[0m \u001b[0;34m\u001b[0m\u001b[0m\n\u001b[1;32m   1947\u001b[0m     \u001b[0;32mdef\u001b[0m \u001b[0mrotate_around\u001b[0m\u001b[0;34m(\u001b[0m\u001b[0mself\u001b[0m\u001b[0;34m,\u001b[0m \u001b[0mx\u001b[0m\u001b[0;34m,\u001b[0m \u001b[0my\u001b[0m\u001b[0;34m,\u001b[0m \u001b[0mtheta\u001b[0m\u001b[0;34m)\u001b[0m\u001b[0;34m:\u001b[0m\u001b[0;34m\u001b[0m\u001b[0;34m\u001b[0m\u001b[0m\n",
      "\u001b[0;32m~/anaconda3/envs/active_learning/lib/python3.8/site-packages/matplotlib/transforms.py\u001b[0m in \u001b[0;36mrotate\u001b[0;34m(self, theta)\u001b[0m\n\u001b[1;32m   1929\u001b[0m         \u001b[0ma\u001b[0m \u001b[0;34m=\u001b[0m \u001b[0mmath\u001b[0m\u001b[0;34m.\u001b[0m\u001b[0mcos\u001b[0m\u001b[0;34m(\u001b[0m\u001b[0mtheta\u001b[0m\u001b[0;34m)\u001b[0m\u001b[0;34m\u001b[0m\u001b[0;34m\u001b[0m\u001b[0m\n\u001b[1;32m   1930\u001b[0m         \u001b[0mb\u001b[0m \u001b[0;34m=\u001b[0m \u001b[0mmath\u001b[0m\u001b[0;34m.\u001b[0m\u001b[0msin\u001b[0m\u001b[0;34m(\u001b[0m\u001b[0mtheta\u001b[0m\u001b[0;34m)\u001b[0m\u001b[0;34m\u001b[0m\u001b[0;34m\u001b[0m\u001b[0m\n\u001b[0;32m-> 1931\u001b[0;31m         rotate_mtx = np.array([[a, -b, 0.0], [b, a, 0.0], [0.0, 0.0, 1.0]],\n\u001b[0m\u001b[1;32m   1932\u001b[0m                               float)\n\u001b[1;32m   1933\u001b[0m         \u001b[0mself\u001b[0m\u001b[0;34m.\u001b[0m\u001b[0m_mtx\u001b[0m \u001b[0;34m=\u001b[0m \u001b[0mnp\u001b[0m\u001b[0;34m.\u001b[0m\u001b[0mdot\u001b[0m\u001b[0;34m(\u001b[0m\u001b[0mrotate_mtx\u001b[0m\u001b[0;34m,\u001b[0m \u001b[0mself\u001b[0m\u001b[0;34m.\u001b[0m\u001b[0m_mtx\u001b[0m\u001b[0;34m)\u001b[0m\u001b[0;34m\u001b[0m\u001b[0;34m\u001b[0m\u001b[0m\n",
      "\u001b[0;31mKeyboardInterrupt\u001b[0m: "
     ]
    }
   ],
   "source": [
    "# experiment\n",
    "\n",
    "experiment = Experiment(seed=1120, num_pool_samples=100, device=\"cuda\", num_samples_list=(10, 100))\n",
    "\n",
    "results = {}\n",
    "experiment.run(results)"
   ]
  },
  {
   "cell_type": "code",
   "execution_count": null,
   "metadata": {
    "tags": []
   },
   "outputs": [
    {
     "data": {
      "text/plain": [
       "{'initial_training_set_indices': [51348,\n",
       "  49110,\n",
       "  8222,\n",
       "  28130,\n",
       "  13484,\n",
       "  47685,\n",
       "  3938,\n",
       "  59930,\n",
       "  49196,\n",
       "  19427,\n",
       "  4601,\n",
       "  49922,\n",
       "  45635,\n",
       "  35684,\n",
       "  3579,\n",
       "  7621,\n",
       "  8465,\n",
       "  33959,\n",
       "  27521,\n",
       "  27015],\n",
       " 'dataset_info': {'training': \"'FastMNIST (train)'\",\n",
       "  'test': \"'FastMNIST (test, 10000 samples)'\"},\n",
       " 'obi_performances': [[OBIPerformance(total_training_set_size=20, real_training_set_size=20, online_training_set_size=0, trial_index=0, num_samples=10, accuracy=0.538100004196167, crossentropy=1.516221893453387),\n",
       "   OBIPerformance(total_training_set_size=20, real_training_set_size=20, online_training_set_size=0, trial_index=1, num_samples=10, accuracy=0.5690000057220459, crossentropy=1.394369463295061),\n",
       "   OBIPerformance(total_training_set_size=20, real_training_set_size=20, online_training_set_size=0, trial_index=2, num_samples=10, accuracy=0.578000009059906, crossentropy=1.4390312500523),\n",
       "   OBIPerformance(total_training_set_size=20, real_training_set_size=20, online_training_set_size=0, trial_index=3, num_samples=10, accuracy=0.5702999830245972, crossentropy=1.3985775331252561),\n",
       "   OBIPerformance(total_training_set_size=20, real_training_set_size=20, online_training_set_size=0, trial_index=4, num_samples=10, accuracy=0.5687000155448914, crossentropy=1.4096811979439918),\n",
       "   OBIPerformance(total_training_set_size=20, real_training_set_size=20, online_training_set_size=0, trial_index=0, num_samples=100, accuracy=0.589900016784668, crossentropy=1.335559089110711),\n",
       "   OBIPerformance(total_training_set_size=20, real_training_set_size=20, online_training_set_size=0, trial_index=1, num_samples=100, accuracy=0.5927000045776367, crossentropy=1.3349937885306855),\n",
       "   OBIPerformance(total_training_set_size=20, real_training_set_size=20, online_training_set_size=0, trial_index=2, num_samples=100, accuracy=0.5892999768257141, crossentropy=1.3305602299056785),\n",
       "   OBIPerformance(total_training_set_size=20, real_training_set_size=20, online_training_set_size=0, trial_index=3, num_samples=100, accuracy=0.5884000062942505, crossentropy=1.326474675328213),\n",
       "   OBIPerformance(total_training_set_size=20, real_training_set_size=20, online_training_set_size=0, trial_index=4, num_samples=100, accuracy=0.5889999866485596, crossentropy=1.327846993107089),\n",
       "   OBIPerformance(total_training_set_size=21, real_training_set_size=20, online_training_set_size=1, trial_index=0, num_samples=10, accuracy=0.5108000040054321, crossentropy=1.4310323746858784),\n",
       "   OBIPerformance(total_training_set_size=21, real_training_set_size=20, online_training_set_size=1, trial_index=1, num_samples=10, accuracy=0.5382999777793884, crossentropy=1.4689672375465028),\n",
       "   OBIPerformance(total_training_set_size=21, real_training_set_size=20, online_training_set_size=1, trial_index=2, num_samples=10, accuracy=0.5706999897956848, crossentropy=1.3674014090958952),\n",
       "   OBIPerformance(total_training_set_size=21, real_training_set_size=20, online_training_set_size=1, trial_index=3, num_samples=10, accuracy=0.4722999930381775, crossentropy=1.7070471526844717),\n",
       "   OBIPerformance(total_training_set_size=21, real_training_set_size=20, online_training_set_size=1, trial_index=4, num_samples=10, accuracy=0.4941999912261963, crossentropy=1.5801827079626178),\n",
       "   OBIPerformance(total_training_set_size=21, real_training_set_size=20, online_training_set_size=1, trial_index=0, num_samples=100, accuracy=0.555899977684021, crossentropy=1.3692344624259745),\n",
       "   OBIPerformance(total_training_set_size=21, real_training_set_size=20, online_training_set_size=1, trial_index=1, num_samples=100, accuracy=0.5461999773979187, crossentropy=1.3893260465550705),\n",
       "   OBIPerformance(total_training_set_size=21, real_training_set_size=20, online_training_set_size=1, trial_index=2, num_samples=100, accuracy=0.5467000007629395, crossentropy=1.4121668238064042),\n",
       "   OBIPerformance(total_training_set_size=21, real_training_set_size=20, online_training_set_size=1, trial_index=3, num_samples=100, accuracy=0.5705000162124634, crossentropy=1.340967229007888),\n",
       "   OBIPerformance(total_training_set_size=21, real_training_set_size=20, online_training_set_size=1, trial_index=4, num_samples=100, accuracy=0.5415999889373779, crossentropy=1.3909245617626436),\n",
       "   OBIPerformance(total_training_set_size=22, real_training_set_size=20, online_training_set_size=2, trial_index=0, num_samples=10, accuracy=0.4828000068664551, crossentropy=1.640097319819771),\n",
       "   OBIPerformance(total_training_set_size=22, real_training_set_size=20, online_training_set_size=2, trial_index=1, num_samples=10, accuracy=0.383899986743927, crossentropy=1.998316493829286),\n",
       "   OBIPerformance(total_training_set_size=22, real_training_set_size=20, online_training_set_size=2, trial_index=2, num_samples=10, accuracy=0.5619000196456909, crossentropy=1.3614083629595173),\n",
       "   OBIPerformance(total_training_set_size=22, real_training_set_size=20, online_training_set_size=2, trial_index=3, num_samples=10, accuracy=0.5605999827384949, crossentropy=1.5468709941090097),\n",
       "   OBIPerformance(total_training_set_size=22, real_training_set_size=20, online_training_set_size=2, trial_index=4, num_samples=10, accuracy=0.4586000144481659, crossentropy=1.5487413009570614),\n",
       "   OBIPerformance(total_training_set_size=22, real_training_set_size=20, online_training_set_size=2, trial_index=0, num_samples=100, accuracy=0.5400999784469604, crossentropy=1.4679958268059266),\n",
       "   OBIPerformance(total_training_set_size=22, real_training_set_size=20, online_training_set_size=2, trial_index=1, num_samples=100, accuracy=0.5325000286102295, crossentropy=1.4296249512044592),\n",
       "   OBIPerformance(total_training_set_size=22, real_training_set_size=20, online_training_set_size=2, trial_index=2, num_samples=100, accuracy=0.5491999983787537, crossentropy=1.4132995300598465),\n",
       "   OBIPerformance(total_training_set_size=22, real_training_set_size=20, online_training_set_size=2, trial_index=3, num_samples=100, accuracy=0.5425000190734863, crossentropy=1.4154437291381885),\n",
       "   OBIPerformance(total_training_set_size=22, real_training_set_size=20, online_training_set_size=2, trial_index=4, num_samples=100, accuracy=0.5428000092506409, crossentropy=1.4202467605273033),\n",
       "   OBIPerformance(total_training_set_size=23, real_training_set_size=20, online_training_set_size=3, trial_index=0, num_samples=10, accuracy=0.46540001034736633, crossentropy=1.6941649669171794),\n",
       "   OBIPerformance(total_training_set_size=23, real_training_set_size=20, online_training_set_size=3, trial_index=1, num_samples=10, accuracy=0.5766000151634216, crossentropy=1.33491877038404),\n",
       "   OBIPerformance(total_training_set_size=23, real_training_set_size=20, online_training_set_size=3, trial_index=2, num_samples=10, accuracy=0.42559999227523804, crossentropy=1.9941827284583042),\n",
       "   OBIPerformance(total_training_set_size=23, real_training_set_size=20, online_training_set_size=3, trial_index=3, num_samples=10, accuracy=0.4498000144958496, crossentropy=1.9126078195619989),\n",
       "   OBIPerformance(total_training_set_size=23, real_training_set_size=20, online_training_set_size=3, trial_index=4, num_samples=10, accuracy=0.48429998755455017, crossentropy=1.5444571334279291),\n",
       "   OBIPerformance(total_training_set_size=23, real_training_set_size=20, online_training_set_size=3, trial_index=0, num_samples=100, accuracy=0.5055000185966492, crossentropy=1.4592617706394788),\n",
       "   OBIPerformance(total_training_set_size=23, real_training_set_size=20, online_training_set_size=3, trial_index=1, num_samples=100, accuracy=0.5791000127792358, crossentropy=1.3435869851745037),\n",
       "   OBIPerformance(total_training_set_size=23, real_training_set_size=20, online_training_set_size=3, trial_index=2, num_samples=100, accuracy=0.5246000289916992, crossentropy=1.4374560238386542),\n",
       "   OBIPerformance(total_training_set_size=23, real_training_set_size=20, online_training_set_size=3, trial_index=3, num_samples=100, accuracy=0.5454000234603882, crossentropy=1.4060078429477834),\n",
       "   OBIPerformance(total_training_set_size=23, real_training_set_size=20, online_training_set_size=3, trial_index=4, num_samples=100, accuracy=0.507099986076355, crossentropy=1.4585205344874193),\n",
       "   OBIPerformance(total_training_set_size=24, real_training_set_size=20, online_training_set_size=4, trial_index=0, num_samples=10, accuracy=0.492000013589859, crossentropy=1.5434660181821085),\n",
       "   OBIPerformance(total_training_set_size=24, real_training_set_size=20, online_training_set_size=4, trial_index=1, num_samples=10, accuracy=0.5871000289916992, crossentropy=1.3112769217945621),\n",
       "   OBIPerformance(total_training_set_size=24, real_training_set_size=20, online_training_set_size=4, trial_index=2, num_samples=10, accuracy=0.5235000252723694, crossentropy=1.550065473856313),\n",
       "   OBIPerformance(total_training_set_size=24, real_training_set_size=20, online_training_set_size=4, trial_index=3, num_samples=10, accuracy=0.43810001015663147, crossentropy=1.6212727767219297),\n",
       "   OBIPerformance(total_training_set_size=24, real_training_set_size=20, online_training_set_size=4, trial_index=4, num_samples=10, accuracy=0.538100004196167, crossentropy=1.4224725189917262),\n",
       "   OBIPerformance(total_training_set_size=24, real_training_set_size=20, online_training_set_size=4, trial_index=0, num_samples=100, accuracy=0.5842000246047974, crossentropy=1.335075112353193),\n",
       "   OBIPerformance(total_training_set_size=24, real_training_set_size=20, online_training_set_size=4, trial_index=1, num_samples=100, accuracy=0.5770999789237976, crossentropy=1.4018046512510478),\n",
       "   OBIPerformance(total_training_set_size=24, real_training_set_size=20, online_training_set_size=4, trial_index=2, num_samples=100, accuracy=0.5723000168800354, crossentropy=1.4060498496145326),\n",
       "   OBIPerformance(total_training_set_size=24, real_training_set_size=20, online_training_set_size=4, trial_index=3, num_samples=100, accuracy=0.5763999819755554, crossentropy=1.3260788603580833),\n",
       "   OBIPerformance(total_training_set_size=24, real_training_set_size=20, online_training_set_size=4, trial_index=4, num_samples=100, accuracy=0.6014000177383423, crossentropy=1.3545435081220982),\n",
       "   OBIPerformance(total_training_set_size=25, real_training_set_size=20, online_training_set_size=5, trial_index=0, num_samples=10, accuracy=0.4230000078678131, crossentropy=1.7063899486848353),\n",
       "   OBIPerformance(total_training_set_size=25, real_training_set_size=20, online_training_set_size=5, trial_index=1, num_samples=10, accuracy=0.4413999915122986, crossentropy=1.8784460713362507),\n",
       "   OBIPerformance(total_training_set_size=25, real_training_set_size=20, online_training_set_size=5, trial_index=2, num_samples=10, accuracy=0.4537999927997589, crossentropy=1.5809112179319735),\n",
       "   OBIPerformance(total_training_set_size=25, real_training_set_size=20, online_training_set_size=5, trial_index=3, num_samples=10, accuracy=0.4115999937057495, crossentropy=1.7492424631097518),\n",
       "   OBIPerformance(total_training_set_size=25, real_training_set_size=20, online_training_set_size=5, trial_index=4, num_samples=10, accuracy=0.5099999904632568, crossentropy=1.6358352208201898),\n",
       "   OBIPerformance(total_training_set_size=25, real_training_set_size=20, online_training_set_size=5, trial_index=0, num_samples=100, accuracy=0.4876999855041504, crossentropy=1.5200327706793209),\n",
       "   OBIPerformance(total_training_set_size=25, real_training_set_size=20, online_training_set_size=5, trial_index=1, num_samples=100, accuracy=0.567300021648407, crossentropy=1.4114834289959146),\n",
       "   OBIPerformance(total_training_set_size=25, real_training_set_size=20, online_training_set_size=5, trial_index=2, num_samples=100, accuracy=0.490200012922287, crossentropy=1.521271881289261),\n",
       "   OBIPerformance(total_training_set_size=25, real_training_set_size=20, online_training_set_size=5, trial_index=3, num_samples=100, accuracy=0.4586000144481659, crossentropy=1.571481322419214),\n",
       "   OBIPerformance(total_training_set_size=25, real_training_set_size=20, online_training_set_size=5, trial_index=4, num_samples=100, accuracy=0.5403000116348267, crossentropy=1.4178464957416665),\n",
       "   OBIPerformance(total_training_set_size=26, real_training_set_size=20, online_training_set_size=6, trial_index=0, num_samples=10, accuracy=0.5253000259399414, crossentropy=1.4747099626123017),\n",
       "   OBIPerformance(total_training_set_size=26, real_training_set_size=20, online_training_set_size=6, trial_index=1, num_samples=10, accuracy=0.48399999737739563, crossentropy=1.554101437140076),\n",
       "   OBIPerformance(total_training_set_size=26, real_training_set_size=20, online_training_set_size=6, trial_index=2, num_samples=10, accuracy=0.4194999933242798, crossentropy=1.7205025649786614),\n",
       "   OBIPerformance(total_training_set_size=26, real_training_set_size=20, online_training_set_size=6, trial_index=3, num_samples=10, accuracy=0.44119998812675476, crossentropy=1.6098627574521018),\n",
       "   OBIPerformance(total_training_set_size=26, real_training_set_size=20, online_training_set_size=6, trial_index=4, num_samples=10, accuracy=0.5285000205039978, crossentropy=1.434040272415036),\n",
       "   OBIPerformance(total_training_set_size=26, real_training_set_size=20, online_training_set_size=6, trial_index=0, num_samples=100, accuracy=0.5637000203132629, crossentropy=1.4240856171016043),\n",
       "   OBIPerformance(total_training_set_size=26, real_training_set_size=20, online_training_set_size=6, trial_index=1, num_samples=100, accuracy=0.5626999735832214, crossentropy=1.417474933965884),\n",
       "   OBIPerformance(total_training_set_size=26, real_training_set_size=20, online_training_set_size=6, trial_index=2, num_samples=100, accuracy=0.5612000226974487, crossentropy=1.385929869604441),\n",
       "   OBIPerformance(total_training_set_size=26, real_training_set_size=20, online_training_set_size=6, trial_index=3, num_samples=100, accuracy=0.5623999834060669, crossentropy=1.4224550458626617),\n",
       "   OBIPerformance(total_training_set_size=26, real_training_set_size=20, online_training_set_size=6, trial_index=4, num_samples=100, accuracy=0.5658000111579895, crossentropy=1.3812882008355278),\n",
       "   OBIPerformance(total_training_set_size=27, real_training_set_size=20, online_training_set_size=7, trial_index=0, num_samples=10, accuracy=0.5289999842643738, crossentropy=1.5204433397631762),\n",
       "   OBIPerformance(total_training_set_size=27, real_training_set_size=20, online_training_set_size=7, trial_index=1, num_samples=10, accuracy=0.427700012922287, crossentropy=1.698829331811973),\n",
       "   OBIPerformance(total_training_set_size=27, real_training_set_size=20, online_training_set_size=7, trial_index=2, num_samples=10, accuracy=0.5514000058174133, crossentropy=1.4818146365081875),\n",
       "   OBIPerformance(total_training_set_size=27, real_training_set_size=20, online_training_set_size=7, trial_index=3, num_samples=10, accuracy=0.46369999647140503, crossentropy=1.5850571383495478),\n",
       "   OBIPerformance(total_training_set_size=27, real_training_set_size=20, online_training_set_size=7, trial_index=4, num_samples=10, accuracy=0.43860000371932983, crossentropy=1.6193627475884438),\n",
       "   OBIPerformance(total_training_set_size=27, real_training_set_size=20, online_training_set_size=7, trial_index=0, num_samples=100, accuracy=0.48910000920295715, crossentropy=1.5199999125600345),\n",
       "   OBIPerformance(total_training_set_size=27, real_training_set_size=20, online_training_set_size=7, trial_index=1, num_samples=100, accuracy=0.48980000615119934, crossentropy=1.519081176457409),\n",
       "   OBIPerformance(total_training_set_size=27, real_training_set_size=20, online_training_set_size=7, trial_index=2, num_samples=100, accuracy=0.48590001463890076, crossentropy=1.529872042842119),\n",
       "   OBIPerformance(total_training_set_size=27, real_training_set_size=20, online_training_set_size=7, trial_index=3, num_samples=100, accuracy=0.5598000288009644, crossentropy=1.4015750651377823),\n",
       "   OBIPerformance(total_training_set_size=27, real_training_set_size=20, online_training_set_size=7, trial_index=4, num_samples=100, accuracy=0.47540000081062317, crossentropy=1.5675185960155897),\n",
       "   OBIPerformance(total_training_set_size=28, real_training_set_size=20, online_training_set_size=8, trial_index=0, num_samples=10, accuracy=0.4433000087738037, crossentropy=1.6035994605316592),\n",
       "   OBIPerformance(total_training_set_size=28, real_training_set_size=20, online_training_set_size=8, trial_index=1, num_samples=10, accuracy=0.5253000259399414, crossentropy=1.4747343085858566),\n",
       "   OBIPerformance(total_training_set_size=28, real_training_set_size=20, online_training_set_size=8, trial_index=2, num_samples=10, accuracy=0.5228999853134155, crossentropy=1.7230733964234788),\n",
       "   OBIPerformance(total_training_set_size=28, real_training_set_size=20, online_training_set_size=8, trial_index=3, num_samples=10, accuracy=0.4957999885082245, crossentropy=1.7042442318957434),\n",
       "   OBIPerformance(total_training_set_size=28, real_training_set_size=20, online_training_set_size=8, trial_index=4, num_samples=10, accuracy=0.5604000091552734, crossentropy=1.6179471884154344),\n",
       "   OBIPerformance(total_training_set_size=28, real_training_set_size=20, online_training_set_size=8, trial_index=0, num_samples=100, accuracy=0.4406999945640564, crossentropy=1.6138038182093437),\n",
       "   OBIPerformance(total_training_set_size=28, real_training_set_size=20, online_training_set_size=8, trial_index=1, num_samples=100, accuracy=0.4952999949455261, crossentropy=1.5516442793194338),\n",
       "   OBIPerformance(total_training_set_size=28, real_training_set_size=20, online_training_set_size=8, trial_index=2, num_samples=100, accuracy=0.4147000014781952, crossentropy=1.73651682346683),\n",
       "   OBIPerformance(total_training_set_size=28, real_training_set_size=20, online_training_set_size=8, trial_index=3, num_samples=100, accuracy=0.4772999882698059, crossentropy=1.556860853399344),\n",
       "   OBIPerformance(total_training_set_size=28, real_training_set_size=20, online_training_set_size=8, trial_index=4, num_samples=100, accuracy=0.4749999940395355, crossentropy=1.560255091366018),\n",
       "   OBIPerformance(total_training_set_size=29, real_training_set_size=20, online_training_set_size=9, trial_index=0, num_samples=10, accuracy=0.5460000038146973, crossentropy=1.5457934192441967),\n",
       "   OBIPerformance(total_training_set_size=29, real_training_set_size=20, online_training_set_size=9, trial_index=1, num_samples=10, accuracy=0.546500027179718, crossentropy=1.527443198214064),\n",
       "   OBIPerformance(total_training_set_size=29, real_training_set_size=20, online_training_set_size=9, trial_index=2, num_samples=10, accuracy=0.5333999991416931, crossentropy=1.4619989457136748),\n",
       "   OBIPerformance(total_training_set_size=29, real_training_set_size=20, online_training_set_size=9, trial_index=3, num_samples=10, accuracy=0.524399995803833, crossentropy=1.4459335009817293),\n",
       "   OBIPerformance(total_training_set_size=29, real_training_set_size=20, online_training_set_size=9, trial_index=4, num_samples=10, accuracy=0.5178999900817871, crossentropy=1.514726970924966),\n",
       "   OBIPerformance(total_training_set_size=29, real_training_set_size=20, online_training_set_size=9, trial_index=0, num_samples=100, accuracy=0.43959999084472656, crossentropy=1.6169641866016042),\n",
       "   OBIPerformance(total_training_set_size=29, real_training_set_size=20, online_training_set_size=9, trial_index=1, num_samples=100, accuracy=0.44190001487731934, crossentropy=1.6108624702045151),\n",
       "   OBIPerformance(total_training_set_size=29, real_training_set_size=20, online_training_set_size=9, trial_index=2, num_samples=100, accuracy=0.48399999737739563, crossentropy=1.5596720207710035),\n",
       "   OBIPerformance(total_training_set_size=29, real_training_set_size=20, online_training_set_size=9, trial_index=3, num_samples=100, accuracy=0.43950000405311584, crossentropy=1.6168463713939287),\n",
       "   OBIPerformance(total_training_set_size=29, real_training_set_size=20, online_training_set_size=9, trial_index=4, num_samples=100, accuracy=0.5526000261306763, crossentropy=1.422336710444493),\n",
       "   OBIPerformance(total_training_set_size=30, real_training_set_size=20, online_training_set_size=10, trial_index=0, num_samples=10, accuracy=0.5146999955177307, crossentropy=1.59071577353385),\n",
       "   OBIPerformance(total_training_set_size=30, real_training_set_size=20, online_training_set_size=10, trial_index=1, num_samples=10, accuracy=0.48330000042915344, crossentropy=1.5600168334171838),\n",
       "   OBIPerformance(total_training_set_size=30, real_training_set_size=20, online_training_set_size=10, trial_index=2, num_samples=10, accuracy=0.5587000250816345, crossentropy=1.3704955509548913),\n",
       "   OBIPerformance(total_training_set_size=30, real_training_set_size=20, online_training_set_size=10, trial_index=3, num_samples=10, accuracy=0.4675000011920929, crossentropy=1.6099594739354792),\n",
       "   OBIPerformance(total_training_set_size=30, real_training_set_size=20, online_training_set_size=10, trial_index=4, num_samples=10, accuracy=0.43799999356269836, crossentropy=1.621819811882544),\n",
       "   OBIPerformance(total_training_set_size=30, real_training_set_size=20, online_training_set_size=10, trial_index=0, num_samples=100, accuracy=0.5471000075340271, crossentropy=1.4569512473178925),\n",
       "   OBIPerformance(total_training_set_size=30, real_training_set_size=20, online_training_set_size=10, trial_index=1, num_samples=100, accuracy=0.5024999976158142, crossentropy=1.5201764815928764),\n",
       "   OBIPerformance(total_training_set_size=30, real_training_set_size=20, online_training_set_size=10, trial_index=2, num_samples=100, accuracy=0.4814999997615814, crossentropy=1.523882362156875),\n",
       "   OBIPerformance(total_training_set_size=30, real_training_set_size=20, online_training_set_size=10, trial_index=3, num_samples=100, accuracy=0.4916999936103821, crossentropy=1.5245047330435468),\n",
       "   OBIPerformance(total_training_set_size=30, real_training_set_size=20, online_training_set_size=10, trial_index=4, num_samples=100, accuracy=0.4390999972820282, crossentropy=1.6182969328551637)],\n",
       "  [OBIPerformance(total_training_set_size=25, real_training_set_size=25, online_training_set_size=0, trial_index=0, num_samples=10, accuracy=0.6100999712944031, crossentropy=1.6376072416808467),\n",
       "   OBIPerformance(total_training_set_size=25, real_training_set_size=25, online_training_set_size=0, trial_index=1, num_samples=10, accuracy=0.6097999811172485, crossentropy=1.615296419706585),\n",
       "   OBIPerformance(total_training_set_size=25, real_training_set_size=25, online_training_set_size=0, trial_index=2, num_samples=10, accuracy=0.5914000272750854, crossentropy=1.9317943811467426),\n",
       "   OBIPerformance(total_training_set_size=25, real_training_set_size=25, online_training_set_size=0, trial_index=3, num_samples=10, accuracy=0.6015999913215637, crossentropy=1.4375807893623322),\n",
       "   OBIPerformance(total_training_set_size=25, real_training_set_size=25, online_training_set_size=0, trial_index=4, num_samples=10, accuracy=0.6104000210762024, crossentropy=1.8309441336785284),\n",
       "   OBIPerformance(total_training_set_size=25, real_training_set_size=25, online_training_set_size=0, trial_index=0, num_samples=100, accuracy=0.6100999712944031, crossentropy=1.5381897910683175),\n",
       "   OBIPerformance(total_training_set_size=25, real_training_set_size=25, online_training_set_size=0, trial_index=1, num_samples=100, accuracy=0.6074000000953674, crossentropy=1.5889133845215737),\n",
       "   OBIPerformance(total_training_set_size=25, real_training_set_size=25, online_training_set_size=0, trial_index=2, num_samples=100, accuracy=0.6078000068664551, crossentropy=1.5115162383650613),\n",
       "   OBIPerformance(total_training_set_size=25, real_training_set_size=25, online_training_set_size=0, trial_index=3, num_samples=100, accuracy=0.6104000210762024, crossentropy=1.5038056689931252),\n",
       "   OBIPerformance(total_training_set_size=25, real_training_set_size=25, online_training_set_size=0, trial_index=4, num_samples=100, accuracy=0.6118000149726868, crossentropy=1.5320206094214917),\n",
       "   OBIPerformance(total_training_set_size=26, real_training_set_size=25, online_training_set_size=1, trial_index=0, num_samples=10, accuracy=0.5544000267982483, crossentropy=1.9709936213214279),\n",
       "   OBIPerformance(total_training_set_size=26, real_training_set_size=25, online_training_set_size=1, trial_index=1, num_samples=10, accuracy=0.6014999747276306, crossentropy=1.9488236465841866),\n",
       "   OBIPerformance(total_training_set_size=26, real_training_set_size=25, online_training_set_size=1, trial_index=2, num_samples=10, accuracy=0.5523999929428101, crossentropy=2.0429818992965467),\n",
       "   OBIPerformance(total_training_set_size=26, real_training_set_size=25, online_training_set_size=1, trial_index=3, num_samples=10, accuracy=0.5371999740600586, crossentropy=2.099833893563872),\n",
       "   OBIPerformance(total_training_set_size=26, real_training_set_size=25, online_training_set_size=1, trial_index=4, num_samples=10, accuracy=0.5705000162124634, crossentropy=1.8870867260437725),\n",
       "   OBIPerformance(total_training_set_size=26, real_training_set_size=25, online_training_set_size=1, trial_index=0, num_samples=100, accuracy=0.5992000102996826, crossentropy=1.654170173885335),\n",
       "   OBIPerformance(total_training_set_size=26, real_training_set_size=25, online_training_set_size=1, trial_index=1, num_samples=100, accuracy=0.6043999791145325, crossentropy=1.6092253931080474),\n",
       "   OBIPerformance(total_training_set_size=26, real_training_set_size=25, online_training_set_size=1, trial_index=2, num_samples=100, accuracy=0.5914999842643738, crossentropy=1.676038880737029),\n",
       "   OBIPerformance(total_training_set_size=26, real_training_set_size=25, online_training_set_size=1, trial_index=3, num_samples=100, accuracy=0.5961999893188477, crossentropy=1.6445126566418138),\n",
       "   OBIPerformance(total_training_set_size=26, real_training_set_size=25, online_training_set_size=1, trial_index=4, num_samples=100, accuracy=0.5899999737739563, crossentropy=1.6852523026283797),\n",
       "   OBIPerformance(total_training_set_size=27, real_training_set_size=25, online_training_set_size=2, trial_index=0, num_samples=10, accuracy=0.5817000269889832, crossentropy=1.9717441695144633),\n",
       "   OBIPerformance(total_training_set_size=27, real_training_set_size=25, online_training_set_size=2, trial_index=1, num_samples=10, accuracy=0.5360999703407288, crossentropy=2.183609979635687),\n",
       "   OBIPerformance(total_training_set_size=27, real_training_set_size=25, online_training_set_size=2, trial_index=2, num_samples=10, accuracy=0.5899999737739563, crossentropy=1.889122755179886),\n",
       "   OBIPerformance(total_training_set_size=27, real_training_set_size=25, online_training_set_size=2, trial_index=3, num_samples=10, accuracy=0.5180000066757202, crossentropy=2.834119843432201),\n",
       "   OBIPerformance(total_training_set_size=27, real_training_set_size=25, online_training_set_size=2, trial_index=4, num_samples=10, accuracy=0.5260999798774719, crossentropy=2.2044175901266927),\n",
       "   OBIPerformance(total_training_set_size=27, real_training_set_size=25, online_training_set_size=2, trial_index=0, num_samples=100, accuracy=0.5857999920845032, crossentropy=1.7883326441781464),\n",
       "   OBIPerformance(total_training_set_size=27, real_training_set_size=25, online_training_set_size=2, trial_index=1, num_samples=100, accuracy=0.5080999732017517, crossentropy=2.2506345206153635),\n",
       "   OBIPerformance(total_training_set_size=27, real_training_set_size=25, online_training_set_size=2, trial_index=2, num_samples=100, accuracy=0.5875999927520752, crossentropy=1.839266339663366),\n",
       "   OBIPerformance(total_training_set_size=27, real_training_set_size=25, online_training_set_size=2, trial_index=3, num_samples=100, accuracy=0.5813999772071838, crossentropy=1.8494240900683825),\n",
       "   OBIPerformance(total_training_set_size=27, real_training_set_size=25, online_training_set_size=2, trial_index=4, num_samples=100, accuracy=0.5268999934196472, crossentropy=2.2260231643049293),\n",
       "   OBIPerformance(total_training_set_size=28, real_training_set_size=25, online_training_set_size=3, trial_index=0, num_samples=10, accuracy=0.5751000046730042, crossentropy=1.7488442436620844),\n",
       "   OBIPerformance(total_training_set_size=28, real_training_set_size=25, online_training_set_size=3, trial_index=1, num_samples=10, accuracy=0.5726000070571899, crossentropy=2.240477478330983),\n",
       "   OBIPerformance(total_training_set_size=28, real_training_set_size=25, online_training_set_size=3, trial_index=2, num_samples=10, accuracy=0.58160001039505, crossentropy=2.01932261751905),\n",
       "   OBIPerformance(total_training_set_size=28, real_training_set_size=25, online_training_set_size=3, trial_index=3, num_samples=10, accuracy=0.5756000280380249, crossentropy=1.8769506062711927),\n",
       "   OBIPerformance(total_training_set_size=28, real_training_set_size=25, online_training_set_size=3, trial_index=4, num_samples=10, accuracy=0.5889999866485596, crossentropy=1.9076354853849629),\n",
       "   OBIPerformance(total_training_set_size=28, real_training_set_size=25, online_training_set_size=3, trial_index=0, num_samples=100, accuracy=0.519599974155426, crossentropy=2.2496125445840387),\n",
       "   OBIPerformance(total_training_set_size=28, real_training_set_size=25, online_training_set_size=3, trial_index=1, num_samples=100, accuracy=0.5202000141143799, crossentropy=2.2396571847792197),\n",
       "   OBIPerformance(total_training_set_size=28, real_training_set_size=25, online_training_set_size=3, trial_index=2, num_samples=100, accuracy=0.5157999992370605, crossentropy=2.2125949128246485),\n",
       "   OBIPerformance(total_training_set_size=28, real_training_set_size=25, online_training_set_size=3, trial_index=3, num_samples=100, accuracy=0.5889999866485596, crossentropy=1.8628801053480448),\n",
       "   OBIPerformance(total_training_set_size=28, real_training_set_size=25, online_training_set_size=3, trial_index=4, num_samples=100, accuracy=0.5224999785423279, crossentropy=2.3735127332052395),\n",
       "   OBIPerformance(total_training_set_size=29, real_training_set_size=25, online_training_set_size=4, trial_index=0, num_samples=10, accuracy=0.5767999887466431, crossentropy=2.641944438443787),\n",
       "   OBIPerformance(total_training_set_size=29, real_training_set_size=25, online_training_set_size=4, trial_index=1, num_samples=10, accuracy=0.58160001039505, crossentropy=1.985471471506219),\n",
       "   OBIPerformance(total_training_set_size=29, real_training_set_size=25, online_training_set_size=4, trial_index=2, num_samples=10, accuracy=0.5898000001907349, crossentropy=2.02617115135217),\n",
       "   OBIPerformance(total_training_set_size=29, real_training_set_size=25, online_training_set_size=4, trial_index=3, num_samples=10, accuracy=0.5501000285148621, crossentropy=2.4420125597094775),\n",
       "   OBIPerformance(total_training_set_size=29, real_training_set_size=25, online_training_set_size=4, trial_index=4, num_samples=10, accuracy=0.5867000222206116, crossentropy=1.8085561077739978),\n",
       "   OBIPerformance(total_training_set_size=29, real_training_set_size=25, online_training_set_size=4, trial_index=0, num_samples=100, accuracy=0.607699990272522, crossentropy=1.6434745846272796),\n",
       "   OBIPerformance(total_training_set_size=29, real_training_set_size=25, online_training_set_size=4, trial_index=1, num_samples=100, accuracy=0.6273000240325928, crossentropy=1.5586418345181836),\n",
       "   OBIPerformance(total_training_set_size=29, real_training_set_size=25, online_training_set_size=4, trial_index=2, num_samples=100, accuracy=0.623199999332428, crossentropy=1.6223923761514683),\n",
       "   OBIPerformance(total_training_set_size=29, real_training_set_size=25, online_training_set_size=4, trial_index=3, num_samples=100, accuracy=0.5976999998092651, crossentropy=1.769269589450079),\n",
       "   OBIPerformance(total_training_set_size=29, real_training_set_size=25, online_training_set_size=4, trial_index=4, num_samples=100, accuracy=0.6086999773979187, crossentropy=1.6456227645143096),\n",
       "   OBIPerformance(total_training_set_size=30, real_training_set_size=25, online_training_set_size=5, trial_index=0, num_samples=10, accuracy=0.597599983215332, crossentropy=1.736539457927888),\n",
       "   OBIPerformance(total_training_set_size=30, real_training_set_size=25, online_training_set_size=5, trial_index=1, num_samples=10, accuracy=0.5728999972343445, crossentropy=1.7106097900693544),\n",
       "   OBIPerformance(total_training_set_size=30, real_training_set_size=25, online_training_set_size=5, trial_index=2, num_samples=10, accuracy=0.5656999945640564, crossentropy=1.6273046869569054),\n",
       "   OBIPerformance(total_training_set_size=30, real_training_set_size=25, online_training_set_size=5, trial_index=3, num_samples=10, accuracy=0.5623999834060669, crossentropy=2.700319981735113),\n",
       "   OBIPerformance(total_training_set_size=30, real_training_set_size=25, online_training_set_size=5, trial_index=4, num_samples=10, accuracy=0.5582000017166138, crossentropy=2.0554589601092697),\n",
       "   OBIPerformance(total_training_set_size=30, real_training_set_size=25, online_training_set_size=5, trial_index=0, num_samples=100, accuracy=0.5694000124931335, crossentropy=1.638806473920221),\n",
       "   OBIPerformance(total_training_set_size=30, real_training_set_size=25, online_training_set_size=5, trial_index=1, num_samples=100, accuracy=0.5414999723434448, crossentropy=1.7817528223899666),\n",
       "   OBIPerformance(total_training_set_size=30, real_training_set_size=25, online_training_set_size=5, trial_index=2, num_samples=100, accuracy=0.5687999725341797, crossentropy=1.736103958209068),\n",
       "   OBIPerformance(total_training_set_size=30, real_training_set_size=25, online_training_set_size=5, trial_index=3, num_samples=100, accuracy=0.5788000226020813, crossentropy=1.6854608578821277),\n",
       "   OBIPerformance(total_training_set_size=30, real_training_set_size=25, online_training_set_size=5, trial_index=4, num_samples=100, accuracy=0.5608999729156494, crossentropy=1.7576803008335282),\n",
       "   OBIPerformance(total_training_set_size=31, real_training_set_size=25, online_training_set_size=6, trial_index=0, num_samples=10, accuracy=0.5526999831199646, crossentropy=2.162691137476734),\n",
       "   OBIPerformance(total_training_set_size=31, real_training_set_size=25, online_training_set_size=6, trial_index=1, num_samples=10, accuracy=0.6323000192642212, crossentropy=1.7017910256220676),\n",
       "   OBIPerformance(total_training_set_size=31, real_training_set_size=25, online_training_set_size=6, trial_index=2, num_samples=10, accuracy=0.5940999984741211, crossentropy=1.8202552528398432),\n",
       "   OBIPerformance(total_training_set_size=31, real_training_set_size=25, online_training_set_size=6, trial_index=3, num_samples=10, accuracy=0.5676000118255615, crossentropy=1.8005403523684373),\n",
       "   OBIPerformance(total_training_set_size=31, real_training_set_size=25, online_training_set_size=6, trial_index=4, num_samples=10, accuracy=0.5103999972343445, crossentropy=2.961633716206063),\n",
       "   OBIPerformance(total_training_set_size=31, real_training_set_size=25, online_training_set_size=6, trial_index=0, num_samples=100, accuracy=0.5952000021934509, crossentropy=1.5563478480702626),\n",
       "   OBIPerformance(total_training_set_size=31, real_training_set_size=25, online_training_set_size=6, trial_index=1, num_samples=100, accuracy=0.6051999926567078, crossentropy=1.5486998200622526),\n",
       "   OBIPerformance(total_training_set_size=31, real_training_set_size=25, online_training_set_size=6, trial_index=2, num_samples=100, accuracy=0.5985999703407288, crossentropy=1.6610404141810795),\n",
       "   OBIPerformance(total_training_set_size=31, real_training_set_size=25, online_training_set_size=6, trial_index=3, num_samples=100, accuracy=0.5896000266075134, crossentropy=1.5953753865617757),\n",
       "   OBIPerformance(total_training_set_size=31, real_training_set_size=25, online_training_set_size=6, trial_index=4, num_samples=100, accuracy=0.6049000024795532, crossentropy=1.5607134193468577),\n",
       "   OBIPerformance(total_training_set_size=32, real_training_set_size=25, online_training_set_size=7, trial_index=0, num_samples=10, accuracy=0.5371000170707703, crossentropy=2.043801463605277),\n",
       "   OBIPerformance(total_training_set_size=32, real_training_set_size=25, online_training_set_size=7, trial_index=1, num_samples=10, accuracy=0.5932000279426575, crossentropy=1.9111877533216954),\n",
       "   OBIPerformance(total_training_set_size=32, real_training_set_size=25, online_training_set_size=7, trial_index=2, num_samples=10, accuracy=0.5785999894142151, crossentropy=1.8704877449817596),\n",
       "   OBIPerformance(total_training_set_size=32, real_training_set_size=25, online_training_set_size=7, trial_index=3, num_samples=10, accuracy=0.5956000089645386, crossentropy=1.8987038980257671),\n",
       "   OBIPerformance(total_training_set_size=32, real_training_set_size=25, online_training_set_size=7, trial_index=4, num_samples=10, accuracy=0.5250999927520752, crossentropy=2.388334066223233),\n",
       "   OBIPerformance(total_training_set_size=32, real_training_set_size=25, online_training_set_size=7, trial_index=0, num_samples=100, accuracy=0.6198999881744385, crossentropy=1.479960824291604),\n",
       "   OBIPerformance(total_training_set_size=32, real_training_set_size=25, online_training_set_size=7, trial_index=1, num_samples=100, accuracy=0.59579998254776, crossentropy=1.480162888433034),\n",
       "   OBIPerformance(total_training_set_size=32, real_training_set_size=25, online_training_set_size=7, trial_index=2, num_samples=100, accuracy=0.5475999712944031, crossentropy=1.7789497137354484),\n",
       "   OBIPerformance(total_training_set_size=32, real_training_set_size=25, online_training_set_size=7, trial_index=3, num_samples=100, accuracy=0.5507000088691711, crossentropy=1.7265107611438162),\n",
       "   OBIPerformance(total_training_set_size=32, real_training_set_size=25, online_training_set_size=7, trial_index=4, num_samples=100, accuracy=0.546500027179718, crossentropy=1.7856688982373592),\n",
       "   OBIPerformance(total_training_set_size=33, real_training_set_size=25, online_training_set_size=8, trial_index=0, num_samples=10, accuracy=0.5442000031471252, crossentropy=2.1340101865426444),\n",
       "   OBIPerformance(total_training_set_size=33, real_training_set_size=25, online_training_set_size=8, trial_index=1, num_samples=10, accuracy=0.5533999800682068, crossentropy=1.9940055103193088),\n",
       "   OBIPerformance(total_training_set_size=33, real_training_set_size=25, online_training_set_size=8, trial_index=2, num_samples=10, accuracy=0.5953999757766724, crossentropy=1.7291821105081828),\n",
       "   OBIPerformance(total_training_set_size=33, real_training_set_size=25, online_training_set_size=8, trial_index=3, num_samples=10, accuracy=0.5864999890327454, crossentropy=1.8024592735243607),\n",
       "   OBIPerformance(total_training_set_size=33, real_training_set_size=25, online_training_set_size=8, trial_index=4, num_samples=10, accuracy=0.5371000170707703, crossentropy=2.0309373522256426),\n",
       "   OBIPerformance(total_training_set_size=33, real_training_set_size=25, online_training_set_size=8, trial_index=0, num_samples=100, accuracy=0.5400000214576721, crossentropy=1.9180752324110844),\n",
       "   OBIPerformance(total_training_set_size=33, real_training_set_size=25, online_training_set_size=8, trial_index=1, num_samples=100, accuracy=0.541100025177002, crossentropy=1.916601084240894),\n",
       "   OBIPerformance(total_training_set_size=33, real_training_set_size=25, online_training_set_size=8, trial_index=2, num_samples=100, accuracy=0.5891000032424927, crossentropy=1.6037420898884498),\n",
       "   OBIPerformance(total_training_set_size=33, real_training_set_size=25, online_training_set_size=8, trial_index=3, num_samples=100, accuracy=0.5406000018119812, crossentropy=1.9299277980448255),\n",
       "   OBIPerformance(total_training_set_size=33, real_training_set_size=25, online_training_set_size=8, trial_index=4, num_samples=100, accuracy=0.5386999845504761, crossentropy=1.9910045475259932),\n",
       "   OBIPerformance(total_training_set_size=34, real_training_set_size=25, online_training_set_size=9, trial_index=0, num_samples=10, accuracy=0.5411999821662903, crossentropy=1.921045141596812),\n",
       "   OBIPerformance(total_training_set_size=34, real_training_set_size=25, online_training_set_size=9, trial_index=1, num_samples=10, accuracy=0.5717999935150146, crossentropy=1.8601931519355615),\n",
       "   OBIPerformance(total_training_set_size=34, real_training_set_size=25, online_training_set_size=9, trial_index=2, num_samples=10, accuracy=0.5764999985694885, crossentropy=1.9161851874110973),\n",
       "   OBIPerformance(total_training_set_size=34, real_training_set_size=25, online_training_set_size=9, trial_index=3, num_samples=10, accuracy=0.5925999879837036, crossentropy=1.7674351697271835),\n",
       "   OBIPerformance(total_training_set_size=34, real_training_set_size=25, online_training_set_size=9, trial_index=4, num_samples=10, accuracy=0.5735999941825867, crossentropy=1.84517442854294),\n",
       "   OBIPerformance(total_training_set_size=34, real_training_set_size=25, online_training_set_size=9, trial_index=0, num_samples=100, accuracy=0.5674999952316284, crossentropy=1.6574367656371642),\n",
       "   OBIPerformance(total_training_set_size=34, real_training_set_size=25, online_training_set_size=9, trial_index=1, num_samples=100, accuracy=0.5475000143051147, crossentropy=1.7657161202990383),\n",
       "   OBIPerformance(total_training_set_size=34, real_training_set_size=25, online_training_set_size=9, trial_index=2, num_samples=100, accuracy=0.5613999962806702, crossentropy=1.682907977431608),\n",
       "   OBIPerformance(total_training_set_size=34, real_training_set_size=25, online_training_set_size=9, trial_index=3, num_samples=100, accuracy=0.5701000094413757, crossentropy=1.6488591451325487),\n",
       "   OBIPerformance(total_training_set_size=34, real_training_set_size=25, online_training_set_size=9, trial_index=4, num_samples=100, accuracy=0.5996999740600586, crossentropy=1.6469500130991968),\n",
       "   OBIPerformance(total_training_set_size=35, real_training_set_size=25, online_training_set_size=10, trial_index=0, num_samples=10, accuracy=0.5860000252723694, crossentropy=1.7037003220558622),\n",
       "   OBIPerformance(total_training_set_size=35, real_training_set_size=25, online_training_set_size=10, trial_index=1, num_samples=10, accuracy=0.5260999798774719, crossentropy=2.375470636791103),\n",
       "   OBIPerformance(total_training_set_size=35, real_training_set_size=25, online_training_set_size=10, trial_index=2, num_samples=10, accuracy=0.5447999835014343, crossentropy=2.1348407867910284),\n",
       "   OBIPerformance(total_training_set_size=35, real_training_set_size=25, online_training_set_size=10, trial_index=3, num_samples=10, accuracy=0.5562999844551086, crossentropy=2.52490240724365),\n",
       "   OBIPerformance(total_training_set_size=35, real_training_set_size=25, online_training_set_size=10, trial_index=4, num_samples=10, accuracy=0.5253999829292297, crossentropy=2.4174216976274874),\n",
       "   OBIPerformance(total_training_set_size=35, real_training_set_size=25, online_training_set_size=10, trial_index=0, num_samples=100, accuracy=0.550000011920929, crossentropy=1.8399666425114811),\n",
       "   OBIPerformance(total_training_set_size=35, real_training_set_size=25, online_training_set_size=10, trial_index=1, num_samples=100, accuracy=0.5371000170707703, crossentropy=2.009523930110315),\n",
       "   OBIPerformance(total_training_set_size=35, real_training_set_size=25, online_training_set_size=10, trial_index=2, num_samples=100, accuracy=0.5400000214576721, crossentropy=1.9460873576058846),\n",
       "   OBIPerformance(total_training_set_size=35, real_training_set_size=25, online_training_set_size=10, trial_index=3, num_samples=100, accuracy=0.5440000295639038, crossentropy=1.8489375667687349),\n",
       "   OBIPerformance(total_training_set_size=35, real_training_set_size=25, online_training_set_size=10, trial_index=4, num_samples=100, accuracy=0.5401999950408936, crossentropy=1.943040866485901)],\n",
       "  [OBIPerformance(total_training_set_size=30, real_training_set_size=30, online_training_set_size=0, trial_index=0, num_samples=10, accuracy=0.6553000211715698, crossentropy=1.6493704446256634),\n",
       "   OBIPerformance(total_training_set_size=30, real_training_set_size=30, online_training_set_size=0, trial_index=1, num_samples=10, accuracy=0.6798999905586243, crossentropy=1.6922504163094116),\n",
       "   OBIPerformance(total_training_set_size=30, real_training_set_size=30, online_training_set_size=0, trial_index=2, num_samples=10, accuracy=0.6682999730110168, crossentropy=1.414807733161789),\n",
       "   OBIPerformance(total_training_set_size=30, real_training_set_size=30, online_training_set_size=0, trial_index=3, num_samples=10, accuracy=0.6841999888420105, crossentropy=1.4658374798565494),\n",
       "   OBIPerformance(total_training_set_size=30, real_training_set_size=30, online_training_set_size=0, trial_index=4, num_samples=10, accuracy=0.6717000007629395, crossentropy=1.3567051124058678),\n",
       "   OBIPerformance(total_training_set_size=30, real_training_set_size=30, online_training_set_size=0, trial_index=0, num_samples=100, accuracy=0.6816999912261963, crossentropy=1.1340940909650736),\n",
       "   OBIPerformance(total_training_set_size=30, real_training_set_size=30, online_training_set_size=0, trial_index=1, num_samples=100, accuracy=0.6814000010490417, crossentropy=1.1347216911569669),\n",
       "   OBIPerformance(total_training_set_size=30, real_training_set_size=30, online_training_set_size=0, trial_index=2, num_samples=100, accuracy=0.682200014591217, crossentropy=1.1236202621514846),\n",
       "   OBIPerformance(total_training_set_size=30, real_training_set_size=30, online_training_set_size=0, trial_index=3, num_samples=100, accuracy=0.6754000186920166, crossentropy=1.1721064034197455),\n",
       "   OBIPerformance(total_training_set_size=30, real_training_set_size=30, online_training_set_size=0, trial_index=4, num_samples=100, accuracy=0.6815999746322632, crossentropy=1.121347171405315),\n",
       "   OBIPerformance(total_training_set_size=31, real_training_set_size=30, online_training_set_size=1, trial_index=0, num_samples=10, accuracy=0.6553000211715698, crossentropy=1.4524667810426912),\n",
       "   OBIPerformance(total_training_set_size=31, real_training_set_size=30, online_training_set_size=1, trial_index=1, num_samples=10, accuracy=0.6897000074386597, crossentropy=1.4149371504469928),\n",
       "   OBIPerformance(total_training_set_size=31, real_training_set_size=30, online_training_set_size=1, trial_index=2, num_samples=10, accuracy=0.6757000088691711, crossentropy=1.2541490635351915),\n",
       "   OBIPerformance(total_training_set_size=31, real_training_set_size=30, online_training_set_size=1, trial_index=3, num_samples=10, accuracy=0.6563000082969666, crossentropy=1.4237299721431738),\n",
       "   OBIPerformance(total_training_set_size=31, real_training_set_size=30, online_training_set_size=1, trial_index=4, num_samples=10, accuracy=0.6753000020980835, crossentropy=1.5763221266863),\n",
       "   OBIPerformance(total_training_set_size=31, real_training_set_size=30, online_training_set_size=1, trial_index=0, num_samples=100, accuracy=0.6700999736785889, crossentropy=1.1714726240937405),\n",
       "   OBIPerformance(total_training_set_size=31, real_training_set_size=30, online_training_set_size=1, trial_index=1, num_samples=100, accuracy=0.6764000058174133, crossentropy=1.138640144460815),\n",
       "   OBIPerformance(total_training_set_size=31, real_training_set_size=30, online_training_set_size=1, trial_index=2, num_samples=100, accuracy=0.671999990940094, crossentropy=1.182803313953726),\n",
       "   OBIPerformance(total_training_set_size=31, real_training_set_size=30, online_training_set_size=1, trial_index=3, num_samples=100, accuracy=0.6783999800682068, crossentropy=1.1525015029739432),\n",
       "   OBIPerformance(total_training_set_size=31, real_training_set_size=30, online_training_set_size=1, trial_index=4, num_samples=100, accuracy=0.6657000184059143, crossentropy=1.187274606455306),\n",
       "   OBIPerformance(total_training_set_size=32, real_training_set_size=30, online_training_set_size=2, trial_index=0, num_samples=10, accuracy=0.5821999907493591, crossentropy=2.5594327522993057),\n",
       "   OBIPerformance(total_training_set_size=32, real_training_set_size=30, online_training_set_size=2, trial_index=1, num_samples=10, accuracy=0.6704999804496765, crossentropy=1.7988378700426055),\n",
       "   OBIPerformance(total_training_set_size=32, real_training_set_size=30, online_training_set_size=2, trial_index=2, num_samples=10, accuracy=0.6640999913215637, crossentropy=1.5021631476989874),\n",
       "   OBIPerformance(total_training_set_size=32, real_training_set_size=30, online_training_set_size=2, trial_index=3, num_samples=10, accuracy=0.6389999985694885, crossentropy=1.634070684146529),\n",
       "   OBIPerformance(total_training_set_size=32, real_training_set_size=30, online_training_set_size=2, trial_index=4, num_samples=10, accuracy=0.6636000275611877, crossentropy=1.4739030518835055),\n",
       "   OBIPerformance(total_training_set_size=32, real_training_set_size=30, online_training_set_size=2, trial_index=0, num_samples=100, accuracy=0.6625000238418579, crossentropy=1.346377788587259),\n",
       "   OBIPerformance(total_training_set_size=32, real_training_set_size=30, online_training_set_size=2, trial_index=1, num_samples=100, accuracy=0.6776000261306763, crossentropy=1.3129367489640071),\n",
       "   OBIPerformance(total_training_set_size=32, real_training_set_size=30, online_training_set_size=2, trial_index=2, num_samples=100, accuracy=0.6402000188827515, crossentropy=1.41925491939407),\n",
       "   OBIPerformance(total_training_set_size=32, real_training_set_size=30, online_training_set_size=2, trial_index=3, num_samples=100, accuracy=0.6628000140190125, crossentropy=1.368467045584973),\n",
       "   OBIPerformance(total_training_set_size=32, real_training_set_size=30, online_training_set_size=2, trial_index=4, num_samples=100, accuracy=0.6751999855041504, crossentropy=1.3167524451265453),\n",
       "   OBIPerformance(total_training_set_size=33, real_training_set_size=30, online_training_set_size=3, trial_index=0, num_samples=10, accuracy=0.6342999935150146, crossentropy=2.0022730890381477),\n",
       "   OBIPerformance(total_training_set_size=33, real_training_set_size=30, online_training_set_size=3, trial_index=1, num_samples=10, accuracy=0.6389999985694885, crossentropy=1.8626000776625922),\n",
       "   OBIPerformance(total_training_set_size=33, real_training_set_size=30, online_training_set_size=3, trial_index=2, num_samples=10, accuracy=0.6514000296592712, crossentropy=1.8712996796753723),\n",
       "   OBIPerformance(total_training_set_size=33, real_training_set_size=30, online_training_set_size=3, trial_index=3, num_samples=10, accuracy=0.6489999890327454, crossentropy=2.1929052006429566),\n",
       "   OBIPerformance(total_training_set_size=33, real_training_set_size=30, online_training_set_size=3, trial_index=4, num_samples=10, accuracy=0.6703000068664551, crossentropy=1.2695603980805839),\n",
       "   OBIPerformance(total_training_set_size=33, real_training_set_size=30, online_training_set_size=3, trial_index=0, num_samples=100, accuracy=0.63919997215271, crossentropy=1.7552481527257358),\n",
       "   OBIPerformance(total_training_set_size=33, real_training_set_size=30, online_training_set_size=3, trial_index=1, num_samples=100, accuracy=0.6780999898910522, crossentropy=1.3721962224523077),\n",
       "   OBIPerformance(total_training_set_size=33, real_training_set_size=30, online_training_set_size=3, trial_index=2, num_samples=100, accuracy=0.6651999950408936, crossentropy=1.4142157744747847),\n",
       "   OBIPerformance(total_training_set_size=33, real_training_set_size=30, online_training_set_size=3, trial_index=3, num_samples=100, accuracy=0.6765999794006348, crossentropy=1.5898312683172524),\n",
       "   OBIPerformance(total_training_set_size=33, real_training_set_size=30, online_training_set_size=3, trial_index=4, num_samples=100, accuracy=0.6394000053405762, crossentropy=1.7385163196039393),\n",
       "   OBIPerformance(total_training_set_size=34, real_training_set_size=30, online_training_set_size=4, trial_index=0, num_samples=10, accuracy=0.6730999946594238, crossentropy=1.6124593873953357),\n",
       "   OBIPerformance(total_training_set_size=34, real_training_set_size=30, online_training_set_size=4, trial_index=1, num_samples=10, accuracy=0.6614999771118164, crossentropy=1.5500862244402387),\n",
       "   OBIPerformance(total_training_set_size=34, real_training_set_size=30, online_training_set_size=4, trial_index=2, num_samples=10, accuracy=0.6341000199317932, crossentropy=2.8499686744612482),\n",
       "   OBIPerformance(total_training_set_size=34, real_training_set_size=30, online_training_set_size=4, trial_index=3, num_samples=10, accuracy=0.6245999932289124, crossentropy=2.225383406484064),\n",
       "   OBIPerformance(total_training_set_size=34, real_training_set_size=30, online_training_set_size=4, trial_index=4, num_samples=10, accuracy=0.6699000000953674, crossentropy=2.43924555588654),\n",
       "   OBIPerformance(total_training_set_size=34, real_training_set_size=30, online_training_set_size=4, trial_index=0, num_samples=100, accuracy=0.6434000134468079, crossentropy=1.4408952797417467),\n",
       "   OBIPerformance(total_training_set_size=34, real_training_set_size=30, online_training_set_size=4, trial_index=1, num_samples=100, accuracy=0.6736999750137329, crossentropy=1.2670047682392436),\n",
       "   OBIPerformance(total_training_set_size=34, real_training_set_size=30, online_training_set_size=4, trial_index=2, num_samples=100, accuracy=0.675000011920929, crossentropy=1.2566334408193587),\n",
       "   OBIPerformance(total_training_set_size=34, real_training_set_size=30, online_training_set_size=4, trial_index=3, num_samples=100, accuracy=0.663100004196167, crossentropy=1.3139963246928392),\n",
       "   OBIPerformance(total_training_set_size=34, real_training_set_size=30, online_training_set_size=4, trial_index=4, num_samples=100, accuracy=0.6377999782562256, crossentropy=1.7989955081662152),\n",
       "   OBIPerformance(total_training_set_size=35, real_training_set_size=30, online_training_set_size=5, trial_index=0, num_samples=10, accuracy=0.6337000131607056, crossentropy=1.621878388148549),\n",
       "   OBIPerformance(total_training_set_size=35, real_training_set_size=30, online_training_set_size=5, trial_index=1, num_samples=10, accuracy=0.6068999767303467, crossentropy=1.5787162078077182),\n",
       "   OBIPerformance(total_training_set_size=35, real_training_set_size=30, online_training_set_size=5, trial_index=2, num_samples=10, accuracy=0.6740000247955322, crossentropy=2.3762723518704676),\n",
       "   OBIPerformance(total_training_set_size=35, real_training_set_size=30, online_training_set_size=5, trial_index=3, num_samples=10, accuracy=0.6470000147819519, crossentropy=1.3758278633622474),\n",
       "   OBIPerformance(total_training_set_size=35, real_training_set_size=30, online_training_set_size=5, trial_index=4, num_samples=10, accuracy=0.6256999969482422, crossentropy=2.247413437185756),\n",
       "   OBIPerformance(total_training_set_size=35, real_training_set_size=30, online_training_set_size=5, trial_index=0, num_samples=100, accuracy=0.6180999875068665, crossentropy=1.6989354545876478),\n",
       "   OBIPerformance(total_training_set_size=35, real_training_set_size=30, online_training_set_size=5, trial_index=1, num_samples=100, accuracy=0.6244000196456909, crossentropy=1.652026832367172),\n",
       "   OBIPerformance(total_training_set_size=35, real_training_set_size=30, online_training_set_size=5, trial_index=2, num_samples=100, accuracy=0.6097999811172485, crossentropy=1.75485667395258),\n",
       "   OBIPerformance(total_training_set_size=35, real_training_set_size=30, online_training_set_size=5, trial_index=3, num_samples=100, accuracy=0.6632999777793884, crossentropy=1.2801276899349716),\n",
       "   OBIPerformance(total_training_set_size=35, real_training_set_size=30, online_training_set_size=5, trial_index=4, num_samples=100, accuracy=0.6279000043869019, crossentropy=1.6459553694103917),\n",
       "   OBIPerformance(total_training_set_size=36, real_training_set_size=30, online_training_set_size=6, trial_index=0, num_samples=10, accuracy=0.6018999814987183, crossentropy=2.438453357602158),\n",
       "   OBIPerformance(total_training_set_size=36, real_training_set_size=30, online_training_set_size=6, trial_index=1, num_samples=10, accuracy=0.5849999785423279, crossentropy=1.941975553342779),\n",
       "   OBIPerformance(total_training_set_size=36, real_training_set_size=30, online_training_set_size=6, trial_index=2, num_samples=10, accuracy=0.6477000117301941, crossentropy=1.3948290968555317),\n",
       "   OBIPerformance(total_training_set_size=36, real_training_set_size=30, online_training_set_size=6, trial_index=3, num_samples=10, accuracy=0.5821999907493591, crossentropy=2.782713331242634),\n",
       "   OBIPerformance(total_training_set_size=36, real_training_set_size=30, online_training_set_size=6, trial_index=4, num_samples=10, accuracy=0.6599000096321106, crossentropy=1.7235108682882736),\n",
       "   OBIPerformance(total_training_set_size=36, real_training_set_size=30, online_training_set_size=6, trial_index=0, num_samples=100, accuracy=0.6244999766349792, crossentropy=2.1108565640522605),\n",
       "   OBIPerformance(total_training_set_size=36, real_training_set_size=30, online_training_set_size=6, trial_index=1, num_samples=100, accuracy=0.6154999732971191, crossentropy=1.6200696691320677),\n",
       "   OBIPerformance(total_training_set_size=36, real_training_set_size=30, online_training_set_size=6, trial_index=2, num_samples=100, accuracy=0.616599977016449, crossentropy=1.5560327729411818),\n",
       "   OBIPerformance(total_training_set_size=36, real_training_set_size=30, online_training_set_size=6, trial_index=3, num_samples=100, accuracy=0.6302000284194946, crossentropy=1.9502134978798218),\n",
       "   OBIPerformance(total_training_set_size=36, real_training_set_size=30, online_training_set_size=6, trial_index=4, num_samples=100, accuracy=0.6137999892234802, crossentropy=2.329690273102308),\n",
       "   OBIPerformance(total_training_set_size=37, real_training_set_size=30, online_training_set_size=7, trial_index=0, num_samples=10, accuracy=0.6700000166893005, crossentropy=1.2903394765002443),\n",
       "   OBIPerformance(total_training_set_size=37, real_training_set_size=30, online_training_set_size=7, trial_index=1, num_samples=10, accuracy=0.6624000072479248, crossentropy=1.6861538863940442),\n",
       "   OBIPerformance(total_training_set_size=37, real_training_set_size=30, online_training_set_size=7, trial_index=2, num_samples=10, accuracy=0.6636999845504761, crossentropy=1.707168538409896),\n",
       "   OBIPerformance(total_training_set_size=37, real_training_set_size=30, online_training_set_size=7, trial_index=3, num_samples=10, accuracy=0.6327000260353088, crossentropy=1.435496116435163),\n",
       "   OBIPerformance(total_training_set_size=37, real_training_set_size=30, online_training_set_size=7, trial_index=4, num_samples=10, accuracy=0.6366999745368958, crossentropy=1.696861206913655),\n",
       "   OBIPerformance(total_training_set_size=37, real_training_set_size=30, online_training_set_size=7, trial_index=0, num_samples=100, accuracy=0.5985000133514404, crossentropy=1.5828351865074972),\n",
       "   OBIPerformance(total_training_set_size=37, real_training_set_size=30, online_training_set_size=7, trial_index=1, num_samples=100, accuracy=0.6148999929428101, crossentropy=1.858025368344777),\n",
       "   OBIPerformance(total_training_set_size=37, real_training_set_size=30, online_training_set_size=7, trial_index=2, num_samples=100, accuracy=0.6151000261306763, crossentropy=1.797645964622296),\n",
       "   OBIPerformance(total_training_set_size=37, real_training_set_size=30, online_training_set_size=7, trial_index=3, num_samples=100, accuracy=0.583899974822998, crossentropy=1.900472710284993),\n",
       "   OBIPerformance(total_training_set_size=37, real_training_set_size=30, online_training_set_size=7, trial_index=4, num_samples=100, accuracy=0.5837000012397766, crossentropy=1.9078268146905382),\n",
       "   OBIPerformance(total_training_set_size=38, real_training_set_size=30, online_training_set_size=8, trial_index=0, num_samples=10, accuracy=0.6468999981880188, crossentropy=1.3773340618385852),\n",
       "   OBIPerformance(total_training_set_size=38, real_training_set_size=30, online_training_set_size=8, trial_index=1, num_samples=10, accuracy=0.5841000080108643, crossentropy=1.6926345731538186),\n",
       "   OBIPerformance(total_training_set_size=38, real_training_set_size=30, online_training_set_size=8, trial_index=2, num_samples=10, accuracy=0.5989999771118164, crossentropy=2.1149583038456012),\n",
       "   OBIPerformance(total_training_set_size=38, real_training_set_size=30, online_training_set_size=8, trial_index=3, num_samples=10, accuracy=0.6309000253677368, crossentropy=2.549013394315134),\n",
       "   OBIPerformance(total_training_set_size=38, real_training_set_size=30, online_training_set_size=8, trial_index=4, num_samples=10, accuracy=0.5242000222206116, crossentropy=2.5725474325188245),\n",
       "   OBIPerformance(total_training_set_size=38, real_training_set_size=30, online_training_set_size=8, trial_index=0, num_samples=100, accuracy=0.6284000277519226, crossentropy=1.4928710347176422),\n",
       "   OBIPerformance(total_training_set_size=38, real_training_set_size=30, online_training_set_size=8, trial_index=1, num_samples=100, accuracy=0.650600016117096, crossentropy=1.2694906775073143),\n",
       "   OBIPerformance(total_training_set_size=38, real_training_set_size=30, online_training_set_size=8, trial_index=2, num_samples=100, accuracy=0.6337000131607056, crossentropy=1.32450354602736),\n",
       "   OBIPerformance(total_training_set_size=38, real_training_set_size=30, online_training_set_size=8, trial_index=3, num_samples=100, accuracy=0.5835000276565552, crossentropy=1.9356446377142213),\n",
       "   OBIPerformance(total_training_set_size=38, real_training_set_size=30, online_training_set_size=8, trial_index=4, num_samples=100, accuracy=0.6478000283241272, crossentropy=1.3522311789602597),\n",
       "   OBIPerformance(total_training_set_size=39, real_training_set_size=30, online_training_set_size=9, trial_index=0, num_samples=10, accuracy=0.6452999711036682, crossentropy=2.2725632833513627),\n",
       "   OBIPerformance(total_training_set_size=39, real_training_set_size=30, online_training_set_size=9, trial_index=1, num_samples=10, accuracy=0.6504999995231628, crossentropy=1.5006043189246367),\n",
       "   OBIPerformance(total_training_set_size=39, real_training_set_size=30, online_training_set_size=9, trial_index=2, num_samples=10, accuracy=0.6496999859809875, crossentropy=1.9761713030065653),\n",
       "   OBIPerformance(total_training_set_size=39, real_training_set_size=30, online_training_set_size=9, trial_index=3, num_samples=10, accuracy=0.6543999910354614, crossentropy=2.230876908722793),\n",
       "   OBIPerformance(total_training_set_size=39, real_training_set_size=30, online_training_set_size=9, trial_index=4, num_samples=10, accuracy=0.6137999892234802, crossentropy=2.5416660894777885),\n",
       "   OBIPerformance(total_training_set_size=39, real_training_set_size=30, online_training_set_size=9, trial_index=0, num_samples=100, accuracy=0.5835000276565552, crossentropy=1.9363986560383157),\n",
       "   OBIPerformance(total_training_set_size=39, real_training_set_size=30, online_training_set_size=9, trial_index=1, num_samples=100, accuracy=0.5835000276565552, crossentropy=1.9363860123499559),\n",
       "   OBIPerformance(total_training_set_size=39, real_training_set_size=30, online_training_set_size=9, trial_index=2, num_samples=100, accuracy=0.659600019454956, crossentropy=1.4345601121815714),\n",
       "   OBIPerformance(total_training_set_size=39, real_training_set_size=30, online_training_set_size=9, trial_index=3, num_samples=100, accuracy=0.6470999717712402, crossentropy=1.370131597463961),\n",
       "   OBIPerformance(total_training_set_size=39, real_training_set_size=30, online_training_set_size=9, trial_index=4, num_samples=100, accuracy=0.5838000178337097, crossentropy=1.8621107786563578),\n",
       "   OBIPerformance(total_training_set_size=40, real_training_set_size=30, online_training_set_size=10, trial_index=0, num_samples=10, accuracy=0.6657999753952026, crossentropy=2.257695189509324),\n",
       "   OBIPerformance(total_training_set_size=40, real_training_set_size=30, online_training_set_size=10, trial_index=1, num_samples=10, accuracy=0.656000018119812, crossentropy=1.9094349899939305),\n",
       "   OBIPerformance(total_training_set_size=40, real_training_set_size=30, online_training_set_size=10, trial_index=2, num_samples=10, accuracy=0.6468999981880188, crossentropy=1.3773340619232308),\n",
       "   OBIPerformance(total_training_set_size=40, real_training_set_size=30, online_training_set_size=10, trial_index=3, num_samples=10, accuracy=0.6468999981880188, crossentropy=1.3773340616290546),\n",
       "   OBIPerformance(total_training_set_size=40, real_training_set_size=30, online_training_set_size=10, trial_index=4, num_samples=10, accuracy=0.5821999907493591, crossentropy=2.6430894823362987),\n",
       "   OBIPerformance(total_training_set_size=40, real_training_set_size=30, online_training_set_size=10, trial_index=0, num_samples=100, accuracy=0.6136999726295471, crossentropy=1.377590983900062),\n",
       "   OBIPerformance(total_training_set_size=40, real_training_set_size=30, online_training_set_size=10, trial_index=1, num_samples=100, accuracy=0.6057000160217285, crossentropy=1.444698800121636),\n",
       "   OBIPerformance(total_training_set_size=40, real_training_set_size=30, online_training_set_size=10, trial_index=2, num_samples=100, accuracy=0.6468999981880188, crossentropy=1.3767018222480536),\n",
       "   OBIPerformance(total_training_set_size=40, real_training_set_size=30, online_training_set_size=10, trial_index=3, num_samples=100, accuracy=0.669700026512146, crossentropy=1.2587810059010185),\n",
       "   OBIPerformance(total_training_set_size=40, real_training_set_size=30, online_training_set_size=10, trial_index=4, num_samples=100, accuracy=0.6468999981880188, crossentropy=1.3773262465297014)]],\n",
       " 'active_learning_steps': [{'training': {'epochs': [{'accuracy': 0.498046875,\n",
       "      'crossentropy': 1.6982649564743042},\n",
       "     {'accuracy': 0.5888671875, 'crossentropy': 1.4402198791503906},\n",
       "     {'accuracy': 0.5654296875, 'crossentropy': 1.6309633255004883},\n",
       "     {'accuracy': 0.5732421875, 'crossentropy': 1.6977273225784302},\n",
       "     {'accuracy': 0.57421875, 'crossentropy': 1.7026183605194092},\n",
       "     {'accuracy': 0.556640625, 'crossentropy': 1.87465500831604},\n",
       "     {'accuracy': 0.5830078125, 'crossentropy': 1.8215177059173584},\n",
       "     {'accuracy': 0.576171875, 'crossentropy': 1.8394629955291748},\n",
       "     {'accuracy': 0.556640625, 'crossentropy': 1.8409117460250854},\n",
       "     {'accuracy': 0.5771484375, 'crossentropy': 1.8598860502243042},\n",
       "     {'accuracy': 0.5751953125, 'crossentropy': 1.8028939962387085},\n",
       "     {'accuracy': 0.5830078125, 'crossentropy': 1.797486424446106},\n",
       "     {'accuracy': 0.5849609375, 'crossentropy': 1.8238229751586914},\n",
       "     {'accuracy': 0.5869140625, 'crossentropy': 1.8789403438568115},\n",
       "     {'accuracy': 0.5791015625, 'crossentropy': 1.8765678405761719},\n",
       "     {'accuracy': 0.556640625, 'crossentropy': 1.9669631719589233},\n",
       "     {'accuracy': 0.5625, 'crossentropy': 2.0490760803222656},\n",
       "     {'accuracy': 0.5869140625, 'crossentropy': 1.8095895051956177},\n",
       "     {'accuracy': 0.5810546875, 'crossentropy': 1.956794261932373},\n",
       "     {'accuracy': 0.5849609375, 'crossentropy': 2.0158591270446777},\n",
       "     {'accuracy': 0.5439453125, 'crossentropy': 2.0667121410369873},\n",
       "     {'accuracy': 0.568359375, 'crossentropy': 2.01694917678833}],\n",
       "    'best_epoch': 1},\n",
       "   'evaluation_metrics': {'accuracy': 0.5835,\n",
       "    'crossentropy': 1.39644130859375,\n",
       "    '_timestamp': 1650146633,\n",
       "    '_runtime': 23},\n",
       "   'acquisition': {'indices': [17776, 36852, 26891, 17001, 44414]}},\n",
       "  {'training': {'epochs': [{'accuracy': 0.392578125,\n",
       "      'crossentropy': 1.7610929012298584},\n",
       "     {'accuracy': 0.580078125, 'crossentropy': 1.499049186706543},\n",
       "     {'accuracy': 0.578125, 'crossentropy': 1.642911672592163},\n",
       "     {'accuracy': 0.5888671875, 'crossentropy': 1.6243882179260254},\n",
       "     {'accuracy': 0.599609375, 'crossentropy': 1.553757667541504},\n",
       "     {'accuracy': 0.6044921875, 'crossentropy': 1.6975044012069702},\n",
       "     {'accuracy': 0.5712890625, 'crossentropy': 1.8377858400344849},\n",
       "     {'accuracy': 0.5712890625, 'crossentropy': 1.9138169288635254},\n",
       "     {'accuracy': 0.5888671875, 'crossentropy': 1.722456932067871},\n",
       "     {'accuracy': 0.5810546875, 'crossentropy': 1.8387601375579834},\n",
       "     {'accuracy': 0.5615234375, 'crossentropy': 1.9316930770874023},\n",
       "     {'accuracy': 0.564453125, 'crossentropy': 2.07055401802063},\n",
       "     {'accuracy': 0.5771484375, 'crossentropy': 1.830942153930664},\n",
       "     {'accuracy': 0.5859375, 'crossentropy': 1.721291184425354},\n",
       "     {'accuracy': 0.5830078125, 'crossentropy': 2.021444797515869},\n",
       "     {'accuracy': 0.5478515625, 'crossentropy': 2.004549741744995},\n",
       "     {'accuracy': 0.5712890625, 'crossentropy': 2.0528836250305176},\n",
       "     {'accuracy': 0.57421875, 'crossentropy': 1.9162685871124268},\n",
       "     {'accuracy': 0.5947265625, 'crossentropy': 1.8648276329040527},\n",
       "     {'accuracy': 0.595703125, 'crossentropy': 2.074589729309082},\n",
       "     {'accuracy': 0.5908203125, 'crossentropy': 1.8965049982070923},\n",
       "     {'accuracy': 0.5986328125, 'crossentropy': 1.8511106967926025},\n",
       "     {'accuracy': 0.5888671875, 'crossentropy': 1.79728102684021},\n",
       "     {'accuracy': 0.56640625, 'crossentropy': 2.104839563369751},\n",
       "     {'accuracy': 0.5625, 'crossentropy': 2.0135533809661865},\n",
       "     {'accuracy': 0.576171875, 'crossentropy': 1.929125189781189}],\n",
       "    'best_epoch': 5},\n",
       "   'evaluation_metrics': {'accuracy': 0.6058,\n",
       "    'crossentropy': 1.6094099609375,\n",
       "    '_timestamp': 1650146660,\n",
       "    '_runtime': 50},\n",
       "   'acquisition': {'indices': [23050, 30884, 41516, 8897, 34608]}},\n",
       "  {'training': {'epochs': [{'accuracy': 0.384765625,\n",
       "      'crossentropy': 1.8451828956604004},\n",
       "     {'accuracy': 0.5068359375, 'crossentropy': 1.4651920795440674},\n",
       "     {'accuracy': 0.5791015625, 'crossentropy': 1.3441417217254639},\n",
       "     {'accuracy': 0.59375, 'crossentropy': 1.2797155380249023},\n",
       "     {'accuracy': 0.6044921875, 'crossentropy': 1.2529510259628296},\n",
       "     {'accuracy': 0.5869140625, 'crossentropy': 1.4234411716461182},\n",
       "     {'accuracy': 0.6103515625, 'crossentropy': 1.368377923965454},\n",
       "     {'accuracy': 0.6044921875, 'crossentropy': 1.4224683046340942},\n",
       "     {'accuracy': 0.619140625, 'crossentropy': 1.3120524883270264},\n",
       "     {'accuracy': 0.5986328125, 'crossentropy': 1.4843430519104004},\n",
       "     {'accuracy': 0.630859375, 'crossentropy': 1.2483532428741455},\n",
       "     {'accuracy': 0.6201171875, 'crossentropy': 1.359853982925415},\n",
       "     {'accuracy': 0.6435546875, 'crossentropy': 1.3114601373672485},\n",
       "     {'accuracy': 0.64453125, 'crossentropy': 1.2504527568817139},\n",
       "     {'accuracy': 0.625, 'crossentropy': 1.3473081588745117},\n",
       "     {'accuracy': 0.619140625, 'crossentropy': 1.3479756116867065},\n",
       "     {'accuracy': 0.6279296875, 'crossentropy': 1.3399513959884644},\n",
       "     {'accuracy': 0.625, 'crossentropy': 1.4034274816513062},\n",
       "     {'accuracy': 0.6494140625, 'crossentropy': 1.3031257390975952},\n",
       "     {'accuracy': 0.625, 'crossentropy': 1.38523268699646},\n",
       "     {'accuracy': 0.615234375, 'crossentropy': 1.5263015031814575},\n",
       "     {'accuracy': 0.6318359375, 'crossentropy': 1.4069820642471313},\n",
       "     {'accuracy': 0.63671875, 'crossentropy': 1.325340986251831},\n",
       "     {'accuracy': 0.619140625, 'crossentropy': 1.4355727434158325},\n",
       "     {'accuracy': 0.607421875, 'crossentropy': 1.5232502222061157},\n",
       "     {'accuracy': 0.6298828125, 'crossentropy': 1.3429975509643555},\n",
       "     {'accuracy': 0.6064453125, 'crossentropy': 1.5156619548797607},\n",
       "     {'accuracy': 0.625, 'crossentropy': 1.4553465843200684},\n",
       "     {'accuracy': 0.6435546875, 'crossentropy': 1.378708004951477},\n",
       "     {'accuracy': 0.6455078125, 'crossentropy': 1.3057401180267334},\n",
       "     {'accuracy': 0.623046875, 'crossentropy': 1.4687678813934326},\n",
       "     {'accuracy': 0.6259765625, 'crossentropy': 1.5313355922698975},\n",
       "     {'accuracy': 0.671875, 'crossentropy': 1.4225190877914429},\n",
       "     {'accuracy': 0.658203125, 'crossentropy': 1.3263912200927734},\n",
       "     {'accuracy': 0.6201171875, 'crossentropy': 1.5050984621047974},\n",
       "     {'accuracy': 0.6552734375, 'crossentropy': 1.3476742506027222},\n",
       "     {'accuracy': 0.642578125, 'crossentropy': 1.3577030897140503},\n",
       "     {'accuracy': 0.6162109375, 'crossentropy': 1.4826518297195435},\n",
       "     {'accuracy': 0.6689453125, 'crossentropy': 1.1885735988616943},\n",
       "     {'accuracy': 0.625, 'crossentropy': 1.386590600013733},\n",
       "     {'accuracy': 0.6416015625, 'crossentropy': 1.3295832872390747},\n",
       "     {'accuracy': 0.65234375, 'crossentropy': 1.3120930194854736},\n",
       "     {'accuracy': 0.6572265625, 'crossentropy': 1.375509262084961},\n",
       "     {'accuracy': 0.650390625, 'crossentropy': 1.4387462139129639},\n",
       "     {'accuracy': 0.654296875, 'crossentropy': 1.3311309814453125},\n",
       "     {'accuracy': 0.6328125, 'crossentropy': 1.388687014579773},\n",
       "     {'accuracy': 0.6318359375, 'crossentropy': 1.413032054901123},\n",
       "     {'accuracy': 0.646484375, 'crossentropy': 1.3818559646606445},\n",
       "     {'accuracy': 0.6337890625, 'crossentropy': 1.4675642251968384},\n",
       "     {'accuracy': 0.6259765625, 'crossentropy': 1.480331301689148},\n",
       "     {'accuracy': 0.630859375, 'crossentropy': 1.3433988094329834},\n",
       "     {'accuracy': 0.6416015625, 'crossentropy': 1.3653669357299805},\n",
       "     {'accuracy': 0.6357421875, 'crossentropy': 1.3764736652374268}],\n",
       "    'best_epoch': 32},\n",
       "   'evaluation_metrics': {'accuracy': 0.6791,\n",
       "    'crossentropy': 1.2912138671875,\n",
       "    '_timestamp': 1650146696,\n",
       "    '_runtime': 86},\n",
       "   'acquisition': {'indices': [11721, 13127, 9870, 39700, 13985]}},\n",
       "  {'training': {'epochs': [{'accuracy': 0.2861328125,\n",
       "      'crossentropy': 2.0189788341522217},\n",
       "     {'accuracy': 0.5595703125, 'crossentropy': 1.376032829284668},\n",
       "     {'accuracy': 0.6162109375, 'crossentropy': 1.3099182844161987},\n",
       "     {'accuracy': 0.6328125, 'crossentropy': 1.242930293083191},\n",
       "     {'accuracy': 0.6494140625, 'crossentropy': 1.209563136100769},\n",
       "     {'accuracy': 0.646484375, 'crossentropy': 1.3501644134521484},\n",
       "     {'accuracy': 0.66015625, 'crossentropy': 1.276748776435852},\n",
       "     {'accuracy': 0.65234375, 'crossentropy': 1.3631401062011719},\n",
       "     {'accuracy': 0.65625, 'crossentropy': 1.3457051515579224},\n",
       "     {'accuracy': 0.6533203125, 'crossentropy': 1.25152587890625},\n",
       "     {'accuracy': 0.6728515625, 'crossentropy': 1.284234642982483},\n",
       "     {'accuracy': 0.66015625, 'crossentropy': 1.304644227027893},\n",
       "     {'accuracy': 0.6455078125, 'crossentropy': 1.334561824798584},\n",
       "     {'accuracy': 0.642578125, 'crossentropy': 1.3373467922210693},\n",
       "     {'accuracy': 0.677734375, 'crossentropy': 1.3325796127319336},\n",
       "     {'accuracy': 0.6669921875, 'crossentropy': 1.2678810358047485},\n",
       "     {'accuracy': 0.65234375, 'crossentropy': 1.3493870496749878},\n",
       "     {'accuracy': 0.6513671875, 'crossentropy': 1.4422907829284668},\n",
       "     {'accuracy': 0.666015625, 'crossentropy': 1.402571439743042},\n",
       "     {'accuracy': 0.6689453125, 'crossentropy': 1.4179450273513794},\n",
       "     {'accuracy': 0.66015625, 'crossentropy': 1.2956926822662354},\n",
       "     {'accuracy': 0.6572265625, 'crossentropy': 1.413398027420044},\n",
       "     {'accuracy': 0.66796875, 'crossentropy': 1.2732652425765991},\n",
       "     {'accuracy': 0.6728515625, 'crossentropy': 1.2829333543777466},\n",
       "     {'accuracy': 0.6630859375, 'crossentropy': 1.2925512790679932},\n",
       "     {'accuracy': 0.6640625, 'crossentropy': 1.3245954513549805},\n",
       "     {'accuracy': 0.6669921875, 'crossentropy': 1.3267536163330078},\n",
       "     {'accuracy': 0.658203125, 'crossentropy': 1.3234596252441406},\n",
       "     {'accuracy': 0.6787109375, 'crossentropy': 1.320326805114746},\n",
       "     {'accuracy': 0.6630859375, 'crossentropy': 1.3857308626174927},\n",
       "     {'accuracy': 0.673828125, 'crossentropy': 1.2790052890777588},\n",
       "     {'accuracy': 0.6650390625, 'crossentropy': 1.3205260038375854},\n",
       "     {'accuracy': 0.666015625, 'crossentropy': 1.3766523599624634},\n",
       "     {'accuracy': 0.6689453125, 'crossentropy': 1.2650502920150757},\n",
       "     {'accuracy': 0.6728515625, 'crossentropy': 1.3205281496047974},\n",
       "     {'accuracy': 0.677734375, 'crossentropy': 1.349450945854187},\n",
       "     {'accuracy': 0.6767578125, 'crossentropy': 1.3711493015289307},\n",
       "     {'accuracy': 0.66796875, 'crossentropy': 1.366260051727295},\n",
       "     {'accuracy': 0.6767578125, 'crossentropy': 1.2759532928466797},\n",
       "     {'accuracy': 0.6806640625, 'crossentropy': 1.337022304534912},\n",
       "     {'accuracy': 0.68359375, 'crossentropy': 1.300515055656433},\n",
       "     {'accuracy': 0.671875, 'crossentropy': 1.4049433469772339},\n",
       "     {'accuracy': 0.6630859375, 'crossentropy': 1.339883804321289},\n",
       "     {'accuracy': 0.6884765625, 'crossentropy': 1.215468168258667},\n",
       "     {'accuracy': 0.6572265625, 'crossentropy': 1.3123524188995361},\n",
       "     {'accuracy': 0.6533203125, 'crossentropy': 1.2819137573242188},\n",
       "     {'accuracy': 0.69921875, 'crossentropy': 1.073171615600586},\n",
       "     {'accuracy': 0.6728515625, 'crossentropy': 1.360499620437622},\n",
       "     {'accuracy': 0.685546875, 'crossentropy': 1.3186885118484497},\n",
       "     {'accuracy': 0.6806640625, 'crossentropy': 1.2420796155929565},\n",
       "     {'accuracy': 0.6728515625, 'crossentropy': 1.2878775596618652},\n",
       "     {'accuracy': 0.67578125, 'crossentropy': 1.3673439025878906},\n",
       "     {'accuracy': 0.6640625, 'crossentropy': 1.4459720849990845},\n",
       "     {'accuracy': 0.6591796875, 'crossentropy': 1.4396723508834839},\n",
       "     {'accuracy': 0.64453125, 'crossentropy': 1.3584870100021362},\n",
       "     {'accuracy': 0.677734375, 'crossentropy': 1.239335536956787},\n",
       "     {'accuracy': 0.669921875, 'crossentropy': 1.235924243927002},\n",
       "     {'accuracy': 0.6572265625, 'crossentropy': 1.4290560483932495},\n",
       "     {'accuracy': 0.66796875, 'crossentropy': 1.2773425579071045},\n",
       "     {'accuracy': 0.662109375, 'crossentropy': 1.2364497184753418},\n",
       "     {'accuracy': 0.6865234375, 'crossentropy': 1.2086702585220337},\n",
       "     {'accuracy': 0.677734375, 'crossentropy': 1.243868350982666},\n",
       "     {'accuracy': 0.673828125, 'crossentropy': 1.318315029144287},\n",
       "     {'accuracy': 0.6708984375, 'crossentropy': 1.3837350606918335},\n",
       "     {'accuracy': 0.6591796875, 'crossentropy': 1.3592121601104736},\n",
       "     {'accuracy': 0.6640625, 'crossentropy': 1.3860594034194946},\n",
       "     {'accuracy': 0.6787109375, 'crossentropy': 1.261418342590332}],\n",
       "    'best_epoch': 46},\n",
       "   'evaluation_metrics': {'accuracy': 0.7008,\n",
       "    'crossentropy': 1.1200462890625,\n",
       "    '_timestamp': 1650146737,\n",
       "    '_runtime': 127}}]}"
      ]
     },
     "execution_count": null,
     "metadata": {},
     "output_type": "execute_result"
    }
   ],
   "source": [
    "results"
   ]
  },
  {
   "cell_type": "code",
   "execution_count": null,
   "metadata": {},
   "outputs": [],
   "source": [
    "# exports\n",
    "\n",
    "configs = [\n",
    "    Experiment(\n",
    "        seed=seed,\n",
    "        acquisition_size=acquisition_size,\n",
    "        num_pool_samples=num_pool_samples,\n",
    "    )\n",
    "    for seed in range(1)\n",
    "    for acquisition_size in [5]\n",
    "    for num_pool_samples in [100]\n",
    "]\n",
    "\n",
    "if not is_run_from_ipython() and __name__ == \"__main__\":\n",
    "    for job_id, store in embedded_experiments(__file__, len(configs)):\n",
    "        config = configs[job_id]\n",
    "        config.seed += job_id\n",
    "        print(config)\n",
    "        store[\"config\"] = dataclasses.asdict(config)\n",
    "        store[\"log\"] = {}\n",
    "\n",
    "        try:\n",
    "            config.run(store=store)\n",
    "        except Exception:\n",
    "            store[\"exception\"] = traceback.format_exc()\n",
    "            raise"
   ]
  },
  {
   "cell_type": "code",
   "execution_count": null,
   "metadata": {},
   "outputs": [
    {
     "data": {
      "text/plain": [
       "1"
      ]
     },
     "execution_count": null,
     "metadata": {},
     "output_type": "execute_result"
    }
   ],
   "source": [
    "len(configs)"
   ]
  },
  {
   "cell_type": "code",
   "execution_count": null,
   "metadata": {},
   "outputs": [
    {
     "name": "stdout",
     "output_type": "stream",
     "text": [
      "[Experiment(seed=0, num_pool_samples=100)]\n",
      "\n"
     ]
    },
    {
     "data": {
      "text/html": [
       "Waiting for W&B process to finish... <strong style=\"color:green\">(success).</strong>"
      ],
      "text/plain": [
       "<IPython.core.display.HTML object>"
      ]
     },
     "metadata": {},
     "output_type": "display_data"
    },
    {
     "data": {
      "application/vnd.jupyter.widget-view+json": {
       "model_id": "",
       "version_major": 2,
       "version_minor": 0
      },
      "text/plain": [
       "VBox(children=(Label(value='0.015 MB of 0.015 MB uploaded (0.000 MB deduped)\\r'), FloatProgress(value=1.0, max…"
      ]
     },
     "metadata": {},
     "output_type": "display_data"
    },
    {
     "data": {
      "text/html": [
       "<style>\n",
       "    table.wandb td:nth-child(1) { padding: 0 10px; text-align: right }\n",
       "    .wandb-row { display: flex; flex-direction: row; flex-wrap: wrap; width: 100% }\n",
       "    .wandb-col { display: flex; flex-direction: column; flex-basis: 100%; flex: 1; padding: 10px; }\n",
       "    </style>\n",
       "<div class=\"wandb-row\"><div class=\"wandb-col\"><h3>Run history:</h3><br/><table class=\"wandb\"><tr><td>accuracy</td><td>▁▂▇█</td></tr><tr><td>crossentropy</td><td>▅█▃▁</td></tr><tr><td>model_training/best_epoch</td><td>▁▂▆█</td></tr><tr><td>model_training/best_val_accuracy</td><td>▁▂▆█</td></tr><tr><td>model_training/best_val_crossentropy</td><td>▅█▅▁</td></tr></table><br/></div><div class=\"wandb-col\"><h3>Run summary:</h3><br/><table class=\"wandb\"><tr><td>accuracy</td><td>0.7008</td></tr><tr><td>crossentropy</td><td>1.12005</td></tr><tr><td>model_training/best_epoch</td><td>46</td></tr><tr><td>model_training/best_val_accuracy</td><td>0.69922</td></tr><tr><td>model_training/best_val_crossentropy</td><td>1.07317</td></tr></table><br/></div></div>"
      ],
      "text/plain": [
       "<IPython.core.display.HTML object>"
      ]
     },
     "metadata": {},
     "output_type": "display_data"
    },
    {
     "data": {
      "text/html": [
       "Synced <strong style=\"color:#cdcd00\">rose-durian-280</strong>: <a href=\"https://wandb.ai/oatml-andreas-kirsch/balds/runs/sa8pzazv\" target=\"_blank\">https://wandb.ai/oatml-andreas-kirsch/balds/runs/sa8pzazv</a><br/>Synced 6 W&B file(s), 4 media file(s), 4 artifact file(s) and 0 other file(s)"
      ],
      "text/plain": [
       "<IPython.core.display.HTML object>"
      ]
     },
     "metadata": {},
     "output_type": "display_data"
    },
    {
     "data": {
      "text/html": [
       "Find logs at: <code>./wandb/run-20220416_230325-sa8pzazv/logs</code>"
      ],
      "text/plain": [
       "<IPython.core.display.HTML object>"
      ]
     },
     "metadata": {},
     "output_type": "display_data"
    }
   ],
   "source": [
    "# slow\n",
    "import prettyprinter\n",
    "\n",
    "prettyprinter.install_extras(include={\"dataclasses\"})\n",
    "\n",
    "prettyprinter.pprint(configs)"
   ]
  },
  {
   "cell_type": "code",
   "execution_count": null,
   "metadata": {},
   "outputs": [],
   "source": []
  }
 ],
 "metadata": {
  "kernelspec": {
   "display_name": "Python [conda env:active_learning]",
   "language": "python",
   "name": "conda-env-active_learning-py"
  }
 },
 "nbformat": 4,
 "nbformat_minor": 4
}
