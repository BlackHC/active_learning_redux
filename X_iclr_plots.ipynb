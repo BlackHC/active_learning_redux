{
 "cells": [
  {
   "cell_type": "markdown",
   "metadata": {},
   "source": [
    "# Results Visualizations\n",
    "> Ignorance is strength"
   ]
  },
  {
   "cell_type": "code",
   "execution_count": null,
   "metadata": {},
   "outputs": [],
   "source": [
    "# hide\n",
    "import blackhc.project.script"
   ]
  },
  {
   "cell_type": "code",
   "execution_count": null,
   "metadata": {},
   "outputs": [],
   "source": [
    "import matplotlib.pyplot as plt\n",
    "from matplotlib import rc\n",
    "\n",
    "# MatPlotLib style and settings (that also affect PlotNine)\n",
    "\n",
    "rc(\"text\", usetex=False)\n",
    "rc(\n",
    "    \"text.latex\",\n",
    "    preamble=r\"\"\"\n",
    "\\usepackage{bbm}\n",
    "\\usepackage{amsmath}\n",
    "\\usepackage{amsfonts}\n",
    "\"\"\",\n",
    ")"
   ]
  },
  {
   "cell_type": "code",
   "execution_count": null,
   "metadata": {},
   "outputs": [],
   "source": [
    "import collections\n",
    "import functools\n",
    "import math\n",
    "import os\n",
    "import re\n",
    "from collections import namedtuple\n",
    "from dataclasses import dataclass\n",
    "from typing import NamedTuple\n",
    "\n",
    "import laaos\n",
    "import pandas as pd\n",
    "import seaborn as sns"
   ]
  },
  {
   "cell_type": "code",
   "execution_count": null,
   "metadata": {},
   "outputs": [],
   "source": [
    "import pandas as pd"
   ]
  },
  {
   "cell_type": "code",
   "execution_count": null,
   "metadata": {},
   "outputs": [],
   "source": [
    "df = pd.read_pickle(\"plots_data/epig_vs_evalbald_bald.pkl\")"
   ]
  },
  {
   "cell_type": "code",
   "execution_count": null,
   "metadata": {},
   "outputs": [
    {
     "data": {
      "text/html": [
       "<div>\n",
       "<style scoped>\n",
       "    .dataframe tbody tr th:only-of-type {\n",
       "        vertical-align: middle;\n",
       "    }\n",
       "\n",
       "    .dataframe tbody tr th {\n",
       "        vertical-align: top;\n",
       "    }\n",
       "\n",
       "    .dataframe thead th {\n",
       "        text-align: right;\n",
       "    }\n",
       "</style>\n",
       "<table border=\"1\" class=\"dataframe\">\n",
       "  <thead>\n",
       "    <tr style=\"text-align: right;\">\n",
       "      <th></th>\n",
       "      <th>acquisition_function</th>\n",
       "      <th>acquisition_size</th>\n",
       "      <th>num_pool_samples</th>\n",
       "      <th>training_set_size</th>\n",
       "      <th>accuracy</th>\n",
       "      <th>nll</th>\n",
       "      <th>seed</th>\n",
       "    </tr>\n",
       "  </thead>\n",
       "  <tbody>\n",
       "    <tr>\n",
       "      <th>0</th>\n",
       "      <td>EPIG</td>\n",
       "      <td>1</td>\n",
       "      <td>100</td>\n",
       "      <td>20</td>\n",
       "      <td>0.7213</td>\n",
       "      <td>0.974201</td>\n",
       "      <td>8957</td>\n",
       "    </tr>\n",
       "    <tr>\n",
       "      <th>1</th>\n",
       "      <td>EPIG</td>\n",
       "      <td>1</td>\n",
       "      <td>100</td>\n",
       "      <td>21</td>\n",
       "      <td>0.7177</td>\n",
       "      <td>1.008765</td>\n",
       "      <td>8957</td>\n",
       "    </tr>\n",
       "    <tr>\n",
       "      <th>2</th>\n",
       "      <td>EPIG</td>\n",
       "      <td>1</td>\n",
       "      <td>100</td>\n",
       "      <td>22</td>\n",
       "      <td>0.7081</td>\n",
       "      <td>1.034328</td>\n",
       "      <td>8957</td>\n",
       "    </tr>\n",
       "    <tr>\n",
       "      <th>3</th>\n",
       "      <td>EPIG</td>\n",
       "      <td>1</td>\n",
       "      <td>100</td>\n",
       "      <td>23</td>\n",
       "      <td>0.7276</td>\n",
       "      <td>1.001319</td>\n",
       "      <td>8957</td>\n",
       "    </tr>\n",
       "    <tr>\n",
       "      <th>4</th>\n",
       "      <td>EPIG</td>\n",
       "      <td>1</td>\n",
       "      <td>100</td>\n",
       "      <td>24</td>\n",
       "      <td>0.7431</td>\n",
       "      <td>0.905125</td>\n",
       "      <td>8957</td>\n",
       "    </tr>\n",
       "    <tr>\n",
       "      <th>...</th>\n",
       "      <td>...</td>\n",
       "      <td>...</td>\n",
       "      <td>...</td>\n",
       "      <td>...</td>\n",
       "      <td>...</td>\n",
       "      <td>...</td>\n",
       "      <td>...</td>\n",
       "    </tr>\n",
       "    <tr>\n",
       "      <th>1510</th>\n",
       "      <td>BALD</td>\n",
       "      <td>1</td>\n",
       "      <td>100</td>\n",
       "      <td>116</td>\n",
       "      <td>0.9221</td>\n",
       "      <td>0.279627</td>\n",
       "      <td>8947</td>\n",
       "    </tr>\n",
       "    <tr>\n",
       "      <th>1511</th>\n",
       "      <td>BALD</td>\n",
       "      <td>1</td>\n",
       "      <td>100</td>\n",
       "      <td>117</td>\n",
       "      <td>0.9166</td>\n",
       "      <td>0.267996</td>\n",
       "      <td>8947</td>\n",
       "    </tr>\n",
       "    <tr>\n",
       "      <th>1512</th>\n",
       "      <td>BALD</td>\n",
       "      <td>1</td>\n",
       "      <td>100</td>\n",
       "      <td>118</td>\n",
       "      <td>0.9125</td>\n",
       "      <td>0.320064</td>\n",
       "      <td>8947</td>\n",
       "    </tr>\n",
       "    <tr>\n",
       "      <th>1513</th>\n",
       "      <td>BALD</td>\n",
       "      <td>1</td>\n",
       "      <td>100</td>\n",
       "      <td>119</td>\n",
       "      <td>0.9108</td>\n",
       "      <td>0.293049</td>\n",
       "      <td>8947</td>\n",
       "    </tr>\n",
       "    <tr>\n",
       "      <th>1514</th>\n",
       "      <td>BALD</td>\n",
       "      <td>1</td>\n",
       "      <td>100</td>\n",
       "      <td>120</td>\n",
       "      <td>0.9263</td>\n",
       "      <td>0.299894</td>\n",
       "      <td>8947</td>\n",
       "    </tr>\n",
       "  </tbody>\n",
       "</table>\n",
       "<p>1515 rows × 7 columns</p>\n",
       "</div>"
      ],
      "text/plain": [
       "     acquisition_function  acquisition_size  num_pool_samples  \\\n",
       "0                    EPIG                 1               100   \n",
       "1                    EPIG                 1               100   \n",
       "2                    EPIG                 1               100   \n",
       "3                    EPIG                 1               100   \n",
       "4                    EPIG                 1               100   \n",
       "...                   ...               ...               ...   \n",
       "1510                 BALD                 1               100   \n",
       "1511                 BALD                 1               100   \n",
       "1512                 BALD                 1               100   \n",
       "1513                 BALD                 1               100   \n",
       "1514                 BALD                 1               100   \n",
       "\n",
       "      training_set_size  accuracy       nll  seed  \n",
       "0                    20    0.7213  0.974201  8957  \n",
       "1                    21    0.7177  1.008765  8957  \n",
       "2                    22    0.7081  1.034328  8957  \n",
       "3                    23    0.7276  1.001319  8957  \n",
       "4                    24    0.7431  0.905125  8957  \n",
       "...                 ...       ...       ...   ...  \n",
       "1510                116    0.9221  0.279627  8947  \n",
       "1511                117    0.9166  0.267996  8947  \n",
       "1512                118    0.9125  0.320064  8947  \n",
       "1513                119    0.9108  0.293049  8947  \n",
       "1514                120    0.9263  0.299894  8947  \n",
       "\n",
       "[1515 rows x 7 columns]"
      ]
     },
     "execution_count": null,
     "metadata": {},
     "output_type": "execute_result"
    }
   ],
   "source": [
    "df"
   ]
  },
  {
   "cell_type": "code",
   "execution_count": null,
   "metadata": {},
   "outputs": [
    {
     "data": {
      "text/plain": [
       "array([1])"
      ]
     },
     "execution_count": null,
     "metadata": {},
     "output_type": "execute_result"
    }
   ],
   "source": [
    "df.acquisition_size.unique()"
   ]
  },
  {
   "cell_type": "code",
   "execution_count": null,
   "metadata": {},
   "outputs": [
    {
     "data": {
      "text/plain": [
       "array(['EPIG', 'EvalBALD', 'BALD'], dtype=object)"
      ]
     },
     "execution_count": null,
     "metadata": {},
     "output_type": "execute_result"
    }
   ],
   "source": [
    "df.acquisition_function.unique()"
   ]
  },
  {
   "cell_type": "code",
   "execution_count": null,
   "metadata": {},
   "outputs": [],
   "source": [
    "eval_bald_nice_acquisition_function_map = {\n",
    "    \"EPIG\": \"EPIG (ours)\",\n",
    "    \"EvalBALD\": \"JEPIG (ours)\",\n",
    "    \"BALD\": \"BALD\",\n",
    "}\n",
    "\n",
    "\n",
    "def to_eval_bald_nice_acquisition_function(n):\n",
    "    return eval_bald_nice_acquisition_function_map[n]"
   ]
  },
  {
   "cell_type": "code",
   "execution_count": null,
   "metadata": {},
   "outputs": [],
   "source": [
    "df[\"eval_bald_acquisition_function\"] = df.acquisition_function.map(eval_bald_nice_acquisition_function_map)"
   ]
  },
  {
   "cell_type": "code",
   "execution_count": null,
   "metadata": {},
   "outputs": [
    {
     "data": {
      "text/html": [
       "<svg  width=\"330\" height=\"55\"><rect x=\"0\" y=\"0\" width=\"55\" height=\"55\" style=\"fill:#0072b2;stroke-width:2;stroke:rgb(255,255,255)\"/><rect x=\"55\" y=\"0\" width=\"55\" height=\"55\" style=\"fill:#009e73;stroke-width:2;stroke:rgb(255,255,255)\"/><rect x=\"110\" y=\"0\" width=\"55\" height=\"55\" style=\"fill:#d55e00;stroke-width:2;stroke:rgb(255,255,255)\"/><rect x=\"165\" y=\"0\" width=\"55\" height=\"55\" style=\"fill:#cc79a7;stroke-width:2;stroke:rgb(255,255,255)\"/><rect x=\"220\" y=\"0\" width=\"55\" height=\"55\" style=\"fill:#f0e442;stroke-width:2;stroke:rgb(255,255,255)\"/><rect x=\"275\" y=\"0\" width=\"55\" height=\"55\" style=\"fill:#56b4e9;stroke-width:2;stroke:rgb(255,255,255)\"/></svg>"
      ],
      "text/plain": [
       "[(0.0, 0.4470588235294118, 0.6980392156862745),\n",
       " (0.0, 0.6196078431372549, 0.45098039215686275),\n",
       " (0.8352941176470589, 0.3686274509803922, 0.0),\n",
       " (0.8, 0.4745098039215686, 0.6549019607843137),\n",
       " (0.9411764705882353, 0.8941176470588236, 0.25882352941176473),\n",
       " (0.33725490196078434, 0.7058823529411765, 0.9137254901960784)]"
      ]
     },
     "execution_count": null,
     "metadata": {},
     "output_type": "execute_result"
    }
   ],
   "source": [
    "plt.style.use(\"seaborn-colorblind\")\n",
    "sns.set_style(\"whitegrid\")\n",
    "sns.color_palette()"
   ]
  },
  {
   "cell_type": "code",
   "execution_count": null,
   "metadata": {},
   "outputs": [],
   "source": [
    "def plt_save(grd, output_path, **kwargs):\n",
    "    # plt.style.use(\"seaborn-colorblind\")\n",
    "    grd.savefig(output_path, transparent=True, bbox_inches=\"tight\", pad_inches=0, **kwargs)"
   ]
  },
  {
   "cell_type": "code",
   "execution_count": null,
   "metadata": {},
   "outputs": [
    {
     "data": {
      "text/html": [
       "<svg  width=\"550\" height=\"55\"><rect x=\"0\" y=\"0\" width=\"55\" height=\"55\" style=\"fill:#0173b2;stroke-width:2;stroke:rgb(255,255,255)\"/><rect x=\"55\" y=\"0\" width=\"55\" height=\"55\" style=\"fill:#de8f05;stroke-width:2;stroke:rgb(255,255,255)\"/><rect x=\"110\" y=\"0\" width=\"55\" height=\"55\" style=\"fill:#029e73;stroke-width:2;stroke:rgb(255,255,255)\"/><rect x=\"165\" y=\"0\" width=\"55\" height=\"55\" style=\"fill:#d55e00;stroke-width:2;stroke:rgb(255,255,255)\"/><rect x=\"220\" y=\"0\" width=\"55\" height=\"55\" style=\"fill:#cc78bc;stroke-width:2;stroke:rgb(255,255,255)\"/><rect x=\"275\" y=\"0\" width=\"55\" height=\"55\" style=\"fill:#ca9161;stroke-width:2;stroke:rgb(255,255,255)\"/><rect x=\"330\" y=\"0\" width=\"55\" height=\"55\" style=\"fill:#fbafe4;stroke-width:2;stroke:rgb(255,255,255)\"/><rect x=\"385\" y=\"0\" width=\"55\" height=\"55\" style=\"fill:#949494;stroke-width:2;stroke:rgb(255,255,255)\"/><rect x=\"440\" y=\"0\" width=\"55\" height=\"55\" style=\"fill:#ece133;stroke-width:2;stroke:rgb(255,255,255)\"/><rect x=\"495\" y=\"0\" width=\"55\" height=\"55\" style=\"fill:#56b4e9;stroke-width:2;stroke:rgb(255,255,255)\"/></svg>"
      ],
      "text/plain": [
       "[(0.00392156862745098, 0.45098039215686275, 0.6980392156862745),\n",
       " (0.8705882352941177, 0.5607843137254902, 0.0196078431372549),\n",
       " (0.00784313725490196, 0.6196078431372549, 0.45098039215686275),\n",
       " (0.8352941176470589, 0.3686274509803922, 0.0),\n",
       " (0.8, 0.47058823529411764, 0.7372549019607844),\n",
       " (0.792156862745098, 0.5686274509803921, 0.3803921568627451),\n",
       " (0.984313725490196, 0.6862745098039216, 0.8941176470588236),\n",
       " (0.5803921568627451, 0.5803921568627451, 0.5803921568627451),\n",
       " (0.9254901960784314, 0.8823529411764706, 0.2),\n",
       " (0.33725490196078434, 0.7058823529411765, 0.9137254901960784)]"
      ]
     },
     "execution_count": null,
     "metadata": {},
     "output_type": "execute_result"
    }
   ],
   "source": [
    "sns.color_palette(\"colorblind\")"
   ]
  },
  {
   "cell_type": "code",
   "execution_count": null,
   "metadata": {},
   "outputs": [
    {
     "data": {
      "image/png": "[encoded data removed]",
      "text/plain": [
       "<Figure size 360x225 with 1 Axes>"
      ]
     },
     "metadata": {},
     "output_type": "display_data"
    }
   ],
   "source": [
    "# (Batch)EvaluationBALD vs (Batch)BALD\n",
    "fig = plt.figure(figsize=(5,5/1.6))\n",
    "sns.lineplot(\n",
    "    x=\"training_set_size\",\n",
    "    y=\"accuracy\",\n",
    "    hue=\"eval_bald_acquisition_function\",\n",
    "    data=df,\n",
    "    palette=[sns.color_palette(\"colorblind\")[i] for i in [0,1,4]],\n",
    "    hue_order=list(\n",
    "        map(\n",
    "            to_eval_bald_nice_acquisition_function,\n",
    "            [\n",
    "                \"EPIG\",\n",
    "                \"EvalBALD\",\n",
    "                \"BALD\",\n",
    "            ],\n",
    "        )\n",
    "    ),\n",
    ")\n",
    "\n",
    "plt.xlabel(\"Training Set Size (Individual Acquisition)\")\n",
    "plt.ylabel(\"Accuracy\")\n",
    "#plt.title(\"MNIST Acquisition Size = 1\")\n",
    "plt.gca().get_legend().set_title(\"Acquisition Function\")\n",
    "plt.axhline(0.90, color=\"red\", linestyle=\"--\", alpha=0.25)\n",
    "plt.tight_layout()\n",
    "\n",
    "plt.show()"
   ]
  },
  {
   "cell_type": "code",
   "execution_count": null,
   "metadata": {},
   "outputs": [],
   "source": [
    "plt_save(fig, \"plots/epig_vs_epigbald_bald.pdf\")"
   ]
  },
  {
   "cell_type": "code",
   "execution_count": null,
   "metadata": {},
   "outputs": [
    {
     "ename": "AttributeError",
     "evalue": "'numpy.ndarray' object has no attribute 'axhline'",
     "output_type": "error",
     "traceback": [
      "\u001b[0;31m---------------------------------------------------------------------------\u001b[0m",
      "\u001b[0;31mAttributeError\u001b[0m                            Traceback (most recent call last)",
      "\u001b[0;32m<ipython-input-24-4ac87cb3fef4>\u001b[0m in \u001b[0;36m<module>\u001b[0;34m\u001b[0m\n\u001b[1;32m     30\u001b[0m \u001b[0;32mfor\u001b[0m \u001b[0mi\u001b[0m \u001b[0;32min\u001b[0m \u001b[0mrange\u001b[0m\u001b[0;34m(\u001b[0m\u001b[0;36m1\u001b[0m\u001b[0;34m)\u001b[0m\u001b[0;34m:\u001b[0m\u001b[0;34m\u001b[0m\u001b[0;34m\u001b[0m\u001b[0m\n\u001b[1;32m     31\u001b[0m     \u001b[0;31m#grd.axes[i].axhline(0.95, color=\"red\", linestyle=\"--\", alpha=0.25)\u001b[0m\u001b[0;34m\u001b[0m\u001b[0;34m\u001b[0m\u001b[0;34m\u001b[0m\u001b[0m\n\u001b[0;32m---> 32\u001b[0;31m     \u001b[0mgrd\u001b[0m\u001b[0;34m.\u001b[0m\u001b[0maxes\u001b[0m\u001b[0;34m[\u001b[0m\u001b[0mi\u001b[0m\u001b[0;34m]\u001b[0m\u001b[0;34m.\u001b[0m\u001b[0maxhline\u001b[0m\u001b[0;34m(\u001b[0m\u001b[0;36m0.90\u001b[0m\u001b[0;34m,\u001b[0m \u001b[0mcolor\u001b[0m\u001b[0;34m=\u001b[0m\u001b[0;34m\"red\"\u001b[0m\u001b[0;34m,\u001b[0m \u001b[0mlinestyle\u001b[0m\u001b[0;34m=\u001b[0m\u001b[0;34m\"--\"\u001b[0m\u001b[0;34m,\u001b[0m \u001b[0malpha\u001b[0m\u001b[0;34m=\u001b[0m\u001b[0;36m0.25\u001b[0m\u001b[0;34m)\u001b[0m\u001b[0;34m\u001b[0m\u001b[0;34m\u001b[0m\u001b[0m\n\u001b[0m\u001b[1;32m     33\u001b[0m \u001b[0;34m\u001b[0m\u001b[0m\n\u001b[1;32m     34\u001b[0m \u001b[0mhandles\u001b[0m\u001b[0;34m,\u001b[0m \u001b[0mlabels\u001b[0m \u001b[0;34m=\u001b[0m \u001b[0mgrd\u001b[0m\u001b[0;34m.\u001b[0m\u001b[0maxes\u001b[0m\u001b[0;34m[\u001b[0m\u001b[0;36m0\u001b[0m\u001b[0;34m]\u001b[0m\u001b[0;34m.\u001b[0m\u001b[0mget_legend_handles_labels\u001b[0m\u001b[0;34m(\u001b[0m\u001b[0;34m)\u001b[0m\u001b[0;34m\u001b[0m\u001b[0;34m\u001b[0m\u001b[0m\n",
      "\u001b[0;31mAttributeError\u001b[0m: 'numpy.ndarray' object has no attribute 'axhline'"
     ]
    },
    {
     "data": {
      "image/png": "[encoded data removed]",
      "text/plain": [
       "<Figure size 341.125x288 with 1 Axes>"
      ]
     },
     "metadata": {},
     "output_type": "display_data"
    }
   ],
   "source": [
    "# (Batch)EvaluationBALD vs (Batch)BALD\n",
    "grd = sns.relplot(\n",
    "    x=\"training_set_size\",\n",
    "    y=\"accuracy\",\n",
    "    col=\"acquisition_size\",\n",
    "    #col_wrap=2,\n",
    "    hue=\"eval_bald_acquisition_function\",\n",
    "    data=df,\n",
    "    kind=\"line\",\n",
    "    height=4,\n",
    "    aspect=1/1.6,\n",
    "    hue_order=list(\n",
    "        map(\n",
    "            to_eval_bald_nice_acquisition_function,\n",
    "            [\n",
    "                \"EPIG\",\n",
    "                \"EvalBALD\",\n",
    "                \"BALD\",\n",
    "            ],\n",
    "        )\n",
    "    ),\n",
    ")\n",
    "\n",
    "grd.set_xlabels(\"Training Set Size\")\n",
    "grd.set_ylabels(\"Accuracy\")\n",
    "grd._legend.set_title(\"Acquisition Function\")\n",
    "grd.set_titles(\"Acquisition Size = {col_name}\")\n",
    "grd.tight_layout()\n",
    "\n",
    "for i in range(1):\n",
    "    #grd.axes[i].axhline(0.95, color=\"red\", linestyle=\"--\", alpha=0.25)\n",
    "    grd.axes[i].axhline(0.90, color=\"red\", linestyle=\"--\", alpha=0.25)\n",
    "\n",
    "handles, labels = grd.axes[0].get_legend_handles_labels()\n",
    "#grd._legend.remove()\n",
    "#grd.fig.legend(handles, labels, ncol=3, loc='lower left', title=\"Acquisition Function\",\n",
    "#                bbox_to_anchor=(0.05, -0.10), frameon=False)"
   ]
  },
  {
   "cell_type": "code",
   "execution_count": null,
   "metadata": {},
   "outputs": [],
   "source": []
  },
  {
   "cell_type": "code",
   "execution_count": null,
   "metadata": {},
   "outputs": [
    {
     "ename": "KeyError",
     "evalue": "'baldical'",
     "output_type": "error",
     "traceback": [
      "\u001b[0;31m---------------------------------------------------------------------------\u001b[0m",
      "\u001b[0;31mKeyError\u001b[0m                                  Traceback (most recent call last)",
      "\u001b[0;32m<ipython-input-25-755c9a38adf1>\u001b[0m in \u001b[0;36m<module>\u001b[0;34m\u001b[0m\n\u001b[1;32m     20\u001b[0m     \u001b[0mheight\u001b[0m\u001b[0;34m=\u001b[0m\u001b[0;36m2.5\u001b[0m\u001b[0;34m,\u001b[0m\u001b[0;34m\u001b[0m\u001b[0;34m\u001b[0m\u001b[0m\n\u001b[1;32m     21\u001b[0m     \u001b[0maspect\u001b[0m\u001b[0;34m=\u001b[0m\u001b[0;36m2\u001b[0m\u001b[0;34m/\u001b[0m\u001b[0;36m1.6\u001b[0m\u001b[0;34m,\u001b[0m\u001b[0;34m\u001b[0m\u001b[0;34m\u001b[0m\u001b[0m\n\u001b[0;32m---> 22\u001b[0;31m     hue_order=list(\n\u001b[0m\u001b[1;32m     23\u001b[0m         map(\n\u001b[1;32m     24\u001b[0m             \u001b[0mto_eval_bald_nice_acquisition_function\u001b[0m\u001b[0;34m,\u001b[0m\u001b[0;34m\u001b[0m\u001b[0;34m\u001b[0m\u001b[0m\n",
      "\u001b[0;32m<ipython-input-17-e6f1098fca5b>\u001b[0m in \u001b[0;36mto_eval_bald_nice_acquisition_function\u001b[0;34m(n)\u001b[0m\n\u001b[1;32m      7\u001b[0m \u001b[0;34m\u001b[0m\u001b[0m\n\u001b[1;32m      8\u001b[0m \u001b[0;32mdef\u001b[0m \u001b[0mto_eval_bald_nice_acquisition_function\u001b[0m\u001b[0;34m(\u001b[0m\u001b[0mn\u001b[0m\u001b[0;34m)\u001b[0m\u001b[0;34m:\u001b[0m\u001b[0;34m\u001b[0m\u001b[0;34m\u001b[0m\u001b[0m\n\u001b[0;32m----> 9\u001b[0;31m     \u001b[0;32mreturn\u001b[0m \u001b[0meval_bald_nice_acquisition_function_map\u001b[0m\u001b[0;34m[\u001b[0m\u001b[0mn\u001b[0m\u001b[0;34m]\u001b[0m\u001b[0;34m\u001b[0m\u001b[0;34m\u001b[0m\u001b[0m\n\u001b[0m",
      "\u001b[0;31mKeyError\u001b[0m: 'baldical'"
     ]
    }
   ],
   "source": [
    "# (Batch)EvaluationBALD vs (Batch)BALD\n",
    "grd = sns.relplot(\n",
    "    x=\"training_set_size\",\n",
    "    y=\"accuracy\",\n",
    "    col=\"acquisition_size\",\n",
    "    col_wrap=2,\n",
    "    hue=\"eval_bald_nice_acquisition_function_map\",\n",
    "    data=df[\n",
    "        df[\"acquisition_function\"].isin(\n",
    "            [\n",
    "                \"baldical\",\n",
    "                \"random\",\n",
    "                \"bald\",\n",
    "                \"ical\",\n",
    "            ]\n",
    "        ) &\n",
    "        df[\"acquisition_size\"].isin([5,10])\n",
    "    ], #.sample(frac=0.01),\n",
    "    kind=\"line\",\n",
    "    height=2.5,\n",
    "    aspect=2/1.6,\n",
    "    hue_order=list(\n",
    "        map(\n",
    "            to_eval_bald_nice_acquisition_function,\n",
    "            [\n",
    "                \"baldical\",\n",
    "                \"bald\",\n",
    "                \"random\",\n",
    "                \"ical\",\n",
    "            ],\n",
    "        )\n",
    "    ),\n",
    ")\n",
    "\n",
    "grd.set_xlabels(\"Training Set Size\")\n",
    "grd.set_ylabels(\"Accuracy\")\n",
    "grd._legend.set_title(\"Acquisition Function\")\n",
    "grd.set_titles(\"Acquisition Size = {col_name}\")\n",
    "grd.tight_layout()\n",
    "\n",
    "handles, labels = grd.axes[0].get_legend_handles_labels()\n",
    "grd._legend.remove()\n",
    "grd.fig.legend(handles, labels, ncol=4, loc='lower left', title=\"Acquisition Function\",\n",
    "                bbox_to_anchor=(0.04, -0.05), frameon=False)"
   ]
  },
  {
   "cell_type": "code",
   "execution_count": null,
   "metadata": {},
   "outputs": [
    {
     "ename": "AttributeError",
     "evalue": "'DataFrame' object has no attribute 'temperature'",
     "output_type": "error",
     "traceback": [
      "\u001b[0;31m---------------------------------------------------------------------------\u001b[0m",
      "\u001b[0;31mAttributeError\u001b[0m                            Traceback (most recent call last)",
      "\u001b[0;32m<ipython-input-26-47729c987924>\u001b[0m in \u001b[0;36m<module>\u001b[0;34m\u001b[0m\n\u001b[0;32m----> 1\u001b[0;31m \u001b[0mdf\u001b[0m\u001b[0;34m[\u001b[0m\u001b[0mdf\u001b[0m\u001b[0;34m.\u001b[0m\u001b[0macquisition_function\u001b[0m \u001b[0;34m==\u001b[0m \u001b[0;34m\"temperedbald\"\u001b[0m\u001b[0;34m]\u001b[0m\u001b[0;34m.\u001b[0m\u001b[0mtemperature\u001b[0m\u001b[0;34m.\u001b[0m\u001b[0munique\u001b[0m\u001b[0;34m(\u001b[0m\u001b[0;34m)\u001b[0m\u001b[0;34m\u001b[0m\u001b[0;34m\u001b[0m\u001b[0m\n\u001b[0m",
      "\u001b[0;32m~/anaconda3/envs/active_learning/lib/python3.8/site-packages/pandas/core/generic.py\u001b[0m in \u001b[0;36m__getattr__\u001b[0;34m(self, name)\u001b[0m\n\u001b[1;32m   5139\u001b[0m             \u001b[0;32mif\u001b[0m \u001b[0mself\u001b[0m\u001b[0;34m.\u001b[0m\u001b[0m_info_axis\u001b[0m\u001b[0;34m.\u001b[0m\u001b[0m_can_hold_identifiers_and_holds_name\u001b[0m\u001b[0;34m(\u001b[0m\u001b[0mname\u001b[0m\u001b[0;34m)\u001b[0m\u001b[0;34m:\u001b[0m\u001b[0;34m\u001b[0m\u001b[0;34m\u001b[0m\u001b[0m\n\u001b[1;32m   5140\u001b[0m                 \u001b[0;32mreturn\u001b[0m \u001b[0mself\u001b[0m\u001b[0;34m[\u001b[0m\u001b[0mname\u001b[0m\u001b[0;34m]\u001b[0m\u001b[0;34m\u001b[0m\u001b[0;34m\u001b[0m\u001b[0m\n\u001b[0;32m-> 5141\u001b[0;31m             \u001b[0;32mreturn\u001b[0m \u001b[0mobject\u001b[0m\u001b[0;34m.\u001b[0m\u001b[0m__getattribute__\u001b[0m\u001b[0;34m(\u001b[0m\u001b[0mself\u001b[0m\u001b[0;34m,\u001b[0m \u001b[0mname\u001b[0m\u001b[0;34m)\u001b[0m\u001b[0;34m\u001b[0m\u001b[0;34m\u001b[0m\u001b[0m\n\u001b[0m\u001b[1;32m   5142\u001b[0m \u001b[0;34m\u001b[0m\u001b[0m\n\u001b[1;32m   5143\u001b[0m     \u001b[0;32mdef\u001b[0m \u001b[0m__setattr__\u001b[0m\u001b[0;34m(\u001b[0m\u001b[0mself\u001b[0m\u001b[0;34m,\u001b[0m \u001b[0mname\u001b[0m\u001b[0;34m:\u001b[0m \u001b[0mstr\u001b[0m\u001b[0;34m,\u001b[0m \u001b[0mvalue\u001b[0m\u001b[0;34m)\u001b[0m \u001b[0;34m->\u001b[0m \u001b[0;32mNone\u001b[0m\u001b[0;34m:\u001b[0m\u001b[0;34m\u001b[0m\u001b[0;34m\u001b[0m\u001b[0m\n",
      "\u001b[0;31mAttributeError\u001b[0m: 'DataFrame' object has no attribute 'temperature'"
     ]
    }
   ],
   "source": [
    "df[df.acquisition_function == \"temperedbald\"].temperature.unique()"
   ]
  },
  {
   "cell_type": "code",
   "execution_count": null,
   "metadata": {},
   "outputs": [
    {
     "ename": "KeyError",
     "evalue": "'temperature'",
     "output_type": "error",
     "traceback": [
      "\u001b[0;31m---------------------------------------------------------------------------\u001b[0m",
      "\u001b[0;31mKeyError\u001b[0m                                  Traceback (most recent call last)",
      "\u001b[0;32m~/anaconda3/envs/active_learning/lib/python3.8/site-packages/pandas/core/indexes/base.py\u001b[0m in \u001b[0;36mget_loc\u001b[0;34m(self, key, method, tolerance)\u001b[0m\n\u001b[1;32m   2897\u001b[0m             \u001b[0;32mtry\u001b[0m\u001b[0;34m:\u001b[0m\u001b[0;34m\u001b[0m\u001b[0;34m\u001b[0m\u001b[0m\n\u001b[0;32m-> 2898\u001b[0;31m                 \u001b[0;32mreturn\u001b[0m \u001b[0mself\u001b[0m\u001b[0;34m.\u001b[0m\u001b[0m_engine\u001b[0m\u001b[0;34m.\u001b[0m\u001b[0mget_loc\u001b[0m\u001b[0;34m(\u001b[0m\u001b[0mcasted_key\u001b[0m\u001b[0;34m)\u001b[0m\u001b[0;34m\u001b[0m\u001b[0;34m\u001b[0m\u001b[0m\n\u001b[0m\u001b[1;32m   2899\u001b[0m             \u001b[0;32mexcept\u001b[0m \u001b[0mKeyError\u001b[0m \u001b[0;32mas\u001b[0m \u001b[0merr\u001b[0m\u001b[0;34m:\u001b[0m\u001b[0;34m\u001b[0m\u001b[0;34m\u001b[0m\u001b[0m\n",
      "\u001b[0;32mpandas/_libs/index.pyx\u001b[0m in \u001b[0;36mpandas._libs.index.IndexEngine.get_loc\u001b[0;34m()\u001b[0m\n",
      "\u001b[0;32mpandas/_libs/index.pyx\u001b[0m in \u001b[0;36mpandas._libs.index.IndexEngine.get_loc\u001b[0;34m()\u001b[0m\n",
      "\u001b[0;32mpandas/_libs/hashtable_class_helper.pxi\u001b[0m in \u001b[0;36mpandas._libs.hashtable.PyObjectHashTable.get_item\u001b[0;34m()\u001b[0m\n",
      "\u001b[0;32mpandas/_libs/hashtable_class_helper.pxi\u001b[0m in \u001b[0;36mpandas._libs.hashtable.PyObjectHashTable.get_item\u001b[0;34m()\u001b[0m\n",
      "\u001b[0;31mKeyError\u001b[0m: 'temperature'",
      "\nThe above exception was the direct cause of the following exception:\n",
      "\u001b[0;31mKeyError\u001b[0m                                  Traceback (most recent call last)",
      "\u001b[0;32m<ipython-input-27-c326cd9d4d26>\u001b[0m in \u001b[0;36m<module>\u001b[0;34m\u001b[0m\n\u001b[1;32m     18\u001b[0m             ]\n\u001b[1;32m     19\u001b[0m         )\n\u001b[0;32m---> 20\u001b[0;31m         \u001b[0;34m&\u001b[0m \u001b[0;34m(\u001b[0m\u001b[0;34m(\u001b[0m\u001b[0mdf\u001b[0m\u001b[0;34m[\u001b[0m\u001b[0;34m\"temperature\"\u001b[0m\u001b[0;34m]\u001b[0m \u001b[0;34m==\u001b[0m \u001b[0;36m0\u001b[0m\u001b[0;34m)\u001b[0m \u001b[0;34m|\u001b[0m \u001b[0;34m(\u001b[0m\u001b[0mdf\u001b[0m\u001b[0;34m[\u001b[0m\u001b[0;34m\"temperature\"\u001b[0m\u001b[0;34m]\u001b[0m \u001b[0;34m==\u001b[0m \u001b[0;36m8.0\u001b[0m\u001b[0;34m)\u001b[0m\u001b[0;34m)\u001b[0m\u001b[0;34m\u001b[0m\u001b[0;34m\u001b[0m\u001b[0m\n\u001b[0m\u001b[1;32m     21\u001b[0m     ],\n\u001b[1;32m     22\u001b[0m     \u001b[0mkind\u001b[0m\u001b[0;34m=\u001b[0m\u001b[0;34m\"line\"\u001b[0m\u001b[0;34m,\u001b[0m\u001b[0;34m\u001b[0m\u001b[0;34m\u001b[0m\u001b[0m\n",
      "\u001b[0;32m~/anaconda3/envs/active_learning/lib/python3.8/site-packages/pandas/core/frame.py\u001b[0m in \u001b[0;36m__getitem__\u001b[0;34m(self, key)\u001b[0m\n\u001b[1;32m   2904\u001b[0m             \u001b[0;32mif\u001b[0m \u001b[0mself\u001b[0m\u001b[0;34m.\u001b[0m\u001b[0mcolumns\u001b[0m\u001b[0;34m.\u001b[0m\u001b[0mnlevels\u001b[0m \u001b[0;34m>\u001b[0m \u001b[0;36m1\u001b[0m\u001b[0;34m:\u001b[0m\u001b[0;34m\u001b[0m\u001b[0;34m\u001b[0m\u001b[0m\n\u001b[1;32m   2905\u001b[0m                 \u001b[0;32mreturn\u001b[0m \u001b[0mself\u001b[0m\u001b[0;34m.\u001b[0m\u001b[0m_getitem_multilevel\u001b[0m\u001b[0;34m(\u001b[0m\u001b[0mkey\u001b[0m\u001b[0;34m)\u001b[0m\u001b[0;34m\u001b[0m\u001b[0;34m\u001b[0m\u001b[0m\n\u001b[0;32m-> 2906\u001b[0;31m             \u001b[0mindexer\u001b[0m \u001b[0;34m=\u001b[0m \u001b[0mself\u001b[0m\u001b[0;34m.\u001b[0m\u001b[0mcolumns\u001b[0m\u001b[0;34m.\u001b[0m\u001b[0mget_loc\u001b[0m\u001b[0;34m(\u001b[0m\u001b[0mkey\u001b[0m\u001b[0;34m)\u001b[0m\u001b[0;34m\u001b[0m\u001b[0;34m\u001b[0m\u001b[0m\n\u001b[0m\u001b[1;32m   2907\u001b[0m             \u001b[0;32mif\u001b[0m \u001b[0mis_integer\u001b[0m\u001b[0;34m(\u001b[0m\u001b[0mindexer\u001b[0m\u001b[0;34m)\u001b[0m\u001b[0;34m:\u001b[0m\u001b[0;34m\u001b[0m\u001b[0;34m\u001b[0m\u001b[0m\n\u001b[1;32m   2908\u001b[0m                 \u001b[0mindexer\u001b[0m \u001b[0;34m=\u001b[0m \u001b[0;34m[\u001b[0m\u001b[0mindexer\u001b[0m\u001b[0;34m]\u001b[0m\u001b[0;34m\u001b[0m\u001b[0;34m\u001b[0m\u001b[0m\n",
      "\u001b[0;32m~/anaconda3/envs/active_learning/lib/python3.8/site-packages/pandas/core/indexes/base.py\u001b[0m in \u001b[0;36mget_loc\u001b[0;34m(self, key, method, tolerance)\u001b[0m\n\u001b[1;32m   2898\u001b[0m                 \u001b[0;32mreturn\u001b[0m \u001b[0mself\u001b[0m\u001b[0;34m.\u001b[0m\u001b[0m_engine\u001b[0m\u001b[0;34m.\u001b[0m\u001b[0mget_loc\u001b[0m\u001b[0;34m(\u001b[0m\u001b[0mcasted_key\u001b[0m\u001b[0;34m)\u001b[0m\u001b[0;34m\u001b[0m\u001b[0;34m\u001b[0m\u001b[0m\n\u001b[1;32m   2899\u001b[0m             \u001b[0;32mexcept\u001b[0m \u001b[0mKeyError\u001b[0m \u001b[0;32mas\u001b[0m \u001b[0merr\u001b[0m\u001b[0;34m:\u001b[0m\u001b[0;34m\u001b[0m\u001b[0;34m\u001b[0m\u001b[0m\n\u001b[0;32m-> 2900\u001b[0;31m                 \u001b[0;32mraise\u001b[0m \u001b[0mKeyError\u001b[0m\u001b[0;34m(\u001b[0m\u001b[0mkey\u001b[0m\u001b[0;34m)\u001b[0m \u001b[0;32mfrom\u001b[0m \u001b[0merr\u001b[0m\u001b[0;34m\u001b[0m\u001b[0;34m\u001b[0m\u001b[0m\n\u001b[0m\u001b[1;32m   2901\u001b[0m \u001b[0;34m\u001b[0m\u001b[0m\n\u001b[1;32m   2902\u001b[0m         \u001b[0;32mif\u001b[0m \u001b[0mtolerance\u001b[0m \u001b[0;32mis\u001b[0m \u001b[0;32mnot\u001b[0m \u001b[0;32mNone\u001b[0m\u001b[0;34m:\u001b[0m\u001b[0;34m\u001b[0m\u001b[0;34m\u001b[0m\u001b[0m\n",
      "\u001b[0;31mKeyError\u001b[0m: 'temperature'"
     ]
    }
   ],
   "source": [
    "# Power(Evaluation)BALD vs Batch(Evaluation)BALD\n",
    "\n",
    "grd = sns.relplot(\n",
    "    x=\"training_set_size\",\n",
    "    y=\"accuracy\",\n",
    "    col=\"acquisition_size\",\n",
    "    col_wrap=2,\n",
    "    hue=\"power_bald_nice_acquisition_function_map\",\n",
    "    data=df[\n",
    "        df[\"acquisition_function\"].isin(\n",
    "            [\n",
    "                \"random\",\n",
    "                \"bald\",\n",
    "                \"batchbald\",\n",
    "                \"batchbaldical\",\n",
    "                \"temperedbald\",\n",
    "                \"temperedbaldical\",\n",
    "            ]\n",
    "        )\n",
    "        & ((df[\"temperature\"] == 0) | (df[\"temperature\"] == 8.0))\n",
    "    ],\n",
    "    kind=\"line\",\n",
    "    height=2.5,\n",
    "    aspect=1.6,\n",
    "    hue_order=list(\n",
    "        map(\n",
    "            to_power_bald_nice_acquisition_function,\n",
    "            [\n",
    "                \"temperedbaldical\",\n",
    "                \"temperedbald\",\n",
    "                \"batchbaldical\",\n",
    "                \"batchbald\",\n",
    "                \"random\",\n",
    "                \"bald\",\n",
    "            ],\n",
    "        )\n",
    "    ),\n",
    ")\n",
    "\n",
    "grd.set_xlabels(\"Training Set Size\")\n",
    "grd.set_ylabels(\"Accuracy\")\n",
    "#grd._legend.set_title()\n",
    "grd.set_titles(\"Acquisition Batch Size = {col_name}\")\n",
    "grd.tight_layout()\n",
    "handles, labels = grd.axes[0].get_legend_handles_labels()\n",
    "grd._legend.remove()\n",
    "grd.fig.legend(handles, labels, ncol=3, loc='lower left', title=\"Acquisition Function\",\n",
    "                bbox_to_anchor=(0.1, -0.15), frameon=False)\n",
    "#grd._legend.set_bbox_to_anchor((0.5, .0))"
   ]
  },
  {
   "cell_type": "code",
   "execution_count": null,
   "metadata": {},
   "outputs": [],
   "source": [
    "plt_save(grd, \"plots/icml_power_vs_batch.pdf\")"
   ]
  },
  {
   "cell_type": "code",
   "execution_count": null,
   "metadata": {},
   "outputs": [
    {
     "ename": "KeyError",
     "evalue": "'temperature'",
     "output_type": "error",
     "traceback": [
      "\u001b[0;31m---------------------------------------------------------------------------\u001b[0m",
      "\u001b[0;31mKeyError\u001b[0m                                  Traceback (most recent call last)",
      "\u001b[0;32m~/anaconda3/envs/active_learning/lib/python3.8/site-packages/pandas/core/indexes/base.py\u001b[0m in \u001b[0;36mget_loc\u001b[0;34m(self, key, method, tolerance)\u001b[0m\n\u001b[1;32m   2897\u001b[0m             \u001b[0;32mtry\u001b[0m\u001b[0;34m:\u001b[0m\u001b[0;34m\u001b[0m\u001b[0;34m\u001b[0m\u001b[0m\n\u001b[0;32m-> 2898\u001b[0;31m                 \u001b[0;32mreturn\u001b[0m \u001b[0mself\u001b[0m\u001b[0;34m.\u001b[0m\u001b[0m_engine\u001b[0m\u001b[0;34m.\u001b[0m\u001b[0mget_loc\u001b[0m\u001b[0;34m(\u001b[0m\u001b[0mcasted_key\u001b[0m\u001b[0;34m)\u001b[0m\u001b[0;34m\u001b[0m\u001b[0;34m\u001b[0m\u001b[0m\n\u001b[0m\u001b[1;32m   2899\u001b[0m             \u001b[0;32mexcept\u001b[0m \u001b[0mKeyError\u001b[0m \u001b[0;32mas\u001b[0m \u001b[0merr\u001b[0m\u001b[0;34m:\u001b[0m\u001b[0;34m\u001b[0m\u001b[0;34m\u001b[0m\u001b[0m\n",
      "\u001b[0;32mpandas/_libs/index.pyx\u001b[0m in \u001b[0;36mpandas._libs.index.IndexEngine.get_loc\u001b[0;34m()\u001b[0m\n",
      "\u001b[0;32mpandas/_libs/index.pyx\u001b[0m in \u001b[0;36mpandas._libs.index.IndexEngine.get_loc\u001b[0;34m()\u001b[0m\n",
      "\u001b[0;32mpandas/_libs/hashtable_class_helper.pxi\u001b[0m in \u001b[0;36mpandas._libs.hashtable.PyObjectHashTable.get_item\u001b[0;34m()\u001b[0m\n",
      "\u001b[0;32mpandas/_libs/hashtable_class_helper.pxi\u001b[0m in \u001b[0;36mpandas._libs.hashtable.PyObjectHashTable.get_item\u001b[0;34m()\u001b[0m\n",
      "\u001b[0;31mKeyError\u001b[0m: 'temperature'",
      "\nThe above exception was the direct cause of the following exception:\n",
      "\u001b[0;31mKeyError\u001b[0m                                  Traceback (most recent call last)",
      "\u001b[0;32m<ipython-input-29-efcec27e22bc>\u001b[0m in \u001b[0;36m<module>\u001b[0;34m\u001b[0m\n\u001b[1;32m     16\u001b[0m             ]\n\u001b[1;32m     17\u001b[0m         )\n\u001b[0;32m---> 18\u001b[0;31m         \u001b[0;34m&\u001b[0m \u001b[0;34m(\u001b[0m\u001b[0;34m(\u001b[0m\u001b[0mdf\u001b[0m\u001b[0;34m[\u001b[0m\u001b[0;34m\"temperature\"\u001b[0m\u001b[0;34m]\u001b[0m \u001b[0;34m==\u001b[0m \u001b[0;36m0\u001b[0m\u001b[0;34m)\u001b[0m \u001b[0;34m|\u001b[0m \u001b[0;34m(\u001b[0m\u001b[0mdf\u001b[0m\u001b[0;34m[\u001b[0m\u001b[0;34m\"temperature\"\u001b[0m\u001b[0;34m]\u001b[0m \u001b[0;34m==\u001b[0m \u001b[0;36m8.0\u001b[0m\u001b[0;34m)\u001b[0m\u001b[0;34m)\u001b[0m\u001b[0;34m\u001b[0m\u001b[0;34m\u001b[0m\u001b[0m\n\u001b[0m\u001b[1;32m     19\u001b[0m     ],\n\u001b[1;32m     20\u001b[0m     \u001b[0mkind\u001b[0m\u001b[0;34m=\u001b[0m\u001b[0;34m\"line\"\u001b[0m\u001b[0;34m,\u001b[0m\u001b[0;34m\u001b[0m\u001b[0;34m\u001b[0m\u001b[0m\n",
      "\u001b[0;32m~/anaconda3/envs/active_learning/lib/python3.8/site-packages/pandas/core/frame.py\u001b[0m in \u001b[0;36m__getitem__\u001b[0;34m(self, key)\u001b[0m\n\u001b[1;32m   2904\u001b[0m             \u001b[0;32mif\u001b[0m \u001b[0mself\u001b[0m\u001b[0;34m.\u001b[0m\u001b[0mcolumns\u001b[0m\u001b[0;34m.\u001b[0m\u001b[0mnlevels\u001b[0m \u001b[0;34m>\u001b[0m \u001b[0;36m1\u001b[0m\u001b[0;34m:\u001b[0m\u001b[0;34m\u001b[0m\u001b[0;34m\u001b[0m\u001b[0m\n\u001b[1;32m   2905\u001b[0m                 \u001b[0;32mreturn\u001b[0m \u001b[0mself\u001b[0m\u001b[0;34m.\u001b[0m\u001b[0m_getitem_multilevel\u001b[0m\u001b[0;34m(\u001b[0m\u001b[0mkey\u001b[0m\u001b[0;34m)\u001b[0m\u001b[0;34m\u001b[0m\u001b[0;34m\u001b[0m\u001b[0m\n\u001b[0;32m-> 2906\u001b[0;31m             \u001b[0mindexer\u001b[0m \u001b[0;34m=\u001b[0m \u001b[0mself\u001b[0m\u001b[0;34m.\u001b[0m\u001b[0mcolumns\u001b[0m\u001b[0;34m.\u001b[0m\u001b[0mget_loc\u001b[0m\u001b[0;34m(\u001b[0m\u001b[0mkey\u001b[0m\u001b[0;34m)\u001b[0m\u001b[0;34m\u001b[0m\u001b[0;34m\u001b[0m\u001b[0m\n\u001b[0m\u001b[1;32m   2907\u001b[0m             \u001b[0;32mif\u001b[0m \u001b[0mis_integer\u001b[0m\u001b[0;34m(\u001b[0m\u001b[0mindexer\u001b[0m\u001b[0;34m)\u001b[0m\u001b[0;34m:\u001b[0m\u001b[0;34m\u001b[0m\u001b[0;34m\u001b[0m\u001b[0m\n\u001b[1;32m   2908\u001b[0m                 \u001b[0mindexer\u001b[0m \u001b[0;34m=\u001b[0m \u001b[0;34m[\u001b[0m\u001b[0mindexer\u001b[0m\u001b[0;34m]\u001b[0m\u001b[0;34m\u001b[0m\u001b[0;34m\u001b[0m\u001b[0m\n",
      "\u001b[0;32m~/anaconda3/envs/active_learning/lib/python3.8/site-packages/pandas/core/indexes/base.py\u001b[0m in \u001b[0;36mget_loc\u001b[0;34m(self, key, method, tolerance)\u001b[0m\n\u001b[1;32m   2898\u001b[0m                 \u001b[0;32mreturn\u001b[0m \u001b[0mself\u001b[0m\u001b[0;34m.\u001b[0m\u001b[0m_engine\u001b[0m\u001b[0;34m.\u001b[0m\u001b[0mget_loc\u001b[0m\u001b[0;34m(\u001b[0m\u001b[0mcasted_key\u001b[0m\u001b[0;34m)\u001b[0m\u001b[0;34m\u001b[0m\u001b[0;34m\u001b[0m\u001b[0m\n\u001b[1;32m   2899\u001b[0m             \u001b[0;32mexcept\u001b[0m \u001b[0mKeyError\u001b[0m \u001b[0;32mas\u001b[0m \u001b[0merr\u001b[0m\u001b[0;34m:\u001b[0m\u001b[0;34m\u001b[0m\u001b[0;34m\u001b[0m\u001b[0m\n\u001b[0;32m-> 2900\u001b[0;31m                 \u001b[0;32mraise\u001b[0m \u001b[0mKeyError\u001b[0m\u001b[0;34m(\u001b[0m\u001b[0mkey\u001b[0m\u001b[0;34m)\u001b[0m \u001b[0;32mfrom\u001b[0m \u001b[0merr\u001b[0m\u001b[0;34m\u001b[0m\u001b[0;34m\u001b[0m\u001b[0m\n\u001b[0m\u001b[1;32m   2901\u001b[0m \u001b[0;34m\u001b[0m\u001b[0m\n\u001b[1;32m   2902\u001b[0m         \u001b[0;32mif\u001b[0m \u001b[0mtolerance\u001b[0m \u001b[0;32mis\u001b[0m \u001b[0;32mnot\u001b[0m \u001b[0;32mNone\u001b[0m\u001b[0;34m:\u001b[0m\u001b[0;34m\u001b[0m\u001b[0;34m\u001b[0m\u001b[0m\n",
      "\u001b[0;31mKeyError\u001b[0m: 'temperature'"
     ]
    }
   ],
   "source": [
    "# PowerEvaluationBALD vs PowerBALD vs PowerEIG\n",
    "\n",
    "grd = sns.relplot(\n",
    "    x=\"training_set_size\",\n",
    "    y=\"accuracy\",\n",
    "    col=\"acquisition_size\",\n",
    "    col_wrap=2,\n",
    "    hue=\"nice_acquisition_function\",\n",
    "    data=df[\n",
    "        df[\"acquisition_function\"].isin(\n",
    "            [\n",
    "                \"random\",\n",
    "                \"temperedical\",\n",
    "                \"temperedbald\",\n",
    "                \"temperedbaldical\",\n",
    "            ]\n",
    "        )\n",
    "        & ((df[\"temperature\"] == 0) | (df[\"temperature\"] == 8.0))\n",
    "    ],\n",
    "    kind=\"line\",\n",
    "    height=3,\n",
    "    hue_order=list(\n",
    "        map(\n",
    "            to_nice_acquisition_function,\n",
    "            [\n",
    "                \"temperedbaldical\",                \n",
    "                \"temperedbald\",\n",
    "                \"temperedical\",\n",
    "                \"random\",\n",
    "            ],\n",
    "        )\n",
    "    ),\n",
    ")\n",
    "\n",
    "grd.set_xlabels(\"Training Set Size\")\n",
    "grd.set_ylabels(\"Accuracy\")\n",
    "grd._legend.set_title(\"Acquisition Function\")\n",
    "grd.set_titles(\"Acquisition Batch Size = {col_name}\")\n",
    "grd.tight_layout()"
   ]
  },
  {
   "cell_type": "code",
   "execution_count": null,
   "metadata": {},
   "outputs": [],
   "source": [
    "plt_save(grd, \"plots/power_eval_vs_bald_vs_eig.pdf\")"
   ]
  },
  {
   "cell_type": "code",
   "execution_count": null,
   "metadata": {},
   "outputs": [],
   "source": [
    "# PowerEIG vs RandomBALD vs ThompsonBALD\n",
    "\n",
    "# PowerEvaluationBALD vs PowerBALD vs PowerEIG\n",
    "\n",
    "grd = sns.relplot(\n",
    "    x=\"training_set_size\",\n",
    "    y=\"accuracy\",\n",
    "    col=\"acquisition_size\",\n",
    "    col_wrap=2,\n",
    "    hue=\"nice_acquisition_function\",\n",
    "    data=df[\n",
    "        df[\"acquisition_function\"].isin(\n",
    "            [\n",
    "                \"random\",\n",
    "                \"randombald\",\n",
    "                \"thompsonbald\",\n",
    "                \"temperedbald\",\n",
    "            ]\n",
    "        )\n",
    "        & ((df[\"temperature\"] == 0) | (df[\"temperature\"] == 8.0))\n",
    "    ],\n",
    "    kind=\"line\",\n",
    "    height=3,\n",
    "    hue_order=list(\n",
    "        map(\n",
    "            to_nice_acquisition_function,\n",
    "            [\n",
    "                \"temperedbald\",\n",
    "                \"randombald\",\n",
    "                \"random\",\n",
    "                \"thompsonbald\",\n",
    "            ],\n",
    "        )\n",
    "    ),\n",
    ")\n",
    "\n",
    "grd.set_xlabels(\"Training Set Size\")\n",
    "grd.set_ylabels(\"Accuracy\")\n",
    "grd._legend.set_title(\"Acquisition Function\")\n",
    "grd.set_titles(\"Acquisition Batch Size = {col_name}\")\n",
    "grd.tight_layout()"
   ]
  },
  {
   "cell_type": "code",
   "execution_count": null,
   "metadata": {},
   "outputs": [],
   "source": [
    "plt_save(grd, \"plots/stochasticity_comparison.pdf\")"
   ]
  },
  {
   "cell_type": "code",
   "execution_count": null,
   "metadata": {},
   "outputs": [],
   "source": [
    "df2 = df[df.accuracy >= 0.90].groupby([\"seed\", \"acquisition_size\", \"acquisition_function\", \"temperature\"]).first()"
   ]
  },
  {
   "cell_type": "code",
   "execution_count": null,
   "metadata": {},
   "outputs": [],
   "source": [
    "df3 = df2.groupby([\"acquisition_size\", \"acquisition_function\", \"temperature\"]).training_set_size.quantile([0.25, 0.5, 0.75])"
   ]
  },
  {
   "cell_type": "code",
   "execution_count": null,
   "metadata": {},
   "outputs": [],
   "source": [
    "df4 = df3.unstack().reset_index()\n",
    "df5= df4[df4[\"temperature\"].isin([0., 8.])]\n",
    "del df5[\"temperature\"]\n",
    "df5 = df5[df5[\"acquisition_function\"].isin([\"bald\", \"baldical\", \"batchbald\",\"batchbaldical\", \"temperedbald\", \"temperedbaldical\"])]"
   ]
  },
  {
   "cell_type": "code",
   "execution_count": null,
   "metadata": {},
   "outputs": [
    {
     "data": {
      "text/html": [
       "<div>\n",
       "<style scoped>\n",
       "    .dataframe tbody tr th:only-of-type {\n",
       "        vertical-align: middle;\n",
       "    }\n",
       "\n",
       "    .dataframe tbody tr th {\n",
       "        vertical-align: top;\n",
       "    }\n",
       "\n",
       "    .dataframe thead th {\n",
       "        text-align: right;\n",
       "    }\n",
       "</style>\n",
       "<table border=\"1\" class=\"dataframe\">\n",
       "  <thead>\n",
       "    <tr style=\"text-align: right;\">\n",
       "      <th>acquisition_size</th>\n",
       "      <th>5</th>\n",
       "      <th>10</th>\n",
       "      <th>20</th>\n",
       "      <th>50</th>\n",
       "    </tr>\n",
       "    <tr>\n",
       "      <th>acquisition_function</th>\n",
       "      <th></th>\n",
       "      <th></th>\n",
       "      <th></th>\n",
       "      <th></th>\n",
       "    </tr>\n",
       "  </thead>\n",
       "  <tbody>\n",
       "    <tr>\n",
       "      <th>bald</th>\n",
       "      <td>172.5/200.0/212.5</td>\n",
       "      <td>217.5/230.0/270.0</td>\n",
       "      <td>260.0/270.0/inf</td>\n",
       "      <td>inf/inf/inf</td>\n",
       "    </tr>\n",
       "    <tr>\n",
       "      <th>baldical</th>\n",
       "      <td>170.0/210.0/220.0</td>\n",
       "      <td>220.0/220.0/240.0</td>\n",
       "      <td>280.0/280.0/inf</td>\n",
       "      <td>inf/inf/inf</td>\n",
       "    </tr>\n",
       "    <tr>\n",
       "      <th>batchbald</th>\n",
       "      <td>108.75/115.0/117.5</td>\n",
       "      <td>130.0/140.0/160.0</td>\n",
       "      <td>NaN</td>\n",
       "      <td>NaN</td>\n",
       "    </tr>\n",
       "    <tr>\n",
       "      <th>batchbaldical</th>\n",
       "      <td>90.0/110.0/110.0</td>\n",
       "      <td>110.0/120.0/120.0</td>\n",
       "      <td>NaN</td>\n",
       "      <td>NaN</td>\n",
       "    </tr>\n",
       "    <tr>\n",
       "      <th>temperedbald</th>\n",
       "      <td>102.5/105.0/108.75</td>\n",
       "      <td>110.0/110.0/130.0</td>\n",
       "      <td>120.0/120.0/140.0</td>\n",
       "      <td>170.0/170.0/220.0</td>\n",
       "    </tr>\n",
       "    <tr>\n",
       "      <th>temperedbaldical</th>\n",
       "      <td>100.0/110.0/110.0</td>\n",
       "      <td>110.0/110.0/110.0</td>\n",
       "      <td>140.0/140.0/140.0</td>\n",
       "      <td>170.0/170.0/170.0</td>\n",
       "    </tr>\n",
       "  </tbody>\n",
       "</table>\n",
       "</div>"
      ],
      "text/plain": [
       "acquisition_size                      5                  10  \\\n",
       "acquisition_function                                          \n",
       "bald                   172.5/200.0/212.5  217.5/230.0/270.0   \n",
       "baldical               170.0/210.0/220.0  220.0/220.0/240.0   \n",
       "batchbald             108.75/115.0/117.5  130.0/140.0/160.0   \n",
       "batchbaldical           90.0/110.0/110.0  110.0/120.0/120.0   \n",
       "temperedbald          102.5/105.0/108.75  110.0/110.0/130.0   \n",
       "temperedbaldical       100.0/110.0/110.0  110.0/110.0/110.0   \n",
       "\n",
       "acquisition_size                     20                 50  \n",
       "acquisition_function                                        \n",
       "bald                    260.0/270.0/inf        inf/inf/inf  \n",
       "baldical                280.0/280.0/inf        inf/inf/inf  \n",
       "batchbald                           NaN                NaN  \n",
       "batchbaldical                       NaN                NaN  \n",
       "temperedbald          120.0/120.0/140.0  170.0/170.0/220.0  \n",
       "temperedbaldical      140.0/140.0/140.0  170.0/170.0/170.0  "
      ]
     },
     "execution_count": null,
     "metadata": {},
     "output_type": "execute_result"
    }
   ],
   "source": [
    "df5[\"intervals\"] = df5.apply(lambda row: f\"{row[0.25]}/{row[0.5]}/{row[0.75]}\", axis=1)\n",
    "df5.pivot(\"acquisition_function\", columns=\"acquisition_size\", values=\"intervals\")\n"
   ]
  },
  {
   "cell_type": "code",
   "execution_count": null,
   "metadata": {},
   "outputs": [],
   "source": [
    "df2 = df[df.accuracy >= 0.95].groupby([\"seed\", \"acquisition_size\", \"acquisition_function\", \"temperature\"]).first()"
   ]
  },
  {
   "cell_type": "code",
   "execution_count": null,
   "metadata": {},
   "outputs": [],
   "source": [
    "df3 = df2.groupby([\"acquisition_size\", \"acquisition_function\", \"temperature\"]).training_set_size.quantile([0.25, 0.5, 0.75])"
   ]
  },
  {
   "cell_type": "code",
   "execution_count": null,
   "metadata": {},
   "outputs": [],
   "source": [
    "df4 = df3.unstack().reset_index()\n",
    "df5= df4[df4[\"temperature\"].isin([0., 8.])]\n",
    "del df5[\"temperature\"]\n",
    "df5 = df5[df5[\"acquisition_function\"].isin([\"bald\", \"baldical\", \"batchbald\",\"batchbaldical\", \"temperedbald\", \"temperedbaldical\"])]"
   ]
  },
  {
   "cell_type": "code",
   "execution_count": null,
   "metadata": {},
   "outputs": [
    {
     "data": {
      "text/html": [
       "<div>\n",
       "<style scoped>\n",
       "    .dataframe tbody tr th:only-of-type {\n",
       "        vertical-align: middle;\n",
       "    }\n",
       "\n",
       "    .dataframe tbody tr th {\n",
       "        vertical-align: top;\n",
       "    }\n",
       "\n",
       "    .dataframe thead th {\n",
       "        text-align: right;\n",
       "    }\n",
       "</style>\n",
       "<table border=\"1\" class=\"dataframe\">\n",
       "  <thead>\n",
       "    <tr style=\"text-align: right;\">\n",
       "      <th>acquisition_size</th>\n",
       "      <th>5</th>\n",
       "      <th>10</th>\n",
       "      <th>20</th>\n",
       "      <th>50</th>\n",
       "    </tr>\n",
       "    <tr>\n",
       "      <th>acquisition_function</th>\n",
       "      <th></th>\n",
       "      <th></th>\n",
       "      <th></th>\n",
       "      <th></th>\n",
       "    </tr>\n",
       "  </thead>\n",
       "  <tbody>\n",
       "    <tr>\n",
       "      <th>bald</th>\n",
       "      <td>nan/inf/nan</td>\n",
       "      <td>nan/nan/nan</td>\n",
       "      <td>nan/nan/nan</td>\n",
       "      <td>inf/inf/inf</td>\n",
       "    </tr>\n",
       "    <tr>\n",
       "      <th>baldical</th>\n",
       "      <td>inf/inf/inf</td>\n",
       "      <td>inf/inf/inf</td>\n",
       "      <td>inf/inf/inf</td>\n",
       "      <td>inf/inf/inf</td>\n",
       "    </tr>\n",
       "    <tr>\n",
       "      <th>batchbald</th>\n",
       "      <td>260.0/282.5/inf</td>\n",
       "      <td>300.0/inf/inf</td>\n",
       "      <td>NaN</td>\n",
       "      <td>NaN</td>\n",
       "    </tr>\n",
       "    <tr>\n",
       "      <th>batchbaldical</th>\n",
       "      <td>205.0/215.0/240.0</td>\n",
       "      <td>260.0/270.0/270.0</td>\n",
       "      <td>NaN</td>\n",
       "      <td>NaN</td>\n",
       "    </tr>\n",
       "    <tr>\n",
       "      <th>temperedbald</th>\n",
       "      <td>248.75/262.5/273.75</td>\n",
       "      <td>240.0/260.0/260.0</td>\n",
       "      <td>260.0/280.0/300.0</td>\n",
       "      <td>320.0/320.0/inf</td>\n",
       "    </tr>\n",
       "    <tr>\n",
       "      <th>temperedbaldical</th>\n",
       "      <td>225.0/230.0/230.0</td>\n",
       "      <td>270.0/280.0/290.0</td>\n",
       "      <td>inf/inf/inf</td>\n",
       "      <td>inf/inf/inf</td>\n",
       "    </tr>\n",
       "  </tbody>\n",
       "</table>\n",
       "</div>"
      ],
      "text/plain": [
       "acquisition_size                       5                  10  \\\n",
       "acquisition_function                                           \n",
       "bald                          nan/inf/nan        nan/nan/nan   \n",
       "baldical                      inf/inf/inf        inf/inf/inf   \n",
       "batchbald                 260.0/282.5/inf      300.0/inf/inf   \n",
       "batchbaldical           205.0/215.0/240.0  260.0/270.0/270.0   \n",
       "temperedbald          248.75/262.5/273.75  240.0/260.0/260.0   \n",
       "temperedbaldical        225.0/230.0/230.0  270.0/280.0/290.0   \n",
       "\n",
       "acquisition_size                     20               50  \n",
       "acquisition_function                                      \n",
       "bald                        nan/nan/nan      inf/inf/inf  \n",
       "baldical                    inf/inf/inf      inf/inf/inf  \n",
       "batchbald                           NaN              NaN  \n",
       "batchbaldical                       NaN              NaN  \n",
       "temperedbald          260.0/280.0/300.0  320.0/320.0/inf  \n",
       "temperedbaldical            inf/inf/inf      inf/inf/inf  "
      ]
     },
     "execution_count": null,
     "metadata": {},
     "output_type": "execute_result"
    }
   ],
   "source": [
    "df5[\"intervals\"] = df5.apply(lambda row: f\"{row[0.25]}/{row[0.5]}/{row[0.75]}\", axis=1)\n",
    "df5.pivot(\"acquisition_function\", columns=\"acquisition_size\", values=\"intervals\")\n"
   ]
  },
  {
   "cell_type": "code",
   "execution_count": null,
   "metadata": {},
   "outputs": [],
   "source": []
  }
 ],
 "metadata": {
  "kernelspec": {
   "display_name": "Python [conda env:active_learning]",
   "language": "python",
   "name": "conda-env-active_learning-py"
  }
 },
 "nbformat": 4,
 "nbformat_minor": 4
}
