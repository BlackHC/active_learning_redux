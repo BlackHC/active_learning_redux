{
 "cells": [
  {
   "cell_type": "markdown",
   "id": "extended-audit",
   "metadata": {},
   "source": [
    "# Dependency Injection\n",
    "> Because everything is better once it is over-engineered."
   ]
  },
  {
   "cell_type": "code",
   "execution_count": null,
   "id": "personal-preparation",
   "metadata": {},
   "outputs": [],
   "source": [
    "# default_exp di"
   ]
  },
  {
   "cell_type": "code",
   "execution_count": null,
   "id": "inappropriate-italian",
   "metadata": {},
   "outputs": [
    {
     "name": "stdout",
     "output_type": "stream",
     "text": [
      "Appended /home/blackhc/PycharmProjects/bald-ical/src to paths\n",
      "Switched to directory /home/blackhc/PycharmProjects/bald-ical\n",
      "%load_ext autoreload\n",
      "%autoreload 2\n"
     ]
    }
   ],
   "source": [
    "# hide\n",
    "import blackhc.project.script"
   ]
  },
  {
   "cell_type": "code",
   "execution_count": null,
   "id": "living-april",
   "metadata": {},
   "outputs": [],
   "source": [
    "# exports\n",
    "import dataclasses\n",
    "from dataclasses import dataclass"
   ]
  },
  {
   "cell_type": "code",
   "execution_count": null,
   "id": "contrary-price",
   "metadata": {},
   "outputs": [],
   "source": [
    "# exports\n",
    "\n",
    "\n",
    "@dataclass\n",
    "class DependencyInjection:\n",
    "    config: dict\n",
    "    supported_types: list = None\n",
    "\n",
    "    def create_dataclass_type(self, dataclass_type, *args, **kwargs):\n",
    "        resolved_args = self.resolve_dataclass_args(dataclass_type)\n",
    "        final_args = {**resolved_args, **kwargs}\n",
    "\n",
    "        args_str = ','.join(list(args) + [f'{key}={value}' for key, value in final_args.items()])\n",
    "        print(f\"Creating: {dataclass_type.__qualname__}({args_str})\")\n",
    "        return dataclass_type(*args, **final_args)\n",
    "\n",
    "    def resolve_dataclass_args(self, dataclass_type):\n",
    "        fields = dataclasses.fields(dataclass_type)\n",
    "\n",
    "        resolved_args = {}\n",
    "        field: dataclasses.Field\n",
    "        for field in fields:\n",
    "            type_specific_name = f\"{dataclass_type.__qualname__}__{field.name}\"\n",
    "            if type_specific_name in self.config:\n",
    "                resolved_args[field.name] = self.config[type_specific_name]\n",
    "            elif field.name in self.config:\n",
    "                resolved_args[field.name] = self.config[field.name]\n",
    "\n",
    "            if self.supported_types and field.type in self.supported_types:\n",
    "                resolved_args[field.name] = self.create_dataclass_type(field.type)\n",
    "\n",
    "        print(f\"Resolved: {dataclass_type.__qualname__} with {resolved_args}\")\n",
    "\n",
    "        return resolved_args"
   ]
  },
  {
   "cell_type": "code",
   "execution_count": null,
   "id": "saving-hurricane",
   "metadata": {},
   "outputs": [
    {
     "name": "stdout",
     "output_type": "stream",
     "text": [
      "Resolved: SimpleType with {'a_config_variable': 5}\n",
      "Creating: SimpleType(a_config_variable=5)\n"
     ]
    },
    {
     "data": {
      "text/plain": [
       "SimpleType(a_config_variable=5)"
      ]
     },
     "execution_count": null,
     "metadata": {},
     "output_type": "execute_result"
    }
   ],
   "source": [
    "@dataclass\n",
    "class SimpleType:\n",
    "    a_config_variable: int\n",
    "\n",
    "\n",
    "di = DependencyInjection(dict(a_config_variable=5))\n",
    "\n",
    "di.create_dataclass_type(SimpleType)"
   ]
  },
  {
   "cell_type": "code",
   "execution_count": null,
   "id": "infectious-spotlight",
   "metadata": {},
   "outputs": [
    {
     "name": "stdout",
     "output_type": "stream",
     "text": [
      "Resolved: SimpleTypeA with {'a_config_variable': 5}\n",
      "Creating: SimpleTypeA(a_config_variable=5)\n",
      "Resolved: SimpleTypeB with {'a_config_variable': 10}\n",
      "Creating: SimpleTypeB(a_config_variable=10)\n"
     ]
    },
    {
     "data": {
      "text/plain": [
       "(SimpleTypeA(a_config_variable=5), SimpleTypeB(a_config_variable=10))"
      ]
     },
     "execution_count": null,
     "metadata": {},
     "output_type": "execute_result"
    }
   ],
   "source": [
    "@dataclass\n",
    "class SimpleTypeA:\n",
    "    a_config_variable: int\n",
    "\n",
    "\n",
    "@dataclass\n",
    "class SimpleTypeB:\n",
    "    a_config_variable: int\n",
    "\n",
    "\n",
    "di = DependencyInjection(dict(a_config_variable=5, SimpleTypeB__a_config_variable=10))\n",
    "\n",
    "di.create_dataclass_type(SimpleTypeA), di.create_dataclass_type(SimpleTypeB)"
   ]
  },
  {
   "cell_type": "code",
   "execution_count": null,
   "id": "employed-roulette",
   "metadata": {},
   "outputs": [
    {
     "name": "stdout",
     "output_type": "stream",
     "text": [
      "Resolved: SimpleTypeB with {'a_config_variable': 10}\n",
      "Creating: SimpleTypeB(a_config_variable=10)\n",
      "Resolved: ComplexTypeC with {'simple_type_b': SimpleTypeB(a_config_variable=10)}\n",
      "Creating: ComplexTypeC(simple_type_b=SimpleTypeB(a_config_variable=10))\n"
     ]
    },
    {
     "data": {
      "text/plain": [
       "ComplexTypeC(simple_type_b=SimpleTypeB(a_config_variable=10))"
      ]
     },
     "execution_count": null,
     "metadata": {},
     "output_type": "execute_result"
    }
   ],
   "source": [
    "@dataclass\n",
    "class ComplexTypeC:\n",
    "    simple_type_b: SimpleTypeB\n",
    "\n",
    "\n",
    "di = DependencyInjection(dict(a_config_variable=5, SimpleTypeB__a_config_variable=10), [SimpleTypeB])\n",
    "\n",
    "di.create_dataclass_type(ComplexTypeC)"
   ]
  },
  {
   "cell_type": "code",
   "execution_count": null,
   "id": "fitting-basics",
   "metadata": {},
   "outputs": [],
   "source": []
  }
 ],
 "metadata": {
  "kernelspec": {
   "display_name": "Python [conda env:active_learning]",
   "language": "python",
   "name": "conda-env-active_learning-py"
  }
 },
 "nbformat": 4,
 "nbformat_minor": 5
}
