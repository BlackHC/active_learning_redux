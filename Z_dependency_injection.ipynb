{
 "cells": [
  {
   "cell_type": "markdown",
   "id": "worst-communication",
   "metadata": {},
   "source": [
    "# Dependency Injection\n",
    "> Because everything is better once it is over-engineered."
   ]
  },
  {
   "cell_type": "code",
   "execution_count": null,
   "id": "attended-despite",
   "metadata": {},
   "outputs": [],
   "source": [
    "# default_exp di"
   ]
  },
  {
   "cell_type": "code",
   "execution_count": null,
   "id": "needed-hearing",
   "metadata": {},
   "outputs": [
    {
     "name": "stdout",
     "output_type": "stream",
     "text": [
      "Appended /home/blackhc/PycharmProjects/bald-ical/src to paths\n",
      "Switched to directory /home/blackhc/PycharmProjects/bald-ical\n",
      "%load_ext autoreload\n",
      "%autoreload 2\n"
     ]
    }
   ],
   "source": [
    "# hide\n",
    "import blackhc.project.script"
   ]
  },
  {
   "cell_type": "code",
   "execution_count": null,
   "id": "immediate-designer",
   "metadata": {},
   "outputs": [],
   "source": [
    "# exports\n",
    "import dataclasses\n",
    "from dataclasses import dataclass"
   ]
  },
  {
   "cell_type": "code",
   "execution_count": null,
   "id": "clear-assault",
   "metadata": {},
   "outputs": [],
   "source": [
    "# exports\n",
    "\n",
    "\n",
    "@dataclass\n",
    "class DependencyInjection:\n",
    "    config: dict\n",
    "    supported_types: list = None\n",
    "\n",
    "    def create_dataclass_type(self, dataclass_type, **kwargs):\n",
    "        resolved_args = self.resolve_dataclass_args(dataclass_type)\n",
    "        final_args = {**resolved_args, **kwargs}\n",
    "\n",
    "        args_str = \",\".join([f\"{key}={value}\" for key, value in final_args.items()])\n",
    "        self.check_missing_fields(dataclass_type, final_args)\n",
    "\n",
    "        print(f\"Creating: {dataclass_type.__qualname__}({args_str})\")\n",
    "        return dataclass_type(**final_args)\n",
    "\n",
    "    def check_missing_fields(self, dataclass_type, args):\n",
    "        missing_fields = []\n",
    "\n",
    "        fields = dataclasses.fields(dataclass_type)\n",
    "        field: dataclasses.Field\n",
    "        for field in fields:\n",
    "            if (\n",
    "                field.name not in args\n",
    "                and field.default is dataclasses.MISSING\n",
    "                and field.default_factory is dataclasses.MISSING\n",
    "            ):\n",
    "                missing_fields += [field.name]\n",
    "\n",
    "        if missing_fields:\n",
    "            raise ValueError(f\"Unresolved fields for {dataclass_type.__qualname__}: {', '.join(missing_fields)}\")\n",
    "\n",
    "    def resolve_dataclass_args(self, dataclass_type):\n",
    "        fields = dataclasses.fields(dataclass_type)\n",
    "\n",
    "        resolved_args = {}\n",
    "        field: dataclasses.Field\n",
    "        for field in fields:\n",
    "            type_specific_name = f\"{dataclass_type.__qualname__}__{field.name}\"\n",
    "            if type_specific_name in self.config:\n",
    "                resolved_args[field.name] = self.config[type_specific_name]\n",
    "            elif field.name in self.config:\n",
    "                resolved_args[field.name] = self.config[field.name]\n",
    "\n",
    "            if self.supported_types and field.type in self.supported_types:\n",
    "                resolved_args[field.name] = self.create_dataclass_type(field.type)\n",
    "\n",
    "        print(f\"Resolved: {dataclass_type.__qualname__} with {resolved_args}\")\n",
    "\n",
    "        return resolved_args"
   ]
  },
  {
   "cell_type": "code",
   "execution_count": null,
   "id": "divided-computer",
   "metadata": {},
   "outputs": [
    {
     "name": "stdout",
     "output_type": "stream",
     "text": [
      "Resolved: SimpleType with {'a_config_variable': 5}\n",
      "Creating: SimpleType(a_config_variable=5)\n"
     ]
    },
    {
     "data": {
      "text/plain": [
       "SimpleType(a_config_variable=5)"
      ]
     },
     "execution_count": null,
     "metadata": {},
     "output_type": "execute_result"
    }
   ],
   "source": [
    "@dataclass\n",
    "class SimpleType:\n",
    "    a_config_variable: int\n",
    "\n",
    "\n",
    "di = DependencyInjection(dict(a_config_variable=5))\n",
    "\n",
    "di.create_dataclass_type(SimpleType)"
   ]
  },
  {
   "cell_type": "code",
   "execution_count": null,
   "id": "moral-detroit",
   "metadata": {},
   "outputs": [
    {
     "name": "stdout",
     "output_type": "stream",
     "text": [
      "Resolved: SimpleTypeA with {'a_config_variable': 5}\n",
      "Creating: SimpleTypeA(a_config_variable=5)\n",
      "Resolved: SimpleTypeB with {'a_config_variable': 10}\n",
      "Creating: SimpleTypeB(a_config_variable=10)\n"
     ]
    },
    {
     "data": {
      "text/plain": [
       "(SimpleTypeA(a_config_variable=5), SimpleTypeB(a_config_variable=10))"
      ]
     },
     "execution_count": null,
     "metadata": {},
     "output_type": "execute_result"
    }
   ],
   "source": [
    "@dataclass\n",
    "class SimpleTypeA:\n",
    "    a_config_variable: int\n",
    "\n",
    "\n",
    "@dataclass\n",
    "class SimpleTypeB:\n",
    "    a_config_variable: int\n",
    "\n",
    "\n",
    "di = DependencyInjection(dict(a_config_variable=5, SimpleTypeB__a_config_variable=10))\n",
    "\n",
    "di.create_dataclass_type(SimpleTypeA), di.create_dataclass_type(SimpleTypeB)"
   ]
  },
  {
   "cell_type": "code",
   "execution_count": null,
   "id": "listed-mathematics",
   "metadata": {},
   "outputs": [
    {
     "name": "stdout",
     "output_type": "stream",
     "text": [
      "Resolved: SimpleTypeB with {'a_config_variable': 10}\n",
      "Creating: SimpleTypeB(a_config_variable=10)\n",
      "Resolved: ComplexTypeC with {'simple_type_b': SimpleTypeB(a_config_variable=10)}\n",
      "Creating: ComplexTypeC(simple_type_b=SimpleTypeB(a_config_variable=10))\n"
     ]
    },
    {
     "data": {
      "text/plain": [
       "ComplexTypeC(simple_type_b=SimpleTypeB(a_config_variable=10))"
      ]
     },
     "execution_count": null,
     "metadata": {},
     "output_type": "execute_result"
    }
   ],
   "source": [
    "@dataclass\n",
    "class ComplexTypeC:\n",
    "    simple_type_b: SimpleTypeB\n",
    "\n",
    "\n",
    "di = DependencyInjection(dict(a_config_variable=5, SimpleTypeB__a_config_variable=10), [SimpleTypeB])\n",
    "\n",
    "di.create_dataclass_type(ComplexTypeC)"
   ]
  },
  {
   "cell_type": "code",
   "execution_count": null,
   "id": "legislative-reply",
   "metadata": {},
   "outputs": [
    {
     "name": "stdout",
     "output_type": "stream",
     "text": [
      "Resolved: ComplexTypeC with {}\n"
     ]
    },
    {
     "ename": "ValueError",
     "evalue": "Unresolved fields for ComplexTypeC: simple_type_b",
     "output_type": "error",
     "traceback": [
      "\u001b[0;31m---------------------------------------------------------------------------\u001b[0m",
      "\u001b[0;31mValueError\u001b[0m                                Traceback (most recent call last)",
      "\u001b[0;32m<ipython-input-28-3e9e163f50c5>\u001b[0m in \u001b[0;36m<module>\u001b[0;34m\u001b[0m\n\u001b[1;32m      7\u001b[0m \u001b[0mdi\u001b[0m \u001b[0;34m=\u001b[0m \u001b[0mDependencyInjection\u001b[0m\u001b[0;34m(\u001b[0m\u001b[0mdict\u001b[0m\u001b[0;34m(\u001b[0m\u001b[0ma_config_variable\u001b[0m\u001b[0;34m=\u001b[0m\u001b[0;36m5\u001b[0m\u001b[0;34m,\u001b[0m \u001b[0mSimpleTypeB__a_config_variable\u001b[0m\u001b[0;34m=\u001b[0m\u001b[0;36m10\u001b[0m\u001b[0;34m)\u001b[0m\u001b[0;34m,\u001b[0m \u001b[0;34m[\u001b[0m\u001b[0;34m]\u001b[0m\u001b[0;34m)\u001b[0m\u001b[0;34m\u001b[0m\u001b[0;34m\u001b[0m\u001b[0m\n\u001b[1;32m      8\u001b[0m \u001b[0;34m\u001b[0m\u001b[0m\n\u001b[0;32m----> 9\u001b[0;31m \u001b[0mdi\u001b[0m\u001b[0;34m.\u001b[0m\u001b[0mcreate_dataclass_type\u001b[0m\u001b[0;34m(\u001b[0m\u001b[0mComplexTypeC\u001b[0m\u001b[0;34m)\u001b[0m\u001b[0;34m\u001b[0m\u001b[0;34m\u001b[0m\u001b[0m\n\u001b[0m",
      "\u001b[0;32m<ipython-input-24-c067e60da0fd>\u001b[0m in \u001b[0;36mcreate_dataclass_type\u001b[0;34m(self, dataclass_type, **kwargs)\u001b[0m\n\u001b[1;32m     12\u001b[0m \u001b[0;34m\u001b[0m\u001b[0m\n\u001b[1;32m     13\u001b[0m         \u001b[0margs_str\u001b[0m \u001b[0;34m=\u001b[0m \u001b[0;34m\",\"\u001b[0m\u001b[0;34m.\u001b[0m\u001b[0mjoin\u001b[0m\u001b[0;34m(\u001b[0m\u001b[0;34m[\u001b[0m\u001b[0;34mf\"{key}={value}\"\u001b[0m \u001b[0;32mfor\u001b[0m \u001b[0mkey\u001b[0m\u001b[0;34m,\u001b[0m \u001b[0mvalue\u001b[0m \u001b[0;32min\u001b[0m \u001b[0mfinal_args\u001b[0m\u001b[0;34m.\u001b[0m\u001b[0mitems\u001b[0m\u001b[0;34m(\u001b[0m\u001b[0;34m)\u001b[0m\u001b[0;34m]\u001b[0m\u001b[0;34m)\u001b[0m\u001b[0;34m\u001b[0m\u001b[0;34m\u001b[0m\u001b[0m\n\u001b[0;32m---> 14\u001b[0;31m         \u001b[0mself\u001b[0m\u001b[0;34m.\u001b[0m\u001b[0mcheck_missing_fields\u001b[0m\u001b[0;34m(\u001b[0m\u001b[0mdataclass_type\u001b[0m\u001b[0;34m,\u001b[0m \u001b[0mfinal_args\u001b[0m\u001b[0;34m)\u001b[0m\u001b[0;34m\u001b[0m\u001b[0;34m\u001b[0m\u001b[0m\n\u001b[0m\u001b[1;32m     15\u001b[0m \u001b[0;34m\u001b[0m\u001b[0m\n\u001b[1;32m     16\u001b[0m         \u001b[0mprint\u001b[0m\u001b[0;34m(\u001b[0m\u001b[0;34mf\"Creating: {dataclass_type.__qualname__}({args_str})\"\u001b[0m\u001b[0;34m)\u001b[0m\u001b[0;34m\u001b[0m\u001b[0;34m\u001b[0m\u001b[0m\n",
      "\u001b[0;32m<ipython-input-24-c067e60da0fd>\u001b[0m in \u001b[0;36mcheck_missing_fields\u001b[0;34m(self, dataclass_type, args)\u001b[0m\n\u001b[1;32m     31\u001b[0m \u001b[0;34m\u001b[0m\u001b[0m\n\u001b[1;32m     32\u001b[0m         \u001b[0;32mif\u001b[0m \u001b[0mmissing_fields\u001b[0m\u001b[0;34m:\u001b[0m\u001b[0;34m\u001b[0m\u001b[0;34m\u001b[0m\u001b[0m\n\u001b[0;32m---> 33\u001b[0;31m             \u001b[0;32mraise\u001b[0m \u001b[0mValueError\u001b[0m\u001b[0;34m(\u001b[0m\u001b[0;34mf\"Unresolved fields for {dataclass_type.__qualname__}: {', '.join(missing_fields)}\"\u001b[0m\u001b[0;34m)\u001b[0m\u001b[0;34m\u001b[0m\u001b[0;34m\u001b[0m\u001b[0m\n\u001b[0m\u001b[1;32m     34\u001b[0m \u001b[0;34m\u001b[0m\u001b[0m\n\u001b[1;32m     35\u001b[0m \u001b[0;34m\u001b[0m\u001b[0m\n",
      "\u001b[0;31mValueError\u001b[0m: Unresolved fields for ComplexTypeC: simple_type_b"
     ]
    }
   ],
   "source": [
    "@dataclass\n",
    "class ComplexTypeC:\n",
    "    simple_type_b: SimpleTypeB\n",
    "\n",
    "\n",
    "# Trigger a missing fields error\n",
    "di = DependencyInjection(dict(a_config_variable=5, SimpleTypeB__a_config_variable=10), [])\n",
    "\n",
    "di.create_dataclass_type(ComplexTypeC)"
   ]
  }
 ],
 "metadata": {
  "kernelspec": {
   "display_name": "Python [conda env:active_learning]",
   "language": "python",
   "name": "conda-env-active_learning-py"
  }
 },
 "nbformat": 4,
 "nbformat_minor": 5
}
