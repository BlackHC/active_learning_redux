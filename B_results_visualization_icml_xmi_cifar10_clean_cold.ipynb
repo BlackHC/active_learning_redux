{
 "cells": [
  {
   "cell_type": "markdown",
   "metadata": {},
   "source": [
    "# Results CIFAR-10 Visualizations for XMI (clean cold start)\n",
    "> Ignorance is strength"
   ]
  },
  {
   "cell_type": "code",
   "execution_count": null,
   "metadata": {},
   "outputs": [
    {
     "name": "stdout",
     "output_type": "stream",
     "text": [
      "Appended /home/blackhc/PycharmProjects/bald-ical/src to paths\n",
      "Switched to directory /home/blackhc/PycharmProjects/bald-ical\n",
      "%load_ext autoreload\n",
      "%autoreload 2\n"
     ]
    }
   ],
   "source": [
    "# hide\n",
    "import blackhc.project.script"
   ]
  },
  {
   "cell_type": "code",
   "execution_count": null,
   "metadata": {},
   "outputs": [],
   "source": [
    "import collections\n",
    "import functools\n",
    "import math\n",
    "import os\n",
    "import re\n",
    "from collections import namedtuple\n",
    "from dataclasses import dataclass\n",
    "from typing import NamedTuple\n",
    "\n",
    "import laaos\n",
    "import pandas as pd\n",
    "import seaborn as sns"
   ]
  },
  {
   "cell_type": "code",
   "execution_count": null,
   "metadata": {},
   "outputs": [],
   "source": [
    "# https://codereview.stackexchange.com/questions/85311/transform-snake-case-to-camelcase\n",
    "def camel_case_name(snake_case_name):\n",
    "    return re.sub(\"_([a-z])\", lambda match: match.group(1).upper(), snake_case_name)\n",
    "\n",
    "\n",
    "__namedtuples = {}\n",
    "\n",
    "\n",
    "def to_namedtuple(obj, name):\n",
    "    type_name = \"_\" + camel_case_name(name)\n",
    "    if isinstance(obj, dict):\n",
    "        keys = tuple(obj.keys())\n",
    "        if keys in __namedtuples:\n",
    "            nt = __namedtuples[keys]\n",
    "        else:\n",
    "            nt = namedtuple(type_name, keys)\n",
    "            __namedtuples[keys] = nt\n",
    "        return nt(*(to_namedtuple(v, k) for k, v in obj.items()))\n",
    "    if isinstance(obj, list):\n",
    "        item_type_name = type_name + \"Item\"\n",
    "        return [to_namedtuple(item, item_type_name) for item in obj]\n",
    "    if isinstance(obj, set):\n",
    "        item_type_name = type_name + \"Item\"\n",
    "        return {to_namedtuple(item, item_type_name) for item in obj}\n",
    "    if isinstance(obj, tuple):\n",
    "        item_type_name = type_name + \"Item\"\n",
    "        return tuple(to_namedtuple(item, item_type_name) for item in obj)\n",
    "\n",
    "    return obj\n",
    "\n",
    "\n",
    "def get_any(d: dict):\n",
    "    return next(iter(d.values()))\n",
    "\n",
    "\n",
    "def handle_map_funcs(func_kv, func_k, func_v, default=None):\n",
    "    if func_kv:\n",
    "        assert func_k is None and func_v is None\n",
    "\n",
    "        def inner(kv):\n",
    "            return func_kv(*kv)\n",
    "\n",
    "    elif func_k:\n",
    "        assert func_v is None\n",
    "\n",
    "        def inner(kv):\n",
    "            return func_k(kv[0]), kv[1]\n",
    "\n",
    "    elif func_v:\n",
    "\n",
    "        def inner(kv):\n",
    "            return kv[0], func_v(kv[1])\n",
    "\n",
    "    else:\n",
    "        return default\n",
    "    return inner\n",
    "\n",
    "\n",
    "def handle_unary_funcs(pred_kv, pred_k, pred_v, default=None):\n",
    "    if pred_kv:\n",
    "        assert pred_k is None and pred_v is None\n",
    "\n",
    "        def inner(kv):\n",
    "            return pred_kv(*kv)\n",
    "\n",
    "    elif pred_k:\n",
    "        assert pred_v is None\n",
    "\n",
    "        def inner(kv):\n",
    "            return pred_k(kv[0])\n",
    "\n",
    "    elif pred_v:\n",
    "\n",
    "        def inner(kv):\n",
    "            return pred_v(kv[1])\n",
    "\n",
    "    else:\n",
    "        return default\n",
    "    return inner\n",
    "\n",
    "\n",
    "def map_dict(d: dict, *, kv=None, k=None, v=None):\n",
    "    inner = handle_map_funcs(kv, k, v)\n",
    "    return dict(map(inner, d.items()))\n",
    "\n",
    "\n",
    "def filter_dict(d: dict, *, kv=None, k=None, v=None):\n",
    "    inner_pred = handle_unary_funcs(kv, k, v)\n",
    "    return dict(filter(inner_pred, d.items()))\n",
    "\n",
    "\n",
    "def sort_dict(d: dict, *, reverse=False, kv=None, k=None, v=None):\n",
    "    inner_key = handle_unary_funcs(kv, k, v, default=lambda ikv: ikv[0])\n",
    "    return dict(sorted(d.items(), key=inner_key, reverse=reverse))\n",
    "\n",
    "\n",
    "def groupby_dict(d: dict, *, key_kv=None, key_k=None, key_v=None, agg=None):\n",
    "    inner_key = handle_unary_funcs(key_kv, key_k, key_v)\n",
    "\n",
    "    grouped_by = {}\n",
    "    for kv in d.items():\n",
    "        new_key = inner_key(kv)\n",
    "        if new_key not in grouped_by:\n",
    "            grouped_by[new_key] = {}\n",
    "        key, value = kv\n",
    "        grouped_by[new_key][key] = value\n",
    "\n",
    "    if agg is not None:\n",
    "        return map_dict(grouped_by, v=agg)\n",
    "\n",
    "    return grouped_by"
   ]
  },
  {
   "cell_type": "code",
   "execution_count": null,
   "metadata": {},
   "outputs": [],
   "source": [
    "def get_laaos_files(laaos_dir=None):\n",
    "    if laaos_dir is None:\n",
    "        laaos_dir = \"./batchbald_redux/results\"\n",
    "\n",
    "    laaos_files = {}\n",
    "    for root, dirs, files in os.walk(laaos_dir, topdown=False):\n",
    "        for name in files:\n",
    "            if not name.endswith(\".py\"):\n",
    "                continue\n",
    "\n",
    "            rel_path = os.path.join(root, name)\n",
    "            result_name = rel_path[len(laaos_dir) :]\n",
    "            abs_path = os.path.abspath(rel_path)\n",
    "            laaos_files[result_name] = abs_path\n",
    "\n",
    "    return laaos_files\n",
    "\n",
    "\n",
    "def load_laaos_files(path=None, files=None, vanilla=False, tag=None, prefix=None):\n",
    "    if files is None:\n",
    "        files = get_laaos_files(path)\n",
    "\n",
    "    stores = {}\n",
    "    for name, path in files.items():\n",
    "\n",
    "        def nan():\n",
    "            pass\n",
    "\n",
    "        store = laaos.safe_load(path, exposed_symbols=[nan])\n",
    "        store[\"actual_name\"] = name\n",
    "        store[\"actual_path\"] = path\n",
    "        store[\"tag\"] = tag\n",
    "\n",
    "        key = f\"{prefix}{name}\" if prefix is not None else name\n",
    "        stores[key] = store\n",
    "\n",
    "    if vanilla:\n",
    "        return stores\n",
    "    else:\n",
    "        return map_dict(stores, v=functools.partial(to_namedtuple, name=\"Result\"))"
   ]
  },
  {
   "cell_type": "code",
   "execution_count": null,
   "metadata": {},
   "outputs": [],
   "source": [
    "results = load_laaos_files(\"./results/icml_xmi_cifar10_cold_2\")"
   ]
  },
  {
   "cell_type": "code",
   "execution_count": null,
   "metadata": {},
   "outputs": [
    {
     "data": {
      "text/plain": [
       "_config(seed=7777, id_dataset_name='CIFAR-10', initial_training_set_size=0, validation_set_size=5000, evaluation_set_size=0, id_repetitions=1, add_dataset_noise=False, validation_split_random_state=0, acquisition_size=1, max_training_set=250, num_pool_samples=100, num_validation_samples=20, num_training_samples=1, max_training_epochs=120, training_batch_size=128, device='cuda', min_samples_per_epoch=5056, patience_schedule=[6, 4, 3], factor_schedule=[0.1], acquisition_function='batchbald_redux.acquisition_functions.BALD', train_eval_model='batchbald_redux.train_eval_model.TrainSelfDistillationEvalModel', model_optimizer_factory='batchbald_redux.resnet_models.Cifar10BayesianResnetFactory', acquisition_function_args=None, temperature=0.0, prefer_accuracy=True)"
      ]
     },
     "execution_count": null,
     "metadata": {},
     "output_type": "execute_result"
    }
   ],
   "source": [
    "get_any(results).config"
   ]
  },
  {
   "cell_type": "code",
   "execution_count": null,
   "metadata": {},
   "outputs": [],
   "source": [
    "timestamps = pd.DataFrame.from_records(\n",
    "    [dict(job_id=result.job_id, timestamp=result.timestamp) for result in results.values()]\n",
    ")"
   ]
  },
  {
   "cell_type": "code",
   "execution_count": null,
   "metadata": {},
   "outputs": [
    {
     "data": {
      "text/html": [
       "<div>\n",
       "<style scoped>\n",
       "    .dataframe tbody tr th:only-of-type {\n",
       "        vertical-align: middle;\n",
       "    }\n",
       "\n",
       "    .dataframe tbody tr th {\n",
       "        vertical-align: top;\n",
       "    }\n",
       "\n",
       "    .dataframe thead th {\n",
       "        text-align: right;\n",
       "    }\n",
       "</style>\n",
       "<table border=\"1\" class=\"dataframe\">\n",
       "  <thead>\n",
       "    <tr style=\"text-align: right;\">\n",
       "      <th></th>\n",
       "      <th>job_id</th>\n",
       "      <th>timestamp</th>\n",
       "    </tr>\n",
       "  </thead>\n",
       "  <tbody>\n",
       "    <tr>\n",
       "      <th>0</th>\n",
       "      <td>0</td>\n",
       "      <td>1622972373</td>\n",
       "    </tr>\n",
       "    <tr>\n",
       "      <th>1</th>\n",
       "      <td>2</td>\n",
       "      <td>1622972339</td>\n",
       "    </tr>\n",
       "    <tr>\n",
       "      <th>2</th>\n",
       "      <td>9</td>\n",
       "      <td>1622972339</td>\n",
       "    </tr>\n",
       "    <tr>\n",
       "      <th>3</th>\n",
       "      <td>4</td>\n",
       "      <td>1622972352</td>\n",
       "    </tr>\n",
       "    <tr>\n",
       "      <th>4</th>\n",
       "      <td>8</td>\n",
       "      <td>1622972339</td>\n",
       "    </tr>\n",
       "    <tr>\n",
       "      <th>5</th>\n",
       "      <td>6</td>\n",
       "      <td>1622972373</td>\n",
       "    </tr>\n",
       "    <tr>\n",
       "      <th>6</th>\n",
       "      <td>1</td>\n",
       "      <td>1622972357</td>\n",
       "    </tr>\n",
       "    <tr>\n",
       "      <th>7</th>\n",
       "      <td>3</td>\n",
       "      <td>1622972383</td>\n",
       "    </tr>\n",
       "    <tr>\n",
       "      <th>8</th>\n",
       "      <td>5</td>\n",
       "      <td>1622972389</td>\n",
       "    </tr>\n",
       "    <tr>\n",
       "      <th>9</th>\n",
       "      <td>7</td>\n",
       "      <td>1622972357</td>\n",
       "    </tr>\n",
       "  </tbody>\n",
       "</table>\n",
       "</div>"
      ],
      "text/plain": [
       "   job_id   timestamp\n",
       "0       0  1622972373\n",
       "1       2  1622972339\n",
       "2       9  1622972339\n",
       "3       4  1622972352\n",
       "4       8  1622972339\n",
       "5       6  1622972373\n",
       "6       1  1622972357\n",
       "7       3  1622972383\n",
       "8       5  1622972389\n",
       "9       7  1622972357"
      ]
     },
     "execution_count": null,
     "metadata": {},
     "output_type": "execute_result"
    }
   ],
   "source": [
    "timestamps"
   ]
  },
  {
   "cell_type": "code",
   "execution_count": null,
   "metadata": {},
   "outputs": [
    {
     "data": {
      "text/plain": [
       "<AxesSubplot:xlabel='job_id', ylabel='timestamp'>"
      ]
     },
     "execution_count": null,
     "metadata": {},
     "output_type": "execute_result"
    },
    {
     "data": {
      "image/png": "[encoded data removed]",
      "text/plain": [
       "<Figure size 432x288 with 1 Axes>"
      ]
     },
     "metadata": {
      "needs_background": "light"
     },
     "output_type": "display_data"
    }
   ],
   "source": [
    "grd = sns.scatterplot(data=timestamps, x=\"job_id\", y=\"timestamp\")\n",
    "grd"
   ]
  },
  {
   "cell_type": "code",
   "execution_count": null,
   "metadata": {},
   "outputs": [
    {
     "data": {
      "text/plain": [
       "(10, 10)"
      ]
     },
     "execution_count": null,
     "metadata": {},
     "output_type": "execute_result"
    }
   ],
   "source": [
    "seed_acq_size_function_result = {}\n",
    "\n",
    "for result in results.values():\n",
    "    if not hasattr(result, \"config\"):\n",
    "        print(file, \"empty\")\n",
    "        continue\n",
    "\n",
    "    seed_acq_size_function_result[\n",
    "        (result.config.seed, result.config.acquisition_size, result.config.acquisition_function)\n",
    "    ] = result\n",
    "\n",
    "len(seed_acq_size_function_result), len(results)\n",
    "# list(sorted(seed_acq_size_function_result.keys()))"
   ]
  },
  {
   "cell_type": "code",
   "execution_count": null,
   "metadata": {},
   "outputs": [],
   "source": [
    "experiment_data = []\n",
    "\n",
    "for file, result in results.items():\n",
    "    if not hasattr(result, \"config\"):\n",
    "        print(file, \"empty\")\n",
    "        continue\n",
    "\n",
    "       \n",
    "    acquisition_size = result.config.acquisition_size\n",
    "    acquisition_function = result.config.acquisition_function[len(\"batchbald_redux.acquisition_functions.\") :]\n",
    "    num_pool_samples = result.config.num_pool_samples\n",
    "    \n",
    "    seed = result.config.seed\n",
    "\n",
    "    if acquisition_function == \"Random\":\n",
    "        acquisition_sizes = [5]\n",
    "    else:\n",
    "        acquisition_sizes = [acquisition_size]\n",
    "        \n",
    "    if acquisition_function == \"Random\":\n",
    "        num_pool_samples = [100]\n",
    "    else:\n",
    "        num_pool_samples = [num_pool_samples]\n",
    "        \n",
    "    for nps in num_pool_samples:\n",
    "        for acquisition_size in acquisition_sizes:\n",
    "            initial_set_size = len(result.initial_training_set_indices)\n",
    "\n",
    "            if (\n",
    "                initial_set_size\n",
    "                + sum(1 if hasattr(step, \"evaluation_metrics\") else 0 for step in result.active_learning_steps)\n",
    "                * result.config.acquisition_size\n",
    "                < 100\n",
    "            ):\n",
    "                print(len(result.active_learning_steps), file)\n",
    "                continue\n",
    "\n",
    "            for i, step in enumerate(result.active_learning_steps):\n",
    "                if not hasattr(step, \"evaluation_metrics\"):\n",
    "                    break\n",
    "                training_set_size = initial_set_size + i * result.config.acquisition_size\n",
    "                accuracy = step.evaluation_metrics.accuracy\n",
    "\n",
    "                experiment_data.append(\n",
    "                    dict(\n",
    "                        acquisition_function=acquisition_function,\n",
    "                        acquisition_size=acquisition_size,\n",
    "                        num_pool_samples=nps,\n",
    "                        training_set_size=training_set_size,\n",
    "                        accuracy=accuracy,\n",
    "                        seed=seed,\n",
    "                    )\n",
    "                )"
   ]
  },
  {
   "cell_type": "code",
   "execution_count": null,
   "metadata": {},
   "outputs": [],
   "source": [
    "df = pd.DataFrame.from_records(experiment_data)"
   ]
  },
  {
   "cell_type": "code",
   "execution_count": null,
   "metadata": {},
   "outputs": [
    {
     "data": {
      "text/html": [
       "<div>\n",
       "<style scoped>\n",
       "    .dataframe tbody tr th:only-of-type {\n",
       "        vertical-align: middle;\n",
       "    }\n",
       "\n",
       "    .dataframe tbody tr th {\n",
       "        vertical-align: top;\n",
       "    }\n",
       "\n",
       "    .dataframe thead th {\n",
       "        text-align: right;\n",
       "    }\n",
       "</style>\n",
       "<table border=\"1\" class=\"dataframe\">\n",
       "  <thead>\n",
       "    <tr style=\"text-align: right;\">\n",
       "      <th></th>\n",
       "      <th>acquisition_function</th>\n",
       "      <th>acquisition_size</th>\n",
       "      <th>num_pool_samples</th>\n",
       "      <th>training_set_size</th>\n",
       "      <th>accuracy</th>\n",
       "      <th>seed</th>\n",
       "    </tr>\n",
       "  </thead>\n",
       "  <tbody>\n",
       "    <tr>\n",
       "      <th>0</th>\n",
       "      <td>BALD</td>\n",
       "      <td>1</td>\n",
       "      <td>100</td>\n",
       "      <td>0</td>\n",
       "      <td>0.1000</td>\n",
       "      <td>7777</td>\n",
       "    </tr>\n",
       "    <tr>\n",
       "      <th>1</th>\n",
       "      <td>BALD</td>\n",
       "      <td>1</td>\n",
       "      <td>100</td>\n",
       "      <td>1</td>\n",
       "      <td>0.1000</td>\n",
       "      <td>7777</td>\n",
       "    </tr>\n",
       "    <tr>\n",
       "      <th>2</th>\n",
       "      <td>BALD</td>\n",
       "      <td>1</td>\n",
       "      <td>100</td>\n",
       "      <td>2</td>\n",
       "      <td>0.1076</td>\n",
       "      <td>7777</td>\n",
       "    </tr>\n",
       "    <tr>\n",
       "      <th>3</th>\n",
       "      <td>BALD</td>\n",
       "      <td>1</td>\n",
       "      <td>100</td>\n",
       "      <td>3</td>\n",
       "      <td>0.1038</td>\n",
       "      <td>7777</td>\n",
       "    </tr>\n",
       "    <tr>\n",
       "      <th>4</th>\n",
       "      <td>BALD</td>\n",
       "      <td>1</td>\n",
       "      <td>100</td>\n",
       "      <td>4</td>\n",
       "      <td>0.1118</td>\n",
       "      <td>7777</td>\n",
       "    </tr>\n",
       "    <tr>\n",
       "      <th>...</th>\n",
       "      <td>...</td>\n",
       "      <td>...</td>\n",
       "      <td>...</td>\n",
       "      <td>...</td>\n",
       "      <td>...</td>\n",
       "      <td>...</td>\n",
       "    </tr>\n",
       "    <tr>\n",
       "      <th>2505</th>\n",
       "      <td>CoreSetBALD</td>\n",
       "      <td>1</td>\n",
       "      <td>100</td>\n",
       "      <td>246</td>\n",
       "      <td>0.2825</td>\n",
       "      <td>7787</td>\n",
       "    </tr>\n",
       "    <tr>\n",
       "      <th>2506</th>\n",
       "      <td>CoreSetBALD</td>\n",
       "      <td>1</td>\n",
       "      <td>100</td>\n",
       "      <td>247</td>\n",
       "      <td>0.2616</td>\n",
       "      <td>7787</td>\n",
       "    </tr>\n",
       "    <tr>\n",
       "      <th>2507</th>\n",
       "      <td>CoreSetBALD</td>\n",
       "      <td>1</td>\n",
       "      <td>100</td>\n",
       "      <td>248</td>\n",
       "      <td>0.2869</td>\n",
       "      <td>7787</td>\n",
       "    </tr>\n",
       "    <tr>\n",
       "      <th>2508</th>\n",
       "      <td>CoreSetBALD</td>\n",
       "      <td>1</td>\n",
       "      <td>100</td>\n",
       "      <td>249</td>\n",
       "      <td>0.2824</td>\n",
       "      <td>7787</td>\n",
       "    </tr>\n",
       "    <tr>\n",
       "      <th>2509</th>\n",
       "      <td>CoreSetBALD</td>\n",
       "      <td>1</td>\n",
       "      <td>100</td>\n",
       "      <td>250</td>\n",
       "      <td>0.2726</td>\n",
       "      <td>7787</td>\n",
       "    </tr>\n",
       "  </tbody>\n",
       "</table>\n",
       "<p>2510 rows × 6 columns</p>\n",
       "</div>"
      ],
      "text/plain": [
       "     acquisition_function  acquisition_size  num_pool_samples  \\\n",
       "0                    BALD                 1               100   \n",
       "1                    BALD                 1               100   \n",
       "2                    BALD                 1               100   \n",
       "3                    BALD                 1               100   \n",
       "4                    BALD                 1               100   \n",
       "...                   ...               ...               ...   \n",
       "2505          CoreSetBALD                 1               100   \n",
       "2506          CoreSetBALD                 1               100   \n",
       "2507          CoreSetBALD                 1               100   \n",
       "2508          CoreSetBALD                 1               100   \n",
       "2509          CoreSetBALD                 1               100   \n",
       "\n",
       "      training_set_size  accuracy  seed  \n",
       "0                     0    0.1000  7777  \n",
       "1                     1    0.1000  7777  \n",
       "2                     2    0.1076  7777  \n",
       "3                     3    0.1038  7777  \n",
       "4                     4    0.1118  7777  \n",
       "...                 ...       ...   ...  \n",
       "2505                246    0.2825  7787  \n",
       "2506                247    0.2616  7787  \n",
       "2507                248    0.2869  7787  \n",
       "2508                249    0.2824  7787  \n",
       "2509                250    0.2726  7787  \n",
       "\n",
       "[2510 rows x 6 columns]"
      ]
     },
     "execution_count": null,
     "metadata": {},
     "output_type": "execute_result"
    }
   ],
   "source": [
    "df"
   ]
  },
  {
   "cell_type": "code",
   "execution_count": null,
   "metadata": {},
   "outputs": [
    {
     "data": {
      "text/plain": [
       "array([1])"
      ]
     },
     "execution_count": null,
     "metadata": {},
     "output_type": "execute_result"
    }
   ],
   "source": [
    "df.acquisition_size.unique()"
   ]
  },
  {
   "cell_type": "code",
   "execution_count": null,
   "metadata": {},
   "outputs": [
    {
     "name": "stdout",
     "output_type": "stream",
     "text": [
      "acquisition_size  acquisition_function\n",
      "1                 BALD                    5\n",
      "                  CoreSetBALD             5\n",
      "Name: num_trials, dtype: int64\n"
     ]
    }
   ],
   "source": [
    "num_trials_by_acquisition_size_and_function = (\n",
    "    df.groupby([\"acquisition_size\", \"acquisition_function\"])[\"seed\"].nunique()\n",
    ")\n",
    "num_trials_by_acquisition_size_and_function.name = \"num_trials\"\n",
    "print(num_trials_by_acquisition_size_and_function)\n",
    "\n",
    "num_trials_by_acquisition_size_and_function = num_trials_by_acquisition_size_and_function.reset_index()"
   ]
  },
  {
   "cell_type": "code",
   "execution_count": null,
   "metadata": {},
   "outputs": [
    {
     "data": {
      "image/png": "[encoded data removed]",
      "text/plain": [
       "<Figure size 576x360 with 1 Axes>"
      ]
     },
     "metadata": {},
     "output_type": "display_data"
    }
   ],
   "source": [
    "grd = sns.catplot(\n",
    "    data=num_trials_by_acquisition_size_and_function,\n",
    "    kind=\"bar\",\n",
    "    y=\"num_trials\",\n",
    "    x=\"acquisition_function\",\n",
    "    col=\"acquisition_size\",\n",
    "    aspect=1.6,\n",
    ")\n",
    "grd.fig.patch.set_alpha(1)"
   ]
  },
  {
   "cell_type": "code",
   "execution_count": null,
   "metadata": {},
   "outputs": [],
   "source": [
    "import matplotlib.pyplot as plt\n",
    "from matplotlib import rc\n",
    "\n",
    "# MatPlotLib style and settings (that also affect PlotNine)\n",
    "\n",
    "rc(\"text\", usetex=False)\n",
    "rc(\n",
    "    \"text.latex\",\n",
    "    preamble=r\"\"\"\n",
    "\\usepackage{bbm}\n",
    "\\usepackage{amsmath}\n",
    "\\usepackage{amsfonts}\n",
    "\"\"\",\n",
    ")"
   ]
  },
  {
   "cell_type": "code",
   "execution_count": null,
   "metadata": {},
   "outputs": [
    {
     "data": {
      "text/html": [
       "<svg  width=\"550\" height=\"55\"><rect x=\"0\" y=\"0\" width=\"55\" height=\"55\" style=\"fill:#1f77b4;stroke-width:2;stroke:rgb(255,255,255)\"/><rect x=\"55\" y=\"0\" width=\"55\" height=\"55\" style=\"fill:#ff7f0e;stroke-width:2;stroke:rgb(255,255,255)\"/><rect x=\"110\" y=\"0\" width=\"55\" height=\"55\" style=\"fill:#2ca02c;stroke-width:2;stroke:rgb(255,255,255)\"/><rect x=\"165\" y=\"0\" width=\"55\" height=\"55\" style=\"fill:#d62728;stroke-width:2;stroke:rgb(255,255,255)\"/><rect x=\"220\" y=\"0\" width=\"55\" height=\"55\" style=\"fill:#9467bd;stroke-width:2;stroke:rgb(255,255,255)\"/><rect x=\"275\" y=\"0\" width=\"55\" height=\"55\" style=\"fill:#8c564b;stroke-width:2;stroke:rgb(255,255,255)\"/><rect x=\"330\" y=\"0\" width=\"55\" height=\"55\" style=\"fill:#e377c2;stroke-width:2;stroke:rgb(255,255,255)\"/><rect x=\"385\" y=\"0\" width=\"55\" height=\"55\" style=\"fill:#7f7f7f;stroke-width:2;stroke:rgb(255,255,255)\"/><rect x=\"440\" y=\"0\" width=\"55\" height=\"55\" style=\"fill:#bcbd22;stroke-width:2;stroke:rgb(255,255,255)\"/><rect x=\"495\" y=\"0\" width=\"55\" height=\"55\" style=\"fill:#17becf;stroke-width:2;stroke:rgb(255,255,255)\"/></svg>"
      ],
      "text/plain": [
       "[(0.12156862745098039, 0.4666666666666667, 0.7058823529411765),\n",
       " (1.0, 0.4980392156862745, 0.054901960784313725),\n",
       " (0.17254901960784313, 0.6274509803921569, 0.17254901960784313),\n",
       " (0.8392156862745098, 0.15294117647058825, 0.1568627450980392),\n",
       " (0.5803921568627451, 0.403921568627451, 0.7411764705882353),\n",
       " (0.5490196078431373, 0.33725490196078434, 0.29411764705882354),\n",
       " (0.8901960784313725, 0.4666666666666667, 0.7607843137254902),\n",
       " (0.4980392156862745, 0.4980392156862745, 0.4980392156862745),\n",
       " (0.7372549019607844, 0.7411764705882353, 0.13333333333333333),\n",
       " (0.09019607843137255, 0.7450980392156863, 0.8117647058823529)]"
      ]
     },
     "execution_count": null,
     "metadata": {},
     "output_type": "execute_result"
    }
   ],
   "source": [
    "sns.set_style(\"whitegrid\")\n",
    "sns.color_palette()"
   ]
  },
  {
   "cell_type": "code",
   "execution_count": null,
   "metadata": {},
   "outputs": [],
   "source": [
    "def plt_save(grd, output_path, **kwargs):\n",
    "    # plt.style.use(\"seaborn-colorblind\")\n",
    "    grd.savefig(output_path, transparent=True, bbox_inches=\"tight\", pad_inches=0, **kwargs)"
   ]
  },
  {
   "cell_type": "code",
   "execution_count": null,
   "metadata": {},
   "outputs": [
    {
     "data": {
      "image/png": "[encoded data removed]",
      "text/plain": [
       "<Figure size 398.3x180 with 1 Axes>"
      ]
     },
     "metadata": {},
     "output_type": "display_data"
    }
   ],
   "source": [
    "grd = sns.relplot(\n",
    "    x=\"training_set_size\",\n",
    "    y=\"accuracy\",\n",
    "    #col=\"acquisition_size\",\n",
    "    #col=\"xmi_type\",\n",
    "    hue=\"acquisition_function\",\n",
    "    data=df,\n",
    "    kind=\"line\",\n",
    "    height=2.5,\n",
    "    aspect=1.61\n",
    ")\n",
    "\n",
    "grd.fig.patch.set_alpha(1)\n",
    "grd.set_xlabels(\"Training Set Size\")\n",
    "grd.set_ylabels(\"Accuracy\")\n",
    "grd._legend.set_title(\"Acquisition Function\")\n",
    "#grd.set_titles(\"CIFAR-10\")\n",
    "grd.tight_layout()\n",
    "#grd.ax.axhline(0.95, color=\"red\", linestyle=\"--\", alpha=0.25)\n",
    "#grd.ax.axhline(0.90, color=\"red\", linestyle=\"--\", alpha=0.25)\n",
    "#grd.ax.set_xlim(0, 200)"
   ]
  },
  {
   "cell_type": "code",
   "execution_count": null,
   "metadata": {},
   "outputs": [],
   "source": [
    "plt_save(grd, \"plots/coresetbald_cifar10_clean_cold.pdf\")"
   ]
  },
  {
   "cell_type": "code",
   "execution_count": null,
   "metadata": {},
   "outputs": [
    {
     "data": {
      "text/html": [
       "<div>\n",
       "<style scoped>\n",
       "    .dataframe tbody tr th:only-of-type {\n",
       "        vertical-align: middle;\n",
       "    }\n",
       "\n",
       "    .dataframe tbody tr th {\n",
       "        vertical-align: top;\n",
       "    }\n",
       "\n",
       "    .dataframe thead th {\n",
       "        text-align: right;\n",
       "    }\n",
       "</style>\n",
       "<table border=\"1\" class=\"dataframe\">\n",
       "  <thead>\n",
       "    <tr style=\"text-align: right;\">\n",
       "      <th></th>\n",
       "      <th>acquisition_function</th>\n",
       "      <th>acquisition_size</th>\n",
       "      <th>num_pool_samples</th>\n",
       "      <th>training_set_size</th>\n",
       "      <th>accuracy</th>\n",
       "      <th>seed</th>\n",
       "      <th>max_accuracy</th>\n",
       "    </tr>\n",
       "  </thead>\n",
       "  <tbody>\n",
       "    <tr>\n",
       "      <th>0</th>\n",
       "      <td>BALD</td>\n",
       "      <td>1</td>\n",
       "      <td>100</td>\n",
       "      <td>0</td>\n",
       "      <td>0.1000</td>\n",
       "      <td>7777</td>\n",
       "      <td>0.1000</td>\n",
       "    </tr>\n",
       "    <tr>\n",
       "      <th>2</th>\n",
       "      <td>BALD</td>\n",
       "      <td>1</td>\n",
       "      <td>100</td>\n",
       "      <td>2</td>\n",
       "      <td>0.1076</td>\n",
       "      <td>7777</td>\n",
       "      <td>0.1076</td>\n",
       "    </tr>\n",
       "    <tr>\n",
       "      <th>4</th>\n",
       "      <td>BALD</td>\n",
       "      <td>1</td>\n",
       "      <td>100</td>\n",
       "      <td>4</td>\n",
       "      <td>0.1118</td>\n",
       "      <td>7777</td>\n",
       "      <td>0.1118</td>\n",
       "    </tr>\n",
       "    <tr>\n",
       "      <th>5</th>\n",
       "      <td>BALD</td>\n",
       "      <td>1</td>\n",
       "      <td>100</td>\n",
       "      <td>5</td>\n",
       "      <td>0.1394</td>\n",
       "      <td>7777</td>\n",
       "      <td>0.1394</td>\n",
       "    </tr>\n",
       "    <tr>\n",
       "      <th>6</th>\n",
       "      <td>BALD</td>\n",
       "      <td>1</td>\n",
       "      <td>100</td>\n",
       "      <td>6</td>\n",
       "      <td>0.1464</td>\n",
       "      <td>7777</td>\n",
       "      <td>0.1464</td>\n",
       "    </tr>\n",
       "    <tr>\n",
       "      <th>...</th>\n",
       "      <td>...</td>\n",
       "      <td>...</td>\n",
       "      <td>...</td>\n",
       "      <td>...</td>\n",
       "      <td>...</td>\n",
       "      <td>...</td>\n",
       "      <td>...</td>\n",
       "    </tr>\n",
       "    <tr>\n",
       "      <th>2445</th>\n",
       "      <td>CoreSetBALD</td>\n",
       "      <td>1</td>\n",
       "      <td>100</td>\n",
       "      <td>186</td>\n",
       "      <td>0.2905</td>\n",
       "      <td>7787</td>\n",
       "      <td>0.2905</td>\n",
       "    </tr>\n",
       "    <tr>\n",
       "      <th>2456</th>\n",
       "      <td>CoreSetBALD</td>\n",
       "      <td>1</td>\n",
       "      <td>100</td>\n",
       "      <td>197</td>\n",
       "      <td>0.3017</td>\n",
       "      <td>7787</td>\n",
       "      <td>0.3017</td>\n",
       "    </tr>\n",
       "    <tr>\n",
       "      <th>2464</th>\n",
       "      <td>CoreSetBALD</td>\n",
       "      <td>1</td>\n",
       "      <td>100</td>\n",
       "      <td>205</td>\n",
       "      <td>0.3050</td>\n",
       "      <td>7787</td>\n",
       "      <td>0.3050</td>\n",
       "    </tr>\n",
       "    <tr>\n",
       "      <th>2471</th>\n",
       "      <td>CoreSetBALD</td>\n",
       "      <td>1</td>\n",
       "      <td>100</td>\n",
       "      <td>212</td>\n",
       "      <td>0.3062</td>\n",
       "      <td>7787</td>\n",
       "      <td>0.3062</td>\n",
       "    </tr>\n",
       "    <tr>\n",
       "      <th>2472</th>\n",
       "      <td>CoreSetBALD</td>\n",
       "      <td>1</td>\n",
       "      <td>100</td>\n",
       "      <td>213</td>\n",
       "      <td>0.3103</td>\n",
       "      <td>7787</td>\n",
       "      <td>0.3103</td>\n",
       "    </tr>\n",
       "  </tbody>\n",
       "</table>\n",
       "<p>335 rows × 7 columns</p>\n",
       "</div>"
      ],
      "text/plain": [
       "     acquisition_function  acquisition_size  num_pool_samples  \\\n",
       "0                    BALD                 1               100   \n",
       "2                    BALD                 1               100   \n",
       "4                    BALD                 1               100   \n",
       "5                    BALD                 1               100   \n",
       "6                    BALD                 1               100   \n",
       "...                   ...               ...               ...   \n",
       "2445          CoreSetBALD                 1               100   \n",
       "2456          CoreSetBALD                 1               100   \n",
       "2464          CoreSetBALD                 1               100   \n",
       "2471          CoreSetBALD                 1               100   \n",
       "2472          CoreSetBALD                 1               100   \n",
       "\n",
       "      training_set_size  accuracy  seed  max_accuracy  \n",
       "0                     0    0.1000  7777        0.1000  \n",
       "2                     2    0.1076  7777        0.1076  \n",
       "4                     4    0.1118  7777        0.1118  \n",
       "5                     5    0.1394  7777        0.1394  \n",
       "6                     6    0.1464  7777        0.1464  \n",
       "...                 ...       ...   ...           ...  \n",
       "2445                186    0.2905  7787        0.2905  \n",
       "2456                197    0.3017  7787        0.3017  \n",
       "2464                205    0.3050  7787        0.3050  \n",
       "2471                212    0.3062  7787        0.3062  \n",
       "2472                213    0.3103  7787        0.3103  \n",
       "\n",
       "[335 rows x 7 columns]"
      ]
     },
     "execution_count": null,
     "metadata": {},
     "output_type": "execute_result"
    }
   ],
   "source": [
    "import qgrid\n",
    "\n",
    "df[\"max_accuracy\"] = df.groupby([\"seed\", \"acquisition_size\", \"acquisition_function\"]).accuracy.cummax()\n",
    "\n",
    "df_max_accuracy = df.drop_duplicates(subset=[\"seed\", \"acquisition_size\", \"acquisition_function\", \"num_pool_samples\", \"max_accuracy\"])\n",
    "df_max_accuracy"
   ]
  },
  {
   "cell_type": "code",
   "execution_count": null,
   "metadata": {},
   "outputs": [
    {
     "data": {
      "image/png": "[encoded data removed]",
      "text/plain": [
       "<Figure size 468.5x360 with 1 Axes>"
      ]
     },
     "metadata": {},
     "output_type": "display_data"
    }
   ],
   "source": [
    "grd = sns.relplot(\n",
    "    y=\"training_set_size\",\n",
    "    x=\"max_accuracy\",\n",
    "    #col=\"xmi_type\",\n",
    "    hue=\"acquisition_function\",\n",
    "    data=df_max_accuracy[df_max_accuracy.acquisition_function != \"Random\"],\n",
    "    kind=\"scatter\",\n",
    "    height=5,\n",
    "    alpha=0.5,\n",
    ")\n",
    "\n",
    "grd.fig.patch.set_alpha(1)"
   ]
  },
  {
   "cell_type": "code",
   "execution_count": null,
   "metadata": {},
   "outputs": [],
   "source": [
    "df2 = df[(df.accuracy >= 0.90) & (df.acquisition_function != \"Random\")].groupby([\"seed\", \"acquisition_size\", \"acquisition_function\"]).first()"
   ]
  },
  {
   "cell_type": "code",
   "execution_count": null,
   "metadata": {},
   "outputs": [],
   "source": [
    "df3 = df2.groupby([\"acquisition_size\", \"acquisition_function\"]).training_set_size.quantile([0.25, 0.5, 0.75])"
   ]
  },
  {
   "cell_type": "code",
   "execution_count": null,
   "metadata": {},
   "outputs": [
    {
     "name": "stdout",
     "output_type": "stream",
     "text": [
      "Empty DataFrame\n",
      "Columns: []\n",
      "Index: []\n"
     ]
    }
   ],
   "source": [
    "print(df3.unstack())"
   ]
  },
  {
   "cell_type": "code",
   "execution_count": null,
   "metadata": {},
   "outputs": [],
   "source": [
    "df2 = df[(df.accuracy >= 0.95) & (df.acquisition_function != \"Random\")].groupby([\"seed\", \"acquisition_size\", \"acquisition_function\",]).first()"
   ]
  },
  {
   "cell_type": "code",
   "execution_count": null,
   "metadata": {},
   "outputs": [],
   "source": [
    "df3 = df2.groupby([\"acquisition_size\", \"acquisition_function\",]).training_set_size.quantile([0.25, 0.5, 0.75])"
   ]
  },
  {
   "cell_type": "code",
   "execution_count": null,
   "metadata": {},
   "outputs": [
    {
     "name": "stdout",
     "output_type": "stream",
     "text": [
      "                                         0.25   0.50   0.75\n",
      "acquisition_size acquisition_function                      \n",
      "1                BALD                  135.00  135.5  136.0\n",
      "                 CoreSetBALD           114.25  116.5  120.0\n"
     ]
    }
   ],
   "source": [
    "print(df3.unstack())"
   ]
  },
  {
   "cell_type": "code",
   "execution_count": null,
   "metadata": {},
   "outputs": [],
   "source": []
  }
 ],
 "metadata": {
  "kernelspec": {
   "display_name": "Python [conda env:active_learning]",
   "language": "python",
   "name": "conda-env-active_learning-py"
  }
 },
 "nbformat": 4,
 "nbformat_minor": 4
}
