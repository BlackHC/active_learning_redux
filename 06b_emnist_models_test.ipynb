{
 "cells": [
  {
   "cell_type": "markdown",
   "metadata": {},
   "source": [
    "# EMNIST Models\n",
    "> To avoid copy-pasta #2"
   ]
  },
  {
   "cell_type": "code",
   "execution_count": null,
   "metadata": {},
   "outputs": [
    {
     "name": "stdout",
     "output_type": "stream",
     "text": [
      "Appended /home/blackhc/PycharmProjects/bald-ical/src to paths\n",
      "Switched to directory /home/blackhc/PycharmProjects/bald-ical\n",
      "%load_ext autoreload\n",
      "%autoreload 2\n"
     ]
    }
   ],
   "source": [
    "# hide\n",
    "import blackhc.project.script\n",
    "from nbdev.showdoc import *"
   ]
  },
  {
   "cell_type": "code",
   "execution_count": null,
   "metadata": {},
   "outputs": [],
   "source": [
    "import torch\n",
    "\n",
    "from batchbald_redux.models import *\n",
    "from batchbald_redux.consistent_mc_dropout import GradEmbeddingType"
   ]
  },
  {
   "cell_type": "code",
   "execution_count": null,
   "metadata": {},
   "outputs": [
    {
     "data": {
      "text/plain": [
       "BayesianEMNISTCNN(\n",
       "  (conv1): Conv2d(1, 32, kernel_size=(3, 3), stride=(1, 1))\n",
       "  (conv1_drop): ConsistentMCDropout2d(p=0.5)\n",
       "  (conv2): Conv2d(32, 64, kernel_size=(3, 3), stride=(1, 1))\n",
       "  (conv2_drop): ConsistentMCDropout2d(p=0.5)\n",
       "  (conv3): Conv2d(64, 128, kernel_size=(3, 3), stride=(1, 1))\n",
       "  (conv3_drop): ConsistentMCDropout2d(p=0.5)\n",
       "  (fc1): Linear(in_features=2048, out_features=512, bias=True)\n",
       "  (fc1_drop): ConsistentMCDropout(p=0.5)\n",
       "  (fc2): Linear(in_features=512, out_features=47, bias=True)\n",
       ")"
      ]
     },
     "execution_count": null,
     "metadata": {},
     "output_type": "execute_result"
    }
   ],
   "source": [
    "BayesianEMNISTCNN()"
   ]
  },
  {
   "cell_type": "code",
   "execution_count": null,
   "metadata": {},
   "outputs": [
    {
     "data": {
      "application/vnd.jupyter.widget-view+json": {
       "model_id": "00a77e8617634bc1af33bb2b842d4f30",
       "version_major": 2,
       "version_minor": 0
      },
      "text/plain": [
       "100%|##########| 1/1 [00:00<?, ?it/s]"
      ]
     },
     "metadata": {},
     "output_type": "display_data"
    },
    {
     "data": {
      "application/vnd.jupyter.widget-view+json": {
       "model_id": "",
       "version_major": 2,
       "version_minor": 0
      },
      "text/plain": [
       "[1/10905]   0%|           [00:00<?]"
      ]
     },
     "metadata": {},
     "output_type": "display_data"
    },
    {
     "data": {
      "application/vnd.jupyter.widget-view+json": {
       "model_id": "",
       "version_major": 2,
       "version_minor": 0
      },
      "text/plain": [
       "[1/909]   0%|           [00:00<?]"
      ]
     },
     "metadata": {},
     "output_type": "display_data"
    },
    {
     "name": "stdout",
     "output_type": "stream",
     "text": [
      "Epoch metrics: {'accuracy': 0.8702750101011838, 'crossentropy': 0.411719482067175}\n"
     ]
    },
    {
     "name": "stderr",
     "output_type": "stream",
     "text": [
      "Failed to detect the name of this notebook, you can set it manually with the WANDB_NOTEBOOK_NAME environment variable to enable code saving.\n"
     ]
    },
    {
     "name": "stdout",
     "output_type": "stream",
     "text": [
      "RestoringEarlyStopping: Restoring best parameters. (Score: 0.8702750101011838)\n",
      "RestoringEarlyStopping: Restoring optimizer.\n",
      "{'/val_metrics': <wandb.data_types.Table object at 0x7fd2dd914e50>, '/best_epoch': 0, '/best_val_accuracy': 0.8702750101011838, '/best_val_crossentropy': 0.411719482067175}\n"
     ]
    }
   ],
   "source": [
    "# slow\n",
    "\n",
    "from batchbald_redux.datasets import factories\n",
    "\n",
    "emnist_dataset_split = factories.get_dataset(\"EMNIST\", device_hint=\"cuda\")\n",
    "\n",
    "model_trainer = EMnistModelTrainer(\"cuda\", max_training_epochs=1)\n",
    "\n",
    "train_loader = model_trainer.get_train_dataloader(emnist_dataset_split.train)\n",
    "\n",
    "test_loader = model_trainer.get_evaluation_dataloader(emnist_dataset_split.test)\n",
    "\n",
    "log = {}\n",
    "trained_model = model_trainer.get_trained(train_loader=train_loader, train_augmentations=None, validation_loader=test_loader, log=log, wandb_key_path=\"\")"
   ]
  },
  {
   "cell_type": "code",
   "execution_count": null,
   "metadata": {},
   "outputs": [
    {
     "data": {
      "application/vnd.jupyter.widget-view+json": {
       "model_id": "4506dd40f40c46f28bdcaee0171d640b",
       "version_major": 2,
       "version_minor": 0
      },
      "text/plain": [
       "100%|##########| 1/1 [00:00<?, ?it/s]"
      ]
     },
     "metadata": {},
     "output_type": "display_data"
    },
    {
     "data": {
      "application/vnd.jupyter.widget-view+json": {
       "model_id": "",
       "version_major": 2,
       "version_minor": 0
      },
      "text/plain": [
       "[1/1090]   0%|           [00:00<?]"
      ]
     },
     "metadata": {},
     "output_type": "display_data"
    },
    {
     "data": {
      "application/vnd.jupyter.widget-view+json": {
       "model_id": "",
       "version_major": 2,
       "version_minor": 0
      },
      "text/plain": [
       "[1/909]   0%|           [00:00<?]"
      ]
     },
     "metadata": {},
     "output_type": "display_data"
    },
    {
     "name": "stdout",
     "output_type": "stream",
     "text": [
      "Epoch metrics: {'accuracy': 0.8232593726090283, 'crossentropy': 0.5877669963162917}\n",
      "RestoringEarlyStopping: Restoring best parameters. (Score: 0.8232593726090283)\n",
      "RestoringEarlyStopping: Restoring optimizer.\n",
      "{'/val_metrics': <wandb.data_types.Table object at 0x7fd2dd914940>, '/best_epoch': 0, '/best_val_accuracy': 0.8232593726090283, '/best_val_crossentropy': 0.5877669963162917}\n"
     ]
    }
   ],
   "source": [
    "# slow\n",
    "\n",
    "from batchbald_redux.datasets import factories\n",
    "\n",
    "emnist_dataset_split = factories.get_dataset(\"EMNIST\", device_hint=\"cuda\")\n",
    "\n",
    "model_trainer = EMnistModelTrainer(\"cuda\", max_training_epochs=1)\n",
    "\n",
    "train_loader = model_trainer.get_train_dataloader(emnist_dataset_split.train * 0.1)\n",
    "\n",
    "test_loader = model_trainer.get_evaluation_dataloader(emnist_dataset_split.test)\n",
    "\n",
    "log = {}\n",
    "trained_model = model_trainer.get_trained(train_loader=train_loader, train_augmentations=None, validation_loader=test_loader, log=log, wandb_key_path=\"\")"
   ]
  },
  {
   "cell_type": "code",
   "execution_count": null,
   "metadata": {},
   "outputs": [
    {
     "data": {
      "application/vnd.jupyter.widget-view+json": {
       "model_id": "",
       "version_major": 2,
       "version_minor": 0
      },
      "text/plain": [
       "get_embeddings:   0%|          | 0/116323 [00:00<?, ?it/s]"
      ]
     },
     "metadata": {},
     "output_type": "display_data"
    },
    {
     "data": {
      "text/plain": [
       "torch.Size([116323, 1, 512])"
      ]
     },
     "execution_count": null,
     "metadata": {},
     "output_type": "execute_result"
    }
   ],
   "source": [
    "# slow\n",
    "\n",
    "trained_model.model.get_embeddings(num_samples=0, loader=test_loader, device=\"cuda\", storage_device=\"cpu\").shape\n"
   ]
  },
  {
   "cell_type": "code",
   "execution_count": null,
   "metadata": {},
   "outputs": [
    {
     "data": {
      "application/vnd.jupyter.widget-view+json": {
       "model_id": "",
       "version_major": 2,
       "version_minor": 0
      },
      "text/plain": [
       "get_grad_embeddings:   0%|          | 0/116323 [00:00<?, ?it/s]"
      ]
     },
     "metadata": {},
     "output_type": "display_data"
    },
    {
     "data": {
      "text/plain": [
       "torch.Size([116323, 1, 24111])"
      ]
     },
     "execution_count": null,
     "metadata": {},
     "output_type": "execute_result"
    }
   ],
   "source": [
    "# slow\n",
    "\n",
    "trained_model.model.get_grad_embeddings(num_samples=0, loader=test_loader, loss=torch.nn.functional.nll_loss, grad_embedding_type=GradEmbeddingType.BIAS_LINEAR, model_labels=False, device=\"cuda\", storage_device=\"cpu\").shape"
   ]
  },
  {
   "cell_type": "code",
   "execution_count": null,
   "metadata": {},
   "outputs": [
    {
     "data": {
      "application/vnd.jupyter.widget-view+json": {
       "model_id": "",
       "version_major": 2,
       "version_minor": 0
      },
      "text/plain": [
       "get_grad_embeddings:   0%|          | 0/116323 [00:00<?, ?it/s]"
      ]
     },
     "metadata": {},
     "output_type": "display_data"
    },
    {
     "data": {
      "text/plain": [
       "torch.Size([116323, 1, 24111])"
      ]
     },
     "execution_count": null,
     "metadata": {},
     "output_type": "execute_result"
    }
   ],
   "source": [
    "trained_model.model.get_grad_embeddings(num_samples=0, loader=test_loader, loss=torch.nn.functional.nll_loss, grad_embedding_type=GradEmbeddingType.BIAS_LINEAR, model_labels=True, device=\"cuda\", storage_device=\"cpu\").shape"
   ]
  }
 ],
 "metadata": {
  "kernelspec": {
   "display_name": "Python [conda env:active_learning]",
   "language": "python",
   "name": "conda-env-active_learning-py"
  }
 },
 "nbformat": 4,
 "nbformat_minor": 4
}
