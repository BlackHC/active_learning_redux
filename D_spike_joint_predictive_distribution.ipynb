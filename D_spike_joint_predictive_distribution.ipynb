{
 "cells": [
  {
   "cell_type": "markdown",
   "metadata": {},
   "source": [
    "# Spike for online Bayesian inference on MNIST\n",
    "> Ignorance is strength"
   ]
  },
  {
   "cell_type": "code",
   "execution_count": null,
   "metadata": {},
   "outputs": [
    {
     "name": "stdout",
     "output_type": "stream",
     "text": [
      "Appended /home/blackhc/PycharmProjects/bald-ical/src to paths\n",
      "Switched to directory /home/blackhc/PycharmProjects/bald-ical\n",
      "%load_ext autoreload\n",
      "%autoreload 2\n"
     ]
    }
   ],
   "source": [
    "# hide\n",
    "import blackhc.project.script"
   ]
  },
  {
   "cell_type": "code",
   "execution_count": null,
   "metadata": {},
   "outputs": [],
   "source": [
    "from batchbald_redux import online_bayesian_inference"
   ]
  },
  {
   "cell_type": "code",
   "execution_count": null,
   "metadata": {},
   "outputs": [],
   "source": [
    "import collections\n",
    "import functools\n",
    "import math\n",
    "import os\n",
    "import re\n",
    "from collections import namedtuple\n",
    "from dataclasses import dataclass\n",
    "from typing import NamedTuple\n",
    "\n",
    "import laaos\n",
    "import pandas as pd\n",
    "import seaborn as sns"
   ]
  },
  {
   "cell_type": "code",
   "execution_count": null,
   "metadata": {},
   "outputs": [],
   "source": [
    "# https://codereview.stackexchange.com/questions/85311/transform-snake-case-to-camelcase\n",
    "def camel_case_name(snake_case_name):\n",
    "    return re.sub(\"_([a-z])\", lambda match: match.group(1).upper(), snake_case_name)\n",
    "\n",
    "\n",
    "__namedtuples = {}\n",
    "\n",
    "\n",
    "def to_namedtuple(obj, name):\n",
    "    type_name = \"_\" + camel_case_name(name)\n",
    "    if isinstance(obj, dict):\n",
    "        keys = tuple(obj.keys())\n",
    "        if keys in __namedtuples:\n",
    "            nt = __namedtuples[keys]\n",
    "        else:\n",
    "            nt = namedtuple(type_name, keys)\n",
    "            __namedtuples[keys] = nt\n",
    "        return nt(*(to_namedtuple(v, k) for k, v in obj.items()))\n",
    "    if isinstance(obj, list):\n",
    "        item_type_name = type_name + \"Item\"\n",
    "        return [to_namedtuple(item, item_type_name) for item in obj]\n",
    "    if isinstance(obj, set):\n",
    "        item_type_name = type_name + \"Item\"\n",
    "        return {to_namedtuple(item, item_type_name) for item in obj}\n",
    "    if isinstance(obj, tuple):\n",
    "        item_type_name = type_name + \"Item\"\n",
    "        return tuple(to_namedtuple(item, item_type_name) for item in obj)\n",
    "\n",
    "    return obj\n",
    "\n",
    "\n",
    "def get_any(d: dict):\n",
    "    return next(iter(d.values()))\n",
    "\n",
    "\n",
    "def handle_map_funcs(func_kv, func_k, func_v, default=None):\n",
    "    if func_kv:\n",
    "        assert func_k is None and func_v is None\n",
    "\n",
    "        def inner(kv):\n",
    "            return func_kv(*kv)\n",
    "\n",
    "    elif func_k:\n",
    "        assert func_v is None\n",
    "\n",
    "        def inner(kv):\n",
    "            return func_k(kv[0]), kv[1]\n",
    "\n",
    "    elif func_v:\n",
    "\n",
    "        def inner(kv):\n",
    "            return kv[0], func_v(kv[1])\n",
    "\n",
    "    else:\n",
    "        return default\n",
    "    return inner\n",
    "\n",
    "\n",
    "def handle_unary_funcs(pred_kv, pred_k, pred_v, default=None):\n",
    "    if pred_kv:\n",
    "        assert pred_k is None and pred_v is None\n",
    "\n",
    "        def inner(kv):\n",
    "            return pred_kv(*kv)\n",
    "\n",
    "    elif pred_k:\n",
    "        assert pred_v is None\n",
    "\n",
    "        def inner(kv):\n",
    "            return pred_k(kv[0])\n",
    "\n",
    "    elif pred_v:\n",
    "\n",
    "        def inner(kv):\n",
    "            return pred_v(kv[1])\n",
    "\n",
    "    else:\n",
    "        return default\n",
    "    return inner\n",
    "\n",
    "\n",
    "def map_dict(d: dict, *, kv=None, k=None, v=None):\n",
    "    inner = handle_map_funcs(kv, k, v)\n",
    "    return dict(map(inner, d.items()))\n",
    "\n",
    "\n",
    "def filter_dict(d: dict, *, kv=None, k=None, v=None):\n",
    "    inner_pred = handle_unary_funcs(kv, k, v)\n",
    "    return dict(filter(inner_pred, d.items()))\n",
    "\n",
    "\n",
    "def sort_dict(d: dict, *, reverse=False, kv=None, k=None, v=None):\n",
    "    inner_key = handle_unary_funcs(kv, k, v, default=lambda ikv: ikv[0])\n",
    "    return dict(sorted(d.items(), key=inner_key, reverse=reverse))\n",
    "\n",
    "\n",
    "def groupby_dict(d: dict, *, key_kv=None, key_k=None, key_v=None, agg=None):\n",
    "    inner_key = handle_unary_funcs(key_kv, key_k, key_v)\n",
    "\n",
    "    grouped_by = {}\n",
    "    for kv in d.items():\n",
    "        new_key = inner_key(kv)\n",
    "        if new_key not in grouped_by:\n",
    "            grouped_by[new_key] = {}\n",
    "        key, value = kv\n",
    "        grouped_by[new_key][key] = value\n",
    "\n",
    "    if agg is not None:\n",
    "        return map_dict(grouped_by, v=agg)\n",
    "\n",
    "    return grouped_by"
   ]
  },
  {
   "cell_type": "code",
   "execution_count": null,
   "metadata": {},
   "outputs": [],
   "source": [
    "def get_laaos_files(laaos_dir=None):\n",
    "    if laaos_dir is None:\n",
    "        laaos_dir = \"./batchbald_redux/results\"\n",
    "\n",
    "    laaos_files = {}\n",
    "    for root, dirs, files in os.walk(laaos_dir, topdown=False):\n",
    "        for name in files:\n",
    "            if not name.endswith(\".py\"):\n",
    "                continue\n",
    "\n",
    "            rel_path = os.path.join(root, name)\n",
    "            result_name = rel_path[len(laaos_dir) :]\n",
    "            abs_path = os.path.abspath(rel_path)\n",
    "            laaos_files[result_name] = abs_path\n",
    "\n",
    "    return laaos_files\n",
    "\n",
    "\n",
    "def load_laaos_files(path=None, files=None, vanilla=False, tag=None, prefix=None):\n",
    "    if files is None:\n",
    "        files = get_laaos_files(path)\n",
    "\n",
    "    stores = {}\n",
    "    for name, path in files.items():\n",
    "\n",
    "        def nan():\n",
    "            pass\n",
    "\n",
    "        store = laaos.safe_load(path, exposed_symbols=[nan])\n",
    "        store[\"actual_name\"] = name\n",
    "        store[\"actual_path\"] = path\n",
    "        store[\"tag\"] = tag\n",
    "\n",
    "        key = f\"{prefix}{name}\" if prefix is not None else name\n",
    "        stores[key] = store\n",
    "\n",
    "    if vanilla:\n",
    "        return stores\n",
    "    else:\n",
    "        return map_dict(stores, v=functools.partial(to_namedtuple, name=\"Result\"))"
   ]
  },
  {
   "cell_type": "code",
   "execution_count": null,
   "metadata": {},
   "outputs": [],
   "source": [
    "results = {}"
   ]
  },
  {
   "cell_type": "code",
   "execution_count": null,
   "metadata": {},
   "outputs": [],
   "source": [
    "results.update(load_laaos_files(\"./results/xmi_mnist_clean\"))"
   ]
  },
  {
   "cell_type": "code",
   "execution_count": null,
   "metadata": {},
   "outputs": [
    {
     "data": {
      "text/plain": [
       "_config(seed=12, acquisition_size=1, max_training_set=300, num_pool_samples=100, num_validation_samples=20, num_training_samples=1, num_patience_epochs=20, max_training_epochs=120, training_batch_size=64, device='cuda', validation_set_size=1024, initial_training_set_size=20, min_samples_per_epoch=1024, repeated_mnist_repetitions=1, add_dataset_noise=False, acquisition_function='batchbald_redux.acquisition_functions.BALD', train_eval_model='batchbald_redux.train_eval_model.TrainSelfDistillationEvalModel', model_optimizer_factory='batchbald_redux.models.MnistOptimizerFactory', acquisition_function_args=None, temperature=8)"
      ]
     },
     "execution_count": null,
     "metadata": {},
     "output_type": "execute_result"
    }
   ],
   "source": [
    "get_any(results).config"
   ]
  },
  {
   "cell_type": "code",
   "execution_count": null,
   "metadata": {},
   "outputs": [],
   "source": [
    "timestamps = pd.DataFrame.from_records(\n",
    "    [dict(job_id=result.job_id, timestamp=result.timestamp) for result in results.values()]\n",
    ")"
   ]
  },
  {
   "cell_type": "code",
   "execution_count": null,
   "metadata": {},
   "outputs": [
    {
     "data": {
      "text/html": [
       "<div>\n",
       "<style scoped>\n",
       "    .dataframe tbody tr th:only-of-type {\n",
       "        vertical-align: middle;\n",
       "    }\n",
       "\n",
       "    .dataframe tbody tr th {\n",
       "        vertical-align: top;\n",
       "    }\n",
       "\n",
       "    .dataframe thead th {\n",
       "        text-align: right;\n",
       "    }\n",
       "</style>\n",
       "<table border=\"1\" class=\"dataframe\">\n",
       "  <thead>\n",
       "    <tr style=\"text-align: right;\">\n",
       "      <th></th>\n",
       "      <th>job_id</th>\n",
       "      <th>timestamp</th>\n",
       "    </tr>\n",
       "  </thead>\n",
       "  <tbody>\n",
       "    <tr>\n",
       "      <th>0</th>\n",
       "      <td>8</td>\n",
       "      <td>1621292074</td>\n",
       "    </tr>\n",
       "    <tr>\n",
       "      <th>1</th>\n",
       "      <td>6</td>\n",
       "      <td>1621286684</td>\n",
       "    </tr>\n",
       "    <tr>\n",
       "      <th>2</th>\n",
       "      <td>9</td>\n",
       "      <td>1622897637</td>\n",
       "    </tr>\n",
       "    <tr>\n",
       "      <th>3</th>\n",
       "      <td>14</td>\n",
       "      <td>1621293068</td>\n",
       "    </tr>\n",
       "    <tr>\n",
       "      <th>4</th>\n",
       "      <td>6</td>\n",
       "      <td>1622897604</td>\n",
       "    </tr>\n",
       "    <tr>\n",
       "      <th>5</th>\n",
       "      <td>11</td>\n",
       "      <td>1621292710</td>\n",
       "    </tr>\n",
       "    <tr>\n",
       "      <th>6</th>\n",
       "      <td>5</td>\n",
       "      <td>1621286163</td>\n",
       "    </tr>\n",
       "    <tr>\n",
       "      <th>7</th>\n",
       "      <td>1</td>\n",
       "      <td>1621280258</td>\n",
       "    </tr>\n",
       "    <tr>\n",
       "      <th>8</th>\n",
       "      <td>7</td>\n",
       "      <td>1622897593</td>\n",
       "    </tr>\n",
       "    <tr>\n",
       "      <th>9</th>\n",
       "      <td>13</td>\n",
       "      <td>1621293126</td>\n",
       "    </tr>\n",
       "    <tr>\n",
       "      <th>10</th>\n",
       "      <td>7</td>\n",
       "      <td>1621286723</td>\n",
       "    </tr>\n",
       "    <tr>\n",
       "      <th>11</th>\n",
       "      <td>0</td>\n",
       "      <td>1622897150</td>\n",
       "    </tr>\n",
       "    <tr>\n",
       "      <th>12</th>\n",
       "      <td>5</td>\n",
       "      <td>1622897586</td>\n",
       "    </tr>\n",
       "    <tr>\n",
       "      <th>13</th>\n",
       "      <td>10</td>\n",
       "      <td>1621292245</td>\n",
       "    </tr>\n",
       "    <tr>\n",
       "      <th>14</th>\n",
       "      <td>1</td>\n",
       "      <td>1622897134</td>\n",
       "    </tr>\n",
       "    <tr>\n",
       "      <th>15</th>\n",
       "      <td>3</td>\n",
       "      <td>1621280267</td>\n",
       "    </tr>\n",
       "    <tr>\n",
       "      <th>16</th>\n",
       "      <td>2</td>\n",
       "      <td>1621280275</td>\n",
       "    </tr>\n",
       "    <tr>\n",
       "      <th>17</th>\n",
       "      <td>9</td>\n",
       "      <td>1621292227</td>\n",
       "    </tr>\n",
       "    <tr>\n",
       "      <th>18</th>\n",
       "      <td>4</td>\n",
       "      <td>1622897123</td>\n",
       "    </tr>\n",
       "    <tr>\n",
       "      <th>19</th>\n",
       "      <td>4</td>\n",
       "      <td>1621285931</td>\n",
       "    </tr>\n",
       "    <tr>\n",
       "      <th>20</th>\n",
       "      <td>3</td>\n",
       "      <td>1622897142</td>\n",
       "    </tr>\n",
       "    <tr>\n",
       "      <th>21</th>\n",
       "      <td>12</td>\n",
       "      <td>1621293096</td>\n",
       "    </tr>\n",
       "    <tr>\n",
       "      <th>22</th>\n",
       "      <td>8</td>\n",
       "      <td>1622897618</td>\n",
       "    </tr>\n",
       "    <tr>\n",
       "      <th>23</th>\n",
       "      <td>0</td>\n",
       "      <td>1621280299</td>\n",
       "    </tr>\n",
       "    <tr>\n",
       "      <th>24</th>\n",
       "      <td>2</td>\n",
       "      <td>1622897119</td>\n",
       "    </tr>\n",
       "  </tbody>\n",
       "</table>\n",
       "</div>"
      ],
      "text/plain": [
       "    job_id   timestamp\n",
       "0        8  1621292074\n",
       "1        6  1621286684\n",
       "2        9  1622897637\n",
       "3       14  1621293068\n",
       "4        6  1622897604\n",
       "5       11  1621292710\n",
       "6        5  1621286163\n",
       "7        1  1621280258\n",
       "8        7  1622897593\n",
       "9       13  1621293126\n",
       "10       7  1621286723\n",
       "11       0  1622897150\n",
       "12       5  1622897586\n",
       "13      10  1621292245\n",
       "14       1  1622897134\n",
       "15       3  1621280267\n",
       "16       2  1621280275\n",
       "17       9  1621292227\n",
       "18       4  1622897123\n",
       "19       4  1621285931\n",
       "20       3  1622897142\n",
       "21      12  1621293096\n",
       "22       8  1622897618\n",
       "23       0  1621280299\n",
       "24       2  1622897119"
      ]
     },
     "execution_count": null,
     "metadata": {},
     "output_type": "execute_result"
    }
   ],
   "source": [
    "timestamps"
   ]
  },
  {
   "cell_type": "code",
   "execution_count": null,
   "metadata": {},
   "outputs": [
    {
     "data": {
      "text/plain": [
       "<AxesSubplot:xlabel='job_id', ylabel='timestamp'>"
      ]
     },
     "execution_count": null,
     "metadata": {},
     "output_type": "execute_result"
    },
    {
     "data": {
      "image/png": "[encoded data removed]",
      "text/plain": [
       "<Figure size 432x288 with 1 Axes>"
      ]
     },
     "metadata": {
      "needs_background": "light"
     },
     "output_type": "display_data"
    }
   ],
   "source": [
    "grd = sns.scatterplot(data=timestamps, x=\"job_id\", y=\"timestamp\")\n",
    "grd"
   ]
  },
  {
   "cell_type": "code",
   "execution_count": null,
   "metadata": {},
   "outputs": [
    {
     "data": {
      "text/plain": [
       "(25, 25)"
      ]
     },
     "execution_count": null,
     "metadata": {},
     "output_type": "execute_result"
    }
   ],
   "source": [
    "seed_acq_size_function_result = {}\n",
    "\n",
    "for result in results.values():\n",
    "    if not hasattr(result, \"config\"):\n",
    "        print(file, \"empty\")\n",
    "        continue\n",
    "\n",
    "    seed_acq_size_function_result[\n",
    "        (result.config.seed, result.config.acquisition_size, result.config.acquisition_function)\n",
    "    ] = result\n",
    "\n",
    "len(seed_acq_size_function_result), len(results)\n",
    "# list(sorted(seed_acq_size_function_result.keys()))"
   ]
  },
  {
   "cell_type": "markdown",
   "metadata": {},
   "source": [
    "```\n",
    "configs = [\n",
    "            Experiment(\n",
    "                seed=seed,\n",
    "                acquisition_function=AcquisitionFunction.bald,\n",
    "                acquisition_size=acquisition_size,\n",
    "                num_pool_samples=num_pool_samples,\n",
    "            )\n",
    "            for seed in range(5)\n",
    "            for acquisition_size in [5, 10, 20, 50]\n",
    "            for num_pool_samples in [10, 20, 50, 100]\n",
    "        ] + [\n",
    "            Experiment(\n",
    "                seed=seed,\n",
    "                acquisition_function=AcquisitionFunction.random,\n",
    "                acquisition_size=5,\n",
    "                num_pool_samples=20,\n",
    "            )\n",
    "            for seed in range(20)\n",
    "        ]\n",
    "```"
   ]
  },
  {
   "cell_type": "code",
   "execution_count": null,
   "metadata": {},
   "outputs": [
    {
     "name": "stdout",
     "output_type": "stream",
     "text": [
      "/experiment_xmi_labels_clean_job_9_2021-06-05-135357.py skipping (old BatchCoreSetBALD)\n",
      "/experiment_xmi_labels_clean_job_6_2021-06-05-135324.py skipping (old BatchCoreSetBALD)\n",
      "/experiment_xmi_labels_clean_job_7_2021-06-05-135313.py skipping (old BatchCoreSetBALD)\n",
      "/experiment_xmi_labels_clean_job_0_2021-06-05-134550.py skipping (old BatchCoreSetBALD)\n",
      "/experiment_xmi_labels_clean_job_5_2021-06-05-135306.py skipping (old BatchCoreSetBALD)\n",
      "/experiment_xmi_labels_clean_job_1_2021-06-05-134534.py skipping (old BatchCoreSetBALD)\n",
      "/experiment_xmi_labels_clean_job_4_2021-06-05-134523.py skipping (old BatchCoreSetBALD)\n",
      "/experiment_xmi_labels_clean_job_3_2021-06-05-134542.py skipping (old BatchCoreSetBALD)\n",
      "/experiment_xmi_labels_clean_job_8_2021-06-05-135338.py skipping (old BatchCoreSetBALD)\n",
      "/experiment_xmi_labels_clean_job_2_2021-06-05-134519.py skipping (old BatchCoreSetBALD)\n"
     ]
    }
   ],
   "source": [
    "experiment_data = []\n",
    "\n",
    "for file, result in results.items():\n",
    "    if not hasattr(result, \"config\"):\n",
    "        print(file, \"empty\")\n",
    "        continue\n",
    "\n",
    "    if \"xmi_labels_clean\" in file:\n",
    "        xmi_type = \"cleaned\"\n",
    "    elif \"xmi_pred\" in file:\n",
    "        xmi_type = \"pred\"\n",
    "    elif \"xmi_labels\" in file:\n",
    "        xmi_type = \"label\"\n",
    "    else:\n",
    "        raise Exception(\"xmi_type\")\n",
    "\n",
    "    acquisition_size = result.config.acquisition_size\n",
    "    acquisition_function = result.config.acquisition_function[len(\"batchbald_redux.acquisition_functions.\") :]\n",
    "    num_pool_samples = result.config.num_pool_samples\n",
    "\n",
    "    if result.timestamp < 1624000000 and xmi_type == \"cleaned\" and acquisition_function == \"BatchCoreSetBALD\":\n",
    "        print(file, \"skipping (old BatchCoreSetBALD)\")\n",
    "        continue\n",
    "    elif xmi_type == \"cleaned\" and acquisition_function == \"BatchCoreSetBALD\":\n",
    "        print(file, \"keeping (BatchCoreSetBALD)\")\n",
    "\n",
    "    seed = result.config.seed\n",
    "\n",
    "    if acquisition_function == \"Random\":\n",
    "        acquisition_sizes = [1, 5, 10]\n",
    "    else:\n",
    "        acquisition_sizes = [acquisition_size]\n",
    "\n",
    "    if acquisition_function == \"Random\":\n",
    "        num_pool_samples = [100]\n",
    "    else:\n",
    "        num_pool_samples = [num_pool_samples]\n",
    "\n",
    "    for nps in num_pool_samples:\n",
    "        for acquisition_size in acquisition_sizes:\n",
    "            initial_set_size = len(result.initial_training_set_indices)\n",
    "\n",
    "            if (\n",
    "                initial_set_size\n",
    "                + sum(1 if hasattr(step, \"evaluation_metrics\") else 0 for step in result.active_learning_steps)\n",
    "                * result.config.acquisition_size\n",
    "                < 120\n",
    "            ):\n",
    "                print(len(result.active_learning_steps), file)\n",
    "                continue\n",
    "\n",
    "            for i, step in enumerate(result.active_learning_steps):\n",
    "                if not hasattr(step, \"evaluation_metrics\"):\n",
    "                    break\n",
    "                training_set_size = initial_set_size + i * result.config.acquisition_size\n",
    "                accuracy = step.evaluation_metrics.accuracy\n",
    "\n",
    "                experiment_data.append(\n",
    "                    dict(\n",
    "                        xmi_type=xmi_type,\n",
    "                        acquisition_function=acquisition_function,\n",
    "                        acquisition_size=acquisition_size,\n",
    "                        num_pool_samples=nps,\n",
    "                        training_set_size=training_set_size,\n",
    "                        accuracy=accuracy,\n",
    "                        seed=seed,\n",
    "                    )\n",
    "                )"
   ]
  },
  {
   "cell_type": "code",
   "execution_count": null,
   "metadata": {},
   "outputs": [],
   "source": [
    "df = pd.DataFrame.from_records(experiment_data)"
   ]
  },
  {
   "cell_type": "code",
   "execution_count": null,
   "metadata": {},
   "outputs": [
    {
     "data": {
      "text/html": [
       "<div>\n",
       "<style scoped>\n",
       "    .dataframe tbody tr th:only-of-type {\n",
       "        vertical-align: middle;\n",
       "    }\n",
       "\n",
       "    .dataframe tbody tr th {\n",
       "        vertical-align: top;\n",
       "    }\n",
       "\n",
       "    .dataframe thead th {\n",
       "        text-align: right;\n",
       "    }\n",
       "</style>\n",
       "<table border=\"1\" class=\"dataframe\">\n",
       "  <thead>\n",
       "    <tr style=\"text-align: right;\">\n",
       "      <th></th>\n",
       "      <th>xmi_type</th>\n",
       "      <th>acquisition_function</th>\n",
       "      <th>acquisition_size</th>\n",
       "      <th>num_pool_samples</th>\n",
       "      <th>training_set_size</th>\n",
       "      <th>accuracy</th>\n",
       "      <th>seed</th>\n",
       "    </tr>\n",
       "  </thead>\n",
       "  <tbody>\n",
       "    <tr>\n",
       "      <th>0</th>\n",
       "      <td>cleaned</td>\n",
       "      <td>BALD</td>\n",
       "      <td>1</td>\n",
       "      <td>100</td>\n",
       "      <td>20</td>\n",
       "      <td>0.5537</td>\n",
       "      <td>12</td>\n",
       "    </tr>\n",
       "    <tr>\n",
       "      <th>1</th>\n",
       "      <td>cleaned</td>\n",
       "      <td>BALD</td>\n",
       "      <td>1</td>\n",
       "      <td>100</td>\n",
       "      <td>21</td>\n",
       "      <td>0.6340</td>\n",
       "      <td>12</td>\n",
       "    </tr>\n",
       "    <tr>\n",
       "      <th>2</th>\n",
       "      <td>cleaned</td>\n",
       "      <td>BALD</td>\n",
       "      <td>1</td>\n",
       "      <td>100</td>\n",
       "      <td>22</td>\n",
       "      <td>0.6395</td>\n",
       "      <td>12</td>\n",
       "    </tr>\n",
       "    <tr>\n",
       "      <th>3</th>\n",
       "      <td>cleaned</td>\n",
       "      <td>BALD</td>\n",
       "      <td>1</td>\n",
       "      <td>100</td>\n",
       "      <td>23</td>\n",
       "      <td>0.6205</td>\n",
       "      <td>12</td>\n",
       "    </tr>\n",
       "    <tr>\n",
       "      <th>4</th>\n",
       "      <td>cleaned</td>\n",
       "      <td>BALD</td>\n",
       "      <td>1</td>\n",
       "      <td>100</td>\n",
       "      <td>24</td>\n",
       "      <td>0.6218</td>\n",
       "      <td>12</td>\n",
       "    </tr>\n",
       "    <tr>\n",
       "      <th>...</th>\n",
       "      <td>...</td>\n",
       "      <td>...</td>\n",
       "      <td>...</td>\n",
       "      <td>...</td>\n",
       "      <td>...</td>\n",
       "      <td>...</td>\n",
       "      <td>...</td>\n",
       "    </tr>\n",
       "    <tr>\n",
       "      <th>3660</th>\n",
       "      <td>cleaned</td>\n",
       "      <td>BALD</td>\n",
       "      <td>1</td>\n",
       "      <td>100</td>\n",
       "      <td>296</td>\n",
       "      <td>0.9714</td>\n",
       "      <td>0</td>\n",
       "    </tr>\n",
       "    <tr>\n",
       "      <th>3661</th>\n",
       "      <td>cleaned</td>\n",
       "      <td>BALD</td>\n",
       "      <td>1</td>\n",
       "      <td>100</td>\n",
       "      <td>297</td>\n",
       "      <td>0.9735</td>\n",
       "      <td>0</td>\n",
       "    </tr>\n",
       "    <tr>\n",
       "      <th>3662</th>\n",
       "      <td>cleaned</td>\n",
       "      <td>BALD</td>\n",
       "      <td>1</td>\n",
       "      <td>100</td>\n",
       "      <td>298</td>\n",
       "      <td>0.9737</td>\n",
       "      <td>0</td>\n",
       "    </tr>\n",
       "    <tr>\n",
       "      <th>3663</th>\n",
       "      <td>cleaned</td>\n",
       "      <td>BALD</td>\n",
       "      <td>1</td>\n",
       "      <td>100</td>\n",
       "      <td>299</td>\n",
       "      <td>0.9736</td>\n",
       "      <td>0</td>\n",
       "    </tr>\n",
       "    <tr>\n",
       "      <th>3664</th>\n",
       "      <td>cleaned</td>\n",
       "      <td>BALD</td>\n",
       "      <td>1</td>\n",
       "      <td>100</td>\n",
       "      <td>300</td>\n",
       "      <td>0.9725</td>\n",
       "      <td>0</td>\n",
       "    </tr>\n",
       "  </tbody>\n",
       "</table>\n",
       "<p>3665 rows × 7 columns</p>\n",
       "</div>"
      ],
      "text/plain": [
       "     xmi_type acquisition_function  acquisition_size  num_pool_samples  \\\n",
       "0     cleaned                 BALD                 1               100   \n",
       "1     cleaned                 BALD                 1               100   \n",
       "2     cleaned                 BALD                 1               100   \n",
       "3     cleaned                 BALD                 1               100   \n",
       "4     cleaned                 BALD                 1               100   \n",
       "...       ...                  ...               ...               ...   \n",
       "3660  cleaned                 BALD                 1               100   \n",
       "3661  cleaned                 BALD                 1               100   \n",
       "3662  cleaned                 BALD                 1               100   \n",
       "3663  cleaned                 BALD                 1               100   \n",
       "3664  cleaned                 BALD                 1               100   \n",
       "\n",
       "      training_set_size  accuracy  seed  \n",
       "0                    20    0.5537    12  \n",
       "1                    21    0.6340    12  \n",
       "2                    22    0.6395    12  \n",
       "3                    23    0.6205    12  \n",
       "4                    24    0.6218    12  \n",
       "...                 ...       ...   ...  \n",
       "3660                296    0.9714     0  \n",
       "3661                297    0.9735     0  \n",
       "3662                298    0.9737     0  \n",
       "3663                299    0.9736     0  \n",
       "3664                300    0.9725     0  \n",
       "\n",
       "[3665 rows x 7 columns]"
      ]
     },
     "execution_count": null,
     "metadata": {},
     "output_type": "execute_result"
    }
   ],
   "source": [
    "df"
   ]
  },
  {
   "cell_type": "code",
   "execution_count": null,
   "metadata": {},
   "outputs": [
    {
     "data": {
      "text/plain": [
       "array([ 1,  5, 10])"
      ]
     },
     "execution_count": null,
     "metadata": {},
     "output_type": "execute_result"
    }
   ],
   "source": [
    "df.acquisition_size.unique()"
   ]
  },
  {
   "cell_type": "code",
   "execution_count": null,
   "metadata": {},
   "outputs": [
    {
     "name": "stdout",
     "output_type": "stream",
     "text": [
      "acquisition_size  xmi_type  acquisition_function\n",
      "1                 cleaned   BALD                    5\n",
      "                            CoreSetBALD             5\n",
      "                            Random                  5\n",
      "5                 cleaned   Random                  5\n",
      "10                cleaned   Random                  5\n",
      "Name: num_trials, dtype: int64\n"
     ]
    }
   ],
   "source": [
    "num_trials_by_acquisition_size_and_function = (\n",
    "    df.query(\"training_set_size == 20\").groupby([\"acquisition_size\", \"xmi_type\"])[\"acquisition_function\"].value_counts()\n",
    ")\n",
    "num_trials_by_acquisition_size_and_function.name = \"num_trials\"\n",
    "print(num_trials_by_acquisition_size_and_function)\n",
    "\n",
    "num_trials_by_acquisition_size_and_function = num_trials_by_acquisition_size_and_function.reset_index()"
   ]
  },
  {
   "cell_type": "code",
   "execution_count": null,
   "metadata": {},
   "outputs": [
    {
     "data": {
      "image/png": "[encoded data removed]",
      "text/plain": [
       "<Figure size 1728x360 with 3 Axes>"
      ]
     },
     "metadata": {},
     "output_type": "display_data"
    }
   ],
   "source": [
    "grd = sns.catplot(\n",
    "    data=num_trials_by_acquisition_size_and_function,\n",
    "    kind=\"bar\",\n",
    "    y=\"num_trials\",\n",
    "    x=\"acquisition_function\",\n",
    "    col=\"acquisition_size\",\n",
    "    row=\"xmi_type\",\n",
    "    aspect=1.6,\n",
    ")\n",
    "grd.fig.patch.set_alpha(1)"
   ]
  },
  {
   "cell_type": "code",
   "execution_count": null,
   "metadata": {},
   "outputs": [
    {
     "data": {
      "image/png": "[encoded data removed]",
      "text/plain": [
       "<Figure size 468.5x1080 with 3 Axes>"
      ]
     },
     "metadata": {},
     "output_type": "display_data"
    }
   ],
   "source": [
    "grd = sns.relplot(\n",
    "    x=\"training_set_size\",\n",
    "    y=\"accuracy\",\n",
    "    # col=\"acquisition_size\",\n",
    "    col=\"xmi_type\",\n",
    "    row=\"acquisition_size\",\n",
    "    hue=\"acquisition_function\",\n",
    "    data=df,\n",
    "    kind=\"line\",\n",
    "    height=5,\n",
    "    facet_kws=dict(sharex=False, sharey=False),\n",
    ")\n",
    "\n",
    "grd.fig.patch.set_alpha(1)"
   ]
  },
  {
   "cell_type": "markdown",
   "metadata": {},
   "source": [
    "# Grab the active learning training set"
   ]
  },
  {
   "cell_type": "code",
   "execution_count": null,
   "metadata": {},
   "outputs": [
    {
     "data": {
      "text/plain": [
       "['/experiment_xmi_labels_clean_job_8_2021-05-17-235434.py',\n",
       " '/experiment_xmi_labels_clean_job_6_2021-05-17-222444.py',\n",
       " '/experiment_xmi_labels_clean_job_9_2021-06-05-135357.py',\n",
       " '/experiment_xmi_labels_clean_job_14_2021-05-18-001108.py',\n",
       " '/experiment_xmi_labels_clean_job_6_2021-06-05-135324.py',\n",
       " '/experiment_xmi_labels_clean_job_11_2021-05-18-000510.py',\n",
       " '/experiment_xmi_labels_clean_job_5_2021-05-17-221603.py',\n",
       " '/experiment_xmi_labels_clean_job_1_2021-05-17-203738.py',\n",
       " '/experiment_xmi_labels_clean_job_7_2021-06-05-135313.py',\n",
       " '/experiment_xmi_labels_clean_job_13_2021-05-18-001206.py',\n",
       " '/experiment_xmi_labels_clean_job_7_2021-05-17-222523.py',\n",
       " '/experiment_xmi_labels_clean_job_0_2021-06-05-134550.py',\n",
       " '/experiment_xmi_labels_clean_job_5_2021-06-05-135306.py',\n",
       " '/experiment_xmi_labels_clean_job_10_2021-05-17-235725.py',\n",
       " '/experiment_xmi_labels_clean_job_1_2021-06-05-134534.py',\n",
       " '/experiment_xmi_labels_clean_job_3_2021-05-17-203747.py',\n",
       " '/experiment_xmi_labels_clean_job_2_2021-05-17-203755.py',\n",
       " '/experiment_xmi_labels_clean_job_9_2021-05-17-235707.py',\n",
       " '/experiment_xmi_labels_clean_job_4_2021-06-05-134523.py',\n",
       " '/experiment_xmi_labels_clean_job_4_2021-05-17-221211.py',\n",
       " '/experiment_xmi_labels_clean_job_3_2021-06-05-134542.py',\n",
       " '/experiment_xmi_labels_clean_job_12_2021-05-18-001136.py',\n",
       " '/experiment_xmi_labels_clean_job_8_2021-06-05-135338.py',\n",
       " '/experiment_xmi_labels_clean_job_0_2021-05-17-203819.py',\n",
       " '/experiment_xmi_labels_clean_job_2_2021-06-05-134519.py']"
      ]
     },
     "execution_count": null,
     "metadata": {},
     "output_type": "execute_result"
    }
   ],
   "source": [
    "list(results.keys())"
   ]
  },
  {
   "cell_type": "code",
   "execution_count": null,
   "metadata": {},
   "outputs": [],
   "source": [
    "result_coresetbald = {\n",
    "    key: result\n",
    "    for key, result in results.items()\n",
    "    if \"batchbald_redux.acquisition_functions.CoreSetBALD\" == result.config.acquisition_function\n",
    "}"
   ]
  },
  {
   "cell_type": "code",
   "execution_count": null,
   "metadata": {},
   "outputs": [
    {
     "data": {
      "text/plain": [
       "['/experiment_xmi_labels_clean_job_5_2021-05-17-221603.py',\n",
       " '/experiment_xmi_labels_clean_job_1_2021-05-17-203738.py',\n",
       " '/experiment_xmi_labels_clean_job_7_2021-05-17-222523.py',\n",
       " '/experiment_xmi_labels_clean_job_3_2021-05-17-203747.py',\n",
       " '/experiment_xmi_labels_clean_job_9_2021-05-17-235707.py']"
      ]
     },
     "execution_count": null,
     "metadata": {},
     "output_type": "execute_result"
    }
   ],
   "source": [
    "list(result_coresetbald.keys())"
   ]
  },
  {
   "cell_type": "code",
   "execution_count": null,
   "metadata": {},
   "outputs": [],
   "source": [
    "result = results[\"/experiment_xmi_labels_clean_job_5_2021-05-17-221603.py\"]"
   ]
  },
  {
   "cell_type": "code",
   "execution_count": null,
   "metadata": {},
   "outputs": [
    {
     "data": {
      "text/plain": [
       "([46377,\n",
       "  44390,\n",
       "  7485,\n",
       "  25450,\n",
       "  12220,\n",
       "  43112,\n",
       "  3612,\n",
       "  54256,\n",
       "  44467,\n",
       "  17555,\n",
       "  4218,\n",
       "  45101,\n",
       "  41296,\n",
       "  32261,\n",
       "  3281,\n",
       "  6944,\n",
       "  7701,\n",
       "  30692,\n",
       "  24891,\n",
       "  24436],\n",
       " 20)"
      ]
     },
     "execution_count": null,
     "metadata": {},
     "output_type": "execute_result"
    }
   ],
   "source": [
    "result.initial_training_set_indices, len(result.initial_training_set_indices)"
   ]
  },
  {
   "cell_type": "code",
   "execution_count": null,
   "metadata": {},
   "outputs": [
    {
     "data": {
      "text/plain": [
       "281"
      ]
     },
     "execution_count": null,
     "metadata": {},
     "output_type": "execute_result"
    }
   ],
   "source": [
    "len(result.active_learning_steps)"
   ]
  },
  {
   "cell_type": "code",
   "execution_count": null,
   "metadata": {},
   "outputs": [
    {
     "data": {
      "text/plain": [
       "0.9005"
      ]
     },
     "execution_count": null,
     "metadata": {},
     "output_type": "execute_result"
    }
   ],
   "source": [
    "result.active_learning_steps[55 - 20].evaluation_metrics.accuracy"
   ]
  },
  {
   "cell_type": "code",
   "execution_count": null,
   "metadata": {},
   "outputs": [
    {
     "data": {
      "text/plain": [
       "_ActiveLearningStepsItem(training=_training(epochs=[_EpochsItem(accuracy=0.236328125, crossentropy=2.243678092956543), _EpochsItem(accuracy=0.4521484375, crossentropy=1.8996704816818237), _EpochsItem(accuracy=0.642578125, crossentropy=1.4321852922439575), _EpochsItem(accuracy=0.8447265625, crossentropy=1.0597556829452515), _EpochsItem(accuracy=0.88671875, crossentropy=0.7888789772987366), _EpochsItem(accuracy=0.923828125, crossentropy=0.7004990577697754), _EpochsItem(accuracy=0.92578125, crossentropy=0.6723615527153015), _EpochsItem(accuracy=0.916015625, crossentropy=0.669696033000946), _EpochsItem(accuracy=0.9169921875, crossentropy=0.6594111323356628), _EpochsItem(accuracy=0.9248046875, crossentropy=0.6549736857414246), _EpochsItem(accuracy=0.9111328125, crossentropy=0.6851381063461304), _EpochsItem(accuracy=0.921875, crossentropy=0.5839430093765259), _EpochsItem(accuracy=0.9267578125, crossentropy=0.5901234745979309), _EpochsItem(accuracy=0.94140625, crossentropy=0.5539214611053467), _EpochsItem(accuracy=0.9287109375, crossentropy=0.6013468503952026), _EpochsItem(accuracy=0.921875, crossentropy=0.6617193222045898), _EpochsItem(accuracy=0.9296875, crossentropy=0.6304264068603516), _EpochsItem(accuracy=0.9296875, crossentropy=0.5831875801086426), _EpochsItem(accuracy=0.9365234375, crossentropy=0.6258857250213623), _EpochsItem(accuracy=0.9404296875, crossentropy=0.6396406888961792), _EpochsItem(accuracy=0.93359375, crossentropy=0.564879298210144), _EpochsItem(accuracy=0.9267578125, crossentropy=0.6411368250846863), _EpochsItem(accuracy=0.94140625, crossentropy=0.6077836751937866), _EpochsItem(accuracy=0.9326171875, crossentropy=0.6045339703559875), _EpochsItem(accuracy=0.9228515625, crossentropy=0.6950488090515137), _EpochsItem(accuracy=0.94140625, crossentropy=0.5412908792495728), _EpochsItem(accuracy=0.93359375, crossentropy=0.6617273092269897), _EpochsItem(accuracy=0.9296875, crossentropy=0.644951581954956), _EpochsItem(accuracy=0.939453125, crossentropy=0.6189603209495544), _EpochsItem(accuracy=0.9345703125, crossentropy=0.6253669857978821), _EpochsItem(accuracy=0.927734375, crossentropy=0.6723024249076843), _EpochsItem(accuracy=0.9248046875, crossentropy=0.7070723176002502), _EpochsItem(accuracy=0.9228515625, crossentropy=0.6513436436653137), _EpochsItem(accuracy=0.916015625, crossentropy=0.7120909094810486)], best_epoch=14), evaluation_metrics=_EpochsItem(accuracy=0.9005, crossentropy=0.74031416015625), acquisition=_acquisition(indices=[42973], labels=[4], scores=[3.0135031643386525]))"
      ]
     },
     "execution_count": null,
     "metadata": {},
     "output_type": "execute_result"
    }
   ],
   "source": [
    "result.active_learning_steps[55 - 20]"
   ]
  },
  {
   "cell_type": "code",
   "execution_count": null,
   "metadata": {},
   "outputs": [],
   "source": [
    "training_set_90 = list(result.initial_training_set_indices)\n",
    "\n",
    "for step in result.active_learning_steps[: 55 - 20]:\n",
    "    training_set_90 += step.acquisition.indices"
   ]
  },
  {
   "cell_type": "code",
   "execution_count": null,
   "metadata": {},
   "outputs": [
    {
     "data": {
      "text/plain": [
       "([46377,\n",
       "  44390,\n",
       "  7485,\n",
       "  25450,\n",
       "  12220,\n",
       "  43112,\n",
       "  3612,\n",
       "  54256,\n",
       "  44467,\n",
       "  17555,\n",
       "  4218,\n",
       "  45101,\n",
       "  41296,\n",
       "  32261,\n",
       "  3281,\n",
       "  6944,\n",
       "  7701,\n",
       "  30692,\n",
       "  24891,\n",
       "  24436,\n",
       "  2748,\n",
       "  34,\n",
       "  8009,\n",
       "  27203,\n",
       "  54180,\n",
       "  39513,\n",
       "  45801,\n",
       "  34608,\n",
       "  57338,\n",
       "  37095,\n",
       "  5474,\n",
       "  7304,\n",
       "  13153,\n",
       "  49406,\n",
       "  4820,\n",
       "  7865,\n",
       "  7863,\n",
       "  42303,\n",
       "  2942,\n",
       "  52175,\n",
       "  57842,\n",
       "  9472,\n",
       "  16908,\n",
       "  12585,\n",
       "  29130,\n",
       "  29839,\n",
       "  49509,\n",
       "  6947,\n",
       "  18501,\n",
       "  12422,\n",
       "  3742,\n",
       "  19362,\n",
       "  43169,\n",
       "  44202,\n",
       "  22497],\n",
       " 55)"
      ]
     },
     "execution_count": null,
     "metadata": {},
     "output_type": "execute_result"
    }
   ],
   "source": [
    "training_set_90, len(training_set_90)"
   ]
  },
  {
   "cell_type": "markdown",
   "metadata": {},
   "source": [
    "# Retrain to 90% with 55 samples"
   ]
  },
  {
   "cell_type": "code",
   "execution_count": null,
   "metadata": {},
   "outputs": [],
   "source": [
    "# Rerun from 2022/04/15\n",
    "\n",
    "training_set_90 = [\n",
    "    46377,\n",
    "    44390,\n",
    "    7485,\n",
    "    25450,\n",
    "    12220,\n",
    "    43112,\n",
    "    3612,\n",
    "    54256,\n",
    "    44467,\n",
    "    17555,\n",
    "    4218,\n",
    "    45101,\n",
    "    41296,\n",
    "    32261,\n",
    "    3281,\n",
    "    6944,\n",
    "    7701,\n",
    "    30692,\n",
    "    24891,\n",
    "    24436,\n",
    "    17776,\n",
    "    36852,\n",
    "    26891,\n",
    "    17001,\n",
    "    44414,\n",
    "    23050,\n",
    "    30884,\n",
    "    41516,\n",
    "    8897,\n",
    "    34608,\n",
    "    11721,\n",
    "    13127,\n",
    "    9870,\n",
    "    39700,\n",
    "    13985,\n",
    "    9608,\n",
    "    17808,\n",
    "    23028,\n",
    "    3494,\n",
    "    10210,\n",
    "    42384,\n",
    "    31742,\n",
    "    17100,\n",
    "    46530,\n",
    "    26733,\n",
    "    4762,\n",
    "    14113,\n",
    "    20798,\n",
    "    28388,\n",
    "    42973,\n",
    "    37347,\n",
    "    55042,\n",
    "    41295,\n",
    "    28310,\n",
    "    19280,\n",
    "    18501,\n",
    "    274,\n",
    "    11208,\n",
    "    13335,\n",
    "    24440,\n",
    "    49493,\n",
    "    58129,\n",
    "    56210,\n",
    "    40766,\n",
    "    13318,\n",
    "    50040,\n",
    "    18408,\n",
    "    7255,\n",
    "    15494,\n",
    "    7168,\n",
    "    9472,\n",
    "    14845,\n",
    "    14096,\n",
    "    26072,\n",
    "    35944,\n",
    "    34836,\n",
    "    12655,\n",
    "    991,\n",
    "    38577,\n",
    "    47322,\n",
    "    45212,\n",
    "    16286,\n",
    "    5308,\n",
    "    38182,\n",
    "    31624,\n",
    "    12702,\n",
    "    30861,\n",
    "    46320,\n",
    "    36408,\n",
    "    49841,\n",
    "    33426,\n",
    "    57527,\n",
    "    3273,\n",
    "    24740,\n",
    "    39627,\n",
    "    22199,\n",
    "    19362,\n",
    "    42136,\n",
    "    41965,\n",
    "    43095,\n",
    "]"
   ]
  },
  {
   "cell_type": "code",
   "execution_count": null,
   "metadata": {},
   "outputs": [],
   "source": [
    "# Extracted from stored, old results\n",
    "\n",
    "training_set_90 = [\n",
    "    46377,\n",
    "    44390,\n",
    "    7485,\n",
    "    25450,\n",
    "    12220,\n",
    "    43112,\n",
    "    3612,\n",
    "    54256,\n",
    "    44467,\n",
    "    17555,\n",
    "    4218,\n",
    "    45101,\n",
    "    41296,\n",
    "    32261,\n",
    "    3281,\n",
    "    6944,\n",
    "    7701,\n",
    "    30692,\n",
    "    24891,\n",
    "    24436,\n",
    "    2748,\n",
    "    34,\n",
    "    8009,\n",
    "    27203,\n",
    "    54180,\n",
    "    39513,\n",
    "    45801,\n",
    "    34608,\n",
    "    57338,\n",
    "    37095,\n",
    "    5474,\n",
    "    7304,\n",
    "    13153,\n",
    "    4820,\n",
    "    49406,\n",
    "    7865,\n",
    "    7863,\n",
    "    42303,\n",
    "    2942,\n",
    "    52175,\n",
    "    57842,\n",
    "    9472,\n",
    "    16908,\n",
    "    12585,\n",
    "    29130,\n",
    "    29839,\n",
    "    49509,\n",
    "    6947,\n",
    "    18501,\n",
    "    12422,\n",
    "    3742,\n",
    "    19362,\n",
    "    43169,\n",
    "    44202,\n",
    "    22497,\n",
    "]"
   ]
  },
  {
   "cell_type": "code",
   "execution_count": null,
   "metadata": {},
   "outputs": [],
   "source": [
    "import dataclasses\n",
    "import traceback\n",
    "from dataclasses import dataclass\n",
    "from typing import Type, Union\n",
    "\n",
    "import torch\n",
    "import torch.utils.data\n",
    "from blackhc.project import is_run_from_ipython\n",
    "from blackhc.project.experiment import embedded_experiments\n",
    "from torch.utils.data import Dataset\n",
    "\n",
    "import batchbald_redux.acquisition_functions as acquisition_functions\n",
    "from batchbald_redux.acquisition_functions import (\n",
    "    CandidateBatchComputer,\n",
    "    EvalModelBatchComputer,\n",
    ")\n",
    "from batchbald_redux.active_learning import ActiveLearningData, RandomFixedLengthSampler\n",
    "from batchbald_redux.black_box_model_training import evaluate_old, train\n",
    "from batchbald_redux.dataset_challenges import (\n",
    "    AdditiveGaussianNoise,\n",
    "    NamedDataset,\n",
    "    create_repeated_MNIST_dataset,\n",
    "    get_balanced_sample_indices,\n",
    "    get_base_dataset_index,\n",
    "    get_target,\n",
    ")\n",
    "from batchbald_redux.di import DependencyInjection\n",
    "from batchbald_redux.fast_mnist import FastMNIST\n",
    "from batchbald_redux.model_optimizer_factory import ModelOptimizerFactory\n",
    "from batchbald_redux.models import MnistOptimizerFactory"
   ]
  },
  {
   "cell_type": "code",
   "execution_count": null,
   "metadata": {},
   "outputs": [],
   "source": [
    "# From the BatchBALD Repo\n",
    "from batchbald_redux.train_eval_model import (\n",
    "    TrainEvalModel,\n",
    "    TrainSelfDistillationEvalModel,\n",
    ")\n",
    "from batchbald_redux.trained_model import TrainedBayesianModel"
   ]
  },
  {
   "cell_type": "code",
   "execution_count": null,
   "metadata": {},
   "outputs": [],
   "source": [
    "from blackhc.progress_bar import create_progress_bar\n",
    "from toma import toma\n",
    "\n",
    "\n",
    "def compute_entropy_from_probs(probs_N_K_C: torch.Tensor) -> torch.Tensor:\n",
    "    N, K, C = probs_N_K_C.shape\n",
    "\n",
    "    entropies_N = torch.empty(N, dtype=torch.double)\n",
    "\n",
    "    pbar = create_progress_bar(N, tqdm_args=dict(desc=\"Entropy\", leave=False))\n",
    "    pbar.start()\n",
    "\n",
    "    @toma.execute.chunked(probs_N_K_C, 1024)\n",
    "    def compute(probs_n_K_C, start: int, end: int):\n",
    "        mean_probs_n_C = probs_n_K_C.mean(dim=1)\n",
    "        nats_n_C = mean_probs_n_C * torch.log(mean_probs_n_C)\n",
    "        nats_n_C[mean_probs_n_C == 0] = 0.0\n",
    "\n",
    "        entropies_N[start:end].copy_(-torch.sum(nats_n_C, dim=1))\n",
    "        pbar.update(end - start)\n",
    "\n",
    "    pbar.finish()\n",
    "\n",
    "    return entropies_N"
   ]
  },
  {
   "cell_type": "code",
   "execution_count": null,
   "metadata": {},
   "outputs": [],
   "source": [
    "@dataclass\n",
    "class Experiment:\n",
    "    seed: int = 1337\n",
    "    acquisition_size: int = 5\n",
    "    max_training_set: int = 300\n",
    "    num_pool_samples: int = 20\n",
    "    num_validation_samples: int = 20\n",
    "    num_training_samples: int = 1\n",
    "    num_patience_epochs: int = 5 * 4\n",
    "    max_training_epochs: int = 30 * 4\n",
    "    training_batch_size: int = 64\n",
    "    device: str = \"cuda\"\n",
    "    validation_set_size: int = 1024\n",
    "    initial_training_set_size: int = 20\n",
    "    min_samples_per_epoch: int = 1024\n",
    "    acquisition_function: Union[Type[CandidateBatchComputer], Type[EvalModelBatchComputer]] = acquisition_functions.BALD\n",
    "    train_eval_model: TrainEvalModel = TrainSelfDistillationEvalModel\n",
    "    model_optimizer_factory: Type[ModelOptimizerFactory] = MnistOptimizerFactory\n",
    "    acquisition_function_args: dict = None\n",
    "    temperature: float = 0.0\n",
    "\n",
    "    def load_dataset(self) -> (ActiveLearningData, Dataset, Dataset):\n",
    "        train_dataset = NamedDataset(\n",
    "            FastMNIST(\"data\", train=True, download=True, device=self.device), \"FastMNIST (train)\"\n",
    "        )\n",
    "        train_predictions = torch.load(\"./data/mnist_train_predictions.pt\", map_location=self.device)\n",
    "        # train_dataset = train_dataset.override_targets(targets=train_predictions.argmax(dim=1))\n",
    "\n",
    "        train_entropies = compute_entropy_from_probs(train_predictions[:, None, :])\n",
    "\n",
    "        allowed_indices = torch.nonzero(train_entropies < 0.01, as_tuple=True)[0].numpy()\n",
    "        print(f\"Removing {len(train_dataset) - len(allowed_indices)} training samples with entropy >= 0.01.\")\n",
    "        allowed_train_dataset = train_dataset.subset(allowed_indices)\n",
    "        fixed_initial_set_indices = [\n",
    "            allowed_train_dataset.get_base_dataset_index(i).index for i in training_set_90[:20]\n",
    "        ]\n",
    "\n",
    "        active_learning_data = ActiveLearningData(train_dataset)\n",
    "\n",
    "        fixed_set = fixed_initial_set_indices + training_set_90[20:69]\n",
    "        print(fixed_set)\n",
    "        active_learning_data.acquire_base_indices(fixed_set)\n",
    "\n",
    "        validation_dataset = active_learning_data.extract_dataset_from_pool(self.validation_set_size)\n",
    "        validation_dataset = NamedDataset(\n",
    "            validation_dataset, f\"FastMNIST (validation, {len(validation_dataset)} samples)\"\n",
    "        )\n",
    "\n",
    "        test_dataset = FastMNIST(\"data\", train=False, device=None)\n",
    "        test_dataset = NamedDataset(test_dataset, f\"FastMNIST (test, {len(test_dataset)} samples)\")\n",
    "\n",
    "        return active_learning_data, validation_dataset, test_dataset, training_set_90\n",
    "\n",
    "    # Simple Dependency Injection\n",
    "    def create_acquisition_function(self):\n",
    "        di = DependencyInjection(vars(self))\n",
    "        return di.create_dataclass_type(self.acquisition_function)\n",
    "\n",
    "    def create_train_eval_model(self, runtime_config) -> TrainEvalModel:\n",
    "        config = {**vars(self), **runtime_config}\n",
    "        di = DependencyInjection(config, [])\n",
    "        return di.create_dataclass_type(self.train_eval_model)\n",
    "\n",
    "    def run(self, store):\n",
    "        torch.manual_seed(self.seed)\n",
    "\n",
    "        # Active Learning setup\n",
    "        active_learning_data, validation_dataset, test_dataset, initial_training_set_indices = self.load_dataset()\n",
    "        store[\"initial_training_set_indices\"] = initial_training_set_indices\n",
    "        store[\"dataset_info\"] = dict(training=repr(active_learning_data.base_dataset), test=repr(test_dataset))\n",
    "\n",
    "        # initial_training_set_indices = active_learning_data.get_random_pool_indices(self.initial_set_size)\n",
    "        # initial_training_set_indices = get_balanced_sample_indices(\n",
    "        #     active_learning_data.pool_dataset, 10, self.initial_set_size // 10\n",
    "        # )\n",
    "\n",
    "        train_loader = torch.utils.data.DataLoader(\n",
    "            active_learning_data.training_dataset,\n",
    "            batch_size=64,\n",
    "            sampler=RandomFixedLengthSampler(active_learning_data.training_dataset, self.min_samples_per_epoch),\n",
    "            drop_last=True,\n",
    "        )\n",
    "        pool_loader = torch.utils.data.DataLoader(\n",
    "            active_learning_data.pool_dataset, batch_size=128, drop_last=False, shuffle=False\n",
    "        )\n",
    "\n",
    "        validation_loader = torch.utils.data.DataLoader(validation_dataset, batch_size=128, drop_last=False)\n",
    "        test_loader = torch.utils.data.DataLoader(test_dataset, batch_size=128, drop_last=False)\n",
    "\n",
    "        store[\"active_learning_steps\"] = []\n",
    "        active_learning_steps = store[\"active_learning_steps\"]\n",
    "\n",
    "        acquisition_function = self.create_acquisition_function()\n",
    "\n",
    "        training_set_size = len(active_learning_data.training_dataset)\n",
    "        print(f\"Training set size {training_set_size}:\")\n",
    "\n",
    "        # iteration_log = dict(training={}, pool_training={}, evaluation_metrics=None, acquisition=None)\n",
    "        active_learning_steps.append({})\n",
    "        iteration_log = active_learning_steps[-1]\n",
    "\n",
    "        iteration_log[\"training\"] = {}\n",
    "\n",
    "        model_optimizer = self.model_optimizer_factory().create_model_optimizer()\n",
    "\n",
    "        double_snapshots = None\n",
    "        if training_set_size > 0:\n",
    "            train(\n",
    "                model=model_optimizer.model,\n",
    "                optimizer=model_optimizer.optimizer,\n",
    "                training_samples=self.num_training_samples,\n",
    "                validation_samples=self.num_validation_samples,\n",
    "                train_loader=train_loader,\n",
    "                validation_loader=validation_loader,\n",
    "                patience=self.num_patience_epochs,\n",
    "                max_epochs=self.max_training_epochs,\n",
    "                device=self.device,\n",
    "                training_log=iteration_log[\"training\"],\n",
    "                wandb_key_path=\"\",\n",
    "            )\n",
    "\n",
    "        evaluation_metrics = evaluate_old(\n",
    "            model=model_optimizer.model,\n",
    "            num_samples=self.num_validation_samples,\n",
    "            loader=test_loader,\n",
    "            device=self.device,\n",
    "        )\n",
    "        iteration_log[\"evaluation_metrics\"] = evaluation_metrics\n",
    "        print(f\"Perf after training {evaluation_metrics}\")\n",
    "        return model_optimizer.model"
   ]
  },
  {
   "cell_type": "code",
   "execution_count": null,
   "metadata": {},
   "outputs": [],
   "source": [
    "experiment = Experiment(\n",
    "    seed=7,\n",
    "    acquisition_function=acquisition_functions.CoreSetBALD,\n",
    "    acquisition_size=1,\n",
    "    num_pool_samples=100,\n",
    "    temperature=8,\n",
    "    device=\"cuda\",\n",
    ")"
   ]
  },
  {
   "cell_type": "code",
   "execution_count": null,
   "metadata": {},
   "outputs": [
    {
     "data": {
      "application/vnd.jupyter.widget-view+json": {
       "model_id": "",
       "version_major": 2,
       "version_minor": 0
      },
      "text/plain": [
       "Entropy:   0%|          | 0/60000 [00:00<?, ?it/s]"
      ]
     },
     "metadata": {},
     "output_type": "display_data"
    },
    {
     "name": "stdout",
     "output_type": "stream",
     "text": [
      "Removing 5678 training samples with entropy >= 0.01.\n",
      "[51348, 49110, 8222, 28130, 13484, 47685, 3938, 59930, 49196, 19427, 4601, 49922, 45635, 35684, 3579, 7621, 8465, 33959, 27521, 27015, 17776, 36852, 26891, 17001, 44414, 23050, 30884, 41516, 8897, 34608, 11721, 13127, 9870, 39700, 13985, 9608, 17808, 23028, 3494, 10210, 42384, 31742, 17100, 46530, 26733, 4762, 14113, 20798, 28388, 42973, 37347, 55042, 41295, 28310, 19280, 18501, 274, 11208, 13335, 24440, 49493, 58129, 56210, 40766, 13318, 50040, 18408, 7255, 15494]\n",
      "Creating: CoreSetBALD(\n",
      "\tacquisition_size=1,\n",
      "\tnum_pool_samples=100\n",
      ")\n",
      "Training set size 69:\n"
     ]
    },
    {
     "data": {
      "application/vnd.jupyter.widget-view+json": {
       "model_id": "ce1825b9292740439d0c974ca4d7bd6a",
       "version_major": 2,
       "version_minor": 0
      },
      "text/plain": [
       "  1%|          | 1/120 [00:00<?, ?it/s]"
      ]
     },
     "metadata": {},
     "output_type": "display_data"
    },
    {
     "data": {
      "application/vnd.jupyter.widget-view+json": {
       "model_id": "",
       "version_major": 2,
       "version_minor": 0
      },
      "text/plain": [
       "[1/16]   6%|6          [00:00<?]"
      ]
     },
     "metadata": {},
     "output_type": "display_data"
    },
    {
     "name": "stdout",
     "output_type": "stream",
     "text": [
      "Epoch metrics: {'accuracy': 0.1865234375, 'crossentropy': 2.204674243927002}\n"
     ]
    },
    {
     "data": {
      "application/vnd.jupyter.widget-view+json": {
       "model_id": "",
       "version_major": 2,
       "version_minor": 0
      },
      "text/plain": [
       "[1/16]   6%|6          [00:00<?]"
      ]
     },
     "metadata": {},
     "output_type": "display_data"
    },
    {
     "name": "stdout",
     "output_type": "stream",
     "text": [
      "Epoch metrics: {'accuracy': 0.3984375, 'crossentropy': 1.8883782625198364}\n"
     ]
    },
    {
     "data": {
      "application/vnd.jupyter.widget-view+json": {
       "model_id": "",
       "version_major": 2,
       "version_minor": 0
      },
      "text/plain": [
       "[1/16]   6%|6          [00:00<?]"
      ]
     },
     "metadata": {},
     "output_type": "display_data"
    },
    {
     "name": "stdout",
     "output_type": "stream",
     "text": [
      "Epoch metrics: {'accuracy': 0.7724609375, 'crossentropy': 1.3038113117218018}\n"
     ]
    },
    {
     "data": {
      "application/vnd.jupyter.widget-view+json": {
       "model_id": "",
       "version_major": 2,
       "version_minor": 0
      },
      "text/plain": [
       "[1/16]   6%|6          [00:00<?]"
      ]
     },
     "metadata": {},
     "output_type": "display_data"
    },
    {
     "name": "stdout",
     "output_type": "stream",
     "text": [
      "Epoch metrics: {'accuracy': 0.8505859375, 'crossentropy': 0.9791264533996582}\n"
     ]
    },
    {
     "data": {
      "application/vnd.jupyter.widget-view+json": {
       "model_id": "",
       "version_major": 2,
       "version_minor": 0
      },
      "text/plain": [
       "[1/16]   6%|6          [00:00<?]"
      ]
     },
     "metadata": {},
     "output_type": "display_data"
    },
    {
     "name": "stdout",
     "output_type": "stream",
     "text": [
      "Epoch metrics: {'accuracy': 0.884765625, 'crossentropy': 0.7918858528137207}\n"
     ]
    },
    {
     "data": {
      "application/vnd.jupyter.widget-view+json": {
       "model_id": "",
       "version_major": 2,
       "version_minor": 0
      },
      "text/plain": [
       "[1/16]   6%|6          [00:00<?]"
      ]
     },
     "metadata": {},
     "output_type": "display_data"
    },
    {
     "name": "stdout",
     "output_type": "stream",
     "text": [
      "Epoch metrics: {'accuracy': 0.8720703125, 'crossentropy': 0.6580309271812439}\n",
      "RestoringEarlyStopping: 1 / 20\n"
     ]
    },
    {
     "data": {
      "application/vnd.jupyter.widget-view+json": {
       "model_id": "",
       "version_major": 2,
       "version_minor": 0
      },
      "text/plain": [
       "[1/16]   6%|6          [00:00<?]"
      ]
     },
     "metadata": {},
     "output_type": "display_data"
    },
    {
     "name": "stdout",
     "output_type": "stream",
     "text": [
      "Epoch metrics: {'accuracy': 0.8720703125, 'crossentropy': 0.6301825046539307}\n",
      "RestoringEarlyStopping: 2 / 20\n"
     ]
    },
    {
     "data": {
      "application/vnd.jupyter.widget-view+json": {
       "model_id": "",
       "version_major": 2,
       "version_minor": 0
      },
      "text/plain": [
       "[1/16]   6%|6          [00:00<?]"
      ]
     },
     "metadata": {},
     "output_type": "display_data"
    },
    {
     "name": "stdout",
     "output_type": "stream",
     "text": [
      "Epoch metrics: {'accuracy': 0.87890625, 'crossentropy': 0.5223856568336487}\n",
      "RestoringEarlyStopping: 3 / 20\n"
     ]
    },
    {
     "data": {
      "application/vnd.jupyter.widget-view+json": {
       "model_id": "",
       "version_major": 2,
       "version_minor": 0
      },
      "text/plain": [
       "[1/16]   6%|6          [00:00<?]"
      ]
     },
     "metadata": {},
     "output_type": "display_data"
    },
    {
     "name": "stdout",
     "output_type": "stream",
     "text": [
      "Epoch metrics: {'accuracy': 0.880859375, 'crossentropy': 0.5107243061065674}\n",
      "RestoringEarlyStopping: 4 / 20\n"
     ]
    },
    {
     "data": {
      "application/vnd.jupyter.widget-view+json": {
       "model_id": "",
       "version_major": 2,
       "version_minor": 0
      },
      "text/plain": [
       "[1/16]   6%|6          [00:00<?]"
      ]
     },
     "metadata": {},
     "output_type": "display_data"
    },
    {
     "name": "stdout",
     "output_type": "stream",
     "text": [
      "Epoch metrics: {'accuracy': 0.876953125, 'crossentropy': 0.504318356513977}\n",
      "RestoringEarlyStopping: 5 / 20\n"
     ]
    },
    {
     "data": {
      "application/vnd.jupyter.widget-view+json": {
       "model_id": "",
       "version_major": 2,
       "version_minor": 0
      },
      "text/plain": [
       "[1/16]   6%|6          [00:00<?]"
      ]
     },
     "metadata": {},
     "output_type": "display_data"
    },
    {
     "name": "stdout",
     "output_type": "stream",
     "text": [
      "Epoch metrics: {'accuracy': 0.8720703125, 'crossentropy': 0.48791268467903137}\n",
      "RestoringEarlyStopping: 6 / 20\n"
     ]
    },
    {
     "data": {
      "application/vnd.jupyter.widget-view+json": {
       "model_id": "",
       "version_major": 2,
       "version_minor": 0
      },
      "text/plain": [
       "[1/16]   6%|6          [00:00<?]"
      ]
     },
     "metadata": {},
     "output_type": "display_data"
    },
    {
     "name": "stdout",
     "output_type": "stream",
     "text": [
      "Epoch metrics: {'accuracy': 0.873046875, 'crossentropy': 0.47130918502807617}\n",
      "RestoringEarlyStopping: 7 / 20\n"
     ]
    },
    {
     "data": {
      "application/vnd.jupyter.widget-view+json": {
       "model_id": "",
       "version_major": 2,
       "version_minor": 0
      },
      "text/plain": [
       "[1/16]   6%|6          [00:00<?]"
      ]
     },
     "metadata": {},
     "output_type": "display_data"
    },
    {
     "name": "stdout",
     "output_type": "stream",
     "text": [
      "Epoch metrics: {'accuracy': 0.876953125, 'crossentropy': 0.4586462378501892}\n",
      "RestoringEarlyStopping: 8 / 20\n"
     ]
    },
    {
     "data": {
      "application/vnd.jupyter.widget-view+json": {
       "model_id": "",
       "version_major": 2,
       "version_minor": 0
      },
      "text/plain": [
       "[1/16]   6%|6          [00:00<?]"
      ]
     },
     "metadata": {},
     "output_type": "display_data"
    },
    {
     "name": "stdout",
     "output_type": "stream",
     "text": [
      "Epoch metrics: {'accuracy': 0.873046875, 'crossentropy': 0.48082560300827026}\n",
      "RestoringEarlyStopping: 9 / 20\n"
     ]
    },
    {
     "data": {
      "application/vnd.jupyter.widget-view+json": {
       "model_id": "",
       "version_major": 2,
       "version_minor": 0
      },
      "text/plain": [
       "[1/16]   6%|6          [00:00<?]"
      ]
     },
     "metadata": {},
     "output_type": "display_data"
    },
    {
     "name": "stdout",
     "output_type": "stream",
     "text": [
      "Epoch metrics: {'accuracy': 0.8759765625, 'crossentropy': 0.45325061678886414}\n",
      "RestoringEarlyStopping: 10 / 20\n"
     ]
    },
    {
     "data": {
      "application/vnd.jupyter.widget-view+json": {
       "model_id": "",
       "version_major": 2,
       "version_minor": 0
      },
      "text/plain": [
       "[1/16]   6%|6          [00:00<?]"
      ]
     },
     "metadata": {},
     "output_type": "display_data"
    },
    {
     "name": "stdout",
     "output_type": "stream",
     "text": [
      "Epoch metrics: {'accuracy': 0.8662109375, 'crossentropy': 0.4505855143070221}\n",
      "RestoringEarlyStopping: 11 / 20\n"
     ]
    },
    {
     "data": {
      "application/vnd.jupyter.widget-view+json": {
       "model_id": "",
       "version_major": 2,
       "version_minor": 0
      },
      "text/plain": [
       "[1/16]   6%|6          [00:00<?]"
      ]
     },
     "metadata": {},
     "output_type": "display_data"
    },
    {
     "name": "stdout",
     "output_type": "stream",
     "text": [
      "Epoch metrics: {'accuracy': 0.896484375, 'crossentropy': 0.39331504702568054}\n"
     ]
    },
    {
     "data": {
      "application/vnd.jupyter.widget-view+json": {
       "model_id": "",
       "version_major": 2,
       "version_minor": 0
      },
      "text/plain": [
       "[1/16]   6%|6          [00:00<?]"
      ]
     },
     "metadata": {},
     "output_type": "display_data"
    },
    {
     "name": "stdout",
     "output_type": "stream",
     "text": [
      "Epoch metrics: {'accuracy': 0.865234375, 'crossentropy': 0.44815850257873535}\n",
      "RestoringEarlyStopping: 1 / 20\n"
     ]
    },
    {
     "data": {
      "application/vnd.jupyter.widget-view+json": {
       "model_id": "",
       "version_major": 2,
       "version_minor": 0
      },
      "text/plain": [
       "[1/16]   6%|6          [00:00<?]"
      ]
     },
     "metadata": {},
     "output_type": "display_data"
    },
    {
     "name": "stdout",
     "output_type": "stream",
     "text": [
      "Epoch metrics: {'accuracy': 0.87109375, 'crossentropy': 0.44715559482574463}\n",
      "RestoringEarlyStopping: 2 / 20\n"
     ]
    },
    {
     "data": {
      "application/vnd.jupyter.widget-view+json": {
       "model_id": "",
       "version_major": 2,
       "version_minor": 0
      },
      "text/plain": [
       "[1/16]   6%|6          [00:00<?]"
      ]
     },
     "metadata": {},
     "output_type": "display_data"
    },
    {
     "name": "stdout",
     "output_type": "stream",
     "text": [
      "Epoch metrics: {'accuracy': 0.890625, 'crossentropy': 0.41086944937705994}\n",
      "RestoringEarlyStopping: 3 / 20\n"
     ]
    },
    {
     "data": {
      "application/vnd.jupyter.widget-view+json": {
       "model_id": "",
       "version_major": 2,
       "version_minor": 0
      },
      "text/plain": [
       "[1/16]   6%|6          [00:00<?]"
      ]
     },
     "metadata": {},
     "output_type": "display_data"
    },
    {
     "name": "stdout",
     "output_type": "stream",
     "text": [
      "Epoch metrics: {'accuracy': 0.8740234375, 'crossentropy': 0.420120507478714}\n",
      "RestoringEarlyStopping: 4 / 20\n"
     ]
    },
    {
     "data": {
      "application/vnd.jupyter.widget-view+json": {
       "model_id": "",
       "version_major": 2,
       "version_minor": 0
      },
      "text/plain": [
       "[1/16]   6%|6          [00:00<?]"
      ]
     },
     "metadata": {},
     "output_type": "display_data"
    },
    {
     "name": "stdout",
     "output_type": "stream",
     "text": [
      "Epoch metrics: {'accuracy': 0.880859375, 'crossentropy': 0.44895458221435547}\n",
      "RestoringEarlyStopping: 5 / 20\n"
     ]
    },
    {
     "data": {
      "application/vnd.jupyter.widget-view+json": {
       "model_id": "",
       "version_major": 2,
       "version_minor": 0
      },
      "text/plain": [
       "[1/16]   6%|6          [00:00<?]"
      ]
     },
     "metadata": {},
     "output_type": "display_data"
    },
    {
     "name": "stdout",
     "output_type": "stream",
     "text": [
      "Epoch metrics: {'accuracy': 0.8779296875, 'crossentropy': 0.43646499514579773}\n",
      "RestoringEarlyStopping: 6 / 20\n"
     ]
    },
    {
     "data": {
      "application/vnd.jupyter.widget-view+json": {
       "model_id": "",
       "version_major": 2,
       "version_minor": 0
      },
      "text/plain": [
       "[1/16]   6%|6          [00:00<?]"
      ]
     },
     "metadata": {},
     "output_type": "display_data"
    },
    {
     "name": "stdout",
     "output_type": "stream",
     "text": [
      "Epoch metrics: {'accuracy': 0.892578125, 'crossentropy': 0.4303978681564331}\n",
      "RestoringEarlyStopping: 7 / 20\n"
     ]
    },
    {
     "data": {
      "application/vnd.jupyter.widget-view+json": {
       "model_id": "",
       "version_major": 2,
       "version_minor": 0
      },
      "text/plain": [
       "[1/16]   6%|6          [00:00<?]"
      ]
     },
     "metadata": {},
     "output_type": "display_data"
    },
    {
     "name": "stdout",
     "output_type": "stream",
     "text": [
      "Epoch metrics: {'accuracy': 0.8671875, 'crossentropy': 0.44779253005981445}\n",
      "RestoringEarlyStopping: 8 / 20\n"
     ]
    },
    {
     "data": {
      "application/vnd.jupyter.widget-view+json": {
       "model_id": "",
       "version_major": 2,
       "version_minor": 0
      },
      "text/plain": [
       "[1/16]   6%|6          [00:00<?]"
      ]
     },
     "metadata": {},
     "output_type": "display_data"
    },
    {
     "name": "stdout",
     "output_type": "stream",
     "text": [
      "Epoch metrics: {'accuracy': 0.890625, 'crossentropy': 0.40923184156417847}\n",
      "RestoringEarlyStopping: 9 / 20\n"
     ]
    },
    {
     "data": {
      "application/vnd.jupyter.widget-view+json": {
       "model_id": "",
       "version_major": 2,
       "version_minor": 0
      },
      "text/plain": [
       "[1/16]   6%|6          [00:00<?]"
      ]
     },
     "metadata": {},
     "output_type": "display_data"
    },
    {
     "name": "stdout",
     "output_type": "stream",
     "text": [
      "Epoch metrics: {'accuracy': 0.8857421875, 'crossentropy': 0.4240313172340393}\n",
      "RestoringEarlyStopping: 10 / 20\n"
     ]
    },
    {
     "data": {
      "application/vnd.jupyter.widget-view+json": {
       "model_id": "",
       "version_major": 2,
       "version_minor": 0
      },
      "text/plain": [
       "[1/16]   6%|6          [00:00<?]"
      ]
     },
     "metadata": {},
     "output_type": "display_data"
    },
    {
     "name": "stdout",
     "output_type": "stream",
     "text": [
      "Epoch metrics: {'accuracy': 0.8662109375, 'crossentropy': 0.4461303651332855}\n",
      "RestoringEarlyStopping: 11 / 20\n"
     ]
    },
    {
     "data": {
      "application/vnd.jupyter.widget-view+json": {
       "model_id": "",
       "version_major": 2,
       "version_minor": 0
      },
      "text/plain": [
       "[1/16]   6%|6          [00:00<?]"
      ]
     },
     "metadata": {},
     "output_type": "display_data"
    },
    {
     "name": "stdout",
     "output_type": "stream",
     "text": [
      "Epoch metrics: {'accuracy': 0.8662109375, 'crossentropy': 0.45511895418167114}\n",
      "RestoringEarlyStopping: 12 / 20\n"
     ]
    },
    {
     "data": {
      "application/vnd.jupyter.widget-view+json": {
       "model_id": "",
       "version_major": 2,
       "version_minor": 0
      },
      "text/plain": [
       "[1/16]   6%|6          [00:00<?]"
      ]
     },
     "metadata": {},
     "output_type": "display_data"
    },
    {
     "name": "stdout",
     "output_type": "stream",
     "text": [
      "Epoch metrics: {'accuracy': 0.8779296875, 'crossentropy': 0.426716148853302}\n",
      "RestoringEarlyStopping: 13 / 20\n"
     ]
    },
    {
     "data": {
      "application/vnd.jupyter.widget-view+json": {
       "model_id": "",
       "version_major": 2,
       "version_minor": 0
      },
      "text/plain": [
       "[1/16]   6%|6          [00:00<?]"
      ]
     },
     "metadata": {},
     "output_type": "display_data"
    },
    {
     "name": "stdout",
     "output_type": "stream",
     "text": [
      "Epoch metrics: {'accuracy': 0.8955078125, 'crossentropy': 0.43110382556915283}\n",
      "RestoringEarlyStopping: 14 / 20\n"
     ]
    },
    {
     "data": {
      "application/vnd.jupyter.widget-view+json": {
       "model_id": "",
       "version_major": 2,
       "version_minor": 0
      },
      "text/plain": [
       "[1/16]   6%|6          [00:00<?]"
      ]
     },
     "metadata": {},
     "output_type": "display_data"
    },
    {
     "name": "stdout",
     "output_type": "stream",
     "text": [
      "Epoch metrics: {'accuracy': 0.8701171875, 'crossentropy': 0.4675087034702301}\n",
      "RestoringEarlyStopping: 15 / 20\n"
     ]
    },
    {
     "data": {
      "application/vnd.jupyter.widget-view+json": {
       "model_id": "",
       "version_major": 2,
       "version_minor": 0
      },
      "text/plain": [
       "[1/16]   6%|6          [00:00<?]"
      ]
     },
     "metadata": {},
     "output_type": "display_data"
    },
    {
     "name": "stdout",
     "output_type": "stream",
     "text": [
      "Epoch metrics: {'accuracy': 0.8857421875, 'crossentropy': 0.42910146713256836}\n",
      "RestoringEarlyStopping: 16 / 20\n"
     ]
    },
    {
     "data": {
      "application/vnd.jupyter.widget-view+json": {
       "model_id": "",
       "version_major": 2,
       "version_minor": 0
      },
      "text/plain": [
       "[1/16]   6%|6          [00:00<?]"
      ]
     },
     "metadata": {},
     "output_type": "display_data"
    },
    {
     "name": "stdout",
     "output_type": "stream",
     "text": [
      "Epoch metrics: {'accuracy': 0.884765625, 'crossentropy': 0.43076467514038086}\n",
      "RestoringEarlyStopping: 17 / 20\n"
     ]
    },
    {
     "data": {
      "application/vnd.jupyter.widget-view+json": {
       "model_id": "",
       "version_major": 2,
       "version_minor": 0
      },
      "text/plain": [
       "[1/16]   6%|6          [00:00<?]"
      ]
     },
     "metadata": {},
     "output_type": "display_data"
    },
    {
     "name": "stdout",
     "output_type": "stream",
     "text": [
      "Epoch metrics: {'accuracy': 0.8916015625, 'crossentropy': 0.416121244430542}\n",
      "RestoringEarlyStopping: 18 / 20\n"
     ]
    },
    {
     "data": {
      "application/vnd.jupyter.widget-view+json": {
       "model_id": "",
       "version_major": 2,
       "version_minor": 0
      },
      "text/plain": [
       "[1/16]   6%|6          [00:00<?]"
      ]
     },
     "metadata": {},
     "output_type": "display_data"
    },
    {
     "name": "stdout",
     "output_type": "stream",
     "text": [
      "Epoch metrics: {'accuracy': 0.8896484375, 'crossentropy': 0.4155978560447693}\n",
      "RestoringEarlyStopping: 19 / 20\n"
     ]
    },
    {
     "data": {
      "application/vnd.jupyter.widget-view+json": {
       "model_id": "",
       "version_major": 2,
       "version_minor": 0
      },
      "text/plain": [
       "[1/16]   6%|6          [00:00<?]"
      ]
     },
     "metadata": {},
     "output_type": "display_data"
    },
    {
     "name": "stdout",
     "output_type": "stream",
     "text": [
      "Epoch metrics: {'accuracy': 0.8876953125, 'crossentropy': 0.408776193857193}\n",
      "RestoringEarlyStopping: 20 / 20\n",
      "RestoringEarlyStopping: Out of patience\n",
      "RestoringEarlyStopping: Restoring best parameters. (Score: 0.896484375)\n",
      "RestoringEarlyStopping: Restoring optimizer.\n",
      "{'/val_metrics': <wandb.data_types.Table object at 0x7f5644227370>, '/best_epoch': 16, '/best_val_accuracy': 0.896484375, '/best_val_crossentropy': 0.39331504702568054}\n"
     ]
    },
    {
     "data": {
      "application/vnd.jupyter.widget-view+json": {
       "model_id": "",
       "version_major": 2,
       "version_minor": 0
      },
      "text/plain": [
       "[1/79]   1%|1          [00:00<?]"
      ]
     },
     "metadata": {},
     "output_type": "display_data"
    },
    {
     "name": "stdout",
     "output_type": "stream",
     "text": [
      "Perf after training {'accuracy': 0.9048, 'crossentropy': 0.378577880859375}\n"
     ]
    },
    {
     "data": {
      "text/plain": [
       "{'initial_training_set_indices': [46377,\n",
       "  44390,\n",
       "  7485,\n",
       "  25450,\n",
       "  12220,\n",
       "  43112,\n",
       "  3612,\n",
       "  54256,\n",
       "  44467,\n",
       "  17555,\n",
       "  4218,\n",
       "  45101,\n",
       "  41296,\n",
       "  32261,\n",
       "  3281,\n",
       "  6944,\n",
       "  7701,\n",
       "  30692,\n",
       "  24891,\n",
       "  24436,\n",
       "  17776,\n",
       "  36852,\n",
       "  26891,\n",
       "  17001,\n",
       "  44414,\n",
       "  23050,\n",
       "  30884,\n",
       "  41516,\n",
       "  8897,\n",
       "  34608,\n",
       "  11721,\n",
       "  13127,\n",
       "  9870,\n",
       "  39700,\n",
       "  13985,\n",
       "  9608,\n",
       "  17808,\n",
       "  23028,\n",
       "  3494,\n",
       "  10210,\n",
       "  42384,\n",
       "  31742,\n",
       "  17100,\n",
       "  46530,\n",
       "  26733,\n",
       "  4762,\n",
       "  14113,\n",
       "  20798,\n",
       "  28388,\n",
       "  42973,\n",
       "  37347,\n",
       "  55042,\n",
       "  41295,\n",
       "  28310,\n",
       "  19280,\n",
       "  18501,\n",
       "  274,\n",
       "  11208,\n",
       "  13335,\n",
       "  24440,\n",
       "  49493,\n",
       "  58129,\n",
       "  56210,\n",
       "  40766,\n",
       "  13318,\n",
       "  50040,\n",
       "  18408,\n",
       "  7255,\n",
       "  15494,\n",
       "  7168,\n",
       "  9472,\n",
       "  14845,\n",
       "  14096,\n",
       "  26072,\n",
       "  35944,\n",
       "  34836,\n",
       "  12655,\n",
       "  991,\n",
       "  38577,\n",
       "  47322,\n",
       "  45212,\n",
       "  16286,\n",
       "  5308,\n",
       "  38182,\n",
       "  31624,\n",
       "  12702,\n",
       "  30861,\n",
       "  46320,\n",
       "  36408,\n",
       "  49841,\n",
       "  33426,\n",
       "  57527,\n",
       "  3273,\n",
       "  24740,\n",
       "  39627,\n",
       "  22199,\n",
       "  19362,\n",
       "  42136,\n",
       "  41965,\n",
       "  43095],\n",
       " 'dataset_info': {'training': \"'FastMNIST (train)'\",\n",
       "  'test': \"'FastMNIST (test, 10000 samples)'\"},\n",
       " 'active_learning_steps': [{'training': {'epochs': [{'accuracy': 0.1865234375,\n",
       "      'crossentropy': 2.204674243927002},\n",
       "     {'accuracy': 0.3984375, 'crossentropy': 1.8883782625198364},\n",
       "     {'accuracy': 0.7724609375, 'crossentropy': 1.3038113117218018},\n",
       "     {'accuracy': 0.8505859375, 'crossentropy': 0.9791264533996582},\n",
       "     {'accuracy': 0.884765625, 'crossentropy': 0.7918858528137207},\n",
       "     {'accuracy': 0.8720703125, 'crossentropy': 0.6580309271812439},\n",
       "     {'accuracy': 0.8720703125, 'crossentropy': 0.6301825046539307},\n",
       "     {'accuracy': 0.87890625, 'crossentropy': 0.5223856568336487},\n",
       "     {'accuracy': 0.880859375, 'crossentropy': 0.5107243061065674},\n",
       "     {'accuracy': 0.876953125, 'crossentropy': 0.504318356513977},\n",
       "     {'accuracy': 0.8720703125, 'crossentropy': 0.48791268467903137},\n",
       "     {'accuracy': 0.873046875, 'crossentropy': 0.47130918502807617},\n",
       "     {'accuracy': 0.876953125, 'crossentropy': 0.4586462378501892},\n",
       "     {'accuracy': 0.873046875, 'crossentropy': 0.48082560300827026},\n",
       "     {'accuracy': 0.8759765625, 'crossentropy': 0.45325061678886414},\n",
       "     {'accuracy': 0.8662109375, 'crossentropy': 0.4505855143070221},\n",
       "     {'accuracy': 0.896484375, 'crossentropy': 0.39331504702568054},\n",
       "     {'accuracy': 0.865234375, 'crossentropy': 0.44815850257873535},\n",
       "     {'accuracy': 0.87109375, 'crossentropy': 0.44715559482574463},\n",
       "     {'accuracy': 0.890625, 'crossentropy': 0.41086944937705994},\n",
       "     {'accuracy': 0.8740234375, 'crossentropy': 0.420120507478714},\n",
       "     {'accuracy': 0.880859375, 'crossentropy': 0.44895458221435547},\n",
       "     {'accuracy': 0.8779296875, 'crossentropy': 0.43646499514579773},\n",
       "     {'accuracy': 0.892578125, 'crossentropy': 0.4303978681564331},\n",
       "     {'accuracy': 0.8671875, 'crossentropy': 0.44779253005981445},\n",
       "     {'accuracy': 0.890625, 'crossentropy': 0.40923184156417847},\n",
       "     {'accuracy': 0.8857421875, 'crossentropy': 0.4240313172340393},\n",
       "     {'accuracy': 0.8662109375, 'crossentropy': 0.4461303651332855},\n",
       "     {'accuracy': 0.8662109375, 'crossentropy': 0.45511895418167114},\n",
       "     {'accuracy': 0.8779296875, 'crossentropy': 0.426716148853302},\n",
       "     {'accuracy': 0.8955078125, 'crossentropy': 0.43110382556915283},\n",
       "     {'accuracy': 0.8701171875, 'crossentropy': 0.4675087034702301},\n",
       "     {'accuracy': 0.8857421875, 'crossentropy': 0.42910146713256836},\n",
       "     {'accuracy': 0.884765625, 'crossentropy': 0.43076467514038086},\n",
       "     {'accuracy': 0.8916015625, 'crossentropy': 0.416121244430542},\n",
       "     {'accuracy': 0.8896484375, 'crossentropy': 0.4155978560447693},\n",
       "     {'accuracy': 0.8876953125, 'crossentropy': 0.408776193857193}],\n",
       "    'best_epoch': 16},\n",
       "   'evaluation_metrics': {'accuracy': 0.9048,\n",
       "    'crossentropy': 0.378577880859375}}]}"
      ]
     },
     "execution_count": null,
     "metadata": {},
     "output_type": "execute_result"
    }
   ],
   "source": [
    "logs = {}\n",
    "model = experiment.run(logs)\n",
    "logs"
   ]
  },
  {
   "cell_type": "code",
   "execution_count": null,
   "metadata": {},
   "outputs": [],
   "source": [
    "device = \"cuda\"\n",
    "train_dataset = NamedDataset(FastMNIST(\"data\", train=True, download=True, device=device), \"FastMNIST (train)\")\n",
    "\n",
    "test_dataset = FastMNIST(\"data\", train=False, device=device)\n",
    "test_dataset = NamedDataset(test_dataset, f\"FastMNIST (test, {len(test_dataset)} samples)\")"
   ]
  },
  {
   "cell_type": "code",
   "execution_count": null,
   "metadata": {},
   "outputs": [
    {
     "data": {
      "application/vnd.jupyter.widget-view+json": {
       "model_id": "",
       "version_major": 2,
       "version_minor": 0
      },
      "text/plain": [
       "get_predictions_labels:   0%|          | 0/4001200 [00:00<?, ?it/s]"
      ]
     },
     "metadata": {},
     "output_type": "display_data"
    },
    {
     "name": "stdout",
     "output_type": "stream",
     "text": [
      "Online Training Size/Num Samples/Trial: 0/10/0\n",
      "OBIPerformance(total_training_set_size=69, real_training_set_size=69, online_training_set_size=0, trial_index=0, num_samples=10, accuracy=0.9053000211715698, crossentropy=0.36478863752452756)\n",
      "Online Training Size/Num Samples/Trial: 0/10/1\n",
      "OBIPerformance(total_training_set_size=69, real_training_set_size=69, online_training_set_size=0, trial_index=1, num_samples=10, accuracy=0.8996999859809875, crossentropy=0.36229836322350656)\n",
      "Online Training Size/Num Samples/Trial: 0/10/2\n",
      "OBIPerformance(total_training_set_size=69, real_training_set_size=69, online_training_set_size=0, trial_index=2, num_samples=10, accuracy=0.8970999717712402, crossentropy=0.38442623740958404)\n",
      "Online Training Size/Num Samples/Trial: 0/10/3\n",
      "OBIPerformance(total_training_set_size=69, real_training_set_size=69, online_training_set_size=0, trial_index=3, num_samples=10, accuracy=0.9082000255584717, crossentropy=0.36399307377589557)\n",
      "Online Training Size/Num Samples/Trial: 0/10/4\n",
      "OBIPerformance(total_training_set_size=69, real_training_set_size=69, online_training_set_size=0, trial_index=4, num_samples=10, accuracy=0.8938999772071838, crossentropy=0.3908146566503921)\n",
      "Online Training Size/Num Samples/Trial: 0/10/5\n",
      "OBIPerformance(total_training_set_size=69, real_training_set_size=69, online_training_set_size=0, trial_index=5, num_samples=10, accuracy=0.8910999894142151, crossentropy=0.4314833914073963)\n",
      "Online Training Size/Num Samples/Trial: 0/10/6\n",
      "OBIPerformance(total_training_set_size=69, real_training_set_size=69, online_training_set_size=0, trial_index=6, num_samples=10, accuracy=0.8842999935150146, crossentropy=0.42853751638220017)\n",
      "Online Training Size/Num Samples/Trial: 0/10/7\n",
      "OBIPerformance(total_training_set_size=69, real_training_set_size=69, online_training_set_size=0, trial_index=7, num_samples=10, accuracy=0.8883000016212463, crossentropy=0.4136911141287668)\n",
      "Online Training Size/Num Samples/Trial: 0/10/8\n",
      "OBIPerformance(total_training_set_size=69, real_training_set_size=69, online_training_set_size=0, trial_index=8, num_samples=10, accuracy=0.8888000249862671, crossentropy=0.3776440472437381)\n",
      "Online Training Size/Num Samples/Trial: 0/10/9\n",
      "OBIPerformance(total_training_set_size=69, real_training_set_size=69, online_training_set_size=0, trial_index=9, num_samples=10, accuracy=0.9035999774932861, crossentropy=0.3980903666231778)\n",
      "Online Training Size/Num Samples/Trial: 0/100/0\n",
      "OBIPerformance(total_training_set_size=69, real_training_set_size=69, online_training_set_size=0, trial_index=0, num_samples=100, accuracy=0.9118000268936157, crossentropy=0.35984886000282656)\n",
      "Online Training Size/Num Samples/Trial: 0/100/1\n",
      "OBIPerformance(total_training_set_size=69, real_training_set_size=69, online_training_set_size=0, trial_index=1, num_samples=100, accuracy=0.9089000225067139, crossentropy=0.3705087606296952)\n",
      "Online Training Size/Num Samples/Trial: 0/100/2\n",
      "OBIPerformance(total_training_set_size=69, real_training_set_size=69, online_training_set_size=0, trial_index=2, num_samples=100, accuracy=0.9106000065803528, crossentropy=0.3725522936325272)\n",
      "Online Training Size/Num Samples/Trial: 0/100/3\n",
      "OBIPerformance(total_training_set_size=69, real_training_set_size=69, online_training_set_size=0, trial_index=3, num_samples=100, accuracy=0.9110999703407288, crossentropy=0.3716479269684275)\n",
      "Online Training Size/Num Samples/Trial: 0/100/4\n",
      "OBIPerformance(total_training_set_size=69, real_training_set_size=69, online_training_set_size=0, trial_index=4, num_samples=100, accuracy=0.9053000211715698, crossentropy=0.37490209982884704)\n",
      "Online Training Size/Num Samples/Trial: 0/100/5\n",
      "OBIPerformance(total_training_set_size=69, real_training_set_size=69, online_training_set_size=0, trial_index=5, num_samples=100, accuracy=0.9099000096321106, crossentropy=0.36786316889518833)\n",
      "Online Training Size/Num Samples/Trial: 0/100/6\n",
      "OBIPerformance(total_training_set_size=69, real_training_set_size=69, online_training_set_size=0, trial_index=6, num_samples=100, accuracy=0.9122999906539917, crossentropy=0.36561871702215887)\n",
      "Online Training Size/Num Samples/Trial: 0/100/7\n",
      "OBIPerformance(total_training_set_size=69, real_training_set_size=69, online_training_set_size=0, trial_index=7, num_samples=100, accuracy=0.9108999967575073, crossentropy=0.3644811486630545)\n",
      "Online Training Size/Num Samples/Trial: 0/100/8\n",
      "OBIPerformance(total_training_set_size=69, real_training_set_size=69, online_training_set_size=0, trial_index=8, num_samples=100, accuracy=0.90829998254776, crossentropy=0.36808180929790824)\n",
      "Online Training Size/Num Samples/Trial: 0/100/9\n",
      "OBIPerformance(total_training_set_size=69, real_training_set_size=69, online_training_set_size=0, trial_index=9, num_samples=100, accuracy=0.9096999764442444, crossentropy=0.3678230134242324)\n",
      "Online Training Size/Num Samples/Trial: 1/10/0\n",
      "OBIPerformance(total_training_set_size=70, real_training_set_size=69, online_training_set_size=1, trial_index=0, num_samples=10, accuracy=0.7904000282287598, crossentropy=0.5478878641682172)\n",
      "Online Training Size/Num Samples/Trial: 1/10/1\n",
      "OBIPerformance(total_training_set_size=70, real_training_set_size=69, online_training_set_size=1, trial_index=1, num_samples=10, accuracy=0.8371999859809875, crossentropy=0.4772958154861873)\n",
      "Online Training Size/Num Samples/Trial: 1/10/2\n",
      "OBIPerformance(total_training_set_size=70, real_training_set_size=69, online_training_set_size=1, trial_index=2, num_samples=10, accuracy=0.8209999799728394, crossentropy=0.5138269679412618)\n",
      "Online Training Size/Num Samples/Trial: 1/10/3\n",
      "OBIPerformance(total_training_set_size=70, real_training_set_size=69, online_training_set_size=1, trial_index=3, num_samples=10, accuracy=0.7325000166893005, crossentropy=0.7573227365610191)\n",
      "Online Training Size/Num Samples/Trial: 1/10/4\n",
      "OBIPerformance(total_training_set_size=70, real_training_set_size=69, online_training_set_size=1, trial_index=4, num_samples=10, accuracy=0.652400016784668, crossentropy=0.7087094585680983)\n",
      "Online Training Size/Num Samples/Trial: 1/10/5\n",
      "OBIPerformance(total_training_set_size=70, real_training_set_size=69, online_training_set_size=1, trial_index=5, num_samples=10, accuracy=0.8303999900817871, crossentropy=0.4925802400616678)\n",
      "Online Training Size/Num Samples/Trial: 1/10/6\n",
      "OBIPerformance(total_training_set_size=70, real_training_set_size=69, online_training_set_size=1, trial_index=6, num_samples=10, accuracy=0.8812000155448914, crossentropy=0.3865544362144568)\n",
      "Online Training Size/Num Samples/Trial: 1/10/7\n",
      "OBIPerformance(total_training_set_size=70, real_training_set_size=69, online_training_set_size=1, trial_index=7, num_samples=10, accuracy=0.7789999842643738, crossentropy=0.6010243038633556)\n",
      "Online Training Size/Num Samples/Trial: 1/10/8\n",
      "OBIPerformance(total_training_set_size=70, real_training_set_size=69, online_training_set_size=1, trial_index=8, num_samples=10, accuracy=0.8202999830245972, crossentropy=0.5350575576605358)\n",
      "Online Training Size/Num Samples/Trial: 1/10/9\n",
      "OBIPerformance(total_training_set_size=70, real_training_set_size=69, online_training_set_size=1, trial_index=9, num_samples=10, accuracy=0.8616999983787537, crossentropy=0.4813957902027909)\n",
      "Online Training Size/Num Samples/Trial: 1/100/0\n",
      "OBIPerformance(total_training_set_size=70, real_training_set_size=69, online_training_set_size=1, trial_index=0, num_samples=100, accuracy=0.8640999794006348, crossentropy=0.4276024249410253)\n",
      "Online Training Size/Num Samples/Trial: 1/100/1\n",
      "OBIPerformance(total_training_set_size=70, real_training_set_size=69, online_training_set_size=1, trial_index=1, num_samples=100, accuracy=0.8580999970436096, crossentropy=0.41114853133906964)\n",
      "Online Training Size/Num Samples/Trial: 1/100/2\n",
      "OBIPerformance(total_training_set_size=70, real_training_set_size=69, online_training_set_size=1, trial_index=2, num_samples=100, accuracy=0.8925999999046326, crossentropy=0.38569833822565597)\n",
      "Online Training Size/Num Samples/Trial: 1/100/3\n",
      "OBIPerformance(total_training_set_size=70, real_training_set_size=69, online_training_set_size=1, trial_index=3, num_samples=100, accuracy=0.8697999715805054, crossentropy=0.4143738198808436)\n",
      "Online Training Size/Num Samples/Trial: 1/100/4\n",
      "OBIPerformance(total_training_set_size=70, real_training_set_size=69, online_training_set_size=1, trial_index=4, num_samples=100, accuracy=0.829200029373169, crossentropy=0.4719128246434698)\n",
      "Online Training Size/Num Samples/Trial: 1/100/5\n",
      "OBIPerformance(total_training_set_size=70, real_training_set_size=69, online_training_set_size=1, trial_index=5, num_samples=100, accuracy=0.887499988079071, crossentropy=0.3782739077526661)\n",
      "Online Training Size/Num Samples/Trial: 1/100/6\n",
      "OBIPerformance(total_training_set_size=70, real_training_set_size=69, online_training_set_size=1, trial_index=6, num_samples=100, accuracy=0.854200005531311, crossentropy=0.44162428666594167)\n",
      "Online Training Size/Num Samples/Trial: 1/100/7\n",
      "OBIPerformance(total_training_set_size=70, real_training_set_size=69, online_training_set_size=1, trial_index=7, num_samples=100, accuracy=0.8799999952316284, crossentropy=0.38294158796589234)\n",
      "Online Training Size/Num Samples/Trial: 1/100/8\n",
      "OBIPerformance(total_training_set_size=70, real_training_set_size=69, online_training_set_size=1, trial_index=8, num_samples=100, accuracy=0.8726000189781189, crossentropy=0.39955210256172713)\n",
      "Online Training Size/Num Samples/Trial: 1/100/9\n",
      "OBIPerformance(total_training_set_size=70, real_training_set_size=69, online_training_set_size=1, trial_index=9, num_samples=100, accuracy=0.8532000184059143, crossentropy=0.41414733387350444)\n",
      "Online Training Size/Num Samples/Trial: 2/10/0\n",
      "OBIPerformance(total_training_set_size=71, real_training_set_size=69, online_training_set_size=2, trial_index=0, num_samples=10, accuracy=0.7466999888420105, crossentropy=0.7180620791080632)\n",
      "Online Training Size/Num Samples/Trial: 2/10/1\n",
      "OBIPerformance(total_training_set_size=71, real_training_set_size=69, online_training_set_size=2, trial_index=1, num_samples=10, accuracy=0.8248999714851379, crossentropy=0.4668208957307903)\n",
      "Online Training Size/Num Samples/Trial: 2/10/2\n",
      "OBIPerformance(total_training_set_size=71, real_training_set_size=69, online_training_set_size=2, trial_index=2, num_samples=10, accuracy=0.7384999990463257, crossentropy=0.7081790430098936)\n",
      "Online Training Size/Num Samples/Trial: 2/10/3\n",
      "OBIPerformance(total_training_set_size=71, real_training_set_size=69, online_training_set_size=2, trial_index=3, num_samples=10, accuracy=0.8219000101089478, crossentropy=0.5017717095991371)\n",
      "Online Training Size/Num Samples/Trial: 2/10/4\n",
      "OBIPerformance(total_training_set_size=71, real_training_set_size=69, online_training_set_size=2, trial_index=4, num_samples=10, accuracy=0.7889999747276306, crossentropy=0.7162158974442849)\n",
      "Online Training Size/Num Samples/Trial: 2/10/5\n",
      "OBIPerformance(total_training_set_size=71, real_training_set_size=69, online_training_set_size=2, trial_index=5, num_samples=10, accuracy=0.7734000086784363, crossentropy=0.7217206572519664)\n",
      "Online Training Size/Num Samples/Trial: 2/10/6\n",
      "OBIPerformance(total_training_set_size=71, real_training_set_size=69, online_training_set_size=2, trial_index=6, num_samples=10, accuracy=0.8009999990463257, crossentropy=0.5720905099586308)\n",
      "Online Training Size/Num Samples/Trial: 2/10/7\n",
      "OBIPerformance(total_training_set_size=71, real_training_set_size=69, online_training_set_size=2, trial_index=7, num_samples=10, accuracy=0.8184000253677368, crossentropy=0.49770110874915946)\n",
      "Online Training Size/Num Samples/Trial: 2/10/8\n",
      "OBIPerformance(total_training_set_size=71, real_training_set_size=69, online_training_set_size=2, trial_index=8, num_samples=10, accuracy=0.8337000012397766, crossentropy=0.5165073682376791)\n",
      "Online Training Size/Num Samples/Trial: 2/10/9\n",
      "OBIPerformance(total_training_set_size=71, real_training_set_size=69, online_training_set_size=2, trial_index=9, num_samples=10, accuracy=0.7013000249862671, crossentropy=1.070837669585442)\n",
      "Online Training Size/Num Samples/Trial: 2/100/0\n",
      "OBIPerformance(total_training_set_size=71, real_training_set_size=69, online_training_set_size=2, trial_index=0, num_samples=100, accuracy=0.863099992275238, crossentropy=0.47769419096863286)\n",
      "Online Training Size/Num Samples/Trial: 2/100/1\n",
      "OBIPerformance(total_training_set_size=71, real_training_set_size=69, online_training_set_size=2, trial_index=1, num_samples=100, accuracy=0.8673999905586243, crossentropy=0.42740240105972827)\n",
      "Online Training Size/Num Samples/Trial: 2/100/2\n",
      "OBIPerformance(total_training_set_size=71, real_training_set_size=69, online_training_set_size=2, trial_index=2, num_samples=100, accuracy=0.8600000143051147, crossentropy=0.4534642354057479)\n",
      "Online Training Size/Num Samples/Trial: 2/100/3\n",
      "OBIPerformance(total_training_set_size=71, real_training_set_size=69, online_training_set_size=2, trial_index=3, num_samples=100, accuracy=0.8288000226020813, crossentropy=0.46345326248679775)\n",
      "Online Training Size/Num Samples/Trial: 2/100/4\n",
      "OBIPerformance(total_training_set_size=71, real_training_set_size=69, online_training_set_size=2, trial_index=4, num_samples=100, accuracy=0.7809000015258789, crossentropy=0.5897158366440284)\n",
      "Online Training Size/Num Samples/Trial: 2/100/5\n",
      "OBIPerformance(total_training_set_size=71, real_training_set_size=69, online_training_set_size=2, trial_index=5, num_samples=100, accuracy=0.8640000224113464, crossentropy=0.45516917489060504)\n",
      "Online Training Size/Num Samples/Trial: 2/100/6\n",
      "OBIPerformance(total_training_set_size=71, real_training_set_size=69, online_training_set_size=2, trial_index=6, num_samples=100, accuracy=0.867900013923645, crossentropy=0.44087181071308623)\n",
      "Online Training Size/Num Samples/Trial: 2/100/7\n",
      "OBIPerformance(total_training_set_size=71, real_training_set_size=69, online_training_set_size=2, trial_index=7, num_samples=100, accuracy=0.8907999992370605, crossentropy=0.3883709308047926)\n",
      "Online Training Size/Num Samples/Trial: 2/100/8\n",
      "OBIPerformance(total_training_set_size=71, real_training_set_size=69, online_training_set_size=2, trial_index=8, num_samples=100, accuracy=0.875, crossentropy=0.4061719222327063)\n",
      "Online Training Size/Num Samples/Trial: 2/100/9\n",
      "OBIPerformance(total_training_set_size=71, real_training_set_size=69, online_training_set_size=2, trial_index=9, num_samples=100, accuracy=0.8603000044822693, crossentropy=0.4343936621008379)\n",
      "Online Training Size/Num Samples/Trial: 3/10/0\n",
      "OBIPerformance(total_training_set_size=72, real_training_set_size=69, online_training_set_size=3, trial_index=0, num_samples=10, accuracy=0.7247999906539917, crossentropy=0.8670848720399669)\n",
      "Online Training Size/Num Samples/Trial: 3/10/1\n",
      "OBIPerformance(total_training_set_size=72, real_training_set_size=69, online_training_set_size=3, trial_index=1, num_samples=10, accuracy=0.7918000221252441, crossentropy=0.5995849338621014)\n",
      "Online Training Size/Num Samples/Trial: 3/10/2\n",
      "OBIPerformance(total_training_set_size=72, real_training_set_size=69, online_training_set_size=3, trial_index=2, num_samples=10, accuracy=0.7997999787330627, crossentropy=0.6532767671640377)\n",
      "Online Training Size/Num Samples/Trial: 3/10/3\n",
      "OBIPerformance(total_training_set_size=72, real_training_set_size=69, online_training_set_size=3, trial_index=3, num_samples=10, accuracy=0.6029000282287598, crossentropy=1.7496904675888647)\n",
      "Online Training Size/Num Samples/Trial: 3/10/4\n",
      "OBIPerformance(total_training_set_size=72, real_training_set_size=69, online_training_set_size=3, trial_index=4, num_samples=10, accuracy=0.7297000288963318, crossentropy=0.8419253370201006)\n",
      "Online Training Size/Num Samples/Trial: 3/10/5\n",
      "OBIPerformance(total_training_set_size=72, real_training_set_size=69, online_training_set_size=3, trial_index=5, num_samples=10, accuracy=0.8151000142097473, crossentropy=0.5745683954562035)\n",
      "Online Training Size/Num Samples/Trial: 3/10/6\n",
      "OBIPerformance(total_training_set_size=72, real_training_set_size=69, online_training_set_size=3, trial_index=6, num_samples=10, accuracy=0.7706000208854675, crossentropy=0.5909426203558266)\n",
      "Online Training Size/Num Samples/Trial: 3/10/7\n",
      "OBIPerformance(total_training_set_size=72, real_training_set_size=69, online_training_set_size=3, trial_index=7, num_samples=10, accuracy=0.7132999897003174, crossentropy=0.7581075125298933)\n",
      "Online Training Size/Num Samples/Trial: 3/10/8\n",
      "OBIPerformance(total_training_set_size=72, real_training_set_size=69, online_training_set_size=3, trial_index=8, num_samples=10, accuracy=0.6036999821662903, crossentropy=1.4294244397813043)\n",
      "Online Training Size/Num Samples/Trial: 3/10/9\n",
      "OBIPerformance(total_training_set_size=72, real_training_set_size=69, online_training_set_size=3, trial_index=9, num_samples=10, accuracy=0.8004000186920166, crossentropy=0.6743935979734801)\n",
      "Online Training Size/Num Samples/Trial: 3/100/0\n",
      "OBIPerformance(total_training_set_size=72, real_training_set_size=69, online_training_set_size=3, trial_index=0, num_samples=100, accuracy=0.7354999780654907, crossentropy=0.6745917480774888)\n",
      "Online Training Size/Num Samples/Trial: 3/100/1\n",
      "OBIPerformance(total_training_set_size=72, real_training_set_size=69, online_training_set_size=3, trial_index=1, num_samples=100, accuracy=0.7871999740600586, crossentropy=0.5722652857416788)\n",
      "Online Training Size/Num Samples/Trial: 3/100/2\n",
      "OBIPerformance(total_training_set_size=72, real_training_set_size=69, online_training_set_size=3, trial_index=2, num_samples=100, accuracy=0.7416999936103821, crossentropy=0.6001434608703752)\n",
      "Online Training Size/Num Samples/Trial: 3/100/3\n",
      "OBIPerformance(total_training_set_size=72, real_training_set_size=69, online_training_set_size=3, trial_index=3, num_samples=100, accuracy=0.826200008392334, crossentropy=0.5393007495835952)\n",
      "Online Training Size/Num Samples/Trial: 3/100/4\n",
      "OBIPerformance(total_training_set_size=72, real_training_set_size=69, online_training_set_size=3, trial_index=4, num_samples=100, accuracy=0.8147000074386597, crossentropy=0.48882683687420925)\n",
      "Online Training Size/Num Samples/Trial: 3/100/5\n",
      "OBIPerformance(total_training_set_size=72, real_training_set_size=69, online_training_set_size=3, trial_index=5, num_samples=100, accuracy=0.8651999831199646, crossentropy=0.49774643429460047)\n",
      "Online Training Size/Num Samples/Trial: 3/100/6\n",
      "OBIPerformance(total_training_set_size=72, real_training_set_size=69, online_training_set_size=3, trial_index=6, num_samples=100, accuracy=0.7322999835014343, crossentropy=0.5937744542892096)\n",
      "Online Training Size/Num Samples/Trial: 3/100/7\n",
      "OBIPerformance(total_training_set_size=72, real_training_set_size=69, online_training_set_size=3, trial_index=7, num_samples=100, accuracy=0.8144999742507935, crossentropy=0.5194894618545757)\n",
      "Online Training Size/Num Samples/Trial: 3/100/8\n",
      "OBIPerformance(total_training_set_size=72, real_training_set_size=69, online_training_set_size=3, trial_index=8, num_samples=100, accuracy=0.8098000288009644, crossentropy=0.5048562950047071)\n",
      "Online Training Size/Num Samples/Trial: 3/100/9\n",
      "OBIPerformance(total_training_set_size=72, real_training_set_size=69, online_training_set_size=3, trial_index=9, num_samples=100, accuracy=0.803600013256073, crossentropy=0.523545556921369)\n"
     ]
    },
    {
     "data": {
      "text/plain": [
       "[OBIPerformance(total_training_set_size=69, real_training_set_size=69, online_training_set_size=0, trial_index=0, num_samples=10, accuracy=0.9053000211715698, crossentropy=0.36478863752452756),\n",
       " OBIPerformance(total_training_set_size=69, real_training_set_size=69, online_training_set_size=0, trial_index=1, num_samples=10, accuracy=0.8996999859809875, crossentropy=0.36229836322350656),\n",
       " OBIPerformance(total_training_set_size=69, real_training_set_size=69, online_training_set_size=0, trial_index=2, num_samples=10, accuracy=0.8970999717712402, crossentropy=0.38442623740958404),\n",
       " OBIPerformance(total_training_set_size=69, real_training_set_size=69, online_training_set_size=0, trial_index=3, num_samples=10, accuracy=0.9082000255584717, crossentropy=0.36399307377589557),\n",
       " OBIPerformance(total_training_set_size=69, real_training_set_size=69, online_training_set_size=0, trial_index=4, num_samples=10, accuracy=0.8938999772071838, crossentropy=0.3908146566503921),\n",
       " OBIPerformance(total_training_set_size=69, real_training_set_size=69, online_training_set_size=0, trial_index=5, num_samples=10, accuracy=0.8910999894142151, crossentropy=0.4314833914073963),\n",
       " OBIPerformance(total_training_set_size=69, real_training_set_size=69, online_training_set_size=0, trial_index=6, num_samples=10, accuracy=0.8842999935150146, crossentropy=0.42853751638220017),\n",
       " OBIPerformance(total_training_set_size=69, real_training_set_size=69, online_training_set_size=0, trial_index=7, num_samples=10, accuracy=0.8883000016212463, crossentropy=0.4136911141287668),\n",
       " OBIPerformance(total_training_set_size=69, real_training_set_size=69, online_training_set_size=0, trial_index=8, num_samples=10, accuracy=0.8888000249862671, crossentropy=0.3776440472437381),\n",
       " OBIPerformance(total_training_set_size=69, real_training_set_size=69, online_training_set_size=0, trial_index=9, num_samples=10, accuracy=0.9035999774932861, crossentropy=0.3980903666231778),\n",
       " OBIPerformance(total_training_set_size=69, real_training_set_size=69, online_training_set_size=0, trial_index=0, num_samples=100, accuracy=0.9118000268936157, crossentropy=0.35984886000282656),\n",
       " OBIPerformance(total_training_set_size=69, real_training_set_size=69, online_training_set_size=0, trial_index=1, num_samples=100, accuracy=0.9089000225067139, crossentropy=0.3705087606296952),\n",
       " OBIPerformance(total_training_set_size=69, real_training_set_size=69, online_training_set_size=0, trial_index=2, num_samples=100, accuracy=0.9106000065803528, crossentropy=0.3725522936325272),\n",
       " OBIPerformance(total_training_set_size=69, real_training_set_size=69, online_training_set_size=0, trial_index=3, num_samples=100, accuracy=0.9110999703407288, crossentropy=0.3716479269684275),\n",
       " OBIPerformance(total_training_set_size=69, real_training_set_size=69, online_training_set_size=0, trial_index=4, num_samples=100, accuracy=0.9053000211715698, crossentropy=0.37490209982884704),\n",
       " OBIPerformance(total_training_set_size=69, real_training_set_size=69, online_training_set_size=0, trial_index=5, num_samples=100, accuracy=0.9099000096321106, crossentropy=0.36786316889518833),\n",
       " OBIPerformance(total_training_set_size=69, real_training_set_size=69, online_training_set_size=0, trial_index=6, num_samples=100, accuracy=0.9122999906539917, crossentropy=0.36561871702215887),\n",
       " OBIPerformance(total_training_set_size=69, real_training_set_size=69, online_training_set_size=0, trial_index=7, num_samples=100, accuracy=0.9108999967575073, crossentropy=0.3644811486630545),\n",
       " OBIPerformance(total_training_set_size=69, real_training_set_size=69, online_training_set_size=0, trial_index=8, num_samples=100, accuracy=0.90829998254776, crossentropy=0.36808180929790824),\n",
       " OBIPerformance(total_training_set_size=69, real_training_set_size=69, online_training_set_size=0, trial_index=9, num_samples=100, accuracy=0.9096999764442444, crossentropy=0.3678230134242324),\n",
       " OBIPerformance(total_training_set_size=70, real_training_set_size=69, online_training_set_size=1, trial_index=0, num_samples=10, accuracy=0.7904000282287598, crossentropy=0.5478878641682172),\n",
       " OBIPerformance(total_training_set_size=70, real_training_set_size=69, online_training_set_size=1, trial_index=1, num_samples=10, accuracy=0.8371999859809875, crossentropy=0.4772958154861873),\n",
       " OBIPerformance(total_training_set_size=70, real_training_set_size=69, online_training_set_size=1, trial_index=2, num_samples=10, accuracy=0.8209999799728394, crossentropy=0.5138269679412618),\n",
       " OBIPerformance(total_training_set_size=70, real_training_set_size=69, online_training_set_size=1, trial_index=3, num_samples=10, accuracy=0.7325000166893005, crossentropy=0.7573227365610191),\n",
       " OBIPerformance(total_training_set_size=70, real_training_set_size=69, online_training_set_size=1, trial_index=4, num_samples=10, accuracy=0.652400016784668, crossentropy=0.7087094585680983),\n",
       " OBIPerformance(total_training_set_size=70, real_training_set_size=69, online_training_set_size=1, trial_index=5, num_samples=10, accuracy=0.8303999900817871, crossentropy=0.4925802400616678),\n",
       " OBIPerformance(total_training_set_size=70, real_training_set_size=69, online_training_set_size=1, trial_index=6, num_samples=10, accuracy=0.8812000155448914, crossentropy=0.3865544362144568),\n",
       " OBIPerformance(total_training_set_size=70, real_training_set_size=69, online_training_set_size=1, trial_index=7, num_samples=10, accuracy=0.7789999842643738, crossentropy=0.6010243038633556),\n",
       " OBIPerformance(total_training_set_size=70, real_training_set_size=69, online_training_set_size=1, trial_index=8, num_samples=10, accuracy=0.8202999830245972, crossentropy=0.5350575576605358),\n",
       " OBIPerformance(total_training_set_size=70, real_training_set_size=69, online_training_set_size=1, trial_index=9, num_samples=10, accuracy=0.8616999983787537, crossentropy=0.4813957902027909),\n",
       " OBIPerformance(total_training_set_size=70, real_training_set_size=69, online_training_set_size=1, trial_index=0, num_samples=100, accuracy=0.8640999794006348, crossentropy=0.4276024249410253),\n",
       " OBIPerformance(total_training_set_size=70, real_training_set_size=69, online_training_set_size=1, trial_index=1, num_samples=100, accuracy=0.8580999970436096, crossentropy=0.41114853133906964),\n",
       " OBIPerformance(total_training_set_size=70, real_training_set_size=69, online_training_set_size=1, trial_index=2, num_samples=100, accuracy=0.8925999999046326, crossentropy=0.38569833822565597),\n",
       " OBIPerformance(total_training_set_size=70, real_training_set_size=69, online_training_set_size=1, trial_index=3, num_samples=100, accuracy=0.8697999715805054, crossentropy=0.4143738198808436),\n",
       " OBIPerformance(total_training_set_size=70, real_training_set_size=69, online_training_set_size=1, trial_index=4, num_samples=100, accuracy=0.829200029373169, crossentropy=0.4719128246434698),\n",
       " OBIPerformance(total_training_set_size=70, real_training_set_size=69, online_training_set_size=1, trial_index=5, num_samples=100, accuracy=0.887499988079071, crossentropy=0.3782739077526661),\n",
       " OBIPerformance(total_training_set_size=70, real_training_set_size=69, online_training_set_size=1, trial_index=6, num_samples=100, accuracy=0.854200005531311, crossentropy=0.44162428666594167),\n",
       " OBIPerformance(total_training_set_size=70, real_training_set_size=69, online_training_set_size=1, trial_index=7, num_samples=100, accuracy=0.8799999952316284, crossentropy=0.38294158796589234),\n",
       " OBIPerformance(total_training_set_size=70, real_training_set_size=69, online_training_set_size=1, trial_index=8, num_samples=100, accuracy=0.8726000189781189, crossentropy=0.39955210256172713),\n",
       " OBIPerformance(total_training_set_size=70, real_training_set_size=69, online_training_set_size=1, trial_index=9, num_samples=100, accuracy=0.8532000184059143, crossentropy=0.41414733387350444),\n",
       " OBIPerformance(total_training_set_size=71, real_training_set_size=69, online_training_set_size=2, trial_index=0, num_samples=10, accuracy=0.7466999888420105, crossentropy=0.7180620791080632),\n",
       " OBIPerformance(total_training_set_size=71, real_training_set_size=69, online_training_set_size=2, trial_index=1, num_samples=10, accuracy=0.8248999714851379, crossentropy=0.4668208957307903),\n",
       " OBIPerformance(total_training_set_size=71, real_training_set_size=69, online_training_set_size=2, trial_index=2, num_samples=10, accuracy=0.7384999990463257, crossentropy=0.7081790430098936),\n",
       " OBIPerformance(total_training_set_size=71, real_training_set_size=69, online_training_set_size=2, trial_index=3, num_samples=10, accuracy=0.8219000101089478, crossentropy=0.5017717095991371),\n",
       " OBIPerformance(total_training_set_size=71, real_training_set_size=69, online_training_set_size=2, trial_index=4, num_samples=10, accuracy=0.7889999747276306, crossentropy=0.7162158974442849),\n",
       " OBIPerformance(total_training_set_size=71, real_training_set_size=69, online_training_set_size=2, trial_index=5, num_samples=10, accuracy=0.7734000086784363, crossentropy=0.7217206572519664),\n",
       " OBIPerformance(total_training_set_size=71, real_training_set_size=69, online_training_set_size=2, trial_index=6, num_samples=10, accuracy=0.8009999990463257, crossentropy=0.5720905099586308),\n",
       " OBIPerformance(total_training_set_size=71, real_training_set_size=69, online_training_set_size=2, trial_index=7, num_samples=10, accuracy=0.8184000253677368, crossentropy=0.49770110874915946),\n",
       " OBIPerformance(total_training_set_size=71, real_training_set_size=69, online_training_set_size=2, trial_index=8, num_samples=10, accuracy=0.8337000012397766, crossentropy=0.5165073682376791),\n",
       " OBIPerformance(total_training_set_size=71, real_training_set_size=69, online_training_set_size=2, trial_index=9, num_samples=10, accuracy=0.7013000249862671, crossentropy=1.070837669585442),\n",
       " OBIPerformance(total_training_set_size=71, real_training_set_size=69, online_training_set_size=2, trial_index=0, num_samples=100, accuracy=0.863099992275238, crossentropy=0.47769419096863286),\n",
       " OBIPerformance(total_training_set_size=71, real_training_set_size=69, online_training_set_size=2, trial_index=1, num_samples=100, accuracy=0.8673999905586243, crossentropy=0.42740240105972827),\n",
       " OBIPerformance(total_training_set_size=71, real_training_set_size=69, online_training_set_size=2, trial_index=2, num_samples=100, accuracy=0.8600000143051147, crossentropy=0.4534642354057479),\n",
       " OBIPerformance(total_training_set_size=71, real_training_set_size=69, online_training_set_size=2, trial_index=3, num_samples=100, accuracy=0.8288000226020813, crossentropy=0.46345326248679775),\n",
       " OBIPerformance(total_training_set_size=71, real_training_set_size=69, online_training_set_size=2, trial_index=4, num_samples=100, accuracy=0.7809000015258789, crossentropy=0.5897158366440284),\n",
       " OBIPerformance(total_training_set_size=71, real_training_set_size=69, online_training_set_size=2, trial_index=5, num_samples=100, accuracy=0.8640000224113464, crossentropy=0.45516917489060504),\n",
       " OBIPerformance(total_training_set_size=71, real_training_set_size=69, online_training_set_size=2, trial_index=6, num_samples=100, accuracy=0.867900013923645, crossentropy=0.44087181071308623),\n",
       " OBIPerformance(total_training_set_size=71, real_training_set_size=69, online_training_set_size=2, trial_index=7, num_samples=100, accuracy=0.8907999992370605, crossentropy=0.3883709308047926),\n",
       " OBIPerformance(total_training_set_size=71, real_training_set_size=69, online_training_set_size=2, trial_index=8, num_samples=100, accuracy=0.875, crossentropy=0.4061719222327063),\n",
       " OBIPerformance(total_training_set_size=71, real_training_set_size=69, online_training_set_size=2, trial_index=9, num_samples=100, accuracy=0.8603000044822693, crossentropy=0.4343936621008379),\n",
       " OBIPerformance(total_training_set_size=72, real_training_set_size=69, online_training_set_size=3, trial_index=0, num_samples=10, accuracy=0.7247999906539917, crossentropy=0.8670848720399669),\n",
       " OBIPerformance(total_training_set_size=72, real_training_set_size=69, online_training_set_size=3, trial_index=1, num_samples=10, accuracy=0.7918000221252441, crossentropy=0.5995849338621014),\n",
       " OBIPerformance(total_training_set_size=72, real_training_set_size=69, online_training_set_size=3, trial_index=2, num_samples=10, accuracy=0.7997999787330627, crossentropy=0.6532767671640377),\n",
       " OBIPerformance(total_training_set_size=72, real_training_set_size=69, online_training_set_size=3, trial_index=3, num_samples=10, accuracy=0.6029000282287598, crossentropy=1.7496904675888647),\n",
       " OBIPerformance(total_training_set_size=72, real_training_set_size=69, online_training_set_size=3, trial_index=4, num_samples=10, accuracy=0.7297000288963318, crossentropy=0.8419253370201006),\n",
       " OBIPerformance(total_training_set_size=72, real_training_set_size=69, online_training_set_size=3, trial_index=5, num_samples=10, accuracy=0.8151000142097473, crossentropy=0.5745683954562035),\n",
       " OBIPerformance(total_training_set_size=72, real_training_set_size=69, online_training_set_size=3, trial_index=6, num_samples=10, accuracy=0.7706000208854675, crossentropy=0.5909426203558266),\n",
       " OBIPerformance(total_training_set_size=72, real_training_set_size=69, online_training_set_size=3, trial_index=7, num_samples=10, accuracy=0.7132999897003174, crossentropy=0.7581075125298933),\n",
       " OBIPerformance(total_training_set_size=72, real_training_set_size=69, online_training_set_size=3, trial_index=8, num_samples=10, accuracy=0.6036999821662903, crossentropy=1.4294244397813043),\n",
       " OBIPerformance(total_training_set_size=72, real_training_set_size=69, online_training_set_size=3, trial_index=9, num_samples=10, accuracy=0.8004000186920166, crossentropy=0.6743935979734801),\n",
       " OBIPerformance(total_training_set_size=72, real_training_set_size=69, online_training_set_size=3, trial_index=0, num_samples=100, accuracy=0.7354999780654907, crossentropy=0.6745917480774888),\n",
       " OBIPerformance(total_training_set_size=72, real_training_set_size=69, online_training_set_size=3, trial_index=1, num_samples=100, accuracy=0.7871999740600586, crossentropy=0.5722652857416788),\n",
       " OBIPerformance(total_training_set_size=72, real_training_set_size=69, online_training_set_size=3, trial_index=2, num_samples=100, accuracy=0.7416999936103821, crossentropy=0.6001434608703752),\n",
       " OBIPerformance(total_training_set_size=72, real_training_set_size=69, online_training_set_size=3, trial_index=3, num_samples=100, accuracy=0.826200008392334, crossentropy=0.5393007495835952),\n",
       " OBIPerformance(total_training_set_size=72, real_training_set_size=69, online_training_set_size=3, trial_index=4, num_samples=100, accuracy=0.8147000074386597, crossentropy=0.48882683687420925),\n",
       " OBIPerformance(total_training_set_size=72, real_training_set_size=69, online_training_set_size=3, trial_index=5, num_samples=100, accuracy=0.8651999831199646, crossentropy=0.49774643429460047),\n",
       " OBIPerformance(total_training_set_size=72, real_training_set_size=69, online_training_set_size=3, trial_index=6, num_samples=100, accuracy=0.7322999835014343, crossentropy=0.5937744542892096),\n",
       " OBIPerformance(total_training_set_size=72, real_training_set_size=69, online_training_set_size=3, trial_index=7, num_samples=100, accuracy=0.8144999742507935, crossentropy=0.5194894618545757),\n",
       " OBIPerformance(total_training_set_size=72, real_training_set_size=69, online_training_set_size=3, trial_index=8, num_samples=100, accuracy=0.8098000288009644, crossentropy=0.5048562950047071),\n",
       " OBIPerformance(total_training_set_size=72, real_training_set_size=69, online_training_set_size=3, trial_index=9, num_samples=100, accuracy=0.803600013256073, crossentropy=0.523545556921369)]"
      ]
     },
     "execution_count": null,
     "metadata": {},
     "output_type": "execute_result"
    }
   ],
   "source": [
    "online_bayesian_inference.evaluate_online_bayesian_inference(\n",
    "    model,\n",
    "    real_training_set_size=69,\n",
    "    train_dataset=train_dataset,\n",
    "    test_dataset=test_dataset,\n",
    "    additional_training_indices=training_set_90[69:72],\n",
    "    num_samples_list=[10, 100],\n",
    "    num_trials=10,\n",
    "    up_factor=4,\n",
    "    eval_batchsize=512,\n",
    "    device=\"cuda\"\n",
    ")"
   ]
  },
  {
   "cell_type": "code",
   "execution_count": null,
   "metadata": {},
   "outputs": [],
   "source": [
    "sub_train_set = train_dataset * 0.1\n",
    "joint_set = sub_train_set + test_dataset"
   ]
  },
  {
   "cell_type": "code",
   "execution_count": null,
   "metadata": {},
   "outputs": [
    {
     "data": {
      "text/plain": [
       "6000"
      ]
     },
     "execution_count": null,
     "metadata": {},
     "output_type": "execute_result"
    }
   ],
   "source": [
    "len(sub_train_set)"
   ]
  },
  {
   "cell_type": "code",
   "execution_count": null,
   "metadata": {},
   "outputs": [],
   "source": [
    "joint_loader = torch.utils.data.DataLoader(joint_set, batch_size=128, drop_last=False, shuffle=False)"
   ]
  },
  {
   "cell_type": "markdown",
   "metadata": {},
   "source": [
    "# Model Sampling"
   ]
  },
  {
   "cell_type": "code",
   "execution_count": null,
   "metadata": {},
   "outputs": [
    {
     "data": {
      "application/vnd.jupyter.widget-view+json": {
       "model_id": "",
       "version_major": 2,
       "version_minor": 0
      },
      "text/plain": [
       "get_predictions_labels:   0%|          | 0/160000000 [00:00<?, ?it/s]"
      ]
     },
     "metadata": {},
     "output_type": "display_data"
    }
   ],
   "source": [
    "predictions_N_M_C, labels_N = model.get_predictions_labels(\n",
    "    num_samples=10000, loader=joint_loader, device=\"cuda\", storage_device=\"cpu\"\n",
    ")"
   ]
  },
  {
   "cell_type": "code",
   "execution_count": null,
   "metadata": {},
   "outputs": [
    {
     "data": {
      "text/plain": [
       "torch.Size([16000, 10000, 10])"
      ]
     },
     "execution_count": null,
     "metadata": {},
     "output_type": "execute_result"
    }
   ],
   "source": [
    "predictions_N_M_C.shape"
   ]
  },
  {
   "cell_type": "code",
   "execution_count": null,
   "metadata": {},
   "outputs": [],
   "source": [
    "offset = 0\n",
    "virtual_training_set_size = 5  # len(training_set_90)\n",
    "evidence_factor = 0.2"
   ]
  },
  {
   "cell_type": "code",
   "execution_count": null,
   "metadata": {},
   "outputs": [],
   "source": [
    "true_train_predictions_n_M = predictions_N_M_C[\n",
    "    list(range(offset, offset + virtual_training_set_size)), :, labels_N[offset : offset + virtual_training_set_size]\n",
    "]"
   ]
  },
  {
   "cell_type": "code",
   "execution_count": null,
   "metadata": {},
   "outputs": [
    {
     "data": {
      "text/plain": [
       "torch.Size([5, 10000])"
      ]
     },
     "execution_count": null,
     "metadata": {},
     "output_type": "execute_result"
    }
   ],
   "source": [
    "true_train_predictions_n_M.shape"
   ]
  },
  {
   "cell_type": "code",
   "execution_count": null,
   "metadata": {},
   "outputs": [],
   "source": [
    "mix_weights_M = torch.sum(true_train_predictions_n_M, dim=0)  # / (virtual_training_set_size*evidence_factor)"
   ]
  },
  {
   "cell_type": "code",
   "execution_count": null,
   "metadata": {},
   "outputs": [
    {
     "data": {
      "text/plain": [
       "torch.Size([10000])"
      ]
     },
     "execution_count": null,
     "metadata": {},
     "output_type": "execute_result"
    }
   ],
   "source": [
    "mix_weights_M.shape"
   ]
  },
  {
   "cell_type": "code",
   "execution_count": null,
   "metadata": {},
   "outputs": [
    {
     "data": {
      "text/plain": [
       "tensor([-15.3410, -11.1278, -14.9485,  ..., -13.4631, -14.4733, -15.4444])"
      ]
     },
     "execution_count": null,
     "metadata": {},
     "output_type": "execute_result"
    }
   ],
   "source": [
    "mix_weights_M"
   ]
  },
  {
   "cell_type": "code",
   "execution_count": null,
   "metadata": {},
   "outputs": [
    {
     "data": {
      "text/plain": [
       "<AxesSubplot:ylabel='Density'>"
      ]
     },
     "execution_count": null,
     "metadata": {},
     "output_type": "execute_result"
    },
    {
     "data": {
      "image/png": "[encoded data removed]",
      "text/plain": [
       "<Figure size 432x288 with 1 Axes>"
      ]
     },
     "metadata": {
      "needs_background": "light"
     },
     "output_type": "display_data"
    }
   ],
   "source": [
    "sns.kdeplot(mix_weights_M.numpy())"
   ]
  },
  {
   "cell_type": "code",
   "execution_count": null,
   "metadata": {},
   "outputs": [],
   "source": [
    "split_joints = mix_weights_M[None, :, None] + predictions_N_M_C[len(sub_train_set) :]  # [:, mix_weights_M > -40, :]"
   ]
  },
  {
   "cell_type": "code",
   "execution_count": null,
   "metadata": {},
   "outputs": [],
   "source": [
    "# predictions_N = torch.argmax(torch.logsumexp(split_joints, dim=1), dim=1)\n",
    "predictions_N = torch.argmax(torch.sum(split_joints.exp(), dim=1), dim=1)\n",
    "# predictions_N = torch.argmax(torch.log_softmax(torch.logsumexp(split_joints, dim=1), dim=1), dim=1)"
   ]
  },
  {
   "cell_type": "code",
   "execution_count": null,
   "metadata": {},
   "outputs": [
    {
     "data": {
      "text/plain": [
       "torch.Size([10000])"
      ]
     },
     "execution_count": null,
     "metadata": {},
     "output_type": "execute_result"
    }
   ],
   "source": [
    "predictions_N.shape"
   ]
  },
  {
   "cell_type": "code",
   "execution_count": null,
   "metadata": {},
   "outputs": [
    {
     "data": {
      "text/plain": [
       "tensor(0.5903)"
      ]
     },
     "execution_count": null,
     "metadata": {},
     "output_type": "execute_result"
    }
   ],
   "source": [
    "sum(predictions_N == labels_N[len(sub_train_set) :]) / len(predictions_N)"
   ]
  },
  {
   "cell_type": "markdown",
   "metadata": {},
   "source": [
    "# Prior Sampling"
   ]
  },
  {
   "cell_type": "code",
   "execution_count": null,
   "metadata": {},
   "outputs": [],
   "source": [
    "# Cell\n",
    "from dataclasses import dataclass\n",
    "from typing import Optional\n",
    "\n",
    "import torch\n",
    "import torch.nn\n",
    "import torch.optim\n",
    "from torch import nn as nn\n",
    "from torch.nn import Module\n",
    "from torch.nn import functional as F\n",
    "from torch.utils.data import DataLoader, Dataset\n",
    "\n",
    "from batchbald_redux.active_learning import RandomFixedLengthSampler\n",
    "from batchbald_redux.black_box_model_training import train\n",
    "from batchbald_redux.consistent_mc_dropout import (\n",
    "    BayesianModule,\n",
    "    ConsistentMCDropout,\n",
    "    ConsistentMCDropout2d,\n",
    "    GradEmbeddingType,\n",
    "    freeze_encoder_context,\n",
    ")\n",
    "from batchbald_redux.model_optimizer_factory import (\n",
    "    ModelOptimizer,\n",
    "    ModelOptimizerFactory,\n",
    ")\n",
    "\n",
    "# Cell\n",
    "from batchbald_redux.trained_model import (\n",
    "    ModelTrainer,\n",
    "    TrainedBayesianModel,\n",
    "    TrainedModel,\n",
    ")\n",
    "\n",
    "\n",
    "class MNISTCNN(BayesianModule):\n",
    "    def __init__(self, num_classes=10):\n",
    "        super().__init__()\n",
    "\n",
    "        self.conv1 = nn.Conv2d(1, 32, kernel_size=5)\n",
    "        self.conv2 = nn.Conv2d(32, 64, kernel_size=5)\n",
    "        self.fc1 = nn.Linear(1024, 128)\n",
    "        self.fc2 = nn.Linear(128, num_classes)\n",
    "\n",
    "    def mc_forward_impl(self, input: torch.Tensor, freeze_encoder: bool):\n",
    "        with freeze_encoder_context(freeze_encoder):\n",
    "            input = F.relu(F.max_pool2d(self.conv1(input), 2))\n",
    "            input = F.relu(F.max_pool2d(self.conv2(input), 2))\n",
    "            input = input.view(-1, 1024)\n",
    "            input = F.relu(self.fc1(input))\n",
    "\n",
    "        embedding = input\n",
    "        input = self.fc2(input)\n",
    "        input = F.log_softmax(input, dim=1)\n",
    "\n",
    "        return input, embedding"
   ]
  },
  {
   "cell_type": "code",
   "execution_count": null,
   "metadata": {},
   "outputs": [],
   "source": [
    "# Cell\n",
    "from contextlib import nullcontext\n",
    "from dataclasses import dataclass\n",
    "from enum import Enum\n",
    "from functools import wraps\n",
    "from typing import List\n",
    "\n",
    "import numpy as np\n",
    "import torch\n",
    "from blackhc.progress_bar import create_progress_bar\n",
    "from toma import toma\n",
    "from torch.nn import Module\n",
    "# Cell\n",
    "from torch.utils import data\n",
    "\n",
    "\n",
    "def assert_no_shuffling_no_augmentations_dataloader(dataloader: data.DataLoader):\n",
    "    batch_x_A = None\n",
    "    batch_labels_A = None\n",
    "    batch_x_B = None\n",
    "    batch_labels_B = None\n",
    "\n",
    "    for batch_x_A, batch_labels_A in dataloader:\n",
    "        break\n",
    "\n",
    "    for batch_x_B, batch_labels_B in dataloader:\n",
    "        break\n",
    "\n",
    "    assert torch.all(\n",
    "        batch_x_A == batch_x_B\n",
    "    ), \"Batch inputs different. Augmentations enabled, or dataloader shuffles data?!\"\n",
    "\n",
    "\n",
    "    assert torch.all(batch_labels_A == batch_labels_B), \"Batch labels different. Augmentations enabled, or dataloader shuffles data?!\"\n",
    "\n",
    "    \n",
    "@torch.no_grad()\n",
    "def reinit_model_get_predictions_labels(\n",
    "    model_class: Type, *, num_samples: int, loader: data.DataLoader, device, storage_device\n",
    "):\n",
    "    assert_no_shuffling_no_augmentations_dataloader(loader)\n",
    "    assert num_samples > 0\n",
    "\n",
    "    N = len(loader.dataset)\n",
    "    predictions = None\n",
    "    labels = None\n",
    "\n",
    "    pbar = create_progress_bar(N * num_samples, tqdm_args=dict(desc=\"get_predictions_labels\", leave=False))\n",
    "    pbar.start()\n",
    "\n",
    "    @toma.execute.range(0, num_samples, 1)\n",
    "    def get_prediction_batch(start, end):\n",
    "        nonlocal predictions\n",
    "        nonlocal labels\n",
    "\n",
    "        if start == 0:\n",
    "            predictions = None\n",
    "            labels = None\n",
    "            pbar.reset()\n",
    "\n",
    "        num_sub_samples = end - start\n",
    "\n",
    "        data_start = 0\n",
    "        for batch_x, batch_labels in loader:\n",
    "            batch_x = batch_x.to(device=device, non_blocking=True)\n",
    "            \n",
    "            model = model_class()\n",
    "            model.to(device=device)\n",
    "            model.eval()\n",
    "            batch_predictions = model(batch_x, 1)\n",
    "\n",
    "            batch_size = len(batch_predictions)\n",
    "            data_end = data_start + batch_size\n",
    "\n",
    "            # Support multi-dim predictions.\n",
    "            if predictions is None:\n",
    "                predictions_shape = (N, num_samples, *batch_predictions.shape[2:])\n",
    "                predictions = torch.empty(predictions_shape, dtype=batch_predictions.dtype, device=storage_device)\n",
    "            # Support multi-dim labels.\n",
    "            if labels is None:\n",
    "                labels_shape = (N, *batch_labels.shape[1:])\n",
    "                labels = torch.empty(labels_shape, dtype=batch_labels.dtype, device=storage_device)\n",
    "\n",
    "            predictions[data_start:data_end, start:end].copy_(batch_predictions, non_blocking=True)\n",
    "            if start == 0:\n",
    "                labels[data_start:data_end].copy_(batch_labels, non_blocking=True)\n",
    "\n",
    "            data_start = data_end\n",
    "\n",
    "            pbar.update(batch_size * num_sub_samples)\n",
    "\n",
    "    pbar.finish()\n",
    "\n",
    "    return predictions, labels"
   ]
  },
  {
   "cell_type": "code",
   "execution_count": null,
   "metadata": {},
   "outputs": [
    {
     "data": {
      "application/vnd.jupyter.widget-view+json": {
       "model_id": "",
       "version_major": 2,
       "version_minor": 0
      },
      "text/plain": [
       "get_predictions_labels:   0%|          | 0/1005500 [00:00<?, ?it/s]"
      ]
     },
     "metadata": {},
     "output_type": "display_data"
    }
   ],
   "source": [
    "predictions_N_M_C, labels_N = reinit_model_get_predictions_labels(\n",
    "    MNISTCNN, num_samples=100, loader=joint_loader, device=\"cuda\", storage_device=\"cpu\"\n",
    ")"
   ]
  },
  {
   "cell_type": "code",
   "execution_count": null,
   "metadata": {},
   "outputs": [],
   "source": [
    "virtual_training_set_size = 50  # len(training_set_90)"
   ]
  },
  {
   "cell_type": "code",
   "execution_count": null,
   "metadata": {},
   "outputs": [],
   "source": [
    "true_train_predictions_n_M = predictions_N_M_C[\n",
    "    list(range(virtual_training_set_size)), :, labels_N[:virtual_training_set_size]\n",
    "]"
   ]
  },
  {
   "cell_type": "code",
   "execution_count": null,
   "metadata": {},
   "outputs": [
    {
     "data": {
      "text/plain": [
       "torch.Size([50, 100])"
      ]
     },
     "execution_count": null,
     "metadata": {},
     "output_type": "execute_result"
    }
   ],
   "source": [
    "true_train_predictions_n_M.shape"
   ]
  },
  {
   "cell_type": "code",
   "execution_count": null,
   "metadata": {},
   "outputs": [],
   "source": [
    "mix_weights_M = torch.sum(true_train_predictions_n_M, dim=0) / (virtual_training_set_size / 40)"
   ]
  },
  {
   "cell_type": "code",
   "execution_count": null,
   "metadata": {},
   "outputs": [
    {
     "data": {
      "text/plain": [
       "torch.Size([100])"
      ]
     },
     "execution_count": null,
     "metadata": {},
     "output_type": "execute_result"
    }
   ],
   "source": [
    "mix_weights_M.shape"
   ]
  },
  {
   "cell_type": "code",
   "execution_count": null,
   "metadata": {},
   "outputs": [
    {
     "data": {
      "text/plain": [
       "tensor([-93.7274, -92.3730, -93.3257, -91.8971, -93.8792, -91.4355, -91.9618,\n",
       "        -91.4423, -92.1715, -92.9064, -92.6598, -92.2078, -91.6831, -91.3584,\n",
       "        -93.7402, -91.9232, -92.2881, -92.1177, -93.3058, -92.1556, -92.6762,\n",
       "        -91.8038, -91.6045, -91.4175, -91.6196, -93.0117, -92.9579, -92.6618,\n",
       "        -93.0963, -91.6542, -92.2731, -92.0759, -93.4786, -91.4171, -91.0366,\n",
       "        -91.8476, -92.0384, -91.8310, -93.4134, -91.3530, -92.2231, -93.8096,\n",
       "        -92.9808, -93.4071, -92.2301, -92.4571, -90.6741, -92.9026, -91.6518,\n",
       "        -92.1958, -92.3968, -92.5815, -92.6207, -92.3945, -93.0710, -93.0059,\n",
       "        -92.5404, -92.4819, -91.7358, -91.9300, -92.0748, -91.9805, -92.0914,\n",
       "        -91.6912, -92.9176, -91.7888, -92.1684, -92.1748, -92.5272, -91.5815,\n",
       "        -91.3627, -92.4682, -92.4429, -92.1385, -92.1866, -92.6167, -93.1052,\n",
       "        -91.1981, -92.6332, -92.6460, -91.6807, -92.7387, -91.6578, -92.4994,\n",
       "        -92.3912, -92.1155, -92.2767, -91.4916, -93.1281, -91.9997, -91.2743,\n",
       "        -92.2799, -91.4912, -91.6274, -93.1408, -94.0916, -92.0254, -92.7102,\n",
       "        -92.6852, -92.7951])"
      ]
     },
     "execution_count": null,
     "metadata": {},
     "output_type": "execute_result"
    }
   ],
   "source": [
    "mix_weights_M"
   ]
  },
  {
   "cell_type": "code",
   "execution_count": null,
   "metadata": {},
   "outputs": [
    {
     "data": {
      "text/plain": [
       "<AxesSubplot:ylabel='Density'>"
      ]
     },
     "execution_count": null,
     "metadata": {},
     "output_type": "execute_result"
    },
    {
     "data": {
      "image/png": "[encoded data removed]",
      "text/plain": [
       "<Figure size 432x288 with 1 Axes>"
      ]
     },
     "metadata": {
      "needs_background": "light"
     },
     "output_type": "display_data"
    }
   ],
   "source": [
    "sns.kdeplot(mix_weights_M.numpy())"
   ]
  },
  {
   "cell_type": "code",
   "execution_count": null,
   "metadata": {},
   "outputs": [],
   "source": [
    "split_joints = mix_weights_M[None, :, None] + predictions_N_M_C[virtual_training_set_size:]"
   ]
  },
  {
   "cell_type": "code",
   "execution_count": null,
   "metadata": {},
   "outputs": [],
   "source": [
    "# predictions_N = torch.argmax(torch.logsumexp(split_joints, dim=1), dim=1)\n",
    "predictions_N = torch.argmax(torch.sum(split_joints.exp(), dim=1), dim=1)\n",
    "# predictions_N = torch.argmax(torch.log_softmax(torch.logsumexp(split_joints, dim=1), dim=1), dim=1)"
   ]
  },
  {
   "cell_type": "code",
   "execution_count": null,
   "metadata": {},
   "outputs": [
    {
     "data": {
      "text/plain": [
       "torch.Size([10005])"
      ]
     },
     "execution_count": null,
     "metadata": {},
     "output_type": "execute_result"
    }
   ],
   "source": [
    "predictions_N.shape"
   ]
  },
  {
   "cell_type": "code",
   "execution_count": null,
   "metadata": {},
   "outputs": [
    {
     "data": {
      "text/plain": [
       "tensor(0.1070)"
      ]
     },
     "execution_count": null,
     "metadata": {},
     "output_type": "execute_result"
    }
   ],
   "source": [
    "sum(predictions_N == labels_N[virtual_training_set_size:]) / len(predictions_N)"
   ]
  },
  {
   "cell_type": "code",
   "execution_count": null,
   "metadata": {},
   "outputs": [],
   "source": []
  }
 ],
 "metadata": {
  "kernelspec": {
   "display_name": "Python [conda env:active_learning]",
   "language": "python",
   "name": "conda-env-active_learning-py"
  }
 },
 "nbformat": 4,
 "nbformat_minor": 4
}
