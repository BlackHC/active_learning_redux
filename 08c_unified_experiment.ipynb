{
 "cells": [
  {
   "cell_type": "markdown",
   "metadata": {},
   "source": [
    "# Unified Experiment Code\n",
    "> Resistance is futile."
   ]
  },
  {
   "cell_type": "code",
   "execution_count": null,
   "metadata": {},
   "outputs": [],
   "source": [
    "# default_exp unified_experiment"
   ]
  },
  {
   "cell_type": "code",
   "execution_count": null,
   "metadata": {},
   "outputs": [
    {
     "name": "stdout",
     "output_type": "stream",
     "text": [
      "Appended /home/blackhc/PycharmProjects/bald-ical/src to paths\n",
      "Switched to directory /home/blackhc/PycharmProjects/bald-ical\n",
      "%load_ext autoreload\n",
      "%autoreload 2\n"
     ]
    }
   ],
   "source": [
    "# hide\n",
    "import blackhc.project.script"
   ]
  },
  {
   "cell_type": "markdown",
   "metadata": {},
   "source": [
    "Import modules and functions were are going to use."
   ]
  },
  {
   "cell_type": "code",
   "execution_count": null,
   "metadata": {},
   "outputs": [],
   "source": [
    "# exports\n",
    "\n",
    "import dataclasses\n",
    "import traceback\n",
    "from dataclasses import dataclass\n",
    "from typing import Optional, Type, Union\n",
    "\n",
    "import torch\n",
    "import torch.utils.data\n",
    "from blackhc.project import is_run_from_ipython\n",
    "from blackhc.project.experiment import embedded_experiments\n",
    "\n",
    "from batchbald_redux import acquisition_functions\n",
    "from batchbald_redux import baseline_acquisition_functions\n",
    "from batchbald_redux.acquisition_functions import (\n",
    "    CandidateBatchComputer,\n",
    "    EvalDatasetBatchComputer,\n",
    "    EvalModelBatchComputer,\n",
    ")\n",
    "from batchbald_redux.black_box_model_training import evaluate\n",
    "from batchbald_redux.dataset_challenges import get_base_dataset_index, get_target\n",
    "from batchbald_redux.di import DependencyInjection\n",
    "from batchbald_redux.experiment_data import (\n",
    "    ExperimentData,\n",
    "    ExperimentDataConfig,\n",
    "    OoDDatasetConfig,\n",
    "    StandardExperimentDataConfig,\n",
    ")\n",
    "from batchbald_redux.models import MnistModelTrainer\n",
    "from batchbald_redux.resnet_models import Cifar10ModelTrainer\n",
    "from batchbald_redux.train_eval_model import (\n",
    "    TrainEvalModel,\n",
    "    TrainSelfDistillationEvalModel,\n",
    ")\n",
    "from batchbald_redux.trained_model import ModelTrainer, BayesianEnsembleModelTrainer"
   ]
  },
  {
   "cell_type": "code",
   "execution_count": null,
   "metadata": {},
   "outputs": [],
   "source": [
    "# exports\n",
    "\n",
    "\n",
    "@dataclass\n",
    "class ActiveLearner:\n",
    "    acquisition_size: int\n",
    "    max_training_set: int\n",
    "\n",
    "    num_validation_samples: int\n",
    "\n",
    "    acquisition_function: Union[CandidateBatchComputer, EvalModelBatchComputer]\n",
    "    train_eval_model: TrainEvalModel\n",
    "    model_trainer: ModelTrainer\n",
    "    data: ExperimentData\n",
    "\n",
    "    disable_training_augmentations: bool\n",
    "\n",
    "    device: Optional\n",
    "\n",
    "    def __call__(self, log):\n",
    "        log[\"seed\"] = torch.seed()\n",
    "\n",
    "        # Active Learning setup\n",
    "        data = self.data\n",
    "\n",
    "        train_augmentations = data.train_augmentations if not self.disable_training_augmentations else None\n",
    "\n",
    "        model_trainer = self.model_trainer\n",
    "        train_eval_model = self.train_eval_model\n",
    "\n",
    "        train_loader = model_trainer.get_train_dataloader(data.active_learning.training_dataset)\n",
    "        pool_loader = model_trainer.get_evaluation_dataloader(data.active_learning.pool_dataset)\n",
    "        validation_loader = model_trainer.get_evaluation_dataloader(data.validation_dataset)\n",
    "        test_loader = model_trainer.get_evaluation_dataloader(data.test_dataset)\n",
    "\n",
    "        log[\"active_learning_steps\"] = []\n",
    "        active_learning_steps = log[\"active_learning_steps\"]\n",
    "\n",
    "        acquisition_function = self.acquisition_function\n",
    "\n",
    "        num_iterations = 0\n",
    "        max_iterations = int(\n",
    "            1.5 * (self.max_training_set - len(data.active_learning.training_dataset)) / self.acquisition_size\n",
    "        )\n",
    "\n",
    "        # Active Training Loop\n",
    "        while True:\n",
    "            training_set_size = len(data.active_learning.training_dataset)\n",
    "            print(f\"Training set size {training_set_size}:\")\n",
    "\n",
    "            # iteration_log = dict(training={}, pool_training={}, evaluation_metrics=None, acquisition=None)\n",
    "            active_learning_steps.append({})\n",
    "            iteration_log = active_learning_steps[-1]\n",
    "\n",
    "            iteration_log[\"training\"] = {}\n",
    "\n",
    "            # TODO: this is a hack! :(\n",
    "            if data.ood_dataset is None:\n",
    "                loss = validation_loss = torch.nn.NLLLoss()\n",
    "            elif data.ood_exposure:\n",
    "                loss = torch.nn.KLDivLoss(log_target=False, reduction=\"batchmean\")\n",
    "                validation_loss = torch.nn.NLLLoss()\n",
    "            else:\n",
    "                loss = validation_loss = torch.nn.NLLLoss()\n",
    "\n",
    "            trained_model = model_trainer.get_trained(\n",
    "                train_loader=train_loader,\n",
    "                train_augmentations=train_augmentations,\n",
    "                validation_loader=validation_loader,\n",
    "                log=iteration_log[\"training\"],\n",
    "                loss=loss,\n",
    "                validation_loss=validation_loss,\n",
    "            )\n",
    "\n",
    "            evaluation_metrics = evaluate(\n",
    "                model=trained_model,\n",
    "                num_samples=self.num_validation_samples,\n",
    "                loader=test_loader,\n",
    "                device=self.device,\n",
    "                storage_device=\"cpu\",\n",
    "            )\n",
    "            iteration_log[\"evaluation_metrics\"] = evaluation_metrics\n",
    "            print(f\"Perf after training {evaluation_metrics}\")\n",
    "\n",
    "            if training_set_size >= self.max_training_set or num_iterations >= max_iterations:\n",
    "                print(\"Done.\")\n",
    "                break\n",
    "\n",
    "            if isinstance(acquisition_function, CandidateBatchComputer):\n",
    "                candidate_batch = acquisition_function.compute_candidate_batch(trained_model, pool_loader, self.device)\n",
    "            elif isinstance(acquisition_function, EvalDatasetBatchComputer):\n",
    "                if len(data.evaluation_dataset) > 0:\n",
    "                    eval_loader = model_trainer.get_evaluation_dataloader(data.evaluation_dataset)\n",
    "                else:\n",
    "                    eval_loader = pool_loader\n",
    "\n",
    "                candidate_batch = acquisition_function.compute_candidate_batch(\n",
    "                    model=trained_model, pool_loader=pool_loader, eval_loader=eval_loader, device=self.device\n",
    "                )\n",
    "            elif isinstance(acquisition_function, EvalModelBatchComputer):\n",
    "                if len(data.evaluation_dataset) > 0:\n",
    "                    eval_dataset = data.evaluation_dataset\n",
    "                else:\n",
    "                    eval_dataset = data.active_learning.pool_dataset\n",
    "\n",
    "                iteration_log[\"eval_training\"] = {}\n",
    "                trained_eval_model = train_eval_model(\n",
    "                    model_trainer=model_trainer,\n",
    "                    training_dataset=data.active_learning.training_dataset,\n",
    "                    train_augmentations=train_augmentations,\n",
    "                    eval_dataset=eval_dataset,\n",
    "                    validation_loader=validation_loader,\n",
    "                    trained_model=trained_model,\n",
    "                    storage_device=data.device,\n",
    "                    device=self.device,\n",
    "                    training_log=iteration_log[\"eval_training\"],\n",
    "                )\n",
    "\n",
    "                candidate_batch = acquisition_function.compute_candidate_batch(\n",
    "                    trained_model, trained_eval_model, pool_loader, device=self.device\n",
    "                )\n",
    "            else:\n",
    "                raise ValueError(f\"Unknown acquisition function {acquisition_function}!\")\n",
    "\n",
    "            candidate_global_dataset_indices = []\n",
    "            candidate_labels = []\n",
    "            for index in candidate_batch.indices:\n",
    "                base_di = get_base_dataset_index(data.active_learning.pool_dataset, index)\n",
    "                dataset_type = \"ood\" if base_di.dataset == data.ood_dataset else \"id\"\n",
    "                candidate_global_dataset_indices.append((dataset_type, base_di.index))\n",
    "                label = get_target(data.active_learning.pool_dataset, index).tolist()\n",
    "                candidate_labels.append(label)\n",
    "\n",
    "            iteration_log[\"acquisition\"] = dict(\n",
    "                indices=candidate_global_dataset_indices, labels=candidate_labels, scores=candidate_batch.scores\n",
    "            )\n",
    "\n",
    "            print(candidate_batch)\n",
    "            print(candidate_global_dataset_indices)\n",
    "\n",
    "            if data.ood_dataset is None:\n",
    "                data.active_learning.acquire(candidate_batch.indices)\n",
    "            elif data.ood_exposure:\n",
    "                data.active_learning.acquire(candidate_batch.indices)\n",
    "            else:\n",
    "                data.active_learning.acquire(\n",
    "                    [index for index, label in zip(candidate_batch.indices, candidate_labels) if label != -1]\n",
    "                )\n",
    "\n",
    "            ls = \", \".join(f\"{label} ({score:.4})\" for label, score in zip(candidate_labels, candidate_batch.scores))\n",
    "            print(f\"Acquiring (label, score)s: {ls}\")\n",
    "\n",
    "            num_iterations += 1\n",
    "\n",
    "\n",
    "@dataclass\n",
    "class UnifiedExperiment:\n",
    "    seed: int\n",
    "\n",
    "    experiment_data_config: ExperimentDataConfig\n",
    "\n",
    "    acquisition_size: int = 5\n",
    "    max_training_set: int = 200\n",
    "\n",
    "    max_training_epochs: int = 300\n",
    "\n",
    "    num_pool_samples: int = 100\n",
    "    num_validation_samples: int = 20\n",
    "    num_training_samples: int = 1\n",
    "\n",
    "    device: str = \"cuda\"\n",
    "    acquisition_function: Union[Type[CandidateBatchComputer], Type[EvalModelBatchComputer]] = None #acquisition_functions.BALD\n",
    "    train_eval_model: Type[TrainEvalModel] = TrainSelfDistillationEvalModel\n",
    "    model_trainer_factory: Type[ModelTrainer] = None # Cifar10ModelTrainer\n",
    "    ensemble_size: int = 1\n",
    "\n",
    "    temperature: float = 1.0\n",
    "    coldness: float = 1.0\n",
    "    stochastic_mode: acquisition_functions.StochasticMode = None\n",
    "    epig_bootstrap_type: acquisition_functions.BootstrapType = acquisition_functions.BootstrapType.NO_BOOTSTRAP\n",
    "    epig_bootstrap_factor: float = 1.\n",
    "    epig_dtype: torch.dtype = torch.double\n",
    "    disable_training_augmentations: bool = False\n",
    "    cache_explicit_eval_model: bool = False\n",
    "    resnet18_dropout_head: bool = True\n",
    "\n",
    "    def load_experiment_data(self) -> ExperimentData:\n",
    "        print(self.experiment_data_config)\n",
    "        return self.experiment_data_config.load(self.device)\n",
    "\n",
    "    # Simple Dependency Injection\n",
    "    def create_acquisition_function(self):\n",
    "        di = DependencyInjection(vars(self))\n",
    "        return di.create_dataclass_type(self.acquisition_function)\n",
    "\n",
    "    def create_train_eval_model(self) -> TrainEvalModel:\n",
    "        di = DependencyInjection(vars(self))\n",
    "        return di.create_dataclass_type(self.train_eval_model)\n",
    "\n",
    "    def create_model_trainer(self) -> ModelTrainer:\n",
    "        di = DependencyInjection(vars(self))\n",
    "        return di.create_dataclass_type(self.model_trainer_factory)\n",
    "\n",
    "    def run(self, store):\n",
    "        torch.manual_seed(self.seed)\n",
    "\n",
    "        # Active Learning setup\n",
    "        data = self.load_experiment_data()\n",
    "        store[\"dataset_info\"] = dict(training=repr(data.active_learning.base_dataset), test=repr(data.test_dataset))\n",
    "        store[\"initial_training_set_indices\"] = data.initial_training_set_indices\n",
    "        store[\"evaluation_set_indices\"] = data.evaluation_set_indices\n",
    "\n",
    "        acquisition_function = self.create_acquisition_function()\n",
    "        model_trainer = self.create_model_trainer()\n",
    "        if self.ensemble_size > 1:\n",
    "            model_trainer = BayesianEnsembleModelTrainer(model_trainer=model_trainer, ensemble_size=self.ensemble_size)\n",
    "        train_eval_model = self.create_train_eval_model()\n",
    "\n",
    "        active_learner = ActiveLearner(\n",
    "            acquisition_size=self.acquisition_size,\n",
    "            max_training_set=self.max_training_set,\n",
    "            num_validation_samples=self.num_validation_samples,\n",
    "            disable_training_augmentations=self.disable_training_augmentations,\n",
    "            acquisition_function=acquisition_function,\n",
    "            train_eval_model=train_eval_model,\n",
    "            model_trainer=model_trainer,\n",
    "            data=data,\n",
    "            device=self.device,\n",
    "        )\n",
    "\n",
    "        active_learner(store)"
   ]
  },
  {
   "cell_type": "markdown",
   "metadata": {},
   "source": [
    "## CIFAR-10 vs SVHN Coverage"
   ]
  },
  {
   "cell_type": "code",
   "execution_count": null,
   "metadata": {
    "tags": []
   },
   "outputs": [
    {
     "name": "stdout",
     "output_type": "stream",
     "text": [
      "StandardExperimentDataConfig(id_dataset_name='CIFAR-10', id_repetitions=1, initial_training_set_size=20, validation_set_size=4096, validation_split_random_state=0, evaluation_set_size=100, add_dataset_noise=False, ood_dataset_config=OoDDatasetConfig(ood_dataset_name='SVHN', ood_repetitions=1, ood_exposure=True))\n",
      "Files already downloaded and verified\n"
     ]
    },
    {
     "ename": "KeyboardInterrupt",
     "evalue": "",
     "output_type": "error",
     "traceback": [
      "\u001b[0;31m---------------------------------------------------------------------------\u001b[0m",
      "\u001b[0;31mKeyboardInterrupt\u001b[0m                         Traceback (most recent call last)",
      "\u001b[0;32m<ipython-input-4-0caa132ef82d>\u001b[0m in \u001b[0;36m<module>\u001b[0;34m\u001b[0m\n\u001b[1;32m     23\u001b[0m \u001b[0;34m\u001b[0m\u001b[0m\n\u001b[1;32m     24\u001b[0m \u001b[0mresults\u001b[0m \u001b[0;34m=\u001b[0m \u001b[0;34m{\u001b[0m\u001b[0;34m}\u001b[0m\u001b[0;34m\u001b[0m\u001b[0;34m\u001b[0m\u001b[0m\n\u001b[0;32m---> 25\u001b[0;31m \u001b[0mexperiment\u001b[0m\u001b[0;34m.\u001b[0m\u001b[0mrun\u001b[0m\u001b[0;34m(\u001b[0m\u001b[0mresults\u001b[0m\u001b[0;34m)\u001b[0m\u001b[0;34m\u001b[0m\u001b[0;34m\u001b[0m\u001b[0m\n\u001b[0m\u001b[1;32m     26\u001b[0m \u001b[0mresults\u001b[0m\u001b[0;34m\u001b[0m\u001b[0;34m\u001b[0m\u001b[0m\n",
      "\u001b[0;32m<ipython-input-3-797175f2310a>\u001b[0m in \u001b[0;36mrun\u001b[0;34m(self, store)\u001b[0m\n\u001b[1;32m    204\u001b[0m \u001b[0;34m\u001b[0m\u001b[0m\n\u001b[1;32m    205\u001b[0m         \u001b[0;31m# Active Learning setup\u001b[0m\u001b[0;34m\u001b[0m\u001b[0;34m\u001b[0m\u001b[0;34m\u001b[0m\u001b[0m\n\u001b[0;32m--> 206\u001b[0;31m         \u001b[0mdata\u001b[0m \u001b[0;34m=\u001b[0m \u001b[0mself\u001b[0m\u001b[0;34m.\u001b[0m\u001b[0mload_experiment_data\u001b[0m\u001b[0;34m(\u001b[0m\u001b[0;34m)\u001b[0m\u001b[0;34m\u001b[0m\u001b[0;34m\u001b[0m\u001b[0m\n\u001b[0m\u001b[1;32m    207\u001b[0m         \u001b[0mstore\u001b[0m\u001b[0;34m[\u001b[0m\u001b[0;34m\"dataset_info\"\u001b[0m\u001b[0;34m]\u001b[0m \u001b[0;34m=\u001b[0m \u001b[0mdict\u001b[0m\u001b[0;34m(\u001b[0m\u001b[0mtraining\u001b[0m\u001b[0;34m=\u001b[0m\u001b[0mrepr\u001b[0m\u001b[0;34m(\u001b[0m\u001b[0mdata\u001b[0m\u001b[0;34m.\u001b[0m\u001b[0mactive_learning\u001b[0m\u001b[0;34m.\u001b[0m\u001b[0mbase_dataset\u001b[0m\u001b[0;34m)\u001b[0m\u001b[0;34m,\u001b[0m \u001b[0mtest\u001b[0m\u001b[0;34m=\u001b[0m\u001b[0mrepr\u001b[0m\u001b[0;34m(\u001b[0m\u001b[0mdata\u001b[0m\u001b[0;34m.\u001b[0m\u001b[0mtest_dataset\u001b[0m\u001b[0;34m)\u001b[0m\u001b[0;34m)\u001b[0m\u001b[0;34m\u001b[0m\u001b[0;34m\u001b[0m\u001b[0m\n\u001b[1;32m    208\u001b[0m         \u001b[0mstore\u001b[0m\u001b[0;34m[\u001b[0m\u001b[0;34m\"initial_training_set_indices\"\u001b[0m\u001b[0;34m]\u001b[0m \u001b[0;34m=\u001b[0m \u001b[0mdata\u001b[0m\u001b[0;34m.\u001b[0m\u001b[0minitial_training_set_indices\u001b[0m\u001b[0;34m\u001b[0m\u001b[0;34m\u001b[0m\u001b[0m\n",
      "\u001b[0;32m<ipython-input-3-797175f2310a>\u001b[0m in \u001b[0;36mload_experiment_data\u001b[0;34m(self)\u001b[0m\n\u001b[1;32m    185\u001b[0m     \u001b[0;32mdef\u001b[0m \u001b[0mload_experiment_data\u001b[0m\u001b[0;34m(\u001b[0m\u001b[0mself\u001b[0m\u001b[0;34m)\u001b[0m \u001b[0;34m->\u001b[0m \u001b[0mExperimentData\u001b[0m\u001b[0;34m:\u001b[0m\u001b[0;34m\u001b[0m\u001b[0;34m\u001b[0m\u001b[0m\n\u001b[1;32m    186\u001b[0m         \u001b[0mprint\u001b[0m\u001b[0;34m(\u001b[0m\u001b[0mself\u001b[0m\u001b[0;34m.\u001b[0m\u001b[0mexperiment_data_config\u001b[0m\u001b[0;34m)\u001b[0m\u001b[0;34m\u001b[0m\u001b[0;34m\u001b[0m\u001b[0m\n\u001b[0;32m--> 187\u001b[0;31m         \u001b[0;32mreturn\u001b[0m \u001b[0mself\u001b[0m\u001b[0;34m.\u001b[0m\u001b[0mexperiment_data_config\u001b[0m\u001b[0;34m.\u001b[0m\u001b[0mload\u001b[0m\u001b[0;34m(\u001b[0m\u001b[0mself\u001b[0m\u001b[0;34m.\u001b[0m\u001b[0mdevice\u001b[0m\u001b[0;34m)\u001b[0m\u001b[0;34m\u001b[0m\u001b[0;34m\u001b[0m\u001b[0m\n\u001b[0m\u001b[1;32m    188\u001b[0m \u001b[0;34m\u001b[0m\u001b[0m\n\u001b[1;32m    189\u001b[0m     \u001b[0;31m# Simple Dependency Injection\u001b[0m\u001b[0;34m\u001b[0m\u001b[0;34m\u001b[0m\u001b[0;34m\u001b[0m\u001b[0m\n",
      "\u001b[0;32m~/PycharmProjects/bald-ical/batchbald_redux/experiment_data.py\u001b[0m in \u001b[0;36mload\u001b[0;34m(self, device)\u001b[0m\n\u001b[1;32m     85\u001b[0m \u001b[0;34m\u001b[0m\u001b[0m\n\u001b[1;32m     86\u001b[0m     \u001b[0;32mdef\u001b[0m \u001b[0mload\u001b[0m\u001b[0;34m(\u001b[0m\u001b[0mself\u001b[0m\u001b[0;34m,\u001b[0m \u001b[0mdevice\u001b[0m\u001b[0;34m)\u001b[0m \u001b[0;34m->\u001b[0m \u001b[0mExperimentData\u001b[0m\u001b[0;34m:\u001b[0m\u001b[0;34m\u001b[0m\u001b[0;34m\u001b[0m\u001b[0m\n\u001b[0;32m---> 87\u001b[0;31m         return load_standard_experiment_data(\n\u001b[0m\u001b[1;32m     88\u001b[0m             \u001b[0mid_dataset_name\u001b[0m\u001b[0;34m=\u001b[0m\u001b[0mself\u001b[0m\u001b[0;34m.\u001b[0m\u001b[0mid_dataset_name\u001b[0m\u001b[0;34m,\u001b[0m\u001b[0;34m\u001b[0m\u001b[0;34m\u001b[0m\u001b[0m\n\u001b[1;32m     89\u001b[0m             \u001b[0mid_repetitions\u001b[0m\u001b[0;34m=\u001b[0m\u001b[0mself\u001b[0m\u001b[0;34m.\u001b[0m\u001b[0mid_repetitions\u001b[0m\u001b[0;34m,\u001b[0m\u001b[0;34m\u001b[0m\u001b[0;34m\u001b[0m\u001b[0m\n",
      "\u001b[0;32m~/PycharmProjects/bald-ical/batchbald_redux/experiment_data.py\u001b[0m in \u001b[0;36mload_standard_experiment_data\u001b[0;34m(id_dataset_name, id_repetitions, initial_training_set_size, validation_set_size, validation_split_random_state, evaluation_set_size, add_dataset_noise, ood_dataset_config, device)\u001b[0m\n\u001b[1;32m    110\u001b[0m     \u001b[0mdevice\u001b[0m\u001b[0;34m:\u001b[0m \u001b[0mstr\u001b[0m\u001b[0;34m,\u001b[0m\u001b[0;34m\u001b[0m\u001b[0;34m\u001b[0m\u001b[0m\n\u001b[1;32m    111\u001b[0m ) -> ExperimentData:\n\u001b[0;32m--> 112\u001b[0;31m     split_dataset = get_dataset(\n\u001b[0m\u001b[1;32m    113\u001b[0m         \u001b[0mid_dataset_name\u001b[0m\u001b[0;34m,\u001b[0m\u001b[0;34m\u001b[0m\u001b[0;34m\u001b[0m\u001b[0m\n\u001b[1;32m    114\u001b[0m         \u001b[0mroot\u001b[0m\u001b[0;34m=\u001b[0m\u001b[0;34m\"data\"\u001b[0m\u001b[0;34m,\u001b[0m\u001b[0;34m\u001b[0m\u001b[0;34m\u001b[0m\u001b[0m\n",
      "\u001b[0;32m~/PycharmProjects/bald-ical/batchbald_redux/datasets.py\u001b[0m in \u001b[0;36mget_dataset\u001b[0;34m(name, root, validation_set_size, validation_split_random_state, normalize_like_cifar10, device_hint)\u001b[0m\n\u001b[1;32m    379\u001b[0m     \u001b[0mnormalize_like_cifar10\u001b[0m \u001b[0;34m=\u001b[0m \u001b[0mnormalize_like_cifar10\u001b[0m \u001b[0;32mif\u001b[0m \u001b[0mnormalize_like_cifar10\u001b[0m \u001b[0;32mis\u001b[0m \u001b[0;32mnot\u001b[0m \u001b[0;32mNone\u001b[0m \u001b[0;32melse\u001b[0m \u001b[0;32mFalse\u001b[0m\u001b[0;34m\u001b[0m\u001b[0;34m\u001b[0m\u001b[0m\n\u001b[1;32m    380\u001b[0m \u001b[0;34m\u001b[0m\u001b[0m\n\u001b[0;32m--> 381\u001b[0;31m     split_dataset = dataset_factories[name](\n\u001b[0m\u001b[1;32m    382\u001b[0m         \u001b[0mroot\u001b[0m\u001b[0;34m=\u001b[0m\u001b[0mroot\u001b[0m\u001b[0;34m,\u001b[0m\u001b[0;34m\u001b[0m\u001b[0;34m\u001b[0m\u001b[0m\n\u001b[1;32m    383\u001b[0m         \u001b[0mvalidation_set_size\u001b[0m\u001b[0;34m=\u001b[0m\u001b[0mvalidation_set_size\u001b[0m\u001b[0;34m,\u001b[0m\u001b[0;34m\u001b[0m\u001b[0;34m\u001b[0m\u001b[0m\n",
      "\u001b[0;32m~/PycharmProjects/bald-ical/batchbald_redux/datasets.py\u001b[0m in \u001b[0;36mget_CIFAR10\u001b[0;34m(root, validation_set_size, validation_split_random_state, normalize_like_cifar10, device_hint)\u001b[0m\n\u001b[1;32m    142\u001b[0m     )\n\u001b[1;32m    143\u001b[0m \u001b[0;34m\u001b[0m\u001b[0m\n\u001b[0;32m--> 144\u001b[0;31m     \u001b[0mfull_train_dataset\u001b[0m \u001b[0;34m=\u001b[0m \u001b[0mdatasets\u001b[0m\u001b[0;34m.\u001b[0m\u001b[0mCIFAR10\u001b[0m\u001b[0;34m(\u001b[0m\u001b[0mroot\u001b[0m \u001b[0;34m+\u001b[0m \u001b[0;34m\"/CIFAR10\"\u001b[0m\u001b[0;34m,\u001b[0m \u001b[0mtrain\u001b[0m\u001b[0;34m=\u001b[0m\u001b[0;32mTrue\u001b[0m\u001b[0;34m,\u001b[0m \u001b[0mtransform\u001b[0m\u001b[0;34m=\u001b[0m\u001b[0mdataset_transform\u001b[0m\u001b[0;34m,\u001b[0m \u001b[0mdownload\u001b[0m\u001b[0;34m=\u001b[0m\u001b[0;32mTrue\u001b[0m\u001b[0;34m)\u001b[0m\u001b[0;34m\u001b[0m\u001b[0;34m\u001b[0m\u001b[0m\n\u001b[0m\u001b[1;32m    145\u001b[0m \u001b[0;34m\u001b[0m\u001b[0m\n\u001b[1;32m    146\u001b[0m     train_dataset, validation_dataset = train_validation_split(\n",
      "\u001b[0;32m~/anaconda3/envs/active_learning/lib/python3.8/site-packages/torchvision/datasets/cifar.py\u001b[0m in \u001b[0;36m__init__\u001b[0;34m(self, root, train, transform, target_transform, download)\u001b[0m\n\u001b[1;32m     82\u001b[0m             \u001b[0mfile_path\u001b[0m \u001b[0;34m=\u001b[0m \u001b[0mos\u001b[0m\u001b[0;34m.\u001b[0m\u001b[0mpath\u001b[0m\u001b[0;34m.\u001b[0m\u001b[0mjoin\u001b[0m\u001b[0;34m(\u001b[0m\u001b[0mself\u001b[0m\u001b[0;34m.\u001b[0m\u001b[0mroot\u001b[0m\u001b[0;34m,\u001b[0m \u001b[0mself\u001b[0m\u001b[0;34m.\u001b[0m\u001b[0mbase_folder\u001b[0m\u001b[0;34m,\u001b[0m \u001b[0mfile_name\u001b[0m\u001b[0;34m)\u001b[0m\u001b[0;34m\u001b[0m\u001b[0;34m\u001b[0m\u001b[0m\n\u001b[1;32m     83\u001b[0m             \u001b[0;32mwith\u001b[0m \u001b[0mopen\u001b[0m\u001b[0;34m(\u001b[0m\u001b[0mfile_path\u001b[0m\u001b[0;34m,\u001b[0m \u001b[0;34m'rb'\u001b[0m\u001b[0;34m)\u001b[0m \u001b[0;32mas\u001b[0m \u001b[0mf\u001b[0m\u001b[0;34m:\u001b[0m\u001b[0;34m\u001b[0m\u001b[0;34m\u001b[0m\u001b[0m\n\u001b[0;32m---> 84\u001b[0;31m                 \u001b[0mentry\u001b[0m \u001b[0;34m=\u001b[0m \u001b[0mpickle\u001b[0m\u001b[0;34m.\u001b[0m\u001b[0mload\u001b[0m\u001b[0;34m(\u001b[0m\u001b[0mf\u001b[0m\u001b[0;34m,\u001b[0m \u001b[0mencoding\u001b[0m\u001b[0;34m=\u001b[0m\u001b[0;34m'latin1'\u001b[0m\u001b[0;34m)\u001b[0m\u001b[0;34m\u001b[0m\u001b[0;34m\u001b[0m\u001b[0m\n\u001b[0m\u001b[1;32m     85\u001b[0m                 \u001b[0mself\u001b[0m\u001b[0;34m.\u001b[0m\u001b[0mdata\u001b[0m\u001b[0;34m.\u001b[0m\u001b[0mappend\u001b[0m\u001b[0;34m(\u001b[0m\u001b[0mentry\u001b[0m\u001b[0;34m[\u001b[0m\u001b[0;34m'data'\u001b[0m\u001b[0;34m]\u001b[0m\u001b[0;34m)\u001b[0m\u001b[0;34m\u001b[0m\u001b[0;34m\u001b[0m\u001b[0m\n\u001b[1;32m     86\u001b[0m                 \u001b[0;32mif\u001b[0m \u001b[0;34m'labels'\u001b[0m \u001b[0;32min\u001b[0m \u001b[0mentry\u001b[0m\u001b[0;34m:\u001b[0m\u001b[0;34m\u001b[0m\u001b[0;34m\u001b[0m\u001b[0m\n",
      "\u001b[0;31mKeyboardInterrupt\u001b[0m: "
     ]
    }
   ],
   "source": [
    "# experiment\n",
    "# OOD experiment (ood_exposure=True)\n",
    "\n",
    "experiment = UnifiedExperiment(\n",
    "    experiment_data_config=StandardExperimentDataConfig(\n",
    "        id_dataset_name=\"CIFAR-10\",\n",
    "        id_repetitions=1,\n",
    "        initial_training_set_size=20,\n",
    "        validation_set_size=4096,\n",
    "        validation_split_random_state=0,\n",
    "        evaluation_set_size=100,\n",
    "        add_dataset_noise=False,\n",
    "        ood_dataset_config=OoDDatasetConfig(ood_dataset_name=\"SVHN\", ood_repetitions=1, ood_exposure=True),\n",
    "    ),\n",
    "    seed=1,\n",
    "    max_training_epochs=1,\n",
    "    max_training_set=20 + 10,\n",
    "    acquisition_function=acquisition_functions.EvalBALD,\n",
    "    acquisition_size=10,\n",
    "    num_pool_samples=2,\n",
    "    device=\"cuda\",\n",
    ")\n",
    "\n",
    "results = {}\n",
    "experiment.run(results)\n",
    "results"
   ]
  },
  {
   "cell_type": "code",
   "execution_count": null,
   "metadata": {
    "tags": []
   },
   "outputs": [
    {
     "name": "stdout",
     "output_type": "stream",
     "text": [
      "Files already downloaded and verified\n"
     ]
    },
    {
     "name": "stderr",
     "output_type": "stream",
     "text": [
      "/home/blackhc/anaconda3/envs/active_learning/lib/python3.8/site-packages/sklearn/utils/__init__.py:1102: DeprecationWarning: `np.int` is a deprecated alias for the builtin `int`. To silence this warning, use `int` by itself. Doing this will not modify any behavior and is safe. When replacing `np.int`, you may wish to use e.g. `np.int64` or `np.int32` to specify the precision. If you wish to review your current use, check the release note link for additional information.\n",
      "Deprecated in NumPy 1.20; for more details and guidance: https://numpy.org/devdocs/release/1.20.0-notes.html#deprecations\n",
      "  return floored.astype(np.int)\n",
      "/home/blackhc/anaconda3/envs/active_learning/lib/python3.8/site-packages/sklearn/utils/__init__.py:1102: DeprecationWarning: `np.int` is a deprecated alias for the builtin `int`. To silence this warning, use `int` by itself. Doing this will not modify any behavior and is safe. When replacing `np.int`, you may wish to use e.g. `np.int64` or `np.int32` to specify the precision. If you wish to review your current use, check the release note link for additional information.\n",
      "Deprecated in NumPy 1.20; for more details and guidance: https://numpy.org/devdocs/release/1.20.0-notes.html#deprecations\n",
      "  return floored.astype(np.int)\n"
     ]
    },
    {
     "name": "stdout",
     "output_type": "stream",
     "text": [
      "Files already downloaded and verified\n",
      "Using downloaded and verified file: data/SVHN/train_32x32.mat\n",
      "Using downloaded and verified file: data/SVHN/test_32x32.mat\n",
      "Creating: EvalBALD(\n",
      "\tacquisition_size=10,\n",
      "\tnum_pool_samples=2\n",
      ")\n",
      "Creating: Cifar10ModelTrainer(\n",
      "\tdevice=cuda,\n",
      "\tnum_training_samples=1,\n",
      "\tnum_validation_samples=20,\n",
      "\tmax_training_epochs=1\n",
      ")\n",
      "Creating: TrainSelfDistillationEvalModel(\n",
      "\tnum_pool_samples=2\n",
      ")\n",
      "Training set size 20:\n",
      "Cosine Annealing\n"
     ]
    },
    {
     "data": {
      "application/vnd.jupyter.widget-view+json": {
       "model_id": "4a12d8c16cc34236817c27e3197c4d49",
       "version_major": 2,
       "version_minor": 0
      },
      "text/plain": [
       "100%|##########| 1/1 [00:00<?, ?it/s]"
      ]
     },
     "metadata": {},
     "output_type": "display_data"
    },
    {
     "data": {
      "application/vnd.jupyter.widget-view+json": {
       "model_id": "",
       "version_major": 2,
       "version_minor": 0
      },
      "text/plain": [
       "[1/39]   3%|2          [00:00<?]"
      ]
     },
     "metadata": {},
     "output_type": "display_data"
    },
    {
     "name": "stdout",
     "output_type": "stream",
     "text": [
      "Epoch 1 metrics: {'accuracy': 0.157958984375, 'crossentropy': 2.860942095518112}\n"
     ]
    },
    {
     "data": {
      "application/vnd.jupyter.widget-view+json": {
       "model_id": "",
       "version_major": 2,
       "version_minor": 0
      },
      "text/plain": [
       "get_predictions_labels:   0%|          | 0/200000 [00:00<?, ?it/s]"
      ]
     },
     "metadata": {},
     "output_type": "display_data"
    },
    {
     "name": "stdout",
     "output_type": "stream",
     "text": [
      "Perf after training {'accuracy': 0.1588, 'crossentropy': tensor(2.6745)}\n"
     ]
    },
    {
     "data": {
      "application/vnd.jupyter.widget-view+json": {
       "model_id": "",
       "version_major": 2,
       "version_minor": 0
      },
      "text/plain": [
       "get_predictions_labels:   0%|          | 0/240 [00:00<?, ?it/s]"
      ]
     },
     "metadata": {},
     "output_type": "display_data"
    },
    {
     "name": "stdout",
     "output_type": "stream",
     "text": [
      "Cosine Annealing\n"
     ]
    },
    {
     "data": {
      "application/vnd.jupyter.widget-view+json": {
       "model_id": "dbf2e26fcdf04c08ac60d55583edd536",
       "version_major": 2,
       "version_minor": 0
      },
      "text/plain": [
       "100%|##########| 1/1 [00:00<?, ?it/s]"
      ]
     },
     "metadata": {},
     "output_type": "display_data"
    },
    {
     "data": {
      "application/vnd.jupyter.widget-view+json": {
       "model_id": "",
       "version_major": 2,
       "version_minor": 0
      },
      "text/plain": [
       "[1/39]   3%|2          [00:00<?]"
      ]
     },
     "metadata": {},
     "output_type": "display_data"
    },
    {
     "name": "stdout",
     "output_type": "stream",
     "text": [
      "Epoch 1 metrics: {'accuracy': 0.1494140625, 'crossentropy': 2.807897835969925}\n"
     ]
    },
    {
     "data": {
      "application/vnd.jupyter.widget-view+json": {
       "model_id": "",
       "version_major": 2,
       "version_minor": 0
      },
      "text/plain": [
       "get_predictions_labels:   0%|          | 0/238082 [00:00<?, ?it/s]"
      ]
     },
     "metadata": {},
     "output_type": "display_data"
    },
    {
     "data": {
      "application/vnd.jupyter.widget-view+json": {
       "model_id": "",
       "version_major": 2,
       "version_minor": 0
      },
      "text/plain": [
       "get_predictions_labels:   0%|          | 0/238082 [00:00<?, ?it/s]"
      ]
     },
     "metadata": {},
     "output_type": "display_data"
    },
    {
     "data": {
      "application/vnd.jupyter.widget-view+json": {
       "model_id": "",
       "version_major": 2,
       "version_minor": 0
      },
      "text/plain": [
       "Conditional Entropy:   0%|          | 0/119041 [00:00<?, ?it/s]"
      ]
     },
     "metadata": {},
     "output_type": "display_data"
    },
    {
     "data": {
      "application/vnd.jupyter.widget-view+json": {
       "model_id": "",
       "version_major": 2,
       "version_minor": 0
      },
      "text/plain": [
       "Entropy:   0%|          | 0/119041 [00:00<?, ?it/s]"
      ]
     },
     "metadata": {},
     "output_type": "display_data"
    },
    {
     "data": {
      "application/vnd.jupyter.widget-view+json": {
       "model_id": "",
       "version_major": 2,
       "version_minor": 0
      },
      "text/plain": [
       "Conditional Entropy:   0%|          | 0/119041 [00:00<?, ?it/s]"
      ]
     },
     "metadata": {},
     "output_type": "display_data"
    },
    {
     "data": {
      "application/vnd.jupyter.widget-view+json": {
       "model_id": "",
       "version_major": 2,
       "version_minor": 0
      },
      "text/plain": [
       "Entropy:   0%|          | 0/119041 [00:00<?, ?it/s]"
      ]
     },
     "metadata": {},
     "output_type": "display_data"
    },
    {
     "name": "stdout",
     "output_type": "stream",
     "text": [
      "CandidateBatch(scores=[0.5664071440696716, 0.5583854913711548, 0.5552188754081726, 0.5509648323059082, 0.5495696663856506, 0.5474484264850616, 0.5472981631755829, 0.5447407066822052, 0.5361950695514679, 0.5273618102073669], indices=[107452, 17624, 68416, 40016, 107706, 107707, 107454, 62234, 107453, 107705])\n",
      "[('ood', 61668), ('id', 17671), ('ood', 22632), ('id', 40123), ('ood', 61922), ('ood', 61923), ('ood', 61670), ('ood', 16450), ('ood', 61669), ('ood', 61921)]\n",
      "Acquiring (label, score)s: -1 (0.5664), 2 (0.5584), -1 (0.5552), 4 (0.551), -1 (0.5496), -1 (0.5474), -1 (0.5473), -1 (0.5447), -1 (0.5362), -1 (0.5274)\n",
      "Training set size 22:\n",
      "Cosine Annealing\n"
     ]
    },
    {
     "data": {
      "application/vnd.jupyter.widget-view+json": {
       "model_id": "c31447f32a0948b6b3918953a9caac29",
       "version_major": 2,
       "version_minor": 0
      },
      "text/plain": [
       "100%|##########| 1/1 [00:00<?, ?it/s]"
      ]
     },
     "metadata": {},
     "output_type": "display_data"
    },
    {
     "data": {
      "application/vnd.jupyter.widget-view+json": {
       "model_id": "",
       "version_major": 2,
       "version_minor": 0
      },
      "text/plain": [
       "[1/39]   3%|2          [00:00<?]"
      ]
     },
     "metadata": {},
     "output_type": "display_data"
    },
    {
     "name": "stdout",
     "output_type": "stream",
     "text": [
      "Epoch 1 metrics: {'accuracy': 0.11181640625, 'crossentropy': 3.289741963148117}\n"
     ]
    },
    {
     "data": {
      "application/vnd.jupyter.widget-view+json": {
       "model_id": "",
       "version_major": 2,
       "version_minor": 0
      },
      "text/plain": [
       "get_predictions_labels:   0%|          | 0/200000 [00:00<?, ?it/s]"
      ]
     },
     "metadata": {},
     "output_type": "display_data"
    },
    {
     "name": "stdout",
     "output_type": "stream",
     "text": [
      "Perf after training {'accuracy': 0.1117, 'crossentropy': tensor(2.8899)}\n",
      "Done.\n"
     ]
    },
    {
     "data": {
      "text/plain": [
       "{'dataset_info': {'training': \"('CIFAR-10 (Train, seed=0, 45904 samples)') + 'SVHN (Train, seed=0, 73257 samples)' | constant_target{'target': tensor(-1), 'num_classes': 10}\",\n",
       "  'test': \"'CIFAR-10 (Test)'\"},\n",
       " 'initial_training_set_indices': [29863,\n",
       "  22519,\n",
       "  21079,\n",
       "  37521,\n",
       "  15583,\n",
       "  23405,\n",
       "  44362,\n",
       "  35084,\n",
       "  29380,\n",
       "  26994,\n",
       "  39909,\n",
       "  29333,\n",
       "  527,\n",
       "  31668,\n",
       "  43591,\n",
       "  12293,\n",
       "  39247,\n",
       "  36879,\n",
       "  7979,\n",
       "  33280],\n",
       " 'evaluation_set_indices': [4291,\n",
       "  37709,\n",
       "  11949,\n",
       "  12149,\n",
       "  17798,\n",
       "  32245,\n",
       "  235,\n",
       "  38778,\n",
       "  32864,\n",
       "  39123,\n",
       "  22797,\n",
       "  43486,\n",
       "  5813,\n",
       "  40306,\n",
       "  4570,\n",
       "  15667,\n",
       "  36937,\n",
       "  25830,\n",
       "  2404,\n",
       "  30096,\n",
       "  19730,\n",
       "  11343,\n",
       "  17034,\n",
       "  43455,\n",
       "  15770,\n",
       "  7894,\n",
       "  36848,\n",
       "  11067,\n",
       "  12968,\n",
       "  29454,\n",
       "  33432,\n",
       "  21672,\n",
       "  38040,\n",
       "  259,\n",
       "  29571,\n",
       "  41639,\n",
       "  43971,\n",
       "  13338,\n",
       "  42364,\n",
       "  11109,\n",
       "  18814,\n",
       "  21474,\n",
       "  10681,\n",
       "  40169,\n",
       "  9997,\n",
       "  12784,\n",
       "  22626,\n",
       "  36949,\n",
       "  33130,\n",
       "  13688,\n",
       "  6466,\n",
       "  28263,\n",
       "  45060,\n",
       "  10422,\n",
       "  7005,\n",
       "  3143,\n",
       "  26143,\n",
       "  28581,\n",
       "  13207,\n",
       "  10038,\n",
       "  6750,\n",
       "  21221,\n",
       "  9097,\n",
       "  26989,\n",
       "  26153,\n",
       "  13087,\n",
       "  28498,\n",
       "  39840,\n",
       "  26870,\n",
       "  24298,\n",
       "  24804,\n",
       "  28038,\n",
       "  17767,\n",
       "  31439,\n",
       "  1247,\n",
       "  2171,\n",
       "  6804,\n",
       "  5126,\n",
       "  42102,\n",
       "  11902,\n",
       "  27726,\n",
       "  34553,\n",
       "  8995,\n",
       "  23268,\n",
       "  42247,\n",
       "  40748,\n",
       "  4329,\n",
       "  18148,\n",
       "  33008,\n",
       "  18855,\n",
       "  4043,\n",
       "  6625,\n",
       "  15957,\n",
       "  19208,\n",
       "  23415,\n",
       "  19554,\n",
       "  7878,\n",
       "  20565,\n",
       "  7036,\n",
       "  8754],\n",
       " 'seed': 12502563389521020374,\n",
       " 'active_learning_steps': [{'training': {'epochs': [{'accuracy': 0.157958984375,\n",
       "      'crossentropy': 2.860942095518112}]},\n",
       "   'evaluation_metrics': {'accuracy': 0.1588, 'crossentropy': tensor(2.6745)},\n",
       "   'eval_training': {'epochs': [{'accuracy': 0.1494140625,\n",
       "      'crossentropy': 2.807897835969925}]},\n",
       "   'acquisition': {'indices': [('ood', 61668),\n",
       "     ('id', 17671),\n",
       "     ('ood', 22632),\n",
       "     ('id', 40123),\n",
       "     ('ood', 61922),\n",
       "     ('ood', 61923),\n",
       "     ('ood', 61670),\n",
       "     ('ood', 16450),\n",
       "     ('ood', 61669),\n",
       "     ('ood', 61921)],\n",
       "    'labels': [-1, 2, -1, 4, -1, -1, -1, -1, -1, -1],\n",
       "    'scores': [0.5664071440696716,\n",
       "     0.5583854913711548,\n",
       "     0.5552188754081726,\n",
       "     0.5509648323059082,\n",
       "     0.5495696663856506,\n",
       "     0.5474484264850616,\n",
       "     0.5472981631755829,\n",
       "     0.5447407066822052,\n",
       "     0.5361950695514679,\n",
       "     0.5273618102073669]}},\n",
       "  {'training': {'epochs': [{'accuracy': 0.11181640625,\n",
       "      'crossentropy': 3.289741963148117}]},\n",
       "   'evaluation_metrics': {'accuracy': 0.1117,\n",
       "    'crossentropy': tensor(2.8899)}}]}"
      ]
     },
     "execution_count": null,
     "metadata": {},
     "output_type": "execute_result"
    }
   ],
   "source": [
    "# experiment\n",
    "# OOD experiment (ood_exposure=False)\n",
    "\n",
    "experiment = UnifiedExperiment(\n",
    "    experiment_data_config=StandardExperimentDataConfig(\n",
    "        id_dataset_name=\"CIFAR-10\",\n",
    "        id_repetitions=1,\n",
    "        initial_training_set_size=20,\n",
    "        validation_set_size=4096,\n",
    "        validation_split_random_state=0,\n",
    "        evaluation_set_size=100,\n",
    "        add_dataset_noise=False,\n",
    "        ood_dataset_config=OoDDatasetConfig(ood_dataset_name=\"SVHN\", ood_repetitions=1, ood_exposure=False),\n",
    "    ),\n",
    "    seed=1,\n",
    "    max_training_epochs=1,\n",
    "    max_training_set=20 + 10,\n",
    "    acquisition_function=acquisition_functions.EvalBALD,\n",
    "    acquisition_size=10,\n",
    "    num_pool_samples=2,\n",
    "    device=\"cuda\",\n",
    ")\n",
    "\n",
    "results = {}\n",
    "experiment.run(results)\n",
    "results"
   ]
  },
  {
   "cell_type": "markdown",
   "metadata": {},
   "source": [
    "## MNIST vs FashionMNIST Coverage"
   ]
  },
  {
   "cell_type": "code",
   "execution_count": null,
   "metadata": {
    "tags": []
   },
   "outputs": [
    {
     "name": "stderr",
     "output_type": "stream",
     "text": [
      "/home/blackhc/anaconda3/envs/active_learning/lib/python3.8/site-packages/sklearn/utils/__init__.py:1102: DeprecationWarning: `np.int` is a deprecated alias for the builtin `int`. To silence this warning, use `int` by itself. Doing this will not modify any behavior and is safe. When replacing `np.int`, you may wish to use e.g. `np.int64` or `np.int32` to specify the precision. If you wish to review your current use, check the release note link for additional information.\n",
      "Deprecated in NumPy 1.20; for more details and guidance: https://numpy.org/devdocs/release/1.20.0-notes.html#deprecations\n",
      "  return floored.astype(np.int)\n",
      "/home/blackhc/anaconda3/envs/active_learning/lib/python3.8/site-packages/sklearn/utils/__init__.py:1102: DeprecationWarning: `np.int` is a deprecated alias for the builtin `int`. To silence this warning, use `int` by itself. Doing this will not modify any behavior and is safe. When replacing `np.int`, you may wish to use e.g. `np.int64` or `np.int32` to specify the precision. If you wish to review your current use, check the release note link for additional information.\n",
      "Deprecated in NumPy 1.20; for more details and guidance: https://numpy.org/devdocs/release/1.20.0-notes.html#deprecations\n",
      "  return floored.astype(np.int)\n"
     ]
    },
    {
     "name": "stdout",
     "output_type": "stream",
     "text": [
      "Creating: BALD(\n",
      "\tacquisition_size=10,\n",
      "\tnum_pool_samples=2\n",
      ")\n",
      "Creating: MnistModelTrainer(\n",
      "\tdevice=cuda,\n",
      "\tnum_training_samples=1,\n",
      "\tnum_validation_samples=20,\n",
      "\tmax_training_epochs=1\n",
      ")\n",
      "Creating: TrainSelfDistillationEvalModel(\n",
      "\tnum_pool_samples=2\n",
      ")\n",
      "Training set size 20:\n"
     ]
    },
    {
     "data": {
      "application/vnd.jupyter.widget-view+json": {
       "model_id": "527f3190bb3646948e19306c9de1e7b1",
       "version_major": 2,
       "version_minor": 0
      },
      "text/plain": [
       "100%|##########| 1/1 [00:00<?, ?it/s]"
      ]
     },
     "metadata": {},
     "output_type": "display_data"
    },
    {
     "data": {
      "application/vnd.jupyter.widget-view+json": {
       "model_id": "",
       "version_major": 2,
       "version_minor": 0
      },
      "text/plain": [
       "[1/16]   6%|6          [00:00<?]"
      ]
     },
     "metadata": {},
     "output_type": "display_data"
    },
    {
     "data": {
      "application/vnd.jupyter.widget-view+json": {
       "model_id": "",
       "version_major": 2,
       "version_minor": 0
      },
      "text/plain": [
       "[1/32]   3%|3          [00:00<?]"
      ]
     },
     "metadata": {},
     "output_type": "display_data"
    },
    {
     "name": "stdout",
     "output_type": "stream",
     "text": [
      "Epoch metrics: {'accuracy': 0.554931640625, 'crossentropy': 1.8601678125560284}\n",
      "RestoringEarlyStopping: Restoring best parameters. (Score: 0.554931640625)\n",
      "RestoringEarlyStopping: Restoring optimizer.\n"
     ]
    },
    {
     "data": {
      "application/vnd.jupyter.widget-view+json": {
       "model_id": "",
       "version_major": 2,
       "version_minor": 0
      },
      "text/plain": [
       "get_predictions_labels:   0%|          | 0/200000 [00:00<?, ?it/s]"
      ]
     },
     "metadata": {},
     "output_type": "display_data"
    },
    {
     "name": "stdout",
     "output_type": "stream",
     "text": [
      "Perf after training {'accuracy': 0.5582, 'crossentropy': tensor(1.6005)}\n"
     ]
    },
    {
     "data": {
      "application/vnd.jupyter.widget-view+json": {
       "model_id": "",
       "version_major": 2,
       "version_minor": 0
      },
      "text/plain": [
       "get_predictions_labels:   0%|          | 0/231568 [00:00<?, ?it/s]"
      ]
     },
     "metadata": {},
     "output_type": "display_data"
    },
    {
     "data": {
      "application/vnd.jupyter.widget-view+json": {
       "model_id": "",
       "version_major": 2,
       "version_minor": 0
      },
      "text/plain": [
       "Conditional Entropy:   0%|          | 0/115784 [00:00<?, ?it/s]"
      ]
     },
     "metadata": {},
     "output_type": "display_data"
    },
    {
     "data": {
      "application/vnd.jupyter.widget-view+json": {
       "model_id": "",
       "version_major": 2,
       "version_minor": 0
      },
      "text/plain": [
       "Entropy:   0%|          | 0/115784 [00:00<?, ?it/s]"
      ]
     },
     "metadata": {},
     "output_type": "display_data"
    },
    {
     "name": "stdout",
     "output_type": "stream",
     "text": [
      "CandidateBatch(scores=[0.5286269187927246, 0.5206483602523804, 0.5205633640289307, 0.5157134532928467, 0.5151408314704895, 0.513818621635437, 0.5130301117897034, 0.5124313831329346, 0.5110619068145752, 0.5096436738967896], indices=[19319, 24059, 30835, 46776, 43171, 49218, 47110, 22783, 6099, 43495])\n",
      "[('id', 19365), ('id', 24112), ('id', 30906), ('id', 46876), ('id', 43266), ('id', 49321), ('id', 47210), ('id', 22832), ('id', 6113), ('id', 43590)]\n",
      "Acquiring (label, score)s: [1.0, 0.0, 0.0, 0.0, 0.0, 0.0, 0.0, 0.0, 0.0, 0.0] (0.5286), [0.0, 0.0, 0.0, 0.0, 0.0, 0.0, 0.0, 1.0, 0.0, 0.0] (0.5206), [1.0, 0.0, 0.0, 0.0, 0.0, 0.0, 0.0, 0.0, 0.0, 0.0] (0.5206), [1.0, 0.0, 0.0, 0.0, 0.0, 0.0, 0.0, 0.0, 0.0, 0.0] (0.5157), [1.0, 0.0, 0.0, 0.0, 0.0, 0.0, 0.0, 0.0, 0.0, 0.0] (0.5151), [1.0, 0.0, 0.0, 0.0, 0.0, 0.0, 0.0, 0.0, 0.0, 0.0] (0.5138), [1.0, 0.0, 0.0, 0.0, 0.0, 0.0, 0.0, 0.0, 0.0, 0.0] (0.513), [1.0, 0.0, 0.0, 0.0, 0.0, 0.0, 0.0, 0.0, 0.0, 0.0] (0.5124), [1.0, 0.0, 0.0, 0.0, 0.0, 0.0, 0.0, 0.0, 0.0, 0.0] (0.5111), [1.0, 0.0, 0.0, 0.0, 0.0, 0.0, 0.0, 0.0, 0.0, 0.0] (0.5096)\n",
      "Training set size 30:\n"
     ]
    },
    {
     "data": {
      "application/vnd.jupyter.widget-view+json": {
       "model_id": "fcd8e849dd2b4f93b1ab2ff0683898d2",
       "version_major": 2,
       "version_minor": 0
      },
      "text/plain": [
       "100%|##########| 1/1 [00:00<?, ?it/s]"
      ]
     },
     "metadata": {},
     "output_type": "display_data"
    },
    {
     "data": {
      "application/vnd.jupyter.widget-view+json": {
       "model_id": "",
       "version_major": 2,
       "version_minor": 0
      },
      "text/plain": [
       "[1/16]   6%|6          [00:00<?]"
      ]
     },
     "metadata": {},
     "output_type": "display_data"
    },
    {
     "data": {
      "application/vnd.jupyter.widget-view+json": {
       "model_id": "",
       "version_major": 2,
       "version_minor": 0
      },
      "text/plain": [
       "[1/32]   3%|3          [00:00<?]"
      ]
     },
     "metadata": {},
     "output_type": "display_data"
    },
    {
     "name": "stdout",
     "output_type": "stream",
     "text": [
      "Epoch metrics: {'accuracy': 0.349853515625, 'crossentropy': 1.974664144217968}\n",
      "RestoringEarlyStopping: Restoring best parameters. (Score: 0.349853515625)\n",
      "RestoringEarlyStopping: Restoring optimizer.\n"
     ]
    },
    {
     "data": {
      "application/vnd.jupyter.widget-view+json": {
       "model_id": "",
       "version_major": 2,
       "version_minor": 0
      },
      "text/plain": [
       "get_predictions_labels:   0%|          | 0/200000 [00:00<?, ?it/s]"
      ]
     },
     "metadata": {},
     "output_type": "display_data"
    },
    {
     "name": "stdout",
     "output_type": "stream",
     "text": [
      "Perf after training {'accuracy': 0.3325, 'crossentropy': tensor(1.9364)}\n",
      "Done.\n"
     ]
    },
    {
     "data": {
      "text/plain": [
       "{'dataset_info': {'training': \"'MNIST (Train, seed=0, 55904 samples)' | one_hot_targets{'num_classes': 10} + 'FashionMNIST (Train, seed=0, 60000 samples)' | uniform_targets{'num_classes': 10}\",\n",
       "  'test': \"'MNIST (Test)'\"},\n",
       " 'initial_training_set_indices': [47227,\n",
       "  11511,\n",
       "  18383,\n",
       "  41080,\n",
       "  32837,\n",
       "  24393,\n",
       "  23904,\n",
       "  11784,\n",
       "  20439,\n",
       "  35043,\n",
       "  27367,\n",
       "  30426,\n",
       "  32361,\n",
       "  26116,\n",
       "  24386,\n",
       "  4689,\n",
       "  44895,\n",
       "  24211,\n",
       "  17212,\n",
       "  3478],\n",
       " 'evaluation_set_indices': [49,\n",
       "  12425,\n",
       "  22159,\n",
       "  22739,\n",
       "  701,\n",
       "  11289,\n",
       "  4629,\n",
       "  53972,\n",
       "  52127,\n",
       "  6277,\n",
       "  18804,\n",
       "  25364,\n",
       "  18841,\n",
       "  12957,\n",
       "  10232,\n",
       "  42477,\n",
       "  35057,\n",
       "  43089,\n",
       "  48907,\n",
       "  15149,\n",
       "  24587,\n",
       "  52160,\n",
       "  19050,\n",
       "  30188,\n",
       "  50376,\n",
       "  17140,\n",
       "  26654,\n",
       "  28683,\n",
       "  36031,\n",
       "  32477,\n",
       "  32792,\n",
       "  52660,\n",
       "  52712,\n",
       "  49702,\n",
       "  40661,\n",
       "  10190,\n",
       "  18143,\n",
       "  16617,\n",
       "  54012,\n",
       "  38376,\n",
       "  1924,\n",
       "  39518,\n",
       "  1625,\n",
       "  7896,\n",
       "  1701,\n",
       "  28972,\n",
       "  3717,\n",
       "  42815,\n",
       "  6274,\n",
       "  44154,\n",
       "  44312,\n",
       "  10944,\n",
       "  14937,\n",
       "  6358,\n",
       "  1182,\n",
       "  55213,\n",
       "  9292,\n",
       "  33572,\n",
       "  13252,\n",
       "  30667,\n",
       "  31242,\n",
       "  51852,\n",
       "  33800,\n",
       "  42491,\n",
       "  31258,\n",
       "  42348,\n",
       "  42109,\n",
       "  47515,\n",
       "  1844,\n",
       "  9314,\n",
       "  18329,\n",
       "  15263,\n",
       "  52934,\n",
       "  25225,\n",
       "  25735,\n",
       "  13117,\n",
       "  23192,\n",
       "  17351,\n",
       "  23132,\n",
       "  26475,\n",
       "  51941,\n",
       "  40334,\n",
       "  46024,\n",
       "  46042,\n",
       "  28571,\n",
       "  53385,\n",
       "  11382,\n",
       "  53290,\n",
       "  31958,\n",
       "  3733,\n",
       "  4076,\n",
       "  16680,\n",
       "  51381,\n",
       "  39998,\n",
       "  23778,\n",
       "  54301,\n",
       "  49814,\n",
       "  172,\n",
       "  27228,\n",
       "  16975],\n",
       " 'seed': 11606190315698255273,\n",
       " 'active_learning_steps': [{'training': {'epochs': [{'accuracy': 0.554931640625,\n",
       "      'crossentropy': 1.8601678125560284}],\n",
       "    'best_epoch': 1},\n",
       "   'evaluation_metrics': {'accuracy': 0.5582, 'crossentropy': tensor(1.6005)},\n",
       "   'acquisition': {'indices': [('id', 19365),\n",
       "     ('id', 24112),\n",
       "     ('id', 30906),\n",
       "     ('id', 46876),\n",
       "     ('id', 43266),\n",
       "     ('id', 49321),\n",
       "     ('id', 47210),\n",
       "     ('id', 22832),\n",
       "     ('id', 6113),\n",
       "     ('id', 43590)],\n",
       "    'labels': [[1.0, 0.0, 0.0, 0.0, 0.0, 0.0, 0.0, 0.0, 0.0, 0.0],\n",
       "     [0.0, 0.0, 0.0, 0.0, 0.0, 0.0, 0.0, 1.0, 0.0, 0.0],\n",
       "     [1.0, 0.0, 0.0, 0.0, 0.0, 0.0, 0.0, 0.0, 0.0, 0.0],\n",
       "     [1.0, 0.0, 0.0, 0.0, 0.0, 0.0, 0.0, 0.0, 0.0, 0.0],\n",
       "     [1.0, 0.0, 0.0, 0.0, 0.0, 0.0, 0.0, 0.0, 0.0, 0.0],\n",
       "     [1.0, 0.0, 0.0, 0.0, 0.0, 0.0, 0.0, 0.0, 0.0, 0.0],\n",
       "     [1.0, 0.0, 0.0, 0.0, 0.0, 0.0, 0.0, 0.0, 0.0, 0.0],\n",
       "     [1.0, 0.0, 0.0, 0.0, 0.0, 0.0, 0.0, 0.0, 0.0, 0.0],\n",
       "     [1.0, 0.0, 0.0, 0.0, 0.0, 0.0, 0.0, 0.0, 0.0, 0.0],\n",
       "     [1.0, 0.0, 0.0, 0.0, 0.0, 0.0, 0.0, 0.0, 0.0, 0.0]],\n",
       "    'scores': [0.5286269187927246,\n",
       "     0.5206483602523804,\n",
       "     0.5205633640289307,\n",
       "     0.5157134532928467,\n",
       "     0.5151408314704895,\n",
       "     0.513818621635437,\n",
       "     0.5130301117897034,\n",
       "     0.5124313831329346,\n",
       "     0.5110619068145752,\n",
       "     0.5096436738967896]}},\n",
       "  {'training': {'epochs': [{'accuracy': 0.349853515625,\n",
       "      'crossentropy': 1.974664144217968}],\n",
       "    'best_epoch': 1},\n",
       "   'evaluation_metrics': {'accuracy': 0.3325,\n",
       "    'crossentropy': tensor(1.9364)}}]}"
      ]
     },
     "execution_count": null,
     "metadata": {},
     "output_type": "execute_result"
    }
   ],
   "source": [
    "# experiment\n",
    "# MNIST OOD experiment (ood_exposure=True)\n",
    "\n",
    "experiment = UnifiedExperiment(\n",
    "    experiment_data_config=StandardExperimentDataConfig(\n",
    "        id_dataset_name=\"MNIST\",\n",
    "        id_repetitions=1,\n",
    "        initial_training_set_size=20,\n",
    "        validation_set_size=4096,\n",
    "        validation_split_random_state=0,\n",
    "        evaluation_set_size=100,\n",
    "        add_dataset_noise=False,\n",
    "        ood_dataset_config=OoDDatasetConfig(ood_dataset_name=\"FashionMNIST\", ood_repetitions=1, ood_exposure=True),\n",
    "    ),\n",
    "    seed=1,\n",
    "    max_training_epochs=1,\n",
    "    max_training_set=20 + 10,\n",
    "    acquisition_function=acquisition_functions.BALD,\n",
    "    acquisition_size=10,\n",
    "    model_trainer_factory=MnistModelTrainer,\n",
    "    num_pool_samples=2,\n",
    "    device=\"cuda\",\n",
    ")\n",
    "\n",
    "results = {}\n",
    "experiment.run(results)\n",
    "results"
   ]
  },
  {
   "cell_type": "markdown",
   "metadata": {},
   "source": [
    "## MNIST only"
   ]
  },
  {
   "cell_type": "code",
   "execution_count": null,
   "metadata": {
    "tags": []
   },
   "outputs": [
    {
     "name": "stdout",
     "output_type": "stream",
     "text": [
      "Creating: BALD(\n",
      "\tacquisition_size=10,\n",
      "\tnum_pool_samples=2\n",
      ")\n",
      "Creating: MnistModelTrainer(\n",
      "\tdevice=cuda,\n",
      "\tnum_training_samples=1,\n",
      "\tnum_validation_samples=20,\n",
      "\tmax_training_epochs=5\n",
      ")\n",
      "Creating: TrainSelfDistillationEvalModel(\n",
      "\tnum_pool_samples=2\n",
      ")\n",
      "Training set size 20:\n"
     ]
    },
    {
     "name": "stderr",
     "output_type": "stream",
     "text": [
      "/home/blackhc/anaconda3/envs/active_learning/lib/python3.8/site-packages/sklearn/utils/__init__.py:1102: DeprecationWarning: `np.int` is a deprecated alias for the builtin `int`. To silence this warning, use `int` by itself. Doing this will not modify any behavior and is safe. When replacing `np.int`, you may wish to use e.g. `np.int64` or `np.int32` to specify the precision. If you wish to review your current use, check the release note link for additional information.\n",
      "Deprecated in NumPy 1.20; for more details and guidance: https://numpy.org/devdocs/release/1.20.0-notes.html#deprecations\n",
      "  return floored.astype(np.int)\n",
      "/home/blackhc/anaconda3/envs/active_learning/lib/python3.8/site-packages/sklearn/utils/__init__.py:1102: DeprecationWarning: `np.int` is a deprecated alias for the builtin `int`. To silence this warning, use `int` by itself. Doing this will not modify any behavior and is safe. When replacing `np.int`, you may wish to use e.g. `np.int64` or `np.int32` to specify the precision. If you wish to review your current use, check the release note link for additional information.\n",
      "Deprecated in NumPy 1.20; for more details and guidance: https://numpy.org/devdocs/release/1.20.0-notes.html#deprecations\n",
      "  return floored.astype(np.int)\n"
     ]
    },
    {
     "data": {
      "application/vnd.jupyter.widget-view+json": {
       "model_id": "3ece658da134416eb82edf1c8718ce6d",
       "version_major": 2,
       "version_minor": 0
      },
      "text/plain": [
       " 20%|##        | 1/5 [00:00<?, ?it/s]"
      ]
     },
     "metadata": {},
     "output_type": "display_data"
    },
    {
     "data": {
      "application/vnd.jupyter.widget-view+json": {
       "model_id": "",
       "version_major": 2,
       "version_minor": 0
      },
      "text/plain": [
       "[1/16]   6%|6          [00:00<?]"
      ]
     },
     "metadata": {},
     "output_type": "display_data"
    },
    {
     "data": {
      "application/vnd.jupyter.widget-view+json": {
       "model_id": "",
       "version_major": 2,
       "version_minor": 0
      },
      "text/plain": [
       "[1/32]   3%|3          [00:00<?]"
      ]
     },
     "metadata": {},
     "output_type": "display_data"
    },
    {
     "name": "stdout",
     "output_type": "stream",
     "text": [
      "Epoch metrics: {'accuracy': 0.603759765625, 'crossentropy': 1.8048731945455074}\n"
     ]
    },
    {
     "data": {
      "application/vnd.jupyter.widget-view+json": {
       "model_id": "",
       "version_major": 2,
       "version_minor": 0
      },
      "text/plain": [
       "[1/16]   6%|6          [00:00<?]"
      ]
     },
     "metadata": {},
     "output_type": "display_data"
    },
    {
     "data": {
      "application/vnd.jupyter.widget-view+json": {
       "model_id": "",
       "version_major": 2,
       "version_minor": 0
      },
      "text/plain": [
       "[1/32]   3%|3          [00:00<?]"
      ]
     },
     "metadata": {},
     "output_type": "display_data"
    },
    {
     "name": "stdout",
     "output_type": "stream",
     "text": [
      "Epoch metrics: {'accuracy': 0.679931640625, 'crossentropy': 1.5223335921764374}\n"
     ]
    },
    {
     "data": {
      "application/vnd.jupyter.widget-view+json": {
       "model_id": "",
       "version_major": 2,
       "version_minor": 0
      },
      "text/plain": [
       "[1/16]   6%|6          [00:00<?]"
      ]
     },
     "metadata": {},
     "output_type": "display_data"
    },
    {
     "data": {
      "application/vnd.jupyter.widget-view+json": {
       "model_id": "",
       "version_major": 2,
       "version_minor": 0
      },
      "text/plain": [
       "[1/32]   3%|3          [00:00<?]"
      ]
     },
     "metadata": {},
     "output_type": "display_data"
    },
    {
     "name": "stdout",
     "output_type": "stream",
     "text": [
      "Epoch metrics: {'accuracy': 0.679443359375, 'crossentropy': 1.623240053653717}\n",
      "RestoringEarlyStopping: 1 / 20\n"
     ]
    },
    {
     "data": {
      "application/vnd.jupyter.widget-view+json": {
       "model_id": "",
       "version_major": 2,
       "version_minor": 0
      },
      "text/plain": [
       "[1/16]   6%|6          [00:00<?]"
      ]
     },
     "metadata": {},
     "output_type": "display_data"
    },
    {
     "data": {
      "application/vnd.jupyter.widget-view+json": {
       "model_id": "",
       "version_major": 2,
       "version_minor": 0
      },
      "text/plain": [
       "[1/32]   3%|3          [00:00<?]"
      ]
     },
     "metadata": {},
     "output_type": "display_data"
    },
    {
     "name": "stdout",
     "output_type": "stream",
     "text": [
      "Epoch metrics: {'accuracy': 0.690673828125, 'crossentropy': 1.8084253370761871}\n"
     ]
    },
    {
     "data": {
      "application/vnd.jupyter.widget-view+json": {
       "model_id": "",
       "version_major": 2,
       "version_minor": 0
      },
      "text/plain": [
       "[1/16]   6%|6          [00:00<?]"
      ]
     },
     "metadata": {},
     "output_type": "display_data"
    },
    {
     "data": {
      "application/vnd.jupyter.widget-view+json": {
       "model_id": "",
       "version_major": 2,
       "version_minor": 0
      },
      "text/plain": [
       "[1/32]   3%|3          [00:00<?]"
      ]
     },
     "metadata": {},
     "output_type": "display_data"
    },
    {
     "name": "stdout",
     "output_type": "stream",
     "text": [
      "Epoch metrics: {'accuracy': 0.685302734375, 'crossentropy': 1.965613130480051}\n",
      "RestoringEarlyStopping: 1 / 20\n",
      "RestoringEarlyStopping: Restoring best parameters. (Score: 0.690673828125)\n",
      "RestoringEarlyStopping: Restoring optimizer.\n"
     ]
    },
    {
     "data": {
      "application/vnd.jupyter.widget-view+json": {
       "model_id": "",
       "version_major": 2,
       "version_minor": 0
      },
      "text/plain": [
       "get_predictions_labels:   0%|          | 0/200000 [00:00<?, ?it/s]"
      ]
     },
     "metadata": {},
     "output_type": "display_data"
    },
    {
     "name": "stdout",
     "output_type": "stream",
     "text": [
      "Perf after training {'accuracy': 0.696, 'crossentropy': tensor(0.9803)}\n"
     ]
    },
    {
     "data": {
      "application/vnd.jupyter.widget-view+json": {
       "model_id": "",
       "version_major": 2,
       "version_minor": 0
      },
      "text/plain": [
       "get_predictions_labels:   0%|          | 0/111568 [00:00<?, ?it/s]"
      ]
     },
     "metadata": {},
     "output_type": "display_data"
    },
    {
     "data": {
      "application/vnd.jupyter.widget-view+json": {
       "model_id": "",
       "version_major": 2,
       "version_minor": 0
      },
      "text/plain": [
       "Conditional Entropy:   0%|          | 0/55784 [00:00<?, ?it/s]"
      ]
     },
     "metadata": {},
     "output_type": "display_data"
    },
    {
     "data": {
      "application/vnd.jupyter.widget-view+json": {
       "model_id": "",
       "version_major": 2,
       "version_minor": 0
      },
      "text/plain": [
       "Entropy:   0%|          | 0/55784 [00:00<?, ?it/s]"
      ]
     },
     "metadata": {},
     "output_type": "display_data"
    },
    {
     "name": "stdout",
     "output_type": "stream",
     "text": [
      "CandidateBatch(scores=[0.6911463737487793, 0.6911274120211601, 0.6905933320522308, 0.6904804110527039, 0.6904016882181168, 0.6902305968105793, 0.6902124583721161, 0.6899457620456815, 0.6899281330406666, 0.6897666100412607], indices=[14719, 272, 7182, 27445, 43809, 7177, 11858, 45104, 22187, 36008])\n",
      "[('id', 14750), ('id', 274), ('id', 7199), ('id', 27510), ('id', 43904), ('id', 7194), ('id', 11885), ('id', 45202), ('id', 22235), ('id', 36091)]\n",
      "Acquiring (label, score)s: 1 (0.6911), 0 (0.6911), 8 (0.6906), 7 (0.6905), 7 (0.6904), 9 (0.6902), 2 (0.6902), 7 (0.6899), 1 (0.6899), 9 (0.6898)\n",
      "Training set size 30:\n"
     ]
    },
    {
     "data": {
      "application/vnd.jupyter.widget-view+json": {
       "model_id": "282d38b8db7e4ded9146608f36b3dd30",
       "version_major": 2,
       "version_minor": 0
      },
      "text/plain": [
       " 20%|##        | 1/5 [00:00<?, ?it/s]"
      ]
     },
     "metadata": {},
     "output_type": "display_data"
    },
    {
     "data": {
      "application/vnd.jupyter.widget-view+json": {
       "model_id": "",
       "version_major": 2,
       "version_minor": 0
      },
      "text/plain": [
       "[1/16]   6%|6          [00:00<?]"
      ]
     },
     "metadata": {},
     "output_type": "display_data"
    },
    {
     "data": {
      "application/vnd.jupyter.widget-view+json": {
       "model_id": "",
       "version_major": 2,
       "version_minor": 0
      },
      "text/plain": [
       "[1/32]   3%|3          [00:00<?]"
      ]
     },
     "metadata": {},
     "output_type": "display_data"
    },
    {
     "name": "stdout",
     "output_type": "stream",
     "text": [
      "Epoch metrics: {'accuracy': 0.45263671875, 'crossentropy': 1.9057771041989326}\n"
     ]
    },
    {
     "data": {
      "application/vnd.jupyter.widget-view+json": {
       "model_id": "",
       "version_major": 2,
       "version_minor": 0
      },
      "text/plain": [
       "[1/16]   6%|6          [00:00<?]"
      ]
     },
     "metadata": {},
     "output_type": "display_data"
    },
    {
     "data": {
      "application/vnd.jupyter.widget-view+json": {
       "model_id": "",
       "version_major": 2,
       "version_minor": 0
      },
      "text/plain": [
       "[1/32]   3%|3          [00:00<?]"
      ]
     },
     "metadata": {},
     "output_type": "display_data"
    },
    {
     "name": "stdout",
     "output_type": "stream",
     "text": [
      "Epoch metrics: {'accuracy': 0.709716796875, 'crossentropy': 1.3960129246115685}\n"
     ]
    },
    {
     "data": {
      "application/vnd.jupyter.widget-view+json": {
       "model_id": "",
       "version_major": 2,
       "version_minor": 0
      },
      "text/plain": [
       "[1/16]   6%|6          [00:00<?]"
      ]
     },
     "metadata": {},
     "output_type": "display_data"
    },
    {
     "data": {
      "application/vnd.jupyter.widget-view+json": {
       "model_id": "",
       "version_major": 2,
       "version_minor": 0
      },
      "text/plain": [
       "[1/32]   3%|3          [00:00<?]"
      ]
     },
     "metadata": {},
     "output_type": "display_data"
    },
    {
     "name": "stdout",
     "output_type": "stream",
     "text": [
      "Epoch metrics: {'accuracy': 0.74609375, 'crossentropy': 1.32473498955369}\n"
     ]
    },
    {
     "data": {
      "application/vnd.jupyter.widget-view+json": {
       "model_id": "",
       "version_major": 2,
       "version_minor": 0
      },
      "text/plain": [
       "[1/16]   6%|6          [00:00<?]"
      ]
     },
     "metadata": {},
     "output_type": "display_data"
    },
    {
     "data": {
      "application/vnd.jupyter.widget-view+json": {
       "model_id": "",
       "version_major": 2,
       "version_minor": 0
      },
      "text/plain": [
       "[1/32]   3%|3          [00:00<?]"
      ]
     },
     "metadata": {},
     "output_type": "display_data"
    },
    {
     "name": "stdout",
     "output_type": "stream",
     "text": [
      "Epoch metrics: {'accuracy': 0.7431640625, 'crossentropy': 1.4398422054946423}\n",
      "RestoringEarlyStopping: 1 / 20\n"
     ]
    },
    {
     "data": {
      "application/vnd.jupyter.widget-view+json": {
       "model_id": "",
       "version_major": 2,
       "version_minor": 0
      },
      "text/plain": [
       "[1/16]   6%|6          [00:00<?]"
      ]
     },
     "metadata": {},
     "output_type": "display_data"
    },
    {
     "data": {
      "application/vnd.jupyter.widget-view+json": {
       "model_id": "",
       "version_major": 2,
       "version_minor": 0
      },
      "text/plain": [
       "[1/32]   3%|3          [00:00<?]"
      ]
     },
     "metadata": {},
     "output_type": "display_data"
    },
    {
     "name": "stdout",
     "output_type": "stream",
     "text": [
      "Epoch metrics: {'accuracy': 0.7548828125, 'crossentropy': 1.4579520002007484}\n",
      "RestoringEarlyStopping: Restoring best parameters. (Score: 0.7548828125)\n",
      "RestoringEarlyStopping: Restoring optimizer.\n"
     ]
    },
    {
     "data": {
      "application/vnd.jupyter.widget-view+json": {
       "model_id": "",
       "version_major": 2,
       "version_minor": 0
      },
      "text/plain": [
       "get_predictions_labels:   0%|          | 0/200000 [00:00<?, ?it/s]"
      ]
     },
     "metadata": {},
     "output_type": "display_data"
    },
    {
     "name": "stdout",
     "output_type": "stream",
     "text": [
      "Perf after training {'accuracy': 0.751, 'crossentropy': tensor(0.8279)}\n",
      "Done.\n"
     ]
    },
    {
     "data": {
      "text/plain": [
       "{'dataset_info': {'training': \"'MNIST (Train, seed=0, 55904 samples)'\",\n",
       "  'test': \"'MNIST (Test)'\"},\n",
       " 'initial_training_set_indices': [47227,\n",
       "  11511,\n",
       "  18383,\n",
       "  41080,\n",
       "  32837,\n",
       "  24393,\n",
       "  23904,\n",
       "  11784,\n",
       "  20439,\n",
       "  35043,\n",
       "  27367,\n",
       "  30426,\n",
       "  32361,\n",
       "  26116,\n",
       "  24386,\n",
       "  4689,\n",
       "  44895,\n",
       "  24211,\n",
       "  17212,\n",
       "  3478],\n",
       " 'evaluation_set_indices': [49,\n",
       "  12425,\n",
       "  22159,\n",
       "  22739,\n",
       "  701,\n",
       "  11289,\n",
       "  4629,\n",
       "  53972,\n",
       "  52127,\n",
       "  6277,\n",
       "  18804,\n",
       "  25364,\n",
       "  18841,\n",
       "  12957,\n",
       "  10232,\n",
       "  42477,\n",
       "  35057,\n",
       "  43089,\n",
       "  48907,\n",
       "  15149,\n",
       "  24587,\n",
       "  52160,\n",
       "  19050,\n",
       "  30188,\n",
       "  50376,\n",
       "  17140,\n",
       "  26654,\n",
       "  28683,\n",
       "  36031,\n",
       "  32477,\n",
       "  32792,\n",
       "  52660,\n",
       "  52712,\n",
       "  49702,\n",
       "  40661,\n",
       "  10190,\n",
       "  18143,\n",
       "  16617,\n",
       "  54012,\n",
       "  38376,\n",
       "  1924,\n",
       "  39518,\n",
       "  1625,\n",
       "  7896,\n",
       "  1701,\n",
       "  28972,\n",
       "  3717,\n",
       "  42815,\n",
       "  6274,\n",
       "  44154,\n",
       "  44312,\n",
       "  10944,\n",
       "  14937,\n",
       "  6358,\n",
       "  1182,\n",
       "  55213,\n",
       "  9292,\n",
       "  33572,\n",
       "  13252,\n",
       "  30667,\n",
       "  31242,\n",
       "  51852,\n",
       "  33800,\n",
       "  42491,\n",
       "  31258,\n",
       "  42348,\n",
       "  42109,\n",
       "  47515,\n",
       "  1844,\n",
       "  9314,\n",
       "  18329,\n",
       "  15263,\n",
       "  52934,\n",
       "  25225,\n",
       "  25735,\n",
       "  13117,\n",
       "  23192,\n",
       "  17351,\n",
       "  23132,\n",
       "  26475,\n",
       "  51941,\n",
       "  40334,\n",
       "  46024,\n",
       "  46042,\n",
       "  28571,\n",
       "  53385,\n",
       "  11382,\n",
       "  53290,\n",
       "  31958,\n",
       "  3733,\n",
       "  4076,\n",
       "  16680,\n",
       "  51381,\n",
       "  39998,\n",
       "  23778,\n",
       "  54301,\n",
       "  49814,\n",
       "  172,\n",
       "  27228,\n",
       "  16975],\n",
       " 'seed': 3576085144693815017,\n",
       " 'active_learning_steps': [{'training': {'epochs': [{'accuracy': 0.603759765625,\n",
       "      'crossentropy': 1.8048731945455074},\n",
       "     {'accuracy': 0.679931640625, 'crossentropy': 1.5223335921764374},\n",
       "     {'accuracy': 0.679443359375, 'crossentropy': 1.623240053653717},\n",
       "     {'accuracy': 0.690673828125, 'crossentropy': 1.8084253370761871},\n",
       "     {'accuracy': 0.685302734375, 'crossentropy': 1.965613130480051}],\n",
       "    'best_epoch': 4},\n",
       "   'evaluation_metrics': {'accuracy': 0.696, 'crossentropy': tensor(0.9803)},\n",
       "   'acquisition': {'indices': [('id', 14750),\n",
       "     ('id', 274),\n",
       "     ('id', 7199),\n",
       "     ('id', 27510),\n",
       "     ('id', 43904),\n",
       "     ('id', 7194),\n",
       "     ('id', 11885),\n",
       "     ('id', 45202),\n",
       "     ('id', 22235),\n",
       "     ('id', 36091)],\n",
       "    'labels': [1, 0, 8, 7, 7, 9, 2, 7, 1, 9],\n",
       "    'scores': [0.6911463737487793,\n",
       "     0.6911274120211601,\n",
       "     0.6905933320522308,\n",
       "     0.6904804110527039,\n",
       "     0.6904016882181168,\n",
       "     0.6902305968105793,\n",
       "     0.6902124583721161,\n",
       "     0.6899457620456815,\n",
       "     0.6899281330406666,\n",
       "     0.6897666100412607]}},\n",
       "  {'training': {'epochs': [{'accuracy': 0.45263671875,\n",
       "      'crossentropy': 1.9057771041989326},\n",
       "     {'accuracy': 0.709716796875, 'crossentropy': 1.3960129246115685},\n",
       "     {'accuracy': 0.74609375, 'crossentropy': 1.32473498955369},\n",
       "     {'accuracy': 0.7431640625, 'crossentropy': 1.4398422054946423},\n",
       "     {'accuracy': 0.7548828125, 'crossentropy': 1.4579520002007484}],\n",
       "    'best_epoch': 5},\n",
       "   'evaluation_metrics': {'accuracy': 0.751, 'crossentropy': tensor(0.8279)}}]}"
      ]
     },
     "execution_count": null,
     "metadata": {},
     "output_type": "execute_result"
    }
   ],
   "source": [
    "# experiment\n",
    "# MNIST experiment (ood_exposure=False)\n",
    "\n",
    "experiment = UnifiedExperiment(\n",
    "    experiment_data_config=StandardExperimentDataConfig(\n",
    "        id_dataset_name=\"MNIST\",\n",
    "        id_repetitions=1,\n",
    "        initial_training_set_size=20,\n",
    "        validation_set_size=4096,\n",
    "        validation_split_random_state=0,\n",
    "        evaluation_set_size=100,\n",
    "        add_dataset_noise=False,\n",
    "        ood_dataset_config=None,\n",
    "    ),\n",
    "    seed=1,\n",
    "    max_training_epochs=5,\n",
    "    max_training_set=20 + 10,\n",
    "    acquisition_function=acquisition_functions.BALD,\n",
    "    acquisition_size=10,\n",
    "    model_trainer_factory=MnistModelTrainer,\n",
    "    num_pool_samples=2,\n",
    "    device=\"cuda\",\n",
    ")\n",
    "\n",
    "results = {}\n",
    "experiment.run(results)\n",
    "results"
   ]
  },
  {
   "cell_type": "markdown",
   "metadata": {},
   "source": [
    "## MNIST only + BADGE"
   ]
  },
  {
   "cell_type": "code",
   "execution_count": null,
   "metadata": {
    "tags": []
   },
   "outputs": [
    {
     "name": "stdout",
     "output_type": "stream",
     "text": [
      "Creating: BADGE(\n",
      "\tacquisition_size=10\n",
      ")\n",
      "Creating: MnistModelTrainer(\n",
      "\tdevice=cuda,\n",
      "\tnum_training_samples=1,\n",
      "\tnum_validation_samples=20,\n",
      "\tmax_training_epochs=5\n",
      ")\n",
      "Creating: TrainSelfDistillationEvalModel(\n",
      "\tnum_pool_samples=2\n",
      ")\n",
      "Training set size 20:\n"
     ]
    },
    {
     "name": "stderr",
     "output_type": "stream",
     "text": [
      "/home/blackhc/anaconda3/envs/active_learning/lib/python3.8/site-packages/sklearn/utils/__init__.py:1102: DeprecationWarning: `np.int` is a deprecated alias for the builtin `int`. To silence this warning, use `int` by itself. Doing this will not modify any behavior and is safe. When replacing `np.int`, you may wish to use e.g. `np.int64` or `np.int32` to specify the precision. If you wish to review your current use, check the release note link for additional information.\n",
      "Deprecated in NumPy 1.20; for more details and guidance: https://numpy.org/devdocs/release/1.20.0-notes.html#deprecations\n",
      "  return floored.astype(np.int)\n",
      "/home/blackhc/anaconda3/envs/active_learning/lib/python3.8/site-packages/sklearn/utils/__init__.py:1102: DeprecationWarning: `np.int` is a deprecated alias for the builtin `int`. To silence this warning, use `int` by itself. Doing this will not modify any behavior and is safe. When replacing `np.int`, you may wish to use e.g. `np.int64` or `np.int32` to specify the precision. If you wish to review your current use, check the release note link for additional information.\n",
      "Deprecated in NumPy 1.20; for more details and guidance: https://numpy.org/devdocs/release/1.20.0-notes.html#deprecations\n",
      "  return floored.astype(np.int)\n"
     ]
    },
    {
     "data": {
      "application/vnd.jupyter.widget-view+json": {
       "model_id": "cc1d675bddf04646ba65c98c3ee49b48",
       "version_major": 2,
       "version_minor": 0
      },
      "text/plain": [
       " 20%|##        | 1/5 [00:00<?, ?it/s]"
      ]
     },
     "metadata": {},
     "output_type": "display_data"
    },
    {
     "data": {
      "application/vnd.jupyter.widget-view+json": {
       "model_id": "",
       "version_major": 2,
       "version_minor": 0
      },
      "text/plain": [
       "[1/16]   6%|6          [00:00<?]"
      ]
     },
     "metadata": {},
     "output_type": "display_data"
    },
    {
     "data": {
      "application/vnd.jupyter.widget-view+json": {
       "model_id": "",
       "version_major": 2,
       "version_minor": 0
      },
      "text/plain": [
       "[1/32]   3%|3          [00:00<?]"
      ]
     },
     "metadata": {},
     "output_type": "display_data"
    },
    {
     "name": "stdout",
     "output_type": "stream",
     "text": [
      "Epoch metrics: {'accuracy': 0.512451171875, 'crossentropy': 1.9132713787257671}\n"
     ]
    },
    {
     "data": {
      "application/vnd.jupyter.widget-view+json": {
       "model_id": "",
       "version_major": 2,
       "version_minor": 0
      },
      "text/plain": [
       "[1/16]   6%|6          [00:00<?]"
      ]
     },
     "metadata": {},
     "output_type": "display_data"
    },
    {
     "data": {
      "application/vnd.jupyter.widget-view+json": {
       "model_id": "",
       "version_major": 2,
       "version_minor": 0
      },
      "text/plain": [
       "[1/32]   3%|3          [00:00<?]"
      ]
     },
     "metadata": {},
     "output_type": "display_data"
    },
    {
     "name": "stdout",
     "output_type": "stream",
     "text": [
      "Epoch metrics: {'accuracy': 0.63818359375, 'crossentropy': 1.6632042974233627}\n"
     ]
    },
    {
     "data": {
      "application/vnd.jupyter.widget-view+json": {
       "model_id": "",
       "version_major": 2,
       "version_minor": 0
      },
      "text/plain": [
       "[1/16]   6%|6          [00:00<?]"
      ]
     },
     "metadata": {},
     "output_type": "display_data"
    },
    {
     "data": {
      "application/vnd.jupyter.widget-view+json": {
       "model_id": "",
       "version_major": 2,
       "version_minor": 0
      },
      "text/plain": [
       "[1/32]   3%|3          [00:00<?]"
      ]
     },
     "metadata": {},
     "output_type": "display_data"
    },
    {
     "name": "stdout",
     "output_type": "stream",
     "text": [
      "Epoch metrics: {'accuracy': 0.68994140625, 'crossentropy': 1.746895831078291}\n"
     ]
    },
    {
     "data": {
      "application/vnd.jupyter.widget-view+json": {
       "model_id": "",
       "version_major": 2,
       "version_minor": 0
      },
      "text/plain": [
       "[1/16]   6%|6          [00:00<?]"
      ]
     },
     "metadata": {},
     "output_type": "display_data"
    },
    {
     "data": {
      "application/vnd.jupyter.widget-view+json": {
       "model_id": "",
       "version_major": 2,
       "version_minor": 0
      },
      "text/plain": [
       "[1/32]   3%|3          [00:00<?]"
      ]
     },
     "metadata": {},
     "output_type": "display_data"
    },
    {
     "name": "stdout",
     "output_type": "stream",
     "text": [
      "Epoch metrics: {'accuracy': 0.66845703125, 'crossentropy': 2.059821903705597}\n",
      "RestoringEarlyStopping: 1 / 20\n"
     ]
    },
    {
     "data": {
      "application/vnd.jupyter.widget-view+json": {
       "model_id": "",
       "version_major": 2,
       "version_minor": 0
      },
      "text/plain": [
       "[1/16]   6%|6          [00:00<?]"
      ]
     },
     "metadata": {},
     "output_type": "display_data"
    },
    {
     "data": {
      "application/vnd.jupyter.widget-view+json": {
       "model_id": "",
       "version_major": 2,
       "version_minor": 0
      },
      "text/plain": [
       "[1/32]   3%|3          [00:00<?]"
      ]
     },
     "metadata": {},
     "output_type": "display_data"
    },
    {
     "name": "stdout",
     "output_type": "stream",
     "text": [
      "Epoch metrics: {'accuracy': 0.677001953125, 'crossentropy': 2.216190990060568}\n",
      "RestoringEarlyStopping: 2 / 20\n",
      "RestoringEarlyStopping: Restoring best parameters. (Score: 0.68994140625)\n",
      "RestoringEarlyStopping: Restoring optimizer.\n"
     ]
    },
    {
     "data": {
      "application/vnd.jupyter.widget-view+json": {
       "model_id": "",
       "version_major": 2,
       "version_minor": 0
      },
      "text/plain": [
       "get_predictions_labels:   0%|          | 0/200000 [00:00<?, ?it/s]"
      ]
     },
     "metadata": {},
     "output_type": "display_data"
    },
    {
     "name": "stdout",
     "output_type": "stream",
     "text": [
      "Perf after training {'accuracy': 0.6936, 'crossentropy': tensor(0.9935)}\n"
     ]
    },
    {
     "data": {
      "application/vnd.jupyter.widget-view+json": {
       "model_id": "",
       "version_major": 2,
       "version_minor": 0
      },
      "text/plain": [
       "get_grad_embeddings:   0%|          | 0/55784 [00:00<?, ?it/s]"
      ]
     },
     "metadata": {},
     "output_type": "display_data"
    },
    {
     "name": "stdout",
     "output_type": "stream",
     "text": [
      "#Samps\tTotal Distance\n",
      "1\t5031186.862045288\n",
      "2\t4363374.027002335\n",
      "3\t3427368.4897241592\n",
      "4\t3124580.681898117\n",
      "5\t3120869.71295166\n",
      "6\t3018759.9706284828\n",
      "7\t2842746.541076125\n",
      "8\t2612532.148223342\n",
      "9\t2498573.2148422613\n",
      "CandidateBatch(scores=[0.0, 0.0, 0.0, 0.0, 0.0, 0.0, 0.0, 0.0, 0.0, 0.0], indices=[115, 1318, 9981, 10663, 12903, 54210, 36623, 25029, 31107, 24184])\n",
      "[('id', 116), ('id', 1322), ('id', 10001), ('id', 10685), ('id', 12931), ('id', 54329), ('id', 36706), ('id', 25086), ('id', 31178), ('id', 24238)]\n",
      "Acquiring (label, score)s: 0 (0.0), 2 (0.0), 9 (0.0), 9 (0.0), 0 (0.0), 2 (0.0), 9 (0.0), 2 (0.0), 5 (0.0), 3 (0.0)\n",
      "Training set size 30:\n"
     ]
    },
    {
     "data": {
      "application/vnd.jupyter.widget-view+json": {
       "model_id": "635150723a3245db866332e75f05e669",
       "version_major": 2,
       "version_minor": 0
      },
      "text/plain": [
       " 20%|##        | 1/5 [00:00<?, ?it/s]"
      ]
     },
     "metadata": {},
     "output_type": "display_data"
    },
    {
     "data": {
      "application/vnd.jupyter.widget-view+json": {
       "model_id": "",
       "version_major": 2,
       "version_minor": 0
      },
      "text/plain": [
       "[1/16]   6%|6          [00:00<?]"
      ]
     },
     "metadata": {},
     "output_type": "display_data"
    },
    {
     "data": {
      "application/vnd.jupyter.widget-view+json": {
       "model_id": "",
       "version_major": 2,
       "version_minor": 0
      },
      "text/plain": [
       "[1/32]   3%|3          [00:00<?]"
      ]
     },
     "metadata": {},
     "output_type": "display_data"
    },
    {
     "name": "stdout",
     "output_type": "stream",
     "text": [
      "Epoch metrics: {'accuracy': 0.296630859375, 'crossentropy': 2.080603674054146}\n"
     ]
    },
    {
     "data": {
      "application/vnd.jupyter.widget-view+json": {
       "model_id": "",
       "version_major": 2,
       "version_minor": 0
      },
      "text/plain": [
       "[1/16]   6%|6          [00:00<?]"
      ]
     },
     "metadata": {},
     "output_type": "display_data"
    },
    {
     "data": {
      "application/vnd.jupyter.widget-view+json": {
       "model_id": "",
       "version_major": 2,
       "version_minor": 0
      },
      "text/plain": [
       "[1/32]   3%|3          [00:00<?]"
      ]
     },
     "metadata": {},
     "output_type": "display_data"
    },
    {
     "name": "stdout",
     "output_type": "stream",
     "text": [
      "Epoch metrics: {'accuracy': 0.596923828125, 'crossentropy': 1.576156985014677}\n"
     ]
    },
    {
     "data": {
      "application/vnd.jupyter.widget-view+json": {
       "model_id": "",
       "version_major": 2,
       "version_minor": 0
      },
      "text/plain": [
       "[1/16]   6%|6          [00:00<?]"
      ]
     },
     "metadata": {},
     "output_type": "display_data"
    },
    {
     "data": {
      "application/vnd.jupyter.widget-view+json": {
       "model_id": "",
       "version_major": 2,
       "version_minor": 0
      },
      "text/plain": [
       "[1/32]   3%|3          [00:00<?]"
      ]
     },
     "metadata": {},
     "output_type": "display_data"
    },
    {
     "name": "stdout",
     "output_type": "stream",
     "text": [
      "Epoch metrics: {'accuracy': 0.69287109375, 'crossentropy': 1.5450268387794495}\n"
     ]
    },
    {
     "data": {
      "application/vnd.jupyter.widget-view+json": {
       "model_id": "",
       "version_major": 2,
       "version_minor": 0
      },
      "text/plain": [
       "[1/16]   6%|6          [00:00<?]"
      ]
     },
     "metadata": {},
     "output_type": "display_data"
    },
    {
     "data": {
      "application/vnd.jupyter.widget-view+json": {
       "model_id": "",
       "version_major": 2,
       "version_minor": 0
      },
      "text/plain": [
       "[1/32]   3%|3          [00:00<?]"
      ]
     },
     "metadata": {},
     "output_type": "display_data"
    },
    {
     "name": "stdout",
     "output_type": "stream",
     "text": [
      "Epoch metrics: {'accuracy': 0.715576171875, 'crossentropy': 1.5268513858318329}\n"
     ]
    },
    {
     "data": {
      "application/vnd.jupyter.widget-view+json": {
       "model_id": "",
       "version_major": 2,
       "version_minor": 0
      },
      "text/plain": [
       "[1/16]   6%|6          [00:00<?]"
      ]
     },
     "metadata": {},
     "output_type": "display_data"
    },
    {
     "data": {
      "application/vnd.jupyter.widget-view+json": {
       "model_id": "",
       "version_major": 2,
       "version_minor": 0
      },
      "text/plain": [
       "[1/32]   3%|3          [00:00<?]"
      ]
     },
     "metadata": {},
     "output_type": "display_data"
    },
    {
     "name": "stdout",
     "output_type": "stream",
     "text": [
      "Epoch metrics: {'accuracy': 0.69384765625, 'crossentropy': 1.828642327338457}\n",
      "RestoringEarlyStopping: 1 / 20\n",
      "RestoringEarlyStopping: Restoring best parameters. (Score: 0.715576171875)\n",
      "RestoringEarlyStopping: Restoring optimizer.\n"
     ]
    },
    {
     "data": {
      "application/vnd.jupyter.widget-view+json": {
       "model_id": "",
       "version_major": 2,
       "version_minor": 0
      },
      "text/plain": [
       "get_predictions_labels:   0%|          | 0/200000 [00:00<?, ?it/s]"
      ]
     },
     "metadata": {},
     "output_type": "display_data"
    },
    {
     "name": "stdout",
     "output_type": "stream",
     "text": [
      "Perf after training {'accuracy': 0.7307, 'crossentropy': tensor(0.8910)}\n",
      "Done.\n"
     ]
    },
    {
     "data": {
      "text/plain": [
       "{'dataset_info': {'training': \"'MNIST (Train, seed=0, 55904 samples)'\",\n",
       "  'test': \"'MNIST (Test)'\"},\n",
       " 'initial_training_set_indices': [47227,\n",
       "  11511,\n",
       "  18383,\n",
       "  41080,\n",
       "  32837,\n",
       "  24393,\n",
       "  23904,\n",
       "  11784,\n",
       "  20439,\n",
       "  35043,\n",
       "  27367,\n",
       "  30426,\n",
       "  32361,\n",
       "  26116,\n",
       "  24386,\n",
       "  4689,\n",
       "  44895,\n",
       "  24211,\n",
       "  17212,\n",
       "  3478],\n",
       " 'evaluation_set_indices': [49,\n",
       "  12425,\n",
       "  22159,\n",
       "  22739,\n",
       "  701,\n",
       "  11289,\n",
       "  4629,\n",
       "  53972,\n",
       "  52127,\n",
       "  6277,\n",
       "  18804,\n",
       "  25364,\n",
       "  18841,\n",
       "  12957,\n",
       "  10232,\n",
       "  42477,\n",
       "  35057,\n",
       "  43089,\n",
       "  48907,\n",
       "  15149,\n",
       "  24587,\n",
       "  52160,\n",
       "  19050,\n",
       "  30188,\n",
       "  50376,\n",
       "  17140,\n",
       "  26654,\n",
       "  28683,\n",
       "  36031,\n",
       "  32477,\n",
       "  32792,\n",
       "  52660,\n",
       "  52712,\n",
       "  49702,\n",
       "  40661,\n",
       "  10190,\n",
       "  18143,\n",
       "  16617,\n",
       "  54012,\n",
       "  38376,\n",
       "  1924,\n",
       "  39518,\n",
       "  1625,\n",
       "  7896,\n",
       "  1701,\n",
       "  28972,\n",
       "  3717,\n",
       "  42815,\n",
       "  6274,\n",
       "  44154,\n",
       "  44312,\n",
       "  10944,\n",
       "  14937,\n",
       "  6358,\n",
       "  1182,\n",
       "  55213,\n",
       "  9292,\n",
       "  33572,\n",
       "  13252,\n",
       "  30667,\n",
       "  31242,\n",
       "  51852,\n",
       "  33800,\n",
       "  42491,\n",
       "  31258,\n",
       "  42348,\n",
       "  42109,\n",
       "  47515,\n",
       "  1844,\n",
       "  9314,\n",
       "  18329,\n",
       "  15263,\n",
       "  52934,\n",
       "  25225,\n",
       "  25735,\n",
       "  13117,\n",
       "  23192,\n",
       "  17351,\n",
       "  23132,\n",
       "  26475,\n",
       "  51941,\n",
       "  40334,\n",
       "  46024,\n",
       "  46042,\n",
       "  28571,\n",
       "  53385,\n",
       "  11382,\n",
       "  53290,\n",
       "  31958,\n",
       "  3733,\n",
       "  4076,\n",
       "  16680,\n",
       "  51381,\n",
       "  39998,\n",
       "  23778,\n",
       "  54301,\n",
       "  49814,\n",
       "  172,\n",
       "  27228,\n",
       "  16975],\n",
       " 'seed': 4331767114998916037,\n",
       " 'active_learning_steps': [{'training': {'epochs': [{'accuracy': 0.512451171875,\n",
       "      'crossentropy': 1.9132713787257671},\n",
       "     {'accuracy': 0.63818359375, 'crossentropy': 1.6632042974233627},\n",
       "     {'accuracy': 0.68994140625, 'crossentropy': 1.746895831078291},\n",
       "     {'accuracy': 0.66845703125, 'crossentropy': 2.059821903705597},\n",
       "     {'accuracy': 0.677001953125, 'crossentropy': 2.216190990060568}],\n",
       "    'best_epoch': 3},\n",
       "   'evaluation_metrics': {'accuracy': 0.6936, 'crossentropy': tensor(0.9935)},\n",
       "   'acquisition': {'indices': [('id', 116),\n",
       "     ('id', 1322),\n",
       "     ('id', 10001),\n",
       "     ('id', 10685),\n",
       "     ('id', 12931),\n",
       "     ('id', 54329),\n",
       "     ('id', 36706),\n",
       "     ('id', 25086),\n",
       "     ('id', 31178),\n",
       "     ('id', 24238)],\n",
       "    'labels': [0, 2, 9, 9, 0, 2, 9, 2, 5, 3],\n",
       "    'scores': [0.0, 0.0, 0.0, 0.0, 0.0, 0.0, 0.0, 0.0, 0.0, 0.0]}},\n",
       "  {'training': {'epochs': [{'accuracy': 0.296630859375,\n",
       "      'crossentropy': 2.080603674054146},\n",
       "     {'accuracy': 0.596923828125, 'crossentropy': 1.576156985014677},\n",
       "     {'accuracy': 0.69287109375, 'crossentropy': 1.5450268387794495},\n",
       "     {'accuracy': 0.715576171875, 'crossentropy': 1.5268513858318329},\n",
       "     {'accuracy': 0.69384765625, 'crossentropy': 1.828642327338457}],\n",
       "    'best_epoch': 4},\n",
       "   'evaluation_metrics': {'accuracy': 0.7307,\n",
       "    'crossentropy': tensor(0.8910)}}]}"
      ]
     },
     "execution_count": null,
     "metadata": {},
     "output_type": "execute_result"
    }
   ],
   "source": [
    "# experiment\n",
    "# MNIST experiment (ood_exposure=False)\n",
    "\n",
    "experiment = UnifiedExperiment(\n",
    "    experiment_data_config=StandardExperimentDataConfig(\n",
    "        id_dataset_name=\"MNIST\",\n",
    "        id_repetitions=1,\n",
    "        initial_training_set_size=20,\n",
    "        validation_set_size=4096,\n",
    "        validation_split_random_state=0,\n",
    "        evaluation_set_size=100,\n",
    "        add_dataset_noise=False,\n",
    "        ood_dataset_config=None,\n",
    "    ),\n",
    "    seed=1,\n",
    "    max_training_epochs=5,\n",
    "    max_training_set=20 + 10,\n",
    "    acquisition_function=baseline_acquisition_functions.BADGE,\n",
    "    acquisition_size=10,\n",
    "    model_trainer_factory=MnistModelTrainer,\n",
    "    num_pool_samples=2,\n",
    "    device=\"cuda\",\n",
    ")\n",
    "\n",
    "results = {}\n",
    "experiment.run(results)\n",
    "results"
   ]
  },
  {
   "cell_type": "markdown",
   "metadata": {},
   "source": [
    "## MNIST only + (naive) EPIG"
   ]
  },
  {
   "cell_type": "code",
   "execution_count": null,
   "metadata": {
    "tags": []
   },
   "outputs": [
    {
     "name": "stdout",
     "output_type": "stream",
     "text": [
      "StandardExperimentDataConfig(id_dataset_name='MNIST', id_repetitions=1, initial_training_set_size=20, validation_set_size=4096, validation_split_random_state=0, evaluation_set_size=0, add_dataset_noise=False, ood_dataset_config=None)\n",
      "Creating: EPIG(\n",
      "\tacquisition_size=10,\n",
      "\tnum_pool_samples=100,\n",
      "\tepig_bootstrap_type=BootstrapType.NO_BOOTSTRAP,\n",
      "\tepig_bootstrap_factor=1.0,\n",
      "\tepig_dtype=torch.float64\n",
      ")\n",
      "Creating: MnistModelTrainer(\n",
      "\tdevice=cuda,\n",
      "\tnum_training_samples=1,\n",
      "\tnum_validation_samples=20,\n",
      "\tmax_training_epochs=5\n",
      ")\n",
      "Creating: TrainSelfDistillationEvalModel(\n",
      "\tnum_pool_samples=100\n",
      ")\n",
      "Training set size 20:\n"
     ]
    },
    {
     "name": "stderr",
     "output_type": "stream",
     "text": [
      "/home/blackhc/anaconda3/envs/active_learning/lib/python3.8/site-packages/sklearn/utils/__init__.py:1102: DeprecationWarning: `np.int` is a deprecated alias for the builtin `int`. To silence this warning, use `int` by itself. Doing this will not modify any behavior and is safe. When replacing `np.int`, you may wish to use e.g. `np.int64` or `np.int32` to specify the precision. If you wish to review your current use, check the release note link for additional information.\n",
      "Deprecated in NumPy 1.20; for more details and guidance: https://numpy.org/devdocs/release/1.20.0-notes.html#deprecations\n",
      "  return floored.astype(np.int)\n",
      "/home/blackhc/anaconda3/envs/active_learning/lib/python3.8/site-packages/sklearn/utils/__init__.py:1102: DeprecationWarning: `np.int` is a deprecated alias for the builtin `int`. To silence this warning, use `int` by itself. Doing this will not modify any behavior and is safe. When replacing `np.int`, you may wish to use e.g. `np.int64` or `np.int32` to specify the precision. If you wish to review your current use, check the release note link for additional information.\n",
      "Deprecated in NumPy 1.20; for more details and guidance: https://numpy.org/devdocs/release/1.20.0-notes.html#deprecations\n",
      "  return floored.astype(np.int)\n"
     ]
    },
    {
     "data": {
      "application/vnd.jupyter.widget-view+json": {
       "model_id": "b73f60f5babd41c89814e9f6c4342233",
       "version_major": 2,
       "version_minor": 0
      },
      "text/plain": [
       " 20%|##        | 1/5 [00:00<?, ?it/s]"
      ]
     },
     "metadata": {},
     "output_type": "display_data"
    },
    {
     "data": {
      "application/vnd.jupyter.widget-view+json": {
       "model_id": "",
       "version_major": 2,
       "version_minor": 0
      },
      "text/plain": [
       "[1/16]   6%|6          [00:00<?]"
      ]
     },
     "metadata": {},
     "output_type": "display_data"
    },
    {
     "data": {
      "application/vnd.jupyter.widget-view+json": {
       "model_id": "",
       "version_major": 2,
       "version_minor": 0
      },
      "text/plain": [
       "[1/32]   3%|3          [00:00<?]"
      ]
     },
     "metadata": {},
     "output_type": "display_data"
    },
    {
     "name": "stdout",
     "output_type": "stream",
     "text": [
      "Epoch metrics: {'accuracy': 0.52490234375, 'crossentropy': 1.84434649720788}\n"
     ]
    },
    {
     "data": {
      "application/vnd.jupyter.widget-view+json": {
       "model_id": "",
       "version_major": 2,
       "version_minor": 0
      },
      "text/plain": [
       "[1/16]   6%|6          [00:00<?]"
      ]
     },
     "metadata": {},
     "output_type": "display_data"
    },
    {
     "data": {
      "application/vnd.jupyter.widget-view+json": {
       "model_id": "",
       "version_major": 2,
       "version_minor": 0
      },
      "text/plain": [
       "[1/32]   3%|3          [00:00<?]"
      ]
     },
     "metadata": {},
     "output_type": "display_data"
    },
    {
     "name": "stdout",
     "output_type": "stream",
     "text": [
      "Epoch metrics: {'accuracy': 0.702392578125, 'crossentropy': 1.4298735782504082}\n"
     ]
    },
    {
     "data": {
      "application/vnd.jupyter.widget-view+json": {
       "model_id": "",
       "version_major": 2,
       "version_minor": 0
      },
      "text/plain": [
       "[1/16]   6%|6          [00:00<?]"
      ]
     },
     "metadata": {},
     "output_type": "display_data"
    },
    {
     "data": {
      "application/vnd.jupyter.widget-view+json": {
       "model_id": "",
       "version_major": 2,
       "version_minor": 0
      },
      "text/plain": [
       "[1/32]   3%|3          [00:00<?]"
      ]
     },
     "metadata": {},
     "output_type": "display_data"
    },
    {
     "name": "stdout",
     "output_type": "stream",
     "text": [
      "Epoch metrics: {'accuracy': 0.703857421875, 'crossentropy': 1.5751474872231483}\n"
     ]
    },
    {
     "data": {
      "application/vnd.jupyter.widget-view+json": {
       "model_id": "",
       "version_major": 2,
       "version_minor": 0
      },
      "text/plain": [
       "[1/16]   6%|6          [00:00<?]"
      ]
     },
     "metadata": {},
     "output_type": "display_data"
    },
    {
     "data": {
      "application/vnd.jupyter.widget-view+json": {
       "model_id": "",
       "version_major": 2,
       "version_minor": 0
      },
      "text/plain": [
       "[1/32]   3%|3          [00:00<?]"
      ]
     },
     "metadata": {},
     "output_type": "display_data"
    },
    {
     "name": "stdout",
     "output_type": "stream",
     "text": [
      "Epoch metrics: {'accuracy': 0.71630859375, 'crossentropy': 1.7003575265407562}\n"
     ]
    },
    {
     "data": {
      "application/vnd.jupyter.widget-view+json": {
       "model_id": "",
       "version_major": 2,
       "version_minor": 0
      },
      "text/plain": [
       "[1/16]   6%|6          [00:00<?]"
      ]
     },
     "metadata": {},
     "output_type": "display_data"
    },
    {
     "data": {
      "application/vnd.jupyter.widget-view+json": {
       "model_id": "",
       "version_major": 2,
       "version_minor": 0
      },
      "text/plain": [
       "[1/32]   3%|3          [00:00<?]"
      ]
     },
     "metadata": {},
     "output_type": "display_data"
    },
    {
     "name": "stdout",
     "output_type": "stream",
     "text": [
      "Epoch metrics: {'accuracy': 0.717529296875, 'crossentropy': 1.8638241328299046}\n",
      "RestoringEarlyStopping: Restoring best parameters. (Score: 0.717529296875)\n",
      "RestoringEarlyStopping: Restoring optimizer.\n"
     ]
    },
    {
     "data": {
      "application/vnd.jupyter.widget-view+json": {
       "model_id": "",
       "version_major": 2,
       "version_minor": 0
      },
      "text/plain": [
       "get_predictions_labels:   0%|          | 0/200000 [00:00<?, ?it/s]"
      ]
     },
     "metadata": {},
     "output_type": "display_data"
    },
    {
     "name": "stdout",
     "output_type": "stream",
     "text": [
      "Perf after training {'accuracy': 0.7301, 'crossentropy': tensor(0.9447)}\n"
     ]
    },
    {
     "data": {
      "application/vnd.jupyter.widget-view+json": {
       "model_id": "",
       "version_major": 2,
       "version_minor": 0
      },
      "text/plain": [
       "get_predictions_labels:   0%|          | 0/5588400 [00:00<?, ?it/s]"
      ]
     },
     "metadata": {},
     "output_type": "display_data"
    },
    {
     "data": {
      "application/vnd.jupyter.widget-view+json": {
       "model_id": "",
       "version_major": 2,
       "version_minor": 0
      },
      "text/plain": [
       "Entropy:   0%|          | 0/55884 [00:00<?, ?it/s]"
      ]
     },
     "metadata": {},
     "output_type": "display_data"
    },
    {
     "data": {
      "application/vnd.jupyter.widget-view+json": {
       "model_id": "",
       "version_major": 2,
       "version_minor": 0
      },
      "text/plain": [
       "Entropy:   0%|          | 0/55884 [00:00<?, ?it/s]"
      ]
     },
     "metadata": {},
     "output_type": "display_data"
    },
    {
     "data": {
      "application/vnd.jupyter.widget-view+json": {
       "model_id": "5fb2bcbc721641e090f0f4077339e5c9",
       "version_major": 2,
       "version_minor": 0
      },
      "text/plain": [
       "Evaluation Set:   0%|          | 0/55884 [00:00<?, ?it/s]"
      ]
     },
     "metadata": {},
     "output_type": "display_data"
    },
    {
     "ename": "KeyboardInterrupt",
     "evalue": "",
     "output_type": "error",
     "traceback": [
      "\u001b[0;31m---------------------------------------------------------------------------\u001b[0m",
      "\u001b[0;31mKeyboardInterrupt\u001b[0m                         Traceback (most recent call last)",
      "\u001b[0;32m<ipython-input-17-0cfd1d5a1769>\u001b[0m in \u001b[0;36m<module>\u001b[0;34m\u001b[0m\n\u001b[1;32m     24\u001b[0m \u001b[0;34m\u001b[0m\u001b[0m\n\u001b[1;32m     25\u001b[0m \u001b[0mresults\u001b[0m \u001b[0;34m=\u001b[0m \u001b[0;34m{\u001b[0m\u001b[0;34m}\u001b[0m\u001b[0;34m\u001b[0m\u001b[0;34m\u001b[0m\u001b[0m\n\u001b[0;32m---> 26\u001b[0;31m \u001b[0mexperiment\u001b[0m\u001b[0;34m.\u001b[0m\u001b[0mrun\u001b[0m\u001b[0;34m(\u001b[0m\u001b[0mresults\u001b[0m\u001b[0;34m)\u001b[0m\u001b[0;34m\u001b[0m\u001b[0;34m\u001b[0m\u001b[0m\n\u001b[0m\u001b[1;32m     27\u001b[0m \u001b[0mresults\u001b[0m\u001b[0;34m\u001b[0m\u001b[0;34m\u001b[0m\u001b[0m\n",
      "\u001b[0;32m<ipython-input-16-495e1001a798>\u001b[0m in \u001b[0;36mrun\u001b[0;34m(self, store)\u001b[0m\n\u001b[1;32m    216\u001b[0m         )\n\u001b[1;32m    217\u001b[0m \u001b[0;34m\u001b[0m\u001b[0m\n\u001b[0;32m--> 218\u001b[0;31m         \u001b[0mactive_learner\u001b[0m\u001b[0;34m(\u001b[0m\u001b[0mstore\u001b[0m\u001b[0;34m)\u001b[0m\u001b[0;34m\u001b[0m\u001b[0;34m\u001b[0m\u001b[0m\n\u001b[0m",
      "\u001b[0;32m<ipython-input-16-495e1001a798>\u001b[0m in \u001b[0;36m__call__\u001b[0;34m(self, log)\u001b[0m\n\u001b[1;32m     91\u001b[0m                     \u001b[0meval_loader\u001b[0m \u001b[0;34m=\u001b[0m \u001b[0mpool_loader\u001b[0m\u001b[0;34m\u001b[0m\u001b[0;34m\u001b[0m\u001b[0m\n\u001b[1;32m     92\u001b[0m \u001b[0;34m\u001b[0m\u001b[0m\n\u001b[0;32m---> 93\u001b[0;31m                 candidate_batch = acquisition_function.compute_candidate_batch(\n\u001b[0m\u001b[1;32m     94\u001b[0m                     \u001b[0mmodel\u001b[0m\u001b[0;34m=\u001b[0m\u001b[0mtrained_model\u001b[0m\u001b[0;34m,\u001b[0m \u001b[0mpool_loader\u001b[0m\u001b[0;34m=\u001b[0m\u001b[0mpool_loader\u001b[0m\u001b[0;34m,\u001b[0m \u001b[0meval_loader\u001b[0m\u001b[0;34m=\u001b[0m\u001b[0meval_loader\u001b[0m\u001b[0;34m,\u001b[0m \u001b[0mdevice\u001b[0m\u001b[0;34m=\u001b[0m\u001b[0mself\u001b[0m\u001b[0;34m.\u001b[0m\u001b[0mdevice\u001b[0m\u001b[0;34m\u001b[0m\u001b[0;34m\u001b[0m\u001b[0m\n\u001b[1;32m     95\u001b[0m                 )\n",
      "\u001b[0;32m~/PycharmProjects/bald-ical/batchbald_redux/acquisition_functions.py\u001b[0m in \u001b[0;36mcompute_candidate_batch\u001b[0;34m(self, model, eval_loader, pool_loader, device)\u001b[0m\n\u001b[1;32m    341\u001b[0m         \u001b[0;31m# NOTE: we are using floats all the way here. Hopefully this won't be two bad in the two variable case.\u001b[0m\u001b[0;34m\u001b[0m\u001b[0;34m\u001b[0m\u001b[0;34m\u001b[0m\u001b[0m\n\u001b[1;32m    342\u001b[0m         \u001b[0;31m# torch.double vs torch.float is a 10x speed difference (enough to make double infeasible for exps).\u001b[0m\u001b[0;34m\u001b[0m\u001b[0;34m\u001b[0m\u001b[0;34m\u001b[0m\u001b[0m\n\u001b[0;32m--> 343\u001b[0;31m         scores_N = get_real_naive_epig_scores(\n\u001b[0m\u001b[1;32m    344\u001b[0m             \u001b[0mbootstrap_type\u001b[0m\u001b[0;34m=\u001b[0m\u001b[0mself\u001b[0m\u001b[0;34m.\u001b[0m\u001b[0mepig_bootstrap_type\u001b[0m\u001b[0;34m,\u001b[0m\u001b[0;34m\u001b[0m\u001b[0;34m\u001b[0m\u001b[0m\n\u001b[1;32m    345\u001b[0m             \u001b[0mbootstrap_factor\u001b[0m\u001b[0;34m=\u001b[0m\u001b[0mself\u001b[0m\u001b[0;34m.\u001b[0m\u001b[0mepig_bootstrap_factor\u001b[0m\u001b[0;34m,\u001b[0m\u001b[0;34m\u001b[0m\u001b[0;34m\u001b[0m\u001b[0m\n",
      "\u001b[0;32m~/anaconda3/envs/active_learning/lib/python3.8/site-packages/torch/autograd/grad_mode.py\u001b[0m in \u001b[0;36mdecorate_context\u001b[0;34m(*args, **kwargs)\u001b[0m\n\u001b[1;32m     24\u001b[0m         \u001b[0;32mdef\u001b[0m \u001b[0mdecorate_context\u001b[0m\u001b[0;34m(\u001b[0m\u001b[0;34m*\u001b[0m\u001b[0margs\u001b[0m\u001b[0;34m,\u001b[0m \u001b[0;34m**\u001b[0m\u001b[0mkwargs\u001b[0m\u001b[0;34m)\u001b[0m\u001b[0;34m:\u001b[0m\u001b[0;34m\u001b[0m\u001b[0;34m\u001b[0m\u001b[0m\n\u001b[1;32m     25\u001b[0m             \u001b[0;32mwith\u001b[0m \u001b[0mself\u001b[0m\u001b[0;34m.\u001b[0m\u001b[0m__class__\u001b[0m\u001b[0;34m(\u001b[0m\u001b[0;34m)\u001b[0m\u001b[0;34m:\u001b[0m\u001b[0;34m\u001b[0m\u001b[0;34m\u001b[0m\u001b[0m\n\u001b[0;32m---> 26\u001b[0;31m                 \u001b[0;32mreturn\u001b[0m \u001b[0mfunc\u001b[0m\u001b[0;34m(\u001b[0m\u001b[0;34m*\u001b[0m\u001b[0margs\u001b[0m\u001b[0;34m,\u001b[0m \u001b[0;34m**\u001b[0m\u001b[0mkwargs\u001b[0m\u001b[0;34m)\u001b[0m\u001b[0;34m\u001b[0m\u001b[0;34m\u001b[0m\u001b[0m\n\u001b[0m\u001b[1;32m     27\u001b[0m         \u001b[0;32mreturn\u001b[0m \u001b[0mcast\u001b[0m\u001b[0;34m(\u001b[0m\u001b[0mF\u001b[0m\u001b[0;34m,\u001b[0m \u001b[0mdecorate_context\u001b[0m\u001b[0;34m)\u001b[0m\u001b[0;34m\u001b[0m\u001b[0;34m\u001b[0m\u001b[0m\n\u001b[1;32m     28\u001b[0m \u001b[0;34m\u001b[0m\u001b[0m\n",
      "\u001b[0;32m~/PycharmProjects/bald-ical/batchbald_redux/batchbald.py\u001b[0m in \u001b[0;36mget_real_naive_epig_scores\u001b[0;34m(bootstrap_type, bootstrap_factor, pool_log_probs_N_K_C, eval_log_probs_E_K_C, dtype, device)\u001b[0m\n\u001b[1;32m    746\u001b[0m \u001b[0;34m\u001b[0m\u001b[0m\n\u001b[1;32m    747\u001b[0m         \u001b[0;34m@\u001b[0m\u001b[0mtoma\u001b[0m\u001b[0;34m.\u001b[0m\u001b[0mexecute\u001b[0m\u001b[0;34m.\u001b[0m\u001b[0mbatch\u001b[0m\u001b[0;34m(\u001b[0m\u001b[0;36m1024\u001b[0m\u001b[0;34m)\u001b[0m\u001b[0;34m\u001b[0m\u001b[0;34m\u001b[0m\u001b[0m\n\u001b[0;32m--> 748\u001b[0;31m         \u001b[0;32mdef\u001b[0m \u001b[0mloop\u001b[0m\u001b[0;34m(\u001b[0m\u001b[0mbatchsize\u001b[0m\u001b[0;34m:\u001b[0m \u001b[0mint\u001b[0m\u001b[0;34m)\u001b[0m\u001b[0;34m:\u001b[0m\u001b[0;34m\u001b[0m\u001b[0;34m\u001b[0m\u001b[0m\n\u001b[0m\u001b[1;32m    749\u001b[0m             \u001b[0mpbar\u001b[0m\u001b[0;34m.\u001b[0m\u001b[0mreset\u001b[0m\u001b[0;34m(\u001b[0m\u001b[0;34m)\u001b[0m\u001b[0;34m\u001b[0m\u001b[0;34m\u001b[0m\u001b[0m\n\u001b[1;32m    750\u001b[0m \u001b[0;34m\u001b[0m\u001b[0m\n",
      "\u001b[0;32m~/anaconda3/envs/active_learning/lib/python3.8/site-packages/toma/__init__.py\u001b[0m in \u001b[0;36mexecute_batch\u001b[0;34m(func)\u001b[0m\n\u001b[1;32m    175\u001b[0m \u001b[0;34m\u001b[0m\u001b[0m\n\u001b[1;32m    176\u001b[0m             \u001b[0;32mdef\u001b[0m \u001b[0mexecute_batch\u001b[0m\u001b[0;34m(\u001b[0m\u001b[0mfunc\u001b[0m\u001b[0;34m)\u001b[0m\u001b[0;34m:\u001b[0m\u001b[0;34m\u001b[0m\u001b[0;34m\u001b[0m\u001b[0m\n\u001b[0;32m--> 177\u001b[0;31m                 \u001b[0;32mreturn\u001b[0m \u001b[0mexplicit\u001b[0m\u001b[0;34m.\u001b[0m\u001b[0mbatch\u001b[0m\u001b[0;34m(\u001b[0m\u001b[0mfunc\u001b[0m\u001b[0;34m,\u001b[0m \u001b[0minitial_batchsize\u001b[0m\u001b[0;34m,\u001b[0m \u001b[0mtoma_cache_type\u001b[0m\u001b[0;34m=\u001b[0m\u001b[0mcache_type\u001b[0m\u001b[0;34m,\u001b[0m \u001b[0mtoma_context\u001b[0m\u001b[0;34m=\u001b[0m\u001b[0mcontext\u001b[0m\u001b[0;34m)\u001b[0m\u001b[0;34m\u001b[0m\u001b[0;34m\u001b[0m\u001b[0m\n\u001b[0m\u001b[1;32m    178\u001b[0m \u001b[0;34m\u001b[0m\u001b[0m\n\u001b[1;32m    179\u001b[0m             \u001b[0;32mreturn\u001b[0m \u001b[0mexecute_batch\u001b[0m\u001b[0;34m\u001b[0m\u001b[0;34m\u001b[0m\u001b[0m\n",
      "\u001b[0;32m~/anaconda3/envs/active_learning/lib/python3.8/site-packages/toma/__init__.py\u001b[0m in \u001b[0;36mbatch\u001b[0;34m(func, initial_batchsize, toma_context, toma_cache_type, *args, **kwargs)\u001b[0m\n\u001b[1;32m    237\u001b[0m             \u001b[0;32mtry\u001b[0m\u001b[0;34m:\u001b[0m\u001b[0;34m\u001b[0m\u001b[0;34m\u001b[0m\u001b[0m\n\u001b[1;32m    238\u001b[0m                 \u001b[0mvalue\u001b[0m \u001b[0;34m=\u001b[0m \u001b[0mbatchsize\u001b[0m\u001b[0;34m.\u001b[0m\u001b[0mget\u001b[0m\u001b[0;34m(\u001b[0m\u001b[0;34m)\u001b[0m\u001b[0;34m\u001b[0m\u001b[0;34m\u001b[0m\u001b[0m\n\u001b[0;32m--> 239\u001b[0;31m                 \u001b[0mresult\u001b[0m \u001b[0;34m=\u001b[0m \u001b[0mfunc\u001b[0m\u001b[0;34m(\u001b[0m\u001b[0mvalue\u001b[0m\u001b[0;34m,\u001b[0m \u001b[0;34m*\u001b[0m\u001b[0margs\u001b[0m\u001b[0;34m,\u001b[0m \u001b[0;34m**\u001b[0m\u001b[0mkwargs\u001b[0m\u001b[0;34m)\u001b[0m\u001b[0;34m\u001b[0m\u001b[0;34m\u001b[0m\u001b[0m\n\u001b[0m\u001b[1;32m    240\u001b[0m                 \u001b[0mgc_cuda\u001b[0m\u001b[0;34m(\u001b[0m\u001b[0;34m)\u001b[0m\u001b[0;34m\u001b[0m\u001b[0;34m\u001b[0m\u001b[0m\n\u001b[1;32m    241\u001b[0m                 \u001b[0;32mreturn\u001b[0m \u001b[0mresult\u001b[0m\u001b[0;34m\u001b[0m\u001b[0;34m\u001b[0m\u001b[0m\n",
      "\u001b[0;32m~/PycharmProjects/bald-ical/batchbald_redux/batchbald.py\u001b[0m in \u001b[0;36mloop\u001b[0;34m(batchsize)\u001b[0m\n\u001b[1;32m    754\u001b[0m                 \u001b[0mjoint_probs_N_E_EC\u001b[0m \u001b[0;34m=\u001b[0m \u001b[0mget_joint_probs_N_C_EC_transposed\u001b[0m\u001b[0;34m(\u001b[0m\u001b[0mpool_probs_N_C_K\u001b[0m\u001b[0;34m,\u001b[0m \u001b[0mchunked_eval_probs_e_K_C\u001b[0m\u001b[0;34m)\u001b[0m\u001b[0;34m\u001b[0m\u001b[0;34m\u001b[0m\u001b[0m\n\u001b[1;32m    755\u001b[0m                 \u001b[0mweighted_nats_N_C_EC\u001b[0m \u001b[0;34m=\u001b[0m \u001b[0mjoint_probs_N_E_EC\u001b[0m \u001b[0;34m*\u001b[0m \u001b[0;34m-\u001b[0m\u001b[0mtorch\u001b[0m\u001b[0;34m.\u001b[0m\u001b[0mlog\u001b[0m\u001b[0;34m(\u001b[0m\u001b[0mjoint_probs_N_E_EC\u001b[0m\u001b[0;34m)\u001b[0m\u001b[0;34m\u001b[0m\u001b[0;34m\u001b[0m\u001b[0m\n\u001b[0;32m--> 756\u001b[0;31m                 \u001b[0mweighted_nats_N_C_EC\u001b[0m\u001b[0;34m[\u001b[0m\u001b[0mtorch\u001b[0m\u001b[0;34m.\u001b[0m\u001b[0misnan\u001b[0m\u001b[0;34m(\u001b[0m\u001b[0mweighted_nats_N_C_EC\u001b[0m\u001b[0;34m)\u001b[0m\u001b[0;34m]\u001b[0m \u001b[0;34m=\u001b[0m \u001b[0;36m0.0\u001b[0m\u001b[0;34m\u001b[0m\u001b[0;34m\u001b[0m\u001b[0m\n\u001b[0m\u001b[1;32m    757\u001b[0m                 \u001b[0mjoint_entropy_N\u001b[0m \u001b[0;34m=\u001b[0m \u001b[0mweighted_nats_N_C_EC\u001b[0m\u001b[0;34m.\u001b[0m\u001b[0msum\u001b[0m\u001b[0;34m(\u001b[0m\u001b[0;34m(\u001b[0m\u001b[0;36m1\u001b[0m\u001b[0;34m,\u001b[0m \u001b[0;36m2\u001b[0m\u001b[0;34m)\u001b[0m\u001b[0;34m,\u001b[0m \u001b[0mkeepdim\u001b[0m\u001b[0;34m=\u001b[0m\u001b[0;32mFalse\u001b[0m\u001b[0;34m)\u001b[0m\u001b[0;34m\u001b[0m\u001b[0;34m\u001b[0m\u001b[0m\n\u001b[1;32m    758\u001b[0m                 \u001b[0;32mdel\u001b[0m \u001b[0mweighted_nats_N_C_EC\u001b[0m\u001b[0;34m\u001b[0m\u001b[0;34m\u001b[0m\u001b[0m\n",
      "\u001b[0;31mKeyboardInterrupt\u001b[0m: "
     ]
    }
   ],
   "source": [
    "# experiment\n",
    "# MNIST experiment (ood_exposure=False)\n",
    "\n",
    "experiment = UnifiedExperiment(\n",
    "    experiment_data_config=StandardExperimentDataConfig(\n",
    "        id_dataset_name=\"MNIST\",\n",
    "        id_repetitions=1,\n",
    "        initial_training_set_size=20,\n",
    "        validation_set_size=4096,\n",
    "        validation_split_random_state=0,\n",
    "        evaluation_set_size=0,\n",
    "        add_dataset_noise=False,\n",
    "        ood_dataset_config=None,\n",
    "    ),\n",
    "    seed=1,\n",
    "    max_training_epochs=5,\n",
    "    max_training_set=20 + 10,\n",
    "    acquisition_function=acquisition_functions.EPIG,\n",
    "    acquisition_size=10,\n",
    "    model_trainer_factory=MnistModelTrainer,\n",
    "    num_pool_samples=100,\n",
    "    device=\"cuda\",\n",
    ")\n",
    "\n",
    "results = {}\n",
    "experiment.run(results)\n",
    "results"
   ]
  },
  {
   "cell_type": "markdown",
   "metadata": {},
   "source": [
    "## CIFAR-10 only"
   ]
  },
  {
   "cell_type": "code",
   "execution_count": null,
   "metadata": {},
   "outputs": [
    {
     "name": "stdout",
     "output_type": "stream",
     "text": [
      "Files already downloaded and verified\n"
     ]
    },
    {
     "name": "stderr",
     "output_type": "stream",
     "text": [
      "/home/blackhc/anaconda3/envs/active_learning/lib/python3.8/site-packages/sklearn/utils/__init__.py:1102: DeprecationWarning: `np.int` is a deprecated alias for the builtin `int`. To silence this warning, use `int` by itself. Doing this will not modify any behavior and is safe. When replacing `np.int`, you may wish to use e.g. `np.int64` or `np.int32` to specify the precision. If you wish to review your current use, check the release note link for additional information.\n",
      "Deprecated in NumPy 1.20; for more details and guidance: https://numpy.org/devdocs/release/1.20.0-notes.html#deprecations\n",
      "  return floored.astype(np.int)\n",
      "/home/blackhc/anaconda3/envs/active_learning/lib/python3.8/site-packages/sklearn/utils/__init__.py:1102: DeprecationWarning: `np.int` is a deprecated alias for the builtin `int`. To silence this warning, use `int` by itself. Doing this will not modify any behavior and is safe. When replacing `np.int`, you may wish to use e.g. `np.int64` or `np.int32` to specify the precision. If you wish to review your current use, check the release note link for additional information.\n",
      "Deprecated in NumPy 1.20; for more details and guidance: https://numpy.org/devdocs/release/1.20.0-notes.html#deprecations\n",
      "  return floored.astype(np.int)\n"
     ]
    },
    {
     "name": "stdout",
     "output_type": "stream",
     "text": [
      "Files already downloaded and verified\n",
      "Creating: BALD(\n",
      "\tacquisition_size=10,\n",
      "\tnum_pool_samples=2\n",
      ")\n",
      "Creating: Cifar10ModelTrainer(\n",
      "\tdevice=cuda,\n",
      "\tnum_training_samples=1,\n",
      "\tnum_validation_samples=20,\n",
      "\tmax_training_epochs=5\n",
      ")\n",
      "Creating: TrainSelfDistillationEvalModel(\n",
      "\tnum_pool_samples=2\n",
      ")\n",
      "Training set size 20:\n",
      "Cosine Annealing\n"
     ]
    },
    {
     "data": {
      "application/vnd.jupyter.widget-view+json": {
       "model_id": "b8d1328c2e7a4e1dbd835615fc047872",
       "version_major": 2,
       "version_minor": 0
      },
      "text/plain": [
       " 20%|##        | 1/5 [00:00<?, ?it/s]"
      ]
     },
     "metadata": {},
     "output_type": "display_data"
    },
    {
     "data": {
      "application/vnd.jupyter.widget-view+json": {
       "model_id": "",
       "version_major": 2,
       "version_minor": 0
      },
      "text/plain": [
       "[1/39]   3%|2          [00:00<?]"
      ]
     },
     "metadata": {},
     "output_type": "display_data"
    },
    {
     "name": "stdout",
     "output_type": "stream",
     "text": [
      "Epoch 1 metrics: {'accuracy': 0.132080078125, 'crossentropy': 3.556436240673065}\n"
     ]
    },
    {
     "data": {
      "application/vnd.jupyter.widget-view+json": {
       "model_id": "",
       "version_major": 2,
       "version_minor": 0
      },
      "text/plain": [
       "[1/39]   3%|2          [00:00<?]"
      ]
     },
     "metadata": {},
     "output_type": "display_data"
    },
    {
     "name": "stdout",
     "output_type": "stream",
     "text": [
      "Epoch 2 metrics: {'accuracy': 0.147705078125, 'crossentropy': 11.288517951965332}\n"
     ]
    },
    {
     "data": {
      "application/vnd.jupyter.widget-view+json": {
       "model_id": "",
       "version_major": 2,
       "version_minor": 0
      },
      "text/plain": [
       "[1/39]   3%|2          [00:00<?]"
      ]
     },
     "metadata": {},
     "output_type": "display_data"
    },
    {
     "name": "stdout",
     "output_type": "stream",
     "text": [
      "Epoch 3 metrics: {'accuracy': 0.1484375, 'crossentropy': 9.785008907318115}\n"
     ]
    },
    {
     "data": {
      "application/vnd.jupyter.widget-view+json": {
       "model_id": "",
       "version_major": 2,
       "version_minor": 0
      },
      "text/plain": [
       "[1/39]   3%|2          [00:00<?]"
      ]
     },
     "metadata": {},
     "output_type": "display_data"
    },
    {
     "name": "stdout",
     "output_type": "stream",
     "text": [
      "Epoch 4 metrics: {'accuracy': 0.15869140625, 'crossentropy': 9.548845410346985}\n"
     ]
    },
    {
     "data": {
      "application/vnd.jupyter.widget-view+json": {
       "model_id": "",
       "version_major": 2,
       "version_minor": 0
      },
      "text/plain": [
       "[1/39]   3%|2          [00:00<?]"
      ]
     },
     "metadata": {},
     "output_type": "display_data"
    },
    {
     "name": "stdout",
     "output_type": "stream",
     "text": [
      "Epoch 5 metrics: {'accuracy': 0.151611328125, 'crossentropy': 9.943562984466553}\n"
     ]
    },
    {
     "data": {
      "application/vnd.jupyter.widget-view+json": {
       "model_id": "",
       "version_major": 2,
       "version_minor": 0
      },
      "text/plain": [
       "get_predictions_labels:   0%|          | 0/200000 [00:00<?, ?it/s]"
      ]
     },
     "metadata": {},
     "output_type": "display_data"
    },
    {
     "name": "stdout",
     "output_type": "stream",
     "text": [
      "Perf after training {'accuracy': 0.1561, 'crossentropy': tensor(7.4005)}\n"
     ]
    },
    {
     "data": {
      "application/vnd.jupyter.widget-view+json": {
       "model_id": "",
       "version_major": 2,
       "version_minor": 0
      },
      "text/plain": [
       "get_predictions_labels:   0%|          | 0/91568 [00:00<?, ?it/s]"
      ]
     },
     "metadata": {},
     "output_type": "display_data"
    },
    {
     "data": {
      "application/vnd.jupyter.widget-view+json": {
       "model_id": "",
       "version_major": 2,
       "version_minor": 0
      },
      "text/plain": [
       "Conditional Entropy:   0%|          | 0/45784 [00:00<?, ?it/s]"
      ]
     },
     "metadata": {},
     "output_type": "display_data"
    },
    {
     "data": {
      "application/vnd.jupyter.widget-view+json": {
       "model_id": "",
       "version_major": 2,
       "version_minor": 0
      },
      "text/plain": [
       "Entropy:   0%|          | 0/45784 [00:00<?, ?it/s]"
      ]
     },
     "metadata": {},
     "output_type": "display_data"
    },
    {
     "name": "stdout",
     "output_type": "stream",
     "text": [
      "CandidateBatch(scores=[0.6368825323879719, 0.600792333483696, 0.5738895609974861, 0.5720301643013954, 0.5641722083091736, 0.5616957247257233, 0.540523573756218, 0.5393854081630707, 0.5310562998056412, 0.5249305069446564], indices=[13423, 26613, 32359, 9927, 25536, 1967, 12669, 11213, 15695, 13329])\n",
      "[('id', 13464), ('id', 26684), ('id', 32447), ('id', 9952), ('id', 25604), ('id', 1971), ('id', 12705), ('id', 11244), ('id', 15739), ('id', 13370)]\n",
      "Acquiring (label, score)s: 0 (0.6369), 0 (0.6008), 0 (0.5739), 0 (0.572), 1 (0.5642), 2 (0.5617), 0 (0.5405), 8 (0.5394), 0 (0.5311), 6 (0.5249)\n",
      "Training set size 30:\n",
      "Cosine Annealing\n"
     ]
    },
    {
     "data": {
      "application/vnd.jupyter.widget-view+json": {
       "model_id": "2fa5f46b46974951b97c58b8fb15e332",
       "version_major": 2,
       "version_minor": 0
      },
      "text/plain": [
       " 20%|##        | 1/5 [00:00<?, ?it/s]"
      ]
     },
     "metadata": {},
     "output_type": "display_data"
    },
    {
     "data": {
      "application/vnd.jupyter.widget-view+json": {
       "model_id": "",
       "version_major": 2,
       "version_minor": 0
      },
      "text/plain": [
       "[1/39]   3%|2          [00:00<?]"
      ]
     },
     "metadata": {},
     "output_type": "display_data"
    },
    {
     "name": "stdout",
     "output_type": "stream",
     "text": [
      "Epoch 1 metrics: {'accuracy': 0.14208984375, 'crossentropy': 3.128549039363861}\n"
     ]
    },
    {
     "data": {
      "application/vnd.jupyter.widget-view+json": {
       "model_id": "",
       "version_major": 2,
       "version_minor": 0
      },
      "text/plain": [
       "[1/39]   3%|2          [00:00<?]"
      ]
     },
     "metadata": {},
     "output_type": "display_data"
    },
    {
     "name": "stdout",
     "output_type": "stream",
     "text": [
      "Epoch 2 metrics: {'accuracy': 0.176513671875, 'crossentropy': 3.5860735476017}\n"
     ]
    },
    {
     "data": {
      "application/vnd.jupyter.widget-view+json": {
       "model_id": "",
       "version_major": 2,
       "version_minor": 0
      },
      "text/plain": [
       "[1/39]   3%|2          [00:00<?]"
      ]
     },
     "metadata": {},
     "output_type": "display_data"
    },
    {
     "name": "stdout",
     "output_type": "stream",
     "text": [
      "Epoch 3 metrics: {'accuracy': 0.18994140625, 'crossentropy': 5.4360968470573425}\n"
     ]
    },
    {
     "data": {
      "application/vnd.jupyter.widget-view+json": {
       "model_id": "",
       "version_major": 2,
       "version_minor": 0
      },
      "text/plain": [
       "[1/39]   3%|2          [00:00<?]"
      ]
     },
     "metadata": {},
     "output_type": "display_data"
    },
    {
     "name": "stdout",
     "output_type": "stream",
     "text": [
      "Epoch 4 metrics: {'accuracy': 0.193115234375, 'crossentropy': 5.482205808162689}\n"
     ]
    },
    {
     "data": {
      "application/vnd.jupyter.widget-view+json": {
       "model_id": "",
       "version_major": 2,
       "version_minor": 0
      },
      "text/plain": [
       "[1/39]   3%|2          [00:00<?]"
      ]
     },
     "metadata": {},
     "output_type": "display_data"
    },
    {
     "name": "stdout",
     "output_type": "stream",
     "text": [
      "Epoch 5 metrics: {'accuracy': 0.181640625, 'crossentropy': 5.63788229227066}\n"
     ]
    },
    {
     "data": {
      "application/vnd.jupyter.widget-view+json": {
       "model_id": "",
       "version_major": 2,
       "version_minor": 0
      },
      "text/plain": [
       "get_predictions_labels:   0%|          | 0/200000 [00:00<?, ?it/s]"
      ]
     },
     "metadata": {},
     "output_type": "display_data"
    },
    {
     "name": "stdout",
     "output_type": "stream",
     "text": [
      "Perf after training {'accuracy': 0.1767, 'crossentropy': tensor(4.1496)}\n",
      "Done.\n"
     ]
    },
    {
     "data": {
      "text/plain": [
       "{'dataset_info': {'training': \"'CIFAR-10 (Train, seed=0, 45904 samples)'\",\n",
       "  'test': \"'CIFAR-10 (Test)'\"},\n",
       " 'initial_training_set_indices': [29863,\n",
       "  22519,\n",
       "  21079,\n",
       "  37521,\n",
       "  15583,\n",
       "  23405,\n",
       "  44362,\n",
       "  35084,\n",
       "  29380,\n",
       "  26994,\n",
       "  39909,\n",
       "  29333,\n",
       "  527,\n",
       "  31668,\n",
       "  43591,\n",
       "  12293,\n",
       "  39247,\n",
       "  36879,\n",
       "  7979,\n",
       "  33280],\n",
       " 'evaluation_set_indices': [4291,\n",
       "  37709,\n",
       "  11949,\n",
       "  12149,\n",
       "  17798,\n",
       "  32245,\n",
       "  235,\n",
       "  38778,\n",
       "  32864,\n",
       "  39123,\n",
       "  22797,\n",
       "  43486,\n",
       "  5813,\n",
       "  40306,\n",
       "  4570,\n",
       "  15667,\n",
       "  36937,\n",
       "  25830,\n",
       "  2404,\n",
       "  30096,\n",
       "  19730,\n",
       "  11343,\n",
       "  17034,\n",
       "  43455,\n",
       "  15770,\n",
       "  7894,\n",
       "  36848,\n",
       "  11067,\n",
       "  12968,\n",
       "  29454,\n",
       "  33432,\n",
       "  21672,\n",
       "  38040,\n",
       "  259,\n",
       "  29571,\n",
       "  41639,\n",
       "  43971,\n",
       "  13338,\n",
       "  42364,\n",
       "  11109,\n",
       "  18814,\n",
       "  21474,\n",
       "  10681,\n",
       "  40169,\n",
       "  9997,\n",
       "  12784,\n",
       "  22626,\n",
       "  36949,\n",
       "  33130,\n",
       "  13688,\n",
       "  6466,\n",
       "  28263,\n",
       "  45060,\n",
       "  10422,\n",
       "  7005,\n",
       "  3143,\n",
       "  26143,\n",
       "  28581,\n",
       "  13207,\n",
       "  10038,\n",
       "  6750,\n",
       "  21221,\n",
       "  9097,\n",
       "  26989,\n",
       "  26153,\n",
       "  13087,\n",
       "  28498,\n",
       "  39840,\n",
       "  26870,\n",
       "  24298,\n",
       "  24804,\n",
       "  28038,\n",
       "  17767,\n",
       "  31439,\n",
       "  1247,\n",
       "  2171,\n",
       "  6804,\n",
       "  5126,\n",
       "  42102,\n",
       "  11902,\n",
       "  27726,\n",
       "  34553,\n",
       "  8995,\n",
       "  23268,\n",
       "  42247,\n",
       "  40748,\n",
       "  4329,\n",
       "  18148,\n",
       "  33008,\n",
       "  18855,\n",
       "  4043,\n",
       "  6625,\n",
       "  15957,\n",
       "  19208,\n",
       "  23415,\n",
       "  19554,\n",
       "  7878,\n",
       "  20565,\n",
       "  7036,\n",
       "  8754],\n",
       " 'seed': 1085049402368859365,\n",
       " 'active_learning_steps': [{'training': {'epochs': [{'accuracy': 0.132080078125,\n",
       "      'crossentropy': 3.556436240673065},\n",
       "     {'accuracy': 0.147705078125, 'crossentropy': 11.288517951965332},\n",
       "     {'accuracy': 0.1484375, 'crossentropy': 9.785008907318115},\n",
       "     {'accuracy': 0.15869140625, 'crossentropy': 9.548845410346985},\n",
       "     {'accuracy': 0.151611328125, 'crossentropy': 9.943562984466553}]},\n",
       "   'evaluation_metrics': {'accuracy': 0.1561, 'crossentropy': tensor(7.4005)},\n",
       "   'acquisition': {'indices': [('id', 13464),\n",
       "     ('id', 26684),\n",
       "     ('id', 32447),\n",
       "     ('id', 9952),\n",
       "     ('id', 25604),\n",
       "     ('id', 1971),\n",
       "     ('id', 12705),\n",
       "     ('id', 11244),\n",
       "     ('id', 15739),\n",
       "     ('id', 13370)],\n",
       "    'labels': [0, 0, 0, 0, 1, 2, 0, 8, 0, 6],\n",
       "    'scores': [0.6368825323879719,\n",
       "     0.600792333483696,\n",
       "     0.5738895609974861,\n",
       "     0.5720301643013954,\n",
       "     0.5641722083091736,\n",
       "     0.5616957247257233,\n",
       "     0.540523573756218,\n",
       "     0.5393854081630707,\n",
       "     0.5310562998056412,\n",
       "     0.5249305069446564]}},\n",
       "  {'training': {'epochs': [{'accuracy': 0.14208984375,\n",
       "      'crossentropy': 3.128549039363861},\n",
       "     {'accuracy': 0.176513671875, 'crossentropy': 3.5860735476017},\n",
       "     {'accuracy': 0.18994140625, 'crossentropy': 5.4360968470573425},\n",
       "     {'accuracy': 0.193115234375, 'crossentropy': 5.482205808162689},\n",
       "     {'accuracy': 0.181640625, 'crossentropy': 5.63788229227066}]},\n",
       "   'evaluation_metrics': {'accuracy': 0.1767,\n",
       "    'crossentropy': tensor(4.1496)}}]}"
      ]
     },
     "execution_count": null,
     "metadata": {},
     "output_type": "execute_result"
    }
   ],
   "source": [
    "# experiment\n",
    "# CIFAR-10 experiment (ood_exposure=False)\n",
    "\n",
    "experiment = UnifiedExperiment(\n",
    "    experiment_data_config=StandardExperimentDataConfig(\n",
    "        id_dataset_name=\"CIFAR-10\",\n",
    "        id_repetitions=1,\n",
    "        initial_training_set_size=20,\n",
    "        validation_set_size=4096,\n",
    "        validation_split_random_state=0,\n",
    "        evaluation_set_size=100,\n",
    "        add_dataset_noise=False,\n",
    "        ood_dataset_config=None,\n",
    "    ),\n",
    "    seed=1,\n",
    "    max_training_epochs=5,\n",
    "    max_training_set=20 + 10,\n",
    "    acquisition_function=acquisition_functions.BALD,\n",
    "    acquisition_size=10,\n",
    "    model_trainer_factory=Cifar10ModelTrainer,\n",
    "    num_pool_samples=2,\n",
    "    device=\"cuda\",\n",
    ")\n",
    "\n",
    "results = {}\n",
    "experiment.run(results)\n",
    "results"
   ]
  },
  {
   "cell_type": "code",
   "execution_count": null,
   "metadata": {},
   "outputs": [],
   "source": [
    "# exports\n",
    "\n",
    "configs = [\n",
    "    UnifiedExperiment(\n",
    "        seed=seed + 1234,\n",
    "        experiment_data_config=StandardExperimentDataConfig(\n",
    "            id_dataset_name=id_dataset_name,\n",
    "            id_repetitions=1,\n",
    "            initial_training_set_size=20,\n",
    "            validation_set_size=4096,\n",
    "            validation_split_random_state=0,\n",
    "            evaluation_set_size=evaluation_set_size,\n",
    "            add_dataset_noise=False,\n",
    "            ood_dataset_config=OoDDatasetConfig(\n",
    "                ood_dataset_name=ood_dataset_name, ood_repetitions=1, ood_exposure=ood_exposure\n",
    "            ),\n",
    "        ),\n",
    "        acquisition_function=acquisition_function,\n",
    "        acquisition_size=5,\n",
    "        num_pool_samples=num_pool_samples,\n",
    "    )\n",
    "    for seed in range(3)\n",
    "    for acquisition_function in [acquisition_functions.BatchEvalBALD, acquisition_functions.BatchBALD]\n",
    "    for evaluation_set_size in [1024]\n",
    "    for num_pool_samples in [100]\n",
    "    for ood_exposure in [True, False]\n",
    "    for id_dataset_name, ood_dataset_name in [(\"CIFAR-10\", \"SVHN\"), (\"SVHN\", \"CIFAR-10\")]\n",
    "]\n",
    "\n",
    "if not is_run_from_ipython() and __name__ == \"__main__\":\n",
    "    for job_id, store in embedded_experiments(__file__, len(configs)):\n",
    "        config = configs[job_id]\n",
    "        config.seed += job_id\n",
    "        print(config)\n",
    "        store[\"config\"] = dataclasses.asdict(config)\n",
    "        store[\"log\"] = {}\n",
    "\n",
    "        try:\n",
    "            config.run(store=store)\n",
    "        except Exception:\n",
    "            store[\"exception\"] = traceback.format_exc()\n",
    "            raise"
   ]
  },
  {
   "cell_type": "code",
   "execution_count": null,
   "metadata": {},
   "outputs": [
    {
     "data": {
      "text/plain": [
       "24"
      ]
     },
     "execution_count": null,
     "metadata": {},
     "output_type": "execute_result"
    }
   ],
   "source": [
    "len(configs)"
   ]
  },
  {
   "cell_type": "code",
   "execution_count": null,
   "metadata": {},
   "outputs": [
    {
     "name": "stdout",
     "output_type": "stream",
     "text": [
      "[\n",
      "    OodExperiment(\n",
      "        seed=1234,\n",
      "        uniform_ood=True,\n",
      "        id_dataset_name='CIFAR-10',\n",
      "        ood_dataset_name='SVHN',\n",
      "        num_pool_samples=100,\n",
      "        # class\n",
      "        acquisition_function=batchbald_redux.acquisition_functions.BatchEvalBALD\n",
      "    ),\n",
      "    OodExperiment(\n",
      "        seed=1234,\n",
      "        uniform_ood=True,\n",
      "        id_dataset_name='SVHN',\n",
      "        ood_dataset_name='CIFAR-10',\n",
      "        num_pool_samples=100,\n",
      "        # class\n",
      "        acquisition_function=batchbald_redux.acquisition_functions.BatchEvalBALD\n",
      "    ),\n",
      "    OodExperiment(\n",
      "        seed=1234,\n",
      "        uniform_ood=False,\n",
      "        id_dataset_name='CIFAR-10',\n",
      "        ood_dataset_name='SVHN',\n",
      "        num_pool_samples=100,\n",
      "        # class\n",
      "        acquisition_function=batchbald_redux.acquisition_functions.BatchEvalBALD\n",
      "    ),\n",
      "    OodExperiment(\n",
      "        seed=1234,\n",
      "        uniform_ood=False,\n",
      "        id_dataset_name='SVHN',\n",
      "        ood_dataset_name='CIFAR-10',\n",
      "        num_pool_samples=100,\n",
      "        # class\n",
      "        acquisition_function=batchbald_redux.acquisition_functions.BatchEvalBALD\n",
      "    ),\n",
      "    OodExperiment(\n",
      "        seed=1234,\n",
      "        uniform_ood=True,\n",
      "        id_dataset_name='CIFAR-10',\n",
      "        ood_dataset_name='SVHN',\n",
      "        num_pool_samples=100,\n",
      "        # class\n",
      "        acquisition_function=batchbald_redux.acquisition_functions.BatchBALD\n",
      "    ),\n",
      "    OodExperiment(\n",
      "        seed=1234,\n",
      "        uniform_ood=True,\n",
      "        id_dataset_name='SVHN',\n",
      "        ood_dataset_name='CIFAR-10',\n",
      "        num_pool_samples=100,\n",
      "        # class\n",
      "        acquisition_function=batchbald_redux.acquisition_functions.BatchBALD\n",
      "    ),\n",
      "    OodExperiment(\n",
      "        seed=1234,\n",
      "        uniform_ood=False,\n",
      "        id_dataset_name='CIFAR-10',\n",
      "        ood_dataset_name='SVHN',\n",
      "        num_pool_samples=100,\n",
      "        # class\n",
      "        acquisition_function=batchbald_redux.acquisition_functions.BatchBALD\n",
      "    ),\n",
      "    OodExperiment(\n",
      "        seed=1234,\n",
      "        uniform_ood=False,\n",
      "        id_dataset_name='SVHN',\n",
      "        ood_dataset_name='CIFAR-10',\n",
      "        num_pool_samples=100,\n",
      "        # class\n",
      "        acquisition_function=batchbald_redux.acquisition_functions.BatchBALD\n",
      "    ),\n",
      "    OodExperiment(\n",
      "        seed=1235,\n",
      "        uniform_ood=True,\n",
      "        id_dataset_name='CIFAR-10',\n",
      "        ood_dataset_name='SVHN',\n",
      "        num_pool_samples=100,\n",
      "        # class\n",
      "        acquisition_function=batchbald_redux.acquisition_functions.BatchEvalBALD\n",
      "    ),\n",
      "    OodExperiment(\n",
      "        seed=1235,\n",
      "        uniform_ood=True,\n",
      "        id_dataset_name='SVHN',\n",
      "        ood_dataset_name='CIFAR-10',\n",
      "        num_pool_samples=100,\n",
      "        # class\n",
      "        acquisition_function=batchbald_redux.acquisition_functions.BatchEvalBALD\n",
      "    ),\n",
      "    OodExperiment(\n",
      "        seed=1235,\n",
      "        uniform_ood=False,\n",
      "        id_dataset_name='CIFAR-10',\n",
      "        ood_dataset_name='SVHN',\n",
      "        num_pool_samples=100,\n",
      "        # class\n",
      "        acquisition_function=batchbald_redux.acquisition_functions.BatchEvalBALD\n",
      "    ),\n",
      "    OodExperiment(\n",
      "        seed=1235,\n",
      "        uniform_ood=False,\n",
      "        id_dataset_name='SVHN',\n",
      "        ood_dataset_name='CIFAR-10',\n",
      "        num_pool_samples=100,\n",
      "        # class\n",
      "        acquisition_function=batchbald_redux.acquisition_functions.BatchEvalBALD\n",
      "    ),\n",
      "    OodExperiment(\n",
      "        seed=1235,\n",
      "        uniform_ood=True,\n",
      "        id_dataset_name='CIFAR-10',\n",
      "        ood_dataset_name='SVHN',\n",
      "        num_pool_samples=100,\n",
      "        # class\n",
      "        acquisition_function=batchbald_redux.acquisition_functions.BatchBALD\n",
      "    ),\n",
      "    OodExperiment(\n",
      "        seed=1235,\n",
      "        uniform_ood=True,\n",
      "        id_dataset_name='SVHN',\n",
      "        ood_dataset_name='CIFAR-10',\n",
      "        num_pool_samples=100,\n",
      "        # class\n",
      "        acquisition_function=batchbald_redux.acquisition_functions.BatchBALD\n",
      "    ),\n",
      "    OodExperiment(\n",
      "        seed=1235,\n",
      "        uniform_ood=False,\n",
      "        id_dataset_name='CIFAR-10',\n",
      "        ood_dataset_name='SVHN',\n",
      "        num_pool_samples=100,\n",
      "        # class\n",
      "        acquisition_function=batchbald_redux.acquisition_functions.BatchBALD\n",
      "    ),\n",
      "    OodExperiment(\n",
      "        seed=1235,\n",
      "        uniform_ood=False,\n",
      "        id_dataset_name='SVHN',\n",
      "        ood_dataset_name='CIFAR-10',\n",
      "        num_pool_samples=100,\n",
      "        # class\n",
      "        acquisition_function=batchbald_redux.acquisition_functions.BatchBALD\n",
      "    )\n",
      "]\n"
     ]
    }
   ],
   "source": [
    "# slow\n",
    "import prettyprinter\n",
    "\n",
    "prettyprinter.install_extras(include={\"dataclasses\"})\n",
    "\n",
    "prettyprinter.pprint(configs)"
   ]
  },
  {
   "cell_type": "code",
   "execution_count": null,
   "metadata": {},
   "outputs": [],
   "source": []
  }
 ],
 "metadata": {
  "kernelspec": {
   "display_name": "Python [conda env:active_learning]",
   "language": "python",
   "name": "conda-env-active_learning-py"
  }
 },
 "nbformat": 4,
 "nbformat_minor": 4
}
