{
 "cells": [
  {
   "cell_type": "markdown",
   "metadata": {},
   "source": [
    "# Visualize BALD Scores for the Test Set During Training\n",
    "> Resistance is futile."
   ]
  },
  {
   "cell_type": "code",
   "execution_count": null,
   "metadata": {},
   "outputs": [
    {
     "name": "stdout",
     "output_type": "stream",
     "text": [
      "Appended /home/blackhc/PycharmProjects/bald-ical/src to paths\n",
      "Switched to directory /home/blackhc/PycharmProjects/bald-ical\n",
      "%load_ext autoreload\n",
      "%autoreload 2\n"
     ]
    }
   ],
   "source": [
    "# hide\n",
    "import blackhc.project.script"
   ]
  },
  {
   "cell_type": "markdown",
   "metadata": {},
   "source": [
    "Import modules and functions were are going to use."
   ]
  },
  {
   "cell_type": "code",
   "execution_count": null,
   "metadata": {},
   "outputs": [],
   "source": [
    "import torch"
   ]
  },
  {
   "cell_type": "code",
   "execution_count": null,
   "metadata": {},
   "outputs": [],
   "source": [
    "results = torch.load(\"extracted_test_scores_results.tpickle\")"
   ]
  },
  {
   "cell_type": "code",
   "execution_count": null,
   "metadata": {},
   "outputs": [],
   "source": [
    "import collections\n",
    "import functools\n",
    "import math\n",
    "import os\n",
    "import re\n",
    "from collections import namedtuple\n",
    "from dataclasses import dataclass\n",
    "from typing import NamedTuple\n",
    "\n",
    "import laaos\n",
    "import pandas as pd\n",
    "import seaborn as sns"
   ]
  },
  {
   "cell_type": "code",
   "execution_count": null,
   "metadata": {},
   "outputs": [],
   "source": [
    "# https://codereview.stackexchange.com/questions/85311/transform-snake-case-to-camelcase\n",
    "def camel_case_name(snake_case_name):\n",
    "    return re.sub(\"_([a-z])\", lambda match: match.group(1).upper(), snake_case_name)\n",
    "\n",
    "\n",
    "__namedtuples = {}\n",
    "\n",
    "\n",
    "def to_namedtuple(obj, name):\n",
    "    type_name = \"_\" + camel_case_name(name)\n",
    "    if isinstance(obj, dict):\n",
    "        keys = tuple(obj.keys())\n",
    "        if keys in __namedtuples:\n",
    "            nt = __namedtuples[keys]\n",
    "        else:\n",
    "            nt = namedtuple(type_name, keys)\n",
    "            __namedtuples[keys] = nt\n",
    "        return nt(*(to_namedtuple(v, k) for k, v in obj.items()))\n",
    "    if isinstance(obj, list):\n",
    "        item_type_name = type_name + \"Item\"\n",
    "        return [to_namedtuple(item, item_type_name) for item in obj]\n",
    "    if isinstance(obj, set):\n",
    "        item_type_name = type_name + \"Item\"\n",
    "        return {to_namedtuple(item, item_type_name) for item in obj}\n",
    "    if isinstance(obj, tuple):\n",
    "        item_type_name = type_name + \"Item\"\n",
    "        return tuple(to_namedtuple(item, item_type_name) for item in obj)\n",
    "\n",
    "    return obj\n",
    "\n",
    "\n",
    "def get_any(d: dict):\n",
    "    return next(iter(d.values()))\n",
    "\n",
    "\n",
    "def handle_map_funcs(func_kv, func_k, func_v, default=None):\n",
    "    if func_kv:\n",
    "        assert func_k is None and func_v is None\n",
    "\n",
    "        def inner(kv):\n",
    "            return func_kv(*kv)\n",
    "\n",
    "    elif func_k:\n",
    "        assert func_v is None\n",
    "\n",
    "        def inner(kv):\n",
    "            return func_k(kv[0]), kv[1]\n",
    "\n",
    "    elif func_v:\n",
    "\n",
    "        def inner(kv):\n",
    "            return kv[0], func_v(kv[1])\n",
    "\n",
    "    else:\n",
    "        return default\n",
    "    return inner\n",
    "\n",
    "\n",
    "def handle_unary_funcs(pred_kv, pred_k, pred_v, default=None):\n",
    "    if pred_kv:\n",
    "        assert pred_k is None and pred_v is None\n",
    "\n",
    "        def inner(kv):\n",
    "            return pred_kv(*kv)\n",
    "\n",
    "    elif pred_k:\n",
    "        assert pred_v is None\n",
    "\n",
    "        def inner(kv):\n",
    "            return pred_k(kv[0])\n",
    "\n",
    "    elif pred_v:\n",
    "\n",
    "        def inner(kv):\n",
    "            return pred_v(kv[1])\n",
    "\n",
    "    else:\n",
    "        return default\n",
    "    return inner\n",
    "\n",
    "\n",
    "def map_dict(d: dict, *, kv=None, k=None, v=None):\n",
    "    inner = handle_map_funcs(kv, k, v)\n",
    "    return dict(map(inner, d.items()))\n",
    "\n",
    "\n",
    "def filter_dict(d: dict, *, kv=None, k=None, v=None):\n",
    "    inner_pred = handle_unary_funcs(kv, k, v)\n",
    "    return dict(filter(inner_pred, d.items()))\n",
    "\n",
    "\n",
    "def sort_dict(d: dict, *, reverse=False, kv=None, k=None, v=None):\n",
    "    inner_key = handle_unary_funcs(kv, k, v, default=lambda ikv: ikv[0])\n",
    "    return dict(sorted(d.items(), key=inner_key, reverse=reverse))\n",
    "\n",
    "\n",
    "def groupby_dict(d: dict, *, key_kv=None, key_k=None, key_v=None, agg=None):\n",
    "    inner_key = handle_unary_funcs(key_kv, key_k, key_v)\n",
    "\n",
    "    grouped_by = {}\n",
    "    for kv in d.items():\n",
    "        new_key = inner_key(kv)\n",
    "        if new_key not in grouped_by:\n",
    "            grouped_by[new_key] = {}\n",
    "        key, value = kv\n",
    "        grouped_by[new_key][key] = value\n",
    "\n",
    "    if agg is not None:\n",
    "        return map_dict(grouped_by, v=agg)\n",
    "\n",
    "    return grouped_by"
   ]
  },
  {
   "cell_type": "code",
   "execution_count": null,
   "metadata": {},
   "outputs": [],
   "source": [
    "results = to_namedtuple(results, \"Results\")"
   ]
  },
  {
   "cell_type": "code",
   "execution_count": null,
   "metadata": {},
   "outputs": [],
   "source": [
    "bald_test_scores = [step.bald_test_scores for _, step in zip(range(50), results.active_learning_steps)]\n",
    "entropy_test_scores = [step.entropy_test_scores for _, step in zip(range(50), results.active_learning_steps)]"
   ]
  },
  {
   "cell_type": "code",
   "execution_count": null,
   "metadata": {},
   "outputs": [],
   "source": [
    "import scipy.stats\n",
    "import seaborn as sns\n",
    "import numpy as np\n",
    "import matplotlib.pyplot as plt\n",
    "import pandas as pd"
   ]
  },
  {
   "cell_type": "code",
   "execution_count": null,
   "metadata": {},
   "outputs": [],
   "source": [
    "test_scores = entropy_test_scores"
   ]
  },
  {
   "cell_type": "code",
   "execution_count": null,
   "metadata": {},
   "outputs": [],
   "source": [
    "sorted_indices = [np.argsort(-scores) for scores in test_scores]"
   ]
  },
  {
   "cell_type": "code",
   "execution_count": null,
   "metadata": {},
   "outputs": [
    {
     "name": "stdout",
     "output_type": "stream",
     "text": [
      "10000 10000\n",
      "4000 7084\n",
      "2000 5023\n",
      "1000 3496\n",
      "500 2369\n",
      "200 1392\n",
      "100 893\n",
      "50 547\n",
      "10 178\n",
      "1 28\n"
     ]
    }
   ],
   "source": [
    "rows = []\n",
    "for sample_size in (10000, 4000, 2000,1000,500,200,100, 50, 10, 1):\n",
    "    merged_indices = list(set.union(*(set(indices[:sample_size].tolist()) for indices in sorted_indices)))\n",
    "    print(sample_size, len(merged_indices))\n",
    "    rank_correlations = [scipy.stats.spearmanr(test_scores[0][merged_indices], other_scores[merged_indices]).correlation for other_scores in test_scores]\n",
    "    rows.append(dict(top_k_samples=f\"{sample_size} from each acquisition ({len(merged_indices)})\", acquisition=list(range(50)), rank_correlations=rank_correlations))"
   ]
  },
  {
   "cell_type": "code",
   "execution_count": null,
   "metadata": {},
   "outputs": [
    {
     "data": {
      "text/html": [
       "<div>\n",
       "<style scoped>\n",
       "    .dataframe tbody tr th:only-of-type {\n",
       "        vertical-align: middle;\n",
       "    }\n",
       "\n",
       "    .dataframe tbody tr th {\n",
       "        vertical-align: top;\n",
       "    }\n",
       "\n",
       "    .dataframe thead th {\n",
       "        text-align: right;\n",
       "    }\n",
       "</style>\n",
       "<table border=\"1\" class=\"dataframe\">\n",
       "  <thead>\n",
       "    <tr style=\"text-align: right;\">\n",
       "      <th></th>\n",
       "      <th>top_k_samples</th>\n",
       "      <th>acquisition</th>\n",
       "      <th>rank_correlations</th>\n",
       "    </tr>\n",
       "  </thead>\n",
       "  <tbody>\n",
       "    <tr>\n",
       "      <th>0</th>\n",
       "      <td>10000 from each acquisition (10000)</td>\n",
       "      <td>[0, 1, 2, 3, 4, 5, 6, 7, 8, 9, 10, 11, 12, 13,...</td>\n",
       "      <td>[1.0, 0.9348150647521507, 0.8487854376758545, ...</td>\n",
       "    </tr>\n",
       "    <tr>\n",
       "      <th>1</th>\n",
       "      <td>4000 from each acquisition (7084)</td>\n",
       "      <td>[0, 1, 2, 3, 4, 5, 6, 7, 8, 9, 10, 11, 12, 13,...</td>\n",
       "      <td>[1.0, 0.8842395180522377, 0.7335213085477783, ...</td>\n",
       "    </tr>\n",
       "    <tr>\n",
       "      <th>2</th>\n",
       "      <td>2000 from each acquisition (5023)</td>\n",
       "      <td>[0, 1, 2, 3, 4, 5, 6, 7, 8, 9, 10, 11, 12, 13,...</td>\n",
       "      <td>[1.0, 0.8264734704966276, 0.6217833149842225, ...</td>\n",
       "    </tr>\n",
       "    <tr>\n",
       "      <th>3</th>\n",
       "      <td>1000 from each acquisition (3496)</td>\n",
       "      <td>[0, 1, 2, 3, 4, 5, 6, 7, 8, 9, 10, 11, 12, 13,...</td>\n",
       "      <td>[1.0, 0.7819312894406188, 0.5471929472849594, ...</td>\n",
       "    </tr>\n",
       "    <tr>\n",
       "      <th>4</th>\n",
       "      <td>500 from each acquisition (2369)</td>\n",
       "      <td>[0, 1, 2, 3, 4, 5, 6, 7, 8, 9, 10, 11, 12, 13,...</td>\n",
       "      <td>[0.9999999999999999, 0.7340076500230266, 0.503...</td>\n",
       "    </tr>\n",
       "    <tr>\n",
       "      <th>5</th>\n",
       "      <td>200 from each acquisition (1392)</td>\n",
       "      <td>[0, 1, 2, 3, 4, 5, 6, 7, 8, 9, 10, 11, 12, 13,...</td>\n",
       "      <td>[0.9999999999999999, 0.7133486985664403, 0.504...</td>\n",
       "    </tr>\n",
       "    <tr>\n",
       "      <th>6</th>\n",
       "      <td>100 from each acquisition (893)</td>\n",
       "      <td>[0, 1, 2, 3, 4, 5, 6, 7, 8, 9, 10, 11, 12, 13,...</td>\n",
       "      <td>[1.0, 0.6955369712248815, 0.5018760124753169, ...</td>\n",
       "    </tr>\n",
       "    <tr>\n",
       "      <th>7</th>\n",
       "      <td>50 from each acquisition (547)</td>\n",
       "      <td>[0, 1, 2, 3, 4, 5, 6, 7, 8, 9, 10, 11, 12, 13,...</td>\n",
       "      <td>[0.9999999999999998, 0.6722264511399673, 0.531...</td>\n",
       "    </tr>\n",
       "    <tr>\n",
       "      <th>8</th>\n",
       "      <td>10 from each acquisition (178)</td>\n",
       "      <td>[0, 1, 2, 3, 4, 5, 6, 7, 8, 9, 10, 11, 12, 13,...</td>\n",
       "      <td>[1.0, 0.6328595032177964, 0.468283242670457, 0...</td>\n",
       "    </tr>\n",
       "    <tr>\n",
       "      <th>9</th>\n",
       "      <td>1 from each acquisition (28)</td>\n",
       "      <td>[0, 1, 2, 3, 4, 5, 6, 7, 8, 9, 10, 11, 12, 13,...</td>\n",
       "      <td>[0.9999999999999998, 0.599343185550082, 0.5440...</td>\n",
       "    </tr>\n",
       "  </tbody>\n",
       "</table>\n",
       "</div>"
      ],
      "text/plain": [
       "                         top_k_samples  \\\n",
       "0  10000 from each acquisition (10000)   \n",
       "1    4000 from each acquisition (7084)   \n",
       "2    2000 from each acquisition (5023)   \n",
       "3    1000 from each acquisition (3496)   \n",
       "4     500 from each acquisition (2369)   \n",
       "5     200 from each acquisition (1392)   \n",
       "6      100 from each acquisition (893)   \n",
       "7       50 from each acquisition (547)   \n",
       "8       10 from each acquisition (178)   \n",
       "9         1 from each acquisition (28)   \n",
       "\n",
       "                                         acquisition  \\\n",
       "0  [0, 1, 2, 3, 4, 5, 6, 7, 8, 9, 10, 11, 12, 13,...   \n",
       "1  [0, 1, 2, 3, 4, 5, 6, 7, 8, 9, 10, 11, 12, 13,...   \n",
       "2  [0, 1, 2, 3, 4, 5, 6, 7, 8, 9, 10, 11, 12, 13,...   \n",
       "3  [0, 1, 2, 3, 4, 5, 6, 7, 8, 9, 10, 11, 12, 13,...   \n",
       "4  [0, 1, 2, 3, 4, 5, 6, 7, 8, 9, 10, 11, 12, 13,...   \n",
       "5  [0, 1, 2, 3, 4, 5, 6, 7, 8, 9, 10, 11, 12, 13,...   \n",
       "6  [0, 1, 2, 3, 4, 5, 6, 7, 8, 9, 10, 11, 12, 13,...   \n",
       "7  [0, 1, 2, 3, 4, 5, 6, 7, 8, 9, 10, 11, 12, 13,...   \n",
       "8  [0, 1, 2, 3, 4, 5, 6, 7, 8, 9, 10, 11, 12, 13,...   \n",
       "9  [0, 1, 2, 3, 4, 5, 6, 7, 8, 9, 10, 11, 12, 13,...   \n",
       "\n",
       "                                   rank_correlations  \n",
       "0  [1.0, 0.9348150647521507, 0.8487854376758545, ...  \n",
       "1  [1.0, 0.8842395180522377, 0.7335213085477783, ...  \n",
       "2  [1.0, 0.8264734704966276, 0.6217833149842225, ...  \n",
       "3  [1.0, 0.7819312894406188, 0.5471929472849594, ...  \n",
       "4  [0.9999999999999999, 0.7340076500230266, 0.503...  \n",
       "5  [0.9999999999999999, 0.7133486985664403, 0.504...  \n",
       "6  [1.0, 0.6955369712248815, 0.5018760124753169, ...  \n",
       "7  [0.9999999999999998, 0.6722264511399673, 0.531...  \n",
       "8  [1.0, 0.6328595032177964, 0.468283242670457, 0...  \n",
       "9  [0.9999999999999998, 0.599343185550082, 0.5440...  "
      ]
     },
     "execution_count": null,
     "metadata": {},
     "output_type": "execute_result"
    }
   ],
   "source": [
    "df = pd.DataFrame.from_dict(rows)\n",
    "df"
   ]
  },
  {
   "cell_type": "code",
   "execution_count": null,
   "metadata": {},
   "outputs": [],
   "source": [
    "df = df.explode([\"acquisition\", \"rank_correlations\"])"
   ]
  },
  {
   "cell_type": "code",
   "execution_count": null,
   "metadata": {},
   "outputs": [
    {
     "data": {
      "text/plain": [
       "<seaborn.axisgrid.FacetGrid at 0x7fb8d7b06be0>"
      ]
     },
     "execution_count": null,
     "metadata": {},
     "output_type": "execute_result"
    },
    {
     "data": {
      "image/png": "[encoded data removed]",
      "text/plain": [
       "<Figure size 3600x360 with 10 Axes>"
      ]
     },
     "metadata": {
      "needs_background": "light"
     },
     "output_type": "display_data"
    }
   ],
   "source": [
    "sns.catplot(data=df, x=\"acquisition\", y=\"rank_correlations\", col=\"top_k_samples\", kind=\"bar\", sharex=True)    "
   ]
  },
  {
   "cell_type": "code",
   "execution_count": null,
   "metadata": {},
   "outputs": [],
   "source": []
  }
 ],
 "metadata": {
  "kernelspec": {
   "display_name": "Python [conda env:active_learning]",
   "language": "python",
   "name": "conda-env-active_learning-py"
  }
 },
 "nbformat": 4,
 "nbformat_minor": 4
}
