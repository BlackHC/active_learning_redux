{
 "cells": [
  {
   "cell_type": "code",
   "execution_count": null,
   "id": "focal-response",
   "metadata": {},
   "outputs": [],
   "source": [
    "# Tests for Baseline Acquisition Functions"
   ]
  },
  {
   "cell_type": "code",
   "execution_count": null,
   "id": "failing-little",
   "metadata": {},
   "outputs": [
    {
     "name": "stdout",
     "output_type": "stream",
     "text": [
      "Appended /home/blackhc/PycharmProjects/bald-ical/src to paths\n",
      "Switched to directory /home/blackhc/PycharmProjects/bald-ical\n",
      "%load_ext autoreload\n",
      "%autoreload 2\n"
     ]
    }
   ],
   "source": [
    "# hide\n",
    "\n",
    "import blackhc.project.script\n",
    "from nbdev.showdoc import *"
   ]
  },
  {
   "cell_type": "code",
   "execution_count": null,
   "id": "brown-filter",
   "metadata": {},
   "outputs": [],
   "source": [
    "import torch\n",
    "\n",
    "from batchbald_redux import baseline_acquisition_functions"
   ]
  },
  {
   "cell_type": "code",
   "execution_count": null,
   "id": "pleasant-convenience",
   "metadata": {},
   "outputs": [
    {
     "data": {
      "text/plain": [
       "tensor([-1.7019, -1.6160, -4.1097, -0.9801, -2.1539, -4.4987, -1.8911])"
      ]
     },
     "execution_count": null,
     "metadata": {},
     "output_type": "execute_result"
    }
   ],
   "source": [
    "baseline_acquisition_functions.get_variation_ratios(torch.randn(size=(7,13,10)), device=\"cpu\")"
   ]
  },
  {
   "cell_type": "code",
   "execution_count": null,
   "id": "metallic-spokesman",
   "metadata": {},
   "outputs": [
    {
     "data": {
      "text/plain": [
       "tensor([0.5793, 0.9042, 0.8619, 0.9185, 0.7739, 0.7329, 0.9758],\n",
       "       dtype=torch.float64)"
      ]
     },
     "execution_count": null,
     "metadata": {},
     "output_type": "execute_result"
    }
   ],
   "source": [
    "baseline_acquisition_functions.get_margin_scores(torch.randn(size=(7,13,10)), device=\"cpu\")"
   ]
  },
  {
   "cell_type": "code",
   "execution_count": null,
   "id": "entitled-notion",
   "metadata": {},
   "outputs": [
    {
     "data": {
      "text/plain": [
       "tensor([21.7611, 15.6393, 17.3622, 15.8508, 13.1821, 16.7927, 12.5366],\n",
       "       dtype=torch.float64)"
      ]
     },
     "execution_count": null,
     "metadata": {},
     "output_type": "execute_result"
    }
   ],
   "source": [
    "baseline_acquisition_functions.get_stddev_scores(torch.randn(size=(7,13,10)), device=\"cpu\")"
   ]
  }
 ],
 "metadata": {
  "kernelspec": {
   "display_name": "Python [conda env:active_learning]",
   "language": "python",
   "name": "conda-env-active_learning-py"
  }
 },
 "nbformat": 4,
 "nbformat_minor": 5
}
