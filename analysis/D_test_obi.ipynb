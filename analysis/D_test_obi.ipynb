{
 "cells": [
  {
   "cell_type": "markdown",
   "metadata": {},
   "source": [
    "# Test OBI Code\n",
    "> Ignorance is strength"
   ]
  },
  {
   "cell_type": "code",
   "execution_count": null,
   "metadata": {},
   "outputs": [
    {
     "name": "stdout",
     "output_type": "stream",
     "text": [
      "Appended /home/blackhc/PycharmProjects/bald-ical/src to paths\n",
      "Switched to directory /home/blackhc/PycharmProjects/bald-ical\n",
      "%load_ext autoreload\n",
      "%autoreload 2\n"
     ]
    }
   ],
   "source": [
    "# hide\n",
    "import blackhc.project.script"
   ]
  },
  {
   "cell_type": "code",
   "execution_count": null,
   "metadata": {},
   "outputs": [],
   "source": [
    "from batchbald_redux import online_bayesian_inference\n",
    "import torch"
   ]
  },
  {
   "cell_type": "code",
   "execution_count": null,
   "metadata": {},
   "outputs": [],
   "source": [
    "exp1 = torch.distributions.Exponential(1)"
   ]
  },
  {
   "cell_type": "code",
   "execution_count": null,
   "metadata": {},
   "outputs": [],
   "source": [
    "log_probs=torch.log(1+exp1.sample_n(100000))"
   ]
  },
  {
   "cell_type": "code",
   "execution_count": null,
   "metadata": {},
   "outputs": [
    {
     "data": {
      "text/plain": [
       "(tensor(59585.6602), tensor(59585.6641), tensor(59585.6641))"
      ]
     },
     "execution_count": null,
     "metadata": {},
     "output_type": "execute_result"
    }
   ],
   "source": [
    "torch.sum(log_probs), torch.sum(log_probs.double()).float(), online_bayesian_inference.sum_log_probs(log_probs, dim=0)"
   ]
  },
  {
   "cell_type": "code",
   "execution_count": null,
   "metadata": {},
   "outputs": [
    {
     "data": {
      "text/plain": [
       "tensor([-0.0147, -0.9602, -0.4252,  ..., -0.1417, -2.7528, -2.2379])"
      ]
     },
     "execution_count": null,
     "metadata": {},
     "output_type": "execute_result"
    }
   ],
   "source": [
    "log_probs = torch.log(torch.rand(10000))\n",
    "log_probs"
   ]
  },
  {
   "cell_type": "code",
   "execution_count": null,
   "metadata": {},
   "outputs": [
    {
     "data": {
      "text/plain": [
       "(tensor(-10135.6260), tensor(-10135.6260, dtype=torch.float64))"
      ]
     },
     "execution_count": null,
     "metadata": {},
     "output_type": "execute_result"
    }
   ],
   "source": [
    "torch.sum(log_probs), torch.sum(log_probs.double())"
   ]
  },
  {
   "cell_type": "markdown",
   "metadata": {},
   "source": [
    "# Retrain to 90% with 55 samples"
   ]
  },
  {
   "cell_type": "code",
   "execution_count": null,
   "metadata": {},
   "outputs": [],
   "source": [
    "# Rerun from 2022/04/15\n",
    "\n",
    "training_set_90 = [\n",
    "    46377,\n",
    "    44390,\n",
    "    7485,\n",
    "    25450,\n",
    "    12220,\n",
    "    43112,\n",
    "    3612,\n",
    "    54256,\n",
    "    44467,\n",
    "    17555,\n",
    "    4218,\n",
    "    45101,\n",
    "    41296,\n",
    "    32261,\n",
    "    3281,\n",
    "    6944,\n",
    "    7701,\n",
    "    30692,\n",
    "    24891,\n",
    "    24436,\n",
    "    17776,\n",
    "    36852,\n",
    "    26891,\n",
    "    17001,\n",
    "    44414,\n",
    "    23050,\n",
    "    30884,\n",
    "    41516,\n",
    "    8897,\n",
    "    34608,\n",
    "    11721,\n",
    "    13127,\n",
    "    9870,\n",
    "    39700,\n",
    "    13985,\n",
    "    9608,\n",
    "    17808,\n",
    "    23028,\n",
    "    3494,\n",
    "    10210,\n",
    "    42384,\n",
    "    31742,\n",
    "    17100,\n",
    "    46530,\n",
    "    26733,\n",
    "    4762,\n",
    "    14113,\n",
    "    20798,\n",
    "    28388,\n",
    "    42973,\n",
    "    37347,\n",
    "    55042,\n",
    "    41295,\n",
    "    28310,\n",
    "    19280,\n",
    "    18501,\n",
    "    274,\n",
    "    11208,\n",
    "    13335,\n",
    "    24440,\n",
    "    49493,\n",
    "    58129,\n",
    "    56210,\n",
    "    40766,\n",
    "    13318,\n",
    "    50040,\n",
    "    18408,\n",
    "    7255,\n",
    "    15494,\n",
    "    7168,\n",
    "    9472,\n",
    "    14845,\n",
    "    14096,\n",
    "    26072,\n",
    "    35944,\n",
    "    34836,\n",
    "    12655,\n",
    "    991,\n",
    "    38577,\n",
    "    47322,\n",
    "    45212,\n",
    "    16286,\n",
    "    5308,\n",
    "    38182,\n",
    "    31624,\n",
    "    12702,\n",
    "    30861,\n",
    "    46320,\n",
    "    36408,\n",
    "    49841,\n",
    "    33426,\n",
    "    57527,\n",
    "    3273,\n",
    "    24740,\n",
    "    39627,\n",
    "    22199,\n",
    "    19362,\n",
    "    42136,\n",
    "    41965,\n",
    "    43095,\n",
    "]\n",
    "\n",
    "training_set_90[:20] = [51348,\n",
    " 49110,\n",
    " 8222,\n",
    " 28130,\n",
    " 13484,\n",
    " 47685,\n",
    " 3938,\n",
    " 59930,\n",
    " 49196,\n",
    " 19427,\n",
    " 4601,\n",
    " 49922,\n",
    " 45635,\n",
    " 35684,\n",
    " 3579,\n",
    " 7621,\n",
    " 8465,\n",
    " 33959,\n",
    " 27521,\n",
    " 27015]"
   ]
  },
  {
   "cell_type": "code",
   "execution_count": null,
   "metadata": {},
   "outputs": [],
   "source": [
    "# Extracted from stored, old results\n",
    "\n",
    "training_set_90 = [\n",
    "    46377,\n",
    "    44390,\n",
    "    7485,\n",
    "    25450,\n",
    "    12220,\n",
    "    43112,\n",
    "    3612,\n",
    "    54256,\n",
    "    44467,\n",
    "    17555,\n",
    "    4218,\n",
    "    45101,\n",
    "    41296,\n",
    "    32261,\n",
    "    3281,\n",
    "    6944,\n",
    "    7701,\n",
    "    30692,\n",
    "    24891,\n",
    "    24436,\n",
    "    2748,\n",
    "    34,\n",
    "    8009,\n",
    "    27203,\n",
    "    54180,\n",
    "    39513,\n",
    "    45801,\n",
    "    34608,\n",
    "    57338,\n",
    "    37095,\n",
    "    5474,\n",
    "    7304,\n",
    "    13153,\n",
    "    4820,\n",
    "    49406,\n",
    "    7865,\n",
    "    7863,\n",
    "    42303,\n",
    "    2942,\n",
    "    52175,\n",
    "    57842,\n",
    "    9472,\n",
    "    16908,\n",
    "    12585,\n",
    "    29130,\n",
    "    29839,\n",
    "    49509,\n",
    "    6947,\n",
    "    18501,\n",
    "    12422,\n",
    "    3742,\n",
    "    19362,\n",
    "    43169,\n",
    "    44202,\n",
    "    22497,\n",
    "]\n",
    "\n",
    "training_set_90[:20] = [51348,\n",
    " 49110,\n",
    " 8222,\n",
    " 28130,\n",
    " 13484,\n",
    " 47685,\n",
    " 3938,\n",
    " 59930,\n",
    " 49196,\n",
    " 19427,\n",
    " 4601,\n",
    " 49922,\n",
    " 45635,\n",
    " 35684,\n",
    " 3579,\n",
    " 7621,\n",
    " 8465,\n",
    " 33959,\n",
    " 27521,\n",
    " 27015]"
   ]
  },
  {
   "cell_type": "code",
   "execution_count": null,
   "metadata": {},
   "outputs": [],
   "source": [
    "import dataclasses\n",
    "import traceback\n",
    "from dataclasses import dataclass\n",
    "from typing import Type, Union\n",
    "\n",
    "import torch\n",
    "import torch.utils.data\n",
    "from blackhc.project import is_run_from_ipython\n",
    "from blackhc.project.experiment import embedded_experiments\n",
    "from torch.utils.data import Dataset\n",
    "\n",
    "import batchbald_redux.acquisition_functions as acquisition_functions\n",
    "from batchbald_redux.acquisition_functions import (\n",
    "    CandidateBatchComputer,\n",
    "    EvalModelBatchComputer,\n",
    ")\n",
    "from batchbald_redux.active_learning import ActiveLearningData, RandomFixedLengthSampler\n",
    "from batchbald_redux.black_box_model_training import evaluate_old, train\n",
    "from batchbald_redux.dataset_challenges import (\n",
    "    AdditiveGaussianNoise,\n",
    "    NamedDataset,\n",
    "    create_repeated_MNIST_dataset,\n",
    "    get_balanced_sample_indices,\n",
    "    get_base_dataset_index,\n",
    "    get_target,\n",
    ")\n",
    "from batchbald_redux.di import DependencyInjection\n",
    "from batchbald_redux.fast_mnist import FastMNIST\n",
    "from batchbald_redux.model_optimizer_factory import ModelOptimizerFactory\n",
    "from batchbald_redux.models import MnistOptimizerFactory"
   ]
  },
  {
   "cell_type": "code",
   "execution_count": null,
   "metadata": {},
   "outputs": [],
   "source": [
    "# From the BatchBALD Repo\n",
    "from batchbald_redux.train_eval_model import (\n",
    "    TrainEvalModel,\n",
    "    TrainSelfDistillationEvalModel,\n",
    ")\n",
    "from batchbald_redux.trained_model import TrainedBayesianModel"
   ]
  },
  {
   "cell_type": "code",
   "execution_count": null,
   "metadata": {},
   "outputs": [],
   "source": [
    "from blackhc.progress_bar import create_progress_bar\n",
    "from toma import toma\n",
    "\n",
    "\n",
    "def compute_entropy_from_probs(probs_N_K_C: torch.Tensor) -> torch.Tensor:\n",
    "    N, K, C = probs_N_K_C.shape\n",
    "\n",
    "    entropies_N = torch.empty(N, dtype=torch.double)\n",
    "\n",
    "    pbar = create_progress_bar(N, tqdm_args=dict(desc=\"Entropy\", leave=False))\n",
    "    pbar.start()\n",
    "\n",
    "    @toma.execute.chunked(probs_N_K_C, 1024)\n",
    "    def compute(probs_n_K_C, start: int, end: int):\n",
    "        mean_probs_n_C = probs_n_K_C.mean(dim=1)\n",
    "        nats_n_C = mean_probs_n_C * torch.log(mean_probs_n_C)\n",
    "        nats_n_C[mean_probs_n_C == 0] = 0.0\n",
    "\n",
    "        entropies_N[start:end].copy_(-torch.sum(nats_n_C, dim=1))\n",
    "        pbar.update(end - start)\n",
    "\n",
    "    pbar.finish()\n",
    "\n",
    "    return entropies_N"
   ]
  },
  {
   "cell_type": "code",
   "execution_count": null,
   "metadata": {},
   "outputs": [
    {
     "ename": "NameError",
     "evalue": "name 'device' is not defined",
     "output_type": "error",
     "traceback": [
      "\u001b[0;31m---------------------------------------------------------------------------\u001b[0m",
      "\u001b[0;31mNameError\u001b[0m                                 Traceback (most recent call last)",
      "\u001b[0;32m<ipython-input-10-25bd2e5307fd>\u001b[0m in \u001b[0;36m<module>\u001b[0;34m\u001b[0m\n\u001b[1;32m      1\u001b[0m train_dataset = NamedDataset(\n\u001b[0;32m----> 2\u001b[0;31m             \u001b[0mFastMNIST\u001b[0m\u001b[0;34m(\u001b[0m\u001b[0;34m\"data\"\u001b[0m\u001b[0;34m,\u001b[0m \u001b[0mtrain\u001b[0m\u001b[0;34m=\u001b[0m\u001b[0;32mTrue\u001b[0m\u001b[0;34m,\u001b[0m \u001b[0mdownload\u001b[0m\u001b[0;34m=\u001b[0m\u001b[0;32mTrue\u001b[0m\u001b[0;34m,\u001b[0m \u001b[0mdevice\u001b[0m\u001b[0;34m=\u001b[0m\u001b[0mdevice\u001b[0m\u001b[0;34m)\u001b[0m\u001b[0;34m,\u001b[0m \u001b[0;34m\"FastMNIST (train)\"\u001b[0m\u001b[0;34m\u001b[0m\u001b[0;34m\u001b[0m\u001b[0m\n\u001b[0m\u001b[1;32m      3\u001b[0m         )\n\u001b[1;32m      4\u001b[0m \u001b[0mtrain_predictions\u001b[0m \u001b[0;34m=\u001b[0m \u001b[0mtorch\u001b[0m\u001b[0;34m.\u001b[0m\u001b[0mload\u001b[0m\u001b[0;34m(\u001b[0m\u001b[0;34m\"./data/mnist_train_predictions.pt\"\u001b[0m\u001b[0;34m,\u001b[0m \u001b[0mmap_location\u001b[0m\u001b[0;34m=\u001b[0m\u001b[0mdevice\u001b[0m\u001b[0;34m)\u001b[0m\u001b[0;34m\u001b[0m\u001b[0;34m\u001b[0m\u001b[0m\n\u001b[1;32m      5\u001b[0m \u001b[0;31m# train_dataset = train_dataset.override_targets(targets=train_predictions.argmax(dim=1))\u001b[0m\u001b[0;34m\u001b[0m\u001b[0;34m\u001b[0m\u001b[0;34m\u001b[0m\u001b[0m\n",
      "\u001b[0;31mNameError\u001b[0m: name 'device' is not defined"
     ]
    }
   ],
   "source": [
    "train_dataset = NamedDataset(\n",
    "            FastMNIST(\"data\", train=True, download=True, device=device), \"FastMNIST (train)\"\n",
    "        )\n",
    "train_predictions = torch.load(\"./data/mnist_train_predictions.pt\", map_location=device)\n",
    "# train_dataset = train_dataset.override_targets(targets=train_predictions.argmax(dim=1))\n",
    "\n",
    "train_entropies = compute_entropy_from_probs(train_predictions[:, None, :])\n",
    "\n",
    "allowed_indices = torch.nonzero(train_entropies < 0.01, as_tuple=True)[0].numpy()\n",
    "allowed_train_dataset = train_dataset.subset(allowed_indices)\n",
    "fixed_initial_set_indices = [\n",
    "    allowed_train_dataset.get_base_dataset_index(i).index for i in training_set_90[:20]\n",
    "]\n",
    "fixed_initial_set_indices\n"
   ]
  },
  {
   "cell_type": "code",
   "execution_count": null,
   "metadata": {
    "tags": []
   },
   "outputs": [],
   "source": [
    "@dataclass\n",
    "class Experiment:\n",
    "    seed: int = 1337\n",
    "    training_set_size: int = 35\n",
    "    num_pool_samples: int = 20\n",
    "    num_validation_samples: int = 20\n",
    "    num_training_samples: int = 1\n",
    "    num_patience_epochs: int = 5 * 4\n",
    "    max_training_epochs: int = 30 * 4\n",
    "    training_batch_size: int = 64\n",
    "    device: str = \"cuda\"\n",
    "    validation_set_size: int = 1024\n",
    "    initial_training_set_size: int = 20\n",
    "    min_samples_per_epoch: int = 1024    \n",
    "    model_optimizer_factory: Type[ModelOptimizerFactory] = MnistOptimizerFactory\n",
    "    \n",
    "    def load_dataset(self) -> (ActiveLearningData, Dataset, Dataset):\n",
    "        train_dataset = NamedDataset(\n",
    "            FastMNIST(\"data\", train=True, download=True, device=self.device), \"FastMNIST (train)\"\n",
    "        )\n",
    "        #train_predictions = torch.load(\"./data/mnist_train_predictions.pt\", map_location=self.device)\n",
    "        # train_dataset = train_dataset.override_targets(targets=train_predictions.argmax(dim=1))\n",
    "\n",
    "#         train_entropies = compute_entropy_from_probs(train_predictions[:, None, :])\n",
    "\n",
    "#         allowed_indices = torch.nonzero(train_entropies < 0.01, as_tuple=True)[0].numpy()\n",
    "#         allowed_train_dataset = train_dataset.subset(allowed_indices)\n",
    "#         fixed_initial_set_indices = [\n",
    "#             allowed_train_dataset.get_base_dataset_index(i).index for i in training_set_90[:20]\n",
    "#         ]\n",
    "\n",
    "        active_learning_data = ActiveLearningData(train_dataset)\n",
    "\n",
    "        active_learning_data.acquire_base_indices(training_set_90[:self.training_set_size])\n",
    "\n",
    "        active_learning_data_validation_set = ActiveLearningData(train_dataset)\n",
    "        active_learning_data_validation_set.acquire_base_indices(training_set_90)\n",
    "\n",
    "        validation_dataset = active_learning_data_validation_set.extract_dataset_from_pool(self.validation_set_size)\n",
    "        validation_dataset = NamedDataset(\n",
    "            validation_dataset, f\"FastMNIST (validation, {len(validation_dataset)} samples)\"\n",
    "        )\n",
    "\n",
    "        test_dataset = FastMNIST(\"data\", train=False, device=self.device)\n",
    "        test_dataset = NamedDataset(test_dataset, f\"FastMNIST (test, {len(test_dataset)} samples)\")\n",
    "\n",
    "        return active_learning_data, validation_dataset, test_dataset, training_set_90[:20]\n",
    "\n",
    "    def run(self, store):\n",
    "        torch.manual_seed(self.seed)\n",
    "\n",
    "        # Active Learning setup\n",
    "        active_learning_data, validation_dataset, test_dataset, initial_training_set_indices = self.load_dataset()\n",
    "        store[\"initial_training_set_indices\"] = initial_training_set_indices\n",
    "        store[\"dataset_info\"] = dict(training=repr(active_learning_data.base_dataset), test=repr(test_dataset))\n",
    "\n",
    "        # initial_training_set_indices = active_learning_data.get_random_pool_indices(self.initial_set_size)\n",
    "        # initial_training_set_indices = get_balanced_sample_indices(\n",
    "        #     active_learning_data.pool_dataset, 10, self.initial_set_size // 10\n",
    "        # )\n",
    "\n",
    "        train_loader = torch.utils.data.DataLoader(\n",
    "            active_learning_data.training_dataset,\n",
    "            batch_size=64,\n",
    "            sampler=RandomFixedLengthSampler(active_learning_data.training_dataset, self.min_samples_per_epoch),\n",
    "            drop_last=True,\n",
    "        )\n",
    "        pool_loader = torch.utils.data.DataLoader(\n",
    "            active_learning_data.pool_dataset, batch_size=128, drop_last=False, shuffle=False\n",
    "        )\n",
    "\n",
    "        validation_loader = torch.utils.data.DataLoader(validation_dataset, batch_size=128, drop_last=False)\n",
    "        test_loader = torch.utils.data.DataLoader(test_dataset, batch_size=128, drop_last=False)\n",
    "\n",
    "        store[\"active_learning_steps\"] = []\n",
    "        active_learning_steps = store[\"active_learning_steps\"]\n",
    "\n",
    "        training_set_size = len(active_learning_data.training_dataset)\n",
    "        print(f\"Training set size {training_set_size}:\")\n",
    "\n",
    "        # iteration_log = dict(training={}, pool_training={}, evaluation_metrics=None, acquisition=None)\n",
    "        active_learning_steps.append({})\n",
    "        iteration_log = active_learning_steps[-1]\n",
    "\n",
    "        iteration_log[\"training\"] = {}\n",
    "\n",
    "        model_optimizer = self.model_optimizer_factory().create_model_optimizer()\n",
    "\n",
    "        double_snapshots = None\n",
    "        if training_set_size > 0:\n",
    "            train(\n",
    "                model=model_optimizer.model,\n",
    "                optimizer=model_optimizer.optimizer,\n",
    "                training_samples=self.num_training_samples,\n",
    "                validation_samples=self.num_validation_samples,\n",
    "                train_loader=train_loader,\n",
    "                validation_loader=validation_loader,\n",
    "                patience=self.num_patience_epochs,\n",
    "                max_epochs=self.max_training_epochs,\n",
    "                device=self.device,\n",
    "                training_log=iteration_log[\"training\"],\n",
    "                wandb_key_path=\"\",\n",
    "            )\n",
    "\n",
    "        evaluation_metrics = evaluate_old(\n",
    "            model=model_optimizer.model,\n",
    "            num_samples=self.num_validation_samples,\n",
    "            loader=test_loader,\n",
    "            device=self.device,\n",
    "        )\n",
    "        iteration_log[\"evaluation_metrics\"] = evaluation_metrics\n",
    "        print(f\"Perf after training {evaluation_metrics}\")\n",
    "        return model_optimizer.model"
   ]
  },
  {
   "cell_type": "code",
   "execution_count": null,
   "metadata": {},
   "outputs": [],
   "source": [
    "experiment = Experiment(\n",
    "    seed=7,\n",
    "    training_set_size=25,\n",
    "    num_pool_samples=100,\n",
    "    device=\"cuda\",\n",
    ")"
   ]
  },
  {
   "cell_type": "code",
   "execution_count": null,
   "metadata": {},
   "outputs": [],
   "source": [
    "import dataclasses"
   ]
  },
  {
   "cell_type": "code",
   "execution_count": null,
   "metadata": {},
   "outputs": [
    {
     "name": "stdout",
     "output_type": "stream",
     "text": [
      "Training set size 35:\n"
     ]
    },
    {
     "data": {
      "application/vnd.jupyter.widget-view+json": {
       "model_id": "89a63be59ca1428c91aac2a8a2376915",
       "version_major": 2,
       "version_minor": 0
      },
      "text/plain": [
       "  1%|          | 1/120 [00:00<?, ?it/s]"
      ]
     },
     "metadata": {},
     "output_type": "display_data"
    },
    {
     "data": {
      "application/vnd.jupyter.widget-view+json": {
       "model_id": "",
       "version_major": 2,
       "version_minor": 0
      },
      "text/plain": [
       "[1/16]   6%|6          [00:00<?]"
      ]
     },
     "metadata": {},
     "output_type": "display_data"
    },
    {
     "name": "stdout",
     "output_type": "stream",
     "text": [
      "Epoch metrics: {'accuracy': 0.447265625, 'crossentropy': 1.9910835027694702}\n"
     ]
    },
    {
     "data": {
      "application/vnd.jupyter.widget-view+json": {
       "model_id": "",
       "version_major": 2,
       "version_minor": 0
      },
      "text/plain": [
       "[1/16]   6%|6          [00:00<?]"
      ]
     },
     "metadata": {},
     "output_type": "display_data"
    },
    {
     "name": "stdout",
     "output_type": "stream",
     "text": [
      "Epoch metrics: {'accuracy': 0.6103515625, 'crossentropy': 1.2986295223236084}\n"
     ]
    },
    {
     "data": {
      "application/vnd.jupyter.widget-view+json": {
       "model_id": "",
       "version_major": 2,
       "version_minor": 0
      },
      "text/plain": [
       "[1/16]   6%|6          [00:00<?]"
      ]
     },
     "metadata": {},
     "output_type": "display_data"
    },
    {
     "name": "stdout",
     "output_type": "stream",
     "text": [
      "Epoch metrics: {'accuracy': 0.716796875, 'crossentropy': 0.9267570972442627}\n"
     ]
    },
    {
     "data": {
      "application/vnd.jupyter.widget-view+json": {
       "model_id": "",
       "version_major": 2,
       "version_minor": 0
      },
      "text/plain": [
       "[1/16]   6%|6          [00:00<?]"
      ]
     },
     "metadata": {},
     "output_type": "display_data"
    },
    {
     "name": "stdout",
     "output_type": "stream",
     "text": [
      "Epoch metrics: {'accuracy': 0.7265625, 'crossentropy': 0.876323401927948}\n"
     ]
    },
    {
     "data": {
      "application/vnd.jupyter.widget-view+json": {
       "model_id": "",
       "version_major": 2,
       "version_minor": 0
      },
      "text/plain": [
       "[1/16]   6%|6          [00:00<?]"
      ]
     },
     "metadata": {},
     "output_type": "display_data"
    },
    {
     "name": "stdout",
     "output_type": "stream",
     "text": [
      "Epoch metrics: {'accuracy': 0.7216796875, 'crossentropy': 0.8672223687171936}\n",
      "RestoringEarlyStopping: 1 / 20\n"
     ]
    },
    {
     "data": {
      "application/vnd.jupyter.widget-view+json": {
       "model_id": "",
       "version_major": 2,
       "version_minor": 0
      },
      "text/plain": [
       "[1/16]   6%|6          [00:00<?]"
      ]
     },
     "metadata": {},
     "output_type": "display_data"
    },
    {
     "name": "stdout",
     "output_type": "stream",
     "text": [
      "Epoch metrics: {'accuracy': 0.75390625, 'crossentropy': 0.7793159484863281}\n"
     ]
    },
    {
     "data": {
      "application/vnd.jupyter.widget-view+json": {
       "model_id": "",
       "version_major": 2,
       "version_minor": 0
      },
      "text/plain": [
       "[1/16]   6%|6          [00:00<?]"
      ]
     },
     "metadata": {},
     "output_type": "display_data"
    },
    {
     "name": "stdout",
     "output_type": "stream",
     "text": [
      "Epoch metrics: {'accuracy': 0.7646484375, 'crossentropy': 0.7471761107444763}\n"
     ]
    },
    {
     "data": {
      "application/vnd.jupyter.widget-view+json": {
       "model_id": "",
       "version_major": 2,
       "version_minor": 0
      },
      "text/plain": [
       "[1/16]   6%|6          [00:00<?]"
      ]
     },
     "metadata": {},
     "output_type": "display_data"
    },
    {
     "name": "stdout",
     "output_type": "stream",
     "text": [
      "Epoch metrics: {'accuracy': 0.734375, 'crossentropy': 0.8230096697807312}\n",
      "RestoringEarlyStopping: 1 / 20\n"
     ]
    },
    {
     "data": {
      "application/vnd.jupyter.widget-view+json": {
       "model_id": "",
       "version_major": 2,
       "version_minor": 0
      },
      "text/plain": [
       "[1/16]   6%|6          [00:00<?]"
      ]
     },
     "metadata": {},
     "output_type": "display_data"
    },
    {
     "name": "stdout",
     "output_type": "stream",
     "text": [
      "Epoch metrics: {'accuracy': 0.7412109375, 'crossentropy': 0.8189630508422852}\n",
      "RestoringEarlyStopping: 2 / 20\n"
     ]
    },
    {
     "data": {
      "application/vnd.jupyter.widget-view+json": {
       "model_id": "",
       "version_major": 2,
       "version_minor": 0
      },
      "text/plain": [
       "[1/16]   6%|6          [00:00<?]"
      ]
     },
     "metadata": {},
     "output_type": "display_data"
    },
    {
     "name": "stdout",
     "output_type": "stream",
     "text": [
      "Epoch metrics: {'accuracy': 0.7705078125, 'crossentropy': 0.7629503607749939}\n"
     ]
    },
    {
     "data": {
      "application/vnd.jupyter.widget-view+json": {
       "model_id": "",
       "version_major": 2,
       "version_minor": 0
      },
      "text/plain": [
       "[1/16]   6%|6          [00:00<?]"
      ]
     },
     "metadata": {},
     "output_type": "display_data"
    },
    {
     "name": "stdout",
     "output_type": "stream",
     "text": [
      "Epoch metrics: {'accuracy': 0.755859375, 'crossentropy': 0.7886953949928284}\n",
      "RestoringEarlyStopping: 1 / 20\n"
     ]
    },
    {
     "data": {
      "application/vnd.jupyter.widget-view+json": {
       "model_id": "",
       "version_major": 2,
       "version_minor": 0
      },
      "text/plain": [
       "[1/16]   6%|6          [00:00<?]"
      ]
     },
     "metadata": {},
     "output_type": "display_data"
    },
    {
     "name": "stdout",
     "output_type": "stream",
     "text": [
      "Epoch metrics: {'accuracy': 0.7265625, 'crossentropy': 0.8610079288482666}\n",
      "RestoringEarlyStopping: 2 / 20\n"
     ]
    },
    {
     "data": {
      "application/vnd.jupyter.widget-view+json": {
       "model_id": "",
       "version_major": 2,
       "version_minor": 0
      },
      "text/plain": [
       "[1/16]   6%|6          [00:00<?]"
      ]
     },
     "metadata": {},
     "output_type": "display_data"
    },
    {
     "name": "stdout",
     "output_type": "stream",
     "text": [
      "Epoch metrics: {'accuracy': 0.78125, 'crossentropy': 0.7178570628166199}\n"
     ]
    },
    {
     "data": {
      "application/vnd.jupyter.widget-view+json": {
       "model_id": "",
       "version_major": 2,
       "version_minor": 0
      },
      "text/plain": [
       "[1/16]   6%|6          [00:00<?]"
      ]
     },
     "metadata": {},
     "output_type": "display_data"
    },
    {
     "name": "stdout",
     "output_type": "stream",
     "text": [
      "Epoch metrics: {'accuracy': 0.767578125, 'crossentropy': 0.7405175566673279}\n",
      "RestoringEarlyStopping: 1 / 20\n"
     ]
    },
    {
     "data": {
      "application/vnd.jupyter.widget-view+json": {
       "model_id": "",
       "version_major": 2,
       "version_minor": 0
      },
      "text/plain": [
       "[1/16]   6%|6          [00:00<?]"
      ]
     },
     "metadata": {},
     "output_type": "display_data"
    },
    {
     "name": "stdout",
     "output_type": "stream",
     "text": [
      "Epoch metrics: {'accuracy': 0.734375, 'crossentropy': 0.8230465650558472}\n",
      "RestoringEarlyStopping: 2 / 20\n"
     ]
    },
    {
     "data": {
      "application/vnd.jupyter.widget-view+json": {
       "model_id": "",
       "version_major": 2,
       "version_minor": 0
      },
      "text/plain": [
       "[1/16]   6%|6          [00:00<?]"
      ]
     },
     "metadata": {},
     "output_type": "display_data"
    },
    {
     "name": "stdout",
     "output_type": "stream",
     "text": [
      "Epoch metrics: {'accuracy': 0.7578125, 'crossentropy': 0.7819514870643616}\n",
      "RestoringEarlyStopping: 3 / 20\n"
     ]
    },
    {
     "data": {
      "application/vnd.jupyter.widget-view+json": {
       "model_id": "",
       "version_major": 2,
       "version_minor": 0
      },
      "text/plain": [
       "[1/16]   6%|6          [00:00<?]"
      ]
     },
     "metadata": {},
     "output_type": "display_data"
    },
    {
     "name": "stdout",
     "output_type": "stream",
     "text": [
      "Epoch metrics: {'accuracy': 0.763671875, 'crossentropy': 0.770061194896698}\n",
      "RestoringEarlyStopping: 4 / 20\n"
     ]
    },
    {
     "data": {
      "application/vnd.jupyter.widget-view+json": {
       "model_id": "",
       "version_major": 2,
       "version_minor": 0
      },
      "text/plain": [
       "[1/16]   6%|6          [00:00<?]"
      ]
     },
     "metadata": {},
     "output_type": "display_data"
    },
    {
     "name": "stdout",
     "output_type": "stream",
     "text": [
      "Epoch metrics: {'accuracy': 0.74609375, 'crossentropy': 0.8162933588027954}\n",
      "RestoringEarlyStopping: 5 / 20\n"
     ]
    },
    {
     "data": {
      "application/vnd.jupyter.widget-view+json": {
       "model_id": "",
       "version_major": 2,
       "version_minor": 0
      },
      "text/plain": [
       "[1/16]   6%|6          [00:00<?]"
      ]
     },
     "metadata": {},
     "output_type": "display_data"
    },
    {
     "name": "stdout",
     "output_type": "stream",
     "text": [
      "Epoch metrics: {'accuracy': 0.7470703125, 'crossentropy': 0.7772052884101868}\n",
      "RestoringEarlyStopping: 6 / 20\n"
     ]
    },
    {
     "data": {
      "application/vnd.jupyter.widget-view+json": {
       "model_id": "",
       "version_major": 2,
       "version_minor": 0
      },
      "text/plain": [
       "[1/16]   6%|6          [00:00<?]"
      ]
     },
     "metadata": {},
     "output_type": "display_data"
    },
    {
     "name": "stdout",
     "output_type": "stream",
     "text": [
      "Epoch metrics: {'accuracy': 0.76953125, 'crossentropy': 0.7139804363250732}\n",
      "RestoringEarlyStopping: 7 / 20\n"
     ]
    },
    {
     "data": {
      "application/vnd.jupyter.widget-view+json": {
       "model_id": "",
       "version_major": 2,
       "version_minor": 0
      },
      "text/plain": [
       "[1/16]   6%|6          [00:00<?]"
      ]
     },
     "metadata": {},
     "output_type": "display_data"
    },
    {
     "name": "stdout",
     "output_type": "stream",
     "text": [
      "Epoch metrics: {'accuracy': 0.759765625, 'crossentropy': 0.7514800429344177}\n",
      "RestoringEarlyStopping: 8 / 20\n"
     ]
    },
    {
     "data": {
      "application/vnd.jupyter.widget-view+json": {
       "model_id": "",
       "version_major": 2,
       "version_minor": 0
      },
      "text/plain": [
       "[1/16]   6%|6          [00:00<?]"
      ]
     },
     "metadata": {},
     "output_type": "display_data"
    },
    {
     "name": "stdout",
     "output_type": "stream",
     "text": [
      "Epoch metrics: {'accuracy': 0.7314453125, 'crossentropy': 0.8474382162094116}\n",
      "RestoringEarlyStopping: 9 / 20\n"
     ]
    },
    {
     "data": {
      "application/vnd.jupyter.widget-view+json": {
       "model_id": "",
       "version_major": 2,
       "version_minor": 0
      },
      "text/plain": [
       "[1/16]   6%|6          [00:00<?]"
      ]
     },
     "metadata": {},
     "output_type": "display_data"
    },
    {
     "name": "stdout",
     "output_type": "stream",
     "text": [
      "Epoch metrics: {'accuracy': 0.7333984375, 'crossentropy': 0.815249502658844}\n",
      "RestoringEarlyStopping: 10 / 20\n"
     ]
    },
    {
     "data": {
      "application/vnd.jupyter.widget-view+json": {
       "model_id": "",
       "version_major": 2,
       "version_minor": 0
      },
      "text/plain": [
       "[1/16]   6%|6          [00:00<?]"
      ]
     },
     "metadata": {},
     "output_type": "display_data"
    },
    {
     "name": "stdout",
     "output_type": "stream",
     "text": [
      "Epoch metrics: {'accuracy': 0.736328125, 'crossentropy': 0.8011304140090942}\n",
      "RestoringEarlyStopping: 11 / 20\n"
     ]
    },
    {
     "data": {
      "application/vnd.jupyter.widget-view+json": {
       "model_id": "",
       "version_major": 2,
       "version_minor": 0
      },
      "text/plain": [
       "[1/16]   6%|6          [00:00<?]"
      ]
     },
     "metadata": {},
     "output_type": "display_data"
    },
    {
     "name": "stdout",
     "output_type": "stream",
     "text": [
      "Epoch metrics: {'accuracy': 0.7529296875, 'crossentropy': 0.7968822121620178}\n",
      "RestoringEarlyStopping: 12 / 20\n"
     ]
    },
    {
     "data": {
      "application/vnd.jupyter.widget-view+json": {
       "model_id": "",
       "version_major": 2,
       "version_minor": 0
      },
      "text/plain": [
       "[1/16]   6%|6          [00:00<?]"
      ]
     },
     "metadata": {},
     "output_type": "display_data"
    },
    {
     "name": "stdout",
     "output_type": "stream",
     "text": [
      "Epoch metrics: {'accuracy': 0.755859375, 'crossentropy': 0.7825013995170593}\n",
      "RestoringEarlyStopping: 13 / 20\n"
     ]
    },
    {
     "data": {
      "application/vnd.jupyter.widget-view+json": {
       "model_id": "",
       "version_major": 2,
       "version_minor": 0
      },
      "text/plain": [
       "[1/16]   6%|6          [00:00<?]"
      ]
     },
     "metadata": {},
     "output_type": "display_data"
    },
    {
     "name": "stdout",
     "output_type": "stream",
     "text": [
      "Epoch metrics: {'accuracy': 0.7197265625, 'crossentropy': 0.9462878704071045}\n",
      "RestoringEarlyStopping: 14 / 20\n"
     ]
    },
    {
     "data": {
      "application/vnd.jupyter.widget-view+json": {
       "model_id": "",
       "version_major": 2,
       "version_minor": 0
      },
      "text/plain": [
       "[1/16]   6%|6          [00:00<?]"
      ]
     },
     "metadata": {},
     "output_type": "display_data"
    },
    {
     "name": "stdout",
     "output_type": "stream",
     "text": [
      "Epoch metrics: {'accuracy': 0.75390625, 'crossentropy': 0.7403719425201416}\n",
      "RestoringEarlyStopping: 15 / 20\n"
     ]
    },
    {
     "data": {
      "application/vnd.jupyter.widget-view+json": {
       "model_id": "",
       "version_major": 2,
       "version_minor": 0
      },
      "text/plain": [
       "[1/16]   6%|6          [00:00<?]"
      ]
     },
     "metadata": {},
     "output_type": "display_data"
    },
    {
     "name": "stdout",
     "output_type": "stream",
     "text": [
      "Epoch metrics: {'accuracy': 0.78515625, 'crossentropy': 0.6685580015182495}\n"
     ]
    },
    {
     "data": {
      "application/vnd.jupyter.widget-view+json": {
       "model_id": "",
       "version_major": 2,
       "version_minor": 0
      },
      "text/plain": [
       "[1/16]   6%|6          [00:00<?]"
      ]
     },
     "metadata": {},
     "output_type": "display_data"
    },
    {
     "name": "stdout",
     "output_type": "stream",
     "text": [
      "Epoch metrics: {'accuracy': 0.7802734375, 'crossentropy': 0.7465391159057617}\n",
      "RestoringEarlyStopping: 1 / 20\n"
     ]
    },
    {
     "data": {
      "application/vnd.jupyter.widget-view+json": {
       "model_id": "",
       "version_major": 2,
       "version_minor": 0
      },
      "text/plain": [
       "[1/16]   6%|6          [00:00<?]"
      ]
     },
     "metadata": {},
     "output_type": "display_data"
    },
    {
     "name": "stdout",
     "output_type": "stream",
     "text": [
      "Epoch metrics: {'accuracy': 0.7802734375, 'crossentropy': 0.6869835257530212}\n",
      "RestoringEarlyStopping: 2 / 20\n"
     ]
    },
    {
     "data": {
      "application/vnd.jupyter.widget-view+json": {
       "model_id": "",
       "version_major": 2,
       "version_minor": 0
      },
      "text/plain": [
       "[1/16]   6%|6          [00:00<?]"
      ]
     },
     "metadata": {},
     "output_type": "display_data"
    },
    {
     "name": "stdout",
     "output_type": "stream",
     "text": [
      "Epoch metrics: {'accuracy': 0.7744140625, 'crossentropy': 0.741175651550293}\n",
      "RestoringEarlyStopping: 3 / 20\n"
     ]
    },
    {
     "data": {
      "application/vnd.jupyter.widget-view+json": {
       "model_id": "",
       "version_major": 2,
       "version_minor": 0
      },
      "text/plain": [
       "[1/16]   6%|6          [00:00<?]"
      ]
     },
     "metadata": {},
     "output_type": "display_data"
    },
    {
     "name": "stdout",
     "output_type": "stream",
     "text": [
      "Epoch metrics: {'accuracy': 0.7724609375, 'crossentropy': 0.7456239461898804}\n",
      "RestoringEarlyStopping: 4 / 20\n"
     ]
    },
    {
     "data": {
      "application/vnd.jupyter.widget-view+json": {
       "model_id": "",
       "version_major": 2,
       "version_minor": 0
      },
      "text/plain": [
       "[1/16]   6%|6          [00:00<?]"
      ]
     },
     "metadata": {},
     "output_type": "display_data"
    },
    {
     "name": "stdout",
     "output_type": "stream",
     "text": [
      "Epoch metrics: {'accuracy': 0.767578125, 'crossentropy': 0.75748610496521}\n",
      "RestoringEarlyStopping: 5 / 20\n"
     ]
    },
    {
     "data": {
      "application/vnd.jupyter.widget-view+json": {
       "model_id": "",
       "version_major": 2,
       "version_minor": 0
      },
      "text/plain": [
       "[1/16]   6%|6          [00:00<?]"
      ]
     },
     "metadata": {},
     "output_type": "display_data"
    },
    {
     "name": "stdout",
     "output_type": "stream",
     "text": [
      "Epoch metrics: {'accuracy': 0.7607421875, 'crossentropy': 0.7913416028022766}\n",
      "RestoringEarlyStopping: 6 / 20\n"
     ]
    },
    {
     "data": {
      "application/vnd.jupyter.widget-view+json": {
       "model_id": "",
       "version_major": 2,
       "version_minor": 0
      },
      "text/plain": [
       "[1/16]   6%|6          [00:00<?]"
      ]
     },
     "metadata": {},
     "output_type": "display_data"
    },
    {
     "name": "stdout",
     "output_type": "stream",
     "text": [
      "Epoch metrics: {'accuracy': 0.767578125, 'crossentropy': 0.7609843015670776}\n",
      "RestoringEarlyStopping: 7 / 20\n"
     ]
    },
    {
     "data": {
      "application/vnd.jupyter.widget-view+json": {
       "model_id": "",
       "version_major": 2,
       "version_minor": 0
      },
      "text/plain": [
       "[1/16]   6%|6          [00:00<?]"
      ]
     },
     "metadata": {},
     "output_type": "display_data"
    },
    {
     "name": "stdout",
     "output_type": "stream",
     "text": [
      "Epoch metrics: {'accuracy': 0.7548828125, 'crossentropy': 0.7689855694770813}\n",
      "RestoringEarlyStopping: 8 / 20\n"
     ]
    },
    {
     "data": {
      "application/vnd.jupyter.widget-view+json": {
       "model_id": "",
       "version_major": 2,
       "version_minor": 0
      },
      "text/plain": [
       "[1/16]   6%|6          [00:00<?]"
      ]
     },
     "metadata": {},
     "output_type": "display_data"
    },
    {
     "name": "stdout",
     "output_type": "stream",
     "text": [
      "Epoch metrics: {'accuracy': 0.76953125, 'crossentropy': 0.7237609028816223}\n",
      "RestoringEarlyStopping: 9 / 20\n"
     ]
    },
    {
     "data": {
      "application/vnd.jupyter.widget-view+json": {
       "model_id": "",
       "version_major": 2,
       "version_minor": 0
      },
      "text/plain": [
       "[1/16]   6%|6          [00:00<?]"
      ]
     },
     "metadata": {},
     "output_type": "display_data"
    },
    {
     "name": "stdout",
     "output_type": "stream",
     "text": [
      "Epoch metrics: {'accuracy': 0.7509765625, 'crossentropy': 0.7683805227279663}\n",
      "RestoringEarlyStopping: 10 / 20\n"
     ]
    },
    {
     "data": {
      "application/vnd.jupyter.widget-view+json": {
       "model_id": "",
       "version_major": 2,
       "version_minor": 0
      },
      "text/plain": [
       "[1/16]   6%|6          [00:00<?]"
      ]
     },
     "metadata": {},
     "output_type": "display_data"
    },
    {
     "name": "stdout",
     "output_type": "stream",
     "text": [
      "Epoch metrics: {'accuracy': 0.7607421875, 'crossentropy': 0.7895317077636719}\n",
      "RestoringEarlyStopping: 11 / 20\n"
     ]
    },
    {
     "data": {
      "application/vnd.jupyter.widget-view+json": {
       "model_id": "",
       "version_major": 2,
       "version_minor": 0
      },
      "text/plain": [
       "[1/16]   6%|6          [00:00<?]"
      ]
     },
     "metadata": {},
     "output_type": "display_data"
    },
    {
     "name": "stdout",
     "output_type": "stream",
     "text": [
      "Epoch metrics: {'accuracy': 0.767578125, 'crossentropy': 0.7206978797912598}\n",
      "RestoringEarlyStopping: 12 / 20\n"
     ]
    },
    {
     "data": {
      "application/vnd.jupyter.widget-view+json": {
       "model_id": "",
       "version_major": 2,
       "version_minor": 0
      },
      "text/plain": [
       "[1/16]   6%|6          [00:00<?]"
      ]
     },
     "metadata": {},
     "output_type": "display_data"
    },
    {
     "name": "stdout",
     "output_type": "stream",
     "text": [
      "Epoch metrics: {'accuracy': 0.76953125, 'crossentropy': 0.7057973146438599}\n",
      "RestoringEarlyStopping: 13 / 20\n"
     ]
    },
    {
     "data": {
      "application/vnd.jupyter.widget-view+json": {
       "model_id": "",
       "version_major": 2,
       "version_minor": 0
      },
      "text/plain": [
       "[1/16]   6%|6          [00:00<?]"
      ]
     },
     "metadata": {},
     "output_type": "display_data"
    },
    {
     "name": "stdout",
     "output_type": "stream",
     "text": [
      "Epoch metrics: {'accuracy': 0.771484375, 'crossentropy': 0.7348682284355164}\n",
      "RestoringEarlyStopping: 14 / 20\n"
     ]
    },
    {
     "data": {
      "application/vnd.jupyter.widget-view+json": {
       "model_id": "",
       "version_major": 2,
       "version_minor": 0
      },
      "text/plain": [
       "[1/16]   6%|6          [00:00<?]"
      ]
     },
     "metadata": {},
     "output_type": "display_data"
    },
    {
     "name": "stdout",
     "output_type": "stream",
     "text": [
      "Epoch metrics: {'accuracy': 0.775390625, 'crossentropy': 0.7193517088890076}\n",
      "RestoringEarlyStopping: 15 / 20\n"
     ]
    },
    {
     "data": {
      "application/vnd.jupyter.widget-view+json": {
       "model_id": "",
       "version_major": 2,
       "version_minor": 0
      },
      "text/plain": [
       "[1/16]   6%|6          [00:00<?]"
      ]
     },
     "metadata": {},
     "output_type": "display_data"
    },
    {
     "name": "stdout",
     "output_type": "stream",
     "text": [
      "Epoch metrics: {'accuracy': 0.779296875, 'crossentropy': 0.7332012057304382}\n",
      "RestoringEarlyStopping: 16 / 20\n"
     ]
    },
    {
     "data": {
      "application/vnd.jupyter.widget-view+json": {
       "model_id": "",
       "version_major": 2,
       "version_minor": 0
      },
      "text/plain": [
       "[1/16]   6%|6          [00:00<?]"
      ]
     },
     "metadata": {},
     "output_type": "display_data"
    },
    {
     "name": "stdout",
     "output_type": "stream",
     "text": [
      "Epoch metrics: {'accuracy': 0.7919921875, 'crossentropy': 0.6962171196937561}\n"
     ]
    },
    {
     "data": {
      "application/vnd.jupyter.widget-view+json": {
       "model_id": "",
       "version_major": 2,
       "version_minor": 0
      },
      "text/plain": [
       "[1/16]   6%|6          [00:00<?]"
      ]
     },
     "metadata": {},
     "output_type": "display_data"
    },
    {
     "name": "stdout",
     "output_type": "stream",
     "text": [
      "Epoch metrics: {'accuracy': 0.767578125, 'crossentropy': 0.7840267419815063}\n",
      "RestoringEarlyStopping: 1 / 20\n"
     ]
    },
    {
     "data": {
      "application/vnd.jupyter.widget-view+json": {
       "model_id": "",
       "version_major": 2,
       "version_minor": 0
      },
      "text/plain": [
       "[1/16]   6%|6          [00:00<?]"
      ]
     },
     "metadata": {},
     "output_type": "display_data"
    },
    {
     "name": "stdout",
     "output_type": "stream",
     "text": [
      "Epoch metrics: {'accuracy': 0.7626953125, 'crossentropy': 0.7877050042152405}\n",
      "RestoringEarlyStopping: 2 / 20\n"
     ]
    },
    {
     "data": {
      "application/vnd.jupyter.widget-view+json": {
       "model_id": "",
       "version_major": 2,
       "version_minor": 0
      },
      "text/plain": [
       "[1/16]   6%|6          [00:00<?]"
      ]
     },
     "metadata": {},
     "output_type": "display_data"
    },
    {
     "name": "stdout",
     "output_type": "stream",
     "text": [
      "Epoch metrics: {'accuracy': 0.7783203125, 'crossentropy': 0.8014097213745117}\n",
      "RestoringEarlyStopping: 3 / 20\n"
     ]
    },
    {
     "data": {
      "application/vnd.jupyter.widget-view+json": {
       "model_id": "",
       "version_major": 2,
       "version_minor": 0
      },
      "text/plain": [
       "[1/16]   6%|6          [00:00<?]"
      ]
     },
     "metadata": {},
     "output_type": "display_data"
    },
    {
     "name": "stdout",
     "output_type": "stream",
     "text": [
      "Epoch metrics: {'accuracy': 0.7880859375, 'crossentropy': 0.7389960289001465}\n",
      "RestoringEarlyStopping: 4 / 20\n"
     ]
    },
    {
     "data": {
      "application/vnd.jupyter.widget-view+json": {
       "model_id": "",
       "version_major": 2,
       "version_minor": 0
      },
      "text/plain": [
       "[1/16]   6%|6          [00:00<?]"
      ]
     },
     "metadata": {},
     "output_type": "display_data"
    },
    {
     "name": "stdout",
     "output_type": "stream",
     "text": [
      "Epoch metrics: {'accuracy': 0.7998046875, 'crossentropy': 0.6840416193008423}\n"
     ]
    },
    {
     "data": {
      "application/vnd.jupyter.widget-view+json": {
       "model_id": "",
       "version_major": 2,
       "version_minor": 0
      },
      "text/plain": [
       "[1/16]   6%|6          [00:00<?]"
      ]
     },
     "metadata": {},
     "output_type": "display_data"
    },
    {
     "name": "stdout",
     "output_type": "stream",
     "text": [
      "Epoch metrics: {'accuracy': 0.7861328125, 'crossentropy': 0.7265982627868652}\n",
      "RestoringEarlyStopping: 1 / 20\n"
     ]
    },
    {
     "data": {
      "application/vnd.jupyter.widget-view+json": {
       "model_id": "",
       "version_major": 2,
       "version_minor": 0
      },
      "text/plain": [
       "[1/16]   6%|6          [00:00<?]"
      ]
     },
     "metadata": {},
     "output_type": "display_data"
    },
    {
     "name": "stdout",
     "output_type": "stream",
     "text": [
      "Epoch metrics: {'accuracy': 0.7880859375, 'crossentropy': 0.7080038785934448}\n",
      "RestoringEarlyStopping: 2 / 20\n"
     ]
    },
    {
     "data": {
      "application/vnd.jupyter.widget-view+json": {
       "model_id": "",
       "version_major": 2,
       "version_minor": 0
      },
      "text/plain": [
       "[1/16]   6%|6          [00:00<?]"
      ]
     },
     "metadata": {},
     "output_type": "display_data"
    },
    {
     "name": "stdout",
     "output_type": "stream",
     "text": [
      "Epoch metrics: {'accuracy': 0.791015625, 'crossentropy': 0.6998908519744873}\n",
      "RestoringEarlyStopping: 3 / 20\n"
     ]
    },
    {
     "data": {
      "application/vnd.jupyter.widget-view+json": {
       "model_id": "",
       "version_major": 2,
       "version_minor": 0
      },
      "text/plain": [
       "[1/16]   6%|6          [00:00<?]"
      ]
     },
     "metadata": {},
     "output_type": "display_data"
    },
    {
     "name": "stdout",
     "output_type": "stream",
     "text": [
      "Epoch metrics: {'accuracy': 0.7734375, 'crossentropy': 0.7350669503211975}\n",
      "RestoringEarlyStopping: 4 / 20\n"
     ]
    },
    {
     "data": {
      "application/vnd.jupyter.widget-view+json": {
       "model_id": "",
       "version_major": 2,
       "version_minor": 0
      },
      "text/plain": [
       "[1/16]   6%|6          [00:00<?]"
      ]
     },
     "metadata": {},
     "output_type": "display_data"
    },
    {
     "name": "stdout",
     "output_type": "stream",
     "text": [
      "Epoch metrics: {'accuracy': 0.771484375, 'crossentropy': 0.7618177533149719}\n",
      "RestoringEarlyStopping: 5 / 20\n"
     ]
    },
    {
     "data": {
      "application/vnd.jupyter.widget-view+json": {
       "model_id": "",
       "version_major": 2,
       "version_minor": 0
      },
      "text/plain": [
       "[1/16]   6%|6          [00:00<?]"
      ]
     },
     "metadata": {},
     "output_type": "display_data"
    },
    {
     "name": "stdout",
     "output_type": "stream",
     "text": [
      "Epoch metrics: {'accuracy': 0.78515625, 'crossentropy': 0.7057140469551086}\n",
      "RestoringEarlyStopping: 6 / 20\n"
     ]
    },
    {
     "data": {
      "application/vnd.jupyter.widget-view+json": {
       "model_id": "",
       "version_major": 2,
       "version_minor": 0
      },
      "text/plain": [
       "[1/16]   6%|6          [00:00<?]"
      ]
     },
     "metadata": {},
     "output_type": "display_data"
    },
    {
     "name": "stdout",
     "output_type": "stream",
     "text": [
      "Epoch metrics: {'accuracy': 0.783203125, 'crossentropy': 0.6905902028083801}\n",
      "RestoringEarlyStopping: 7 / 20\n"
     ]
    },
    {
     "data": {
      "application/vnd.jupyter.widget-view+json": {
       "model_id": "",
       "version_major": 2,
       "version_minor": 0
      },
      "text/plain": [
       "[1/16]   6%|6          [00:00<?]"
      ]
     },
     "metadata": {},
     "output_type": "display_data"
    },
    {
     "name": "stdout",
     "output_type": "stream",
     "text": [
      "Epoch metrics: {'accuracy': 0.7880859375, 'crossentropy': 0.6884310245513916}\n",
      "RestoringEarlyStopping: 8 / 20\n"
     ]
    },
    {
     "data": {
      "application/vnd.jupyter.widget-view+json": {
       "model_id": "",
       "version_major": 2,
       "version_minor": 0
      },
      "text/plain": [
       "[1/16]   6%|6          [00:00<?]"
      ]
     },
     "metadata": {},
     "output_type": "display_data"
    },
    {
     "name": "stdout",
     "output_type": "stream",
     "text": [
      "Epoch metrics: {'accuracy': 0.7890625, 'crossentropy': 0.7025330066680908}\n",
      "RestoringEarlyStopping: 9 / 20\n"
     ]
    },
    {
     "data": {
      "application/vnd.jupyter.widget-view+json": {
       "model_id": "",
       "version_major": 2,
       "version_minor": 0
      },
      "text/plain": [
       "[1/16]   6%|6          [00:00<?]"
      ]
     },
     "metadata": {},
     "output_type": "display_data"
    },
    {
     "name": "stdout",
     "output_type": "stream",
     "text": [
      "Epoch metrics: {'accuracy': 0.7763671875, 'crossentropy': 0.7102656960487366}\n",
      "RestoringEarlyStopping: 10 / 20\n"
     ]
    },
    {
     "data": {
      "application/vnd.jupyter.widget-view+json": {
       "model_id": "",
       "version_major": 2,
       "version_minor": 0
      },
      "text/plain": [
       "[1/16]   6%|6          [00:00<?]"
      ]
     },
     "metadata": {},
     "output_type": "display_data"
    },
    {
     "name": "stdout",
     "output_type": "stream",
     "text": [
      "Epoch metrics: {'accuracy': 0.7880859375, 'crossentropy': 0.7015531659126282}\n",
      "RestoringEarlyStopping: 11 / 20\n"
     ]
    },
    {
     "data": {
      "application/vnd.jupyter.widget-view+json": {
       "model_id": "",
       "version_major": 2,
       "version_minor": 0
      },
      "text/plain": [
       "[1/16]   6%|6          [00:00<?]"
      ]
     },
     "metadata": {},
     "output_type": "display_data"
    },
    {
     "name": "stdout",
     "output_type": "stream",
     "text": [
      "Epoch metrics: {'accuracy': 0.7861328125, 'crossentropy': 0.719842791557312}\n",
      "RestoringEarlyStopping: 12 / 20\n"
     ]
    },
    {
     "data": {
      "application/vnd.jupyter.widget-view+json": {
       "model_id": "",
       "version_major": 2,
       "version_minor": 0
      },
      "text/plain": [
       "[1/16]   6%|6          [00:00<?]"
      ]
     },
     "metadata": {},
     "output_type": "display_data"
    },
    {
     "name": "stdout",
     "output_type": "stream",
     "text": [
      "Epoch metrics: {'accuracy': 0.7822265625, 'crossentropy': 0.7448790669441223}\n",
      "RestoringEarlyStopping: 13 / 20\n"
     ]
    },
    {
     "data": {
      "application/vnd.jupyter.widget-view+json": {
       "model_id": "",
       "version_major": 2,
       "version_minor": 0
      },
      "text/plain": [
       "[1/16]   6%|6          [00:00<?]"
      ]
     },
     "metadata": {},
     "output_type": "display_data"
    },
    {
     "name": "stdout",
     "output_type": "stream",
     "text": [
      "Epoch metrics: {'accuracy': 0.7626953125, 'crossentropy': 0.7195961475372314}\n",
      "RestoringEarlyStopping: 14 / 20\n"
     ]
    },
    {
     "data": {
      "application/vnd.jupyter.widget-view+json": {
       "model_id": "",
       "version_major": 2,
       "version_minor": 0
      },
      "text/plain": [
       "[1/16]   6%|6          [00:00<?]"
      ]
     },
     "metadata": {},
     "output_type": "display_data"
    },
    {
     "name": "stdout",
     "output_type": "stream",
     "text": [
      "Epoch metrics: {'accuracy': 0.7666015625, 'crossentropy': 0.7432304620742798}\n",
      "RestoringEarlyStopping: 15 / 20\n"
     ]
    },
    {
     "data": {
      "application/vnd.jupyter.widget-view+json": {
       "model_id": "",
       "version_major": 2,
       "version_minor": 0
      },
      "text/plain": [
       "[1/16]   6%|6          [00:00<?]"
      ]
     },
     "metadata": {},
     "output_type": "display_data"
    },
    {
     "name": "stdout",
     "output_type": "stream",
     "text": [
      "Epoch metrics: {'accuracy': 0.7802734375, 'crossentropy': 0.7493838667869568}\n",
      "RestoringEarlyStopping: 16 / 20\n"
     ]
    },
    {
     "data": {
      "application/vnd.jupyter.widget-view+json": {
       "model_id": "",
       "version_major": 2,
       "version_minor": 0
      },
      "text/plain": [
       "[1/16]   6%|6          [00:00<?]"
      ]
     },
     "metadata": {},
     "output_type": "display_data"
    },
    {
     "name": "stdout",
     "output_type": "stream",
     "text": [
      "Epoch metrics: {'accuracy': 0.7578125, 'crossentropy': 0.7286192178726196}\n",
      "RestoringEarlyStopping: 17 / 20\n"
     ]
    },
    {
     "data": {
      "application/vnd.jupyter.widget-view+json": {
       "model_id": "",
       "version_major": 2,
       "version_minor": 0
      },
      "text/plain": [
       "[1/16]   6%|6          [00:00<?]"
      ]
     },
     "metadata": {},
     "output_type": "display_data"
    },
    {
     "name": "stdout",
     "output_type": "stream",
     "text": [
      "Epoch metrics: {'accuracy': 0.787109375, 'crossentropy': 0.702856719493866}\n",
      "RestoringEarlyStopping: 18 / 20\n"
     ]
    },
    {
     "data": {
      "application/vnd.jupyter.widget-view+json": {
       "model_id": "",
       "version_major": 2,
       "version_minor": 0
      },
      "text/plain": [
       "[1/16]   6%|6          [00:00<?]"
      ]
     },
     "metadata": {},
     "output_type": "display_data"
    },
    {
     "name": "stdout",
     "output_type": "stream",
     "text": [
      "Epoch metrics: {'accuracy': 0.7666015625, 'crossentropy': 0.7778734564781189}\n",
      "RestoringEarlyStopping: 19 / 20\n"
     ]
    },
    {
     "data": {
      "application/vnd.jupyter.widget-view+json": {
       "model_id": "",
       "version_major": 2,
       "version_minor": 0
      },
      "text/plain": [
       "[1/16]   6%|6          [00:00<?]"
      ]
     },
     "metadata": {},
     "output_type": "display_data"
    },
    {
     "name": "stdout",
     "output_type": "stream",
     "text": [
      "Epoch metrics: {'accuracy': 0.802734375, 'crossentropy': 0.7017546892166138}\n"
     ]
    },
    {
     "data": {
      "application/vnd.jupyter.widget-view+json": {
       "model_id": "",
       "version_major": 2,
       "version_minor": 0
      },
      "text/plain": [
       "[1/16]   6%|6          [00:00<?]"
      ]
     },
     "metadata": {},
     "output_type": "display_data"
    },
    {
     "name": "stdout",
     "output_type": "stream",
     "text": [
      "Epoch metrics: {'accuracy': 0.80078125, 'crossentropy': 0.7095827460289001}\n",
      "RestoringEarlyStopping: 1 / 20\n"
     ]
    },
    {
     "data": {
      "application/vnd.jupyter.widget-view+json": {
       "model_id": "",
       "version_major": 2,
       "version_minor": 0
      },
      "text/plain": [
       "[1/16]   6%|6          [00:00<?]"
      ]
     },
     "metadata": {},
     "output_type": "display_data"
    },
    {
     "name": "stdout",
     "output_type": "stream",
     "text": [
      "Epoch metrics: {'accuracy': 0.7744140625, 'crossentropy': 0.801038384437561}\n",
      "RestoringEarlyStopping: 2 / 20\n"
     ]
    },
    {
     "data": {
      "application/vnd.jupyter.widget-view+json": {
       "model_id": "",
       "version_major": 2,
       "version_minor": 0
      },
      "text/plain": [
       "[1/16]   6%|6          [00:00<?]"
      ]
     },
     "metadata": {},
     "output_type": "display_data"
    },
    {
     "name": "stdout",
     "output_type": "stream",
     "text": [
      "Epoch metrics: {'accuracy': 0.7802734375, 'crossentropy': 0.6882880330085754}\n",
      "RestoringEarlyStopping: 3 / 20\n"
     ]
    },
    {
     "data": {
      "application/vnd.jupyter.widget-view+json": {
       "model_id": "",
       "version_major": 2,
       "version_minor": 0
      },
      "text/plain": [
       "[1/16]   6%|6          [00:00<?]"
      ]
     },
     "metadata": {},
     "output_type": "display_data"
    },
    {
     "name": "stdout",
     "output_type": "stream",
     "text": [
      "Epoch metrics: {'accuracy': 0.7783203125, 'crossentropy': 0.7073860168457031}\n",
      "RestoringEarlyStopping: 4 / 20\n"
     ]
    },
    {
     "data": {
      "application/vnd.jupyter.widget-view+json": {
       "model_id": "",
       "version_major": 2,
       "version_minor": 0
      },
      "text/plain": [
       "[1/16]   6%|6          [00:00<?]"
      ]
     },
     "metadata": {},
     "output_type": "display_data"
    },
    {
     "name": "stdout",
     "output_type": "stream",
     "text": [
      "Epoch metrics: {'accuracy': 0.7744140625, 'crossentropy': 0.7603689432144165}\n",
      "RestoringEarlyStopping: 5 / 20\n"
     ]
    },
    {
     "data": {
      "application/vnd.jupyter.widget-view+json": {
       "model_id": "",
       "version_major": 2,
       "version_minor": 0
      },
      "text/plain": [
       "[1/16]   6%|6          [00:00<?]"
      ]
     },
     "metadata": {},
     "output_type": "display_data"
    },
    {
     "name": "stdout",
     "output_type": "stream",
     "text": [
      "Epoch metrics: {'accuracy': 0.7568359375, 'crossentropy': 0.7915321588516235}\n",
      "RestoringEarlyStopping: 6 / 20\n"
     ]
    },
    {
     "data": {
      "application/vnd.jupyter.widget-view+json": {
       "model_id": "",
       "version_major": 2,
       "version_minor": 0
      },
      "text/plain": [
       "[1/16]   6%|6          [00:00<?]"
      ]
     },
     "metadata": {},
     "output_type": "display_data"
    },
    {
     "name": "stdout",
     "output_type": "stream",
     "text": [
      "Epoch metrics: {'accuracy': 0.7685546875, 'crossentropy': 0.7087028622627258}\n",
      "RestoringEarlyStopping: 7 / 20\n"
     ]
    },
    {
     "data": {
      "application/vnd.jupyter.widget-view+json": {
       "model_id": "",
       "version_major": 2,
       "version_minor": 0
      },
      "text/plain": [
       "[1/16]   6%|6          [00:00<?]"
      ]
     },
     "metadata": {},
     "output_type": "display_data"
    },
    {
     "name": "stdout",
     "output_type": "stream",
     "text": [
      "Epoch metrics: {'accuracy': 0.77734375, 'crossentropy': 0.7793172597885132}\n",
      "RestoringEarlyStopping: 8 / 20\n"
     ]
    },
    {
     "data": {
      "application/vnd.jupyter.widget-view+json": {
       "model_id": "",
       "version_major": 2,
       "version_minor": 0
      },
      "text/plain": [
       "[1/16]   6%|6          [00:00<?]"
      ]
     },
     "metadata": {},
     "output_type": "display_data"
    },
    {
     "name": "stdout",
     "output_type": "stream",
     "text": [
      "Epoch metrics: {'accuracy': 0.755859375, 'crossentropy': 0.869433581829071}\n",
      "RestoringEarlyStopping: 9 / 20\n"
     ]
    },
    {
     "data": {
      "application/vnd.jupyter.widget-view+json": {
       "model_id": "",
       "version_major": 2,
       "version_minor": 0
      },
      "text/plain": [
       "[1/16]   6%|6          [00:00<?]"
      ]
     },
     "metadata": {},
     "output_type": "display_data"
    },
    {
     "name": "stdout",
     "output_type": "stream",
     "text": [
      "Epoch metrics: {'accuracy': 0.763671875, 'crossentropy': 0.7413349747657776}\n",
      "RestoringEarlyStopping: 10 / 20\n"
     ]
    },
    {
     "data": {
      "application/vnd.jupyter.widget-view+json": {
       "model_id": "",
       "version_major": 2,
       "version_minor": 0
      },
      "text/plain": [
       "[1/16]   6%|6          [00:00<?]"
      ]
     },
     "metadata": {},
     "output_type": "display_data"
    },
    {
     "name": "stdout",
     "output_type": "stream",
     "text": [
      "Epoch metrics: {'accuracy': 0.783203125, 'crossentropy': 0.6729942560195923}\n",
      "RestoringEarlyStopping: 11 / 20\n"
     ]
    },
    {
     "data": {
      "application/vnd.jupyter.widget-view+json": {
       "model_id": "",
       "version_major": 2,
       "version_minor": 0
      },
      "text/plain": [
       "[1/16]   6%|6          [00:00<?]"
      ]
     },
     "metadata": {},
     "output_type": "display_data"
    },
    {
     "name": "stdout",
     "output_type": "stream",
     "text": [
      "Epoch metrics: {'accuracy': 0.7587890625, 'crossentropy': 0.7442118525505066}\n",
      "RestoringEarlyStopping: 12 / 20\n"
     ]
    },
    {
     "data": {
      "application/vnd.jupyter.widget-view+json": {
       "model_id": "",
       "version_major": 2,
       "version_minor": 0
      },
      "text/plain": [
       "[1/16]   6%|6          [00:00<?]"
      ]
     },
     "metadata": {},
     "output_type": "display_data"
    },
    {
     "name": "stdout",
     "output_type": "stream",
     "text": [
      "Epoch metrics: {'accuracy': 0.779296875, 'crossentropy': 0.6984896659851074}\n",
      "RestoringEarlyStopping: 13 / 20\n"
     ]
    },
    {
     "data": {
      "application/vnd.jupyter.widget-view+json": {
       "model_id": "",
       "version_major": 2,
       "version_minor": 0
      },
      "text/plain": [
       "[1/16]   6%|6          [00:00<?]"
      ]
     },
     "metadata": {},
     "output_type": "display_data"
    },
    {
     "name": "stdout",
     "output_type": "stream",
     "text": [
      "Epoch metrics: {'accuracy': 0.7763671875, 'crossentropy': 0.7153807282447815}\n",
      "RestoringEarlyStopping: 14 / 20\n"
     ]
    },
    {
     "data": {
      "application/vnd.jupyter.widget-view+json": {
       "model_id": "",
       "version_major": 2,
       "version_minor": 0
      },
      "text/plain": [
       "[1/16]   6%|6          [00:00<?]"
      ]
     },
     "metadata": {},
     "output_type": "display_data"
    },
    {
     "name": "stdout",
     "output_type": "stream",
     "text": [
      "Epoch metrics: {'accuracy': 0.7666015625, 'crossentropy': 0.7500765919685364}\n",
      "RestoringEarlyStopping: 15 / 20\n"
     ]
    },
    {
     "data": {
      "application/vnd.jupyter.widget-view+json": {
       "model_id": "",
       "version_major": 2,
       "version_minor": 0
      },
      "text/plain": [
       "[1/16]   6%|6          [00:00<?]"
      ]
     },
     "metadata": {},
     "output_type": "display_data"
    },
    {
     "name": "stdout",
     "output_type": "stream",
     "text": [
      "Epoch metrics: {'accuracy': 0.7607421875, 'crossentropy': 0.8381080031394958}\n",
      "RestoringEarlyStopping: 16 / 20\n"
     ]
    },
    {
     "data": {
      "application/vnd.jupyter.widget-view+json": {
       "model_id": "",
       "version_major": 2,
       "version_minor": 0
      },
      "text/plain": [
       "[1/16]   6%|6          [00:00<?]"
      ]
     },
     "metadata": {},
     "output_type": "display_data"
    },
    {
     "name": "stdout",
     "output_type": "stream",
     "text": [
      "Epoch metrics: {'accuracy': 0.765625, 'crossentropy': 0.7664159536361694}\n",
      "RestoringEarlyStopping: 17 / 20\n"
     ]
    },
    {
     "data": {
      "application/vnd.jupyter.widget-view+json": {
       "model_id": "",
       "version_major": 2,
       "version_minor": 0
      },
      "text/plain": [
       "[1/16]   6%|6          [00:00<?]"
      ]
     },
     "metadata": {},
     "output_type": "display_data"
    },
    {
     "name": "stdout",
     "output_type": "stream",
     "text": [
      "Epoch metrics: {'accuracy': 0.7744140625, 'crossentropy': 0.7773207426071167}\n",
      "RestoringEarlyStopping: 18 / 20\n"
     ]
    },
    {
     "data": {
      "application/vnd.jupyter.widget-view+json": {
       "model_id": "",
       "version_major": 2,
       "version_minor": 0
      },
      "text/plain": [
       "[1/16]   6%|6          [00:00<?]"
      ]
     },
     "metadata": {},
     "output_type": "display_data"
    },
    {
     "name": "stdout",
     "output_type": "stream",
     "text": [
      "Epoch metrics: {'accuracy': 0.7841796875, 'crossentropy': 0.7425780892372131}\n",
      "RestoringEarlyStopping: 19 / 20\n"
     ]
    },
    {
     "data": {
      "application/vnd.jupyter.widget-view+json": {
       "model_id": "",
       "version_major": 2,
       "version_minor": 0
      },
      "text/plain": [
       "[1/16]   6%|6          [00:00<?]"
      ]
     },
     "metadata": {},
     "output_type": "display_data"
    },
    {
     "name": "stdout",
     "output_type": "stream",
     "text": [
      "Epoch metrics: {'accuracy': 0.7822265625, 'crossentropy': 0.6833183765411377}\n",
      "RestoringEarlyStopping: 20 / 20\n",
      "RestoringEarlyStopping: Out of patience\n",
      "RestoringEarlyStopping: Restoring best parameters. (Score: 0.802734375)\n",
      "RestoringEarlyStopping: Restoring optimizer.\n",
      "{'/val_metrics': <wandb.data_types.Table object at 0x7f86fe369a00>, '/best_epoch': 70, '/best_val_accuracy': 0.802734375, '/best_val_crossentropy': 0.7017546892166138}\n"
     ]
    },
    {
     "data": {
      "application/vnd.jupyter.widget-view+json": {
       "model_id": "",
       "version_major": 2,
       "version_minor": 0
      },
      "text/plain": [
       "[1/79]   1%|1          [00:00<?]"
      ]
     },
     "metadata": {},
     "output_type": "display_data"
    },
    {
     "name": "stdout",
     "output_type": "stream",
     "text": [
      "Perf after training {'accuracy': 0.784, 'crossentropy': 0.702096240234375}\n"
     ]
    },
    {
     "data": {
      "text/plain": [
       "{'initial_training_set_indices': [51348,\n",
       "  49110,\n",
       "  8222,\n",
       "  28130,\n",
       "  13484,\n",
       "  47685,\n",
       "  3938,\n",
       "  59930,\n",
       "  49196,\n",
       "  19427,\n",
       "  4601,\n",
       "  49922,\n",
       "  45635,\n",
       "  35684,\n",
       "  3579,\n",
       "  7621,\n",
       "  8465,\n",
       "  33959,\n",
       "  27521,\n",
       "  27015],\n",
       " 'dataset_info': {'training': \"'FastMNIST (train)'\",\n",
       "  'test': \"'FastMNIST (test, 10000 samples)'\"},\n",
       " 'active_learning_steps': [{'training': {'epochs': [{'accuracy': 0.447265625,\n",
       "      'crossentropy': 1.9910835027694702},\n",
       "     {'accuracy': 0.6103515625, 'crossentropy': 1.2986295223236084},\n",
       "     {'accuracy': 0.716796875, 'crossentropy': 0.9267570972442627},\n",
       "     {'accuracy': 0.7265625, 'crossentropy': 0.876323401927948},\n",
       "     {'accuracy': 0.7216796875, 'crossentropy': 0.8672223687171936},\n",
       "     {'accuracy': 0.75390625, 'crossentropy': 0.7793159484863281},\n",
       "     {'accuracy': 0.7646484375, 'crossentropy': 0.7471761107444763},\n",
       "     {'accuracy': 0.734375, 'crossentropy': 0.8230096697807312},\n",
       "     {'accuracy': 0.7412109375, 'crossentropy': 0.8189630508422852},\n",
       "     {'accuracy': 0.7705078125, 'crossentropy': 0.7629503607749939},\n",
       "     {'accuracy': 0.755859375, 'crossentropy': 0.7886953949928284},\n",
       "     {'accuracy': 0.7265625, 'crossentropy': 0.8610079288482666},\n",
       "     {'accuracy': 0.78125, 'crossentropy': 0.7178570628166199},\n",
       "     {'accuracy': 0.767578125, 'crossentropy': 0.7405175566673279},\n",
       "     {'accuracy': 0.734375, 'crossentropy': 0.8230465650558472},\n",
       "     {'accuracy': 0.7578125, 'crossentropy': 0.7819514870643616},\n",
       "     {'accuracy': 0.763671875, 'crossentropy': 0.770061194896698},\n",
       "     {'accuracy': 0.74609375, 'crossentropy': 0.8162933588027954},\n",
       "     {'accuracy': 0.7470703125, 'crossentropy': 0.7772052884101868},\n",
       "     {'accuracy': 0.76953125, 'crossentropy': 0.7139804363250732},\n",
       "     {'accuracy': 0.759765625, 'crossentropy': 0.7514800429344177},\n",
       "     {'accuracy': 0.7314453125, 'crossentropy': 0.8474382162094116},\n",
       "     {'accuracy': 0.7333984375, 'crossentropy': 0.815249502658844},\n",
       "     {'accuracy': 0.736328125, 'crossentropy': 0.8011304140090942},\n",
       "     {'accuracy': 0.7529296875, 'crossentropy': 0.7968822121620178},\n",
       "     {'accuracy': 0.755859375, 'crossentropy': 0.7825013995170593},\n",
       "     {'accuracy': 0.7197265625, 'crossentropy': 0.9462878704071045},\n",
       "     {'accuracy': 0.75390625, 'crossentropy': 0.7403719425201416},\n",
       "     {'accuracy': 0.78515625, 'crossentropy': 0.6685580015182495},\n",
       "     {'accuracy': 0.7802734375, 'crossentropy': 0.7465391159057617},\n",
       "     {'accuracy': 0.7802734375, 'crossentropy': 0.6869835257530212},\n",
       "     {'accuracy': 0.7744140625, 'crossentropy': 0.741175651550293},\n",
       "     {'accuracy': 0.7724609375, 'crossentropy': 0.7456239461898804},\n",
       "     {'accuracy': 0.767578125, 'crossentropy': 0.75748610496521},\n",
       "     {'accuracy': 0.7607421875, 'crossentropy': 0.7913416028022766},\n",
       "     {'accuracy': 0.767578125, 'crossentropy': 0.7609843015670776},\n",
       "     {'accuracy': 0.7548828125, 'crossentropy': 0.7689855694770813},\n",
       "     {'accuracy': 0.76953125, 'crossentropy': 0.7237609028816223},\n",
       "     {'accuracy': 0.7509765625, 'crossentropy': 0.7683805227279663},\n",
       "     {'accuracy': 0.7607421875, 'crossentropy': 0.7895317077636719},\n",
       "     {'accuracy': 0.767578125, 'crossentropy': 0.7206978797912598},\n",
       "     {'accuracy': 0.76953125, 'crossentropy': 0.7057973146438599},\n",
       "     {'accuracy': 0.771484375, 'crossentropy': 0.7348682284355164},\n",
       "     {'accuracy': 0.775390625, 'crossentropy': 0.7193517088890076},\n",
       "     {'accuracy': 0.779296875, 'crossentropy': 0.7332012057304382},\n",
       "     {'accuracy': 0.7919921875, 'crossentropy': 0.6962171196937561},\n",
       "     {'accuracy': 0.767578125, 'crossentropy': 0.7840267419815063},\n",
       "     {'accuracy': 0.7626953125, 'crossentropy': 0.7877050042152405},\n",
       "     {'accuracy': 0.7783203125, 'crossentropy': 0.8014097213745117},\n",
       "     {'accuracy': 0.7880859375, 'crossentropy': 0.7389960289001465},\n",
       "     {'accuracy': 0.7998046875, 'crossentropy': 0.6840416193008423},\n",
       "     {'accuracy': 0.7861328125, 'crossentropy': 0.7265982627868652},\n",
       "     {'accuracy': 0.7880859375, 'crossentropy': 0.7080038785934448},\n",
       "     {'accuracy': 0.791015625, 'crossentropy': 0.6998908519744873},\n",
       "     {'accuracy': 0.7734375, 'crossentropy': 0.7350669503211975},\n",
       "     {'accuracy': 0.771484375, 'crossentropy': 0.7618177533149719},\n",
       "     {'accuracy': 0.78515625, 'crossentropy': 0.7057140469551086},\n",
       "     {'accuracy': 0.783203125, 'crossentropy': 0.6905902028083801},\n",
       "     {'accuracy': 0.7880859375, 'crossentropy': 0.6884310245513916},\n",
       "     {'accuracy': 0.7890625, 'crossentropy': 0.7025330066680908},\n",
       "     {'accuracy': 0.7763671875, 'crossentropy': 0.7102656960487366},\n",
       "     {'accuracy': 0.7880859375, 'crossentropy': 0.7015531659126282},\n",
       "     {'accuracy': 0.7861328125, 'crossentropy': 0.719842791557312},\n",
       "     {'accuracy': 0.7822265625, 'crossentropy': 0.7448790669441223},\n",
       "     {'accuracy': 0.7626953125, 'crossentropy': 0.7195961475372314},\n",
       "     {'accuracy': 0.7666015625, 'crossentropy': 0.7432304620742798},\n",
       "     {'accuracy': 0.7802734375, 'crossentropy': 0.7493838667869568},\n",
       "     {'accuracy': 0.7578125, 'crossentropy': 0.7286192178726196},\n",
       "     {'accuracy': 0.787109375, 'crossentropy': 0.702856719493866},\n",
       "     {'accuracy': 0.7666015625, 'crossentropy': 0.7778734564781189},\n",
       "     {'accuracy': 0.802734375, 'crossentropy': 0.7017546892166138},\n",
       "     {'accuracy': 0.80078125, 'crossentropy': 0.7095827460289001},\n",
       "     {'accuracy': 0.7744140625, 'crossentropy': 0.801038384437561},\n",
       "     {'accuracy': 0.7802734375, 'crossentropy': 0.6882880330085754},\n",
       "     {'accuracy': 0.7783203125, 'crossentropy': 0.7073860168457031},\n",
       "     {'accuracy': 0.7744140625, 'crossentropy': 0.7603689432144165},\n",
       "     {'accuracy': 0.7568359375, 'crossentropy': 0.7915321588516235},\n",
       "     {'accuracy': 0.7685546875, 'crossentropy': 0.7087028622627258},\n",
       "     {'accuracy': 0.77734375, 'crossentropy': 0.7793172597885132},\n",
       "     {'accuracy': 0.755859375, 'crossentropy': 0.869433581829071},\n",
       "     {'accuracy': 0.763671875, 'crossentropy': 0.7413349747657776},\n",
       "     {'accuracy': 0.783203125, 'crossentropy': 0.6729942560195923},\n",
       "     {'accuracy': 0.7587890625, 'crossentropy': 0.7442118525505066},\n",
       "     {'accuracy': 0.779296875, 'crossentropy': 0.6984896659851074},\n",
       "     {'accuracy': 0.7763671875, 'crossentropy': 0.7153807282447815},\n",
       "     {'accuracy': 0.7666015625, 'crossentropy': 0.7500765919685364},\n",
       "     {'accuracy': 0.7607421875, 'crossentropy': 0.8381080031394958},\n",
       "     {'accuracy': 0.765625, 'crossentropy': 0.7664159536361694},\n",
       "     {'accuracy': 0.7744140625, 'crossentropy': 0.7773207426071167},\n",
       "     {'accuracy': 0.7841796875, 'crossentropy': 0.7425780892372131},\n",
       "     {'accuracy': 0.7822265625, 'crossentropy': 0.6833183765411377}],\n",
       "    'best_epoch': 70},\n",
       "   'evaluation_metrics': {'accuracy': 0.784,\n",
       "    'crossentropy': 0.702096240234375}}]}"
      ]
     },
     "execution_count": null,
     "metadata": {},
     "output_type": "execute_result"
    }
   ],
   "source": [
    "logs = {}\n",
    "model35 = dataclasses.replace(experiment, training_set_size=35).run(logs)\n",
    "logs"
   ]
  },
  {
   "cell_type": "code",
   "execution_count": null,
   "metadata": {},
   "outputs": [
    {
     "name": "stdout",
     "output_type": "stream",
     "text": [
      "Training set size 25:\n"
     ]
    },
    {
     "data": {
      "application/vnd.jupyter.widget-view+json": {
       "model_id": "c341c34ff11b4c5db99f938c4b471095",
       "version_major": 2,
       "version_minor": 0
      },
      "text/plain": [
       "  1%|          | 1/120 [00:00<?, ?it/s]"
      ]
     },
     "metadata": {},
     "output_type": "display_data"
    },
    {
     "data": {
      "application/vnd.jupyter.widget-view+json": {
       "model_id": "",
       "version_major": 2,
       "version_minor": 0
      },
      "text/plain": [
       "[1/16]   6%|6          [00:00<?]"
      ]
     },
     "metadata": {},
     "output_type": "display_data"
    },
    {
     "name": "stdout",
     "output_type": "stream",
     "text": [
      "Epoch metrics: {'accuracy': 0.4140625, 'crossentropy': 1.8599867820739746}\n"
     ]
    },
    {
     "data": {
      "application/vnd.jupyter.widget-view+json": {
       "model_id": "",
       "version_major": 2,
       "version_minor": 0
      },
      "text/plain": [
       "[1/16]   6%|6          [00:00<?]"
      ]
     },
     "metadata": {},
     "output_type": "display_data"
    },
    {
     "name": "stdout",
     "output_type": "stream",
     "text": [
      "Epoch metrics: {'accuracy': 0.6318359375, 'crossentropy': 1.1999586820602417}\n"
     ]
    },
    {
     "data": {
      "application/vnd.jupyter.widget-view+json": {
       "model_id": "",
       "version_major": 2,
       "version_minor": 0
      },
      "text/plain": [
       "[1/16]   6%|6          [00:00<?]"
      ]
     },
     "metadata": {},
     "output_type": "display_data"
    },
    {
     "name": "stdout",
     "output_type": "stream",
     "text": [
      "Epoch metrics: {'accuracy': 0.658203125, 'crossentropy': 1.0684055089950562}\n"
     ]
    },
    {
     "data": {
      "application/vnd.jupyter.widget-view+json": {
       "model_id": "",
       "version_major": 2,
       "version_minor": 0
      },
      "text/plain": [
       "[1/16]   6%|6          [00:00<?]"
      ]
     },
     "metadata": {},
     "output_type": "display_data"
    },
    {
     "name": "stdout",
     "output_type": "stream",
     "text": [
      "Epoch metrics: {'accuracy': 0.689453125, 'crossentropy': 1.0234684944152832}\n"
     ]
    },
    {
     "data": {
      "application/vnd.jupyter.widget-view+json": {
       "model_id": "",
       "version_major": 2,
       "version_minor": 0
      },
      "text/plain": [
       "[1/16]   6%|6          [00:00<?]"
      ]
     },
     "metadata": {},
     "output_type": "display_data"
    },
    {
     "name": "stdout",
     "output_type": "stream",
     "text": [
      "Epoch metrics: {'accuracy': 0.6748046875, 'crossentropy': 1.0506612062454224}\n",
      "RestoringEarlyStopping: 1 / 20\n"
     ]
    },
    {
     "data": {
      "application/vnd.jupyter.widget-view+json": {
       "model_id": "",
       "version_major": 2,
       "version_minor": 0
      },
      "text/plain": [
       "[1/16]   6%|6          [00:00<?]"
      ]
     },
     "metadata": {},
     "output_type": "display_data"
    },
    {
     "name": "stdout",
     "output_type": "stream",
     "text": [
      "Epoch metrics: {'accuracy': 0.6806640625, 'crossentropy': 1.1001193523406982}\n",
      "RestoringEarlyStopping: 2 / 20\n"
     ]
    },
    {
     "data": {
      "application/vnd.jupyter.widget-view+json": {
       "model_id": "",
       "version_major": 2,
       "version_minor": 0
      },
      "text/plain": [
       "[1/16]   6%|6          [00:00<?]"
      ]
     },
     "metadata": {},
     "output_type": "display_data"
    },
    {
     "name": "stdout",
     "output_type": "stream",
     "text": [
      "Epoch metrics: {'accuracy': 0.6533203125, 'crossentropy': 1.1593643426895142}\n",
      "RestoringEarlyStopping: 3 / 20\n"
     ]
    },
    {
     "data": {
      "application/vnd.jupyter.widget-view+json": {
       "model_id": "",
       "version_major": 2,
       "version_minor": 0
      },
      "text/plain": [
       "[1/16]   6%|6          [00:00<?]"
      ]
     },
     "metadata": {},
     "output_type": "display_data"
    },
    {
     "name": "stdout",
     "output_type": "stream",
     "text": [
      "Epoch metrics: {'accuracy': 0.7001953125, 'crossentropy': 1.0601842403411865}\n"
     ]
    },
    {
     "data": {
      "application/vnd.jupyter.widget-view+json": {
       "model_id": "",
       "version_major": 2,
       "version_minor": 0
      },
      "text/plain": [
       "[1/16]   6%|6          [00:00<?]"
      ]
     },
     "metadata": {},
     "output_type": "display_data"
    },
    {
     "name": "stdout",
     "output_type": "stream",
     "text": [
      "Epoch metrics: {'accuracy': 0.7021484375, 'crossentropy': 1.0323179960250854}\n"
     ]
    },
    {
     "data": {
      "application/vnd.jupyter.widget-view+json": {
       "model_id": "",
       "version_major": 2,
       "version_minor": 0
      },
      "text/plain": [
       "[1/16]   6%|6          [00:00<?]"
      ]
     },
     "metadata": {},
     "output_type": "display_data"
    },
    {
     "name": "stdout",
     "output_type": "stream",
     "text": [
      "Epoch metrics: {'accuracy': 0.6865234375, 'crossentropy': 1.060726284980774}\n",
      "RestoringEarlyStopping: 1 / 20\n"
     ]
    },
    {
     "data": {
      "application/vnd.jupyter.widget-view+json": {
       "model_id": "",
       "version_major": 2,
       "version_minor": 0
      },
      "text/plain": [
       "[1/16]   6%|6          [00:00<?]"
      ]
     },
     "metadata": {},
     "output_type": "display_data"
    },
    {
     "name": "stdout",
     "output_type": "stream",
     "text": [
      "Epoch metrics: {'accuracy': 0.6904296875, 'crossentropy': 1.1442513465881348}\n",
      "RestoringEarlyStopping: 2 / 20\n"
     ]
    },
    {
     "data": {
      "application/vnd.jupyter.widget-view+json": {
       "model_id": "",
       "version_major": 2,
       "version_minor": 0
      },
      "text/plain": [
       "[1/16]   6%|6          [00:00<?]"
      ]
     },
     "metadata": {},
     "output_type": "display_data"
    },
    {
     "name": "stdout",
     "output_type": "stream",
     "text": [
      "Epoch metrics: {'accuracy': 0.68359375, 'crossentropy': 1.1403635740280151}\n",
      "RestoringEarlyStopping: 3 / 20\n"
     ]
    },
    {
     "data": {
      "application/vnd.jupyter.widget-view+json": {
       "model_id": "",
       "version_major": 2,
       "version_minor": 0
      },
      "text/plain": [
       "[1/16]   6%|6          [00:00<?]"
      ]
     },
     "metadata": {},
     "output_type": "display_data"
    },
    {
     "name": "stdout",
     "output_type": "stream",
     "text": [
      "Epoch metrics: {'accuracy': 0.6650390625, 'crossentropy': 1.1784532070159912}\n",
      "RestoringEarlyStopping: 4 / 20\n"
     ]
    },
    {
     "data": {
      "application/vnd.jupyter.widget-view+json": {
       "model_id": "",
       "version_major": 2,
       "version_minor": 0
      },
      "text/plain": [
       "[1/16]   6%|6          [00:00<?]"
      ]
     },
     "metadata": {},
     "output_type": "display_data"
    },
    {
     "name": "stdout",
     "output_type": "stream",
     "text": [
      "Epoch metrics: {'accuracy': 0.6669921875, 'crossentropy': 1.170360803604126}\n",
      "RestoringEarlyStopping: 5 / 20\n"
     ]
    },
    {
     "data": {
      "application/vnd.jupyter.widget-view+json": {
       "model_id": "",
       "version_major": 2,
       "version_minor": 0
      },
      "text/plain": [
       "[1/16]   6%|6          [00:00<?]"
      ]
     },
     "metadata": {},
     "output_type": "display_data"
    },
    {
     "name": "stdout",
     "output_type": "stream",
     "text": [
      "Epoch metrics: {'accuracy': 0.6689453125, 'crossentropy': 1.1761560440063477}\n",
      "RestoringEarlyStopping: 6 / 20\n"
     ]
    },
    {
     "data": {
      "application/vnd.jupyter.widget-view+json": {
       "model_id": "",
       "version_major": 2,
       "version_minor": 0
      },
      "text/plain": [
       "[1/16]   6%|6          [00:00<?]"
      ]
     },
     "metadata": {},
     "output_type": "display_data"
    },
    {
     "name": "stdout",
     "output_type": "stream",
     "text": [
      "Epoch metrics: {'accuracy': 0.673828125, 'crossentropy': 1.1873996257781982}\n",
      "RestoringEarlyStopping: 7 / 20\n"
     ]
    },
    {
     "data": {
      "application/vnd.jupyter.widget-view+json": {
       "model_id": "",
       "version_major": 2,
       "version_minor": 0
      },
      "text/plain": [
       "[1/16]   6%|6          [00:00<?]"
      ]
     },
     "metadata": {},
     "output_type": "display_data"
    },
    {
     "name": "stdout",
     "output_type": "stream",
     "text": [
      "Epoch metrics: {'accuracy': 0.66796875, 'crossentropy': 1.2358555793762207}\n",
      "RestoringEarlyStopping: 8 / 20\n"
     ]
    },
    {
     "data": {
      "application/vnd.jupyter.widget-view+json": {
       "model_id": "",
       "version_major": 2,
       "version_minor": 0
      },
      "text/plain": [
       "[1/16]   6%|6          [00:00<?]"
      ]
     },
     "metadata": {},
     "output_type": "display_data"
    },
    {
     "name": "stdout",
     "output_type": "stream",
     "text": [
      "Epoch metrics: {'accuracy': 0.6708984375, 'crossentropy': 1.2699073553085327}\n",
      "RestoringEarlyStopping: 9 / 20\n"
     ]
    },
    {
     "data": {
      "application/vnd.jupyter.widget-view+json": {
       "model_id": "",
       "version_major": 2,
       "version_minor": 0
      },
      "text/plain": [
       "[1/16]   6%|6          [00:00<?]"
      ]
     },
     "metadata": {},
     "output_type": "display_data"
    },
    {
     "name": "stdout",
     "output_type": "stream",
     "text": [
      "Epoch metrics: {'accuracy': 0.6787109375, 'crossentropy': 1.2347625494003296}\n",
      "RestoringEarlyStopping: 10 / 20\n"
     ]
    },
    {
     "data": {
      "application/vnd.jupyter.widget-view+json": {
       "model_id": "",
       "version_major": 2,
       "version_minor": 0
      },
      "text/plain": [
       "[1/16]   6%|6          [00:00<?]"
      ]
     },
     "metadata": {},
     "output_type": "display_data"
    },
    {
     "name": "stdout",
     "output_type": "stream",
     "text": [
      "Epoch metrics: {'accuracy': 0.671875, 'crossentropy': 1.2281476259231567}\n",
      "RestoringEarlyStopping: 11 / 20\n"
     ]
    },
    {
     "data": {
      "application/vnd.jupyter.widget-view+json": {
       "model_id": "",
       "version_major": 2,
       "version_minor": 0
      },
      "text/plain": [
       "[1/16]   6%|6          [00:00<?]"
      ]
     },
     "metadata": {},
     "output_type": "display_data"
    },
    {
     "name": "stdout",
     "output_type": "stream",
     "text": [
      "Epoch metrics: {'accuracy': 0.666015625, 'crossentropy': 1.2898082733154297}\n",
      "RestoringEarlyStopping: 12 / 20\n"
     ]
    },
    {
     "data": {
      "application/vnd.jupyter.widget-view+json": {
       "model_id": "",
       "version_major": 2,
       "version_minor": 0
      },
      "text/plain": [
       "[1/16]   6%|6          [00:00<?]"
      ]
     },
     "metadata": {},
     "output_type": "display_data"
    },
    {
     "name": "stdout",
     "output_type": "stream",
     "text": [
      "Epoch metrics: {'accuracy': 0.662109375, 'crossentropy': 1.1816155910491943}\n",
      "RestoringEarlyStopping: 13 / 20\n"
     ]
    },
    {
     "data": {
      "application/vnd.jupyter.widget-view+json": {
       "model_id": "",
       "version_major": 2,
       "version_minor": 0
      },
      "text/plain": [
       "[1/16]   6%|6          [00:00<?]"
      ]
     },
     "metadata": {},
     "output_type": "display_data"
    },
    {
     "name": "stdout",
     "output_type": "stream",
     "text": [
      "Epoch metrics: {'accuracy': 0.67578125, 'crossentropy': 1.192600965499878}\n",
      "RestoringEarlyStopping: 14 / 20\n"
     ]
    },
    {
     "data": {
      "application/vnd.jupyter.widget-view+json": {
       "model_id": "",
       "version_major": 2,
       "version_minor": 0
      },
      "text/plain": [
       "[1/16]   6%|6          [00:00<?]"
      ]
     },
     "metadata": {},
     "output_type": "display_data"
    },
    {
     "name": "stdout",
     "output_type": "stream",
     "text": [
      "Epoch metrics: {'accuracy': 0.6748046875, 'crossentropy': 1.179445743560791}\n",
      "RestoringEarlyStopping: 15 / 20\n"
     ]
    },
    {
     "data": {
      "application/vnd.jupyter.widget-view+json": {
       "model_id": "",
       "version_major": 2,
       "version_minor": 0
      },
      "text/plain": [
       "[1/16]   6%|6          [00:00<?]"
      ]
     },
     "metadata": {},
     "output_type": "display_data"
    },
    {
     "name": "stdout",
     "output_type": "stream",
     "text": [
      "Epoch metrics: {'accuracy': 0.6875, 'crossentropy': 1.1811089515686035}\n",
      "RestoringEarlyStopping: 16 / 20\n"
     ]
    },
    {
     "data": {
      "application/vnd.jupyter.widget-view+json": {
       "model_id": "",
       "version_major": 2,
       "version_minor": 0
      },
      "text/plain": [
       "[1/16]   6%|6          [00:00<?]"
      ]
     },
     "metadata": {},
     "output_type": "display_data"
    },
    {
     "name": "stdout",
     "output_type": "stream",
     "text": [
      "Epoch metrics: {'accuracy': 0.673828125, 'crossentropy': 1.1777112483978271}\n",
      "RestoringEarlyStopping: 17 / 20\n"
     ]
    },
    {
     "data": {
      "application/vnd.jupyter.widget-view+json": {
       "model_id": "",
       "version_major": 2,
       "version_minor": 0
      },
      "text/plain": [
       "[1/16]   6%|6          [00:00<?]"
      ]
     },
     "metadata": {},
     "output_type": "display_data"
    },
    {
     "name": "stdout",
     "output_type": "stream",
     "text": [
      "Epoch metrics: {'accuracy': 0.666015625, 'crossentropy': 1.2586450576782227}\n",
      "RestoringEarlyStopping: 18 / 20\n"
     ]
    },
    {
     "data": {
      "application/vnd.jupyter.widget-view+json": {
       "model_id": "",
       "version_major": 2,
       "version_minor": 0
      },
      "text/plain": [
       "[1/16]   6%|6          [00:00<?]"
      ]
     },
     "metadata": {},
     "output_type": "display_data"
    },
    {
     "name": "stdout",
     "output_type": "stream",
     "text": [
      "Epoch metrics: {'accuracy': 0.6787109375, 'crossentropy': 1.204067587852478}\n",
      "RestoringEarlyStopping: 19 / 20\n"
     ]
    },
    {
     "data": {
      "application/vnd.jupyter.widget-view+json": {
       "model_id": "",
       "version_major": 2,
       "version_minor": 0
      },
      "text/plain": [
       "[1/16]   6%|6          [00:00<?]"
      ]
     },
     "metadata": {},
     "output_type": "display_data"
    },
    {
     "name": "stdout",
     "output_type": "stream",
     "text": [
      "Epoch metrics: {'accuracy': 0.6708984375, 'crossentropy': 1.2897167205810547}\n",
      "RestoringEarlyStopping: 20 / 20\n",
      "RestoringEarlyStopping: Out of patience\n",
      "RestoringEarlyStopping: Restoring best parameters. (Score: 0.7021484375)\n",
      "RestoringEarlyStopping: Restoring optimizer.\n",
      "{'/val_metrics': <wandb.data_types.Table object at 0x7f86fe1eda90>, '/best_epoch': 8, '/best_val_accuracy': 0.7021484375, '/best_val_crossentropy': 1.0323179960250854}\n"
     ]
    },
    {
     "data": {
      "application/vnd.jupyter.widget-view+json": {
       "model_id": "",
       "version_major": 2,
       "version_minor": 0
      },
      "text/plain": [
       "[1/79]   1%|1          [00:00<?]"
      ]
     },
     "metadata": {},
     "output_type": "display_data"
    },
    {
     "name": "stdout",
     "output_type": "stream",
     "text": [
      "Perf after training {'accuracy': 0.7136, 'crossentropy': 0.948865625}\n"
     ]
    },
    {
     "data": {
      "text/plain": [
       "{'initial_training_set_indices': [51348,\n",
       "  49110,\n",
       "  8222,\n",
       "  28130,\n",
       "  13484,\n",
       "  47685,\n",
       "  3938,\n",
       "  59930,\n",
       "  49196,\n",
       "  19427,\n",
       "  4601,\n",
       "  49922,\n",
       "  45635,\n",
       "  35684,\n",
       "  3579,\n",
       "  7621,\n",
       "  8465,\n",
       "  33959,\n",
       "  27521,\n",
       "  27015],\n",
       " 'dataset_info': {'training': \"'FastMNIST (train)'\",\n",
       "  'test': \"'FastMNIST (test, 10000 samples)'\"},\n",
       " 'active_learning_steps': [{'training': {'epochs': [{'accuracy': 0.4140625,\n",
       "      'crossentropy': 1.8599867820739746},\n",
       "     {'accuracy': 0.6318359375, 'crossentropy': 1.1999586820602417},\n",
       "     {'accuracy': 0.658203125, 'crossentropy': 1.0684055089950562},\n",
       "     {'accuracy': 0.689453125, 'crossentropy': 1.0234684944152832},\n",
       "     {'accuracy': 0.6748046875, 'crossentropy': 1.0506612062454224},\n",
       "     {'accuracy': 0.6806640625, 'crossentropy': 1.1001193523406982},\n",
       "     {'accuracy': 0.6533203125, 'crossentropy': 1.1593643426895142},\n",
       "     {'accuracy': 0.7001953125, 'crossentropy': 1.0601842403411865},\n",
       "     {'accuracy': 0.7021484375, 'crossentropy': 1.0323179960250854},\n",
       "     {'accuracy': 0.6865234375, 'crossentropy': 1.060726284980774},\n",
       "     {'accuracy': 0.6904296875, 'crossentropy': 1.1442513465881348},\n",
       "     {'accuracy': 0.68359375, 'crossentropy': 1.1403635740280151},\n",
       "     {'accuracy': 0.6650390625, 'crossentropy': 1.1784532070159912},\n",
       "     {'accuracy': 0.6669921875, 'crossentropy': 1.170360803604126},\n",
       "     {'accuracy': 0.6689453125, 'crossentropy': 1.1761560440063477},\n",
       "     {'accuracy': 0.673828125, 'crossentropy': 1.1873996257781982},\n",
       "     {'accuracy': 0.66796875, 'crossentropy': 1.2358555793762207},\n",
       "     {'accuracy': 0.6708984375, 'crossentropy': 1.2699073553085327},\n",
       "     {'accuracy': 0.6787109375, 'crossentropy': 1.2347625494003296},\n",
       "     {'accuracy': 0.671875, 'crossentropy': 1.2281476259231567},\n",
       "     {'accuracy': 0.666015625, 'crossentropy': 1.2898082733154297},\n",
       "     {'accuracy': 0.662109375, 'crossentropy': 1.1816155910491943},\n",
       "     {'accuracy': 0.67578125, 'crossentropy': 1.192600965499878},\n",
       "     {'accuracy': 0.6748046875, 'crossentropy': 1.179445743560791},\n",
       "     {'accuracy': 0.6875, 'crossentropy': 1.1811089515686035},\n",
       "     {'accuracy': 0.673828125, 'crossentropy': 1.1777112483978271},\n",
       "     {'accuracy': 0.666015625, 'crossentropy': 1.2586450576782227},\n",
       "     {'accuracy': 0.6787109375, 'crossentropy': 1.204067587852478},\n",
       "     {'accuracy': 0.6708984375, 'crossentropy': 1.2897167205810547}],\n",
       "    'best_epoch': 8},\n",
       "   'evaluation_metrics': {'accuracy': 0.7136, 'crossentropy': 0.948865625}}]}"
      ]
     },
     "execution_count": null,
     "metadata": {},
     "output_type": "execute_result"
    }
   ],
   "source": [
    "logs = {}\n",
    "model25 = experiment.run(logs)\n",
    "logs"
   ]
  },
  {
   "cell_type": "code",
   "execution_count": null,
   "metadata": {},
   "outputs": [],
   "source": [
    "device = \"cuda\"\n",
    "train_dataset = NamedDataset(FastMNIST(\"data\", train=True, download=True, device=device), \"FastMNIST (train)\")\n",
    "\n",
    "test_dataset = FastMNIST(\"data\", train=False, device=device)\n",
    "test_dataset = NamedDataset(test_dataset, f\"FastMNIST (test, {len(test_dataset)} samples)\")"
   ]
  },
  {
   "cell_type": "code",
   "execution_count": null,
   "metadata": {},
   "outputs": [
    {
     "data": {
      "application/vnd.jupyter.widget-view+json": {
       "model_id": "",
       "version_major": 2,
       "version_minor": 0
      },
      "text/plain": [
       "get_predictions_labels:   0%|          | 0/101000000 [00:00<?, ?it/s]"
      ]
     },
     "metadata": {},
     "output_type": "display_data"
    }
   ],
   "source": [
    "predictions_N_M_C, labels_N = online_bayesian_inference.get_obi_predictions_labels(model=model25, test_dataset=test_dataset, train_dataset=train_dataset, training_indices=training_set_90, num_samples=10000, eval_batchsize=512, device=\"cuda\")"
   ]
  },
  {
   "cell_type": "code",
   "execution_count": null,
   "metadata": {},
   "outputs": [
    {
     "data": {
      "text/plain": [
       "100"
      ]
     },
     "execution_count": null,
     "metadata": {},
     "output_type": "execute_result"
    }
   ],
   "source": [
    "len(training_set_90)"
   ]
  },
  {
   "cell_type": "code",
   "execution_count": null,
   "metadata": {},
   "outputs": [],
   "source": [
    "torch.save((predictions_N_M_C, labels_N), \"mnist_model_10k.pt\")"
   ]
  },
  {
   "cell_type": "code",
   "execution_count": null,
   "metadata": {},
   "outputs": [],
   "source": [
    "predictions_N_M_C, labels_N = torch.load(\"mnist_model_10k.pt\")"
   ]
  },
  {
   "cell_type": "code",
   "execution_count": null,
   "metadata": {},
   "outputs": [
    {
     "name": "stdout",
     "output_type": "stream",
     "text": [
      "-rw-rw-r-- 1 blackhc blackhc 3.8G Apr 18 19:47 mnist_model_10k.pt\n"
     ]
    }
   ],
   "source": [
    "!ls -hl mnist_model_10k.pt"
   ]
  },
  {
   "cell_type": "code",
   "execution_count": null,
   "metadata": {},
   "outputs": [
    {
     "name": "stdout",
     "output_type": "stream",
     "text": [
      "Online Training Size/Num Samples/Trial: 0/10000/0\n"
     ]
    }
   ],
   "source": [
    "online_bayesian_inference.eval_obi_simple(predictions_N_M_C, labels_N, num_training_indices=len(training_set_90), start_index=0, num_samples_list=(10000,), num_trials=1, real_training_set_size=35)"
   ]
  },
  {
   "cell_type": "code",
   "execution_count": null,
   "metadata": {},
   "outputs": [
    {
     "name": "stdout",
     "output_type": "stream",
     "text": [
      "Online Training Size/Num Samples/Trial: 35/100/0\n",
      "OBIPerformance(total_training_set_size=35, real_training_set_size=35, online_training_set_size=35, trial_index=0, num_samples=100, accuracy=0.7770195603370667, crossentropy=0.8479147553443909)\n",
      "Online Training Size/Num Samples/Trial: 36/100/0\n",
      "OBIPerformance(total_training_set_size=36, real_training_set_size=35, online_training_set_size=36, trial_index=0, num_samples=100, accuracy=0.7488209009170532, crossentropy=0.8137223720550537)\n",
      "Online Training Size/Num Samples/Trial: 37/100/0\n",
      "OBIPerformance(total_training_set_size=37, real_training_set_size=35, online_training_set_size=37, trial_index=0, num_samples=100, accuracy=0.7607626914978027, crossentropy=0.7960487008094788)\n",
      "Online Training Size/Num Samples/Trial: 38/100/0\n",
      "OBIPerformance(total_training_set_size=38, real_training_set_size=35, online_training_set_size=38, trial_index=0, num_samples=100, accuracy=0.7780230641365051, crossentropy=0.7317031621932983)\n",
      "Online Training Size/Num Samples/Trial: 39/100/0\n",
      "OBIPerformance(total_training_set_size=39, real_training_set_size=35, online_training_set_size=39, trial_index=0, num_samples=100, accuracy=0.7616658210754395, crossentropy=0.8316002488136292)\n",
      "Online Training Size/Num Samples/Trial: 40/100/0\n",
      "OBIPerformance(total_training_set_size=40, real_training_set_size=35, online_training_set_size=40, trial_index=0, num_samples=100, accuracy=0.7856497764587402, crossentropy=0.7273717522621155)\n",
      "Online Training Size/Num Samples/Trial: 41/100/0\n",
      "OBIPerformance(total_training_set_size=41, real_training_set_size=35, online_training_set_size=41, trial_index=0, num_samples=100, accuracy=0.7850476503372192, crossentropy=0.707657516002655)\n",
      "Online Training Size/Num Samples/Trial: 42/100/0\n",
      "OBIPerformance(total_training_set_size=42, real_training_set_size=35, online_training_set_size=42, trial_index=0, num_samples=100, accuracy=0.7799297571182251, crossentropy=0.7383816242218018)\n",
      "Online Training Size/Num Samples/Trial: 43/100/0\n",
      "OBIPerformance(total_training_set_size=43, real_training_set_size=35, online_training_set_size=43, trial_index=0, num_samples=100, accuracy=0.7803311347961426, crossentropy=0.7184941172599792)\n",
      "Online Training Size/Num Samples/Trial: 44/100/0\n",
      "OBIPerformance(total_training_set_size=44, real_training_set_size=35, online_training_set_size=44, trial_index=0, num_samples=100, accuracy=0.7768188714981079, crossentropy=0.7665050029754639)\n",
      "Online Training Size/Num Samples/Trial: 45/100/0\n",
      "OBIPerformance(total_training_set_size=45, real_training_set_size=35, online_training_set_size=45, trial_index=0, num_samples=100, accuracy=0.8093326687812805, crossentropy=0.7240161895751953)\n",
      "Online Training Size/Num Samples/Trial: 46/100/0\n",
      "OBIPerformance(total_training_set_size=46, real_training_set_size=35, online_training_set_size=46, trial_index=0, num_samples=100, accuracy=0.7915704846382141, crossentropy=0.710840106010437)\n",
      "Online Training Size/Num Samples/Trial: 47/100/0\n",
      "OBIPerformance(total_training_set_size=47, real_training_set_size=35, online_training_set_size=47, trial_index=0, num_samples=100, accuracy=0.7809332609176636, crossentropy=0.7367756962776184)\n",
      "Online Training Size/Num Samples/Trial: 48/100/0\n",
      "OBIPerformance(total_training_set_size=48, real_training_set_size=35, online_training_set_size=48, trial_index=0, num_samples=100, accuracy=0.758053183555603, crossentropy=0.7657304406166077)\n",
      "Online Training Size/Num Samples/Trial: 49/100/0\n",
      "OBIPerformance(total_training_set_size=49, real_training_set_size=35, online_training_set_size=49, trial_index=0, num_samples=100, accuracy=0.7909684181213379, crossentropy=0.731301486492157)\n",
      "Online Training Size/Num Samples/Trial: 50/100/0\n",
      "OBIPerformance(total_training_set_size=50, real_training_set_size=35, online_training_set_size=50, trial_index=0, num_samples=100, accuracy=0.8030105233192444, crossentropy=0.6577921509742737)\n",
      "Online Training Size/Num Samples/Trial: 51/100/0\n",
      "OBIPerformance(total_training_set_size=51, real_training_set_size=35, online_training_set_size=51, trial_index=0, num_samples=100, accuracy=0.7762167453765869, crossentropy=0.7812309265136719)\n",
      "Online Training Size/Num Samples/Trial: 52/100/0\n",
      "OBIPerformance(total_training_set_size=52, real_training_set_size=35, online_training_set_size=52, trial_index=0, num_samples=100, accuracy=0.787757158279419, crossentropy=0.7557998895645142)\n",
      "Online Training Size/Num Samples/Trial: 53/100/0\n",
      "OBIPerformance(total_training_set_size=53, real_training_set_size=35, online_training_set_size=53, trial_index=0, num_samples=100, accuracy=0.79488205909729, crossentropy=0.7514387965202332)\n",
      "Online Training Size/Num Samples/Trial: 54/100/0\n",
      "OBIPerformance(total_training_set_size=54, real_training_set_size=35, online_training_set_size=54, trial_index=0, num_samples=100, accuracy=0.786552906036377, crossentropy=0.7609745860099792)\n",
      "Online Training Size/Num Samples/Trial: 55/100/0\n",
      "OBIPerformance(total_training_set_size=55, real_training_set_size=35, online_training_set_size=55, trial_index=0, num_samples=100, accuracy=0.7781234383583069, crossentropy=0.7315252423286438)\n",
      "Online Training Size/Num Samples/Trial: 56/100/0\n",
      "OBIPerformance(total_training_set_size=56, real_training_set_size=35, online_training_set_size=56, trial_index=0, num_samples=100, accuracy=0.7876567840576172, crossentropy=0.7171401381492615)\n",
      "Online Training Size/Num Samples/Trial: 57/100/0\n",
      "OBIPerformance(total_training_set_size=57, real_training_set_size=35, online_training_set_size=57, trial_index=0, num_samples=100, accuracy=0.7728047966957092, crossentropy=0.7655290365219116)\n",
      "Online Training Size/Num Samples/Trial: 58/100/0\n",
      "OBIPerformance(total_training_set_size=58, real_training_set_size=35, online_training_set_size=58, trial_index=0, num_samples=100, accuracy=0.7800301313400269, crossentropy=0.7450839281082153)\n",
      "Online Training Size/Num Samples/Trial: 59/100/0\n",
      "OBIPerformance(total_training_set_size=59, real_training_set_size=35, online_training_set_size=59, trial_index=0, num_samples=100, accuracy=0.7826392650604248, crossentropy=0.7280413508415222)\n",
      "Online Training Size/Num Samples/Trial: 60/100/0\n",
      "OBIPerformance(total_training_set_size=60, real_training_set_size=35, online_training_set_size=60, trial_index=0, num_samples=100, accuracy=0.7823382019996643, crossentropy=0.704192578792572)\n",
      "Online Training Size/Num Samples/Trial: 61/100/0\n",
      "OBIPerformance(total_training_set_size=61, real_training_set_size=35, online_training_set_size=61, trial_index=0, num_samples=100, accuracy=0.7790265679359436, crossentropy=0.7586090564727783)\n",
      "Online Training Size/Num Samples/Trial: 62/100/0\n",
      "OBIPerformance(total_training_set_size=62, real_training_set_size=35, online_training_set_size=62, trial_index=0, num_samples=100, accuracy=0.7892624139785767, crossentropy=0.7391437292098999)\n",
      "Online Training Size/Num Samples/Trial: 63/100/0\n",
      "OBIPerformance(total_training_set_size=63, real_training_set_size=35, online_training_set_size=63, trial_index=0, num_samples=100, accuracy=0.7846462726593018, crossentropy=0.7559781670570374)\n",
      "Online Training Size/Num Samples/Trial: 64/100/0\n",
      "OBIPerformance(total_training_set_size=64, real_training_set_size=35, online_training_set_size=64, trial_index=0, num_samples=100, accuracy=0.7941796183586121, crossentropy=0.708406925201416)\n",
      "Online Training Size/Num Samples/Trial: 65/100/0\n",
      "OBIPerformance(total_training_set_size=65, real_training_set_size=35, online_training_set_size=65, trial_index=0, num_samples=100, accuracy=0.7760160565376282, crossentropy=0.739191472530365)\n",
      "Online Training Size/Num Samples/Trial: 66/100/0\n",
      "OBIPerformance(total_training_set_size=66, real_training_set_size=35, online_training_set_size=66, trial_index=0, num_samples=100, accuracy=0.7800301313400269, crossentropy=0.7429972887039185)\n",
      "Online Training Size/Num Samples/Trial: 67/100/0\n",
      "OBIPerformance(total_training_set_size=67, real_training_set_size=35, online_training_set_size=67, trial_index=0, num_samples=100, accuracy=0.7947817444801331, crossentropy=0.6933515071868896)\n",
      "Online Training Size/Num Samples/Trial: 68/100/0\n",
      "OBIPerformance(total_training_set_size=68, real_training_set_size=35, online_training_set_size=68, trial_index=0, num_samples=100, accuracy=0.7931761145591736, crossentropy=0.7475882768630981)\n",
      "Online Training Size/Num Samples/Trial: 69/100/0\n",
      "OBIPerformance(total_training_set_size=69, real_training_set_size=35, online_training_set_size=69, trial_index=0, num_samples=100, accuracy=0.7765178084373474, crossentropy=0.7455720901489258)\n",
      "Online Training Size/Num Samples/Trial: 70/100/0\n",
      "OBIPerformance(total_training_set_size=70, real_training_set_size=35, online_training_set_size=70, trial_index=0, num_samples=100, accuracy=0.7638735771179199, crossentropy=0.8138070106506348)\n",
      "Online Training Size/Num Samples/Trial: 71/100/0\n",
      "OBIPerformance(total_training_set_size=71, real_training_set_size=35, online_training_set_size=71, trial_index=0, num_samples=100, accuracy=0.7897641658782959, crossentropy=0.7759979963302612)\n",
      "Online Training Size/Num Samples/Trial: 72/100/0\n",
      "OBIPerformance(total_training_set_size=72, real_training_set_size=35, online_training_set_size=72, trial_index=0, num_samples=100, accuracy=0.7899648547172546, crossentropy=0.7359782457351685)\n",
      "Online Training Size/Num Samples/Trial: 73/100/0\n",
      "OBIPerformance(total_training_set_size=73, real_training_set_size=35, online_training_set_size=73, trial_index=0, num_samples=100, accuracy=0.7772202491760254, crossentropy=0.7255714535713196)\n",
      "Online Training Size/Num Samples/Trial: 74/100/0\n",
      "OBIPerformance(total_training_set_size=74, real_training_set_size=35, online_training_set_size=74, trial_index=0, num_samples=100, accuracy=0.757451057434082, crossentropy=0.7953479290008545)\n",
      "Online Training Size/Num Samples/Trial: 75/100/0\n",
      "OBIPerformance(total_training_set_size=75, real_training_set_size=35, online_training_set_size=75, trial_index=0, num_samples=100, accuracy=0.7801304459571838, crossentropy=0.7367581129074097)\n",
      "Online Training Size/Num Samples/Trial: 76/100/0\n",
      "OBIPerformance(total_training_set_size=76, real_training_set_size=35, online_training_set_size=76, trial_index=0, num_samples=100, accuracy=0.7903662919998169, crossentropy=0.7410944104194641)\n",
      "Online Training Size/Num Samples/Trial: 77/100/0\n",
      "OBIPerformance(total_training_set_size=77, real_training_set_size=35, online_training_set_size=77, trial_index=0, num_samples=100, accuracy=0.7949824333190918, crossentropy=0.6923753619194031)\n",
      "Online Training Size/Num Samples/Trial: 78/100/0\n",
      "OBIPerformance(total_training_set_size=78, real_training_set_size=35, online_training_set_size=78, trial_index=0, num_samples=100, accuracy=0.7952834963798523, crossentropy=0.6794764995574951)\n",
      "Online Training Size/Num Samples/Trial: 79/100/0\n",
      "OBIPerformance(total_training_set_size=79, real_training_set_size=35, online_training_set_size=79, trial_index=0, num_samples=100, accuracy=0.7897641658782959, crossentropy=0.7070302963256836)\n",
      "Online Training Size/Num Samples/Trial: 80/100/0\n",
      "OBIPerformance(total_training_set_size=80, real_training_set_size=35, online_training_set_size=80, trial_index=0, num_samples=100, accuracy=0.8070245981216431, crossentropy=0.6738825440406799)\n",
      "Online Training Size/Num Samples/Trial: 81/100/0\n",
      "OBIPerformance(total_training_set_size=81, real_training_set_size=35, online_training_set_size=81, trial_index=0, num_samples=100, accuracy=0.7925739884376526, crossentropy=0.7080333232879639)\n",
      "Online Training Size/Num Samples/Trial: 82/100/0\n",
      "OBIPerformance(total_training_set_size=82, real_training_set_size=35, online_training_set_size=82, trial_index=0, num_samples=100, accuracy=0.7829402685165405, crossentropy=0.7770246267318726)\n",
      "Online Training Size/Num Samples/Trial: 83/100/0\n",
      "OBIPerformance(total_training_set_size=83, real_training_set_size=35, online_training_set_size=83, trial_index=0, num_samples=100, accuracy=0.7978926301002502, crossentropy=0.6900596022605896)\n",
      "Online Training Size/Num Samples/Trial: 84/100/0\n",
      "OBIPerformance(total_training_set_size=84, real_training_set_size=35, online_training_set_size=84, trial_index=0, num_samples=100, accuracy=0.7787255644798279, crossentropy=0.7678052186965942)\n",
      "Online Training Size/Num Samples/Trial: 85/100/0\n",
      "OBIPerformance(total_training_set_size=85, real_training_set_size=35, online_training_set_size=85, trial_index=0, num_samples=100, accuracy=0.799397885799408, crossentropy=0.7163575291633606)\n",
      "Online Training Size/Num Samples/Trial: 86/100/0\n",
      "OBIPerformance(total_training_set_size=86, real_training_set_size=35, online_training_set_size=86, trial_index=0, num_samples=100, accuracy=0.8004013895988464, crossentropy=0.640066385269165)\n",
      "Online Training Size/Num Samples/Trial: 87/100/0\n",
      "OBIPerformance(total_training_set_size=87, real_training_set_size=35, online_training_set_size=87, trial_index=0, num_samples=100, accuracy=0.8020070195198059, crossentropy=0.7565041780471802)\n",
      "Online Training Size/Num Samples/Trial: 88/100/0\n",
      "OBIPerformance(total_training_set_size=88, real_training_set_size=35, online_training_set_size=88, trial_index=0, num_samples=100, accuracy=0.8018063306808472, crossentropy=0.6778466105461121)\n",
      "Online Training Size/Num Samples/Trial: 89/100/0\n",
      "OBIPerformance(total_training_set_size=89, real_training_set_size=35, online_training_set_size=89, trial_index=0, num_samples=100, accuracy=0.8029102087020874, crossentropy=0.6793418526649475)\n",
      "Online Training Size/Num Samples/Trial: 90/100/0\n",
      "OBIPerformance(total_training_set_size=90, real_training_set_size=35, online_training_set_size=90, trial_index=0, num_samples=100, accuracy=0.7652784585952759, crossentropy=0.7427279949188232)\n"
     ]
    },
    {
     "data": {
      "text/plain": [
       "[OBIPerformance(total_training_set_size=35, real_training_set_size=35, online_training_set_size=35, trial_index=0, num_samples=100, accuracy=0.7770195603370667, crossentropy=0.8479147553443909),\n",
       " OBIPerformance(total_training_set_size=36, real_training_set_size=35, online_training_set_size=36, trial_index=0, num_samples=100, accuracy=0.7488209009170532, crossentropy=0.8137223720550537),\n",
       " OBIPerformance(total_training_set_size=37, real_training_set_size=35, online_training_set_size=37, trial_index=0, num_samples=100, accuracy=0.7607626914978027, crossentropy=0.7960487008094788),\n",
       " OBIPerformance(total_training_set_size=38, real_training_set_size=35, online_training_set_size=38, trial_index=0, num_samples=100, accuracy=0.7780230641365051, crossentropy=0.7317031621932983),\n",
       " OBIPerformance(total_training_set_size=39, real_training_set_size=35, online_training_set_size=39, trial_index=0, num_samples=100, accuracy=0.7616658210754395, crossentropy=0.8316002488136292),\n",
       " OBIPerformance(total_training_set_size=40, real_training_set_size=35, online_training_set_size=40, trial_index=0, num_samples=100, accuracy=0.7856497764587402, crossentropy=0.7273717522621155),\n",
       " OBIPerformance(total_training_set_size=41, real_training_set_size=35, online_training_set_size=41, trial_index=0, num_samples=100, accuracy=0.7850476503372192, crossentropy=0.707657516002655),\n",
       " OBIPerformance(total_training_set_size=42, real_training_set_size=35, online_training_set_size=42, trial_index=0, num_samples=100, accuracy=0.7799297571182251, crossentropy=0.7383816242218018),\n",
       " OBIPerformance(total_training_set_size=43, real_training_set_size=35, online_training_set_size=43, trial_index=0, num_samples=100, accuracy=0.7803311347961426, crossentropy=0.7184941172599792),\n",
       " OBIPerformance(total_training_set_size=44, real_training_set_size=35, online_training_set_size=44, trial_index=0, num_samples=100, accuracy=0.7768188714981079, crossentropy=0.7665050029754639),\n",
       " OBIPerformance(total_training_set_size=45, real_training_set_size=35, online_training_set_size=45, trial_index=0, num_samples=100, accuracy=0.8093326687812805, crossentropy=0.7240161895751953),\n",
       " OBIPerformance(total_training_set_size=46, real_training_set_size=35, online_training_set_size=46, trial_index=0, num_samples=100, accuracy=0.7915704846382141, crossentropy=0.710840106010437),\n",
       " OBIPerformance(total_training_set_size=47, real_training_set_size=35, online_training_set_size=47, trial_index=0, num_samples=100, accuracy=0.7809332609176636, crossentropy=0.7367756962776184),\n",
       " OBIPerformance(total_training_set_size=48, real_training_set_size=35, online_training_set_size=48, trial_index=0, num_samples=100, accuracy=0.758053183555603, crossentropy=0.7657304406166077),\n",
       " OBIPerformance(total_training_set_size=49, real_training_set_size=35, online_training_set_size=49, trial_index=0, num_samples=100, accuracy=0.7909684181213379, crossentropy=0.731301486492157),\n",
       " OBIPerformance(total_training_set_size=50, real_training_set_size=35, online_training_set_size=50, trial_index=0, num_samples=100, accuracy=0.8030105233192444, crossentropy=0.6577921509742737),\n",
       " OBIPerformance(total_training_set_size=51, real_training_set_size=35, online_training_set_size=51, trial_index=0, num_samples=100, accuracy=0.7762167453765869, crossentropy=0.7812309265136719),\n",
       " OBIPerformance(total_training_set_size=52, real_training_set_size=35, online_training_set_size=52, trial_index=0, num_samples=100, accuracy=0.787757158279419, crossentropy=0.7557998895645142),\n",
       " OBIPerformance(total_training_set_size=53, real_training_set_size=35, online_training_set_size=53, trial_index=0, num_samples=100, accuracy=0.79488205909729, crossentropy=0.7514387965202332),\n",
       " OBIPerformance(total_training_set_size=54, real_training_set_size=35, online_training_set_size=54, trial_index=0, num_samples=100, accuracy=0.786552906036377, crossentropy=0.7609745860099792),\n",
       " OBIPerformance(total_training_set_size=55, real_training_set_size=35, online_training_set_size=55, trial_index=0, num_samples=100, accuracy=0.7781234383583069, crossentropy=0.7315252423286438),\n",
       " OBIPerformance(total_training_set_size=56, real_training_set_size=35, online_training_set_size=56, trial_index=0, num_samples=100, accuracy=0.7876567840576172, crossentropy=0.7171401381492615),\n",
       " OBIPerformance(total_training_set_size=57, real_training_set_size=35, online_training_set_size=57, trial_index=0, num_samples=100, accuracy=0.7728047966957092, crossentropy=0.7655290365219116),\n",
       " OBIPerformance(total_training_set_size=58, real_training_set_size=35, online_training_set_size=58, trial_index=0, num_samples=100, accuracy=0.7800301313400269, crossentropy=0.7450839281082153),\n",
       " OBIPerformance(total_training_set_size=59, real_training_set_size=35, online_training_set_size=59, trial_index=0, num_samples=100, accuracy=0.7826392650604248, crossentropy=0.7280413508415222),\n",
       " OBIPerformance(total_training_set_size=60, real_training_set_size=35, online_training_set_size=60, trial_index=0, num_samples=100, accuracy=0.7823382019996643, crossentropy=0.704192578792572),\n",
       " OBIPerformance(total_training_set_size=61, real_training_set_size=35, online_training_set_size=61, trial_index=0, num_samples=100, accuracy=0.7790265679359436, crossentropy=0.7586090564727783),\n",
       " OBIPerformance(total_training_set_size=62, real_training_set_size=35, online_training_set_size=62, trial_index=0, num_samples=100, accuracy=0.7892624139785767, crossentropy=0.7391437292098999),\n",
       " OBIPerformance(total_training_set_size=63, real_training_set_size=35, online_training_set_size=63, trial_index=0, num_samples=100, accuracy=0.7846462726593018, crossentropy=0.7559781670570374),\n",
       " OBIPerformance(total_training_set_size=64, real_training_set_size=35, online_training_set_size=64, trial_index=0, num_samples=100, accuracy=0.7941796183586121, crossentropy=0.708406925201416),\n",
       " OBIPerformance(total_training_set_size=65, real_training_set_size=35, online_training_set_size=65, trial_index=0, num_samples=100, accuracy=0.7760160565376282, crossentropy=0.739191472530365),\n",
       " OBIPerformance(total_training_set_size=66, real_training_set_size=35, online_training_set_size=66, trial_index=0, num_samples=100, accuracy=0.7800301313400269, crossentropy=0.7429972887039185),\n",
       " OBIPerformance(total_training_set_size=67, real_training_set_size=35, online_training_set_size=67, trial_index=0, num_samples=100, accuracy=0.7947817444801331, crossentropy=0.6933515071868896),\n",
       " OBIPerformance(total_training_set_size=68, real_training_set_size=35, online_training_set_size=68, trial_index=0, num_samples=100, accuracy=0.7931761145591736, crossentropy=0.7475882768630981),\n",
       " OBIPerformance(total_training_set_size=69, real_training_set_size=35, online_training_set_size=69, trial_index=0, num_samples=100, accuracy=0.7765178084373474, crossentropy=0.7455720901489258),\n",
       " OBIPerformance(total_training_set_size=70, real_training_set_size=35, online_training_set_size=70, trial_index=0, num_samples=100, accuracy=0.7638735771179199, crossentropy=0.8138070106506348),\n",
       " OBIPerformance(total_training_set_size=71, real_training_set_size=35, online_training_set_size=71, trial_index=0, num_samples=100, accuracy=0.7897641658782959, crossentropy=0.7759979963302612),\n",
       " OBIPerformance(total_training_set_size=72, real_training_set_size=35, online_training_set_size=72, trial_index=0, num_samples=100, accuracy=0.7899648547172546, crossentropy=0.7359782457351685),\n",
       " OBIPerformance(total_training_set_size=73, real_training_set_size=35, online_training_set_size=73, trial_index=0, num_samples=100, accuracy=0.7772202491760254, crossentropy=0.7255714535713196),\n",
       " OBIPerformance(total_training_set_size=74, real_training_set_size=35, online_training_set_size=74, trial_index=0, num_samples=100, accuracy=0.757451057434082, crossentropy=0.7953479290008545),\n",
       " OBIPerformance(total_training_set_size=75, real_training_set_size=35, online_training_set_size=75, trial_index=0, num_samples=100, accuracy=0.7801304459571838, crossentropy=0.7367581129074097),\n",
       " OBIPerformance(total_training_set_size=76, real_training_set_size=35, online_training_set_size=76, trial_index=0, num_samples=100, accuracy=0.7903662919998169, crossentropy=0.7410944104194641),\n",
       " OBIPerformance(total_training_set_size=77, real_training_set_size=35, online_training_set_size=77, trial_index=0, num_samples=100, accuracy=0.7949824333190918, crossentropy=0.6923753619194031),\n",
       " OBIPerformance(total_training_set_size=78, real_training_set_size=35, online_training_set_size=78, trial_index=0, num_samples=100, accuracy=0.7952834963798523, crossentropy=0.6794764995574951),\n",
       " OBIPerformance(total_training_set_size=79, real_training_set_size=35, online_training_set_size=79, trial_index=0, num_samples=100, accuracy=0.7897641658782959, crossentropy=0.7070302963256836),\n",
       " OBIPerformance(total_training_set_size=80, real_training_set_size=35, online_training_set_size=80, trial_index=0, num_samples=100, accuracy=0.8070245981216431, crossentropy=0.6738825440406799),\n",
       " OBIPerformance(total_training_set_size=81, real_training_set_size=35, online_training_set_size=81, trial_index=0, num_samples=100, accuracy=0.7925739884376526, crossentropy=0.7080333232879639),\n",
       " OBIPerformance(total_training_set_size=82, real_training_set_size=35, online_training_set_size=82, trial_index=0, num_samples=100, accuracy=0.7829402685165405, crossentropy=0.7770246267318726),\n",
       " OBIPerformance(total_training_set_size=83, real_training_set_size=35, online_training_set_size=83, trial_index=0, num_samples=100, accuracy=0.7978926301002502, crossentropy=0.6900596022605896),\n",
       " OBIPerformance(total_training_set_size=84, real_training_set_size=35, online_training_set_size=84, trial_index=0, num_samples=100, accuracy=0.7787255644798279, crossentropy=0.7678052186965942),\n",
       " OBIPerformance(total_training_set_size=85, real_training_set_size=35, online_training_set_size=85, trial_index=0, num_samples=100, accuracy=0.799397885799408, crossentropy=0.7163575291633606),\n",
       " OBIPerformance(total_training_set_size=86, real_training_set_size=35, online_training_set_size=86, trial_index=0, num_samples=100, accuracy=0.8004013895988464, crossentropy=0.640066385269165),\n",
       " OBIPerformance(total_training_set_size=87, real_training_set_size=35, online_training_set_size=87, trial_index=0, num_samples=100, accuracy=0.8020070195198059, crossentropy=0.7565041780471802),\n",
       " OBIPerformance(total_training_set_size=88, real_training_set_size=35, online_training_set_size=88, trial_index=0, num_samples=100, accuracy=0.8018063306808472, crossentropy=0.6778466105461121),\n",
       " OBIPerformance(total_training_set_size=89, real_training_set_size=35, online_training_set_size=89, trial_index=0, num_samples=100, accuracy=0.8029102087020874, crossentropy=0.6793418526649475),\n",
       " OBIPerformance(total_training_set_size=90, real_training_set_size=35, online_training_set_size=90, trial_index=0, num_samples=100, accuracy=0.7652784585952759, crossentropy=0.7427279949188232)]"
      ]
     },
     "execution_count": null,
     "metadata": {},
     "output_type": "execute_result"
    }
   ],
   "source": [
    "online_bayesian_inference.eval_obi_simple(predictions_N_M_C, labels_N, num_training_indices=90, start_index=35, num_samples_list=(100,), num_trials=1, real_training_set_size=35)"
   ]
  },
  {
   "cell_type": "code",
   "execution_count": null,
   "metadata": {},
   "outputs": [
    {
     "data": {
      "application/vnd.jupyter.widget-view+json": {
       "model_id": "",
       "version_major": 2,
       "version_minor": 0
      },
      "text/plain": [
       "get_predictions_labels:   0%|          | 0/4001200 [00:00<?, ?it/s]"
      ]
     },
     "metadata": {},
     "output_type": "display_data"
    },
    {
     "name": "stdout",
     "output_type": "stream",
     "text": [
      "Online Training Size/Num Samples/Trial: 0/10/0\n",
      "OBIPerformance(total_training_set_size=69, real_training_set_size=69, online_training_set_size=0, trial_index=0, num_samples=10, accuracy=0.9053000211715698, crossentropy=0.36478863752452756)\n",
      "Online Training Size/Num Samples/Trial: 0/10/1\n",
      "OBIPerformance(total_training_set_size=69, real_training_set_size=69, online_training_set_size=0, trial_index=1, num_samples=10, accuracy=0.8996999859809875, crossentropy=0.36229836322350656)\n",
      "Online Training Size/Num Samples/Trial: 0/10/2\n",
      "OBIPerformance(total_training_set_size=69, real_training_set_size=69, online_training_set_size=0, trial_index=2, num_samples=10, accuracy=0.8970999717712402, crossentropy=0.38442623740958404)\n",
      "Online Training Size/Num Samples/Trial: 0/10/3\n",
      "OBIPerformance(total_training_set_size=69, real_training_set_size=69, online_training_set_size=0, trial_index=3, num_samples=10, accuracy=0.9082000255584717, crossentropy=0.36399307377589557)\n",
      "Online Training Size/Num Samples/Trial: 0/10/4\n",
      "OBIPerformance(total_training_set_size=69, real_training_set_size=69, online_training_set_size=0, trial_index=4, num_samples=10, accuracy=0.8938999772071838, crossentropy=0.3908146566503921)\n",
      "Online Training Size/Num Samples/Trial: 0/10/5\n",
      "OBIPerformance(total_training_set_size=69, real_training_set_size=69, online_training_set_size=0, trial_index=5, num_samples=10, accuracy=0.8910999894142151, crossentropy=0.4314833914073963)\n",
      "Online Training Size/Num Samples/Trial: 0/10/6\n",
      "OBIPerformance(total_training_set_size=69, real_training_set_size=69, online_training_set_size=0, trial_index=6, num_samples=10, accuracy=0.8842999935150146, crossentropy=0.42853751638220017)\n",
      "Online Training Size/Num Samples/Trial: 0/10/7\n",
      "OBIPerformance(total_training_set_size=69, real_training_set_size=69, online_training_set_size=0, trial_index=7, num_samples=10, accuracy=0.8883000016212463, crossentropy=0.4136911141287668)\n",
      "Online Training Size/Num Samples/Trial: 0/10/8\n",
      "OBIPerformance(total_training_set_size=69, real_training_set_size=69, online_training_set_size=0, trial_index=8, num_samples=10, accuracy=0.8888000249862671, crossentropy=0.3776440472437381)\n",
      "Online Training Size/Num Samples/Trial: 0/10/9\n",
      "OBIPerformance(total_training_set_size=69, real_training_set_size=69, online_training_set_size=0, trial_index=9, num_samples=10, accuracy=0.9035999774932861, crossentropy=0.3980903666231778)\n",
      "Online Training Size/Num Samples/Trial: 0/100/0\n",
      "OBIPerformance(total_training_set_size=69, real_training_set_size=69, online_training_set_size=0, trial_index=0, num_samples=100, accuracy=0.9118000268936157, crossentropy=0.35984886000282656)\n",
      "Online Training Size/Num Samples/Trial: 0/100/1\n",
      "OBIPerformance(total_training_set_size=69, real_training_set_size=69, online_training_set_size=0, trial_index=1, num_samples=100, accuracy=0.9089000225067139, crossentropy=0.3705087606296952)\n",
      "Online Training Size/Num Samples/Trial: 0/100/2\n",
      "OBIPerformance(total_training_set_size=69, real_training_set_size=69, online_training_set_size=0, trial_index=2, num_samples=100, accuracy=0.9106000065803528, crossentropy=0.3725522936325272)\n",
      "Online Training Size/Num Samples/Trial: 0/100/3\n",
      "OBIPerformance(total_training_set_size=69, real_training_set_size=69, online_training_set_size=0, trial_index=3, num_samples=100, accuracy=0.9110999703407288, crossentropy=0.3716479269684275)\n",
      "Online Training Size/Num Samples/Trial: 0/100/4\n",
      "OBIPerformance(total_training_set_size=69, real_training_set_size=69, online_training_set_size=0, trial_index=4, num_samples=100, accuracy=0.9053000211715698, crossentropy=0.37490209982884704)\n",
      "Online Training Size/Num Samples/Trial: 0/100/5\n",
      "OBIPerformance(total_training_set_size=69, real_training_set_size=69, online_training_set_size=0, trial_index=5, num_samples=100, accuracy=0.9099000096321106, crossentropy=0.36786316889518833)\n",
      "Online Training Size/Num Samples/Trial: 0/100/6\n",
      "OBIPerformance(total_training_set_size=69, real_training_set_size=69, online_training_set_size=0, trial_index=6, num_samples=100, accuracy=0.9122999906539917, crossentropy=0.36561871702215887)\n",
      "Online Training Size/Num Samples/Trial: 0/100/7\n",
      "OBIPerformance(total_training_set_size=69, real_training_set_size=69, online_training_set_size=0, trial_index=7, num_samples=100, accuracy=0.9108999967575073, crossentropy=0.3644811486630545)\n",
      "Online Training Size/Num Samples/Trial: 0/100/8\n",
      "OBIPerformance(total_training_set_size=69, real_training_set_size=69, online_training_set_size=0, trial_index=8, num_samples=100, accuracy=0.90829998254776, crossentropy=0.36808180929790824)\n",
      "Online Training Size/Num Samples/Trial: 0/100/9\n",
      "OBIPerformance(total_training_set_size=69, real_training_set_size=69, online_training_set_size=0, trial_index=9, num_samples=100, accuracy=0.9096999764442444, crossentropy=0.3678230134242324)\n",
      "Online Training Size/Num Samples/Trial: 1/10/0\n",
      "OBIPerformance(total_training_set_size=70, real_training_set_size=69, online_training_set_size=1, trial_index=0, num_samples=10, accuracy=0.7904000282287598, crossentropy=0.5478878641682172)\n",
      "Online Training Size/Num Samples/Trial: 1/10/1\n",
      "OBIPerformance(total_training_set_size=70, real_training_set_size=69, online_training_set_size=1, trial_index=1, num_samples=10, accuracy=0.8371999859809875, crossentropy=0.4772958154861873)\n",
      "Online Training Size/Num Samples/Trial: 1/10/2\n",
      "OBIPerformance(total_training_set_size=70, real_training_set_size=69, online_training_set_size=1, trial_index=2, num_samples=10, accuracy=0.8209999799728394, crossentropy=0.5138269679412618)\n",
      "Online Training Size/Num Samples/Trial: 1/10/3\n",
      "OBIPerformance(total_training_set_size=70, real_training_set_size=69, online_training_set_size=1, trial_index=3, num_samples=10, accuracy=0.7325000166893005, crossentropy=0.7573227365610191)\n",
      "Online Training Size/Num Samples/Trial: 1/10/4\n",
      "OBIPerformance(total_training_set_size=70, real_training_set_size=69, online_training_set_size=1, trial_index=4, num_samples=10, accuracy=0.652400016784668, crossentropy=0.7087094585680983)\n",
      "Online Training Size/Num Samples/Trial: 1/10/5\n",
      "OBIPerformance(total_training_set_size=70, real_training_set_size=69, online_training_set_size=1, trial_index=5, num_samples=10, accuracy=0.8303999900817871, crossentropy=0.4925802400616678)\n",
      "Online Training Size/Num Samples/Trial: 1/10/6\n",
      "OBIPerformance(total_training_set_size=70, real_training_set_size=69, online_training_set_size=1, trial_index=6, num_samples=10, accuracy=0.8812000155448914, crossentropy=0.3865544362144568)\n",
      "Online Training Size/Num Samples/Trial: 1/10/7\n",
      "OBIPerformance(total_training_set_size=70, real_training_set_size=69, online_training_set_size=1, trial_index=7, num_samples=10, accuracy=0.7789999842643738, crossentropy=0.6010243038633556)\n",
      "Online Training Size/Num Samples/Trial: 1/10/8\n",
      "OBIPerformance(total_training_set_size=70, real_training_set_size=69, online_training_set_size=1, trial_index=8, num_samples=10, accuracy=0.8202999830245972, crossentropy=0.5350575576605358)\n",
      "Online Training Size/Num Samples/Trial: 1/10/9\n",
      "OBIPerformance(total_training_set_size=70, real_training_set_size=69, online_training_set_size=1, trial_index=9, num_samples=10, accuracy=0.8616999983787537, crossentropy=0.4813957902027909)\n",
      "Online Training Size/Num Samples/Trial: 1/100/0\n",
      "OBIPerformance(total_training_set_size=70, real_training_set_size=69, online_training_set_size=1, trial_index=0, num_samples=100, accuracy=0.8640999794006348, crossentropy=0.4276024249410253)\n",
      "Online Training Size/Num Samples/Trial: 1/100/1\n",
      "OBIPerformance(total_training_set_size=70, real_training_set_size=69, online_training_set_size=1, trial_index=1, num_samples=100, accuracy=0.8580999970436096, crossentropy=0.41114853133906964)\n",
      "Online Training Size/Num Samples/Trial: 1/100/2\n",
      "OBIPerformance(total_training_set_size=70, real_training_set_size=69, online_training_set_size=1, trial_index=2, num_samples=100, accuracy=0.8925999999046326, crossentropy=0.38569833822565597)\n",
      "Online Training Size/Num Samples/Trial: 1/100/3\n",
      "OBIPerformance(total_training_set_size=70, real_training_set_size=69, online_training_set_size=1, trial_index=3, num_samples=100, accuracy=0.8697999715805054, crossentropy=0.4143738198808436)\n",
      "Online Training Size/Num Samples/Trial: 1/100/4\n",
      "OBIPerformance(total_training_set_size=70, real_training_set_size=69, online_training_set_size=1, trial_index=4, num_samples=100, accuracy=0.829200029373169, crossentropy=0.4719128246434698)\n",
      "Online Training Size/Num Samples/Trial: 1/100/5\n",
      "OBIPerformance(total_training_set_size=70, real_training_set_size=69, online_training_set_size=1, trial_index=5, num_samples=100, accuracy=0.887499988079071, crossentropy=0.3782739077526661)\n",
      "Online Training Size/Num Samples/Trial: 1/100/6\n",
      "OBIPerformance(total_training_set_size=70, real_training_set_size=69, online_training_set_size=1, trial_index=6, num_samples=100, accuracy=0.854200005531311, crossentropy=0.44162428666594167)\n",
      "Online Training Size/Num Samples/Trial: 1/100/7\n",
      "OBIPerformance(total_training_set_size=70, real_training_set_size=69, online_training_set_size=1, trial_index=7, num_samples=100, accuracy=0.8799999952316284, crossentropy=0.38294158796589234)\n",
      "Online Training Size/Num Samples/Trial: 1/100/8\n",
      "OBIPerformance(total_training_set_size=70, real_training_set_size=69, online_training_set_size=1, trial_index=8, num_samples=100, accuracy=0.8726000189781189, crossentropy=0.39955210256172713)\n",
      "Online Training Size/Num Samples/Trial: 1/100/9\n",
      "OBIPerformance(total_training_set_size=70, real_training_set_size=69, online_training_set_size=1, trial_index=9, num_samples=100, accuracy=0.8532000184059143, crossentropy=0.41414733387350444)\n",
      "Online Training Size/Num Samples/Trial: 2/10/0\n",
      "OBIPerformance(total_training_set_size=71, real_training_set_size=69, online_training_set_size=2, trial_index=0, num_samples=10, accuracy=0.7466999888420105, crossentropy=0.7180620791080632)\n",
      "Online Training Size/Num Samples/Trial: 2/10/1\n",
      "OBIPerformance(total_training_set_size=71, real_training_set_size=69, online_training_set_size=2, trial_index=1, num_samples=10, accuracy=0.8248999714851379, crossentropy=0.4668208957307903)\n",
      "Online Training Size/Num Samples/Trial: 2/10/2\n",
      "OBIPerformance(total_training_set_size=71, real_training_set_size=69, online_training_set_size=2, trial_index=2, num_samples=10, accuracy=0.7384999990463257, crossentropy=0.7081790430098936)\n",
      "Online Training Size/Num Samples/Trial: 2/10/3\n",
      "OBIPerformance(total_training_set_size=71, real_training_set_size=69, online_training_set_size=2, trial_index=3, num_samples=10, accuracy=0.8219000101089478, crossentropy=0.5017717095991371)\n",
      "Online Training Size/Num Samples/Trial: 2/10/4\n",
      "OBIPerformance(total_training_set_size=71, real_training_set_size=69, online_training_set_size=2, trial_index=4, num_samples=10, accuracy=0.7889999747276306, crossentropy=0.7162158974442849)\n",
      "Online Training Size/Num Samples/Trial: 2/10/5\n",
      "OBIPerformance(total_training_set_size=71, real_training_set_size=69, online_training_set_size=2, trial_index=5, num_samples=10, accuracy=0.7734000086784363, crossentropy=0.7217206572519664)\n",
      "Online Training Size/Num Samples/Trial: 2/10/6\n",
      "OBIPerformance(total_training_set_size=71, real_training_set_size=69, online_training_set_size=2, trial_index=6, num_samples=10, accuracy=0.8009999990463257, crossentropy=0.5720905099586308)\n",
      "Online Training Size/Num Samples/Trial: 2/10/7\n",
      "OBIPerformance(total_training_set_size=71, real_training_set_size=69, online_training_set_size=2, trial_index=7, num_samples=10, accuracy=0.8184000253677368, crossentropy=0.49770110874915946)\n",
      "Online Training Size/Num Samples/Trial: 2/10/8\n",
      "OBIPerformance(total_training_set_size=71, real_training_set_size=69, online_training_set_size=2, trial_index=8, num_samples=10, accuracy=0.8337000012397766, crossentropy=0.5165073682376791)\n",
      "Online Training Size/Num Samples/Trial: 2/10/9\n",
      "OBIPerformance(total_training_set_size=71, real_training_set_size=69, online_training_set_size=2, trial_index=9, num_samples=10, accuracy=0.7013000249862671, crossentropy=1.070837669585442)\n",
      "Online Training Size/Num Samples/Trial: 2/100/0\n",
      "OBIPerformance(total_training_set_size=71, real_training_set_size=69, online_training_set_size=2, trial_index=0, num_samples=100, accuracy=0.863099992275238, crossentropy=0.47769419096863286)\n",
      "Online Training Size/Num Samples/Trial: 2/100/1\n",
      "OBIPerformance(total_training_set_size=71, real_training_set_size=69, online_training_set_size=2, trial_index=1, num_samples=100, accuracy=0.8673999905586243, crossentropy=0.42740240105972827)\n",
      "Online Training Size/Num Samples/Trial: 2/100/2\n",
      "OBIPerformance(total_training_set_size=71, real_training_set_size=69, online_training_set_size=2, trial_index=2, num_samples=100, accuracy=0.8600000143051147, crossentropy=0.4534642354057479)\n",
      "Online Training Size/Num Samples/Trial: 2/100/3\n",
      "OBIPerformance(total_training_set_size=71, real_training_set_size=69, online_training_set_size=2, trial_index=3, num_samples=100, accuracy=0.8288000226020813, crossentropy=0.46345326248679775)\n",
      "Online Training Size/Num Samples/Trial: 2/100/4\n",
      "OBIPerformance(total_training_set_size=71, real_training_set_size=69, online_training_set_size=2, trial_index=4, num_samples=100, accuracy=0.7809000015258789, crossentropy=0.5897158366440284)\n",
      "Online Training Size/Num Samples/Trial: 2/100/5\n",
      "OBIPerformance(total_training_set_size=71, real_training_set_size=69, online_training_set_size=2, trial_index=5, num_samples=100, accuracy=0.8640000224113464, crossentropy=0.45516917489060504)\n",
      "Online Training Size/Num Samples/Trial: 2/100/6\n",
      "OBIPerformance(total_training_set_size=71, real_training_set_size=69, online_training_set_size=2, trial_index=6, num_samples=100, accuracy=0.867900013923645, crossentropy=0.44087181071308623)\n",
      "Online Training Size/Num Samples/Trial: 2/100/7\n",
      "OBIPerformance(total_training_set_size=71, real_training_set_size=69, online_training_set_size=2, trial_index=7, num_samples=100, accuracy=0.8907999992370605, crossentropy=0.3883709308047926)\n",
      "Online Training Size/Num Samples/Trial: 2/100/8\n",
      "OBIPerformance(total_training_set_size=71, real_training_set_size=69, online_training_set_size=2, trial_index=8, num_samples=100, accuracy=0.875, crossentropy=0.4061719222327063)\n",
      "Online Training Size/Num Samples/Trial: 2/100/9\n",
      "OBIPerformance(total_training_set_size=71, real_training_set_size=69, online_training_set_size=2, trial_index=9, num_samples=100, accuracy=0.8603000044822693, crossentropy=0.4343936621008379)\n",
      "Online Training Size/Num Samples/Trial: 3/10/0\n",
      "OBIPerformance(total_training_set_size=72, real_training_set_size=69, online_training_set_size=3, trial_index=0, num_samples=10, accuracy=0.7247999906539917, crossentropy=0.8670848720399669)\n",
      "Online Training Size/Num Samples/Trial: 3/10/1\n",
      "OBIPerformance(total_training_set_size=72, real_training_set_size=69, online_training_set_size=3, trial_index=1, num_samples=10, accuracy=0.7918000221252441, crossentropy=0.5995849338621014)\n",
      "Online Training Size/Num Samples/Trial: 3/10/2\n",
      "OBIPerformance(total_training_set_size=72, real_training_set_size=69, online_training_set_size=3, trial_index=2, num_samples=10, accuracy=0.7997999787330627, crossentropy=0.6532767671640377)\n",
      "Online Training Size/Num Samples/Trial: 3/10/3\n",
      "OBIPerformance(total_training_set_size=72, real_training_set_size=69, online_training_set_size=3, trial_index=3, num_samples=10, accuracy=0.6029000282287598, crossentropy=1.7496904675888647)\n",
      "Online Training Size/Num Samples/Trial: 3/10/4\n",
      "OBIPerformance(total_training_set_size=72, real_training_set_size=69, online_training_set_size=3, trial_index=4, num_samples=10, accuracy=0.7297000288963318, crossentropy=0.8419253370201006)\n",
      "Online Training Size/Num Samples/Trial: 3/10/5\n",
      "OBIPerformance(total_training_set_size=72, real_training_set_size=69, online_training_set_size=3, trial_index=5, num_samples=10, accuracy=0.8151000142097473, crossentropy=0.5745683954562035)\n",
      "Online Training Size/Num Samples/Trial: 3/10/6\n",
      "OBIPerformance(total_training_set_size=72, real_training_set_size=69, online_training_set_size=3, trial_index=6, num_samples=10, accuracy=0.7706000208854675, crossentropy=0.5909426203558266)\n",
      "Online Training Size/Num Samples/Trial: 3/10/7\n",
      "OBIPerformance(total_training_set_size=72, real_training_set_size=69, online_training_set_size=3, trial_index=7, num_samples=10, accuracy=0.7132999897003174, crossentropy=0.7581075125298933)\n",
      "Online Training Size/Num Samples/Trial: 3/10/8\n",
      "OBIPerformance(total_training_set_size=72, real_training_set_size=69, online_training_set_size=3, trial_index=8, num_samples=10, accuracy=0.6036999821662903, crossentropy=1.4294244397813043)\n",
      "Online Training Size/Num Samples/Trial: 3/10/9\n",
      "OBIPerformance(total_training_set_size=72, real_training_set_size=69, online_training_set_size=3, trial_index=9, num_samples=10, accuracy=0.8004000186920166, crossentropy=0.6743935979734801)\n",
      "Online Training Size/Num Samples/Trial: 3/100/0\n",
      "OBIPerformance(total_training_set_size=72, real_training_set_size=69, online_training_set_size=3, trial_index=0, num_samples=100, accuracy=0.7354999780654907, crossentropy=0.6745917480774888)\n",
      "Online Training Size/Num Samples/Trial: 3/100/1\n",
      "OBIPerformance(total_training_set_size=72, real_training_set_size=69, online_training_set_size=3, trial_index=1, num_samples=100, accuracy=0.7871999740600586, crossentropy=0.5722652857416788)\n",
      "Online Training Size/Num Samples/Trial: 3/100/2\n",
      "OBIPerformance(total_training_set_size=72, real_training_set_size=69, online_training_set_size=3, trial_index=2, num_samples=100, accuracy=0.7416999936103821, crossentropy=0.6001434608703752)\n",
      "Online Training Size/Num Samples/Trial: 3/100/3\n",
      "OBIPerformance(total_training_set_size=72, real_training_set_size=69, online_training_set_size=3, trial_index=3, num_samples=100, accuracy=0.826200008392334, crossentropy=0.5393007495835952)\n",
      "Online Training Size/Num Samples/Trial: 3/100/4\n",
      "OBIPerformance(total_training_set_size=72, real_training_set_size=69, online_training_set_size=3, trial_index=4, num_samples=100, accuracy=0.8147000074386597, crossentropy=0.48882683687420925)\n",
      "Online Training Size/Num Samples/Trial: 3/100/5\n",
      "OBIPerformance(total_training_set_size=72, real_training_set_size=69, online_training_set_size=3, trial_index=5, num_samples=100, accuracy=0.8651999831199646, crossentropy=0.49774643429460047)\n",
      "Online Training Size/Num Samples/Trial: 3/100/6\n",
      "OBIPerformance(total_training_set_size=72, real_training_set_size=69, online_training_set_size=3, trial_index=6, num_samples=100, accuracy=0.7322999835014343, crossentropy=0.5937744542892096)\n",
      "Online Training Size/Num Samples/Trial: 3/100/7\n",
      "OBIPerformance(total_training_set_size=72, real_training_set_size=69, online_training_set_size=3, trial_index=7, num_samples=100, accuracy=0.8144999742507935, crossentropy=0.5194894618545757)\n",
      "Online Training Size/Num Samples/Trial: 3/100/8\n",
      "OBIPerformance(total_training_set_size=72, real_training_set_size=69, online_training_set_size=3, trial_index=8, num_samples=100, accuracy=0.8098000288009644, crossentropy=0.5048562950047071)\n",
      "Online Training Size/Num Samples/Trial: 3/100/9\n",
      "OBIPerformance(total_training_set_size=72, real_training_set_size=69, online_training_set_size=3, trial_index=9, num_samples=100, accuracy=0.803600013256073, crossentropy=0.523545556921369)\n"
     ]
    },
    {
     "data": {
      "text/plain": [
       "[OBIPerformance(total_training_set_size=69, real_training_set_size=69, online_training_set_size=0, trial_index=0, num_samples=10, accuracy=0.9053000211715698, crossentropy=0.36478863752452756),\n",
       " OBIPerformance(total_training_set_size=69, real_training_set_size=69, online_training_set_size=0, trial_index=1, num_samples=10, accuracy=0.8996999859809875, crossentropy=0.36229836322350656),\n",
       " OBIPerformance(total_training_set_size=69, real_training_set_size=69, online_training_set_size=0, trial_index=2, num_samples=10, accuracy=0.8970999717712402, crossentropy=0.38442623740958404),\n",
       " OBIPerformance(total_training_set_size=69, real_training_set_size=69, online_training_set_size=0, trial_index=3, num_samples=10, accuracy=0.9082000255584717, crossentropy=0.36399307377589557),\n",
       " OBIPerformance(total_training_set_size=69, real_training_set_size=69, online_training_set_size=0, trial_index=4, num_samples=10, accuracy=0.8938999772071838, crossentropy=0.3908146566503921),\n",
       " OBIPerformance(total_training_set_size=69, real_training_set_size=69, online_training_set_size=0, trial_index=5, num_samples=10, accuracy=0.8910999894142151, crossentropy=0.4314833914073963),\n",
       " OBIPerformance(total_training_set_size=69, real_training_set_size=69, online_training_set_size=0, trial_index=6, num_samples=10, accuracy=0.8842999935150146, crossentropy=0.42853751638220017),\n",
       " OBIPerformance(total_training_set_size=69, real_training_set_size=69, online_training_set_size=0, trial_index=7, num_samples=10, accuracy=0.8883000016212463, crossentropy=0.4136911141287668),\n",
       " OBIPerformance(total_training_set_size=69, real_training_set_size=69, online_training_set_size=0, trial_index=8, num_samples=10, accuracy=0.8888000249862671, crossentropy=0.3776440472437381),\n",
       " OBIPerformance(total_training_set_size=69, real_training_set_size=69, online_training_set_size=0, trial_index=9, num_samples=10, accuracy=0.9035999774932861, crossentropy=0.3980903666231778),\n",
       " OBIPerformance(total_training_set_size=69, real_training_set_size=69, online_training_set_size=0, trial_index=0, num_samples=100, accuracy=0.9118000268936157, crossentropy=0.35984886000282656),\n",
       " OBIPerformance(total_training_set_size=69, real_training_set_size=69, online_training_set_size=0, trial_index=1, num_samples=100, accuracy=0.9089000225067139, crossentropy=0.3705087606296952),\n",
       " OBIPerformance(total_training_set_size=69, real_training_set_size=69, online_training_set_size=0, trial_index=2, num_samples=100, accuracy=0.9106000065803528, crossentropy=0.3725522936325272),\n",
       " OBIPerformance(total_training_set_size=69, real_training_set_size=69, online_training_set_size=0, trial_index=3, num_samples=100, accuracy=0.9110999703407288, crossentropy=0.3716479269684275),\n",
       " OBIPerformance(total_training_set_size=69, real_training_set_size=69, online_training_set_size=0, trial_index=4, num_samples=100, accuracy=0.9053000211715698, crossentropy=0.37490209982884704),\n",
       " OBIPerformance(total_training_set_size=69, real_training_set_size=69, online_training_set_size=0, trial_index=5, num_samples=100, accuracy=0.9099000096321106, crossentropy=0.36786316889518833),\n",
       " OBIPerformance(total_training_set_size=69, real_training_set_size=69, online_training_set_size=0, trial_index=6, num_samples=100, accuracy=0.9122999906539917, crossentropy=0.36561871702215887),\n",
       " OBIPerformance(total_training_set_size=69, real_training_set_size=69, online_training_set_size=0, trial_index=7, num_samples=100, accuracy=0.9108999967575073, crossentropy=0.3644811486630545),\n",
       " OBIPerformance(total_training_set_size=69, real_training_set_size=69, online_training_set_size=0, trial_index=8, num_samples=100, accuracy=0.90829998254776, crossentropy=0.36808180929790824),\n",
       " OBIPerformance(total_training_set_size=69, real_training_set_size=69, online_training_set_size=0, trial_index=9, num_samples=100, accuracy=0.9096999764442444, crossentropy=0.3678230134242324),\n",
       " OBIPerformance(total_training_set_size=70, real_training_set_size=69, online_training_set_size=1, trial_index=0, num_samples=10, accuracy=0.7904000282287598, crossentropy=0.5478878641682172),\n",
       " OBIPerformance(total_training_set_size=70, real_training_set_size=69, online_training_set_size=1, trial_index=1, num_samples=10, accuracy=0.8371999859809875, crossentropy=0.4772958154861873),\n",
       " OBIPerformance(total_training_set_size=70, real_training_set_size=69, online_training_set_size=1, trial_index=2, num_samples=10, accuracy=0.8209999799728394, crossentropy=0.5138269679412618),\n",
       " OBIPerformance(total_training_set_size=70, real_training_set_size=69, online_training_set_size=1, trial_index=3, num_samples=10, accuracy=0.7325000166893005, crossentropy=0.7573227365610191),\n",
       " OBIPerformance(total_training_set_size=70, real_training_set_size=69, online_training_set_size=1, trial_index=4, num_samples=10, accuracy=0.652400016784668, crossentropy=0.7087094585680983),\n",
       " OBIPerformance(total_training_set_size=70, real_training_set_size=69, online_training_set_size=1, trial_index=5, num_samples=10, accuracy=0.8303999900817871, crossentropy=0.4925802400616678),\n",
       " OBIPerformance(total_training_set_size=70, real_training_set_size=69, online_training_set_size=1, trial_index=6, num_samples=10, accuracy=0.8812000155448914, crossentropy=0.3865544362144568),\n",
       " OBIPerformance(total_training_set_size=70, real_training_set_size=69, online_training_set_size=1, trial_index=7, num_samples=10, accuracy=0.7789999842643738, crossentropy=0.6010243038633556),\n",
       " OBIPerformance(total_training_set_size=70, real_training_set_size=69, online_training_set_size=1, trial_index=8, num_samples=10, accuracy=0.8202999830245972, crossentropy=0.5350575576605358),\n",
       " OBIPerformance(total_training_set_size=70, real_training_set_size=69, online_training_set_size=1, trial_index=9, num_samples=10, accuracy=0.8616999983787537, crossentropy=0.4813957902027909),\n",
       " OBIPerformance(total_training_set_size=70, real_training_set_size=69, online_training_set_size=1, trial_index=0, num_samples=100, accuracy=0.8640999794006348, crossentropy=0.4276024249410253),\n",
       " OBIPerformance(total_training_set_size=70, real_training_set_size=69, online_training_set_size=1, trial_index=1, num_samples=100, accuracy=0.8580999970436096, crossentropy=0.41114853133906964),\n",
       " OBIPerformance(total_training_set_size=70, real_training_set_size=69, online_training_set_size=1, trial_index=2, num_samples=100, accuracy=0.8925999999046326, crossentropy=0.38569833822565597),\n",
       " OBIPerformance(total_training_set_size=70, real_training_set_size=69, online_training_set_size=1, trial_index=3, num_samples=100, accuracy=0.8697999715805054, crossentropy=0.4143738198808436),\n",
       " OBIPerformance(total_training_set_size=70, real_training_set_size=69, online_training_set_size=1, trial_index=4, num_samples=100, accuracy=0.829200029373169, crossentropy=0.4719128246434698),\n",
       " OBIPerformance(total_training_set_size=70, real_training_set_size=69, online_training_set_size=1, trial_index=5, num_samples=100, accuracy=0.887499988079071, crossentropy=0.3782739077526661),\n",
       " OBIPerformance(total_training_set_size=70, real_training_set_size=69, online_training_set_size=1, trial_index=6, num_samples=100, accuracy=0.854200005531311, crossentropy=0.44162428666594167),\n",
       " OBIPerformance(total_training_set_size=70, real_training_set_size=69, online_training_set_size=1, trial_index=7, num_samples=100, accuracy=0.8799999952316284, crossentropy=0.38294158796589234),\n",
       " OBIPerformance(total_training_set_size=70, real_training_set_size=69, online_training_set_size=1, trial_index=8, num_samples=100, accuracy=0.8726000189781189, crossentropy=0.39955210256172713),\n",
       " OBIPerformance(total_training_set_size=70, real_training_set_size=69, online_training_set_size=1, trial_index=9, num_samples=100, accuracy=0.8532000184059143, crossentropy=0.41414733387350444),\n",
       " OBIPerformance(total_training_set_size=71, real_training_set_size=69, online_training_set_size=2, trial_index=0, num_samples=10, accuracy=0.7466999888420105, crossentropy=0.7180620791080632),\n",
       " OBIPerformance(total_training_set_size=71, real_training_set_size=69, online_training_set_size=2, trial_index=1, num_samples=10, accuracy=0.8248999714851379, crossentropy=0.4668208957307903),\n",
       " OBIPerformance(total_training_set_size=71, real_training_set_size=69, online_training_set_size=2, trial_index=2, num_samples=10, accuracy=0.7384999990463257, crossentropy=0.7081790430098936),\n",
       " OBIPerformance(total_training_set_size=71, real_training_set_size=69, online_training_set_size=2, trial_index=3, num_samples=10, accuracy=0.8219000101089478, crossentropy=0.5017717095991371),\n",
       " OBIPerformance(total_training_set_size=71, real_training_set_size=69, online_training_set_size=2, trial_index=4, num_samples=10, accuracy=0.7889999747276306, crossentropy=0.7162158974442849),\n",
       " OBIPerformance(total_training_set_size=71, real_training_set_size=69, online_training_set_size=2, trial_index=5, num_samples=10, accuracy=0.7734000086784363, crossentropy=0.7217206572519664),\n",
       " OBIPerformance(total_training_set_size=71, real_training_set_size=69, online_training_set_size=2, trial_index=6, num_samples=10, accuracy=0.8009999990463257, crossentropy=0.5720905099586308),\n",
       " OBIPerformance(total_training_set_size=71, real_training_set_size=69, online_training_set_size=2, trial_index=7, num_samples=10, accuracy=0.8184000253677368, crossentropy=0.49770110874915946),\n",
       " OBIPerformance(total_training_set_size=71, real_training_set_size=69, online_training_set_size=2, trial_index=8, num_samples=10, accuracy=0.8337000012397766, crossentropy=0.5165073682376791),\n",
       " OBIPerformance(total_training_set_size=71, real_training_set_size=69, online_training_set_size=2, trial_index=9, num_samples=10, accuracy=0.7013000249862671, crossentropy=1.070837669585442),\n",
       " OBIPerformance(total_training_set_size=71, real_training_set_size=69, online_training_set_size=2, trial_index=0, num_samples=100, accuracy=0.863099992275238, crossentropy=0.47769419096863286),\n",
       " OBIPerformance(total_training_set_size=71, real_training_set_size=69, online_training_set_size=2, trial_index=1, num_samples=100, accuracy=0.8673999905586243, crossentropy=0.42740240105972827),\n",
       " OBIPerformance(total_training_set_size=71, real_training_set_size=69, online_training_set_size=2, trial_index=2, num_samples=100, accuracy=0.8600000143051147, crossentropy=0.4534642354057479),\n",
       " OBIPerformance(total_training_set_size=71, real_training_set_size=69, online_training_set_size=2, trial_index=3, num_samples=100, accuracy=0.8288000226020813, crossentropy=0.46345326248679775),\n",
       " OBIPerformance(total_training_set_size=71, real_training_set_size=69, online_training_set_size=2, trial_index=4, num_samples=100, accuracy=0.7809000015258789, crossentropy=0.5897158366440284),\n",
       " OBIPerformance(total_training_set_size=71, real_training_set_size=69, online_training_set_size=2, trial_index=5, num_samples=100, accuracy=0.8640000224113464, crossentropy=0.45516917489060504),\n",
       " OBIPerformance(total_training_set_size=71, real_training_set_size=69, online_training_set_size=2, trial_index=6, num_samples=100, accuracy=0.867900013923645, crossentropy=0.44087181071308623),\n",
       " OBIPerformance(total_training_set_size=71, real_training_set_size=69, online_training_set_size=2, trial_index=7, num_samples=100, accuracy=0.8907999992370605, crossentropy=0.3883709308047926),\n",
       " OBIPerformance(total_training_set_size=71, real_training_set_size=69, online_training_set_size=2, trial_index=8, num_samples=100, accuracy=0.875, crossentropy=0.4061719222327063),\n",
       " OBIPerformance(total_training_set_size=71, real_training_set_size=69, online_training_set_size=2, trial_index=9, num_samples=100, accuracy=0.8603000044822693, crossentropy=0.4343936621008379),\n",
       " OBIPerformance(total_training_set_size=72, real_training_set_size=69, online_training_set_size=3, trial_index=0, num_samples=10, accuracy=0.7247999906539917, crossentropy=0.8670848720399669),\n",
       " OBIPerformance(total_training_set_size=72, real_training_set_size=69, online_training_set_size=3, trial_index=1, num_samples=10, accuracy=0.7918000221252441, crossentropy=0.5995849338621014),\n",
       " OBIPerformance(total_training_set_size=72, real_training_set_size=69, online_training_set_size=3, trial_index=2, num_samples=10, accuracy=0.7997999787330627, crossentropy=0.6532767671640377),\n",
       " OBIPerformance(total_training_set_size=72, real_training_set_size=69, online_training_set_size=3, trial_index=3, num_samples=10, accuracy=0.6029000282287598, crossentropy=1.7496904675888647),\n",
       " OBIPerformance(total_training_set_size=72, real_training_set_size=69, online_training_set_size=3, trial_index=4, num_samples=10, accuracy=0.7297000288963318, crossentropy=0.8419253370201006),\n",
       " OBIPerformance(total_training_set_size=72, real_training_set_size=69, online_training_set_size=3, trial_index=5, num_samples=10, accuracy=0.8151000142097473, crossentropy=0.5745683954562035),\n",
       " OBIPerformance(total_training_set_size=72, real_training_set_size=69, online_training_set_size=3, trial_index=6, num_samples=10, accuracy=0.7706000208854675, crossentropy=0.5909426203558266),\n",
       " OBIPerformance(total_training_set_size=72, real_training_set_size=69, online_training_set_size=3, trial_index=7, num_samples=10, accuracy=0.7132999897003174, crossentropy=0.7581075125298933),\n",
       " OBIPerformance(total_training_set_size=72, real_training_set_size=69, online_training_set_size=3, trial_index=8, num_samples=10, accuracy=0.6036999821662903, crossentropy=1.4294244397813043),\n",
       " OBIPerformance(total_training_set_size=72, real_training_set_size=69, online_training_set_size=3, trial_index=9, num_samples=10, accuracy=0.8004000186920166, crossentropy=0.6743935979734801),\n",
       " OBIPerformance(total_training_set_size=72, real_training_set_size=69, online_training_set_size=3, trial_index=0, num_samples=100, accuracy=0.7354999780654907, crossentropy=0.6745917480774888),\n",
       " OBIPerformance(total_training_set_size=72, real_training_set_size=69, online_training_set_size=3, trial_index=1, num_samples=100, accuracy=0.7871999740600586, crossentropy=0.5722652857416788),\n",
       " OBIPerformance(total_training_set_size=72, real_training_set_size=69, online_training_set_size=3, trial_index=2, num_samples=100, accuracy=0.7416999936103821, crossentropy=0.6001434608703752),\n",
       " OBIPerformance(total_training_set_size=72, real_training_set_size=69, online_training_set_size=3, trial_index=3, num_samples=100, accuracy=0.826200008392334, crossentropy=0.5393007495835952),\n",
       " OBIPerformance(total_training_set_size=72, real_training_set_size=69, online_training_set_size=3, trial_index=4, num_samples=100, accuracy=0.8147000074386597, crossentropy=0.48882683687420925),\n",
       " OBIPerformance(total_training_set_size=72, real_training_set_size=69, online_training_set_size=3, trial_index=5, num_samples=100, accuracy=0.8651999831199646, crossentropy=0.49774643429460047),\n",
       " OBIPerformance(total_training_set_size=72, real_training_set_size=69, online_training_set_size=3, trial_index=6, num_samples=100, accuracy=0.7322999835014343, crossentropy=0.5937744542892096),\n",
       " OBIPerformance(total_training_set_size=72, real_training_set_size=69, online_training_set_size=3, trial_index=7, num_samples=100, accuracy=0.8144999742507935, crossentropy=0.5194894618545757),\n",
       " OBIPerformance(total_training_set_size=72, real_training_set_size=69, online_training_set_size=3, trial_index=8, num_samples=100, accuracy=0.8098000288009644, crossentropy=0.5048562950047071),\n",
       " OBIPerformance(total_training_set_size=72, real_training_set_size=69, online_training_set_size=3, trial_index=9, num_samples=100, accuracy=0.803600013256073, crossentropy=0.523545556921369)]"
      ]
     },
     "execution_count": null,
     "metadata": {},
     "output_type": "execute_result"
    }
   ],
   "source": [
    "online_bayesian_inference.evaluate_online_bayesian_inference(\n",
    "    model,\n",
    "    real_training_set_size=69,\n",
    "    train_dataset=train_dataset,\n",
    "    test_dataset=test_dataset,\n",
    "    additional_training_indices=training_set_90[69:72],\n",
    "    num_samples_list=[10, 100],\n",
    "    num_trials=10,\n",
    "    up_factor=4,\n",
    "    eval_batchsize=512,\n",
    "    device=\"cuda\"\n",
    ")"
   ]
  },
  {
   "cell_type": "code",
   "execution_count": null,
   "metadata": {},
   "outputs": [],
   "source": []
  },
  {
   "cell_type": "code",
   "execution_count": null,
   "metadata": {},
   "outputs": [],
   "source": [
    "sub_train_set = train_dataset * 0.1\n",
    "joint_set = sub_train_set + test_dataset"
   ]
  },
  {
   "cell_type": "code",
   "execution_count": null,
   "metadata": {},
   "outputs": [
    {
     "data": {
      "text/plain": [
       "6000"
      ]
     },
     "execution_count": null,
     "metadata": {},
     "output_type": "execute_result"
    }
   ],
   "source": [
    "len(sub_train_set)"
   ]
  },
  {
   "cell_type": "code",
   "execution_count": null,
   "metadata": {},
   "outputs": [],
   "source": [
    "joint_loader = torch.utils.data.DataLoader(joint_set, batch_size=128, drop_last=False, shuffle=False)"
   ]
  },
  {
   "cell_type": "markdown",
   "metadata": {},
   "source": [
    "# Model Sampling"
   ]
  },
  {
   "cell_type": "code",
   "execution_count": null,
   "metadata": {},
   "outputs": [
    {
     "data": {
      "application/vnd.jupyter.widget-view+json": {
       "model_id": "",
       "version_major": 2,
       "version_minor": 0
      },
      "text/plain": [
       "get_predictions_labels:   0%|          | 0/160000000 [00:00<?, ?it/s]"
      ]
     },
     "metadata": {},
     "output_type": "display_data"
    }
   ],
   "source": [
    "# predictions_N_M_C, labels_N = model.get_predictions_labels(\n",
    "#     num_samples=10000, loader=joint_loader, device=\"cuda\", storage_device=\"cpu\"\n",
    "# )"
   ]
  },
  {
   "cell_type": "code",
   "execution_count": null,
   "metadata": {},
   "outputs": [
    {
     "data": {
      "text/plain": [
       "torch.Size([10055, 10000, 10])"
      ]
     },
     "execution_count": null,
     "metadata": {},
     "output_type": "execute_result"
    }
   ],
   "source": [
    "predictions_N_M_C.shape"
   ]
  },
  {
   "cell_type": "code",
   "execution_count": null,
   "metadata": {},
   "outputs": [],
   "source": [
    "offset = 35\n",
    "virtual_training_set_size = 20  # len(training_set_90)\n",
    "evidence_factor = 0.2"
   ]
  },
  {
   "cell_type": "code",
   "execution_count": null,
   "metadata": {},
   "outputs": [],
   "source": [
    "true_train_predictions_n_M = predictions_N_M_C[\n",
    "    list(range(offset, offset + virtual_training_set_size)), :, labels_N[offset : offset + virtual_training_set_size]\n",
    "]"
   ]
  },
  {
   "cell_type": "code",
   "execution_count": null,
   "metadata": {},
   "outputs": [
    {
     "data": {
      "text/plain": [
       "torch.Size([20, 10000])"
      ]
     },
     "execution_count": null,
     "metadata": {},
     "output_type": "execute_result"
    }
   ],
   "source": [
    "true_train_predictions_n_M.shape"
   ]
  },
  {
   "cell_type": "code",
   "execution_count": null,
   "metadata": {},
   "outputs": [],
   "source": [
    "mix_weights_M = torch.sum(true_train_predictions_n_M, dim=0)  # / (virtual_training_set_size*evidence_factor)"
   ]
  },
  {
   "cell_type": "code",
   "execution_count": null,
   "metadata": {},
   "outputs": [
    {
     "data": {
      "text/plain": [
       "torch.Size([10000])"
      ]
     },
     "execution_count": null,
     "metadata": {},
     "output_type": "execute_result"
    }
   ],
   "source": [
    "mix_weights_M.shape"
   ]
  },
  {
   "cell_type": "code",
   "execution_count": null,
   "metadata": {},
   "outputs": [
    {
     "data": {
      "text/plain": [
       "tensor([-192.5637, -225.6693, -218.5273,  ..., -108.0355, -171.4913,\n",
       "        -169.5077])"
      ]
     },
     "execution_count": null,
     "metadata": {},
     "output_type": "execute_result"
    }
   ],
   "source": [
    "mix_weights_M"
   ]
  },
  {
   "cell_type": "code",
   "execution_count": null,
   "metadata": {},
   "outputs": [
    {
     "data": {
      "text/plain": [
       "<AxesSubplot:ylabel='Density'>"
      ]
     },
     "execution_count": null,
     "metadata": {},
     "output_type": "execute_result"
    },
    {
     "data": {
      "image/png": "[encoded data removed]",
      "text/plain": [
       "<Figure size 432x288 with 1 Axes>"
      ]
     },
     "metadata": {
      "needs_background": "light"
     },
     "output_type": "display_data"
    }
   ],
   "source": [
    "sns.kdeplot(mix_weights_M.numpy())"
   ]
  },
  {
   "cell_type": "code",
   "execution_count": null,
   "metadata": {},
   "outputs": [],
   "source": [
    "split_joints = mix_weights_M[None, :, None] + predictions_N_M_C[55:]  # [:, mix_weights_M > -40, :]"
   ]
  },
  {
   "cell_type": "code",
   "execution_count": null,
   "metadata": {},
   "outputs": [],
   "source": [
    "# predictions_N = torch.argmax(torch.logsumexp(split_joints, dim=1), dim=1)\n",
    "predictions_N = torch.argmax(torch.sum(split_joints.exp(), dim=1), dim=1)\n",
    "# predictions_N = torch.argmax(torch.log_softmax(torch.logsumexp(split_joints, dim=1), dim=1), dim=1)"
   ]
  },
  {
   "cell_type": "code",
   "execution_count": null,
   "metadata": {},
   "outputs": [
    {
     "data": {
      "text/plain": [
       "torch.Size([10000])"
      ]
     },
     "execution_count": null,
     "metadata": {},
     "output_type": "execute_result"
    }
   ],
   "source": [
    "predictions_N.shape"
   ]
  },
  {
   "cell_type": "code",
   "execution_count": null,
   "metadata": {},
   "outputs": [
    {
     "data": {
      "text/plain": [
       "tensor(0.7097)"
      ]
     },
     "execution_count": null,
     "metadata": {},
     "output_type": "execute_result"
    }
   ],
   "source": [
    "sum(predictions_N == labels_N[55:]) / len(predictions_N)"
   ]
  },
  {
   "cell_type": "markdown",
   "metadata": {},
   "source": [
    "# Prior Sampling"
   ]
  },
  {
   "cell_type": "code",
   "execution_count": null,
   "metadata": {},
   "outputs": [],
   "source": [
    "# Cell\n",
    "from dataclasses import dataclass\n",
    "from typing import Optional\n",
    "\n",
    "import torch\n",
    "import torch.nn\n",
    "import torch.optim\n",
    "from torch import nn as nn\n",
    "from torch.nn import Module\n",
    "from torch.nn import functional as F\n",
    "from torch.utils.data import DataLoader, Dataset\n",
    "\n",
    "from batchbald_redux.active_learning import RandomFixedLengthSampler\n",
    "from batchbald_redux.black_box_model_training import train\n",
    "from batchbald_redux.consistent_mc_dropout import (\n",
    "    BayesianModule,\n",
    "    ConsistentMCDropout,\n",
    "    ConsistentMCDropout2d,\n",
    "    GradEmbeddingType,\n",
    "    freeze_encoder_context,\n",
    ")\n",
    "from batchbald_redux.model_optimizer_factory import (\n",
    "    ModelOptimizer,\n",
    "    ModelOptimizerFactory,\n",
    ")\n",
    "\n",
    "# Cell\n",
    "from batchbald_redux.trained_model import (\n",
    "    ModelTrainer,\n",
    "    TrainedBayesianModel,\n",
    "    TrainedModel,\n",
    ")\n",
    "\n",
    "\n",
    "class MNISTCNN(BayesianModule):\n",
    "    def __init__(self, num_classes=10):\n",
    "        super().__init__()\n",
    "\n",
    "        self.conv1 = nn.Conv2d(1, 32, kernel_size=5)\n",
    "        self.conv2 = nn.Conv2d(32, 64, kernel_size=5)\n",
    "        self.fc1 = nn.Linear(1024, 128)\n",
    "        self.fc2 = nn.Linear(128, num_classes)\n",
    "\n",
    "    def mc_forward_impl(self, input: torch.Tensor, freeze_encoder: bool):\n",
    "        with freeze_encoder_context(freeze_encoder):\n",
    "            input = F.relu(F.max_pool2d(self.conv1(input), 2))\n",
    "            input = F.relu(F.max_pool2d(self.conv2(input), 2))\n",
    "            input = input.view(-1, 1024)\n",
    "            input = F.relu(self.fc1(input))\n",
    "\n",
    "        embedding = input\n",
    "        input = self.fc2(input)\n",
    "        input = F.log_softmax(input, dim=1)\n",
    "\n",
    "        return input, embedding"
   ]
  },
  {
   "cell_type": "code",
   "execution_count": null,
   "metadata": {},
   "outputs": [],
   "source": [
    "# Cell\n",
    "from contextlib import nullcontext\n",
    "from dataclasses import dataclass\n",
    "from enum import Enum\n",
    "from functools import wraps\n",
    "from typing import List\n",
    "\n",
    "import numpy as np\n",
    "import torch\n",
    "from blackhc.progress_bar import create_progress_bar\n",
    "from toma import toma\n",
    "from torch.nn import Module\n",
    "# Cell\n",
    "from torch.utils import data\n",
    "\n",
    "\n",
    "def assert_no_shuffling_no_augmentations_dataloader(dataloader: data.DataLoader):\n",
    "    batch_x_A = None\n",
    "    batch_labels_A = None\n",
    "    batch_x_B = None\n",
    "    batch_labels_B = None\n",
    "\n",
    "    for batch_x_A, batch_labels_A in dataloader:\n",
    "        break\n",
    "\n",
    "    for batch_x_B, batch_labels_B in dataloader:\n",
    "        break\n",
    "\n",
    "    assert torch.all(\n",
    "        batch_x_A == batch_x_B\n",
    "    ), \"Batch inputs different. Augmentations enabled, or dataloader shuffles data?!\"\n",
    "\n",
    "\n",
    "    assert torch.all(batch_labels_A == batch_labels_B), \"Batch labels different. Augmentations enabled, or dataloader shuffles data?!\"\n",
    "\n",
    "    \n",
    "@torch.no_grad()\n",
    "def reinit_model_get_predictions_labels(\n",
    "    model_class: Type, *, num_samples: int, loader: data.DataLoader, device, storage_device\n",
    "):\n",
    "    assert_no_shuffling_no_augmentations_dataloader(loader)\n",
    "    assert num_samples > 0\n",
    "\n",
    "    N = len(loader.dataset)\n",
    "    predictions = None\n",
    "    labels = None\n",
    "\n",
    "    pbar = create_progress_bar(N * num_samples, tqdm_args=dict(desc=\"get_predictions_labels\", leave=False))\n",
    "    pbar.start()\n",
    "\n",
    "    @toma.execute.range(0, num_samples, 1)\n",
    "    def get_prediction_batch(start, end):\n",
    "        nonlocal predictions\n",
    "        nonlocal labels\n",
    "\n",
    "        if start == 0:\n",
    "            predictions = None\n",
    "            labels = None\n",
    "            pbar.reset()\n",
    "\n",
    "        num_sub_samples = end - start\n",
    "\n",
    "        data_start = 0\n",
    "        for batch_x, batch_labels in loader:\n",
    "            batch_x = batch_x.to(device=device, non_blocking=True)\n",
    "            \n",
    "            model = model_class()\n",
    "            model.to(device=device)\n",
    "            model.eval()\n",
    "            batch_predictions = model(batch_x, 1)\n",
    "\n",
    "            batch_size = len(batch_predictions)\n",
    "            data_end = data_start + batch_size\n",
    "\n",
    "            # Support multi-dim predictions.\n",
    "            if predictions is None:\n",
    "                predictions_shape = (N, num_samples, *batch_predictions.shape[2:])\n",
    "                predictions = torch.empty(predictions_shape, dtype=batch_predictions.dtype, device=storage_device)\n",
    "            # Support multi-dim labels.\n",
    "            if labels is None:\n",
    "                labels_shape = (N, *batch_labels.shape[1:])\n",
    "                labels = torch.empty(labels_shape, dtype=batch_labels.dtype, device=storage_device)\n",
    "\n",
    "            predictions[data_start:data_end, start:end].copy_(batch_predictions, non_blocking=True)\n",
    "            if start == 0:\n",
    "                labels[data_start:data_end].copy_(batch_labels, non_blocking=True)\n",
    "\n",
    "            data_start = data_end\n",
    "\n",
    "            pbar.update(batch_size * num_sub_samples)\n",
    "\n",
    "    pbar.finish()\n",
    "\n",
    "    return predictions, labels"
   ]
  },
  {
   "cell_type": "code",
   "execution_count": null,
   "metadata": {},
   "outputs": [
    {
     "data": {
      "application/vnd.jupyter.widget-view+json": {
       "model_id": "",
       "version_major": 2,
       "version_minor": 0
      },
      "text/plain": [
       "get_predictions_labels:   0%|          | 0/1005500 [00:00<?, ?it/s]"
      ]
     },
     "metadata": {},
     "output_type": "display_data"
    }
   ],
   "source": [
    "predictions_N_M_C, labels_N = reinit_model_get_predictions_labels(\n",
    "    MNISTCNN, num_samples=100, loader=joint_loader, device=\"cuda\", storage_device=\"cpu\"\n",
    ")"
   ]
  },
  {
   "cell_type": "code",
   "execution_count": null,
   "metadata": {},
   "outputs": [],
   "source": [
    "virtual_training_set_size = 50  # len(training_set_90)"
   ]
  },
  {
   "cell_type": "code",
   "execution_count": null,
   "metadata": {},
   "outputs": [],
   "source": [
    "true_train_predictions_n_M = predictions_N_M_C[\n",
    "    list(range(virtual_training_set_size)), :, labels_N[:virtual_training_set_size]\n",
    "]"
   ]
  },
  {
   "cell_type": "code",
   "execution_count": null,
   "metadata": {},
   "outputs": [
    {
     "data": {
      "text/plain": [
       "torch.Size([50, 100])"
      ]
     },
     "execution_count": null,
     "metadata": {},
     "output_type": "execute_result"
    }
   ],
   "source": [
    "true_train_predictions_n_M.shape"
   ]
  },
  {
   "cell_type": "code",
   "execution_count": null,
   "metadata": {},
   "outputs": [],
   "source": [
    "mix_weights_M = torch.sum(true_train_predictions_n_M, dim=0) / (virtual_training_set_size / 40)"
   ]
  },
  {
   "cell_type": "code",
   "execution_count": null,
   "metadata": {},
   "outputs": [
    {
     "data": {
      "text/plain": [
       "torch.Size([100])"
      ]
     },
     "execution_count": null,
     "metadata": {},
     "output_type": "execute_result"
    }
   ],
   "source": [
    "mix_weights_M.shape"
   ]
  },
  {
   "cell_type": "code",
   "execution_count": null,
   "metadata": {},
   "outputs": [
    {
     "data": {
      "text/plain": [
       "tensor([-93.7274, -92.3730, -93.3257, -91.8971, -93.8792, -91.4355, -91.9618,\n",
       "        -91.4423, -92.1715, -92.9064, -92.6598, -92.2078, -91.6831, -91.3584,\n",
       "        -93.7402, -91.9232, -92.2881, -92.1177, -93.3058, -92.1556, -92.6762,\n",
       "        -91.8038, -91.6045, -91.4175, -91.6196, -93.0117, -92.9579, -92.6618,\n",
       "        -93.0963, -91.6542, -92.2731, -92.0759, -93.4786, -91.4171, -91.0366,\n",
       "        -91.8476, -92.0384, -91.8310, -93.4134, -91.3530, -92.2231, -93.8096,\n",
       "        -92.9808, -93.4071, -92.2301, -92.4571, -90.6741, -92.9026, -91.6518,\n",
       "        -92.1958, -92.3968, -92.5815, -92.6207, -92.3945, -93.0710, -93.0059,\n",
       "        -92.5404, -92.4819, -91.7358, -91.9300, -92.0748, -91.9805, -92.0914,\n",
       "        -91.6912, -92.9176, -91.7888, -92.1684, -92.1748, -92.5272, -91.5815,\n",
       "        -91.3627, -92.4682, -92.4429, -92.1385, -92.1866, -92.6167, -93.1052,\n",
       "        -91.1981, -92.6332, -92.6460, -91.6807, -92.7387, -91.6578, -92.4994,\n",
       "        -92.3912, -92.1155, -92.2767, -91.4916, -93.1281, -91.9997, -91.2743,\n",
       "        -92.2799, -91.4912, -91.6274, -93.1408, -94.0916, -92.0254, -92.7102,\n",
       "        -92.6852, -92.7951])"
      ]
     },
     "execution_count": null,
     "metadata": {},
     "output_type": "execute_result"
    }
   ],
   "source": [
    "mix_weights_M"
   ]
  },
  {
   "cell_type": "code",
   "execution_count": null,
   "metadata": {},
   "outputs": [
    {
     "data": {
      "text/plain": [
       "<AxesSubplot:ylabel='Density'>"
      ]
     },
     "execution_count": null,
     "metadata": {},
     "output_type": "execute_result"
    },
    {
     "data": {
      "image/png": "[encoded data removed]",
      "text/plain": [
       "<Figure size 432x288 with 1 Axes>"
      ]
     },
     "metadata": {
      "needs_background": "light"
     },
     "output_type": "display_data"
    }
   ],
   "source": [
    "sns.kdeplot(mix_weights_M.numpy())"
   ]
  },
  {
   "cell_type": "code",
   "execution_count": null,
   "metadata": {},
   "outputs": [],
   "source": [
    "split_joints = mix_weights_M[None, :, None] + predictions_N_M_C[virtual_training_set_size:]"
   ]
  },
  {
   "cell_type": "code",
   "execution_count": null,
   "metadata": {},
   "outputs": [],
   "source": [
    "# predictions_N = torch.argmax(torch.logsumexp(split_joints, dim=1), dim=1)\n",
    "predictions_N = torch.argmax(torch.sum(split_joints.exp(), dim=1), dim=1)\n",
    "# predictions_N = torch.argmax(torch.log_softmax(torch.logsumexp(split_joints, dim=1), dim=1), dim=1)"
   ]
  },
  {
   "cell_type": "code",
   "execution_count": null,
   "metadata": {},
   "outputs": [
    {
     "data": {
      "text/plain": [
       "torch.Size([10005])"
      ]
     },
     "execution_count": null,
     "metadata": {},
     "output_type": "execute_result"
    }
   ],
   "source": [
    "predictions_N.shape"
   ]
  },
  {
   "cell_type": "code",
   "execution_count": null,
   "metadata": {},
   "outputs": [
    {
     "data": {
      "text/plain": [
       "tensor(0.1070)"
      ]
     },
     "execution_count": null,
     "metadata": {},
     "output_type": "execute_result"
    }
   ],
   "source": [
    "sum(predictions_N == labels_N[virtual_training_set_size:]) / len(predictions_N)"
   ]
  },
  {
   "cell_type": "code",
   "execution_count": null,
   "metadata": {},
   "outputs": [],
   "source": []
  }
 ],
 "metadata": {
  "kernelspec": {
   "display_name": "Python [conda env:active_learning]",
   "language": "python",
   "name": "conda-env-active_learning-py"
  }
 },
 "nbformat": 4,
 "nbformat_minor": 4
}
