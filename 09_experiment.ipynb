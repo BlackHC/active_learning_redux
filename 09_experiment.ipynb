{
 "cells": [
  {
   "cell_type": "markdown",
   "metadata": {},
   "source": [
    "# Experiment\n",
    "> Can we get better by training on our assumptions?"
   ]
  },
  {
   "cell_type": "code",
   "execution_count": null,
   "metadata": {},
   "outputs": [],
   "source": [
    "# default_exp experiment"
   ]
  },
  {
   "cell_type": "code",
   "execution_count": null,
   "metadata": {},
   "outputs": [
    {
     "name": "stdout",
     "output_type": "stream",
     "text": [
      "Appended /home/blackhc/PycharmProjects/bald-ical/src to paths\n",
      "Switched to directory /home/blackhc/PycharmProjects/bald-ical\n",
      "%load_ext autoreload\n",
      "%autoreload 2\n"
     ]
    }
   ],
   "source": [
    "# hide\n",
    "import blackhc.project.script"
   ]
  },
  {
   "cell_type": "markdown",
   "metadata": {},
   "source": [
    "Import modules and functions were are going to use."
   ]
  },
  {
   "cell_type": "code",
   "execution_count": null,
   "metadata": {},
   "outputs": [],
   "source": [
    "# exports\n",
    "\n",
    "import dataclasses\n",
    "import traceback\n",
    "from dataclasses import dataclass\n",
    "from enum import Enum\n",
    "\n",
    "import blackhc.project.script\n",
    "import numpy as np\n",
    "import torch\n",
    "import torch.utils.data\n",
    "from blackhc.project import is_run_from_ipython\n",
    "from blackhc.project.experiment import embedded_experiments\n",
    "from torch.utils.data import Dataset\n",
    "\n",
    "from batchbald_redux.active_learning import ActiveLearningData, RandomFixedLengthSampler\n",
    "from batchbald_redux.batchbald import (\n",
    "    CandidateBatch,\n",
    "    get_bald_ical_scores,\n",
    "    get_bald_scores,\n",
    "    get_batch_coreset_bald_batch,\n",
    "    get_batchbald_batch,\n",
    "    get_batchbaldical_batch,\n",
    "    get_coreset_bald_scores,\n",
    "    get_ical_scores,\n",
    "    get_sampled_tempered_scorers,\n",
    "    get_thompson_bald_batch,\n",
    "    get_top_k_scorers,\n",
    "    get_top_random_scorers,\n",
    ")\n",
    "from batchbald_redux.black_box_model_training import (\n",
    "    evaluate,\n",
    "    get_log_mean_probs,\n",
    "    get_predictions,\n",
    "    get_predictions_labels,\n",
    "    train,\n",
    ")\n",
    "from batchbald_redux.consistent_mc_dropout import SamplerModel\n",
    "from batchbald_redux.dataset_challenges import (\n",
    "    create_repeated_MNIST_dataset,\n",
    "    get_balanced_sample_indices,\n",
    "    get_base_index,\n",
    ")\n",
    "from batchbald_redux.example_models import BayesianMNISTCNN"
   ]
  },
  {
   "cell_type": "code",
   "execution_count": null,
   "metadata": {},
   "outputs": [],
   "source": [
    "# exports\n",
    "\n",
    "\n",
    "class AcquisitionFunction(Enum):\n",
    "    random = \"Random\"\n",
    "    bald = \"BALD\"\n",
    "    batchbald = \"BatchBALD\"\n",
    "    batchbaldical = \"BatchBALD-ICAL\"\n",
    "    baldical = \"BALD-ICAL\"\n",
    "    coresetbald = \"CoreSetBALD\"\n",
    "    batchcoresetbald = \"BatchCoreSetBALD\"\n",
    "    ical = \"ICAL\"\n",
    "    randombald = \"RandomBALD\"\n",
    "    randombaldical = \"RandomBALD-ICAL\"\n",
    "    thompsonbald = \"ThompsonBALD\"\n",
    "    temperedbald = \"TemperedBALD\"\n",
    "    temperedcoresetbald = \"TemperedCoreSetBALD\"\n",
    "    temperedbaldical = \"TemperedBALD-ICAL\"\n",
    "    temperedical = \"TemperedICAL\""
   ]
  },
  {
   "cell_type": "code",
   "execution_count": null,
   "metadata": {},
   "outputs": [],
   "source": [
    "# exports\n",
    "\n",
    "\n",
    "class PredictionDataset(torch.utils.data.Dataset):\n",
    "    dataset: torch.utils.data.Dataset\n",
    "    predictions: torch.Tensor\n",
    "\n",
    "    def __init__(self, dataset, predictions):\n",
    "        assert len(dataset) == predictions.shape[0], f\"{len(dataset)} == {predictions.shape[0]}\"\n",
    "\n",
    "        self.dataset = dataset\n",
    "        self.predictions = predictions\n",
    "\n",
    "    def __getitem__(self, index):\n",
    "        x, y = self.dataset[index]\n",
    "        p = self.predictions[index]\n",
    "        return x, p\n",
    "\n",
    "    def __len__(self):\n",
    "        return len(self.dataset)"
   ]
  },
  {
   "cell_type": "code",
   "execution_count": null,
   "metadata": {},
   "outputs": [],
   "source": [
    "# exports\n",
    "\n",
    "# From the BatchBALD Repo\n",
    "\n",
    "mnist_initial_samples = [\n",
    "    38043,\n",
    "    40091,\n",
    "    17418,\n",
    "    2094,\n",
    "    39879,\n",
    "    3133,\n",
    "    5011,\n",
    "    40683,\n",
    "    54379,\n",
    "    24287,\n",
    "    9849,\n",
    "    59305,\n",
    "    39508,\n",
    "    39356,\n",
    "    8758,\n",
    "    52579,\n",
    "    13655,\n",
    "    7636,\n",
    "    21562,\n",
    "    41329,\n",
    "]"
   ]
  },
  {
   "cell_type": "code",
   "execution_count": null,
   "metadata": {},
   "outputs": [],
   "source": [
    "# exports\n",
    "\n",
    "bald_scores = []\n",
    "\n",
    "\n",
    "@dataclass\n",
    "class Experiment:\n",
    "    seed: int = 1337\n",
    "    acquisition_size: int = 5\n",
    "    max_training_set: int = 300\n",
    "    num_pool_samples: int = 20\n",
    "    num_eval_samples: int = 20\n",
    "    num_training_samples: int = 1\n",
    "    num_patience_epochs: int = 3\n",
    "    max_training_epochs: int = 30\n",
    "    device = \"cuda\"\n",
    "    validation_set_size: int = 1024\n",
    "    initial_set_size: int = 20\n",
    "    samples_per_epoch: int = 5056\n",
    "    repeated_mnist_repetitions: int = 1\n",
    "    add_dataset_noise: bool = False\n",
    "    acquisition_function: AcquisitionFunction = AcquisitionFunction.bald\n",
    "    save_bald_scores: bool = False\n",
    "    temperature: float = 0.0\n",
    "\n",
    "    def load_dataset(self, initial_training_set_indices) -> (ActiveLearningData, Dataset, Dataset):\n",
    "        train_dataset, test_dataset = create_repeated_MNIST_dataset(\n",
    "            num_repetitions=self.repeated_mnist_repetitions, add_noise=self.add_dataset_noise\n",
    "        )\n",
    "        active_learning_data = ActiveLearningData(train_dataset)\n",
    "\n",
    "        active_learning_data.acquire(initial_training_set_indices)\n",
    "\n",
    "        validation_dataset = active_learning_data.extract_dataset_from_pool(self.validation_set_size)\n",
    "\n",
    "        return active_learning_data, validation_dataset, test_dataset\n",
    "\n",
    "    def new_model(self):\n",
    "        return BayesianMNISTCNN()\n",
    "\n",
    "    def new_optimizer(self, model):\n",
    "        return torch.optim.Adam(model.parameters(), weight_decay=5e-4)\n",
    "\n",
    "    def get_random_candidate_batch(self, num_pool_samples):\n",
    "        indices = np.random.choice(num_pool_samples, size=self.acquisition_size, replace=False)\n",
    "        return CandidateBatch([0.0] * self.acquisition_size, indices)\n",
    "\n",
    "    def get_thompson_bald_candidate_batch(self, log_probs_N_K_C):\n",
    "        # Evaluate BALD scores\n",
    "        candidate_batch = get_thompson_bald_batch(\n",
    "            log_probs_N_K_C,\n",
    "            batch_size=self.acquisition_size,\n",
    "            dtype=torch.double,\n",
    "            device=self.device,\n",
    "        )\n",
    "        return candidate_batch\n",
    "\n",
    "    def get_coreset_bald_candidate_batch(self, log_probs_N_K_C, labels_N, *, get_scorers):\n",
    "        # Evaluate BALD scores\n",
    "        scores_N = get_coreset_bald_scores(log_probs_N_K_C, labels_N, dtype=torch.double, device=self.device)\n",
    "\n",
    "        if self.save_bald_scores:\n",
    "            bald_scores.append(scores_N)\n",
    "\n",
    "        candidate_batch = get_scorers(scores_N, batch_size=self.acquisition_size)\n",
    "\n",
    "        return candidate_batch\n",
    "\n",
    "    def get_bald_candidate_batch(self, log_probs_N_K_C, *, get_scorers):\n",
    "        # Evaluate BALD scores\n",
    "        scores_N = get_bald_scores(log_probs_N_K_C, dtype=torch.double, device=self.device)\n",
    "\n",
    "        if self.save_bald_scores:\n",
    "            bald_scores.append(scores_N)\n",
    "\n",
    "        candidate_batch = get_scorers(scores_N, batch_size=self.acquisition_size)\n",
    "\n",
    "        return candidate_batch\n",
    "\n",
    "    def get_batchbald_ical_candidate_batch(self, normal_log_probs_N_K_C, pool_log_probs_N_K_C):\n",
    "        # Evaluate BALD scores\n",
    "        candidate_batch = get_batchbaldical_batch(\n",
    "            normal_log_probs_N_K_C,\n",
    "            pool_log_probs_N_K_C,\n",
    "            batch_size=self.acquisition_size,\n",
    "            num_samples=1000000,\n",
    "            dtype=torch.double,\n",
    "            device=self.device,\n",
    "        )\n",
    "        return candidate_batch\n",
    "\n",
    "    def get_bald_ical_candidate_batch(self, normal_log_probs_N_K_C, pool_log_probs_N_K_C, get_scorers):\n",
    "        scores_N = get_bald_ical_scores(\n",
    "            normal_log_probs_N_K_C, pool_log_probs_N_K_C, dtype=torch.double, device=self.device\n",
    "        )\n",
    "\n",
    "        candidate_batch = get_scorers(scores_N, batch_size=self.acquisition_size)\n",
    "\n",
    "        return candidate_batch\n",
    "\n",
    "    def get_ical_candidate_batch(self, normal_log_probs_N_K_C, pool_log_probs_N_K_C, get_scorers):\n",
    "        scores_N = get_ical_scores(normal_log_probs_N_K_C, pool_log_probs_N_K_C, dtype=torch.double, device=self.device)\n",
    "\n",
    "        candidate_batch = get_scorers(scores_N, batch_size=self.acquisition_size)\n",
    "\n",
    "        return candidate_batch\n",
    "\n",
    "    def get_batchbald_candidate_batch(self, log_probs_N_K_C):\n",
    "        # Evaluate BALD scores\n",
    "        candidate_batch = get_batchbald_batch(\n",
    "            log_probs_N_K_C,\n",
    "            batch_size=self.acquisition_size,\n",
    "            num_samples=1000000,\n",
    "            dtype=torch.double,\n",
    "            device=self.device,\n",
    "        )\n",
    "        return candidate_batch\n",
    "\n",
    "    def get_batch_coreset_bald_candidate_batch(self, log_probs_N_K_C, labels_N):\n",
    "        # Evaluate BALD scores\n",
    "        candidate_batch = get_batch_coreset_bald_batch(\n",
    "            log_probs_N_K_C,\n",
    "            labels_N,\n",
    "            batch_size=self.acquisition_size,\n",
    "            dtype=torch.double,\n",
    "            device=\"cpu\",\n",
    "        )\n",
    "        return candidate_batch\n",
    "\n",
    "    def train_pool_model(\n",
    "        self, *, model, train_pool_dataset, train_pool_loader, validation_loader, num_epochs, training_log\n",
    "    ):\n",
    "        log_probs_N_C = get_log_mean_probs(\n",
    "            model=model,\n",
    "            num_samples=self.num_eval_samples,\n",
    "            num_classes=10,\n",
    "            loader=train_pool_loader,\n",
    "            device=self.device,\n",
    "        )\n",
    "\n",
    "        train_pool_prediction_dataset = PredictionDataset(train_pool_dataset, log_probs_N_C)\n",
    "        train_pool_prediction_loader = torch.utils.data.DataLoader(\n",
    "            train_pool_prediction_dataset, batch_size=64, drop_last=True, shuffle=True\n",
    "        )\n",
    "\n",
    "        pool_model = self.new_model()\n",
    "        pool_optimizer = self.new_optimizer(pool_model)\n",
    "\n",
    "        loss = torch.nn.KLDivLoss(log_target=True, reduction=\"batchmean\")\n",
    "\n",
    "        train(\n",
    "            model=pool_model,\n",
    "            optimizer=pool_optimizer,\n",
    "            loss=loss,\n",
    "            validation_loss=torch.nn.NLLLoss(),\n",
    "            training_samples=self.num_training_samples,\n",
    "            validation_samples=self.num_eval_samples,\n",
    "            train_loader=train_pool_prediction_loader,\n",
    "            validation_loader=validation_loader,\n",
    "            patience=self.num_patience_epochs,\n",
    "            max_epochs=num_epochs,\n",
    "            device=self.device,\n",
    "            training_log=training_log,\n",
    "        )\n",
    "        # print(training_log)\n",
    "\n",
    "        return pool_model\n",
    "\n",
    "    def run(self, store):\n",
    "        torch.manual_seed(self.seed)\n",
    "\n",
    "        initial_training_set_indices = mnist_initial_samples\n",
    "        store[\"initial_training_set_indices\"] = initial_training_set_indices\n",
    "\n",
    "        # Active Learning setup\n",
    "        active_learning_data, validation_dataset, test_dataset = self.load_dataset(initial_training_set_indices)\n",
    "        store[\"dataset_info\"] = dict(training=repr(active_learning_data.dataset), test=repr(test_dataset))\n",
    "\n",
    "        # initial_training_set_indices = active_learning_data.get_random_pool_indices(self.initial_set_size)\n",
    "        # initial_training_set_indices = get_balanced_sample_indices(\n",
    "        #     active_learning_data.pool_dataset, 10, self.initial_set_size // 10\n",
    "        # )\n",
    "\n",
    "        train_loader = torch.utils.data.DataLoader(\n",
    "            active_learning_data.training_dataset,\n",
    "            batch_size=64,\n",
    "            sampler=RandomFixedLengthSampler(active_learning_data.training_dataset, self.samples_per_epoch),\n",
    "            drop_last=True,\n",
    "        )\n",
    "        pool_loader = torch.utils.data.DataLoader(\n",
    "            active_learning_data.pool_dataset, batch_size=128, drop_last=False, shuffle=False\n",
    "        )\n",
    "\n",
    "        validation_loader = torch.utils.data.DataLoader(validation_dataset, batch_size=128, drop_last=False)\n",
    "        test_loader = torch.utils.data.DataLoader(test_dataset, batch_size=128, drop_last=False)\n",
    "\n",
    "        store[\"active_learning_steps\"] = []\n",
    "        active_learning_steps = store[\"active_learning_steps\"]\n",
    "\n",
    "        # Active Training Loop\n",
    "        while True:\n",
    "            training_set_size = len(active_learning_data.training_dataset)\n",
    "            print(f\"Training set size {training_set_size}:\")\n",
    "\n",
    "            # iteration_log = dict(training={}, pool_training={}, evalution_metrics=None, acquisition=None)\n",
    "            active_learning_steps.append({})\n",
    "            iteration_log = active_learning_steps[-1]\n",
    "\n",
    "            iteration_log[\"training\"] = {}\n",
    "\n",
    "            model = self.new_model()\n",
    "            optimizer = self.new_optimizer(model)\n",
    "            train(\n",
    "                model=model,\n",
    "                optimizer=optimizer,\n",
    "                training_samples=self.num_training_samples,\n",
    "                validation_samples=self.num_eval_samples,\n",
    "                train_loader=train_loader,\n",
    "                validation_loader=validation_loader,\n",
    "                patience=self.num_patience_epochs,\n",
    "                max_epochs=self.max_training_epochs,\n",
    "                device=self.device,\n",
    "                training_log=iteration_log[\"training\"],\n",
    "            )\n",
    "\n",
    "            evaluation_metrics = evaluate(\n",
    "                model=model, num_samples=self.num_eval_samples, loader=test_loader, device=self.device\n",
    "            )\n",
    "            iteration_log[\"evalution_metrics\"] = evaluation_metrics\n",
    "            print(f\"Perf after training {evaluation_metrics}\")\n",
    "\n",
    "            if training_set_size >= self.max_training_set:\n",
    "                print(\"Done.\")\n",
    "                break\n",
    "\n",
    "            if self.acquisition_function == AcquisitionFunction.random:\n",
    "                candidate_batch = self.get_random_candidate_batch(len(active_learning_data.pool_dataset))\n",
    "            elif self.acquisition_function in (\n",
    "                AcquisitionFunction.batchbaldical,\n",
    "                AcquisitionFunction.baldical,\n",
    "                AcquisitionFunction.randombaldical,\n",
    "                AcquisitionFunction.temperedbaldical,\n",
    "                AcquisitionFunction.ical,\n",
    "                AcquisitionFunction.temperedical,\n",
    "            ):\n",
    "                normal_log_probs_N_K_C = get_predictions(\n",
    "                    model=model,\n",
    "                    num_samples=self.num_pool_samples,\n",
    "                    num_classes=10,\n",
    "                    loader=pool_loader,\n",
    "                    device=self.device,\n",
    "                )\n",
    "\n",
    "                train_pool_dataset = torch.utils.data.ConcatDataset(\n",
    "                    [active_learning_data.training_dataset, active_learning_data.pool_dataset]\n",
    "                )\n",
    "                train_pool_loader = torch.utils.data.DataLoader(train_pool_dataset, batch_size=64, drop_last=False)\n",
    "\n",
    "                num_epochs = iteration_log[\"training\"][\"best_epoch\"]\n",
    "\n",
    "                iteration_log[\"pool_training\"] = {}\n",
    "                pool_model = self.train_pool_model(\n",
    "                    model=model,\n",
    "                    train_pool_dataset=train_pool_dataset,\n",
    "                    train_pool_loader=train_pool_loader,\n",
    "                    validation_loader=validation_loader,\n",
    "                    num_epochs=num_epochs,\n",
    "                    training_log=iteration_log[\"pool_training\"],\n",
    "                )\n",
    "\n",
    "                pool_log_probs_N_K_C = get_predictions(\n",
    "                    model=pool_model,\n",
    "                    num_samples=self.num_pool_samples,\n",
    "                    num_classes=10,\n",
    "                    loader=pool_loader,\n",
    "                    device=self.device,\n",
    "                )\n",
    "\n",
    "                if self.acquisition_function == AcquisitionFunction.batchbaldical:\n",
    "                    candidate_batch = self.get_batchbald_ical_candidate_batch(\n",
    "                        normal_log_probs_N_K_C, pool_log_probs_N_K_C\n",
    "                    )\n",
    "                elif self.acquisition_function == AcquisitionFunction.baldical:\n",
    "                    candidate_batch = self.get_bald_ical_candidate_batch(\n",
    "                        normal_log_probs_N_K_C, pool_log_probs_N_K_C, get_scorers=get_top_k_scorers\n",
    "                    )\n",
    "                elif self.acquisition_function == AcquisitionFunction.randombaldical:\n",
    "                    candidate_batch = self.get_bald_ical_candidate_batch(\n",
    "                        normal_log_probs_N_K_C,\n",
    "                        pool_log_probs_N_K_C,\n",
    "                        get_scorers=lambda scores_N, batch_size: get_top_random_scorers(\n",
    "                            scores_N, batch_size=batch_size, num_classes=10\n",
    "                        ),\n",
    "                    )\n",
    "                elif self.acquisition_function == AcquisitionFunction.temperedbaldical:\n",
    "                    candidate_batch = self.get_bald_ical_candidate_batch(\n",
    "                        normal_log_probs_N_K_C,\n",
    "                        pool_log_probs_N_K_C,\n",
    "                        get_scorers=lambda scores_N, batch_size: get_sampled_tempered_scorers(\n",
    "                            scores_N, batch_size=batch_size, temperature=self.temperature\n",
    "                        ),\n",
    "                    )\n",
    "                elif self.acquisition_function == AcquisitionFunction.ical:\n",
    "                    candidate_batch = self.get_ical_candidate_batch(\n",
    "                        normal_log_probs_N_K_C, pool_log_probs_N_K_C, get_scorers=get_top_k_scorers\n",
    "                    )\n",
    "                elif self.acquisition_function == AcquisitionFunction.temperedical:\n",
    "                    candidate_batch = self.get_ical_candidate_batch(\n",
    "                        normal_log_probs_N_K_C,\n",
    "                        pool_log_probs_N_K_C,\n",
    "                        get_scorers=lambda scores_N, batch_size: get_sampled_tempered_scorers(\n",
    "                            scores_N, batch_size=batch_size, temperature=self.temperature\n",
    "                        ),\n",
    "                    )\n",
    "                else:\n",
    "                    raise ValueError(f\"Unexpected acquisition function {self.acquisition_function}!\")\n",
    "            elif self.acquisition_function in (\n",
    "                AcquisitionFunction.coresetbald,\n",
    "                AcquisitionFunction.temperedcoresetbald,\n",
    "                AcquisitionFunction.batchcoresetbald,\n",
    "            ):\n",
    "                # Evaluate pool set\n",
    "                log_probs_N_K_C, labels_N = get_predictions_labels(\n",
    "                    model=model,\n",
    "                    num_samples=self.num_pool_samples,\n",
    "                    num_classes=10,\n",
    "                    loader=pool_loader,\n",
    "                    device=self.device,\n",
    "                )\n",
    "\n",
    "                if self.acquisition_function == AcquisitionFunction.coresetbald:\n",
    "                    candidate_batch = self.get_coreset_bald_candidate_batch(\n",
    "                        log_probs_N_K_C, labels_N, get_scorers=get_top_k_scorers\n",
    "                    )\n",
    "                elif self.acquisition_function == AcquisitionFunction.temperedcoresetbald:\n",
    "                    candidate_batch = self.get_coreset_bald_candidate_batch(\n",
    "                        log_probs_N_K_C,\n",
    "                        labels_N,\n",
    "                        get_scorers=lambda scores_N, batch_size: get_sampled_tempered_scorers(\n",
    "                            scores_N, batch_size=batch_size, temperature=self.temperature\n",
    "                        ),\n",
    "                    )\n",
    "                elif self.acquisition_function == AcquisitionFunction.batchcoresetbald:\n",
    "                    candidate_batch = self.get_batch_coreset_bald_candidate_batch(log_probs_N_K_C, labels_N)\n",
    "                else:\n",
    "                    raise ValueError(f\"Unexpected acquisition function {self.acquisition_function}!\")\n",
    "            else:\n",
    "                log_probs_N_K_C = get_predictions(\n",
    "                    model=model,\n",
    "                    num_samples=self.num_pool_samples,\n",
    "                    num_classes=10,\n",
    "                    loader=pool_loader,\n",
    "                    device=self.device,\n",
    "                )\n",
    "\n",
    "                if self.acquisition_function == AcquisitionFunction.bald:\n",
    "                    candidate_batch = self.get_bald_candidate_batch(log_probs_N_K_C, get_scorers=get_top_k_scorers)\n",
    "                elif self.acquisition_function == AcquisitionFunction.randombald:\n",
    "                    candidate_batch = self.get_bald_candidate_batch(\n",
    "                        log_probs_N_K_C,\n",
    "                        get_scorers=lambda scores_N, batch_size: get_top_random_scorers(\n",
    "                            scores_N, batch_size=batch_size, num_classes=10\n",
    "                        ),\n",
    "                    )\n",
    "                elif self.acquisition_function == AcquisitionFunction.temperedbald:\n",
    "                    candidate_batch = self.get_bald_candidate_batch(\n",
    "                        log_probs_N_K_C,\n",
    "                        get_scorers=lambda scores_N, batch_size: get_sampled_tempered_scorers(\n",
    "                            scores_N, batch_size=batch_size, temperature=self.temperature\n",
    "                        ),\n",
    "                    )\n",
    "                elif self.acquisition_function == AcquisitionFunction.batchbald:\n",
    "                    candidate_batch = self.get_batchbald_candidate_batch(log_probs_N_K_C)\n",
    "                elif self.acquisition_function == AcquisitionFunction.thompsonbald:\n",
    "                    candidate_batch = self.get_thompson_bald_candidate_batch(log_probs_N_K_C)\n",
    "                else:\n",
    "                    raise ValueError(f\"Unknown acquisition function {self.acquisition_function}!\")\n",
    "\n",
    "            candidate_global_indices = [\n",
    "                get_base_index(active_learning_data.pool_dataset, index) for index in candidate_batch.indices\n",
    "            ]\n",
    "            candidate_labels = [active_learning_data.dataset[index][1].item() for index in candidate_global_indices]\n",
    "\n",
    "            iteration_log[\"acquisition\"] = dict(\n",
    "                indices=candidate_global_indices, labels=candidate_labels, scores=candidate_batch.scores\n",
    "            )\n",
    "\n",
    "            active_learning_data.acquire(candidate_batch.indices)\n",
    "\n",
    "            ls = \", \".join(f\"{label} ({score:.4})\" for label, score in zip(candidate_labels, candidate_batch.scores))\n",
    "            print(f\"Acquiring (label, score)s: {ls}\")"
   ]
  },
  {
   "cell_type": "code",
   "execution_count": null,
   "metadata": {},
   "outputs": [
    {
     "name": "stdout",
     "output_type": "stream",
     "text": [
      "Training set size 20:\n"
     ]
    },
    {
     "data": {
      "application/vnd.jupyter.widget-view+json": {
       "model_id": "d205c86c8ceb4a3389258dab0083023c",
       "version_major": 2,
       "version_minor": 0
      },
      "text/plain": [
       " 20%|##        | 1/5 [00:00<?, ?it/s]"
      ]
     },
     "metadata": {},
     "output_type": "display_data"
    },
    {
     "data": {
      "application/vnd.jupyter.widget-view+json": {
       "model_id": "",
       "version_major": 2,
       "version_minor": 0
      },
      "text/plain": [
       "[1/79]   1%|1          [00:00<?]"
      ]
     },
     "metadata": {},
     "output_type": "display_data"
    },
    {
     "name": "stdout",
     "output_type": "stream",
     "text": [
      "Epoch metrics: {'accuracy': 0.6181640625, 'crossentropy': 2.7122050523757935}\n"
     ]
    },
    {
     "data": {
      "application/vnd.jupyter.widget-view+json": {
       "model_id": "",
       "version_major": 2,
       "version_minor": 0
      },
      "text/plain": [
       "[1/79]   1%|1          [00:00<?]"
      ]
     },
     "metadata": {},
     "output_type": "display_data"
    },
    {
     "name": "stdout",
     "output_type": "stream",
     "text": [
      "Epoch metrics: {'accuracy': 0.6435546875, 'crossentropy': 2.737692952156067}\n",
      "RestoringEarlyStopping: 1 / 3\n"
     ]
    },
    {
     "data": {
      "application/vnd.jupyter.widget-view+json": {
       "model_id": "",
       "version_major": 2,
       "version_minor": 0
      },
      "text/plain": [
       "[1/79]   1%|1          [00:00<?]"
      ]
     },
     "metadata": {},
     "output_type": "display_data"
    },
    {
     "name": "stdout",
     "output_type": "stream",
     "text": [
      "Epoch metrics: {'accuracy': 0.6376953125, 'crossentropy': 3.076276957988739}\n",
      "RestoringEarlyStopping: 2 / 3\n"
     ]
    },
    {
     "data": {
      "application/vnd.jupyter.widget-view+json": {
       "model_id": "",
       "version_major": 2,
       "version_minor": 0
      },
      "text/plain": [
       "[1/79]   1%|1          [00:00<?]"
      ]
     },
     "metadata": {},
     "output_type": "display_data"
    },
    {
     "name": "stdout",
     "output_type": "stream",
     "text": [
      "Epoch metrics: {'accuracy': 0.65234375, 'crossentropy': 3.2140341103076935}\n",
      "RestoringEarlyStopping: 3 / 3\n",
      "RestoringEarlyStopping: Out of patience\n",
      "RestoringEarlyStopping: Restoring best parameters. (Score: -2.7122050523757935)\n",
      "RestoringEarlyStopping: Restoring optimizer.\n"
     ]
    },
    {
     "data": {
      "application/vnd.jupyter.widget-view+json": {
       "model_id": "",
       "version_major": 2,
       "version_minor": 0
      },
      "text/plain": [
       "[1/79]   1%|1          [00:00<?]"
      ]
     },
     "metadata": {},
     "output_type": "display_data"
    },
    {
     "name": "stdout",
     "output_type": "stream",
     "text": [
      "Perf after training {'accuracy': 0.6283, 'crossentropy': 2.693286135482788}\n",
      "Done.\n"
     ]
    }
   ],
   "source": [
    "experiment = Experiment(\n",
    "    seed=1120,\n",
    "    max_training_epochs=5,\n",
    "    max_training_set=20,\n",
    "    acquisition_function=AcquisitionFunction.batchcoresetbald,\n",
    "    acquisition_size=5,\n",
    "    num_pool_samples=10,\n",
    "    save_bald_scores=False,\n",
    "    temperature=5,\n",
    ")\n",
    "\n",
    "results = {}\n",
    "experiment.run(results)"
   ]
  },
  {
   "cell_type": "code",
   "execution_count": null,
   "metadata": {},
   "outputs": [
    {
     "data": {
      "text/plain": [
       "{'params': {'seed': 1120,\n",
       "  'acquisition_size': 5,\n",
       "  'max_training_set': 20,\n",
       "  'num_pool_samples': 10,\n",
       "  'num_eval_samples': 20,\n",
       "  'num_training_samples': 1,\n",
       "  'num_patience_epochs': 3,\n",
       "  'max_training_epochs': 5,\n",
       "  'validation_set_size': 1024,\n",
       "  'initial_set_size': 20,\n",
       "  'samples_per_epoch': 5056,\n",
       "  'repeated_mnist_repetitions': 1,\n",
       "  'add_dataset_noise': False,\n",
       "  'acquisition_function': <AcquisitionFunction.batchcoresetbald: 'BatchCoreSetBALD'>,\n",
       "  'save_bald_scores': False,\n",
       "  'temperature': 5},\n",
       " 'initial_training_set_indices': [38043,\n",
       "  40091,\n",
       "  17418,\n",
       "  2094,\n",
       "  39879,\n",
       "  3133,\n",
       "  5011,\n",
       "  40683,\n",
       "  54379,\n",
       "  24287,\n",
       "  9849,\n",
       "  59305,\n",
       "  39508,\n",
       "  39356,\n",
       "  8758,\n",
       "  52579,\n",
       "  13655,\n",
       "  7636,\n",
       "  21562,\n",
       "  41329],\n",
       " 'dataset_info': {'training': \"'FastMNIST (Train)'\",\n",
       "  'test': \"'FastMNIST (Test)'\"},\n",
       " 'active_learning_steps': [{'training': {'epochs': [{'accuracy': 0.6142578125,\n",
       "      'crossentropy': 2.6747515201568604},\n",
       "     {'accuracy': 0.6416015625, 'crossentropy': 2.7781126499176025},\n",
       "     {'accuracy': 0.640625, 'crossentropy': 3.0478194653987885},\n",
       "     {'accuracy': 0.6591796875, 'crossentropy': 3.039293885231018}],\n",
       "    'best_epoch': 1},\n",
       "   'evalution_metrics': {'accuracy': 0.6277,\n",
       "    'crossentropy': 2.642987386703491}}]}"
      ]
     },
     "execution_count": null,
     "metadata": {},
     "output_type": "execute_result"
    }
   ],
   "source": [
    "results"
   ]
  },
  {
   "cell_type": "code",
   "execution_count": null,
   "metadata": {},
   "outputs": [
    {
     "name": "stdout",
     "output_type": "stream",
     "text": [
      "Training set size 20:\n"
     ]
    },
    {
     "data": {
      "application/vnd.jupyter.widget-view+json": {
       "model_id": "c3fc327793734c0eb2f361164ad86451",
       "version_major": 2,
       "version_minor": 0
      },
      "text/plain": [
       "100%|##########| 1/1 [00:00<?, ?it/s]"
      ]
     },
     "metadata": {},
     "output_type": "display_data"
    },
    {
     "data": {
      "application/vnd.jupyter.widget-view+json": {
       "model_id": "",
       "version_major": 2,
       "version_minor": 0
      },
      "text/plain": [
       "[1/384]   0%|           [00:00<?]"
      ]
     },
     "metadata": {},
     "output_type": "display_data"
    },
    {
     "data": {
      "application/vnd.jupyter.widget-view+json": {
       "model_id": "",
       "version_major": 2,
       "version_minor": 0
      },
      "text/plain": [
       "[1/64]   2%|1          [00:00<?]"
      ]
     },
     "metadata": {},
     "output_type": "display_data"
    },
    {
     "name": "stdout",
     "output_type": "stream",
     "text": [
      "RestoringEarlyStopping: Restoring best parameters. (Score: -6.529030114412308)\n",
      "RestoringEarlyStopping: Restoring optimizer.\n"
     ]
    },
    {
     "data": {
      "application/vnd.jupyter.widget-view+json": {
       "model_id": "",
       "version_major": 2,
       "version_minor": 0
      },
      "text/plain": [
       "[1/157]   1%|           [00:00<?]"
      ]
     },
     "metadata": {},
     "output_type": "display_data"
    },
    {
     "name": "stdout",
     "output_type": "stream",
     "text": [
      "Perf after training {'accuracy': 0.5367, 'crossentropy': 6.438035237884521}\n"
     ]
    },
    {
     "data": {
      "application/vnd.jupyter.widget-view+json": {
       "model_id": "",
       "version_major": 2,
       "version_minor": 0
      },
      "text/plain": [
       "get_predictions:   0%|          | 0/463616 [00:00<?, ?it/s]"
      ]
     },
     "metadata": {},
     "output_type": "display_data"
    },
    {
     "data": {
      "application/vnd.jupyter.widget-view+json": {
       "model_id": "382711f4f7ad4ec7980c856e0f9d229e",
       "version_major": 2,
       "version_minor": 0
      },
      "text/plain": [
       "100%|##########| 1/1 [00:00<?, ?it/s]"
      ]
     },
     "metadata": {},
     "output_type": "display_data"
    },
    {
     "data": {
      "application/vnd.jupyter.widget-view+json": {
       "model_id": "",
       "version_major": 2,
       "version_minor": 0
      },
      "text/plain": [
       "[1/1811]   0%|           [00:00<?]"
      ]
     },
     "metadata": {},
     "output_type": "display_data"
    },
    {
     "data": {
      "application/vnd.jupyter.widget-view+json": {
       "model_id": "",
       "version_major": 2,
       "version_minor": 0
      },
      "text/plain": [
       "[1/64]   2%|1          [00:00<?]"
      ]
     },
     "metadata": {},
     "output_type": "display_data"
    },
    {
     "name": "stdout",
     "output_type": "stream",
     "text": [
      "RestoringEarlyStopping: Restoring best parameters. (Score: -5.1637596152722836)\n",
      "RestoringEarlyStopping: Restoring optimizer.\n"
     ]
    },
    {
     "data": {
      "application/vnd.jupyter.widget-view+json": {
       "model_id": "",
       "version_major": 2,
       "version_minor": 0
      },
      "text/plain": [
       "get_predictions:   0%|          | 0/2317680 [00:00<?, ?it/s]"
      ]
     },
     "metadata": {},
     "output_type": "display_data"
    },
    {
     "data": {
      "application/vnd.jupyter.widget-view+json": {
       "model_id": "",
       "version_major": 2,
       "version_minor": 0
      },
      "text/plain": [
       "get_predictions:   0%|          | 0/2317680 [00:00<?, ?it/s]"
      ]
     },
     "metadata": {},
     "output_type": "display_data"
    },
    {
     "data": {
      "application/vnd.jupyter.widget-view+json": {
       "model_id": "",
       "version_major": 2,
       "version_minor": 0
      },
      "text/plain": [
       "Conditional Entropy:   0%|          | 0/115884 [00:00<?, ?it/s]"
      ]
     },
     "metadata": {},
     "output_type": "display_data"
    },
    {
     "data": {
      "application/vnd.jupyter.widget-view+json": {
       "model_id": "",
       "version_major": 2,
       "version_minor": 0
      },
      "text/plain": [
       "Entropy:   0%|          | 0/115884 [00:00<?, ?it/s]"
      ]
     },
     "metadata": {},
     "output_type": "display_data"
    },
    {
     "data": {
      "application/vnd.jupyter.widget-view+json": {
       "model_id": "",
       "version_major": 2,
       "version_minor": 0
      },
      "text/plain": [
       "Conditional Entropy:   0%|          | 0/115884 [00:00<?, ?it/s]"
      ]
     },
     "metadata": {},
     "output_type": "display_data"
    },
    {
     "data": {
      "application/vnd.jupyter.widget-view+json": {
       "model_id": "",
       "version_major": 2,
       "version_minor": 0
      },
      "text/plain": [
       "Entropy:   0%|          | 0/115884 [00:00<?, ?it/s]"
      ]
     },
     "metadata": {},
     "output_type": "display_data"
    },
    {
     "name": "stdout",
     "output_type": "stream",
     "text": [
      "Acquiring (label, score)s: 8 (0.8711), 8 (0.8687), 3 (0.876), 3 (0.8465), 3 (0.8811)\n",
      "Training set size 25:\n"
     ]
    },
    {
     "data": {
      "application/vnd.jupyter.widget-view+json": {
       "model_id": "a5c326c4165e48eab908014b4064f795",
       "version_major": 2,
       "version_minor": 0
      },
      "text/plain": [
       "100%|##########| 1/1 [00:00<?, ?it/s]"
      ]
     },
     "metadata": {},
     "output_type": "display_data"
    },
    {
     "data": {
      "application/vnd.jupyter.widget-view+json": {
       "model_id": "",
       "version_major": 2,
       "version_minor": 0
      },
      "text/plain": [
       "[1/384]   0%|           [00:00<?]"
      ]
     },
     "metadata": {},
     "output_type": "display_data"
    },
    {
     "data": {
      "application/vnd.jupyter.widget-view+json": {
       "model_id": "",
       "version_major": 2,
       "version_minor": 0
      },
      "text/plain": [
       "[1/64]   2%|1          [00:00<?]"
      ]
     },
     "metadata": {},
     "output_type": "display_data"
    },
    {
     "name": "stdout",
     "output_type": "stream",
     "text": [
      "RestoringEarlyStopping: Restoring best parameters. (Score: -4.6851686127483845)\n",
      "RestoringEarlyStopping: Restoring optimizer.\n"
     ]
    },
    {
     "data": {
      "application/vnd.jupyter.widget-view+json": {
       "model_id": "",
       "version_major": 2,
       "version_minor": 0
      },
      "text/plain": [
       "[1/157]   1%|           [00:00<?]"
      ]
     },
     "metadata": {},
     "output_type": "display_data"
    },
    {
     "name": "stdout",
     "output_type": "stream",
     "text": [
      "Perf after training {'accuracy': 0.6256, 'crossentropy': 4.484497045135498}\n",
      "Done.\n"
     ]
    },
    {
     "data": {
      "text/plain": [
       "{'initial_training_set_indices': [38043,\n",
       "  40091,\n",
       "  17418,\n",
       "  2094,\n",
       "  39879,\n",
       "  3133,\n",
       "  5011,\n",
       "  40683,\n",
       "  54379,\n",
       "  24287,\n",
       "  9849,\n",
       "  59305,\n",
       "  39508,\n",
       "  39356,\n",
       "  8758,\n",
       "  52579,\n",
       "  13655,\n",
       "  7636,\n",
       "  21562,\n",
       "  41329],\n",
       " 'active_learning_steps': [{'training': {'epochs': [{'accuracy': 0.538818359375,\n",
       "      'crossentropy': 6.529030114412308}],\n",
       "    'best_epoch': 1},\n",
       "   'evalution_metrics': {'accuracy': 0.5367,\n",
       "    'crossentropy': 6.438035237884521},\n",
       "   'pool_training': {'epochs': [{'accuracy': 0.531005859375,\n",
       "      'crossentropy': 5.1637596152722836}],\n",
       "    'best_epoch': 1},\n",
       "   'acquisition': {'indices': [63338, 10856, 63452, 81864, 109287],\n",
       "    'labels': [8, 8, 3, 3, 3],\n",
       "    'scores': [0.8710822958846325,\n",
       "     0.8687216999221631,\n",
       "     0.8759664372823723,\n",
       "     0.8464646732511746,\n",
       "     0.8810812784952251]}},\n",
       "  {'training': {'epochs': [{'accuracy': 0.62255859375,\n",
       "      'crossentropy': 4.6851686127483845}],\n",
       "    'best_epoch': 1},\n",
       "   'evalution_metrics': {'accuracy': 0.6256,\n",
       "    'crossentropy': 4.484497045135498}}]}"
      ]
     },
     "execution_count": null,
     "metadata": {},
     "output_type": "execute_result"
    }
   ],
   "source": [
    "# experiment\n",
    "\n",
    "experiment = Experiment(\n",
    "    max_training_epochs=1, max_training_set=25, acquisition_function=AcquisitionFunction.randombaldical\n",
    ")\n",
    "\n",
    "results = {}\n",
    "experiment.run(results)\n",
    "\n",
    "results"
   ]
  },
  {
   "cell_type": "code",
   "execution_count": null,
   "metadata": {},
   "outputs": [],
   "source": [
    "if False:\n",
    "    configs = (\n",
    "        [\n",
    "            Experiment(\n",
    "                seed=seed + 120,\n",
    "                acquisition_function=acquisition_function,\n",
    "                acquisition_size=acquisition_size,\n",
    "                num_pool_samples=100,\n",
    "            )\n",
    "            for seed in range(5)\n",
    "            for acquisition_size in [5, 10]\n",
    "            for acquisition_function in [AcquisitionFunction.batchbald, AcquisitionFunction.batchbaldical]\n",
    "        ]\n",
    "        + [\n",
    "            Experiment(\n",
    "                seed=seed + 120,\n",
    "                acquisition_function=acquisition_function,\n",
    "                acquisition_size=acquisition_size,\n",
    "                num_pool_samples=max(20, acquisition_size),\n",
    "            )\n",
    "            for seed in range(5)\n",
    "            for acquisition_size in [5, 10, 20, 50]\n",
    "            for acquisition_function in [\n",
    "                AcquisitionFunction.bald,\n",
    "                AcquisitionFunction.thompsonbald,\n",
    "                AcquisitionFunction.randombald,\n",
    "            ]\n",
    "        ]\n",
    "        + [\n",
    "            Experiment(\n",
    "                seed=seed + 120,\n",
    "                acquisition_function=AcquisitionFunction.random,\n",
    "                acquisition_size=5,\n",
    "                num_pool_samples=20,\n",
    "            )\n",
    "            for seed in range(40)\n",
    "            for acquisition_size in [5]\n",
    "        ]\n",
    "    )\n",
    "if False:\n",
    "    configs = [\n",
    "        Experiment(\n",
    "            seed=seed + 240,\n",
    "            acquisition_function=acquisition_function,\n",
    "            acquisition_size=acquisition_size,\n",
    "            num_pool_samples=max(20, acquisition_size),\n",
    "        )\n",
    "        for seed in range(5)\n",
    "        for acquisition_size in [5, 10, 20, 50]\n",
    "        for acquisition_function in [\n",
    "            AcquisitionFunction.baldical,\n",
    "            AcquisitionFunction.randombaldical,\n",
    "        ]\n",
    "    ]\n",
    "if False:\n",
    "    configs = [\n",
    "        Experiment(\n",
    "            seed=seed + 340,\n",
    "            acquisition_function=acquisition_function,\n",
    "            acquisition_size=acquisition_size,\n",
    "            num_pool_samples=20,\n",
    "            temperature=temperature,\n",
    "        )\n",
    "        for seed in range(5)\n",
    "        for acquisition_size in [5, 10, 20, 50]\n",
    "        for acquisition_function in [\n",
    "            AcquisitionFunction.temperedbald,\n",
    "        ]\n",
    "        for temperature in [13, 15, 18]\n",
    "    ]\n",
    "if False:\n",
    "    configs = [\n",
    "        Experiment(\n",
    "            seed=seed + 340,\n",
    "            acquisition_function=acquisition_function,\n",
    "            acquisition_size=acquisition_size,\n",
    "            num_pool_samples=20,\n",
    "            temperature=temperature,\n",
    "        )\n",
    "        for seed in range(5)\n",
    "        for acquisition_size in [5, 10, 20, 50]\n",
    "        for acquisition_function in [\n",
    "            AcquisitionFunction.temperedbald,\n",
    "        ]\n",
    "        for temperature in [8, 10]\n",
    "    ] + [\n",
    "        Experiment(\n",
    "            seed=seed + 340,\n",
    "            acquisition_function=acquisition_function,\n",
    "            acquisition_size=acquisition_size,\n",
    "            num_pool_samples=20,\n",
    "            temperature=temperature,\n",
    "        )\n",
    "        for seed in range(5)\n",
    "        for acquisition_size in [5, 10, 20, 50]\n",
    "        for acquisition_function in [\n",
    "            AcquisitionFunction.temperedbaldical,\n",
    "        ]\n",
    "        for temperature in [8, 10, 13]\n",
    "    ]\n",
    "if False:\n",
    "    configs = [\n",
    "        Experiment(\n",
    "            seed=seed + 500,\n",
    "            acquisition_function=acquisition_function,\n",
    "            acquisition_size=acquisition_size,\n",
    "            num_pool_samples=20,\n",
    "            temperature=temperature,\n",
    "        )\n",
    "        for seed in range(5)\n",
    "        for acquisition_size in [5, 10, 20, 50]\n",
    "        for acquisition_function in [\n",
    "            AcquisitionFunction.temperedical,\n",
    "        ]\n",
    "        for temperature in [5, 8, 11]\n",
    "    ] + [\n",
    "        Experiment(\n",
    "            seed=seed + 600,\n",
    "            acquisition_function=acquisition_function,\n",
    "            acquisition_size=acquisition_size,\n",
    "            num_pool_samples=20,\n",
    "        )\n",
    "        for seed in range(5)\n",
    "        for acquisition_size in [5, 10, 20, 50]\n",
    "        for acquisition_function in [\n",
    "            AcquisitionFunction.ical,\n",
    "        ]\n",
    "    ]\n",
    "if False:\n",
    "    configs = (\n",
    "        [\n",
    "            Experiment(\n",
    "                seed=seed + 1000,\n",
    "                acquisition_function=acquisition_function,\n",
    "                acquisition_size=acquisition_size,\n",
    "                num_pool_samples=num_pool_samples,\n",
    "                temperature=temperature,\n",
    "            )\n",
    "            for seed in range(5)\n",
    "            for acquisition_size in [5, 10, 20, 50]\n",
    "            for num_pool_samples in [20, 100]\n",
    "            for acquisition_function in [\n",
    "                AcquisitionFunction.temperedical,\n",
    "                AcquisitionFunction.temperedbald,\n",
    "                AcquisitionFunction.temperedbaldical,\n",
    "            ]\n",
    "            for temperature in [2, 5, 8]\n",
    "        ]\n",
    "        + [\n",
    "            Experiment(\n",
    "                seed=seed + 2000,\n",
    "                acquisition_function=acquisition_function,\n",
    "                acquisition_size=acquisition_size,\n",
    "                num_pool_samples=num_pool_samples,\n",
    "            )\n",
    "            for seed in range(5)\n",
    "            for acquisition_size in [5, 10, 20, 50]\n",
    "            for num_pool_samples in [20, 100]\n",
    "            for acquisition_function in [\n",
    "                AcquisitionFunction.ical,\n",
    "                AcquisitionFunction.bald,\n",
    "                AcquisitionFunction.baldical,\n",
    "                AcquisitionFunction.randombald,\n",
    "            ]\n",
    "        ]\n",
    "        + [\n",
    "            Experiment(\n",
    "                seed=seed + 2000,\n",
    "                acquisition_function=acquisition_function,\n",
    "                acquisition_size=acquisition_size,\n",
    "                num_pool_samples=max(num_pool_samples, acquisition_size),\n",
    "            )\n",
    "            for seed in range(5)\n",
    "            for acquisition_size in [5, 10, 20, 50]\n",
    "            for num_pool_samples in [20, 100]\n",
    "            for acquisition_function in [\n",
    "                AcquisitionFunction.thompsonbald,\n",
    "            ]\n",
    "        ]\n",
    "        + [\n",
    "            Experiment(\n",
    "                seed=seed + 3000,\n",
    "                acquisition_function=acquisition_function,\n",
    "                acquisition_size=acquisition_size,\n",
    "                num_pool_samples=100,\n",
    "            )\n",
    "            for seed in range(5)\n",
    "            for acquisition_size in [5]\n",
    "            for acquisition_function in [\n",
    "                AcquisitionFunction.batchbaldical,\n",
    "                AcquisitionFunction.batchbald,\n",
    "            ]\n",
    "        ]\n",
    "    )"
   ]
  },
  {
   "cell_type": "code",
   "execution_count": null,
   "metadata": {},
   "outputs": [],
   "source": [
    "# exports\n",
    "\n",
    "configs = [\n",
    "    Experiment(\n",
    "        seed=seed,\n",
    "        acquisition_function=AcquisitionFunction.bald,\n",
    "        acquisition_size=acquisition_size,\n",
    "        num_pool_samples=num_pool_samples,\n",
    "    )\n",
    "    for seed in range(5)\n",
    "    for acquisition_size in [5, 10, 20, 50]\n",
    "    for num_pool_samples in [10, 20, 50, 100]\n",
    "] + [\n",
    "    Experiment(\n",
    "        seed=seed,\n",
    "        acquisition_function=AcquisitionFunction.random,\n",
    "        acquisition_size=5,\n",
    "        num_pool_samples=20,\n",
    "    )\n",
    "    for seed in range(20)\n",
    "]\n",
    "\n",
    "if not is_run_from_ipython() and __name__ == \"__main__\":\n",
    "    for job_id, store in embedded_experiments(__file__, len(configs)):\n",
    "        config = configs[job_id]\n",
    "        config.seed += job_id\n",
    "        print(config)\n",
    "        store[\"config\"] = dataclasses.asdict(config)\n",
    "        store[\"log\"] = {}\n",
    "\n",
    "        try:\n",
    "            config.run(store=store)\n",
    "        except Exception:\n",
    "            store[\"exception\"] = traceback.format_exc()\n",
    "            raise"
   ]
  },
  {
   "cell_type": "code",
   "execution_count": null,
   "metadata": {},
   "outputs": [
    {
     "data": {
      "text/plain": [
       "100"
      ]
     },
     "execution_count": null,
     "metadata": {},
     "output_type": "execute_result"
    }
   ],
   "source": [
    "len(configs)"
   ]
  },
  {
   "cell_type": "code",
   "execution_count": null,
   "metadata": {},
   "outputs": [],
   "source": []
  }
 ],
 "metadata": {
  "kernelspec": {
   "display_name": "Python [conda env:active_learning]",
   "language": "python",
   "name": "conda-env-active_learning-py"
  }
 },
 "nbformat": 4,
 "nbformat_minor": 4
}
